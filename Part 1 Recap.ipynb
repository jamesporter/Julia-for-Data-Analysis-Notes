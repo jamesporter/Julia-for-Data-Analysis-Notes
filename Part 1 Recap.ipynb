{
 "cells": [
  {
   "cell_type": "markdown",
   "id": "27a8cef1",
   "metadata": {},
   "source": [
    "# Chapter 2"
   ]
  },
  {
   "cell_type": "code",
   "execution_count": 1,
   "id": "36bb6e44",
   "metadata": {},
   "outputs": [
    {
     "data": {
      "text/plain": [
       "Vector{Int64}\u001b[90m (alias for \u001b[39m\u001b[90mArray{Int64, 1}\u001b[39m\u001b[90m)\u001b[39m"
      ]
     },
     "execution_count": 1,
     "metadata": {},
     "output_type": "execute_result"
    }
   ],
   "source": [
    "typeof([1,2])"
   ]
  },
  {
   "cell_type": "markdown",
   "id": "e8fbe376",
   "metadata": {},
   "source": [
    "`\\approx` (will be operator version of `isapprox` function)"
   ]
  },
  {
   "cell_type": "code",
   "execution_count": 2,
   "id": "75a84ca3",
   "metadata": {},
   "outputs": [
    {
     "data": {
      "text/plain": [
       "true"
      ]
     },
     "execution_count": 2,
     "metadata": {},
     "output_type": "execute_result"
    }
   ],
   "source": [
    "0.3 ≈ (0.1 + 0.2)"
   ]
  },
  {
   "cell_type": "code",
   "execution_count": 3,
   "id": "106063e4",
   "metadata": {},
   "outputs": [
    {
     "name": "stdout",
     "output_type": "stream",
     "text": [
      "1\n",
      "2\n",
      "3\n",
      "4\n"
     ]
    }
   ],
   "source": [
    "for i in [1, 2, 3, 4]\n",
    "  println(i)\n",
    "end\n",
    "\n",
    "# comment"
   ]
  },
  {
   "cell_type": "code",
   "execution_count": 6,
   "id": "99efb0d7",
   "metadata": {},
   "outputs": [
    {
     "data": {
      "text/plain": [
       "fancy2 (generic function with 2 methods)"
      ]
     },
     "execution_count": 6,
     "metadata": {},
     "output_type": "execute_result"
    }
   ],
   "source": [
    "function a(x)\n",
    "    x + 12\n",
    "end\n",
    "\n",
    "fancy2(a, b = 12; c, d = 4) = (a,b,c,d)"
   ]
  },
  {
   "cell_type": "code",
   "execution_count": 7,
   "id": "cde32ea7",
   "metadata": {},
   "outputs": [
    {
     "data": {
      "text/plain": [
       "(1, 2, 3, 4)"
      ]
     },
     "execution_count": 7,
     "metadata": {},
     "output_type": "execute_result"
    }
   ],
   "source": [
    "fancy2(1,2,c=3)"
   ]
  },
  {
   "cell_type": "code",
   "execution_count": 8,
   "id": "1cd86362",
   "metadata": {},
   "outputs": [
    {
     "data": {
      "text/plain": [
       "100"
      ]
     },
     "execution_count": 8,
     "metadata": {},
     "output_type": "execute_result"
    }
   ],
   "source": [
    "sum(x -> x ^ 3, [1, 2, 3, 4])"
   ]
  },
  {
   "cell_type": "code",
   "execution_count": 9,
   "id": "5d8bbe1c",
   "metadata": {},
   "outputs": [
    {
     "data": {
      "text/plain": [
       "100"
      ]
     },
     "execution_count": 9,
     "metadata": {},
     "output_type": "execute_result"
    }
   ],
   "source": [
    "sum([1, 2, 3, 4]) do x\n",
    "   x ^ 3 \n",
    "end"
   ]
  },
  {
   "cell_type": "markdown",
   "id": "509a8dda",
   "metadata": {},
   "source": [
    "# Chapter 3"
   ]
  },
  {
   "cell_type": "code",
   "execution_count": 11,
   "id": "c6d4032d",
   "metadata": {},
   "outputs": [
    {
     "data": {
      "text/plain": [
       "typeof(map) (singleton type of function map, subtype of Function)"
      ]
     },
     "execution_count": 11,
     "metadata": {},
     "output_type": "execute_result"
    }
   ],
   "source": [
    "typeof(map)"
   ]
  },
  {
   "cell_type": "code",
   "execution_count": 12,
   "id": "249f8e9a",
   "metadata": {},
   "outputs": [
    {
     "data": {
      "text/plain": [
       "Function"
      ]
     },
     "execution_count": 12,
     "metadata": {},
     "output_type": "execute_result"
    }
   ],
   "source": [
    "supertype(typeof(map))"
   ]
  },
  {
   "cell_type": "code",
   "execution_count": 13,
   "id": "a532f8af",
   "metadata": {},
   "outputs": [
    {
     "data": {
      "text/plain": [
       "Any"
      ]
     },
     "execution_count": 13,
     "metadata": {},
     "output_type": "execute_result"
    }
   ],
   "source": [
    "supertype(supertype(typeof(map)))"
   ]
  },
  {
   "cell_type": "code",
   "execution_count": 14,
   "id": "204f9b75",
   "metadata": {},
   "outputs": [
    {
     "data": {
      "text/plain": [
       "Int64"
      ]
     },
     "execution_count": 14,
     "metadata": {},
     "output_type": "execute_result"
    }
   ],
   "source": [
    "typeof(1)"
   ]
  },
  {
   "cell_type": "code",
   "execution_count": 15,
   "id": "3c17707d",
   "metadata": {},
   "outputs": [
    {
     "data": {
      "text/plain": [
       "Signed"
      ]
     },
     "execution_count": 15,
     "metadata": {},
     "output_type": "execute_result"
    }
   ],
   "source": [
    "supertype(typeof(1))"
   ]
  },
  {
   "cell_type": "code",
   "execution_count": 16,
   "id": "69d65a0d",
   "metadata": {},
   "outputs": [
    {
     "data": {
      "text/plain": [
       "f (generic function with 1 method)"
      ]
     },
     "execution_count": 16,
     "metadata": {},
     "output_type": "execute_result"
    }
   ],
   "source": [
    "f(x::Number) = x + 2"
   ]
  },
  {
   "cell_type": "code",
   "execution_count": 17,
   "id": "05454a16",
   "metadata": {},
   "outputs": [
    {
     "ename": "LoadError",
     "evalue": "MethodError: no method matching f(::String)\n\u001b[0mClosest candidates are:\n\u001b[0m  f(\u001b[91m::Number\u001b[39m) at In[16]:1",
     "output_type": "error",
     "traceback": [
      "MethodError: no method matching f(::String)\n\u001b[0mClosest candidates are:\n\u001b[0m  f(\u001b[91m::Number\u001b[39m) at In[16]:1",
      "",
      "Stacktrace:",
      " [1] top-level scope",
      "   @ In[17]:1"
     ]
    }
   ],
   "source": [
    "f(\"hi\")"
   ]
  },
  {
   "cell_type": "code",
   "execution_count": 18,
   "id": "2c112104",
   "metadata": {},
   "outputs": [
    {
     "ename": "LoadError",
     "evalue": "ArgumentError: Must have positive power",
     "output_type": "error",
     "traceback": [
      "ArgumentError: Must have positive power",
      "",
      "Stacktrace:",
      " [1] raise(n::Int64, power::Int64)",
      "   @ Main ./In[18]:2",
      " [2] top-level scope",
      "   @ In[18]:6"
     ]
    }
   ],
   "source": [
    "function raise(n::Number, power::Number) \n",
    "    power > 0 || throw(ArgumentError(\"Must have positive power\")) \n",
    "    n ^ power\n",
    "end\n",
    "\n",
    "raise(4, -2)"
   ]
  },
  {
   "cell_type": "code",
   "execution_count": 19,
   "id": "e944f104",
   "metadata": {},
   "outputs": [
    {
     "ename": "LoadError",
     "evalue": "AssertionError: 4 is 5",
     "output_type": "error",
     "traceback": [
      "AssertionError: 4 is 5",
      "",
      "Stacktrace:",
      " [1] top-level scope",
      "   @ In[19]:1"
     ]
    }
   ],
   "source": [
    "@assert 4 == 5 \"4 is 5\""
   ]
  },
  {
   "cell_type": "code",
   "execution_count": 20,
   "id": "1b00977a",
   "metadata": {},
   "outputs": [
    {
     "data": {
      "text/plain": [
       ":(if 5 == 5\n",
       "      nothing\n",
       "  else\n",
       "      Base.throw(Base.AssertionError(\"5 is 5\"))\n",
       "  end)"
      ]
     },
     "execution_count": 20,
     "metadata": {},
     "output_type": "execute_result"
    }
   ],
   "source": [
    "@macroexpand @assert 5 == 5 \"5 is 5\""
   ]
  },
  {
   "cell_type": "markdown",
   "id": "f77d5042",
   "metadata": {},
   "source": [
    "# Chapter 4"
   ]
  },
  {
   "cell_type": "code",
   "execution_count": 21,
   "id": "ab4990cf",
   "metadata": {},
   "outputs": [
    {
     "data": {
      "text/plain": [
       "2×3 Matrix{Int64}:\n",
       " 1  2  3\n",
       " 4  5  6"
      ]
     },
     "execution_count": 21,
     "metadata": {},
     "output_type": "execute_result"
    }
   ],
   "source": [
    "A = [\n",
    "    1 2 3\n",
    "    4 5 6\n",
    "]"
   ]
  },
  {
   "cell_type": "code",
   "execution_count": 22,
   "id": "58255016",
   "metadata": {},
   "outputs": [
    {
     "data": {
      "text/plain": [
       "(2, 3)"
      ]
     },
     "execution_count": 22,
     "metadata": {},
     "output_type": "execute_result"
    }
   ],
   "source": [
    "size(A)"
   ]
  },
  {
   "cell_type": "code",
   "execution_count": 23,
   "id": "ccb94619",
   "metadata": {},
   "outputs": [
    {
     "data": {
      "text/plain": [
       "(1, true, \"hi\")"
      ]
     },
     "execution_count": 23,
     "metadata": {},
     "output_type": "execute_result"
    }
   ],
   "source": [
    "t = (1, true, \"hi\")"
   ]
  },
  {
   "cell_type": "code",
   "execution_count": 24,
   "id": "3244639b",
   "metadata": {},
   "outputs": [],
   "source": [
    "using Statistics"
   ]
  },
  {
   "cell_type": "code",
   "execution_count": 26,
   "id": "7e5017aa",
   "metadata": {},
   "outputs": [
    {
     "data": {
      "text/plain": [
       "1×3 Matrix{Float64}:\n",
       " 2.5  3.5  4.5"
      ]
     },
     "execution_count": 26,
     "metadata": {},
     "output_type": "execute_result"
    }
   ],
   "source": [
    "mean(A; dims=1)"
   ]
  },
  {
   "cell_type": "code",
   "execution_count": 27,
   "id": "b6fc2399",
   "metadata": {},
   "outputs": [
    {
     "name": "stdout",
     "output_type": "stream",
     "text": [
      "[1, 4]\n",
      "[2, 5]\n",
      "[3, 6]\n"
     ]
    }
   ],
   "source": [
    "for c in eachcol(A)\n",
    "   println(c)\n",
    "end"
   ]
  },
  {
   "cell_type": "code",
   "execution_count": 28,
   "id": "a1a95ff5",
   "metadata": {},
   "outputs": [
    {
     "data": {
      "text/plain": [
       "10-element Vector{Int64}:\n",
       "  4\n",
       "  6\n",
       "  8\n",
       " 10\n",
       " 12\n",
       "  6\n",
       "  8\n",
       " 10\n",
       " 12\n",
       " 14"
      ]
     },
     "execution_count": 28,
     "metadata": {},
     "output_type": "execute_result"
    }
   ],
   "source": [
    "[x + y for x in 1:5 for y in 2:2:10 if x % 2 == 0]"
   ]
  },
  {
   "cell_type": "code",
   "execution_count": 29,
   "id": "4c08b723",
   "metadata": {},
   "outputs": [
    {
     "data": {
      "text/plain": [
       "2-element Vector{Int64}:\n",
       " 2\n",
       " 5"
      ]
     },
     "execution_count": 29,
     "metadata": {},
     "output_type": "execute_result"
    }
   ],
   "source": [
    "A[:, 2]"
   ]
  },
  {
   "cell_type": "code",
   "execution_count": 31,
   "id": "4a02fdc1",
   "metadata": {},
   "outputs": [
    {
     "data": {
      "text/plain": [
       "3-element Vector{Int64}:\n",
       " 1\n",
       " 2\n",
       " 3"
      ]
     },
     "execution_count": 31,
     "metadata": {},
     "output_type": "execute_result"
    }
   ],
   "source": [
    "A[1,:]"
   ]
  },
  {
   "cell_type": "code",
   "execution_count": 32,
   "id": "225d6ae4",
   "metadata": {},
   "outputs": [
    {
     "data": {
      "text/plain": [
       "Dict{String, Int64} with 2 entries:\n",
       "  \"b\" => 2\n",
       "  \"a\" => 1"
      ]
     },
     "execution_count": 32,
     "metadata": {},
     "output_type": "execute_result"
    }
   ],
   "source": [
    "example_d = Dict{String, Int}()\n",
    "example_d[\"a\"] = 1\n",
    "example_d[\"b\"] = 2\n",
    "example_d"
   ]
  },
  {
   "cell_type": "code",
   "execution_count": 33,
   "id": "1c8080d2",
   "metadata": {},
   "outputs": [
    {
     "data": {
      "text/plain": [
       "Dict{String, Int64} with 3 entries:\n",
       "  \"c\" => 4\n",
       "  \"b\" => 3\n",
       "  \"a\" => 1"
      ]
     },
     "execution_count": 33,
     "metadata": {},
     "output_type": "execute_result"
    }
   ],
   "source": [
    "Dict(\"a\" => 1, \"b\" => 3, \"c\" => 4)"
   ]
  },
  {
   "cell_type": "code",
   "execution_count": 35,
   "id": "0e24f14d",
   "metadata": {},
   "outputs": [
    {
     "data": {
      "text/plain": [
       "Pair{Int64, String}"
      ]
     },
     "execution_count": 35,
     "metadata": {},
     "output_type": "execute_result"
    }
   ],
   "source": [
    "typeof(2 => \"a\")"
   ]
  },
  {
   "cell_type": "code",
   "execution_count": 36,
   "id": "5e3941c0",
   "metadata": {},
   "outputs": [
    {
     "data": {
      "text/plain": [
       "(x = 1, y = 2, z = 3)"
      ]
     },
     "execution_count": 36,
     "metadata": {},
     "output_type": "execute_result"
    }
   ],
   "source": [
    "(x=1, y=2, z=3)"
   ]
  },
  {
   "cell_type": "code",
   "execution_count": 37,
   "id": "156df034",
   "metadata": {},
   "outputs": [
    {
     "data": {
      "text/plain": [
       "4"
      ]
     },
     "execution_count": 37,
     "metadata": {},
     "output_type": "execute_result"
    }
   ],
   "source": [
    "struct Container{T}\n",
    "   item:: T \n",
    "end\n",
    "\n",
    "s = Container(4)\n",
    "s.item"
   ]
  },
  {
   "cell_type": "code",
   "execution_count": 38,
   "id": "6411b5ea",
   "metadata": {},
   "outputs": [
    {
     "ename": "LoadError",
     "evalue": "setfield!: immutable struct of type Container cannot be changed",
     "output_type": "error",
     "traceback": [
      "setfield!: immutable struct of type Container cannot be changed",
      "",
      "Stacktrace:",
      " [1] setproperty!(x::Container{Int64}, f::Symbol, v::Int64)",
      "   @ Base ./Base.jl:39",
      " [2] top-level scope",
      "   @ In[38]:1"
     ]
    }
   ],
   "source": [
    "s.item = 6"
   ]
  },
  {
   "cell_type": "code",
   "execution_count": 41,
   "id": "3335bf17",
   "metadata": {},
   "outputs": [
    {
     "data": {
      "text/plain": [
       "6"
      ]
     },
     "execution_count": 41,
     "metadata": {},
     "output_type": "execute_result"
    }
   ],
   "source": [
    "mutable struct MContainer{T}\n",
    "    item:: T \n",
    "end\n",
    "\n",
    "s2 = MContainer(4)\n",
    "s2.item = 6"
   ]
  },
  {
   "cell_type": "markdown",
   "id": "01701c30",
   "metadata": {},
   "source": [
    "# Chapter 5"
   ]
  },
  {
   "cell_type": "code",
   "execution_count": 43,
   "id": "5dad4aa1",
   "metadata": {},
   "outputs": [
    {
     "data": {
      "text/plain": [
       "3-element Vector{Int64}:\n",
       "  4\n",
       " 10\n",
       " 18"
      ]
     },
     "execution_count": 43,
     "metadata": {},
     "output_type": "execute_result"
    }
   ],
   "source": [
    "a1 = [1,2,3]\n",
    "b1 = [4,5,6]\n",
    "\n",
    "a1 .* b1"
   ]
  },
  {
   "cell_type": "code",
   "execution_count": 44,
   "id": "9caebdba",
   "metadata": {},
   "outputs": [
    {
     "data": {
      "text/plain": [
       "3-element Vector{Int64}:\n",
       "  5\n",
       " 10\n",
       " 15"
      ]
     },
     "execution_count": 44,
     "metadata": {},
     "output_type": "execute_result"
    }
   ],
   "source": [
    "[1, 2, 3] .* [5]"
   ]
  },
  {
   "cell_type": "code",
   "execution_count": 45,
   "id": "07ce1f64",
   "metadata": {},
   "outputs": [
    {
     "data": {
      "text/plain": [
       "3×3 Matrix{Int64}:\n",
       " 1  2  3\n",
       " 2  4  6\n",
       " 3  6  9"
      ]
     },
     "execution_count": 45,
     "metadata": {},
     "output_type": "execute_result"
    }
   ],
   "source": [
    "[1,2,3] * [1 2 3]"
   ]
  },
  {
   "cell_type": "code",
   "execution_count": 46,
   "id": "68766983",
   "metadata": {},
   "outputs": [
    {
     "data": {
      "text/plain": [
       "1-element Vector{Int64}:\n",
       " 14"
      ]
     },
     "execution_count": 46,
     "metadata": {},
     "output_type": "execute_result"
    }
   ],
   "source": [
    "[1 2 3] * [1,2,3]"
   ]
  },
  {
   "cell_type": "code",
   "execution_count": 47,
   "id": "621b607e",
   "metadata": {},
   "outputs": [
    {
     "data": {
      "text/plain": [
       "3-element Vector{Pair{Int64, Int64}}:\n",
       " 1 => 0\n",
       " 2 => 4\n",
       " 3 => 1"
      ]
     },
     "execution_count": 47,
     "metadata": {},
     "output_type": "execute_result"
    }
   ],
   "source": [
    "[1, 2, 3] .=> [0, 4, 1]"
   ]
  },
  {
   "cell_type": "code",
   "execution_count": 48,
   "id": "db862a53",
   "metadata": {},
   "outputs": [
    {
     "data": {
      "text/plain": [
       "3-element BitVector:\n",
       " 1\n",
       " 0\n",
       " 1"
      ]
     },
     "execution_count": 48,
     "metadata": {},
     "output_type": "execute_result"
    }
   ],
   "source": [
    "[1, 2, 3] .>= [0, 4, 1]"
   ]
  },
  {
   "cell_type": "code",
   "execution_count": 49,
   "id": "3240a9d9",
   "metadata": {},
   "outputs": [
    {
     "data": {
      "text/plain": [
       "ourCov (generic function with 1 method)"
      ]
     },
     "execution_count": 49,
     "metadata": {},
     "output_type": "execute_result"
    }
   ],
   "source": [
    "function ourCov(x::AbstractVector{<:Real}, y::AbstractVector{<:Real}) \n",
    "    len = length(x)\n",
    "    @assert len == length(y) > 0\n",
    "    sum((x .- mean(x)) .* (y .- mean(y))) / (len - 1)\n",
    "end"
   ]
  },
  {
   "cell_type": "markdown",
   "id": "e356aebe",
   "metadata": {},
   "source": [
    "## Use Python\n",
    "\n",
    "```julia\n",
    "using PyCall\n",
    "```"
   ]
  },
  {
   "cell_type": "markdown",
   "id": "70a26a03",
   "metadata": {},
   "source": [
    "# Chapter 6"
   ]
  },
  {
   "cell_type": "code",
   "execution_count": 50,
   "id": "cf23f00f",
   "metadata": {},
   "outputs": [
    {
     "data": {
      "text/plain": [
       "\"hello world\""
      ]
     },
     "execution_count": 50,
     "metadata": {},
     "output_type": "execute_result"
    }
   ],
   "source": [
    "\"hello \" * \"world\""
   ]
  },
  {
   "cell_type": "code",
   "execution_count": 51,
   "id": "d8f95a71",
   "metadata": {},
   "outputs": [
    {
     "data": {
      "text/plain": [
       "\"testsagain\""
      ]
     },
     "execution_count": 51,
     "metadata": {},
     "output_type": "execute_result"
    }
   ],
   "source": [
    "\"tests\\\n",
    "     again\""
   ]
  },
  {
   "cell_type": "code",
   "execution_count": 52,
   "id": "3a255730",
   "metadata": {},
   "outputs": [
    {
     "data": {
      "text/plain": [
       "12"
      ]
     },
     "execution_count": 52,
     "metadata": {},
     "output_type": "execute_result"
    }
   ],
   "source": [
    "x = 12"
   ]
  },
  {
   "cell_type": "code",
   "execution_count": 53,
   "id": "12934a39",
   "metadata": {},
   "outputs": [
    {
     "data": {
      "text/plain": [
       "\"What about 12?\""
      ]
     },
     "execution_count": 53,
     "metadata": {},
     "output_type": "execute_result"
    }
   ],
   "source": [
    "\"What about $x?\""
   ]
  },
  {
   "cell_type": "code",
   "execution_count": 54,
   "id": "1bdf266a",
   "metadata": {},
   "outputs": [
    {
     "data": {
      "text/plain": [
       "\"And then 1728\""
      ]
     },
     "execution_count": 54,
     "metadata": {},
     "output_type": "execute_result"
    }
   ],
   "source": [
    "\"And then $(x ^ 3)\""
   ]
  },
  {
   "cell_type": "code",
   "execution_count": 55,
   "id": "b549c7bb",
   "metadata": {},
   "outputs": [
    {
     "data": {
      "text/plain": [
       "3-element Vector{SubString{String}}:\n",
       " \"yo\"\n",
       " \"yo\"\n",
       " \"yo\""
      ]
     },
     "execution_count": 55,
     "metadata": {},
     "output_type": "execute_result"
    }
   ],
   "source": [
    "split(\"yo yo yo\", \" \")"
   ]
  },
  {
   "cell_type": "code",
   "execution_count": 56,
   "id": "c4ae4719",
   "metadata": {},
   "outputs": [
    {
     "data": {
      "text/plain": [
       "r\".*\\((\\d{2,3})\\)$\""
      ]
     },
     "execution_count": 56,
     "metadata": {},
     "output_type": "execute_result"
    }
   ],
   "source": [
    "rEx = r\".*\\((\\d{2,3})\\)$\""
   ]
  },
  {
   "cell_type": "code",
   "execution_count": 57,
   "id": "f9487d36",
   "metadata": {},
   "outputs": [
    {
     "data": {
      "text/plain": [
       "RegexMatch(\"stuff (23)\", 1=\"23\")"
      ]
     },
     "execution_count": 57,
     "metadata": {},
     "output_type": "execute_result"
    }
   ],
   "source": [
    "match(rEx, \"stuff (23)\")"
   ]
  },
  {
   "cell_type": "code",
   "execution_count": 58,
   "id": "9e56b09d",
   "metadata": {},
   "outputs": [
    {
     "data": {
      "text/plain": [
       "parseline (generic function with 1 method)"
      ]
     },
     "execution_count": 58,
     "metadata": {},
     "output_type": "execute_result"
    }
   ],
   "source": [
    "function parseline(line::AbstractString)\n",
    "    parts = split(line, \"::\")\n",
    "    m = match(r\"(.+) \\((\\d{4})\\)\", parts[2])\n",
    "    return (id=parts[1],\n",
    "            name=m[1],\n",
    "            year=parse(Int, m[2]),\n",
    "            genres=split(parts[3], \"|\"))\n",
    "end"
   ]
  },
  {
   "cell_type": "markdown",
   "id": "a2fec5ba",
   "metadata": {},
   "source": [
    "Get frequency tables easily from data via:\n",
    "\n",
    "```julia\n",
    "using FreqTables\n",
    "```"
   ]
  },
  {
   "cell_type": "code",
   "execution_count": 59,
   "id": "82c0aef9",
   "metadata": {},
   "outputs": [
    {
     "data": {
      "text/plain": [
       ":x"
      ]
     },
     "execution_count": 59,
     "metadata": {},
     "output_type": "execute_result"
    }
   ],
   "source": [
    "sX = Symbol(\"x\")"
   ]
  },
  {
   "cell_type": "code",
   "execution_count": 60,
   "id": "546e293f",
   "metadata": {},
   "outputs": [
    {
     "data": {
      "text/plain": [
       ":x"
      ]
     },
     "execution_count": 60,
     "metadata": {},
     "output_type": "execute_result"
    }
   ],
   "source": [
    ":x"
   ]
  },
  {
   "cell_type": "code",
   "execution_count": 61,
   "id": "93cd28e5",
   "metadata": {},
   "outputs": [
    {
     "data": {
      "text/plain": [
       "true"
      ]
     },
     "execution_count": 61,
     "metadata": {},
     "output_type": "execute_result"
    }
   ],
   "source": [
    ":x == sX"
   ]
  },
  {
   "cell_type": "code",
   "execution_count": 62,
   "id": "0296eebf",
   "metadata": {},
   "outputs": [],
   "source": [
    "using InlineStrings"
   ]
  },
  {
   "cell_type": "code",
   "execution_count": 63,
   "id": "ec74e9e1",
   "metadata": {},
   "outputs": [
    {
     "data": {
      "text/plain": [
       "\"yo!\""
      ]
     },
     "execution_count": 63,
     "metadata": {},
     "output_type": "execute_result"
    }
   ],
   "source": [
    "s3 = String3(\"yo!\")"
   ]
  },
  {
   "cell_type": "markdown",
   "id": "b22e7da6",
   "metadata": {},
   "source": [
    "# Chapter 7"
   ]
  },
  {
   "cell_type": "code",
   "execution_count": 64,
   "id": "6e5c5772",
   "metadata": {},
   "outputs": [],
   "source": [
    "using HTTP\n",
    "using JSON3"
   ]
  },
  {
   "cell_type": "code",
   "execution_count": 65,
   "id": "861d99cf",
   "metadata": {},
   "outputs": [
    {
     "data": {
      "text/plain": [
       "missing"
      ]
     },
     "execution_count": 65,
     "metadata": {},
     "output_type": "execute_result"
    }
   ],
   "source": [
    "missing"
   ]
  },
  {
   "cell_type": "code",
   "execution_count": 66,
   "id": "1284aa9b",
   "metadata": {},
   "outputs": [
    {
     "data": {
      "text/plain": [
       "true"
      ]
     },
     "execution_count": 66,
     "metadata": {},
     "output_type": "execute_result"
    }
   ],
   "source": [
    "ismissing(missing)"
   ]
  },
  {
   "cell_type": "code",
   "execution_count": 67,
   "id": "f31043bb",
   "metadata": {},
   "outputs": [
    {
     "data": {
      "text/plain": [
       "missing"
      ]
     },
     "execution_count": 67,
     "metadata": {},
     "output_type": "execute_result"
    }
   ],
   "source": [
    "1 == missing"
   ]
  },
  {
   "cell_type": "code",
   "execution_count": 68,
   "id": "0fd30eba",
   "metadata": {},
   "outputs": [
    {
     "data": {
      "text/plain": [
       "false"
      ]
     },
     "execution_count": 68,
     "metadata": {},
     "output_type": "execute_result"
    }
   ],
   "source": [
    "coalesce(missing, false)"
   ]
  },
  {
   "cell_type": "code",
   "execution_count": 69,
   "id": "4c6f81e4",
   "metadata": {},
   "outputs": [
    {
     "data": {
      "text/plain": [
       "false"
      ]
     },
     "execution_count": 69,
     "metadata": {},
     "output_type": "execute_result"
    }
   ],
   "source": [
    "isequal(1, missing)"
   ]
  },
  {
   "cell_type": "code",
   "execution_count": 70,
   "id": "d0011b29",
   "metadata": {},
   "outputs": [
    {
     "data": {
      "text/plain": [
       "7-element Vector{Int64}:\n",
       " 1\n",
       " 0\n",
       " 3\n",
       " 4\n",
       " 0\n",
       " 5\n",
       " 0"
      ]
     },
     "execution_count": 70,
     "metadata": {},
     "output_type": "execute_result"
    }
   ],
   "source": [
    "x = [1, missing, 3, 4, missing, 5, missing]\n",
    "coalesce.(x, 0)"
   ]
  },
  {
   "cell_type": "code",
   "execution_count": 71,
   "id": "84a38777",
   "metadata": {},
   "outputs": [
    {
     "data": {
      "text/plain": [
       "13"
      ]
     },
     "execution_count": 71,
     "metadata": {},
     "output_type": "execute_result"
    }
   ],
   "source": [
    "sum(skipmissing(x))"
   ]
  },
  {
   "cell_type": "code",
   "execution_count": 73,
   "id": "37454aca",
   "metadata": {},
   "outputs": [],
   "source": [
    "# Helpers for handling missing in own functions e.g. `passmissing`\n",
    "using Missings"
   ]
  },
  {
   "cell_type": "code",
   "execution_count": 74,
   "id": "d558880f",
   "metadata": {},
   "outputs": [],
   "source": [
    "using Dates"
   ]
  },
  {
   "cell_type": "code",
   "execution_count": 75,
   "id": "1916bc42",
   "metadata": {},
   "outputs": [
    {
     "data": {
      "text/plain": [
       "2020-12-01"
      ]
     },
     "execution_count": 75,
     "metadata": {},
     "output_type": "execute_result"
    }
   ],
   "source": [
    "d = Date(\"2020-12-01\")"
   ]
  },
  {
   "cell_type": "code",
   "execution_count": 76,
   "id": "75e1a260",
   "metadata": {},
   "outputs": [
    {
     "data": {
      "text/plain": [
       "2035-04-08"
      ]
     },
     "execution_count": 76,
     "metadata": {},
     "output_type": "execute_result"
    }
   ],
   "source": [
    "today() + Year(12) + Day(14)"
   ]
  },
  {
   "cell_type": "code",
   "execution_count": null,
   "id": "cdc6eb97",
   "metadata": {},
   "outputs": [],
   "source": []
  }
 ],
 "metadata": {
  "kernelspec": {
   "display_name": "Julia 1.8.5",
   "language": "julia",
   "name": "julia-1.8"
  },
  "language_info": {
   "file_extension": ".jl",
   "mimetype": "application/julia",
   "name": "julia",
   "version": "1.8.5"
  }
 },
 "nbformat": 4,
 "nbformat_minor": 5
}
