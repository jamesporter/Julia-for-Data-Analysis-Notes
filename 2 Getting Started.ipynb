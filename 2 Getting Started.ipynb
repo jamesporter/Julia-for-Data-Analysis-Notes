{
 "cells": [
  {
   "cell_type": "markdown",
   "id": "7ef10a84",
   "metadata": {},
   "source": [
    "Motivating (simple) example, we will implement:\n",
    "\n",
    "> The k-times winsorized mean of a vector x is the mean of the elements of this vector, where each of its k smallest elements is replaced by the (k + 1)st smallest element, and similarly, each of the k largest elements is replaced by the (k + 1)st largest element\n",
    "\n",
    "Julia has many standard data types"
   ]
  },
  {
   "cell_type": "code",
   "execution_count": 1,
   "id": "e92553ef",
   "metadata": {},
   "outputs": [
    {
     "data": {
      "text/plain": [
       "1"
      ]
     },
     "execution_count": 1,
     "metadata": {},
     "output_type": "execute_result"
    }
   ],
   "source": [
    "1"
   ]
  },
  {
   "cell_type": "code",
   "execution_count": 2,
   "id": "dc5cd38e",
   "metadata": {},
   "outputs": [
    {
     "data": {
      "text/plain": [
       "\"Hello\""
      ]
     },
     "execution_count": 2,
     "metadata": {},
     "output_type": "execute_result"
    }
   ],
   "source": [
    "\"Hello\""
   ]
  },
  {
   "cell_type": "code",
   "execution_count": 3,
   "id": "241ba04d",
   "metadata": {},
   "outputs": [
    {
     "data": {
      "text/plain": [
       "5-element Vector{Int64}:\n",
       " 1\n",
       " 2\n",
       " 3\n",
       " 4\n",
       " 5"
      ]
     },
     "execution_count": 3,
     "metadata": {},
     "output_type": "execute_result"
    }
   ],
   "source": [
    "[1, 2, 3, 4, 5]"
   ]
  },
  {
   "cell_type": "code",
   "execution_count": 4,
   "id": "9e478d91",
   "metadata": {},
   "outputs": [
    {
     "data": {
      "text/plain": [
       "1"
      ]
     },
     "execution_count": 4,
     "metadata": {},
     "output_type": "execute_result"
    }
   ],
   "source": [
    "[1, 2, 3, 4, 5][1]"
   ]
  },
  {
   "cell_type": "markdown",
   "id": "e82ad8bb",
   "metadata": {},
   "source": [
    "Types are important"
   ]
  },
  {
   "cell_type": "code",
   "execution_count": 5,
   "id": "e0cb1ff5",
   "metadata": {},
   "outputs": [
    {
     "data": {
      "text/plain": [
       "Int64"
      ]
     },
     "execution_count": 5,
     "metadata": {},
     "output_type": "execute_result"
    }
   ],
   "source": [
    "typeof(1)"
   ]
  },
  {
   "cell_type": "code",
   "execution_count": 6,
   "id": "01792e8c",
   "metadata": {},
   "outputs": [
    {
     "data": {
      "text/plain": [
       "String"
      ]
     },
     "execution_count": 6,
     "metadata": {},
     "output_type": "execute_result"
    }
   ],
   "source": [
    "typeof(\"hi\")"
   ]
  },
  {
   "cell_type": "code",
   "execution_count": 7,
   "id": "c3edd5cc",
   "metadata": {},
   "outputs": [
    {
     "data": {
      "text/plain": [
       "Bool"
      ]
     },
     "execution_count": 7,
     "metadata": {},
     "output_type": "execute_result"
    }
   ],
   "source": [
    "typeof(false)"
   ]
  },
  {
   "cell_type": "markdown",
   "id": "d4e94c92",
   "metadata": {},
   "source": [
    "Notice use of `{}` for generics "
   ]
  },
  {
   "cell_type": "code",
   "execution_count": 8,
   "id": "55b78ced",
   "metadata": {},
   "outputs": [
    {
     "data": {
      "text/plain": [
       "Vector{Int64}\u001b[90m (alias for \u001b[39m\u001b[90mArray{Int64, 1}\u001b[39m\u001b[90m)\u001b[39m"
      ]
     },
     "execution_count": 8,
     "metadata": {},
     "output_type": "execute_result"
    }
   ],
   "source": [
    "typeof([1,2])"
   ]
  },
  {
   "cell_type": "code",
   "execution_count": 9,
   "id": "3102c616",
   "metadata": {},
   "outputs": [
    {
     "data": {
      "text/plain": [
       "1"
      ]
     },
     "execution_count": 9,
     "metadata": {},
     "output_type": "execute_result"
    }
   ],
   "source": [
    "x = 1"
   ]
  },
  {
   "cell_type": "code",
   "execution_count": 10,
   "id": "10e8ac56",
   "metadata": {},
   "outputs": [
    {
     "data": {
      "text/plain": [
       "3-element Vector{Int64}:\n",
       " 1\n",
       " 5\n",
       " 3"
      ]
     },
     "execution_count": 10,
     "metadata": {},
     "output_type": "execute_result"
    }
   ],
   "source": [
    "y = [1,2,3]\n",
    "z = y\n",
    "y[2] = 5\n",
    "z"
   ]
  },
  {
   "cell_type": "code",
   "execution_count": 11,
   "id": "1e84e252",
   "metadata": {},
   "outputs": [
    {
     "data": {
      "text/plain": [
       "1"
      ]
     },
     "execution_count": 11,
     "metadata": {},
     "output_type": "execute_result"
    }
   ],
   "source": [
    "y = 1\n",
    "z = y\n",
    "y = 2\n",
    "z"
   ]
  },
  {
   "cell_type": "markdown",
   "id": "3255086e",
   "metadata": {},
   "source": [
    "Has some nice latex-ish functionality around special characters e.g. `\\epsilon` (use tab, tab)"
   ]
  },
  {
   "cell_type": "code",
   "execution_count": 12,
   "id": "9592e20a",
   "metadata": {},
   "outputs": [
    {
     "data": {
      "text/plain": [
       "2"
      ]
     },
     "execution_count": 12,
     "metadata": {},
     "output_type": "execute_result"
    }
   ],
   "source": [
    "ϵ = 2"
   ]
  },
  {
   "cell_type": "code",
   "execution_count": 13,
   "id": "4c4eeefe",
   "metadata": {},
   "outputs": [
    {
     "data": {
      "text/plain": [
       "\"2 > 1\""
      ]
     },
     "execution_count": 13,
     "metadata": {},
     "output_type": "execute_result"
    }
   ],
   "source": [
    "if 2 > 1 \n",
    "    \"2 > 1\"\n",
    "elseif 1 > 2\n",
    "    \"1 > 2\"\n",
    "else\n",
    "    \"?\"\n",
    "end"
   ]
  },
  {
   "cell_type": "code",
   "execution_count": 14,
   "id": "d21dc1ed",
   "metadata": {},
   "outputs": [
    {
     "data": {
      "text/plain": [
       "0.30000000000000004"
      ]
     },
     "execution_count": 14,
     "metadata": {},
     "output_type": "execute_result"
    }
   ],
   "source": [
    "0.1 + 0.2"
   ]
  },
  {
   "cell_type": "code",
   "execution_count": 15,
   "id": "1ec90249",
   "metadata": {},
   "outputs": [
    {
     "data": {
      "text/plain": [
       "false"
      ]
     },
     "execution_count": 15,
     "metadata": {},
     "output_type": "execute_result"
    }
   ],
   "source": [
    "0.3 == (0.1 + 0.2)"
   ]
  },
  {
   "cell_type": "markdown",
   "id": "6a4a899a",
   "metadata": {},
   "source": [
    "`\\approx` (will be operator version of `isapprox` function)"
   ]
  },
  {
   "cell_type": "code",
   "execution_count": 16,
   "id": "90f0ff82",
   "metadata": {},
   "outputs": [
    {
     "data": {
      "text/plain": [
       "true"
      ]
     },
     "execution_count": 16,
     "metadata": {},
     "output_type": "execute_result"
    }
   ],
   "source": [
    "0.3 ≈ (0.1 + 0.2)"
   ]
  },
  {
   "cell_type": "code",
   "execution_count": 17,
   "id": "28cba115",
   "metadata": {},
   "outputs": [
    {
     "data": {
      "text/plain": [
       "true"
      ]
     },
     "execution_count": 17,
     "metadata": {},
     "output_type": "execute_result"
    }
   ],
   "source": [
    "2 > 1 || 4 > 2"
   ]
  },
  {
   "cell_type": "code",
   "execution_count": 18,
   "id": "b5223e1c",
   "metadata": {},
   "outputs": [
    {
     "data": {
      "text/plain": [
       "2"
      ]
     },
     "execution_count": 18,
     "metadata": {},
     "output_type": "execute_result"
    }
   ],
   "source": [
    "x = 4\n",
    "x > 6 ? 1 : 2"
   ]
  },
  {
   "cell_type": "code",
   "execution_count": 19,
   "id": "0b954882",
   "metadata": {},
   "outputs": [
    {
     "name": "stdout",
     "output_type": "stream",
     "text": [
      "search: \u001b[0m\u001b[1mr\u001b[22m\u001b[0m\u001b[1ma\u001b[22m\u001b[0m\u001b[1mn\u001b[22m\u001b[0m\u001b[1mg\u001b[22m\u001b[0m\u001b[1me\u001b[22m Lin\u001b[0m\u001b[1mR\u001b[22m\u001b[0m\u001b[1ma\u001b[22m\u001b[0m\u001b[1mn\u001b[22m\u001b[0m\u001b[1mg\u001b[22m\u001b[0m\u001b[1me\u001b[22m Unit\u001b[0m\u001b[1mR\u001b[22m\u001b[0m\u001b[1ma\u001b[22m\u001b[0m\u001b[1mn\u001b[22m\u001b[0m\u001b[1mg\u001b[22m\u001b[0m\u001b[1me\u001b[22m Step\u001b[0m\u001b[1mR\u001b[22m\u001b[0m\u001b[1ma\u001b[22m\u001b[0m\u001b[1mn\u001b[22m\u001b[0m\u001b[1mg\u001b[22m\u001b[0m\u001b[1me\u001b[22m Step\u001b[0m\u001b[1mR\u001b[22m\u001b[0m\u001b[1ma\u001b[22m\u001b[0m\u001b[1mn\u001b[22m\u001b[0m\u001b[1mg\u001b[22m\u001b[0m\u001b[1me\u001b[22mLen t\u001b[0m\u001b[1mr\u001b[22m\u001b[0m\u001b[1ma\u001b[22mili\u001b[0m\u001b[1mn\u001b[22m\u001b[0m\u001b[1mg\u001b[22m_z\u001b[0m\u001b[1me\u001b[22mros\n",
      "\n"
     ]
    },
    {
     "data": {
      "text/markdown": [
       "```\n",
       "range(start, stop, length)\n",
       "range(start, stop; length, step)\n",
       "range(start; length, stop, step)\n",
       "range(;start, length, stop, step)\n",
       "```\n",
       "\n",
       "Construct a specialized array with evenly spaced elements and optimized storage (an [`AbstractRange`](@ref)) from the arguments. Mathematically a range is uniquely determined by any three of `start`, `step`, `stop` and `length`. Valid invocations of range are:\n",
       "\n",
       "  * Call `range` with any three of `start`, `step`, `stop`, `length`.\n",
       "  * Call `range` with two of `start`, `stop`, `length`. In this case `step` will be assumed to be one. If both arguments are Integers, a [`UnitRange`](@ref) will be returned.\n",
       "  * Call `range` with one of `stop` or `length`. `start` and `step` will be assumed to be one.\n",
       "\n",
       "See Extended Help for additional details on the returned type.\n",
       "\n",
       "# Examples\n",
       "\n",
       "```jldoctest\n",
       "julia> range(1, length=100)\n",
       "1:100\n",
       "\n",
       "julia> range(1, stop=100)\n",
       "1:100\n",
       "\n",
       "julia> range(1, step=5, length=100)\n",
       "1:5:496\n",
       "\n",
       "julia> range(1, step=5, stop=100)\n",
       "1:5:96\n",
       "\n",
       "julia> range(1, 10, length=101)\n",
       "1.0:0.09:10.0\n",
       "\n",
       "julia> range(1, 100, step=5)\n",
       "1:5:96\n",
       "\n",
       "julia> range(stop=10, length=5)\n",
       "6:10\n",
       "\n",
       "julia> range(stop=10, step=1, length=5)\n",
       "6:1:10\n",
       "\n",
       "julia> range(start=1, step=1, stop=10)\n",
       "1:1:10\n",
       "\n",
       "julia> range(; length = 10)\n",
       "Base.OneTo(10)\n",
       "\n",
       "julia> range(; stop = 6)\n",
       "Base.OneTo(6)\n",
       "\n",
       "julia> range(; stop = 6.5)\n",
       "1.0:1.0:6.0\n",
       "```\n",
       "\n",
       "If `length` is not specified and `stop - start` is not an integer multiple of `step`, a range that ends before `stop` will be produced.\n",
       "\n",
       "```jldoctest\n",
       "julia> range(1, 3.5, step=2)\n",
       "1.0:2.0:3.0\n",
       "```\n",
       "\n",
       "Special care is taken to ensure intermediate values are computed rationally. To avoid this induced overhead, see the [`LinRange`](@ref) constructor.\n",
       "\n",
       "!!! compat \"Julia 1.1\"\n",
       "    `stop` as a positional argument requires at least Julia 1.1.\n",
       "\n",
       "\n",
       "!!! compat \"Julia 1.7\"\n",
       "    The versions without keyword arguments and `start` as a keyword argument require at least Julia 1.7.\n",
       "\n",
       "\n",
       "!!! compat \"Julia 1.8\"\n",
       "    The versions with `stop` as a sole keyword argument, or `length` as a sole keyword argument require at least Julia 1.8.\n",
       "\n",
       "\n",
       "---\n",
       "\n",
       "REPL.Message(\"Extended help is available with `??`\", (color = :cyan, bold = true))\n"
      ],
      "text/plain": [
       "\u001b[36m  range(start, stop, length)\u001b[39m\n",
       "\u001b[36m  range(start, stop; length, step)\u001b[39m\n",
       "\u001b[36m  range(start; length, stop, step)\u001b[39m\n",
       "\u001b[36m  range(;start, length, stop, step)\u001b[39m\n",
       "\n",
       "  Construct a specialized array with evenly spaced elements and optimized\n",
       "  storage (an \u001b[36mAbstractRange\u001b[39m) from the arguments. Mathematically a range is\n",
       "  uniquely determined by any three of \u001b[36mstart\u001b[39m, \u001b[36mstep\u001b[39m, \u001b[36mstop\u001b[39m and \u001b[36mlength\u001b[39m. Valid\n",
       "  invocations of range are:\n",
       "\n",
       "    •  Call \u001b[36mrange\u001b[39m with any three of \u001b[36mstart\u001b[39m, \u001b[36mstep\u001b[39m, \u001b[36mstop\u001b[39m, \u001b[36mlength\u001b[39m.\n",
       "\n",
       "    •  Call \u001b[36mrange\u001b[39m with two of \u001b[36mstart\u001b[39m, \u001b[36mstop\u001b[39m, \u001b[36mlength\u001b[39m. In this case \u001b[36mstep\u001b[39m will\n",
       "       be assumed to be one. If both arguments are Integers, a \u001b[36mUnitRange\u001b[39m\n",
       "       will be returned.\n",
       "\n",
       "    •  Call \u001b[36mrange\u001b[39m with one of \u001b[36mstop\u001b[39m or \u001b[36mlength\u001b[39m. \u001b[36mstart\u001b[39m and \u001b[36mstep\u001b[39m will be\n",
       "       assumed to be one.\n",
       "\n",
       "  See Extended Help for additional details on the returned type.\n",
       "\n",
       "\u001b[1m  Examples\u001b[22m\n",
       "\u001b[1m  ≡≡≡≡≡≡≡≡≡≡\u001b[22m\n",
       "\n",
       "\u001b[36m  julia> range(1, length=100)\u001b[39m\n",
       "\u001b[36m  1:100\u001b[39m\n",
       "\u001b[36m  \u001b[39m\n",
       "\u001b[36m  julia> range(1, stop=100)\u001b[39m\n",
       "\u001b[36m  1:100\u001b[39m\n",
       "\u001b[36m  \u001b[39m\n",
       "\u001b[36m  julia> range(1, step=5, length=100)\u001b[39m\n",
       "\u001b[36m  1:5:496\u001b[39m\n",
       "\u001b[36m  \u001b[39m\n",
       "\u001b[36m  julia> range(1, step=5, stop=100)\u001b[39m\n",
       "\u001b[36m  1:5:96\u001b[39m\n",
       "\u001b[36m  \u001b[39m\n",
       "\u001b[36m  julia> range(1, 10, length=101)\u001b[39m\n",
       "\u001b[36m  1.0:0.09:10.0\u001b[39m\n",
       "\u001b[36m  \u001b[39m\n",
       "\u001b[36m  julia> range(1, 100, step=5)\u001b[39m\n",
       "\u001b[36m  1:5:96\u001b[39m\n",
       "\u001b[36m  \u001b[39m\n",
       "\u001b[36m  julia> range(stop=10, length=5)\u001b[39m\n",
       "\u001b[36m  6:10\u001b[39m\n",
       "\u001b[36m  \u001b[39m\n",
       "\u001b[36m  julia> range(stop=10, step=1, length=5)\u001b[39m\n",
       "\u001b[36m  6:1:10\u001b[39m\n",
       "\u001b[36m  \u001b[39m\n",
       "\u001b[36m  julia> range(start=1, step=1, stop=10)\u001b[39m\n",
       "\u001b[36m  1:1:10\u001b[39m\n",
       "\u001b[36m  \u001b[39m\n",
       "\u001b[36m  julia> range(; length = 10)\u001b[39m\n",
       "\u001b[36m  Base.OneTo(10)\u001b[39m\n",
       "\u001b[36m  \u001b[39m\n",
       "\u001b[36m  julia> range(; stop = 6)\u001b[39m\n",
       "\u001b[36m  Base.OneTo(6)\u001b[39m\n",
       "\u001b[36m  \u001b[39m\n",
       "\u001b[36m  julia> range(; stop = 6.5)\u001b[39m\n",
       "\u001b[36m  1.0:1.0:6.0\u001b[39m\n",
       "\n",
       "  If \u001b[36mlength\u001b[39m is not specified and \u001b[36mstop - start\u001b[39m is not an integer multiple of\n",
       "  \u001b[36mstep\u001b[39m, a range that ends before \u001b[36mstop\u001b[39m will be produced.\n",
       "\n",
       "\u001b[36m  julia> range(1, 3.5, step=2)\u001b[39m\n",
       "\u001b[36m  1.0:2.0:3.0\u001b[39m\n",
       "\n",
       "  Special care is taken to ensure intermediate values are computed rationally.\n",
       "  To avoid this induced overhead, see the \u001b[36mLinRange\u001b[39m constructor.\n",
       "\n",
       "\u001b[39m\u001b[1m  │ \u001b[22m\u001b[39m\u001b[1mJulia 1.1\u001b[22m\n",
       "\u001b[39m\u001b[1m  │\u001b[22m\n",
       "\u001b[39m\u001b[1m  │\u001b[22m  \u001b[36mstop\u001b[39m as a positional argument requires at least Julia 1.1.\n",
       "\n",
       "\u001b[39m\u001b[1m  │ \u001b[22m\u001b[39m\u001b[1mJulia 1.7\u001b[22m\n",
       "\u001b[39m\u001b[1m  │\u001b[22m\n",
       "\u001b[39m\u001b[1m  │\u001b[22m  The versions without keyword arguments and \u001b[36mstart\u001b[39m as a keyword\n",
       "\u001b[39m\u001b[1m  │\u001b[22m  argument require at least Julia 1.7.\n",
       "\n",
       "\u001b[39m\u001b[1m  │ \u001b[22m\u001b[39m\u001b[1mJulia 1.8\u001b[22m\n",
       "\u001b[39m\u001b[1m  │\u001b[22m\n",
       "\u001b[39m\u001b[1m  │\u001b[22m  The versions with \u001b[36mstop\u001b[39m as a sole keyword argument, or \u001b[36mlength\u001b[39m as a\n",
       "\u001b[39m\u001b[1m  │\u001b[22m  sole keyword argument require at least Julia 1.8.\n",
       "\n",
       "  ────────────────────────────────────────────────────────────────────────────\n",
       "\n",
       "\u001b[36m\u001b[1mExtended help is available with `??`\u001b[22m\u001b[39m"
      ]
     },
     "execution_count": 19,
     "metadata": {},
     "output_type": "execute_result"
    }
   ],
   "source": [
    "?range"
   ]
  },
  {
   "cell_type": "code",
   "execution_count": 20,
   "id": "259e44be",
   "metadata": {},
   "outputs": [
    {
     "name": "stdout",
     "output_type": "stream",
     "text": [
      "1.0\n",
      "1.1111111111111112\n",
      "1.2222222222222223\n",
      "1.3333333333333333\n",
      "1.4444444444444444\n",
      "1.5555555555555556\n",
      "1.6666666666666667\n",
      "1.7777777777777777\n",
      "1.8888888888888888\n",
      "2.0\n"
     ]
    }
   ],
   "source": [
    "for j in range(1,2,10)\n",
    "    println(j)\n",
    "end"
   ]
  },
  {
   "cell_type": "code",
   "execution_count": 21,
   "id": "c55b6806",
   "metadata": {},
   "outputs": [
    {
     "name": "stdout",
     "output_type": "stream",
     "text": [
      "1\n",
      "2\n",
      "3\n",
      "4\n"
     ]
    }
   ],
   "source": [
    "for i in [1, 2, 3, 4]\n",
    "  println(i)\n",
    "end"
   ]
  },
  {
   "cell_type": "markdown",
   "id": "aac67e62",
   "metadata": {},
   "source": [
    "Also have things like `while`. Blocks use `begin` and `end`."
   ]
  },
  {
   "cell_type": "code",
   "execution_count": 22,
   "id": "0df5b11a",
   "metadata": {},
   "outputs": [
    {
     "data": {
      "text/plain": [
       "5"
      ]
     },
     "execution_count": 22,
     "metadata": {},
     "output_type": "execute_result"
    }
   ],
   "source": [
    "begin\n",
    "    x = 3\n",
    "    x += 2\n",
    "    x\n",
    "end"
   ]
  },
  {
   "cell_type": "code",
   "execution_count": 23,
   "id": "c47c3347",
   "metadata": {},
   "outputs": [],
   "source": [
    "# comment"
   ]
  },
  {
   "cell_type": "code",
   "execution_count": 24,
   "id": "19c539ad",
   "metadata": {},
   "outputs": [
    {
     "data": {
      "text/plain": [
       "24"
      ]
     },
     "execution_count": 24,
     "metadata": {},
     "output_type": "execute_result"
    }
   ],
   "source": [
    "function a(x)\n",
    "    x + 12\n",
    "end\n",
    "\n",
    "a(12)"
   ]
  },
  {
   "cell_type": "code",
   "execution_count": 25,
   "id": "375ae334",
   "metadata": {},
   "outputs": [
    {
     "data": {
      "text/plain": [
       "22"
      ]
     },
     "execution_count": 25,
     "metadata": {},
     "output_type": "execute_result"
    }
   ],
   "source": [
    "function g(x,y) \n",
    "    x + y\n",
    "end\n",
    "\n",
    "g(10,12)"
   ]
  },
  {
   "cell_type": "code",
   "execution_count": 26,
   "id": "546fa81b",
   "metadata": {},
   "outputs": [
    {
     "data": {
      "text/plain": [
       "13"
      ]
     },
     "execution_count": 26,
     "metadata": {},
     "output_type": "execute_result"
    }
   ],
   "source": [
    "# don't do this?\n",
    "\n",
    "c(x) = begin\n",
    "    y = x + 1\n",
    "    return y\n",
    "end\n",
    "\n",
    "c(12)"
   ]
  },
  {
   "cell_type": "code",
   "execution_count": 27,
   "id": "e84e918b",
   "metadata": {},
   "outputs": [
    {
     "data": {
      "text/plain": [
       "12"
      ]
     },
     "execution_count": 27,
     "metadata": {},
     "output_type": "execute_result"
    }
   ],
   "source": [
    "b(x) = x - 12\n",
    "b(24)"
   ]
  },
  {
   "cell_type": "code",
   "execution_count": 28,
   "id": "e4766226",
   "metadata": {},
   "outputs": [
    {
     "data": {
      "text/plain": [
       "fancy (generic function with 2 methods)"
      ]
     },
     "execution_count": 28,
     "metadata": {},
     "output_type": "execute_result"
    }
   ],
   "source": [
    "fancy(a, b = 12; c) = (a,b,c)"
   ]
  },
  {
   "cell_type": "code",
   "execution_count": 29,
   "id": "aa2c3dcd",
   "metadata": {},
   "outputs": [
    {
     "ename": "LoadError",
     "evalue": "MethodError: no method matching fancy(::Int64, ::Int64, ::Int64)\n\u001b[0mClosest candidates are:\n\u001b[0m  fancy(::Any, ::Any; c) at In[28]:1\n\u001b[0m  fancy(::Any) at In[28]:1",
     "output_type": "error",
     "traceback": [
      "MethodError: no method matching fancy(::Int64, ::Int64, ::Int64)\n\u001b[0mClosest candidates are:\n\u001b[0m  fancy(::Any, ::Any; c) at In[28]:1\n\u001b[0m  fancy(::Any) at In[28]:1",
      "",
      "Stacktrace:",
      " [1] top-level scope",
      "   @ In[29]:1"
     ]
    }
   ],
   "source": [
    "fancy(1,2,3)"
   ]
  },
  {
   "cell_type": "code",
   "execution_count": 30,
   "id": "53707118",
   "metadata": {},
   "outputs": [
    {
     "data": {
      "text/plain": [
       "(1, 2, 3)"
      ]
     },
     "execution_count": 30,
     "metadata": {},
     "output_type": "execute_result"
    }
   ],
   "source": [
    "fancy(1,2,c=3)"
   ]
  },
  {
   "cell_type": "code",
   "execution_count": 31,
   "id": "2f128cb7",
   "metadata": {},
   "outputs": [
    {
     "data": {
      "text/plain": [
       "(1, 12, 3)"
      ]
     },
     "execution_count": 31,
     "metadata": {},
     "output_type": "execute_result"
    }
   ],
   "source": [
    "fancy(1,c=3)"
   ]
  },
  {
   "cell_type": "code",
   "execution_count": 32,
   "id": "e1ea9826",
   "metadata": {},
   "outputs": [
    {
     "data": {
      "text/plain": [
       "fancy2 (generic function with 2 methods)"
      ]
     },
     "execution_count": 32,
     "metadata": {},
     "output_type": "execute_result"
    }
   ],
   "source": [
    "fancy2(a, b = 12; c, d = 4) = (a,b,c,d)"
   ]
  },
  {
   "cell_type": "code",
   "execution_count": 33,
   "id": "b972b349",
   "metadata": {},
   "outputs": [
    {
     "ename": "LoadError",
     "evalue": "UndefKeywordError: keyword argument c not assigned",
     "output_type": "error",
     "traceback": [
      "UndefKeywordError: keyword argument c not assigned",
      "",
      "Stacktrace:",
      " [1] fancy2(a::Int64, b::Int64)",
      "   @ Main ./In[32]:1",
      " [2] top-level scope",
      "   @ In[33]:1"
     ]
    }
   ],
   "source": [
    "fancy2(1, 2)"
   ]
  },
  {
   "cell_type": "code",
   "execution_count": 34,
   "id": "be7b8270",
   "metadata": {},
   "outputs": [
    {
     "data": {
      "text/plain": [
       "(1, 2, 3, 8)"
      ]
     },
     "execution_count": 34,
     "metadata": {},
     "output_type": "execute_result"
    }
   ],
   "source": [
    "fancy2(1,2,c=3,d=8)"
   ]
  },
  {
   "cell_type": "code",
   "execution_count": 35,
   "id": "6e3cabb3",
   "metadata": {},
   "outputs": [
    {
     "data": {
      "text/plain": [
       "(1, 2, 3, 4)"
      ]
     },
     "execution_count": 35,
     "metadata": {},
     "output_type": "execute_result"
    }
   ],
   "source": [
    "fancy2(1,2,c=3)"
   ]
  },
  {
   "cell_type": "code",
   "execution_count": 36,
   "id": "24c86d24",
   "metadata": {},
   "outputs": [
    {
     "data": {
      "text/plain": [
       "4"
      ]
     },
     "execution_count": 36,
     "metadata": {},
     "output_type": "execute_result"
    }
   ],
   "source": [
    "f1 = y -> y + 2\n",
    "\n",
    "f1(2)"
   ]
  },
  {
   "cell_type": "code",
   "execution_count": null,
   "id": "2fc61a35",
   "metadata": {},
   "outputs": [],
   "source": []
  },
  {
   "cell_type": "code",
   "execution_count": null,
   "id": "5b3e5d84",
   "metadata": {},
   "outputs": [],
   "source": []
  },
  {
   "cell_type": "code",
   "execution_count": 37,
   "id": "d2adfa59",
   "metadata": {},
   "outputs": [
    {
     "data": {
      "text/plain": [
       "5-element Vector{Int64}:\n",
       "   1\n",
       "   8\n",
       "  27\n",
       "  64\n",
       " 125"
      ]
     },
     "execution_count": 37,
     "metadata": {},
     "output_type": "execute_result"
    }
   ],
   "source": [
    "map(x -> x ^ 3, [1, 2, 3, 4, 5])"
   ]
  },
  {
   "cell_type": "code",
   "execution_count": 38,
   "id": "46c5fbda",
   "metadata": {},
   "outputs": [
    {
     "data": {
      "text/plain": [
       "100"
      ]
     },
     "execution_count": 38,
     "metadata": {},
     "output_type": "execute_result"
    }
   ],
   "source": [
    "sum(x -> x ^ 3, [1, 2, 3, 4])"
   ]
  },
  {
   "cell_type": "markdown",
   "id": "a88ff848",
   "metadata": {},
   "source": [
    "Special `do/end` syntax; when *first* argument is a function with one argument:"
   ]
  },
  {
   "cell_type": "code",
   "execution_count": 39,
   "id": "9c77b812",
   "metadata": {},
   "outputs": [
    {
     "data": {
      "text/plain": [
       "100"
      ]
     },
     "execution_count": 39,
     "metadata": {},
     "output_type": "execute_result"
    }
   ],
   "source": [
    "sum([1, 2, 3, 4]) do x\n",
    "   x ^ 3 \n",
    "end"
   ]
  },
  {
   "cell_type": "code",
   "execution_count": 40,
   "id": "070ef51d",
   "metadata": {},
   "outputs": [
    {
     "data": {
      "text/plain": [
       "3-element Vector{Int64}:\n",
       " 13\n",
       " 14\n",
       " 15"
      ]
     },
     "execution_count": 40,
     "metadata": {},
     "output_type": "execute_result"
    }
   ],
   "source": [
    "map([1,2,3]) do y\n",
    "   y + 12 \n",
    "end"
   ]
  },
  {
   "cell_type": "markdown",
   "id": "70a4beaf",
   "metadata": {},
   "source": [
    "Challenge from first chapter, write:"
   ]
  },
  {
   "cell_type": "markdown",
   "id": "b16dc4bc",
   "metadata": {},
   "source": [
    "Motivating (simple) example, we will implement:\n",
    "\n",
    "> The k-times winsorized mean of a vector x is the mean of the elements of this vector, where each of its k smallest elements is replaced by the (k + 1)st smallest element, and similarly, each of the k largest elements is replaced by the (k + 1)st largest element\n",
    "\n",
    "Julia has many standard data types"
   ]
  },
  {
   "cell_type": "code",
   "execution_count": 41,
   "id": "eb812300",
   "metadata": {},
   "outputs": [
    {
     "data": {
      "text/plain": [
       "winsorized_mean (generic function with 1 method)"
      ]
     },
     "execution_count": 41,
     "metadata": {},
     "output_type": "execute_result"
    }
   ],
   "source": [
    "function winsorized_mean(x, k)\n",
    "    for i in range(1:k)\n",
    "        \n",
    "    end\n",
    "end\n",
    "    "
   ]
  },
  {
   "cell_type": "markdown",
   "id": "98a967dc",
   "metadata": {},
   "source": [
    "One important note compared to other languages:\n",
    "\n",
    "> In Julia, functions and for and while loops introduce a new scope, but if and begin-end blocks do not."
   ]
  },
  {
   "cell_type": "code",
   "execution_count": 42,
   "id": "b3eb8586",
   "metadata": {},
   "outputs": [
    {
     "data": {
      "text/plain": [
       "2"
      ]
     },
     "execution_count": 42,
     "metadata": {},
     "output_type": "execute_result"
    }
   ],
   "source": [
    "data = [1,2,3,12,213,232,23,232,23,213, -1232, -123]\n",
    "n = 2"
   ]
  },
  {
   "cell_type": "code",
   "execution_count": 43,
   "id": "d9173d02",
   "metadata": {},
   "outputs": [
    {
     "name": "stdout",
     "output_type": "stream",
     "text": [
      "search: \u001b[0m\u001b[1ms\u001b[22m\u001b[0m\u001b[1mo\u001b[22m\u001b[0m\u001b[1mr\u001b[22m\u001b[0m\u001b[1mt\u001b[22m \u001b[0m\u001b[1ms\u001b[22m\u001b[0m\u001b[1mo\u001b[22m\u001b[0m\u001b[1mr\u001b[22m\u001b[0m\u001b[1mt\u001b[22m! \u001b[0m\u001b[1ms\u001b[22m\u001b[0m\u001b[1mo\u001b[22m\u001b[0m\u001b[1mr\u001b[22m\u001b[0m\u001b[1mt\u001b[22mperm \u001b[0m\u001b[1ms\u001b[22m\u001b[0m\u001b[1mo\u001b[22m\u001b[0m\u001b[1mr\u001b[22m\u001b[0m\u001b[1mt\u001b[22mperm! \u001b[0m\u001b[1ms\u001b[22m\u001b[0m\u001b[1mo\u001b[22m\u001b[0m\u001b[1mr\u001b[22m\u001b[0m\u001b[1mt\u001b[22mslices in\u001b[0m\u001b[1ms\u001b[22m\u001b[0m\u001b[1mo\u001b[22m\u001b[0m\u001b[1mr\u001b[22m\u001b[0m\u001b[1mt\u001b[22med C\u001b[0m\u001b[1ms\u001b[22mh\u001b[0m\u001b[1mo\u001b[22m\u001b[0m\u001b[1mr\u001b[22m\u001b[0m\u001b[1mt\u001b[22m i\u001b[0m\u001b[1ms\u001b[22ms\u001b[0m\u001b[1mo\u001b[22m\u001b[0m\u001b[1mr\u001b[22m\u001b[0m\u001b[1mt\u001b[22med\n",
      "\n"
     ]
    },
    {
     "data": {
      "text/latex": [
       "\\begin{verbatim}\n",
       "sort(v; alg::Algorithm=defalg(v), lt=isless, by=identity, rev::Bool=false, order::Ordering=Forward)\n",
       "\\end{verbatim}\n",
       "Variant of \\href{@ref}{\\texttt{sort!}} that returns a sorted copy of \\texttt{v} leaving \\texttt{v} itself unmodified.\n",
       "\n",
       "\\section{Examples}\n",
       "\\begin{verbatim}\n",
       "julia> v = [3, 1, 2];\n",
       "\n",
       "julia> sort(v)\n",
       "3-element Vector{Int64}:\n",
       " 1\n",
       " 2\n",
       " 3\n",
       "\n",
       "julia> v\n",
       "3-element Vector{Int64}:\n",
       " 3\n",
       " 1\n",
       " 2\n",
       "\\end{verbatim}\n",
       "\\rule{\\textwidth}{1pt}\n",
       "\\begin{verbatim}\n",
       "sort(A; dims::Integer, alg::Algorithm=DEFAULT_UNSTABLE, lt=isless, by=identity, rev::Bool=false, order::Ordering=Forward)\n",
       "\\end{verbatim}\n",
       "Sort a multidimensional array \\texttt{A} along the given dimension. See \\href{@ref}{\\texttt{sort!}} for a description of possible keyword arguments.\n",
       "\n",
       "To sort slices of an array, refer to \\href{@ref}{\\texttt{sortslices}}.\n",
       "\n",
       "\\section{Examples}\n",
       "\\begin{verbatim}\n",
       "julia> A = [4 3; 1 2]\n",
       "2×2 Matrix{Int64}:\n",
       " 4  3\n",
       " 1  2\n",
       "\n",
       "julia> sort(A, dims = 1)\n",
       "2×2 Matrix{Int64}:\n",
       " 1  2\n",
       " 4  3\n",
       "\n",
       "julia> sort(A, dims = 2)\n",
       "2×2 Matrix{Int64}:\n",
       " 3  4\n",
       " 1  2\n",
       "\\end{verbatim}\n"
      ],
      "text/markdown": [
       "```\n",
       "sort(v; alg::Algorithm=defalg(v), lt=isless, by=identity, rev::Bool=false, order::Ordering=Forward)\n",
       "```\n",
       "\n",
       "Variant of [`sort!`](@ref) that returns a sorted copy of `v` leaving `v` itself unmodified.\n",
       "\n",
       "# Examples\n",
       "\n",
       "```jldoctest\n",
       "julia> v = [3, 1, 2];\n",
       "\n",
       "julia> sort(v)\n",
       "3-element Vector{Int64}:\n",
       " 1\n",
       " 2\n",
       " 3\n",
       "\n",
       "julia> v\n",
       "3-element Vector{Int64}:\n",
       " 3\n",
       " 1\n",
       " 2\n",
       "```\n",
       "\n",
       "---\n",
       "\n",
       "```\n",
       "sort(A; dims::Integer, alg::Algorithm=DEFAULT_UNSTABLE, lt=isless, by=identity, rev::Bool=false, order::Ordering=Forward)\n",
       "```\n",
       "\n",
       "Sort a multidimensional array `A` along the given dimension. See [`sort!`](@ref) for a description of possible keyword arguments.\n",
       "\n",
       "To sort slices of an array, refer to [`sortslices`](@ref).\n",
       "\n",
       "# Examples\n",
       "\n",
       "```jldoctest\n",
       "julia> A = [4 3; 1 2]\n",
       "2×2 Matrix{Int64}:\n",
       " 4  3\n",
       " 1  2\n",
       "\n",
       "julia> sort(A, dims = 1)\n",
       "2×2 Matrix{Int64}:\n",
       " 1  2\n",
       " 4  3\n",
       "\n",
       "julia> sort(A, dims = 2)\n",
       "2×2 Matrix{Int64}:\n",
       " 3  4\n",
       " 1  2\n",
       "```\n"
      ],
      "text/plain": [
       "\u001b[36m  sort(v; alg::Algorithm=defalg(v), lt=isless, by=identity, rev::Bool=false, order::Ordering=Forward)\u001b[39m\n",
       "\n",
       "  Variant of \u001b[36msort!\u001b[39m that returns a sorted copy of \u001b[36mv\u001b[39m leaving \u001b[36mv\u001b[39m itself\n",
       "  unmodified.\n",
       "\n",
       "\u001b[1m  Examples\u001b[22m\n",
       "\u001b[1m  ≡≡≡≡≡≡≡≡≡≡\u001b[22m\n",
       "\n",
       "\u001b[36m  julia> v = [3, 1, 2];\u001b[39m\n",
       "\u001b[36m  \u001b[39m\n",
       "\u001b[36m  julia> sort(v)\u001b[39m\n",
       "\u001b[36m  3-element Vector{Int64}:\u001b[39m\n",
       "\u001b[36m   1\u001b[39m\n",
       "\u001b[36m   2\u001b[39m\n",
       "\u001b[36m   3\u001b[39m\n",
       "\u001b[36m  \u001b[39m\n",
       "\u001b[36m  julia> v\u001b[39m\n",
       "\u001b[36m  3-element Vector{Int64}:\u001b[39m\n",
       "\u001b[36m   3\u001b[39m\n",
       "\u001b[36m   1\u001b[39m\n",
       "\u001b[36m   2\u001b[39m\n",
       "\n",
       "  ────────────────────────────────────────────────────────────────────────────\n",
       "\n",
       "\u001b[36m  sort(A; dims::Integer, alg::Algorithm=DEFAULT_UNSTABLE, lt=isless, by=identity, rev::Bool=false, order::Ordering=Forward)\u001b[39m\n",
       "\n",
       "  Sort a multidimensional array \u001b[36mA\u001b[39m along the given dimension. See \u001b[36msort!\u001b[39m for a\n",
       "  description of possible keyword arguments.\n",
       "\n",
       "  To sort slices of an array, refer to \u001b[36msortslices\u001b[39m.\n",
       "\n",
       "\u001b[1m  Examples\u001b[22m\n",
       "\u001b[1m  ≡≡≡≡≡≡≡≡≡≡\u001b[22m\n",
       "\n",
       "\u001b[36m  julia> A = [4 3; 1 2]\u001b[39m\n",
       "\u001b[36m  2×2 Matrix{Int64}:\u001b[39m\n",
       "\u001b[36m   4  3\u001b[39m\n",
       "\u001b[36m   1  2\u001b[39m\n",
       "\u001b[36m  \u001b[39m\n",
       "\u001b[36m  julia> sort(A, dims = 1)\u001b[39m\n",
       "\u001b[36m  2×2 Matrix{Int64}:\u001b[39m\n",
       "\u001b[36m   1  2\u001b[39m\n",
       "\u001b[36m   4  3\u001b[39m\n",
       "\u001b[36m  \u001b[39m\n",
       "\u001b[36m  julia> sort(A, dims = 2)\u001b[39m\n",
       "\u001b[36m  2×2 Matrix{Int64}:\u001b[39m\n",
       "\u001b[36m   3  4\u001b[39m\n",
       "\u001b[36m   1  2\u001b[39m"
      ]
     },
     "execution_count": 43,
     "metadata": {},
     "output_type": "execute_result"
    }
   ],
   "source": [
    "?sort"
   ]
  },
  {
   "cell_type": "code",
   "execution_count": 44,
   "id": "1d2baee6",
   "metadata": {},
   "outputs": [
    {
     "data": {
      "text/plain": [
       "12-element Vector{Int64}:\n",
       " -1232\n",
       "  -123\n",
       "     1\n",
       "     2\n",
       "     3\n",
       "    12\n",
       "    23\n",
       "    23\n",
       "   213\n",
       "   213\n",
       "   232\n",
       "   232"
      ]
     },
     "execution_count": 44,
     "metadata": {},
     "output_type": "execute_result"
    }
   ],
   "source": [
    "sorted_data = sort(data)"
   ]
  },
  {
   "cell_type": "code",
   "execution_count": 45,
   "id": "6001af1f",
   "metadata": {},
   "outputs": [
    {
     "data": {
      "text/plain": [
       "12-element Vector{Int64}:\n",
       "     1\n",
       "     2\n",
       "     3\n",
       "    12\n",
       "   213\n",
       "   232\n",
       "    23\n",
       "   232\n",
       "    23\n",
       "   213\n",
       " -1232\n",
       "  -123"
      ]
     },
     "execution_count": 45,
     "metadata": {},
     "output_type": "execute_result"
    }
   ],
   "source": [
    "data"
   ]
  },
  {
   "cell_type": "code",
   "execution_count": 46,
   "id": "1ee1ba29",
   "metadata": {},
   "outputs": [
    {
     "data": {
      "text/plain": [
       "1-element Vector{Vector{Int64}}:\n",
       " [1, 2]"
      ]
     },
     "execution_count": 46,
     "metadata": {},
     "output_type": "execute_result"
    }
   ],
   "source": [
    "a10 = [[1,2]]"
   ]
  },
  {
   "cell_type": "code",
   "execution_count": 47,
   "id": "449fb2eb",
   "metadata": {},
   "outputs": [
    {
     "data": {
      "text/plain": [
       "1-element Vector{Vector{Int64}}:\n",
       " [1, 2]"
      ]
     },
     "execution_count": 47,
     "metadata": {},
     "output_type": "execute_result"
    }
   ],
   "source": [
    "a11 = sort(a10)"
   ]
  },
  {
   "cell_type": "code",
   "execution_count": 48,
   "id": "59704896",
   "metadata": {},
   "outputs": [
    {
     "data": {
      "text/plain": [
       "12"
      ]
     },
     "execution_count": 48,
     "metadata": {},
     "output_type": "execute_result"
    }
   ],
   "source": [
    "a11[1][2] = 12"
   ]
  },
  {
   "cell_type": "code",
   "execution_count": 49,
   "id": "a475bc09",
   "metadata": {},
   "outputs": [
    {
     "data": {
      "text/plain": [
       "1-element Vector{Vector{Int64}}:\n",
       " [1, 12]"
      ]
     },
     "execution_count": 49,
     "metadata": {},
     "output_type": "execute_result"
    }
   ],
   "source": [
    "a10"
   ]
  },
  {
   "cell_type": "code",
   "execution_count": 50,
   "id": "99dff1e7",
   "metadata": {},
   "outputs": [
    {
     "data": {
      "text/plain": [
       "1:10"
      ]
     },
     "execution_count": 50,
     "metadata": {},
     "output_type": "execute_result"
    }
   ],
   "source": [
    "1:10"
   ]
  },
  {
   "cell_type": "code",
   "execution_count": 51,
   "id": "92370a70",
   "metadata": {},
   "outputs": [],
   "source": [
    "for i in 1:n\n",
    "   sorted_data[i] = sorted_data[n + 1]\n",
    "end"
   ]
  },
  {
   "cell_type": "code",
   "execution_count": 52,
   "id": "41606afd",
   "metadata": {},
   "outputs": [
    {
     "data": {
      "text/plain": [
       "12-element Vector{Int64}:\n",
       "   1\n",
       "   1\n",
       "   1\n",
       "   2\n",
       "   3\n",
       "  12\n",
       "  23\n",
       "  23\n",
       " 213\n",
       " 213\n",
       " 232\n",
       " 232"
      ]
     },
     "execution_count": 52,
     "metadata": {},
     "output_type": "execute_result"
    }
   ],
   "source": [
    "sorted_data"
   ]
  },
  {
   "cell_type": "code",
   "execution_count": 53,
   "id": "631dcae7",
   "metadata": {},
   "outputs": [],
   "source": [
    "for i in 1:n\n",
    "    sorted_data[i] = sorted_data[n + 1]\n",
    "    sorted_data[end + 1 - i] = sorted_data[end - n]\n",
    "end"
   ]
  },
  {
   "cell_type": "code",
   "execution_count": 54,
   "id": "3e6dbaba",
   "metadata": {},
   "outputs": [
    {
     "data": {
      "text/plain": [
       "213"
      ]
     },
     "execution_count": 54,
     "metadata": {},
     "output_type": "execute_result"
    }
   ],
   "source": [
    "sorted_data[end]"
   ]
  },
  {
   "cell_type": "code",
   "execution_count": 55,
   "id": "c0959a94",
   "metadata": {},
   "outputs": [
    {
     "data": {
      "text/plain": [
       "12-element Vector{Int64}:\n",
       "   1\n",
       "   1\n",
       "   1\n",
       "   2\n",
       "   3\n",
       "  12\n",
       "  23\n",
       "  23\n",
       " 213\n",
       " 213\n",
       " 213\n",
       " 213"
      ]
     },
     "execution_count": 55,
     "metadata": {},
     "output_type": "execute_result"
    }
   ],
   "source": [
    "sorted_data"
   ]
  },
  {
   "cell_type": "code",
   "execution_count": 56,
   "id": "cbe6f6b5",
   "metadata": {},
   "outputs": [
    {
     "data": {
      "text/plain": [
       "76.5"
      ]
     },
     "execution_count": 56,
     "metadata": {},
     "output_type": "execute_result"
    }
   ],
   "source": [
    "sum(sorted_data) / length(sorted_data)"
   ]
  },
  {
   "cell_type": "code",
   "execution_count": 57,
   "id": "7ee93739",
   "metadata": {},
   "outputs": [
    {
     "data": {
      "text/plain": [
       "winsorized_mean (generic function with 2 methods)"
      ]
     },
     "execution_count": 57,
     "metadata": {},
     "output_type": "execute_result"
    }
   ],
   "source": [
    "function winsorized_mean(x::Vector{Number}, k::Integer)\n",
    "    sorted_x = sort(x)\n",
    "    for i in 1:k\n",
    "        sorted_x[i] = sorted_x[k + 1]\n",
    "        sorted_x[end + 1 - i] = sorted_x[end - k]\n",
    "    end\n",
    "    sum(sorted_x) / length(sorted_x)\n",
    "end"
   ]
  },
  {
   "cell_type": "code",
   "execution_count": 58,
   "id": "effc4e52",
   "metadata": {},
   "outputs": [
    {
     "ename": "LoadError",
     "evalue": "MethodError: no method matching (::Colon)(::Int64, ::String)\n\u001b[0mClosest candidates are:\n\u001b[0m  (::Colon)(::T, ::Any, \u001b[91m::T\u001b[39m) where T<:Real at range.jl:41\n\u001b[0m  (::Colon)(::A, ::Any, \u001b[91m::C\u001b[39m) where {A<:Real, C<:Real} at range.jl:10\n\u001b[0m  (::Colon)(::T, ::Any, \u001b[91m::T\u001b[39m) where T at range.jl:40\n\u001b[0m  ...",
     "output_type": "error",
     "traceback": [
      "MethodError: no method matching (::Colon)(::Int64, ::String)\n\u001b[0mClosest candidates are:\n\u001b[0m  (::Colon)(::T, ::Any, \u001b[91m::T\u001b[39m) where T<:Real at range.jl:41\n\u001b[0m  (::Colon)(::A, ::Any, \u001b[91m::C\u001b[39m) where {A<:Real, C<:Real} at range.jl:10\n\u001b[0m  (::Colon)(::T, ::Any, \u001b[91m::T\u001b[39m) where T at range.jl:40\n\u001b[0m  ...",
      "",
      "Stacktrace:",
      " [1] winsorized_mean(x::Vector{Int64}, k::String)",
      "   @ Main ./In[41]:2",
      " [2] top-level scope",
      "   @ In[58]:1"
     ]
    }
   ],
   "source": [
    "winsorized_mean([1,2,3,12,213,232,23,232,23,213, -1232, -123], \"yo\")"
   ]
  },
  {
   "cell_type": "code",
   "execution_count": 59,
   "id": "38c23bb4",
   "metadata": {},
   "outputs": [
    {
     "data": {
      "text/html": [
       "# 2 methods for generic function <b>winsorized_mean</b>:<ul><li> winsorized_mean(x::<b>Vector{Number}</b>, k::<b>Integer</b>) in Main at In[57]:1</li> <li> winsorized_mean(x, k) in Main at In[41]:1</li> </ul>"
      ],
      "text/plain": [
       "# 2 methods for generic function \"winsorized_mean\":\n",
       "[1] winsorized_mean(x::Vector{Number}, k::Integer) in Main at In[57]:1\n",
       "[2] winsorized_mean(x, k) in Main at In[41]:1"
      ]
     },
     "execution_count": 59,
     "metadata": {},
     "output_type": "execute_result"
    }
   ],
   "source": [
    "methods(winsorized_mean)"
   ]
  },
  {
   "cell_type": "code",
   "execution_count": null,
   "id": "30c436a7",
   "metadata": {},
   "outputs": [],
   "source": []
  }
 ],
 "metadata": {
  "kernelspec": {
   "display_name": "Julia 1.8.5",
   "language": "julia",
   "name": "julia-1.8"
  },
  "language_info": {
   "file_extension": ".jl",
   "mimetype": "application/julia",
   "name": "julia",
   "version": "1.8.5"
  }
 },
 "nbformat": 4,
 "nbformat_minor": 5
}
