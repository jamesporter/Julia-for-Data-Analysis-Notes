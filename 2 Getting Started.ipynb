{
 "cells": [
  {
   "cell_type": "markdown",
   "id": "7ef10a84",
   "metadata": {},
   "source": [
    "Motivating (simple) example, we will implement:\n",
    "\n",
    "> The k-times winsorized mean of a vector x is the mean of the elements of this vector, where each of its k smallest elements is replaced by the (k + 1)st smallest element, and similarly, each of the k largest elements is replaced by the (k + 1)st largest element\n",
    "\n",
    "Julia has many standard data types"
   ]
  },
  {
   "cell_type": "code",
   "execution_count": 1,
   "id": "e92553ef",
   "metadata": {},
   "outputs": [
    {
     "data": {
      "text/plain": [
       "1"
      ]
     },
     "execution_count": 1,
     "metadata": {},
     "output_type": "execute_result"
    }
   ],
   "source": [
    "1"
   ]
  },
  {
   "cell_type": "code",
   "execution_count": 2,
   "id": "dc5cd38e",
   "metadata": {},
   "outputs": [
    {
     "data": {
      "text/plain": [
       "\"Hello\""
      ]
     },
     "execution_count": 2,
     "metadata": {},
     "output_type": "execute_result"
    }
   ],
   "source": [
    "\"Hello\""
   ]
  },
  {
   "cell_type": "code",
   "execution_count": 4,
   "id": "241ba04d",
   "metadata": {},
   "outputs": [
    {
     "data": {
      "text/plain": [
       "5-element Vector{Int64}:\n",
       " 1\n",
       " 2\n",
       " 3\n",
       " 4\n",
       " 5"
      ]
     },
     "execution_count": 4,
     "metadata": {},
     "output_type": "execute_result"
    }
   ],
   "source": [
    "[1, 2, 3, 4, 5]"
   ]
  },
  {
   "cell_type": "code",
   "execution_count": 5,
   "id": "9e478d91",
   "metadata": {},
   "outputs": [
    {
     "data": {
      "text/plain": [
       "1"
      ]
     },
     "execution_count": 5,
     "metadata": {},
     "output_type": "execute_result"
    }
   ],
   "source": [
    "[1, 2, 3, 4, 5][1]"
   ]
  },
  {
   "cell_type": "markdown",
   "id": "e82ad8bb",
   "metadata": {},
   "source": [
    "Types are important"
   ]
  },
  {
   "cell_type": "code",
   "execution_count": 6,
   "id": "e0cb1ff5",
   "metadata": {},
   "outputs": [
    {
     "data": {
      "text/plain": [
       "Int64"
      ]
     },
     "execution_count": 6,
     "metadata": {},
     "output_type": "execute_result"
    }
   ],
   "source": [
    "typeof(1)"
   ]
  },
  {
   "cell_type": "code",
   "execution_count": 7,
   "id": "01792e8c",
   "metadata": {},
   "outputs": [
    {
     "data": {
      "text/plain": [
       "String"
      ]
     },
     "execution_count": 7,
     "metadata": {},
     "output_type": "execute_result"
    }
   ],
   "source": [
    "typeof(\"hi\")"
   ]
  },
  {
   "cell_type": "code",
   "execution_count": 8,
   "id": "c3edd5cc",
   "metadata": {},
   "outputs": [
    {
     "data": {
      "text/plain": [
       "Bool"
      ]
     },
     "execution_count": 8,
     "metadata": {},
     "output_type": "execute_result"
    }
   ],
   "source": [
    "typeof(false)"
   ]
  },
  {
   "cell_type": "markdown",
   "id": "d4e94c92",
   "metadata": {},
   "source": [
    "Notice use of `{}` for generics "
   ]
  },
  {
   "cell_type": "code",
   "execution_count": 11,
   "id": "55b78ced",
   "metadata": {},
   "outputs": [
    {
     "data": {
      "text/plain": [
       "Vector{Int64}\u001b[90m (alias for \u001b[39m\u001b[90mArray{Int64, 1}\u001b[39m\u001b[90m)\u001b[39m"
      ]
     },
     "execution_count": 11,
     "metadata": {},
     "output_type": "execute_result"
    }
   ],
   "source": [
    "typeof([1,2])"
   ]
  },
  {
   "cell_type": "code",
   "execution_count": 12,
   "id": "3102c616",
   "metadata": {},
   "outputs": [
    {
     "data": {
      "text/plain": [
       "1"
      ]
     },
     "execution_count": 12,
     "metadata": {},
     "output_type": "execute_result"
    }
   ],
   "source": [
    "x = 1"
   ]
  },
  {
   "cell_type": "code",
   "execution_count": 13,
   "id": "10e8ac56",
   "metadata": {},
   "outputs": [
    {
     "data": {
      "text/plain": [
       "3-element Vector{Int64}:\n",
       " 1\n",
       " 5\n",
       " 3"
      ]
     },
     "execution_count": 13,
     "metadata": {},
     "output_type": "execute_result"
    }
   ],
   "source": [
    "y = [1,2,3]\n",
    "z = y\n",
    "y[2] = 5\n",
    "z"
   ]
  },
  {
   "cell_type": "code",
   "execution_count": 14,
   "id": "1e84e252",
   "metadata": {},
   "outputs": [
    {
     "data": {
      "text/plain": [
       "1"
      ]
     },
     "execution_count": 14,
     "metadata": {},
     "output_type": "execute_result"
    }
   ],
   "source": [
    "y = 1\n",
    "z = y\n",
    "y = 2\n",
    "z"
   ]
  },
  {
   "cell_type": "markdown",
   "id": "3255086e",
   "metadata": {},
   "source": [
    "Has some nice latex-ish functionality around special characters e.g. `\\epsilon` (use tab, tab)"
   ]
  },
  {
   "cell_type": "code",
   "execution_count": 15,
   "id": "9592e20a",
   "metadata": {},
   "outputs": [
    {
     "data": {
      "text/plain": [
       "2"
      ]
     },
     "execution_count": 15,
     "metadata": {},
     "output_type": "execute_result"
    }
   ],
   "source": [
    "ϵ = 2"
   ]
  },
  {
   "cell_type": "code",
   "execution_count": 17,
   "id": "4c4eeefe",
   "metadata": {},
   "outputs": [
    {
     "data": {
      "text/plain": [
       "\"2 > 1\""
      ]
     },
     "execution_count": 17,
     "metadata": {},
     "output_type": "execute_result"
    }
   ],
   "source": [
    "if 2 > 1 \n",
    "    \"2 > 1\"\n",
    "elseif 1 > 2\n",
    "    \"1 > 2\"\n",
    "else\n",
    "    \"?\"\n",
    "end"
   ]
  },
  {
   "cell_type": "code",
   "execution_count": 18,
   "id": "d21dc1ed",
   "metadata": {},
   "outputs": [
    {
     "data": {
      "text/plain": [
       "0.30000000000000004"
      ]
     },
     "execution_count": 18,
     "metadata": {},
     "output_type": "execute_result"
    }
   ],
   "source": [
    "0.1 + 0.2"
   ]
  },
  {
   "cell_type": "code",
   "execution_count": 19,
   "id": "1ec90249",
   "metadata": {},
   "outputs": [
    {
     "data": {
      "text/plain": [
       "false"
      ]
     },
     "execution_count": 19,
     "metadata": {},
     "output_type": "execute_result"
    }
   ],
   "source": [
    "0.3 == (0.1 + 0.2)"
   ]
  },
  {
   "cell_type": "markdown",
   "id": "6a4a899a",
   "metadata": {},
   "source": [
    "`\\approx` (will be operator version of `isapprox` function)"
   ]
  },
  {
   "cell_type": "code",
   "execution_count": 20,
   "id": "90f0ff82",
   "metadata": {},
   "outputs": [
    {
     "data": {
      "text/plain": [
       "true"
      ]
     },
     "execution_count": 20,
     "metadata": {},
     "output_type": "execute_result"
    }
   ],
   "source": [
    "0.3 ≈ (0.1 + 0.2)"
   ]
  },
  {
   "cell_type": "code",
   "execution_count": 21,
   "id": "28cba115",
   "metadata": {},
   "outputs": [
    {
     "data": {
      "text/plain": [
       "true"
      ]
     },
     "execution_count": 21,
     "metadata": {},
     "output_type": "execute_result"
    }
   ],
   "source": [
    "2 > 1 && 4 > 2"
   ]
  },
  {
   "cell_type": "code",
   "execution_count": 22,
   "id": "b5223e1c",
   "metadata": {},
   "outputs": [
    {
     "data": {
      "text/plain": [
       "2"
      ]
     },
     "execution_count": 22,
     "metadata": {},
     "output_type": "execute_result"
    }
   ],
   "source": [
    "x = 4\n",
    "x > 6 ? 1 : 2"
   ]
  },
  {
   "cell_type": "code",
   "execution_count": 23,
   "id": "c55b6806",
   "metadata": {},
   "outputs": [
    {
     "name": "stdout",
     "output_type": "stream",
     "text": [
      "1\n",
      "2\n",
      "3\n",
      "4\n"
     ]
    }
   ],
   "source": [
    "for i in [1, 2, 3, 4]\n",
    "  println(i)\n",
    "end"
   ]
  },
  {
   "cell_type": "markdown",
   "id": "aac67e62",
   "metadata": {},
   "source": [
    "Also have things like `while`. Blocks use `begin` and `end`."
   ]
  },
  {
   "cell_type": "code",
   "execution_count": 24,
   "id": "0df5b11a",
   "metadata": {},
   "outputs": [
    {
     "data": {
      "text/plain": [
       "5"
      ]
     },
     "execution_count": 24,
     "metadata": {},
     "output_type": "execute_result"
    }
   ],
   "source": [
    "begin\n",
    "    x = 3\n",
    "    x += 2\n",
    "    x\n",
    "end"
   ]
  },
  {
   "cell_type": "code",
   "execution_count": 26,
   "id": "c47c3347",
   "metadata": {},
   "outputs": [],
   "source": [
    "# comment"
   ]
  },
  {
   "cell_type": "code",
   "execution_count": 28,
   "id": "19c539ad",
   "metadata": {},
   "outputs": [
    {
     "data": {
      "text/plain": [
       "24"
      ]
     },
     "execution_count": 28,
     "metadata": {},
     "output_type": "execute_result"
    }
   ],
   "source": [
    "function a(x)\n",
    "    x + 12\n",
    "end\n",
    "\n",
    "a(12)"
   ]
  },
  {
   "cell_type": "code",
   "execution_count": 29,
   "id": "e84e918b",
   "metadata": {},
   "outputs": [
    {
     "data": {
      "text/plain": [
       "12"
      ]
     },
     "execution_count": 29,
     "metadata": {},
     "output_type": "execute_result"
    }
   ],
   "source": [
    "b(x) = x - 12\n",
    "b(24)"
   ]
  },
  {
   "cell_type": "code",
   "execution_count": 30,
   "id": "e4766226",
   "metadata": {},
   "outputs": [
    {
     "data": {
      "text/plain": [
       "fancy (generic function with 2 methods)"
      ]
     },
     "execution_count": 30,
     "metadata": {},
     "output_type": "execute_result"
    }
   ],
   "source": [
    "fancy(a, b = 12; c) = (a,b,c)"
   ]
  },
  {
   "cell_type": "code",
   "execution_count": 31,
   "id": "aa2c3dcd",
   "metadata": {},
   "outputs": [
    {
     "ename": "LoadError",
     "evalue": "MethodError: no method matching fancy(::Int64, ::Int64, ::Int64)\n\u001b[0mClosest candidates are:\n\u001b[0m  fancy(::Any, ::Any; c) at In[30]:1\n\u001b[0m  fancy(::Any) at In[30]:1",
     "output_type": "error",
     "traceback": [
      "MethodError: no method matching fancy(::Int64, ::Int64, ::Int64)\n\u001b[0mClosest candidates are:\n\u001b[0m  fancy(::Any, ::Any; c) at In[30]:1\n\u001b[0m  fancy(::Any) at In[30]:1",
      "",
      "Stacktrace:",
      " [1] top-level scope",
      "   @ In[31]:1"
     ]
    }
   ],
   "source": [
    "fancy(1,2,3)"
   ]
  },
  {
   "cell_type": "code",
   "execution_count": 32,
   "id": "53707118",
   "metadata": {},
   "outputs": [
    {
     "data": {
      "text/plain": [
       "(1, 2, 3)"
      ]
     },
     "execution_count": 32,
     "metadata": {},
     "output_type": "execute_result"
    }
   ],
   "source": [
    "fancy(1,2,c=3)"
   ]
  },
  {
   "cell_type": "code",
   "execution_count": 33,
   "id": "2f128cb7",
   "metadata": {},
   "outputs": [
    {
     "data": {
      "text/plain": [
       "(1, 12, 3)"
      ]
     },
     "execution_count": 33,
     "metadata": {},
     "output_type": "execute_result"
    }
   ],
   "source": [
    "fancy(1,c=3)"
   ]
  },
  {
   "cell_type": "code",
   "execution_count": 34,
   "id": "e1ea9826",
   "metadata": {},
   "outputs": [
    {
     "data": {
      "text/plain": [
       "fancy2 (generic function with 2 methods)"
      ]
     },
     "execution_count": 34,
     "metadata": {},
     "output_type": "execute_result"
    }
   ],
   "source": [
    "fancy2(a, b = 12; c, d = 4) = (a,b,c,d)"
   ]
  },
  {
   "cell_type": "code",
   "execution_count": 35,
   "id": "b972b349",
   "metadata": {},
   "outputs": [
    {
     "ename": "LoadError",
     "evalue": "UndefKeywordError: keyword argument c not assigned",
     "output_type": "error",
     "traceback": [
      "UndefKeywordError: keyword argument c not assigned",
      "",
      "Stacktrace:",
      " [1] fancy2(a::Int64, b::Int64)",
      "   @ Main ./In[34]:1",
      " [2] top-level scope",
      "   @ In[35]:1"
     ]
    }
   ],
   "source": [
    "fancy2(1, 2)"
   ]
  },
  {
   "cell_type": "code",
   "execution_count": 39,
   "id": "be7b8270",
   "metadata": {},
   "outputs": [
    {
     "data": {
      "text/plain": [
       "(1, 2, 3, 8)"
      ]
     },
     "execution_count": 39,
     "metadata": {},
     "output_type": "execute_result"
    }
   ],
   "source": [
    "fancy2(1,2,c=3,d=8)"
   ]
  },
  {
   "cell_type": "code",
   "execution_count": 38,
   "id": "6e3cabb3",
   "metadata": {},
   "outputs": [
    {
     "data": {
      "text/plain": [
       "(1, 2, 3, 4)"
      ]
     },
     "execution_count": 38,
     "metadata": {},
     "output_type": "execute_result"
    }
   ],
   "source": [
    "fancy2(1,2,c=3)"
   ]
  },
  {
   "cell_type": "code",
   "execution_count": 40,
   "id": "d2adfa59",
   "metadata": {},
   "outputs": [
    {
     "data": {
      "text/plain": [
       "5-element Vector{Int64}:\n",
       "   1\n",
       "   8\n",
       "  27\n",
       "  64\n",
       " 125"
      ]
     },
     "execution_count": 40,
     "metadata": {},
     "output_type": "execute_result"
    }
   ],
   "source": [
    "map(x -> x ^ 3, [1, 2, 3, 4, 5])"
   ]
  },
  {
   "cell_type": "code",
   "execution_count": 41,
   "id": "46c5fbda",
   "metadata": {},
   "outputs": [
    {
     "data": {
      "text/plain": [
       "100"
      ]
     },
     "execution_count": 41,
     "metadata": {},
     "output_type": "execute_result"
    }
   ],
   "source": [
    "sum(x -> x ^ 3, [1, 2, 3, 4])"
   ]
  },
  {
   "cell_type": "markdown",
   "id": "a88ff848",
   "metadata": {},
   "source": [
    "Special `do/end` syntax; when *first* argument is a function with one argument:"
   ]
  },
  {
   "cell_type": "code",
   "execution_count": 46,
   "id": "9c77b812",
   "metadata": {},
   "outputs": [
    {
     "data": {
      "text/plain": [
       "100"
      ]
     },
     "execution_count": 46,
     "metadata": {},
     "output_type": "execute_result"
    }
   ],
   "source": [
    "sum([1, 2, 3, 4]) do x\n",
    "   x ^ 3 \n",
    "end"
   ]
  },
  {
   "cell_type": "markdown",
   "id": "70a4beaf",
   "metadata": {},
   "source": [
    "Challenge from first chapter, write:"
   ]
  },
  {
   "cell_type": "code",
   "execution_count": 49,
   "id": "eb812300",
   "metadata": {},
   "outputs": [
    {
     "data": {
      "text/plain": [
       "winsorized_mean (generic function with 1 method)"
      ]
     },
     "execution_count": 49,
     "metadata": {},
     "output_type": "execute_result"
    }
   ],
   "source": [
    "function winsorized_mean(x, k)\n",
    "    # TODO\n",
    "end\n",
    "    "
   ]
  },
  {
   "cell_type": "markdown",
   "id": "98a967dc",
   "metadata": {},
   "source": [
    "One important note compared to other languages:\n",
    "\n",
    "> In Julia, functions and for and while loops introduce a new scope, but if and begin-end blocks do not."
   ]
  }
 ],
 "metadata": {
  "kernelspec": {
   "display_name": "Julia 1.8.5",
   "language": "julia",
   "name": "julia-1.8"
  },
  "language_info": {
   "file_extension": ".jl",
   "mimetype": "application/julia",
   "name": "julia",
   "version": "1.8.5"
  }
 },
 "nbformat": 4,
 "nbformat_minor": 5
}
