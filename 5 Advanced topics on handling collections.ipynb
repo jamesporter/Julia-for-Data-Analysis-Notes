{
 "cells": [
  {
   "cell_type": "markdown",
   "id": "a6be6d21",
   "metadata": {},
   "source": [
    "# Vectorizing"
   ]
  },
  {
   "cell_type": "code",
   "execution_count": 1,
   "id": "abf3be30",
   "metadata": {},
   "outputs": [
    {
     "data": {
      "text/plain": [
       "3-element Vector{Int64}:\n",
       "  4\n",
       " 10\n",
       " 18"
      ]
     },
     "execution_count": 1,
     "metadata": {},
     "output_type": "execute_result"
    }
   ],
   "source": [
    "a = [1,2,3]\n",
    "b = [4,5,6]\n",
    "\n",
    "a .* b"
   ]
  },
  {
   "cell_type": "markdown",
   "id": "88d09f3c",
   "metadata": {},
   "source": [
    "Dimensions should match:"
   ]
  },
  {
   "cell_type": "code",
   "execution_count": 2,
   "id": "67c19887",
   "metadata": {},
   "outputs": [
    {
     "ename": "LoadError",
     "evalue": "DimensionMismatch: arrays could not be broadcast to a common size; got a dimension with lengths 3 and 2",
     "output_type": "error",
     "traceback": [
      "DimensionMismatch: arrays could not be broadcast to a common size; got a dimension with lengths 3 and 2",
      "",
      "Stacktrace:",
      " [1] _bcs1",
      "   @ ./broadcast.jl:516 [inlined]",
      " [2] _bcs",
      "   @ ./broadcast.jl:510 [inlined]",
      " [3] broadcast_shape",
      "   @ ./broadcast.jl:504 [inlined]",
      " [4] combine_axes",
      "   @ ./broadcast.jl:499 [inlined]",
      " [5] instantiate",
      "   @ ./broadcast.jl:281 [inlined]",
      " [6] materialize(bc::Base.Broadcast.Broadcasted{Base.Broadcast.DefaultArrayStyle{1}, Nothing, typeof(*), Tuple{Vector{Int64}, Vector{Int64}}})",
      "   @ Base.Broadcast ./broadcast.jl:860",
      " [7] top-level scope",
      "   @ In[2]:1"
     ]
    }
   ],
   "source": [
    "[1, 2, 3] .* [6, 5]"
   ]
  },
  {
   "cell_type": "markdown",
   "id": "4d81f286",
   "metadata": {},
   "source": [
    "However, one element collections will be broadcast in obvious way"
   ]
  },
  {
   "cell_type": "code",
   "execution_count": 3,
   "id": "b8b8c434",
   "metadata": {},
   "outputs": [
    {
     "data": {
      "text/plain": [
       "3-element Vector{Int64}:\n",
       "  5\n",
       " 10\n",
       " 15"
      ]
     },
     "execution_count": 3,
     "metadata": {},
     "output_type": "execute_result"
    }
   ],
   "source": [
    "[1, 2, 3] .* [5]"
   ]
  },
  {
   "cell_type": "code",
   "execution_count": 5,
   "id": "11cf14c3",
   "metadata": {},
   "outputs": [
    {
     "data": {
      "text/plain": [
       "3×3 Matrix{Int64}:\n",
       " 1  2  3\n",
       " 2  4  6\n",
       " 3  6  9"
      ]
     },
     "execution_count": 5,
     "metadata": {},
     "output_type": "execute_result"
    }
   ],
   "source": [
    "[1,2,3] * [1 2 3]"
   ]
  },
  {
   "cell_type": "markdown",
   "id": "c3e8d786",
   "metadata": {},
   "source": [
    "But:"
   ]
  },
  {
   "cell_type": "code",
   "execution_count": 7,
   "id": "dfe8fae0",
   "metadata": {},
   "outputs": [
    {
     "data": {
      "text/plain": [
       "1-element Vector{Int64}:\n",
       " 14"
      ]
     },
     "execution_count": 7,
     "metadata": {},
     "output_type": "execute_result"
    }
   ],
   "source": [
    "[1 2 3] * [1,2,3]"
   ]
  },
  {
   "cell_type": "code",
   "execution_count": 8,
   "id": "cf758029",
   "metadata": {},
   "outputs": [
    {
     "data": {
      "text/plain": [
       "3-element Vector{Pair{Int64, Int64}}:\n",
       " 1 => 0\n",
       " 2 => 4\n",
       " 3 => 1"
      ]
     },
     "execution_count": 8,
     "metadata": {},
     "output_type": "execute_result"
    }
   ],
   "source": [
    "[1, 2, 3] .=> [0, 4, 1]"
   ]
  },
  {
   "cell_type": "code",
   "execution_count": 10,
   "id": "ee6e66fa",
   "metadata": {},
   "outputs": [
    {
     "data": {
      "text/latex": [
       "\\begin{verbatim}\n",
       "Pair(x, y)\n",
       "x => y\n",
       "\\end{verbatim}\n",
       "Construct a \\texttt{Pair} object with type \\texttt{Pair\\{typeof(x), typeof(y)\\}}. The elements are stored in the fields \\texttt{first} and \\texttt{second}. They can also be accessed via iteration (but a \\texttt{Pair} is treated as a single \"scalar\" for broadcasting operations).\n",
       "\n",
       "See also \\href{@ref}{\\texttt{Dict}}.\n",
       "\n",
       "\\section{Examples}\n",
       "\\begin{verbatim}\n",
       "julia> p = \"foo\" => 7\n",
       "\"foo\" => 7\n",
       "\n",
       "julia> typeof(p)\n",
       "Pair{String, Int64}\n",
       "\n",
       "julia> p.first\n",
       "\"foo\"\n",
       "\n",
       "julia> for x in p\n",
       "           println(x)\n",
       "       end\n",
       "foo\n",
       "7\n",
       "\\end{verbatim}\n"
      ],
      "text/markdown": [
       "```\n",
       "Pair(x, y)\n",
       "x => y\n",
       "```\n",
       "\n",
       "Construct a `Pair` object with type `Pair{typeof(x), typeof(y)}`. The elements are stored in the fields `first` and `second`. They can also be accessed via iteration (but a `Pair` is treated as a single \"scalar\" for broadcasting operations).\n",
       "\n",
       "See also [`Dict`](@ref).\n",
       "\n",
       "# Examples\n",
       "\n",
       "```jldoctest\n",
       "julia> p = \"foo\" => 7\n",
       "\"foo\" => 7\n",
       "\n",
       "julia> typeof(p)\n",
       "Pair{String, Int64}\n",
       "\n",
       "julia> p.first\n",
       "\"foo\"\n",
       "\n",
       "julia> for x in p\n",
       "           println(x)\n",
       "       end\n",
       "foo\n",
       "7\n",
       "```\n"
      ],
      "text/plain": [
       "\u001b[36m  Pair(x, y)\u001b[39m\n",
       "\u001b[36m  x => y\u001b[39m\n",
       "\n",
       "  Construct a \u001b[36mPair\u001b[39m object with type \u001b[36mPair{typeof(x), typeof(y)}\u001b[39m. The elements\n",
       "  are stored in the fields \u001b[36mfirst\u001b[39m and \u001b[36msecond\u001b[39m. They can also be accessed via\n",
       "  iteration (but a \u001b[36mPair\u001b[39m is treated as a single \"scalar\" for broadcasting\n",
       "  operations).\n",
       "\n",
       "  See also \u001b[36mDict\u001b[39m.\n",
       "\n",
       "\u001b[1m  Examples\u001b[22m\n",
       "\u001b[1m  ≡≡≡≡≡≡≡≡≡≡\u001b[22m\n",
       "\n",
       "\u001b[36m  julia> p = \"foo\" => 7\u001b[39m\n",
       "\u001b[36m  \"foo\" => 7\u001b[39m\n",
       "\u001b[36m  \u001b[39m\n",
       "\u001b[36m  julia> typeof(p)\u001b[39m\n",
       "\u001b[36m  Pair{String, Int64}\u001b[39m\n",
       "\u001b[36m  \u001b[39m\n",
       "\u001b[36m  julia> p.first\u001b[39m\n",
       "\u001b[36m  \"foo\"\u001b[39m\n",
       "\u001b[36m  \u001b[39m\n",
       "\u001b[36m  julia> for x in p\u001b[39m\n",
       "\u001b[36m             println(x)\u001b[39m\n",
       "\u001b[36m         end\u001b[39m\n",
       "\u001b[36m  foo\u001b[39m\n",
       "\u001b[36m  7\u001b[39m"
      ]
     },
     "execution_count": 10,
     "metadata": {},
     "output_type": "execute_result"
    }
   ],
   "source": [
    "?2 => 4"
   ]
  },
  {
   "cell_type": "code",
   "execution_count": 11,
   "id": "13d2d830",
   "metadata": {},
   "outputs": [
    {
     "data": {
      "text/plain": [
       "3-element BitVector:\n",
       " 1\n",
       " 0\n",
       " 1"
      ]
     },
     "execution_count": 11,
     "metadata": {},
     "output_type": "execute_result"
    }
   ],
   "source": [
    "[1, 2, 3] .>= [0, 4, 1]"
   ]
  },
  {
   "cell_type": "code",
   "execution_count": 12,
   "id": "78763f5f",
   "metadata": {},
   "outputs": [
    {
     "data": {
      "text/plain": [
       "true"
      ]
     },
     "execution_count": 12,
     "metadata": {},
     "output_type": "execute_result"
    }
   ],
   "source": [
    "1 in [1,2,3]"
   ]
  },
  {
   "cell_type": "code",
   "execution_count": 13,
   "id": "4fda7123",
   "metadata": {},
   "outputs": [
    {
     "data": {
      "text/plain": [
       "false"
      ]
     },
     "execution_count": 13,
     "metadata": {},
     "output_type": "execute_result"
    }
   ],
   "source": [
    "12 in [1,2,3]"
   ]
  },
  {
   "cell_type": "code",
   "execution_count": 14,
   "id": "d89871fc",
   "metadata": {},
   "outputs": [
    {
     "data": {
      "text/plain": [
       "true"
      ]
     },
     "execution_count": 14,
     "metadata": {},
     "output_type": "execute_result"
    }
   ],
   "source": [
    "in(1, [1,2,3])"
   ]
  },
  {
   "cell_type": "markdown",
   "id": "7ca66f70",
   "metadata": {},
   "source": [
    "> you can add a dot (.) before any operator to broadcast it. What about functions that are not operators? Here you also use a dot (.), but this time, you suffix it after the function name."
   ]
  },
  {
   "cell_type": "code",
   "execution_count": 15,
   "id": "7774e74f",
   "metadata": {},
   "outputs": [
    {
     "data": {
      "text/plain": [
       "5-element Vector{Int64}:\n",
       "  1\n",
       "  2\n",
       "  3\n",
       "  6\n",
       " 14"
      ]
     },
     "execution_count": 15,
     "metadata": {},
     "output_type": "execute_result"
    }
   ],
   "source": [
    "abs.([1, -2, 3, -6, -14])"
   ]
  },
  {
   "cell_type": "code",
   "execution_count": 17,
   "id": "dbe577c9",
   "metadata": {},
   "outputs": [
    {
     "data": {
      "text/latex": [
       "\\begin{verbatim}\n",
       "Ref{T}\n",
       "\\end{verbatim}\n",
       "An object that safely references data of type \\texttt{T}. This type is guaranteed to point to valid, Julia-allocated memory of the correct type. The underlying data is protected from freeing by the garbage collector as long as the \\texttt{Ref} itself is referenced.\n",
       "\n",
       "In Julia, \\texttt{Ref} objects are dereferenced (loaded or stored) with \\texttt{[]}.\n",
       "\n",
       "Creation of a \\texttt{Ref} to a value \\texttt{x} of type \\texttt{T} is usually written \\texttt{Ref(x)}. Additionally, for creating interior pointers to containers (such as Array or Ptr), it can be written \\texttt{Ref(a, i)} for creating a reference to the \\texttt{i}-th element of \\texttt{a}.\n",
       "\n",
       "\\texttt{Ref\\{T\\}()} creates a reference to a value of type \\texttt{T} without initialization. For a bitstype \\texttt{T}, the value will be whatever currently resides in the memory allocated. For a non-bitstype \\texttt{T}, the reference will be undefined and attempting to dereference it will result in an error, \"UndefRefError: access to undefined reference\".\n",
       "\n",
       "To check if a \\texttt{Ref} is an undefined reference, use \\href{@ref}{\\texttt{isassigned(ref::RefValue)}}. For example, \\texttt{isassigned(Ref\\{T\\}())} is \\texttt{false} if \\texttt{T} is not a bitstype. If \\texttt{T} is a bitstype, \\texttt{isassigned(Ref\\{T\\}())} will always be true.\n",
       "\n",
       "When passed as a \\texttt{ccall} argument (either as a \\texttt{Ptr} or \\texttt{Ref} type), a \\texttt{Ref} object will be converted to a native pointer to the data it references. For most \\texttt{T}, or when converted to a \\texttt{Ptr\\{Cvoid\\}}, this is a pointer to the object data. When \\texttt{T} is an \\texttt{isbits} type, this value may be safely mutated, otherwise mutation is strictly undefined behavior.\n",
       "\n",
       "As a special case, setting \\texttt{T = Any} will instead cause the creation of a pointer to the reference itself when converted to a \\texttt{Ptr\\{Any\\}} (a \\texttt{jl\\_value\\_t const* const*} if T is immutable, else a \\texttt{jl\\_value\\_t *const *}). When converted to a \\texttt{Ptr\\{Cvoid\\}}, it will still return a pointer to the data region as for any other \\texttt{T}.\n",
       "\n",
       "A \\texttt{C\\_NULL} instance of \\texttt{Ptr} can be passed to a \\texttt{ccall} \\texttt{Ref} argument to initialize it.\n",
       "\n",
       "\\section{Use in broadcasting}\n",
       "\\texttt{Ref} is sometimes used in broadcasting in order to treat the referenced values as a scalar.\n",
       "\n",
       "\\section{Examples}\n",
       "\\begin{verbatim}\n",
       "julia> Ref(5)\n",
       "Base.RefValue{Int64}(5)\n",
       "\n",
       "julia> isa.(Ref([1,2,3]), [Array, Dict, Int]) # Treat reference values as scalar during broadcasting\n",
       "3-element BitVector:\n",
       " 1\n",
       " 0\n",
       " 0\n",
       "\n",
       "julia> Ref{Function}()  # Undefined reference to a non-bitstype, Function\n",
       "Base.RefValue{Function}(#undef)\n",
       "\n",
       "julia> try\n",
       "           Ref{Function}()[] # Dereferencing an undefined reference will result in an error\n",
       "       catch e\n",
       "           println(e)\n",
       "       end\n",
       "UndefRefError()\n",
       "\n",
       "julia> Ref{Int64}()[]; # A reference to a bitstype refers to an undetermined value if not given\n",
       "\n",
       "julia> isassigned(Ref{Int64}()) # A reference to a bitstype is always assigned\n",
       "true\n",
       "\n",
       "julia> Ref{Int64}(0)[] == 0 # Explicitly give a value for a bitstype reference\n",
       "true\n",
       "\\end{verbatim}\n"
      ],
      "text/markdown": [
       "```\n",
       "Ref{T}\n",
       "```\n",
       "\n",
       "An object that safely references data of type `T`. This type is guaranteed to point to valid, Julia-allocated memory of the correct type. The underlying data is protected from freeing by the garbage collector as long as the `Ref` itself is referenced.\n",
       "\n",
       "In Julia, `Ref` objects are dereferenced (loaded or stored) with `[]`.\n",
       "\n",
       "Creation of a `Ref` to a value `x` of type `T` is usually written `Ref(x)`. Additionally, for creating interior pointers to containers (such as Array or Ptr), it can be written `Ref(a, i)` for creating a reference to the `i`-th element of `a`.\n",
       "\n",
       "`Ref{T}()` creates a reference to a value of type `T` without initialization. For a bitstype `T`, the value will be whatever currently resides in the memory allocated. For a non-bitstype `T`, the reference will be undefined and attempting to dereference it will result in an error, \"UndefRefError: access to undefined reference\".\n",
       "\n",
       "To check if a `Ref` is an undefined reference, use [`isassigned(ref::RefValue)`](@ref). For example, `isassigned(Ref{T}())` is `false` if `T` is not a bitstype. If `T` is a bitstype, `isassigned(Ref{T}())` will always be true.\n",
       "\n",
       "When passed as a `ccall` argument (either as a `Ptr` or `Ref` type), a `Ref` object will be converted to a native pointer to the data it references. For most `T`, or when converted to a `Ptr{Cvoid}`, this is a pointer to the object data. When `T` is an `isbits` type, this value may be safely mutated, otherwise mutation is strictly undefined behavior.\n",
       "\n",
       "As a special case, setting `T = Any` will instead cause the creation of a pointer to the reference itself when converted to a `Ptr{Any}` (a `jl_value_t const* const*` if T is immutable, else a `jl_value_t *const *`). When converted to a `Ptr{Cvoid}`, it will still return a pointer to the data region as for any other `T`.\n",
       "\n",
       "A `C_NULL` instance of `Ptr` can be passed to a `ccall` `Ref` argument to initialize it.\n",
       "\n",
       "# Use in broadcasting\n",
       "\n",
       "`Ref` is sometimes used in broadcasting in order to treat the referenced values as a scalar.\n",
       "\n",
       "# Examples\n",
       "\n",
       "```jldoctest\n",
       "julia> Ref(5)\n",
       "Base.RefValue{Int64}(5)\n",
       "\n",
       "julia> isa.(Ref([1,2,3]), [Array, Dict, Int]) # Treat reference values as scalar during broadcasting\n",
       "3-element BitVector:\n",
       " 1\n",
       " 0\n",
       " 0\n",
       "\n",
       "julia> Ref{Function}()  # Undefined reference to a non-bitstype, Function\n",
       "Base.RefValue{Function}(#undef)\n",
       "\n",
       "julia> try\n",
       "           Ref{Function}()[] # Dereferencing an undefined reference will result in an error\n",
       "       catch e\n",
       "           println(e)\n",
       "       end\n",
       "UndefRefError()\n",
       "\n",
       "julia> Ref{Int64}()[]; # A reference to a bitstype refers to an undetermined value if not given\n",
       "\n",
       "julia> isassigned(Ref{Int64}()) # A reference to a bitstype is always assigned\n",
       "true\n",
       "\n",
       "julia> Ref{Int64}(0)[] == 0 # Explicitly give a value for a bitstype reference\n",
       "true\n",
       "```\n"
      ],
      "text/plain": [
       "\u001b[36m  Ref{T}\u001b[39m\n",
       "\n",
       "  An object that safely references data of type \u001b[36mT\u001b[39m. This type is guaranteed to\n",
       "  point to valid, Julia-allocated memory of the correct type. The underlying\n",
       "  data is protected from freeing by the garbage collector as long as the \u001b[36mRef\u001b[39m\n",
       "  itself is referenced.\n",
       "\n",
       "  In Julia, \u001b[36mRef\u001b[39m objects are dereferenced (loaded or stored) with \u001b[36m[]\u001b[39m.\n",
       "\n",
       "  Creation of a \u001b[36mRef\u001b[39m to a value \u001b[36mx\u001b[39m of type \u001b[36mT\u001b[39m is usually written \u001b[36mRef(x)\u001b[39m.\n",
       "  Additionally, for creating interior pointers to containers (such as Array or\n",
       "  Ptr), it can be written \u001b[36mRef(a, i)\u001b[39m for creating a reference to the \u001b[36mi\u001b[39m-th\n",
       "  element of \u001b[36ma\u001b[39m.\n",
       "\n",
       "  \u001b[36mRef{T}()\u001b[39m creates a reference to a value of type \u001b[36mT\u001b[39m without initialization.\n",
       "  For a bitstype \u001b[36mT\u001b[39m, the value will be whatever currently resides in the memory\n",
       "  allocated. For a non-bitstype \u001b[36mT\u001b[39m, the reference will be undefined and\n",
       "  attempting to dereference it will result in an error, \"UndefRefError: access\n",
       "  to undefined reference\".\n",
       "\n",
       "  To check if a \u001b[36mRef\u001b[39m is an undefined reference, use \u001b[36misassigned(ref::RefValue)\u001b[39m.\n",
       "  For example, \u001b[36misassigned(Ref{T}())\u001b[39m is \u001b[36mfalse\u001b[39m if \u001b[36mT\u001b[39m is not a bitstype. If \u001b[36mT\u001b[39m is a\n",
       "  bitstype, \u001b[36misassigned(Ref{T}())\u001b[39m will always be true.\n",
       "\n",
       "  When passed as a \u001b[36mccall\u001b[39m argument (either as a \u001b[36mPtr\u001b[39m or \u001b[36mRef\u001b[39m type), a \u001b[36mRef\u001b[39m object\n",
       "  will be converted to a native pointer to the data it references. For most \u001b[36mT\u001b[39m,\n",
       "  or when converted to a \u001b[36mPtr{Cvoid}\u001b[39m, this is a pointer to the object data.\n",
       "  When \u001b[36mT\u001b[39m is an \u001b[36misbits\u001b[39m type, this value may be safely mutated, otherwise\n",
       "  mutation is strictly undefined behavior.\n",
       "\n",
       "  As a special case, setting \u001b[36mT = Any\u001b[39m will instead cause the creation of a\n",
       "  pointer to the reference itself when converted to a \u001b[36mPtr{Any}\u001b[39m (a \u001b[36mjl_value_t\n",
       "  const* const*\u001b[39m if T is immutable, else a \u001b[36mjl_value_t *const *\u001b[39m). When converted\n",
       "  to a \u001b[36mPtr{Cvoid}\u001b[39m, it will still return a pointer to the data region as for\n",
       "  any other \u001b[36mT\u001b[39m.\n",
       "\n",
       "  A \u001b[36mC_NULL\u001b[39m instance of \u001b[36mPtr\u001b[39m can be passed to a \u001b[36mccall\u001b[39m \u001b[36mRef\u001b[39m argument to initialize\n",
       "  it.\n",
       "\n",
       "\u001b[1m  Use in broadcasting\u001b[22m\n",
       "\u001b[1m  ≡≡≡≡≡≡≡≡≡≡≡≡≡≡≡≡≡≡≡≡≡\u001b[22m\n",
       "\n",
       "  \u001b[36mRef\u001b[39m is sometimes used in broadcasting in order to treat the referenced\n",
       "  values as a scalar.\n",
       "\n",
       "\u001b[1m  Examples\u001b[22m\n",
       "\u001b[1m  ≡≡≡≡≡≡≡≡≡≡\u001b[22m\n",
       "\n",
       "\u001b[36m  julia> Ref(5)\u001b[39m\n",
       "\u001b[36m  Base.RefValue{Int64}(5)\u001b[39m\n",
       "\u001b[36m  \u001b[39m\n",
       "\u001b[36m  julia> isa.(Ref([1,2,3]), [Array, Dict, Int]) # Treat reference values as scalar during broadcasting\u001b[39m\n",
       "\u001b[36m  3-element BitVector:\u001b[39m\n",
       "\u001b[36m   1\u001b[39m\n",
       "\u001b[36m   0\u001b[39m\n",
       "\u001b[36m   0\u001b[39m\n",
       "\u001b[36m  \u001b[39m\n",
       "\u001b[36m  julia> Ref{Function}()  # Undefined reference to a non-bitstype, Function\u001b[39m\n",
       "\u001b[36m  Base.RefValue{Function}(#undef)\u001b[39m\n",
       "\u001b[36m  \u001b[39m\n",
       "\u001b[36m  julia> try\u001b[39m\n",
       "\u001b[36m             Ref{Function}()[] # Dereferencing an undefined reference will result in an error\u001b[39m\n",
       "\u001b[36m         catch e\u001b[39m\n",
       "\u001b[36m             println(e)\u001b[39m\n",
       "\u001b[36m         end\u001b[39m\n",
       "\u001b[36m  UndefRefError()\u001b[39m\n",
       "\u001b[36m  \u001b[39m\n",
       "\u001b[36m  julia> Ref{Int64}()[]; # A reference to a bitstype refers to an undetermined value if not given\u001b[39m\n",
       "\u001b[36m  \u001b[39m\n",
       "\u001b[36m  julia> isassigned(Ref{Int64}()) # A reference to a bitstype is always assigned\u001b[39m\n",
       "\u001b[36m  true\u001b[39m\n",
       "\u001b[36m  \u001b[39m\n",
       "\u001b[36m  julia> Ref{Int64}(0)[] == 0 # Explicitly give a value for a bitstype reference\u001b[39m\n",
       "\u001b[36m  true\u001b[39m"
      ]
     },
     "execution_count": 17,
     "metadata": {},
     "output_type": "execute_result"
    }
   ],
   "source": [
    "?Ref(1)"
   ]
  },
  {
   "cell_type": "code",
   "execution_count": 18,
   "id": "882b299b",
   "metadata": {},
   "outputs": [
    {
     "data": {
      "text/plain": [
       "6-element BitVector:\n",
       " 1\n",
       " 1\n",
       " 1\n",
       " 0\n",
       " 0\n",
       " 0"
      ]
     },
     "execution_count": 18,
     "metadata": {},
     "output_type": "execute_result"
    }
   ],
   "source": [
    "in.([1, 3, 5, 7, 9, 11], Ref([1, 2, 3, 4, 5]))"
   ]
  },
  {
   "cell_type": "code",
   "execution_count": 19,
   "id": "75a1a800",
   "metadata": {},
   "outputs": [
    {
     "data": {
      "text/plain": [
       "11×8 Matrix{Float64}:\n",
       " 10.0   8.04  10.0  9.14  10.0   7.46   8.0   6.58\n",
       "  8.0   6.95   8.0  8.14   8.0   6.77   8.0   5.76\n",
       " 13.0   7.58  13.0  8.74  13.0  12.74   8.0   7.71\n",
       "  9.0   8.81   9.0  8.77   9.0   7.11   8.0   8.84\n",
       " 11.0   8.33  11.0  9.26  11.0   7.81   8.0   8.47\n",
       " 14.0   9.96  14.0  8.1   14.0   8.84   8.0   7.04\n",
       "  6.0   7.24   6.0  6.13   6.0   6.08   8.0   5.25\n",
       "  4.0   4.26   4.0  3.1    4.0   5.39  19.0  12.5\n",
       " 12.0  10.84  12.0  9.13  12.0   8.15   8.0   5.56\n",
       "  7.0   4.82   7.0  7.26   7.0   6.42   8.0   7.91\n",
       "  5.0   5.68   5.0  4.74   5.0   5.73   8.0   6.89"
      ]
     },
     "execution_count": 19,
     "metadata": {},
     "output_type": "execute_result"
    }
   ],
   "source": [
    "aq = [10.0   8.04  10.0  9.14  10.0   7.46   8.0   6.58\n",
    "                      8.0   6.95   8.0  8.14   8.0   6.77   8.0   5.76\n",
    "                     13.0   7.58  13.0  8.74  13.0  12.74   8.0   7.71\n",
    "                      9.0   8.81   9.0  8.77   9.0   7.11   8.0   8.84\n",
    "                     11.0   8.33  11.0  9.26  11.0   7.81   8.0   8.47\n",
    "                     14.0   9.96  14.0  8.1   14.0   8.84   8.0   7.04\n",
    "                      6.0   7.24   6.0  6.13   6.0   6.08   8.0   5.25\n",
    "                      4.0   4.26   4.0  3.1    4.0   5.39  19.0  12.50\n",
    "                     12.0  10.84  12.0  9.13  12.0   8.15   8.0   5.56\n",
    "                      7.0   4.82   7.0  7.26   7.0   6.42   8.0   7.91\n",
    "                      5.0   5.68   5.0  4.74   5.0   5.73   8.0   6.89]"
   ]
  },
  {
   "cell_type": "code",
   "execution_count": 20,
   "id": "93769135",
   "metadata": {},
   "outputs": [],
   "source": [
    "using Statistics"
   ]
  },
  {
   "cell_type": "code",
   "execution_count": 21,
   "id": "4f9da748",
   "metadata": {},
   "outputs": [
    {
     "data": {
      "text/plain": [
       "8-element Vector{Float64}:\n",
       " 9.0\n",
       " 7.500909090909093\n",
       " 9.0\n",
       " 7.500909090909091\n",
       " 9.0\n",
       " 7.500000000000001\n",
       " 9.0\n",
       " 7.50090909090909"
      ]
     },
     "execution_count": 21,
     "metadata": {},
     "output_type": "execute_result"
    }
   ],
   "source": [
    "mean.(eachcol(aq))"
   ]
  },
  {
   "cell_type": "code",
   "execution_count": 24,
   "id": "95fe70a0",
   "metadata": {},
   "outputs": [
    {
     "data": {
      "text/plain": [
       "R2 (generic function with 1 method)"
      ]
     },
     "execution_count": 24,
     "metadata": {},
     "output_type": "execute_result"
    }
   ],
   "source": [
    "# function R2(x, y)\n",
    "# X = [ones(11) x]\n",
    "#     model = X \\ y\n",
    "#     prediction = X * model\n",
    "#     error = y - prediction\n",
    "#     SS_res = sum(v -> v ^ 2, error)\n",
    "#     mean_y = mean(y)\n",
    "#     SS_tot = sum(v -> (v - mean_y) ^ 2, y)\n",
    "#     return 1 - SS_res / SS_tot\n",
    "# end\n",
    "\n",
    "# becomes:\n",
    "\n",
    "function R2(x, y)\n",
    "X = [ones(11) x]\n",
    "    model = X \\ y\n",
    "    prediction = X * model\n",
    "    SS_res = sum((y .- prediction) .^ 2)\n",
    "    SS_tot = sum((y .- mean(y)) .^ 2)\n",
    "    return 1 - SS_res / SS_tot\n",
    "end"
   ]
  },
  {
   "cell_type": "code",
   "execution_count": null,
   "id": "9d6b73b1",
   "metadata": {},
   "outputs": [],
   "source": []
  },
  {
   "cell_type": "code",
   "execution_count": null,
   "id": "c0d90282",
   "metadata": {},
   "outputs": [],
   "source": []
  }
 ],
 "metadata": {
  "kernelspec": {
   "display_name": "Julia 1.8.5",
   "language": "julia",
   "name": "julia-1.8"
  },
  "language_info": {
   "file_extension": ".jl",
   "mimetype": "application/julia",
   "name": "julia",
   "version": "1.8.5"
  }
 },
 "nbformat": 4,
 "nbformat_minor": 5
}
