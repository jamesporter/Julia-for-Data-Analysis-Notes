{
 "cells": [
  {
   "cell_type": "markdown",
   "id": "a6be6d21",
   "metadata": {},
   "source": [
    "# Vectorizing"
   ]
  },
  {
   "cell_type": "code",
   "execution_count": null,
   "id": "5bcf43bb",
   "metadata": {},
   "outputs": [],
   "source": []
  },
  {
   "cell_type": "code",
   "execution_count": 3,
   "id": "abf3be30",
   "metadata": {},
   "outputs": [
    {
     "data": {
      "text/plain": [
       "3-element Vector{Int64}:\n",
       "  4\n",
       " 10\n",
       " 18"
      ]
     },
     "execution_count": 3,
     "metadata": {},
     "output_type": "execute_result"
    }
   ],
   "source": [
    "a = [1,2,3]\n",
    "b = [4,5,6]\n",
    "\n",
    "a .* b"
   ]
  },
  {
   "cell_type": "code",
   "execution_count": 2,
   "id": "1f9b4774",
   "metadata": {},
   "outputs": [
    {
     "ename": "LoadError",
     "evalue": "MethodError: no method matching *(::Vector{Int64}, ::Vector{Int64})\n\u001b[0mClosest candidates are:\n\u001b[0m  *(::Any, ::Any, \u001b[91m::Any\u001b[39m, \u001b[91m::Any...\u001b[39m) at operators.jl:591\n\u001b[0m  *(\u001b[91m::StridedMatrix{T}\u001b[39m, ::StridedVector{S}) where {T<:Union{Float32, Float64, ComplexF32, ComplexF64}, S<:Real} at /Applications/Julia-1.8.app/Contents/Resources/julia/share/julia/stdlib/v1.8/LinearAlgebra/src/matmul.jl:49\n\u001b[0m  *(::StridedVecOrMat, \u001b[91m::LinearAlgebra.Adjoint{<:Any, <:LinearAlgebra.LQPackedQ}\u001b[39m) at /Applications/Julia-1.8.app/Contents/Resources/julia/share/julia/stdlib/v1.8/LinearAlgebra/src/lq.jl:269\n\u001b[0m  ...",
     "output_type": "error",
     "traceback": [
      "MethodError: no method matching *(::Vector{Int64}, ::Vector{Int64})\n\u001b[0mClosest candidates are:\n\u001b[0m  *(::Any, ::Any, \u001b[91m::Any\u001b[39m, \u001b[91m::Any...\u001b[39m) at operators.jl:591\n\u001b[0m  *(\u001b[91m::StridedMatrix{T}\u001b[39m, ::StridedVector{S}) where {T<:Union{Float32, Float64, ComplexF32, ComplexF64}, S<:Real} at /Applications/Julia-1.8.app/Contents/Resources/julia/share/julia/stdlib/v1.8/LinearAlgebra/src/matmul.jl:49\n\u001b[0m  *(::StridedVecOrMat, \u001b[91m::LinearAlgebra.Adjoint{<:Any, <:LinearAlgebra.LQPackedQ}\u001b[39m) at /Applications/Julia-1.8.app/Contents/Resources/julia/share/julia/stdlib/v1.8/LinearAlgebra/src/lq.jl:269\n\u001b[0m  ...",
      "",
      "Stacktrace:",
      " [1] top-level scope",
      "   @ In[2]:1"
     ]
    }
   ],
   "source": [
    "a * b"
   ]
  },
  {
   "cell_type": "markdown",
   "id": "88d09f3c",
   "metadata": {},
   "source": [
    "Dimensions should match:"
   ]
  },
  {
   "cell_type": "code",
   "execution_count": 4,
   "id": "67c19887",
   "metadata": {},
   "outputs": [
    {
     "ename": "LoadError",
     "evalue": "DimensionMismatch: arrays could not be broadcast to a common size; got a dimension with lengths 3 and 2",
     "output_type": "error",
     "traceback": [
      "DimensionMismatch: arrays could not be broadcast to a common size; got a dimension with lengths 3 and 2",
      "",
      "Stacktrace:",
      " [1] _bcs1",
      "   @ ./broadcast.jl:516 [inlined]",
      " [2] _bcs",
      "   @ ./broadcast.jl:510 [inlined]",
      " [3] broadcast_shape",
      "   @ ./broadcast.jl:504 [inlined]",
      " [4] combine_axes",
      "   @ ./broadcast.jl:499 [inlined]",
      " [5] instantiate",
      "   @ ./broadcast.jl:281 [inlined]",
      " [6] materialize(bc::Base.Broadcast.Broadcasted{Base.Broadcast.DefaultArrayStyle{1}, Nothing, typeof(*), Tuple{Vector{Int64}, Vector{Int64}}})",
      "   @ Base.Broadcast ./broadcast.jl:860",
      " [7] top-level scope",
      "   @ In[4]:1"
     ]
    }
   ],
   "source": [
    "[1, 2, 3] .* [6, 5]"
   ]
  },
  {
   "cell_type": "markdown",
   "id": "4d81f286",
   "metadata": {},
   "source": [
    "However, one element collections will be broadcast in obvious way"
   ]
  },
  {
   "cell_type": "code",
   "execution_count": 5,
   "id": "b8b8c434",
   "metadata": {},
   "outputs": [
    {
     "data": {
      "text/plain": [
       "3-element Vector{Int64}:\n",
       "  5\n",
       " 10\n",
       " 15"
      ]
     },
     "execution_count": 5,
     "metadata": {},
     "output_type": "execute_result"
    }
   ],
   "source": [
    "[1, 2, 3] .* [5]"
   ]
  },
  {
   "cell_type": "code",
   "execution_count": 6,
   "id": "17c14e33",
   "metadata": {},
   "outputs": [
    {
     "data": {
      "text/plain": [
       "3-element Vector{Int64}:\n",
       "  5\n",
       " 10\n",
       " 15"
      ]
     },
     "execution_count": 6,
     "metadata": {},
     "output_type": "execute_result"
    }
   ],
   "source": [
    "[1, 2, 3] .* 5"
   ]
  },
  {
   "cell_type": "code",
   "execution_count": 7,
   "id": "11cf14c3",
   "metadata": {},
   "outputs": [
    {
     "data": {
      "text/plain": [
       "3×3 Matrix{Int64}:\n",
       " 1  2  3\n",
       " 2  4  6\n",
       " 3  6  9"
      ]
     },
     "execution_count": 7,
     "metadata": {},
     "output_type": "execute_result"
    }
   ],
   "source": [
    "[1,2,3] * [1 2 3]"
   ]
  },
  {
   "cell_type": "code",
   "execution_count": 8,
   "id": "659b1771",
   "metadata": {},
   "outputs": [
    {
     "data": {
      "text/plain": [
       "Matrix{Int64}\u001b[90m (alias for \u001b[39m\u001b[90mArray{Int64, 2}\u001b[39m\u001b[90m)\u001b[39m"
      ]
     },
     "execution_count": 8,
     "metadata": {},
     "output_type": "execute_result"
    }
   ],
   "source": [
    "typeof([1 2 3])"
   ]
  },
  {
   "cell_type": "code",
   "execution_count": null,
   "id": "b3984880",
   "metadata": {},
   "outputs": [],
   "source": []
  },
  {
   "cell_type": "code",
   "execution_count": null,
   "id": "d92090ea",
   "metadata": {},
   "outputs": [],
   "source": []
  },
  {
   "cell_type": "code",
   "execution_count": null,
   "id": "8063bdff",
   "metadata": {},
   "outputs": [],
   "source": []
  },
  {
   "cell_type": "markdown",
   "id": "c3e8d786",
   "metadata": {},
   "source": [
    "But:"
   ]
  },
  {
   "cell_type": "code",
   "execution_count": 5,
   "id": "dfe8fae0",
   "metadata": {},
   "outputs": [
    {
     "data": {
      "text/plain": [
       "1-element Vector{Int64}:\n",
       " 14"
      ]
     },
     "execution_count": 5,
     "metadata": {},
     "output_type": "execute_result"
    }
   ],
   "source": [
    "[1 2 3] * [1,2,3]"
   ]
  },
  {
   "cell_type": "code",
   "execution_count": 10,
   "id": "9155806f",
   "metadata": {},
   "outputs": [
    {
     "data": {
      "text/plain": [
       "1 => 2"
      ]
     },
     "execution_count": 10,
     "metadata": {},
     "output_type": "execute_result"
    }
   ],
   "source": [
    "1 => 2"
   ]
  },
  {
   "cell_type": "code",
   "execution_count": 9,
   "id": "cf758029",
   "metadata": {},
   "outputs": [
    {
     "data": {
      "text/plain": [
       "3-element Vector{Pair{Int64, Int64}}:\n",
       " 1 => 0\n",
       " 2 => 4\n",
       " 3 => 1"
      ]
     },
     "execution_count": 9,
     "metadata": {},
     "output_type": "execute_result"
    }
   ],
   "source": [
    "[1, 2, 3] .=> [0, 4, 1]"
   ]
  },
  {
   "cell_type": "code",
   "execution_count": 7,
   "id": "ee6e66fa",
   "metadata": {},
   "outputs": [
    {
     "data": {
      "text/latex": [
       "\\begin{verbatim}\n",
       "Pair(x, y)\n",
       "x => y\n",
       "\\end{verbatim}\n",
       "Construct a \\texttt{Pair} object with type \\texttt{Pair\\{typeof(x), typeof(y)\\}}. The elements are stored in the fields \\texttt{first} and \\texttt{second}. They can also be accessed via iteration (but a \\texttt{Pair} is treated as a single \"scalar\" for broadcasting operations).\n",
       "\n",
       "See also \\href{@ref}{\\texttt{Dict}}.\n",
       "\n",
       "\\section{Examples}\n",
       "\\begin{verbatim}\n",
       "julia> p = \"foo\" => 7\n",
       "\"foo\" => 7\n",
       "\n",
       "julia> typeof(p)\n",
       "Pair{String, Int64}\n",
       "\n",
       "julia> p.first\n",
       "\"foo\"\n",
       "\n",
       "julia> for x in p\n",
       "           println(x)\n",
       "       end\n",
       "foo\n",
       "7\n",
       "\\end{verbatim}\n"
      ],
      "text/markdown": [
       "```\n",
       "Pair(x, y)\n",
       "x => y\n",
       "```\n",
       "\n",
       "Construct a `Pair` object with type `Pair{typeof(x), typeof(y)}`. The elements are stored in the fields `first` and `second`. They can also be accessed via iteration (but a `Pair` is treated as a single \"scalar\" for broadcasting operations).\n",
       "\n",
       "See also [`Dict`](@ref).\n",
       "\n",
       "# Examples\n",
       "\n",
       "```jldoctest\n",
       "julia> p = \"foo\" => 7\n",
       "\"foo\" => 7\n",
       "\n",
       "julia> typeof(p)\n",
       "Pair{String, Int64}\n",
       "\n",
       "julia> p.first\n",
       "\"foo\"\n",
       "\n",
       "julia> for x in p\n",
       "           println(x)\n",
       "       end\n",
       "foo\n",
       "7\n",
       "```\n"
      ],
      "text/plain": [
       "\u001b[36m  Pair(x, y)\u001b[39m\n",
       "\u001b[36m  x => y\u001b[39m\n",
       "\n",
       "  Construct a \u001b[36mPair\u001b[39m object with type \u001b[36mPair{typeof(x), typeof(y)}\u001b[39m. The elements\n",
       "  are stored in the fields \u001b[36mfirst\u001b[39m and \u001b[36msecond\u001b[39m. They can also be accessed via\n",
       "  iteration (but a \u001b[36mPair\u001b[39m is treated as a single \"scalar\" for broadcasting\n",
       "  operations).\n",
       "\n",
       "  See also \u001b[36mDict\u001b[39m.\n",
       "\n",
       "\u001b[1m  Examples\u001b[22m\n",
       "\u001b[1m  ≡≡≡≡≡≡≡≡≡≡\u001b[22m\n",
       "\n",
       "\u001b[36m  julia> p = \"foo\" => 7\u001b[39m\n",
       "\u001b[36m  \"foo\" => 7\u001b[39m\n",
       "\u001b[36m  \u001b[39m\n",
       "\u001b[36m  julia> typeof(p)\u001b[39m\n",
       "\u001b[36m  Pair{String, Int64}\u001b[39m\n",
       "\u001b[36m  \u001b[39m\n",
       "\u001b[36m  julia> p.first\u001b[39m\n",
       "\u001b[36m  \"foo\"\u001b[39m\n",
       "\u001b[36m  \u001b[39m\n",
       "\u001b[36m  julia> for x in p\u001b[39m\n",
       "\u001b[36m             println(x)\u001b[39m\n",
       "\u001b[36m         end\u001b[39m\n",
       "\u001b[36m  foo\u001b[39m\n",
       "\u001b[36m  7\u001b[39m"
      ]
     },
     "execution_count": 7,
     "metadata": {},
     "output_type": "execute_result"
    }
   ],
   "source": [
    "?2 => 4"
   ]
  },
  {
   "cell_type": "code",
   "execution_count": 11,
   "id": "13d2d830",
   "metadata": {},
   "outputs": [
    {
     "data": {
      "text/plain": [
       "3-element BitVector:\n",
       " 1\n",
       " 0\n",
       " 1"
      ]
     },
     "execution_count": 11,
     "metadata": {},
     "output_type": "execute_result"
    }
   ],
   "source": [
    "[1, 2, 3] .>= [0, 4, 1]"
   ]
  },
  {
   "cell_type": "code",
   "execution_count": 14,
   "id": "ad2a32bb",
   "metadata": {},
   "outputs": [
    {
     "data": {
      "text/plain": [
       "true"
      ]
     },
     "execution_count": 14,
     "metadata": {},
     "output_type": "execute_result"
    }
   ],
   "source": [
    "1 >= 0"
   ]
  },
  {
   "cell_type": "code",
   "execution_count": 15,
   "id": "78763f5f",
   "metadata": {},
   "outputs": [
    {
     "data": {
      "text/plain": [
       "true"
      ]
     },
     "execution_count": 15,
     "metadata": {},
     "output_type": "execute_result"
    }
   ],
   "source": [
    "1 in [1,2,3]"
   ]
  },
  {
   "cell_type": "code",
   "execution_count": 16,
   "id": "4fda7123",
   "metadata": {},
   "outputs": [
    {
     "data": {
      "text/plain": [
       "false"
      ]
     },
     "execution_count": 16,
     "metadata": {},
     "output_type": "execute_result"
    }
   ],
   "source": [
    "12 in [1,2,3]"
   ]
  },
  {
   "cell_type": "code",
   "execution_count": 17,
   "id": "d89871fc",
   "metadata": {},
   "outputs": [
    {
     "data": {
      "text/plain": [
       "true"
      ]
     },
     "execution_count": 17,
     "metadata": {},
     "output_type": "execute_result"
    }
   ],
   "source": [
    "in(1, [1,2,3])"
   ]
  },
  {
   "cell_type": "markdown",
   "id": "7ca66f70",
   "metadata": {},
   "source": [
    "> you can add a dot (.) before any operator to broadcast it. What about functions that are not operators? Here you also use a dot (.), but this time, you suffix it after the function name."
   ]
  },
  {
   "cell_type": "code",
   "execution_count": 19,
   "id": "7774e74f",
   "metadata": {},
   "outputs": [
    {
     "data": {
      "text/plain": [
       "5-element Vector{Int64}:\n",
       "  1\n",
       "  2\n",
       "  3\n",
       "  6\n",
       " 14"
      ]
     },
     "execution_count": 19,
     "metadata": {},
     "output_type": "execute_result"
    }
   ],
   "source": [
    "abs.([1, -2, 3, -6, -14])"
   ]
  },
  {
   "cell_type": "code",
   "execution_count": 20,
   "id": "dbe577c9",
   "metadata": {},
   "outputs": [
    {
     "data": {
      "text/latex": [
       "\\begin{verbatim}\n",
       "Ref{T}\n",
       "\\end{verbatim}\n",
       "An object that safely references data of type \\texttt{T}. This type is guaranteed to point to valid, Julia-allocated memory of the correct type. The underlying data is protected from freeing by the garbage collector as long as the \\texttt{Ref} itself is referenced.\n",
       "\n",
       "In Julia, \\texttt{Ref} objects are dereferenced (loaded or stored) with \\texttt{[]}.\n",
       "\n",
       "Creation of a \\texttt{Ref} to a value \\texttt{x} of type \\texttt{T} is usually written \\texttt{Ref(x)}. Additionally, for creating interior pointers to containers (such as Array or Ptr), it can be written \\texttt{Ref(a, i)} for creating a reference to the \\texttt{i}-th element of \\texttt{a}.\n",
       "\n",
       "\\texttt{Ref\\{T\\}()} creates a reference to a value of type \\texttt{T} without initialization. For a bitstype \\texttt{T}, the value will be whatever currently resides in the memory allocated. For a non-bitstype \\texttt{T}, the reference will be undefined and attempting to dereference it will result in an error, \"UndefRefError: access to undefined reference\".\n",
       "\n",
       "To check if a \\texttt{Ref} is an undefined reference, use \\href{@ref}{\\texttt{isassigned(ref::RefValue)}}. For example, \\texttt{isassigned(Ref\\{T\\}())} is \\texttt{false} if \\texttt{T} is not a bitstype. If \\texttt{T} is a bitstype, \\texttt{isassigned(Ref\\{T\\}())} will always be true.\n",
       "\n",
       "When passed as a \\texttt{ccall} argument (either as a \\texttt{Ptr} or \\texttt{Ref} type), a \\texttt{Ref} object will be converted to a native pointer to the data it references. For most \\texttt{T}, or when converted to a \\texttt{Ptr\\{Cvoid\\}}, this is a pointer to the object data. When \\texttt{T} is an \\texttt{isbits} type, this value may be safely mutated, otherwise mutation is strictly undefined behavior.\n",
       "\n",
       "As a special case, setting \\texttt{T = Any} will instead cause the creation of a pointer to the reference itself when converted to a \\texttt{Ptr\\{Any\\}} (a \\texttt{jl\\_value\\_t const* const*} if T is immutable, else a \\texttt{jl\\_value\\_t *const *}). When converted to a \\texttt{Ptr\\{Cvoid\\}}, it will still return a pointer to the data region as for any other \\texttt{T}.\n",
       "\n",
       "A \\texttt{C\\_NULL} instance of \\texttt{Ptr} can be passed to a \\texttt{ccall} \\texttt{Ref} argument to initialize it.\n",
       "\n",
       "\\section{Use in broadcasting}\n",
       "\\texttt{Ref} is sometimes used in broadcasting in order to treat the referenced values as a scalar.\n",
       "\n",
       "\\section{Examples}\n",
       "\\begin{verbatim}\n",
       "julia> Ref(5)\n",
       "Base.RefValue{Int64}(5)\n",
       "\n",
       "julia> isa.(Ref([1,2,3]), [Array, Dict, Int]) # Treat reference values as scalar during broadcasting\n",
       "3-element BitVector:\n",
       " 1\n",
       " 0\n",
       " 0\n",
       "\n",
       "julia> Ref{Function}()  # Undefined reference to a non-bitstype, Function\n",
       "Base.RefValue{Function}(#undef)\n",
       "\n",
       "julia> try\n",
       "           Ref{Function}()[] # Dereferencing an undefined reference will result in an error\n",
       "       catch e\n",
       "           println(e)\n",
       "       end\n",
       "UndefRefError()\n",
       "\n",
       "julia> Ref{Int64}()[]; # A reference to a bitstype refers to an undetermined value if not given\n",
       "\n",
       "julia> isassigned(Ref{Int64}()) # A reference to a bitstype is always assigned\n",
       "true\n",
       "\n",
       "julia> Ref{Int64}(0)[] == 0 # Explicitly give a value for a bitstype reference\n",
       "true\n",
       "\\end{verbatim}\n"
      ],
      "text/markdown": [
       "```\n",
       "Ref{T}\n",
       "```\n",
       "\n",
       "An object that safely references data of type `T`. This type is guaranteed to point to valid, Julia-allocated memory of the correct type. The underlying data is protected from freeing by the garbage collector as long as the `Ref` itself is referenced.\n",
       "\n",
       "In Julia, `Ref` objects are dereferenced (loaded or stored) with `[]`.\n",
       "\n",
       "Creation of a `Ref` to a value `x` of type `T` is usually written `Ref(x)`. Additionally, for creating interior pointers to containers (such as Array or Ptr), it can be written `Ref(a, i)` for creating a reference to the `i`-th element of `a`.\n",
       "\n",
       "`Ref{T}()` creates a reference to a value of type `T` without initialization. For a bitstype `T`, the value will be whatever currently resides in the memory allocated. For a non-bitstype `T`, the reference will be undefined and attempting to dereference it will result in an error, \"UndefRefError: access to undefined reference\".\n",
       "\n",
       "To check if a `Ref` is an undefined reference, use [`isassigned(ref::RefValue)`](@ref). For example, `isassigned(Ref{T}())` is `false` if `T` is not a bitstype. If `T` is a bitstype, `isassigned(Ref{T}())` will always be true.\n",
       "\n",
       "When passed as a `ccall` argument (either as a `Ptr` or `Ref` type), a `Ref` object will be converted to a native pointer to the data it references. For most `T`, or when converted to a `Ptr{Cvoid}`, this is a pointer to the object data. When `T` is an `isbits` type, this value may be safely mutated, otherwise mutation is strictly undefined behavior.\n",
       "\n",
       "As a special case, setting `T = Any` will instead cause the creation of a pointer to the reference itself when converted to a `Ptr{Any}` (a `jl_value_t const* const*` if T is immutable, else a `jl_value_t *const *`). When converted to a `Ptr{Cvoid}`, it will still return a pointer to the data region as for any other `T`.\n",
       "\n",
       "A `C_NULL` instance of `Ptr` can be passed to a `ccall` `Ref` argument to initialize it.\n",
       "\n",
       "# Use in broadcasting\n",
       "\n",
       "`Ref` is sometimes used in broadcasting in order to treat the referenced values as a scalar.\n",
       "\n",
       "# Examples\n",
       "\n",
       "```jldoctest\n",
       "julia> Ref(5)\n",
       "Base.RefValue{Int64}(5)\n",
       "\n",
       "julia> isa.(Ref([1,2,3]), [Array, Dict, Int]) # Treat reference values as scalar during broadcasting\n",
       "3-element BitVector:\n",
       " 1\n",
       " 0\n",
       " 0\n",
       "\n",
       "julia> Ref{Function}()  # Undefined reference to a non-bitstype, Function\n",
       "Base.RefValue{Function}(#undef)\n",
       "\n",
       "julia> try\n",
       "           Ref{Function}()[] # Dereferencing an undefined reference will result in an error\n",
       "       catch e\n",
       "           println(e)\n",
       "       end\n",
       "UndefRefError()\n",
       "\n",
       "julia> Ref{Int64}()[]; # A reference to a bitstype refers to an undetermined value if not given\n",
       "\n",
       "julia> isassigned(Ref{Int64}()) # A reference to a bitstype is always assigned\n",
       "true\n",
       "\n",
       "julia> Ref{Int64}(0)[] == 0 # Explicitly give a value for a bitstype reference\n",
       "true\n",
       "```\n"
      ],
      "text/plain": [
       "\u001b[36m  Ref{T}\u001b[39m\n",
       "\n",
       "  An object that safely references data of type \u001b[36mT\u001b[39m. This type is guaranteed to\n",
       "  point to valid, Julia-allocated memory of the correct type. The underlying\n",
       "  data is protected from freeing by the garbage collector as long as the \u001b[36mRef\u001b[39m\n",
       "  itself is referenced.\n",
       "\n",
       "  In Julia, \u001b[36mRef\u001b[39m objects are dereferenced (loaded or stored) with \u001b[36m[]\u001b[39m.\n",
       "\n",
       "  Creation of a \u001b[36mRef\u001b[39m to a value \u001b[36mx\u001b[39m of type \u001b[36mT\u001b[39m is usually written \u001b[36mRef(x)\u001b[39m.\n",
       "  Additionally, for creating interior pointers to containers (such as Array or\n",
       "  Ptr), it can be written \u001b[36mRef(a, i)\u001b[39m for creating a reference to the \u001b[36mi\u001b[39m-th\n",
       "  element of \u001b[36ma\u001b[39m.\n",
       "\n",
       "  \u001b[36mRef{T}()\u001b[39m creates a reference to a value of type \u001b[36mT\u001b[39m without initialization.\n",
       "  For a bitstype \u001b[36mT\u001b[39m, the value will be whatever currently resides in the memory\n",
       "  allocated. For a non-bitstype \u001b[36mT\u001b[39m, the reference will be undefined and\n",
       "  attempting to dereference it will result in an error, \"UndefRefError: access\n",
       "  to undefined reference\".\n",
       "\n",
       "  To check if a \u001b[36mRef\u001b[39m is an undefined reference, use \u001b[36misassigned(ref::RefValue)\u001b[39m.\n",
       "  For example, \u001b[36misassigned(Ref{T}())\u001b[39m is \u001b[36mfalse\u001b[39m if \u001b[36mT\u001b[39m is not a bitstype. If \u001b[36mT\u001b[39m is a\n",
       "  bitstype, \u001b[36misassigned(Ref{T}())\u001b[39m will always be true.\n",
       "\n",
       "  When passed as a \u001b[36mccall\u001b[39m argument (either as a \u001b[36mPtr\u001b[39m or \u001b[36mRef\u001b[39m type), a \u001b[36mRef\u001b[39m object\n",
       "  will be converted to a native pointer to the data it references. For most \u001b[36mT\u001b[39m,\n",
       "  or when converted to a \u001b[36mPtr{Cvoid}\u001b[39m, this is a pointer to the object data.\n",
       "  When \u001b[36mT\u001b[39m is an \u001b[36misbits\u001b[39m type, this value may be safely mutated, otherwise\n",
       "  mutation is strictly undefined behavior.\n",
       "\n",
       "  As a special case, setting \u001b[36mT = Any\u001b[39m will instead cause the creation of a\n",
       "  pointer to the reference itself when converted to a \u001b[36mPtr{Any}\u001b[39m (a \u001b[36mjl_value_t\n",
       "  const* const*\u001b[39m if T is immutable, else a \u001b[36mjl_value_t *const *\u001b[39m). When converted\n",
       "  to a \u001b[36mPtr{Cvoid}\u001b[39m, it will still return a pointer to the data region as for\n",
       "  any other \u001b[36mT\u001b[39m.\n",
       "\n",
       "  A \u001b[36mC_NULL\u001b[39m instance of \u001b[36mPtr\u001b[39m can be passed to a \u001b[36mccall\u001b[39m \u001b[36mRef\u001b[39m argument to initialize\n",
       "  it.\n",
       "\n",
       "\u001b[1m  Use in broadcasting\u001b[22m\n",
       "\u001b[1m  ≡≡≡≡≡≡≡≡≡≡≡≡≡≡≡≡≡≡≡≡≡\u001b[22m\n",
       "\n",
       "  \u001b[36mRef\u001b[39m is sometimes used in broadcasting in order to treat the referenced\n",
       "  values as a scalar.\n",
       "\n",
       "\u001b[1m  Examples\u001b[22m\n",
       "\u001b[1m  ≡≡≡≡≡≡≡≡≡≡\u001b[22m\n",
       "\n",
       "\u001b[36m  julia> Ref(5)\u001b[39m\n",
       "\u001b[36m  Base.RefValue{Int64}(5)\u001b[39m\n",
       "\u001b[36m  \u001b[39m\n",
       "\u001b[36m  julia> isa.(Ref([1,2,3]), [Array, Dict, Int]) # Treat reference values as scalar during broadcasting\u001b[39m\n",
       "\u001b[36m  3-element BitVector:\u001b[39m\n",
       "\u001b[36m   1\u001b[39m\n",
       "\u001b[36m   0\u001b[39m\n",
       "\u001b[36m   0\u001b[39m\n",
       "\u001b[36m  \u001b[39m\n",
       "\u001b[36m  julia> Ref{Function}()  # Undefined reference to a non-bitstype, Function\u001b[39m\n",
       "\u001b[36m  Base.RefValue{Function}(#undef)\u001b[39m\n",
       "\u001b[36m  \u001b[39m\n",
       "\u001b[36m  julia> try\u001b[39m\n",
       "\u001b[36m             Ref{Function}()[] # Dereferencing an undefined reference will result in an error\u001b[39m\n",
       "\u001b[36m         catch e\u001b[39m\n",
       "\u001b[36m             println(e)\u001b[39m\n",
       "\u001b[36m         end\u001b[39m\n",
       "\u001b[36m  UndefRefError()\u001b[39m\n",
       "\u001b[36m  \u001b[39m\n",
       "\u001b[36m  julia> Ref{Int64}()[]; # A reference to a bitstype refers to an undetermined value if not given\u001b[39m\n",
       "\u001b[36m  \u001b[39m\n",
       "\u001b[36m  julia> isassigned(Ref{Int64}()) # A reference to a bitstype is always assigned\u001b[39m\n",
       "\u001b[36m  true\u001b[39m\n",
       "\u001b[36m  \u001b[39m\n",
       "\u001b[36m  julia> Ref{Int64}(0)[] == 0 # Explicitly give a value for a bitstype reference\u001b[39m\n",
       "\u001b[36m  true\u001b[39m"
      ]
     },
     "execution_count": 20,
     "metadata": {},
     "output_type": "execute_result"
    }
   ],
   "source": [
    "?Ref(1)"
   ]
  },
  {
   "cell_type": "code",
   "execution_count": 23,
   "id": "09bd0908",
   "metadata": {},
   "outputs": [
    {
     "data": {
      "text/plain": [
       "true"
      ]
     },
     "execution_count": 23,
     "metadata": {},
     "output_type": "execute_result"
    }
   ],
   "source": [
    "1 in 1"
   ]
  },
  {
   "cell_type": "code",
   "execution_count": 29,
   "id": "01e7fec5",
   "metadata": {},
   "outputs": [
    {
     "ename": "LoadError",
     "evalue": "DimensionMismatch: arrays could not be broadcast to a common size; got a dimension with lengths 6 and 5",
     "output_type": "error",
     "traceback": [
      "DimensionMismatch: arrays could not be broadcast to a common size; got a dimension with lengths 6 and 5",
      "",
      "Stacktrace:",
      " [1] _bcs1",
      "   @ ./broadcast.jl:516 [inlined]",
      " [2] _bcs",
      "   @ ./broadcast.jl:510 [inlined]",
      " [3] broadcast_shape",
      "   @ ./broadcast.jl:504 [inlined]",
      " [4] combine_axes",
      "   @ ./broadcast.jl:499 [inlined]",
      " [5] instantiate",
      "   @ ./broadcast.jl:281 [inlined]",
      " [6] materialize(bc::Base.Broadcast.Broadcasted{Base.Broadcast.DefaultArrayStyle{1}, Nothing, typeof(in), Tuple{Vector{Int64}, Vector{Int64}}})",
      "   @ Base.Broadcast ./broadcast.jl:860",
      " [7] top-level scope",
      "   @ In[29]:1"
     ]
    }
   ],
   "source": [
    "in.([1, 3, 5, 7, 9, 11], [1, 2, 3, 4, 5])"
   ]
  },
  {
   "cell_type": "code",
   "execution_count": 24,
   "id": "882b299b",
   "metadata": {},
   "outputs": [
    {
     "data": {
      "text/plain": [
       "6-element BitVector:\n",
       " 1\n",
       " 1\n",
       " 1\n",
       " 0\n",
       " 0\n",
       " 0"
      ]
     },
     "execution_count": 24,
     "metadata": {},
     "output_type": "execute_result"
    }
   ],
   "source": [
    "in.([1, 3, 5, 7, 9, 11], Ref([1, 2, 3, 4, 5]))"
   ]
  },
  {
   "cell_type": "code",
   "execution_count": 26,
   "id": "bd86a986",
   "metadata": {},
   "outputs": [
    {
     "data": {
      "text/plain": [
       "true"
      ]
     },
     "execution_count": 26,
     "metadata": {},
     "output_type": "execute_result"
    }
   ],
   "source": [
    "1 in [1,2,3]"
   ]
  },
  {
   "cell_type": "code",
   "execution_count": 27,
   "id": "d42d0560",
   "metadata": {},
   "outputs": [
    {
     "name": "stdout",
     "output_type": "stream",
     "text": [
      "search: \u001b[0m\u001b[1mi\u001b[22m\u001b[0m\u001b[1mn\u001b[22m \u001b[0m\u001b[1mi\u001b[22m\u001b[0m\u001b[1mn\u001b[22mv \u001b[0m\u001b[1mI\u001b[22m\u001b[0m\u001b[1mn\u001b[22m \u001b[0m\u001b[1mI\u001b[22m\u001b[0m\u001b[1mn\u001b[22mt \u001b[0m\u001b[1mI\u001b[22m\u001b[0m\u001b[1mn\u001b[22mf \u001b[0m\u001b[1mI\u001b[22m\u001b[0m\u001b[1mn\u001b[22mt8 \u001b[0m\u001b[1mi\u001b[22m\u001b[0m\u001b[1mn\u001b[22mvoke \u001b[0m\u001b[1mI\u001b[22m\u001b[0m\u001b[1mn\u001b[22mt64 \u001b[0m\u001b[1mI\u001b[22m\u001b[0m\u001b[1mn\u001b[22mt32 \u001b[0m\u001b[1mI\u001b[22m\u001b[0m\u001b[1mn\u001b[22mt16 \u001b[0m\u001b[1mi\u001b[22m\u001b[0m\u001b[1mn\u001b[22mvmod \u001b[0m\u001b[1mI\u001b[22m\u001b[0m\u001b[1mn\u001b[22mf64 \u001b[0m\u001b[1mI\u001b[22m\u001b[0m\u001b[1mn\u001b[22mf32 \u001b[0m\u001b[1mI\u001b[22m\u001b[0m\u001b[1mn\u001b[22mf16\n",
      "\n"
     ]
    },
    {
     "data": {
      "text/latex": [
       "\\begin{verbatim}\n",
       "in(collection)\n",
       "∈(collection)\n",
       "\\end{verbatim}\n",
       "Create a function that checks whether its argument is \\href{@ref}{\\texttt{in}} \\texttt{collection}, i.e. a function equivalent to \\texttt{y -> y in collection}. See also \\href{@ref}{\\texttt{insorted}} for use with sorted collections.\n",
       "\n",
       "The returned function is of type \\texttt{Base.Fix2\\{typeof(in)\\}}, which can be used to implement specialized methods.\n",
       "\n",
       "\\rule{\\textwidth}{1pt}\n",
       "\\begin{verbatim}\n",
       "in(item, collection) -> Bool\n",
       "∈(item, collection) -> Bool\n",
       "\\end{verbatim}\n",
       "Determine whether an item is in the given collection, in the sense that it is \\href{@ref}{\\texttt{==}} to one of the values generated by iterating over the collection. Returns a \\texttt{Bool} value, except if \\texttt{item} is \\href{@ref}{\\texttt{missing}} or \\texttt{collection} contains \\texttt{missing} but not \\texttt{item}, in which case \\texttt{missing} is returned (\\href{https://en.wikipedia.org/wiki/Three-valued_logic}{three-valued logic}, matching the behavior of \\href{@ref}{\\texttt{any}} and \\href{@ref}{\\texttt{==}}).\n",
       "\n",
       "Some collections follow a slightly different definition. For example, \\href{@ref}{\\texttt{Set}}s check whether the item \\href{@ref}{\\texttt{isequal}} to one of the elements. \\href{@ref}{\\texttt{Dict}}s look for \\texttt{key=>value} pairs, and the key is compared using \\href{@ref}{\\texttt{isequal}}. To test for the presence of a key in a dictionary, use \\href{@ref}{\\texttt{haskey}} or \\texttt{k in keys(dict)}. For these collections, the result is always a \\texttt{Bool} and never \\texttt{missing}.\n",
       "\n",
       "To determine whether an item is not in a given collection, see \\href{@ref}{\\texttt{:∉}}. You may also negate the \\texttt{in} by doing \\texttt{!(a in b)} which is logically similar to \"not in\".\n",
       "\n",
       "When broadcasting with \\texttt{in.(items, collection)} or \\texttt{items .∈ collection}, both \\texttt{item} and \\texttt{collection} are broadcasted over, which is often not what is intended. For example, if both arguments are vectors (and the dimensions match), the result is a vector indicating whether each value in collection \\texttt{items} is \\texttt{in} the value at the corresponding position in \\texttt{collection}. To get a vector indicating whether each value in \\texttt{items} is in \\texttt{collection}, wrap \\texttt{collection} in a tuple or a \\texttt{Ref} like this: \\texttt{in.(items, Ref(collection))} or \\texttt{items .∈ Ref(collection)}.\n",
       "\n",
       "\\section{Examples}\n",
       "\\begin{verbatim}\n",
       "julia> a = 1:3:20\n",
       "1:3:19\n",
       "\n",
       "julia> 4 in a\n",
       "true\n",
       "\n",
       "julia> 5 in a\n",
       "false\n",
       "\n",
       "julia> missing in [1, 2]\n",
       "missing\n",
       "\n",
       "julia> 1 in [2, missing]\n",
       "missing\n",
       "\n",
       "julia> 1 in [1, missing]\n",
       "true\n",
       "\n",
       "julia> missing in Set([1, 2])\n",
       "false\n",
       "\n",
       "julia> !(21 in a)\n",
       "true\n",
       "\n",
       "julia> !(19 in a)\n",
       "false\n",
       "\n",
       "julia> [1, 2] .∈ [2, 3]\n",
       "2-element BitVector:\n",
       " 0\n",
       " 0\n",
       "\n",
       "julia> [1, 2] .∈ ([2, 3],)\n",
       "2-element BitVector:\n",
       " 0\n",
       " 1\n",
       "\\end{verbatim}\n",
       "See also: \\href{@ref}{\\texttt{insorted}}, \\href{@ref}{\\texttt{contains}}, \\href{@ref}{\\texttt{occursin}}, \\href{@ref}{\\texttt{issubset}}.\n",
       "\n"
      ],
      "text/markdown": [
       "```\n",
       "in(collection)\n",
       "∈(collection)\n",
       "```\n",
       "\n",
       "Create a function that checks whether its argument is [`in`](@ref) `collection`, i.e. a function equivalent to `y -> y in collection`. See also [`insorted`](@ref) for use with sorted collections.\n",
       "\n",
       "The returned function is of type `Base.Fix2{typeof(in)}`, which can be used to implement specialized methods.\n",
       "\n",
       "---\n",
       "\n",
       "```\n",
       "in(item, collection) -> Bool\n",
       "∈(item, collection) -> Bool\n",
       "```\n",
       "\n",
       "Determine whether an item is in the given collection, in the sense that it is [`==`](@ref) to one of the values generated by iterating over the collection. Returns a `Bool` value, except if `item` is [`missing`](@ref) or `collection` contains `missing` but not `item`, in which case `missing` is returned ([three-valued logic](https://en.wikipedia.org/wiki/Three-valued_logic), matching the behavior of [`any`](@ref) and [`==`](@ref)).\n",
       "\n",
       "Some collections follow a slightly different definition. For example, [`Set`](@ref)s check whether the item [`isequal`](@ref) to one of the elements. [`Dict`](@ref)s look for `key=>value` pairs, and the key is compared using [`isequal`](@ref). To test for the presence of a key in a dictionary, use [`haskey`](@ref) or `k in keys(dict)`. For these collections, the result is always a `Bool` and never `missing`.\n",
       "\n",
       "To determine whether an item is not in a given collection, see [`:∉`](@ref). You may also negate the `in` by doing `!(a in b)` which is logically similar to \"not in\".\n",
       "\n",
       "When broadcasting with `in.(items, collection)` or `items .∈ collection`, both `item` and `collection` are broadcasted over, which is often not what is intended. For example, if both arguments are vectors (and the dimensions match), the result is a vector indicating whether each value in collection `items` is `in` the value at the corresponding position in `collection`. To get a vector indicating whether each value in `items` is in `collection`, wrap `collection` in a tuple or a `Ref` like this: `in.(items, Ref(collection))` or `items .∈ Ref(collection)`.\n",
       "\n",
       "# Examples\n",
       "\n",
       "```jldoctest\n",
       "julia> a = 1:3:20\n",
       "1:3:19\n",
       "\n",
       "julia> 4 in a\n",
       "true\n",
       "\n",
       "julia> 5 in a\n",
       "false\n",
       "\n",
       "julia> missing in [1, 2]\n",
       "missing\n",
       "\n",
       "julia> 1 in [2, missing]\n",
       "missing\n",
       "\n",
       "julia> 1 in [1, missing]\n",
       "true\n",
       "\n",
       "julia> missing in Set([1, 2])\n",
       "false\n",
       "\n",
       "julia> !(21 in a)\n",
       "true\n",
       "\n",
       "julia> !(19 in a)\n",
       "false\n",
       "\n",
       "julia> [1, 2] .∈ [2, 3]\n",
       "2-element BitVector:\n",
       " 0\n",
       " 0\n",
       "\n",
       "julia> [1, 2] .∈ ([2, 3],)\n",
       "2-element BitVector:\n",
       " 0\n",
       " 1\n",
       "```\n",
       "\n",
       "See also: [`insorted`](@ref), [`contains`](@ref), [`occursin`](@ref), [`issubset`](@ref).\n"
      ],
      "text/plain": [
       "\u001b[36m  in(collection)\u001b[39m\n",
       "\u001b[36m  ∈(collection)\u001b[39m\n",
       "\n",
       "  Create a function that checks whether its argument is \u001b[36min\u001b[39m \u001b[36mcollection\u001b[39m, i.e. a\n",
       "  function equivalent to \u001b[36my -> y in collection\u001b[39m. See also \u001b[36minsorted\u001b[39m for use with\n",
       "  sorted collections.\n",
       "\n",
       "  The returned function is of type \u001b[36mBase.Fix2{typeof(in)}\u001b[39m, which can be used to\n",
       "  implement specialized methods.\n",
       "\n",
       "  ────────────────────────────────────────────────────────────────────────────\n",
       "\n",
       "\u001b[36m  in(item, collection) -> Bool\u001b[39m\n",
       "\u001b[36m  ∈(item, collection) -> Bool\u001b[39m\n",
       "\n",
       "  Determine whether an item is in the given collection, in the sense that it\n",
       "  is \u001b[36m==\u001b[39m to one of the values generated by iterating over the collection.\n",
       "  Returns a \u001b[36mBool\u001b[39m value, except if \u001b[36mitem\u001b[39m is \u001b[36mmissing\u001b[39m or \u001b[36mcollection\u001b[39m contains\n",
       "  \u001b[36mmissing\u001b[39m but not \u001b[36mitem\u001b[39m, in which case \u001b[36mmissing\u001b[39m is returned (three-valued logic\n",
       "  (https://en.wikipedia.org/wiki/Three-valued_logic), matching the behavior of\n",
       "  \u001b[36many\u001b[39m and \u001b[36m==\u001b[39m).\n",
       "\n",
       "  Some collections follow a slightly different definition. For example, \u001b[36mSet\u001b[39ms\n",
       "  check whether the item \u001b[36misequal\u001b[39m to one of the elements. \u001b[36mDict\u001b[39ms look for\n",
       "  \u001b[36mkey=>value\u001b[39m pairs, and the key is compared using \u001b[36misequal\u001b[39m. To test for the\n",
       "  presence of a key in a dictionary, use \u001b[36mhaskey\u001b[39m or \u001b[36mk in keys(dict)\u001b[39m. For these\n",
       "  collections, the result is always a \u001b[36mBool\u001b[39m and never \u001b[36mmissing\u001b[39m.\n",
       "\n",
       "  To determine whether an item is not in a given collection, see \u001b[36m:∉\u001b[39m. You may\n",
       "  also negate the \u001b[36min\u001b[39m by doing \u001b[36m!(a in b)\u001b[39m which is logically similar to \"not\n",
       "  in\".\n",
       "\n",
       "  When broadcasting with \u001b[36min.(items, collection)\u001b[39m or \u001b[36mitems .∈ collection\u001b[39m, both\n",
       "  \u001b[36mitem\u001b[39m and \u001b[36mcollection\u001b[39m are broadcasted over, which is often not what is\n",
       "  intended. For example, if both arguments are vectors (and the dimensions\n",
       "  match), the result is a vector indicating whether each value in collection\n",
       "  \u001b[36mitems\u001b[39m is \u001b[36min\u001b[39m the value at the corresponding position in \u001b[36mcollection\u001b[39m. To get a\n",
       "  vector indicating whether each value in \u001b[36mitems\u001b[39m is in \u001b[36mcollection\u001b[39m, wrap\n",
       "  \u001b[36mcollection\u001b[39m in a tuple or a \u001b[36mRef\u001b[39m like this: \u001b[36min.(items, Ref(collection))\u001b[39m or\n",
       "  \u001b[36mitems .∈ Ref(collection)\u001b[39m.\n",
       "\n",
       "\u001b[1m  Examples\u001b[22m\n",
       "\u001b[1m  ≡≡≡≡≡≡≡≡≡≡\u001b[22m\n",
       "\n",
       "\u001b[36m  julia> a = 1:3:20\u001b[39m\n",
       "\u001b[36m  1:3:19\u001b[39m\n",
       "\u001b[36m  \u001b[39m\n",
       "\u001b[36m  julia> 4 in a\u001b[39m\n",
       "\u001b[36m  true\u001b[39m\n",
       "\u001b[36m  \u001b[39m\n",
       "\u001b[36m  julia> 5 in a\u001b[39m\n",
       "\u001b[36m  false\u001b[39m\n",
       "\u001b[36m  \u001b[39m\n",
       "\u001b[36m  julia> missing in [1, 2]\u001b[39m\n",
       "\u001b[36m  missing\u001b[39m\n",
       "\u001b[36m  \u001b[39m\n",
       "\u001b[36m  julia> 1 in [2, missing]\u001b[39m\n",
       "\u001b[36m  missing\u001b[39m\n",
       "\u001b[36m  \u001b[39m\n",
       "\u001b[36m  julia> 1 in [1, missing]\u001b[39m\n",
       "\u001b[36m  true\u001b[39m\n",
       "\u001b[36m  \u001b[39m\n",
       "\u001b[36m  julia> missing in Set([1, 2])\u001b[39m\n",
       "\u001b[36m  false\u001b[39m\n",
       "\u001b[36m  \u001b[39m\n",
       "\u001b[36m  julia> !(21 in a)\u001b[39m\n",
       "\u001b[36m  true\u001b[39m\n",
       "\u001b[36m  \u001b[39m\n",
       "\u001b[36m  julia> !(19 in a)\u001b[39m\n",
       "\u001b[36m  false\u001b[39m\n",
       "\u001b[36m  \u001b[39m\n",
       "\u001b[36m  julia> [1, 2] .∈ [2, 3]\u001b[39m\n",
       "\u001b[36m  2-element BitVector:\u001b[39m\n",
       "\u001b[36m   0\u001b[39m\n",
       "\u001b[36m   0\u001b[39m\n",
       "\u001b[36m  \u001b[39m\n",
       "\u001b[36m  julia> [1, 2] .∈ ([2, 3],)\u001b[39m\n",
       "\u001b[36m  2-element BitVector:\u001b[39m\n",
       "\u001b[36m   0\u001b[39m\n",
       "\u001b[36m   1\u001b[39m\n",
       "\n",
       "  See also: \u001b[36minsorted\u001b[39m, \u001b[36mcontains\u001b[39m, \u001b[36moccursin\u001b[39m, \u001b[36missubset\u001b[39m."
      ]
     },
     "execution_count": 27,
     "metadata": {},
     "output_type": "execute_result"
    }
   ],
   "source": [
    "?in"
   ]
  },
  {
   "cell_type": "code",
   "execution_count": 30,
   "id": "5da6b7a0",
   "metadata": {},
   "outputs": [
    {
     "data": {
      "text/plain": [
       "()"
      ]
     },
     "execution_count": 30,
     "metadata": {},
     "output_type": "execute_result"
    }
   ],
   "source": [
    "size(Ref([1,2,3,4,5]))"
   ]
  },
  {
   "cell_type": "code",
   "execution_count": 28,
   "id": "a6f4c330",
   "metadata": {},
   "outputs": [
    {
     "data": {
      "text/plain": [
       "(1,)"
      ]
     },
     "execution_count": 28,
     "metadata": {},
     "output_type": "execute_result"
    }
   ],
   "source": [
    "size([[1, 2, 3, 4, 5]])"
   ]
  },
  {
   "cell_type": "code",
   "execution_count": 25,
   "id": "bdd26a2e",
   "metadata": {},
   "outputs": [
    {
     "data": {
      "text/plain": [
       "6-element BitVector:\n",
       " 1\n",
       " 1\n",
       " 1\n",
       " 0\n",
       " 0\n",
       " 0"
      ]
     },
     "execution_count": 25,
     "metadata": {},
     "output_type": "execute_result"
    }
   ],
   "source": [
    "in.([1, 3, 5, 7, 9, 11], [[1, 2, 3, 4, 5]])"
   ]
  },
  {
   "cell_type": "code",
   "execution_count": 31,
   "id": "75a1a800",
   "metadata": {},
   "outputs": [
    {
     "data": {
      "text/plain": [
       "11×8 Matrix{Float64}:\n",
       " 10.0   8.04  10.0  9.14  10.0   7.46   8.0   6.58\n",
       "  8.0   6.95   8.0  8.14   8.0   6.77   8.0   5.76\n",
       " 13.0   7.58  13.0  8.74  13.0  12.74   8.0   7.71\n",
       "  9.0   8.81   9.0  8.77   9.0   7.11   8.0   8.84\n",
       " 11.0   8.33  11.0  9.26  11.0   7.81   8.0   8.47\n",
       " 14.0   9.96  14.0  8.1   14.0   8.84   8.0   7.04\n",
       "  6.0   7.24   6.0  6.13   6.0   6.08   8.0   5.25\n",
       "  4.0   4.26   4.0  3.1    4.0   5.39  19.0  12.5\n",
       " 12.0  10.84  12.0  9.13  12.0   8.15   8.0   5.56\n",
       "  7.0   4.82   7.0  7.26   7.0   6.42   8.0   7.91\n",
       "  5.0   5.68   5.0  4.74   5.0   5.73   8.0   6.89"
      ]
     },
     "execution_count": 31,
     "metadata": {},
     "output_type": "execute_result"
    }
   ],
   "source": [
    "aq = [10.0   8.04  10.0  9.14  10.0   7.46   8.0   6.58\n",
    "                      8.0   6.95   8.0  8.14   8.0   6.77   8.0   5.76\n",
    "                     13.0   7.58  13.0  8.74  13.0  12.74   8.0   7.71\n",
    "                      9.0   8.81   9.0  8.77   9.0   7.11   8.0   8.84\n",
    "                     11.0   8.33  11.0  9.26  11.0   7.81   8.0   8.47\n",
    "                     14.0   9.96  14.0  8.1   14.0   8.84   8.0   7.04\n",
    "                      6.0   7.24   6.0  6.13   6.0   6.08   8.0   5.25\n",
    "                      4.0   4.26   4.0  3.1    4.0   5.39  19.0  12.50\n",
    "                     12.0  10.84  12.0  9.13  12.0   8.15   8.0   5.56\n",
    "                      7.0   4.82   7.0  7.26   7.0   6.42   8.0   7.91\n",
    "                      5.0   5.68   5.0  4.74   5.0   5.73   8.0   6.89]"
   ]
  },
  {
   "cell_type": "code",
   "execution_count": 32,
   "id": "93769135",
   "metadata": {},
   "outputs": [],
   "source": [
    "using Statistics"
   ]
  },
  {
   "cell_type": "code",
   "execution_count": 33,
   "id": "4f9da748",
   "metadata": {},
   "outputs": [
    {
     "data": {
      "text/plain": [
       "8-element Vector{Float64}:\n",
       " 9.0\n",
       " 7.500909090909093\n",
       " 9.0\n",
       " 7.500909090909091\n",
       " 9.0\n",
       " 7.500000000000001\n",
       " 9.0\n",
       " 7.50090909090909"
      ]
     },
     "execution_count": 33,
     "metadata": {},
     "output_type": "execute_result"
    }
   ],
   "source": [
    "mean.(eachcol(aq))"
   ]
  },
  {
   "cell_type": "code",
   "execution_count": 34,
   "id": "95fe70a0",
   "metadata": {},
   "outputs": [
    {
     "data": {
      "text/plain": [
       "R2 (generic function with 1 method)"
      ]
     },
     "execution_count": 34,
     "metadata": {},
     "output_type": "execute_result"
    }
   ],
   "source": [
    "# function R2(x, y)\n",
    "# X = [ones(11) x]\n",
    "#     model = X \\ y\n",
    "#     prediction = X * model\n",
    "#     error = y - prediction\n",
    "#     SS_res = sum(v -> v ^ 2, error)\n",
    "#     mean_y = mean(y)\n",
    "#     SS_tot = sum(v -> (v - mean_y) ^ 2, y)\n",
    "#     return 1 - SS_res / SS_tot\n",
    "# end\n",
    "\n",
    "# becomes:\n",
    "\n",
    "function R2(x, y)\n",
    "    X = [ones(11) x]\n",
    "    model = X \\ y\n",
    "    prediction = X * model\n",
    "    SS_res = sum((y .- prediction) .^ 2)\n",
    "    SS_tot = sum((y .- mean(y)) .^ 2)\n",
    "    return 1 - SS_res / SS_tot\n",
    "end"
   ]
  },
  {
   "cell_type": "code",
   "execution_count": null,
   "id": "9d6b73b1",
   "metadata": {},
   "outputs": [],
   "source": []
  },
  {
   "cell_type": "markdown",
   "id": "918de182",
   "metadata": {},
   "source": [
    "# Parametric Types\n",
    "\n",
    "> Most collection types in Julia are parametric\n"
   ]
  },
  {
   "cell_type": "code",
   "execution_count": 35,
   "id": "5d589be8",
   "metadata": {},
   "outputs": [
    {
     "data": {
      "text/plain": [
       "Any[]"
      ]
     },
     "execution_count": 35,
     "metadata": {},
     "output_type": "execute_result"
    }
   ],
   "source": [
    "[]"
   ]
  },
  {
   "cell_type": "code",
   "execution_count": 36,
   "id": "95d9eae5",
   "metadata": {},
   "outputs": [
    {
     "data": {
      "text/plain": [
       "Dict{Any, Any}()"
      ]
     },
     "execution_count": 36,
     "metadata": {},
     "output_type": "execute_result"
    }
   ],
   "source": [
    "Dict()"
   ]
  },
  {
   "cell_type": "code",
   "execution_count": 37,
   "id": "2da563ff",
   "metadata": {},
   "outputs": [
    {
     "data": {
      "text/plain": [
       "Set{Any}()"
      ]
     },
     "execution_count": 37,
     "metadata": {},
     "output_type": "execute_result"
    }
   ],
   "source": [
    "Set()"
   ]
  },
  {
   "cell_type": "markdown",
   "id": "05d66007",
   "metadata": {},
   "source": [
    "Types are *invariant* in parameters\n",
    "\n",
    "https://docs.julialang.org/en/v1/manual/types/#man-parametric-composite-types"
   ]
  },
  {
   "cell_type": "code",
   "execution_count": 39,
   "id": "d20ff4e5",
   "metadata": {},
   "outputs": [
    {
     "data": {
      "text/plain": [
       "Vector{Int64}\u001b[90m (alias for \u001b[39m\u001b[90mArray{Int64, 1}\u001b[39m\u001b[90m)\u001b[39m"
      ]
     },
     "execution_count": 39,
     "metadata": {},
     "output_type": "execute_result"
    }
   ],
   "source": [
    "typeof([1, 2, 5])"
   ]
  },
  {
   "cell_type": "code",
   "execution_count": 38,
   "id": "a10ac0bb",
   "metadata": {},
   "outputs": [
    {
     "data": {
      "text/plain": [
       "false"
      ]
     },
     "execution_count": 38,
     "metadata": {},
     "output_type": "execute_result"
    }
   ],
   "source": [
    "[1, 2, 5] isa AbstractVector{Real}"
   ]
  },
  {
   "cell_type": "code",
   "execution_count": 40,
   "id": "73faace8",
   "metadata": {},
   "outputs": [
    {
     "name": "stdout",
     "output_type": "stream",
     "text": [
      "search: \u001b[0m\u001b[1m<\u001b[22m\u001b[0m\u001b[1m:\u001b[22m\n",
      "\n"
     ]
    },
    {
     "data": {
      "text/latex": [
       "\\begin{verbatim}\n",
       "<:(T1, T2)\n",
       "\\end{verbatim}\n",
       "Subtype operator: returns \\texttt{true} if and only if all values of type \\texttt{T1} are also of type \\texttt{T2}.\n",
       "\n",
       "\\section{Examples}\n",
       "\\begin{verbatim}\n",
       "julia> Float64 <: AbstractFloat\n",
       "true\n",
       "\n",
       "julia> Vector{Int} <: AbstractArray\n",
       "true\n",
       "\n",
       "julia> Matrix{Float64} <: Matrix{AbstractFloat}\n",
       "false\n",
       "\\end{verbatim}\n"
      ],
      "text/markdown": [
       "```\n",
       "<:(T1, T2)\n",
       "```\n",
       "\n",
       "Subtype operator: returns `true` if and only if all values of type `T1` are also of type `T2`.\n",
       "\n",
       "# Examples\n",
       "\n",
       "```jldoctest\n",
       "julia> Float64 <: AbstractFloat\n",
       "true\n",
       "\n",
       "julia> Vector{Int} <: AbstractArray\n",
       "true\n",
       "\n",
       "julia> Matrix{Float64} <: Matrix{AbstractFloat}\n",
       "false\n",
       "```\n"
      ],
      "text/plain": [
       "\u001b[36m  <:(T1, T2)\u001b[39m\n",
       "\n",
       "  Subtype operator: returns \u001b[36mtrue\u001b[39m if and only if all values of type \u001b[36mT1\u001b[39m are also\n",
       "  of type \u001b[36mT2\u001b[39m.\n",
       "\n",
       "\u001b[1m  Examples\u001b[22m\n",
       "\u001b[1m  ≡≡≡≡≡≡≡≡≡≡\u001b[22m\n",
       "\n",
       "\u001b[36m  julia> Float64 <: AbstractFloat\u001b[39m\n",
       "\u001b[36m  true\u001b[39m\n",
       "\u001b[36m  \u001b[39m\n",
       "\u001b[36m  julia> Vector{Int} <: AbstractArray\u001b[39m\n",
       "\u001b[36m  true\u001b[39m\n",
       "\u001b[36m  \u001b[39m\n",
       "\u001b[36m  julia> Matrix{Float64} <: Matrix{AbstractFloat}\u001b[39m\n",
       "\u001b[36m  false\u001b[39m"
      ]
     },
     "execution_count": 40,
     "metadata": {},
     "output_type": "execute_result"
    }
   ],
   "source": [
    "?<:"
   ]
  },
  {
   "cell_type": "code",
   "execution_count": 41,
   "id": "96463a05",
   "metadata": {},
   "outputs": [
    {
     "data": {
      "text/plain": [
       "true"
      ]
     },
     "execution_count": 41,
     "metadata": {},
     "output_type": "execute_result"
    }
   ],
   "source": [
    "[1, 2, 5] isa AbstractVector{<:Real}"
   ]
  },
  {
   "cell_type": "code",
   "execution_count": 25,
   "id": "9f87d1d7",
   "metadata": {},
   "outputs": [
    {
     "data": {
      "text/plain": [
       "Vector{Int64}\u001b[90m (alias for \u001b[39m\u001b[90mArray{Int64, 1}\u001b[39m\u001b[90m)\u001b[39m"
      ]
     },
     "execution_count": 25,
     "metadata": {},
     "output_type": "execute_result"
    }
   ],
   "source": [
    "typeof([1, 2, 5])"
   ]
  },
  {
   "cell_type": "code",
   "execution_count": 44,
   "id": "05825a09",
   "metadata": {},
   "outputs": [
    {
     "data": {
      "text/plain": [
       "ourCov (generic function with 1 method)"
      ]
     },
     "execution_count": 44,
     "metadata": {},
     "output_type": "execute_result"
    }
   ],
   "source": [
    "function ourCov(x::AbstractVector{<:Real}, y::AbstractVector{<:Real}) \n",
    "    len = length(x)\n",
    "    @assert len == length(y) > 0\n",
    "    sum((x .- mean(x)) .* (y .- mean(y))) / (len - 1)\n",
    "end"
   ]
  },
  {
   "cell_type": "code",
   "execution_count": 34,
   "id": "0c67415c",
   "metadata": {},
   "outputs": [
    {
     "data": {
      "text/plain": [
       "0.9743642857142859"
      ]
     },
     "execution_count": 34,
     "metadata": {},
     "output_type": "execute_result"
    }
   ],
   "source": [
    "ourCov(aq[1,:], aq[2,:])"
   ]
  },
  {
   "cell_type": "code",
   "execution_count": 42,
   "id": "6d3fae10",
   "metadata": {},
   "outputs": [
    {
     "data": {
      "text/plain": [
       "(Vector{Int64}, Vector{Float64})"
      ]
     },
     "execution_count": 42,
     "metadata": {},
     "output_type": "execute_result"
    }
   ],
   "source": [
    "a = [1,2]\n",
    "b = [0.2, 0.4]\n",
    "\n",
    "typeof(a), typeof(b)"
   ]
  },
  {
   "cell_type": "code",
   "execution_count": 45,
   "id": "40c10035",
   "metadata": {},
   "outputs": [
    {
     "data": {
      "text/plain": [
       "0.1"
      ]
     },
     "execution_count": 45,
     "metadata": {},
     "output_type": "execute_result"
    }
   ],
   "source": [
    "ourCov(a,b)"
   ]
  },
  {
   "cell_type": "markdown",
   "id": "b97fd765",
   "metadata": {},
   "source": [
    "# Python"
   ]
  },
  {
   "cell_type": "code",
   "execution_count": 46,
   "id": "9656439f",
   "metadata": {},
   "outputs": [],
   "source": [
    "using Random"
   ]
  },
  {
   "cell_type": "code",
   "execution_count": 47,
   "id": "e83e748e",
   "metadata": {},
   "outputs": [
    {
     "data": {
      "text/plain": [
       "TaskLocalRNG()"
      ]
     },
     "execution_count": 47,
     "metadata": {},
     "output_type": "execute_result"
    }
   ],
   "source": [
    "Random.seed!(9123123)"
   ]
  },
  {
   "cell_type": "code",
   "execution_count": 48,
   "id": "f2a1fa4e",
   "metadata": {},
   "outputs": [
    {
     "data": {
      "text/plain": [
       "100×5 Matrix{Float64}:\n",
       " -1.47267    -0.793283   -1.78457   -0.683267    -2.30552\n",
       " -2.57908    -1.01747    -1.17309   -0.635685    -0.889063\n",
       "  0.942477   -0.362311    0.493396  -0.812999    -0.276004\n",
       " -0.66483    -1.4533     -0.733364  -1.81203     -0.393998\n",
       " -0.824515   -2.02515    -0.146024  -1.5159       0.315533\n",
       " -0.92702    -1.2316     -1.49249    1.86384     -1.37639\n",
       " -0.806021   -0.716135   -1.13584   -0.522863    -0.0639138\n",
       " -0.955297   -0.856104   -0.910632  -1.13668     -2.12043\n",
       " -1.60907    -0.486445    0.625125  -1.06804     -0.869047\n",
       " -0.286469   -0.0807028  -1.35567   -1.2396      -2.01966\n",
       " -0.631138   -1.05612    -0.835645  -2.99346     -0.179164\n",
       " -1.75635    -2.63681    -0.433571  -1.09213     -1.11263\n",
       " -0.159331   -0.825695   -1.67013   -1.73587     -0.869486\n",
       "  ⋮                                              \n",
       " -0.729993    0.685178   -1.44683   -0.00372829  -1.47596\n",
       " -2.09973    -1.75806     0.754422  -0.2753      -0.575976\n",
       " -1.47274    -1.91463     0.495853  -1.5281      -2.08635\n",
       " -1.67732    -0.965096   -0.577513  -2.81693     -1.08866\n",
       "  0.055346   -0.136596   -1.10933   -1.05665     -0.933039\n",
       "  0.0751652   1.0568     -3.42667    0.249795    -1.8588\n",
       " -1.79498    -1.8607     -1.60893   -0.869762     0.960783\n",
       " -0.279997   -1.91596    -1.70977    0.40536     -0.900888\n",
       " -2.4956     -1.55964    -1.80703   -1.84152      0.395782\n",
       " -0.783746   -0.201152    0.082439  -1.36644     -1.09649\n",
       " -2.56892    -0.988293   -1.9041    -1.53724     -1.61137\n",
       " -2.80449     0.5439     -1.28457   -0.733388    -1.74479"
      ]
     },
     "execution_count": 48,
     "metadata": {},
     "output_type": "execute_result"
    }
   ],
   "source": [
    "cluster1 = randn(100, 5) .- 1"
   ]
  },
  {
   "cell_type": "code",
   "execution_count": 49,
   "id": "6f965274",
   "metadata": {},
   "outputs": [
    {
     "data": {
      "text/plain": [
       "100×5 Matrix{Float64}:\n",
       " -0.36162    -0.237928    0.484085    0.408598   -0.315224\n",
       "  0.7322     -0.215183    1.43343     0.84689     1.2395\n",
       " -0.128995    1.46246     1.41501    -0.180305   -1.68105\n",
       "  1.55615    -0.630465   -0.633982    2.33023    -0.0679828\n",
       "  1.61668     1.18656     0.285204    1.4821      2.73014\n",
       "  0.944363   -1.01118     3.31875     2.44574     0.829173\n",
       " -0.544      -0.265796    0.856832    1.78602     2.07184\n",
       " -0.614357    0.0723445   0.13003     1.76026     2.4426\n",
       "  0.965588    0.879064    1.91795     2.64547     0.175552\n",
       "  0.488947    1.24174     0.35415     0.645349   -0.274953\n",
       "  0.964437    1.34304     0.477419    0.793662    0.922343\n",
       " -0.276881    1.84035     2.00188    -0.700669    1.67532\n",
       " -1.42584     1.70198     2.276      -0.42003     0.569038\n",
       "  ⋮                                              \n",
       " -2.46076    -1.02887     1.04436     1.6434      1.73181\n",
       "  0.677942    0.793417    0.427743    0.511428    1.13177\n",
       "  1.03823    -0.853539    0.256478   -0.385559    0.0468169\n",
       "  0.419549    1.45733     1.30307     0.532303   -0.245523\n",
       "  0.737003    2.49169     0.715132    1.82495     1.29773\n",
       "  0.0320193   2.21703     1.74219     1.18143     0.704588\n",
       "  3.3362      0.890434   -0.314073    0.720251   -0.6485\n",
       "  1.37214     1.13595    -0.888079    0.959408    1.03657\n",
       "  3.50115     1.83843     1.30744    -1.7275      1.14003\n",
       "  2.18976     0.750901    0.0150626  -0.0473016   0.562347\n",
       "  1.8881      0.299527   -0.835646    1.62819     3.0122\n",
       "  1.12042     0.479636    0.822309    1.16345     0.266042"
      ]
     },
     "execution_count": 49,
     "metadata": {},
     "output_type": "execute_result"
    }
   ],
   "source": [
    "cluster2 = randn(100, 5) .+ 1"
   ]
  },
  {
   "cell_type": "code",
   "execution_count": 50,
   "id": "408966fb",
   "metadata": {},
   "outputs": [
    {
     "name": "stderr",
     "output_type": "stream",
     "text": [
      "\u001b[32m\u001b[1m    Updating\u001b[22m\u001b[39m registry at `~/.julia/registries/General.toml`\n",
      "\u001b[32m\u001b[1m   Resolving\u001b[22m\u001b[39m package versions...\n",
      "\u001b[32m\u001b[1m  No Changes\u001b[22m\u001b[39m to `~/.julia/environments/v1.8/Project.toml`\n",
      "\u001b[32m\u001b[1m  No Changes\u001b[22m\u001b[39m to `~/.julia/environments/v1.8/Manifest.toml`\n"
     ]
    }
   ],
   "source": [
    "import Pkg; Pkg.add(\"PyCall\")"
   ]
  },
  {
   "cell_type": "code",
   "execution_count": 51,
   "id": "9b674cec",
   "metadata": {},
   "outputs": [],
   "source": [
    "using PyCall"
   ]
  },
  {
   "cell_type": "code",
   "execution_count": 52,
   "id": "0739186f",
   "metadata": {},
   "outputs": [
    {
     "name": "stderr",
     "output_type": "stream",
     "text": [
      "\u001b[32m\u001b[1m   Resolving\u001b[22m\u001b[39m package versions...\n",
      "\u001b[32m\u001b[1m  No Changes\u001b[22m\u001b[39m to `~/.julia/environments/v1.8/Project.toml`\n",
      "\u001b[32m\u001b[1m  No Changes\u001b[22m\u001b[39m to `~/.julia/environments/v1.8/Manifest.toml`\n"
     ]
    }
   ],
   "source": [
    "import Pkg; Pkg.add(\"Conda\")"
   ]
  },
  {
   "cell_type": "code",
   "execution_count": 53,
   "id": "586af925",
   "metadata": {},
   "outputs": [
    {
     "name": "stderr",
     "output_type": "stream",
     "text": [
      "\u001b[36m\u001b[1m[ \u001b[22m\u001b[39m\u001b[36m\u001b[1mInfo: \u001b[22m\u001b[39mRunning `conda install -y scikit-learn` in root environment\n"
     ]
    },
    {
     "name": "stdout",
     "output_type": "stream",
     "text": [
      "Retrieving notices: ...working... done\n",
      "Collecting package metadata (current_repodata.json): ...working... done\n",
      "Solving environment: ...working... done\n",
      "\n",
      "# All requested packages already installed.\n",
      "\n"
     ]
    }
   ],
   "source": [
    "using Conda\n",
    "Conda.add(\"scikit-learn\")"
   ]
  },
  {
   "cell_type": "code",
   "execution_count": 54,
   "id": "91951b0b",
   "metadata": {},
   "outputs": [
    {
     "data": {
      "text/plain": [
       "PyObject <module 'sklearn.manifold' from '/Users/james/.julia/conda/3/lib/python3.10/site-packages/sklearn/manifold/__init__.py'>"
      ]
     },
     "execution_count": 54,
     "metadata": {},
     "output_type": "execute_result"
    }
   ],
   "source": [
    "manifold = pyimport(\"sklearn.manifold\")"
   ]
  },
  {
   "cell_type": "markdown",
   "id": "c9c5a4a5",
   "metadata": {},
   "source": [
    "Using Python ..."
   ]
  },
  {
   "cell_type": "code",
   "execution_count": 55,
   "id": "1a94c410",
   "metadata": {},
   "outputs": [
    {
     "data": {
      "text/html": [
       "<style>#sk-container-id-3 {color: black;background-color: white;}#sk-container-id-3 pre{padding: 0;}#sk-container-id-3 div.sk-toggleable {background-color: white;}#sk-container-id-3 label.sk-toggleable__label {cursor: pointer;display: block;width: 100%;margin-bottom: 0;padding: 0.3em;box-sizing: border-box;text-align: center;}#sk-container-id-3 label.sk-toggleable__label-arrow:before {content: \"▸\";float: left;margin-right: 0.25em;color: #696969;}#sk-container-id-3 label.sk-toggleable__label-arrow:hover:before {color: black;}#sk-container-id-3 div.sk-estimator:hover label.sk-toggleable__label-arrow:before {color: black;}#sk-container-id-3 div.sk-toggleable__content {max-height: 0;max-width: 0;overflow: hidden;text-align: left;background-color: #f0f8ff;}#sk-container-id-3 div.sk-toggleable__content pre {margin: 0.2em;color: black;border-radius: 0.25em;background-color: #f0f8ff;}#sk-container-id-3 input.sk-toggleable__control:checked~div.sk-toggleable__content {max-height: 200px;max-width: 100%;overflow: auto;}#sk-container-id-3 input.sk-toggleable__control:checked~label.sk-toggleable__label-arrow:before {content: \"▾\";}#sk-container-id-3 div.sk-estimator input.sk-toggleable__control:checked~label.sk-toggleable__label {background-color: #d4ebff;}#sk-container-id-3 div.sk-label input.sk-toggleable__control:checked~label.sk-toggleable__label {background-color: #d4ebff;}#sk-container-id-3 input.sk-hidden--visually {border: 0;clip: rect(1px 1px 1px 1px);clip: rect(1px, 1px, 1px, 1px);height: 1px;margin: -1px;overflow: hidden;padding: 0;position: absolute;width: 1px;}#sk-container-id-3 div.sk-estimator {font-family: monospace;background-color: #f0f8ff;border: 1px dotted black;border-radius: 0.25em;box-sizing: border-box;margin-bottom: 0.5em;}#sk-container-id-3 div.sk-estimator:hover {background-color: #d4ebff;}#sk-container-id-3 div.sk-parallel-item::after {content: \"\";width: 100%;border-bottom: 1px solid gray;flex-grow: 1;}#sk-container-id-3 div.sk-label:hover label.sk-toggleable__label {background-color: #d4ebff;}#sk-container-id-3 div.sk-serial::before {content: \"\";position: absolute;border-left: 1px solid gray;box-sizing: border-box;top: 0;bottom: 0;left: 50%;z-index: 0;}#sk-container-id-3 div.sk-serial {display: flex;flex-direction: column;align-items: center;background-color: white;padding-right: 0.2em;padding-left: 0.2em;position: relative;}#sk-container-id-3 div.sk-item {position: relative;z-index: 1;}#sk-container-id-3 div.sk-parallel {display: flex;align-items: stretch;justify-content: center;background-color: white;position: relative;}#sk-container-id-3 div.sk-item::before, #sk-container-id-3 div.sk-parallel-item::before {content: \"\";position: absolute;border-left: 1px solid gray;box-sizing: border-box;top: 0;bottom: 0;left: 50%;z-index: -1;}#sk-container-id-3 div.sk-parallel-item {display: flex;flex-direction: column;z-index: 1;position: relative;background-color: white;}#sk-container-id-3 div.sk-parallel-item:first-child::after {align-self: flex-end;width: 50%;}#sk-container-id-3 div.sk-parallel-item:last-child::after {align-self: flex-start;width: 50%;}#sk-container-id-3 div.sk-parallel-item:only-child::after {width: 0;}#sk-container-id-3 div.sk-dashed-wrapped {border: 1px dashed gray;margin: 0 0.4em 0.5em 0.4em;box-sizing: border-box;padding-bottom: 0.4em;background-color: white;}#sk-container-id-3 div.sk-label label {font-family: monospace;font-weight: bold;display: inline-block;line-height: 1.2em;}#sk-container-id-3 div.sk-label-container {text-align: center;}#sk-container-id-3 div.sk-container {/* jupyter's `normalize.less` sets `[hidden] { display: none; }` but bootstrap.min.css set `[hidden] { display: none !important; }` so we also need the `!important` here to be able to override the default hidden behavior on the sphinx rendered scikit-learn.org. See: https://github.com/scikit-learn/scikit-learn/issues/21755 */display: inline-block !important;position: relative;}#sk-container-id-3 div.sk-text-repr-fallback {display: none;}</style><div id=\"sk-container-id-3\" class=\"sk-top-container\"><div class=\"sk-text-repr-fallback\"><pre>TSNE(init=&#x27;random&#x27;, random_state=1234)</pre><b>In a Jupyter environment, please rerun this cell to show the HTML representation or trust the notebook. <br />On GitHub, the HTML representation is unable to render, please try loading this page with nbviewer.org.</b></div><div class=\"sk-container\" hidden><div class=\"sk-item\"><div class=\"sk-estimator sk-toggleable\"><input class=\"sk-toggleable__control sk-hidden--visually\" id=\"sk-estimator-id-3\" type=\"checkbox\" checked><label for=\"sk-estimator-id-3\" class=\"sk-toggleable__label sk-toggleable__label-arrow\">TSNE</label><div class=\"sk-toggleable__content\"><pre>TSNE(init=&#x27;random&#x27;, random_state=1234)</pre></div></div></div></div></div>"
      ],
      "text/plain": [
       "PyObject TSNE(init='random', random_state=1234)"
      ]
     },
     "execution_count": 55,
     "metadata": {},
     "output_type": "execute_result"
    }
   ],
   "source": [
    "tsne = manifold.TSNE(n_components=2, init=\"random\",\n",
    "                            learning_rate=\"auto\", random_state=1234)"
   ]
  },
  {
   "cell_type": "code",
   "execution_count": 56,
   "id": "a28c7424",
   "metadata": {},
   "outputs": [
    {
     "data": {
      "text/plain": [
       "200×5 Matrix{Float64}:\n",
       " -1.47267    -0.793283   -1.78457    -0.683267   -2.30552\n",
       " -2.57908    -1.01747    -1.17309    -0.635685   -0.889063\n",
       "  0.942477   -0.362311    0.493396   -0.812999   -0.276004\n",
       " -0.66483    -1.4533     -0.733364   -1.81203    -0.393998\n",
       " -0.824515   -2.02515    -0.146024   -1.5159      0.315533\n",
       " -0.92702    -1.2316     -1.49249     1.86384    -1.37639\n",
       " -0.806021   -0.716135   -1.13584    -0.522863   -0.0639138\n",
       " -0.955297   -0.856104   -0.910632   -1.13668    -2.12043\n",
       " -1.60907    -0.486445    0.625125   -1.06804    -0.869047\n",
       " -0.286469   -0.0807028  -1.35567    -1.2396     -2.01966\n",
       " -0.631138   -1.05612    -0.835645   -2.99346    -0.179164\n",
       " -1.75635    -2.63681    -0.433571   -1.09213    -1.11263\n",
       " -0.159331   -0.825695   -1.67013    -1.73587    -0.869486\n",
       "  ⋮                                              \n",
       " -2.46076    -1.02887     1.04436     1.6434      1.73181\n",
       "  0.677942    0.793417    0.427743    0.511428    1.13177\n",
       "  1.03823    -0.853539    0.256478   -0.385559    0.0468169\n",
       "  0.419549    1.45733     1.30307     0.532303   -0.245523\n",
       "  0.737003    2.49169     0.715132    1.82495     1.29773\n",
       "  0.0320193   2.21703     1.74219     1.18143     0.704588\n",
       "  3.3362      0.890434   -0.314073    0.720251   -0.6485\n",
       "  1.37214     1.13595    -0.888079    0.959408    1.03657\n",
       "  3.50115     1.83843     1.30744    -1.7275      1.14003\n",
       "  2.18976     0.750901    0.0150626  -0.0473016   0.562347\n",
       "  1.8881      0.299527   -0.835646    1.62819     3.0122\n",
       "  1.12042     0.479636    0.822309    1.16345     0.266042"
      ]
     },
     "execution_count": 56,
     "metadata": {},
     "output_type": "execute_result"
    }
   ],
   "source": [
    "data5 = vcat(cluster1, cluster2)"
   ]
  },
  {
   "cell_type": "code",
   "execution_count": 57,
   "id": "3b4ad6bf",
   "metadata": {},
   "outputs": [
    {
     "data": {
      "text/plain": [
       "200×2 Matrix{Float32}:\n",
       "  -3.31006    11.9431\n",
       " -10.2599     10.4024\n",
       "   1.41287     0.228867\n",
       "  -7.64581     5.74457\n",
       "  -7.31292     6.65021\n",
       "  -0.210355    6.89848\n",
       "  -5.01369     5.29785\n",
       "  -3.51495    10.5233\n",
       "  -5.57201     2.49366\n",
       "  -1.72207    10.3352\n",
       "  -8.75799     4.24341\n",
       "  -7.59115     9.11865\n",
       "  -3.90973     6.66736\n",
       "   ⋮         \n",
       "  -1.25457   -10.7798\n",
       "   4.20296    -8.17286\n",
       "   1.21825     0.309574\n",
       "   4.82747    -5.09281\n",
       "   6.35946   -10.4653\n",
       "   7.30571   -11.6677\n",
       "   7.20131    -2.73696\n",
       "   2.7489     -8.29167\n",
       "   9.81758    -2.858\n",
       "   6.71072    -3.15266\n",
       "   2.00217   -10.3913\n",
       "   5.52674    -6.374"
      ]
     },
     "execution_count": 57,
     "metadata": {},
     "output_type": "execute_result"
    }
   ],
   "source": [
    "data2 = tsne.fit_transform(data5)"
   ]
  },
  {
   "cell_type": "markdown",
   "id": "b612535a",
   "metadata": {},
   "source": [
    "Back to Julia ..."
   ]
  },
  {
   "cell_type": "code",
   "execution_count": 58,
   "id": "ed013499",
   "metadata": {},
   "outputs": [
    {
     "data": {
      "image/svg+xml": [
       "<?xml version=\"1.0\" encoding=\"utf-8\"?>\n",
       "<svg xmlns=\"http://www.w3.org/2000/svg\" xmlns:xlink=\"http://www.w3.org/1999/xlink\" width=\"600\" height=\"400\" viewBox=\"0 0 2400 1600\">\n",
       "<defs>\n",
       "  <clipPath id=\"clip230\">\n",
       "    <rect x=\"0\" y=\"0\" width=\"2400\" height=\"1600\"/>\n",
       "  </clipPath>\n",
       "</defs>\n",
       "<path clip-path=\"url(#clip230)\" d=\"M0 1600 L2400 1600 L2400 0 L0 0  Z\" fill=\"#ffffff\" fill-rule=\"evenodd\" fill-opacity=\"1\"/>\n",
       "<defs>\n",
       "  <clipPath id=\"clip231\">\n",
       "    <rect x=\"480\" y=\"0\" width=\"1681\" height=\"1600\"/>\n",
       "  </clipPath>\n",
       "</defs>\n",
       "<path clip-path=\"url(#clip230)\" d=\"M178.867 1486.45 L2352.76 1486.45 L2352.76 47.2441 L178.867 47.2441  Z\" fill=\"#ffffff\" fill-rule=\"evenodd\" fill-opacity=\"1\"/>\n",
       "<defs>\n",
       "  <clipPath id=\"clip232\">\n",
       "    <rect x=\"178\" y=\"47\" width=\"2175\" height=\"1440\"/>\n",
       "  </clipPath>\n",
       "</defs>\n",
       "<polyline clip-path=\"url(#clip232)\" style=\"stroke:#000000; stroke-linecap:round; stroke-linejoin:round; stroke-width:2; stroke-opacity:0.1; fill:none\" points=\"370.619,1486.45 370.619,47.2441 \"/>\n",
       "<polyline clip-path=\"url(#clip232)\" style=\"stroke:#000000; stroke-linecap:round; stroke-linejoin:round; stroke-width:2; stroke-opacity:0.1; fill:none\" points=\"820.904,1486.45 820.904,47.2441 \"/>\n",
       "<polyline clip-path=\"url(#clip232)\" style=\"stroke:#000000; stroke-linecap:round; stroke-linejoin:round; stroke-width:2; stroke-opacity:0.1; fill:none\" points=\"1271.19,1486.45 1271.19,47.2441 \"/>\n",
       "<polyline clip-path=\"url(#clip232)\" style=\"stroke:#000000; stroke-linecap:round; stroke-linejoin:round; stroke-width:2; stroke-opacity:0.1; fill:none\" points=\"1721.47,1486.45 1721.47,47.2441 \"/>\n",
       "<polyline clip-path=\"url(#clip232)\" style=\"stroke:#000000; stroke-linecap:round; stroke-linejoin:round; stroke-width:2; stroke-opacity:0.1; fill:none\" points=\"2171.76,1486.45 2171.76,47.2441 \"/>\n",
       "<polyline clip-path=\"url(#clip230)\" style=\"stroke:#000000; stroke-linecap:round; stroke-linejoin:round; stroke-width:4; stroke-opacity:1; fill:none\" points=\"178.867,1486.45 2352.76,1486.45 \"/>\n",
       "<polyline clip-path=\"url(#clip230)\" style=\"stroke:#000000; stroke-linecap:round; stroke-linejoin:round; stroke-width:4; stroke-opacity:1; fill:none\" points=\"370.619,1486.45 370.619,1467.55 \"/>\n",
       "<polyline clip-path=\"url(#clip230)\" style=\"stroke:#000000; stroke-linecap:round; stroke-linejoin:round; stroke-width:4; stroke-opacity:1; fill:none\" points=\"820.904,1486.45 820.904,1467.55 \"/>\n",
       "<polyline clip-path=\"url(#clip230)\" style=\"stroke:#000000; stroke-linecap:round; stroke-linejoin:round; stroke-width:4; stroke-opacity:1; fill:none\" points=\"1271.19,1486.45 1271.19,1467.55 \"/>\n",
       "<polyline clip-path=\"url(#clip230)\" style=\"stroke:#000000; stroke-linecap:round; stroke-linejoin:round; stroke-width:4; stroke-opacity:1; fill:none\" points=\"1721.47,1486.45 1721.47,1467.55 \"/>\n",
       "<polyline clip-path=\"url(#clip230)\" style=\"stroke:#000000; stroke-linecap:round; stroke-linejoin:round; stroke-width:4; stroke-opacity:1; fill:none\" points=\"2171.76,1486.45 2171.76,1467.55 \"/>\n",
       "<path clip-path=\"url(#clip230)\" d=\"M324.681 1532.02 L354.357 1532.02 L354.357 1535.95 L324.681 1535.95 L324.681 1532.02 Z\" fill=\"#000000\" fill-rule=\"evenodd\" fill-opacity=\"1\" /><path clip-path=\"url(#clip230)\" d=\"M365.26 1544.91 L372.899 1544.91 L372.899 1518.55 L364.589 1520.21 L364.589 1515.95 L372.853 1514.29 L377.528 1514.29 L377.528 1544.91 L385.167 1544.91 L385.167 1548.85 L365.26 1548.85 L365.26 1544.91 Z\" fill=\"#000000\" fill-rule=\"evenodd\" fill-opacity=\"1\" /><path clip-path=\"url(#clip230)\" d=\"M404.612 1517.37 Q401.001 1517.37 399.172 1520.93 Q397.366 1524.47 397.366 1531.6 Q397.366 1538.71 399.172 1542.27 Q401.001 1545.82 404.612 1545.82 Q408.246 1545.82 410.051 1542.27 Q411.88 1538.71 411.88 1531.6 Q411.88 1524.47 410.051 1520.93 Q408.246 1517.37 404.612 1517.37 M404.612 1513.66 Q410.422 1513.66 413.477 1518.27 Q416.556 1522.85 416.556 1531.6 Q416.556 1540.33 413.477 1544.94 Q410.422 1549.52 404.612 1549.52 Q398.801 1549.52 395.723 1544.94 Q392.667 1540.33 392.667 1531.6 Q392.667 1522.85 395.723 1518.27 Q398.801 1513.66 404.612 1513.66 Z\" fill=\"#000000\" fill-rule=\"evenodd\" fill-opacity=\"1\" /><path clip-path=\"url(#clip230)\" d=\"M790.545 1532.02 L820.221 1532.02 L820.221 1535.95 L790.545 1535.95 L790.545 1532.02 Z\" fill=\"#000000\" fill-rule=\"evenodd\" fill-opacity=\"1\" /><path clip-path=\"url(#clip230)\" d=\"M830.36 1514.29 L848.716 1514.29 L848.716 1518.22 L834.642 1518.22 L834.642 1526.7 Q835.661 1526.35 836.679 1526.19 Q837.698 1526 838.716 1526 Q844.503 1526 847.883 1529.17 Q851.263 1532.34 851.263 1537.76 Q851.263 1543.34 847.79 1546.44 Q844.318 1549.52 837.999 1549.52 Q835.823 1549.52 833.554 1549.15 Q831.309 1548.78 828.902 1548.04 L828.902 1543.34 Q830.985 1544.47 833.207 1545.03 Q835.429 1545.58 837.906 1545.58 Q841.911 1545.58 844.249 1543.48 Q846.587 1541.37 846.587 1537.76 Q846.587 1534.15 844.249 1532.04 Q841.911 1529.94 837.906 1529.94 Q836.031 1529.94 834.156 1530.35 Q832.304 1530.77 830.36 1531.65 L830.36 1514.29 Z\" fill=\"#000000\" fill-rule=\"evenodd\" fill-opacity=\"1\" /><path clip-path=\"url(#clip230)\" d=\"M1271.19 1517.37 Q1267.58 1517.37 1265.75 1520.93 Q1263.94 1524.47 1263.94 1531.6 Q1263.94 1538.71 1265.75 1542.27 Q1267.58 1545.82 1271.19 1545.82 Q1274.82 1545.82 1276.63 1542.27 Q1278.46 1538.71 1278.46 1531.6 Q1278.46 1524.47 1276.63 1520.93 Q1274.82 1517.37 1271.19 1517.37 M1271.19 1513.66 Q1277 1513.66 1280.05 1518.27 Q1283.13 1522.85 1283.13 1531.6 Q1283.13 1540.33 1280.05 1544.94 Q1277 1549.52 1271.19 1549.52 Q1265.38 1549.52 1262.3 1544.94 Q1259.24 1540.33 1259.24 1531.6 Q1259.24 1522.85 1262.3 1518.27 Q1265.38 1513.66 1271.19 1513.66 Z\" fill=\"#000000\" fill-rule=\"evenodd\" fill-opacity=\"1\" /><path clip-path=\"url(#clip230)\" d=\"M1711.75 1514.29 L1730.11 1514.29 L1730.11 1518.22 L1716.03 1518.22 L1716.03 1526.7 Q1717.05 1526.35 1718.07 1526.19 Q1719.09 1526 1720.11 1526 Q1725.9 1526 1729.28 1529.17 Q1732.65 1532.34 1732.65 1537.76 Q1732.65 1543.34 1729.18 1546.44 Q1725.71 1549.52 1719.39 1549.52 Q1717.21 1549.52 1714.95 1549.15 Q1712.7 1548.78 1710.29 1548.04 L1710.29 1543.34 Q1712.38 1544.47 1714.6 1545.03 Q1716.82 1545.58 1719.3 1545.58 Q1723.3 1545.58 1725.64 1543.48 Q1727.98 1541.37 1727.98 1537.76 Q1727.98 1534.15 1725.64 1532.04 Q1723.3 1529.94 1719.3 1529.94 Q1717.42 1529.94 1715.55 1530.35 Q1713.7 1530.77 1711.75 1531.65 L1711.75 1514.29 Z\" fill=\"#000000\" fill-rule=\"evenodd\" fill-opacity=\"1\" /><path clip-path=\"url(#clip230)\" d=\"M2146.45 1544.91 L2154.09 1544.91 L2154.09 1518.55 L2145.78 1520.21 L2145.78 1515.95 L2154.04 1514.29 L2158.72 1514.29 L2158.72 1544.91 L2166.35 1544.91 L2166.35 1548.85 L2146.45 1548.85 L2146.45 1544.91 Z\" fill=\"#000000\" fill-rule=\"evenodd\" fill-opacity=\"1\" /><path clip-path=\"url(#clip230)\" d=\"M2185.8 1517.37 Q2182.19 1517.37 2180.36 1520.93 Q2178.55 1524.47 2178.55 1531.6 Q2178.55 1538.71 2180.36 1542.27 Q2182.19 1545.82 2185.8 1545.82 Q2189.43 1545.82 2191.24 1542.27 Q2193.07 1538.71 2193.07 1531.6 Q2193.07 1524.47 2191.24 1520.93 Q2189.43 1517.37 2185.8 1517.37 M2185.8 1513.66 Q2191.61 1513.66 2194.66 1518.27 Q2197.74 1522.85 2197.74 1531.6 Q2197.74 1540.33 2194.66 1544.94 Q2191.61 1549.52 2185.8 1549.52 Q2179.99 1549.52 2176.91 1544.94 Q2173.85 1540.33 2173.85 1531.6 Q2173.85 1522.85 2176.91 1518.27 Q2179.99 1513.66 2185.8 1513.66 Z\" fill=\"#000000\" fill-rule=\"evenodd\" fill-opacity=\"1\" /><polyline clip-path=\"url(#clip232)\" style=\"stroke:#000000; stroke-linecap:round; stroke-linejoin:round; stroke-width:2; stroke-opacity:0.1; fill:none\" points=\"178.867,1472.28 2352.76,1472.28 \"/>\n",
       "<polyline clip-path=\"url(#clip232)\" style=\"stroke:#000000; stroke-linecap:round; stroke-linejoin:round; stroke-width:2; stroke-opacity:0.1; fill:none\" points=\"178.867,1237.71 2352.76,1237.71 \"/>\n",
       "<polyline clip-path=\"url(#clip232)\" style=\"stroke:#000000; stroke-linecap:round; stroke-linejoin:round; stroke-width:2; stroke-opacity:0.1; fill:none\" points=\"178.867,1003.15 2352.76,1003.15 \"/>\n",
       "<polyline clip-path=\"url(#clip232)\" style=\"stroke:#000000; stroke-linecap:round; stroke-linejoin:round; stroke-width:2; stroke-opacity:0.1; fill:none\" points=\"178.867,768.579 2352.76,768.579 \"/>\n",
       "<polyline clip-path=\"url(#clip232)\" style=\"stroke:#000000; stroke-linecap:round; stroke-linejoin:round; stroke-width:2; stroke-opacity:0.1; fill:none\" points=\"178.867,534.013 2352.76,534.013 \"/>\n",
       "<polyline clip-path=\"url(#clip232)\" style=\"stroke:#000000; stroke-linecap:round; stroke-linejoin:round; stroke-width:2; stroke-opacity:0.1; fill:none\" points=\"178.867,299.446 2352.76,299.446 \"/>\n",
       "<polyline clip-path=\"url(#clip232)\" style=\"stroke:#000000; stroke-linecap:round; stroke-linejoin:round; stroke-width:2; stroke-opacity:0.1; fill:none\" points=\"178.867,64.8799 2352.76,64.8799 \"/>\n",
       "<polyline clip-path=\"url(#clip230)\" style=\"stroke:#000000; stroke-linecap:round; stroke-linejoin:round; stroke-width:4; stroke-opacity:1; fill:none\" points=\"178.867,1486.45 178.867,47.2441 \"/>\n",
       "<polyline clip-path=\"url(#clip230)\" style=\"stroke:#000000; stroke-linecap:round; stroke-linejoin:round; stroke-width:4; stroke-opacity:1; fill:none\" points=\"178.867,1472.28 197.764,1472.28 \"/>\n",
       "<polyline clip-path=\"url(#clip230)\" style=\"stroke:#000000; stroke-linecap:round; stroke-linejoin:round; stroke-width:4; stroke-opacity:1; fill:none\" points=\"178.867,1237.71 197.764,1237.71 \"/>\n",
       "<polyline clip-path=\"url(#clip230)\" style=\"stroke:#000000; stroke-linecap:round; stroke-linejoin:round; stroke-width:4; stroke-opacity:1; fill:none\" points=\"178.867,1003.15 197.764,1003.15 \"/>\n",
       "<polyline clip-path=\"url(#clip230)\" style=\"stroke:#000000; stroke-linecap:round; stroke-linejoin:round; stroke-width:4; stroke-opacity:1; fill:none\" points=\"178.867,768.579 197.764,768.579 \"/>\n",
       "<polyline clip-path=\"url(#clip230)\" style=\"stroke:#000000; stroke-linecap:round; stroke-linejoin:round; stroke-width:4; stroke-opacity:1; fill:none\" points=\"178.867,534.013 197.764,534.013 \"/>\n",
       "<polyline clip-path=\"url(#clip230)\" style=\"stroke:#000000; stroke-linecap:round; stroke-linejoin:round; stroke-width:4; stroke-opacity:1; fill:none\" points=\"178.867,299.446 197.764,299.446 \"/>\n",
       "<polyline clip-path=\"url(#clip230)\" style=\"stroke:#000000; stroke-linecap:round; stroke-linejoin:round; stroke-width:4; stroke-opacity:1; fill:none\" points=\"178.867,64.8799 197.764,64.8799 \"/>\n",
       "<path clip-path=\"url(#clip230)\" d=\"M51.9875 1472.73 L81.6633 1472.73 L81.6633 1476.66 L51.9875 1476.66 L51.9875 1472.73 Z\" fill=\"#000000\" fill-rule=\"evenodd\" fill-opacity=\"1\" /><path clip-path=\"url(#clip230)\" d=\"M92.566 1485.62 L100.205 1485.62 L100.205 1459.26 L91.8947 1460.92 L91.8947 1456.66 L100.159 1455 L104.834 1455 L104.834 1485.62 L112.473 1485.62 L112.473 1489.56 L92.566 1489.56 L92.566 1485.62 Z\" fill=\"#000000\" fill-rule=\"evenodd\" fill-opacity=\"1\" /><path clip-path=\"url(#clip230)\" d=\"M121.964 1455 L140.32 1455 L140.32 1458.93 L126.246 1458.93 L126.246 1467.41 Q127.265 1467.06 128.283 1466.9 Q129.302 1466.71 130.32 1466.71 Q136.107 1466.71 139.487 1469.88 Q142.867 1473.05 142.867 1478.47 Q142.867 1484.05 139.394 1487.15 Q135.922 1490.23 129.603 1490.23 Q127.427 1490.23 125.158 1489.86 Q122.913 1489.49 120.506 1488.75 L120.506 1484.05 Q122.589 1485.18 124.811 1485.74 Q127.033 1486.29 129.51 1486.29 Q133.515 1486.29 135.853 1484.19 Q138.191 1482.08 138.191 1478.47 Q138.191 1474.86 135.853 1472.75 Q133.515 1470.65 129.51 1470.65 Q127.635 1470.65 125.76 1471.06 Q123.908 1471.48 121.964 1472.36 L121.964 1455 Z\" fill=\"#000000\" fill-rule=\"evenodd\" fill-opacity=\"1\" /><path clip-path=\"url(#clip230)\" d=\"M50.9921 1238.16 L80.6679 1238.16 L80.6679 1242.1 L50.9921 1242.1 L50.9921 1238.16 Z\" fill=\"#000000\" fill-rule=\"evenodd\" fill-opacity=\"1\" /><path clip-path=\"url(#clip230)\" d=\"M91.5706 1251.06 L99.2095 1251.06 L99.2095 1224.69 L90.8993 1226.36 L90.8993 1222.1 L99.1632 1220.43 L103.839 1220.43 L103.839 1251.06 L111.478 1251.06 L111.478 1254.99 L91.5706 1254.99 L91.5706 1251.06 Z\" fill=\"#000000\" fill-rule=\"evenodd\" fill-opacity=\"1\" /><path clip-path=\"url(#clip230)\" d=\"M130.922 1223.51 Q127.311 1223.51 125.482 1227.08 Q123.677 1230.62 123.677 1237.75 Q123.677 1244.85 125.482 1248.42 Q127.311 1251.96 130.922 1251.96 Q134.556 1251.96 136.362 1248.42 Q138.191 1244.85 138.191 1237.75 Q138.191 1230.62 136.362 1227.08 Q134.556 1223.51 130.922 1223.51 M130.922 1219.81 Q136.732 1219.81 139.788 1224.41 Q142.867 1229 142.867 1237.75 Q142.867 1246.47 139.788 1251.08 Q136.732 1255.66 130.922 1255.66 Q125.112 1255.66 122.033 1251.08 Q118.978 1246.47 118.978 1237.75 Q118.978 1229 122.033 1224.41 Q125.112 1219.81 130.922 1219.81 Z\" fill=\"#000000\" fill-rule=\"evenodd\" fill-opacity=\"1\" /><path clip-path=\"url(#clip230)\" d=\"M82.1494 1003.6 L111.825 1003.6 L111.825 1007.53 L82.1494 1007.53 L82.1494 1003.6 Z\" fill=\"#000000\" fill-rule=\"evenodd\" fill-opacity=\"1\" /><path clip-path=\"url(#clip230)\" d=\"M121.964 985.865 L140.32 985.865 L140.32 989.8 L126.246 989.8 L126.246 998.273 Q127.265 997.925 128.283 997.763 Q129.302 997.578 130.32 997.578 Q136.107 997.578 139.487 1000.75 Q142.867 1003.92 142.867 1009.34 Q142.867 1014.92 139.394 1018.02 Q135.922 1021.1 129.603 1021.1 Q127.427 1021.1 125.158 1020.73 Q122.913 1020.36 120.506 1019.62 L120.506 1014.92 Q122.589 1016.05 124.811 1016.61 Q127.033 1017.16 129.51 1017.16 Q133.515 1017.16 135.853 1015.05 Q138.191 1012.95 138.191 1009.34 Q138.191 1005.73 135.853 1003.62 Q133.515 1001.51 129.51 1001.51 Q127.635 1001.51 125.76 1001.93 Q123.908 1002.35 121.964 1003.23 L121.964 985.865 Z\" fill=\"#000000\" fill-rule=\"evenodd\" fill-opacity=\"1\" /><path clip-path=\"url(#clip230)\" d=\"M130.922 754.378 Q127.311 754.378 125.482 757.942 Q123.677 761.484 123.677 768.614 Q123.677 775.72 125.482 779.285 Q127.311 782.827 130.922 782.827 Q134.556 782.827 136.362 779.285 Q138.191 775.72 138.191 768.614 Q138.191 761.484 136.362 757.942 Q134.556 754.378 130.922 754.378 M130.922 750.674 Q136.732 750.674 139.788 755.28 Q142.867 759.864 142.867 768.614 Q142.867 777.34 139.788 781.947 Q136.732 786.53 130.922 786.53 Q125.112 786.53 122.033 781.947 Q118.978 777.34 118.978 768.614 Q118.978 759.864 122.033 755.28 Q125.112 750.674 130.922 750.674 Z\" fill=\"#000000\" fill-rule=\"evenodd\" fill-opacity=\"1\" /><path clip-path=\"url(#clip230)\" d=\"M121.964 516.733 L140.32 516.733 L140.32 520.668 L126.246 520.668 L126.246 529.14 Q127.265 528.793 128.283 528.631 Q129.302 528.445 130.32 528.445 Q136.107 528.445 139.487 531.617 Q142.867 534.788 142.867 540.205 Q142.867 545.783 139.394 548.885 Q135.922 551.964 129.603 551.964 Q127.427 551.964 125.158 551.594 Q122.913 551.223 120.506 550.482 L120.506 545.783 Q122.589 546.918 124.811 547.473 Q127.033 548.029 129.51 548.029 Q133.515 548.029 135.853 545.922 Q138.191 543.816 138.191 540.205 Q138.191 536.594 135.853 534.487 Q133.515 532.381 129.51 532.381 Q127.635 532.381 125.76 532.797 Q123.908 533.214 121.964 534.094 L121.964 516.733 Z\" fill=\"#000000\" fill-rule=\"evenodd\" fill-opacity=\"1\" /><path clip-path=\"url(#clip230)\" d=\"M91.5706 312.791 L99.2095 312.791 L99.2095 286.425 L90.8993 288.092 L90.8993 283.833 L99.1632 282.166 L103.839 282.166 L103.839 312.791 L111.478 312.791 L111.478 316.726 L91.5706 316.726 L91.5706 312.791 Z\" fill=\"#000000\" fill-rule=\"evenodd\" fill-opacity=\"1\" /><path clip-path=\"url(#clip230)\" d=\"M130.922 285.245 Q127.311 285.245 125.482 288.81 Q123.677 292.351 123.677 299.481 Q123.677 306.587 125.482 310.152 Q127.311 313.694 130.922 313.694 Q134.556 313.694 136.362 310.152 Q138.191 306.587 138.191 299.481 Q138.191 292.351 136.362 288.81 Q134.556 285.245 130.922 285.245 M130.922 281.541 Q136.732 281.541 139.788 286.148 Q142.867 290.731 142.867 299.481 Q142.867 308.208 139.788 312.814 Q136.732 317.398 130.922 317.398 Q125.112 317.398 122.033 312.814 Q118.978 308.208 118.978 299.481 Q118.978 290.731 122.033 286.148 Q125.112 281.541 130.922 281.541 Z\" fill=\"#000000\" fill-rule=\"evenodd\" fill-opacity=\"1\" /><path clip-path=\"url(#clip230)\" d=\"M92.566 78.2248 L100.205 78.2248 L100.205 51.8592 L91.8947 53.5258 L91.8947 49.2666 L100.159 47.5999 L104.834 47.5999 L104.834 78.2248 L112.473 78.2248 L112.473 82.1599 L92.566 82.1599 L92.566 78.2248 Z\" fill=\"#000000\" fill-rule=\"evenodd\" fill-opacity=\"1\" /><path clip-path=\"url(#clip230)\" d=\"M121.964 47.5999 L140.32 47.5999 L140.32 51.5351 L126.246 51.5351 L126.246 60.0073 Q127.265 59.6601 128.283 59.498 Q129.302 59.3128 130.32 59.3128 Q136.107 59.3128 139.487 62.4841 Q142.867 65.6554 142.867 71.072 Q142.867 76.6507 139.394 79.7525 Q135.922 82.8312 129.603 82.8312 Q127.427 82.8312 125.158 82.4609 Q122.913 82.0905 120.506 81.3498 L120.506 76.6507 Q122.589 77.785 124.811 78.3405 Q127.033 78.8961 129.51 78.8961 Q133.515 78.8961 135.853 76.7896 Q138.191 74.6831 138.191 71.072 Q138.191 67.4609 135.853 65.3545 Q133.515 63.248 129.51 63.248 Q127.635 63.248 125.76 63.6647 Q123.908 64.0813 121.964 64.961 L121.964 47.5999 Z\" fill=\"#000000\" fill-rule=\"evenodd\" fill-opacity=\"1\" /><circle clip-path=\"url(#clip232)\" cx=\"973.095\" cy=\"208.29\" r=\"14.4\" fill=\"#000000\" fill-rule=\"evenodd\" fill-opacity=\"1\" stroke=\"none\"/>\n",
       "<circle clip-path=\"url(#clip232)\" cx=\"347.209\" cy=\"280.567\" r=\"14.4\" fill=\"#000000\" fill-rule=\"evenodd\" fill-opacity=\"1\" stroke=\"none\"/>\n",
       "<circle clip-path=\"url(#clip232)\" cx=\"1398.43\" cy=\"757.842\" r=\"14.4\" fill=\"#000000\" fill-rule=\"evenodd\" fill-opacity=\"1\" stroke=\"none\"/>\n",
       "<circle clip-path=\"url(#clip232)\" cx=\"582.63\" cy=\"499.082\" r=\"14.4\" fill=\"#000000\" fill-rule=\"evenodd\" fill-opacity=\"1\" stroke=\"none\"/>\n",
       "<circle clip-path=\"url(#clip232)\" cx=\"612.61\" cy=\"456.596\" r=\"14.4\" fill=\"#000000\" fill-rule=\"evenodd\" fill-opacity=\"1\" stroke=\"none\"/>\n",
       "<circle clip-path=\"url(#clip232)\" cx=\"1252.25\" cy=\"444.949\" r=\"14.4\" fill=\"#000000\" fill-rule=\"evenodd\" fill-opacity=\"1\" stroke=\"none\"/>\n",
       "<circle clip-path=\"url(#clip232)\" cx=\"819.671\" cy=\"520.039\" r=\"14.4\" fill=\"#000000\" fill-rule=\"evenodd\" fill-opacity=\"1\" stroke=\"none\"/>\n",
       "<circle clip-path=\"url(#clip232)\" cx=\"954.643\" cy=\"274.897\" r=\"14.4\" fill=\"#000000\" fill-rule=\"evenodd\" fill-opacity=\"1\" stroke=\"none\"/>\n",
       "<circle clip-path=\"url(#clip232)\" cx=\"769.39\" cy=\"651.593\" r=\"14.4\" fill=\"#000000\" fill-rule=\"evenodd\" fill-opacity=\"1\" stroke=\"none\"/>\n",
       "<circle clip-path=\"url(#clip232)\" cx=\"1116.1\" cy=\"283.72\" r=\"14.4\" fill=\"#000000\" fill-rule=\"evenodd\" fill-opacity=\"1\" stroke=\"none\"/>\n",
       "<circle clip-path=\"url(#clip232)\" cx=\"482.471\" cy=\"569.506\" r=\"14.4\" fill=\"#000000\" fill-rule=\"evenodd\" fill-opacity=\"1\" stroke=\"none\"/>\n",
       "<circle clip-path=\"url(#clip232)\" cx=\"587.552\" cy=\"340.793\" r=\"14.4\" fill=\"#000000\" fill-rule=\"evenodd\" fill-opacity=\"1\" stroke=\"none\"/>\n",
       "<circle clip-path=\"url(#clip232)\" cx=\"919.09\" cy=\"455.791\" r=\"14.4\" fill=\"#000000\" fill-rule=\"evenodd\" fill-opacity=\"1\" stroke=\"none\"/>\n",
       "<circle clip-path=\"url(#clip232)\" cx=\"907.26\" cy=\"102.774\" r=\"14.4\" fill=\"#000000\" fill-rule=\"evenodd\" fill-opacity=\"1\" stroke=\"none\"/>\n",
       "<circle clip-path=\"url(#clip232)\" cx=\"1061.55\" cy=\"227.255\" r=\"14.4\" fill=\"#000000\" fill-rule=\"evenodd\" fill-opacity=\"1\" stroke=\"none\"/>\n",
       "<circle clip-path=\"url(#clip232)\" cx=\"961.183\" cy=\"352.082\" r=\"14.4\" fill=\"#000000\" fill-rule=\"evenodd\" fill-opacity=\"1\" stroke=\"none\"/>\n",
       "<circle clip-path=\"url(#clip232)\" cx=\"597.755\" cy=\"509.327\" r=\"14.4\" fill=\"#000000\" fill-rule=\"evenodd\" fill-opacity=\"1\" stroke=\"none\"/>\n",
       "<circle clip-path=\"url(#clip232)\" cx=\"958.412\" cy=\"358.248\" r=\"14.4\" fill=\"#000000\" fill-rule=\"evenodd\" fill-opacity=\"1\" stroke=\"none\"/>\n",
       "<circle clip-path=\"url(#clip232)\" cx=\"859.176\" cy=\"216.579\" r=\"14.4\" fill=\"#000000\" fill-rule=\"evenodd\" fill-opacity=\"1\" stroke=\"none\"/>\n",
       "<circle clip-path=\"url(#clip232)\" cx=\"1150.59\" cy=\"337.699\" r=\"14.4\" fill=\"#000000\" fill-rule=\"evenodd\" fill-opacity=\"1\" stroke=\"none\"/>\n",
       "<circle clip-path=\"url(#clip232)\" cx=\"808.108\" cy=\"259.557\" r=\"14.4\" fill=\"#000000\" fill-rule=\"evenodd\" fill-opacity=\"1\" stroke=\"none\"/>\n",
       "<circle clip-path=\"url(#clip232)\" cx=\"735.876\" cy=\"227.988\" r=\"14.4\" fill=\"#000000\" fill-rule=\"evenodd\" fill-opacity=\"1\" stroke=\"none\"/>\n",
       "<circle clip-path=\"url(#clip232)\" cx=\"669.517\" cy=\"654.175\" r=\"14.4\" fill=\"#000000\" fill-rule=\"evenodd\" fill-opacity=\"1\" stroke=\"none\"/>\n",
       "<circle clip-path=\"url(#clip232)\" cx=\"585.44\" cy=\"634.563\" r=\"14.4\" fill=\"#000000\" fill-rule=\"evenodd\" fill-opacity=\"1\" stroke=\"none\"/>\n",
       "<circle clip-path=\"url(#clip232)\" cx=\"470.301\" cy=\"509.456\" r=\"14.4\" fill=\"#000000\" fill-rule=\"evenodd\" fill-opacity=\"1\" stroke=\"none\"/>\n",
       "<circle clip-path=\"url(#clip232)\" cx=\"305.905\" cy=\"349.201\" r=\"14.4\" fill=\"#000000\" fill-rule=\"evenodd\" fill-opacity=\"1\" stroke=\"none\"/>\n",
       "<circle clip-path=\"url(#clip232)\" cx=\"721.817\" cy=\"635.004\" r=\"14.4\" fill=\"#000000\" fill-rule=\"evenodd\" fill-opacity=\"1\" stroke=\"none\"/>\n",
       "<circle clip-path=\"url(#clip232)\" cx=\"673.037\" cy=\"375.869\" r=\"14.4\" fill=\"#000000\" fill-rule=\"evenodd\" fill-opacity=\"1\" stroke=\"none\"/>\n",
       "<circle clip-path=\"url(#clip232)\" cx=\"1108.4\" cy=\"389.206\" r=\"14.4\" fill=\"#000000\" fill-rule=\"evenodd\" fill-opacity=\"1\" stroke=\"none\"/>\n",
       "<circle clip-path=\"url(#clip232)\" cx=\"916.344\" cy=\"87.9763\" r=\"14.4\" fill=\"#000000\" fill-rule=\"evenodd\" fill-opacity=\"1\" stroke=\"none\"/>\n",
       "<circle clip-path=\"url(#clip232)\" cx=\"458.574\" cy=\"335.471\" r=\"14.4\" fill=\"#000000\" fill-rule=\"evenodd\" fill-opacity=\"1\" stroke=\"none\"/>\n",
       "<circle clip-path=\"url(#clip232)\" cx=\"589.044\" cy=\"415.099\" r=\"14.4\" fill=\"#000000\" fill-rule=\"evenodd\" fill-opacity=\"1\" stroke=\"none\"/>\n",
       "<circle clip-path=\"url(#clip232)\" cx=\"967.704\" cy=\"590.723\" r=\"14.4\" fill=\"#000000\" fill-rule=\"evenodd\" fill-opacity=\"1\" stroke=\"none\"/>\n",
       "<circle clip-path=\"url(#clip232)\" cx=\"1342.56\" cy=\"267.846\" r=\"14.4\" fill=\"#000000\" fill-rule=\"evenodd\" fill-opacity=\"1\" stroke=\"none\"/>\n",
       "<circle clip-path=\"url(#clip232)\" cx=\"775.971\" cy=\"380.416\" r=\"14.4\" fill=\"#000000\" fill-rule=\"evenodd\" fill-opacity=\"1\" stroke=\"none\"/>\n",
       "<circle clip-path=\"url(#clip232)\" cx=\"1045.81\" cy=\"1104.06\" r=\"14.4\" fill=\"#000000\" fill-rule=\"evenodd\" fill-opacity=\"1\" stroke=\"none\"/>\n",
       "<circle clip-path=\"url(#clip232)\" cx=\"423.949\" cy=\"273.579\" r=\"14.4\" fill=\"#000000\" fill-rule=\"evenodd\" fill-opacity=\"1\" stroke=\"none\"/>\n",
       "<circle clip-path=\"url(#clip232)\" cx=\"730.148\" cy=\"417.557\" r=\"14.4\" fill=\"#000000\" fill-rule=\"evenodd\" fill-opacity=\"1\" stroke=\"none\"/>\n",
       "<circle clip-path=\"url(#clip232)\" cx=\"1118.4\" cy=\"171.451\" r=\"14.4\" fill=\"#000000\" fill-rule=\"evenodd\" fill-opacity=\"1\" stroke=\"none\"/>\n",
       "<circle clip-path=\"url(#clip232)\" cx=\"698.384\" cy=\"153.609\" r=\"14.4\" fill=\"#000000\" fill-rule=\"evenodd\" fill-opacity=\"1\" stroke=\"none\"/>\n",
       "<circle clip-path=\"url(#clip232)\" cx=\"627.136\" cy=\"386.594\" r=\"14.4\" fill=\"#000000\" fill-rule=\"evenodd\" fill-opacity=\"1\" stroke=\"none\"/>\n",
       "<circle clip-path=\"url(#clip232)\" cx=\"743.156\" cy=\"429.816\" r=\"14.4\" fill=\"#000000\" fill-rule=\"evenodd\" fill-opacity=\"1\" stroke=\"none\"/>\n",
       "<circle clip-path=\"url(#clip232)\" cx=\"1166.25\" cy=\"438.052\" r=\"14.4\" fill=\"#000000\" fill-rule=\"evenodd\" fill-opacity=\"1\" stroke=\"none\"/>\n",
       "<circle clip-path=\"url(#clip232)\" cx=\"732.944\" cy=\"191.71\" r=\"14.4\" fill=\"#000000\" fill-rule=\"evenodd\" fill-opacity=\"1\" stroke=\"none\"/>\n",
       "<circle clip-path=\"url(#clip232)\" cx=\"1274.29\" cy=\"238.972\" r=\"14.4\" fill=\"#000000\" fill-rule=\"evenodd\" fill-opacity=\"1\" stroke=\"none\"/>\n",
       "<circle clip-path=\"url(#clip232)\" cx=\"1124.57\" cy=\"240.834\" r=\"14.4\" fill=\"#000000\" fill-rule=\"evenodd\" fill-opacity=\"1\" stroke=\"none\"/>\n",
       "<circle clip-path=\"url(#clip232)\" cx=\"472.115\" cy=\"455.816\" r=\"14.4\" fill=\"#000000\" fill-rule=\"evenodd\" fill-opacity=\"1\" stroke=\"none\"/>\n",
       "<circle clip-path=\"url(#clip232)\" cx=\"651.931\" cy=\"415.142\" r=\"14.4\" fill=\"#000000\" fill-rule=\"evenodd\" fill-opacity=\"1\" stroke=\"none\"/>\n",
       "<circle clip-path=\"url(#clip232)\" cx=\"365.647\" cy=\"246.207\" r=\"14.4\" fill=\"#000000\" fill-rule=\"evenodd\" fill-opacity=\"1\" stroke=\"none\"/>\n",
       "<circle clip-path=\"url(#clip232)\" cx=\"1022.87\" cy=\"335.858\" r=\"14.4\" fill=\"#000000\" fill-rule=\"evenodd\" fill-opacity=\"1\" stroke=\"none\"/>\n",
       "<circle clip-path=\"url(#clip232)\" cx=\"302.889\" cy=\"594.643\" r=\"14.4\" fill=\"#000000\" fill-rule=\"evenodd\" fill-opacity=\"1\" stroke=\"none\"/>\n",
       "<circle clip-path=\"url(#clip232)\" cx=\"1154.58\" cy=\"528.976\" r=\"14.4\" fill=\"#000000\" fill-rule=\"evenodd\" fill-opacity=\"1\" stroke=\"none\"/>\n",
       "<circle clip-path=\"url(#clip232)\" cx=\"520.985\" cy=\"563.222\" r=\"14.4\" fill=\"#000000\" fill-rule=\"evenodd\" fill-opacity=\"1\" stroke=\"none\"/>\n",
       "<circle clip-path=\"url(#clip232)\" cx=\"973.885\" cy=\"381.339\" r=\"14.4\" fill=\"#000000\" fill-rule=\"evenodd\" fill-opacity=\"1\" stroke=\"none\"/>\n",
       "<circle clip-path=\"url(#clip232)\" cx=\"945.85\" cy=\"253.843\" r=\"14.4\" fill=\"#000000\" fill-rule=\"evenodd\" fill-opacity=\"1\" stroke=\"none\"/>\n",
       "<circle clip-path=\"url(#clip232)\" cx=\"465.721\" cy=\"650.559\" r=\"14.4\" fill=\"#000000\" fill-rule=\"evenodd\" fill-opacity=\"1\" stroke=\"none\"/>\n",
       "<circle clip-path=\"url(#clip232)\" cx=\"1008.17\" cy=\"89.8198\" r=\"14.4\" fill=\"#000000\" fill-rule=\"evenodd\" fill-opacity=\"1\" stroke=\"none\"/>\n",
       "<circle clip-path=\"url(#clip232)\" cx=\"1185\" cy=\"276.296\" r=\"14.4\" fill=\"#000000\" fill-rule=\"evenodd\" fill-opacity=\"1\" stroke=\"none\"/>\n",
       "<circle clip-path=\"url(#clip232)\" cx=\"459.942\" cy=\"435.949\" r=\"14.4\" fill=\"#000000\" fill-rule=\"evenodd\" fill-opacity=\"1\" stroke=\"none\"/>\n",
       "<circle clip-path=\"url(#clip232)\" cx=\"636.588\" cy=\"273.034\" r=\"14.4\" fill=\"#000000\" fill-rule=\"evenodd\" fill-opacity=\"1\" stroke=\"none\"/>\n",
       "<circle clip-path=\"url(#clip232)\" cx=\"635.871\" cy=\"318.901\" r=\"14.4\" fill=\"#000000\" fill-rule=\"evenodd\" fill-opacity=\"1\" stroke=\"none\"/>\n",
       "<circle clip-path=\"url(#clip232)\" cx=\"1328.39\" cy=\"206.548\" r=\"14.4\" fill=\"#000000\" fill-rule=\"evenodd\" fill-opacity=\"1\" stroke=\"none\"/>\n",
       "<circle clip-path=\"url(#clip232)\" cx=\"999.615\" cy=\"279.728\" r=\"14.4\" fill=\"#000000\" fill-rule=\"evenodd\" fill-opacity=\"1\" stroke=\"none\"/>\n",
       "<circle clip-path=\"url(#clip232)\" cx=\"624.24\" cy=\"562.541\" r=\"14.4\" fill=\"#000000\" fill-rule=\"evenodd\" fill-opacity=\"1\" stroke=\"none\"/>\n",
       "<circle clip-path=\"url(#clip232)\" cx=\"915.334\" cy=\"437.46\" r=\"14.4\" fill=\"#000000\" fill-rule=\"evenodd\" fill-opacity=\"1\" stroke=\"none\"/>\n",
       "<circle clip-path=\"url(#clip232)\" cx=\"1311.51\" cy=\"282.625\" r=\"14.4\" fill=\"#000000\" fill-rule=\"evenodd\" fill-opacity=\"1\" stroke=\"none\"/>\n",
       "<circle clip-path=\"url(#clip232)\" cx=\"645.815\" cy=\"469.455\" r=\"14.4\" fill=\"#000000\" fill-rule=\"evenodd\" fill-opacity=\"1\" stroke=\"none\"/>\n",
       "<circle clip-path=\"url(#clip232)\" cx=\"675.72\" cy=\"540.665\" r=\"14.4\" fill=\"#000000\" fill-rule=\"evenodd\" fill-opacity=\"1\" stroke=\"none\"/>\n",
       "<circle clip-path=\"url(#clip232)\" cx=\"1063.44\" cy=\"510.212\" r=\"14.4\" fill=\"#000000\" fill-rule=\"evenodd\" fill-opacity=\"1\" stroke=\"none\"/>\n",
       "<circle clip-path=\"url(#clip232)\" cx=\"367.742\" cy=\"498.903\" r=\"14.4\" fill=\"#000000\" fill-rule=\"evenodd\" fill-opacity=\"1\" stroke=\"none\"/>\n",
       "<circle clip-path=\"url(#clip232)\" cx=\"304.889\" cy=\"531.754\" r=\"14.4\" fill=\"#000000\" fill-rule=\"evenodd\" fill-opacity=\"1\" stroke=\"none\"/>\n",
       "<circle clip-path=\"url(#clip232)\" cx=\"846.481\" cy=\"668.73\" r=\"14.4\" fill=\"#000000\" fill-rule=\"evenodd\" fill-opacity=\"1\" stroke=\"none\"/>\n",
       "<circle clip-path=\"url(#clip232)\" cx=\"977.587\" cy=\"97.5415\" r=\"14.4\" fill=\"#000000\" fill-rule=\"evenodd\" fill-opacity=\"1\" stroke=\"none\"/>\n",
       "<circle clip-path=\"url(#clip232)\" cx=\"881.052\" cy=\"290.949\" r=\"14.4\" fill=\"#000000\" fill-rule=\"evenodd\" fill-opacity=\"1\" stroke=\"none\"/>\n",
       "<circle clip-path=\"url(#clip232)\" cx=\"826.976\" cy=\"494.726\" r=\"14.4\" fill=\"#000000\" fill-rule=\"evenodd\" fill-opacity=\"1\" stroke=\"none\"/>\n",
       "<circle clip-path=\"url(#clip232)\" cx=\"538.044\" cy=\"341.747\" r=\"14.4\" fill=\"#000000\" fill-rule=\"evenodd\" fill-opacity=\"1\" stroke=\"none\"/>\n",
       "<circle clip-path=\"url(#clip232)\" cx=\"817.754\" cy=\"191.327\" r=\"14.4\" fill=\"#000000\" fill-rule=\"evenodd\" fill-opacity=\"1\" stroke=\"none\"/>\n",
       "<circle clip-path=\"url(#clip232)\" cx=\"1057.51\" cy=\"1045.11\" r=\"14.4\" fill=\"#000000\" fill-rule=\"evenodd\" fill-opacity=\"1\" stroke=\"none\"/>\n",
       "<circle clip-path=\"url(#clip232)\" cx=\"341.674\" cy=\"555.693\" r=\"14.4\" fill=\"#000000\" fill-rule=\"evenodd\" fill-opacity=\"1\" stroke=\"none\"/>\n",
       "<circle clip-path=\"url(#clip232)\" cx=\"778.222\" cy=\"533.399\" r=\"14.4\" fill=\"#000000\" fill-rule=\"evenodd\" fill-opacity=\"1\" stroke=\"none\"/>\n",
       "<circle clip-path=\"url(#clip232)\" cx=\"240.392\" cy=\"373.823\" r=\"14.4\" fill=\"#000000\" fill-rule=\"evenodd\" fill-opacity=\"1\" stroke=\"none\"/>\n",
       "<circle clip-path=\"url(#clip232)\" cx=\"684.553\" cy=\"395.563\" r=\"14.4\" fill=\"#000000\" fill-rule=\"evenodd\" fill-opacity=\"1\" stroke=\"none\"/>\n",
       "<circle clip-path=\"url(#clip232)\" cx=\"1011.43\" cy=\"281.057\" r=\"14.4\" fill=\"#000000\" fill-rule=\"evenodd\" fill-opacity=\"1\" stroke=\"none\"/>\n",
       "<circle clip-path=\"url(#clip232)\" cx=\"441.158\" cy=\"592.622\" r=\"14.4\" fill=\"#000000\" fill-rule=\"evenodd\" fill-opacity=\"1\" stroke=\"none\"/>\n",
       "<circle clip-path=\"url(#clip232)\" cx=\"575.067\" cy=\"586.726\" r=\"14.4\" fill=\"#000000\" fill-rule=\"evenodd\" fill-opacity=\"1\" stroke=\"none\"/>\n",
       "<circle clip-path=\"url(#clip232)\" cx=\"1023.58\" cy=\"422.269\" r=\"14.4\" fill=\"#000000\" fill-rule=\"evenodd\" fill-opacity=\"1\" stroke=\"none\"/>\n",
       "<circle clip-path=\"url(#clip232)\" cx=\"929.747\" cy=\"399.737\" r=\"14.4\" fill=\"#000000\" fill-rule=\"evenodd\" fill-opacity=\"1\" stroke=\"none\"/>\n",
       "<circle clip-path=\"url(#clip232)\" cx=\"1562.68\" cy=\"797.757\" r=\"14.4\" fill=\"#000000\" fill-rule=\"evenodd\" fill-opacity=\"1\" stroke=\"none\"/>\n",
       "<circle clip-path=\"url(#clip232)\" cx=\"1207.84\" cy=\"298.937\" r=\"14.4\" fill=\"#000000\" fill-rule=\"evenodd\" fill-opacity=\"1\" stroke=\"none\"/>\n",
       "<circle clip-path=\"url(#clip232)\" cx=\"877.943\" cy=\"661.881\" r=\"14.4\" fill=\"#000000\" fill-rule=\"evenodd\" fill-opacity=\"1\" stroke=\"none\"/>\n",
       "<circle clip-path=\"url(#clip232)\" cx=\"651.398\" cy=\"269.675\" r=\"14.4\" fill=\"#000000\" fill-rule=\"evenodd\" fill-opacity=\"1\" stroke=\"none\"/>\n",
       "<circle clip-path=\"url(#clip232)\" cx=\"394.237\" cy=\"578.997\" r=\"14.4\" fill=\"#000000\" fill-rule=\"evenodd\" fill-opacity=\"1\" stroke=\"none\"/>\n",
       "<circle clip-path=\"url(#clip232)\" cx=\"1149.42\" cy=\"357.107\" r=\"14.4\" fill=\"#000000\" fill-rule=\"evenodd\" fill-opacity=\"1\" stroke=\"none\"/>\n",
       "<circle clip-path=\"url(#clip232)\" cx=\"1199.95\" cy=\"180.814\" r=\"14.4\" fill=\"#000000\" fill-rule=\"evenodd\" fill-opacity=\"1\" stroke=\"none\"/>\n",
       "<circle clip-path=\"url(#clip232)\" cx=\"399.454\" cy=\"427.475\" r=\"14.4\" fill=\"#000000\" fill-rule=\"evenodd\" fill-opacity=\"1\" stroke=\"none\"/>\n",
       "<circle clip-path=\"url(#clip232)\" cx=\"1157.94\" cy=\"432.458\" r=\"14.4\" fill=\"#000000\" fill-rule=\"evenodd\" fill-opacity=\"1\" stroke=\"none\"/>\n",
       "<circle clip-path=\"url(#clip232)\" cx=\"328.044\" cy=\"427.986\" r=\"14.4\" fill=\"#000000\" fill-rule=\"evenodd\" fill-opacity=\"1\" stroke=\"none\"/>\n",
       "<circle clip-path=\"url(#clip232)\" cx=\"758.385\" cy=\"615.907\" r=\"14.4\" fill=\"#000000\" fill-rule=\"evenodd\" fill-opacity=\"1\" stroke=\"none\"/>\n",
       "<circle clip-path=\"url(#clip232)\" cx=\"367.664\" cy=\"298.596\" r=\"14.4\" fill=\"#000000\" fill-rule=\"evenodd\" fill-opacity=\"1\" stroke=\"none\"/>\n",
       "<circle clip-path=\"url(#clip232)\" cx=\"366.957\" cy=\"214.41\" r=\"14.4\" fill=\"#000000\" fill-rule=\"evenodd\" fill-opacity=\"1\" stroke=\"none\"/>\n",
       "<circle clip-path=\"url(#clip232)\" cx=\"1420.21\" cy=\"933.516\" r=\"14.4\" fill=\"#ffd700\" fill-rule=\"evenodd\" fill-opacity=\"1\" stroke=\"#000000\" stroke-opacity=\"1\" stroke-width=\"3.2\"/>\n",
       "<circle clip-path=\"url(#clip232)\" cx=\"1796.02\" cy=\"1132.61\" r=\"14.4\" fill=\"#ffd700\" fill-rule=\"evenodd\" fill-opacity=\"1\" stroke=\"#000000\" stroke-opacity=\"1\" stroke-width=\"3.2\"/>\n",
       "<circle clip-path=\"url(#clip232)\" cx=\"1621.28\" cy=\"922.821\" r=\"14.4\" fill=\"#ffd700\" fill-rule=\"evenodd\" fill-opacity=\"1\" stroke=\"#000000\" stroke-opacity=\"1\" stroke-width=\"3.2\"/>\n",
       "<circle clip-path=\"url(#clip232)\" cx=\"1275.56\" cy=\"1095.99\" r=\"14.4\" fill=\"#ffd700\" fill-rule=\"evenodd\" fill-opacity=\"1\" stroke=\"#000000\" stroke-opacity=\"1\" stroke-width=\"3.2\"/>\n",
       "<circle clip-path=\"url(#clip232)\" cx=\"1541.34\" cy=\"1275.52\" r=\"14.4\" fill=\"#ffd700\" fill-rule=\"evenodd\" fill-opacity=\"1\" stroke=\"#000000\" stroke-opacity=\"1\" stroke-width=\"3.2\"/>\n",
       "<circle clip-path=\"url(#clip232)\" cx=\"2083.84\" cy=\"1143.95\" r=\"14.4\" fill=\"#ffd700\" fill-rule=\"evenodd\" fill-opacity=\"1\" stroke=\"#000000\" stroke-opacity=\"1\" stroke-width=\"3.2\"/>\n",
       "<circle clip-path=\"url(#clip232)\" cx=\"1250.45\" cy=\"1267.58\" r=\"14.4\" fill=\"#ffd700\" fill-rule=\"evenodd\" fill-opacity=\"1\" stroke=\"#000000\" stroke-opacity=\"1\" stroke-width=\"3.2\"/>\n",
       "<circle clip-path=\"url(#clip232)\" cx=\"1273.26\" cy=\"1283.24\" r=\"14.4\" fill=\"#ffd700\" fill-rule=\"evenodd\" fill-opacity=\"1\" stroke=\"#000000\" stroke-opacity=\"1\" stroke-width=\"3.2\"/>\n",
       "<circle clip-path=\"url(#clip232)\" cx=\"1963.54\" cy=\"1156.17\" r=\"14.4\" fill=\"#ffd700\" fill-rule=\"evenodd\" fill-opacity=\"1\" stroke=\"#000000\" stroke-opacity=\"1\" stroke-width=\"3.2\"/>\n",
       "<circle clip-path=\"url(#clip232)\" cx=\"1648.43\" cy=\"1024.21\" r=\"14.4\" fill=\"#ffd700\" fill-rule=\"evenodd\" fill-opacity=\"1\" stroke=\"#000000\" stroke-opacity=\"1\" stroke-width=\"3.2\"/>\n",
       "<circle clip-path=\"url(#clip232)\" cx=\"1697.93\" cy=\"1168.94\" r=\"14.4\" fill=\"#ffd700\" fill-rule=\"evenodd\" fill-opacity=\"1\" stroke=\"#000000\" stroke-opacity=\"1\" stroke-width=\"3.2\"/>\n",
       "<circle clip-path=\"url(#clip232)\" cx=\"1795.52\" cy=\"1392.4\" r=\"14.4\" fill=\"#ffd700\" fill-rule=\"evenodd\" fill-opacity=\"1\" stroke=\"#000000\" stroke-opacity=\"1\" stroke-width=\"3.2\"/>\n",
       "<circle clip-path=\"url(#clip232)\" cx=\"1885.54\" cy=\"1411.44\" r=\"14.4\" fill=\"#ffd700\" fill-rule=\"evenodd\" fill-opacity=\"1\" stroke=\"#000000\" stroke-opacity=\"1\" stroke-width=\"3.2\"/>\n",
       "<circle clip-path=\"url(#clip232)\" cx=\"1550.23\" cy=\"1019.48\" r=\"14.4\" fill=\"#ffd700\" fill-rule=\"evenodd\" fill-opacity=\"1\" stroke=\"#000000\" stroke-opacity=\"1\" stroke-width=\"3.2\"/>\n",
       "<circle clip-path=\"url(#clip232)\" cx=\"1927.73\" cy=\"1378.29\" r=\"14.4\" fill=\"#ffd700\" fill-rule=\"evenodd\" fill-opacity=\"1\" stroke=\"#000000\" stroke-opacity=\"1\" stroke-width=\"3.2\"/>\n",
       "<circle clip-path=\"url(#clip232)\" cx=\"2190.49\" cy=\"1059.14\" r=\"14.4\" fill=\"#ffd700\" fill-rule=\"evenodd\" fill-opacity=\"1\" stroke=\"#000000\" stroke-opacity=\"1\" stroke-width=\"3.2\"/>\n",
       "<circle clip-path=\"url(#clip232)\" cx=\"1874.1\" cy=\"970.06\" r=\"14.4\" fill=\"#ffd700\" fill-rule=\"evenodd\" fill-opacity=\"1\" stroke=\"#000000\" stroke-opacity=\"1\" stroke-width=\"3.2\"/>\n",
       "<circle clip-path=\"url(#clip232)\" cx=\"1647.14\" cy=\"1362.23\" r=\"14.4\" fill=\"#ffd700\" fill-rule=\"evenodd\" fill-opacity=\"1\" stroke=\"#000000\" stroke-opacity=\"1\" stroke-width=\"3.2\"/>\n",
       "<circle clip-path=\"url(#clip232)\" cx=\"1961.11\" cy=\"981.411\" r=\"14.4\" fill=\"#ffd700\" fill-rule=\"evenodd\" fill-opacity=\"1\" stroke=\"#000000\" stroke-opacity=\"1\" stroke-width=\"3.2\"/>\n",
       "<circle clip-path=\"url(#clip232)\" cx=\"1565.98\" cy=\"1087.98\" r=\"14.4\" fill=\"#ffd700\" fill-rule=\"evenodd\" fill-opacity=\"1\" stroke=\"#000000\" stroke-opacity=\"1\" stroke-width=\"3.2\"/>\n",
       "<circle clip-path=\"url(#clip232)\" cx=\"1834.72\" cy=\"1184.93\" r=\"14.4\" fill=\"#ffd700\" fill-rule=\"evenodd\" fill-opacity=\"1\" stroke=\"#000000\" stroke-opacity=\"1\" stroke-width=\"3.2\"/>\n",
       "<circle clip-path=\"url(#clip232)\" cx=\"1562.6\" cy=\"1362.39\" r=\"14.4\" fill=\"#ffd700\" fill-rule=\"evenodd\" fill-opacity=\"1\" stroke=\"#000000\" stroke-opacity=\"1\" stroke-width=\"3.2\"/>\n",
       "<circle clip-path=\"url(#clip232)\" cx=\"1614.16\" cy=\"1196.86\" r=\"14.4\" fill=\"#ffd700\" fill-rule=\"evenodd\" fill-opacity=\"1\" stroke=\"#000000\" stroke-opacity=\"1\" stroke-width=\"3.2\"/>\n",
       "<circle clip-path=\"url(#clip232)\" cx=\"1700.73\" cy=\"1207.1\" r=\"14.4\" fill=\"#ffd700\" fill-rule=\"evenodd\" fill-opacity=\"1\" stroke=\"#000000\" stroke-opacity=\"1\" stroke-width=\"3.2\"/>\n",
       "<circle clip-path=\"url(#clip232)\" cx=\"1463.46\" cy=\"1296.4\" r=\"14.4\" fill=\"#ffd700\" fill-rule=\"evenodd\" fill-opacity=\"1\" stroke=\"#000000\" stroke-opacity=\"1\" stroke-width=\"3.2\"/>\n",
       "<circle clip-path=\"url(#clip232)\" cx=\"2162.46\" cy=\"1219.97\" r=\"14.4\" fill=\"#ffd700\" fill-rule=\"evenodd\" fill-opacity=\"1\" stroke=\"#000000\" stroke-opacity=\"1\" stroke-width=\"3.2\"/>\n",
       "<circle clip-path=\"url(#clip232)\" cx=\"1764.05\" cy=\"979.333\" r=\"14.4\" fill=\"#ffd700\" fill-rule=\"evenodd\" fill-opacity=\"1\" stroke=\"#000000\" stroke-opacity=\"1\" stroke-width=\"3.2\"/>\n",
       "<circle clip-path=\"url(#clip232)\" cx=\"2016.75\" cy=\"1080\" r=\"14.4\" fill=\"#ffd700\" fill-rule=\"evenodd\" fill-opacity=\"1\" stroke=\"#000000\" stroke-opacity=\"1\" stroke-width=\"3.2\"/>\n",
       "<circle clip-path=\"url(#clip232)\" cx=\"1866.03\" cy=\"1093.16\" r=\"14.4\" fill=\"#ffd700\" fill-rule=\"evenodd\" fill-opacity=\"1\" stroke=\"#000000\" stroke-opacity=\"1\" stroke-width=\"3.2\"/>\n",
       "<circle clip-path=\"url(#clip232)\" cx=\"2088.11\" cy=\"1336.06\" r=\"14.4\" fill=\"#ffd700\" fill-rule=\"evenodd\" fill-opacity=\"1\" stroke=\"#000000\" stroke-opacity=\"1\" stroke-width=\"3.2\"/>\n",
       "<circle clip-path=\"url(#clip232)\" cx=\"1298.86\" cy=\"725.984\" r=\"14.4\" fill=\"#ffd700\" fill-rule=\"evenodd\" fill-opacity=\"1\" stroke=\"#000000\" stroke-opacity=\"1\" stroke-width=\"3.2\"/>\n",
       "<circle clip-path=\"url(#clip232)\" cx=\"1407.09\" cy=\"947.504\" r=\"14.4\" fill=\"#ffd700\" fill-rule=\"evenodd\" fill-opacity=\"1\" stroke=\"#000000\" stroke-opacity=\"1\" stroke-width=\"3.2\"/>\n",
       "<circle clip-path=\"url(#clip232)\" cx=\"2039.58\" cy=\"1083.37\" r=\"14.4\" fill=\"#ffd700\" fill-rule=\"evenodd\" fill-opacity=\"1\" stroke=\"#000000\" stroke-opacity=\"1\" stroke-width=\"3.2\"/>\n",
       "<circle clip-path=\"url(#clip232)\" cx=\"1441.55\" cy=\"1170.52\" r=\"14.4\" fill=\"#ffd700\" fill-rule=\"evenodd\" fill-opacity=\"1\" stroke=\"#000000\" stroke-opacity=\"1\" stroke-width=\"3.2\"/>\n",
       "<circle clip-path=\"url(#clip232)\" cx=\"1609.89\" cy=\"815.487\" r=\"14.4\" fill=\"#ffd700\" fill-rule=\"evenodd\" fill-opacity=\"1\" stroke=\"#000000\" stroke-opacity=\"1\" stroke-width=\"3.2\"/>\n",
       "<circle clip-path=\"url(#clip232)\" cx=\"1622.47\" cy=\"1268.49\" r=\"14.4\" fill=\"#ffd700\" fill-rule=\"evenodd\" fill-opacity=\"1\" stroke=\"#000000\" stroke-opacity=\"1\" stroke-width=\"3.2\"/>\n",
       "<circle clip-path=\"url(#clip232)\" cx=\"1919.76\" cy=\"1217.15\" r=\"14.4\" fill=\"#ffd700\" fill-rule=\"evenodd\" fill-opacity=\"1\" stroke=\"#000000\" stroke-opacity=\"1\" stroke-width=\"3.2\"/>\n",
       "<circle clip-path=\"url(#clip232)\" cx=\"2250.51\" cy=\"1105.99\" r=\"14.4\" fill=\"#ffd700\" fill-rule=\"evenodd\" fill-opacity=\"1\" stroke=\"#000000\" stroke-opacity=\"1\" stroke-width=\"3.2\"/>\n",
       "<circle clip-path=\"url(#clip232)\" cx=\"2076.63\" cy=\"1031.03\" r=\"14.4\" fill=\"#ffd700\" fill-rule=\"evenodd\" fill-opacity=\"1\" stroke=\"#000000\" stroke-opacity=\"1\" stroke-width=\"3.2\"/>\n",
       "<circle clip-path=\"url(#clip232)\" cx=\"1809.62\" cy=\"979.506\" r=\"14.4\" fill=\"#ffd700\" fill-rule=\"evenodd\" fill-opacity=\"1\" stroke=\"#000000\" stroke-opacity=\"1\" stroke-width=\"3.2\"/>\n",
       "<circle clip-path=\"url(#clip232)\" cx=\"1422.9\" cy=\"1232.5\" r=\"14.4\" fill=\"#ffd700\" fill-rule=\"evenodd\" fill-opacity=\"1\" stroke=\"#000000\" stroke-opacity=\"1\" stroke-width=\"3.2\"/>\n",
       "<circle clip-path=\"url(#clip232)\" cx=\"1941.24\" cy=\"1043.91\" r=\"14.4\" fill=\"#ffd700\" fill-rule=\"evenodd\" fill-opacity=\"1\" stroke=\"#000000\" stroke-opacity=\"1\" stroke-width=\"3.2\"/>\n",
       "<circle clip-path=\"url(#clip232)\" cx=\"2113.72\" cy=\"1408.85\" r=\"14.4\" fill=\"#ffd700\" fill-rule=\"evenodd\" fill-opacity=\"1\" stroke=\"#000000\" stroke-opacity=\"1\" stroke-width=\"3.2\"/>\n",
       "<circle clip-path=\"url(#clip232)\" cx=\"2182.9\" cy=\"1316.44\" r=\"14.4\" fill=\"#ffd700\" fill-rule=\"evenodd\" fill-opacity=\"1\" stroke=\"#000000\" stroke-opacity=\"1\" stroke-width=\"3.2\"/>\n",
       "<circle clip-path=\"url(#clip232)\" cx=\"1466.96\" cy=\"1207.15\" r=\"14.4\" fill=\"#ffd700\" fill-rule=\"evenodd\" fill-opacity=\"1\" stroke=\"#000000\" stroke-opacity=\"1\" stroke-width=\"3.2\"/>\n",
       "<circle clip-path=\"url(#clip232)\" cx=\"1100.35\" cy=\"1103.99\" r=\"14.4\" fill=\"#ffd700\" fill-rule=\"evenodd\" fill-opacity=\"1\" stroke=\"#000000\" stroke-opacity=\"1\" stroke-width=\"3.2\"/>\n",
       "<circle clip-path=\"url(#clip232)\" cx=\"1237.49\" cy=\"1165.14\" r=\"14.4\" fill=\"#ffd700\" fill-rule=\"evenodd\" fill-opacity=\"1\" stroke=\"#000000\" stroke-opacity=\"1\" stroke-width=\"3.2\"/>\n",
       "<circle clip-path=\"url(#clip232)\" cx=\"1848.47\" cy=\"1347.84\" r=\"14.4\" fill=\"#ffd700\" fill-rule=\"evenodd\" fill-opacity=\"1\" stroke=\"#000000\" stroke-opacity=\"1\" stroke-width=\"3.2\"/>\n",
       "<circle clip-path=\"url(#clip232)\" cx=\"1731.96\" cy=\"1052.08\" r=\"14.4\" fill=\"#ffd700\" fill-rule=\"evenodd\" fill-opacity=\"1\" stroke=\"#000000\" stroke-opacity=\"1\" stroke-width=\"3.2\"/>\n",
       "<circle clip-path=\"url(#clip232)\" cx=\"1764.09\" cy=\"1107.66\" r=\"14.4\" fill=\"#ffd700\" fill-rule=\"evenodd\" fill-opacity=\"1\" stroke=\"#000000\" stroke-opacity=\"1\" stroke-width=\"3.2\"/>\n",
       "<circle clip-path=\"url(#clip232)\" cx=\"2041.14\" cy=\"1345\" r=\"14.4\" fill=\"#ffd700\" fill-rule=\"evenodd\" fill-opacity=\"1\" stroke=\"#000000\" stroke-opacity=\"1\" stroke-width=\"3.2\"/>\n",
       "<circle clip-path=\"url(#clip232)\" cx=\"1388.27\" cy=\"1159.34\" r=\"14.4\" fill=\"#ffd700\" fill-rule=\"evenodd\" fill-opacity=\"1\" stroke=\"#000000\" stroke-opacity=\"1\" stroke-width=\"3.2\"/>\n",
       "<circle clip-path=\"url(#clip232)\" cx=\"1907.87\" cy=\"1350.52\" r=\"14.4\" fill=\"#ffd700\" fill-rule=\"evenodd\" fill-opacity=\"1\" stroke=\"#000000\" stroke-opacity=\"1\" stroke-width=\"3.2\"/>\n",
       "<circle clip-path=\"url(#clip232)\" cx=\"1543.52\" cy=\"1243.79\" r=\"14.4\" fill=\"#ffd700\" fill-rule=\"evenodd\" fill-opacity=\"1\" stroke=\"#000000\" stroke-opacity=\"1\" stroke-width=\"3.2\"/>\n",
       "<circle clip-path=\"url(#clip232)\" cx=\"2055.46\" cy=\"1130.44\" r=\"14.4\" fill=\"#ffd700\" fill-rule=\"evenodd\" fill-opacity=\"1\" stroke=\"#000000\" stroke-opacity=\"1\" stroke-width=\"3.2\"/>\n",
       "<circle clip-path=\"url(#clip232)\" cx=\"1907.33\" cy=\"1266.2\" r=\"14.4\" fill=\"#ffd700\" fill-rule=\"evenodd\" fill-opacity=\"1\" stroke=\"#000000\" stroke-opacity=\"1\" stroke-width=\"3.2\"/>\n",
       "<circle clip-path=\"url(#clip232)\" cx=\"2066.29\" cy=\"1375.4\" r=\"14.4\" fill=\"#ffd700\" fill-rule=\"evenodd\" fill-opacity=\"1\" stroke=\"#000000\" stroke-opacity=\"1\" stroke-width=\"3.2\"/>\n",
       "<circle clip-path=\"url(#clip232)\" cx=\"2249.7\" cy=\"1066.56\" r=\"14.4\" fill=\"#ffd700\" fill-rule=\"evenodd\" fill-opacity=\"1\" stroke=\"#000000\" stroke-opacity=\"1\" stroke-width=\"3.2\"/>\n",
       "<circle clip-path=\"url(#clip232)\" cx=\"1524.71\" cy=\"1042.52\" r=\"14.4\" fill=\"#ffd700\" fill-rule=\"evenodd\" fill-opacity=\"1\" stroke=\"#000000\" stroke-opacity=\"1\" stroke-width=\"3.2\"/>\n",
       "<circle clip-path=\"url(#clip232)\" cx=\"2291.23\" cy=\"994.415\" r=\"14.4\" fill=\"#ffd700\" fill-rule=\"evenodd\" fill-opacity=\"1\" stroke=\"#000000\" stroke-opacity=\"1\" stroke-width=\"3.2\"/>\n",
       "<circle clip-path=\"url(#clip232)\" cx=\"1302.12\" cy=\"1266.92\" r=\"14.4\" fill=\"#ffd700\" fill-rule=\"evenodd\" fill-opacity=\"1\" stroke=\"#000000\" stroke-opacity=\"1\" stroke-width=\"3.2\"/>\n",
       "<circle clip-path=\"url(#clip232)\" cx=\"1834.65\" cy=\"885.367\" r=\"14.4\" fill=\"#ffd700\" fill-rule=\"evenodd\" fill-opacity=\"1\" stroke=\"#000000\" stroke-opacity=\"1\" stroke-width=\"3.2\"/>\n",
       "<circle clip-path=\"url(#clip232)\" cx=\"1305.41\" cy=\"1134.77\" r=\"14.4\" fill=\"#ffd700\" fill-rule=\"evenodd\" fill-opacity=\"1\" stroke=\"#000000\" stroke-opacity=\"1\" stroke-width=\"3.2\"/>\n",
       "<circle clip-path=\"url(#clip232)\" cx=\"2187.83\" cy=\"1189.11\" r=\"14.4\" fill=\"#ffd700\" fill-rule=\"evenodd\" fill-opacity=\"1\" stroke=\"#000000\" stroke-opacity=\"1\" stroke-width=\"3.2\"/>\n",
       "<circle clip-path=\"url(#clip232)\" cx=\"1638.43\" cy=\"1284.48\" r=\"14.4\" fill=\"#ffd700\" fill-rule=\"evenodd\" fill-opacity=\"1\" stroke=\"#000000\" stroke-opacity=\"1\" stroke-width=\"3.2\"/>\n",
       "<circle clip-path=\"url(#clip232)\" cx=\"2016.78\" cy=\"1227.53\" r=\"14.4\" fill=\"#ffd700\" fill-rule=\"evenodd\" fill-opacity=\"1\" stroke=\"#000000\" stroke-opacity=\"1\" stroke-width=\"3.2\"/>\n",
       "<circle clip-path=\"url(#clip232)\" cx=\"2091.61\" cy=\"1300.59\" r=\"14.4\" fill=\"#ffd700\" fill-rule=\"evenodd\" fill-opacity=\"1\" stroke=\"#000000\" stroke-opacity=\"1\" stroke-width=\"3.2\"/>\n",
       "<circle clip-path=\"url(#clip232)\" cx=\"1775.35\" cy=\"1229.38\" r=\"14.4\" fill=\"#ffd700\" fill-rule=\"evenodd\" fill-opacity=\"1\" stroke=\"#000000\" stroke-opacity=\"1\" stroke-width=\"3.2\"/>\n",
       "<circle clip-path=\"url(#clip232)\" cx=\"1923.65\" cy=\"1203.25\" r=\"14.4\" fill=\"#ffd700\" fill-rule=\"evenodd\" fill-opacity=\"1\" stroke=\"#000000\" stroke-opacity=\"1\" stroke-width=\"3.2\"/>\n",
       "<circle clip-path=\"url(#clip232)\" cx=\"1663.56\" cy=\"1361.56\" r=\"14.4\" fill=\"#ffd700\" fill-rule=\"evenodd\" fill-opacity=\"1\" stroke=\"#000000\" stroke-opacity=\"1\" stroke-width=\"3.2\"/>\n",
       "<circle clip-path=\"url(#clip232)\" cx=\"2120.73\" cy=\"1042.97\" r=\"14.4\" fill=\"#ffd700\" fill-rule=\"evenodd\" fill-opacity=\"1\" stroke=\"#000000\" stroke-opacity=\"1\" stroke-width=\"3.2\"/>\n",
       "<circle clip-path=\"url(#clip232)\" cx=\"1688.51\" cy=\"1445.72\" r=\"14.4\" fill=\"#ffd700\" fill-rule=\"evenodd\" fill-opacity=\"1\" stroke=\"#000000\" stroke-opacity=\"1\" stroke-width=\"3.2\"/>\n",
       "<circle clip-path=\"url(#clip232)\" cx=\"1635.09\" cy=\"1128.32\" r=\"14.4\" fill=\"#ffd700\" fill-rule=\"evenodd\" fill-opacity=\"1\" stroke=\"#000000\" stroke-opacity=\"1\" stroke-width=\"3.2\"/>\n",
       "<circle clip-path=\"url(#clip232)\" cx=\"1542.91\" cy=\"1324.02\" r=\"14.4\" fill=\"#ffd700\" fill-rule=\"evenodd\" fill-opacity=\"1\" stroke=\"#000000\" stroke-opacity=\"1\" stroke-width=\"3.2\"/>\n",
       "<circle clip-path=\"url(#clip232)\" cx=\"2202.63\" cy=\"1121.61\" r=\"14.4\" fill=\"#ffd700\" fill-rule=\"evenodd\" fill-opacity=\"1\" stroke=\"#000000\" stroke-opacity=\"1\" stroke-width=\"3.2\"/>\n",
       "<circle clip-path=\"url(#clip232)\" cx=\"1685.09\" cy=\"838.781\" r=\"14.4\" fill=\"#ffd700\" fill-rule=\"evenodd\" fill-opacity=\"1\" stroke=\"#000000\" stroke-opacity=\"1\" stroke-width=\"3.2\"/>\n",
       "<circle clip-path=\"url(#clip232)\" cx=\"1801.85\" cy=\"1045.99\" r=\"14.4\" fill=\"#ffd700\" fill-rule=\"evenodd\" fill-opacity=\"1\" stroke=\"#000000\" stroke-opacity=\"1\" stroke-width=\"3.2\"/>\n",
       "<circle clip-path=\"url(#clip232)\" cx=\"2145.7\" cy=\"890.652\" r=\"14.4\" fill=\"#ffd700\" fill-rule=\"evenodd\" fill-opacity=\"1\" stroke=\"#000000\" stroke-opacity=\"1\" stroke-width=\"3.2\"/>\n",
       "<circle clip-path=\"url(#clip232)\" cx=\"1242.15\" cy=\"1146.47\" r=\"14.4\" fill=\"#ffd700\" fill-rule=\"evenodd\" fill-opacity=\"1\" stroke=\"#000000\" stroke-opacity=\"1\" stroke-width=\"3.2\"/>\n",
       "<circle clip-path=\"url(#clip232)\" cx=\"1710.02\" cy=\"1047.31\" r=\"14.4\" fill=\"#ffd700\" fill-rule=\"evenodd\" fill-opacity=\"1\" stroke=\"#000000\" stroke-opacity=\"1\" stroke-width=\"3.2\"/>\n",
       "<circle clip-path=\"url(#clip232)\" cx=\"2108.63\" cy=\"1025.84\" r=\"14.4\" fill=\"#ffd700\" fill-rule=\"evenodd\" fill-opacity=\"1\" stroke=\"#000000\" stroke-opacity=\"1\" stroke-width=\"3.2\"/>\n",
       "<circle clip-path=\"url(#clip232)\" cx=\"1640.53\" cy=\"1099.29\" r=\"14.4\" fill=\"#ffd700\" fill-rule=\"evenodd\" fill-opacity=\"1\" stroke=\"#000000\" stroke-opacity=\"1\" stroke-width=\"3.2\"/>\n",
       "<circle clip-path=\"url(#clip232)\" cx=\"1974.19\" cy=\"1303.97\" r=\"14.4\" fill=\"#ffd700\" fill-rule=\"evenodd\" fill-opacity=\"1\" stroke=\"#000000\" stroke-opacity=\"1\" stroke-width=\"3.2\"/>\n",
       "<circle clip-path=\"url(#clip232)\" cx=\"1693.7\" cy=\"962.834\" r=\"14.4\" fill=\"#ffd700\" fill-rule=\"evenodd\" fill-opacity=\"1\" stroke=\"#000000\" stroke-opacity=\"1\" stroke-width=\"3.2\"/>\n",
       "<circle clip-path=\"url(#clip232)\" cx=\"2130.56\" cy=\"1073.38\" r=\"14.4\" fill=\"#ffd700\" fill-rule=\"evenodd\" fill-opacity=\"1\" stroke=\"#000000\" stroke-opacity=\"1\" stroke-width=\"3.2\"/>\n",
       "<circle clip-path=\"url(#clip232)\" cx=\"1677.28\" cy=\"1412.99\" r=\"14.4\" fill=\"#ffd700\" fill-rule=\"evenodd\" fill-opacity=\"1\" stroke=\"#000000\" stroke-opacity=\"1\" stroke-width=\"3.2\"/>\n",
       "<circle clip-path=\"url(#clip232)\" cx=\"1298.7\" cy=\"1120.56\" r=\"14.4\" fill=\"#ffd700\" fill-rule=\"evenodd\" fill-opacity=\"1\" stroke=\"#000000\" stroke-opacity=\"1\" stroke-width=\"3.2\"/>\n",
       "<circle clip-path=\"url(#clip232)\" cx=\"1332.07\" cy=\"1076.72\" r=\"14.4\" fill=\"#ffd700\" fill-rule=\"evenodd\" fill-opacity=\"1\" stroke=\"#000000\" stroke-opacity=\"1\" stroke-width=\"3.2\"/>\n",
       "<circle clip-path=\"url(#clip232)\" cx=\"1158.21\" cy=\"1274.29\" r=\"14.4\" fill=\"#ffd700\" fill-rule=\"evenodd\" fill-opacity=\"1\" stroke=\"#000000\" stroke-opacity=\"1\" stroke-width=\"3.2\"/>\n",
       "<circle clip-path=\"url(#clip232)\" cx=\"1649.7\" cy=\"1151.99\" r=\"14.4\" fill=\"#ffd700\" fill-rule=\"evenodd\" fill-opacity=\"1\" stroke=\"#000000\" stroke-opacity=\"1\" stroke-width=\"3.2\"/>\n",
       "<circle clip-path=\"url(#clip232)\" cx=\"1380.9\" cy=\"754.056\" r=\"14.4\" fill=\"#ffd700\" fill-rule=\"evenodd\" fill-opacity=\"1\" stroke=\"#000000\" stroke-opacity=\"1\" stroke-width=\"3.2\"/>\n",
       "<circle clip-path=\"url(#clip232)\" cx=\"1705.94\" cy=\"1007.5\" r=\"14.4\" fill=\"#ffd700\" fill-rule=\"evenodd\" fill-opacity=\"1\" stroke=\"#000000\" stroke-opacity=\"1\" stroke-width=\"3.2\"/>\n",
       "<circle clip-path=\"url(#clip232)\" cx=\"1843.9\" cy=\"1259.54\" r=\"14.4\" fill=\"#ffd700\" fill-rule=\"evenodd\" fill-opacity=\"1\" stroke=\"#000000\" stroke-opacity=\"1\" stroke-width=\"3.2\"/>\n",
       "<circle clip-path=\"url(#clip232)\" cx=\"1929.12\" cy=\"1315.95\" r=\"14.4\" fill=\"#ffd700\" fill-rule=\"evenodd\" fill-opacity=\"1\" stroke=\"#000000\" stroke-opacity=\"1\" stroke-width=\"3.2\"/>\n",
       "<circle clip-path=\"url(#clip232)\" cx=\"1919.72\" cy=\"896.979\" r=\"14.4\" fill=\"#ffd700\" fill-rule=\"evenodd\" fill-opacity=\"1\" stroke=\"#000000\" stroke-opacity=\"1\" stroke-width=\"3.2\"/>\n",
       "<circle clip-path=\"url(#clip232)\" cx=\"1518.75\" cy=\"1157.57\" r=\"14.4\" fill=\"#ffd700\" fill-rule=\"evenodd\" fill-opacity=\"1\" stroke=\"#000000\" stroke-opacity=\"1\" stroke-width=\"3.2\"/>\n",
       "<circle clip-path=\"url(#clip232)\" cx=\"2155.33\" cy=\"902.657\" r=\"14.4\" fill=\"#ffd700\" fill-rule=\"evenodd\" fill-opacity=\"1\" stroke=\"#000000\" stroke-opacity=\"1\" stroke-width=\"3.2\"/>\n",
       "<circle clip-path=\"url(#clip232)\" cx=\"1875.54\" cy=\"916.48\" r=\"14.4\" fill=\"#ffd700\" fill-rule=\"evenodd\" fill-opacity=\"1\" stroke=\"#000000\" stroke-opacity=\"1\" stroke-width=\"3.2\"/>\n",
       "<circle clip-path=\"url(#clip232)\" cx=\"1451.5\" cy=\"1256.07\" r=\"14.4\" fill=\"#ffd700\" fill-rule=\"evenodd\" fill-opacity=\"1\" stroke=\"#000000\" stroke-opacity=\"1\" stroke-width=\"3.2\"/>\n",
       "<circle clip-path=\"url(#clip232)\" cx=\"1768.91\" cy=\"1067.6\" r=\"14.4\" fill=\"#ffd700\" fill-rule=\"evenodd\" fill-opacity=\"1\" stroke=\"#000000\" stroke-opacity=\"1\" stroke-width=\"3.2\"/>\n",
       "</svg>\n"
      ]
     },
     "execution_count": 58,
     "metadata": {},
     "output_type": "execute_result"
    }
   ],
   "source": [
    "using Plots\n",
    "\n",
    "scatter(data2[:, 1], data2[:, 2];\n",
    "               color=[fill(\"black\", 100); fill(\"gold\", 100)],\n",
    "               legend=false)\n"
   ]
  },
  {
   "cell_type": "markdown",
   "id": "14f3cfa1",
   "metadata": {},
   "source": [
    "> Julia provides four important ways to iterate over collections and transform them: loops, the map function (and other similar higher-order functions), comprehen- sions, and broadcasting. Each has slightly different rules of processing data. Therefore, you should choose one depending on your needs in a given situation.\n",
    "\n",
    "> Most functions in Julia are defined to work on scalars. If you want to apply a function to a collection elementwise, you have to use one of the methods pro- vided by Julia that allow you to iterate over collections.\n",
    "\n",
    ">Broadcasting in Julia is a way to apply a function to a collection of values (an operation often called vectorization in other languages). You can broadcast any function (like sin or log) by suffixing it with a dot (.). Similarly, to vectorize an operator (like * or /), prefix it with a dot (.).\n",
    "\n",
    "> Broadcasting in Julia is efficient, as it uses broadcast fusion. Julia does not need to allocate objects for storing intermediate results of processing data when exe- cuting complex broadcasted operations."
   ]
  },
  {
   "cell_type": "markdown",
   "id": "84f69ea2",
   "metadata": {},
   "source": [
    "> If you have a broadcasted operation to which you pass a collection that you want to be treated as a scalar, wrap it in Ref. This approach is often used when per- forming a lookup into a reference table using the in function."
   ]
  },
  {
   "cell_type": "code",
   "execution_count": null,
   "id": "f414accb",
   "metadata": {},
   "outputs": [],
   "source": []
  }
 ],
 "metadata": {
  "kernelspec": {
   "display_name": "Julia 1.8.5",
   "language": "julia",
   "name": "julia-1.8"
  },
  "language_info": {
   "file_extension": ".jl",
   "mimetype": "application/julia",
   "name": "julia",
   "version": "1.8.5"
  }
 },
 "nbformat": 4,
 "nbformat_minor": 5
}
