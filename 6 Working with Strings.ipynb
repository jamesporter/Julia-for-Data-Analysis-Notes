{
 "cells": [
  {
   "cell_type": "code",
   "execution_count": 8,
   "id": "f9dedc88",
   "metadata": {},
   "outputs": [],
   "source": [
    "import Downloads"
   ]
  },
  {
   "cell_type": "code",
   "execution_count": 9,
   "id": "5b8a1f64",
   "metadata": {},
   "outputs": [
    {
     "data": {
      "text/plain": [
       "\"movies.dat\""
      ]
     },
     "execution_count": 9,
     "metadata": {},
     "output_type": "execute_result"
    }
   ],
   "source": [
    "Downloads.download(\"https://raw.githubusercontent.com/sidooms/MovieTweetings/44c525d0c766944910686c60697203cda39305d6/snapshots/10K/movies.dat\",\"movies.dat\")"
   ]
  },
  {
   "cell_type": "markdown",
   "id": "8230217e",
   "metadata": {},
   "source": [
    "## String Stuff"
   ]
  },
  {
   "cell_type": "code",
   "execution_count": 10,
   "id": "3b658d40",
   "metadata": {},
   "outputs": [
    {
     "data": {
      "text/plain": [
       "\"examples againyo\""
      ]
     },
     "execution_count": 10,
     "metadata": {},
     "output_type": "execute_result"
    }
   ],
   "source": [
    "\"examples\" * \" again\" * \"yo\""
   ]
  },
  {
   "cell_type": "code",
   "execution_count": 11,
   "id": "e30cec2d",
   "metadata": {},
   "outputs": [
    {
     "data": {
      "text/plain": [
       "12"
      ]
     },
     "execution_count": 11,
     "metadata": {},
     "output_type": "execute_result"
    }
   ],
   "source": [
    "x = 12"
   ]
  },
  {
   "cell_type": "code",
   "execution_count": 12,
   "id": "b9723ff7",
   "metadata": {},
   "outputs": [
    {
     "data": {
      "text/plain": [
       "\"What about 12?\""
      ]
     },
     "execution_count": 12,
     "metadata": {},
     "output_type": "execute_result"
    }
   ],
   "source": [
    "\"What about $x?\""
   ]
  },
  {
   "cell_type": "code",
   "execution_count": 13,
   "id": "b4fba179",
   "metadata": {},
   "outputs": [
    {
     "data": {
      "text/plain": [
       "\"And then 1728\""
      ]
     },
     "execution_count": 13,
     "metadata": {},
     "output_type": "execute_result"
    }
   ],
   "source": [
    "\"And then $(x ^ 3)\""
   ]
  },
  {
   "cell_type": "code",
   "execution_count": 14,
   "id": "189d6780",
   "metadata": {},
   "outputs": [
    {
     "data": {
      "text/plain": [
       "\"testsagain\""
      ]
     },
     "execution_count": 14,
     "metadata": {},
     "output_type": "execute_result"
    }
   ],
   "source": [
    "\"tests\\\n",
    "     again\""
   ]
  },
  {
   "cell_type": "code",
   "execution_count": 15,
   "id": "caea6287",
   "metadata": {},
   "outputs": [
    {
     "data": {
      "text/plain": [
       "\"what\\nabout\""
      ]
     },
     "execution_count": 15,
     "metadata": {},
     "output_type": "execute_result"
    }
   ],
   "source": [
    "\"what\\nabout\""
   ]
  },
  {
   "cell_type": "code",
   "execution_count": 16,
   "id": "fad238dc",
   "metadata": {},
   "outputs": [
    {
     "data": {
      "text/plain": [
       "\"D:\\\\my_folder\\\\my_file_2.txt\""
      ]
     },
     "execution_count": 16,
     "metadata": {},
     "output_type": "execute_result"
    }
   ],
   "source": [
    "raw\"D:\\my_folder\\my_file_2.txt\""
   ]
  },
  {
   "cell_type": "markdown",
   "id": "5760d92b",
   "metadata": {},
   "source": [
    "# Basic file/string stuff"
   ]
  },
  {
   "cell_type": "code",
   "execution_count": 17,
   "id": "34286b0c",
   "metadata": {},
   "outputs": [
    {
     "data": {
      "text/plain": [
       "3096-element Vector{String}:\n",
       " \"0002844::Fantômas - À l'ombre de la guillotine (1913)::Crime|Drama\"\n",
       " \"0007264::The Rink (1916)::Comedy|Short\"\n",
       " \"0008133::The Immigrant (1917)::Short|Comedy|Drama|Romance\"\n",
       " \"0012349::The Kid (1921)::Comedy|Drama|Family\"\n",
       " \"0013427::Nanook of the North (1922)::Documentary\"\n",
       " \"0014142::The Hunchback of Notre Dame (1923)::Drama|Romance\"\n",
       " \"0014538::Three Ages (1923)::Comedy\"\n",
       " \"0014872::Entr'acte (1924)::Short\"\n",
       " \"0015163::The Navigator (1924)::Action|Comedy\"\n",
       " \"0015324::Sherlock Jr. (1924)::Comedy|Fantasy\"\n",
       " \"0015400::The Thief of Bagdad (1924)::Adventure|Family|Fantasy|Romance\"\n",
       " \"0017925::The General (1926)::Action|Adventure|Comedy|Romance|War\"\n",
       " \"0018773::The Circus (1928)::Comedy|Romance\"\n",
       " ⋮\n",
       " \"2638984::Teal Diva (2012)::Documentary|Short\"\n",
       " \"2645104::Romantik komedi 2: Bekarliga veda (2013)::Comedy\"\n",
       " \"2645164::The Hardy Bucks Movie (2013)::Comedy\"\n",
       " \"2646378::The Frankenstein Theory (2013)::Horror|Sci-Fi\"\n",
       " \"2649128::Metro (2013)::Thriller\"\n",
       " \"2670226::Jîn (2013)::Drama\"\n",
       " \"2700330::The Two Escobars (2010)::Documentary\"\n",
       " \"2735466::Pickett's Charge (2012)::Short|Comedy|Drama|Family\"\n",
       " \"2748368::Neil (2013)::Short|Comedy\"\n",
       " \"2750600::A Different Tree (2013)::Short|Drama|Family\"\n",
       " \"2763252::Broken Night (2013)::Short|Drama\"\n",
       " \"2769592::Kiss Shot Truth or Dare (2013)::Short\""
      ]
     },
     "execution_count": 17,
     "metadata": {},
     "output_type": "execute_result"
    }
   ],
   "source": [
    "movies = readlines(\"movies.dat\")"
   ]
  },
  {
   "cell_type": "code",
   "execution_count": 18,
   "id": "985587e6",
   "metadata": {},
   "outputs": [
    {
     "data": {
      "text/plain": [
       "\"0002844::Fantômas - À l'ombre de la guillotine (1913)::Crime|Drama\""
      ]
     },
     "execution_count": 18,
     "metadata": {},
     "output_type": "execute_result"
    }
   ],
   "source": [
    "movie1 = first(movies)"
   ]
  },
  {
   "cell_type": "code",
   "execution_count": 19,
   "id": "b545c3e0",
   "metadata": {},
   "outputs": [
    {
     "data": {
      "text/plain": [
       "3-element Vector{SubString{String}}:\n",
       " \"0002844\"\n",
       " \"Fantômas - À l'ombre de la guillotine (1913)\"\n",
       " \"Crime|Drama\""
      ]
     },
     "execution_count": 19,
     "metadata": {},
     "output_type": "execute_result"
    }
   ],
   "source": [
    "movie1_parts = split(movie1, \"::\")"
   ]
  },
  {
   "cell_type": "markdown",
   "id": "31ec4903",
   "metadata": {},
   "source": [
    "`SubString{String}` ???\n",
    "\n",
    "* View on strings\n",
    "* Strings are immutable"
   ]
  },
  {
   "cell_type": "markdown",
   "id": "c87c2b4a",
   "metadata": {},
   "source": [
    "### Basic string stuff\n",
    "\n",
    "Note lowercased naming:\n",
    "\n",
    "* string Converts passed values to a string by using the print function\n",
    "* join—Joins elements of an iterator into a string, inserting the given delimiter between joined items\n",
    "* occursin Checks if the first argument is a substring of the second argument\n",
    "* contains Checks if the second argument is a substring of the first argument\n",
    "* replace Finds in a given string passed patterns and replaces them with specified values"
   ]
  },
  {
   "cell_type": "code",
   "execution_count": 20,
   "id": "17f4a85a",
   "metadata": {},
   "outputs": [
    {
     "data": {
      "text/plain": [
       "\"12\""
      ]
     },
     "execution_count": 20,
     "metadata": {},
     "output_type": "execute_result"
    }
   ],
   "source": [
    "string(12)"
   ]
  },
  {
   "cell_type": "code",
   "execution_count": 21,
   "id": "faddff67",
   "metadata": {},
   "outputs": [
    {
     "data": {
      "text/plain": [
       "\"hi,there\""
      ]
     },
     "execution_count": 21,
     "metadata": {},
     "output_type": "execute_result"
    }
   ],
   "source": [
    "join([\"hi\", \"there\"], \",\")"
   ]
  },
  {
   "cell_type": "code",
   "execution_count": 22,
   "id": "b60adbbd",
   "metadata": {},
   "outputs": [
    {
     "data": {
      "text/plain": [
       "true"
      ]
     },
     "execution_count": 22,
     "metadata": {},
     "output_type": "execute_result"
    }
   ],
   "source": [
    "occursin(\"y\", \"yes\")"
   ]
  },
  {
   "cell_type": "code",
   "execution_count": 23,
   "id": "4ef7d022",
   "metadata": {},
   "outputs": [
    {
     "data": {
      "text/plain": [
       "true"
      ]
     },
     "execution_count": 23,
     "metadata": {},
     "output_type": "execute_result"
    }
   ],
   "source": [
    "contains(\"yes\", \"e\")"
   ]
  },
  {
   "cell_type": "code",
   "execution_count": 24,
   "id": "d2d5e89b",
   "metadata": {},
   "outputs": [
    {
     "data": {
      "text/plain": [
       "false"
      ]
     },
     "execution_count": 24,
     "metadata": {},
     "output_type": "execute_result"
    }
   ],
   "source": [
    "contains(\"yes\", \"t\")"
   ]
  },
  {
   "cell_type": "code",
   "execution_count": 25,
   "id": "f6c11990",
   "metadata": {},
   "outputs": [
    {
     "data": {
      "text/plain": [
       "\"*ase thing\""
      ]
     },
     "execution_count": 25,
     "metadata": {},
     "output_type": "execute_result"
    }
   ],
   "source": [
    "replace(\"base thing\", \"b\" => \"*\")"
   ]
  },
  {
   "cell_type": "code",
   "execution_count": 26,
   "id": "36cf9d4b",
   "metadata": {},
   "outputs": [
    {
     "name": "stdout",
     "output_type": "stream",
     "text": [
      "search: \u001b[0m\u001b[1mr\u001b[22m\u001b[0m\u001b[1me\u001b[22m\u001b[0m\u001b[1mp\u001b[22m\u001b[0m\u001b[1ml\u001b[22m\u001b[0m\u001b[1ma\u001b[22m\u001b[0m\u001b[1mc\u001b[22m\u001b[0m\u001b[1me\u001b[22m \u001b[0m\u001b[1mr\u001b[22m\u001b[0m\u001b[1me\u001b[22m\u001b[0m\u001b[1mp\u001b[22m\u001b[0m\u001b[1ml\u001b[22m\u001b[0m\u001b[1ma\u001b[22m\u001b[0m\u001b[1mc\u001b[22m\u001b[0m\u001b[1me\u001b[22m! \u001b[0m\u001b[1mr\u001b[22m\u001b[0m\u001b[1me\u001b[22m\u001b[0m\u001b[1mp\u001b[22m\u001b[0m\u001b[1ml\u001b[22m\u001b[0m\u001b[1ma\u001b[22m\u001b[0m\u001b[1mc\u001b[22m\u001b[0m\u001b[1me\u001b[22mfield! \u001b[0m\u001b[1mr\u001b[22m\u001b[0m\u001b[1me\u001b[22m\u001b[0m\u001b[1mp\u001b[22m\u001b[0m\u001b[1ml\u001b[22m\u001b[0m\u001b[1ma\u001b[22m\u001b[0m\u001b[1mc\u001b[22m\u001b[0m\u001b[1me\u001b[22mproperty! @atomic\u001b[0m\u001b[1mr\u001b[22m\u001b[0m\u001b[1me\u001b[22m\u001b[0m\u001b[1mp\u001b[22m\u001b[0m\u001b[1ml\u001b[22m\u001b[0m\u001b[1ma\u001b[22m\u001b[0m\u001b[1mc\u001b[22m\u001b[0m\u001b[1me\u001b[22m \u001b[0m\u001b[1mr\u001b[22m\u001b[0m\u001b[1me\u001b[22mdis\u001b[0m\u001b[1mp\u001b[22m\u001b[0m\u001b[1ml\u001b[22m\u001b[0m\u001b[1ma\u001b[22my\n",
      "\n"
     ]
    },
    {
     "data": {
      "text/latex": [
       "\\begin{verbatim}\n",
       "replace(A, old_new::Pair...; [count::Integer])\n",
       "\\end{verbatim}\n",
       "Return a copy of collection \\texttt{A} where, for each pair \\texttt{old=>new} in \\texttt{old\\_new}, all occurrences of \\texttt{old} are replaced by \\texttt{new}. Equality is determined using \\href{@ref}{\\texttt{isequal}}. If \\texttt{count} is specified, then replace at most \\texttt{count} occurrences in total.\n",
       "\n",
       "The element type of the result is chosen using promotion (see \\href{@ref}{\\texttt{promote\\_type}}) based on the element type of \\texttt{A} and on the types of the \\texttt{new} values in pairs. If \\texttt{count} is omitted and the element type of \\texttt{A} is a \\texttt{Union}, the element type of the result will not include singleton types which are replaced with values of a different type: for example, \\texttt{Union\\{T,Missing\\}} will become \\texttt{T} if \\texttt{missing} is replaced.\n",
       "\n",
       "See also \\href{@ref}{\\texttt{replace!}}, \\href{@ref}{\\texttt{splice!}}, \\href{@ref}{\\texttt{delete!}}, \\href{@ref}{\\texttt{insert!}}.\n",
       "\n",
       "\\begin{quote}\n",
       "\\textbf{compat}\n",
       "\n",
       "Julia 1.7\n",
       "\n",
       "Version 1.7 is required to replace elements of a \\texttt{Tuple}.\n",
       "\n",
       "\\end{quote}\n",
       "\\section{Examples}\n",
       "\\begin{verbatim}\n",
       "julia> replace([1, 2, 1, 3], 1=>0, 2=>4, count=2)\n",
       "4-element Vector{Int64}:\n",
       " 0\n",
       " 4\n",
       " 1\n",
       " 3\n",
       "\n",
       "julia> replace([1, missing], missing=>0)\n",
       "2-element Vector{Int64}:\n",
       " 1\n",
       " 0\n",
       "\\end{verbatim}\n",
       "\\rule{\\textwidth}{1pt}\n",
       "\\begin{verbatim}\n",
       "replace(new::Function, A; [count::Integer])\n",
       "\\end{verbatim}\n",
       "Return a copy of \\texttt{A} where each value \\texttt{x} in \\texttt{A} is replaced by \\texttt{new(x)}. If \\texttt{count} is specified, then replace at most \\texttt{count} values in total (replacements being defined as \\texttt{new(x) !== x}).\n",
       "\n",
       "\\begin{quote}\n",
       "\\textbf{compat}\n",
       "\n",
       "Julia 1.7\n",
       "\n",
       "Version 1.7 is required to replace elements of a \\texttt{Tuple}.\n",
       "\n",
       "\\end{quote}\n",
       "\\section{Examples}\n",
       "\\begin{verbatim}\n",
       "julia> replace(x -> isodd(x) ? 2x : x, [1, 2, 3, 4])\n",
       "4-element Vector{Int64}:\n",
       " 2\n",
       " 2\n",
       " 6\n",
       " 4\n",
       "\n",
       "julia> replace(Dict(1=>2, 3=>4)) do kv\n",
       "           first(kv) < 3 ? first(kv)=>3 : kv\n",
       "       end\n",
       "Dict{Int64, Int64} with 2 entries:\n",
       "  3 => 4\n",
       "  1 => 3\n",
       "\\end{verbatim}\n",
       "\\rule{\\textwidth}{1pt}\n",
       "\\begin{verbatim}\n",
       "replace(s::AbstractString, pat=>r, [pat2=>r2, ...]; [count::Integer])\n",
       "\\end{verbatim}\n",
       "Search for the given pattern \\texttt{pat} in \\texttt{s}, and replace each occurrence with \\texttt{r}. If \\texttt{count} is provided, replace at most \\texttt{count} occurrences. \\texttt{pat} may be a single character, a vector or a set of characters, a string, or a regular expression. If \\texttt{r} is a function, each occurrence is replaced with \\texttt{r(s)} where \\texttt{s} is the matched substring (when \\texttt{pat} is a \\texttt{AbstractPattern} or \\texttt{AbstractString}) or character (when \\texttt{pat} is an \\texttt{AbstractChar} or a collection of \\texttt{AbstractChar}). If \\texttt{pat} is a regular expression and \\texttt{r} is a \\href{@ref}{\\texttt{SubstitutionString}}, then capture group references in \\texttt{r} are replaced with the corresponding matched text. To remove instances of \\texttt{pat} from \\texttt{string}, set \\texttt{r} to the empty \\texttt{String} (\\texttt{\"\"}).\n",
       "\n",
       "Multiple patterns can be specified, and they will be applied left-to-right simultaneously, so only one pattern will be applied to any character, and the patterns will only be applied to the input text, not the replacements.\n",
       "\n",
       "\\begin{quote}\n",
       "\\textbf{compat}\n",
       "\n",
       "Julia 1.7\n",
       "\n",
       "Support for multiple patterns requires version 1.7.\n",
       "\n",
       "\\end{quote}\n",
       "\\section{Examples}\n",
       "\\begin{verbatim}\n",
       "julia> replace(\"Python is a programming language.\", \"Python\" => \"Julia\")\n",
       "\"Julia is a programming language.\"\n",
       "\n",
       "julia> replace(\"The quick foxes run quickly.\", \"quick\" => \"slow\", count=1)\n",
       "\"The slow foxes run quickly.\"\n",
       "\n",
       "julia> replace(\"The quick foxes run quickly.\", \"quick\" => \"\", count=1)\n",
       "\"The  foxes run quickly.\"\n",
       "\n",
       "julia> replace(\"The quick foxes run quickly.\", r\"fox(es)?\" => s\"bus\\1\")\n",
       "\"The quick buses run quickly.\"\n",
       "\n",
       "julia> replace(\"abcabc\", \"a\" => \"b\", \"b\" => \"c\", r\".+\" => \"a\")\n",
       "\"bca\"\n",
       "\\end{verbatim}\n"
      ],
      "text/markdown": [
       "```\n",
       "replace(A, old_new::Pair...; [count::Integer])\n",
       "```\n",
       "\n",
       "Return a copy of collection `A` where, for each pair `old=>new` in `old_new`, all occurrences of `old` are replaced by `new`. Equality is determined using [`isequal`](@ref). If `count` is specified, then replace at most `count` occurrences in total.\n",
       "\n",
       "The element type of the result is chosen using promotion (see [`promote_type`](@ref)) based on the element type of `A` and on the types of the `new` values in pairs. If `count` is omitted and the element type of `A` is a `Union`, the element type of the result will not include singleton types which are replaced with values of a different type: for example, `Union{T,Missing}` will become `T` if `missing` is replaced.\n",
       "\n",
       "See also [`replace!`](@ref), [`splice!`](@ref), [`delete!`](@ref), [`insert!`](@ref).\n",
       "\n",
       "!!! compat \"Julia 1.7\"\n",
       "    Version 1.7 is required to replace elements of a `Tuple`.\n",
       "\n",
       "\n",
       "# Examples\n",
       "\n",
       "```jldoctest\n",
       "julia> replace([1, 2, 1, 3], 1=>0, 2=>4, count=2)\n",
       "4-element Vector{Int64}:\n",
       " 0\n",
       " 4\n",
       " 1\n",
       " 3\n",
       "\n",
       "julia> replace([1, missing], missing=>0)\n",
       "2-element Vector{Int64}:\n",
       " 1\n",
       " 0\n",
       "```\n",
       "\n",
       "---\n",
       "\n",
       "```\n",
       "replace(new::Function, A; [count::Integer])\n",
       "```\n",
       "\n",
       "Return a copy of `A` where each value `x` in `A` is replaced by `new(x)`. If `count` is specified, then replace at most `count` values in total (replacements being defined as `new(x) !== x`).\n",
       "\n",
       "!!! compat \"Julia 1.7\"\n",
       "    Version 1.7 is required to replace elements of a `Tuple`.\n",
       "\n",
       "\n",
       "# Examples\n",
       "\n",
       "```jldoctest\n",
       "julia> replace(x -> isodd(x) ? 2x : x, [1, 2, 3, 4])\n",
       "4-element Vector{Int64}:\n",
       " 2\n",
       " 2\n",
       " 6\n",
       " 4\n",
       "\n",
       "julia> replace(Dict(1=>2, 3=>4)) do kv\n",
       "           first(kv) < 3 ? first(kv)=>3 : kv\n",
       "       end\n",
       "Dict{Int64, Int64} with 2 entries:\n",
       "  3 => 4\n",
       "  1 => 3\n",
       "```\n",
       "\n",
       "---\n",
       "\n",
       "```\n",
       "replace(s::AbstractString, pat=>r, [pat2=>r2, ...]; [count::Integer])\n",
       "```\n",
       "\n",
       "Search for the given pattern `pat` in `s`, and replace each occurrence with `r`. If `count` is provided, replace at most `count` occurrences. `pat` may be a single character, a vector or a set of characters, a string, or a regular expression. If `r` is a function, each occurrence is replaced with `r(s)` where `s` is the matched substring (when `pat` is a `AbstractPattern` or `AbstractString`) or character (when `pat` is an `AbstractChar` or a collection of `AbstractChar`). If `pat` is a regular expression and `r` is a [`SubstitutionString`](@ref), then capture group references in `r` are replaced with the corresponding matched text. To remove instances of `pat` from `string`, set `r` to the empty `String` (`\"\"`).\n",
       "\n",
       "Multiple patterns can be specified, and they will be applied left-to-right simultaneously, so only one pattern will be applied to any character, and the patterns will only be applied to the input text, not the replacements.\n",
       "\n",
       "!!! compat \"Julia 1.7\"\n",
       "    Support for multiple patterns requires version 1.7.\n",
       "\n",
       "\n",
       "# Examples\n",
       "\n",
       "```jldoctest\n",
       "julia> replace(\"Python is a programming language.\", \"Python\" => \"Julia\")\n",
       "\"Julia is a programming language.\"\n",
       "\n",
       "julia> replace(\"The quick foxes run quickly.\", \"quick\" => \"slow\", count=1)\n",
       "\"The slow foxes run quickly.\"\n",
       "\n",
       "julia> replace(\"The quick foxes run quickly.\", \"quick\" => \"\", count=1)\n",
       "\"The  foxes run quickly.\"\n",
       "\n",
       "julia> replace(\"The quick foxes run quickly.\", r\"fox(es)?\" => s\"bus\\1\")\n",
       "\"The quick buses run quickly.\"\n",
       "\n",
       "julia> replace(\"abcabc\", \"a\" => \"b\", \"b\" => \"c\", r\".+\" => \"a\")\n",
       "\"bca\"\n",
       "```\n"
      ],
      "text/plain": [
       "\u001b[36m  replace(A, old_new::Pair...; [count::Integer])\u001b[39m\n",
       "\n",
       "  Return a copy of collection \u001b[36mA\u001b[39m where, for each pair \u001b[36mold=>new\u001b[39m in \u001b[36mold_new\u001b[39m, all\n",
       "  occurrences of \u001b[36mold\u001b[39m are replaced by \u001b[36mnew\u001b[39m. Equality is determined using\n",
       "  \u001b[36misequal\u001b[39m. If \u001b[36mcount\u001b[39m is specified, then replace at most \u001b[36mcount\u001b[39m occurrences in\n",
       "  total.\n",
       "\n",
       "  The element type of the result is chosen using promotion (see \u001b[36mpromote_type\u001b[39m)\n",
       "  based on the element type of \u001b[36mA\u001b[39m and on the types of the \u001b[36mnew\u001b[39m values in pairs.\n",
       "  If \u001b[36mcount\u001b[39m is omitted and the element type of \u001b[36mA\u001b[39m is a \u001b[36mUnion\u001b[39m, the element type\n",
       "  of the result will not include singleton types which are replaced with\n",
       "  values of a different type: for example, \u001b[36mUnion{T,Missing}\u001b[39m will become \u001b[36mT\u001b[39m if\n",
       "  \u001b[36mmissing\u001b[39m is replaced.\n",
       "\n",
       "  See also \u001b[36mreplace!\u001b[39m, \u001b[36msplice!\u001b[39m, \u001b[36mdelete!\u001b[39m, \u001b[36minsert!\u001b[39m.\n",
       "\n",
       "\u001b[39m\u001b[1m  │ \u001b[22m\u001b[39m\u001b[1mJulia 1.7\u001b[22m\n",
       "\u001b[39m\u001b[1m  │\u001b[22m\n",
       "\u001b[39m\u001b[1m  │\u001b[22m  Version 1.7 is required to replace elements of a \u001b[36mTuple\u001b[39m.\n",
       "\n",
       "\u001b[1m  Examples\u001b[22m\n",
       "\u001b[1m  ≡≡≡≡≡≡≡≡≡≡\u001b[22m\n",
       "\n",
       "\u001b[36m  julia> replace([1, 2, 1, 3], 1=>0, 2=>4, count=2)\u001b[39m\n",
       "\u001b[36m  4-element Vector{Int64}:\u001b[39m\n",
       "\u001b[36m   0\u001b[39m\n",
       "\u001b[36m   4\u001b[39m\n",
       "\u001b[36m   1\u001b[39m\n",
       "\u001b[36m   3\u001b[39m\n",
       "\u001b[36m  \u001b[39m\n",
       "\u001b[36m  julia> replace([1, missing], missing=>0)\u001b[39m\n",
       "\u001b[36m  2-element Vector{Int64}:\u001b[39m\n",
       "\u001b[36m   1\u001b[39m\n",
       "\u001b[36m   0\u001b[39m\n",
       "\n",
       "  ────────────────────────────────────────────────────────────────────────────\n",
       "\n",
       "\u001b[36m  replace(new::Function, A; [count::Integer])\u001b[39m\n",
       "\n",
       "  Return a copy of \u001b[36mA\u001b[39m where each value \u001b[36mx\u001b[39m in \u001b[36mA\u001b[39m is replaced by \u001b[36mnew(x)\u001b[39m. If \u001b[36mcount\u001b[39m\n",
       "  is specified, then replace at most \u001b[36mcount\u001b[39m values in total (replacements being\n",
       "  defined as \u001b[36mnew(x) !== x\u001b[39m).\n",
       "\n",
       "\u001b[39m\u001b[1m  │ \u001b[22m\u001b[39m\u001b[1mJulia 1.7\u001b[22m\n",
       "\u001b[39m\u001b[1m  │\u001b[22m\n",
       "\u001b[39m\u001b[1m  │\u001b[22m  Version 1.7 is required to replace elements of a \u001b[36mTuple\u001b[39m.\n",
       "\n",
       "\u001b[1m  Examples\u001b[22m\n",
       "\u001b[1m  ≡≡≡≡≡≡≡≡≡≡\u001b[22m\n",
       "\n",
       "\u001b[36m  julia> replace(x -> isodd(x) ? 2x : x, [1, 2, 3, 4])\u001b[39m\n",
       "\u001b[36m  4-element Vector{Int64}:\u001b[39m\n",
       "\u001b[36m   2\u001b[39m\n",
       "\u001b[36m   2\u001b[39m\n",
       "\u001b[36m   6\u001b[39m\n",
       "\u001b[36m   4\u001b[39m\n",
       "\u001b[36m  \u001b[39m\n",
       "\u001b[36m  julia> replace(Dict(1=>2, 3=>4)) do kv\u001b[39m\n",
       "\u001b[36m             first(kv) < 3 ? first(kv)=>3 : kv\u001b[39m\n",
       "\u001b[36m         end\u001b[39m\n",
       "\u001b[36m  Dict{Int64, Int64} with 2 entries:\u001b[39m\n",
       "\u001b[36m    3 => 4\u001b[39m\n",
       "\u001b[36m    1 => 3\u001b[39m\n",
       "\n",
       "  ────────────────────────────────────────────────────────────────────────────\n",
       "\n",
       "\u001b[36m  replace(s::AbstractString, pat=>r, [pat2=>r2, ...]; [count::Integer])\u001b[39m\n",
       "\n",
       "  Search for the given pattern \u001b[36mpat\u001b[39m in \u001b[36ms\u001b[39m, and replace each occurrence with \u001b[36mr\u001b[39m.\n",
       "  If \u001b[36mcount\u001b[39m is provided, replace at most \u001b[36mcount\u001b[39m occurrences. \u001b[36mpat\u001b[39m may be a single\n",
       "  character, a vector or a set of characters, a string, or a regular\n",
       "  expression. If \u001b[36mr\u001b[39m is a function, each occurrence is replaced with \u001b[36mr(s)\u001b[39m where\n",
       "  \u001b[36ms\u001b[39m is the matched substring (when \u001b[36mpat\u001b[39m is a \u001b[36mAbstractPattern\u001b[39m or \u001b[36mAbstractString\u001b[39m)\n",
       "  or character (when \u001b[36mpat\u001b[39m is an \u001b[36mAbstractChar\u001b[39m or a collection of \u001b[36mAbstractChar\u001b[39m).\n",
       "  If \u001b[36mpat\u001b[39m is a regular expression and \u001b[36mr\u001b[39m is a \u001b[36mSubstitutionString\u001b[39m, then capture\n",
       "  group references in \u001b[36mr\u001b[39m are replaced with the corresponding matched text. To\n",
       "  remove instances of \u001b[36mpat\u001b[39m from \u001b[36mstring\u001b[39m, set \u001b[36mr\u001b[39m to the empty \u001b[36mString\u001b[39m (\u001b[36m\"\"\u001b[39m).\n",
       "\n",
       "  Multiple patterns can be specified, and they will be applied left-to-right\n",
       "  simultaneously, so only one pattern will be applied to any character, and\n",
       "  the patterns will only be applied to the input text, not the replacements.\n",
       "\n",
       "\u001b[39m\u001b[1m  │ \u001b[22m\u001b[39m\u001b[1mJulia 1.7\u001b[22m\n",
       "\u001b[39m\u001b[1m  │\u001b[22m\n",
       "\u001b[39m\u001b[1m  │\u001b[22m  Support for multiple patterns requires version 1.7.\n",
       "\n",
       "\u001b[1m  Examples\u001b[22m\n",
       "\u001b[1m  ≡≡≡≡≡≡≡≡≡≡\u001b[22m\n",
       "\n",
       "\u001b[36m  julia> replace(\"Python is a programming language.\", \"Python\" => \"Julia\")\u001b[39m\n",
       "\u001b[36m  \"Julia is a programming language.\"\u001b[39m\n",
       "\u001b[36m  \u001b[39m\n",
       "\u001b[36m  julia> replace(\"The quick foxes run quickly.\", \"quick\" => \"slow\", count=1)\u001b[39m\n",
       "\u001b[36m  \"The slow foxes run quickly.\"\u001b[39m\n",
       "\u001b[36m  \u001b[39m\n",
       "\u001b[36m  julia> replace(\"The quick foxes run quickly.\", \"quick\" => \"\", count=1)\u001b[39m\n",
       "\u001b[36m  \"The  foxes run quickly.\"\u001b[39m\n",
       "\u001b[36m  \u001b[39m\n",
       "\u001b[36m  julia> replace(\"The quick foxes run quickly.\", r\"fox(es)?\" => s\"bus\\1\")\u001b[39m\n",
       "\u001b[36m  \"The quick buses run quickly.\"\u001b[39m\n",
       "\u001b[36m  \u001b[39m\n",
       "\u001b[36m  julia> replace(\"abcabc\", \"a\" => \"b\", \"b\" => \"c\", r\".+\" => \"a\")\u001b[39m\n",
       "\u001b[36m  \"bca\"\u001b[39m"
      ]
     },
     "execution_count": 26,
     "metadata": {},
     "output_type": "execute_result"
    }
   ],
   "source": [
    "?replace"
   ]
  },
  {
   "cell_type": "markdown",
   "id": "342c3c19",
   "metadata": {},
   "source": [
    "### More \n",
    "* strip Strips leading and trailing characters (by default, whitespace) from a string (also related are lstrip and rstrip for stripping leading and trailing characters)\n",
    "* startswith Checks if a given string starts with a passed prefix\n",
    "* endswith Checks if a given string ends with a passed suffix\n",
    "* uppercase Uppercases a string\n",
    "* lowercase Lowercases a string\n",
    "* randstring Creates random strings (defined in the Random module)"
   ]
  },
  {
   "cell_type": "code",
   "execution_count": 27,
   "id": "b98b6784",
   "metadata": {},
   "outputs": [
    {
     "data": {
      "text/plain": [
       "\"yo\""
      ]
     },
     "execution_count": 27,
     "metadata": {},
     "output_type": "execute_result"
    }
   ],
   "source": [
    "strip(\"   yo \")"
   ]
  },
  {
   "cell_type": "code",
   "execution_count": 28,
   "id": "f0b767a1",
   "metadata": {},
   "outputs": [
    {
     "data": {
      "text/plain": [
       "true"
      ]
     },
     "execution_count": 28,
     "metadata": {},
     "output_type": "execute_result"
    }
   ],
   "source": [
    "startswith(\"base\", \"ba\")"
   ]
  },
  {
   "cell_type": "code",
   "execution_count": 29,
   "id": "243e4795",
   "metadata": {},
   "outputs": [
    {
     "data": {
      "text/plain": [
       "\"HELLO\""
      ]
     },
     "execution_count": 29,
     "metadata": {},
     "output_type": "execute_result"
    }
   ],
   "source": [
    "uppercase(\"hello\")"
   ]
  },
  {
   "cell_type": "code",
   "execution_count": 30,
   "id": "9e10540e",
   "metadata": {},
   "outputs": [],
   "source": [
    "using Random"
   ]
  },
  {
   "cell_type": "code",
   "execution_count": 31,
   "id": "a2262f07",
   "metadata": {},
   "outputs": [
    {
     "data": {
      "text/plain": [
       "\"cREeJzPB\""
      ]
     },
     "execution_count": 31,
     "metadata": {},
     "output_type": "execute_result"
    }
   ],
   "source": [
    "randstring()"
   ]
  },
  {
   "cell_type": "markdown",
   "id": "21acc13a",
   "metadata": {},
   "source": [
    "### Regex"
   ]
  },
  {
   "cell_type": "code",
   "execution_count": 32,
   "id": "4ec12af7",
   "metadata": {},
   "outputs": [
    {
     "data": {
      "text/plain": [
       "r\".*\\((\\d{2,3})\\)$\""
      ]
     },
     "execution_count": 32,
     "metadata": {},
     "output_type": "execute_result"
    }
   ],
   "source": [
    "rEx = r\".*\\((\\d{2,3})\\)$\""
   ]
  },
  {
   "cell_type": "code",
   "execution_count": 33,
   "id": "a1728e3a",
   "metadata": {},
   "outputs": [
    {
     "data": {
      "text/plain": [
       "RegexMatch(\"stuff (23)\", 1=\"23\")"
      ]
     },
     "execution_count": 33,
     "metadata": {},
     "output_type": "execute_result"
    }
   ],
   "source": [
    "match(rEx, \"stuff (23)\")"
   ]
  },
  {
   "cell_type": "code",
   "execution_count": 34,
   "id": "42bbd7a1",
   "metadata": {},
   "outputs": [
    {
     "data": {
      "text/plain": [
       "r\"(.*)\\s\\((\\d{2,3})\\)$\""
      ]
     },
     "execution_count": 34,
     "metadata": {},
     "output_type": "execute_result"
    }
   ],
   "source": [
    "rEx2 = r\"(.*)\\s\\((\\d{2,3})\\)$\""
   ]
  },
  {
   "cell_type": "code",
   "execution_count": 35,
   "id": "9e3c6565",
   "metadata": {},
   "outputs": [
    {
     "data": {
      "text/plain": [
       "RegexMatch(\"stuff (23)\", 1=\"stuff\", 2=\"23\")"
      ]
     },
     "execution_count": 35,
     "metadata": {},
     "output_type": "execute_result"
    }
   ],
   "source": [
    "match(rEx2, \"stuff (23)\")"
   ]
  },
  {
   "cell_type": "code",
   "execution_count": 36,
   "id": "490568e5",
   "metadata": {},
   "outputs": [],
   "source": [
    "match(rEx2, \"stuff(23)\")"
   ]
  },
  {
   "cell_type": "code",
   "execution_count": 37,
   "id": "350c2e5f",
   "metadata": {},
   "outputs": [
    {
     "data": {
      "text/plain": [
       "parseline (generic function with 1 method)"
      ]
     },
     "execution_count": 37,
     "metadata": {},
     "output_type": "execute_result"
    }
   ],
   "source": [
    "function parseline(line::AbstractString)\n",
    "    parts = split(line, \"::\")\n",
    "    m = match(r\"(.+) \\((\\d{4})\\)\", parts[2])\n",
    "    return (id=parts[1],\n",
    "            name=m[1],\n",
    "            year=parse(Int, m[2]),\n",
    "            genres=split(parts[3], \"|\"))\n",
    "end"
   ]
  },
  {
   "cell_type": "code",
   "execution_count": 38,
   "id": "5bbeaeed",
   "metadata": {},
   "outputs": [
    {
     "data": {
      "text/plain": [
       "(id = \"0002844\", name = \"Fantômas - À l'ombre de la guillotine\", year = 1913, genres = SubString{String}[\"Crime\", \"Drama\"])"
      ]
     },
     "execution_count": 38,
     "metadata": {},
     "output_type": "execute_result"
    }
   ],
   "source": [
    "parseline(movie1)"
   ]
  },
  {
   "cell_type": "code",
   "execution_count": 39,
   "id": "8ac5edbf",
   "metadata": {},
   "outputs": [
    {
     "data": {
      "text/plain": [
       "\"l'étude\""
      ]
     },
     "execution_count": 39,
     "metadata": {},
     "output_type": "execute_result"
    }
   ],
   "source": [
    "example_word = \"l'étude\""
   ]
  },
  {
   "cell_type": "code",
   "execution_count": 42,
   "id": "3687ebd6",
   "metadata": {},
   "outputs": [
    {
     "name": "stdout",
     "output_type": "stream",
     "text": [
      "1235678"
     ]
    }
   ],
   "source": [
    "for i in eachindex(example_word)\n",
    "   print(i) \n",
    "end"
   ]
  },
  {
   "cell_type": "markdown",
   "id": "6e548e88",
   "metadata": {},
   "source": [
    "Wait but no 4?\n",
    "\n",
    "Unicode (utf8 at least) uses variable length encoding"
   ]
  },
  {
   "cell_type": "code",
   "execution_count": null,
   "id": "0204d7c4",
   "metadata": {},
   "outputs": [],
   "source": []
  },
  {
   "cell_type": "markdown",
   "id": "ceb3e65e",
   "metadata": {},
   "source": [
    "## Actual Data Analysis!"
   ]
  },
  {
   "cell_type": "code",
   "execution_count": 43,
   "id": "7a14922e",
   "metadata": {},
   "outputs": [
    {
     "data": {
      "text/plain": [
       "3096-element Vector{NamedTuple{(:id, :name, :year, :genres), Tuple{SubString{String}, SubString{String}, Int64, Vector{SubString{String}}}}}:\n",
       " (id = \"0002844\", name = \"Fantômas - À l'ombre de la guillotine\", year = 1913, genres = [\"Crime\", \"Drama\"])\n",
       " (id = \"0007264\", name = \"The Rink\", year = 1916, genres = [\"Comedy\", \"Short\"])\n",
       " (id = \"0008133\", name = \"The Immigrant\", year = 1917, genres = [\"Short\", \"Comedy\", \"Drama\", \"Romance\"])\n",
       " (id = \"0012349\", name = \"The Kid\", year = 1921, genres = [\"Comedy\", \"Drama\", \"Family\"])\n",
       " (id = \"0013427\", name = \"Nanook of the North\", year = 1922, genres = [\"Documentary\"])\n",
       " (id = \"0014142\", name = \"The Hunchback of Notre Dame\", year = 1923, genres = [\"Drama\", \"Romance\"])\n",
       " (id = \"0014538\", name = \"Three Ages\", year = 1923, genres = [\"Comedy\"])\n",
       " (id = \"0014872\", name = \"Entr'acte\", year = 1924, genres = [\"Short\"])\n",
       " (id = \"0015163\", name = \"The Navigator\", year = 1924, genres = [\"Action\", \"Comedy\"])\n",
       " (id = \"0015324\", name = \"Sherlock Jr.\", year = 1924, genres = [\"Comedy\", \"Fantasy\"])\n",
       " (id = \"0015400\", name = \"The Thief of Bagdad\", year = 1924, genres = [\"Adventure\", \"Family\", \"Fantasy\", \"Romance\"])\n",
       " (id = \"0017925\", name = \"The General\", year = 1926, genres = [\"Action\", \"Adventure\", \"Comedy\", \"Romance\", \"War\"])\n",
       " (id = \"0018773\", name = \"The Circus\", year = 1928, genres = [\"Comedy\", \"Romance\"])\n",
       " ⋮\n",
       " (id = \"2638984\", name = \"Teal Diva\", year = 2012, genres = [\"Documentary\", \"Short\"])\n",
       " (id = \"2645104\", name = \"Romantik komedi 2: Bekarliga veda\", year = 2013, genres = [\"Comedy\"])\n",
       " (id = \"2645164\", name = \"The Hardy Bucks Movie\", year = 2013, genres = [\"Comedy\"])\n",
       " (id = \"2646378\", name = \"The Frankenstein Theory\", year = 2013, genres = [\"Horror\", \"Sci-Fi\"])\n",
       " (id = \"2649128\", name = \"Metro\", year = 2013, genres = [\"Thriller\"])\n",
       " (id = \"2670226\", name = \"Jîn\", year = 2013, genres = [\"Drama\"])\n",
       " (id = \"2700330\", name = \"The Two Escobars\", year = 2010, genres = [\"Documentary\"])\n",
       " (id = \"2735466\", name = \"Pickett's Charge\", year = 2012, genres = [\"Short\", \"Comedy\", \"Drama\", \"Family\"])\n",
       " (id = \"2748368\", name = \"Neil\", year = 2013, genres = [\"Short\", \"Comedy\"])\n",
       " (id = \"2750600\", name = \"A Different Tree\", year = 2013, genres = [\"Short\", \"Drama\", \"Family\"])\n",
       " (id = \"2763252\", name = \"Broken Night\", year = 2013, genres = [\"Short\", \"Drama\"])\n",
       " (id = \"2769592\", name = \"Kiss Shot Truth or Dare\", year = 2013, genres = [\"Short\"])"
      ]
     },
     "execution_count": 43,
     "metadata": {},
     "output_type": "execute_result"
    }
   ],
   "source": [
    "records = parseline.(movies)"
   ]
  },
  {
   "cell_type": "code",
   "execution_count": 44,
   "id": "584e9e6b",
   "metadata": {},
   "outputs": [],
   "source": [
    "genres = String[]\n",
    "for record in records\n",
    "   append!(genres, record.genres)\n",
    "end"
   ]
  },
  {
   "cell_type": "code",
   "execution_count": 45,
   "id": "205a8c9c",
   "metadata": {},
   "outputs": [
    {
     "data": {
      "text/plain": [
       "8121-element Vector{String}:\n",
       " \"Crime\"\n",
       " \"Drama\"\n",
       " \"Comedy\"\n",
       " \"Short\"\n",
       " \"Short\"\n",
       " \"Comedy\"\n",
       " \"Drama\"\n",
       " \"Romance\"\n",
       " \"Comedy\"\n",
       " \"Drama\"\n",
       " \"Family\"\n",
       " \"Documentary\"\n",
       " \"Drama\"\n",
       " ⋮\n",
       " \"Short\"\n",
       " \"Comedy\"\n",
       " \"Drama\"\n",
       " \"Family\"\n",
       " \"Short\"\n",
       " \"Comedy\"\n",
       " \"Short\"\n",
       " \"Drama\"\n",
       " \"Family\"\n",
       " \"Short\"\n",
       " \"Drama\"\n",
       " \"Short\""
      ]
     },
     "execution_count": 45,
     "metadata": {},
     "output_type": "execute_result"
    }
   ],
   "source": [
    "genres"
   ]
  },
  {
   "cell_type": "code",
   "execution_count": 47,
   "id": "d2e2d9fc",
   "metadata": {},
   "outputs": [
    {
     "name": "stderr",
     "output_type": "stream",
     "text": [
      "\u001b[32m\u001b[1m    Updating\u001b[22m\u001b[39m registry at `~/.julia/registries/General.toml`\n",
      "\u001b[32m\u001b[1m   Resolving\u001b[22m\u001b[39m package versions...\n",
      "\u001b[32m\u001b[1m   Installed\u001b[22m\u001b[39m FreqTables ──────── v0.4.5\n",
      "\u001b[32m\u001b[1m   Installed\u001b[22m\u001b[39m InvertedIndices ─── v1.2.0\n",
      "\u001b[32m\u001b[1m   Installed\u001b[22m\u001b[39m Combinatorics ───── v1.0.2\n",
      "\u001b[32m\u001b[1m   Installed\u001b[22m\u001b[39m NamedArrays ─────── v0.9.6\n",
      "\u001b[32m\u001b[1m   Installed\u001b[22m\u001b[39m CategoricalArrays ─ v0.10.7\n",
      "\u001b[32m\u001b[1m    Updating\u001b[22m\u001b[39m `~/.julia/environments/v1.8/Project.toml`\n",
      " \u001b[90m [da1fdf0e] \u001b[39m\u001b[92m+ FreqTables v0.4.5\u001b[39m\n",
      "\u001b[32m\u001b[1m    Updating\u001b[22m\u001b[39m `~/.julia/environments/v1.8/Manifest.toml`\n",
      " \u001b[90m [324d7699] \u001b[39m\u001b[92m+ CategoricalArrays v0.10.7\u001b[39m\n",
      " \u001b[90m [861a8166] \u001b[39m\u001b[92m+ Combinatorics v1.0.2\u001b[39m\n",
      " \u001b[90m [da1fdf0e] \u001b[39m\u001b[92m+ FreqTables v0.4.5\u001b[39m\n",
      " \u001b[90m [41ab1584] \u001b[39m\u001b[92m+ InvertedIndices v1.2.0\u001b[39m\n",
      " \u001b[90m [86f7a689] \u001b[39m\u001b[92m+ NamedArrays v0.9.6\u001b[39m\n",
      " \u001b[90m [9fa8497b] \u001b[39m\u001b[92m+ Future\u001b[39m\n",
      "\u001b[32m\u001b[1mPrecompiling\u001b[22m\u001b[39m project...\n",
      "\u001b[32m  ✓ \u001b[39m\u001b[90mInvertedIndices\u001b[39m\n",
      "\u001b[32m  ✓ \u001b[39m\u001b[90mCombinatorics\u001b[39m\n",
      "\u001b[32m  ✓ \u001b[39m\u001b[90mCategoricalArrays\u001b[39m\n",
      "\u001b[32m  ✓ \u001b[39m\u001b[90mNamedArrays\u001b[39m\n",
      "\u001b[32m  ✓ \u001b[39mFreqTables\n",
      "  5 dependencies successfully precompiled in 1 seconds. 161 already precompiled.\n"
     ]
    }
   ],
   "source": [
    "import Pkg; Pkg.add(\"FreqTables\")"
   ]
  },
  {
   "cell_type": "code",
   "execution_count": 48,
   "id": "0ccd6661",
   "metadata": {},
   "outputs": [],
   "source": [
    "using FreqTables"
   ]
  },
  {
   "cell_type": "code",
   "execution_count": 49,
   "id": "7dd9f25d",
   "metadata": {},
   "outputs": [
    {
     "data": {
      "text/plain": [
       "25-element Named Vector{Int64}\n",
       "Dim1        │ \n",
       "────────────┼─────\n",
       "            │   14\n",
       "Action      │  635\n",
       "Adventure   │  443\n",
       "Animation   │  137\n",
       "Biography   │  166\n",
       "Comedy      │ 1001\n",
       "Crime       │  550\n",
       "Documentary │  126\n",
       "Drama       │ 1583\n",
       "Family      │  222\n",
       "Fantasy     │  278\n",
       "⋮                ⋮\n",
       "Music       │   83\n",
       "Musical     │   58\n",
       "Mystery     │  294\n",
       "News        │    4\n",
       "Romance     │  558\n",
       "Sci-Fi      │  305\n",
       "Short       │   46\n",
       "Sport       │   84\n",
       "Thriller    │  910\n",
       "War         │  126\n",
       "Western     │   35"
      ]
     },
     "execution_count": 49,
     "metadata": {},
     "output_type": "execute_result"
    }
   ],
   "source": [
    "table = freqtable(genres)"
   ]
  },
  {
   "cell_type": "code",
   "execution_count": 50,
   "id": "09bbda98",
   "metadata": {},
   "outputs": [
    {
     "data": {
      "text/plain": [
       "25-element Named Vector{Int64}\n",
       "Dim1        │ \n",
       "────────────┼─────\n",
       "News        │    4\n",
       "Film-Noir   │   13\n",
       "            │   14\n",
       "Western     │   35\n",
       "Short       │   46\n",
       "Musical     │   58\n",
       "Music       │   83\n",
       "Sport       │   84\n",
       "History     │  125\n",
       "Documentary │  126\n",
       "War         │  126\n",
       "⋮                ⋮\n",
       "Fantasy     │  278\n",
       "Mystery     │  294\n",
       "Sci-Fi      │  305\n",
       "Horror      │  325\n",
       "Adventure   │  443\n",
       "Crime       │  550\n",
       "Romance     │  558\n",
       "Action      │  635\n",
       "Thriller    │  910\n",
       "Comedy      │ 1001\n",
       "Drama       │ 1583"
      ]
     },
     "execution_count": 50,
     "metadata": {},
     "output_type": "execute_result"
    }
   ],
   "source": [
    "sort!(table)"
   ]
  },
  {
   "cell_type": "markdown",
   "id": "7ba372e3",
   "metadata": {},
   "source": [
    "> Understanding genre popularity evolution over the years"
   ]
  },
  {
   "cell_type": "code",
   "execution_count": 51,
   "id": "617f5913",
   "metadata": {},
   "outputs": [
    {
     "data": {
      "text/plain": [
       "3096-element Vector{Int64}:\n",
       " 1913\n",
       " 1916\n",
       " 1917\n",
       " 1921\n",
       " 1922\n",
       " 1923\n",
       " 1923\n",
       " 1924\n",
       " 1924\n",
       " 1924\n",
       " 1924\n",
       " 1926\n",
       " 1928\n",
       "    ⋮\n",
       " 2012\n",
       " 2013\n",
       " 2013\n",
       " 2013\n",
       " 2013\n",
       " 2013\n",
       " 2010\n",
       " 2012\n",
       " 2013\n",
       " 2013\n",
       " 2013\n",
       " 2013"
      ]
     },
     "execution_count": 51,
     "metadata": {},
     "output_type": "execute_result"
    }
   ],
   "source": [
    "years = [record.year for record in records]"
   ]
  },
  {
   "cell_type": "code",
   "execution_count": 52,
   "id": "bed15eb2",
   "metadata": {},
   "outputs": [
    {
     "data": {
      "text/plain": [
       "3096-element Vector{Bool}:\n",
       " 1\n",
       " 0\n",
       " 1\n",
       " 1\n",
       " 0\n",
       " 1\n",
       " 0\n",
       " 0\n",
       " 0\n",
       " 0\n",
       " 0\n",
       " 0\n",
       " 0\n",
       " ⋮\n",
       " 0\n",
       " 0\n",
       " 0\n",
       " 0\n",
       " 0\n",
       " 1\n",
       " 0\n",
       " 1\n",
       " 0\n",
       " 1\n",
       " 1\n",
       " 0"
      ]
     },
     "execution_count": 52,
     "metadata": {},
     "output_type": "execute_result"
    }
   ],
   "source": [
    "has_drama = [\"Drama\" in record.genres for record in records]"
   ]
  },
  {
   "cell_type": "code",
   "execution_count": 53,
   "id": "2137e42b",
   "metadata": {},
   "outputs": [
    {
     "data": {
      "text/plain": [
       "93×2 Named Matrix{Float64}\n",
       "Dim1 ╲ Dim2 │    false      true\n",
       "────────────┼───────────────────\n",
       "1913        │      0.0       1.0\n",
       "1916        │      1.0       0.0\n",
       "1917        │      0.0       1.0\n",
       "1921        │      0.0       1.0\n",
       "1922        │      1.0       0.0\n",
       "1923        │      0.5       0.5\n",
       "1924        │      1.0       0.0\n",
       "1926        │      1.0       0.0\n",
       "1928        │      1.0       0.0\n",
       "1929        │      1.0       0.0\n",
       "1930        │ 0.333333  0.666667\n",
       "⋮                    ⋮         ⋮\n",
       "2003        │ 0.533333  0.466667\n",
       "2004        │ 0.438095  0.561905\n",
       "2005        │ 0.387931  0.612069\n",
       "2006        │ 0.426357  0.573643\n",
       "2007        │ 0.492063  0.507937\n",
       "2008        │ 0.424051  0.575949\n",
       "2009        │ 0.432432  0.567568\n",
       "2010        │ 0.451754  0.548246\n",
       "2011        │ 0.484472  0.515528\n",
       "2012        │ 0.577017  0.422983\n",
       "2013        │ 0.623529  0.376471"
      ]
     },
     "execution_count": 53,
     "metadata": {},
     "output_type": "execute_result"
    }
   ],
   "source": [
    "drama_prop = proptable(years, has_drama; margins=1)"
   ]
  },
  {
   "cell_type": "code",
   "execution_count": 54,
   "id": "f160553e",
   "metadata": {},
   "outputs": [],
   "source": [
    "using Plots"
   ]
  },
  {
   "cell_type": "code",
   "execution_count": 55,
   "id": "c098ea36",
   "metadata": {},
   "outputs": [
    {
     "data": {
      "image/svg+xml": [
       "<?xml version=\"1.0\" encoding=\"utf-8\"?>\n",
       "<svg xmlns=\"http://www.w3.org/2000/svg\" xmlns:xlink=\"http://www.w3.org/1999/xlink\" width=\"600\" height=\"400\" viewBox=\"0 0 2400 1600\">\n",
       "<defs>\n",
       "  <clipPath id=\"clip280\">\n",
       "    <rect x=\"0\" y=\"0\" width=\"2400\" height=\"1600\"/>\n",
       "  </clipPath>\n",
       "</defs>\n",
       "<path clip-path=\"url(#clip280)\" d=\"M0 1600 L2400 1600 L2400 0 L0 0  Z\" fill=\"#ffffff\" fill-rule=\"evenodd\" fill-opacity=\"1\"/>\n",
       "<defs>\n",
       "  <clipPath id=\"clip281\">\n",
       "    <rect x=\"480\" y=\"0\" width=\"1681\" height=\"1600\"/>\n",
       "  </clipPath>\n",
       "</defs>\n",
       "<path clip-path=\"url(#clip280)\" d=\"M249.542 1423.18 L2352.76 1423.18 L2352.76 47.2441 L249.542 47.2441  Z\" fill=\"#ffffff\" fill-rule=\"evenodd\" fill-opacity=\"1\"/>\n",
       "<defs>\n",
       "  <clipPath id=\"clip282\">\n",
       "    <rect x=\"249\" y=\"47\" width=\"2104\" height=\"1377\"/>\n",
       "  </clipPath>\n",
       "</defs>\n",
       "<polyline clip-path=\"url(#clip282)\" style=\"stroke:#000000; stroke-linecap:round; stroke-linejoin:round; stroke-width:2; stroke-opacity:0.1; fill:none\" points=\"447.958,1423.18 447.958,47.2441 \"/>\n",
       "<polyline clip-path=\"url(#clip282)\" style=\"stroke:#000000; stroke-linecap:round; stroke-linejoin:round; stroke-width:2; stroke-opacity:0.1; fill:none\" points=\"844.791,1423.18 844.791,47.2441 \"/>\n",
       "<polyline clip-path=\"url(#clip282)\" style=\"stroke:#000000; stroke-linecap:round; stroke-linejoin:round; stroke-width:2; stroke-opacity:0.1; fill:none\" points=\"1241.62,1423.18 1241.62,47.2441 \"/>\n",
       "<polyline clip-path=\"url(#clip282)\" style=\"stroke:#000000; stroke-linecap:round; stroke-linejoin:round; stroke-width:2; stroke-opacity:0.1; fill:none\" points=\"1638.46,1423.18 1638.46,47.2441 \"/>\n",
       "<polyline clip-path=\"url(#clip282)\" style=\"stroke:#000000; stroke-linecap:round; stroke-linejoin:round; stroke-width:2; stroke-opacity:0.1; fill:none\" points=\"2035.29,1423.18 2035.29,47.2441 \"/>\n",
       "<polyline clip-path=\"url(#clip280)\" style=\"stroke:#000000; stroke-linecap:round; stroke-linejoin:round; stroke-width:4; stroke-opacity:1; fill:none\" points=\"249.542,1423.18 2352.76,1423.18 \"/>\n",
       "<polyline clip-path=\"url(#clip280)\" style=\"stroke:#000000; stroke-linecap:round; stroke-linejoin:round; stroke-width:4; stroke-opacity:1; fill:none\" points=\"447.958,1423.18 447.958,1404.28 \"/>\n",
       "<polyline clip-path=\"url(#clip280)\" style=\"stroke:#000000; stroke-linecap:round; stroke-linejoin:round; stroke-width:4; stroke-opacity:1; fill:none\" points=\"844.791,1423.18 844.791,1404.28 \"/>\n",
       "<polyline clip-path=\"url(#clip280)\" style=\"stroke:#000000; stroke-linecap:round; stroke-linejoin:round; stroke-width:4; stroke-opacity:1; fill:none\" points=\"1241.62,1423.18 1241.62,1404.28 \"/>\n",
       "<polyline clip-path=\"url(#clip280)\" style=\"stroke:#000000; stroke-linecap:round; stroke-linejoin:round; stroke-width:4; stroke-opacity:1; fill:none\" points=\"1638.46,1423.18 1638.46,1404.28 \"/>\n",
       "<polyline clip-path=\"url(#clip280)\" style=\"stroke:#000000; stroke-linecap:round; stroke-linejoin:round; stroke-width:4; stroke-opacity:1; fill:none\" points=\"2035.29,1423.18 2035.29,1404.28 \"/>\n",
       "<path clip-path=\"url(#clip280)\" d=\"M392.484 1481.64 L400.123 1481.64 L400.123 1455.28 L391.813 1456.95 L391.813 1452.69 L400.077 1451.02 L404.753 1451.02 L404.753 1481.64 L412.391 1481.64 L412.391 1485.58 L392.484 1485.58 L392.484 1481.64 Z\" fill=\"#000000\" fill-rule=\"evenodd\" fill-opacity=\"1\" /><path clip-path=\"url(#clip280)\" d=\"M421.975 1484.86 L421.975 1480.6 Q423.734 1481.44 425.54 1481.88 Q427.345 1482.32 429.081 1482.32 Q433.711 1482.32 436.141 1479.21 Q438.595 1476.09 438.942 1469.75 Q437.6 1471.74 435.54 1472.8 Q433.479 1473.87 430.979 1473.87 Q425.794 1473.87 422.762 1470.74 Q419.753 1467.59 419.753 1462.15 Q419.753 1456.83 422.901 1453.61 Q426.049 1450.39 431.28 1450.39 Q437.276 1450.39 440.424 1455 Q443.595 1459.58 443.595 1468.33 Q443.595 1476.51 439.706 1481.39 Q435.84 1486.25 429.29 1486.25 Q427.53 1486.25 425.725 1485.9 Q423.919 1485.56 421.975 1484.86 M431.28 1470.21 Q434.428 1470.21 436.257 1468.06 Q438.109 1465.9 438.109 1462.15 Q438.109 1458.43 436.257 1456.27 Q434.428 1454.1 431.28 1454.1 Q428.132 1454.1 426.28 1456.27 Q424.452 1458.43 424.452 1462.15 Q424.452 1465.9 426.28 1468.06 Q428.132 1470.21 431.28 1470.21 Z\" fill=\"#000000\" fill-rule=\"evenodd\" fill-opacity=\"1\" /><path clip-path=\"url(#clip280)\" d=\"M456.026 1481.64 L472.345 1481.64 L472.345 1485.58 L450.401 1485.58 L450.401 1481.64 Q453.063 1478.89 457.646 1474.26 Q462.252 1469.61 463.433 1468.27 Q465.678 1465.74 466.558 1464.01 Q467.461 1462.25 467.461 1460.56 Q467.461 1457.8 465.516 1456.07 Q463.595 1454.33 460.493 1454.33 Q458.294 1454.33 455.84 1455.09 Q453.41 1455.86 450.632 1457.41 L450.632 1452.69 Q453.456 1451.55 455.91 1450.97 Q458.363 1450.39 460.4 1450.39 Q465.771 1450.39 468.965 1453.08 Q472.16 1455.77 472.16 1460.26 Q472.16 1462.39 471.35 1464.31 Q470.562 1466.2 468.456 1468.8 Q467.877 1469.47 464.775 1472.69 Q461.674 1475.88 456.026 1481.64 Z\" fill=\"#000000\" fill-rule=\"evenodd\" fill-opacity=\"1\" /><path clip-path=\"url(#clip280)\" d=\"M492.16 1454.1 Q488.548 1454.1 486.72 1457.66 Q484.914 1461.2 484.914 1468.33 Q484.914 1475.44 486.72 1479.01 Q488.548 1482.55 492.16 1482.55 Q495.794 1482.55 497.599 1479.01 Q499.428 1475.44 499.428 1468.33 Q499.428 1461.2 497.599 1457.66 Q495.794 1454.1 492.16 1454.1 M492.16 1450.39 Q497.97 1450.39 501.025 1455 Q504.104 1459.58 504.104 1468.33 Q504.104 1477.06 501.025 1481.67 Q497.97 1486.25 492.16 1486.25 Q486.349 1486.25 483.271 1481.67 Q480.215 1477.06 480.215 1468.33 Q480.215 1459.58 483.271 1455 Q486.349 1450.39 492.16 1450.39 Z\" fill=\"#000000\" fill-rule=\"evenodd\" fill-opacity=\"1\" /><path clip-path=\"url(#clip280)\" d=\"M789.317 1481.64 L796.956 1481.64 L796.956 1455.28 L788.646 1456.95 L788.646 1452.69 L796.91 1451.02 L801.585 1451.02 L801.585 1481.64 L809.224 1481.64 L809.224 1485.58 L789.317 1485.58 L789.317 1481.64 Z\" fill=\"#000000\" fill-rule=\"evenodd\" fill-opacity=\"1\" /><path clip-path=\"url(#clip280)\" d=\"M818.808 1484.86 L818.808 1480.6 Q820.567 1481.44 822.372 1481.88 Q824.178 1482.32 825.914 1482.32 Q830.544 1482.32 832.974 1479.21 Q835.428 1476.09 835.775 1469.75 Q834.433 1471.74 832.372 1472.8 Q830.312 1473.87 827.812 1473.87 Q822.627 1473.87 819.595 1470.74 Q816.585 1467.59 816.585 1462.15 Q816.585 1456.83 819.734 1453.61 Q822.882 1450.39 828.113 1450.39 Q834.108 1450.39 837.257 1455 Q840.428 1459.58 840.428 1468.33 Q840.428 1476.51 836.539 1481.39 Q832.673 1486.25 826.122 1486.25 Q824.363 1486.25 822.558 1485.9 Q820.752 1485.56 818.808 1484.86 M828.113 1470.21 Q831.261 1470.21 833.09 1468.06 Q834.942 1465.9 834.942 1462.15 Q834.942 1458.43 833.09 1456.27 Q831.261 1454.1 828.113 1454.1 Q824.965 1454.1 823.113 1456.27 Q821.284 1458.43 821.284 1462.15 Q821.284 1465.9 823.113 1468.06 Q824.965 1470.21 828.113 1470.21 Z\" fill=\"#000000\" fill-rule=\"evenodd\" fill-opacity=\"1\" /><path clip-path=\"url(#clip280)\" d=\"M861.678 1455.09 L849.872 1473.54 L861.678 1473.54 L861.678 1455.09 M860.451 1451.02 L866.33 1451.02 L866.33 1473.54 L871.261 1473.54 L871.261 1477.43 L866.33 1477.43 L866.33 1485.58 L861.678 1485.58 L861.678 1477.43 L846.076 1477.43 L846.076 1472.92 L860.451 1451.02 Z\" fill=\"#000000\" fill-rule=\"evenodd\" fill-opacity=\"1\" /><path clip-path=\"url(#clip280)\" d=\"M888.992 1454.1 Q885.381 1454.1 883.553 1457.66 Q881.747 1461.2 881.747 1468.33 Q881.747 1475.44 883.553 1479.01 Q885.381 1482.55 888.992 1482.55 Q892.627 1482.55 894.432 1479.01 Q896.261 1475.44 896.261 1468.33 Q896.261 1461.2 894.432 1457.66 Q892.627 1454.1 888.992 1454.1 M888.992 1450.39 Q894.803 1450.39 897.858 1455 Q900.937 1459.58 900.937 1468.33 Q900.937 1477.06 897.858 1481.67 Q894.803 1486.25 888.992 1486.25 Q883.182 1486.25 880.104 1481.67 Q877.048 1477.06 877.048 1468.33 Q877.048 1459.58 880.104 1455 Q883.182 1450.39 888.992 1450.39 Z\" fill=\"#000000\" fill-rule=\"evenodd\" fill-opacity=\"1\" /><path clip-path=\"url(#clip280)\" d=\"M1186.15 1481.64 L1193.79 1481.64 L1193.79 1455.28 L1185.48 1456.95 L1185.48 1452.69 L1193.74 1451.02 L1198.42 1451.02 L1198.42 1481.64 L1206.06 1481.64 L1206.06 1485.58 L1186.15 1485.58 L1186.15 1481.64 Z\" fill=\"#000000\" fill-rule=\"evenodd\" fill-opacity=\"1\" /><path clip-path=\"url(#clip280)\" d=\"M1215.64 1484.86 L1215.64 1480.6 Q1217.4 1481.44 1219.21 1481.88 Q1221.01 1482.32 1222.75 1482.32 Q1227.38 1482.32 1229.81 1479.21 Q1232.26 1476.09 1232.61 1469.75 Q1231.27 1471.74 1229.21 1472.8 Q1227.14 1473.87 1224.64 1473.87 Q1219.46 1473.87 1216.43 1470.74 Q1213.42 1467.59 1213.42 1462.15 Q1213.42 1456.83 1216.57 1453.61 Q1219.71 1450.39 1224.95 1450.39 Q1230.94 1450.39 1234.09 1455 Q1237.26 1459.58 1237.26 1468.33 Q1237.26 1476.51 1233.37 1481.39 Q1229.51 1486.25 1222.96 1486.25 Q1221.2 1486.25 1219.39 1485.9 Q1217.58 1485.56 1215.64 1484.86 M1224.95 1470.21 Q1228.09 1470.21 1229.92 1468.06 Q1231.77 1465.9 1231.77 1462.15 Q1231.77 1458.43 1229.92 1456.27 Q1228.09 1454.1 1224.95 1454.1 Q1221.8 1454.1 1219.95 1456.27 Q1218.12 1458.43 1218.12 1462.15 Q1218.12 1465.9 1219.95 1468.06 Q1221.8 1470.21 1224.95 1470.21 Z\" fill=\"#000000\" fill-rule=\"evenodd\" fill-opacity=\"1\" /><path clip-path=\"url(#clip280)\" d=\"M1256.24 1466.44 Q1253.09 1466.44 1251.24 1468.59 Q1249.41 1470.74 1249.41 1474.49 Q1249.41 1478.22 1251.24 1480.39 Q1253.09 1482.55 1256.24 1482.55 Q1259.39 1482.55 1261.22 1480.39 Q1263.07 1478.22 1263.07 1474.49 Q1263.07 1470.74 1261.22 1468.59 Q1259.39 1466.44 1256.24 1466.44 M1265.52 1451.78 L1265.52 1456.04 Q1263.77 1455.21 1261.96 1454.77 Q1260.18 1454.33 1258.42 1454.33 Q1253.79 1454.33 1251.33 1457.45 Q1248.9 1460.58 1248.56 1466.9 Q1249.92 1464.89 1251.98 1463.82 Q1254.04 1462.73 1256.52 1462.73 Q1261.73 1462.73 1264.74 1465.9 Q1267.77 1469.05 1267.77 1474.49 Q1267.77 1479.82 1264.62 1483.03 Q1261.47 1486.25 1256.24 1486.25 Q1250.25 1486.25 1247.08 1481.67 Q1243.9 1477.06 1243.9 1468.33 Q1243.9 1460.14 1247.79 1455.28 Q1251.68 1450.39 1258.23 1450.39 Q1259.99 1450.39 1261.77 1450.74 Q1263.58 1451.09 1265.52 1451.78 Z\" fill=\"#000000\" fill-rule=\"evenodd\" fill-opacity=\"1\" /><path clip-path=\"url(#clip280)\" d=\"M1285.83 1454.1 Q1282.21 1454.1 1280.39 1457.66 Q1278.58 1461.2 1278.58 1468.33 Q1278.58 1475.44 1280.39 1479.01 Q1282.21 1482.55 1285.83 1482.55 Q1289.46 1482.55 1291.26 1479.01 Q1293.09 1475.44 1293.09 1468.33 Q1293.09 1461.2 1291.26 1457.66 Q1289.46 1454.1 1285.83 1454.1 M1285.83 1450.39 Q1291.64 1450.39 1294.69 1455 Q1297.77 1459.58 1297.77 1468.33 Q1297.77 1477.06 1294.69 1481.67 Q1291.64 1486.25 1285.83 1486.25 Q1280.02 1486.25 1276.94 1481.67 Q1273.88 1477.06 1273.88 1468.33 Q1273.88 1459.58 1276.94 1455 Q1280.02 1450.39 1285.83 1450.39 Z\" fill=\"#000000\" fill-rule=\"evenodd\" fill-opacity=\"1\" /><path clip-path=\"url(#clip280)\" d=\"M1582.98 1481.64 L1590.62 1481.64 L1590.62 1455.28 L1582.31 1456.95 L1582.31 1452.69 L1590.58 1451.02 L1595.25 1451.02 L1595.25 1481.64 L1602.89 1481.64 L1602.89 1485.58 L1582.98 1485.58 L1582.98 1481.64 Z\" fill=\"#000000\" fill-rule=\"evenodd\" fill-opacity=\"1\" /><path clip-path=\"url(#clip280)\" d=\"M1612.47 1484.86 L1612.47 1480.6 Q1614.23 1481.44 1616.04 1481.88 Q1617.84 1482.32 1619.58 1482.32 Q1624.21 1482.32 1626.64 1479.21 Q1629.09 1476.09 1629.44 1469.75 Q1628.1 1471.74 1626.04 1472.8 Q1623.98 1473.87 1621.48 1473.87 Q1616.29 1473.87 1613.26 1470.74 Q1610.25 1467.59 1610.25 1462.15 Q1610.25 1456.83 1613.4 1453.61 Q1616.55 1450.39 1621.78 1450.39 Q1627.77 1450.39 1630.92 1455 Q1634.09 1459.58 1634.09 1468.33 Q1634.09 1476.51 1630.2 1481.39 Q1626.34 1486.25 1619.79 1486.25 Q1618.03 1486.25 1616.22 1485.9 Q1614.42 1485.56 1612.47 1484.86 M1621.78 1470.21 Q1624.93 1470.21 1626.76 1468.06 Q1628.61 1465.9 1628.61 1462.15 Q1628.61 1458.43 1626.76 1456.27 Q1624.93 1454.1 1621.78 1454.1 Q1618.63 1454.1 1616.78 1456.27 Q1614.95 1458.43 1614.95 1462.15 Q1614.95 1465.9 1616.78 1468.06 Q1618.63 1470.21 1621.78 1470.21 Z\" fill=\"#000000\" fill-rule=\"evenodd\" fill-opacity=\"1\" /><path clip-path=\"url(#clip280)\" d=\"M1652.5 1469.17 Q1649.16 1469.17 1647.24 1470.95 Q1645.34 1472.73 1645.34 1475.86 Q1645.34 1478.98 1647.24 1480.77 Q1649.16 1482.55 1652.5 1482.55 Q1655.83 1482.55 1657.75 1480.77 Q1659.67 1478.96 1659.67 1475.86 Q1659.67 1472.73 1657.75 1470.95 Q1655.85 1469.17 1652.5 1469.17 M1647.82 1467.18 Q1644.81 1466.44 1643.12 1464.38 Q1641.45 1462.32 1641.45 1459.35 Q1641.45 1455.21 1644.39 1452.8 Q1647.36 1450.39 1652.5 1450.39 Q1657.66 1450.39 1660.6 1452.8 Q1663.54 1455.21 1663.54 1459.35 Q1663.54 1462.32 1661.85 1464.38 Q1660.18 1466.44 1657.2 1467.18 Q1660.57 1467.96 1662.45 1470.26 Q1664.35 1472.55 1664.35 1475.86 Q1664.35 1480.88 1661.27 1483.57 Q1658.21 1486.25 1652.5 1486.25 Q1646.78 1486.25 1643.7 1483.57 Q1640.64 1480.88 1640.64 1475.86 Q1640.64 1472.55 1642.54 1470.26 Q1644.44 1467.96 1647.82 1467.18 M1646.11 1459.79 Q1646.11 1462.48 1647.77 1463.98 Q1649.46 1465.49 1652.5 1465.49 Q1655.51 1465.49 1657.2 1463.98 Q1658.91 1462.48 1658.91 1459.79 Q1658.91 1457.11 1657.2 1455.6 Q1655.51 1454.1 1652.5 1454.1 Q1649.46 1454.1 1647.77 1455.6 Q1646.11 1457.11 1646.11 1459.79 Z\" fill=\"#000000\" fill-rule=\"evenodd\" fill-opacity=\"1\" /><path clip-path=\"url(#clip280)\" d=\"M1682.66 1454.1 Q1679.05 1454.1 1677.22 1457.66 Q1675.41 1461.2 1675.41 1468.33 Q1675.41 1475.44 1677.22 1479.01 Q1679.05 1482.55 1682.66 1482.55 Q1686.29 1482.55 1688.1 1479.01 Q1689.93 1475.44 1689.93 1468.33 Q1689.93 1461.2 1688.1 1457.66 Q1686.29 1454.1 1682.66 1454.1 M1682.66 1450.39 Q1688.47 1450.39 1691.52 1455 Q1694.6 1459.58 1694.6 1468.33 Q1694.6 1477.06 1691.52 1481.67 Q1688.47 1486.25 1682.66 1486.25 Q1676.85 1486.25 1673.77 1481.67 Q1670.71 1477.06 1670.71 1468.33 Q1670.71 1459.58 1673.77 1455 Q1676.85 1450.39 1682.66 1450.39 Z\" fill=\"#000000\" fill-rule=\"evenodd\" fill-opacity=\"1\" /><path clip-path=\"url(#clip280)\" d=\"M1983.9 1481.64 L2000.22 1481.64 L2000.22 1485.58 L1978.28 1485.58 L1978.28 1481.64 Q1980.94 1478.89 1985.52 1474.26 Q1990.13 1469.61 1991.31 1468.27 Q1993.55 1465.74 1994.43 1464.01 Q1995.34 1462.25 1995.34 1460.56 Q1995.34 1457.8 1993.39 1456.07 Q1991.47 1454.33 1988.37 1454.33 Q1986.17 1454.33 1983.72 1455.09 Q1981.29 1455.86 1978.51 1457.41 L1978.51 1452.69 Q1981.33 1451.55 1983.79 1450.97 Q1986.24 1450.39 1988.28 1450.39 Q1993.65 1450.39 1996.84 1453.08 Q2000.04 1455.77 2000.04 1460.26 Q2000.04 1462.39 1999.23 1464.31 Q1998.44 1466.2 1996.33 1468.8 Q1995.75 1469.47 1992.65 1472.69 Q1989.55 1475.88 1983.9 1481.64 Z\" fill=\"#000000\" fill-rule=\"evenodd\" fill-opacity=\"1\" /><path clip-path=\"url(#clip280)\" d=\"M2020.04 1454.1 Q2016.42 1454.1 2014.6 1457.66 Q2012.79 1461.2 2012.79 1468.33 Q2012.79 1475.44 2014.6 1479.01 Q2016.42 1482.55 2020.04 1482.55 Q2023.67 1482.55 2025.47 1479.01 Q2027.3 1475.44 2027.3 1468.33 Q2027.3 1461.2 2025.47 1457.66 Q2023.67 1454.1 2020.04 1454.1 M2020.04 1450.39 Q2025.85 1450.39 2028.9 1455 Q2031.98 1459.58 2031.98 1468.33 Q2031.98 1477.06 2028.9 1481.67 Q2025.85 1486.25 2020.04 1486.25 Q2014.22 1486.25 2011.15 1481.67 Q2008.09 1477.06 2008.09 1468.33 Q2008.09 1459.58 2011.15 1455 Q2014.22 1450.39 2020.04 1450.39 Z\" fill=\"#000000\" fill-rule=\"evenodd\" fill-opacity=\"1\" /><path clip-path=\"url(#clip280)\" d=\"M2050.2 1454.1 Q2046.59 1454.1 2044.76 1457.66 Q2042.95 1461.2 2042.95 1468.33 Q2042.95 1475.44 2044.76 1479.01 Q2046.59 1482.55 2050.2 1482.55 Q2053.83 1482.55 2055.64 1479.01 Q2057.47 1475.44 2057.47 1468.33 Q2057.47 1461.2 2055.64 1457.66 Q2053.83 1454.1 2050.2 1454.1 M2050.2 1450.39 Q2056.01 1450.39 2059.06 1455 Q2062.14 1459.58 2062.14 1468.33 Q2062.14 1477.06 2059.06 1481.67 Q2056.01 1486.25 2050.2 1486.25 Q2044.39 1486.25 2041.31 1481.67 Q2038.25 1477.06 2038.25 1468.33 Q2038.25 1459.58 2041.31 1455 Q2044.39 1450.39 2050.2 1450.39 Z\" fill=\"#000000\" fill-rule=\"evenodd\" fill-opacity=\"1\" /><path clip-path=\"url(#clip280)\" d=\"M2080.36 1454.1 Q2076.75 1454.1 2074.92 1457.66 Q2073.11 1461.2 2073.11 1468.33 Q2073.11 1475.44 2074.92 1479.01 Q2076.75 1482.55 2080.36 1482.55 Q2083.99 1482.55 2085.8 1479.01 Q2087.63 1475.44 2087.63 1468.33 Q2087.63 1461.2 2085.8 1457.66 Q2083.99 1454.1 2080.36 1454.1 M2080.36 1450.39 Q2086.17 1450.39 2089.22 1455 Q2092.3 1459.58 2092.3 1468.33 Q2092.3 1477.06 2089.22 1481.67 Q2086.17 1486.25 2080.36 1486.25 Q2074.55 1486.25 2071.47 1481.67 Q2068.41 1477.06 2068.41 1468.33 Q2068.41 1459.58 2071.47 1455 Q2074.55 1450.39 2080.36 1450.39 Z\" fill=\"#000000\" fill-rule=\"evenodd\" fill-opacity=\"1\" /><path clip-path=\"url(#clip280)\" d=\"M1248.44 1571.35 Q1245.96 1577.72 1243.6 1579.66 Q1241.25 1581.6 1237.3 1581.6 L1232.62 1581.6 L1232.62 1576.7 L1236.06 1576.7 Q1238.48 1576.7 1239.82 1575.56 Q1241.15 1574.41 1242.78 1570.14 L1243.83 1567.47 L1229.41 1532.4 L1235.61 1532.4 L1246.75 1560.28 L1257.89 1532.4 L1264.1 1532.4 L1248.44 1571.35 Z\" fill=\"#000000\" fill-rule=\"evenodd\" fill-opacity=\"1\" /><path clip-path=\"url(#clip280)\" d=\"M1302.68 1548.76 L1302.68 1551.62 L1275.75 1551.62 Q1276.13 1557.67 1279.38 1560.85 Q1282.66 1564 1288.48 1564 Q1291.86 1564 1295.01 1563.17 Q1298.19 1562.35 1301.31 1560.69 L1301.31 1566.23 Q1298.16 1567.57 1294.85 1568.27 Q1291.54 1568.97 1288.13 1568.97 Q1279.6 1568.97 1274.6 1564 Q1269.64 1559.04 1269.64 1550.57 Q1269.64 1541.82 1274.35 1536.69 Q1279.09 1531.54 1287.11 1531.54 Q1294.31 1531.54 1298.48 1536.18 Q1302.68 1540.8 1302.68 1548.76 M1296.82 1547.04 Q1296.76 1542.23 1294.11 1539.37 Q1291.5 1536.5 1287.18 1536.5 Q1282.27 1536.5 1279.31 1539.27 Q1276.39 1542.04 1275.94 1547.07 L1296.82 1547.04 Z\" fill=\"#000000\" fill-rule=\"evenodd\" fill-opacity=\"1\" /><path clip-path=\"url(#clip280)\" d=\"M1328.49 1550.12 Q1321.39 1550.12 1318.65 1551.75 Q1315.92 1553.37 1315.92 1557.29 Q1315.92 1560.4 1317.95 1562.25 Q1320.02 1564.07 1323.56 1564.07 Q1328.43 1564.07 1331.35 1560.63 Q1334.31 1557.16 1334.31 1551.43 L1334.31 1550.12 L1328.49 1550.12 M1340.17 1547.71 L1340.17 1568.04 L1334.31 1568.04 L1334.31 1562.63 Q1332.31 1565.88 1329.32 1567.44 Q1326.33 1568.97 1322 1568.97 Q1316.52 1568.97 1313.28 1565.91 Q1310.06 1562.82 1310.06 1557.67 Q1310.06 1551.65 1314.07 1548.6 Q1318.11 1545.54 1326.1 1545.54 L1334.31 1545.54 L1334.31 1544.97 Q1334.31 1540.93 1331.64 1538.73 Q1329 1536.5 1324.19 1536.5 Q1321.14 1536.5 1318.24 1537.23 Q1315.34 1537.97 1312.67 1539.43 L1312.67 1534.02 Q1315.89 1532.78 1318.91 1532.17 Q1321.93 1531.54 1324.8 1531.54 Q1332.53 1531.54 1336.35 1535.55 Q1340.17 1539.56 1340.17 1547.71 Z\" fill=\"#000000\" fill-rule=\"evenodd\" fill-opacity=\"1\" /><path clip-path=\"url(#clip280)\" d=\"M1372.89 1537.87 Q1371.9 1537.3 1370.73 1537.04 Q1369.58 1536.76 1368.18 1536.76 Q1363.21 1536.76 1360.54 1540 Q1357.9 1543.22 1357.9 1549.27 L1357.9 1568.04 L1352.01 1568.04 L1352.01 1532.4 L1357.9 1532.4 L1357.9 1537.93 Q1359.75 1534.69 1362.71 1533.13 Q1365.67 1531.54 1369.9 1531.54 Q1370.5 1531.54 1371.24 1531.63 Q1371.97 1531.7 1372.86 1531.85 L1372.89 1537.87 Z\" fill=\"#000000\" fill-rule=\"evenodd\" fill-opacity=\"1\" /><polyline clip-path=\"url(#clip282)\" style=\"stroke:#000000; stroke-linecap:round; stroke-linejoin:round; stroke-width:2; stroke-opacity:0.1; fill:none\" points=\"249.542,1384.24 2352.76,1384.24 \"/>\n",
       "<polyline clip-path=\"url(#clip282)\" style=\"stroke:#000000; stroke-linecap:round; stroke-linejoin:round; stroke-width:2; stroke-opacity:0.1; fill:none\" points=\"249.542,1059.73 2352.76,1059.73 \"/>\n",
       "<polyline clip-path=\"url(#clip282)\" style=\"stroke:#000000; stroke-linecap:round; stroke-linejoin:round; stroke-width:2; stroke-opacity:0.1; fill:none\" points=\"249.542,735.212 2352.76,735.212 \"/>\n",
       "<polyline clip-path=\"url(#clip282)\" style=\"stroke:#000000; stroke-linecap:round; stroke-linejoin:round; stroke-width:2; stroke-opacity:0.1; fill:none\" points=\"249.542,410.699 2352.76,410.699 \"/>\n",
       "<polyline clip-path=\"url(#clip282)\" style=\"stroke:#000000; stroke-linecap:round; stroke-linejoin:round; stroke-width:2; stroke-opacity:0.1; fill:none\" points=\"249.542,86.1857 2352.76,86.1857 \"/>\n",
       "<polyline clip-path=\"url(#clip280)\" style=\"stroke:#000000; stroke-linecap:round; stroke-linejoin:round; stroke-width:4; stroke-opacity:1; fill:none\" points=\"249.542,1423.18 249.542,47.2441 \"/>\n",
       "<polyline clip-path=\"url(#clip280)\" style=\"stroke:#000000; stroke-linecap:round; stroke-linejoin:round; stroke-width:4; stroke-opacity:1; fill:none\" points=\"249.542,1384.24 268.44,1384.24 \"/>\n",
       "<polyline clip-path=\"url(#clip280)\" style=\"stroke:#000000; stroke-linecap:round; stroke-linejoin:round; stroke-width:4; stroke-opacity:1; fill:none\" points=\"249.542,1059.73 268.44,1059.73 \"/>\n",
       "<polyline clip-path=\"url(#clip280)\" style=\"stroke:#000000; stroke-linecap:round; stroke-linejoin:round; stroke-width:4; stroke-opacity:1; fill:none\" points=\"249.542,735.212 268.44,735.212 \"/>\n",
       "<polyline clip-path=\"url(#clip280)\" style=\"stroke:#000000; stroke-linecap:round; stroke-linejoin:round; stroke-width:4; stroke-opacity:1; fill:none\" points=\"249.542,410.699 268.44,410.699 \"/>\n",
       "<polyline clip-path=\"url(#clip280)\" style=\"stroke:#000000; stroke-linecap:round; stroke-linejoin:round; stroke-width:4; stroke-opacity:1; fill:none\" points=\"249.542,86.1857 268.44,86.1857 \"/>\n",
       "<path clip-path=\"url(#clip280)\" d=\"M126.205 1370.04 Q122.593 1370.04 120.765 1373.6 Q118.959 1377.14 118.959 1384.27 Q118.959 1391.38 120.765 1394.94 Q122.593 1398.49 126.205 1398.49 Q129.839 1398.49 131.644 1394.94 Q133.473 1391.38 133.473 1384.27 Q133.473 1377.14 131.644 1373.6 Q129.839 1370.04 126.205 1370.04 M126.205 1366.33 Q132.015 1366.33 135.07 1370.94 Q138.149 1375.52 138.149 1384.27 Q138.149 1393 135.07 1397.61 Q132.015 1402.19 126.205 1402.19 Q120.394 1402.19 117.316 1397.61 Q114.26 1393 114.26 1384.27 Q114.26 1375.52 117.316 1370.94 Q120.394 1366.33 126.205 1366.33 Z\" fill=\"#000000\" fill-rule=\"evenodd\" fill-opacity=\"1\" /><path clip-path=\"url(#clip280)\" d=\"M146.366 1395.64 L151.251 1395.64 L151.251 1401.52 L146.366 1401.52 L146.366 1395.64 Z\" fill=\"#000000\" fill-rule=\"evenodd\" fill-opacity=\"1\" /><path clip-path=\"url(#clip280)\" d=\"M171.436 1370.04 Q167.825 1370.04 165.996 1373.6 Q164.19 1377.14 164.19 1384.27 Q164.19 1391.38 165.996 1394.94 Q167.825 1398.49 171.436 1398.49 Q175.07 1398.49 176.876 1394.94 Q178.704 1391.38 178.704 1384.27 Q178.704 1377.14 176.876 1373.6 Q175.07 1370.04 171.436 1370.04 M171.436 1366.33 Q177.246 1366.33 180.301 1370.94 Q183.38 1375.52 183.38 1384.27 Q183.38 1393 180.301 1397.61 Q177.246 1402.19 171.436 1402.19 Q165.626 1402.19 162.547 1397.61 Q159.491 1393 159.491 1384.27 Q159.491 1375.52 162.547 1370.94 Q165.626 1366.33 171.436 1366.33 Z\" fill=\"#000000\" fill-rule=\"evenodd\" fill-opacity=\"1\" /><path clip-path=\"url(#clip280)\" d=\"M201.598 1370.04 Q197.987 1370.04 196.158 1373.6 Q194.352 1377.14 194.352 1384.27 Q194.352 1391.38 196.158 1394.94 Q197.987 1398.49 201.598 1398.49 Q205.232 1398.49 207.037 1394.94 Q208.866 1391.38 208.866 1384.27 Q208.866 1377.14 207.037 1373.6 Q205.232 1370.04 201.598 1370.04 M201.598 1366.33 Q207.408 1366.33 210.463 1370.94 Q213.542 1375.52 213.542 1384.27 Q213.542 1393 210.463 1397.61 Q207.408 1402.19 201.598 1402.19 Q195.787 1402.19 192.709 1397.61 Q189.653 1393 189.653 1384.27 Q189.653 1375.52 192.709 1370.94 Q195.787 1366.33 201.598 1366.33 Z\" fill=\"#000000\" fill-rule=\"evenodd\" fill-opacity=\"1\" /><path clip-path=\"url(#clip280)\" d=\"M127.2 1045.52 Q123.589 1045.52 121.76 1049.09 Q119.955 1052.63 119.955 1059.76 Q119.955 1066.87 121.76 1070.43 Q123.589 1073.97 127.2 1073.97 Q130.834 1073.97 132.64 1070.43 Q134.468 1066.87 134.468 1059.76 Q134.468 1052.63 132.64 1049.09 Q130.834 1045.52 127.2 1045.52 M127.2 1041.82 Q133.01 1041.82 136.066 1046.43 Q139.144 1051.01 139.144 1059.76 Q139.144 1068.49 136.066 1073.09 Q133.01 1077.68 127.2 1077.68 Q121.39 1077.68 118.311 1073.09 Q115.256 1068.49 115.256 1059.76 Q115.256 1051.01 118.311 1046.43 Q121.39 1041.82 127.2 1041.82 Z\" fill=\"#000000\" fill-rule=\"evenodd\" fill-opacity=\"1\" /><path clip-path=\"url(#clip280)\" d=\"M147.362 1071.13 L152.246 1071.13 L152.246 1077.01 L147.362 1077.01 L147.362 1071.13 Z\" fill=\"#000000\" fill-rule=\"evenodd\" fill-opacity=\"1\" /><path clip-path=\"url(#clip280)\" d=\"M166.459 1073.07 L182.778 1073.07 L182.778 1077.01 L160.834 1077.01 L160.834 1073.07 Q163.496 1070.32 168.079 1065.69 Q172.686 1061.03 173.866 1059.69 Q176.112 1057.17 176.991 1055.43 Q177.894 1053.67 177.894 1051.98 Q177.894 1049.23 175.95 1047.49 Q174.028 1045.76 170.927 1045.76 Q168.727 1045.76 166.274 1046.52 Q163.843 1047.28 161.065 1048.83 L161.065 1044.11 Q163.89 1042.98 166.343 1042.4 Q168.797 1041.82 170.834 1041.82 Q176.204 1041.82 179.399 1044.51 Q182.593 1047.19 182.593 1051.68 Q182.593 1053.81 181.783 1055.73 Q180.996 1057.63 178.889 1060.22 Q178.311 1060.89 175.209 1064.11 Q172.107 1067.31 166.459 1073.07 Z\" fill=\"#000000\" fill-rule=\"evenodd\" fill-opacity=\"1\" /><path clip-path=\"url(#clip280)\" d=\"M192.639 1042.45 L210.996 1042.45 L210.996 1046.38 L196.922 1046.38 L196.922 1054.85 Q197.94 1054.51 198.959 1054.34 Q199.977 1054.16 200.996 1054.16 Q206.783 1054.16 210.162 1057.33 Q213.542 1060.5 213.542 1065.92 Q213.542 1071.5 210.07 1074.6 Q206.598 1077.68 200.278 1077.68 Q198.102 1077.68 195.834 1077.31 Q193.588 1076.94 191.181 1076.19 L191.181 1071.5 Q193.264 1072.63 195.487 1073.19 Q197.709 1073.74 200.186 1073.74 Q204.19 1073.74 206.528 1071.63 Q208.866 1069.53 208.866 1065.92 Q208.866 1062.31 206.528 1060.2 Q204.19 1058.09 200.186 1058.09 Q198.311 1058.09 196.436 1058.51 Q194.584 1058.93 192.639 1059.81 L192.639 1042.45 Z\" fill=\"#000000\" fill-rule=\"evenodd\" fill-opacity=\"1\" /><path clip-path=\"url(#clip280)\" d=\"M126.205 721.011 Q122.593 721.011 120.765 724.575 Q118.959 728.117 118.959 735.247 Q118.959 742.353 120.765 745.918 Q122.593 749.46 126.205 749.46 Q129.839 749.46 131.644 745.918 Q133.473 742.353 133.473 735.247 Q133.473 728.117 131.644 724.575 Q129.839 721.011 126.205 721.011 M126.205 717.307 Q132.015 717.307 135.07 721.913 Q138.149 726.497 138.149 735.247 Q138.149 743.973 135.07 748.58 Q132.015 753.163 126.205 753.163 Q120.394 753.163 117.316 748.58 Q114.26 743.973 114.26 735.247 Q114.26 726.497 117.316 721.913 Q120.394 717.307 126.205 717.307 Z\" fill=\"#000000\" fill-rule=\"evenodd\" fill-opacity=\"1\" /><path clip-path=\"url(#clip280)\" d=\"M146.366 746.612 L151.251 746.612 L151.251 752.492 L146.366 752.492 L146.366 746.612 Z\" fill=\"#000000\" fill-rule=\"evenodd\" fill-opacity=\"1\" /><path clip-path=\"url(#clip280)\" d=\"M161.482 717.932 L179.839 717.932 L179.839 721.867 L165.765 721.867 L165.765 730.339 Q166.783 729.992 167.802 729.83 Q168.82 729.645 169.839 729.645 Q175.626 729.645 179.005 732.816 Q182.385 735.987 182.385 741.404 Q182.385 746.983 178.913 750.085 Q175.44 753.163 169.121 753.163 Q166.945 753.163 164.677 752.793 Q162.431 752.423 160.024 751.682 L160.024 746.983 Q162.107 748.117 164.329 748.673 Q166.552 749.228 169.028 749.228 Q173.033 749.228 175.371 747.122 Q177.709 745.015 177.709 741.404 Q177.709 737.793 175.371 735.687 Q173.033 733.58 169.028 733.58 Q167.153 733.58 165.278 733.997 Q163.427 734.413 161.482 735.293 L161.482 717.932 Z\" fill=\"#000000\" fill-rule=\"evenodd\" fill-opacity=\"1\" /><path clip-path=\"url(#clip280)\" d=\"M201.598 721.011 Q197.987 721.011 196.158 724.575 Q194.352 728.117 194.352 735.247 Q194.352 742.353 196.158 745.918 Q197.987 749.46 201.598 749.46 Q205.232 749.46 207.037 745.918 Q208.866 742.353 208.866 735.247 Q208.866 728.117 207.037 724.575 Q205.232 721.011 201.598 721.011 M201.598 717.307 Q207.408 717.307 210.463 721.913 Q213.542 726.497 213.542 735.247 Q213.542 743.973 210.463 748.58 Q207.408 753.163 201.598 753.163 Q195.787 753.163 192.709 748.58 Q189.653 743.973 189.653 735.247 Q189.653 726.497 192.709 721.913 Q195.787 717.307 201.598 717.307 Z\" fill=\"#000000\" fill-rule=\"evenodd\" fill-opacity=\"1\" /><path clip-path=\"url(#clip280)\" d=\"M127.2 396.498 Q123.589 396.498 121.76 400.062 Q119.955 403.604 119.955 410.734 Q119.955 417.84 121.76 421.405 Q123.589 424.946 127.2 424.946 Q130.834 424.946 132.64 421.405 Q134.468 417.84 134.468 410.734 Q134.468 403.604 132.64 400.062 Q130.834 396.498 127.2 396.498 M127.2 392.794 Q133.01 392.794 136.066 397.4 Q139.144 401.984 139.144 410.734 Q139.144 419.46 136.066 424.067 Q133.01 428.65 127.2 428.65 Q121.39 428.65 118.311 424.067 Q115.256 419.46 115.256 410.734 Q115.256 401.984 118.311 397.4 Q121.39 392.794 127.2 392.794 Z\" fill=\"#000000\" fill-rule=\"evenodd\" fill-opacity=\"1\" /><path clip-path=\"url(#clip280)\" d=\"M147.362 422.099 L152.246 422.099 L152.246 427.979 L147.362 427.979 L147.362 422.099 Z\" fill=\"#000000\" fill-rule=\"evenodd\" fill-opacity=\"1\" /><path clip-path=\"url(#clip280)\" d=\"M161.251 393.419 L183.473 393.419 L183.473 395.41 L170.927 427.979 L166.042 427.979 L177.848 397.354 L161.251 397.354 L161.251 393.419 Z\" fill=\"#000000\" fill-rule=\"evenodd\" fill-opacity=\"1\" /><path clip-path=\"url(#clip280)\" d=\"M192.639 393.419 L210.996 393.419 L210.996 397.354 L196.922 397.354 L196.922 405.826 Q197.94 405.479 198.959 405.317 Q199.977 405.132 200.996 405.132 Q206.783 405.132 210.162 408.303 Q213.542 411.474 213.542 416.891 Q213.542 422.47 210.07 425.571 Q206.598 428.65 200.278 428.65 Q198.102 428.65 195.834 428.28 Q193.588 427.909 191.181 427.169 L191.181 422.47 Q193.264 423.604 195.487 424.159 Q197.709 424.715 200.186 424.715 Q204.19 424.715 206.528 422.608 Q208.866 420.502 208.866 416.891 Q208.866 413.28 206.528 411.173 Q204.19 409.067 200.186 409.067 Q198.311 409.067 196.436 409.484 Q194.584 409.9 192.639 410.78 L192.639 393.419 Z\" fill=\"#000000\" fill-rule=\"evenodd\" fill-opacity=\"1\" /><path clip-path=\"url(#clip280)\" d=\"M117.015 99.5305 L124.654 99.5305 L124.654 73.1649 L116.343 74.8316 L116.343 70.5723 L124.607 68.9057 L129.283 68.9057 L129.283 99.5305 L136.922 99.5305 L136.922 103.466 L117.015 103.466 L117.015 99.5305 Z\" fill=\"#000000\" fill-rule=\"evenodd\" fill-opacity=\"1\" /><path clip-path=\"url(#clip280)\" d=\"M146.366 97.5861 L151.251 97.5861 L151.251 103.466 L146.366 103.466 L146.366 97.5861 Z\" fill=\"#000000\" fill-rule=\"evenodd\" fill-opacity=\"1\" /><path clip-path=\"url(#clip280)\" d=\"M171.436 71.9844 Q167.825 71.9844 165.996 75.5492 Q164.19 79.0908 164.19 86.2204 Q164.19 93.3268 165.996 96.8916 Q167.825 100.433 171.436 100.433 Q175.07 100.433 176.876 96.8916 Q178.704 93.3268 178.704 86.2204 Q178.704 79.0908 176.876 75.5492 Q175.07 71.9844 171.436 71.9844 M171.436 68.2807 Q177.246 68.2807 180.301 72.8871 Q183.38 77.4704 183.38 86.2204 Q183.38 94.9472 180.301 99.5537 Q177.246 104.137 171.436 104.137 Q165.626 104.137 162.547 99.5537 Q159.491 94.9472 159.491 86.2204 Q159.491 77.4704 162.547 72.8871 Q165.626 68.2807 171.436 68.2807 Z\" fill=\"#000000\" fill-rule=\"evenodd\" fill-opacity=\"1\" /><path clip-path=\"url(#clip280)\" d=\"M201.598 71.9844 Q197.987 71.9844 196.158 75.5492 Q194.352 79.0908 194.352 86.2204 Q194.352 93.3268 196.158 96.8916 Q197.987 100.433 201.598 100.433 Q205.232 100.433 207.037 96.8916 Q208.866 93.3268 208.866 86.2204 Q208.866 79.0908 207.037 75.5492 Q205.232 71.9844 201.598 71.9844 M201.598 68.2807 Q207.408 68.2807 210.463 72.8871 Q213.542 77.4704 213.542 86.2204 Q213.542 94.9472 210.463 99.5537 Q207.408 104.137 201.598 104.137 Q195.787 104.137 192.709 99.5537 Q189.653 94.9472 189.653 86.2204 Q189.653 77.4704 192.709 72.8871 Q195.787 68.2807 201.598 68.2807 Z\" fill=\"#000000\" fill-rule=\"evenodd\" fill-opacity=\"1\" /><path clip-path=\"url(#clip280)\" d=\"M21.7677 1019.06 L58.7206 1019.06 L58.7206 1011.29 Q58.7206 1001.46 54.2646 996.906 Q49.8086 992.323 40.1964 992.323 Q30.6479 992.323 26.2237 996.906 Q21.7677 1001.46 21.7677 1011.29 L21.7677 1019.06 M16.4842 1025.49 L16.4842 1012.28 Q16.4842 998.466 22.2451 992.005 Q27.9743 985.543 40.1964 985.543 Q52.4822 985.543 58.2432 992.036 Q64.0042 998.529 64.0042 1012.28 L64.0042 1025.49 L16.4842 1025.49 Z\" fill=\"#000000\" fill-rule=\"evenodd\" fill-opacity=\"1\" /><path clip-path=\"url(#clip280)\" d=\"M33.8307 954.893 Q33.2578 955.879 33.0032 957.057 Q32.7167 958.203 32.7167 959.603 Q32.7167 964.568 35.9632 967.242 Q39.1779 969.884 45.2253 969.884 L64.0042 969.884 L64.0042 975.772 L28.3562 975.772 L28.3562 969.884 L33.8944 969.884 Q30.6479 968.038 29.0883 965.078 Q27.4968 962.118 27.4968 957.884 Q27.4968 957.28 27.5923 956.548 Q27.656 955.816 27.8151 954.924 L33.8307 954.893 Z\" fill=\"#000000\" fill-rule=\"evenodd\" fill-opacity=\"1\" /><path clip-path=\"url(#clip280)\" d=\"M46.0847 932.549 Q46.0847 939.647 47.7079 942.384 Q49.3312 945.121 53.2461 945.121 Q56.3653 945.121 58.2114 943.084 Q60.0256 941.015 60.0256 937.482 Q60.0256 932.613 56.5881 929.684 Q53.1188 926.724 47.3897 926.724 L46.0847 926.724 L46.0847 932.549 M43.6657 920.868 L64.0042 920.868 L64.0042 926.724 L58.5933 926.724 Q61.8398 928.729 63.3994 931.721 Q64.9272 934.713 64.9272 939.042 Q64.9272 944.516 61.8716 947.763 Q58.7843 950.978 53.6281 950.978 Q47.6125 950.978 44.5569 946.967 Q41.5014 942.925 41.5014 934.936 L41.5014 926.724 L40.9285 926.724 Q36.8862 926.724 34.6901 929.398 Q32.4621 932.04 32.4621 936.846 Q32.4621 939.901 33.1941 942.798 Q33.9262 945.694 35.3903 948.368 L29.9795 948.368 Q28.7381 945.153 28.1334 942.129 Q27.4968 939.106 27.4968 936.241 Q27.4968 928.507 31.5072 924.687 Q35.5176 920.868 43.6657 920.868 Z\" fill=\"#000000\" fill-rule=\"evenodd\" fill-opacity=\"1\" /><path clip-path=\"url(#clip280)\" d=\"M35.1993 881.05 Q31.2526 878.854 29.3747 875.799 Q27.4968 872.743 27.4968 868.605 Q27.4968 863.035 31.4117 860.012 Q35.2948 856.988 42.4881 856.988 L64.0042 856.988 L64.0042 862.876 L42.679 862.876 Q37.5546 862.876 35.072 864.69 Q32.5894 866.505 32.5894 870.229 Q32.5894 874.78 35.6131 877.422 Q38.6368 880.064 43.8567 880.064 L64.0042 880.064 L64.0042 885.952 L42.679 885.952 Q37.5228 885.952 35.072 887.766 Q32.5894 889.58 32.5894 893.368 Q32.5894 897.856 35.6449 900.498 Q38.6686 903.139 43.8567 903.139 L64.0042 903.139 L64.0042 909.028 L28.3562 909.028 L28.3562 903.139 L33.8944 903.139 Q30.616 901.134 29.0564 898.333 Q27.4968 895.532 27.4968 891.681 Q27.4968 887.798 29.4702 885.093 Q31.4436 882.355 35.1993 881.05 Z\" fill=\"#000000\" fill-rule=\"evenodd\" fill-opacity=\"1\" /><path clip-path=\"url(#clip280)\" d=\"M46.0847 829.106 Q46.0847 836.204 47.7079 838.941 Q49.3312 841.678 53.2461 841.678 Q56.3653 841.678 58.2114 839.641 Q60.0256 837.573 60.0256 834.04 Q60.0256 829.17 56.5881 826.242 Q53.1188 823.282 47.3897 823.282 L46.0847 823.282 L46.0847 829.106 M43.6657 817.425 L64.0042 817.425 L64.0042 823.282 L58.5933 823.282 Q61.8398 825.287 63.3994 828.279 Q64.9272 831.27 64.9272 835.599 Q64.9272 841.074 61.8716 844.32 Q58.7843 847.535 53.6281 847.535 Q47.6125 847.535 44.5569 843.524 Q41.5014 839.482 41.5014 831.493 L41.5014 823.282 L40.9285 823.282 Q36.8862 823.282 34.6901 825.955 Q32.4621 828.597 32.4621 833.403 Q32.4621 836.459 33.1941 839.355 Q33.9262 842.251 35.3903 844.925 L29.9795 844.925 Q28.7381 841.71 28.1334 838.687 Q27.4968 835.663 27.4968 832.798 Q27.4968 825.064 31.5072 821.244 Q35.5176 817.425 43.6657 817.425 Z\" fill=\"#000000\" fill-rule=\"evenodd\" fill-opacity=\"1\" /><path clip-path=\"url(#clip280)\" d=\"M58.657 778.976 L77.5631 778.976 L77.5631 784.864 L28.3562 784.864 L28.3562 778.976 L33.7671 778.976 Q30.5842 777.13 29.0564 774.329 Q27.4968 771.496 27.4968 767.582 Q27.4968 761.089 32.6531 757.046 Q37.8093 752.972 46.212 752.972 Q54.6147 752.972 59.771 757.046 Q64.9272 761.089 64.9272 767.582 Q64.9272 771.496 63.3994 774.329 Q61.8398 777.13 58.657 778.976 M46.212 759.052 Q39.7508 759.052 36.0905 761.725 Q32.3984 764.367 32.3984 769.014 Q32.3984 773.661 36.0905 776.334 Q39.7508 778.976 46.212 778.976 Q52.6732 778.976 56.3653 776.334 Q60.0256 773.661 60.0256 769.014 Q60.0256 764.367 56.3653 761.725 Q52.6732 759.052 46.212 759.052 Z\" fill=\"#000000\" fill-rule=\"evenodd\" fill-opacity=\"1\" /><path clip-path=\"url(#clip280)\" d=\"M33.8307 722.608 Q33.2578 723.595 33.0032 724.772 Q32.7167 725.918 32.7167 727.318 Q32.7167 732.284 35.9632 734.957 Q39.1779 737.599 45.2253 737.599 L64.0042 737.599 L64.0042 743.487 L28.3562 743.487 L28.3562 737.599 L33.8944 737.599 Q30.6479 735.753 29.0883 732.793 Q27.4968 729.833 27.4968 725.6 Q27.4968 724.995 27.5923 724.263 Q27.656 723.531 27.8151 722.64 L33.8307 722.608 Z\" fill=\"#000000\" fill-rule=\"evenodd\" fill-opacity=\"1\" /><path clip-path=\"url(#clip280)\" d=\"M32.4621 704.084 Q32.4621 708.794 36.1542 711.532 Q39.8145 714.269 46.212 714.269 Q52.6095 714.269 56.3017 711.563 Q59.9619 708.826 59.9619 704.084 Q59.9619 699.405 56.2698 696.668 Q52.5777 693.93 46.212 693.93 Q39.8781 693.93 36.186 696.668 Q32.4621 699.405 32.4621 704.084 M27.4968 704.084 Q27.4968 696.445 32.4621 692.084 Q37.4273 687.724 46.212 687.724 Q54.9649 687.724 59.9619 692.084 Q64.9272 696.445 64.9272 704.084 Q64.9272 711.754 59.9619 716.115 Q54.9649 720.444 46.212 720.444 Q37.4273 720.444 32.4621 716.115 Q27.4968 711.754 27.4968 704.084 Z\" fill=\"#000000\" fill-rule=\"evenodd\" fill-opacity=\"1\" /><path clip-path=\"url(#clip280)\" d=\"M46.212 652.426 Q39.7508 652.426 36.0905 655.1 Q32.3984 657.741 32.3984 662.388 Q32.3984 667.035 36.0905 669.709 Q39.7508 672.351 46.212 672.351 Q52.6732 672.351 56.3653 669.709 Q60.0256 667.035 60.0256 662.388 Q60.0256 657.741 56.3653 655.1 Q52.6732 652.426 46.212 652.426 M33.7671 672.351 Q30.5842 670.505 29.0564 667.704 Q27.4968 664.871 27.4968 660.956 Q27.4968 654.463 32.6531 650.421 Q37.8093 646.347 46.212 646.347 Q54.6147 646.347 59.771 650.421 Q64.9272 654.463 64.9272 660.956 Q64.9272 664.871 63.3994 667.704 Q61.8398 670.505 58.657 672.351 L64.0042 672.351 L64.0042 678.239 L14.479 678.239 L14.479 672.351 L33.7671 672.351 Z\" fill=\"#000000\" fill-rule=\"evenodd\" fill-opacity=\"1\" /><path clip-path=\"url(#clip280)\" d=\"M46.0847 620.438 Q46.0847 627.536 47.7079 630.273 Q49.3312 633.011 53.2461 633.011 Q56.3653 633.011 58.2114 630.974 Q60.0256 628.905 60.0256 625.372 Q60.0256 620.502 56.5881 617.574 Q53.1188 614.614 47.3897 614.614 L46.0847 614.614 L46.0847 620.438 M43.6657 608.757 L64.0042 608.757 L64.0042 614.614 L58.5933 614.614 Q61.8398 616.619 63.3994 619.611 Q64.9272 622.603 64.9272 626.931 Q64.9272 632.406 61.8716 635.652 Q58.7843 638.867 53.6281 638.867 Q47.6125 638.867 44.5569 634.857 Q41.5014 630.814 41.5014 622.825 L41.5014 614.614 L40.9285 614.614 Q36.8862 614.614 34.6901 617.287 Q32.4621 619.929 32.4621 624.735 Q32.4621 627.791 33.1941 630.687 Q33.9262 633.583 35.3903 636.257 L29.9795 636.257 Q28.7381 633.042 28.1334 630.019 Q27.4968 626.995 27.4968 624.13 Q27.4968 616.396 31.5072 612.577 Q35.5176 608.757 43.6657 608.757 Z\" fill=\"#000000\" fill-rule=\"evenodd\" fill-opacity=\"1\" /><path clip-path=\"url(#clip280)\" d=\"M46.212 571.104 Q39.7508 571.104 36.0905 573.778 Q32.3984 576.419 32.3984 581.066 Q32.3984 585.713 36.0905 588.387 Q39.7508 591.029 46.212 591.029 Q52.6732 591.029 56.3653 588.387 Q60.0256 585.713 60.0256 581.066 Q60.0256 576.419 56.3653 573.778 Q52.6732 571.104 46.212 571.104 M33.7671 591.029 Q30.5842 589.183 29.0564 586.382 Q27.4968 583.549 27.4968 579.634 Q27.4968 573.141 32.6531 569.099 Q37.8093 565.025 46.212 565.025 Q54.6147 565.025 59.771 569.099 Q64.9272 573.141 64.9272 579.634 Q64.9272 583.549 63.3994 586.382 Q61.8398 589.183 58.657 591.029 L64.0042 591.029 L64.0042 596.917 L14.479 596.917 L14.479 591.029 L33.7671 591.029 Z\" fill=\"#000000\" fill-rule=\"evenodd\" fill-opacity=\"1\" /><path clip-path=\"url(#clip280)\" d=\"M28.3562 555.317 L28.3562 549.461 L64.0042 549.461 L64.0042 555.317 L28.3562 555.317 M14.479 555.317 L14.479 549.461 L21.895 549.461 L21.895 555.317 L14.479 555.317 Z\" fill=\"#000000\" fill-rule=\"evenodd\" fill-opacity=\"1\" /><path clip-path=\"url(#clip280)\" d=\"M14.479 537.207 L14.479 531.35 L64.0042 531.35 L64.0042 537.207 L14.479 537.207 Z\" fill=\"#000000\" fill-rule=\"evenodd\" fill-opacity=\"1\" /><path clip-path=\"url(#clip280)\" d=\"M28.3562 519.096 L28.3562 513.24 L64.0042 513.24 L64.0042 519.096 L28.3562 519.096 M14.479 519.096 L14.479 513.24 L21.895 513.24 L21.895 519.096 L14.479 519.096 Z\" fill=\"#000000\" fill-rule=\"evenodd\" fill-opacity=\"1\" /><path clip-path=\"url(#clip280)\" d=\"M18.2347 495.193 L28.3562 495.193 L28.3562 483.13 L32.9077 483.13 L32.9077 495.193 L52.2594 495.193 Q56.6199 495.193 57.8613 494.015 Q59.1026 492.806 59.1026 489.146 L59.1026 483.13 L64.0042 483.13 L64.0042 489.146 Q64.0042 495.925 61.4897 498.503 Q58.9434 501.081 52.2594 501.081 L32.9077 501.081 L32.9077 505.378 L28.3562 505.378 L28.3562 501.081 L18.2347 501.081 L18.2347 495.193 Z\" fill=\"#000000\" fill-rule=\"evenodd\" fill-opacity=\"1\" /><path clip-path=\"url(#clip280)\" d=\"M67.3143 460.595 Q73.68 463.078 75.6216 465.433 Q77.5631 467.789 77.5631 471.735 L77.5631 476.414 L72.6615 476.414 L72.6615 472.977 Q72.6615 470.558 71.5157 469.221 Q70.3699 467.884 66.1048 466.261 L63.4312 465.211 L28.3562 479.629 L28.3562 473.422 L56.238 462.282 L28.3562 451.142 L28.3562 444.936 L67.3143 460.595 Z\" fill=\"#000000\" fill-rule=\"evenodd\" fill-opacity=\"1\" /><polyline clip-path=\"url(#clip282)\" style=\"stroke:#009af9; stroke-linecap:round; stroke-linejoin:round; stroke-width:4; stroke-opacity:1; fill:none\" points=\"309.067,86.1857 368.592,1384.24 388.434,86.1857 467.8,86.1857 487.642,1384.24 507.483,735.212 527.325,1384.24 567.008,1384.24 606.692,1384.24 626.533,1384.24 646.375,518.87 666.216,735.212 686.058,86.1857 705.9,735.212 725.741,735.212 745.583,86.1857 765.425,86.1857 785.266,1384.24 824.95,605.407 844.791,86.1857 864.633,86.1857 884.475,410.699 904.316,951.554 924.158,86.1857 943.999,951.554 963.841,410.699 983.683,86.1857 1003.52,86.1857 1023.37,86.1857 1043.21,86.1857 1063.05,605.407 1082.89,518.87 1102.73,410.699 1122.57,735.212 1142.42,605.407 1162.26,735.212 1182.1,271.622 1201.94,1124.63 1221.78,518.87 1241.62,457.058 1261.47,345.796 1281.31,385.736 1301.15,735.212 1320.99,951.554 1340.83,1167.9 1360.67,1124.63 1380.52,827.93 1400.36,843.383 1420.2,457.058 1440.04,951.554 1459.88,605.407 1479.72,685.287 1499.57,385.736 1519.41,457.058 1539.25,1038.09 1559.09,778.48 1578.93,906.008 1598.77,794.214 1618.62,544.322 1638.46,1013.37 1658.3,951.554 1678.14,794.214 1697.98,984.837 1717.82,761.173 1737.67,1134.61 1757.51,807.326 1777.35,856.904 1797.19,735.212 1817.03,635.362 1836.87,735.212 1856.71,594.119 1876.56,605.407 1896.4,496.097 1916.24,879.44 1936.08,693.339 1955.92,926.102 1975.76,649.492 1995.61,759.25 2015.45,812.215 2035.29,747.938 2055.13,704.306 2074.97,663.098 2094.81,778.48 2114.66,654.856 2134.5,589.741 2154.34,639.619 2174.18,724.91 2194.02,636.626 2213.86,647.506 2233.71,672.587 2253.55,715.056 2273.39,835.184 2293.23,895.56 \"/>\n",
       "</svg>\n"
      ]
     },
     "execution_count": 55,
     "metadata": {},
     "output_type": "execute_result"
    }
   ],
   "source": [
    "plot(names(drama_prop, 1), drama_prop[:, 2]; legend=false,\n",
    "            xlabel=\"year\", ylabel=\"Drama probability\")"
   ]
  },
  {
   "cell_type": "markdown",
   "id": "b4143cb8",
   "metadata": {},
   "source": [
    "### EXERCISE \n",
    "\n",
    "Create a plot of the number of movies by year, using the years variable."
   ]
  },
  {
   "cell_type": "code",
   "execution_count": null,
   "id": "75d884df",
   "metadata": {},
   "outputs": [],
   "source": []
  },
  {
   "cell_type": "markdown",
   "id": "a6fc35c3",
   "metadata": {},
   "source": [
    "## Symbols"
   ]
  },
  {
   "cell_type": "code",
   "execution_count": 56,
   "id": "28ea6c6c",
   "metadata": {},
   "outputs": [
    {
     "data": {
      "text/plain": [
       ":x"
      ]
     },
     "execution_count": 56,
     "metadata": {},
     "output_type": "execute_result"
    }
   ],
   "source": [
    "sX = Symbol(\"x\")"
   ]
  },
  {
   "cell_type": "code",
   "execution_count": 57,
   "id": "c9670764",
   "metadata": {},
   "outputs": [
    {
     "data": {
      "text/plain": [
       ":x2"
      ]
     },
     "execution_count": 57,
     "metadata": {},
     "output_type": "execute_result"
    }
   ],
   "source": [
    "sX2 = Symbol(\"x\", 2)"
   ]
  },
  {
   "cell_type": "code",
   "execution_count": 58,
   "id": "0e579cbd",
   "metadata": {},
   "outputs": [
    {
     "data": {
      "text/plain": [
       "Symbol"
      ]
     },
     "execution_count": 58,
     "metadata": {},
     "output_type": "execute_result"
    }
   ],
   "source": [
    "typeof(sX2)"
   ]
  },
  {
   "cell_type": "code",
   "execution_count": 59,
   "id": "e6285cdf",
   "metadata": {},
   "outputs": [
    {
     "data": {
      "text/plain": [
       "Symbol(\"1\")"
      ]
     },
     "execution_count": 59,
     "metadata": {},
     "output_type": "execute_result"
    }
   ],
   "source": [
    "Symbol(1)"
   ]
  },
  {
   "cell_type": "markdown",
   "id": "f770f96a",
   "metadata": {},
   "source": [
    "Note printing style here, as isn't valid idenifier"
   ]
  },
  {
   "cell_type": "code",
   "execution_count": 60,
   "id": "a874a508",
   "metadata": {},
   "outputs": [],
   "source": [
    "using BenchmarkTools"
   ]
  },
  {
   "cell_type": "code",
   "execution_count": 61,
   "id": "556668f4",
   "metadata": {},
   "outputs": [
    {
     "data": {
      "text/plain": [
       "1000000-element Vector{Symbol}:\n",
       " :x1\n",
       " :x2\n",
       " :x3\n",
       " :x4\n",
       " :x5\n",
       " :x6\n",
       " :x7\n",
       " :x8\n",
       " :x9\n",
       " :x10\n",
       " :x11\n",
       " :x12\n",
       " :x13\n",
       " ⋮\n",
       " :x999989\n",
       " :x999990\n",
       " :x999991\n",
       " :x999992\n",
       " :x999993\n",
       " :x999994\n",
       " :x999995\n",
       " :x999996\n",
       " :x999997\n",
       " :x999998\n",
       " :x999999\n",
       " :x1000000"
      ]
     },
     "execution_count": 61,
     "metadata": {},
     "output_type": "execute_result"
    }
   ],
   "source": [
    "str = string.(\"x\", 1:10^6)\n",
    "symb = Symbol.(str)"
   ]
  },
  {
   "cell_type": "code",
   "execution_count": 62,
   "id": "9a6f4011",
   "metadata": {},
   "outputs": [
    {
     "name": "stdout",
     "output_type": "stream",
     "text": [
      "  2.012 ms (0 allocations: 0 bytes)\n"
     ]
    },
    {
     "data": {
      "text/plain": [
       "false"
      ]
     },
     "execution_count": 62,
     "metadata": {},
     "output_type": "execute_result"
    }
   ],
   "source": [
    "@btime \"x\" in $str"
   ]
  },
  {
   "cell_type": "code",
   "execution_count": 63,
   "id": "adb4ffef",
   "metadata": {},
   "outputs": [
    {
     "name": "stdout",
     "output_type": "stream",
     "text": [
      "  470.791 μs (0 allocations: 0 bytes)\n"
     ]
    },
    {
     "data": {
      "text/plain": [
       "false"
      ]
     },
     "execution_count": 63,
     "metadata": {},
     "output_type": "execute_result"
    }
   ],
   "source": [
    "@btime :x in $symb"
   ]
  },
  {
   "cell_type": "markdown",
   "id": "e011aa5e",
   "metadata": {},
   "source": [
    "## Fixed-width string types"
   ]
  },
  {
   "cell_type": "code",
   "execution_count": 67,
   "id": "6909c5ed",
   "metadata": {},
   "outputs": [
    {
     "name": "stderr",
     "output_type": "stream",
     "text": [
      "\u001b[32m\u001b[1m   Resolving\u001b[22m\u001b[39m package versions...\n",
      "\u001b[32m\u001b[1m   Installed\u001b[22m\u001b[39m InlineStrings ─ v1.4.0\n",
      "\u001b[32m\u001b[1m    Updating\u001b[22m\u001b[39m `~/.julia/environments/v1.8/Project.toml`\n",
      " \u001b[90m [842dd82b] \u001b[39m\u001b[92m+ InlineStrings v1.4.0\u001b[39m\n",
      "\u001b[32m\u001b[1m    Updating\u001b[22m\u001b[39m `~/.julia/environments/v1.8/Manifest.toml`\n",
      " \u001b[90m [842dd82b] \u001b[39m\u001b[92m+ InlineStrings v1.4.0\u001b[39m\n",
      "\u001b[32m\u001b[1mPrecompiling\u001b[22m\u001b[39m project...\n",
      "\u001b[32m  ✓ \u001b[39mInlineStrings\n",
      "  1 dependency successfully precompiled in 1 seconds. 166 already precompiled.\n"
     ]
    }
   ],
   "source": [
    "import Pkg; Pkg.add(\"InlineStrings\")"
   ]
  },
  {
   "cell_type": "code",
   "execution_count": 69,
   "id": "b1b30700",
   "metadata": {},
   "outputs": [],
   "source": [
    "using InlineStrings"
   ]
  },
  {
   "cell_type": "code",
   "execution_count": 70,
   "id": "f2f4103c",
   "metadata": {},
   "outputs": [
    {
     "data": {
      "text/plain": [
       "\"yo!\""
      ]
     },
     "execution_count": 70,
     "metadata": {},
     "output_type": "execute_result"
    }
   ],
   "source": [
    "s3 = String3(\"yo!\")"
   ]
  },
  {
   "cell_type": "code",
   "execution_count": 71,
   "id": "3dcb9957",
   "metadata": {},
   "outputs": [
    {
     "data": {
      "text/plain": [
       "String3"
      ]
     },
     "execution_count": 71,
     "metadata": {},
     "output_type": "execute_result"
    }
   ],
   "source": [
    "typeof(s3)"
   ]
  },
  {
   "cell_type": "code",
   "execution_count": 73,
   "id": "6ad2a35b",
   "metadata": {},
   "outputs": [
    {
     "data": {
      "text/plain": [
       "InlineString"
      ]
     },
     "execution_count": 73,
     "metadata": {},
     "output_type": "execute_result"
    }
   ],
   "source": [
    "supertype(typeof(s3))"
   ]
  },
  {
   "cell_type": "code",
   "execution_count": 74,
   "id": "f0fa9dc4",
   "metadata": {},
   "outputs": [
    {
     "data": {
      "text/plain": [
       "AbstractString"
      ]
     },
     "execution_count": 74,
     "metadata": {},
     "output_type": "execute_result"
    }
   ],
   "source": [
    "supertype(supertype(typeof(s3)))"
   ]
  },
  {
   "cell_type": "markdown",
   "id": "e55d244a",
   "metadata": {},
   "source": [
    "> In part 2 of this book, you will learn that when getting your data from a CSV file, the Julia CSV reader can automatically detect that it is useful to use fixed-width strings instead of the standard String type. Therefore, in practice, it is usually enough to be aware of the existence and meaning of fixed-width strings, so that when you see them in a data frame, you are not surprised to encounter a column consisting of String3\n",
    "strings."
   ]
  },
  {
   "cell_type": "markdown",
   "id": "2ea6f7fb",
   "metadata": {},
   "source": []
  },
  {
   "cell_type": "markdown",
   "id": "f9530e4a",
   "metadata": {},
   "source": [
    "## PooledArrays.jl: compressing vectors of strings"
   ]
  },
  {
   "cell_type": "code",
   "execution_count": 75,
   "id": "59914fbf",
   "metadata": {},
   "outputs": [],
   "source": [
    "open(\"iris.txt\", \"w\") do io\n",
    "   for i in 1:10^6\n",
    "       println(io, \"Iris setosa\")\n",
    "       println(io, \"Iris virginica\")\n",
    "       println(io, \"Iris versicolor\")\n",
    "    end \n",
    "end"
   ]
  },
  {
   "cell_type": "code",
   "execution_count": 76,
   "id": "cbc97988",
   "metadata": {},
   "outputs": [
    {
     "data": {
      "text/plain": [
       "true"
      ]
     },
     "execution_count": 76,
     "metadata": {},
     "output_type": "execute_result"
    }
   ],
   "source": [
    "isfile(\"iris.txt\")"
   ]
  },
  {
   "cell_type": "code",
   "execution_count": 77,
   "id": "64371a13",
   "metadata": {},
   "outputs": [
    {
     "data": {
      "text/plain": [
       "3000000-element Vector{String}:\n",
       " \"Iris setosa\"\n",
       " \"Iris virginica\"\n",
       " \"Iris versicolor\"\n",
       " \"Iris setosa\"\n",
       " \"Iris virginica\"\n",
       " \"Iris versicolor\"\n",
       " \"Iris setosa\"\n",
       " \"Iris virginica\"\n",
       " \"Iris versicolor\"\n",
       " \"Iris setosa\"\n",
       " \"Iris virginica\"\n",
       " \"Iris versicolor\"\n",
       " \"Iris setosa\"\n",
       " ⋮\n",
       " \"Iris setosa\"\n",
       " \"Iris virginica\"\n",
       " \"Iris versicolor\"\n",
       " \"Iris setosa\"\n",
       " \"Iris virginica\"\n",
       " \"Iris versicolor\"\n",
       " \"Iris setosa\"\n",
       " \"Iris virginica\"\n",
       " \"Iris versicolor\"\n",
       " \"Iris setosa\"\n",
       " \"Iris virginica\"\n",
       " \"Iris versicolor\""
      ]
     },
     "execution_count": 77,
     "metadata": {},
     "output_type": "execute_result"
    }
   ],
   "source": [
    "uncompressed = readlines(\"iris.txt\")"
   ]
  },
  {
   "cell_type": "code",
   "execution_count": 79,
   "id": "71d3ec56",
   "metadata": {},
   "outputs": [
    {
     "name": "stderr",
     "output_type": "stream",
     "text": [
      "\u001b[32m\u001b[1m   Resolving\u001b[22m\u001b[39m package versions...\n",
      "\u001b[32m\u001b[1m   Installed\u001b[22m\u001b[39m PooledArrays ─ v1.4.2\n",
      "\u001b[32m\u001b[1m    Updating\u001b[22m\u001b[39m `~/.julia/environments/v1.8/Project.toml`\n",
      " \u001b[90m [2dfb63ee] \u001b[39m\u001b[92m+ PooledArrays v1.4.2\u001b[39m\n",
      "\u001b[32m\u001b[1m    Updating\u001b[22m\u001b[39m `~/.julia/environments/v1.8/Manifest.toml`\n",
      " \u001b[90m [2dfb63ee] \u001b[39m\u001b[92m+ PooledArrays v1.4.2\u001b[39m\n",
      "\u001b[32m\u001b[1mPrecompiling\u001b[22m\u001b[39m project...\n",
      "\u001b[32m  ✓ \u001b[39mPooledArrays\n",
      "  1 dependency successfully precompiled in 0 seconds. 167 already precompiled.\n"
     ]
    }
   ],
   "source": [
    "import Pkg; Pkg.add(\"PooledArrays\")"
   ]
  },
  {
   "cell_type": "code",
   "execution_count": 80,
   "id": "83dfc7a7",
   "metadata": {},
   "outputs": [],
   "source": [
    "using PooledArrays\n"
   ]
  },
  {
   "cell_type": "code",
   "execution_count": 81,
   "id": "a1c304d1",
   "metadata": {},
   "outputs": [
    {
     "data": {
      "text/plain": [
       "3000000-element PooledVector{String, UInt32, Vector{UInt32}}:\n",
       " \"Iris setosa\"\n",
       " \"Iris virginica\"\n",
       " \"Iris versicolor\"\n",
       " \"Iris setosa\"\n",
       " \"Iris virginica\"\n",
       " \"Iris versicolor\"\n",
       " \"Iris setosa\"\n",
       " \"Iris virginica\"\n",
       " \"Iris versicolor\"\n",
       " \"Iris setosa\"\n",
       " \"Iris virginica\"\n",
       " \"Iris versicolor\"\n",
       " \"Iris setosa\"\n",
       " ⋮\n",
       " \"Iris setosa\"\n",
       " \"Iris virginica\"\n",
       " \"Iris versicolor\"\n",
       " \"Iris setosa\"\n",
       " \"Iris virginica\"\n",
       " \"Iris versicolor\"\n",
       " \"Iris setosa\"\n",
       " \"Iris virginica\"\n",
       " \"Iris versicolor\"\n",
       " \"Iris setosa\"\n",
       " \"Iris virginica\"\n",
       " \"Iris versicolor\""
      ]
     },
     "execution_count": 81,
     "metadata": {},
     "output_type": "execute_result"
    }
   ],
   "source": [
    "compressed = PooledArray(uncompressed)"
   ]
  },
  {
   "cell_type": "code",
   "execution_count": 82,
   "id": "132124e7",
   "metadata": {},
   "outputs": [
    {
     "data": {
      "text/plain": [
       "88000040"
      ]
     },
     "execution_count": 82,
     "metadata": {},
     "output_type": "execute_result"
    }
   ],
   "source": [
    "Base.summarysize(uncompressed)"
   ]
  },
  {
   "cell_type": "code",
   "execution_count": 83,
   "id": "a107ee1a",
   "metadata": {},
   "outputs": [
    {
     "data": {
      "text/plain": [
       "12000600"
      ]
     },
     "execution_count": 83,
     "metadata": {},
     "output_type": "execute_result"
    }
   ],
   "source": [
    "Base.summarysize(compressed)"
   ]
  },
  {
   "cell_type": "code",
   "execution_count": null,
   "id": "593644b9",
   "metadata": {},
   "outputs": [],
   "source": []
  }
 ],
 "metadata": {
  "kernelspec": {
   "display_name": "Julia 1.8.5",
   "language": "julia",
   "name": "julia-1.8"
  },
  "language_info": {
   "file_extension": ".jl",
   "mimetype": "application/julia",
   "name": "julia",
   "version": "1.8.5"
  }
 },
 "nbformat": 4,
 "nbformat_minor": 5
}
