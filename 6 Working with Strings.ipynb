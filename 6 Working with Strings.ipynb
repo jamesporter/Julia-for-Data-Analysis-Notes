{
 "cells": [
  {
   "cell_type": "code",
   "execution_count": 1,
   "id": "f9dedc88",
   "metadata": {},
   "outputs": [],
   "source": [
    "import Downloads"
   ]
  },
  {
   "cell_type": "code",
   "execution_count": 2,
   "id": "5b8a1f64",
   "metadata": {},
   "outputs": [
    {
     "data": {
      "text/plain": [
       "\"movies.dat\""
      ]
     },
     "execution_count": 2,
     "metadata": {},
     "output_type": "execute_result"
    }
   ],
   "source": [
    "Downloads.download(\"https://raw.githubusercontent.com/sidooms/MovieTweetings/44c525d0c766944910686c60697203cda39305d6/snapshots/10K/movies.dat\",\"movies.dat\")"
   ]
  },
  {
   "cell_type": "markdown",
   "id": "8230217e",
   "metadata": {},
   "source": [
    "## String Stuff"
   ]
  },
  {
   "cell_type": "code",
   "execution_count": 5,
   "id": "b756d966",
   "metadata": {},
   "outputs": [
    {
     "ename": "LoadError",
     "evalue": "MethodError: no method matching +(::String, ::String)\n\u001b[0mClosest candidates are:\n\u001b[0m  +(::Any, ::Any, \u001b[91m::Any\u001b[39m, \u001b[91m::Any...\u001b[39m) at operators.jl:591",
     "output_type": "error",
     "traceback": [
      "MethodError: no method matching +(::String, ::String)\n\u001b[0mClosest candidates are:\n\u001b[0m  +(::Any, ::Any, \u001b[91m::Any\u001b[39m, \u001b[91m::Any...\u001b[39m) at operators.jl:591",
      "",
      "Stacktrace:",
      " [1] top-level scope",
      "   @ In[5]:1"
     ]
    }
   ],
   "source": [
    "\"hi \" + \"there\""
   ]
  },
  {
   "cell_type": "code",
   "execution_count": 3,
   "id": "3b658d40",
   "metadata": {},
   "outputs": [
    {
     "data": {
      "text/plain": [
       "\"examples againyo\""
      ]
     },
     "execution_count": 3,
     "metadata": {},
     "output_type": "execute_result"
    }
   ],
   "source": [
    "\"examples\" * \" again\" * \"yo\""
   ]
  },
  {
   "cell_type": "code",
   "execution_count": 6,
   "id": "e30cec2d",
   "metadata": {},
   "outputs": [
    {
     "data": {
      "text/plain": [
       "12"
      ]
     },
     "execution_count": 6,
     "metadata": {},
     "output_type": "execute_result"
    }
   ],
   "source": [
    "x = 12"
   ]
  },
  {
   "cell_type": "code",
   "execution_count": 7,
   "id": "b9723ff7",
   "metadata": {},
   "outputs": [
    {
     "data": {
      "text/plain": [
       "\"What about 12?\""
      ]
     },
     "execution_count": 7,
     "metadata": {},
     "output_type": "execute_result"
    }
   ],
   "source": [
    "\"What about $x?\""
   ]
  },
  {
   "cell_type": "code",
   "execution_count": 8,
   "id": "b4fba179",
   "metadata": {},
   "outputs": [
    {
     "data": {
      "text/plain": [
       "\"And then 1730\""
      ]
     },
     "execution_count": 8,
     "metadata": {},
     "output_type": "execute_result"
    }
   ],
   "source": [
    "\"And then $(x ^ 3 + 2)\""
   ]
  },
  {
   "cell_type": "code",
   "execution_count": 9,
   "id": "189d6780",
   "metadata": {},
   "outputs": [
    {
     "data": {
      "text/plain": [
       "\"testsagain\""
      ]
     },
     "execution_count": 9,
     "metadata": {},
     "output_type": "execute_result"
    }
   ],
   "source": [
    "\"tests\\\n",
    "     again\""
   ]
  },
  {
   "cell_type": "code",
   "execution_count": 11,
   "id": "caea6287",
   "metadata": {},
   "outputs": [
    {
     "name": "stdout",
     "output_type": "stream",
     "text": [
      "what\n",
      "about"
     ]
    }
   ],
   "source": [
    "a = \"what\\nabout\"\n",
    "print(a)"
   ]
  },
  {
   "cell_type": "code",
   "execution_count": 13,
   "id": "3c6131e6",
   "metadata": {},
   "outputs": [
    {
     "name": "stdout",
     "output_type": "stream",
     "text": [
      "D:\\my_folder\\my_file_2.txt"
     ]
    }
   ],
   "source": [
    "print(raw\"D:\\my_folder\\my_file_2.txt\")"
   ]
  },
  {
   "cell_type": "code",
   "execution_count": 12,
   "id": "fad238dc",
   "metadata": {},
   "outputs": [
    {
     "data": {
      "text/plain": [
       "\"D:\\\\my_folder\\\\my_file_2.txt\""
      ]
     },
     "execution_count": 12,
     "metadata": {},
     "output_type": "execute_result"
    }
   ],
   "source": [
    "raw\"D:\\my_folder\\my_file_2.txt\""
   ]
  },
  {
   "cell_type": "markdown",
   "id": "5760d92b",
   "metadata": {},
   "source": [
    "# Basic file/string stuff"
   ]
  },
  {
   "cell_type": "code",
   "execution_count": 14,
   "id": "34286b0c",
   "metadata": {},
   "outputs": [
    {
     "data": {
      "text/plain": [
       "3096-element Vector{String}:\n",
       " \"0002844::Fantômas - À l'ombre de la guillotine (1913)::Crime|Drama\"\n",
       " \"0007264::The Rink (1916)::Comedy|Short\"\n",
       " \"0008133::The Immigrant (1917)::Short|Comedy|Drama|Romance\"\n",
       " \"0012349::The Kid (1921)::Comedy|Drama|Family\"\n",
       " \"0013427::Nanook of the North (1922)::Documentary\"\n",
       " \"0014142::The Hunchback of Notre Dame (1923)::Drama|Romance\"\n",
       " \"0014538::Three Ages (1923)::Comedy\"\n",
       " \"0014872::Entr'acte (1924)::Short\"\n",
       " \"0015163::The Navigator (1924)::Action|Comedy\"\n",
       " \"0015324::Sherlock Jr. (1924)::Comedy|Fantasy\"\n",
       " \"0015400::The Thief of Bagdad (1924)::Adventure|Family|Fantasy|Romance\"\n",
       " \"0017925::The General (1926)::Action|Adventure|Comedy|Romance|War\"\n",
       " \"0018773::The Circus (1928)::Comedy|Romance\"\n",
       " ⋮\n",
       " \"2638984::Teal Diva (2012)::Documentary|Short\"\n",
       " \"2645104::Romantik komedi 2: Bekarliga veda (2013)::Comedy\"\n",
       " \"2645164::The Hardy Bucks Movie (2013)::Comedy\"\n",
       " \"2646378::The Frankenstein Theory (2013)::Horror|Sci-Fi\"\n",
       " \"2649128::Metro (2013)::Thriller\"\n",
       " \"2670226::Jîn (2013)::Drama\"\n",
       " \"2700330::The Two Escobars (2010)::Documentary\"\n",
       " \"2735466::Pickett's Charge (2012)::Short|Comedy|Drama|Family\"\n",
       " \"2748368::Neil (2013)::Short|Comedy\"\n",
       " \"2750600::A Different Tree (2013)::Short|Drama|Family\"\n",
       " \"2763252::Broken Night (2013)::Short|Drama\"\n",
       " \"2769592::Kiss Shot Truth or Dare (2013)::Short\""
      ]
     },
     "execution_count": 14,
     "metadata": {},
     "output_type": "execute_result"
    }
   ],
   "source": [
    "movies = readlines(\"movies.dat\")"
   ]
  },
  {
   "cell_type": "code",
   "execution_count": 15,
   "id": "985587e6",
   "metadata": {},
   "outputs": [
    {
     "data": {
      "text/plain": [
       "\"0002844::Fantômas - À l'ombre de la guillotine (1913)::Crime|Drama\""
      ]
     },
     "execution_count": 15,
     "metadata": {},
     "output_type": "execute_result"
    }
   ],
   "source": [
    "movie1 = first(movies)"
   ]
  },
  {
   "cell_type": "code",
   "execution_count": 16,
   "id": "b545c3e0",
   "metadata": {},
   "outputs": [
    {
     "data": {
      "text/plain": [
       "3-element Vector{SubString{String}}:\n",
       " \"0002844\"\n",
       " \"Fantômas - À l'ombre de la guillotine (1913)\"\n",
       " \"Crime|Drama\""
      ]
     },
     "execution_count": 16,
     "metadata": {},
     "output_type": "execute_result"
    }
   ],
   "source": [
    "movie1_parts = split(movie1, \"::\")"
   ]
  },
  {
   "cell_type": "markdown",
   "id": "31ec4903",
   "metadata": {},
   "source": [
    "`SubString{String}` ???\n",
    "\n",
    "* View on strings\n",
    "* Strings are immutable"
   ]
  },
  {
   "cell_type": "markdown",
   "id": "c87c2b4a",
   "metadata": {},
   "source": [
    "### Basic string stuff\n",
    "\n",
    "Note lowercased naming:\n",
    "\n",
    "* string Converts passed values to a string by using the print function\n",
    "* join—Joins elements of an iterator into a string, inserting the given delimiter between joined items\n",
    "* occursin Checks if the first argument is a substring of the second argument\n",
    "* contains Checks if the second argument is a substring of the first argument\n",
    "* replace Finds in a given string passed patterns and replaces them with specified values"
   ]
  },
  {
   "cell_type": "code",
   "execution_count": 17,
   "id": "17f4a85a",
   "metadata": {},
   "outputs": [
    {
     "data": {
      "text/plain": [
       "\"12\""
      ]
     },
     "execution_count": 17,
     "metadata": {},
     "output_type": "execute_result"
    }
   ],
   "source": [
    "string(12)"
   ]
  },
  {
   "cell_type": "code",
   "execution_count": 18,
   "id": "faddff67",
   "metadata": {},
   "outputs": [
    {
     "data": {
      "text/plain": [
       "\"hi,there\""
      ]
     },
     "execution_count": 18,
     "metadata": {},
     "output_type": "execute_result"
    }
   ],
   "source": [
    "join([\"hi\", \"there\"], \",\")"
   ]
  },
  {
   "cell_type": "code",
   "execution_count": 19,
   "id": "b60adbbd",
   "metadata": {},
   "outputs": [
    {
     "data": {
      "text/plain": [
       "true"
      ]
     },
     "execution_count": 19,
     "metadata": {},
     "output_type": "execute_result"
    }
   ],
   "source": [
    "occursin(\"y\", \"yes\")"
   ]
  },
  {
   "cell_type": "code",
   "execution_count": 20,
   "id": "4ef7d022",
   "metadata": {},
   "outputs": [
    {
     "data": {
      "text/plain": [
       "true"
      ]
     },
     "execution_count": 20,
     "metadata": {},
     "output_type": "execute_result"
    }
   ],
   "source": [
    "contains(\"yes\", \"e\")"
   ]
  },
  {
   "cell_type": "code",
   "execution_count": 21,
   "id": "d2d5e89b",
   "metadata": {},
   "outputs": [
    {
     "data": {
      "text/plain": [
       "false"
      ]
     },
     "execution_count": 21,
     "metadata": {},
     "output_type": "execute_result"
    }
   ],
   "source": [
    "contains(\"yes\", \"t\")"
   ]
  },
  {
   "cell_type": "code",
   "execution_count": 22,
   "id": "f6c11990",
   "metadata": {},
   "outputs": [
    {
     "data": {
      "text/plain": [
       "\"*ase thing\""
      ]
     },
     "execution_count": 22,
     "metadata": {},
     "output_type": "execute_result"
    }
   ],
   "source": [
    "replace(\"base thing\", \"b\" => \"*\")"
   ]
  },
  {
   "cell_type": "code",
   "execution_count": 23,
   "id": "36cf9d4b",
   "metadata": {},
   "outputs": [
    {
     "name": "stdout",
     "output_type": "stream",
     "text": [
      "search: \u001b[0m\u001b[1mr\u001b[22m\u001b[0m\u001b[1me\u001b[22m\u001b[0m\u001b[1mp\u001b[22m\u001b[0m\u001b[1ml\u001b[22m\u001b[0m\u001b[1ma\u001b[22m\u001b[0m\u001b[1mc\u001b[22m\u001b[0m\u001b[1me\u001b[22m \u001b[0m\u001b[1mr\u001b[22m\u001b[0m\u001b[1me\u001b[22m\u001b[0m\u001b[1mp\u001b[22m\u001b[0m\u001b[1ml\u001b[22m\u001b[0m\u001b[1ma\u001b[22m\u001b[0m\u001b[1mc\u001b[22m\u001b[0m\u001b[1me\u001b[22m! \u001b[0m\u001b[1mr\u001b[22m\u001b[0m\u001b[1me\u001b[22m\u001b[0m\u001b[1mp\u001b[22m\u001b[0m\u001b[1ml\u001b[22m\u001b[0m\u001b[1ma\u001b[22m\u001b[0m\u001b[1mc\u001b[22m\u001b[0m\u001b[1me\u001b[22mfield! \u001b[0m\u001b[1mr\u001b[22m\u001b[0m\u001b[1me\u001b[22m\u001b[0m\u001b[1mp\u001b[22m\u001b[0m\u001b[1ml\u001b[22m\u001b[0m\u001b[1ma\u001b[22m\u001b[0m\u001b[1mc\u001b[22m\u001b[0m\u001b[1me\u001b[22mproperty! @atomic\u001b[0m\u001b[1mr\u001b[22m\u001b[0m\u001b[1me\u001b[22m\u001b[0m\u001b[1mp\u001b[22m\u001b[0m\u001b[1ml\u001b[22m\u001b[0m\u001b[1ma\u001b[22m\u001b[0m\u001b[1mc\u001b[22m\u001b[0m\u001b[1me\u001b[22m \u001b[0m\u001b[1mr\u001b[22m\u001b[0m\u001b[1me\u001b[22mdis\u001b[0m\u001b[1mp\u001b[22m\u001b[0m\u001b[1ml\u001b[22m\u001b[0m\u001b[1ma\u001b[22my\n",
      "\n"
     ]
    },
    {
     "data": {
      "text/latex": [
       "\\begin{verbatim}\n",
       "replace(A, old_new::Pair...; [count::Integer])\n",
       "\\end{verbatim}\n",
       "Return a copy of collection \\texttt{A} where, for each pair \\texttt{old=>new} in \\texttt{old\\_new}, all occurrences of \\texttt{old} are replaced by \\texttt{new}. Equality is determined using \\href{@ref}{\\texttt{isequal}}. If \\texttt{count} is specified, then replace at most \\texttt{count} occurrences in total.\n",
       "\n",
       "The element type of the result is chosen using promotion (see \\href{@ref}{\\texttt{promote\\_type}}) based on the element type of \\texttt{A} and on the types of the \\texttt{new} values in pairs. If \\texttt{count} is omitted and the element type of \\texttt{A} is a \\texttt{Union}, the element type of the result will not include singleton types which are replaced with values of a different type: for example, \\texttt{Union\\{T,Missing\\}} will become \\texttt{T} if \\texttt{missing} is replaced.\n",
       "\n",
       "See also \\href{@ref}{\\texttt{replace!}}, \\href{@ref}{\\texttt{splice!}}, \\href{@ref}{\\texttt{delete!}}, \\href{@ref}{\\texttt{insert!}}.\n",
       "\n",
       "\\begin{quote}\n",
       "\\textbf{compat}\n",
       "\n",
       "Julia 1.7\n",
       "\n",
       "Version 1.7 is required to replace elements of a \\texttt{Tuple}.\n",
       "\n",
       "\\end{quote}\n",
       "\\section{Examples}\n",
       "\\begin{verbatim}\n",
       "julia> replace([1, 2, 1, 3], 1=>0, 2=>4, count=2)\n",
       "4-element Vector{Int64}:\n",
       " 0\n",
       " 4\n",
       " 1\n",
       " 3\n",
       "\n",
       "julia> replace([1, missing], missing=>0)\n",
       "2-element Vector{Int64}:\n",
       " 1\n",
       " 0\n",
       "\\end{verbatim}\n",
       "\\rule{\\textwidth}{1pt}\n",
       "\\begin{verbatim}\n",
       "replace(new::Function, A; [count::Integer])\n",
       "\\end{verbatim}\n",
       "Return a copy of \\texttt{A} where each value \\texttt{x} in \\texttt{A} is replaced by \\texttt{new(x)}. If \\texttt{count} is specified, then replace at most \\texttt{count} values in total (replacements being defined as \\texttt{new(x) !== x}).\n",
       "\n",
       "\\begin{quote}\n",
       "\\textbf{compat}\n",
       "\n",
       "Julia 1.7\n",
       "\n",
       "Version 1.7 is required to replace elements of a \\texttt{Tuple}.\n",
       "\n",
       "\\end{quote}\n",
       "\\section{Examples}\n",
       "\\begin{verbatim}\n",
       "julia> replace(x -> isodd(x) ? 2x : x, [1, 2, 3, 4])\n",
       "4-element Vector{Int64}:\n",
       " 2\n",
       " 2\n",
       " 6\n",
       " 4\n",
       "\n",
       "julia> replace(Dict(1=>2, 3=>4)) do kv\n",
       "           first(kv) < 3 ? first(kv)=>3 : kv\n",
       "       end\n",
       "Dict{Int64, Int64} with 2 entries:\n",
       "  3 => 4\n",
       "  1 => 3\n",
       "\\end{verbatim}\n",
       "\\rule{\\textwidth}{1pt}\n",
       "\\begin{verbatim}\n",
       "replace(s::AbstractString, pat=>r, [pat2=>r2, ...]; [count::Integer])\n",
       "\\end{verbatim}\n",
       "Search for the given pattern \\texttt{pat} in \\texttt{s}, and replace each occurrence with \\texttt{r}. If \\texttt{count} is provided, replace at most \\texttt{count} occurrences. \\texttt{pat} may be a single character, a vector or a set of characters, a string, or a regular expression. If \\texttt{r} is a function, each occurrence is replaced with \\texttt{r(s)} where \\texttt{s} is the matched substring (when \\texttt{pat} is a \\texttt{AbstractPattern} or \\texttt{AbstractString}) or character (when \\texttt{pat} is an \\texttt{AbstractChar} or a collection of \\texttt{AbstractChar}). If \\texttt{pat} is a regular expression and \\texttt{r} is a \\href{@ref}{\\texttt{SubstitutionString}}, then capture group references in \\texttt{r} are replaced with the corresponding matched text. To remove instances of \\texttt{pat} from \\texttt{string}, set \\texttt{r} to the empty \\texttt{String} (\\texttt{\"\"}).\n",
       "\n",
       "Multiple patterns can be specified, and they will be applied left-to-right simultaneously, so only one pattern will be applied to any character, and the patterns will only be applied to the input text, not the replacements.\n",
       "\n",
       "\\begin{quote}\n",
       "\\textbf{compat}\n",
       "\n",
       "Julia 1.7\n",
       "\n",
       "Support for multiple patterns requires version 1.7.\n",
       "\n",
       "\\end{quote}\n",
       "\\section{Examples}\n",
       "\\begin{verbatim}\n",
       "julia> replace(\"Python is a programming language.\", \"Python\" => \"Julia\")\n",
       "\"Julia is a programming language.\"\n",
       "\n",
       "julia> replace(\"The quick foxes run quickly.\", \"quick\" => \"slow\", count=1)\n",
       "\"The slow foxes run quickly.\"\n",
       "\n",
       "julia> replace(\"The quick foxes run quickly.\", \"quick\" => \"\", count=1)\n",
       "\"The  foxes run quickly.\"\n",
       "\n",
       "julia> replace(\"The quick foxes run quickly.\", r\"fox(es)?\" => s\"bus\\1\")\n",
       "\"The quick buses run quickly.\"\n",
       "\n",
       "julia> replace(\"abcabc\", \"a\" => \"b\", \"b\" => \"c\", r\".+\" => \"a\")\n",
       "\"bca\"\n",
       "\\end{verbatim}\n"
      ],
      "text/markdown": [
       "```\n",
       "replace(A, old_new::Pair...; [count::Integer])\n",
       "```\n",
       "\n",
       "Return a copy of collection `A` where, for each pair `old=>new` in `old_new`, all occurrences of `old` are replaced by `new`. Equality is determined using [`isequal`](@ref). If `count` is specified, then replace at most `count` occurrences in total.\n",
       "\n",
       "The element type of the result is chosen using promotion (see [`promote_type`](@ref)) based on the element type of `A` and on the types of the `new` values in pairs. If `count` is omitted and the element type of `A` is a `Union`, the element type of the result will not include singleton types which are replaced with values of a different type: for example, `Union{T,Missing}` will become `T` if `missing` is replaced.\n",
       "\n",
       "See also [`replace!`](@ref), [`splice!`](@ref), [`delete!`](@ref), [`insert!`](@ref).\n",
       "\n",
       "!!! compat \"Julia 1.7\"\n",
       "    Version 1.7 is required to replace elements of a `Tuple`.\n",
       "\n",
       "\n",
       "# Examples\n",
       "\n",
       "```jldoctest\n",
       "julia> replace([1, 2, 1, 3], 1=>0, 2=>4, count=2)\n",
       "4-element Vector{Int64}:\n",
       " 0\n",
       " 4\n",
       " 1\n",
       " 3\n",
       "\n",
       "julia> replace([1, missing], missing=>0)\n",
       "2-element Vector{Int64}:\n",
       " 1\n",
       " 0\n",
       "```\n",
       "\n",
       "---\n",
       "\n",
       "```\n",
       "replace(new::Function, A; [count::Integer])\n",
       "```\n",
       "\n",
       "Return a copy of `A` where each value `x` in `A` is replaced by `new(x)`. If `count` is specified, then replace at most `count` values in total (replacements being defined as `new(x) !== x`).\n",
       "\n",
       "!!! compat \"Julia 1.7\"\n",
       "    Version 1.7 is required to replace elements of a `Tuple`.\n",
       "\n",
       "\n",
       "# Examples\n",
       "\n",
       "```jldoctest\n",
       "julia> replace(x -> isodd(x) ? 2x : x, [1, 2, 3, 4])\n",
       "4-element Vector{Int64}:\n",
       " 2\n",
       " 2\n",
       " 6\n",
       " 4\n",
       "\n",
       "julia> replace(Dict(1=>2, 3=>4)) do kv\n",
       "           first(kv) < 3 ? first(kv)=>3 : kv\n",
       "       end\n",
       "Dict{Int64, Int64} with 2 entries:\n",
       "  3 => 4\n",
       "  1 => 3\n",
       "```\n",
       "\n",
       "---\n",
       "\n",
       "```\n",
       "replace(s::AbstractString, pat=>r, [pat2=>r2, ...]; [count::Integer])\n",
       "```\n",
       "\n",
       "Search for the given pattern `pat` in `s`, and replace each occurrence with `r`. If `count` is provided, replace at most `count` occurrences. `pat` may be a single character, a vector or a set of characters, a string, or a regular expression. If `r` is a function, each occurrence is replaced with `r(s)` where `s` is the matched substring (when `pat` is a `AbstractPattern` or `AbstractString`) or character (when `pat` is an `AbstractChar` or a collection of `AbstractChar`). If `pat` is a regular expression and `r` is a [`SubstitutionString`](@ref), then capture group references in `r` are replaced with the corresponding matched text. To remove instances of `pat` from `string`, set `r` to the empty `String` (`\"\"`).\n",
       "\n",
       "Multiple patterns can be specified, and they will be applied left-to-right simultaneously, so only one pattern will be applied to any character, and the patterns will only be applied to the input text, not the replacements.\n",
       "\n",
       "!!! compat \"Julia 1.7\"\n",
       "    Support for multiple patterns requires version 1.7.\n",
       "\n",
       "\n",
       "# Examples\n",
       "\n",
       "```jldoctest\n",
       "julia> replace(\"Python is a programming language.\", \"Python\" => \"Julia\")\n",
       "\"Julia is a programming language.\"\n",
       "\n",
       "julia> replace(\"The quick foxes run quickly.\", \"quick\" => \"slow\", count=1)\n",
       "\"The slow foxes run quickly.\"\n",
       "\n",
       "julia> replace(\"The quick foxes run quickly.\", \"quick\" => \"\", count=1)\n",
       "\"The  foxes run quickly.\"\n",
       "\n",
       "julia> replace(\"The quick foxes run quickly.\", r\"fox(es)?\" => s\"bus\\1\")\n",
       "\"The quick buses run quickly.\"\n",
       "\n",
       "julia> replace(\"abcabc\", \"a\" => \"b\", \"b\" => \"c\", r\".+\" => \"a\")\n",
       "\"bca\"\n",
       "```\n"
      ],
      "text/plain": [
       "\u001b[36m  replace(A, old_new::Pair...; [count::Integer])\u001b[39m\n",
       "\n",
       "  Return a copy of collection \u001b[36mA\u001b[39m where, for each pair \u001b[36mold=>new\u001b[39m in \u001b[36mold_new\u001b[39m, all\n",
       "  occurrences of \u001b[36mold\u001b[39m are replaced by \u001b[36mnew\u001b[39m. Equality is determined using\n",
       "  \u001b[36misequal\u001b[39m. If \u001b[36mcount\u001b[39m is specified, then replace at most \u001b[36mcount\u001b[39m occurrences in\n",
       "  total.\n",
       "\n",
       "  The element type of the result is chosen using promotion (see \u001b[36mpromote_type\u001b[39m)\n",
       "  based on the element type of \u001b[36mA\u001b[39m and on the types of the \u001b[36mnew\u001b[39m values in pairs.\n",
       "  If \u001b[36mcount\u001b[39m is omitted and the element type of \u001b[36mA\u001b[39m is a \u001b[36mUnion\u001b[39m, the element type\n",
       "  of the result will not include singleton types which are replaced with\n",
       "  values of a different type: for example, \u001b[36mUnion{T,Missing}\u001b[39m will become \u001b[36mT\u001b[39m if\n",
       "  \u001b[36mmissing\u001b[39m is replaced.\n",
       "\n",
       "  See also \u001b[36mreplace!\u001b[39m, \u001b[36msplice!\u001b[39m, \u001b[36mdelete!\u001b[39m, \u001b[36minsert!\u001b[39m.\n",
       "\n",
       "\u001b[39m\u001b[1m  │ \u001b[22m\u001b[39m\u001b[1mJulia 1.7\u001b[22m\n",
       "\u001b[39m\u001b[1m  │\u001b[22m\n",
       "\u001b[39m\u001b[1m  │\u001b[22m  Version 1.7 is required to replace elements of a \u001b[36mTuple\u001b[39m.\n",
       "\n",
       "\u001b[1m  Examples\u001b[22m\n",
       "\u001b[1m  ≡≡≡≡≡≡≡≡≡≡\u001b[22m\n",
       "\n",
       "\u001b[36m  julia> replace([1, 2, 1, 3], 1=>0, 2=>4, count=2)\u001b[39m\n",
       "\u001b[36m  4-element Vector{Int64}:\u001b[39m\n",
       "\u001b[36m   0\u001b[39m\n",
       "\u001b[36m   4\u001b[39m\n",
       "\u001b[36m   1\u001b[39m\n",
       "\u001b[36m   3\u001b[39m\n",
       "\u001b[36m  \u001b[39m\n",
       "\u001b[36m  julia> replace([1, missing], missing=>0)\u001b[39m\n",
       "\u001b[36m  2-element Vector{Int64}:\u001b[39m\n",
       "\u001b[36m   1\u001b[39m\n",
       "\u001b[36m   0\u001b[39m\n",
       "\n",
       "  ────────────────────────────────────────────────────────────────────────────\n",
       "\n",
       "\u001b[36m  replace(new::Function, A; [count::Integer])\u001b[39m\n",
       "\n",
       "  Return a copy of \u001b[36mA\u001b[39m where each value \u001b[36mx\u001b[39m in \u001b[36mA\u001b[39m is replaced by \u001b[36mnew(x)\u001b[39m. If \u001b[36mcount\u001b[39m\n",
       "  is specified, then replace at most \u001b[36mcount\u001b[39m values in total (replacements being\n",
       "  defined as \u001b[36mnew(x) !== x\u001b[39m).\n",
       "\n",
       "\u001b[39m\u001b[1m  │ \u001b[22m\u001b[39m\u001b[1mJulia 1.7\u001b[22m\n",
       "\u001b[39m\u001b[1m  │\u001b[22m\n",
       "\u001b[39m\u001b[1m  │\u001b[22m  Version 1.7 is required to replace elements of a \u001b[36mTuple\u001b[39m.\n",
       "\n",
       "\u001b[1m  Examples\u001b[22m\n",
       "\u001b[1m  ≡≡≡≡≡≡≡≡≡≡\u001b[22m\n",
       "\n",
       "\u001b[36m  julia> replace(x -> isodd(x) ? 2x : x, [1, 2, 3, 4])\u001b[39m\n",
       "\u001b[36m  4-element Vector{Int64}:\u001b[39m\n",
       "\u001b[36m   2\u001b[39m\n",
       "\u001b[36m   2\u001b[39m\n",
       "\u001b[36m   6\u001b[39m\n",
       "\u001b[36m   4\u001b[39m\n",
       "\u001b[36m  \u001b[39m\n",
       "\u001b[36m  julia> replace(Dict(1=>2, 3=>4)) do kv\u001b[39m\n",
       "\u001b[36m             first(kv) < 3 ? first(kv)=>3 : kv\u001b[39m\n",
       "\u001b[36m         end\u001b[39m\n",
       "\u001b[36m  Dict{Int64, Int64} with 2 entries:\u001b[39m\n",
       "\u001b[36m    3 => 4\u001b[39m\n",
       "\u001b[36m    1 => 3\u001b[39m\n",
       "\n",
       "  ────────────────────────────────────────────────────────────────────────────\n",
       "\n",
       "\u001b[36m  replace(s::AbstractString, pat=>r, [pat2=>r2, ...]; [count::Integer])\u001b[39m\n",
       "\n",
       "  Search for the given pattern \u001b[36mpat\u001b[39m in \u001b[36ms\u001b[39m, and replace each occurrence with \u001b[36mr\u001b[39m.\n",
       "  If \u001b[36mcount\u001b[39m is provided, replace at most \u001b[36mcount\u001b[39m occurrences. \u001b[36mpat\u001b[39m may be a single\n",
       "  character, a vector or a set of characters, a string, or a regular\n",
       "  expression. If \u001b[36mr\u001b[39m is a function, each occurrence is replaced with \u001b[36mr(s)\u001b[39m where\n",
       "  \u001b[36ms\u001b[39m is the matched substring (when \u001b[36mpat\u001b[39m is a \u001b[36mAbstractPattern\u001b[39m or \u001b[36mAbstractString\u001b[39m)\n",
       "  or character (when \u001b[36mpat\u001b[39m is an \u001b[36mAbstractChar\u001b[39m or a collection of \u001b[36mAbstractChar\u001b[39m).\n",
       "  If \u001b[36mpat\u001b[39m is a regular expression and \u001b[36mr\u001b[39m is a \u001b[36mSubstitutionString\u001b[39m, then capture\n",
       "  group references in \u001b[36mr\u001b[39m are replaced with the corresponding matched text. To\n",
       "  remove instances of \u001b[36mpat\u001b[39m from \u001b[36mstring\u001b[39m, set \u001b[36mr\u001b[39m to the empty \u001b[36mString\u001b[39m (\u001b[36m\"\"\u001b[39m).\n",
       "\n",
       "  Multiple patterns can be specified, and they will be applied left-to-right\n",
       "  simultaneously, so only one pattern will be applied to any character, and\n",
       "  the patterns will only be applied to the input text, not the replacements.\n",
       "\n",
       "\u001b[39m\u001b[1m  │ \u001b[22m\u001b[39m\u001b[1mJulia 1.7\u001b[22m\n",
       "\u001b[39m\u001b[1m  │\u001b[22m\n",
       "\u001b[39m\u001b[1m  │\u001b[22m  Support for multiple patterns requires version 1.7.\n",
       "\n",
       "\u001b[1m  Examples\u001b[22m\n",
       "\u001b[1m  ≡≡≡≡≡≡≡≡≡≡\u001b[22m\n",
       "\n",
       "\u001b[36m  julia> replace(\"Python is a programming language.\", \"Python\" => \"Julia\")\u001b[39m\n",
       "\u001b[36m  \"Julia is a programming language.\"\u001b[39m\n",
       "\u001b[36m  \u001b[39m\n",
       "\u001b[36m  julia> replace(\"The quick foxes run quickly.\", \"quick\" => \"slow\", count=1)\u001b[39m\n",
       "\u001b[36m  \"The slow foxes run quickly.\"\u001b[39m\n",
       "\u001b[36m  \u001b[39m\n",
       "\u001b[36m  julia> replace(\"The quick foxes run quickly.\", \"quick\" => \"\", count=1)\u001b[39m\n",
       "\u001b[36m  \"The  foxes run quickly.\"\u001b[39m\n",
       "\u001b[36m  \u001b[39m\n",
       "\u001b[36m  julia> replace(\"The quick foxes run quickly.\", r\"fox(es)?\" => s\"bus\\1\")\u001b[39m\n",
       "\u001b[36m  \"The quick buses run quickly.\"\u001b[39m\n",
       "\u001b[36m  \u001b[39m\n",
       "\u001b[36m  julia> replace(\"abcabc\", \"a\" => \"b\", \"b\" => \"c\", r\".+\" => \"a\")\u001b[39m\n",
       "\u001b[36m  \"bca\"\u001b[39m"
      ]
     },
     "execution_count": 23,
     "metadata": {},
     "output_type": "execute_result"
    }
   ],
   "source": [
    "?replace"
   ]
  },
  {
   "cell_type": "code",
   "execution_count": 24,
   "id": "0a32d689",
   "metadata": {},
   "outputs": [
    {
     "data": {
      "text/plain": [
       "\"bca\""
      ]
     },
     "execution_count": 24,
     "metadata": {},
     "output_type": "execute_result"
    }
   ],
   "source": [
    "replace(\"abcabc\", \"a\" => \"b\", \"b\" => \"c\", r\".+\" => \"a\")"
   ]
  },
  {
   "cell_type": "markdown",
   "id": "342c3c19",
   "metadata": {},
   "source": [
    "### More \n",
    "* strip Strips leading and trailing characters (by default, whitespace) from a string (also related are lstrip and rstrip for stripping leading and trailing characters)\n",
    "* startswith Checks if a given string starts with a passed prefix\n",
    "* endswith Checks if a given string ends with a passed suffix\n",
    "* uppercase Uppercases a string\n",
    "* lowercase Lowercases a string\n",
    "* randstring Creates random strings (defined in the Random module)"
   ]
  },
  {
   "cell_type": "code",
   "execution_count": null,
   "id": "094cde1e",
   "metadata": {},
   "outputs": [],
   "source": []
  },
  {
   "cell_type": "code",
   "execution_count": 25,
   "id": "b98b6784",
   "metadata": {},
   "outputs": [
    {
     "data": {
      "text/plain": [
       "\"yo\""
      ]
     },
     "execution_count": 25,
     "metadata": {},
     "output_type": "execute_result"
    }
   ],
   "source": [
    "strip(\"   yo \")"
   ]
  },
  {
   "cell_type": "code",
   "execution_count": 26,
   "id": "f0b767a1",
   "metadata": {},
   "outputs": [
    {
     "data": {
      "text/plain": [
       "true"
      ]
     },
     "execution_count": 26,
     "metadata": {},
     "output_type": "execute_result"
    }
   ],
   "source": [
    "startswith(\"base\", \"ba\")"
   ]
  },
  {
   "cell_type": "code",
   "execution_count": 27,
   "id": "243e4795",
   "metadata": {},
   "outputs": [
    {
     "data": {
      "text/plain": [
       "\"HELLO\""
      ]
     },
     "execution_count": 27,
     "metadata": {},
     "output_type": "execute_result"
    }
   ],
   "source": [
    "uppercase(\"hello\")"
   ]
  },
  {
   "cell_type": "code",
   "execution_count": 28,
   "id": "9e10540e",
   "metadata": {},
   "outputs": [],
   "source": [
    "using Random"
   ]
  },
  {
   "cell_type": "code",
   "execution_count": 29,
   "id": "a2262f07",
   "metadata": {},
   "outputs": [
    {
     "data": {
      "text/plain": [
       "\"G32Fl55d\""
      ]
     },
     "execution_count": 29,
     "metadata": {},
     "output_type": "execute_result"
    }
   ],
   "source": [
    "randstring()"
   ]
  },
  {
   "cell_type": "markdown",
   "id": "21acc13a",
   "metadata": {},
   "source": [
    "### Regex"
   ]
  },
  {
   "cell_type": "code",
   "execution_count": 30,
   "id": "4ec12af7",
   "metadata": {},
   "outputs": [
    {
     "data": {
      "text/plain": [
       "r\".*\\((\\d{2,3})\\)$\""
      ]
     },
     "execution_count": 30,
     "metadata": {},
     "output_type": "execute_result"
    }
   ],
   "source": [
    "rEx = r\".*\\((\\d{2,3})\\)$\""
   ]
  },
  {
   "cell_type": "code",
   "execution_count": 31,
   "id": "a1728e3a",
   "metadata": {},
   "outputs": [
    {
     "data": {
      "text/plain": [
       "RegexMatch(\"stuff (23)\", 1=\"23\")"
      ]
     },
     "execution_count": 31,
     "metadata": {},
     "output_type": "execute_result"
    }
   ],
   "source": [
    "match(rEx, \"stuff (23)\")"
   ]
  },
  {
   "cell_type": "code",
   "execution_count": 32,
   "id": "8632c239",
   "metadata": {},
   "outputs": [
    {
     "data": {
      "text/plain": [
       "RegexMatch(\"another (133)\", 1=\"133\")"
      ]
     },
     "execution_count": 32,
     "metadata": {},
     "output_type": "execute_result"
    }
   ],
   "source": [
    "match(rEx, \"another (133)\")"
   ]
  },
  {
   "cell_type": "code",
   "execution_count": 33,
   "id": "42bbd7a1",
   "metadata": {},
   "outputs": [
    {
     "data": {
      "text/plain": [
       "r\"(.*)\\s\\((\\d{2,3})\\)$\""
      ]
     },
     "execution_count": 33,
     "metadata": {},
     "output_type": "execute_result"
    }
   ],
   "source": [
    "rEx2 = r\"(.*)\\s\\((\\d{2,3})\\)$\""
   ]
  },
  {
   "cell_type": "code",
   "execution_count": null,
   "id": "7131ea04",
   "metadata": {},
   "outputs": [],
   "source": []
  },
  {
   "cell_type": "code",
   "execution_count": null,
   "id": "803b469d",
   "metadata": {},
   "outputs": [],
   "source": []
  },
  {
   "cell_type": "code",
   "execution_count": 35,
   "id": "9e3c6565",
   "metadata": {},
   "outputs": [
    {
     "data": {
      "text/plain": [
       "RegexMatch(\"stuff (23)\", 1=\"stuff\", 2=\"23\")"
      ]
     },
     "execution_count": 35,
     "metadata": {},
     "output_type": "execute_result"
    }
   ],
   "source": [
    "result = match(rEx2, \"stuff (23)\")"
   ]
  },
  {
   "cell_type": "code",
   "execution_count": 42,
   "id": "330630cf",
   "metadata": {},
   "outputs": [
    {
     "data": {
      "text/plain": [
       "\"stuff (23)\""
      ]
     },
     "execution_count": 42,
     "metadata": {},
     "output_type": "execute_result"
    }
   ],
   "source": [
    "result.match"
   ]
  },
  {
   "cell_type": "code",
   "execution_count": 36,
   "id": "490568e5",
   "metadata": {},
   "outputs": [],
   "source": [
    "match(rEx2, \"stuff(23)\")"
   ]
  },
  {
   "cell_type": "code",
   "execution_count": 43,
   "id": "350c2e5f",
   "metadata": {},
   "outputs": [
    {
     "data": {
      "text/plain": [
       "parseline (generic function with 1 method)"
      ]
     },
     "execution_count": 43,
     "metadata": {},
     "output_type": "execute_result"
    }
   ],
   "source": [
    "function parseline(line::AbstractString)\n",
    "    parts = split(line, \"::\")\n",
    "    m = match(r\"(.+) \\((\\d{4})\\)\", parts[2])\n",
    "    return (id=parts[1],\n",
    "            name=m[1],\n",
    "            year=parse(Int, m[2]),\n",
    "            genres=split(parts[3], \"|\"))\n",
    "end"
   ]
  },
  {
   "cell_type": "code",
   "execution_count": 44,
   "id": "5bbeaeed",
   "metadata": {},
   "outputs": [
    {
     "data": {
      "text/plain": [
       "(id = \"0002844\", name = \"Fantômas - À l'ombre de la guillotine\", year = 1913, genres = SubString{String}[\"Crime\", \"Drama\"])"
      ]
     },
     "execution_count": 44,
     "metadata": {},
     "output_type": "execute_result"
    }
   ],
   "source": [
    "parseline(movie1)"
   ]
  },
  {
   "cell_type": "code",
   "execution_count": 45,
   "id": "8ac5edbf",
   "metadata": {},
   "outputs": [
    {
     "data": {
      "text/plain": [
       "\"l'étude\""
      ]
     },
     "execution_count": 45,
     "metadata": {},
     "output_type": "execute_result"
    }
   ],
   "source": [
    "example_word = \"l'étude\""
   ]
  },
  {
   "cell_type": "code",
   "execution_count": 46,
   "id": "3687ebd6",
   "metadata": {},
   "outputs": [
    {
     "name": "stdout",
     "output_type": "stream",
     "text": [
      "1235678"
     ]
    }
   ],
   "source": [
    "for i in eachindex(example_word)\n",
    "   print(i) \n",
    "end"
   ]
  },
  {
   "cell_type": "markdown",
   "id": "6e548e88",
   "metadata": {},
   "source": [
    "Wait but no 4?\n",
    "\n",
    "Unicode (utf8 at least) uses variable length encoding"
   ]
  },
  {
   "cell_type": "code",
   "execution_count": null,
   "id": "0204d7c4",
   "metadata": {},
   "outputs": [],
   "source": []
  },
  {
   "cell_type": "markdown",
   "id": "ceb3e65e",
   "metadata": {},
   "source": [
    "## Actual Data Analysis!"
   ]
  },
  {
   "cell_type": "code",
   "execution_count": 47,
   "id": "7a14922e",
   "metadata": {},
   "outputs": [
    {
     "data": {
      "text/plain": [
       "3096-element Vector{NamedTuple{(:id, :name, :year, :genres), Tuple{SubString{String}, SubString{String}, Int64, Vector{SubString{String}}}}}:\n",
       " (id = \"0002844\", name = \"Fantômas - À l'ombre de la guillotine\", year = 1913, genres = [\"Crime\", \"Drama\"])\n",
       " (id = \"0007264\", name = \"The Rink\", year = 1916, genres = [\"Comedy\", \"Short\"])\n",
       " (id = \"0008133\", name = \"The Immigrant\", year = 1917, genres = [\"Short\", \"Comedy\", \"Drama\", \"Romance\"])\n",
       " (id = \"0012349\", name = \"The Kid\", year = 1921, genres = [\"Comedy\", \"Drama\", \"Family\"])\n",
       " (id = \"0013427\", name = \"Nanook of the North\", year = 1922, genres = [\"Documentary\"])\n",
       " (id = \"0014142\", name = \"The Hunchback of Notre Dame\", year = 1923, genres = [\"Drama\", \"Romance\"])\n",
       " (id = \"0014538\", name = \"Three Ages\", year = 1923, genres = [\"Comedy\"])\n",
       " (id = \"0014872\", name = \"Entr'acte\", year = 1924, genres = [\"Short\"])\n",
       " (id = \"0015163\", name = \"The Navigator\", year = 1924, genres = [\"Action\", \"Comedy\"])\n",
       " (id = \"0015324\", name = \"Sherlock Jr.\", year = 1924, genres = [\"Comedy\", \"Fantasy\"])\n",
       " (id = \"0015400\", name = \"The Thief of Bagdad\", year = 1924, genres = [\"Adventure\", \"Family\", \"Fantasy\", \"Romance\"])\n",
       " (id = \"0017925\", name = \"The General\", year = 1926, genres = [\"Action\", \"Adventure\", \"Comedy\", \"Romance\", \"War\"])\n",
       " (id = \"0018773\", name = \"The Circus\", year = 1928, genres = [\"Comedy\", \"Romance\"])\n",
       " ⋮\n",
       " (id = \"2638984\", name = \"Teal Diva\", year = 2012, genres = [\"Documentary\", \"Short\"])\n",
       " (id = \"2645104\", name = \"Romantik komedi 2: Bekarliga veda\", year = 2013, genres = [\"Comedy\"])\n",
       " (id = \"2645164\", name = \"The Hardy Bucks Movie\", year = 2013, genres = [\"Comedy\"])\n",
       " (id = \"2646378\", name = \"The Frankenstein Theory\", year = 2013, genres = [\"Horror\", \"Sci-Fi\"])\n",
       " (id = \"2649128\", name = \"Metro\", year = 2013, genres = [\"Thriller\"])\n",
       " (id = \"2670226\", name = \"Jîn\", year = 2013, genres = [\"Drama\"])\n",
       " (id = \"2700330\", name = \"The Two Escobars\", year = 2010, genres = [\"Documentary\"])\n",
       " (id = \"2735466\", name = \"Pickett's Charge\", year = 2012, genres = [\"Short\", \"Comedy\", \"Drama\", \"Family\"])\n",
       " (id = \"2748368\", name = \"Neil\", year = 2013, genres = [\"Short\", \"Comedy\"])\n",
       " (id = \"2750600\", name = \"A Different Tree\", year = 2013, genres = [\"Short\", \"Drama\", \"Family\"])\n",
       " (id = \"2763252\", name = \"Broken Night\", year = 2013, genres = [\"Short\", \"Drama\"])\n",
       " (id = \"2769592\", name = \"Kiss Shot Truth or Dare\", year = 2013, genres = [\"Short\"])"
      ]
     },
     "execution_count": 47,
     "metadata": {},
     "output_type": "execute_result"
    }
   ],
   "source": [
    "records = parseline.(movies)"
   ]
  },
  {
   "cell_type": "code",
   "execution_count": 48,
   "id": "584e9e6b",
   "metadata": {},
   "outputs": [],
   "source": [
    "genres = String[]\n",
    "for record in records\n",
    "   append!(genres, record.genres)\n",
    "end"
   ]
  },
  {
   "cell_type": "code",
   "execution_count": 49,
   "id": "205a8c9c",
   "metadata": {},
   "outputs": [
    {
     "data": {
      "text/plain": [
       "8121-element Vector{String}:\n",
       " \"Crime\"\n",
       " \"Drama\"\n",
       " \"Comedy\"\n",
       " \"Short\"\n",
       " \"Short\"\n",
       " \"Comedy\"\n",
       " \"Drama\"\n",
       " \"Romance\"\n",
       " \"Comedy\"\n",
       " \"Drama\"\n",
       " \"Family\"\n",
       " \"Documentary\"\n",
       " \"Drama\"\n",
       " ⋮\n",
       " \"Short\"\n",
       " \"Comedy\"\n",
       " \"Drama\"\n",
       " \"Family\"\n",
       " \"Short\"\n",
       " \"Comedy\"\n",
       " \"Short\"\n",
       " \"Drama\"\n",
       " \"Family\"\n",
       " \"Short\"\n",
       " \"Drama\"\n",
       " \"Short\""
      ]
     },
     "execution_count": 49,
     "metadata": {},
     "output_type": "execute_result"
    }
   ],
   "source": [
    "genres"
   ]
  },
  {
   "cell_type": "code",
   "execution_count": 50,
   "id": "d2e2d9fc",
   "metadata": {},
   "outputs": [
    {
     "name": "stderr",
     "output_type": "stream",
     "text": [
      "\u001b[32m\u001b[1m    Updating\u001b[22m\u001b[39m registry at `~/.julia/registries/General.toml`\n",
      "\u001b[32m\u001b[1m   Resolving\u001b[22m\u001b[39m package versions...\n",
      "\u001b[32m\u001b[1m  No Changes\u001b[22m\u001b[39m to `~/.julia/environments/v1.8/Project.toml`\n",
      "\u001b[32m\u001b[1m  No Changes\u001b[22m\u001b[39m to `~/.julia/environments/v1.8/Manifest.toml`\n"
     ]
    }
   ],
   "source": [
    "import Pkg; Pkg.add(\"FreqTables\")"
   ]
  },
  {
   "cell_type": "code",
   "execution_count": 51,
   "id": "0ccd6661",
   "metadata": {},
   "outputs": [],
   "source": [
    "using FreqTables"
   ]
  },
  {
   "cell_type": "code",
   "execution_count": 52,
   "id": "7dd9f25d",
   "metadata": {},
   "outputs": [
    {
     "data": {
      "text/plain": [
       "25-element Named Vector{Int64}\n",
       "Dim1        │ \n",
       "────────────┼─────\n",
       "            │   14\n",
       "Action      │  635\n",
       "Adventure   │  443\n",
       "Animation   │  137\n",
       "Biography   │  166\n",
       "Comedy      │ 1001\n",
       "Crime       │  550\n",
       "Documentary │  126\n",
       "Drama       │ 1583\n",
       "Family      │  222\n",
       "Fantasy     │  278\n",
       "⋮                ⋮\n",
       "Music       │   83\n",
       "Musical     │   58\n",
       "Mystery     │  294\n",
       "News        │    4\n",
       "Romance     │  558\n",
       "Sci-Fi      │  305\n",
       "Short       │   46\n",
       "Sport       │   84\n",
       "Thriller    │  910\n",
       "War         │  126\n",
       "Western     │   35"
      ]
     },
     "execution_count": 52,
     "metadata": {},
     "output_type": "execute_result"
    }
   ],
   "source": [
    "table = freqtable(genres)"
   ]
  },
  {
   "cell_type": "code",
   "execution_count": null,
   "id": "f73d0608",
   "metadata": {},
   "outputs": [],
   "source": []
  },
  {
   "cell_type": "code",
   "execution_count": 58,
   "id": "b848f828",
   "metadata": {},
   "outputs": [
    {
     "data": {
      "text/plain": [
       "NamedVector{Int64, Vector{Int64}, Tuple{OrderedDict{String, Int64}}}\u001b[90m (alias for \u001b[39m\u001b[90mNamedArrays.NamedArray{Int64, 1, Array{Int64, 1}, Tuple{OrderedCollections.OrderedDict{String, Int64}}}\u001b[39m\u001b[90m)\u001b[39m"
      ]
     },
     "execution_count": 58,
     "metadata": {},
     "output_type": "execute_result"
    }
   ],
   "source": [
    "typeof(table)"
   ]
  },
  {
   "cell_type": "code",
   "execution_count": 53,
   "id": "09bbda98",
   "metadata": {},
   "outputs": [
    {
     "data": {
      "text/plain": [
       "25-element Named Vector{Int64}\n",
       "Dim1        │ \n",
       "────────────┼─────\n",
       "News        │    4\n",
       "Film-Noir   │   13\n",
       "            │   14\n",
       "Western     │   35\n",
       "Short       │   46\n",
       "Musical     │   58\n",
       "Music       │   83\n",
       "Sport       │   84\n",
       "History     │  125\n",
       "Documentary │  126\n",
       "War         │  126\n",
       "⋮                ⋮\n",
       "Fantasy     │  278\n",
       "Mystery     │  294\n",
       "Sci-Fi      │  305\n",
       "Horror      │  325\n",
       "Adventure   │  443\n",
       "Crime       │  550\n",
       "Romance     │  558\n",
       "Action      │  635\n",
       "Thriller    │  910\n",
       "Comedy      │ 1001\n",
       "Drama       │ 1583"
      ]
     },
     "execution_count": 53,
     "metadata": {},
     "output_type": "execute_result"
    }
   ],
   "source": [
    "sort!(table)"
   ]
  },
  {
   "cell_type": "markdown",
   "id": "7ba372e3",
   "metadata": {},
   "source": [
    "> Understanding genre popularity evolution over the years"
   ]
  },
  {
   "cell_type": "code",
   "execution_count": 60,
   "id": "617f5913",
   "metadata": {},
   "outputs": [
    {
     "data": {
      "text/plain": [
       "3096-element Vector{Int64}:\n",
       " 1913\n",
       " 1916\n",
       " 1917\n",
       " 1921\n",
       " 1922\n",
       " 1923\n",
       " 1923\n",
       " 1924\n",
       " 1924\n",
       " 1924\n",
       " 1924\n",
       " 1926\n",
       " 1928\n",
       "    ⋮\n",
       " 2012\n",
       " 2013\n",
       " 2013\n",
       " 2013\n",
       " 2013\n",
       " 2013\n",
       " 2010\n",
       " 2012\n",
       " 2013\n",
       " 2013\n",
       " 2013\n",
       " 2013"
      ]
     },
     "execution_count": 60,
     "metadata": {},
     "output_type": "execute_result"
    }
   ],
   "source": [
    "years = [record.year for record in records]"
   ]
  },
  {
   "cell_type": "code",
   "execution_count": 69,
   "id": "bed15eb2",
   "metadata": {},
   "outputs": [
    {
     "data": {
      "text/plain": [
       "3096-element Vector{Bool}:\n",
       " 0\n",
       " 0\n",
       " 0\n",
       " 0\n",
       " 0\n",
       " 0\n",
       " 0\n",
       " 0\n",
       " 0\n",
       " 1\n",
       " 1\n",
       " 0\n",
       " 0\n",
       " ⋮\n",
       " 0\n",
       " 0\n",
       " 0\n",
       " 0\n",
       " 0\n",
       " 0\n",
       " 0\n",
       " 0\n",
       " 0\n",
       " 0\n",
       " 0\n",
       " 0"
      ]
     },
     "execution_count": 69,
     "metadata": {},
     "output_type": "execute_result"
    }
   ],
   "source": [
    "has_drama = [\"Fantasy\" in record.genres for record in records]"
   ]
  },
  {
   "cell_type": "code",
   "execution_count": 70,
   "id": "2137e42b",
   "metadata": {},
   "outputs": [
    {
     "data": {
      "text/plain": [
       "93×2 Named Matrix{Float64}\n",
       "Dim1 ╲ Dim2 │     false       true\n",
       "────────────┼─────────────────────\n",
       "1913        │       1.0        0.0\n",
       "1916        │       1.0        0.0\n",
       "1917        │       1.0        0.0\n",
       "1921        │       1.0        0.0\n",
       "1922        │       1.0        0.0\n",
       "1923        │       1.0        0.0\n",
       "1924        │       0.5        0.5\n",
       "1926        │       1.0        0.0\n",
       "1928        │       1.0        0.0\n",
       "1929        │  0.666667   0.333333\n",
       "1930        │       1.0        0.0\n",
       "⋮                     ⋮          ⋮\n",
       "2003        │  0.893333   0.106667\n",
       "2004        │   0.92381  0.0761905\n",
       "2005        │  0.887931   0.112069\n",
       "2006        │  0.837209   0.162791\n",
       "2007        │  0.880952   0.119048\n",
       "2008        │  0.917722  0.0822785\n",
       "2009        │  0.864865   0.135135\n",
       "2010        │  0.903509  0.0964912\n",
       "2011        │  0.940994  0.0590062\n",
       "2012        │  0.933985  0.0660147\n",
       "2013        │  0.929412  0.0705882"
      ]
     },
     "execution_count": 70,
     "metadata": {},
     "output_type": "execute_result"
    }
   ],
   "source": [
    "drama_prop = proptable(years, has_drama; margins=1)"
   ]
  },
  {
   "cell_type": "code",
   "execution_count": 71,
   "id": "f160553e",
   "metadata": {},
   "outputs": [],
   "source": [
    "using Plots"
   ]
  },
  {
   "cell_type": "code",
   "execution_count": 72,
   "id": "c098ea36",
   "metadata": {},
   "outputs": [
    {
     "data": {
      "image/svg+xml": [
       "<?xml version=\"1.0\" encoding=\"utf-8\"?>\n",
       "<svg xmlns=\"http://www.w3.org/2000/svg\" xmlns:xlink=\"http://www.w3.org/1999/xlink\" width=\"600\" height=\"400\" viewBox=\"0 0 2400 1600\">\n",
       "<defs>\n",
       "  <clipPath id=\"clip940\">\n",
       "    <rect x=\"0\" y=\"0\" width=\"2400\" height=\"1600\"/>\n",
       "  </clipPath>\n",
       "</defs>\n",
       "<path clip-path=\"url(#clip940)\" d=\"M0 1600 L2400 1600 L2400 0 L0 0  Z\" fill=\"#ffffff\" fill-rule=\"evenodd\" fill-opacity=\"1\"/>\n",
       "<defs>\n",
       "  <clipPath id=\"clip941\">\n",
       "    <rect x=\"480\" y=\"0\" width=\"1681\" height=\"1600\"/>\n",
       "  </clipPath>\n",
       "</defs>\n",
       "<path clip-path=\"url(#clip940)\" d=\"M219.866 1423.18 L2352.76 1423.18 L2352.76 47.2441 L219.866 47.2441  Z\" fill=\"#ffffff\" fill-rule=\"evenodd\" fill-opacity=\"1\"/>\n",
       "<defs>\n",
       "  <clipPath id=\"clip942\">\n",
       "    <rect x=\"219\" y=\"47\" width=\"2134\" height=\"1377\"/>\n",
       "  </clipPath>\n",
       "</defs>\n",
       "<polyline clip-path=\"url(#clip942)\" style=\"stroke:#000000; stroke-linecap:round; stroke-linejoin:round; stroke-width:2; stroke-opacity:0.1; fill:none\" points=\"421.082,1423.18 421.082,47.2441 \"/>\n",
       "<polyline clip-path=\"url(#clip942)\" style=\"stroke:#000000; stroke-linecap:round; stroke-linejoin:round; stroke-width:2; stroke-opacity:0.1; fill:none\" points=\"823.514,1423.18 823.514,47.2441 \"/>\n",
       "<polyline clip-path=\"url(#clip942)\" style=\"stroke:#000000; stroke-linecap:round; stroke-linejoin:round; stroke-width:2; stroke-opacity:0.1; fill:none\" points=\"1225.95,1423.18 1225.95,47.2441 \"/>\n",
       "<polyline clip-path=\"url(#clip942)\" style=\"stroke:#000000; stroke-linecap:round; stroke-linejoin:round; stroke-width:2; stroke-opacity:0.1; fill:none\" points=\"1628.38,1423.18 1628.38,47.2441 \"/>\n",
       "<polyline clip-path=\"url(#clip942)\" style=\"stroke:#000000; stroke-linecap:round; stroke-linejoin:round; stroke-width:2; stroke-opacity:0.1; fill:none\" points=\"2030.81,1423.18 2030.81,47.2441 \"/>\n",
       "<polyline clip-path=\"url(#clip940)\" style=\"stroke:#000000; stroke-linecap:round; stroke-linejoin:round; stroke-width:4; stroke-opacity:1; fill:none\" points=\"219.866,1423.18 2352.76,1423.18 \"/>\n",
       "<polyline clip-path=\"url(#clip940)\" style=\"stroke:#000000; stroke-linecap:round; stroke-linejoin:round; stroke-width:4; stroke-opacity:1; fill:none\" points=\"421.082,1423.18 421.082,1404.28 \"/>\n",
       "<polyline clip-path=\"url(#clip940)\" style=\"stroke:#000000; stroke-linecap:round; stroke-linejoin:round; stroke-width:4; stroke-opacity:1; fill:none\" points=\"823.514,1423.18 823.514,1404.28 \"/>\n",
       "<polyline clip-path=\"url(#clip940)\" style=\"stroke:#000000; stroke-linecap:round; stroke-linejoin:round; stroke-width:4; stroke-opacity:1; fill:none\" points=\"1225.95,1423.18 1225.95,1404.28 \"/>\n",
       "<polyline clip-path=\"url(#clip940)\" style=\"stroke:#000000; stroke-linecap:round; stroke-linejoin:round; stroke-width:4; stroke-opacity:1; fill:none\" points=\"1628.38,1423.18 1628.38,1404.28 \"/>\n",
       "<polyline clip-path=\"url(#clip940)\" style=\"stroke:#000000; stroke-linecap:round; stroke-linejoin:round; stroke-width:4; stroke-opacity:1; fill:none\" points=\"2030.81,1423.18 2030.81,1404.28 \"/>\n",
       "<path clip-path=\"url(#clip940)\" d=\"M365.608 1481.64 L373.247 1481.64 L373.247 1455.28 L364.937 1456.95 L364.937 1452.69 L373.201 1451.02 L377.876 1451.02 L377.876 1481.64 L385.515 1481.64 L385.515 1485.58 L365.608 1485.58 L365.608 1481.64 Z\" fill=\"#000000\" fill-rule=\"evenodd\" fill-opacity=\"1\" /><path clip-path=\"url(#clip940)\" d=\"M395.099 1484.86 L395.099 1480.6 Q396.858 1481.44 398.663 1481.88 Q400.469 1482.32 402.205 1482.32 Q406.835 1482.32 409.265 1479.21 Q411.719 1476.09 412.066 1469.75 Q410.724 1471.74 408.663 1472.8 Q406.603 1473.87 404.103 1473.87 Q398.918 1473.87 395.886 1470.74 Q392.876 1467.59 392.876 1462.15 Q392.876 1456.83 396.025 1453.61 Q399.173 1450.39 404.404 1450.39 Q410.399 1450.39 413.548 1455 Q416.719 1459.58 416.719 1468.33 Q416.719 1476.51 412.83 1481.39 Q408.964 1486.25 402.413 1486.25 Q400.654 1486.25 398.849 1485.9 Q397.043 1485.56 395.099 1484.86 M404.404 1470.21 Q407.552 1470.21 409.381 1468.06 Q411.233 1465.9 411.233 1462.15 Q411.233 1458.43 409.381 1456.27 Q407.552 1454.1 404.404 1454.1 Q401.256 1454.1 399.404 1456.27 Q397.575 1458.43 397.575 1462.15 Q397.575 1465.9 399.404 1468.06 Q401.256 1470.21 404.404 1470.21 Z\" fill=\"#000000\" fill-rule=\"evenodd\" fill-opacity=\"1\" /><path clip-path=\"url(#clip940)\" d=\"M429.149 1481.64 L445.469 1481.64 L445.469 1485.58 L423.524 1485.58 L423.524 1481.64 Q426.186 1478.89 430.77 1474.26 Q435.376 1469.61 436.557 1468.27 Q438.802 1465.74 439.682 1464.01 Q440.584 1462.25 440.584 1460.56 Q440.584 1457.8 438.64 1456.07 Q436.719 1454.33 433.617 1454.33 Q431.418 1454.33 428.964 1455.09 Q426.534 1455.86 423.756 1457.41 L423.756 1452.69 Q426.58 1451.55 429.034 1450.97 Q431.487 1450.39 433.524 1450.39 Q438.895 1450.39 442.089 1453.08 Q445.284 1455.77 445.284 1460.26 Q445.284 1462.39 444.473 1464.31 Q443.686 1466.2 441.58 1468.8 Q441.001 1469.47 437.899 1472.69 Q434.797 1475.88 429.149 1481.64 Z\" fill=\"#000000\" fill-rule=\"evenodd\" fill-opacity=\"1\" /><path clip-path=\"url(#clip940)\" d=\"M465.283 1454.1 Q461.672 1454.1 459.844 1457.66 Q458.038 1461.2 458.038 1468.33 Q458.038 1475.44 459.844 1479.01 Q461.672 1482.55 465.283 1482.55 Q468.918 1482.55 470.723 1479.01 Q472.552 1475.44 472.552 1468.33 Q472.552 1461.2 470.723 1457.66 Q468.918 1454.1 465.283 1454.1 M465.283 1450.39 Q471.094 1450.39 474.149 1455 Q477.228 1459.58 477.228 1468.33 Q477.228 1477.06 474.149 1481.67 Q471.094 1486.25 465.283 1486.25 Q459.473 1486.25 456.395 1481.67 Q453.339 1477.06 453.339 1468.33 Q453.339 1459.58 456.395 1455 Q459.473 1450.39 465.283 1450.39 Z\" fill=\"#000000\" fill-rule=\"evenodd\" fill-opacity=\"1\" /><path clip-path=\"url(#clip940)\" d=\"M768.04 1481.64 L775.679 1481.64 L775.679 1455.28 L767.369 1456.95 L767.369 1452.69 L775.633 1451.02 L780.308 1451.02 L780.308 1481.64 L787.947 1481.64 L787.947 1485.58 L768.04 1485.58 L768.04 1481.64 Z\" fill=\"#000000\" fill-rule=\"evenodd\" fill-opacity=\"1\" /><path clip-path=\"url(#clip940)\" d=\"M797.531 1484.86 L797.531 1480.6 Q799.29 1481.44 801.095 1481.88 Q802.901 1482.32 804.637 1482.32 Q809.267 1482.32 811.697 1479.21 Q814.151 1476.09 814.498 1469.75 Q813.156 1471.74 811.095 1472.8 Q809.035 1473.87 806.535 1473.87 Q801.35 1473.87 798.318 1470.74 Q795.308 1467.59 795.308 1462.15 Q795.308 1456.83 798.457 1453.61 Q801.605 1450.39 806.836 1450.39 Q812.831 1450.39 815.98 1455 Q819.151 1459.58 819.151 1468.33 Q819.151 1476.51 815.262 1481.39 Q811.396 1486.25 804.845 1486.25 Q803.086 1486.25 801.281 1485.9 Q799.475 1485.56 797.531 1484.86 M806.836 1470.21 Q809.984 1470.21 811.813 1468.06 Q813.665 1465.9 813.665 1462.15 Q813.665 1458.43 811.813 1456.27 Q809.984 1454.1 806.836 1454.1 Q803.688 1454.1 801.836 1456.27 Q800.007 1458.43 800.007 1462.15 Q800.007 1465.9 801.836 1468.06 Q803.688 1470.21 806.836 1470.21 Z\" fill=\"#000000\" fill-rule=\"evenodd\" fill-opacity=\"1\" /><path clip-path=\"url(#clip940)\" d=\"M840.401 1455.09 L828.595 1473.54 L840.401 1473.54 L840.401 1455.09 M839.174 1451.02 L845.054 1451.02 L845.054 1473.54 L849.984 1473.54 L849.984 1477.43 L845.054 1477.43 L845.054 1485.58 L840.401 1485.58 L840.401 1477.43 L824.799 1477.43 L824.799 1472.92 L839.174 1451.02 Z\" fill=\"#000000\" fill-rule=\"evenodd\" fill-opacity=\"1\" /><path clip-path=\"url(#clip940)\" d=\"M867.715 1454.1 Q864.104 1454.1 862.276 1457.66 Q860.47 1461.2 860.47 1468.33 Q860.47 1475.44 862.276 1479.01 Q864.104 1482.55 867.715 1482.55 Q871.35 1482.55 873.155 1479.01 Q874.984 1475.44 874.984 1468.33 Q874.984 1461.2 873.155 1457.66 Q871.35 1454.1 867.715 1454.1 M867.715 1450.39 Q873.526 1450.39 876.581 1455 Q879.66 1459.58 879.66 1468.33 Q879.66 1477.06 876.581 1481.67 Q873.526 1486.25 867.715 1486.25 Q861.905 1486.25 858.827 1481.67 Q855.771 1477.06 855.771 1468.33 Q855.771 1459.58 858.827 1455 Q861.905 1450.39 867.715 1450.39 Z\" fill=\"#000000\" fill-rule=\"evenodd\" fill-opacity=\"1\" /><path clip-path=\"url(#clip940)\" d=\"M1170.47 1481.64 L1178.11 1481.64 L1178.11 1455.28 L1169.8 1456.95 L1169.8 1452.69 L1178.06 1451.02 L1182.74 1451.02 L1182.74 1481.64 L1190.38 1481.64 L1190.38 1485.58 L1170.47 1485.58 L1170.47 1481.64 Z\" fill=\"#000000\" fill-rule=\"evenodd\" fill-opacity=\"1\" /><path clip-path=\"url(#clip940)\" d=\"M1199.96 1484.86 L1199.96 1480.6 Q1201.72 1481.44 1203.53 1481.88 Q1205.33 1482.32 1207.07 1482.32 Q1211.7 1482.32 1214.13 1479.21 Q1216.58 1476.09 1216.93 1469.75 Q1215.59 1471.74 1213.53 1472.8 Q1211.47 1473.87 1208.97 1473.87 Q1203.78 1473.87 1200.75 1470.74 Q1197.74 1467.59 1197.74 1462.15 Q1197.74 1456.83 1200.89 1453.61 Q1204.04 1450.39 1209.27 1450.39 Q1215.26 1450.39 1218.41 1455 Q1221.58 1459.58 1221.58 1468.33 Q1221.58 1476.51 1217.69 1481.39 Q1213.83 1486.25 1207.28 1486.25 Q1205.52 1486.25 1203.71 1485.9 Q1201.91 1485.56 1199.96 1484.86 M1209.27 1470.21 Q1212.42 1470.21 1214.24 1468.06 Q1216.1 1465.9 1216.1 1462.15 Q1216.1 1458.43 1214.24 1456.27 Q1212.42 1454.1 1209.27 1454.1 Q1206.12 1454.1 1204.27 1456.27 Q1202.44 1458.43 1202.44 1462.15 Q1202.44 1465.9 1204.27 1468.06 Q1206.12 1470.21 1209.27 1470.21 Z\" fill=\"#000000\" fill-rule=\"evenodd\" fill-opacity=\"1\" /><path clip-path=\"url(#clip940)\" d=\"M1240.56 1466.44 Q1237.42 1466.44 1235.56 1468.59 Q1233.74 1470.74 1233.74 1474.49 Q1233.74 1478.22 1235.56 1480.39 Q1237.42 1482.55 1240.56 1482.55 Q1243.71 1482.55 1245.54 1480.39 Q1247.39 1478.22 1247.39 1474.49 Q1247.39 1470.74 1245.54 1468.59 Q1243.71 1466.44 1240.56 1466.44 M1249.85 1451.78 L1249.85 1456.04 Q1248.09 1455.21 1246.28 1454.77 Q1244.5 1454.33 1242.74 1454.33 Q1238.11 1454.33 1235.66 1457.45 Q1233.23 1460.58 1232.88 1466.9 Q1234.24 1464.89 1236.31 1463.82 Q1238.37 1462.73 1240.84 1462.73 Q1246.05 1462.73 1249.06 1465.9 Q1252.09 1469.05 1252.09 1474.49 Q1252.09 1479.82 1248.94 1483.03 Q1245.8 1486.25 1240.56 1486.25 Q1234.57 1486.25 1231.4 1481.67 Q1228.23 1477.06 1228.23 1468.33 Q1228.23 1460.14 1232.12 1455.28 Q1236 1450.39 1242.55 1450.39 Q1244.31 1450.39 1246.1 1450.74 Q1247.9 1451.09 1249.85 1451.78 Z\" fill=\"#000000\" fill-rule=\"evenodd\" fill-opacity=\"1\" /><path clip-path=\"url(#clip940)\" d=\"M1270.15 1454.1 Q1266.54 1454.1 1264.71 1457.66 Q1262.9 1461.2 1262.9 1468.33 Q1262.9 1475.44 1264.71 1479.01 Q1266.54 1482.55 1270.15 1482.55 Q1273.78 1482.55 1275.59 1479.01 Q1277.42 1475.44 1277.42 1468.33 Q1277.42 1461.2 1275.59 1457.66 Q1273.78 1454.1 1270.15 1454.1 M1270.15 1450.39 Q1275.96 1450.39 1279.01 1455 Q1282.09 1459.58 1282.09 1468.33 Q1282.09 1477.06 1279.01 1481.67 Q1275.96 1486.25 1270.15 1486.25 Q1264.34 1486.25 1261.26 1481.67 Q1258.2 1477.06 1258.2 1468.33 Q1258.2 1459.58 1261.26 1455 Q1264.34 1450.39 1270.15 1450.39 Z\" fill=\"#000000\" fill-rule=\"evenodd\" fill-opacity=\"1\" /><path clip-path=\"url(#clip940)\" d=\"M1572.9 1481.64 L1580.54 1481.64 L1580.54 1455.28 L1572.23 1456.95 L1572.23 1452.69 L1580.5 1451.02 L1585.17 1451.02 L1585.17 1481.64 L1592.81 1481.64 L1592.81 1485.58 L1572.9 1485.58 L1572.9 1481.64 Z\" fill=\"#000000\" fill-rule=\"evenodd\" fill-opacity=\"1\" /><path clip-path=\"url(#clip940)\" d=\"M1602.39 1484.86 L1602.39 1480.6 Q1604.15 1481.44 1605.96 1481.88 Q1607.76 1482.32 1609.5 1482.32 Q1614.13 1482.32 1616.56 1479.21 Q1619.01 1476.09 1619.36 1469.75 Q1618.02 1471.74 1615.96 1472.8 Q1613.9 1473.87 1611.4 1473.87 Q1606.21 1473.87 1603.18 1470.74 Q1600.17 1467.59 1600.17 1462.15 Q1600.17 1456.83 1603.32 1453.61 Q1606.47 1450.39 1611.7 1450.39 Q1617.7 1450.39 1620.84 1455 Q1624.01 1459.58 1624.01 1468.33 Q1624.01 1476.51 1620.13 1481.39 Q1616.26 1486.25 1609.71 1486.25 Q1607.95 1486.25 1606.14 1485.9 Q1604.34 1485.56 1602.39 1484.86 M1611.7 1470.21 Q1614.85 1470.21 1616.68 1468.06 Q1618.53 1465.9 1618.53 1462.15 Q1618.53 1458.43 1616.68 1456.27 Q1614.85 1454.1 1611.7 1454.1 Q1608.55 1454.1 1606.7 1456.27 Q1604.87 1458.43 1604.87 1462.15 Q1604.87 1465.9 1606.7 1468.06 Q1608.55 1470.21 1611.7 1470.21 Z\" fill=\"#000000\" fill-rule=\"evenodd\" fill-opacity=\"1\" /><path clip-path=\"url(#clip940)\" d=\"M1642.42 1469.17 Q1639.08 1469.17 1637.16 1470.95 Q1635.26 1472.73 1635.26 1475.86 Q1635.26 1478.98 1637.16 1480.77 Q1639.08 1482.55 1642.42 1482.55 Q1645.75 1482.55 1647.67 1480.77 Q1649.59 1478.96 1649.59 1475.86 Q1649.59 1472.73 1647.67 1470.95 Q1645.77 1469.17 1642.42 1469.17 M1637.74 1467.18 Q1634.73 1466.44 1633.04 1464.38 Q1631.38 1462.32 1631.38 1459.35 Q1631.38 1455.21 1634.32 1452.8 Q1637.28 1450.39 1642.42 1450.39 Q1647.58 1450.39 1650.52 1452.8 Q1653.46 1455.21 1653.46 1459.35 Q1653.46 1462.32 1651.77 1464.38 Q1650.1 1466.44 1647.12 1467.18 Q1650.5 1467.96 1652.37 1470.26 Q1654.27 1472.55 1654.27 1475.86 Q1654.27 1480.88 1651.19 1483.57 Q1648.14 1486.25 1642.42 1486.25 Q1636.7 1486.25 1633.62 1483.57 Q1630.57 1480.88 1630.57 1475.86 Q1630.57 1472.55 1632.46 1470.26 Q1634.36 1467.96 1637.74 1467.18 M1636.03 1459.79 Q1636.03 1462.48 1637.7 1463.98 Q1639.39 1465.49 1642.42 1465.49 Q1645.43 1465.49 1647.12 1463.98 Q1648.83 1462.48 1648.83 1459.79 Q1648.83 1457.11 1647.12 1455.6 Q1645.43 1454.1 1642.42 1454.1 Q1639.39 1454.1 1637.7 1455.6 Q1636.03 1457.11 1636.03 1459.79 Z\" fill=\"#000000\" fill-rule=\"evenodd\" fill-opacity=\"1\" /><path clip-path=\"url(#clip940)\" d=\"M1672.58 1454.1 Q1668.97 1454.1 1667.14 1457.66 Q1665.33 1461.2 1665.33 1468.33 Q1665.33 1475.44 1667.14 1479.01 Q1668.97 1482.55 1672.58 1482.55 Q1676.21 1482.55 1678.02 1479.01 Q1679.85 1475.44 1679.85 1468.33 Q1679.85 1461.2 1678.02 1457.66 Q1676.21 1454.1 1672.58 1454.1 M1672.58 1450.39 Q1678.39 1450.39 1681.45 1455 Q1684.52 1459.58 1684.52 1468.33 Q1684.52 1477.06 1681.45 1481.67 Q1678.39 1486.25 1672.58 1486.25 Q1666.77 1486.25 1663.69 1481.67 Q1660.64 1477.06 1660.64 1468.33 Q1660.64 1459.58 1663.69 1455 Q1666.77 1450.39 1672.58 1450.39 Z\" fill=\"#000000\" fill-rule=\"evenodd\" fill-opacity=\"1\" /><path clip-path=\"url(#clip940)\" d=\"M1979.42 1481.64 L1995.74 1481.64 L1995.74 1485.58 L1973.8 1485.58 L1973.8 1481.64 Q1976.46 1478.89 1981.04 1474.26 Q1985.65 1469.61 1986.83 1468.27 Q1989.07 1465.74 1989.95 1464.01 Q1990.86 1462.25 1990.86 1460.56 Q1990.86 1457.8 1988.91 1456.07 Q1986.99 1454.33 1983.89 1454.33 Q1981.69 1454.33 1979.24 1455.09 Q1976.81 1455.86 1974.03 1457.41 L1974.03 1452.69 Q1976.85 1451.55 1979.31 1450.97 Q1981.76 1450.39 1983.8 1450.39 Q1989.17 1450.39 1992.36 1453.08 Q1995.56 1455.77 1995.56 1460.26 Q1995.56 1462.39 1994.75 1464.31 Q1993.96 1466.2 1991.85 1468.8 Q1991.27 1469.47 1988.17 1472.69 Q1985.07 1475.88 1979.42 1481.64 Z\" fill=\"#000000\" fill-rule=\"evenodd\" fill-opacity=\"1\" /><path clip-path=\"url(#clip940)\" d=\"M2015.56 1454.1 Q2011.94 1454.1 2010.12 1457.66 Q2008.31 1461.2 2008.31 1468.33 Q2008.31 1475.44 2010.12 1479.01 Q2011.94 1482.55 2015.56 1482.55 Q2019.19 1482.55 2021 1479.01 Q2022.82 1475.44 2022.82 1468.33 Q2022.82 1461.2 2021 1457.66 Q2019.19 1454.1 2015.56 1454.1 M2015.56 1450.39 Q2021.37 1450.39 2024.42 1455 Q2027.5 1459.58 2027.5 1468.33 Q2027.5 1477.06 2024.42 1481.67 Q2021.37 1486.25 2015.56 1486.25 Q2009.75 1486.25 2006.67 1481.67 Q2003.61 1477.06 2003.61 1468.33 Q2003.61 1459.58 2006.67 1455 Q2009.75 1450.39 2015.56 1450.39 Z\" fill=\"#000000\" fill-rule=\"evenodd\" fill-opacity=\"1\" /><path clip-path=\"url(#clip940)\" d=\"M2045.72 1454.1 Q2042.11 1454.1 2040.28 1457.66 Q2038.47 1461.2 2038.47 1468.33 Q2038.47 1475.44 2040.28 1479.01 Q2042.11 1482.55 2045.72 1482.55 Q2049.35 1482.55 2051.16 1479.01 Q2052.99 1475.44 2052.99 1468.33 Q2052.99 1461.2 2051.16 1457.66 Q2049.35 1454.1 2045.72 1454.1 M2045.72 1450.39 Q2051.53 1450.39 2054.58 1455 Q2057.66 1459.58 2057.66 1468.33 Q2057.66 1477.06 2054.58 1481.67 Q2051.53 1486.25 2045.72 1486.25 Q2039.91 1486.25 2036.83 1481.67 Q2033.77 1477.06 2033.77 1468.33 Q2033.77 1459.58 2036.83 1455 Q2039.91 1450.39 2045.72 1450.39 Z\" fill=\"#000000\" fill-rule=\"evenodd\" fill-opacity=\"1\" /><path clip-path=\"url(#clip940)\" d=\"M2075.88 1454.1 Q2072.27 1454.1 2070.44 1457.66 Q2068.63 1461.2 2068.63 1468.33 Q2068.63 1475.44 2070.44 1479.01 Q2072.27 1482.55 2075.88 1482.55 Q2079.51 1482.55 2081.32 1479.01 Q2083.15 1475.44 2083.15 1468.33 Q2083.15 1461.2 2081.32 1457.66 Q2079.51 1454.1 2075.88 1454.1 M2075.88 1450.39 Q2081.69 1450.39 2084.75 1455 Q2087.82 1459.58 2087.82 1468.33 Q2087.82 1477.06 2084.75 1481.67 Q2081.69 1486.25 2075.88 1486.25 Q2070.07 1486.25 2066.99 1481.67 Q2063.94 1477.06 2063.94 1468.33 Q2063.94 1459.58 2066.99 1455 Q2070.07 1450.39 2075.88 1450.39 Z\" fill=\"#000000\" fill-rule=\"evenodd\" fill-opacity=\"1\" /><path clip-path=\"url(#clip940)\" d=\"M1233.6 1571.35 Q1231.12 1577.72 1228.77 1579.66 Q1226.41 1581.6 1222.46 1581.6 L1217.78 1581.6 L1217.78 1576.7 L1221.22 1576.7 Q1223.64 1576.7 1224.98 1575.56 Q1226.31 1574.41 1227.94 1570.14 L1228.99 1567.47 L1214.57 1532.4 L1220.78 1532.4 L1231.92 1560.28 L1243.06 1532.4 L1249.26 1532.4 L1233.6 1571.35 Z\" fill=\"#000000\" fill-rule=\"evenodd\" fill-opacity=\"1\" /><path clip-path=\"url(#clip940)\" d=\"M1287.84 1548.76 L1287.84 1551.62 L1260.91 1551.62 Q1261.29 1557.67 1264.54 1560.85 Q1267.82 1564 1273.64 1564 Q1277.02 1564 1280.17 1563.17 Q1283.35 1562.35 1286.47 1560.69 L1286.47 1566.23 Q1283.32 1567.57 1280.01 1568.27 Q1276.7 1568.97 1273.29 1568.97 Q1264.76 1568.97 1259.77 1564 Q1254.8 1559.04 1254.8 1550.57 Q1254.8 1541.82 1259.51 1536.69 Q1264.25 1531.54 1272.27 1531.54 Q1279.47 1531.54 1283.64 1536.18 Q1287.84 1540.8 1287.84 1548.76 M1281.98 1547.04 Q1281.92 1542.23 1279.28 1539.37 Q1276.67 1536.5 1272.34 1536.5 Q1267.44 1536.5 1264.48 1539.27 Q1261.55 1542.04 1261.1 1547.07 L1281.98 1547.04 Z\" fill=\"#000000\" fill-rule=\"evenodd\" fill-opacity=\"1\" /><path clip-path=\"url(#clip940)\" d=\"M1313.65 1550.12 Q1306.55 1550.12 1303.82 1551.75 Q1301.08 1553.37 1301.08 1557.29 Q1301.08 1560.4 1303.12 1562.25 Q1305.19 1564.07 1308.72 1564.07 Q1313.59 1564.07 1316.52 1560.63 Q1319.48 1557.16 1319.48 1551.43 L1319.48 1550.12 L1313.65 1550.12 M1325.33 1547.71 L1325.33 1568.04 L1319.48 1568.04 L1319.48 1562.63 Q1317.47 1565.88 1314.48 1567.44 Q1311.49 1568.97 1307.16 1568.97 Q1301.68 1568.97 1298.44 1565.91 Q1295.22 1562.82 1295.22 1557.67 Q1295.22 1551.65 1299.23 1548.6 Q1303.28 1545.54 1311.26 1545.54 L1319.48 1545.54 L1319.48 1544.97 Q1319.48 1540.93 1316.8 1538.73 Q1314.16 1536.5 1309.35 1536.5 Q1306.3 1536.5 1303.4 1537.23 Q1300.51 1537.97 1297.83 1539.43 L1297.83 1534.02 Q1301.05 1532.78 1304.07 1532.17 Q1307.1 1531.54 1309.96 1531.54 Q1317.69 1531.54 1321.51 1535.55 Q1325.33 1539.56 1325.33 1547.71 Z\" fill=\"#000000\" fill-rule=\"evenodd\" fill-opacity=\"1\" /><path clip-path=\"url(#clip940)\" d=\"M1358.05 1537.87 Q1357.07 1537.3 1355.89 1537.04 Q1354.74 1536.76 1353.34 1536.76 Q1348.38 1536.76 1345.7 1540 Q1343.06 1543.22 1343.06 1549.27 L1343.06 1568.04 L1337.17 1568.04 L1337.17 1532.4 L1343.06 1532.4 L1343.06 1537.93 Q1344.91 1534.69 1347.87 1533.13 Q1350.83 1531.54 1355.06 1531.54 Q1355.67 1531.54 1356.4 1531.63 Q1357.13 1531.7 1358.02 1531.85 L1358.05 1537.87 Z\" fill=\"#000000\" fill-rule=\"evenodd\" fill-opacity=\"1\" /><polyline clip-path=\"url(#clip942)\" style=\"stroke:#000000; stroke-linecap:round; stroke-linejoin:round; stroke-width:2; stroke-opacity:0.1; fill:none\" points=\"219.866,1384.24 2352.76,1384.24 \"/>\n",
       "<polyline clip-path=\"url(#clip942)\" style=\"stroke:#000000; stroke-linecap:round; stroke-linejoin:round; stroke-width:2; stroke-opacity:0.1; fill:none\" points=\"219.866,1124.63 2352.76,1124.63 \"/>\n",
       "<polyline clip-path=\"url(#clip942)\" style=\"stroke:#000000; stroke-linecap:round; stroke-linejoin:round; stroke-width:2; stroke-opacity:0.1; fill:none\" points=\"219.866,865.017 2352.76,865.017 \"/>\n",
       "<polyline clip-path=\"url(#clip942)\" style=\"stroke:#000000; stroke-linecap:round; stroke-linejoin:round; stroke-width:2; stroke-opacity:0.1; fill:none\" points=\"219.866,605.407 2352.76,605.407 \"/>\n",
       "<polyline clip-path=\"url(#clip942)\" style=\"stroke:#000000; stroke-linecap:round; stroke-linejoin:round; stroke-width:2; stroke-opacity:0.1; fill:none\" points=\"219.866,345.796 2352.76,345.796 \"/>\n",
       "<polyline clip-path=\"url(#clip942)\" style=\"stroke:#000000; stroke-linecap:round; stroke-linejoin:round; stroke-width:2; stroke-opacity:0.1; fill:none\" points=\"219.866,86.1857 2352.76,86.1857 \"/>\n",
       "<polyline clip-path=\"url(#clip940)\" style=\"stroke:#000000; stroke-linecap:round; stroke-linejoin:round; stroke-width:4; stroke-opacity:1; fill:none\" points=\"219.866,1423.18 219.866,47.2441 \"/>\n",
       "<polyline clip-path=\"url(#clip940)\" style=\"stroke:#000000; stroke-linecap:round; stroke-linejoin:round; stroke-width:4; stroke-opacity:1; fill:none\" points=\"219.866,1384.24 238.764,1384.24 \"/>\n",
       "<polyline clip-path=\"url(#clip940)\" style=\"stroke:#000000; stroke-linecap:round; stroke-linejoin:round; stroke-width:4; stroke-opacity:1; fill:none\" points=\"219.866,1124.63 238.764,1124.63 \"/>\n",
       "<polyline clip-path=\"url(#clip940)\" style=\"stroke:#000000; stroke-linecap:round; stroke-linejoin:round; stroke-width:4; stroke-opacity:1; fill:none\" points=\"219.866,865.017 238.764,865.017 \"/>\n",
       "<polyline clip-path=\"url(#clip940)\" style=\"stroke:#000000; stroke-linecap:round; stroke-linejoin:round; stroke-width:4; stroke-opacity:1; fill:none\" points=\"219.866,605.407 238.764,605.407 \"/>\n",
       "<polyline clip-path=\"url(#clip940)\" style=\"stroke:#000000; stroke-linecap:round; stroke-linejoin:round; stroke-width:4; stroke-opacity:1; fill:none\" points=\"219.866,345.796 238.764,345.796 \"/>\n",
       "<polyline clip-path=\"url(#clip940)\" style=\"stroke:#000000; stroke-linecap:round; stroke-linejoin:round; stroke-width:4; stroke-opacity:1; fill:none\" points=\"219.866,86.1857 238.764,86.1857 \"/>\n",
       "<path clip-path=\"url(#clip940)\" d=\"M126.691 1370.04 Q123.08 1370.04 121.251 1373.6 Q119.445 1377.14 119.445 1384.27 Q119.445 1391.38 121.251 1394.94 Q123.08 1398.49 126.691 1398.49 Q130.325 1398.49 132.13 1394.94 Q133.959 1391.38 133.959 1384.27 Q133.959 1377.14 132.13 1373.6 Q130.325 1370.04 126.691 1370.04 M126.691 1366.33 Q132.501 1366.33 135.556 1370.94 Q138.635 1375.52 138.635 1384.27 Q138.635 1393 135.556 1397.61 Q132.501 1402.19 126.691 1402.19 Q120.88 1402.19 117.802 1397.61 Q114.746 1393 114.746 1384.27 Q114.746 1375.52 117.802 1370.94 Q120.88 1366.33 126.691 1366.33 Z\" fill=\"#000000\" fill-rule=\"evenodd\" fill-opacity=\"1\" /><path clip-path=\"url(#clip940)\" d=\"M146.853 1395.64 L151.737 1395.64 L151.737 1401.52 L146.853 1401.52 L146.853 1395.64 Z\" fill=\"#000000\" fill-rule=\"evenodd\" fill-opacity=\"1\" /><path clip-path=\"url(#clip940)\" d=\"M171.922 1370.04 Q168.311 1370.04 166.482 1373.6 Q164.677 1377.14 164.677 1384.27 Q164.677 1391.38 166.482 1394.94 Q168.311 1398.49 171.922 1398.49 Q175.556 1398.49 177.362 1394.94 Q179.19 1391.38 179.19 1384.27 Q179.19 1377.14 177.362 1373.6 Q175.556 1370.04 171.922 1370.04 M171.922 1366.33 Q177.732 1366.33 180.788 1370.94 Q183.866 1375.52 183.866 1384.27 Q183.866 1393 180.788 1397.61 Q177.732 1402.19 171.922 1402.19 Q166.112 1402.19 163.033 1397.61 Q159.978 1393 159.978 1384.27 Q159.978 1375.52 163.033 1370.94 Q166.112 1366.33 171.922 1366.33 Z\" fill=\"#000000\" fill-rule=\"evenodd\" fill-opacity=\"1\" /><path clip-path=\"url(#clip940)\" d=\"M127.917 1110.43 Q124.306 1110.43 122.478 1113.99 Q120.672 1117.53 120.672 1124.66 Q120.672 1131.77 122.478 1135.33 Q124.306 1138.88 127.917 1138.88 Q131.552 1138.88 133.357 1135.33 Q135.186 1131.77 135.186 1124.66 Q135.186 1117.53 133.357 1113.99 Q131.552 1110.43 127.917 1110.43 M127.917 1106.72 Q133.728 1106.72 136.783 1111.33 Q139.862 1115.91 139.862 1124.66 Q139.862 1133.39 136.783 1138 Q133.728 1142.58 127.917 1142.58 Q122.107 1142.58 119.029 1138 Q115.973 1133.39 115.973 1124.66 Q115.973 1115.91 119.029 1111.33 Q122.107 1106.72 127.917 1106.72 Z\" fill=\"#000000\" fill-rule=\"evenodd\" fill-opacity=\"1\" /><path clip-path=\"url(#clip940)\" d=\"M148.079 1136.03 L152.964 1136.03 L152.964 1141.91 L148.079 1141.91 L148.079 1136.03 Z\" fill=\"#000000\" fill-rule=\"evenodd\" fill-opacity=\"1\" /><path clip-path=\"url(#clip940)\" d=\"M163.959 1137.97 L171.598 1137.97 L171.598 1111.61 L163.288 1113.27 L163.288 1109.01 L171.552 1107.35 L176.227 1107.35 L176.227 1137.97 L183.866 1137.97 L183.866 1141.91 L163.959 1141.91 L163.959 1137.97 Z\" fill=\"#000000\" fill-rule=\"evenodd\" fill-opacity=\"1\" /><path clip-path=\"url(#clip940)\" d=\"M128.288 850.816 Q124.677 850.816 122.848 854.381 Q121.043 857.922 121.043 865.052 Q121.043 872.158 122.848 875.723 Q124.677 879.265 128.288 879.265 Q131.922 879.265 133.728 875.723 Q135.556 872.158 135.556 865.052 Q135.556 857.922 133.728 854.381 Q131.922 850.816 128.288 850.816 M128.288 847.112 Q134.098 847.112 137.154 851.719 Q140.232 856.302 140.232 865.052 Q140.232 873.779 137.154 878.385 Q134.098 882.969 128.288 882.969 Q122.478 882.969 119.399 878.385 Q116.343 873.779 116.343 865.052 Q116.343 856.302 119.399 851.719 Q122.478 847.112 128.288 847.112 Z\" fill=\"#000000\" fill-rule=\"evenodd\" fill-opacity=\"1\" /><path clip-path=\"url(#clip940)\" d=\"M148.45 876.418 L153.334 876.418 L153.334 882.297 L148.45 882.297 L148.45 876.418 Z\" fill=\"#000000\" fill-rule=\"evenodd\" fill-opacity=\"1\" /><path clip-path=\"url(#clip940)\" d=\"M167.547 878.362 L183.866 878.362 L183.866 882.297 L161.922 882.297 L161.922 878.362 Q164.584 875.607 169.167 870.978 Q173.774 866.325 174.954 864.983 Q177.2 862.459 178.079 860.723 Q178.982 858.964 178.982 857.274 Q178.982 854.52 177.038 852.783 Q175.116 851.047 172.014 851.047 Q169.815 851.047 167.362 851.811 Q164.931 852.575 162.153 854.126 L162.153 849.404 Q164.977 848.27 167.431 847.691 Q169.885 847.112 171.922 847.112 Q177.292 847.112 180.487 849.797 Q183.681 852.483 183.681 856.973 Q183.681 859.103 182.871 861.024 Q182.084 862.922 179.977 865.515 Q179.399 866.186 176.297 869.404 Q173.195 872.598 167.547 878.362 Z\" fill=\"#000000\" fill-rule=\"evenodd\" fill-opacity=\"1\" /><path clip-path=\"url(#clip940)\" d=\"M127.339 591.205 Q123.728 591.205 121.899 594.77 Q120.093 598.312 120.093 605.441 Q120.093 612.548 121.899 616.113 Q123.728 619.654 127.339 619.654 Q130.973 619.654 132.779 616.113 Q134.607 612.548 134.607 605.441 Q134.607 598.312 132.779 594.77 Q130.973 591.205 127.339 591.205 M127.339 587.502 Q133.149 587.502 136.204 592.108 Q139.283 596.691 139.283 605.441 Q139.283 614.168 136.204 618.775 Q133.149 623.358 127.339 623.358 Q121.529 623.358 118.45 618.775 Q115.394 614.168 115.394 605.441 Q115.394 596.691 118.45 592.108 Q121.529 587.502 127.339 587.502 Z\" fill=\"#000000\" fill-rule=\"evenodd\" fill-opacity=\"1\" /><path clip-path=\"url(#clip940)\" d=\"M147.501 616.807 L152.385 616.807 L152.385 622.687 L147.501 622.687 L147.501 616.807 Z\" fill=\"#000000\" fill-rule=\"evenodd\" fill-opacity=\"1\" /><path clip-path=\"url(#clip940)\" d=\"M176.737 604.053 Q180.093 604.77 181.968 607.039 Q183.866 609.307 183.866 612.64 Q183.866 617.756 180.348 620.557 Q176.829 623.358 170.348 623.358 Q168.172 623.358 165.857 622.918 Q163.565 622.502 161.112 621.645 L161.112 617.131 Q163.056 618.265 165.371 618.844 Q167.686 619.423 170.209 619.423 Q174.607 619.423 176.899 617.687 Q179.214 615.951 179.214 612.64 Q179.214 609.585 177.061 607.872 Q174.931 606.136 171.112 606.136 L167.084 606.136 L167.084 602.293 L171.297 602.293 Q174.746 602.293 176.575 600.928 Q178.403 599.539 178.403 596.946 Q178.403 594.284 176.505 592.872 Q174.63 591.437 171.112 591.437 Q169.19 591.437 166.991 591.854 Q164.792 592.27 162.153 593.15 L162.153 588.983 Q164.815 588.242 167.13 587.872 Q169.468 587.502 171.528 587.502 Q176.852 587.502 179.954 589.932 Q183.056 592.34 183.056 596.46 Q183.056 599.33 181.413 601.321 Q179.769 603.289 176.737 604.053 Z\" fill=\"#000000\" fill-rule=\"evenodd\" fill-opacity=\"1\" /><path clip-path=\"url(#clip940)\" d=\"M126.205 331.595 Q122.593 331.595 120.765 335.16 Q118.959 338.701 118.959 345.831 Q118.959 352.937 120.765 356.502 Q122.593 360.044 126.205 360.044 Q129.839 360.044 131.644 356.502 Q133.473 352.937 133.473 345.831 Q133.473 338.701 131.644 335.16 Q129.839 331.595 126.205 331.595 M126.205 327.891 Q132.015 327.891 135.07 332.498 Q138.149 337.081 138.149 345.831 Q138.149 354.558 135.07 359.164 Q132.015 363.747 126.205 363.747 Q120.394 363.747 117.316 359.164 Q114.26 354.558 114.26 345.831 Q114.26 337.081 117.316 332.498 Q120.394 327.891 126.205 327.891 Z\" fill=\"#000000\" fill-rule=\"evenodd\" fill-opacity=\"1\" /><path clip-path=\"url(#clip940)\" d=\"M146.366 357.197 L151.251 357.197 L151.251 363.076 L146.366 363.076 L146.366 357.197 Z\" fill=\"#000000\" fill-rule=\"evenodd\" fill-opacity=\"1\" /><path clip-path=\"url(#clip940)\" d=\"M174.283 332.59 L162.477 351.039 L174.283 351.039 L174.283 332.59 M173.056 328.516 L178.936 328.516 L178.936 351.039 L183.866 351.039 L183.866 354.928 L178.936 354.928 L178.936 363.076 L174.283 363.076 L174.283 354.928 L158.681 354.928 L158.681 350.414 L173.056 328.516 Z\" fill=\"#000000\" fill-rule=\"evenodd\" fill-opacity=\"1\" /><path clip-path=\"url(#clip940)\" d=\"M127.686 71.9844 Q124.075 71.9844 122.246 75.5492 Q120.441 79.0908 120.441 86.2204 Q120.441 93.3268 122.246 96.8916 Q124.075 100.433 127.686 100.433 Q131.32 100.433 133.126 96.8916 Q134.954 93.3268 134.954 86.2204 Q134.954 79.0908 133.126 75.5492 Q131.32 71.9844 127.686 71.9844 M127.686 68.2807 Q133.496 68.2807 136.552 72.8871 Q139.63 77.4704 139.63 86.2204 Q139.63 94.9472 136.552 99.5537 Q133.496 104.137 127.686 104.137 Q121.876 104.137 118.797 99.5537 Q115.742 94.9472 115.742 86.2204 Q115.742 77.4704 118.797 72.8871 Q121.876 68.2807 127.686 68.2807 Z\" fill=\"#000000\" fill-rule=\"evenodd\" fill-opacity=\"1\" /><path clip-path=\"url(#clip940)\" d=\"M147.848 97.5861 L152.732 97.5861 L152.732 103.466 L147.848 103.466 L147.848 97.5861 Z\" fill=\"#000000\" fill-rule=\"evenodd\" fill-opacity=\"1\" /><path clip-path=\"url(#clip940)\" d=\"M162.964 68.9057 L181.32 68.9057 L181.32 72.8408 L167.246 72.8408 L167.246 81.313 Q168.264 80.9658 169.283 80.8038 Q170.302 80.6186 171.32 80.6186 Q177.107 80.6186 180.487 83.7899 Q183.866 86.9611 183.866 92.3778 Q183.866 97.9564 180.394 101.058 Q176.922 104.137 170.602 104.137 Q168.427 104.137 166.158 103.767 Q163.913 103.396 161.505 102.655 L161.505 97.9564 Q163.589 99.0907 165.811 99.6462 Q168.033 100.202 170.51 100.202 Q174.514 100.202 176.852 98.0953 Q179.19 95.9889 179.19 92.3778 Q179.19 88.7667 176.852 86.6602 Q174.514 84.5537 170.51 84.5537 Q168.635 84.5537 166.76 84.9704 Q164.908 85.3871 162.964 86.2667 L162.964 68.9057 Z\" fill=\"#000000\" fill-rule=\"evenodd\" fill-opacity=\"1\" /><path clip-path=\"url(#clip940)\" d=\"M21.7677 1019.06 L58.7206 1019.06 L58.7206 1011.29 Q58.7206 1001.46 54.2646 996.906 Q49.8086 992.323 40.1964 992.323 Q30.6479 992.323 26.2237 996.906 Q21.7677 1001.46 21.7677 1011.29 L21.7677 1019.06 M16.4842 1025.49 L16.4842 1012.28 Q16.4842 998.466 22.2451 992.005 Q27.9743 985.543 40.1964 985.543 Q52.4822 985.543 58.2432 992.036 Q64.0042 998.529 64.0042 1012.28 L64.0042 1025.49 L16.4842 1025.49 Z\" fill=\"#000000\" fill-rule=\"evenodd\" fill-opacity=\"1\" /><path clip-path=\"url(#clip940)\" d=\"M33.8307 954.893 Q33.2578 955.879 33.0032 957.057 Q32.7167 958.203 32.7167 959.603 Q32.7167 964.568 35.9632 967.242 Q39.1779 969.884 45.2253 969.884 L64.0042 969.884 L64.0042 975.772 L28.3562 975.772 L28.3562 969.884 L33.8944 969.884 Q30.6479 968.038 29.0883 965.078 Q27.4968 962.118 27.4968 957.884 Q27.4968 957.28 27.5923 956.548 Q27.656 955.816 27.8151 954.924 L33.8307 954.893 Z\" fill=\"#000000\" fill-rule=\"evenodd\" fill-opacity=\"1\" /><path clip-path=\"url(#clip940)\" d=\"M46.0847 932.549 Q46.0847 939.647 47.7079 942.384 Q49.3312 945.121 53.2461 945.121 Q56.3653 945.121 58.2114 943.084 Q60.0256 941.015 60.0256 937.482 Q60.0256 932.613 56.5881 929.684 Q53.1188 926.724 47.3897 926.724 L46.0847 926.724 L46.0847 932.549 M43.6657 920.868 L64.0042 920.868 L64.0042 926.724 L58.5933 926.724 Q61.8398 928.729 63.3994 931.721 Q64.9272 934.713 64.9272 939.042 Q64.9272 944.516 61.8716 947.763 Q58.7843 950.978 53.6281 950.978 Q47.6125 950.978 44.5569 946.967 Q41.5014 942.925 41.5014 934.936 L41.5014 926.724 L40.9285 926.724 Q36.8862 926.724 34.6901 929.398 Q32.4621 932.04 32.4621 936.846 Q32.4621 939.901 33.1941 942.798 Q33.9262 945.694 35.3903 948.368 L29.9795 948.368 Q28.7381 945.153 28.1334 942.129 Q27.4968 939.106 27.4968 936.241 Q27.4968 928.507 31.5072 924.687 Q35.5176 920.868 43.6657 920.868 Z\" fill=\"#000000\" fill-rule=\"evenodd\" fill-opacity=\"1\" /><path clip-path=\"url(#clip940)\" d=\"M35.1993 881.05 Q31.2526 878.854 29.3747 875.799 Q27.4968 872.743 27.4968 868.605 Q27.4968 863.035 31.4117 860.012 Q35.2948 856.988 42.4881 856.988 L64.0042 856.988 L64.0042 862.876 L42.679 862.876 Q37.5546 862.876 35.072 864.69 Q32.5894 866.505 32.5894 870.229 Q32.5894 874.78 35.6131 877.422 Q38.6368 880.064 43.8567 880.064 L64.0042 880.064 L64.0042 885.952 L42.679 885.952 Q37.5228 885.952 35.072 887.766 Q32.5894 889.58 32.5894 893.368 Q32.5894 897.856 35.6449 900.498 Q38.6686 903.139 43.8567 903.139 L64.0042 903.139 L64.0042 909.028 L28.3562 909.028 L28.3562 903.139 L33.8944 903.139 Q30.616 901.134 29.0564 898.333 Q27.4968 895.532 27.4968 891.681 Q27.4968 887.798 29.4702 885.093 Q31.4436 882.355 35.1993 881.05 Z\" fill=\"#000000\" fill-rule=\"evenodd\" fill-opacity=\"1\" /><path clip-path=\"url(#clip940)\" d=\"M46.0847 829.106 Q46.0847 836.204 47.7079 838.941 Q49.3312 841.678 53.2461 841.678 Q56.3653 841.678 58.2114 839.641 Q60.0256 837.573 60.0256 834.04 Q60.0256 829.17 56.5881 826.242 Q53.1188 823.282 47.3897 823.282 L46.0847 823.282 L46.0847 829.106 M43.6657 817.425 L64.0042 817.425 L64.0042 823.282 L58.5933 823.282 Q61.8398 825.287 63.3994 828.279 Q64.9272 831.27 64.9272 835.599 Q64.9272 841.074 61.8716 844.32 Q58.7843 847.535 53.6281 847.535 Q47.6125 847.535 44.5569 843.524 Q41.5014 839.482 41.5014 831.493 L41.5014 823.282 L40.9285 823.282 Q36.8862 823.282 34.6901 825.955 Q32.4621 828.597 32.4621 833.403 Q32.4621 836.459 33.1941 839.355 Q33.9262 842.251 35.3903 844.925 L29.9795 844.925 Q28.7381 841.71 28.1334 838.687 Q27.4968 835.663 27.4968 832.798 Q27.4968 825.064 31.5072 821.244 Q35.5176 817.425 43.6657 817.425 Z\" fill=\"#000000\" fill-rule=\"evenodd\" fill-opacity=\"1\" /><path clip-path=\"url(#clip940)\" d=\"M58.657 778.976 L77.5631 778.976 L77.5631 784.864 L28.3562 784.864 L28.3562 778.976 L33.7671 778.976 Q30.5842 777.13 29.0564 774.329 Q27.4968 771.496 27.4968 767.582 Q27.4968 761.089 32.6531 757.046 Q37.8093 752.972 46.212 752.972 Q54.6147 752.972 59.771 757.046 Q64.9272 761.089 64.9272 767.582 Q64.9272 771.496 63.3994 774.329 Q61.8398 777.13 58.657 778.976 M46.212 759.052 Q39.7508 759.052 36.0905 761.725 Q32.3984 764.367 32.3984 769.014 Q32.3984 773.661 36.0905 776.334 Q39.7508 778.976 46.212 778.976 Q52.6732 778.976 56.3653 776.334 Q60.0256 773.661 60.0256 769.014 Q60.0256 764.367 56.3653 761.725 Q52.6732 759.052 46.212 759.052 Z\" fill=\"#000000\" fill-rule=\"evenodd\" fill-opacity=\"1\" /><path clip-path=\"url(#clip940)\" d=\"M33.8307 722.608 Q33.2578 723.595 33.0032 724.772 Q32.7167 725.918 32.7167 727.318 Q32.7167 732.284 35.9632 734.957 Q39.1779 737.599 45.2253 737.599 L64.0042 737.599 L64.0042 743.487 L28.3562 743.487 L28.3562 737.599 L33.8944 737.599 Q30.6479 735.753 29.0883 732.793 Q27.4968 729.833 27.4968 725.6 Q27.4968 724.995 27.5923 724.263 Q27.656 723.531 27.8151 722.64 L33.8307 722.608 Z\" fill=\"#000000\" fill-rule=\"evenodd\" fill-opacity=\"1\" /><path clip-path=\"url(#clip940)\" d=\"M32.4621 704.084 Q32.4621 708.794 36.1542 711.532 Q39.8145 714.269 46.212 714.269 Q52.6095 714.269 56.3017 711.563 Q59.9619 708.826 59.9619 704.084 Q59.9619 699.405 56.2698 696.668 Q52.5777 693.93 46.212 693.93 Q39.8781 693.93 36.186 696.668 Q32.4621 699.405 32.4621 704.084 M27.4968 704.084 Q27.4968 696.445 32.4621 692.084 Q37.4273 687.724 46.212 687.724 Q54.9649 687.724 59.9619 692.084 Q64.9272 696.445 64.9272 704.084 Q64.9272 711.754 59.9619 716.115 Q54.9649 720.444 46.212 720.444 Q37.4273 720.444 32.4621 716.115 Q27.4968 711.754 27.4968 704.084 Z\" fill=\"#000000\" fill-rule=\"evenodd\" fill-opacity=\"1\" /><path clip-path=\"url(#clip940)\" d=\"M46.212 652.426 Q39.7508 652.426 36.0905 655.1 Q32.3984 657.741 32.3984 662.388 Q32.3984 667.035 36.0905 669.709 Q39.7508 672.351 46.212 672.351 Q52.6732 672.351 56.3653 669.709 Q60.0256 667.035 60.0256 662.388 Q60.0256 657.741 56.3653 655.1 Q52.6732 652.426 46.212 652.426 M33.7671 672.351 Q30.5842 670.505 29.0564 667.704 Q27.4968 664.871 27.4968 660.956 Q27.4968 654.463 32.6531 650.421 Q37.8093 646.347 46.212 646.347 Q54.6147 646.347 59.771 650.421 Q64.9272 654.463 64.9272 660.956 Q64.9272 664.871 63.3994 667.704 Q61.8398 670.505 58.657 672.351 L64.0042 672.351 L64.0042 678.239 L14.479 678.239 L14.479 672.351 L33.7671 672.351 Z\" fill=\"#000000\" fill-rule=\"evenodd\" fill-opacity=\"1\" /><path clip-path=\"url(#clip940)\" d=\"M46.0847 620.438 Q46.0847 627.536 47.7079 630.273 Q49.3312 633.011 53.2461 633.011 Q56.3653 633.011 58.2114 630.974 Q60.0256 628.905 60.0256 625.372 Q60.0256 620.502 56.5881 617.574 Q53.1188 614.614 47.3897 614.614 L46.0847 614.614 L46.0847 620.438 M43.6657 608.757 L64.0042 608.757 L64.0042 614.614 L58.5933 614.614 Q61.8398 616.619 63.3994 619.611 Q64.9272 622.603 64.9272 626.931 Q64.9272 632.406 61.8716 635.652 Q58.7843 638.867 53.6281 638.867 Q47.6125 638.867 44.5569 634.857 Q41.5014 630.814 41.5014 622.825 L41.5014 614.614 L40.9285 614.614 Q36.8862 614.614 34.6901 617.287 Q32.4621 619.929 32.4621 624.735 Q32.4621 627.791 33.1941 630.687 Q33.9262 633.583 35.3903 636.257 L29.9795 636.257 Q28.7381 633.042 28.1334 630.019 Q27.4968 626.995 27.4968 624.13 Q27.4968 616.396 31.5072 612.577 Q35.5176 608.757 43.6657 608.757 Z\" fill=\"#000000\" fill-rule=\"evenodd\" fill-opacity=\"1\" /><path clip-path=\"url(#clip940)\" d=\"M46.212 571.104 Q39.7508 571.104 36.0905 573.778 Q32.3984 576.419 32.3984 581.066 Q32.3984 585.713 36.0905 588.387 Q39.7508 591.029 46.212 591.029 Q52.6732 591.029 56.3653 588.387 Q60.0256 585.713 60.0256 581.066 Q60.0256 576.419 56.3653 573.778 Q52.6732 571.104 46.212 571.104 M33.7671 591.029 Q30.5842 589.183 29.0564 586.382 Q27.4968 583.549 27.4968 579.634 Q27.4968 573.141 32.6531 569.099 Q37.8093 565.025 46.212 565.025 Q54.6147 565.025 59.771 569.099 Q64.9272 573.141 64.9272 579.634 Q64.9272 583.549 63.3994 586.382 Q61.8398 589.183 58.657 591.029 L64.0042 591.029 L64.0042 596.917 L14.479 596.917 L14.479 591.029 L33.7671 591.029 Z\" fill=\"#000000\" fill-rule=\"evenodd\" fill-opacity=\"1\" /><path clip-path=\"url(#clip940)\" d=\"M28.3562 555.317 L28.3562 549.461 L64.0042 549.461 L64.0042 555.317 L28.3562 555.317 M14.479 555.317 L14.479 549.461 L21.895 549.461 L21.895 555.317 L14.479 555.317 Z\" fill=\"#000000\" fill-rule=\"evenodd\" fill-opacity=\"1\" /><path clip-path=\"url(#clip940)\" d=\"M14.479 537.207 L14.479 531.35 L64.0042 531.35 L64.0042 537.207 L14.479 537.207 Z\" fill=\"#000000\" fill-rule=\"evenodd\" fill-opacity=\"1\" /><path clip-path=\"url(#clip940)\" d=\"M28.3562 519.096 L28.3562 513.24 L64.0042 513.24 L64.0042 519.096 L28.3562 519.096 M14.479 519.096 L14.479 513.24 L21.895 513.24 L21.895 519.096 L14.479 519.096 Z\" fill=\"#000000\" fill-rule=\"evenodd\" fill-opacity=\"1\" /><path clip-path=\"url(#clip940)\" d=\"M18.2347 495.193 L28.3562 495.193 L28.3562 483.13 L32.9077 483.13 L32.9077 495.193 L52.2594 495.193 Q56.6199 495.193 57.8613 494.015 Q59.1026 492.806 59.1026 489.146 L59.1026 483.13 L64.0042 483.13 L64.0042 489.146 Q64.0042 495.925 61.4897 498.503 Q58.9434 501.081 52.2594 501.081 L32.9077 501.081 L32.9077 505.378 L28.3562 505.378 L28.3562 501.081 L18.2347 501.081 L18.2347 495.193 Z\" fill=\"#000000\" fill-rule=\"evenodd\" fill-opacity=\"1\" /><path clip-path=\"url(#clip940)\" d=\"M67.3143 460.595 Q73.68 463.078 75.6216 465.433 Q77.5631 467.789 77.5631 471.735 L77.5631 476.414 L72.6615 476.414 L72.6615 472.977 Q72.6615 470.558 71.5157 469.221 Q70.3699 467.884 66.1048 466.261 L63.4312 465.211 L28.3562 479.629 L28.3562 473.422 L56.238 462.282 L28.3562 451.142 L28.3562 444.936 L67.3143 460.595 Z\" fill=\"#000000\" fill-rule=\"evenodd\" fill-opacity=\"1\" /><polyline clip-path=\"url(#clip942)\" style=\"stroke:#009af9; stroke-linecap:round; stroke-linejoin:round; stroke-width:4; stroke-opacity:1; fill:none\" points=\"280.231,1384.24 340.596,1384.24 360.717,1384.24 441.204,1384.24 461.325,1384.24 481.447,1384.24 501.569,86.1857 541.812,1384.24 582.055,1384.24 602.177,518.87 622.298,1384.24 642.42,1384.24 662.541,1384.24 682.663,1384.24 702.785,1384.24 722.906,1384.24 743.028,1384.24 763.149,86.1857 803.393,865.017 823.514,1384.24 843.636,1384.24 863.757,1384.24 883.879,1384.24 904.001,1384.24 924.122,1384.24 944.244,735.212 964.365,1384.24 984.487,1384.24 1004.61,1384.24 1024.73,1384.24 1044.85,1384.24 1064.97,1384.24 1085.1,1384.24 1105.22,1384.24 1125.34,1384.24 1145.46,951.554 1165.58,1384.24 1185.7,1384.24 1205.82,1384.24 1225.95,1384.24 1246.07,1384.24 1266.19,1184.54 1286.31,951.554 1306.43,1095.78 1326.55,1384.24 1346.68,1384.24 1366.8,1013.37 1386.92,1167.9 1407.04,1384.24 1427.16,1384.24 1447.28,1384.24 1467.41,1384.24 1487.53,1384.24 1507.65,1384.24 1527.77,1211.16 1547.89,1384.24 1568.01,1110.96 1588.14,1384.24 1608.26,1231.53 1628.38,1384.24 1648.5,1384.24 1668.62,1384.24 1688.74,984.837 1708.86,1072.71 1728.99,884.987 1749.11,1095.78 1769.23,978.597 1789.35,1155.17 1809.47,1084.69 1829.59,1059.73 1849.72,1045.62 1869.84,1038.09 1889.96,906.008 1910.08,1023.67 1930.2,1091.13 1950.32,1307.88 1970.45,1090.34 1990.57,1240.01 2010.69,1120.23 2030.81,1231.53 2050.93,1013.37 2071.05,1240.01 2091.18,1107.32 2111.3,1186.44 2131.42,1093.3 2151.54,961.616 2171.66,1075.18 2191.78,1170.63 2211.9,1033.41 2232.03,1133.74 2252.15,1231.05 2272.27,1212.86 2292.39,1200.98 \"/>\n",
       "</svg>\n"
      ]
     },
     "execution_count": 72,
     "metadata": {},
     "output_type": "execute_result"
    }
   ],
   "source": [
    "plot(names(drama_prop, 1), drama_prop[:, 2]; legend=false,\n",
    "            xlabel=\"year\", ylabel=\"Drama probability\")"
   ]
  },
  {
   "cell_type": "markdown",
   "id": "b4143cb8",
   "metadata": {},
   "source": [
    "### EXERCISE \n",
    "\n",
    "Create a plot of the number of movies by year, using the years variable."
   ]
  },
  {
   "cell_type": "code",
   "execution_count": null,
   "id": "75d884df",
   "metadata": {},
   "outputs": [],
   "source": []
  },
  {
   "cell_type": "markdown",
   "id": "a6fc35c3",
   "metadata": {},
   "source": [
    "## Symbols"
   ]
  },
  {
   "cell_type": "code",
   "execution_count": 73,
   "id": "28ea6c6c",
   "metadata": {},
   "outputs": [
    {
     "data": {
      "text/plain": [
       ":x"
      ]
     },
     "execution_count": 73,
     "metadata": {},
     "output_type": "execute_result"
    }
   ],
   "source": [
    "sX = Symbol(\"x\")"
   ]
  },
  {
   "cell_type": "code",
   "execution_count": 74,
   "id": "c9670764",
   "metadata": {},
   "outputs": [
    {
     "data": {
      "text/plain": [
       ":x2"
      ]
     },
     "execution_count": 74,
     "metadata": {},
     "output_type": "execute_result"
    }
   ],
   "source": [
    "sX2 = Symbol(\"x\", 2)"
   ]
  },
  {
   "cell_type": "code",
   "execution_count": 75,
   "id": "0e579cbd",
   "metadata": {},
   "outputs": [
    {
     "data": {
      "text/plain": [
       "Symbol"
      ]
     },
     "execution_count": 75,
     "metadata": {},
     "output_type": "execute_result"
    }
   ],
   "source": [
    "typeof(sX2)"
   ]
  },
  {
   "cell_type": "code",
   "execution_count": 76,
   "id": "e6285cdf",
   "metadata": {},
   "outputs": [
    {
     "data": {
      "text/plain": [
       "Symbol(\"1\")"
      ]
     },
     "execution_count": 76,
     "metadata": {},
     "output_type": "execute_result"
    }
   ],
   "source": [
    "Symbol(1)"
   ]
  },
  {
   "cell_type": "markdown",
   "id": "f770f96a",
   "metadata": {},
   "source": [
    "Note printing style here, as isn't valid idenifier"
   ]
  },
  {
   "cell_type": "code",
   "execution_count": 77,
   "id": "a874a508",
   "metadata": {},
   "outputs": [],
   "source": [
    "using BenchmarkTools"
   ]
  },
  {
   "cell_type": "code",
   "execution_count": 82,
   "id": "5c5a5f5a",
   "metadata": {},
   "outputs": [
    {
     "data": {
      "text/plain": [
       "1000000-element Vector{String}:\n",
       " \"x1\"\n",
       " \"x2\"\n",
       " \"x3\"\n",
       " \"x4\"\n",
       " \"x5\"\n",
       " \"x6\"\n",
       " \"x7\"\n",
       " \"x8\"\n",
       " \"x9\"\n",
       " \"x10\"\n",
       " \"x11\"\n",
       " \"x12\"\n",
       " \"x13\"\n",
       " ⋮\n",
       " \"x999989\"\n",
       " \"x999990\"\n",
       " \"x999991\"\n",
       " \"x999992\"\n",
       " \"x999993\"\n",
       " \"x999994\"\n",
       " \"x999995\"\n",
       " \"x999996\"\n",
       " \"x999997\"\n",
       " \"x999998\"\n",
       " \"x999999\"\n",
       " \"x1000000\""
      ]
     },
     "execution_count": 82,
     "metadata": {},
     "output_type": "execute_result"
    }
   ],
   "source": [
    "str = string.(\"x\", 1:10^6)"
   ]
  },
  {
   "cell_type": "code",
   "execution_count": 83,
   "id": "556668f4",
   "metadata": {},
   "outputs": [
    {
     "data": {
      "text/plain": [
       "1000000-element Vector{Symbol}:\n",
       " :x1\n",
       " :x2\n",
       " :x3\n",
       " :x4\n",
       " :x5\n",
       " :x6\n",
       " :x7\n",
       " :x8\n",
       " :x9\n",
       " :x10\n",
       " :x11\n",
       " :x12\n",
       " :x13\n",
       " ⋮\n",
       " :x999989\n",
       " :x999990\n",
       " :x999991\n",
       " :x999992\n",
       " :x999993\n",
       " :x999994\n",
       " :x999995\n",
       " :x999996\n",
       " :x999997\n",
       " :x999998\n",
       " :x999999\n",
       " :x1000000"
      ]
     },
     "execution_count": 83,
     "metadata": {},
     "output_type": "execute_result"
    }
   ],
   "source": [
    "symb = Symbol.(str)"
   ]
  },
  {
   "cell_type": "code",
   "execution_count": null,
   "id": "c0525841",
   "metadata": {},
   "outputs": [],
   "source": []
  },
  {
   "cell_type": "code",
   "execution_count": 79,
   "id": "9a6f4011",
   "metadata": {},
   "outputs": [
    {
     "name": "stdout",
     "output_type": "stream",
     "text": [
      "  2.083 ms (0 allocations: 0 bytes)\n"
     ]
    },
    {
     "data": {
      "text/plain": [
       "false"
      ]
     },
     "execution_count": 79,
     "metadata": {},
     "output_type": "execute_result"
    }
   ],
   "source": [
    "@btime \"x\" in $str"
   ]
  },
  {
   "cell_type": "code",
   "execution_count": 80,
   "id": "adb4ffef",
   "metadata": {},
   "outputs": [
    {
     "name": "stdout",
     "output_type": "stream",
     "text": [
      "  469.333 μs (0 allocations: 0 bytes)\n"
     ]
    },
    {
     "data": {
      "text/plain": [
       "false"
      ]
     },
     "execution_count": 80,
     "metadata": {},
     "output_type": "execute_result"
    }
   ],
   "source": [
    "@btime :x in $symb"
   ]
  },
  {
   "cell_type": "markdown",
   "id": "e011aa5e",
   "metadata": {},
   "source": [
    "## Fixed-width string types"
   ]
  },
  {
   "cell_type": "code",
   "execution_count": null,
   "id": "af8bf1eb",
   "metadata": {},
   "outputs": [],
   "source": []
  },
  {
   "cell_type": "code",
   "execution_count": 84,
   "id": "6909c5ed",
   "metadata": {},
   "outputs": [
    {
     "name": "stderr",
     "output_type": "stream",
     "text": [
      "\u001b[32m\u001b[1m   Resolving\u001b[22m\u001b[39m package versions...\n",
      "\u001b[32m\u001b[1m  No Changes\u001b[22m\u001b[39m to `~/.julia/environments/v1.8/Project.toml`\n",
      "\u001b[32m\u001b[1m  No Changes\u001b[22m\u001b[39m to `~/.julia/environments/v1.8/Manifest.toml`\n"
     ]
    }
   ],
   "source": [
    "import Pkg; Pkg.add(\"InlineStrings\")"
   ]
  },
  {
   "cell_type": "code",
   "execution_count": 85,
   "id": "b1b30700",
   "metadata": {},
   "outputs": [],
   "source": [
    "using InlineStrings"
   ]
  },
  {
   "cell_type": "code",
   "execution_count": 86,
   "id": "f2f4103c",
   "metadata": {},
   "outputs": [
    {
     "data": {
      "text/plain": [
       "\"yo!\""
      ]
     },
     "execution_count": 86,
     "metadata": {},
     "output_type": "execute_result"
    }
   ],
   "source": [
    "s3 = String3(\"yo!\")"
   ]
  },
  {
   "cell_type": "code",
   "execution_count": 92,
   "id": "9be11096",
   "metadata": {},
   "outputs": [
    {
     "data": {
      "text/plain": [
       "\"ét\""
      ]
     },
     "execution_count": 92,
     "metadata": {},
     "output_type": "execute_result"
    }
   ],
   "source": [
    "String3(\"ét\")"
   ]
  },
  {
   "cell_type": "code",
   "execution_count": 71,
   "id": "3dcb9957",
   "metadata": {},
   "outputs": [
    {
     "data": {
      "text/plain": [
       "String3"
      ]
     },
     "execution_count": 71,
     "metadata": {},
     "output_type": "execute_result"
    }
   ],
   "source": [
    "typeof(s3)"
   ]
  },
  {
   "cell_type": "code",
   "execution_count": 73,
   "id": "6ad2a35b",
   "metadata": {},
   "outputs": [
    {
     "data": {
      "text/plain": [
       "InlineString"
      ]
     },
     "execution_count": 73,
     "metadata": {},
     "output_type": "execute_result"
    }
   ],
   "source": [
    "supertype(typeof(s3))"
   ]
  },
  {
   "cell_type": "code",
   "execution_count": 74,
   "id": "f0fa9dc4",
   "metadata": {},
   "outputs": [
    {
     "data": {
      "text/plain": [
       "AbstractString"
      ]
     },
     "execution_count": 74,
     "metadata": {},
     "output_type": "execute_result"
    }
   ],
   "source": [
    "supertype(supertype(typeof(s3)))"
   ]
  },
  {
   "cell_type": "markdown",
   "id": "e55d244a",
   "metadata": {},
   "source": [
    "> In part 2 of this book, you will learn that when getting your data from a CSV file, the Julia CSV reader can automatically detect that it is useful to use fixed-width strings instead of the standard String type. Therefore, in practice, it is usually enough to be aware of the existence and meaning of fixed-width strings, so that when you see them in a data frame, you are not surprised to encounter a column consisting of String3\n",
    "strings."
   ]
  },
  {
   "cell_type": "markdown",
   "id": "2ea6f7fb",
   "metadata": {},
   "source": []
  },
  {
   "cell_type": "markdown",
   "id": "f9530e4a",
   "metadata": {},
   "source": [
    "## PooledArrays.jl: compressing vectors of strings"
   ]
  },
  {
   "cell_type": "code",
   "execution_count": 93,
   "id": "59914fbf",
   "metadata": {},
   "outputs": [],
   "source": [
    "open(\"iris.txt\", \"w\") do io\n",
    "   for i in 1:10^6\n",
    "       println(io, \"Iris setosa\")\n",
    "       println(io, \"Iris virginica\")\n",
    "       println(io, \"Iris versicolor\")\n",
    "    end \n",
    "end"
   ]
  },
  {
   "cell_type": "code",
   "execution_count": 94,
   "id": "cbc97988",
   "metadata": {},
   "outputs": [
    {
     "data": {
      "text/plain": [
       "true"
      ]
     },
     "execution_count": 94,
     "metadata": {},
     "output_type": "execute_result"
    }
   ],
   "source": [
    "isfile(\"iris.txt\")"
   ]
  },
  {
   "cell_type": "code",
   "execution_count": 95,
   "id": "64371a13",
   "metadata": {},
   "outputs": [
    {
     "data": {
      "text/plain": [
       "3000000-element Vector{String}:\n",
       " \"Iris setosa\"\n",
       " \"Iris virginica\"\n",
       " \"Iris versicolor\"\n",
       " \"Iris setosa\"\n",
       " \"Iris virginica\"\n",
       " \"Iris versicolor\"\n",
       " \"Iris setosa\"\n",
       " \"Iris virginica\"\n",
       " \"Iris versicolor\"\n",
       " \"Iris setosa\"\n",
       " \"Iris virginica\"\n",
       " \"Iris versicolor\"\n",
       " \"Iris setosa\"\n",
       " ⋮\n",
       " \"Iris setosa\"\n",
       " \"Iris virginica\"\n",
       " \"Iris versicolor\"\n",
       " \"Iris setosa\"\n",
       " \"Iris virginica\"\n",
       " \"Iris versicolor\"\n",
       " \"Iris setosa\"\n",
       " \"Iris virginica\"\n",
       " \"Iris versicolor\"\n",
       " \"Iris setosa\"\n",
       " \"Iris virginica\"\n",
       " \"Iris versicolor\""
      ]
     },
     "execution_count": 95,
     "metadata": {},
     "output_type": "execute_result"
    }
   ],
   "source": [
    "uncompressed = readlines(\"iris.txt\")"
   ]
  },
  {
   "cell_type": "code",
   "execution_count": 96,
   "id": "71d3ec56",
   "metadata": {},
   "outputs": [
    {
     "name": "stderr",
     "output_type": "stream",
     "text": [
      "\u001b[32m\u001b[1m   Resolving\u001b[22m\u001b[39m package versions...\n",
      "\u001b[32m\u001b[1m  No Changes\u001b[22m\u001b[39m to `~/.julia/environments/v1.8/Project.toml`\n",
      "\u001b[32m\u001b[1m  No Changes\u001b[22m\u001b[39m to `~/.julia/environments/v1.8/Manifest.toml`\n"
     ]
    }
   ],
   "source": [
    "import Pkg; Pkg.add(\"PooledArrays\")"
   ]
  },
  {
   "cell_type": "code",
   "execution_count": 97,
   "id": "83dfc7a7",
   "metadata": {},
   "outputs": [],
   "source": [
    "using PooledArrays\n"
   ]
  },
  {
   "cell_type": "code",
   "execution_count": 98,
   "id": "a1c304d1",
   "metadata": {},
   "outputs": [
    {
     "data": {
      "text/plain": [
       "3000000-element PooledVector{String, UInt32, Vector{UInt32}}:\n",
       " \"Iris setosa\"\n",
       " \"Iris virginica\"\n",
       " \"Iris versicolor\"\n",
       " \"Iris setosa\"\n",
       " \"Iris virginica\"\n",
       " \"Iris versicolor\"\n",
       " \"Iris setosa\"\n",
       " \"Iris virginica\"\n",
       " \"Iris versicolor\"\n",
       " \"Iris setosa\"\n",
       " \"Iris virginica\"\n",
       " \"Iris versicolor\"\n",
       " \"Iris setosa\"\n",
       " ⋮\n",
       " \"Iris setosa\"\n",
       " \"Iris virginica\"\n",
       " \"Iris versicolor\"\n",
       " \"Iris setosa\"\n",
       " \"Iris virginica\"\n",
       " \"Iris versicolor\"\n",
       " \"Iris setosa\"\n",
       " \"Iris virginica\"\n",
       " \"Iris versicolor\"\n",
       " \"Iris setosa\"\n",
       " \"Iris virginica\"\n",
       " \"Iris versicolor\""
      ]
     },
     "execution_count": 98,
     "metadata": {},
     "output_type": "execute_result"
    }
   ],
   "source": [
    "compressed = PooledArray(uncompressed)"
   ]
  },
  {
   "cell_type": "code",
   "execution_count": 99,
   "id": "132124e7",
   "metadata": {},
   "outputs": [
    {
     "data": {
      "text/plain": [
       "88000040"
      ]
     },
     "execution_count": 99,
     "metadata": {},
     "output_type": "execute_result"
    }
   ],
   "source": [
    "Base.summarysize(uncompressed)"
   ]
  },
  {
   "cell_type": "code",
   "execution_count": 100,
   "id": "a107ee1a",
   "metadata": {},
   "outputs": [
    {
     "data": {
      "text/plain": [
       "12000600"
      ]
     },
     "execution_count": 100,
     "metadata": {},
     "output_type": "execute_result"
    }
   ],
   "source": [
    "Base.summarysize(compressed)"
   ]
  },
  {
   "cell_type": "code",
   "execution_count": null,
   "id": "593644b9",
   "metadata": {},
   "outputs": [],
   "source": []
  }
 ],
 "metadata": {
  "kernelspec": {
   "display_name": "Julia 1.8.5",
   "language": "julia",
   "name": "julia-1.8"
  },
  "language_info": {
   "file_extension": ".jl",
   "mimetype": "application/julia",
   "name": "julia",
   "version": "1.8.5"
  }
 },
 "nbformat": 4,
 "nbformat_minor": 5
}
