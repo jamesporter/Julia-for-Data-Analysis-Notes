{
 "cells": [
  {
   "cell_type": "code",
   "execution_count": 1,
   "id": "f9dedc88",
   "metadata": {},
   "outputs": [],
   "source": [
    "import Downloads"
   ]
  },
  {
   "cell_type": "code",
   "execution_count": 2,
   "id": "5b8a1f64",
   "metadata": {},
   "outputs": [
    {
     "data": {
      "text/plain": [
       "\"movies.dat\""
      ]
     },
     "execution_count": 2,
     "metadata": {},
     "output_type": "execute_result"
    }
   ],
   "source": [
    "Downloads.download(\"https://raw.githubusercontent.com/sidooms/MovieTweetings/44c525d0c766944910686c60697203cda39305d6/snapshots/10K/movies.dat\",\"movies.dat\")"
   ]
  },
  {
   "cell_type": "markdown",
   "id": "8230217e",
   "metadata": {},
   "source": [
    "## String Stuff"
   ]
  },
  {
   "cell_type": "code",
   "execution_count": 3,
   "id": "3b658d40",
   "metadata": {},
   "outputs": [
    {
     "data": {
      "text/plain": [
       "\"examples againyo\""
      ]
     },
     "execution_count": 3,
     "metadata": {},
     "output_type": "execute_result"
    }
   ],
   "source": [
    "\"examples\" * \" again\" * \"yo\""
   ]
  },
  {
   "cell_type": "code",
   "execution_count": 4,
   "id": "e30cec2d",
   "metadata": {},
   "outputs": [
    {
     "data": {
      "text/plain": [
       "12"
      ]
     },
     "execution_count": 4,
     "metadata": {},
     "output_type": "execute_result"
    }
   ],
   "source": [
    "x = 12"
   ]
  },
  {
   "cell_type": "code",
   "execution_count": 5,
   "id": "b9723ff7",
   "metadata": {},
   "outputs": [
    {
     "data": {
      "text/plain": [
       "\"What about 12?\""
      ]
     },
     "execution_count": 5,
     "metadata": {},
     "output_type": "execute_result"
    }
   ],
   "source": [
    "\"What about $x?\""
   ]
  },
  {
   "cell_type": "code",
   "execution_count": 7,
   "id": "b4fba179",
   "metadata": {},
   "outputs": [
    {
     "data": {
      "text/plain": [
       "\"And then 1728\""
      ]
     },
     "execution_count": 7,
     "metadata": {},
     "output_type": "execute_result"
    }
   ],
   "source": [
    "\"And then $(x ^ 3)\""
   ]
  },
  {
   "cell_type": "code",
   "execution_count": 8,
   "id": "189d6780",
   "metadata": {},
   "outputs": [
    {
     "data": {
      "text/plain": [
       "\"testsagain\""
      ]
     },
     "execution_count": 8,
     "metadata": {},
     "output_type": "execute_result"
    }
   ],
   "source": [
    "\"tests\\\n",
    "     again\""
   ]
  },
  {
   "cell_type": "code",
   "execution_count": 9,
   "id": "caea6287",
   "metadata": {},
   "outputs": [
    {
     "data": {
      "text/plain": [
       "\"what\\nabout\""
      ]
     },
     "execution_count": 9,
     "metadata": {},
     "output_type": "execute_result"
    }
   ],
   "source": [
    "\"what\\nabout\""
   ]
  },
  {
   "cell_type": "code",
   "execution_count": 10,
   "id": "fad238dc",
   "metadata": {},
   "outputs": [
    {
     "data": {
      "text/plain": [
       "\"D:\\\\my_folder\\\\my_file_2.txt\""
      ]
     },
     "execution_count": 10,
     "metadata": {},
     "output_type": "execute_result"
    }
   ],
   "source": [
    "raw\"D:\\my_folder\\my_file_2.txt\""
   ]
  },
  {
   "cell_type": "markdown",
   "id": "5760d92b",
   "metadata": {},
   "source": [
    "# Basic file/string stuff"
   ]
  },
  {
   "cell_type": "code",
   "execution_count": 11,
   "id": "34286b0c",
   "metadata": {},
   "outputs": [
    {
     "data": {
      "text/plain": [
       "3096-element Vector{String}:\n",
       " \"0002844::Fantômas - À l'ombre de la guillotine (1913)::Crime|Drama\"\n",
       " \"0007264::The Rink (1916)::Comedy|Short\"\n",
       " \"0008133::The Immigrant (1917)::Short|Comedy|Drama|Romance\"\n",
       " \"0012349::The Kid (1921)::Comedy|Drama|Family\"\n",
       " \"0013427::Nanook of the North (1922)::Documentary\"\n",
       " \"0014142::The Hunchback of Notre Dame (1923)::Drama|Romance\"\n",
       " \"0014538::Three Ages (1923)::Comedy\"\n",
       " \"0014872::Entr'acte (1924)::Short\"\n",
       " \"0015163::The Navigator (1924)::Action|Comedy\"\n",
       " \"0015324::Sherlock Jr. (1924)::Comedy|Fantasy\"\n",
       " \"0015400::The Thief of Bagdad (1924)::Adventure|Family|Fantasy|Romance\"\n",
       " \"0017925::The General (1926)::Action|Adventure|Comedy|Romance|War\"\n",
       " \"0018773::The Circus (1928)::Comedy|Romance\"\n",
       " ⋮\n",
       " \"2638984::Teal Diva (2012)::Documentary|Short\"\n",
       " \"2645104::Romantik komedi 2: Bekarliga veda (2013)::Comedy\"\n",
       " \"2645164::The Hardy Bucks Movie (2013)::Comedy\"\n",
       " \"2646378::The Frankenstein Theory (2013)::Horror|Sci-Fi\"\n",
       " \"2649128::Metro (2013)::Thriller\"\n",
       " \"2670226::Jîn (2013)::Drama\"\n",
       " \"2700330::The Two Escobars (2010)::Documentary\"\n",
       " \"2735466::Pickett's Charge (2012)::Short|Comedy|Drama|Family\"\n",
       " \"2748368::Neil (2013)::Short|Comedy\"\n",
       " \"2750600::A Different Tree (2013)::Short|Drama|Family\"\n",
       " \"2763252::Broken Night (2013)::Short|Drama\"\n",
       " \"2769592::Kiss Shot Truth or Dare (2013)::Short\""
      ]
     },
     "execution_count": 11,
     "metadata": {},
     "output_type": "execute_result"
    }
   ],
   "source": [
    "movies = readlines(\"movies.dat\")"
   ]
  },
  {
   "cell_type": "code",
   "execution_count": 12,
   "id": "985587e6",
   "metadata": {},
   "outputs": [
    {
     "data": {
      "text/plain": [
       "\"0002844::Fantômas - À l'ombre de la guillotine (1913)::Crime|Drama\""
      ]
     },
     "execution_count": 12,
     "metadata": {},
     "output_type": "execute_result"
    }
   ],
   "source": [
    "movie1 = first(movies)"
   ]
  },
  {
   "cell_type": "code",
   "execution_count": 13,
   "id": "b545c3e0",
   "metadata": {},
   "outputs": [
    {
     "data": {
      "text/plain": [
       "3-element Vector{SubString{String}}:\n",
       " \"0002844\"\n",
       " \"Fantômas - À l'ombre de la guillotine (1913)\"\n",
       " \"Crime|Drama\""
      ]
     },
     "execution_count": 13,
     "metadata": {},
     "output_type": "execute_result"
    }
   ],
   "source": [
    "movie1_parts = split(movie1, \"::\")"
   ]
  },
  {
   "cell_type": "markdown",
   "id": "31ec4903",
   "metadata": {},
   "source": [
    "`SubString{String}` ???\n",
    "\n",
    "* View on strings\n",
    "* Strings are immutable"
   ]
  },
  {
   "cell_type": "markdown",
   "id": "c87c2b4a",
   "metadata": {},
   "source": [
    "### Basic string stuff\n",
    "\n",
    "Note lowercased naming:\n",
    "\n",
    "* string Converts passed values to a string by using the print function\n",
    "* join—Joins elements of an iterator into a string, inserting the given delimiter between joined items\n",
    "* occursin Checks if the first argument is a substring of the second argument\n",
    "* contains Checks if the second argument is a substring of the first argument\n",
    "* replace Finds in a given string passed patterns and replaces them with specified values"
   ]
  },
  {
   "cell_type": "code",
   "execution_count": 14,
   "id": "17f4a85a",
   "metadata": {},
   "outputs": [
    {
     "data": {
      "text/plain": [
       "\"12\""
      ]
     },
     "execution_count": 14,
     "metadata": {},
     "output_type": "execute_result"
    }
   ],
   "source": [
    "string(12)"
   ]
  },
  {
   "cell_type": "code",
   "execution_count": 15,
   "id": "faddff67",
   "metadata": {},
   "outputs": [
    {
     "data": {
      "text/plain": [
       "\"hi,there\""
      ]
     },
     "execution_count": 15,
     "metadata": {},
     "output_type": "execute_result"
    }
   ],
   "source": [
    "join([\"hi\", \"there\"], \",\")"
   ]
  },
  {
   "cell_type": "code",
   "execution_count": 18,
   "id": "b60adbbd",
   "metadata": {},
   "outputs": [
    {
     "data": {
      "text/plain": [
       "true"
      ]
     },
     "execution_count": 18,
     "metadata": {},
     "output_type": "execute_result"
    }
   ],
   "source": [
    "occursin(\"y\", \"yes\")"
   ]
  },
  {
   "cell_type": "code",
   "execution_count": 19,
   "id": "4ef7d022",
   "metadata": {},
   "outputs": [
    {
     "data": {
      "text/plain": [
       "true"
      ]
     },
     "execution_count": 19,
     "metadata": {},
     "output_type": "execute_result"
    }
   ],
   "source": [
    "contains(\"yes\", \"e\")"
   ]
  },
  {
   "cell_type": "code",
   "execution_count": 20,
   "id": "d2d5e89b",
   "metadata": {},
   "outputs": [
    {
     "data": {
      "text/plain": [
       "false"
      ]
     },
     "execution_count": 20,
     "metadata": {},
     "output_type": "execute_result"
    }
   ],
   "source": [
    "contains(\"yes\", \"t\")"
   ]
  },
  {
   "cell_type": "code",
   "execution_count": 22,
   "id": "f6c11990",
   "metadata": {},
   "outputs": [
    {
     "data": {
      "text/plain": [
       "\"*ase thing\""
      ]
     },
     "execution_count": 22,
     "metadata": {},
     "output_type": "execute_result"
    }
   ],
   "source": [
    "replace(\"base thing\", \"b\" => \"*\")"
   ]
  },
  {
   "cell_type": "code",
   "execution_count": 23,
   "id": "36cf9d4b",
   "metadata": {},
   "outputs": [
    {
     "name": "stdout",
     "output_type": "stream",
     "text": [
      "search: \u001b[0m\u001b[1mr\u001b[22m\u001b[0m\u001b[1me\u001b[22m\u001b[0m\u001b[1mp\u001b[22m\u001b[0m\u001b[1ml\u001b[22m\u001b[0m\u001b[1ma\u001b[22m\u001b[0m\u001b[1mc\u001b[22m\u001b[0m\u001b[1me\u001b[22m \u001b[0m\u001b[1mr\u001b[22m\u001b[0m\u001b[1me\u001b[22m\u001b[0m\u001b[1mp\u001b[22m\u001b[0m\u001b[1ml\u001b[22m\u001b[0m\u001b[1ma\u001b[22m\u001b[0m\u001b[1mc\u001b[22m\u001b[0m\u001b[1me\u001b[22m! \u001b[0m\u001b[1mr\u001b[22m\u001b[0m\u001b[1me\u001b[22m\u001b[0m\u001b[1mp\u001b[22m\u001b[0m\u001b[1ml\u001b[22m\u001b[0m\u001b[1ma\u001b[22m\u001b[0m\u001b[1mc\u001b[22m\u001b[0m\u001b[1me\u001b[22mfield! \u001b[0m\u001b[1mr\u001b[22m\u001b[0m\u001b[1me\u001b[22m\u001b[0m\u001b[1mp\u001b[22m\u001b[0m\u001b[1ml\u001b[22m\u001b[0m\u001b[1ma\u001b[22m\u001b[0m\u001b[1mc\u001b[22m\u001b[0m\u001b[1me\u001b[22mproperty! @atomic\u001b[0m\u001b[1mr\u001b[22m\u001b[0m\u001b[1me\u001b[22m\u001b[0m\u001b[1mp\u001b[22m\u001b[0m\u001b[1ml\u001b[22m\u001b[0m\u001b[1ma\u001b[22m\u001b[0m\u001b[1mc\u001b[22m\u001b[0m\u001b[1me\u001b[22m \u001b[0m\u001b[1mr\u001b[22m\u001b[0m\u001b[1me\u001b[22mdis\u001b[0m\u001b[1mp\u001b[22m\u001b[0m\u001b[1ml\u001b[22m\u001b[0m\u001b[1ma\u001b[22my\n",
      "\n"
     ]
    },
    {
     "data": {
      "text/latex": [
       "\\begin{verbatim}\n",
       "replace(A, old_new::Pair...; [count::Integer])\n",
       "\\end{verbatim}\n",
       "Return a copy of collection \\texttt{A} where, for each pair \\texttt{old=>new} in \\texttt{old\\_new}, all occurrences of \\texttt{old} are replaced by \\texttt{new}. Equality is determined using \\href{@ref}{\\texttt{isequal}}. If \\texttt{count} is specified, then replace at most \\texttt{count} occurrences in total.\n",
       "\n",
       "The element type of the result is chosen using promotion (see \\href{@ref}{\\texttt{promote\\_type}}) based on the element type of \\texttt{A} and on the types of the \\texttt{new} values in pairs. If \\texttt{count} is omitted and the element type of \\texttt{A} is a \\texttt{Union}, the element type of the result will not include singleton types which are replaced with values of a different type: for example, \\texttt{Union\\{T,Missing\\}} will become \\texttt{T} if \\texttt{missing} is replaced.\n",
       "\n",
       "See also \\href{@ref}{\\texttt{replace!}}, \\href{@ref}{\\texttt{splice!}}, \\href{@ref}{\\texttt{delete!}}, \\href{@ref}{\\texttt{insert!}}.\n",
       "\n",
       "\\begin{quote}\n",
       "\\textbf{compat}\n",
       "\n",
       "Julia 1.7\n",
       "\n",
       "Version 1.7 is required to replace elements of a \\texttt{Tuple}.\n",
       "\n",
       "\\end{quote}\n",
       "\\section{Examples}\n",
       "\\begin{verbatim}\n",
       "julia> replace([1, 2, 1, 3], 1=>0, 2=>4, count=2)\n",
       "4-element Vector{Int64}:\n",
       " 0\n",
       " 4\n",
       " 1\n",
       " 3\n",
       "\n",
       "julia> replace([1, missing], missing=>0)\n",
       "2-element Vector{Int64}:\n",
       " 1\n",
       " 0\n",
       "\\end{verbatim}\n",
       "\\rule{\\textwidth}{1pt}\n",
       "\\begin{verbatim}\n",
       "replace(new::Function, A; [count::Integer])\n",
       "\\end{verbatim}\n",
       "Return a copy of \\texttt{A} where each value \\texttt{x} in \\texttt{A} is replaced by \\texttt{new(x)}. If \\texttt{count} is specified, then replace at most \\texttt{count} values in total (replacements being defined as \\texttt{new(x) !== x}).\n",
       "\n",
       "\\begin{quote}\n",
       "\\textbf{compat}\n",
       "\n",
       "Julia 1.7\n",
       "\n",
       "Version 1.7 is required to replace elements of a \\texttt{Tuple}.\n",
       "\n",
       "\\end{quote}\n",
       "\\section{Examples}\n",
       "\\begin{verbatim}\n",
       "julia> replace(x -> isodd(x) ? 2x : x, [1, 2, 3, 4])\n",
       "4-element Vector{Int64}:\n",
       " 2\n",
       " 2\n",
       " 6\n",
       " 4\n",
       "\n",
       "julia> replace(Dict(1=>2, 3=>4)) do kv\n",
       "           first(kv) < 3 ? first(kv)=>3 : kv\n",
       "       end\n",
       "Dict{Int64, Int64} with 2 entries:\n",
       "  3 => 4\n",
       "  1 => 3\n",
       "\\end{verbatim}\n",
       "\\rule{\\textwidth}{1pt}\n",
       "\\begin{verbatim}\n",
       "replace(s::AbstractString, pat=>r, [pat2=>r2, ...]; [count::Integer])\n",
       "\\end{verbatim}\n",
       "Search for the given pattern \\texttt{pat} in \\texttt{s}, and replace each occurrence with \\texttt{r}. If \\texttt{count} is provided, replace at most \\texttt{count} occurrences. \\texttt{pat} may be a single character, a vector or a set of characters, a string, or a regular expression. If \\texttt{r} is a function, each occurrence is replaced with \\texttt{r(s)} where \\texttt{s} is the matched substring (when \\texttt{pat} is a \\texttt{AbstractPattern} or \\texttt{AbstractString}) or character (when \\texttt{pat} is an \\texttt{AbstractChar} or a collection of \\texttt{AbstractChar}). If \\texttt{pat} is a regular expression and \\texttt{r} is a \\href{@ref}{\\texttt{SubstitutionString}}, then capture group references in \\texttt{r} are replaced with the corresponding matched text. To remove instances of \\texttt{pat} from \\texttt{string}, set \\texttt{r} to the empty \\texttt{String} (\\texttt{\"\"}).\n",
       "\n",
       "Multiple patterns can be specified, and they will be applied left-to-right simultaneously, so only one pattern will be applied to any character, and the patterns will only be applied to the input text, not the replacements.\n",
       "\n",
       "\\begin{quote}\n",
       "\\textbf{compat}\n",
       "\n",
       "Julia 1.7\n",
       "\n",
       "Support for multiple patterns requires version 1.7.\n",
       "\n",
       "\\end{quote}\n",
       "\\section{Examples}\n",
       "\\begin{verbatim}\n",
       "julia> replace(\"Python is a programming language.\", \"Python\" => \"Julia\")\n",
       "\"Julia is a programming language.\"\n",
       "\n",
       "julia> replace(\"The quick foxes run quickly.\", \"quick\" => \"slow\", count=1)\n",
       "\"The slow foxes run quickly.\"\n",
       "\n",
       "julia> replace(\"The quick foxes run quickly.\", \"quick\" => \"\", count=1)\n",
       "\"The  foxes run quickly.\"\n",
       "\n",
       "julia> replace(\"The quick foxes run quickly.\", r\"fox(es)?\" => s\"bus\\1\")\n",
       "\"The quick buses run quickly.\"\n",
       "\n",
       "julia> replace(\"abcabc\", \"a\" => \"b\", \"b\" => \"c\", r\".+\" => \"a\")\n",
       "\"bca\"\n",
       "\\end{verbatim}\n"
      ],
      "text/markdown": [
       "```\n",
       "replace(A, old_new::Pair...; [count::Integer])\n",
       "```\n",
       "\n",
       "Return a copy of collection `A` where, for each pair `old=>new` in `old_new`, all occurrences of `old` are replaced by `new`. Equality is determined using [`isequal`](@ref). If `count` is specified, then replace at most `count` occurrences in total.\n",
       "\n",
       "The element type of the result is chosen using promotion (see [`promote_type`](@ref)) based on the element type of `A` and on the types of the `new` values in pairs. If `count` is omitted and the element type of `A` is a `Union`, the element type of the result will not include singleton types which are replaced with values of a different type: for example, `Union{T,Missing}` will become `T` if `missing` is replaced.\n",
       "\n",
       "See also [`replace!`](@ref), [`splice!`](@ref), [`delete!`](@ref), [`insert!`](@ref).\n",
       "\n",
       "!!! compat \"Julia 1.7\"\n",
       "    Version 1.7 is required to replace elements of a `Tuple`.\n",
       "\n",
       "\n",
       "# Examples\n",
       "\n",
       "```jldoctest\n",
       "julia> replace([1, 2, 1, 3], 1=>0, 2=>4, count=2)\n",
       "4-element Vector{Int64}:\n",
       " 0\n",
       " 4\n",
       " 1\n",
       " 3\n",
       "\n",
       "julia> replace([1, missing], missing=>0)\n",
       "2-element Vector{Int64}:\n",
       " 1\n",
       " 0\n",
       "```\n",
       "\n",
       "---\n",
       "\n",
       "```\n",
       "replace(new::Function, A; [count::Integer])\n",
       "```\n",
       "\n",
       "Return a copy of `A` where each value `x` in `A` is replaced by `new(x)`. If `count` is specified, then replace at most `count` values in total (replacements being defined as `new(x) !== x`).\n",
       "\n",
       "!!! compat \"Julia 1.7\"\n",
       "    Version 1.7 is required to replace elements of a `Tuple`.\n",
       "\n",
       "\n",
       "# Examples\n",
       "\n",
       "```jldoctest\n",
       "julia> replace(x -> isodd(x) ? 2x : x, [1, 2, 3, 4])\n",
       "4-element Vector{Int64}:\n",
       " 2\n",
       " 2\n",
       " 6\n",
       " 4\n",
       "\n",
       "julia> replace(Dict(1=>2, 3=>4)) do kv\n",
       "           first(kv) < 3 ? first(kv)=>3 : kv\n",
       "       end\n",
       "Dict{Int64, Int64} with 2 entries:\n",
       "  3 => 4\n",
       "  1 => 3\n",
       "```\n",
       "\n",
       "---\n",
       "\n",
       "```\n",
       "replace(s::AbstractString, pat=>r, [pat2=>r2, ...]; [count::Integer])\n",
       "```\n",
       "\n",
       "Search for the given pattern `pat` in `s`, and replace each occurrence with `r`. If `count` is provided, replace at most `count` occurrences. `pat` may be a single character, a vector or a set of characters, a string, or a regular expression. If `r` is a function, each occurrence is replaced with `r(s)` where `s` is the matched substring (when `pat` is a `AbstractPattern` or `AbstractString`) or character (when `pat` is an `AbstractChar` or a collection of `AbstractChar`). If `pat` is a regular expression and `r` is a [`SubstitutionString`](@ref), then capture group references in `r` are replaced with the corresponding matched text. To remove instances of `pat` from `string`, set `r` to the empty `String` (`\"\"`).\n",
       "\n",
       "Multiple patterns can be specified, and they will be applied left-to-right simultaneously, so only one pattern will be applied to any character, and the patterns will only be applied to the input text, not the replacements.\n",
       "\n",
       "!!! compat \"Julia 1.7\"\n",
       "    Support for multiple patterns requires version 1.7.\n",
       "\n",
       "\n",
       "# Examples\n",
       "\n",
       "```jldoctest\n",
       "julia> replace(\"Python is a programming language.\", \"Python\" => \"Julia\")\n",
       "\"Julia is a programming language.\"\n",
       "\n",
       "julia> replace(\"The quick foxes run quickly.\", \"quick\" => \"slow\", count=1)\n",
       "\"The slow foxes run quickly.\"\n",
       "\n",
       "julia> replace(\"The quick foxes run quickly.\", \"quick\" => \"\", count=1)\n",
       "\"The  foxes run quickly.\"\n",
       "\n",
       "julia> replace(\"The quick foxes run quickly.\", r\"fox(es)?\" => s\"bus\\1\")\n",
       "\"The quick buses run quickly.\"\n",
       "\n",
       "julia> replace(\"abcabc\", \"a\" => \"b\", \"b\" => \"c\", r\".+\" => \"a\")\n",
       "\"bca\"\n",
       "```\n"
      ],
      "text/plain": [
       "\u001b[36m  replace(A, old_new::Pair...; [count::Integer])\u001b[39m\n",
       "\n",
       "  Return a copy of collection \u001b[36mA\u001b[39m where, for each pair \u001b[36mold=>new\u001b[39m in \u001b[36mold_new\u001b[39m, all\n",
       "  occurrences of \u001b[36mold\u001b[39m are replaced by \u001b[36mnew\u001b[39m. Equality is determined using\n",
       "  \u001b[36misequal\u001b[39m. If \u001b[36mcount\u001b[39m is specified, then replace at most \u001b[36mcount\u001b[39m occurrences in\n",
       "  total.\n",
       "\n",
       "  The element type of the result is chosen using promotion (see \u001b[36mpromote_type\u001b[39m)\n",
       "  based on the element type of \u001b[36mA\u001b[39m and on the types of the \u001b[36mnew\u001b[39m values in pairs.\n",
       "  If \u001b[36mcount\u001b[39m is omitted and the element type of \u001b[36mA\u001b[39m is a \u001b[36mUnion\u001b[39m, the element type\n",
       "  of the result will not include singleton types which are replaced with\n",
       "  values of a different type: for example, \u001b[36mUnion{T,Missing}\u001b[39m will become \u001b[36mT\u001b[39m if\n",
       "  \u001b[36mmissing\u001b[39m is replaced.\n",
       "\n",
       "  See also \u001b[36mreplace!\u001b[39m, \u001b[36msplice!\u001b[39m, \u001b[36mdelete!\u001b[39m, \u001b[36minsert!\u001b[39m.\n",
       "\n",
       "\u001b[39m\u001b[1m  │ \u001b[22m\u001b[39m\u001b[1mJulia 1.7\u001b[22m\n",
       "\u001b[39m\u001b[1m  │\u001b[22m\n",
       "\u001b[39m\u001b[1m  │\u001b[22m  Version 1.7 is required to replace elements of a \u001b[36mTuple\u001b[39m.\n",
       "\n",
       "\u001b[1m  Examples\u001b[22m\n",
       "\u001b[1m  ≡≡≡≡≡≡≡≡≡≡\u001b[22m\n",
       "\n",
       "\u001b[36m  julia> replace([1, 2, 1, 3], 1=>0, 2=>4, count=2)\u001b[39m\n",
       "\u001b[36m  4-element Vector{Int64}:\u001b[39m\n",
       "\u001b[36m   0\u001b[39m\n",
       "\u001b[36m   4\u001b[39m\n",
       "\u001b[36m   1\u001b[39m\n",
       "\u001b[36m   3\u001b[39m\n",
       "\u001b[36m  \u001b[39m\n",
       "\u001b[36m  julia> replace([1, missing], missing=>0)\u001b[39m\n",
       "\u001b[36m  2-element Vector{Int64}:\u001b[39m\n",
       "\u001b[36m   1\u001b[39m\n",
       "\u001b[36m   0\u001b[39m\n",
       "\n",
       "  ────────────────────────────────────────────────────────────────────────────\n",
       "\n",
       "\u001b[36m  replace(new::Function, A; [count::Integer])\u001b[39m\n",
       "\n",
       "  Return a copy of \u001b[36mA\u001b[39m where each value \u001b[36mx\u001b[39m in \u001b[36mA\u001b[39m is replaced by \u001b[36mnew(x)\u001b[39m. If \u001b[36mcount\u001b[39m\n",
       "  is specified, then replace at most \u001b[36mcount\u001b[39m values in total (replacements being\n",
       "  defined as \u001b[36mnew(x) !== x\u001b[39m).\n",
       "\n",
       "\u001b[39m\u001b[1m  │ \u001b[22m\u001b[39m\u001b[1mJulia 1.7\u001b[22m\n",
       "\u001b[39m\u001b[1m  │\u001b[22m\n",
       "\u001b[39m\u001b[1m  │\u001b[22m  Version 1.7 is required to replace elements of a \u001b[36mTuple\u001b[39m.\n",
       "\n",
       "\u001b[1m  Examples\u001b[22m\n",
       "\u001b[1m  ≡≡≡≡≡≡≡≡≡≡\u001b[22m\n",
       "\n",
       "\u001b[36m  julia> replace(x -> isodd(x) ? 2x : x, [1, 2, 3, 4])\u001b[39m\n",
       "\u001b[36m  4-element Vector{Int64}:\u001b[39m\n",
       "\u001b[36m   2\u001b[39m\n",
       "\u001b[36m   2\u001b[39m\n",
       "\u001b[36m   6\u001b[39m\n",
       "\u001b[36m   4\u001b[39m\n",
       "\u001b[36m  \u001b[39m\n",
       "\u001b[36m  julia> replace(Dict(1=>2, 3=>4)) do kv\u001b[39m\n",
       "\u001b[36m             first(kv) < 3 ? first(kv)=>3 : kv\u001b[39m\n",
       "\u001b[36m         end\u001b[39m\n",
       "\u001b[36m  Dict{Int64, Int64} with 2 entries:\u001b[39m\n",
       "\u001b[36m    3 => 4\u001b[39m\n",
       "\u001b[36m    1 => 3\u001b[39m\n",
       "\n",
       "  ────────────────────────────────────────────────────────────────────────────\n",
       "\n",
       "\u001b[36m  replace(s::AbstractString, pat=>r, [pat2=>r2, ...]; [count::Integer])\u001b[39m\n",
       "\n",
       "  Search for the given pattern \u001b[36mpat\u001b[39m in \u001b[36ms\u001b[39m, and replace each occurrence with \u001b[36mr\u001b[39m.\n",
       "  If \u001b[36mcount\u001b[39m is provided, replace at most \u001b[36mcount\u001b[39m occurrences. \u001b[36mpat\u001b[39m may be a single\n",
       "  character, a vector or a set of characters, a string, or a regular\n",
       "  expression. If \u001b[36mr\u001b[39m is a function, each occurrence is replaced with \u001b[36mr(s)\u001b[39m where\n",
       "  \u001b[36ms\u001b[39m is the matched substring (when \u001b[36mpat\u001b[39m is a \u001b[36mAbstractPattern\u001b[39m or \u001b[36mAbstractString\u001b[39m)\n",
       "  or character (when \u001b[36mpat\u001b[39m is an \u001b[36mAbstractChar\u001b[39m or a collection of \u001b[36mAbstractChar\u001b[39m).\n",
       "  If \u001b[36mpat\u001b[39m is a regular expression and \u001b[36mr\u001b[39m is a \u001b[36mSubstitutionString\u001b[39m, then capture\n",
       "  group references in \u001b[36mr\u001b[39m are replaced with the corresponding matched text. To\n",
       "  remove instances of \u001b[36mpat\u001b[39m from \u001b[36mstring\u001b[39m, set \u001b[36mr\u001b[39m to the empty \u001b[36mString\u001b[39m (\u001b[36m\"\"\u001b[39m).\n",
       "\n",
       "  Multiple patterns can be specified, and they will be applied left-to-right\n",
       "  simultaneously, so only one pattern will be applied to any character, and\n",
       "  the patterns will only be applied to the input text, not the replacements.\n",
       "\n",
       "\u001b[39m\u001b[1m  │ \u001b[22m\u001b[39m\u001b[1mJulia 1.7\u001b[22m\n",
       "\u001b[39m\u001b[1m  │\u001b[22m\n",
       "\u001b[39m\u001b[1m  │\u001b[22m  Support for multiple patterns requires version 1.7.\n",
       "\n",
       "\u001b[1m  Examples\u001b[22m\n",
       "\u001b[1m  ≡≡≡≡≡≡≡≡≡≡\u001b[22m\n",
       "\n",
       "\u001b[36m  julia> replace(\"Python is a programming language.\", \"Python\" => \"Julia\")\u001b[39m\n",
       "\u001b[36m  \"Julia is a programming language.\"\u001b[39m\n",
       "\u001b[36m  \u001b[39m\n",
       "\u001b[36m  julia> replace(\"The quick foxes run quickly.\", \"quick\" => \"slow\", count=1)\u001b[39m\n",
       "\u001b[36m  \"The slow foxes run quickly.\"\u001b[39m\n",
       "\u001b[36m  \u001b[39m\n",
       "\u001b[36m  julia> replace(\"The quick foxes run quickly.\", \"quick\" => \"\", count=1)\u001b[39m\n",
       "\u001b[36m  \"The  foxes run quickly.\"\u001b[39m\n",
       "\u001b[36m  \u001b[39m\n",
       "\u001b[36m  julia> replace(\"The quick foxes run quickly.\", r\"fox(es)?\" => s\"bus\\1\")\u001b[39m\n",
       "\u001b[36m  \"The quick buses run quickly.\"\u001b[39m\n",
       "\u001b[36m  \u001b[39m\n",
       "\u001b[36m  julia> replace(\"abcabc\", \"a\" => \"b\", \"b\" => \"c\", r\".+\" => \"a\")\u001b[39m\n",
       "\u001b[36m  \"bca\"\u001b[39m"
      ]
     },
     "execution_count": 23,
     "metadata": {},
     "output_type": "execute_result"
    }
   ],
   "source": [
    "?replace"
   ]
  },
  {
   "cell_type": "markdown",
   "id": "342c3c19",
   "metadata": {},
   "source": [
    "### More \n",
    "* strip Strips leading and trailing characters (by default, whitespace) from a string (also related are lstrip and rstrip for stripping leading and trailing characters)\n",
    "* startswith Checks if a given string starts with a passed prefix\n",
    "* endswith Checks if a given string ends with a passed suffix\n",
    "* uppercase Uppercases a string\n",
    "* lowercase Lowercases a string\n",
    "* randstring Creates random strings (defined in the Random module)"
   ]
  },
  {
   "cell_type": "code",
   "execution_count": 24,
   "id": "b98b6784",
   "metadata": {},
   "outputs": [
    {
     "data": {
      "text/plain": [
       "\"yo\""
      ]
     },
     "execution_count": 24,
     "metadata": {},
     "output_type": "execute_result"
    }
   ],
   "source": [
    "strip(\"   yo \")"
   ]
  },
  {
   "cell_type": "code",
   "execution_count": 25,
   "id": "f0b767a1",
   "metadata": {},
   "outputs": [
    {
     "data": {
      "text/plain": [
       "true"
      ]
     },
     "execution_count": 25,
     "metadata": {},
     "output_type": "execute_result"
    }
   ],
   "source": [
    "startswith(\"base\", \"ba\")"
   ]
  },
  {
   "cell_type": "code",
   "execution_count": 26,
   "id": "243e4795",
   "metadata": {},
   "outputs": [
    {
     "data": {
      "text/plain": [
       "\"HELLO\""
      ]
     },
     "execution_count": 26,
     "metadata": {},
     "output_type": "execute_result"
    }
   ],
   "source": [
    "uppercase(\"hello\")"
   ]
  },
  {
   "cell_type": "code",
   "execution_count": 28,
   "id": "9e10540e",
   "metadata": {},
   "outputs": [],
   "source": [
    "using Random"
   ]
  },
  {
   "cell_type": "code",
   "execution_count": 29,
   "id": "a2262f07",
   "metadata": {},
   "outputs": [
    {
     "data": {
      "text/plain": [
       "\"8KuxL1Sn\""
      ]
     },
     "execution_count": 29,
     "metadata": {},
     "output_type": "execute_result"
    }
   ],
   "source": [
    "randstring()"
   ]
  },
  {
   "cell_type": "markdown",
   "id": "21acc13a",
   "metadata": {},
   "source": [
    "### Regex"
   ]
  },
  {
   "cell_type": "code",
   "execution_count": null,
   "id": "4ec12af7",
   "metadata": {},
   "outputs": [],
   "source": []
  }
 ],
 "metadata": {
  "kernelspec": {
   "display_name": "Julia 1.8.5",
   "language": "julia",
   "name": "julia-1.8"
  },
  "language_info": {
   "file_extension": ".jl",
   "mimetype": "application/julia",
   "name": "julia",
   "version": "1.8.5"
  }
 },
 "nbformat": 4,
 "nbformat_minor": 5
}
