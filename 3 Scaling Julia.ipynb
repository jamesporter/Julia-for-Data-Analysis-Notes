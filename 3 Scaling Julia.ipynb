{
 "cells": [
  {
   "cell_type": "markdown",
   "id": "672730bb",
   "metadata": {},
   "source": [
    "## Types"
   ]
  },
  {
   "cell_type": "code",
   "execution_count": 1,
   "id": "94992397",
   "metadata": {},
   "outputs": [
    {
     "data": {
      "text/plain": [
       "typeof(map) (singleton type of function map, subtype of Function)"
      ]
     },
     "execution_count": 1,
     "metadata": {},
     "output_type": "execute_result"
    }
   ],
   "source": [
    "typeof(map)"
   ]
  },
  {
   "cell_type": "code",
   "execution_count": 2,
   "id": "f07f5b3c",
   "metadata": {},
   "outputs": [
    {
     "data": {
      "text/plain": [
       "Function"
      ]
     },
     "execution_count": 2,
     "metadata": {},
     "output_type": "execute_result"
    }
   ],
   "source": [
    "supertype(typeof(map))"
   ]
  },
  {
   "cell_type": "code",
   "execution_count": 3,
   "id": "80883eb6",
   "metadata": {},
   "outputs": [
    {
     "data": {
      "text/plain": [
       "Any"
      ]
     },
     "execution_count": 3,
     "metadata": {},
     "output_type": "execute_result"
    }
   ],
   "source": [
    "supertype(supertype(typeof(map)))"
   ]
  },
  {
   "cell_type": "code",
   "execution_count": 7,
   "id": "7ae6a731",
   "metadata": {},
   "outputs": [
    {
     "data": {
      "text/plain": [
       "Int32"
      ]
     },
     "execution_count": 7,
     "metadata": {},
     "output_type": "execute_result"
    }
   ],
   "source": [
    "typeof(Int32(1))"
   ]
  },
  {
   "cell_type": "code",
   "execution_count": 5,
   "id": "71eccf9b",
   "metadata": {},
   "outputs": [
    {
     "data": {
      "text/plain": [
       "Int64"
      ]
     },
     "execution_count": 5,
     "metadata": {},
     "output_type": "execute_result"
    }
   ],
   "source": [
    "typeof(1)"
   ]
  },
  {
   "cell_type": "code",
   "execution_count": 5,
   "id": "82e5fcbb",
   "metadata": {},
   "outputs": [
    {
     "data": {
      "text/plain": [
       "Signed"
      ]
     },
     "execution_count": 5,
     "metadata": {},
     "output_type": "execute_result"
    }
   ],
   "source": [
    "supertype(typeof(1))"
   ]
  },
  {
   "cell_type": "code",
   "execution_count": 6,
   "id": "0286e999",
   "metadata": {},
   "outputs": [
    {
     "data": {
      "text/plain": [
       "Integer"
      ]
     },
     "execution_count": 6,
     "metadata": {},
     "output_type": "execute_result"
    }
   ],
   "source": [
    "supertype(supertype(typeof(1)))"
   ]
  },
  {
   "cell_type": "code",
   "execution_count": 7,
   "id": "a8d24890",
   "metadata": {},
   "outputs": [
    {
     "data": {
      "text/plain": [
       "Real"
      ]
     },
     "execution_count": 7,
     "metadata": {},
     "output_type": "execute_result"
    }
   ],
   "source": [
    "supertype(supertype(supertype(typeof(1))))"
   ]
  },
  {
   "cell_type": "code",
   "execution_count": 8,
   "id": "a5bb8819",
   "metadata": {},
   "outputs": [
    {
     "data": {
      "text/plain": [
       "f (generic function with 1 method)"
      ]
     },
     "execution_count": 8,
     "metadata": {},
     "output_type": "execute_result"
    }
   ],
   "source": [
    "f(x::Number) = x + 2"
   ]
  },
  {
   "cell_type": "code",
   "execution_count": 9,
   "id": "defd5c40",
   "metadata": {},
   "outputs": [
    {
     "ename": "LoadError",
     "evalue": "MethodError: no method matching f(::String)\n\u001b[0mClosest candidates are:\n\u001b[0m  f(\u001b[91m::Number\u001b[39m) at In[8]:1",
     "output_type": "error",
     "traceback": [
      "MethodError: no method matching f(::String)\n\u001b[0mClosest candidates are:\n\u001b[0m  f(\u001b[91m::Number\u001b[39m) at In[8]:1",
      "",
      "Stacktrace:",
      " [1] top-level scope",
      "   @ In[9]:1"
     ]
    }
   ],
   "source": [
    "f(\"hi\")"
   ]
  },
  {
   "cell_type": "code",
   "execution_count": 10,
   "id": "1161b554",
   "metadata": {},
   "outputs": [
    {
     "data": {
      "text/plain": [
       "14"
      ]
     },
     "execution_count": 10,
     "metadata": {},
     "output_type": "execute_result"
    }
   ],
   "source": [
    "f(12)"
   ]
  },
  {
   "cell_type": "code",
   "execution_count": 11,
   "id": "2e333ed1",
   "metadata": {},
   "outputs": [
    {
     "data": {
      "text/plain": [
       "1024"
      ]
     },
     "execution_count": 11,
     "metadata": {},
     "output_type": "execute_result"
    }
   ],
   "source": [
    "function raise(n::Number, power::Number) \n",
    "    power > 0 || throw(ArgumentError(\"Must have positive power\")) \n",
    "    n ^ power\n",
    "end\n",
    "\n",
    "raise(4, 5)"
   ]
  },
  {
   "cell_type": "code",
   "execution_count": 12,
   "id": "f2674f5b",
   "metadata": {},
   "outputs": [
    {
     "ename": "LoadError",
     "evalue": "ArgumentError: Must have positive power",
     "output_type": "error",
     "traceback": [
      "ArgumentError: Must have positive power",
      "",
      "Stacktrace:",
      " [1] raise(n::Int64, power::Int64)",
      "   @ Main ./In[11]:2",
      " [2] top-level scope",
      "   @ In[12]:1"
     ]
    }
   ],
   "source": [
    "raise(4, -1)"
   ]
  },
  {
   "cell_type": "code",
   "execution_count": 13,
   "id": "d1109728",
   "metadata": {},
   "outputs": [
    {
     "ename": "LoadError",
     "evalue": "MethodError: no method matching raise(::String, ::Int64)\n\u001b[0mClosest candidates are:\n\u001b[0m  raise(\u001b[91m::Number\u001b[39m, ::Number) at In[11]:1",
     "output_type": "error",
     "traceback": [
      "MethodError: no method matching raise(::String, ::Int64)\n\u001b[0mClosest candidates are:\n\u001b[0m  raise(\u001b[91m::Number\u001b[39m, ::Number) at In[11]:1",
      "",
      "Stacktrace:",
      " [1] top-level scope",
      "   @ In[13]:1"
     ]
    }
   ],
   "source": [
    "raise(\"yo\", 2)"
   ]
  },
  {
   "cell_type": "markdown",
   "id": "5184413e",
   "metadata": {},
   "source": [
    "## Modules\n",
    "\n",
    "Have own scope, do no indent (convention)"
   ]
  },
  {
   "cell_type": "code",
   "execution_count": 8,
   "id": "b8ef7d82",
   "metadata": {},
   "outputs": [
    {
     "data": {
      "text/plain": [
       "Main.Example"
      ]
     },
     "execution_count": 8,
     "metadata": {},
     "output_type": "execute_result"
    }
   ],
   "source": [
    "module Example\n",
    "\n",
    "function fn()\n",
    "   println(\"Hello\")\n",
    "end\n",
    "\n",
    "end"
   ]
  },
  {
   "cell_type": "code",
   "execution_count": 9,
   "id": "550623f0",
   "metadata": {},
   "outputs": [],
   "source": [
    "import Statistics"
   ]
  },
  {
   "cell_type": "code",
   "execution_count": 10,
   "id": "60ce09a2",
   "metadata": {},
   "outputs": [
    {
     "ename": "LoadError",
     "evalue": "UndefVarError: mean not defined",
     "output_type": "error",
     "traceback": [
      "UndefVarError: mean not defined",
      "",
      "Stacktrace:",
      " [1] top-level scope",
      "   @ In[10]:1"
     ]
    }
   ],
   "source": [
    "mean([2,5,12])"
   ]
  },
  {
   "cell_type": "code",
   "execution_count": 11,
   "id": "036ecf04",
   "metadata": {},
   "outputs": [
    {
     "data": {
      "text/plain": [
       "6.333333333333333"
      ]
     },
     "execution_count": 11,
     "metadata": {},
     "output_type": "execute_result"
    }
   ],
   "source": [
    "Statistics.mean([2,5,12])"
   ]
  },
  {
   "cell_type": "code",
   "execution_count": 12,
   "id": "6da71586",
   "metadata": {},
   "outputs": [
    {
     "data": {
      "text/plain": [
       "11.666666666666666"
      ]
     },
     "execution_count": 12,
     "metadata": {},
     "output_type": "execute_result"
    }
   ],
   "source": [
    "using Statistics\n",
    "\n",
    "mean([4,12,19])"
   ]
  },
  {
   "cell_type": "markdown",
   "id": "3c7f7cd3",
   "metadata": {},
   "source": [
    "Unlike Python this should be safe to do/will see warnings on conflicts"
   ]
  },
  {
   "cell_type": "markdown",
   "id": "96669288",
   "metadata": {},
   "source": [
    "## Macros"
   ]
  },
  {
   "cell_type": "code",
   "execution_count": 13,
   "id": "fd8392a6",
   "metadata": {},
   "outputs": [
    {
     "name": "stdout",
     "output_type": "stream",
     "text": [
      "  0.000001 seconds\n"
     ]
    },
    {
     "data": {
      "text/plain": [
       "2.34234234324e11"
      ]
     },
     "execution_count": 13,
     "metadata": {},
     "output_type": "execute_result"
    }
   ],
   "source": [
    "@time 234234234324.00 ^ 1.0"
   ]
  },
  {
   "cell_type": "code",
   "execution_count": 16,
   "id": "9e58981e",
   "metadata": {},
   "outputs": [
    {
     "ename": "LoadError",
     "evalue": "AssertionError: 4 == 5",
     "output_type": "error",
     "traceback": [
      "AssertionError: 4 == 5",
      "",
      "Stacktrace:",
      " [1] top-level scope",
      "   @ In[16]:1"
     ]
    }
   ],
   "source": [
    "@assert 4 == 5 \"4 == 5\""
   ]
  },
  {
   "cell_type": "code",
   "execution_count": 29,
   "id": "c0e34580",
   "metadata": {},
   "outputs": [],
   "source": [
    "@assert 5 == 5 \"5 is 5\""
   ]
  },
  {
   "cell_type": "code",
   "execution_count": 19,
   "id": "6968ae65",
   "metadata": {},
   "outputs": [
    {
     "data": {
      "text/plain": [
       ":(if 5 == 5\n",
       "      nothing\n",
       "  else\n",
       "      Base.throw(Base.AssertionError(\"5 is 5\"))\n",
       "  end)"
      ]
     },
     "execution_count": 19,
     "metadata": {},
     "output_type": "execute_result"
    }
   ],
   "source": [
    "@macroexpand @assert 5 == 5 \"5 is 5\""
   ]
  },
  {
   "cell_type": "code",
   "execution_count": null,
   "id": "b9352d8d",
   "metadata": {},
   "outputs": [],
   "source": []
  },
  {
   "cell_type": "code",
   "execution_count": null,
   "id": "8f3c60a4",
   "metadata": {},
   "outputs": [],
   "source": []
  }
 ],
 "metadata": {
  "kernelspec": {
   "display_name": "Julia 1.8.5",
   "language": "julia",
   "name": "julia-1.8"
  },
  "language_info": {
   "file_extension": ".jl",
   "mimetype": "application/julia",
   "name": "julia",
   "version": "1.8.5"
  }
 },
 "nbformat": 4,
 "nbformat_minor": 5
}
