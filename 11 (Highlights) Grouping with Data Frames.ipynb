{
 "cells": [
  {
   "cell_type": "markdown",
   "id": "27f4a58d",
   "metadata": {},
   "source": [
    "## 11.2 Grouping data frame objects"
   ]
  },
  {
   "cell_type": "code",
   "execution_count": 1,
   "id": "98221e95",
   "metadata": {},
   "outputs": [],
   "source": [
    "using CSV"
   ]
  },
  {
   "cell_type": "code",
   "execution_count": 2,
   "id": "67ffe096",
   "metadata": {},
   "outputs": [],
   "source": [
    "raw_data = \"\"\"\n",
    "city,date,rainfall\n",
    "Olecko,2020-11-16,2.9\n",
    "Olecko,2020-11-17,4.1\n",
    "Olecko,2020-11-19,4.3\n",
    "Olecko,2020-11-20,2.0\n",
    "Olecko,2020-11-21,0.6\n",
    "Olecko,2020-11-22,1.0\n",
    "Ełk,2020-11-16,3.9\n",
    "Ełk,2020-11-19,1.2\n",
    "Ełk,2020-11-20,2.0\n",
    "Ełk,2020-11-22,2.0\n",
    "\"\"\";"
   ]
  },
  {
   "cell_type": "code",
   "execution_count": 4,
   "id": "82b79986",
   "metadata": {},
   "outputs": [],
   "source": [
    "using DataFrames"
   ]
  },
  {
   "cell_type": "code",
   "execution_count": 5,
   "id": "c02b6246",
   "metadata": {},
   "outputs": [
    {
     "data": {
      "text/html": [
       "<div><div style = \"float: left;\"><span>10×3 DataFrame</span></div><div style = \"clear: both;\"></div></div><div class = \"data-frame\" style = \"overflow-x: scroll;\"><table class = \"data-frame\" style = \"margin-bottom: 6px;\"><thead><tr class = \"header\"><th class = \"rowNumber\" style = \"font-weight: bold; text-align: right;\">Row</th><th style = \"text-align: left;\">city</th><th style = \"text-align: left;\">date</th><th style = \"text-align: left;\">rainfall</th></tr><tr class = \"subheader headerLastRow\"><th class = \"rowNumber\" style = \"font-weight: bold; text-align: right;\"></th><th title = \"String7\" style = \"text-align: left;\">String7</th><th title = \"Dates.Date\" style = \"text-align: left;\">Date</th><th title = \"Float64\" style = \"text-align: left;\">Float64</th></tr></thead><tbody><tr><td class = \"rowNumber\" style = \"font-weight: bold; text-align: right;\">1</td><td style = \"text-align: left;\">Olecko</td><td style = \"text-align: left;\">2020-11-16</td><td style = \"text-align: right;\">2.9</td></tr><tr><td class = \"rowNumber\" style = \"font-weight: bold; text-align: right;\">2</td><td style = \"text-align: left;\">Olecko</td><td style = \"text-align: left;\">2020-11-17</td><td style = \"text-align: right;\">4.1</td></tr><tr><td class = \"rowNumber\" style = \"font-weight: bold; text-align: right;\">3</td><td style = \"text-align: left;\">Olecko</td><td style = \"text-align: left;\">2020-11-19</td><td style = \"text-align: right;\">4.3</td></tr><tr><td class = \"rowNumber\" style = \"font-weight: bold; text-align: right;\">4</td><td style = \"text-align: left;\">Olecko</td><td style = \"text-align: left;\">2020-11-20</td><td style = \"text-align: right;\">2.0</td></tr><tr><td class = \"rowNumber\" style = \"font-weight: bold; text-align: right;\">5</td><td style = \"text-align: left;\">Olecko</td><td style = \"text-align: left;\">2020-11-21</td><td style = \"text-align: right;\">0.6</td></tr><tr><td class = \"rowNumber\" style = \"font-weight: bold; text-align: right;\">6</td><td style = \"text-align: left;\">Olecko</td><td style = \"text-align: left;\">2020-11-22</td><td style = \"text-align: right;\">1.0</td></tr><tr><td class = \"rowNumber\" style = \"font-weight: bold; text-align: right;\">7</td><td style = \"text-align: left;\">Ełk</td><td style = \"text-align: left;\">2020-11-16</td><td style = \"text-align: right;\">3.9</td></tr><tr><td class = \"rowNumber\" style = \"font-weight: bold; text-align: right;\">8</td><td style = \"text-align: left;\">Ełk</td><td style = \"text-align: left;\">2020-11-19</td><td style = \"text-align: right;\">1.2</td></tr><tr><td class = \"rowNumber\" style = \"font-weight: bold; text-align: right;\">9</td><td style = \"text-align: left;\">Ełk</td><td style = \"text-align: left;\">2020-11-20</td><td style = \"text-align: right;\">2.0</td></tr><tr><td class = \"rowNumber\" style = \"font-weight: bold; text-align: right;\">10</td><td style = \"text-align: left;\">Ełk</td><td style = \"text-align: left;\">2020-11-22</td><td style = \"text-align: right;\">2.0</td></tr></tbody></table></div>"
      ],
      "text/latex": [
       "\\begin{tabular}{r|ccc}\n",
       "\t& city & date & rainfall\\\\\n",
       "\t\\hline\n",
       "\t& String7 & Date & Float64\\\\\n",
       "\t\\hline\n",
       "\t1 & Olecko & 2020-11-16 & 2.9 \\\\\n",
       "\t2 & Olecko & 2020-11-17 & 4.1 \\\\\n",
       "\t3 & Olecko & 2020-11-19 & 4.3 \\\\\n",
       "\t4 & Olecko & 2020-11-20 & 2.0 \\\\\n",
       "\t5 & Olecko & 2020-11-21 & 0.6 \\\\\n",
       "\t6 & Olecko & 2020-11-22 & 1.0 \\\\\n",
       "\t7 & Ełk & 2020-11-16 & 3.9 \\\\\n",
       "\t8 & Ełk & 2020-11-19 & 1.2 \\\\\n",
       "\t9 & Ełk & 2020-11-20 & 2.0 \\\\\n",
       "\t10 & Ełk & 2020-11-22 & 2.0 \\\\\n",
       "\\end{tabular}\n"
      ],
      "text/plain": [
       "\u001b[1m10×3 DataFrame\u001b[0m\n",
       "\u001b[1m Row \u001b[0m│\u001b[1m city    \u001b[0m\u001b[1m date       \u001b[0m\u001b[1m rainfall \u001b[0m\n",
       "     │\u001b[90m String7 \u001b[0m\u001b[90m Date       \u001b[0m\u001b[90m Float64  \u001b[0m\n",
       "─────┼───────────────────────────────\n",
       "   1 │ Olecko   2020-11-16       2.9\n",
       "   2 │ Olecko   2020-11-17       4.1\n",
       "   3 │ Olecko   2020-11-19       4.3\n",
       "   4 │ Olecko   2020-11-20       2.0\n",
       "   5 │ Olecko   2020-11-21       0.6\n",
       "   6 │ Olecko   2020-11-22       1.0\n",
       "   7 │ Ełk      2020-11-16       3.9\n",
       "   8 │ Ełk      2020-11-19       1.2\n",
       "   9 │ Ełk      2020-11-20       2.0\n",
       "  10 │ Ełk      2020-11-22       2.0"
      ]
     },
     "execution_count": 5,
     "metadata": {},
     "output_type": "execute_result"
    }
   ],
   "source": [
    "rainfall_df = CSV.read(IOBuffer(raw_data), DataFrame)"
   ]
  },
  {
   "cell_type": "code",
   "execution_count": 6,
   "id": "87fed270",
   "metadata": {},
   "outputs": [
    {
     "data": {
      "text/html": [
       "<p><b>GroupedDataFrame with 2 groups based on key: city</b></p><div><div style = \"float: left;\"><span>First Group (6 rows): city = &quot;Olecko&quot;</span></div><div style = \"clear: both;\"></div></div><div class = \"data-frame\" style = \"overflow-x: scroll;\"><table class = \"data-frame\" style = \"margin-bottom: 6px;\"><thead><tr class = \"header\"><th class = \"rowNumber\" style = \"font-weight: bold; text-align: right;\">Row</th><th style = \"text-align: left;\">city</th><th style = \"text-align: left;\">date</th><th style = \"text-align: left;\">rainfall</th></tr><tr class = \"subheader headerLastRow\"><th class = \"rowNumber\" style = \"font-weight: bold; text-align: right;\"></th><th title = \"String7\" style = \"text-align: left;\">String7</th><th title = \"Dates.Date\" style = \"text-align: left;\">Date</th><th title = \"Float64\" style = \"text-align: left;\">Float64</th></tr></thead><tbody><tr><td class = \"rowNumber\" style = \"font-weight: bold; text-align: right;\">1</td><td style = \"text-align: left;\">Olecko</td><td style = \"text-align: left;\">2020-11-16</td><td style = \"text-align: right;\">2.9</td></tr><tr><td class = \"rowNumber\" style = \"font-weight: bold; text-align: right;\">2</td><td style = \"text-align: left;\">Olecko</td><td style = \"text-align: left;\">2020-11-17</td><td style = \"text-align: right;\">4.1</td></tr><tr><td class = \"rowNumber\" style = \"font-weight: bold; text-align: right;\">3</td><td style = \"text-align: left;\">Olecko</td><td style = \"text-align: left;\">2020-11-19</td><td style = \"text-align: right;\">4.3</td></tr><tr><td class = \"rowNumber\" style = \"font-weight: bold; text-align: right;\">4</td><td style = \"text-align: left;\">Olecko</td><td style = \"text-align: left;\">2020-11-20</td><td style = \"text-align: right;\">2.0</td></tr><tr><td class = \"rowNumber\" style = \"font-weight: bold; text-align: right;\">5</td><td style = \"text-align: left;\">Olecko</td><td style = \"text-align: left;\">2020-11-21</td><td style = \"text-align: right;\">0.6</td></tr><tr><td class = \"rowNumber\" style = \"font-weight: bold; text-align: right;\">6</td><td style = \"text-align: left;\">Olecko</td><td style = \"text-align: left;\">2020-11-22</td><td style = \"text-align: right;\">1.0</td></tr></tbody></table></div><p>&vellip;</p><div><div style = \"float: left;\"><span>Last Group (4 rows): city = &quot;Ełk&quot;</span></div><div style = \"clear: both;\"></div></div><div class = \"data-frame\" style = \"overflow-x: scroll;\"><table class = \"data-frame\" style = \"margin-bottom: 6px;\"><thead><tr class = \"header\"><th class = \"rowNumber\" style = \"font-weight: bold; text-align: right;\">Row</th><th style = \"text-align: left;\">city</th><th style = \"text-align: left;\">date</th><th style = \"text-align: left;\">rainfall</th></tr><tr class = \"subheader headerLastRow\"><th class = \"rowNumber\" style = \"font-weight: bold; text-align: right;\"></th><th title = \"String7\" style = \"text-align: left;\">String7</th><th title = \"Dates.Date\" style = \"text-align: left;\">Date</th><th title = \"Float64\" style = \"text-align: left;\">Float64</th></tr></thead><tbody><tr><td class = \"rowNumber\" style = \"font-weight: bold; text-align: right;\">1</td><td style = \"text-align: left;\">Ełk</td><td style = \"text-align: left;\">2020-11-16</td><td style = \"text-align: right;\">3.9</td></tr><tr><td class = \"rowNumber\" style = \"font-weight: bold; text-align: right;\">2</td><td style = \"text-align: left;\">Ełk</td><td style = \"text-align: left;\">2020-11-19</td><td style = \"text-align: right;\">1.2</td></tr><tr><td class = \"rowNumber\" style = \"font-weight: bold; text-align: right;\">3</td><td style = \"text-align: left;\">Ełk</td><td style = \"text-align: left;\">2020-11-20</td><td style = \"text-align: right;\">2.0</td></tr><tr><td class = \"rowNumber\" style = \"font-weight: bold; text-align: right;\">4</td><td style = \"text-align: left;\">Ełk</td><td style = \"text-align: left;\">2020-11-22</td><td style = \"text-align: right;\">2.0</td></tr></tbody></table></div>"
      ],
      "text/latex": [
       "GroupedDataFrame with 2 groups based on key: city\n",
       "\n",
       "First Group (6 rows): city = \"Olecko\"\n",
       "\n",
       "\\begin{tabular}{r|ccc}\n",
       "\t& city & date & rainfall\\\\\n",
       "\t\\hline\n",
       "\t& String7 & Date & Float64\\\\\n",
       "\t\\hline\n",
       "\t1 & Olecko & 2020-11-16 & 2.9 \\\\\n",
       "\t2 & Olecko & 2020-11-17 & 4.1 \\\\\n",
       "\t3 & Olecko & 2020-11-19 & 4.3 \\\\\n",
       "\t4 & Olecko & 2020-11-20 & 2.0 \\\\\n",
       "\t5 & Olecko & 2020-11-21 & 0.6 \\\\\n",
       "\t6 & Olecko & 2020-11-22 & 1.0 \\\\\n",
       "\\end{tabular}\n",
       "\n",
       "$\\dots$\n",
       "\n",
       "Last Group (4 rows): city = \"Ełk\"\n",
       "\n",
       "\\begin{tabular}{r|ccc}\n",
       "\t& city & date & rainfall\\\\\n",
       "\t\\hline\n",
       "\t& String7 & Date & Float64\\\\\n",
       "\t\\hline\n",
       "\t1 & Ełk & 2020-11-16 & 3.9 \\\\\n",
       "\t2 & Ełk & 2020-11-19 & 1.2 \\\\\n",
       "\t3 & Ełk & 2020-11-20 & 2.0 \\\\\n",
       "\t4 & Ełk & 2020-11-22 & 2.0 \\\\\n",
       "\\end{tabular}\n"
      ],
      "text/plain": [
       "GroupedDataFrame with 2 groups based on key: city\n",
       "First Group (6 rows): city = \"Olecko\"\n",
       "\u001b[1m Row \u001b[0m│\u001b[1m city    \u001b[0m\u001b[1m date       \u001b[0m\u001b[1m rainfall \u001b[0m\n",
       "     │\u001b[90m String7 \u001b[0m\u001b[90m Date       \u001b[0m\u001b[90m Float64  \u001b[0m\n",
       "─────┼───────────────────────────────\n",
       "   1 │ Olecko   2020-11-16       2.9\n",
       "   2 │ Olecko   2020-11-17       4.1\n",
       "   3 │ Olecko   2020-11-19       4.3\n",
       "   4 │ Olecko   2020-11-20       2.0\n",
       "   5 │ Olecko   2020-11-21       0.6\n",
       "   6 │ Olecko   2020-11-22       1.0\n",
       "⋮\n",
       "Last Group (4 rows): city = \"Ełk\"\n",
       "\u001b[1m Row \u001b[0m│\u001b[1m city    \u001b[0m\u001b[1m date       \u001b[0m\u001b[1m rainfall \u001b[0m\n",
       "     │\u001b[90m String7 \u001b[0m\u001b[90m Date       \u001b[0m\u001b[90m Float64  \u001b[0m\n",
       "─────┼───────────────────────────────\n",
       "   1 │ Ełk      2020-11-16       3.9\n",
       "   2 │ Ełk      2020-11-19       1.2\n",
       "   3 │ Ełk      2020-11-20       2.0\n",
       "   4 │ Ełk      2020-11-22       2.0"
      ]
     },
     "execution_count": 6,
     "metadata": {},
     "output_type": "execute_result"
    }
   ],
   "source": [
    "gdf_city = groupby(rainfall_df, \"city\")"
   ]
  },
  {
   "cell_type": "code",
   "execution_count": 7,
   "id": "b392b97b",
   "metadata": {},
   "outputs": [
    {
     "data": {
      "text/html": [
       "<p><b>GroupedDataFrame with 10 groups based on keys: city, date</b></p><div><div style = \"float: left;\"><span>First Group (1 row): city = &quot;Olecko&quot;, date = 2020-11-16</span></div><div style = \"clear: both;\"></div></div><div class = \"data-frame\" style = \"overflow-x: scroll;\"><table class = \"data-frame\" style = \"margin-bottom: 6px;\"><thead><tr class = \"header\"><th class = \"rowNumber\" style = \"font-weight: bold; text-align: right;\">Row</th><th style = \"text-align: left;\">city</th><th style = \"text-align: left;\">date</th><th style = \"text-align: left;\">rainfall</th></tr><tr class = \"subheader headerLastRow\"><th class = \"rowNumber\" style = \"font-weight: bold; text-align: right;\"></th><th title = \"String7\" style = \"text-align: left;\">String7</th><th title = \"Dates.Date\" style = \"text-align: left;\">Date</th><th title = \"Float64\" style = \"text-align: left;\">Float64</th></tr></thead><tbody><tr><td class = \"rowNumber\" style = \"font-weight: bold; text-align: right;\">1</td><td style = \"text-align: left;\">Olecko</td><td style = \"text-align: left;\">2020-11-16</td><td style = \"text-align: right;\">2.9</td></tr></tbody></table></div><p>&vellip;</p><div><div style = \"float: left;\"><span>Last Group (1 row): city = &quot;Ełk&quot;, date = 2020-11-22</span></div><div style = \"clear: both;\"></div></div><div class = \"data-frame\" style = \"overflow-x: scroll;\"><table class = \"data-frame\" style = \"margin-bottom: 6px;\"><thead><tr class = \"header\"><th class = \"rowNumber\" style = \"font-weight: bold; text-align: right;\">Row</th><th style = \"text-align: left;\">city</th><th style = \"text-align: left;\">date</th><th style = \"text-align: left;\">rainfall</th></tr><tr class = \"subheader headerLastRow\"><th class = \"rowNumber\" style = \"font-weight: bold; text-align: right;\"></th><th title = \"String7\" style = \"text-align: left;\">String7</th><th title = \"Dates.Date\" style = \"text-align: left;\">Date</th><th title = \"Float64\" style = \"text-align: left;\">Float64</th></tr></thead><tbody><tr><td class = \"rowNumber\" style = \"font-weight: bold; text-align: right;\">1</td><td style = \"text-align: left;\">Ełk</td><td style = \"text-align: left;\">2020-11-22</td><td style = \"text-align: right;\">2.0</td></tr></tbody></table></div>"
      ],
      "text/latex": [
       "GroupedDataFrame with 10 groups based on keys: city, date\n",
       "\n",
       "First Group (1 row): city = \"Olecko\", date = 2020-11-16\n",
       "\n",
       "\\begin{tabular}{r|ccc}\n",
       "\t& city & date & rainfall\\\\\n",
       "\t\\hline\n",
       "\t& String7 & Date & Float64\\\\\n",
       "\t\\hline\n",
       "\t1 & Olecko & 2020-11-16 & 2.9 \\\\\n",
       "\\end{tabular}\n",
       "\n",
       "$\\dots$\n",
       "\n",
       "Last Group (1 row): city = \"Ełk\", date = 2020-11-22\n",
       "\n",
       "\\begin{tabular}{r|ccc}\n",
       "\t& city & date & rainfall\\\\\n",
       "\t\\hline\n",
       "\t& String7 & Date & Float64\\\\\n",
       "\t\\hline\n",
       "\t1 & Ełk & 2020-11-22 & 2.0 \\\\\n",
       "\\end{tabular}\n"
      ],
      "text/plain": [
       "GroupedDataFrame with 10 groups based on keys: city, date\n",
       "First Group (1 row): city = \"Olecko\", date = 2020-11-16\n",
       "\u001b[1m Row \u001b[0m│\u001b[1m city    \u001b[0m\u001b[1m date       \u001b[0m\u001b[1m rainfall \u001b[0m\n",
       "     │\u001b[90m String7 \u001b[0m\u001b[90m Date       \u001b[0m\u001b[90m Float64  \u001b[0m\n",
       "─────┼───────────────────────────────\n",
       "   1 │ Olecko   2020-11-16       2.9\n",
       "⋮\n",
       "Last Group (1 row): city = \"Ełk\", date = 2020-11-22\n",
       "\u001b[1m Row \u001b[0m│\u001b[1m city    \u001b[0m\u001b[1m date       \u001b[0m\u001b[1m rainfall \u001b[0m\n",
       "     │\u001b[90m String7 \u001b[0m\u001b[90m Date       \u001b[0m\u001b[90m Float64  \u001b[0m\n",
       "─────┼───────────────────────────────\n",
       "   1 │ Ełk      2020-11-22       2.0"
      ]
     },
     "execution_count": 7,
     "metadata": {},
     "output_type": "execute_result"
    }
   ],
   "source": [
    "gdf_city_date = groupby(rainfall_df, Not(\"rainfall\"))"
   ]
  },
  {
   "cell_type": "code",
   "execution_count": 8,
   "id": "dcc584d9",
   "metadata": {},
   "outputs": [
    {
     "data": {
      "text/plain": [
       "10-element DataFrames.GroupKeys{GroupedDataFrame{DataFrame}}:\n",
       " GroupKey: (city = String7(\"Olecko\"), date = Dates.Date(\"2020-11-16\"))\n",
       " GroupKey: (city = String7(\"Olecko\"), date = Dates.Date(\"2020-11-17\"))\n",
       " GroupKey: (city = String7(\"Olecko\"), date = Dates.Date(\"2020-11-19\"))\n",
       " GroupKey: (city = String7(\"Olecko\"), date = Dates.Date(\"2020-11-20\"))\n",
       " GroupKey: (city = String7(\"Olecko\"), date = Dates.Date(\"2020-11-21\"))\n",
       " GroupKey: (city = String7(\"Olecko\"), date = Dates.Date(\"2020-11-22\"))\n",
       " GroupKey: (city = String7(\"Ełk\"), date = Dates.Date(\"2020-11-16\"))\n",
       " GroupKey: (city = String7(\"Ełk\"), date = Dates.Date(\"2020-11-19\"))\n",
       " GroupKey: (city = String7(\"Ełk\"), date = Dates.Date(\"2020-11-20\"))\n",
       " GroupKey: (city = String7(\"Ełk\"), date = Dates.Date(\"2020-11-22\"))"
      ]
     },
     "execution_count": 8,
     "metadata": {},
     "output_type": "execute_result"
    }
   ],
   "source": [
    "keys(gdf_city_date)"
   ]
  },
  {
   "cell_type": "markdown",
   "id": "d7c86a41",
   "metadata": {},
   "source": [
    "> you can index into a GroupedDataFrame by using normal vector indexing with integers, but you also can pass a GroupKey, Tuple, NamedTuple, or dictionary to select the group you would like to pick."
   ]
  },
  {
   "cell_type": "code",
   "execution_count": 9,
   "id": "4ecccd6d",
   "metadata": {},
   "outputs": [
    {
     "data": {
      "text/html": [
       "<div><div style = \"float: left;\"><span>1×3 SubDataFrame</span></div><div style = \"clear: both;\"></div></div><div class = \"data-frame\" style = \"overflow-x: scroll;\"><table class = \"data-frame\" style = \"margin-bottom: 6px;\"><thead><tr class = \"header\"><th class = \"rowNumber\" style = \"font-weight: bold; text-align: right;\">Row</th><th style = \"text-align: left;\">city</th><th style = \"text-align: left;\">date</th><th style = \"text-align: left;\">rainfall</th></tr><tr class = \"subheader headerLastRow\"><th class = \"rowNumber\" style = \"font-weight: bold; text-align: right;\"></th><th title = \"String7\" style = \"text-align: left;\">String7</th><th title = \"Dates.Date\" style = \"text-align: left;\">Date</th><th title = \"Float64\" style = \"text-align: left;\">Float64</th></tr></thead><tbody><tr><td class = \"rowNumber\" style = \"font-weight: bold; text-align: right;\">1</td><td style = \"text-align: left;\">Olecko</td><td style = \"text-align: left;\">2020-11-16</td><td style = \"text-align: right;\">2.9</td></tr></tbody></table></div>"
      ],
      "text/latex": [
       "\\begin{tabular}{r|ccc}\n",
       "\t& city & date & rainfall\\\\\n",
       "\t\\hline\n",
       "\t& String7 & Date & Float64\\\\\n",
       "\t\\hline\n",
       "\t1 & Olecko & 2020-11-16 & 2.9 \\\\\n",
       "\\end{tabular}\n"
      ],
      "text/plain": [
       "\u001b[1m1×3 SubDataFrame\u001b[0m\n",
       "\u001b[1m Row \u001b[0m│\u001b[1m city    \u001b[0m\u001b[1m date       \u001b[0m\u001b[1m rainfall \u001b[0m\n",
       "     │\u001b[90m String7 \u001b[0m\u001b[90m Date       \u001b[0m\u001b[90m Float64  \u001b[0m\n",
       "─────┼───────────────────────────────\n",
       "   1 │ Olecko   2020-11-16       2.9"
      ]
     },
     "execution_count": 9,
     "metadata": {},
     "output_type": "execute_result"
    }
   ],
   "source": [
    "gdf_city_date[1]"
   ]
  },
  {
   "cell_type": "code",
   "execution_count": 11,
   "id": "4e0553cb",
   "metadata": {},
   "outputs": [],
   "source": [
    "using Dates"
   ]
  },
  {
   "cell_type": "code",
   "execution_count": 13,
   "id": "1a57b22c",
   "metadata": {},
   "outputs": [
    {
     "data": {
      "text/html": [
       "<div><div style = \"float: left;\"><span>1×3 SubDataFrame</span></div><div style = \"clear: both;\"></div></div><div class = \"data-frame\" style = \"overflow-x: scroll;\"><table class = \"data-frame\" style = \"margin-bottom: 6px;\"><thead><tr class = \"header\"><th class = \"rowNumber\" style = \"font-weight: bold; text-align: right;\">Row</th><th style = \"text-align: left;\">city</th><th style = \"text-align: left;\">date</th><th style = \"text-align: left;\">rainfall</th></tr><tr class = \"subheader headerLastRow\"><th class = \"rowNumber\" style = \"font-weight: bold; text-align: right;\"></th><th title = \"String7\" style = \"text-align: left;\">String7</th><th title = \"Date\" style = \"text-align: left;\">Date</th><th title = \"Float64\" style = \"text-align: left;\">Float64</th></tr></thead><tbody><tr><td class = \"rowNumber\" style = \"font-weight: bold; text-align: right;\">1</td><td style = \"text-align: left;\">Olecko</td><td style = \"text-align: left;\">2020-11-16</td><td style = \"text-align: right;\">2.9</td></tr></tbody></table></div>"
      ],
      "text/latex": [
       "\\begin{tabular}{r|ccc}\n",
       "\t& city & date & rainfall\\\\\n",
       "\t\\hline\n",
       "\t& String7 & Date & Float64\\\\\n",
       "\t\\hline\n",
       "\t1 & Olecko & 2020-11-16 & 2.9 \\\\\n",
       "\\end{tabular}\n"
      ],
      "text/plain": [
       "\u001b[1m1×3 SubDataFrame\u001b[0m\n",
       "\u001b[1m Row \u001b[0m│\u001b[1m city    \u001b[0m\u001b[1m date       \u001b[0m\u001b[1m rainfall \u001b[0m\n",
       "     │\u001b[90m String7 \u001b[0m\u001b[90m Date       \u001b[0m\u001b[90m Float64  \u001b[0m\n",
       "─────┼───────────────────────────────\n",
       "   1 │ Olecko   2020-11-16       2.9"
      ]
     },
     "execution_count": 13,
     "metadata": {},
     "output_type": "execute_result"
    }
   ],
   "source": [
    "gdf_city_date[(\"Olecko\", Date(\"2020-11-16\"))]"
   ]
  },
  {
   "cell_type": "markdown",
   "id": "c3f87e0d",
   "metadata": {},
   "source": [
    "Access many items by passing vector of things that are indices"
   ]
  },
  {
   "cell_type": "code",
   "execution_count": 14,
   "id": "1e196899",
   "metadata": {},
   "outputs": [
    {
     "data": {
      "text/html": [
       "<p><b>GroupedDataFrame with 2 groups based on key: city</b></p><div><div style = \"float: left;\"><span>First Group (4 rows): city = &quot;Ełk&quot;</span></div><div style = \"clear: both;\"></div></div><div class = \"data-frame\" style = \"overflow-x: scroll;\"><table class = \"data-frame\" style = \"margin-bottom: 6px;\"><thead><tr class = \"header\"><th class = \"rowNumber\" style = \"font-weight: bold; text-align: right;\">Row</th><th style = \"text-align: left;\">city</th><th style = \"text-align: left;\">date</th><th style = \"text-align: left;\">rainfall</th></tr><tr class = \"subheader headerLastRow\"><th class = \"rowNumber\" style = \"font-weight: bold; text-align: right;\"></th><th title = \"String7\" style = \"text-align: left;\">String7</th><th title = \"Date\" style = \"text-align: left;\">Date</th><th title = \"Float64\" style = \"text-align: left;\">Float64</th></tr></thead><tbody><tr><td class = \"rowNumber\" style = \"font-weight: bold; text-align: right;\">1</td><td style = \"text-align: left;\">Ełk</td><td style = \"text-align: left;\">2020-11-16</td><td style = \"text-align: right;\">3.9</td></tr><tr><td class = \"rowNumber\" style = \"font-weight: bold; text-align: right;\">2</td><td style = \"text-align: left;\">Ełk</td><td style = \"text-align: left;\">2020-11-19</td><td style = \"text-align: right;\">1.2</td></tr><tr><td class = \"rowNumber\" style = \"font-weight: bold; text-align: right;\">3</td><td style = \"text-align: left;\">Ełk</td><td style = \"text-align: left;\">2020-11-20</td><td style = \"text-align: right;\">2.0</td></tr><tr><td class = \"rowNumber\" style = \"font-weight: bold; text-align: right;\">4</td><td style = \"text-align: left;\">Ełk</td><td style = \"text-align: left;\">2020-11-22</td><td style = \"text-align: right;\">2.0</td></tr></tbody></table></div><p>&vellip;</p><div><div style = \"float: left;\"><span>Last Group (6 rows): city = &quot;Olecko&quot;</span></div><div style = \"clear: both;\"></div></div><div class = \"data-frame\" style = \"overflow-x: scroll;\"><table class = \"data-frame\" style = \"margin-bottom: 6px;\"><thead><tr class = \"header\"><th class = \"rowNumber\" style = \"font-weight: bold; text-align: right;\">Row</th><th style = \"text-align: left;\">city</th><th style = \"text-align: left;\">date</th><th style = \"text-align: left;\">rainfall</th></tr><tr class = \"subheader headerLastRow\"><th class = \"rowNumber\" style = \"font-weight: bold; text-align: right;\"></th><th title = \"String7\" style = \"text-align: left;\">String7</th><th title = \"Date\" style = \"text-align: left;\">Date</th><th title = \"Float64\" style = \"text-align: left;\">Float64</th></tr></thead><tbody><tr><td class = \"rowNumber\" style = \"font-weight: bold; text-align: right;\">1</td><td style = \"text-align: left;\">Olecko</td><td style = \"text-align: left;\">2020-11-16</td><td style = \"text-align: right;\">2.9</td></tr><tr><td class = \"rowNumber\" style = \"font-weight: bold; text-align: right;\">2</td><td style = \"text-align: left;\">Olecko</td><td style = \"text-align: left;\">2020-11-17</td><td style = \"text-align: right;\">4.1</td></tr><tr><td class = \"rowNumber\" style = \"font-weight: bold; text-align: right;\">3</td><td style = \"text-align: left;\">Olecko</td><td style = \"text-align: left;\">2020-11-19</td><td style = \"text-align: right;\">4.3</td></tr><tr><td class = \"rowNumber\" style = \"font-weight: bold; text-align: right;\">4</td><td style = \"text-align: left;\">Olecko</td><td style = \"text-align: left;\">2020-11-20</td><td style = \"text-align: right;\">2.0</td></tr><tr><td class = \"rowNumber\" style = \"font-weight: bold; text-align: right;\">5</td><td style = \"text-align: left;\">Olecko</td><td style = \"text-align: left;\">2020-11-21</td><td style = \"text-align: right;\">0.6</td></tr><tr><td class = \"rowNumber\" style = \"font-weight: bold; text-align: right;\">6</td><td style = \"text-align: left;\">Olecko</td><td style = \"text-align: left;\">2020-11-22</td><td style = \"text-align: right;\">1.0</td></tr></tbody></table></div>"
      ],
      "text/latex": [
       "GroupedDataFrame with 2 groups based on key: city\n",
       "\n",
       "First Group (4 rows): city = \"Ełk\"\n",
       "\n",
       "\\begin{tabular}{r|ccc}\n",
       "\t& city & date & rainfall\\\\\n",
       "\t\\hline\n",
       "\t& String7 & Date & Float64\\\\\n",
       "\t\\hline\n",
       "\t1 & Ełk & 2020-11-16 & 3.9 \\\\\n",
       "\t2 & Ełk & 2020-11-19 & 1.2 \\\\\n",
       "\t3 & Ełk & 2020-11-20 & 2.0 \\\\\n",
       "\t4 & Ełk & 2020-11-22 & 2.0 \\\\\n",
       "\\end{tabular}\n",
       "\n",
       "$\\dots$\n",
       "\n",
       "Last Group (6 rows): city = \"Olecko\"\n",
       "\n",
       "\\begin{tabular}{r|ccc}\n",
       "\t& city & date & rainfall\\\\\n",
       "\t\\hline\n",
       "\t& String7 & Date & Float64\\\\\n",
       "\t\\hline\n",
       "\t1 & Olecko & 2020-11-16 & 2.9 \\\\\n",
       "\t2 & Olecko & 2020-11-17 & 4.1 \\\\\n",
       "\t3 & Olecko & 2020-11-19 & 4.3 \\\\\n",
       "\t4 & Olecko & 2020-11-20 & 2.0 \\\\\n",
       "\t5 & Olecko & 2020-11-21 & 0.6 \\\\\n",
       "\t6 & Olecko & 2020-11-22 & 1.0 \\\\\n",
       "\\end{tabular}\n"
      ],
      "text/plain": [
       "GroupedDataFrame with 2 groups based on key: city\n",
       "First Group (4 rows): city = \"Ełk\"\n",
       "\u001b[1m Row \u001b[0m│\u001b[1m city    \u001b[0m\u001b[1m date       \u001b[0m\u001b[1m rainfall \u001b[0m\n",
       "     │\u001b[90m String7 \u001b[0m\u001b[90m Date       \u001b[0m\u001b[90m Float64  \u001b[0m\n",
       "─────┼───────────────────────────────\n",
       "   1 │ Ełk      2020-11-16       3.9\n",
       "   2 │ Ełk      2020-11-19       1.2\n",
       "   3 │ Ełk      2020-11-20       2.0\n",
       "   4 │ Ełk      2020-11-22       2.0\n",
       "⋮\n",
       "Last Group (6 rows): city = \"Olecko\"\n",
       "\u001b[1m Row \u001b[0m│\u001b[1m city    \u001b[0m\u001b[1m date       \u001b[0m\u001b[1m rainfall \u001b[0m\n",
       "     │\u001b[90m String7 \u001b[0m\u001b[90m Date       \u001b[0m\u001b[90m Float64  \u001b[0m\n",
       "─────┼───────────────────────────────\n",
       "   1 │ Olecko   2020-11-16       2.9\n",
       "   2 │ Olecko   2020-11-17       4.1\n",
       "   3 │ Olecko   2020-11-19       4.3\n",
       "   4 │ Olecko   2020-11-20       2.0\n",
       "   5 │ Olecko   2020-11-21       0.6\n",
       "   6 │ Olecko   2020-11-22       1.0"
      ]
     },
     "execution_count": 14,
     "metadata": {},
     "output_type": "execute_result"
    }
   ],
   "source": [
    "gdf_city[[2, 1]]"
   ]
  },
  {
   "cell_type": "code",
   "execution_count": null,
   "id": "df540f76",
   "metadata": {},
   "outputs": [],
   "source": []
  }
 ],
 "metadata": {
  "kernelspec": {
   "display_name": "Julia 1.8.5",
   "language": "julia",
   "name": "julia-1.8"
  },
  "language_info": {
   "file_extension": ".jl",
   "mimetype": "application/julia",
   "name": "julia",
   "version": "1.8.5"
  }
 },
 "nbformat": 4,
 "nbformat_minor": 5
}
