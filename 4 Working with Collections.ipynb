{
 "cells": [
  {
   "cell_type": "markdown",
   "id": "e9bacac8",
   "metadata": {},
   "source": [
    "## Types: Matrices, Tuples"
   ]
  },
  {
   "cell_type": "code",
   "execution_count": 1,
   "id": "2aae21ba",
   "metadata": {},
   "outputs": [
    {
     "data": {
      "text/plain": [
       "11×8 Matrix{Float64}:\n",
       " 10.0   8.04  10.0  9.14  10.0   7.46   8.0   6.58\n",
       "  8.0   6.95   8.0  8.14   8.0   6.77   8.0   5.76\n",
       " 13.0   7.58  13.0  8.74  13.0  12.74   8.0   7.71\n",
       "  9.0   8.81   9.0  8.77   9.0   7.11   8.0   8.84\n",
       " 11.0   8.33  11.0  9.26  11.0   7.81   8.0   8.47\n",
       " 14.0   9.96  14.0  8.1   14.0   8.84   8.0   7.04\n",
       "  6.0   7.24   6.0  6.13   6.0   6.08   8.0   5.25\n",
       "  4.0   4.26   4.0  3.1    4.0   5.39  19.0  12.5\n",
       " 12.0  10.84  12.0  9.13  12.0   8.15   8.0   5.56\n",
       "  7.0   4.82   7.0  7.26   7.0   6.42   8.0   7.91\n",
       "  5.0   5.68   5.0  4.74   5.0   5.73   8.0   6.89"
      ]
     },
     "execution_count": 1,
     "metadata": {},
     "output_type": "execute_result"
    }
   ],
   "source": [
    "aq = [10.0   8.04  10.0  9.14  10.0   7.46   8.0   6.58\n",
    "              8.0   6.95   8.0  8.14   8.0   6.77   8.0   5.76\n",
    "             13.0   7.58  13.0  8.74  13.0  12.74   8.0   7.71\n",
    "              9.0   8.81   9.0  8.77   9.0   7.11   8.0   8.84\n",
    "             11.0   8.33  11.0  9.26  11.0   7.81   8.0   8.47\n",
    "             14.0   9.96  14.0  8.1   14.0   8.84   8.0   7.04\n",
    "              6.0   7.24   6.0  6.13   6.0   6.08   8.0   5.25\n",
    "              4.0   4.26   4.0  3.1    4.0   5.39  19.0  12.50\n",
    "             12.0  10.84  12.0  9.13  12.0   8.15   8.0   5.56\n",
    "              7.0   4.82   7.0  7.26   7.0   6.42   8.0   7.91\n",
    "              5.0   5.68   5.0  4.74   5.0   5.73   8.0   6.89]"
   ]
  },
  {
   "cell_type": "code",
   "execution_count": 2,
   "id": "812bf3e4",
   "metadata": {},
   "outputs": [
    {
     "data": {
      "text/plain": [
       "(11, 8)"
      ]
     },
     "execution_count": 2,
     "metadata": {},
     "output_type": "execute_result"
    }
   ],
   "source": [
    "size(aq)"
   ]
  },
  {
   "cell_type": "code",
   "execution_count": 3,
   "id": "6a12f394",
   "metadata": {},
   "outputs": [
    {
     "data": {
      "text/plain": [
       "(1, true, \"hi\")"
      ]
     },
     "execution_count": 3,
     "metadata": {},
     "output_type": "execute_result"
    }
   ],
   "source": [
    "t = (1, true, \"hi\")"
   ]
  },
  {
   "cell_type": "code",
   "execution_count": 4,
   "id": "479b949e",
   "metadata": {},
   "outputs": [
    {
     "data": {
      "text/plain": [
       "Tuple{Int64, Bool, String}"
      ]
     },
     "execution_count": 4,
     "metadata": {},
     "output_type": "execute_result"
    }
   ],
   "source": [
    "typeof(t)"
   ]
  },
  {
   "cell_type": "code",
   "execution_count": 5,
   "id": "fecb33b4",
   "metadata": {},
   "outputs": [
    {
     "data": {
      "text/plain": [
       "1"
      ]
     },
     "execution_count": 5,
     "metadata": {},
     "output_type": "execute_result"
    }
   ],
   "source": [
    "t[1]"
   ]
  },
  {
   "cell_type": "code",
   "execution_count": 6,
   "id": "2bab1647",
   "metadata": {},
   "outputs": [
    {
     "ename": "LoadError",
     "evalue": "MethodError: no method matching setindex!(::Tuple{Int64, Bool, String}, ::Int64, ::Int64)",
     "output_type": "error",
     "traceback": [
      "MethodError: no method matching setindex!(::Tuple{Int64, Bool, String}, ::Int64, ::Int64)",
      "",
      "Stacktrace:",
      " [1] top-level scope",
      "   @ In[6]:1"
     ]
    }
   ],
   "source": [
    "t[1] = 4"
   ]
  },
  {
   "cell_type": "code",
   "execution_count": 7,
   "id": "306bc90e",
   "metadata": {},
   "outputs": [
    {
     "name": "stderr",
     "output_type": "stream",
     "text": [
      "\u001b[32m\u001b[1m    Updating\u001b[22m\u001b[39m registry at `~/.julia/registries/General.toml`\n",
      "\u001b[32m\u001b[1m   Resolving\u001b[22m\u001b[39m package versions...\n",
      "\u001b[32m\u001b[1m  No Changes\u001b[22m\u001b[39m to `~/.julia/environments/v1.8/Project.toml`\n",
      "\u001b[32m\u001b[1m  No Changes\u001b[22m\u001b[39m to `~/.julia/environments/v1.8/Manifest.toml`\n"
     ]
    }
   ],
   "source": [
    "import Pkg; Pkg.add(\"BenchmarkTools\")"
   ]
  },
  {
   "cell_type": "code",
   "execution_count": 8,
   "id": "02c67a46",
   "metadata": {},
   "outputs": [],
   "source": [
    "using BenchmarkTools"
   ]
  },
  {
   "cell_type": "code",
   "execution_count": 9,
   "id": "f8b6e89d",
   "metadata": {},
   "outputs": [
    {
     "data": {
      "text/plain": [
       "BenchmarkTools.Trial: 10000 samples with 1000 evaluations.\n",
       " Range \u001b[90m(\u001b[39m\u001b[36m\u001b[1mmin\u001b[22m\u001b[39m … \u001b[35mmax\u001b[39m\u001b[90m):  \u001b[39m\u001b[36m\u001b[1m1.167 ns\u001b[22m\u001b[39m … \u001b[35m1.541 ns\u001b[39m  \u001b[90m┊\u001b[39m GC \u001b[90m(\u001b[39mmin … max\u001b[90m): \u001b[39m0.00% … 0.00%\n",
       " Time  \u001b[90m(\u001b[39m\u001b[34m\u001b[1mmedian\u001b[22m\u001b[39m\u001b[90m):     \u001b[39m\u001b[34m\u001b[1m1.250 ns             \u001b[22m\u001b[39m\u001b[90m┊\u001b[39m GC \u001b[90m(\u001b[39mmedian\u001b[90m):    \u001b[39m0.00%\n",
       " Time  \u001b[90m(\u001b[39m\u001b[32m\u001b[1mmean\u001b[22m\u001b[39m ± \u001b[32mσ\u001b[39m\u001b[90m):   \u001b[39m\u001b[32m\u001b[1m1.252 ns\u001b[22m\u001b[39m ± \u001b[32m0.013 ns\u001b[39m  \u001b[90m┊\u001b[39m GC \u001b[90m(\u001b[39mmean ± σ\u001b[90m):  \u001b[39m0.00% ± 0.00%\n",
       "\n",
       "  \u001b[39m \u001b[39m \u001b[39m \u001b[39m \u001b[39m \u001b[39m \u001b[39m \u001b[39m \u001b[39m \u001b[39m \u001b[39m \u001b[39m \u001b[39m \u001b[39m \u001b[39m \u001b[39m \u001b[39m \u001b[39m \u001b[39m▁\u001b[39m \u001b[39m \u001b[39m \u001b[39m \u001b[39m \u001b[39m \u001b[39m \u001b[39m \u001b[39m \u001b[39m \u001b[39m \u001b[39m \u001b[39m \u001b[39m \u001b[39m \u001b[39m \u001b[39m \u001b[39m \u001b[39m█\u001b[34m \u001b[39m\u001b[32m \u001b[39m\u001b[39m \u001b[39m \u001b[39m \u001b[39m \u001b[39m \u001b[39m \u001b[39m \u001b[39m \u001b[39m \u001b[39m \u001b[39m \u001b[39m \u001b[39m \u001b[39m \u001b[39m \u001b[39m \u001b[39m▄\u001b[39m \u001b[39m▁\n",
       "  \u001b[39m▃\u001b[39m▁\u001b[39m▁\u001b[39m▁\u001b[39m▁\u001b[39m▁\u001b[39m▁\u001b[39m▁\u001b[39m▁\u001b[39m▁\u001b[39m▁\u001b[39m▁\u001b[39m▁\u001b[39m▁\u001b[39m▁\u001b[39m▁\u001b[39m▁\u001b[39m▁\u001b[39m█\u001b[39m█\u001b[39m▁\u001b[39m▁\u001b[39m▁\u001b[39m▁\u001b[39m▁\u001b[39m▁\u001b[39m▁\u001b[39m▁\u001b[39m▁\u001b[39m▁\u001b[39m▁\u001b[39m▁\u001b[39m▁\u001b[39m▁\u001b[39m▁\u001b[39m▁\u001b[39m▁\u001b[39m█\u001b[34m▁\u001b[39m\u001b[32m▁\u001b[39m\u001b[39m▁\u001b[39m▁\u001b[39m▁\u001b[39m▁\u001b[39m▁\u001b[39m▁\u001b[39m▁\u001b[39m▁\u001b[39m▁\u001b[39m▁\u001b[39m▁\u001b[39m▁\u001b[39m▁\u001b[39m▁\u001b[39m▁\u001b[39m▁\u001b[39m█\u001b[39m \u001b[39m█\n",
       "  1.17 ns\u001b[90m     \u001b[39m\u001b[90mHistogram: \u001b[39m\u001b[90m\u001b[1mlog(\u001b[22m\u001b[39m\u001b[90mfrequency\u001b[39m\u001b[90m\u001b[1m)\u001b[22m\u001b[39m\u001b[90m by time\u001b[39m     1.29 ns \u001b[0m\u001b[1m<\u001b[22m\n",
       "\n",
       " Memory estimate\u001b[90m: \u001b[39m\u001b[33m0 bytes\u001b[39m, allocs estimate\u001b[90m: \u001b[39m\u001b[33m0\u001b[39m."
      ]
     },
     "execution_count": 9,
     "metadata": {},
     "output_type": "execute_result"
    }
   ],
   "source": [
    "@benchmark (1,2,12,14)"
   ]
  },
  {
   "cell_type": "code",
   "execution_count": 10,
   "id": "34cb3c64",
   "metadata": {},
   "outputs": [
    {
     "data": {
      "text/plain": [
       "BenchmarkTools.Trial: 10000 samples with 998 evaluations.\n",
       " Range \u001b[90m(\u001b[39m\u001b[36m\u001b[1mmin\u001b[22m\u001b[39m … \u001b[35mmax\u001b[39m\u001b[90m):  \u001b[39m\u001b[36m\u001b[1m17.034 ns\u001b[22m\u001b[39m … \u001b[35m383.684 ns\u001b[39m  \u001b[90m┊\u001b[39m GC \u001b[90m(\u001b[39mmin … max\u001b[90m): \u001b[39m0.00% … 95.11%\n",
       " Time  \u001b[90m(\u001b[39m\u001b[34m\u001b[1mmedian\u001b[22m\u001b[39m\u001b[90m):     \u001b[39m\u001b[34m\u001b[1m17.786 ns               \u001b[22m\u001b[39m\u001b[90m┊\u001b[39m GC \u001b[90m(\u001b[39mmedian\u001b[90m):    \u001b[39m0.00%\n",
       " Time  \u001b[90m(\u001b[39m\u001b[32m\u001b[1mmean\u001b[22m\u001b[39m ± \u001b[32mσ\u001b[39m\u001b[90m):   \u001b[39m\u001b[32m\u001b[1m19.167 ns\u001b[22m\u001b[39m ± \u001b[32m 15.433 ns\u001b[39m  \u001b[90m┊\u001b[39m GC \u001b[90m(\u001b[39mmean ± σ\u001b[90m):  \u001b[39m3.63% ±  4.32%\n",
       "\n",
       "  \u001b[39m▂\u001b[39m▄\u001b[39m█\u001b[34m▇\u001b[39m\u001b[39m▅\u001b[39m▄\u001b[39m▃\u001b[39m▂\u001b[39m▂\u001b[32m▁\u001b[39m\u001b[39m \u001b[39m \u001b[39m \u001b[39m \u001b[39m▁\u001b[39m \u001b[39m▁\u001b[39m▂\u001b[39m▁\u001b[39m▁\u001b[39m▁\u001b[39m \u001b[39m \u001b[39m \u001b[39m \u001b[39m \u001b[39m \u001b[39m \u001b[39m \u001b[39m \u001b[39m \u001b[39m \u001b[39m \u001b[39m \u001b[39m \u001b[39m \u001b[39m \u001b[39m \u001b[39m \u001b[39m \u001b[39m \u001b[39m \u001b[39m \u001b[39m \u001b[39m \u001b[39m \u001b[39m \u001b[39m \u001b[39m \u001b[39m \u001b[39m \u001b[39m \u001b[39m \u001b[39m \u001b[39m \u001b[39m \u001b[39m \u001b[39m \u001b[39m \u001b[39m \u001b[39m \u001b[39m▂\n",
       "  \u001b[39m█\u001b[39m█\u001b[39m█\u001b[34m█\u001b[39m\u001b[39m█\u001b[39m█\u001b[39m█\u001b[39m█\u001b[39m█\u001b[32m█\u001b[39m\u001b[39m█\u001b[39m█\u001b[39m█\u001b[39m█\u001b[39m█\u001b[39m█\u001b[39m█\u001b[39m█\u001b[39m█\u001b[39m█\u001b[39m█\u001b[39m█\u001b[39m█\u001b[39m█\u001b[39m▇\u001b[39m▇\u001b[39m▇\u001b[39m█\u001b[39m█\u001b[39m▇\u001b[39m▆\u001b[39m▇\u001b[39m▅\u001b[39m▇\u001b[39m▇\u001b[39m▆\u001b[39m▆\u001b[39m▆\u001b[39m▅\u001b[39m▅\u001b[39m▅\u001b[39m▅\u001b[39m▅\u001b[39m▄\u001b[39m▅\u001b[39m▄\u001b[39m▅\u001b[39m▃\u001b[39m▄\u001b[39m▄\u001b[39m▅\u001b[39m▄\u001b[39m▃\u001b[39m▁\u001b[39m▄\u001b[39m▄\u001b[39m▅\u001b[39m▃\u001b[39m▅\u001b[39m▄\u001b[39m \u001b[39m█\n",
       "  17 ns\u001b[90m         \u001b[39m\u001b[90mHistogram: \u001b[39m\u001b[90m\u001b[1mlog(\u001b[22m\u001b[39m\u001b[90mfrequency\u001b[39m\u001b[90m\u001b[1m)\u001b[22m\u001b[39m\u001b[90m by time\u001b[39m        32 ns \u001b[0m\u001b[1m<\u001b[22m\n",
       "\n",
       " Memory estimate\u001b[90m: \u001b[39m\u001b[33m96 bytes\u001b[39m, allocs estimate\u001b[90m: \u001b[39m\u001b[33m1\u001b[39m."
      ]
     },
     "execution_count": 10,
     "metadata": {},
     "output_type": "execute_result"
    }
   ],
   "source": [
    "@benchmark [1,2,12,14]"
   ]
  },
  {
   "cell_type": "markdown",
   "id": "2a6a6ef3",
   "metadata": {},
   "source": [
    "## Some basic statistics and iteration"
   ]
  },
  {
   "cell_type": "code",
   "execution_count": 11,
   "id": "74dae8e5",
   "metadata": {},
   "outputs": [],
   "source": [
    "using Statistics"
   ]
  },
  {
   "cell_type": "code",
   "execution_count": 12,
   "id": "72019bc2",
   "metadata": {},
   "outputs": [
    {
     "data": {
      "text/plain": [
       "1×8 Matrix{Float64}:\n",
       " 9.0  7.50091  9.0  7.50091  9.0  7.5  9.0  7.50091"
      ]
     },
     "execution_count": 12,
     "metadata": {},
     "output_type": "execute_result"
    }
   ],
   "source": [
    "mean(aq; dims=1)"
   ]
  },
  {
   "cell_type": "markdown",
   "id": "30aa5848",
   "metadata": {},
   "source": [
    "The idea of the data set is that each series (pair of columns) has same summary statistics"
   ]
  },
  {
   "cell_type": "code",
   "execution_count": 13,
   "id": "54a5d443",
   "metadata": {},
   "outputs": [
    {
     "data": {
      "text/plain": [
       "1×8 Matrix{Float64}:\n",
       " 3.31662  2.03157  3.31662  2.03166  3.31662  2.03042  3.31662  2.03058"
      ]
     },
     "execution_count": 13,
     "metadata": {},
     "output_type": "execute_result"
    }
   ],
   "source": [
    "std(aq; dims=1)"
   ]
  },
  {
   "cell_type": "code",
   "execution_count": 14,
   "id": "4c5943a7",
   "metadata": {},
   "outputs": [
    {
     "name": "stdout",
     "output_type": "stream",
     "text": [
      "Columns\n",
      "[10.0, 8.0, 13.0, 9.0, 11.0, 14.0, 6.0, 4.0, 12.0, 7.0, 5.0]\n",
      "[8.04, 6.95, 7.58, 8.81, 8.33, 9.96, 7.24, 4.26, 10.84, 4.82, 5.68]\n",
      "[10.0, 8.0, 13.0, 9.0, 11.0, 14.0, 6.0, 4.0, 12.0, 7.0, 5.0]\n",
      "[9.14, 8.14, 8.74, 8.77, 9.26, 8.1, 6.13, 3.1, 9.13, 7.26, 4.74]\n",
      "[10.0, 8.0, 13.0, 9.0, 11.0, 14.0, 6.0, 4.0, 12.0, 7.0, 5.0]\n",
      "[7.46, 6.77, 12.74, 7.11, 7.81, 8.84, 6.08, 5.39, 8.15, 6.42, 5.73]\n",
      "[8.0, 8.0, 8.0, 8.0, 8.0, 8.0, 8.0, 19.0, 8.0, 8.0, 8.0]\n",
      "[6.58, 5.76, 7.71, 8.84, 8.47, 7.04, 5.25, 12.5, 5.56, 7.91, 6.89]\n",
      "Rows\n",
      "[10.0, 8.04, 10.0, 9.14, 10.0, 7.46, 8.0, 6.58]\n",
      "[8.0, 6.95, 8.0, 8.14, 8.0, 6.77, 8.0, 5.76]\n",
      "[13.0, 7.58, 13.0, 8.74, 13.0, 12.74, 8.0, 7.71]\n",
      "[9.0, 8.81, 9.0, 8.77, 9.0, 7.11, 8.0, 8.84]\n",
      "[11.0, 8.33, 11.0, 9.26, 11.0, 7.81, 8.0, 8.47]\n",
      "[14.0, 9.96, 14.0, 8.1, 14.0, 8.84, 8.0, 7.04]\n",
      "[6.0, 7.24, 6.0, 6.13, 6.0, 6.08, 8.0, 5.25]\n",
      "[4.0, 4.26, 4.0, 3.1, 4.0, 5.39, 19.0, 12.5]\n",
      "[12.0, 10.84, 12.0, 9.13, 12.0, 8.15, 8.0, 5.56]\n",
      "[7.0, 4.82, 7.0, 7.26, 7.0, 6.42, 8.0, 7.91]\n",
      "[5.0, 5.68, 5.0, 4.74, 5.0, 5.73, 8.0, 6.89]\n"
     ]
    }
   ],
   "source": [
    "println(\"Columns\")\n",
    "\n",
    "for c in eachcol(aq)\n",
    "   println(c) \n",
    "end\n",
    "\n",
    "println(\"Rows\")\n",
    "\n",
    "for c in eachrow(aq)\n",
    "   println(c) \n",
    "end"
   ]
  },
  {
   "cell_type": "markdown",
   "id": "87d8193c",
   "metadata": {},
   "source": [
    "### Comprehensions\n",
    "\n",
    "* Always produce arrays (vectors)\n",
    "* Can filtering inline"
   ]
  },
  {
   "cell_type": "code",
   "execution_count": 15,
   "id": "048f1bc5",
   "metadata": {},
   "outputs": [
    {
     "data": {
      "text/plain": [
       "8-element Vector{Float64}:\n",
       " 9.0\n",
       " 7.500909090909093\n",
       " 9.0\n",
       " 7.500909090909091\n",
       " 9.0\n",
       " 7.500000000000001\n",
       " 9.0\n",
       " 7.50090909090909"
      ]
     },
     "execution_count": 15,
     "metadata": {},
     "output_type": "execute_result"
    }
   ],
   "source": [
    "[mean(col) for col in eachcol(aq)]"
   ]
  },
  {
   "cell_type": "code",
   "execution_count": 16,
   "id": "006ea693",
   "metadata": {},
   "outputs": [
    {
     "data": {
      "text/plain": [
       "5-element Vector{Int64}:\n",
       "  2\n",
       "  4\n",
       "  6\n",
       "  8\n",
       " 10"
      ]
     },
     "execution_count": 16,
     "metadata": {},
     "output_type": "execute_result"
    }
   ],
   "source": [
    "[x for x in 1:10 if x % 2 == 0]"
   ]
  },
  {
   "cell_type": "markdown",
   "id": "8ab5f0ad",
   "metadata": {},
   "source": [
    "Book wasn't so clear on this but can do fancier things with multiple variables e.g. "
   ]
  },
  {
   "cell_type": "code",
   "execution_count": 22,
   "id": "e9bf30d9",
   "metadata": {},
   "outputs": [
    {
     "data": {
      "text/plain": [
       "10-element Vector{Int64}:\n",
       "  4\n",
       "  6\n",
       "  8\n",
       " 10\n",
       " 12\n",
       "  6\n",
       "  8\n",
       " 10\n",
       " 12\n",
       " 14"
      ]
     },
     "execution_count": 22,
     "metadata": {},
     "output_type": "execute_result"
    }
   ],
   "source": [
    "[x + y for x in 1:5 for y in 2:2:10 if x % 2 == 0]"
   ]
  },
  {
   "cell_type": "code",
   "execution_count": 17,
   "id": "fd4421b5",
   "metadata": {},
   "outputs": [
    {
     "data": {
      "text/plain": [
       "11-element Vector{Float64}:\n",
       " 10.0\n",
       "  8.0\n",
       " 13.0\n",
       "  9.0\n",
       " 11.0\n",
       " 14.0\n",
       "  6.0\n",
       "  4.0\n",
       " 12.0\n",
       "  7.0\n",
       "  5.0"
      ]
     },
     "execution_count": 17,
     "metadata": {},
     "output_type": "execute_result"
    }
   ],
   "source": [
    "aq[:, 1]"
   ]
  },
  {
   "cell_type": "code",
   "execution_count": 18,
   "id": "ee1055e2",
   "metadata": {},
   "outputs": [
    {
     "data": {
      "text/plain": [
       "8-element Vector{Float64}:\n",
       " 8.0\n",
       " 6.95\n",
       " 8.0\n",
       " 8.14\n",
       " 8.0\n",
       " 6.77\n",
       " 8.0\n",
       " 5.76"
      ]
     },
     "execution_count": 18,
     "metadata": {},
     "output_type": "execute_result"
    }
   ],
   "source": [
    "aq[2, :]"
   ]
  },
  {
   "cell_type": "markdown",
   "id": "189f6759",
   "metadata": {},
   "source": [
    "`@view`"
   ]
  },
  {
   "cell_type": "code",
   "execution_count": 19,
   "id": "56d9a303",
   "metadata": {},
   "outputs": [
    {
     "data": {
      "text/plain": [
       "8-element Vector{Float64}:\n",
       " 3.3166247903554\n",
       " 2.031568135925815\n",
       " 3.3166247903554\n",
       " 2.0316567355016177\n",
       " 3.3166247903554\n",
       " 2.030423601123667\n",
       " 3.3166247903554\n",
       " 2.0305785113876023"
      ]
     },
     "execution_count": 19,
     "metadata": {},
     "output_type": "execute_result"
    }
   ],
   "source": [
    "[std(@view aq[:, j]) for j in axes(aq, 2)]"
   ]
  },
  {
   "cell_type": "markdown",
   "id": "dbd657b6",
   "metadata": {},
   "source": [
    "## Correlations"
   ]
  },
  {
   "cell_type": "code",
   "execution_count": 20,
   "id": "f96af05d",
   "metadata": {},
   "outputs": [
    {
     "data": {
      "text/plain": [
       "4-element Vector{Float64}:\n",
       " 0.8164205163448398\n",
       " 0.8162365060002429\n",
       " 0.8162867394895983\n",
       " 0.8165214368885028"
      ]
     },
     "execution_count": 20,
     "metadata": {},
     "output_type": "execute_result"
    }
   ],
   "source": [
    "[cor((@view aq[:, i]), (@view aq[:, i+1])) for i in 1:2:7]"
   ]
  },
  {
   "cell_type": "code",
   "execution_count": 21,
   "id": "0f1bac06",
   "metadata": {},
   "outputs": [
    {
     "name": "stdout",
     "output_type": "stream",
     "text": [
      "search: \u001b[0m\u001b[1mc\u001b[22m\u001b[0m\u001b[1mo\u001b[22m\u001b[0m\u001b[1mr\u001b[22m \u001b[0m\u001b[1mC\u001b[22m\u001b[0m\u001b[1mo\u001b[22m\u001b[0m\u001b[1mr\u001b[22me Ve\u001b[0m\u001b[1mc\u001b[22m\u001b[0m\u001b[1mO\u001b[22m\u001b[0m\u001b[1mr\u001b[22mMat Ve\u001b[0m\u001b[1mc\u001b[22mt\u001b[0m\u001b[1mo\u001b[22m\u001b[0m\u001b[1mr\u001b[22m fa\u001b[0m\u001b[1mc\u001b[22mt\u001b[0m\u001b[1mo\u001b[22m\u001b[0m\u001b[1mr\u001b[22mial DenseVe\u001b[0m\u001b[1mc\u001b[22m\u001b[0m\u001b[1mO\u001b[22m\u001b[0m\u001b[1mr\u001b[22mMat \u001b[0m\u001b[1mC\u001b[22msh\u001b[0m\u001b[1mo\u001b[22m\u001b[0m\u001b[1mr\u001b[22mt BitVe\u001b[0m\u001b[1mc\u001b[22mt\u001b[0m\u001b[1mo\u001b[22m\u001b[0m\u001b[1mr\u001b[22m\n",
      "\n"
     ]
    },
    {
     "data": {
      "text/latex": [
       "\\begin{verbatim}\n",
       "cor(x::AbstractVector)\n",
       "\\end{verbatim}\n",
       "Return the number one.\n",
       "\n",
       "\\rule{\\textwidth}{1pt}\n",
       "\\begin{verbatim}\n",
       "cor(X::AbstractMatrix; dims::Int=1)\n",
       "\\end{verbatim}\n",
       "Compute the Pearson correlation matrix of the matrix \\texttt{X} along the dimension \\texttt{dims}.\n",
       "\n",
       "\\rule{\\textwidth}{1pt}\n",
       "\\begin{verbatim}\n",
       "cor(x::AbstractVector, y::AbstractVector)\n",
       "\\end{verbatim}\n",
       "Compute the Pearson correlation between the vectors \\texttt{x} and \\texttt{y}.\n",
       "\n",
       "\\rule{\\textwidth}{1pt}\n",
       "\\begin{verbatim}\n",
       "cor(X::AbstractVecOrMat, Y::AbstractVecOrMat; dims=1)\n",
       "\\end{verbatim}\n",
       "Compute the Pearson correlation between the vectors or matrices \\texttt{X} and \\texttt{Y} along the dimension \\texttt{dims}.\n",
       "\n"
      ],
      "text/markdown": [
       "```\n",
       "cor(x::AbstractVector)\n",
       "```\n",
       "\n",
       "Return the number one.\n",
       "\n",
       "---\n",
       "\n",
       "```\n",
       "cor(X::AbstractMatrix; dims::Int=1)\n",
       "```\n",
       "\n",
       "Compute the Pearson correlation matrix of the matrix `X` along the dimension `dims`.\n",
       "\n",
       "---\n",
       "\n",
       "```\n",
       "cor(x::AbstractVector, y::AbstractVector)\n",
       "```\n",
       "\n",
       "Compute the Pearson correlation between the vectors `x` and `y`.\n",
       "\n",
       "---\n",
       "\n",
       "```\n",
       "cor(X::AbstractVecOrMat, Y::AbstractVecOrMat; dims=1)\n",
       "```\n",
       "\n",
       "Compute the Pearson correlation between the vectors or matrices `X` and `Y` along the dimension `dims`.\n"
      ],
      "text/plain": [
       "\u001b[36m  cor(x::AbstractVector)\u001b[39m\n",
       "\n",
       "  Return the number one.\n",
       "\n",
       "  ────────────────────────────────────────────────────────────────────────────\n",
       "\n",
       "\u001b[36m  cor(X::AbstractMatrix; dims::Int=1)\u001b[39m\n",
       "\n",
       "  Compute the Pearson correlation matrix of the matrix \u001b[36mX\u001b[39m along the dimension\n",
       "  \u001b[36mdims\u001b[39m.\n",
       "\n",
       "  ────────────────────────────────────────────────────────────────────────────\n",
       "\n",
       "\u001b[36m  cor(x::AbstractVector, y::AbstractVector)\u001b[39m\n",
       "\n",
       "  Compute the Pearson correlation between the vectors \u001b[36mx\u001b[39m and \u001b[36my\u001b[39m.\n",
       "\n",
       "  ────────────────────────────────────────────────────────────────────────────\n",
       "\n",
       "\u001b[36m  cor(X::AbstractVecOrMat, Y::AbstractVecOrMat; dims=1)\u001b[39m\n",
       "\n",
       "  Compute the Pearson correlation between the vectors or matrices \u001b[36mX\u001b[39m and \u001b[36mY\u001b[39m\n",
       "  along the dimension \u001b[36mdims\u001b[39m."
      ]
     },
     "execution_count": 21,
     "metadata": {},
     "output_type": "execute_result"
    }
   ],
   "source": [
    "?cor"
   ]
  },
  {
   "cell_type": "markdown",
   "id": "21ee1720",
   "metadata": {},
   "source": [
    "Okay but what is that:\n",
    "\n",
    "\n",
    "$$\n",
    " r =\n",
    "  \\frac{ \\sum_{i=1}^{n}(x_i-\\bar{x})(y_i-\\bar{y}) }{%\n",
    "        \\sqrt{\\sum_{i=1}^{n}(x_i-\\bar{x})^2}\\sqrt{\\sum_{i=1}^{n}(y_i-\\bar{y})^2}}\n",
    "$$"
   ]
  },
  {
   "cell_type": "markdown",
   "id": "9716df65",
   "metadata": {},
   "source": [
    "### Exercise"
   ]
  },
  {
   "cell_type": "markdown",
   "id": "d05960da",
   "metadata": {},
   "source": [
    "> Rewrite `[cor(aq[:, i], aq[:, i+1]) for i in 1:2:7]` by using views (either the view function or the @view macro). Compare the performance of both approaches by using the @benchmark macro"
   ]
  },
  {
   "cell_type": "code",
   "execution_count": 37,
   "id": "955e5594",
   "metadata": {},
   "outputs": [
    {
     "name": "stdout",
     "output_type": "stream",
     "text": [
      "search: \u001b[0m\u001b[1mv\u001b[22m\u001b[0m\u001b[1mi\u001b[22m\u001b[0m\u001b[1me\u001b[22m\u001b[0m\u001b[1mw\u001b[22m @\u001b[0m\u001b[1mv\u001b[22m\u001b[0m\u001b[1mi\u001b[22m\u001b[0m\u001b[1me\u001b[22m\u001b[0m\u001b[1mw\u001b[22m @\u001b[0m\u001b[1mv\u001b[22m\u001b[0m\u001b[1mi\u001b[22m\u001b[0m\u001b[1me\u001b[22m\u001b[0m\u001b[1mw\u001b[22ms Di\u001b[0m\u001b[1mv\u001b[22m\u001b[0m\u001b[1mi\u001b[22md\u001b[0m\u001b[1me\u001b[22mError \u001b[0m\u001b[1mv\u001b[22ml\u001b[0m\u001b[1mi\u001b[22mn\u001b[0m\u001b[1me\u001b[22m! \u001b[0m\u001b[1mv\u001b[22ml\u001b[0m\u001b[1mi\u001b[22mn\u001b[0m\u001b[1me\u001b[22m e\u001b[0m\u001b[1mv\u001b[22malf\u001b[0m\u001b[1mi\u001b[22ml\u001b[0m\u001b[1me\u001b[22m in\u001b[0m\u001b[1mv\u001b[22m\u001b[0m\u001b[1mi\u001b[22msibl\u001b[0m\u001b[1me\u001b[22m\n",
      "\n"
     ]
    },
    {
     "data": {
      "text/latex": [
       "\\begin{verbatim}\n",
       "view(A, inds...)\n",
       "\\end{verbatim}\n",
       "Like \\href{@ref}{\\texttt{getindex}}, but returns a lightweight array that lazily references (or is effectively a \\emph{view} into) the parent array \\texttt{A} at the given index or indices \\texttt{inds} instead of eagerly extracting elements or constructing a copied subset. Calling \\href{@ref}{\\texttt{getindex}} or \\href{@ref}{\\texttt{setindex!}} on the returned value (often a \\href{@ref}{\\texttt{SubArray}}) computes the indices to access or modify the parent array on the fly.  The behavior is undefined if the shape of the parent array is changed after \\texttt{view} is called because there is no bound check for the parent array; e.g., it may cause a segmentation fault.\n",
       "\n",
       "Some immutable parent arrays (like ranges) may choose to simply recompute a new array in some circumstances instead of returning a \\texttt{SubArray} if doing so is efficient and provides compatible semantics.\n",
       "\n",
       "\\begin{quote}\n",
       "\\textbf{compat}\n",
       "\n",
       "Julia 1.6\n",
       "\n",
       "In Julia 1.6 or later, \\texttt{view} can be called on an \\texttt{AbstractString}, returning a \\texttt{SubString}.\n",
       "\n",
       "\\end{quote}\n",
       "\\section{Examples}\n",
       "\\begin{verbatim}\n",
       "julia> A = [1 2; 3 4]\n",
       "2×2 Matrix{Int64}:\n",
       " 1  2\n",
       " 3  4\n",
       "\n",
       "julia> b = view(A, :, 1)\n",
       "2-element view(::Matrix{Int64}, :, 1) with eltype Int64:\n",
       " 1\n",
       " 3\n",
       "\n",
       "julia> fill!(b, 0)\n",
       "2-element view(::Matrix{Int64}, :, 1) with eltype Int64:\n",
       " 0\n",
       " 0\n",
       "\n",
       "julia> A # Note A has changed even though we modified b\n",
       "2×2 Matrix{Int64}:\n",
       " 0  2\n",
       " 0  4\n",
       "\n",
       "julia> view(2:5, 2:3) # returns a range as type is immutable\n",
       "3:4\n",
       "\\end{verbatim}\n"
      ],
      "text/markdown": [
       "```\n",
       "view(A, inds...)\n",
       "```\n",
       "\n",
       "Like [`getindex`](@ref), but returns a lightweight array that lazily references (or is effectively a *view* into) the parent array `A` at the given index or indices `inds` instead of eagerly extracting elements or constructing a copied subset. Calling [`getindex`](@ref) or [`setindex!`](@ref) on the returned value (often a [`SubArray`](@ref)) computes the indices to access or modify the parent array on the fly.  The behavior is undefined if the shape of the parent array is changed after `view` is called because there is no bound check for the parent array; e.g., it may cause a segmentation fault.\n",
       "\n",
       "Some immutable parent arrays (like ranges) may choose to simply recompute a new array in some circumstances instead of returning a `SubArray` if doing so is efficient and provides compatible semantics.\n",
       "\n",
       "!!! compat \"Julia 1.6\"\n",
       "    In Julia 1.6 or later, `view` can be called on an `AbstractString`, returning a `SubString`.\n",
       "\n",
       "\n",
       "# Examples\n",
       "\n",
       "```jldoctest\n",
       "julia> A = [1 2; 3 4]\n",
       "2×2 Matrix{Int64}:\n",
       " 1  2\n",
       " 3  4\n",
       "\n",
       "julia> b = view(A, :, 1)\n",
       "2-element view(::Matrix{Int64}, :, 1) with eltype Int64:\n",
       " 1\n",
       " 3\n",
       "\n",
       "julia> fill!(b, 0)\n",
       "2-element view(::Matrix{Int64}, :, 1) with eltype Int64:\n",
       " 0\n",
       " 0\n",
       "\n",
       "julia> A # Note A has changed even though we modified b\n",
       "2×2 Matrix{Int64}:\n",
       " 0  2\n",
       " 0  4\n",
       "\n",
       "julia> view(2:5, 2:3) # returns a range as type is immutable\n",
       "3:4\n",
       "```\n"
      ],
      "text/plain": [
       "\u001b[36m  view(A, inds...)\u001b[39m\n",
       "\n",
       "  Like \u001b[36mgetindex\u001b[39m, but returns a lightweight array that lazily references (or is\n",
       "  effectively a \u001b[4mview\u001b[24m into) the parent array \u001b[36mA\u001b[39m at the given index or indices\n",
       "  \u001b[36minds\u001b[39m instead of eagerly extracting elements or constructing a copied subset.\n",
       "  Calling \u001b[36mgetindex\u001b[39m or \u001b[36msetindex!\u001b[39m on the returned value (often a \u001b[36mSubArray\u001b[39m)\n",
       "  computes the indices to access or modify the parent array on the fly. The\n",
       "  behavior is undefined if the shape of the parent array is changed after \u001b[36mview\u001b[39m\n",
       "  is called because there is no bound check for the parent array; e.g., it may\n",
       "  cause a segmentation fault.\n",
       "\n",
       "  Some immutable parent arrays (like ranges) may choose to simply recompute a\n",
       "  new array in some circumstances instead of returning a \u001b[36mSubArray\u001b[39m if doing so\n",
       "  is efficient and provides compatible semantics.\n",
       "\n",
       "\u001b[39m\u001b[1m  │ \u001b[22m\u001b[39m\u001b[1mJulia 1.6\u001b[22m\n",
       "\u001b[39m\u001b[1m  │\u001b[22m\n",
       "\u001b[39m\u001b[1m  │\u001b[22m  In Julia 1.6 or later, \u001b[36mview\u001b[39m can be called on an \u001b[36mAbstractString\u001b[39m,\n",
       "\u001b[39m\u001b[1m  │\u001b[22m  returning a \u001b[36mSubString\u001b[39m.\n",
       "\n",
       "\u001b[1m  Examples\u001b[22m\n",
       "\u001b[1m  ≡≡≡≡≡≡≡≡≡≡\u001b[22m\n",
       "\n",
       "\u001b[36m  julia> A = [1 2; 3 4]\u001b[39m\n",
       "\u001b[36m  2×2 Matrix{Int64}:\u001b[39m\n",
       "\u001b[36m   1  2\u001b[39m\n",
       "\u001b[36m   3  4\u001b[39m\n",
       "\u001b[36m  \u001b[39m\n",
       "\u001b[36m  julia> b = view(A, :, 1)\u001b[39m\n",
       "\u001b[36m  2-element view(::Matrix{Int64}, :, 1) with eltype Int64:\u001b[39m\n",
       "\u001b[36m   1\u001b[39m\n",
       "\u001b[36m   3\u001b[39m\n",
       "\u001b[36m  \u001b[39m\n",
       "\u001b[36m  julia> fill!(b, 0)\u001b[39m\n",
       "\u001b[36m  2-element view(::Matrix{Int64}, :, 1) with eltype Int64:\u001b[39m\n",
       "\u001b[36m   0\u001b[39m\n",
       "\u001b[36m   0\u001b[39m\n",
       "\u001b[36m  \u001b[39m\n",
       "\u001b[36m  julia> A # Note A has changed even though we modified b\u001b[39m\n",
       "\u001b[36m  2×2 Matrix{Int64}:\u001b[39m\n",
       "\u001b[36m   0  2\u001b[39m\n",
       "\u001b[36m   0  4\u001b[39m\n",
       "\u001b[36m  \u001b[39m\n",
       "\u001b[36m  julia> view(2:5, 2:3) # returns a range as type is immutable\u001b[39m\n",
       "\u001b[36m  3:4\u001b[39m"
      ]
     },
     "execution_count": 37,
     "metadata": {},
     "output_type": "execute_result"
    }
   ],
   "source": [
    "?view"
   ]
  },
  {
   "cell_type": "markdown",
   "id": "ffeb60f1",
   "metadata": {},
   "source": [
    "**Attempt:**"
   ]
  },
  {
   "cell_type": "code",
   "execution_count": null,
   "id": "f55a38e2",
   "metadata": {},
   "outputs": [],
   "source": []
  },
  {
   "cell_type": "markdown",
   "id": "1a35eb8c",
   "metadata": {},
   "source": [
    "## Linear regression\n",
    "\n",
    "(does raw approach to start with)"
   ]
  },
  {
   "cell_type": "code",
   "execution_count": 24,
   "id": "838f8a82",
   "metadata": {},
   "outputs": [
    {
     "data": {
      "text/plain": [
       "11-element Vector{Float64}:\n",
       "  8.04\n",
       "  6.95\n",
       "  7.58\n",
       "  8.81\n",
       "  8.33\n",
       "  9.96\n",
       "  7.24\n",
       "  4.26\n",
       " 10.84\n",
       "  4.82\n",
       "  5.68"
      ]
     },
     "execution_count": 24,
     "metadata": {},
     "output_type": "execute_result"
    }
   ],
   "source": [
    "y = aq[:, 2]"
   ]
  },
  {
   "cell_type": "code",
   "execution_count": 25,
   "id": "decefc9b",
   "metadata": {},
   "outputs": [
    {
     "data": {
      "text/plain": [
       "11×2 Matrix{Float64}:\n",
       " 1.0  10.0\n",
       " 1.0   8.0\n",
       " 1.0  13.0\n",
       " 1.0   9.0\n",
       " 1.0  11.0\n",
       " 1.0  14.0\n",
       " 1.0   6.0\n",
       " 1.0   4.0\n",
       " 1.0  12.0\n",
       " 1.0   7.0\n",
       " 1.0   5.0"
      ]
     },
     "execution_count": 25,
     "metadata": {},
     "output_type": "execute_result"
    }
   ],
   "source": [
    "X = [ones(11) aq[:, 1]]"
   ]
  },
  {
   "cell_type": "markdown",
   "id": "cd49fb80",
   "metadata": {},
   "source": [
    "> The ones function generates a vector of eleven 1s. Then we use the method of constructing matrices in which you merge columns by separating them with a whitespace and wrapping them in square brackets. This is the same approach we used at the beginning of this section. The only difference is that now we are horizontally concatenat"
   ]
  },
  {
   "cell_type": "code",
   "execution_count": 26,
   "id": "3b33d125",
   "metadata": {},
   "outputs": [
    {
     "data": {
      "text/plain": [
       "2-element Vector{Float64}:\n",
       " 3.000090909090909\n",
       " 0.5000909090909093"
      ]
     },
     "execution_count": 26,
     "metadata": {},
     "output_type": "execute_result"
    }
   ],
   "source": [
    "X \\ y"
   ]
  },
  {
   "cell_type": "markdown",
   "id": "dc2b2efd",
   "metadata": {},
   "source": [
    "What is `A \\ B`?\n",
    "\n",
    "> If A is not square, the result X is a minimizer of the expression norm(A * X - B), where norm is a function computing the Euclidean norm; it is defined in the LinearAlgebra module.\n",
    "\n",
    "> In the context of linear regression, when A is a feature matrix and B is a target variable vector, then A \\ B produces the least squares estimate or regression parameters."
   ]
  },
  {
   "cell_type": "markdown",
   "id": "2a8bbefb",
   "metadata": {},
   "source": [
    "In reality we'd use a package to do this"
   ]
  },
  {
   "cell_type": "code",
   "execution_count": 27,
   "id": "49da2634",
   "metadata": {},
   "outputs": [
    {
     "data": {
      "text/plain": [
       "4-element Vector{Vector{Float64}}:\n",
       " [3.000090909090909, 0.5000909090909093]\n",
       " [3.0009090909090905, 0.5]\n",
       " [3.0024545454545457, 0.4997272727272727]\n",
       " [3.001727272727271, 0.4999090909090911]"
      ]
     },
     "execution_count": 27,
     "metadata": {},
     "output_type": "execute_result"
    }
   ],
   "source": [
    "[[ones(11) aq[:, i]] \\ aq[:, i+1] for i in 1:2:7]"
   ]
  },
  {
   "cell_type": "markdown",
   "id": "d09a92f5",
   "metadata": {},
   "source": [
    "## R-Squared\n",
    "\n",
    "What Is R-Squared? R-squared (R2) is a statistical measure that represents the proportion of the variance for a dependent variable that's explained by an independent variable or variables in a regression model."
   ]
  },
  {
   "cell_type": "code",
   "execution_count": 28,
   "id": "157c0a1c",
   "metadata": {},
   "outputs": [
    {
     "data": {
      "text/plain": [
       "R2 (generic function with 1 method)"
      ]
     },
     "execution_count": 28,
     "metadata": {},
     "output_type": "execute_result"
    }
   ],
   "source": [
    "function R2(x, y)\n",
    "    X = [ones(11) x]\n",
    "    model = X \\ y\n",
    "    prediction = X * model\n",
    "    error = y - prediction\n",
    "    SS_res = sum(v -> v ^ 2, error)\n",
    "    mean_y = mean(y)\n",
    "    SS_tot = sum(v -> (v - mean_y) ^ 2, y)\n",
    "    1 - SS_res / SS_tot\n",
    "end"
   ]
  },
  {
   "cell_type": "markdown",
   "id": "4be6983b",
   "metadata": {},
   "source": [
    "(\"2\" can be typed by `\\`^2 *tab*)"
   ]
  },
  {
   "cell_type": "code",
   "execution_count": 30,
   "id": "408a4e73",
   "metadata": {},
   "outputs": [
    {
     "name": "stderr",
     "output_type": "stream",
     "text": [
      "\u001b[32m\u001b[1m   Resolving\u001b[22m\u001b[39m package versions...\n",
      "\u001b[32m\u001b[1m   Installed\u001b[22m\u001b[39m JpegTurbo_jll ──────────────── v2.1.91+0\n",
      "\u001b[32m\u001b[1m   Installed\u001b[22m\u001b[39m x265_jll ───────────────────── v3.5.0+0\n",
      "\u001b[32m\u001b[1m   Installed\u001b[22m\u001b[39m GR_jll ─────────────────────── v0.71.7+0\n",
      "\u001b[32m\u001b[1m   Installed\u001b[22m\u001b[39m Opus_jll ───────────────────── v1.3.2+0\n",
      "\u001b[32m\u001b[1m   Installed\u001b[22m\u001b[39m Libmount_jll ───────────────── v2.35.0+0\n",
      "\u001b[32m\u001b[1m   Installed\u001b[22m\u001b[39m libfdk_aac_jll ─────────────── v2.0.2+0\n",
      "\u001b[32m\u001b[1m   Installed\u001b[22m\u001b[39m LERC_jll ───────────────────── v3.0.0+1\n",
      "\u001b[32m\u001b[1m   Installed\u001b[22m\u001b[39m LoggingExtras ──────────────── v1.0.0\n",
      "\u001b[32m\u001b[1m   Installed\u001b[22m\u001b[39m Xorg_xkbcomp_jll ───────────── v1.4.2+4\n",
      "\u001b[32m\u001b[1m   Installed\u001b[22m\u001b[39m RelocatableFolders ─────────── v1.0.0\n",
      "\u001b[32m\u001b[1m   Installed\u001b[22m\u001b[39m Grisu ──────────────────────── v1.0.2\n",
      "\u001b[32m\u001b[1m   Installed\u001b[22m\u001b[39m Measures ───────────────────── v0.3.2\n",
      "\u001b[32m\u001b[1m   Installed\u001b[22m\u001b[39m Formatting ─────────────────── v0.4.2\n",
      "\u001b[32m\u001b[1m   Installed\u001b[22m\u001b[39m Xorg_xcb_util_wm_jll ───────── v0.4.1+1\n",
      "\u001b[32m\u001b[1m   Installed\u001b[22m\u001b[39m Xorg_xcb_util_image_jll ────── v0.4.0+1\n",
      "\u001b[32m\u001b[1m   Installed\u001b[22m\u001b[39m RecipesPipeline ────────────── v0.6.11\n",
      "\u001b[32m\u001b[1m   Installed\u001b[22m\u001b[39m PlotUtils ──────────────────── v1.3.4\n",
      "\u001b[32m\u001b[1m   Installed\u001b[22m\u001b[39m OpenSSL ────────────────────── v1.3.3\n",
      "\u001b[32m\u001b[1m   Installed\u001b[22m\u001b[39m Xorg_libpthread_stubs_jll ──── v0.1.0+3\n",
      "\u001b[32m\u001b[1m   Installed\u001b[22m\u001b[39m Contour ────────────────────── v0.6.2\n",
      "\u001b[32m\u001b[1m   Installed\u001b[22m\u001b[39m Libgpg_error_jll ───────────── v1.42.0+0\n",
      "\u001b[32m\u001b[1m   Installed\u001b[22m\u001b[39m Cairo_jll ──────────────────── v1.16.1+1\n",
      "\u001b[32m\u001b[1m   Installed\u001b[22m\u001b[39m Xorg_xcb_util_jll ──────────── v0.4.0+1\n",
      "\u001b[32m\u001b[1m   Installed\u001b[22m\u001b[39m Fontconfig_jll ─────────────── v2.13.93+0\n",
      "\u001b[32m\u001b[1m   Installed\u001b[22m\u001b[39m Xorg_libxkbfile_jll ────────── v1.1.0+4\n",
      "\u001b[32m\u001b[1m   Installed\u001b[22m\u001b[39m HTTP ───────────────────────── v1.7.4\n",
      "\u001b[32m\u001b[1m   Installed\u001b[22m\u001b[39m ColorSchemes ───────────────── v3.20.0\n",
      "\u001b[32m\u001b[1m   Installed\u001b[22m\u001b[39m Xorg_libXau_jll ────────────── v1.0.9+4\n",
      "\u001b[32m\u001b[1m   Installed\u001b[22m\u001b[39m Xorg_libXinerama_jll ───────── v1.1.4+4\n",
      "\u001b[32m\u001b[1m   Installed\u001b[22m\u001b[39m Missings ───────────────────── v1.1.0\n",
      "\u001b[32m\u001b[1m   Installed\u001b[22m\u001b[39m FFMPEG ─────────────────────── v0.4.1\n",
      "\u001b[32m\u001b[1m   Installed\u001b[22m\u001b[39m IrrationalConstants ────────── v0.2.1\n",
      "\u001b[32m\u001b[1m   Installed\u001b[22m\u001b[39m Showoff ────────────────────── v1.0.3\n",
      "\u001b[32m\u001b[1m   Installed\u001b[22m\u001b[39m Qt5Base_jll ────────────────── v5.15.3+2\n",
      "\u001b[32m\u001b[1m   Installed\u001b[22m\u001b[39m SimpleBufferStream ─────────── v1.1.0\n",
      "\u001b[32m\u001b[1m   Installed\u001b[22m\u001b[39m Xorg_xcb_util_keysyms_jll ──── v0.4.0+1\n",
      "\u001b[32m\u001b[1m   Installed\u001b[22m\u001b[39m Pipe ───────────────────────── v1.3.0\n",
      "\u001b[32m\u001b[1m   Installed\u001b[22m\u001b[39m xkbcommon_jll ──────────────── v1.4.1+0\n",
      "\u001b[32m\u001b[1m   Installed\u001b[22m\u001b[39m Bzip2_jll ──────────────────── v1.0.8+0\n",
      "\u001b[32m\u001b[1m   Installed\u001b[22m\u001b[39m HarfBuzz_jll ───────────────── v2.8.1+1\n",
      "\u001b[32m\u001b[1m   Installed\u001b[22m\u001b[39m fzf_jll ────────────────────── v0.29.0+0\n",
      "\u001b[32m\u001b[1m   Installed\u001b[22m\u001b[39m LZO_jll ────────────────────── v2.10.1+0\n",
      "\u001b[32m\u001b[1m   Installed\u001b[22m\u001b[39m PlotThemes ─────────────────── v3.1.0\n",
      "\u001b[32m\u001b[1m   Installed\u001b[22m\u001b[39m SpecialFunctions ───────────── v2.2.0\n",
      "\u001b[32m\u001b[1m   Installed\u001b[22m\u001b[39m NaNMath ────────────────────── v1.0.2\n",
      "\u001b[32m\u001b[1m   Installed\u001b[22m\u001b[39m TranscodingStreams ─────────── v0.9.11\n",
      "\u001b[32m\u001b[1m   Installed\u001b[22m\u001b[39m FriBidi_jll ────────────────── v1.0.10+0\n",
      "\u001b[32m\u001b[1m   Installed\u001b[22m\u001b[39m GLFW_jll ───────────────────── v3.3.8+0\n",
      "\u001b[32m\u001b[1m   Installed\u001b[22m\u001b[39m FreeType2_jll ──────────────── v2.10.4+0\n",
      "\u001b[32m\u001b[1m   Installed\u001b[22m\u001b[39m UnicodeFun ─────────────────── v0.4.1\n",
      "\u001b[32m\u001b[1m   Installed\u001b[22m\u001b[39m x264_jll ───────────────────── v2021.5.5+0\n",
      "\u001b[32m\u001b[1m   Installed\u001b[22m\u001b[39m JLFzf ──────────────────────── v0.1.5\n",
      "\u001b[32m\u001b[1m   Installed\u001b[22m\u001b[39m DataStructures ─────────────── v0.18.13\n",
      "\u001b[32m\u001b[1m   Installed\u001b[22m\u001b[39m StatsAPI ───────────────────── v1.5.0\n",
      "\u001b[32m\u001b[1m   Installed\u001b[22m\u001b[39m CodecZlib ──────────────────── v0.7.1\n",
      "\u001b[32m\u001b[1m   Installed\u001b[22m\u001b[39m Colors ─────────────────────── v0.12.10\n",
      "\u001b[32m\u001b[1m   Installed\u001b[22m\u001b[39m Compat ─────────────────────── v4.6.0\n",
      "\u001b[32m\u001b[1m   Installed\u001b[22m\u001b[39m StatsBase ──────────────────── v0.33.21\n",
      "\u001b[32m\u001b[1m   Installed\u001b[22m\u001b[39m Xorg_libxcb_jll ────────────── v1.13.0+3\n",
      "\u001b[32m\u001b[1m   Installed\u001b[22m\u001b[39m libaom_jll ─────────────────── v3.4.0+0\n",
      "\u001b[32m\u001b[1m   Installed\u001b[22m\u001b[39m libpng_jll ─────────────────── v1.6.38+0\n",
      "\u001b[32m\u001b[1m   Installed\u001b[22m\u001b[39m Scratch ────────────────────── v1.1.1\n",
      "\u001b[32m\u001b[1m   Installed\u001b[22m\u001b[39m Xorg_libXext_jll ───────────── v1.3.4+4\n",
      "\u001b[32m\u001b[1m   Installed\u001b[22m\u001b[39m ColorTypes ─────────────────── v0.11.4\n",
      "\u001b[32m\u001b[1m   Installed\u001b[22m\u001b[39m TensorCore ─────────────────── v0.1.1\n",
      "\u001b[32m\u001b[1m   Installed\u001b[22m\u001b[39m Zstd_jll ───────────────────── v1.5.4+0\n",
      "\u001b[32m\u001b[1m   Installed\u001b[22m\u001b[39m Expat_jll ──────────────────── v2.4.8+0\n",
      "\u001b[32m\u001b[1m   Installed\u001b[22m\u001b[39m Libtiff_jll ────────────────── v4.4.0+0\n",
      "\u001b[32m\u001b[1m   Installed\u001b[22m\u001b[39m GR ─────────────────────────── v0.71.7\n",
      "\u001b[32m\u001b[1m   Installed\u001b[22m\u001b[39m Plots ──────────────────────── v1.38.6\n",
      "\u001b[32m\u001b[1m   Installed\u001b[22m\u001b[39m Xorg_libXi_jll ─────────────── v1.7.10+4\n",
      "\u001b[32m\u001b[1m   Installed\u001b[22m\u001b[39m Xorg_libXrender_jll ────────── v0.9.10+4\n",
      "\u001b[32m\u001b[1m   Installed\u001b[22m\u001b[39m Libffi_jll ─────────────────── v3.2.2+1\n",
      "\u001b[32m\u001b[1m   Installed\u001b[22m\u001b[39m OrderedCollections ─────────── v1.4.1\n",
      "\u001b[32m\u001b[1m   Installed\u001b[22m\u001b[39m Ogg_jll ────────────────────── v1.3.5+1\n",
      "\u001b[32m\u001b[1m   Installed\u001b[22m\u001b[39m XSLT_jll ───────────────────── v1.1.34+0\n",
      "\u001b[32m\u001b[1m   Installed\u001b[22m\u001b[39m ColorVectorSpace ───────────── v0.9.10\n",
      "\u001b[32m\u001b[1m   Installed\u001b[22m\u001b[39m ChainRulesCore ─────────────── v1.15.7\n",
      "\u001b[32m\u001b[1m   Installed\u001b[22m\u001b[39m OpenSpecFun_jll ────────────── v0.5.5+0\n",
      "\u001b[32m\u001b[1m   Installed\u001b[22m\u001b[39m Reexport ───────────────────── v1.2.2\n",
      "\u001b[32m\u001b[1m   Installed\u001b[22m\u001b[39m LogExpFunctions ────────────── v0.3.23\n",
      "\u001b[32m\u001b[1m   Installed\u001b[22m\u001b[39m MacroTools ─────────────────── v0.5.10\n",
      "\u001b[32m\u001b[1m   Installed\u001b[22m\u001b[39m Xorg_libXcursor_jll ────────── v1.2.0+4\n",
      "\u001b[32m\u001b[1m   Installed\u001b[22m\u001b[39m Libuuid_jll ────────────────── v2.36.0+0\n",
      "\u001b[32m\u001b[1m   Installed\u001b[22m\u001b[39m InverseFunctions ───────────── v0.1.8\n",
      "\u001b[32m\u001b[1m   Installed\u001b[22m\u001b[39m DocStringExtensions ────────── v0.9.3\n",
      "\u001b[32m\u001b[1m   Installed\u001b[22m\u001b[39m Xorg_xcb_util_renderutil_jll ─ v0.3.9+1\n",
      "\u001b[32m\u001b[1m   Installed\u001b[22m\u001b[39m Wayland_protocols_jll ──────── v1.25.0+0\n",
      "\u001b[32m\u001b[1m   Installed\u001b[22m\u001b[39m Graphite2_jll ──────────────── v1.3.14+0\n",
      "\u001b[32m\u001b[1m   Installed\u001b[22m\u001b[39m XML2_jll ───────────────────── v2.10.3+0\n",
      "\u001b[32m\u001b[1m   Installed\u001b[22m\u001b[39m libass_jll ─────────────────── v0.15.1+0\n",
      "\u001b[32m\u001b[1m   Installed\u001b[22m\u001b[39m Pixman_jll ─────────────────── v0.40.1+0\n",
      "\u001b[32m\u001b[1m   Installed\u001b[22m\u001b[39m Gettext_jll ────────────────── v0.21.0+0\n",
      "\u001b[32m\u001b[1m   Installed\u001b[22m\u001b[39m Latexify ───────────────────── v0.15.18\n",
      "\u001b[32m\u001b[1m   Installed\u001b[22m\u001b[39m Wayland_jll ────────────────── v1.21.0+0\n",
      "\u001b[32m\u001b[1m   Installed\u001b[22m\u001b[39m Xorg_xtrans_jll ────────────── v1.4.0+3\n",
      "\u001b[32m\u001b[1m   Installed\u001b[22m\u001b[39m OpenSSL_jll ────────────────── v1.1.20+0\n",
      "\u001b[32m\u001b[1m   Installed\u001b[22m\u001b[39m Xorg_xkeyboard_config_jll ──── v2.27.0+4\n",
      "\u001b[32m\u001b[1m   Installed\u001b[22m\u001b[39m FFMPEG_jll ─────────────────── v4.4.2+2\n",
      "\u001b[32m\u001b[1m   Installed\u001b[22m\u001b[39m Libgcrypt_jll ──────────────── v1.8.7+0\n",
      "\u001b[32m\u001b[1m   Installed\u001b[22m\u001b[39m BitFlags ───────────────────── v0.1.7\n",
      "\u001b[32m\u001b[1m   Installed\u001b[22m\u001b[39m Xorg_libXrandr_jll ─────────── v1.5.2+4\n",
      "\u001b[32m\u001b[1m   Installed\u001b[22m\u001b[39m DataAPI ────────────────────── v1.14.0\n",
      "\u001b[32m\u001b[1m   Installed\u001b[22m\u001b[39m FixedPointNumbers ──────────── v0.8.4\n",
      "\u001b[32m\u001b[1m   Installed\u001b[22m\u001b[39m RecipesBase ────────────────── v1.3.3\n",
      "\u001b[32m\u001b[1m   Installed\u001b[22m\u001b[39m Xorg_libXfixes_jll ─────────── v5.0.3+4\n",
      "\u001b[32m\u001b[1m   Installed\u001b[22m\u001b[39m LAME_jll ───────────────────── v3.100.1+0\n",
      "\u001b[32m\u001b[1m   Installed\u001b[22m\u001b[39m Libiconv_jll ───────────────── v1.16.1+2\n",
      "\u001b[32m\u001b[1m   Installed\u001b[22m\u001b[39m Glib_jll ───────────────────── v2.74.0+2\n",
      "\u001b[32m\u001b[1m   Installed\u001b[22m\u001b[39m IniFile ────────────────────── v0.5.1\n",
      "\u001b[32m\u001b[1m   Installed\u001b[22m\u001b[39m LaTeXStrings ───────────────── v1.3.0\n",
      "\u001b[32m\u001b[1m   Installed\u001b[22m\u001b[39m libvorbis_jll ──────────────── v1.3.7+1\n",
      "\u001b[32m\u001b[1m   Installed\u001b[22m\u001b[39m URIs ───────────────────────── v1.4.2\n",
      "\u001b[32m\u001b[1m   Installed\u001b[22m\u001b[39m Libglvnd_jll ───────────────── v1.6.0+0\n",
      "\u001b[32m\u001b[1m   Installed\u001b[22m\u001b[39m Requires ───────────────────── v1.3.0\n",
      "\u001b[32m\u001b[1m   Installed\u001b[22m\u001b[39m Xorg_libX11_jll ────────────── v1.6.9+4\n",
      "\u001b[32m\u001b[1m   Installed\u001b[22m\u001b[39m Xorg_libXdmcp_jll ──────────── v1.1.3+4\n"
     ]
    },
    {
     "name": "stderr",
     "output_type": "stream",
     "text": [
      "\u001b[32m\u001b[1m   Installed\u001b[22m\u001b[39m SortingAlgorithms ──────────── v1.1.0\n",
      "\u001b[32m\u001b[1m   Installed\u001b[22m\u001b[39m Unzip ──────────────────────── v0.2.0\n",
      "\u001b[32m\u001b[1m   Installed\u001b[22m\u001b[39m ChangesOfVariables ─────────── v0.1.6\n",
      "\u001b[32m\u001b[1m    Updating\u001b[22m\u001b[39m `~/.julia/environments/v1.8/Project.toml`\n",
      " \u001b[90m [91a5bcdd] \u001b[39m\u001b[92m+ Plots v1.38.6\u001b[39m\n",
      "\u001b[32m\u001b[1m    Updating\u001b[22m\u001b[39m `~/.julia/environments/v1.8/Manifest.toml`\n",
      " \u001b[90m [d1d4a3ce] \u001b[39m\u001b[92m+ BitFlags v0.1.7\u001b[39m\n",
      " \u001b[90m [d360d2e6] \u001b[39m\u001b[92m+ ChainRulesCore v1.15.7\u001b[39m\n",
      " \u001b[90m [9e997f8a] \u001b[39m\u001b[92m+ ChangesOfVariables v0.1.6\u001b[39m\n",
      " \u001b[90m [944b1d66] \u001b[39m\u001b[92m+ CodecZlib v0.7.1\u001b[39m\n",
      " \u001b[90m [35d6a980] \u001b[39m\u001b[92m+ ColorSchemes v3.20.0\u001b[39m\n",
      " \u001b[90m [3da002f7] \u001b[39m\u001b[92m+ ColorTypes v0.11.4\u001b[39m\n",
      " \u001b[90m [c3611d14] \u001b[39m\u001b[92m+ ColorVectorSpace v0.9.10\u001b[39m\n",
      " \u001b[90m [5ae59095] \u001b[39m\u001b[92m+ Colors v0.12.10\u001b[39m\n",
      " \u001b[90m [34da2185] \u001b[39m\u001b[92m+ Compat v4.6.0\u001b[39m\n",
      " \u001b[90m [d38c429a] \u001b[39m\u001b[92m+ Contour v0.6.2\u001b[39m\n",
      " \u001b[90m [9a962f9c] \u001b[39m\u001b[92m+ DataAPI v1.14.0\u001b[39m\n",
      " \u001b[90m [864edb3b] \u001b[39m\u001b[92m+ DataStructures v0.18.13\u001b[39m\n",
      " \u001b[90m [ffbed154] \u001b[39m\u001b[92m+ DocStringExtensions v0.9.3\u001b[39m\n",
      " \u001b[90m [c87230d0] \u001b[39m\u001b[92m+ FFMPEG v0.4.1\u001b[39m\n",
      " \u001b[90m [53c48c17] \u001b[39m\u001b[92m+ FixedPointNumbers v0.8.4\u001b[39m\n",
      " \u001b[90m [59287772] \u001b[39m\u001b[92m+ Formatting v0.4.2\u001b[39m\n",
      " \u001b[90m [28b8d3ca] \u001b[39m\u001b[92m+ GR v0.71.7\u001b[39m\n",
      " \u001b[90m [42e2da0e] \u001b[39m\u001b[92m+ Grisu v1.0.2\u001b[39m\n",
      " \u001b[90m [cd3eb016] \u001b[39m\u001b[92m+ HTTP v1.7.4\u001b[39m\n",
      " \u001b[90m [83e8ac13] \u001b[39m\u001b[92m+ IniFile v0.5.1\u001b[39m\n",
      " \u001b[90m [3587e190] \u001b[39m\u001b[92m+ InverseFunctions v0.1.8\u001b[39m\n",
      " \u001b[90m [92d709cd] \u001b[39m\u001b[92m+ IrrationalConstants v0.2.1\u001b[39m\n",
      " \u001b[90m [1019f520] \u001b[39m\u001b[92m+ JLFzf v0.1.5\u001b[39m\n",
      " \u001b[90m [b964fa9f] \u001b[39m\u001b[92m+ LaTeXStrings v1.3.0\u001b[39m\n",
      " \u001b[90m [23fbe1c1] \u001b[39m\u001b[92m+ Latexify v0.15.18\u001b[39m\n",
      " \u001b[90m [2ab3a3ac] \u001b[39m\u001b[92m+ LogExpFunctions v0.3.23\u001b[39m\n",
      " \u001b[90m [e6f89c97] \u001b[39m\u001b[92m+ LoggingExtras v1.0.0\u001b[39m\n",
      " \u001b[90m [1914dd2f] \u001b[39m\u001b[92m+ MacroTools v0.5.10\u001b[39m\n",
      " \u001b[90m [442fdcdd] \u001b[39m\u001b[92m+ Measures v0.3.2\u001b[39m\n",
      " \u001b[90m [e1d29d7a] \u001b[39m\u001b[92m+ Missings v1.1.0\u001b[39m\n",
      " \u001b[90m [77ba4419] \u001b[39m\u001b[92m+ NaNMath v1.0.2\u001b[39m\n",
      " \u001b[90m [4d8831e6] \u001b[39m\u001b[92m+ OpenSSL v1.3.3\u001b[39m\n",
      " \u001b[90m [bac558e1] \u001b[39m\u001b[92m+ OrderedCollections v1.4.1\u001b[39m\n",
      " \u001b[90m [b98c9c47] \u001b[39m\u001b[92m+ Pipe v1.3.0\u001b[39m\n",
      " \u001b[90m [ccf2f8ad] \u001b[39m\u001b[92m+ PlotThemes v3.1.0\u001b[39m\n",
      " \u001b[90m [995b91a9] \u001b[39m\u001b[92m+ PlotUtils v1.3.4\u001b[39m\n",
      " \u001b[90m [91a5bcdd] \u001b[39m\u001b[92m+ Plots v1.38.6\u001b[39m\n",
      " \u001b[90m [3cdcf5f2] \u001b[39m\u001b[92m+ RecipesBase v1.3.3\u001b[39m\n",
      " \u001b[90m [01d81517] \u001b[39m\u001b[92m+ RecipesPipeline v0.6.11\u001b[39m\n",
      " \u001b[90m [189a3867] \u001b[39m\u001b[92m+ Reexport v1.2.2\u001b[39m\n",
      " \u001b[90m [05181044] \u001b[39m\u001b[92m+ RelocatableFolders v1.0.0\u001b[39m\n",
      " \u001b[90m [ae029012] \u001b[39m\u001b[92m+ Requires v1.3.0\u001b[39m\n",
      " \u001b[90m [6c6a2e73] \u001b[39m\u001b[92m+ Scratch v1.1.1\u001b[39m\n",
      " \u001b[90m [992d4aef] \u001b[39m\u001b[92m+ Showoff v1.0.3\u001b[39m\n",
      " \u001b[90m [777ac1f9] \u001b[39m\u001b[92m+ SimpleBufferStream v1.1.0\u001b[39m\n",
      " \u001b[90m [a2af1166] \u001b[39m\u001b[92m+ SortingAlgorithms v1.1.0\u001b[39m\n",
      " \u001b[90m [276daf66] \u001b[39m\u001b[92m+ SpecialFunctions v2.2.0\u001b[39m\n",
      " \u001b[90m [82ae8749] \u001b[39m\u001b[92m+ StatsAPI v1.5.0\u001b[39m\n",
      " \u001b[90m [2913bbd2] \u001b[39m\u001b[92m+ StatsBase v0.33.21\u001b[39m\n",
      " \u001b[90m [62fd8b95] \u001b[39m\u001b[92m+ TensorCore v0.1.1\u001b[39m\n",
      " \u001b[90m [3bb67fe8] \u001b[39m\u001b[92m+ TranscodingStreams v0.9.11\u001b[39m\n",
      " \u001b[90m [5c2747f8] \u001b[39m\u001b[92m+ URIs v1.4.2\u001b[39m\n",
      " \u001b[90m [1cfade01] \u001b[39m\u001b[92m+ UnicodeFun v0.4.1\u001b[39m\n",
      " \u001b[90m [41fe7b60] \u001b[39m\u001b[92m+ Unzip v0.2.0\u001b[39m\n",
      " \u001b[90m [6e34b625] \u001b[39m\u001b[92m+ Bzip2_jll v1.0.8+0\u001b[39m\n",
      " \u001b[90m [83423d85] \u001b[39m\u001b[92m+ Cairo_jll v1.16.1+1\u001b[39m\n",
      " \u001b[90m [2e619515] \u001b[39m\u001b[92m+ Expat_jll v2.4.8+0\u001b[39m\n",
      " \u001b[90m [b22a6f82] \u001b[39m\u001b[92m+ FFMPEG_jll v4.4.2+2\u001b[39m\n",
      " \u001b[90m [a3f928ae] \u001b[39m\u001b[92m+ Fontconfig_jll v2.13.93+0\u001b[39m\n",
      " \u001b[90m [d7e528f0] \u001b[39m\u001b[92m+ FreeType2_jll v2.10.4+0\u001b[39m\n",
      " \u001b[90m [559328eb] \u001b[39m\u001b[92m+ FriBidi_jll v1.0.10+0\u001b[39m\n",
      " \u001b[90m [0656b61e] \u001b[39m\u001b[92m+ GLFW_jll v3.3.8+0\u001b[39m\n",
      " \u001b[90m [d2c73de3] \u001b[39m\u001b[92m+ GR_jll v0.71.7+0\u001b[39m\n",
      " \u001b[90m [78b55507] \u001b[39m\u001b[92m+ Gettext_jll v0.21.0+0\u001b[39m\n",
      " \u001b[90m [7746bdde] \u001b[39m\u001b[92m+ Glib_jll v2.74.0+2\u001b[39m\n",
      " \u001b[90m [3b182d85] \u001b[39m\u001b[92m+ Graphite2_jll v1.3.14+0\u001b[39m\n",
      " \u001b[90m [2e76f6c2] \u001b[39m\u001b[92m+ HarfBuzz_jll v2.8.1+1\u001b[39m\n",
      " \u001b[90m [aacddb02] \u001b[39m\u001b[92m+ JpegTurbo_jll v2.1.91+0\u001b[39m\n",
      " \u001b[90m [c1c5ebd0] \u001b[39m\u001b[92m+ LAME_jll v3.100.1+0\u001b[39m\n",
      " \u001b[90m [88015f11] \u001b[39m\u001b[92m+ LERC_jll v3.0.0+1\u001b[39m\n",
      " \u001b[90m [dd4b983a] \u001b[39m\u001b[92m+ LZO_jll v2.10.1+0\u001b[39m\n",
      "\u001b[33m⌅\u001b[39m\u001b[90m [e9f186c6] \u001b[39m\u001b[92m+ Libffi_jll v3.2.2+1\u001b[39m\n",
      " \u001b[90m [d4300ac3] \u001b[39m\u001b[92m+ Libgcrypt_jll v1.8.7+0\u001b[39m\n",
      " \u001b[90m [7e76a0d4] \u001b[39m\u001b[92m+ Libglvnd_jll v1.6.0+0\u001b[39m\n",
      " \u001b[90m [7add5ba3] \u001b[39m\u001b[92m+ Libgpg_error_jll v1.42.0+0\u001b[39m\n",
      " \u001b[90m [94ce4f54] \u001b[39m\u001b[92m+ Libiconv_jll v1.16.1+2\u001b[39m\n",
      " \u001b[90m [4b2f31a3] \u001b[39m\u001b[92m+ Libmount_jll v2.35.0+0\u001b[39m\n",
      " \u001b[90m [89763e89] \u001b[39m\u001b[92m+ Libtiff_jll v4.4.0+0\u001b[39m\n",
      " \u001b[90m [38a345b3] \u001b[39m\u001b[92m+ Libuuid_jll v2.36.0+0\u001b[39m\n",
      " \u001b[90m [e7412a2a] \u001b[39m\u001b[92m+ Ogg_jll v1.3.5+1\u001b[39m\n",
      " \u001b[90m [458c3c95] \u001b[39m\u001b[92m+ OpenSSL_jll v1.1.20+0\u001b[39m\n",
      " \u001b[90m [efe28fd5] \u001b[39m\u001b[92m+ OpenSpecFun_jll v0.5.5+0\u001b[39m\n",
      " \u001b[90m [91d4177d] \u001b[39m\u001b[92m+ Opus_jll v1.3.2+0\u001b[39m\n",
      " \u001b[90m [30392449] \u001b[39m\u001b[92m+ Pixman_jll v0.40.1+0\u001b[39m\n",
      " \u001b[90m [ea2cea3b] \u001b[39m\u001b[92m+ Qt5Base_jll v5.15.3+2\u001b[39m\n",
      " \u001b[90m [a2964d1f] \u001b[39m\u001b[92m+ Wayland_jll v1.21.0+0\u001b[39m\n",
      " \u001b[90m [2381bf8a] \u001b[39m\u001b[92m+ Wayland_protocols_jll v1.25.0+0\u001b[39m\n",
      " \u001b[90m [02c8fc9c] \u001b[39m\u001b[92m+ XML2_jll v2.10.3+0\u001b[39m\n",
      " \u001b[90m [aed1982a] \u001b[39m\u001b[92m+ XSLT_jll v1.1.34+0\u001b[39m\n",
      " \u001b[90m [4f6342f7] \u001b[39m\u001b[92m+ Xorg_libX11_jll v1.6.9+4\u001b[39m\n",
      " \u001b[90m [0c0b7dd1] \u001b[39m\u001b[92m+ Xorg_libXau_jll v1.0.9+4\u001b[39m\n",
      " \u001b[90m [935fb764] \u001b[39m\u001b[92m+ Xorg_libXcursor_jll v1.2.0+4\u001b[39m\n",
      " \u001b[90m [a3789734] \u001b[39m\u001b[92m+ Xorg_libXdmcp_jll v1.1.3+4\u001b[39m\n",
      " \u001b[90m [1082639a] \u001b[39m\u001b[92m+ Xorg_libXext_jll v1.3.4+4\u001b[39m\n",
      " \u001b[90m [d091e8ba] \u001b[39m\u001b[92m+ Xorg_libXfixes_jll v5.0.3+4\u001b[39m\n",
      " \u001b[90m [a51aa0fd] \u001b[39m\u001b[92m+ Xorg_libXi_jll v1.7.10+4\u001b[39m\n",
      " \u001b[90m [d1454406] \u001b[39m\u001b[92m+ Xorg_libXinerama_jll v1.1.4+4\u001b[39m\n",
      " \u001b[90m [ec84b674] \u001b[39m\u001b[92m+ Xorg_libXrandr_jll v1.5.2+4\u001b[39m\n",
      " \u001b[90m [ea2f1a96] \u001b[39m\u001b[92m+ Xorg_libXrender_jll v0.9.10+4\u001b[39m\n",
      " \u001b[90m [14d82f49] \u001b[39m\u001b[92m+ Xorg_libpthread_stubs_jll v0.1.0+3\u001b[39m\n",
      " \u001b[90m [c7cfdc94] \u001b[39m\u001b[92m+ Xorg_libxcb_jll v1.13.0+3\u001b[39m\n",
      " \u001b[90m [cc61e674] \u001b[39m\u001b[92m+ Xorg_libxkbfile_jll v1.1.0+4\u001b[39m\n",
      " \u001b[90m [12413925] \u001b[39m\u001b[92m+ Xorg_xcb_util_image_jll v0.4.0+1\u001b[39m\n",
      " \u001b[90m [2def613f] \u001b[39m\u001b[92m+ Xorg_xcb_util_jll v0.4.0+1\u001b[39m\n",
      " \u001b[90m [975044d2] \u001b[39m\u001b[92m+ Xorg_xcb_util_keysyms_jll v0.4.0+1\u001b[39m\n",
      " \u001b[90m [0d47668e] \u001b[39m\u001b[92m+ Xorg_xcb_util_renderutil_jll v0.3.9+1\u001b[39m\n",
      " \u001b[90m [c22f9ab0] \u001b[39m\u001b[92m+ Xorg_xcb_util_wm_jll v0.4.1+1\u001b[39m\n",
      " \u001b[90m [35661453] \u001b[39m\u001b[92m+ Xorg_xkbcomp_jll v1.4.2+4\u001b[39m\n",
      " \u001b[90m [33bec58e] \u001b[39m\u001b[92m+ Xorg_xkeyboard_config_jll v2.27.0+4\u001b[39m\n",
      " \u001b[90m [c5fb5394] \u001b[39m\u001b[92m+ Xorg_xtrans_jll v1.4.0+3\u001b[39m\n",
      " \u001b[90m [3161d3a3] \u001b[39m\u001b[92m+ Zstd_jll v1.5.4+0\u001b[39m\n",
      "\u001b[33m⌅\u001b[39m\u001b[90m [214eeab7] \u001b[39m\u001b[92m+ fzf_jll v0.29.0+0\u001b[39m\n",
      " \u001b[90m [a4ae2306] \u001b[39m\u001b[92m+ libaom_jll v3.4.0+0\u001b[39m\n",
      " \u001b[90m [0ac62f75] \u001b[39m\u001b[92m+ libass_jll v0.15.1+0\u001b[39m\n",
      " \u001b[90m [f638f0a6] \u001b[39m\u001b[92m+ libfdk_aac_jll v2.0.2+0\u001b[39m\n",
      " \u001b[90m [b53b4c65] \u001b[39m\u001b[92m+ libpng_jll v1.6.38+0\u001b[39m\n",
      " \u001b[90m [f27f6e37] \u001b[39m\u001b[92m+ libvorbis_jll v1.3.7+1\u001b[39m\n",
      " \u001b[90m [1270edf5] \u001b[39m\u001b[92m+ x264_jll v2021.5.5+0\u001b[39m\n",
      " \u001b[90m [dfaa095f] \u001b[39m\u001b[92m+ x265_jll v3.5.0+0\u001b[39m\n",
      " \u001b[90m [d8fb68d0] \u001b[39m\u001b[92m+ xkbcommon_jll v1.4.1+0\u001b[39m\n",
      " \u001b[90m [8bb1440f] \u001b[39m\u001b[92m+ DelimitedFiles\u001b[39m\n",
      " \u001b[90m [05823500] \u001b[39m\u001b[92m+ OpenLibm_jll v0.8.1+0\u001b[39m\n",
      " \u001b[90m [efcefdf7] \u001b[39m\u001b[92m+ PCRE2_jll v10.40.0+0\u001b[39m\n",
      "\u001b[36m\u001b[1m        Info\u001b[22m\u001b[39m Packages marked with \u001b[33m⌅\u001b[39m have new versions available but compatibility constraints restrict them from upgrading. To see why use `status --outdated -m`\n",
      "\u001b[32m\u001b[1mPrecompiling\u001b[22m\u001b[39m project...\n",
      "\u001b[32m  ✓ \u001b[39m\u001b[90mOpenLibm_jll\u001b[39m\n",
      "\u001b[32m  ✓ \u001b[39m\u001b[90mLaTeXStrings\u001b[39m\n",
      "\u001b[32m  ✓ \u001b[39m\u001b[90mPipe\u001b[39m\n",
      "\u001b[32m  ✓ \u001b[39m\u001b[90mStatsAPI\u001b[39m\n",
      "\u001b[32m  ✓ \u001b[39m\u001b[90mTensorCore\u001b[39m\n",
      "\u001b[32m  ✓ \u001b[39m\u001b[90mMeasures\u001b[39m\n",
      "\u001b[32m  ✓ \u001b[39m\u001b[90mContour\u001b[39m\n",
      "\u001b[32m  ✓ \u001b[39m\u001b[90mInverseFunctions\u001b[39m\n",
      "\u001b[32m  ✓ \u001b[39m\u001b[90mReexport\u001b[39m\n",
      "\u001b[32m  ✓ \u001b[39m\u001b[90mRequires\u001b[39m\n",
      "\u001b[32m  ✓ \u001b[39m\u001b[90mCompat\u001b[39m\n",
      "\u001b[32m  ✓ \u001b[39m\u001b[90mUnzip\u001b[39m\n",
      "\u001b[32m  ✓ \u001b[39m\u001b[90mOrderedCollections\u001b[39m\n",
      "\u001b[32m  ✓ \u001b[39m\u001b[90mDocStringExtensions\u001b[39m\n",
      "\u001b[32m  ✓ \u001b[39m\u001b[90mGrisu\u001b[39m\n",
      "\u001b[32m  ✓ \u001b[39m\u001b[90mIniFile\u001b[39m\n",
      "\u001b[32m  ✓ \u001b[39m\u001b[90mSimpleBufferStream\u001b[39m\n"
     ]
    },
    {
     "name": "stderr",
     "output_type": "stream",
     "text": [
      "\u001b[32m  ✓ \u001b[39m\u001b[90mURIs\u001b[39m\n",
      "\u001b[32m  ✓ \u001b[39m\u001b[90mPCRE2_jll\u001b[39m\n",
      "\u001b[32m  ✓ \u001b[39m\u001b[90mFormatting\u001b[39m\n",
      "\u001b[32m  ✓ \u001b[39m\u001b[90mIrrationalConstants\u001b[39m\n",
      "\u001b[32m  ✓ \u001b[39m\u001b[90mUnicodeFun\u001b[39m\n",
      "\u001b[32m  ✓ \u001b[39m\u001b[90mFixedPointNumbers\u001b[39m\n",
      "\u001b[32m  ✓ \u001b[39m\u001b[90mDataAPI\u001b[39m\n",
      "\u001b[32m  ✓ \u001b[39m\u001b[90mBitFlags\u001b[39m\n",
      "\u001b[32m  ✓ \u001b[39m\u001b[90mScratch\u001b[39m\n",
      "\u001b[32m  ✓ \u001b[39m\u001b[90mTranscodingStreams\u001b[39m\n",
      "\u001b[32m  ✓ \u001b[39m\u001b[90mLoggingExtras\u001b[39m\n",
      "\u001b[32m  ✓ \u001b[39m\u001b[90mMacroTools\u001b[39m\n",
      "\u001b[32m  ✓ \u001b[39m\u001b[90mOpenSSL_jll\u001b[39m\n",
      "\u001b[32m  ✓ \u001b[39m\u001b[90mGraphite2_jll\u001b[39m\n",
      "\u001b[32m  ✓ \u001b[39m\u001b[90mLibmount_jll\u001b[39m\n",
      "\u001b[32m  ✓ \u001b[39m\u001b[90mBzip2_jll\u001b[39m\n",
      "\u001b[32m  ✓ \u001b[39m\u001b[90mXorg_libXau_jll\u001b[39m\n",
      "\u001b[32m  ✓ \u001b[39m\u001b[90mlibpng_jll\u001b[39m\n",
      "\u001b[32m  ✓ \u001b[39m\u001b[90mlibfdk_aac_jll\u001b[39m\n",
      "\u001b[32m  ✓ \u001b[39m\u001b[90mLAME_jll\u001b[39m\n",
      "\u001b[32m  ✓ \u001b[39m\u001b[90mPixman_jll\u001b[39m\n",
      "\u001b[32m  ✓ \u001b[39m\u001b[90mfzf_jll\u001b[39m\n",
      "\u001b[32m  ✓ \u001b[39m\u001b[90mLERC_jll\u001b[39m\n",
      "\u001b[32m  ✓ \u001b[39m\u001b[90mRecipesBase\u001b[39m\n",
      "\u001b[32m  ✓ \u001b[39m\u001b[90mJpegTurbo_jll\u001b[39m\n",
      "\u001b[32m  ✓ \u001b[39m\u001b[90mOgg_jll\u001b[39m\n",
      "\u001b[32m  ✓ \u001b[39m\u001b[90mXorg_libXdmcp_jll\u001b[39m\n",
      "\u001b[32m  ✓ \u001b[39m\u001b[90mx265_jll\u001b[39m\n",
      "\u001b[32m  ✓ \u001b[39m\u001b[90mx264_jll\u001b[39m\n",
      "\u001b[32m  ✓ \u001b[39m\u001b[90mlibaom_jll\u001b[39m\n",
      "\u001b[32m  ✓ \u001b[39m\u001b[90mZstd_jll\u001b[39m\n",
      "\u001b[32m  ✓ \u001b[39m\u001b[90mExpat_jll\u001b[39m\n",
      "\u001b[32m  ✓ \u001b[39m\u001b[90mLZO_jll\u001b[39m\n",
      "\u001b[32m  ✓ \u001b[39m\u001b[90mOpus_jll\u001b[39m\n",
      "\u001b[32m  ✓ \u001b[39m\u001b[90mXorg_xtrans_jll\u001b[39m\n",
      "\u001b[32m  ✓ \u001b[39m\u001b[90mLibiconv_jll\u001b[39m\n",
      "\u001b[32m  ✓ \u001b[39m\u001b[90mLibffi_jll\u001b[39m\n",
      "\u001b[32m  ✓ \u001b[39m\u001b[90mWayland_protocols_jll\u001b[39m\n",
      "\u001b[32m  ✓ \u001b[39m\u001b[90mLibgpg_error_jll\u001b[39m\n",
      "\u001b[32m  ✓ \u001b[39m\u001b[90mXorg_libpthread_stubs_jll\u001b[39m\n",
      "\u001b[32m  ✓ \u001b[39m\u001b[90mLibuuid_jll\u001b[39m\n",
      "\u001b[32m  ✓ \u001b[39m\u001b[90mNaNMath\u001b[39m\n",
      "\u001b[32m  ✓ \u001b[39m\u001b[90mFriBidi_jll\u001b[39m\n",
      "\u001b[32m  ✓ \u001b[39m\u001b[90mOpenSpecFun_jll\u001b[39m\n",
      "\u001b[32m  ✓ \u001b[39m\u001b[90mShowoff\u001b[39m\n",
      "\u001b[32m  ✓ \u001b[39m\u001b[90mRelocatableFolders\u001b[39m\n",
      "\u001b[32m  ✓ \u001b[39m\u001b[90mMissings\u001b[39m\n",
      "\u001b[32m  ✓ \u001b[39m\u001b[90mCodecZlib\u001b[39m\n",
      "\u001b[32m  ✓ \u001b[39m\u001b[90mJLFzf\u001b[39m\n",
      "\u001b[32m  ✓ \u001b[39m\u001b[90mFreeType2_jll\u001b[39m\n",
      "\u001b[32m  ✓ \u001b[39m\u001b[90mChainRulesCore\u001b[39m\n",
      "\u001b[32m  ✓ \u001b[39m\u001b[90mlibvorbis_jll\u001b[39m\n",
      "\u001b[32m  ✓ \u001b[39m\u001b[90mChangesOfVariables\u001b[39m\n",
      "\u001b[32m  ✓ \u001b[39m\u001b[90mLatexify\u001b[39m\n",
      "\u001b[32m  ✓ \u001b[39m\u001b[90mColorTypes\u001b[39m\n",
      "\u001b[32m  ✓ \u001b[39m\u001b[90mLibgcrypt_jll\u001b[39m\n",
      "\u001b[32m  ✓ \u001b[39m\u001b[90mDataStructures\u001b[39m\n",
      "\u001b[32m  ✓ \u001b[39m\u001b[90mXML2_jll\u001b[39m\n",
      "\u001b[32m  ✓ \u001b[39m\u001b[90mOpenSSL\u001b[39m\n",
      "\u001b[32m  ✓ \u001b[39m\u001b[90mSortingAlgorithms\u001b[39m\n",
      "\u001b[32m  ✓ \u001b[39m\u001b[90mFontconfig_jll\u001b[39m\n",
      "\u001b[32m  ✓ \u001b[39m\u001b[90mWayland_jll\u001b[39m\n",
      "\u001b[32m  ✓ \u001b[39m\u001b[90mLibtiff_jll\u001b[39m\n",
      "\u001b[32m  ✓ \u001b[39m\u001b[90mLogExpFunctions\u001b[39m\n",
      "\u001b[32m  ✓ \u001b[39m\u001b[90mGettext_jll\u001b[39m\n",
      "\u001b[32m  ✓ \u001b[39m\u001b[90mXSLT_jll\u001b[39m\n",
      "\u001b[32m  ✓ \u001b[39m\u001b[90mXorg_libxcb_jll\u001b[39m\n",
      "\u001b[32m  ✓ \u001b[39m\u001b[90mXorg_libX11_jll\u001b[39m\n",
      "\u001b[32m  ✓ \u001b[39m\u001b[90mXorg_xcb_util_jll\u001b[39m\n",
      "\u001b[32m  ✓ \u001b[39m\u001b[90mXorg_libXfixes_jll\u001b[39m\n",
      "\u001b[32m  ✓ \u001b[39m\u001b[90mXorg_libXext_jll\u001b[39m\n",
      "\u001b[32m  ✓ \u001b[39m\u001b[90mXorg_libxkbfile_jll\u001b[39m\n",
      "\u001b[32m  ✓ \u001b[39m\u001b[90mXorg_libXrender_jll\u001b[39m\n",
      "\u001b[32m  ✓ \u001b[39m\u001b[90mGlib_jll\u001b[39m\n",
      "\u001b[32m  ✓ \u001b[39m\u001b[90mXorg_xcb_util_image_jll\u001b[39m\n",
      "\u001b[32m  ✓ \u001b[39m\u001b[90mXorg_xcb_util_keysyms_jll\u001b[39m\n",
      "\u001b[32m  ✓ \u001b[39m\u001b[90mXorg_xcb_util_renderutil_jll\u001b[39m\n",
      "\u001b[32m  ✓ \u001b[39m\u001b[90mXorg_xcb_util_wm_jll\u001b[39m\n",
      "\u001b[32m  ✓ \u001b[39m\u001b[90mXorg_libXi_jll\u001b[39m\n",
      "\u001b[32m  ✓ \u001b[39m\u001b[90mLibglvnd_jll\u001b[39m\n",
      "\u001b[32m  ✓ \u001b[39m\u001b[90mXorg_xkbcomp_jll\u001b[39m\n",
      "\u001b[32m  ✓ \u001b[39m\u001b[90mXorg_libXinerama_jll\u001b[39m\n",
      "\u001b[32m  ✓ \u001b[39m\u001b[90mXorg_libXcursor_jll\u001b[39m\n",
      "\u001b[32m  ✓ \u001b[39m\u001b[90mXorg_libXrandr_jll\u001b[39m\n",
      "\u001b[32m  ✓ \u001b[39m\u001b[90mStatsBase\u001b[39m\n",
      "\u001b[32m  ✓ \u001b[39m\u001b[90mXorg_xkeyboard_config_jll\u001b[39m\n",
      "\u001b[32m  ✓ \u001b[39m\u001b[90mGLFW_jll\u001b[39m\n",
      "\u001b[32m  ✓ \u001b[39m\u001b[90mColors\u001b[39m\n",
      "\u001b[32m  ✓ \u001b[39m\u001b[90mHTTP\u001b[39m\n",
      "\u001b[32m  ✓ \u001b[39m\u001b[90mxkbcommon_jll\u001b[39m\n",
      "\u001b[32m  ✓ \u001b[39m\u001b[90mSpecialFunctions\u001b[39m\n",
      "\u001b[32m  ✓ \u001b[39m\u001b[90mQt5Base_jll\u001b[39m\n",
      "\u001b[32m  ✓ \u001b[39m\u001b[90mCairo_jll\u001b[39m\n",
      "\u001b[32m  ✓ \u001b[39m\u001b[90mColorVectorSpace\u001b[39m\n",
      "\u001b[32m  ✓ \u001b[39m\u001b[90mHarfBuzz_jll\u001b[39m\n",
      "\u001b[32m  ✓ \u001b[39m\u001b[90mlibass_jll\u001b[39m\n",
      "\u001b[32m  ✓ \u001b[39m\u001b[90mFFMPEG_jll\u001b[39m\n",
      "\u001b[32m  ✓ \u001b[39m\u001b[90mColorSchemes\u001b[39m\n",
      "\u001b[32m  ✓ \u001b[39m\u001b[90mFFMPEG\u001b[39m\n",
      "\u001b[32m  ✓ \u001b[39m\u001b[90mGR_jll\u001b[39m\n",
      "\u001b[32m  ✓ \u001b[39m\u001b[90mPlotUtils\u001b[39m\n",
      "\u001b[32m  ✓ \u001b[39m\u001b[90mGR\u001b[39m\n",
      "\u001b[32m  ✓ \u001b[39m\u001b[90mRecipesPipeline\u001b[39m\n",
      "\u001b[32m  ✓ \u001b[39m\u001b[90mPlotThemes\u001b[39m\n",
      "\u001b[32m  ✓ \u001b[39mPlots\n",
      "  122 dependencies successfully precompiled in 35 seconds. 20 already precompiled.\n"
     ]
    }
   ],
   "source": [
    "Pkg.add(\"Plots\")"
   ]
  },
  {
   "cell_type": "code",
   "execution_count": 31,
   "id": "104e8a5e",
   "metadata": {},
   "outputs": [],
   "source": [
    "using Plots"
   ]
  },
  {
   "cell_type": "code",
   "execution_count": 32,
   "id": "a7d8a1fc",
   "metadata": {},
   "outputs": [
    {
     "data": {
      "image/svg+xml": [
       "<?xml version=\"1.0\" encoding=\"utf-8\"?>\n",
       "<svg xmlns=\"http://www.w3.org/2000/svg\" xmlns:xlink=\"http://www.w3.org/1999/xlink\" width=\"600\" height=\"400\" viewBox=\"0 0 2400 1600\">\n",
       "<defs>\n",
       "  <clipPath id=\"clip220\">\n",
       "    <rect x=\"0\" y=\"0\" width=\"2400\" height=\"1600\"/>\n",
       "  </clipPath>\n",
       "</defs>\n",
       "<path clip-path=\"url(#clip220)\" d=\"M0 1600 L2400 1600 L2400 0 L0 0  Z\" fill=\"#ffffff\" fill-rule=\"evenodd\" fill-opacity=\"1\"/>\n",
       "<defs>\n",
       "  <clipPath id=\"clip221\">\n",
       "    <rect x=\"480\" y=\"0\" width=\"1681\" height=\"1600\"/>\n",
       "  </clipPath>\n",
       "</defs>\n",
       "<path clip-path=\"url(#clip220)\" d=\"M138.959 1486.45 L2352.76 1486.45 L2352.76 47.2441 L138.959 47.2441  Z\" fill=\"#ffffff\" fill-rule=\"evenodd\" fill-opacity=\"1\"/>\n",
       "<defs>\n",
       "  <clipPath id=\"clip222\">\n",
       "    <rect x=\"138\" y=\"47\" width=\"2215\" height=\"1440\"/>\n",
       "  </clipPath>\n",
       "</defs>\n",
       "<polyline clip-path=\"url(#clip222)\" style=\"stroke:#000000; stroke-linecap:round; stroke-linejoin:round; stroke-width:2; stroke-opacity:0.1; fill:none\" points=\"410.463,1486.45 410.463,47.2441 \"/>\n",
       "<polyline clip-path=\"url(#clip222)\" style=\"stroke:#000000; stroke-linecap:round; stroke-linejoin:round; stroke-width:2; stroke-opacity:0.1; fill:none\" points=\"932.585,1486.45 932.585,47.2441 \"/>\n",
       "<polyline clip-path=\"url(#clip222)\" style=\"stroke:#000000; stroke-linecap:round; stroke-linejoin:round; stroke-width:2; stroke-opacity:0.1; fill:none\" points=\"1454.71,1486.45 1454.71,47.2441 \"/>\n",
       "<polyline clip-path=\"url(#clip222)\" style=\"stroke:#000000; stroke-linecap:round; stroke-linejoin:round; stroke-width:2; stroke-opacity:0.1; fill:none\" points=\"1976.83,1486.45 1976.83,47.2441 \"/>\n",
       "<polyline clip-path=\"url(#clip220)\" style=\"stroke:#000000; stroke-linecap:round; stroke-linejoin:round; stroke-width:4; stroke-opacity:1; fill:none\" points=\"138.959,1486.45 2352.76,1486.45 \"/>\n",
       "<polyline clip-path=\"url(#clip220)\" style=\"stroke:#000000; stroke-linecap:round; stroke-linejoin:round; stroke-width:4; stroke-opacity:1; fill:none\" points=\"410.463,1486.45 410.463,1467.55 \"/>\n",
       "<polyline clip-path=\"url(#clip220)\" style=\"stroke:#000000; stroke-linecap:round; stroke-linejoin:round; stroke-width:4; stroke-opacity:1; fill:none\" points=\"932.585,1486.45 932.585,1467.55 \"/>\n",
       "<polyline clip-path=\"url(#clip220)\" style=\"stroke:#000000; stroke-linecap:round; stroke-linejoin:round; stroke-width:4; stroke-opacity:1; fill:none\" points=\"1454.71,1486.45 1454.71,1467.55 \"/>\n",
       "<polyline clip-path=\"url(#clip220)\" style=\"stroke:#000000; stroke-linecap:round; stroke-linejoin:round; stroke-width:4; stroke-opacity:1; fill:none\" points=\"1976.83,1486.45 1976.83,1467.55 \"/>\n",
       "<path clip-path=\"url(#clip220)\" d=\"M377.627 1514.29 L395.984 1514.29 L395.984 1518.22 L381.91 1518.22 L381.91 1526.7 Q382.928 1526.35 383.947 1526.19 Q384.965 1526 385.984 1526 Q391.771 1526 395.15 1529.17 Q398.53 1532.34 398.53 1537.76 Q398.53 1543.34 395.058 1546.44 Q391.586 1549.52 385.266 1549.52 Q383.09 1549.52 380.822 1549.15 Q378.576 1548.78 376.169 1548.04 L376.169 1543.34 Q378.252 1544.47 380.475 1545.03 Q382.697 1545.58 385.174 1545.58 Q389.178 1545.58 391.516 1543.48 Q393.854 1541.37 393.854 1537.76 Q393.854 1534.15 391.516 1532.04 Q389.178 1529.94 385.174 1529.94 Q383.299 1529.94 381.424 1530.35 Q379.572 1530.77 377.627 1531.65 L377.627 1514.29 Z\" fill=\"#000000\" fill-rule=\"evenodd\" fill-opacity=\"1\" /><path clip-path=\"url(#clip220)\" d=\"M407.743 1542.97 L412.627 1542.97 L412.627 1548.85 L407.743 1548.85 L407.743 1542.97 Z\" fill=\"#000000\" fill-rule=\"evenodd\" fill-opacity=\"1\" /><path clip-path=\"url(#clip220)\" d=\"M432.812 1517.37 Q429.201 1517.37 427.372 1520.93 Q425.567 1524.47 425.567 1531.6 Q425.567 1538.71 427.372 1542.27 Q429.201 1545.82 432.812 1545.82 Q436.446 1545.82 438.252 1542.27 Q440.081 1538.71 440.081 1531.6 Q440.081 1524.47 438.252 1520.93 Q436.446 1517.37 432.812 1517.37 M432.812 1513.66 Q438.622 1513.66 441.678 1518.27 Q444.757 1522.85 444.757 1531.6 Q444.757 1540.33 441.678 1544.94 Q438.622 1549.52 432.812 1549.52 Q427.002 1549.52 423.923 1544.94 Q420.868 1540.33 420.868 1531.6 Q420.868 1522.85 423.923 1518.27 Q427.002 1513.66 432.812 1513.66 Z\" fill=\"#000000\" fill-rule=\"evenodd\" fill-opacity=\"1\" /><path clip-path=\"url(#clip220)\" d=\"M898.904 1514.29 L921.126 1514.29 L921.126 1516.28 L908.58 1548.85 L903.696 1548.85 L915.501 1518.22 L898.904 1518.22 L898.904 1514.29 Z\" fill=\"#000000\" fill-rule=\"evenodd\" fill-opacity=\"1\" /><path clip-path=\"url(#clip220)\" d=\"M930.247 1542.97 L935.131 1542.97 L935.131 1548.85 L930.247 1548.85 L930.247 1542.97 Z\" fill=\"#000000\" fill-rule=\"evenodd\" fill-opacity=\"1\" /><path clip-path=\"url(#clip220)\" d=\"M945.362 1514.29 L963.719 1514.29 L963.719 1518.22 L949.645 1518.22 L949.645 1526.7 Q950.663 1526.35 951.682 1526.19 Q952.7 1526 953.719 1526 Q959.506 1526 962.885 1529.17 Q966.265 1532.34 966.265 1537.76 Q966.265 1543.34 962.793 1546.44 Q959.321 1549.52 953.001 1549.52 Q950.825 1549.52 948.557 1549.15 Q946.311 1548.78 943.904 1548.04 L943.904 1543.34 Q945.987 1544.47 948.21 1545.03 Q950.432 1545.58 952.909 1545.58 Q956.913 1545.58 959.251 1543.48 Q961.589 1541.37 961.589 1537.76 Q961.589 1534.15 959.251 1532.04 Q956.913 1529.94 952.909 1529.94 Q951.034 1529.94 949.159 1530.35 Q947.307 1530.77 945.362 1531.65 L945.362 1514.29 Z\" fill=\"#000000\" fill-rule=\"evenodd\" fill-opacity=\"1\" /><path clip-path=\"url(#clip220)\" d=\"M1406.78 1544.91 L1414.42 1544.91 L1414.42 1518.55 L1406.11 1520.21 L1406.11 1515.95 L1414.37 1514.29 L1419.05 1514.29 L1419.05 1544.91 L1426.69 1544.91 L1426.69 1548.85 L1406.78 1548.85 L1406.78 1544.91 Z\" fill=\"#000000\" fill-rule=\"evenodd\" fill-opacity=\"1\" /><path clip-path=\"url(#clip220)\" d=\"M1446.13 1517.37 Q1442.52 1517.37 1440.69 1520.93 Q1438.88 1524.47 1438.88 1531.6 Q1438.88 1538.71 1440.69 1542.27 Q1442.52 1545.82 1446.13 1545.82 Q1449.76 1545.82 1451.57 1542.27 Q1453.4 1538.71 1453.4 1531.6 Q1453.4 1524.47 1451.57 1520.93 Q1449.76 1517.37 1446.13 1517.37 M1446.13 1513.66 Q1451.94 1513.66 1455 1518.27 Q1458.07 1522.85 1458.07 1531.6 Q1458.07 1540.33 1455 1544.94 Q1451.94 1549.52 1446.13 1549.52 Q1440.32 1549.52 1437.24 1544.94 Q1434.19 1540.33 1434.19 1531.6 Q1434.19 1522.85 1437.24 1518.27 Q1440.32 1513.66 1446.13 1513.66 Z\" fill=\"#000000\" fill-rule=\"evenodd\" fill-opacity=\"1\" /><path clip-path=\"url(#clip220)\" d=\"M1466.29 1542.97 L1471.18 1542.97 L1471.18 1548.85 L1466.29 1548.85 L1466.29 1542.97 Z\" fill=\"#000000\" fill-rule=\"evenodd\" fill-opacity=\"1\" /><path clip-path=\"url(#clip220)\" d=\"M1491.36 1517.37 Q1487.75 1517.37 1485.92 1520.93 Q1484.12 1524.47 1484.12 1531.6 Q1484.12 1538.71 1485.92 1542.27 Q1487.75 1545.82 1491.36 1545.82 Q1495 1545.82 1496.8 1542.27 Q1498.63 1538.71 1498.63 1531.6 Q1498.63 1524.47 1496.8 1520.93 Q1495 1517.37 1491.36 1517.37 M1491.36 1513.66 Q1497.17 1513.66 1500.23 1518.27 Q1503.31 1522.85 1503.31 1531.6 Q1503.31 1540.33 1500.23 1544.94 Q1497.17 1549.52 1491.36 1549.52 Q1485.55 1549.52 1482.47 1544.94 Q1479.42 1540.33 1479.42 1531.6 Q1479.42 1522.85 1482.47 1518.27 Q1485.55 1513.66 1491.36 1513.66 Z\" fill=\"#000000\" fill-rule=\"evenodd\" fill-opacity=\"1\" /><path clip-path=\"url(#clip220)\" d=\"M1929.4 1544.91 L1937.04 1544.91 L1937.04 1518.55 L1928.73 1520.21 L1928.73 1515.95 L1936.99 1514.29 L1941.67 1514.29 L1941.67 1544.91 L1949.31 1544.91 L1949.31 1548.85 L1929.4 1548.85 L1929.4 1544.91 Z\" fill=\"#000000\" fill-rule=\"evenodd\" fill-opacity=\"1\" /><path clip-path=\"url(#clip220)\" d=\"M1962.78 1544.91 L1979.1 1544.91 L1979.1 1548.85 L1957.15 1548.85 L1957.15 1544.91 Q1959.81 1542.16 1964.4 1537.53 Q1969 1532.88 1970.18 1531.53 Q1972.43 1529.01 1973.31 1527.27 Q1974.21 1525.51 1974.21 1523.82 Q1974.21 1521.07 1972.27 1519.33 Q1970.35 1517.6 1967.24 1517.6 Q1965.05 1517.6 1962.59 1518.36 Q1960.16 1519.13 1957.38 1520.68 L1957.38 1515.95 Q1960.21 1514.82 1962.66 1514.24 Q1965.12 1513.66 1967.15 1513.66 Q1972.52 1513.66 1975.72 1516.35 Q1978.91 1519.03 1978.91 1523.52 Q1978.91 1525.65 1978.1 1527.57 Q1977.31 1529.47 1975.21 1532.07 Q1974.63 1532.74 1971.53 1535.95 Q1968.43 1539.15 1962.78 1544.91 Z\" fill=\"#000000\" fill-rule=\"evenodd\" fill-opacity=\"1\" /><path clip-path=\"url(#clip220)\" d=\"M1988.91 1542.97 L1993.8 1542.97 L1993.8 1548.85 L1988.91 1548.85 L1988.91 1542.97 Z\" fill=\"#000000\" fill-rule=\"evenodd\" fill-opacity=\"1\" /><path clip-path=\"url(#clip220)\" d=\"M2004.03 1514.29 L2022.38 1514.29 L2022.38 1518.22 L2008.31 1518.22 L2008.31 1526.7 Q2009.33 1526.35 2010.35 1526.19 Q2011.37 1526 2012.38 1526 Q2018.17 1526 2021.55 1529.17 Q2024.93 1532.34 2024.93 1537.76 Q2024.93 1543.34 2021.46 1546.44 Q2017.99 1549.52 2011.67 1549.52 Q2009.49 1549.52 2007.22 1549.15 Q2004.98 1548.78 2002.57 1548.04 L2002.57 1543.34 Q2004.65 1544.47 2006.87 1545.03 Q2009.1 1545.58 2011.57 1545.58 Q2015.58 1545.58 2017.92 1543.48 Q2020.25 1541.37 2020.25 1537.76 Q2020.25 1534.15 2017.92 1532.04 Q2015.58 1529.94 2011.57 1529.94 Q2009.7 1529.94 2007.82 1530.35 Q2005.97 1530.77 2004.03 1531.65 L2004.03 1514.29 Z\" fill=\"#000000\" fill-rule=\"evenodd\" fill-opacity=\"1\" /><polyline clip-path=\"url(#clip222)\" style=\"stroke:#000000; stroke-linecap:round; stroke-linejoin:round; stroke-width:2; stroke-opacity:0.1; fill:none\" points=\"138.959,1293.02 2352.76,1293.02 \"/>\n",
       "<polyline clip-path=\"url(#clip222)\" style=\"stroke:#000000; stroke-linecap:round; stroke-linejoin:round; stroke-width:2; stroke-opacity:0.1; fill:none\" points=\"138.959,1086.68 2352.76,1086.68 \"/>\n",
       "<polyline clip-path=\"url(#clip222)\" style=\"stroke:#000000; stroke-linecap:round; stroke-linejoin:round; stroke-width:2; stroke-opacity:0.1; fill:none\" points=\"138.959,880.335 2352.76,880.335 \"/>\n",
       "<polyline clip-path=\"url(#clip222)\" style=\"stroke:#000000; stroke-linecap:round; stroke-linejoin:round; stroke-width:2; stroke-opacity:0.1; fill:none\" points=\"138.959,673.991 2352.76,673.991 \"/>\n",
       "<polyline clip-path=\"url(#clip222)\" style=\"stroke:#000000; stroke-linecap:round; stroke-linejoin:round; stroke-width:2; stroke-opacity:0.1; fill:none\" points=\"138.959,467.648 2352.76,467.648 \"/>\n",
       "<polyline clip-path=\"url(#clip222)\" style=\"stroke:#000000; stroke-linecap:round; stroke-linejoin:round; stroke-width:2; stroke-opacity:0.1; fill:none\" points=\"138.959,261.305 2352.76,261.305 \"/>\n",
       "<polyline clip-path=\"url(#clip222)\" style=\"stroke:#000000; stroke-linecap:round; stroke-linejoin:round; stroke-width:2; stroke-opacity:0.1; fill:none\" points=\"138.959,54.9613 2352.76,54.9613 \"/>\n",
       "<polyline clip-path=\"url(#clip220)\" style=\"stroke:#000000; stroke-linecap:round; stroke-linejoin:round; stroke-width:4; stroke-opacity:1; fill:none\" points=\"138.959,1486.45 138.959,47.2441 \"/>\n",
       "<polyline clip-path=\"url(#clip220)\" style=\"stroke:#000000; stroke-linecap:round; stroke-linejoin:round; stroke-width:4; stroke-opacity:1; fill:none\" points=\"138.959,1293.02 157.857,1293.02 \"/>\n",
       "<polyline clip-path=\"url(#clip220)\" style=\"stroke:#000000; stroke-linecap:round; stroke-linejoin:round; stroke-width:4; stroke-opacity:1; fill:none\" points=\"138.959,1086.68 157.857,1086.68 \"/>\n",
       "<polyline clip-path=\"url(#clip220)\" style=\"stroke:#000000; stroke-linecap:round; stroke-linejoin:round; stroke-width:4; stroke-opacity:1; fill:none\" points=\"138.959,880.335 157.857,880.335 \"/>\n",
       "<polyline clip-path=\"url(#clip220)\" style=\"stroke:#000000; stroke-linecap:round; stroke-linejoin:round; stroke-width:4; stroke-opacity:1; fill:none\" points=\"138.959,673.991 157.857,673.991 \"/>\n",
       "<polyline clip-path=\"url(#clip220)\" style=\"stroke:#000000; stroke-linecap:round; stroke-linejoin:round; stroke-width:4; stroke-opacity:1; fill:none\" points=\"138.959,467.648 157.857,467.648 \"/>\n",
       "<polyline clip-path=\"url(#clip220)\" style=\"stroke:#000000; stroke-linecap:round; stroke-linejoin:round; stroke-width:4; stroke-opacity:1; fill:none\" points=\"138.959,261.305 157.857,261.305 \"/>\n",
       "<polyline clip-path=\"url(#clip220)\" style=\"stroke:#000000; stroke-linecap:round; stroke-linejoin:round; stroke-width:4; stroke-opacity:1; fill:none\" points=\"138.959,54.9613 157.857,54.9613 \"/>\n",
       "<path clip-path=\"url(#clip220)\" d=\"M82.0568 1275.74 L100.413 1275.74 L100.413 1279.68 L86.3392 1279.68 L86.3392 1288.15 Q87.3577 1287.8 88.3762 1287.64 Q89.3947 1287.45 90.4132 1287.45 Q96.2002 1287.45 99.5798 1290.63 Q102.959 1293.8 102.959 1299.21 Q102.959 1304.79 99.4872 1307.89 Q96.015 1310.97 89.6956 1310.97 Q87.5197 1310.97 85.2512 1310.6 Q83.0058 1310.23 80.5984 1309.49 L80.5984 1304.79 Q82.6818 1305.93 84.904 1306.48 Q87.1262 1307.04 89.603 1307.04 Q93.6076 1307.04 95.9456 1304.93 Q98.2835 1302.82 98.2835 1299.21 Q98.2835 1295.6 95.9456 1293.5 Q93.6076 1291.39 89.603 1291.39 Q87.728 1291.39 85.8531 1291.81 Q84.0012 1292.22 82.0568 1293.1 L82.0568 1275.74 Z\" fill=\"#000000\" fill-rule=\"evenodd\" fill-opacity=\"1\" /><path clip-path=\"url(#clip220)\" d=\"M91.4317 1084.81 Q88.2836 1084.81 86.4318 1086.97 Q84.6031 1089.12 84.6031 1092.87 Q84.6031 1096.6 86.4318 1098.77 Q88.2836 1100.93 91.4317 1100.93 Q94.5799 1100.93 96.4085 1098.77 Q98.2604 1096.6 98.2604 1092.87 Q98.2604 1089.12 96.4085 1086.97 Q94.5799 1084.81 91.4317 1084.81 M100.714 1070.16 L100.714 1074.42 Q98.9548 1073.59 97.1493 1073.15 Q95.3669 1072.71 93.6076 1072.71 Q88.978 1072.71 86.5243 1075.83 Q84.0938 1078.96 83.7466 1085.28 Q85.1123 1083.26 87.1725 1082.2 Q89.2327 1081.11 91.7095 1081.11 Q96.9178 1081.11 99.927 1084.28 Q102.959 1087.43 102.959 1092.87 Q102.959 1098.19 99.8113 1101.41 Q96.6632 1104.63 91.4317 1104.63 Q85.4364 1104.63 82.2651 1100.05 Q79.0938 1095.44 79.0938 1086.71 Q79.0938 1078.52 82.9827 1073.66 Q86.8716 1068.77 93.4225 1068.77 Q95.1817 1068.77 96.9641 1069.12 Q98.7696 1069.47 100.714 1070.16 Z\" fill=\"#000000\" fill-rule=\"evenodd\" fill-opacity=\"1\" /><path clip-path=\"url(#clip220)\" d=\"M80.7373 863.055 L102.959 863.055 L102.959 865.046 L90.4132 897.615 L85.529 897.615 L97.3345 866.99 L80.7373 866.99 L80.7373 863.055 Z\" fill=\"#000000\" fill-rule=\"evenodd\" fill-opacity=\"1\" /><path clip-path=\"url(#clip220)\" d=\"M91.1077 674.86 Q87.7743 674.86 85.8531 676.642 Q83.9549 678.424 83.9549 681.549 Q83.9549 684.674 85.8531 686.457 Q87.7743 688.239 91.1077 688.239 Q94.441 688.239 96.3623 686.457 Q98.2835 684.651 98.2835 681.549 Q98.2835 678.424 96.3623 676.642 Q94.4641 674.86 91.1077 674.86 M86.4318 672.869 Q83.4225 672.128 81.7327 670.068 Q80.066 668.008 80.066 665.045 Q80.066 660.901 83.0058 658.494 Q85.9688 656.086 91.1077 656.086 Q96.2697 656.086 99.2095 658.494 Q102.149 660.901 102.149 665.045 Q102.149 668.008 100.459 670.068 Q98.7928 672.128 95.8067 672.869 Q99.1863 673.656 101.061 675.947 Q102.959 678.239 102.959 681.549 Q102.959 686.572 99.8808 689.258 Q96.8252 691.943 91.1077 691.943 Q85.3901 691.943 82.3114 689.258 Q79.2559 686.572 79.2559 681.549 Q79.2559 678.239 81.154 675.947 Q83.0521 673.656 86.4318 672.869 M84.7188 665.485 Q84.7188 668.17 86.3855 669.674 Q88.0753 671.179 91.1077 671.179 Q94.1169 671.179 95.8067 669.674 Q97.5197 668.17 97.5197 665.485 Q97.5197 662.799 95.8067 661.295 Q94.1169 659.79 91.1077 659.79 Q88.0753 659.79 86.3855 661.295 Q84.7188 662.799 84.7188 665.485 Z\" fill=\"#000000\" fill-rule=\"evenodd\" fill-opacity=\"1\" /><path clip-path=\"url(#clip220)\" d=\"M81.3392 484.211 L81.3392 479.951 Q83.0984 480.785 84.904 481.224 Q86.7095 481.664 88.4456 481.664 Q93.0752 481.664 95.5058 478.562 Q97.9595 475.437 98.3067 469.095 Q96.9641 471.086 94.9039 472.15 Q92.8438 473.215 90.3438 473.215 Q85.1586 473.215 82.1262 470.09 Q79.117 466.942 79.117 461.502 Q79.117 456.178 82.2651 452.961 Q85.4132 449.743 90.6447 449.743 Q96.64 449.743 99.7882 454.35 Q102.959 458.933 102.959 467.683 Q102.959 475.854 99.0706 480.738 Q95.2049 485.599 88.654 485.599 Q86.8947 485.599 85.0892 485.252 Q83.2836 484.905 81.3392 484.211 M90.6447 469.558 Q93.7928 469.558 95.6215 467.405 Q97.4734 465.252 97.4734 461.502 Q97.4734 457.775 95.6215 455.623 Q93.7928 453.447 90.6447 453.447 Q87.4966 453.447 85.6447 455.623 Q83.816 457.775 83.816 461.502 Q83.816 465.252 85.6447 467.405 Q87.4966 469.558 90.6447 469.558 Z\" fill=\"#000000\" fill-rule=\"evenodd\" fill-opacity=\"1\" /><path clip-path=\"url(#clip220)\" d=\"M51.6634 274.65 L59.3023 274.65 L59.3023 248.284 L50.9921 249.951 L50.9921 245.691 L59.256 244.025 L63.9319 244.025 L63.9319 274.65 L71.5707 274.65 L71.5707 278.585 L51.6634 278.585 L51.6634 274.65 Z\" fill=\"#000000\" fill-rule=\"evenodd\" fill-opacity=\"1\" /><path clip-path=\"url(#clip220)\" d=\"M91.0151 247.103 Q87.404 247.103 85.5753 250.668 Q83.7697 254.21 83.7697 261.339 Q83.7697 268.446 85.5753 272.011 Q87.404 275.552 91.0151 275.552 Q94.6493 275.552 96.4548 272.011 Q98.2835 268.446 98.2835 261.339 Q98.2835 254.21 96.4548 250.668 Q94.6493 247.103 91.0151 247.103 M91.0151 243.4 Q96.8252 243.4 99.8808 248.006 Q102.959 252.589 102.959 261.339 Q102.959 270.066 99.8808 274.673 Q96.8252 279.256 91.0151 279.256 Q85.2049 279.256 82.1262 274.673 Q79.0707 270.066 79.0707 261.339 Q79.0707 252.589 82.1262 248.006 Q85.2049 243.4 91.0151 243.4 Z\" fill=\"#000000\" fill-rule=\"evenodd\" fill-opacity=\"1\" /><path clip-path=\"url(#clip220)\" d=\"M52.8903 68.3062 L60.5291 68.3062 L60.5291 41.9406 L52.219 43.6072 L52.219 39.348 L60.4828 37.6813 L65.1587 37.6813 L65.1587 68.3062 L72.7976 68.3062 L72.7976 72.2413 L52.8903 72.2413 L52.8903 68.3062 Z\" fill=\"#000000\" fill-rule=\"evenodd\" fill-opacity=\"1\" /><path clip-path=\"url(#clip220)\" d=\"M83.0521 68.3062 L90.691 68.3062 L90.691 41.9406 L82.3808 43.6072 L82.3808 39.348 L90.6447 37.6813 L95.3206 37.6813 L95.3206 68.3062 L102.959 68.3062 L102.959 72.2413 L83.0521 72.2413 L83.0521 68.3062 Z\" fill=\"#000000\" fill-rule=\"evenodd\" fill-opacity=\"1\" /><circle clip-path=\"url(#clip222)\" cx=\"1454.71\" cy=\"665.738\" r=\"14.4\" fill=\"#009af9\" fill-rule=\"evenodd\" fill-opacity=\"1\" stroke=\"#000000\" stroke-opacity=\"1\" stroke-width=\"3.2\"/>\n",
       "<circle clip-path=\"url(#clip222)\" cx=\"1037.01\" cy=\"890.652\" r=\"14.4\" fill=\"#009af9\" fill-rule=\"evenodd\" fill-opacity=\"1\" stroke=\"#000000\" stroke-opacity=\"1\" stroke-width=\"3.2\"/>\n",
       "<circle clip-path=\"url(#clip222)\" cx=\"2081.25\" cy=\"760.656\" r=\"14.4\" fill=\"#009af9\" fill-rule=\"evenodd\" fill-opacity=\"1\" stroke=\"#000000\" stroke-opacity=\"1\" stroke-width=\"3.2\"/>\n",
       "<circle clip-path=\"url(#clip222)\" cx=\"1245.86\" cy=\"506.853\" r=\"14.4\" fill=\"#009af9\" fill-rule=\"evenodd\" fill-opacity=\"1\" stroke=\"#000000\" stroke-opacity=\"1\" stroke-width=\"3.2\"/>\n",
       "<circle clip-path=\"url(#clip222)\" cx=\"1663.56\" cy=\"605.898\" r=\"14.4\" fill=\"#009af9\" fill-rule=\"evenodd\" fill-opacity=\"1\" stroke=\"#000000\" stroke-opacity=\"1\" stroke-width=\"3.2\"/>\n",
       "<circle clip-path=\"url(#clip222)\" cx=\"2290.1\" cy=\"269.558\" r=\"14.4\" fill=\"#009af9\" fill-rule=\"evenodd\" fill-opacity=\"1\" stroke=\"#000000\" stroke-opacity=\"1\" stroke-width=\"3.2\"/>\n",
       "<circle clip-path=\"url(#clip222)\" cx=\"619.312\" cy=\"830.812\" r=\"14.4\" fill=\"#009af9\" fill-rule=\"evenodd\" fill-opacity=\"1\" stroke=\"#000000\" stroke-opacity=\"1\" stroke-width=\"3.2\"/>\n",
       "<circle clip-path=\"url(#clip222)\" cx=\"201.614\" cy=\"1445.72\" r=\"14.4\" fill=\"#009af9\" fill-rule=\"evenodd\" fill-opacity=\"1\" stroke=\"#000000\" stroke-opacity=\"1\" stroke-width=\"3.2\"/>\n",
       "<circle clip-path=\"url(#clip222)\" cx=\"1872.4\" cy=\"87.9763\" r=\"14.4\" fill=\"#009af9\" fill-rule=\"evenodd\" fill-opacity=\"1\" stroke=\"#000000\" stroke-opacity=\"1\" stroke-width=\"3.2\"/>\n",
       "<circle clip-path=\"url(#clip222)\" cx=\"828.16\" cy=\"1330.16\" r=\"14.4\" fill=\"#009af9\" fill-rule=\"evenodd\" fill-opacity=\"1\" stroke=\"#000000\" stroke-opacity=\"1\" stroke-width=\"3.2\"/>\n",
       "<circle clip-path=\"url(#clip222)\" cx=\"410.463\" cy=\"1152.71\" r=\"14.4\" fill=\"#009af9\" fill-rule=\"evenodd\" fill-opacity=\"1\" stroke=\"#000000\" stroke-opacity=\"1\" stroke-width=\"3.2\"/>\n",
       "</svg>\n"
      ]
     },
     "execution_count": 32,
     "metadata": {},
     "output_type": "execute_result"
    }
   ],
   "source": [
    "scatter(aq[:, 1], aq[:, 2]; legend=false)"
   ]
  },
  {
   "cell_type": "code",
   "execution_count": 33,
   "id": "bb0a34eb",
   "metadata": {},
   "outputs": [
    {
     "data": {
      "image/svg+xml": [
       "<?xml version=\"1.0\" encoding=\"utf-8\"?>\n",
       "<svg xmlns=\"http://www.w3.org/2000/svg\" xmlns:xlink=\"http://www.w3.org/1999/xlink\" width=\"600\" height=\"400\" viewBox=\"0 0 2400 1600\">\n",
       "<defs>\n",
       "  <clipPath id=\"clip260\">\n",
       "    <rect x=\"0\" y=\"0\" width=\"2400\" height=\"1600\"/>\n",
       "  </clipPath>\n",
       "</defs>\n",
       "<path clip-path=\"url(#clip260)\" d=\"M0 1600 L2400 1600 L2400 0 L0 0  Z\" fill=\"#ffffff\" fill-rule=\"evenodd\" fill-opacity=\"1\"/>\n",
       "<defs>\n",
       "  <clipPath id=\"clip261\">\n",
       "    <rect x=\"480\" y=\"0\" width=\"1681\" height=\"1600\"/>\n",
       "  </clipPath>\n",
       "</defs>\n",
       "<path clip-path=\"url(#clip260)\" d=\"M138.959 686.448 L1152.76 686.448 L1152.76 47.2441 L138.959 47.2441  Z\" fill=\"#ffffff\" fill-rule=\"evenodd\" fill-opacity=\"1\"/>\n",
       "<defs>\n",
       "  <clipPath id=\"clip262\">\n",
       "    <rect x=\"138\" y=\"47\" width=\"1015\" height=\"640\"/>\n",
       "  </clipPath>\n",
       "</defs>\n",
       "<polyline clip-path=\"url(#clip262)\" style=\"stroke:#000000; stroke-linecap:round; stroke-linejoin:round; stroke-width:2; stroke-opacity:0.1; fill:none\" points=\"263.293,686.448 263.293,47.2441 \"/>\n",
       "<polyline clip-path=\"url(#clip262)\" style=\"stroke:#000000; stroke-linecap:round; stroke-linejoin:round; stroke-width:2; stroke-opacity:0.1; fill:none\" points=\"502.396,686.448 502.396,47.2441 \"/>\n",
       "<polyline clip-path=\"url(#clip262)\" style=\"stroke:#000000; stroke-linecap:round; stroke-linejoin:round; stroke-width:2; stroke-opacity:0.1; fill:none\" points=\"741.499,686.448 741.499,47.2441 \"/>\n",
       "<polyline clip-path=\"url(#clip262)\" style=\"stroke:#000000; stroke-linecap:round; stroke-linejoin:round; stroke-width:2; stroke-opacity:0.1; fill:none\" points=\"980.602,686.448 980.602,47.2441 \"/>\n",
       "<polyline clip-path=\"url(#clip260)\" style=\"stroke:#000000; stroke-linecap:round; stroke-linejoin:round; stroke-width:4; stroke-opacity:1; fill:none\" points=\"138.959,686.448 1152.76,686.448 \"/>\n",
       "<polyline clip-path=\"url(#clip260)\" style=\"stroke:#000000; stroke-linecap:round; stroke-linejoin:round; stroke-width:4; stroke-opacity:1; fill:none\" points=\"263.293,686.448 263.293,667.55 \"/>\n",
       "<polyline clip-path=\"url(#clip260)\" style=\"stroke:#000000; stroke-linecap:round; stroke-linejoin:round; stroke-width:4; stroke-opacity:1; fill:none\" points=\"502.396,686.448 502.396,667.55 \"/>\n",
       "<polyline clip-path=\"url(#clip260)\" style=\"stroke:#000000; stroke-linecap:round; stroke-linejoin:round; stroke-width:4; stroke-opacity:1; fill:none\" points=\"741.499,686.448 741.499,667.55 \"/>\n",
       "<polyline clip-path=\"url(#clip260)\" style=\"stroke:#000000; stroke-linecap:round; stroke-linejoin:round; stroke-width:4; stroke-opacity:1; fill:none\" points=\"980.602,686.448 980.602,667.55 \"/>\n",
       "<path clip-path=\"url(#clip260)\" d=\"M230.457 714.288 L248.814 714.288 L248.814 718.223 L234.74 718.223 L234.74 726.695 Q235.758 726.348 236.777 726.186 Q237.795 726.001 238.814 726.001 Q244.601 726.001 247.981 729.172 Q251.36 732.343 251.36 737.76 Q251.36 743.339 247.888 746.44 Q244.416 749.519 238.096 749.519 Q235.92 749.519 233.652 749.149 Q231.407 748.778 228.999 748.038 L228.999 743.339 Q231.082 744.473 233.305 745.028 Q235.527 745.584 238.004 745.584 Q242.008 745.584 244.346 743.478 Q246.684 741.371 246.684 737.76 Q246.684 734.149 244.346 732.042 Q242.008 729.936 238.004 729.936 Q236.129 729.936 234.254 730.353 Q232.402 730.769 230.457 731.649 L230.457 714.288 Z\" fill=\"#000000\" fill-rule=\"evenodd\" fill-opacity=\"1\" /><path clip-path=\"url(#clip260)\" d=\"M260.573 742.968 L265.457 742.968 L265.457 748.848 L260.573 748.848 L260.573 742.968 Z\" fill=\"#000000\" fill-rule=\"evenodd\" fill-opacity=\"1\" /><path clip-path=\"url(#clip260)\" d=\"M285.642 717.367 Q282.031 717.367 280.203 720.931 Q278.397 724.473 278.397 731.603 Q278.397 738.709 280.203 742.274 Q282.031 745.815 285.642 745.815 Q289.277 745.815 291.082 742.274 Q292.911 738.709 292.911 731.603 Q292.911 724.473 291.082 720.931 Q289.277 717.367 285.642 717.367 M285.642 713.663 Q291.453 713.663 294.508 718.269 Q297.587 722.853 297.587 731.603 Q297.587 740.329 294.508 744.936 Q291.453 749.519 285.642 749.519 Q279.832 749.519 276.754 744.936 Q273.698 740.329 273.698 731.603 Q273.698 722.853 276.754 718.269 Q279.832 713.663 285.642 713.663 Z\" fill=\"#000000\" fill-rule=\"evenodd\" fill-opacity=\"1\" /><path clip-path=\"url(#clip260)\" d=\"M468.716 714.288 L490.938 714.288 L490.938 716.279 L478.391 748.848 L473.507 748.848 L485.313 718.223 L468.716 718.223 L468.716 714.288 Z\" fill=\"#000000\" fill-rule=\"evenodd\" fill-opacity=\"1\" /><path clip-path=\"url(#clip260)\" d=\"M500.058 742.968 L504.942 742.968 L504.942 748.848 L500.058 748.848 L500.058 742.968 Z\" fill=\"#000000\" fill-rule=\"evenodd\" fill-opacity=\"1\" /><path clip-path=\"url(#clip260)\" d=\"M515.174 714.288 L533.53 714.288 L533.53 718.223 L519.456 718.223 L519.456 726.695 Q520.475 726.348 521.493 726.186 Q522.512 726.001 523.53 726.001 Q529.317 726.001 532.697 729.172 Q536.076 732.343 536.076 737.76 Q536.076 743.339 532.604 746.44 Q529.132 749.519 522.812 749.519 Q520.637 749.519 518.368 749.149 Q516.123 748.778 513.715 748.038 L513.715 743.339 Q515.799 744.473 518.021 745.028 Q520.243 745.584 522.72 745.584 Q526.724 745.584 529.062 743.478 Q531.4 741.371 531.4 737.76 Q531.4 734.149 529.062 732.042 Q526.724 729.936 522.72 729.936 Q520.845 729.936 518.97 730.353 Q517.118 730.769 515.174 731.649 L515.174 714.288 Z\" fill=\"#000000\" fill-rule=\"evenodd\" fill-opacity=\"1\" /><path clip-path=\"url(#clip260)\" d=\"M693.571 744.913 L701.21 744.913 L701.21 718.547 L692.9 720.214 L692.9 715.955 L701.163 714.288 L705.839 714.288 L705.839 744.913 L713.478 744.913 L713.478 748.848 L693.571 748.848 L693.571 744.913 Z\" fill=\"#000000\" fill-rule=\"evenodd\" fill-opacity=\"1\" /><path clip-path=\"url(#clip260)\" d=\"M732.923 717.367 Q729.311 717.367 727.483 720.931 Q725.677 724.473 725.677 731.603 Q725.677 738.709 727.483 742.274 Q729.311 745.815 732.923 745.815 Q736.557 745.815 738.362 742.274 Q740.191 738.709 740.191 731.603 Q740.191 724.473 738.362 720.931 Q736.557 717.367 732.923 717.367 M732.923 713.663 Q738.733 713.663 741.788 718.269 Q744.867 722.853 744.867 731.603 Q744.867 740.329 741.788 744.936 Q738.733 749.519 732.923 749.519 Q727.112 749.519 724.034 744.936 Q720.978 740.329 720.978 731.603 Q720.978 722.853 724.034 718.269 Q727.112 713.663 732.923 713.663 Z\" fill=\"#000000\" fill-rule=\"evenodd\" fill-opacity=\"1\" /><path clip-path=\"url(#clip260)\" d=\"M753.084 742.968 L757.969 742.968 L757.969 748.848 L753.084 748.848 L753.084 742.968 Z\" fill=\"#000000\" fill-rule=\"evenodd\" fill-opacity=\"1\" /><path clip-path=\"url(#clip260)\" d=\"M778.154 717.367 Q774.543 717.367 772.714 720.931 Q770.908 724.473 770.908 731.603 Q770.908 738.709 772.714 742.274 Q774.543 745.815 778.154 745.815 Q781.788 745.815 783.594 742.274 Q785.422 738.709 785.422 731.603 Q785.422 724.473 783.594 720.931 Q781.788 717.367 778.154 717.367 M778.154 713.663 Q783.964 713.663 787.019 718.269 Q790.098 722.853 790.098 731.603 Q790.098 740.329 787.019 744.936 Q783.964 749.519 778.154 749.519 Q772.344 749.519 769.265 744.936 Q766.209 740.329 766.209 731.603 Q766.209 722.853 769.265 718.269 Q772.344 713.663 778.154 713.663 Z\" fill=\"#000000\" fill-rule=\"evenodd\" fill-opacity=\"1\" /><path clip-path=\"url(#clip260)\" d=\"M933.171 744.913 L940.81 744.913 L940.81 718.547 L932.5 720.214 L932.5 715.955 L940.764 714.288 L945.44 714.288 L945.44 744.913 L953.079 744.913 L953.079 748.848 L933.171 748.848 L933.171 744.913 Z\" fill=\"#000000\" fill-rule=\"evenodd\" fill-opacity=\"1\" /><path clip-path=\"url(#clip260)\" d=\"M966.551 744.913 L982.87 744.913 L982.87 748.848 L960.926 748.848 L960.926 744.913 Q963.588 742.158 968.171 737.528 Q972.778 732.876 973.958 731.533 Q976.204 729.01 977.083 727.274 Q977.986 725.515 977.986 723.825 Q977.986 721.07 976.042 719.334 Q974.12 717.598 971.019 717.598 Q968.819 717.598 966.366 718.362 Q963.935 719.126 961.157 720.677 L961.157 715.955 Q963.982 714.82 966.435 714.242 Q968.889 713.663 970.926 713.663 Q976.296 713.663 979.491 716.348 Q982.685 719.033 982.685 723.524 Q982.685 725.654 981.875 727.575 Q981.088 729.473 978.981 732.066 Q978.403 732.737 975.301 735.954 Q972.199 739.149 966.551 744.913 Z\" fill=\"#000000\" fill-rule=\"evenodd\" fill-opacity=\"1\" /><path clip-path=\"url(#clip260)\" d=\"M992.685 742.968 L997.569 742.968 L997.569 748.848 L992.685 748.848 L992.685 742.968 Z\" fill=\"#000000\" fill-rule=\"evenodd\" fill-opacity=\"1\" /><path clip-path=\"url(#clip260)\" d=\"M1007.8 714.288 L1026.16 714.288 L1026.16 718.223 L1012.08 718.223 L1012.08 726.695 Q1013.1 726.348 1014.12 726.186 Q1015.14 726.001 1016.16 726.001 Q1021.94 726.001 1025.32 729.172 Q1028.7 732.343 1028.7 737.76 Q1028.7 743.339 1025.23 746.44 Q1021.76 749.519 1015.44 749.519 Q1013.26 749.519 1011 749.149 Q1008.75 748.778 1006.34 748.038 L1006.34 743.339 Q1008.43 744.473 1010.65 745.028 Q1012.87 745.584 1015.35 745.584 Q1019.35 745.584 1021.69 743.478 Q1024.03 741.371 1024.03 737.76 Q1024.03 734.149 1021.69 732.042 Q1019.35 729.936 1015.35 729.936 Q1013.47 729.936 1011.6 730.353 Q1009.75 730.769 1007.8 731.649 L1007.8 714.288 Z\" fill=\"#000000\" fill-rule=\"evenodd\" fill-opacity=\"1\" /><polyline clip-path=\"url(#clip262)\" style=\"stroke:#000000; stroke-linecap:round; stroke-linejoin:round; stroke-width:2; stroke-opacity:0.1; fill:none\" points=\"138.959,600.54 1152.76,600.54 \"/>\n",
       "<polyline clip-path=\"url(#clip262)\" style=\"stroke:#000000; stroke-linecap:round; stroke-linejoin:round; stroke-width:2; stroke-opacity:0.1; fill:none\" points=\"138.959,508.895 1152.76,508.895 \"/>\n",
       "<polyline clip-path=\"url(#clip262)\" style=\"stroke:#000000; stroke-linecap:round; stroke-linejoin:round; stroke-width:2; stroke-opacity:0.1; fill:none\" points=\"138.959,417.251 1152.76,417.251 \"/>\n",
       "<polyline clip-path=\"url(#clip262)\" style=\"stroke:#000000; stroke-linecap:round; stroke-linejoin:round; stroke-width:2; stroke-opacity:0.1; fill:none\" points=\"138.959,325.606 1152.76,325.606 \"/>\n",
       "<polyline clip-path=\"url(#clip262)\" style=\"stroke:#000000; stroke-linecap:round; stroke-linejoin:round; stroke-width:2; stroke-opacity:0.1; fill:none\" points=\"138.959,233.961 1152.76,233.961 \"/>\n",
       "<polyline clip-path=\"url(#clip262)\" style=\"stroke:#000000; stroke-linecap:round; stroke-linejoin:round; stroke-width:2; stroke-opacity:0.1; fill:none\" points=\"138.959,142.316 1152.76,142.316 \"/>\n",
       "<polyline clip-path=\"url(#clip262)\" style=\"stroke:#000000; stroke-linecap:round; stroke-linejoin:round; stroke-width:2; stroke-opacity:0.1; fill:none\" points=\"138.959,50.6716 1152.76,50.6716 \"/>\n",
       "<polyline clip-path=\"url(#clip260)\" style=\"stroke:#000000; stroke-linecap:round; stroke-linejoin:round; stroke-width:4; stroke-opacity:1; fill:none\" points=\"138.959,686.448 138.959,47.2441 \"/>\n",
       "<polyline clip-path=\"url(#clip260)\" style=\"stroke:#000000; stroke-linecap:round; stroke-linejoin:round; stroke-width:4; stroke-opacity:1; fill:none\" points=\"138.959,600.54 157.857,600.54 \"/>\n",
       "<polyline clip-path=\"url(#clip260)\" style=\"stroke:#000000; stroke-linecap:round; stroke-linejoin:round; stroke-width:4; stroke-opacity:1; fill:none\" points=\"138.959,508.895 157.857,508.895 \"/>\n",
       "<polyline clip-path=\"url(#clip260)\" style=\"stroke:#000000; stroke-linecap:round; stroke-linejoin:round; stroke-width:4; stroke-opacity:1; fill:none\" points=\"138.959,417.251 157.857,417.251 \"/>\n",
       "<polyline clip-path=\"url(#clip260)\" style=\"stroke:#000000; stroke-linecap:round; stroke-linejoin:round; stroke-width:4; stroke-opacity:1; fill:none\" points=\"138.959,325.606 157.857,325.606 \"/>\n",
       "<polyline clip-path=\"url(#clip260)\" style=\"stroke:#000000; stroke-linecap:round; stroke-linejoin:round; stroke-width:4; stroke-opacity:1; fill:none\" points=\"138.959,233.961 157.857,233.961 \"/>\n",
       "<polyline clip-path=\"url(#clip260)\" style=\"stroke:#000000; stroke-linecap:round; stroke-linejoin:round; stroke-width:4; stroke-opacity:1; fill:none\" points=\"138.959,142.316 157.857,142.316 \"/>\n",
       "<polyline clip-path=\"url(#clip260)\" style=\"stroke:#000000; stroke-linecap:round; stroke-linejoin:round; stroke-width:4; stroke-opacity:1; fill:none\" points=\"138.959,50.6716 157.857,50.6716 \"/>\n",
       "<path clip-path=\"url(#clip260)\" d=\"M82.0568 583.26 L100.413 583.26 L100.413 587.195 L86.3392 587.195 L86.3392 595.667 Q87.3577 595.32 88.3762 595.158 Q89.3947 594.973 90.4132 594.973 Q96.2002 594.973 99.5798 598.144 Q102.959 601.316 102.959 606.732 Q102.959 612.311 99.4872 615.413 Q96.015 618.491 89.6956 618.491 Q87.5197 618.491 85.2512 618.121 Q83.0058 617.751 80.5984 617.01 L80.5984 612.311 Q82.6818 613.445 84.904 614.001 Q87.1262 614.556 89.603 614.556 Q93.6076 614.556 95.9456 612.45 Q98.2835 610.343 98.2835 606.732 Q98.2835 603.121 95.9456 601.015 Q93.6076 598.908 89.603 598.908 Q87.728 598.908 85.8531 599.325 Q84.0012 599.741 82.0568 600.621 L82.0568 583.26 Z\" fill=\"#000000\" fill-rule=\"evenodd\" fill-opacity=\"1\" /><path clip-path=\"url(#clip260)\" d=\"M91.4317 507.032 Q88.2836 507.032 86.4318 509.185 Q84.6031 511.337 84.6031 515.087 Q84.6031 518.814 86.4318 520.99 Q88.2836 523.143 91.4317 523.143 Q94.5799 523.143 96.4085 520.99 Q98.2604 518.814 98.2604 515.087 Q98.2604 511.337 96.4085 509.185 Q94.5799 507.032 91.4317 507.032 M100.714 492.379 L100.714 496.638 Q98.9548 495.805 97.1493 495.365 Q95.3669 494.926 93.6076 494.926 Q88.978 494.926 86.5243 498.05 Q84.0938 501.175 83.7466 507.495 Q85.1123 505.481 87.1725 504.416 Q89.2327 503.328 91.7095 503.328 Q96.9178 503.328 99.927 506.5 Q102.959 509.648 102.959 515.087 Q102.959 520.411 99.8113 523.629 Q96.6632 526.847 91.4317 526.847 Q85.4364 526.847 82.2651 522.263 Q79.0938 517.657 79.0938 508.93 Q79.0938 500.736 82.9827 495.875 Q86.8716 490.99 93.4225 490.99 Q95.1817 490.99 96.9641 491.338 Q98.7696 491.685 100.714 492.379 Z\" fill=\"#000000\" fill-rule=\"evenodd\" fill-opacity=\"1\" /><path clip-path=\"url(#clip260)\" d=\"M80.7373 399.971 L102.959 399.971 L102.959 401.961 L90.4132 434.531 L85.529 434.531 L97.3345 403.906 L80.7373 403.906 L80.7373 399.971 Z\" fill=\"#000000\" fill-rule=\"evenodd\" fill-opacity=\"1\" /><path clip-path=\"url(#clip260)\" d=\"M91.1077 326.474 Q87.7743 326.474 85.8531 328.256 Q83.9549 330.039 83.9549 333.164 Q83.9549 336.289 85.8531 338.071 Q87.7743 339.853 91.1077 339.853 Q94.441 339.853 96.3623 338.071 Q98.2835 336.266 98.2835 333.164 Q98.2835 330.039 96.3623 328.256 Q94.4641 326.474 91.1077 326.474 M86.4318 324.483 Q83.4225 323.742 81.7327 321.682 Q80.066 319.622 80.066 316.659 Q80.066 312.516 83.0058 310.108 Q85.9688 307.701 91.1077 307.701 Q96.2697 307.701 99.2095 310.108 Q102.149 312.516 102.149 316.659 Q102.149 319.622 100.459 321.682 Q98.7928 323.742 95.8067 324.483 Q99.1863 325.27 101.061 327.562 Q102.959 329.854 102.959 333.164 Q102.959 338.187 99.8808 340.872 Q96.8252 343.557 91.1077 343.557 Q85.3901 343.557 82.3114 340.872 Q79.2559 338.187 79.2559 333.164 Q79.2559 329.854 81.154 327.562 Q83.0521 325.27 86.4318 324.483 M84.7188 317.099 Q84.7188 319.784 86.3855 321.289 Q88.0753 322.793 91.1077 322.793 Q94.1169 322.793 95.8067 321.289 Q97.5197 319.784 97.5197 317.099 Q97.5197 314.414 95.8067 312.909 Q94.1169 311.405 91.1077 311.405 Q88.0753 311.405 86.3855 312.909 Q84.7188 314.414 84.7188 317.099 Z\" fill=\"#000000\" fill-rule=\"evenodd\" fill-opacity=\"1\" /><path clip-path=\"url(#clip260)\" d=\"M81.3392 250.524 L81.3392 246.264 Q83.0984 247.098 84.904 247.537 Q86.7095 247.977 88.4456 247.977 Q93.0752 247.977 95.5058 244.875 Q97.9595 241.75 98.3067 235.408 Q96.9641 237.399 94.9039 238.463 Q92.8438 239.528 90.3438 239.528 Q85.1586 239.528 82.1262 236.403 Q79.117 233.255 79.117 227.815 Q79.117 222.491 82.2651 219.274 Q85.4132 216.056 90.6447 216.056 Q96.64 216.056 99.7882 220.663 Q102.959 225.246 102.959 233.996 Q102.959 242.167 99.0706 247.051 Q95.2049 251.912 88.654 251.912 Q86.8947 251.912 85.0892 251.565 Q83.2836 251.218 81.3392 250.524 M90.6447 235.871 Q93.7928 235.871 95.6215 233.718 Q97.4734 231.565 97.4734 227.815 Q97.4734 224.088 95.6215 221.936 Q93.7928 219.76 90.6447 219.76 Q87.4966 219.76 85.6447 221.936 Q83.816 224.088 83.816 227.815 Q83.816 231.565 85.6447 233.718 Q87.4966 235.871 90.6447 235.871 Z\" fill=\"#000000\" fill-rule=\"evenodd\" fill-opacity=\"1\" /><path clip-path=\"url(#clip260)\" d=\"M51.6634 155.661 L59.3023 155.661 L59.3023 129.296 L50.9921 130.962 L50.9921 126.703 L59.256 125.036 L63.9319 125.036 L63.9319 155.661 L71.5707 155.661 L71.5707 159.596 L51.6634 159.596 L51.6634 155.661 Z\" fill=\"#000000\" fill-rule=\"evenodd\" fill-opacity=\"1\" /><path clip-path=\"url(#clip260)\" d=\"M91.0151 128.115 Q87.404 128.115 85.5753 131.68 Q83.7697 135.221 83.7697 142.351 Q83.7697 149.458 85.5753 153.022 Q87.404 156.564 91.0151 156.564 Q94.6493 156.564 96.4548 153.022 Q98.2835 149.458 98.2835 142.351 Q98.2835 135.221 96.4548 131.68 Q94.6493 128.115 91.0151 128.115 M91.0151 124.411 Q96.8252 124.411 99.8808 129.018 Q102.959 133.601 102.959 142.351 Q102.959 151.078 99.8808 155.684 Q96.8252 160.268 91.0151 160.268 Q85.2049 160.268 82.1262 155.684 Q79.0707 151.078 79.0707 142.351 Q79.0707 133.601 82.1262 129.018 Q85.2049 124.411 91.0151 124.411 Z\" fill=\"#000000\" fill-rule=\"evenodd\" fill-opacity=\"1\" /><path clip-path=\"url(#clip260)\" d=\"M52.8903 64.0164 L60.5291 64.0164 L60.5291 37.6508 L52.219 39.3175 L52.219 35.0583 L60.4828 33.3916 L65.1587 33.3916 L65.1587 64.0164 L72.7976 64.0164 L72.7976 67.9516 L52.8903 67.9516 L52.8903 64.0164 Z\" fill=\"#000000\" fill-rule=\"evenodd\" fill-opacity=\"1\" /><path clip-path=\"url(#clip260)\" d=\"M83.0521 64.0164 L90.691 64.0164 L90.691 37.6508 L82.3808 39.3175 L82.3808 35.0583 L90.6447 33.3916 L95.3206 33.3916 L95.3206 64.0164 L102.959 64.0164 L102.959 67.9516 L83.0521 67.9516 L83.0521 64.0164 Z\" fill=\"#000000\" fill-rule=\"evenodd\" fill-opacity=\"1\" /><circle clip-path=\"url(#clip262)\" cx=\"741.499\" cy=\"321.94\" r=\"14.4\" fill=\"#009af9\" fill-rule=\"evenodd\" fill-opacity=\"1\" stroke=\"#000000\" stroke-opacity=\"1\" stroke-width=\"3.2\"/>\n",
       "<circle clip-path=\"url(#clip262)\" cx=\"550.216\" cy=\"421.833\" r=\"14.4\" fill=\"#009af9\" fill-rule=\"evenodd\" fill-opacity=\"1\" stroke=\"#000000\" stroke-opacity=\"1\" stroke-width=\"3.2\"/>\n",
       "<circle clip-path=\"url(#clip262)\" cx=\"1028.42\" cy=\"364.097\" r=\"14.4\" fill=\"#009af9\" fill-rule=\"evenodd\" fill-opacity=\"1\" stroke=\"#000000\" stroke-opacity=\"1\" stroke-width=\"3.2\"/>\n",
       "<circle clip-path=\"url(#clip262)\" cx=\"645.858\" cy=\"251.374\" r=\"14.4\" fill=\"#009af9\" fill-rule=\"evenodd\" fill-opacity=\"1\" stroke=\"#000000\" stroke-opacity=\"1\" stroke-width=\"3.2\"/>\n",
       "<circle clip-path=\"url(#clip262)\" cx=\"837.14\" cy=\"295.363\" r=\"14.4\" fill=\"#009af9\" fill-rule=\"evenodd\" fill-opacity=\"1\" stroke=\"#000000\" stroke-opacity=\"1\" stroke-width=\"3.2\"/>\n",
       "<circle clip-path=\"url(#clip262)\" cx=\"1124.06\" cy=\"145.982\" r=\"14.4\" fill=\"#009af9\" fill-rule=\"evenodd\" fill-opacity=\"1\" stroke=\"#000000\" stroke-opacity=\"1\" stroke-width=\"3.2\"/>\n",
       "<circle clip-path=\"url(#clip262)\" cx=\"358.934\" cy=\"395.256\" r=\"14.4\" fill=\"#009af9\" fill-rule=\"evenodd\" fill-opacity=\"1\" stroke=\"#000000\" stroke-opacity=\"1\" stroke-width=\"3.2\"/>\n",
       "<circle clip-path=\"url(#clip262)\" cx=\"167.652\" cy=\"668.357\" r=\"14.4\" fill=\"#009af9\" fill-rule=\"evenodd\" fill-opacity=\"1\" stroke=\"#000000\" stroke-opacity=\"1\" stroke-width=\"3.2\"/>\n",
       "<circle clip-path=\"url(#clip262)\" cx=\"932.781\" cy=\"65.3348\" r=\"14.4\" fill=\"#009af9\" fill-rule=\"evenodd\" fill-opacity=\"1\" stroke=\"#000000\" stroke-opacity=\"1\" stroke-width=\"3.2\"/>\n",
       "<circle clip-path=\"url(#clip262)\" cx=\"454.575\" cy=\"617.036\" r=\"14.4\" fill=\"#009af9\" fill-rule=\"evenodd\" fill-opacity=\"1\" stroke=\"#000000\" stroke-opacity=\"1\" stroke-width=\"3.2\"/>\n",
       "<circle clip-path=\"url(#clip262)\" cx=\"263.293\" cy=\"538.222\" r=\"14.4\" fill=\"#009af9\" fill-rule=\"evenodd\" fill-opacity=\"1\" stroke=\"#000000\" stroke-opacity=\"1\" stroke-width=\"3.2\"/>\n",
       "<path clip-path=\"url(#clip260)\" d=\"M1338.96 686.448 L2352.76 686.448 L2352.76 47.2441 L1338.96 47.2441  Z\" fill=\"#ffffff\" fill-rule=\"evenodd\" fill-opacity=\"1\"/>\n",
       "<defs>\n",
       "  <clipPath id=\"clip263\">\n",
       "    <rect x=\"1338\" y=\"47\" width=\"1015\" height=\"640\"/>\n",
       "  </clipPath>\n",
       "</defs>\n",
       "<polyline clip-path=\"url(#clip263)\" style=\"stroke:#000000; stroke-linecap:round; stroke-linejoin:round; stroke-width:2; stroke-opacity:0.1; fill:none\" points=\"1463.29,686.448 1463.29,47.2441 \"/>\n",
       "<polyline clip-path=\"url(#clip263)\" style=\"stroke:#000000; stroke-linecap:round; stroke-linejoin:round; stroke-width:2; stroke-opacity:0.1; fill:none\" points=\"1702.4,686.448 1702.4,47.2441 \"/>\n",
       "<polyline clip-path=\"url(#clip263)\" style=\"stroke:#000000; stroke-linecap:round; stroke-linejoin:round; stroke-width:2; stroke-opacity:0.1; fill:none\" points=\"1941.5,686.448 1941.5,47.2441 \"/>\n",
       "<polyline clip-path=\"url(#clip263)\" style=\"stroke:#000000; stroke-linecap:round; stroke-linejoin:round; stroke-width:2; stroke-opacity:0.1; fill:none\" points=\"2180.6,686.448 2180.6,47.2441 \"/>\n",
       "<polyline clip-path=\"url(#clip260)\" style=\"stroke:#000000; stroke-linecap:round; stroke-linejoin:round; stroke-width:4; stroke-opacity:1; fill:none\" points=\"1338.96,686.448 2352.76,686.448 \"/>\n",
       "<polyline clip-path=\"url(#clip260)\" style=\"stroke:#000000; stroke-linecap:round; stroke-linejoin:round; stroke-width:4; stroke-opacity:1; fill:none\" points=\"1463.29,686.448 1463.29,667.55 \"/>\n",
       "<polyline clip-path=\"url(#clip260)\" style=\"stroke:#000000; stroke-linecap:round; stroke-linejoin:round; stroke-width:4; stroke-opacity:1; fill:none\" points=\"1702.4,686.448 1702.4,667.55 \"/>\n",
       "<polyline clip-path=\"url(#clip260)\" style=\"stroke:#000000; stroke-linecap:round; stroke-linejoin:round; stroke-width:4; stroke-opacity:1; fill:none\" points=\"1941.5,686.448 1941.5,667.55 \"/>\n",
       "<polyline clip-path=\"url(#clip260)\" style=\"stroke:#000000; stroke-linecap:round; stroke-linejoin:round; stroke-width:4; stroke-opacity:1; fill:none\" points=\"2180.6,686.448 2180.6,667.55 \"/>\n",
       "<path clip-path=\"url(#clip260)\" d=\"M1430.46 714.288 L1448.81 714.288 L1448.81 718.223 L1434.74 718.223 L1434.74 726.695 Q1435.76 726.348 1436.78 726.186 Q1437.8 726.001 1438.81 726.001 Q1444.6 726.001 1447.98 729.172 Q1451.36 732.343 1451.36 737.76 Q1451.36 743.339 1447.89 746.44 Q1444.42 749.519 1438.1 749.519 Q1435.92 749.519 1433.65 749.149 Q1431.41 748.778 1429 748.038 L1429 743.339 Q1431.08 744.473 1433.3 745.028 Q1435.53 745.584 1438 745.584 Q1442.01 745.584 1444.35 743.478 Q1446.68 741.371 1446.68 737.76 Q1446.68 734.149 1444.35 732.042 Q1442.01 729.936 1438 729.936 Q1436.13 729.936 1434.25 730.353 Q1432.4 730.769 1430.46 731.649 L1430.46 714.288 Z\" fill=\"#000000\" fill-rule=\"evenodd\" fill-opacity=\"1\" /><path clip-path=\"url(#clip260)\" d=\"M1460.57 742.968 L1465.46 742.968 L1465.46 748.848 L1460.57 748.848 L1460.57 742.968 Z\" fill=\"#000000\" fill-rule=\"evenodd\" fill-opacity=\"1\" /><path clip-path=\"url(#clip260)\" d=\"M1485.64 717.367 Q1482.03 717.367 1480.2 720.931 Q1478.4 724.473 1478.4 731.603 Q1478.4 738.709 1480.2 742.274 Q1482.03 745.815 1485.64 745.815 Q1489.28 745.815 1491.08 742.274 Q1492.91 738.709 1492.91 731.603 Q1492.91 724.473 1491.08 720.931 Q1489.28 717.367 1485.64 717.367 M1485.64 713.663 Q1491.45 713.663 1494.51 718.269 Q1497.59 722.853 1497.59 731.603 Q1497.59 740.329 1494.51 744.936 Q1491.45 749.519 1485.64 749.519 Q1479.83 749.519 1476.75 744.936 Q1473.7 740.329 1473.7 731.603 Q1473.7 722.853 1476.75 718.269 Q1479.83 713.663 1485.64 713.663 Z\" fill=\"#000000\" fill-rule=\"evenodd\" fill-opacity=\"1\" /><path clip-path=\"url(#clip260)\" d=\"M1668.72 714.288 L1690.94 714.288 L1690.94 716.279 L1678.39 748.848 L1673.51 748.848 L1685.31 718.223 L1668.72 718.223 L1668.72 714.288 Z\" fill=\"#000000\" fill-rule=\"evenodd\" fill-opacity=\"1\" /><path clip-path=\"url(#clip260)\" d=\"M1700.06 742.968 L1704.94 742.968 L1704.94 748.848 L1700.06 748.848 L1700.06 742.968 Z\" fill=\"#000000\" fill-rule=\"evenodd\" fill-opacity=\"1\" /><path clip-path=\"url(#clip260)\" d=\"M1715.17 714.288 L1733.53 714.288 L1733.53 718.223 L1719.46 718.223 L1719.46 726.695 Q1720.47 726.348 1721.49 726.186 Q1722.51 726.001 1723.53 726.001 Q1729.32 726.001 1732.7 729.172 Q1736.08 732.343 1736.08 737.76 Q1736.08 743.339 1732.6 746.44 Q1729.13 749.519 1722.81 749.519 Q1720.64 749.519 1718.37 749.149 Q1716.12 748.778 1713.72 748.038 L1713.72 743.339 Q1715.8 744.473 1718.02 745.028 Q1720.24 745.584 1722.72 745.584 Q1726.72 745.584 1729.06 743.478 Q1731.4 741.371 1731.4 737.76 Q1731.4 734.149 1729.06 732.042 Q1726.72 729.936 1722.72 729.936 Q1720.84 729.936 1718.97 730.353 Q1717.12 730.769 1715.17 731.649 L1715.17 714.288 Z\" fill=\"#000000\" fill-rule=\"evenodd\" fill-opacity=\"1\" /><path clip-path=\"url(#clip260)\" d=\"M1893.57 744.913 L1901.21 744.913 L1901.21 718.547 L1892.9 720.214 L1892.9 715.955 L1901.16 714.288 L1905.84 714.288 L1905.84 744.913 L1913.48 744.913 L1913.48 748.848 L1893.57 748.848 L1893.57 744.913 Z\" fill=\"#000000\" fill-rule=\"evenodd\" fill-opacity=\"1\" /><path clip-path=\"url(#clip260)\" d=\"M1932.92 717.367 Q1929.31 717.367 1927.48 720.931 Q1925.68 724.473 1925.68 731.603 Q1925.68 738.709 1927.48 742.274 Q1929.31 745.815 1932.92 745.815 Q1936.56 745.815 1938.36 742.274 Q1940.19 738.709 1940.19 731.603 Q1940.19 724.473 1938.36 720.931 Q1936.56 717.367 1932.92 717.367 M1932.92 713.663 Q1938.73 713.663 1941.79 718.269 Q1944.87 722.853 1944.87 731.603 Q1944.87 740.329 1941.79 744.936 Q1938.73 749.519 1932.92 749.519 Q1927.11 749.519 1924.03 744.936 Q1920.98 740.329 1920.98 731.603 Q1920.98 722.853 1924.03 718.269 Q1927.11 713.663 1932.92 713.663 Z\" fill=\"#000000\" fill-rule=\"evenodd\" fill-opacity=\"1\" /><path clip-path=\"url(#clip260)\" d=\"M1953.08 742.968 L1957.97 742.968 L1957.97 748.848 L1953.08 748.848 L1953.08 742.968 Z\" fill=\"#000000\" fill-rule=\"evenodd\" fill-opacity=\"1\" /><path clip-path=\"url(#clip260)\" d=\"M1978.15 717.367 Q1974.54 717.367 1972.71 720.931 Q1970.91 724.473 1970.91 731.603 Q1970.91 738.709 1972.71 742.274 Q1974.54 745.815 1978.15 745.815 Q1981.79 745.815 1983.59 742.274 Q1985.42 738.709 1985.42 731.603 Q1985.42 724.473 1983.59 720.931 Q1981.79 717.367 1978.15 717.367 M1978.15 713.663 Q1983.96 713.663 1987.02 718.269 Q1990.1 722.853 1990.1 731.603 Q1990.1 740.329 1987.02 744.936 Q1983.96 749.519 1978.15 749.519 Q1972.34 749.519 1969.26 744.936 Q1966.21 740.329 1966.21 731.603 Q1966.21 722.853 1969.26 718.269 Q1972.34 713.663 1978.15 713.663 Z\" fill=\"#000000\" fill-rule=\"evenodd\" fill-opacity=\"1\" /><path clip-path=\"url(#clip260)\" d=\"M2133.17 744.913 L2140.81 744.913 L2140.81 718.547 L2132.5 720.214 L2132.5 715.955 L2140.76 714.288 L2145.44 714.288 L2145.44 744.913 L2153.08 744.913 L2153.08 748.848 L2133.17 748.848 L2133.17 744.913 Z\" fill=\"#000000\" fill-rule=\"evenodd\" fill-opacity=\"1\" /><path clip-path=\"url(#clip260)\" d=\"M2166.55 744.913 L2182.87 744.913 L2182.87 748.848 L2160.93 748.848 L2160.93 744.913 Q2163.59 742.158 2168.17 737.528 Q2172.78 732.876 2173.96 731.533 Q2176.2 729.01 2177.08 727.274 Q2177.99 725.515 2177.99 723.825 Q2177.99 721.07 2176.04 719.334 Q2174.12 717.598 2171.02 717.598 Q2168.82 717.598 2166.37 718.362 Q2163.94 719.126 2161.16 720.677 L2161.16 715.955 Q2163.98 714.82 2166.44 714.242 Q2168.89 713.663 2170.93 713.663 Q2176.3 713.663 2179.49 716.348 Q2182.69 719.033 2182.69 723.524 Q2182.69 725.654 2181.87 727.575 Q2181.09 729.473 2178.98 732.066 Q2178.4 732.737 2175.3 735.954 Q2172.2 739.149 2166.55 744.913 Z\" fill=\"#000000\" fill-rule=\"evenodd\" fill-opacity=\"1\" /><path clip-path=\"url(#clip260)\" d=\"M2192.69 742.968 L2197.57 742.968 L2197.57 748.848 L2192.69 748.848 L2192.69 742.968 Z\" fill=\"#000000\" fill-rule=\"evenodd\" fill-opacity=\"1\" /><path clip-path=\"url(#clip260)\" d=\"M2207.8 714.288 L2226.16 714.288 L2226.16 718.223 L2212.08 718.223 L2212.08 726.695 Q2213.1 726.348 2214.12 726.186 Q2215.14 726.001 2216.16 726.001 Q2221.94 726.001 2225.32 729.172 Q2228.7 732.343 2228.7 737.76 Q2228.7 743.339 2225.23 746.44 Q2221.76 749.519 2215.44 749.519 Q2213.26 749.519 2211 749.149 Q2208.75 748.778 2206.34 748.038 L2206.34 743.339 Q2208.43 744.473 2210.65 745.028 Q2212.87 745.584 2215.35 745.584 Q2219.35 745.584 2221.69 743.478 Q2224.03 741.371 2224.03 737.76 Q2224.03 734.149 2221.69 732.042 Q2219.35 729.936 2215.35 729.936 Q2213.47 729.936 2211.6 730.353 Q2209.75 730.769 2207.8 731.649 L2207.8 714.288 Z\" fill=\"#000000\" fill-rule=\"evenodd\" fill-opacity=\"1\" /><polyline clip-path=\"url(#clip263)\" style=\"stroke:#000000; stroke-linecap:round; stroke-linejoin:round; stroke-width:2; stroke-opacity:0.1; fill:none\" points=\"1338.96,678.147 2352.76,678.147 \"/>\n",
       "<polyline clip-path=\"url(#clip263)\" style=\"stroke:#000000; stroke-linecap:round; stroke-linejoin:round; stroke-width:2; stroke-opacity:0.1; fill:none\" points=\"1338.96,580.253 2352.76,580.253 \"/>\n",
       "<polyline clip-path=\"url(#clip263)\" style=\"stroke:#000000; stroke-linecap:round; stroke-linejoin:round; stroke-width:2; stroke-opacity:0.1; fill:none\" points=\"1338.96,482.36 2352.76,482.36 \"/>\n",
       "<polyline clip-path=\"url(#clip263)\" style=\"stroke:#000000; stroke-linecap:round; stroke-linejoin:round; stroke-width:2; stroke-opacity:0.1; fill:none\" points=\"1338.96,384.467 2352.76,384.467 \"/>\n",
       "<polyline clip-path=\"url(#clip263)\" style=\"stroke:#000000; stroke-linecap:round; stroke-linejoin:round; stroke-width:2; stroke-opacity:0.1; fill:none\" points=\"1338.96,286.574 2352.76,286.574 \"/>\n",
       "<polyline clip-path=\"url(#clip263)\" style=\"stroke:#000000; stroke-linecap:round; stroke-linejoin:round; stroke-width:2; stroke-opacity:0.1; fill:none\" points=\"1338.96,188.68 2352.76,188.68 \"/>\n",
       "<polyline clip-path=\"url(#clip263)\" style=\"stroke:#000000; stroke-linecap:round; stroke-linejoin:round; stroke-width:2; stroke-opacity:0.1; fill:none\" points=\"1338.96,90.787 2352.76,90.787 \"/>\n",
       "<polyline clip-path=\"url(#clip260)\" style=\"stroke:#000000; stroke-linecap:round; stroke-linejoin:round; stroke-width:4; stroke-opacity:1; fill:none\" points=\"1338.96,686.448 1338.96,47.2441 \"/>\n",
       "<polyline clip-path=\"url(#clip260)\" style=\"stroke:#000000; stroke-linecap:round; stroke-linejoin:round; stroke-width:4; stroke-opacity:1; fill:none\" points=\"1338.96,678.147 1357.86,678.147 \"/>\n",
       "<polyline clip-path=\"url(#clip260)\" style=\"stroke:#000000; stroke-linecap:round; stroke-linejoin:round; stroke-width:4; stroke-opacity:1; fill:none\" points=\"1338.96,580.253 1357.86,580.253 \"/>\n",
       "<polyline clip-path=\"url(#clip260)\" style=\"stroke:#000000; stroke-linecap:round; stroke-linejoin:round; stroke-width:4; stroke-opacity:1; fill:none\" points=\"1338.96,482.36 1357.86,482.36 \"/>\n",
       "<polyline clip-path=\"url(#clip260)\" style=\"stroke:#000000; stroke-linecap:round; stroke-linejoin:round; stroke-width:4; stroke-opacity:1; fill:none\" points=\"1338.96,384.467 1357.86,384.467 \"/>\n",
       "<polyline clip-path=\"url(#clip260)\" style=\"stroke:#000000; stroke-linecap:round; stroke-linejoin:round; stroke-width:4; stroke-opacity:1; fill:none\" points=\"1338.96,286.574 1357.86,286.574 \"/>\n",
       "<polyline clip-path=\"url(#clip260)\" style=\"stroke:#000000; stroke-linecap:round; stroke-linejoin:round; stroke-width:4; stroke-opacity:1; fill:none\" points=\"1338.96,188.68 1357.86,188.68 \"/>\n",
       "<polyline clip-path=\"url(#clip260)\" style=\"stroke:#000000; stroke-linecap:round; stroke-linejoin:round; stroke-width:4; stroke-opacity:1; fill:none\" points=\"1338.96,90.787 1357.86,90.787 \"/>\n",
       "<path clip-path=\"url(#clip260)\" d=\"M1295.83 676.792 Q1299.19 677.51 1301.06 679.778 Q1302.96 682.047 1302.96 685.38 Q1302.96 690.496 1299.44 693.297 Q1295.92 696.098 1289.44 696.098 Q1287.27 696.098 1284.95 695.658 Q1282.66 695.241 1280.2 694.385 L1280.2 689.871 Q1282.15 691.005 1284.46 691.584 Q1286.78 692.163 1289.3 692.163 Q1293.7 692.163 1295.99 690.427 Q1298.31 688.69 1298.31 685.38 Q1298.31 682.325 1296.15 680.612 Q1294.02 678.876 1290.2 678.876 L1286.18 678.876 L1286.18 675.033 L1290.39 675.033 Q1293.84 675.033 1295.67 673.667 Q1297.5 672.279 1297.5 669.686 Q1297.5 667.024 1295.6 665.612 Q1293.72 664.177 1290.2 664.177 Q1288.28 664.177 1286.08 664.593 Q1283.89 665.01 1281.25 665.89 L1281.25 661.723 Q1283.91 660.982 1286.22 660.612 Q1288.56 660.242 1290.62 660.242 Q1295.95 660.242 1299.05 662.672 Q1302.15 665.079 1302.15 669.2 Q1302.15 672.07 1300.51 674.061 Q1298.86 676.028 1295.83 676.792 Z\" fill=\"#000000\" fill-rule=\"evenodd\" fill-opacity=\"1\" /><path clip-path=\"url(#clip260)\" d=\"M1293.38 567.047 L1281.57 585.496 L1293.38 585.496 L1293.38 567.047 M1292.15 562.973 L1298.03 562.973 L1298.03 585.496 L1302.96 585.496 L1302.96 589.385 L1298.03 589.385 L1298.03 597.533 L1293.38 597.533 L1293.38 589.385 L1277.77 589.385 L1277.77 584.871 L1292.15 562.973 Z\" fill=\"#000000\" fill-rule=\"evenodd\" fill-opacity=\"1\" /><path clip-path=\"url(#clip260)\" d=\"M1282.06 465.08 L1300.41 465.08 L1300.41 469.015 L1286.34 469.015 L1286.34 477.487 Q1287.36 477.14 1288.38 476.978 Q1289.39 476.793 1290.41 476.793 Q1296.2 476.793 1299.58 479.964 Q1302.96 483.135 1302.96 488.552 Q1302.96 494.131 1299.49 497.233 Q1296.02 500.311 1289.7 500.311 Q1287.52 500.311 1285.25 499.941 Q1283.01 499.571 1280.6 498.83 L1280.6 494.131 Q1282.68 495.265 1284.9 495.821 Q1287.13 496.376 1289.6 496.376 Q1293.61 496.376 1295.95 494.27 Q1298.28 492.163 1298.28 488.552 Q1298.28 484.941 1295.95 482.835 Q1293.61 480.728 1289.6 480.728 Q1287.73 480.728 1285.85 481.145 Q1284 481.561 1282.06 482.441 L1282.06 465.08 Z\" fill=\"#000000\" fill-rule=\"evenodd\" fill-opacity=\"1\" /><path clip-path=\"url(#clip260)\" d=\"M1291.43 382.603 Q1288.28 382.603 1286.43 384.756 Q1284.6 386.909 1284.6 390.659 Q1284.6 394.386 1286.43 396.562 Q1288.28 398.714 1291.43 398.714 Q1294.58 398.714 1296.41 396.562 Q1298.26 394.386 1298.26 390.659 Q1298.26 386.909 1296.41 384.756 Q1294.58 382.603 1291.43 382.603 M1300.71 367.951 L1300.71 372.21 Q1298.95 371.377 1297.15 370.937 Q1295.37 370.497 1293.61 370.497 Q1288.98 370.497 1286.52 373.622 Q1284.09 376.747 1283.75 383.066 Q1285.11 381.052 1287.17 379.988 Q1289.23 378.9 1291.71 378.9 Q1296.92 378.9 1299.93 382.071 Q1302.96 385.219 1302.96 390.659 Q1302.96 395.983 1299.81 399.2 Q1296.66 402.418 1291.43 402.418 Q1285.44 402.418 1282.27 397.835 Q1279.09 393.228 1279.09 384.501 Q1279.09 376.307 1282.98 371.446 Q1286.87 366.562 1293.42 366.562 Q1295.18 366.562 1296.96 366.909 Q1298.77 367.256 1300.71 367.951 Z\" fill=\"#000000\" fill-rule=\"evenodd\" fill-opacity=\"1\" /><path clip-path=\"url(#clip260)\" d=\"M1280.74 269.294 L1302.96 269.294 L1302.96 271.284 L1290.41 303.854 L1285.53 303.854 L1297.33 273.229 L1280.74 273.229 L1280.74 269.294 Z\" fill=\"#000000\" fill-rule=\"evenodd\" fill-opacity=\"1\" /><path clip-path=\"url(#clip260)\" d=\"M1291.11 189.548 Q1287.77 189.548 1285.85 191.331 Q1283.95 193.113 1283.95 196.238 Q1283.95 199.363 1285.85 201.145 Q1287.77 202.928 1291.11 202.928 Q1294.44 202.928 1296.36 201.145 Q1298.28 199.34 1298.28 196.238 Q1298.28 193.113 1296.36 191.331 Q1294.46 189.548 1291.11 189.548 M1286.43 187.558 Q1283.42 186.817 1281.73 184.757 Q1280.07 182.697 1280.07 179.734 Q1280.07 175.59 1283.01 173.183 Q1285.97 170.775 1291.11 170.775 Q1296.27 170.775 1299.21 173.183 Q1302.15 175.59 1302.15 179.734 Q1302.15 182.697 1300.46 184.757 Q1298.79 186.817 1295.81 187.558 Q1299.19 188.345 1301.06 190.636 Q1302.96 192.928 1302.96 196.238 Q1302.96 201.261 1299.88 203.946 Q1296.83 206.632 1291.11 206.632 Q1285.39 206.632 1282.31 203.946 Q1279.26 201.261 1279.26 196.238 Q1279.26 192.928 1281.15 190.636 Q1283.05 188.345 1286.43 187.558 M1284.72 180.173 Q1284.72 182.859 1286.39 184.363 Q1288.08 185.868 1291.11 185.868 Q1294.12 185.868 1295.81 184.363 Q1297.52 182.859 1297.52 180.173 Q1297.52 177.488 1295.81 175.984 Q1294.12 174.479 1291.11 174.479 Q1288.08 174.479 1286.39 175.984 Q1284.72 177.488 1284.72 180.173 Z\" fill=\"#000000\" fill-rule=\"evenodd\" fill-opacity=\"1\" /><path clip-path=\"url(#clip260)\" d=\"M1281.34 107.349 L1281.34 103.09 Q1283.1 103.924 1284.9 104.363 Q1286.71 104.803 1288.45 104.803 Q1293.08 104.803 1295.51 101.701 Q1297.96 98.5763 1298.31 92.2338 Q1296.96 94.2245 1294.9 95.2893 Q1292.84 96.3541 1290.34 96.3541 Q1285.16 96.3541 1282.13 93.2291 Q1279.12 90.081 1279.12 84.6412 Q1279.12 79.3172 1282.27 76.0996 Q1285.41 72.882 1290.64 72.882 Q1296.64 72.882 1299.79 77.4885 Q1302.96 82.0718 1302.96 90.8217 Q1302.96 98.993 1299.07 103.877 Q1295.2 108.738 1288.65 108.738 Q1286.89 108.738 1285.09 108.391 Q1283.28 108.044 1281.34 107.349 M1290.64 92.6967 Q1293.79 92.6967 1295.62 90.544 Q1297.47 88.3912 1297.47 84.6412 Q1297.47 80.9144 1295.62 78.7616 Q1293.79 76.5857 1290.64 76.5857 Q1287.5 76.5857 1285.64 78.7616 Q1283.82 80.9144 1283.82 84.6412 Q1283.82 88.3912 1285.64 90.544 Q1287.5 92.6967 1290.64 92.6967 Z\" fill=\"#000000\" fill-rule=\"evenodd\" fill-opacity=\"1\" /><circle clip-path=\"url(#clip263)\" cx=\"1941.5\" cy=\"77.082\" r=\"14.4\" fill=\"#009af9\" fill-rule=\"evenodd\" fill-opacity=\"1\" stroke=\"#000000\" stroke-opacity=\"1\" stroke-width=\"3.2\"/>\n",
       "<circle clip-path=\"url(#clip263)\" cx=\"1750.22\" cy=\"174.975\" r=\"14.4\" fill=\"#009af9\" fill-rule=\"evenodd\" fill-opacity=\"1\" stroke=\"#000000\" stroke-opacity=\"1\" stroke-width=\"3.2\"/>\n",
       "<circle clip-path=\"url(#clip263)\" cx=\"2228.42\" cy=\"116.239\" r=\"14.4\" fill=\"#009af9\" fill-rule=\"evenodd\" fill-opacity=\"1\" stroke=\"#000000\" stroke-opacity=\"1\" stroke-width=\"3.2\"/>\n",
       "<circle clip-path=\"url(#clip263)\" cx=\"1845.86\" cy=\"113.302\" r=\"14.4\" fill=\"#009af9\" fill-rule=\"evenodd\" fill-opacity=\"1\" stroke=\"#000000\" stroke-opacity=\"1\" stroke-width=\"3.2\"/>\n",
       "<circle clip-path=\"url(#clip263)\" cx=\"2037.14\" cy=\"65.3348\" r=\"14.4\" fill=\"#009af9\" fill-rule=\"evenodd\" fill-opacity=\"1\" stroke=\"#000000\" stroke-opacity=\"1\" stroke-width=\"3.2\"/>\n",
       "<circle clip-path=\"url(#clip263)\" cx=\"2324.06\" cy=\"178.891\" r=\"14.4\" fill=\"#009af9\" fill-rule=\"evenodd\" fill-opacity=\"1\" stroke=\"#000000\" stroke-opacity=\"1\" stroke-width=\"3.2\"/>\n",
       "<circle clip-path=\"url(#clip263)\" cx=\"1558.93\" cy=\"371.741\" r=\"14.4\" fill=\"#009af9\" fill-rule=\"evenodd\" fill-opacity=\"1\" stroke=\"#000000\" stroke-opacity=\"1\" stroke-width=\"3.2\"/>\n",
       "<circle clip-path=\"url(#clip263)\" cx=\"1367.65\" cy=\"668.357\" r=\"14.4\" fill=\"#009af9\" fill-rule=\"evenodd\" fill-opacity=\"1\" stroke=\"#000000\" stroke-opacity=\"1\" stroke-width=\"3.2\"/>\n",
       "<circle clip-path=\"url(#clip263)\" cx=\"2132.78\" cy=\"78.0609\" r=\"14.4\" fill=\"#009af9\" fill-rule=\"evenodd\" fill-opacity=\"1\" stroke=\"#000000\" stroke-opacity=\"1\" stroke-width=\"3.2\"/>\n",
       "<circle clip-path=\"url(#clip263)\" cx=\"1654.58\" cy=\"261.121\" r=\"14.4\" fill=\"#009af9\" fill-rule=\"evenodd\" fill-opacity=\"1\" stroke=\"#000000\" stroke-opacity=\"1\" stroke-width=\"3.2\"/>\n",
       "<circle clip-path=\"url(#clip263)\" cx=\"1463.29\" cy=\"507.812\" r=\"14.4\" fill=\"#009af9\" fill-rule=\"evenodd\" fill-opacity=\"1\" stroke=\"#000000\" stroke-opacity=\"1\" stroke-width=\"3.2\"/>\n",
       "<path clip-path=\"url(#clip260)\" d=\"M138.959 1486.45 L1152.76 1486.45 L1152.76 847.244 L138.959 847.244  Z\" fill=\"#ffffff\" fill-rule=\"evenodd\" fill-opacity=\"1\"/>\n",
       "<defs>\n",
       "  <clipPath id=\"clip264\">\n",
       "    <rect x=\"138\" y=\"847\" width=\"1015\" height=\"640\"/>\n",
       "  </clipPath>\n",
       "</defs>\n",
       "<polyline clip-path=\"url(#clip264)\" style=\"stroke:#000000; stroke-linecap:round; stroke-linejoin:round; stroke-width:2; stroke-opacity:0.1; fill:none\" points=\"263.293,1486.45 263.293,847.244 \"/>\n",
       "<polyline clip-path=\"url(#clip264)\" style=\"stroke:#000000; stroke-linecap:round; stroke-linejoin:round; stroke-width:2; stroke-opacity:0.1; fill:none\" points=\"502.396,1486.45 502.396,847.244 \"/>\n",
       "<polyline clip-path=\"url(#clip264)\" style=\"stroke:#000000; stroke-linecap:round; stroke-linejoin:round; stroke-width:2; stroke-opacity:0.1; fill:none\" points=\"741.499,1486.45 741.499,847.244 \"/>\n",
       "<polyline clip-path=\"url(#clip264)\" style=\"stroke:#000000; stroke-linecap:round; stroke-linejoin:round; stroke-width:2; stroke-opacity:0.1; fill:none\" points=\"980.602,1486.45 980.602,847.244 \"/>\n",
       "<polyline clip-path=\"url(#clip260)\" style=\"stroke:#000000; stroke-linecap:round; stroke-linejoin:round; stroke-width:4; stroke-opacity:1; fill:none\" points=\"138.959,1486.45 1152.76,1486.45 \"/>\n",
       "<polyline clip-path=\"url(#clip260)\" style=\"stroke:#000000; stroke-linecap:round; stroke-linejoin:round; stroke-width:4; stroke-opacity:1; fill:none\" points=\"263.293,1486.45 263.293,1467.55 \"/>\n",
       "<polyline clip-path=\"url(#clip260)\" style=\"stroke:#000000; stroke-linecap:round; stroke-linejoin:round; stroke-width:4; stroke-opacity:1; fill:none\" points=\"502.396,1486.45 502.396,1467.55 \"/>\n",
       "<polyline clip-path=\"url(#clip260)\" style=\"stroke:#000000; stroke-linecap:round; stroke-linejoin:round; stroke-width:4; stroke-opacity:1; fill:none\" points=\"741.499,1486.45 741.499,1467.55 \"/>\n",
       "<polyline clip-path=\"url(#clip260)\" style=\"stroke:#000000; stroke-linecap:round; stroke-linejoin:round; stroke-width:4; stroke-opacity:1; fill:none\" points=\"980.602,1486.45 980.602,1467.55 \"/>\n",
       "<path clip-path=\"url(#clip260)\" d=\"M230.457 1514.29 L248.814 1514.29 L248.814 1518.22 L234.74 1518.22 L234.74 1526.7 Q235.758 1526.35 236.777 1526.19 Q237.795 1526 238.814 1526 Q244.601 1526 247.981 1529.17 Q251.36 1532.34 251.36 1537.76 Q251.36 1543.34 247.888 1546.44 Q244.416 1549.52 238.096 1549.52 Q235.92 1549.52 233.652 1549.15 Q231.407 1548.78 228.999 1548.04 L228.999 1543.34 Q231.082 1544.47 233.305 1545.03 Q235.527 1545.58 238.004 1545.58 Q242.008 1545.58 244.346 1543.48 Q246.684 1541.37 246.684 1537.76 Q246.684 1534.15 244.346 1532.04 Q242.008 1529.94 238.004 1529.94 Q236.129 1529.94 234.254 1530.35 Q232.402 1530.77 230.457 1531.65 L230.457 1514.29 Z\" fill=\"#000000\" fill-rule=\"evenodd\" fill-opacity=\"1\" /><path clip-path=\"url(#clip260)\" d=\"M260.573 1542.97 L265.457 1542.97 L265.457 1548.85 L260.573 1548.85 L260.573 1542.97 Z\" fill=\"#000000\" fill-rule=\"evenodd\" fill-opacity=\"1\" /><path clip-path=\"url(#clip260)\" d=\"M285.642 1517.37 Q282.031 1517.37 280.203 1520.93 Q278.397 1524.47 278.397 1531.6 Q278.397 1538.71 280.203 1542.27 Q282.031 1545.82 285.642 1545.82 Q289.277 1545.82 291.082 1542.27 Q292.911 1538.71 292.911 1531.6 Q292.911 1524.47 291.082 1520.93 Q289.277 1517.37 285.642 1517.37 M285.642 1513.66 Q291.453 1513.66 294.508 1518.27 Q297.587 1522.85 297.587 1531.6 Q297.587 1540.33 294.508 1544.94 Q291.453 1549.52 285.642 1549.52 Q279.832 1549.52 276.754 1544.94 Q273.698 1540.33 273.698 1531.6 Q273.698 1522.85 276.754 1518.27 Q279.832 1513.66 285.642 1513.66 Z\" fill=\"#000000\" fill-rule=\"evenodd\" fill-opacity=\"1\" /><path clip-path=\"url(#clip260)\" d=\"M468.716 1514.29 L490.938 1514.29 L490.938 1516.28 L478.391 1548.85 L473.507 1548.85 L485.313 1518.22 L468.716 1518.22 L468.716 1514.29 Z\" fill=\"#000000\" fill-rule=\"evenodd\" fill-opacity=\"1\" /><path clip-path=\"url(#clip260)\" d=\"M500.058 1542.97 L504.942 1542.97 L504.942 1548.85 L500.058 1548.85 L500.058 1542.97 Z\" fill=\"#000000\" fill-rule=\"evenodd\" fill-opacity=\"1\" /><path clip-path=\"url(#clip260)\" d=\"M515.174 1514.29 L533.53 1514.29 L533.53 1518.22 L519.456 1518.22 L519.456 1526.7 Q520.475 1526.35 521.493 1526.19 Q522.512 1526 523.53 1526 Q529.317 1526 532.697 1529.17 Q536.076 1532.34 536.076 1537.76 Q536.076 1543.34 532.604 1546.44 Q529.132 1549.52 522.812 1549.52 Q520.637 1549.52 518.368 1549.15 Q516.123 1548.78 513.715 1548.04 L513.715 1543.34 Q515.799 1544.47 518.021 1545.03 Q520.243 1545.58 522.72 1545.58 Q526.724 1545.58 529.062 1543.48 Q531.4 1541.37 531.4 1537.76 Q531.4 1534.15 529.062 1532.04 Q526.724 1529.94 522.72 1529.94 Q520.845 1529.94 518.97 1530.35 Q517.118 1530.77 515.174 1531.65 L515.174 1514.29 Z\" fill=\"#000000\" fill-rule=\"evenodd\" fill-opacity=\"1\" /><path clip-path=\"url(#clip260)\" d=\"M693.571 1544.91 L701.21 1544.91 L701.21 1518.55 L692.9 1520.21 L692.9 1515.95 L701.163 1514.29 L705.839 1514.29 L705.839 1544.91 L713.478 1544.91 L713.478 1548.85 L693.571 1548.85 L693.571 1544.91 Z\" fill=\"#000000\" fill-rule=\"evenodd\" fill-opacity=\"1\" /><path clip-path=\"url(#clip260)\" d=\"M732.923 1517.37 Q729.311 1517.37 727.483 1520.93 Q725.677 1524.47 725.677 1531.6 Q725.677 1538.71 727.483 1542.27 Q729.311 1545.82 732.923 1545.82 Q736.557 1545.82 738.362 1542.27 Q740.191 1538.71 740.191 1531.6 Q740.191 1524.47 738.362 1520.93 Q736.557 1517.37 732.923 1517.37 M732.923 1513.66 Q738.733 1513.66 741.788 1518.27 Q744.867 1522.85 744.867 1531.6 Q744.867 1540.33 741.788 1544.94 Q738.733 1549.52 732.923 1549.52 Q727.112 1549.52 724.034 1544.94 Q720.978 1540.33 720.978 1531.6 Q720.978 1522.85 724.034 1518.27 Q727.112 1513.66 732.923 1513.66 Z\" fill=\"#000000\" fill-rule=\"evenodd\" fill-opacity=\"1\" /><path clip-path=\"url(#clip260)\" d=\"M753.084 1542.97 L757.969 1542.97 L757.969 1548.85 L753.084 1548.85 L753.084 1542.97 Z\" fill=\"#000000\" fill-rule=\"evenodd\" fill-opacity=\"1\" /><path clip-path=\"url(#clip260)\" d=\"M778.154 1517.37 Q774.543 1517.37 772.714 1520.93 Q770.908 1524.47 770.908 1531.6 Q770.908 1538.71 772.714 1542.27 Q774.543 1545.82 778.154 1545.82 Q781.788 1545.82 783.594 1542.27 Q785.422 1538.71 785.422 1531.6 Q785.422 1524.47 783.594 1520.93 Q781.788 1517.37 778.154 1517.37 M778.154 1513.66 Q783.964 1513.66 787.019 1518.27 Q790.098 1522.85 790.098 1531.6 Q790.098 1540.33 787.019 1544.94 Q783.964 1549.52 778.154 1549.52 Q772.344 1549.52 769.265 1544.94 Q766.209 1540.33 766.209 1531.6 Q766.209 1522.85 769.265 1518.27 Q772.344 1513.66 778.154 1513.66 Z\" fill=\"#000000\" fill-rule=\"evenodd\" fill-opacity=\"1\" /><path clip-path=\"url(#clip260)\" d=\"M933.171 1544.91 L940.81 1544.91 L940.81 1518.55 L932.5 1520.21 L932.5 1515.95 L940.764 1514.29 L945.44 1514.29 L945.44 1544.91 L953.079 1544.91 L953.079 1548.85 L933.171 1548.85 L933.171 1544.91 Z\" fill=\"#000000\" fill-rule=\"evenodd\" fill-opacity=\"1\" /><path clip-path=\"url(#clip260)\" d=\"M966.551 1544.91 L982.87 1544.91 L982.87 1548.85 L960.926 1548.85 L960.926 1544.91 Q963.588 1542.16 968.171 1537.53 Q972.778 1532.88 973.958 1531.53 Q976.204 1529.01 977.083 1527.27 Q977.986 1525.51 977.986 1523.82 Q977.986 1521.07 976.042 1519.33 Q974.12 1517.6 971.019 1517.6 Q968.819 1517.6 966.366 1518.36 Q963.935 1519.13 961.157 1520.68 L961.157 1515.95 Q963.982 1514.82 966.435 1514.24 Q968.889 1513.66 970.926 1513.66 Q976.296 1513.66 979.491 1516.35 Q982.685 1519.03 982.685 1523.52 Q982.685 1525.65 981.875 1527.57 Q981.088 1529.47 978.981 1532.07 Q978.403 1532.74 975.301 1535.95 Q972.199 1539.15 966.551 1544.91 Z\" fill=\"#000000\" fill-rule=\"evenodd\" fill-opacity=\"1\" /><path clip-path=\"url(#clip260)\" d=\"M992.685 1542.97 L997.569 1542.97 L997.569 1548.85 L992.685 1548.85 L992.685 1542.97 Z\" fill=\"#000000\" fill-rule=\"evenodd\" fill-opacity=\"1\" /><path clip-path=\"url(#clip260)\" d=\"M1007.8 1514.29 L1026.16 1514.29 L1026.16 1518.22 L1012.08 1518.22 L1012.08 1526.7 Q1013.1 1526.35 1014.12 1526.19 Q1015.14 1526 1016.16 1526 Q1021.94 1526 1025.32 1529.17 Q1028.7 1532.34 1028.7 1537.76 Q1028.7 1543.34 1025.23 1546.44 Q1021.76 1549.52 1015.44 1549.52 Q1013.26 1549.52 1011 1549.15 Q1008.75 1548.78 1006.34 1548.04 L1006.34 1543.34 Q1008.43 1544.47 1010.65 1545.03 Q1012.87 1545.58 1015.35 1545.58 Q1019.35 1545.58 1021.69 1543.48 Q1024.03 1541.37 1024.03 1537.76 Q1024.03 1534.15 1021.69 1532.04 Q1019.35 1529.94 1015.35 1529.94 Q1013.47 1529.94 1011.6 1530.35 Q1009.75 1530.77 1007.8 1531.65 L1007.8 1514.29 Z\" fill=\"#000000\" fill-rule=\"evenodd\" fill-opacity=\"1\" /><polyline clip-path=\"url(#clip264)\" style=\"stroke:#000000; stroke-linecap:round; stroke-linejoin:round; stroke-width:2; stroke-opacity:0.1; fill:none\" points=\"138.959,1418.31 1152.76,1418.31 \"/>\n",
       "<polyline clip-path=\"url(#clip264)\" style=\"stroke:#000000; stroke-linecap:round; stroke-linejoin:round; stroke-width:2; stroke-opacity:0.1; fill:none\" points=\"138.959,1336.27 1152.76,1336.27 \"/>\n",
       "<polyline clip-path=\"url(#clip264)\" style=\"stroke:#000000; stroke-linecap:round; stroke-linejoin:round; stroke-width:2; stroke-opacity:0.1; fill:none\" points=\"138.959,1254.22 1152.76,1254.22 \"/>\n",
       "<polyline clip-path=\"url(#clip264)\" style=\"stroke:#000000; stroke-linecap:round; stroke-linejoin:round; stroke-width:2; stroke-opacity:0.1; fill:none\" points=\"138.959,1172.18 1152.76,1172.18 \"/>\n",
       "<polyline clip-path=\"url(#clip264)\" style=\"stroke:#000000; stroke-linecap:round; stroke-linejoin:round; stroke-width:2; stroke-opacity:0.1; fill:none\" points=\"138.959,1090.13 1152.76,1090.13 \"/>\n",
       "<polyline clip-path=\"url(#clip264)\" style=\"stroke:#000000; stroke-linecap:round; stroke-linejoin:round; stroke-width:2; stroke-opacity:0.1; fill:none\" points=\"138.959,1008.09 1152.76,1008.09 \"/>\n",
       "<polyline clip-path=\"url(#clip264)\" style=\"stroke:#000000; stroke-linecap:round; stroke-linejoin:round; stroke-width:2; stroke-opacity:0.1; fill:none\" points=\"138.959,926.047 1152.76,926.047 \"/>\n",
       "<polyline clip-path=\"url(#clip260)\" style=\"stroke:#000000; stroke-linecap:round; stroke-linejoin:round; stroke-width:4; stroke-opacity:1; fill:none\" points=\"138.959,1486.45 138.959,847.244 \"/>\n",
       "<polyline clip-path=\"url(#clip260)\" style=\"stroke:#000000; stroke-linecap:round; stroke-linejoin:round; stroke-width:4; stroke-opacity:1; fill:none\" points=\"138.959,1418.31 157.857,1418.31 \"/>\n",
       "<polyline clip-path=\"url(#clip260)\" style=\"stroke:#000000; stroke-linecap:round; stroke-linejoin:round; stroke-width:4; stroke-opacity:1; fill:none\" points=\"138.959,1336.27 157.857,1336.27 \"/>\n",
       "<polyline clip-path=\"url(#clip260)\" style=\"stroke:#000000; stroke-linecap:round; stroke-linejoin:round; stroke-width:4; stroke-opacity:1; fill:none\" points=\"138.959,1254.22 157.857,1254.22 \"/>\n",
       "<polyline clip-path=\"url(#clip260)\" style=\"stroke:#000000; stroke-linecap:round; stroke-linejoin:round; stroke-width:4; stroke-opacity:1; fill:none\" points=\"138.959,1172.18 157.857,1172.18 \"/>\n",
       "<polyline clip-path=\"url(#clip260)\" style=\"stroke:#000000; stroke-linecap:round; stroke-linejoin:round; stroke-width:4; stroke-opacity:1; fill:none\" points=\"138.959,1090.13 157.857,1090.13 \"/>\n",
       "<polyline clip-path=\"url(#clip260)\" style=\"stroke:#000000; stroke-linecap:round; stroke-linejoin:round; stroke-width:4; stroke-opacity:1; fill:none\" points=\"138.959,1008.09 157.857,1008.09 \"/>\n",
       "<polyline clip-path=\"url(#clip260)\" style=\"stroke:#000000; stroke-linecap:round; stroke-linejoin:round; stroke-width:4; stroke-opacity:1; fill:none\" points=\"138.959,926.047 157.857,926.047 \"/>\n",
       "<path clip-path=\"url(#clip260)\" d=\"M91.4317 1416.45 Q88.2836 1416.45 86.4318 1418.6 Q84.6031 1420.75 84.6031 1424.5 Q84.6031 1428.23 86.4318 1430.41 Q88.2836 1432.56 91.4317 1432.56 Q94.5799 1432.56 96.4085 1430.41 Q98.2604 1428.23 98.2604 1424.5 Q98.2604 1420.75 96.4085 1418.6 Q94.5799 1416.45 91.4317 1416.45 M100.714 1401.79 L100.714 1406.05 Q98.9548 1405.22 97.1493 1404.78 Q95.3669 1404.34 93.6076 1404.34 Q88.978 1404.34 86.5243 1407.47 Q84.0938 1410.59 83.7466 1416.91 Q85.1123 1414.9 87.1725 1413.83 Q89.2327 1412.74 91.7095 1412.74 Q96.9178 1412.74 99.927 1415.91 Q102.959 1419.06 102.959 1424.5 Q102.959 1429.83 99.8113 1433.04 Q96.6632 1436.26 91.4317 1436.26 Q85.4364 1436.26 82.2651 1431.68 Q79.0938 1427.07 79.0938 1418.35 Q79.0938 1410.15 82.9827 1405.29 Q86.8716 1400.41 93.4225 1400.41 Q95.1817 1400.41 96.9641 1400.75 Q98.7696 1401.1 100.714 1401.79 Z\" fill=\"#000000\" fill-rule=\"evenodd\" fill-opacity=\"1\" /><path clip-path=\"url(#clip260)\" d=\"M80.7373 1318.99 L102.959 1318.99 L102.959 1320.98 L90.4132 1353.55 L85.529 1353.55 L97.3345 1322.92 L80.7373 1322.92 L80.7373 1318.99 Z\" fill=\"#000000\" fill-rule=\"evenodd\" fill-opacity=\"1\" /><path clip-path=\"url(#clip260)\" d=\"M91.1077 1255.09 Q87.7743 1255.09 85.8531 1256.87 Q83.9549 1258.66 83.9549 1261.78 Q83.9549 1264.91 85.8531 1266.69 Q87.7743 1268.47 91.1077 1268.47 Q94.441 1268.47 96.3623 1266.69 Q98.2835 1264.88 98.2835 1261.78 Q98.2835 1258.66 96.3623 1256.87 Q94.4641 1255.09 91.1077 1255.09 M86.4318 1253.1 Q83.4225 1252.36 81.7327 1250.3 Q80.066 1248.24 80.066 1245.28 Q80.066 1241.13 83.0058 1238.73 Q85.9688 1236.32 91.1077 1236.32 Q96.2697 1236.32 99.2095 1238.73 Q102.149 1241.13 102.149 1245.28 Q102.149 1248.24 100.459 1250.3 Q98.7928 1252.36 95.8067 1253.1 Q99.1863 1253.89 101.061 1256.18 Q102.959 1258.47 102.959 1261.78 Q102.959 1266.8 99.8808 1269.49 Q96.8252 1272.17 91.1077 1272.17 Q85.3901 1272.17 82.3114 1269.49 Q79.2559 1266.8 79.2559 1261.78 Q79.2559 1258.47 81.154 1256.18 Q83.0521 1253.89 86.4318 1253.1 M84.7188 1245.72 Q84.7188 1248.4 86.3855 1249.91 Q88.0753 1251.41 91.1077 1251.41 Q94.1169 1251.41 95.8067 1249.91 Q97.5197 1248.4 97.5197 1245.72 Q97.5197 1243.03 95.8067 1241.53 Q94.1169 1240.02 91.1077 1240.02 Q88.0753 1240.02 86.3855 1241.53 Q84.7188 1243.03 84.7188 1245.72 Z\" fill=\"#000000\" fill-rule=\"evenodd\" fill-opacity=\"1\" /><path clip-path=\"url(#clip260)\" d=\"M81.3392 1188.74 L81.3392 1184.48 Q83.0984 1185.32 84.904 1185.76 Q86.7095 1186.19 88.4456 1186.19 Q93.0752 1186.19 95.5058 1183.09 Q97.9595 1179.97 98.3067 1173.63 Q96.9641 1175.62 94.9039 1176.68 Q92.8438 1177.75 90.3438 1177.75 Q85.1586 1177.75 82.1262 1174.62 Q79.117 1171.47 79.117 1166.03 Q79.117 1160.71 82.2651 1157.49 Q85.4132 1154.27 90.6447 1154.27 Q96.64 1154.27 99.7882 1158.88 Q102.959 1163.46 102.959 1172.21 Q102.959 1180.38 99.0706 1185.27 Q95.2049 1190.13 88.654 1190.13 Q86.8947 1190.13 85.0892 1189.78 Q83.2836 1189.44 81.3392 1188.74 M90.6447 1174.09 Q93.7928 1174.09 95.6215 1171.94 Q97.4734 1169.78 97.4734 1166.03 Q97.4734 1162.31 95.6215 1160.15 Q93.7928 1157.98 90.6447 1157.98 Q87.4966 1157.98 85.6447 1160.15 Q83.816 1162.31 83.816 1166.03 Q83.816 1169.78 85.6447 1171.94 Q87.4966 1174.09 90.6447 1174.09 Z\" fill=\"#000000\" fill-rule=\"evenodd\" fill-opacity=\"1\" /><path clip-path=\"url(#clip260)\" d=\"M51.6634 1103.48 L59.3023 1103.48 L59.3023 1077.11 L50.9921 1078.78 L50.9921 1074.52 L59.256 1072.85 L63.9319 1072.85 L63.9319 1103.48 L71.5707 1103.48 L71.5707 1107.41 L51.6634 1107.41 L51.6634 1103.48 Z\" fill=\"#000000\" fill-rule=\"evenodd\" fill-opacity=\"1\" /><path clip-path=\"url(#clip260)\" d=\"M91.0151 1075.93 Q87.404 1075.93 85.5753 1079.5 Q83.7697 1083.04 83.7697 1090.17 Q83.7697 1097.28 85.5753 1100.84 Q87.404 1104.38 91.0151 1104.38 Q94.6493 1104.38 96.4548 1100.84 Q98.2835 1097.28 98.2835 1090.17 Q98.2835 1083.04 96.4548 1079.5 Q94.6493 1075.93 91.0151 1075.93 M91.0151 1072.23 Q96.8252 1072.23 99.8808 1076.84 Q102.959 1081.42 102.959 1090.17 Q102.959 1098.9 99.8808 1103.5 Q96.8252 1108.09 91.0151 1108.09 Q85.2049 1108.09 82.1262 1103.5 Q79.0707 1098.9 79.0707 1090.17 Q79.0707 1081.42 82.1262 1076.84 Q85.2049 1072.23 91.0151 1072.23 Z\" fill=\"#000000\" fill-rule=\"evenodd\" fill-opacity=\"1\" /><path clip-path=\"url(#clip260)\" d=\"M52.8903 1021.44 L60.5291 1021.44 L60.5291 995.07 L52.219 996.737 L52.219 992.478 L60.4828 990.811 L65.1587 990.811 L65.1587 1021.44 L72.7976 1021.44 L72.7976 1025.37 L52.8903 1025.37 L52.8903 1021.44 Z\" fill=\"#000000\" fill-rule=\"evenodd\" fill-opacity=\"1\" /><path clip-path=\"url(#clip260)\" d=\"M83.0521 1021.44 L90.691 1021.44 L90.691 995.07 L82.3808 996.737 L82.3808 992.478 L90.6447 990.811 L95.3206 990.811 L95.3206 1021.44 L102.959 1021.44 L102.959 1025.37 L83.0521 1025.37 L83.0521 1021.44 Z\" fill=\"#000000\" fill-rule=\"evenodd\" fill-opacity=\"1\" /><path clip-path=\"url(#clip260)\" d=\"M53.2606 939.392 L60.8995 939.392 L60.8995 913.026 L52.5893 914.693 L52.5893 910.434 L60.8532 908.767 L65.5291 908.767 L65.5291 939.392 L73.1679 939.392 L73.1679 943.327 L53.2606 943.327 L53.2606 939.392 Z\" fill=\"#000000\" fill-rule=\"evenodd\" fill-opacity=\"1\" /><path clip-path=\"url(#clip260)\" d=\"M86.6401 939.392 L102.959 939.392 L102.959 943.327 L81.0151 943.327 L81.0151 939.392 Q83.6771 936.637 88.2604 932.008 Q92.8669 927.355 94.0475 926.013 Q96.2928 923.489 97.1724 921.753 Q98.0752 919.994 98.0752 918.304 Q98.0752 915.55 96.1308 913.813 Q94.2095 912.077 91.1077 912.077 Q88.9086 912.077 86.4549 912.841 Q84.0244 913.605 81.2466 915.156 L81.2466 910.434 Q84.0707 909.3 86.5243 908.721 Q88.978 908.142 91.0151 908.142 Q96.3854 908.142 99.5798 910.827 Q102.774 913.513 102.774 918.003 Q102.774 920.133 101.964 922.054 Q101.177 923.952 99.0706 926.545 Q98.4919 927.216 95.39 930.434 Q92.2882 933.628 86.6401 939.392 Z\" fill=\"#000000\" fill-rule=\"evenodd\" fill-opacity=\"1\" /><circle clip-path=\"url(#clip264)\" cx=\"741.499\" cy=\"1298.53\" r=\"14.4\" fill=\"#009af9\" fill-rule=\"evenodd\" fill-opacity=\"1\" stroke=\"#000000\" stroke-opacity=\"1\" stroke-width=\"3.2\"/>\n",
       "<circle clip-path=\"url(#clip264)\" cx=\"550.216\" cy=\"1355.14\" r=\"14.4\" fill=\"#009af9\" fill-rule=\"evenodd\" fill-opacity=\"1\" stroke=\"#000000\" stroke-opacity=\"1\" stroke-width=\"3.2\"/>\n",
       "<circle clip-path=\"url(#clip264)\" cx=\"1028.42\" cy=\"865.335\" r=\"14.4\" fill=\"#009af9\" fill-rule=\"evenodd\" fill-opacity=\"1\" stroke=\"#000000\" stroke-opacity=\"1\" stroke-width=\"3.2\"/>\n",
       "<circle clip-path=\"url(#clip264)\" cx=\"645.858\" cy=\"1327.24\" r=\"14.4\" fill=\"#009af9\" fill-rule=\"evenodd\" fill-opacity=\"1\" stroke=\"#000000\" stroke-opacity=\"1\" stroke-width=\"3.2\"/>\n",
       "<circle clip-path=\"url(#clip264)\" cx=\"837.14\" cy=\"1269.81\" r=\"14.4\" fill=\"#009af9\" fill-rule=\"evenodd\" fill-opacity=\"1\" stroke=\"#000000\" stroke-opacity=\"1\" stroke-width=\"3.2\"/>\n",
       "<circle clip-path=\"url(#clip264)\" cx=\"1124.06\" cy=\"1185.31\" r=\"14.4\" fill=\"#009af9\" fill-rule=\"evenodd\" fill-opacity=\"1\" stroke=\"#000000\" stroke-opacity=\"1\" stroke-width=\"3.2\"/>\n",
       "<circle clip-path=\"url(#clip264)\" cx=\"358.934\" cy=\"1411.75\" r=\"14.4\" fill=\"#009af9\" fill-rule=\"evenodd\" fill-opacity=\"1\" stroke=\"#000000\" stroke-opacity=\"1\" stroke-width=\"3.2\"/>\n",
       "<circle clip-path=\"url(#clip264)\" cx=\"167.652\" cy=\"1468.36\" r=\"14.4\" fill=\"#009af9\" fill-rule=\"evenodd\" fill-opacity=\"1\" stroke=\"#000000\" stroke-opacity=\"1\" stroke-width=\"3.2\"/>\n",
       "<circle clip-path=\"url(#clip264)\" cx=\"932.781\" cy=\"1241.92\" r=\"14.4\" fill=\"#009af9\" fill-rule=\"evenodd\" fill-opacity=\"1\" stroke=\"#000000\" stroke-opacity=\"1\" stroke-width=\"3.2\"/>\n",
       "<circle clip-path=\"url(#clip264)\" cx=\"454.575\" cy=\"1383.85\" r=\"14.4\" fill=\"#009af9\" fill-rule=\"evenodd\" fill-opacity=\"1\" stroke=\"#000000\" stroke-opacity=\"1\" stroke-width=\"3.2\"/>\n",
       "<circle clip-path=\"url(#clip264)\" cx=\"263.293\" cy=\"1440.46\" r=\"14.4\" fill=\"#009af9\" fill-rule=\"evenodd\" fill-opacity=\"1\" stroke=\"#000000\" stroke-opacity=\"1\" stroke-width=\"3.2\"/>\n",
       "<path clip-path=\"url(#clip260)\" d=\"M1338.96 1486.45 L2352.76 1486.45 L2352.76 847.244 L1338.96 847.244  Z\" fill=\"#ffffff\" fill-rule=\"evenodd\" fill-opacity=\"1\"/>\n",
       "<defs>\n",
       "  <clipPath id=\"clip265\">\n",
       "    <rect x=\"1338\" y=\"847\" width=\"1015\" height=\"640\"/>\n",
       "  </clipPath>\n",
       "</defs>\n",
       "<polyline clip-path=\"url(#clip265)\" style=\"stroke:#000000; stroke-linecap:round; stroke-linejoin:round; stroke-width:2; stroke-opacity:0.1; fill:none\" points=\"1541.54,1486.45 1541.54,847.244 \"/>\n",
       "<polyline clip-path=\"url(#clip265)\" style=\"stroke:#000000; stroke-linecap:round; stroke-linejoin:round; stroke-width:2; stroke-opacity:0.1; fill:none\" points=\"1758.91,1486.45 1758.91,847.244 \"/>\n",
       "<polyline clip-path=\"url(#clip265)\" style=\"stroke:#000000; stroke-linecap:round; stroke-linejoin:round; stroke-width:2; stroke-opacity:0.1; fill:none\" points=\"1976.28,1486.45 1976.28,847.244 \"/>\n",
       "<polyline clip-path=\"url(#clip265)\" style=\"stroke:#000000; stroke-linecap:round; stroke-linejoin:round; stroke-width:2; stroke-opacity:0.1; fill:none\" points=\"2193.64,1486.45 2193.64,847.244 \"/>\n",
       "<polyline clip-path=\"url(#clip260)\" style=\"stroke:#000000; stroke-linecap:round; stroke-linejoin:round; stroke-width:4; stroke-opacity:1; fill:none\" points=\"1338.96,1486.45 2352.76,1486.45 \"/>\n",
       "<polyline clip-path=\"url(#clip260)\" style=\"stroke:#000000; stroke-linecap:round; stroke-linejoin:round; stroke-width:4; stroke-opacity:1; fill:none\" points=\"1541.54,1486.45 1541.54,1467.55 \"/>\n",
       "<polyline clip-path=\"url(#clip260)\" style=\"stroke:#000000; stroke-linecap:round; stroke-linejoin:round; stroke-width:4; stroke-opacity:1; fill:none\" points=\"1758.91,1486.45 1758.91,1467.55 \"/>\n",
       "<polyline clip-path=\"url(#clip260)\" style=\"stroke:#000000; stroke-linecap:round; stroke-linejoin:round; stroke-width:4; stroke-opacity:1; fill:none\" points=\"1976.28,1486.45 1976.28,1467.55 \"/>\n",
       "<polyline clip-path=\"url(#clip260)\" style=\"stroke:#000000; stroke-linecap:round; stroke-linejoin:round; stroke-width:4; stroke-opacity:1; fill:none\" points=\"2193.64,1486.45 2193.64,1467.55 \"/>\n",
       "<path clip-path=\"url(#clip260)\" d=\"M1493.62 1544.91 L1501.26 1544.91 L1501.26 1518.55 L1492.95 1520.21 L1492.95 1515.95 L1501.21 1514.29 L1505.89 1514.29 L1505.89 1544.91 L1513.52 1544.91 L1513.52 1548.85 L1493.62 1548.85 L1493.62 1544.91 Z\" fill=\"#000000\" fill-rule=\"evenodd\" fill-opacity=\"1\" /><path clip-path=\"url(#clip260)\" d=\"M1532.97 1517.37 Q1529.36 1517.37 1527.53 1520.93 Q1525.72 1524.47 1525.72 1531.6 Q1525.72 1538.71 1527.53 1542.27 Q1529.36 1545.82 1532.97 1545.82 Q1536.6 1545.82 1538.41 1542.27 Q1540.24 1538.71 1540.24 1531.6 Q1540.24 1524.47 1538.41 1520.93 Q1536.6 1517.37 1532.97 1517.37 M1532.97 1513.66 Q1538.78 1513.66 1541.83 1518.27 Q1544.91 1522.85 1544.91 1531.6 Q1544.91 1540.33 1541.83 1544.94 Q1538.78 1549.52 1532.97 1549.52 Q1527.16 1549.52 1524.08 1544.94 Q1521.02 1540.33 1521.02 1531.6 Q1521.02 1522.85 1524.08 1518.27 Q1527.16 1513.66 1532.97 1513.66 Z\" fill=\"#000000\" fill-rule=\"evenodd\" fill-opacity=\"1\" /><path clip-path=\"url(#clip260)\" d=\"M1553.13 1542.97 L1558.01 1542.97 L1558.01 1548.85 L1553.13 1548.85 L1553.13 1542.97 Z\" fill=\"#000000\" fill-rule=\"evenodd\" fill-opacity=\"1\" /><path clip-path=\"url(#clip260)\" d=\"M1578.2 1517.37 Q1574.59 1517.37 1572.76 1520.93 Q1570.95 1524.47 1570.95 1531.6 Q1570.95 1538.71 1572.76 1542.27 Q1574.59 1545.82 1578.2 1545.82 Q1581.83 1545.82 1583.64 1542.27 Q1585.47 1538.71 1585.47 1531.6 Q1585.47 1524.47 1583.64 1520.93 Q1581.83 1517.37 1578.2 1517.37 M1578.2 1513.66 Q1584.01 1513.66 1587.07 1518.27 Q1590.14 1522.85 1590.14 1531.6 Q1590.14 1540.33 1587.07 1544.94 Q1584.01 1549.52 1578.2 1549.52 Q1572.39 1549.52 1569.31 1544.94 Q1566.26 1540.33 1566.26 1531.6 Q1566.26 1522.85 1569.31 1518.27 Q1572.39 1513.66 1578.2 1513.66 Z\" fill=\"#000000\" fill-rule=\"evenodd\" fill-opacity=\"1\" /><path clip-path=\"url(#clip260)\" d=\"M1711.48 1544.91 L1719.12 1544.91 L1719.12 1518.55 L1710.81 1520.21 L1710.81 1515.95 L1719.07 1514.29 L1723.75 1514.29 L1723.75 1544.91 L1731.39 1544.91 L1731.39 1548.85 L1711.48 1548.85 L1711.48 1544.91 Z\" fill=\"#000000\" fill-rule=\"evenodd\" fill-opacity=\"1\" /><path clip-path=\"url(#clip260)\" d=\"M1744.86 1544.91 L1761.18 1544.91 L1761.18 1548.85 L1739.24 1548.85 L1739.24 1544.91 Q1741.9 1542.16 1746.48 1537.53 Q1751.09 1532.88 1752.27 1531.53 Q1754.51 1529.01 1755.39 1527.27 Q1756.3 1525.51 1756.3 1523.82 Q1756.3 1521.07 1754.35 1519.33 Q1752.43 1517.6 1749.33 1517.6 Q1747.13 1517.6 1744.68 1518.36 Q1742.24 1519.13 1739.47 1520.68 L1739.47 1515.95 Q1742.29 1514.82 1744.74 1514.24 Q1747.2 1513.66 1749.24 1513.66 Q1754.61 1513.66 1757.8 1516.35 Q1760.99 1519.03 1760.99 1523.52 Q1760.99 1525.65 1760.18 1527.57 Q1759.4 1529.47 1757.29 1532.07 Q1756.71 1532.74 1753.61 1535.95 Q1750.51 1539.15 1744.86 1544.91 Z\" fill=\"#000000\" fill-rule=\"evenodd\" fill-opacity=\"1\" /><path clip-path=\"url(#clip260)\" d=\"M1770.99 1542.97 L1775.88 1542.97 L1775.88 1548.85 L1770.99 1548.85 L1770.99 1542.97 Z\" fill=\"#000000\" fill-rule=\"evenodd\" fill-opacity=\"1\" /><path clip-path=\"url(#clip260)\" d=\"M1786.11 1514.29 L1804.47 1514.29 L1804.47 1518.22 L1790.39 1518.22 L1790.39 1526.7 Q1791.41 1526.35 1792.43 1526.19 Q1793.45 1526 1794.47 1526 Q1800.25 1526 1803.63 1529.17 Q1807.01 1532.34 1807.01 1537.76 Q1807.01 1543.34 1803.54 1546.44 Q1800.07 1549.52 1793.75 1549.52 Q1791.57 1549.52 1789.3 1549.15 Q1787.06 1548.78 1784.65 1548.04 L1784.65 1543.34 Q1786.74 1544.47 1788.96 1545.03 Q1791.18 1545.58 1793.66 1545.58 Q1797.66 1545.58 1800 1543.48 Q1802.34 1541.37 1802.34 1537.76 Q1802.34 1534.15 1800 1532.04 Q1797.66 1529.94 1793.66 1529.94 Q1791.78 1529.94 1789.91 1530.35 Q1788.05 1530.77 1786.11 1531.65 L1786.11 1514.29 Z\" fill=\"#000000\" fill-rule=\"evenodd\" fill-opacity=\"1\" /><path clip-path=\"url(#clip260)\" d=\"M1928.35 1544.91 L1935.99 1544.91 L1935.99 1518.55 L1927.68 1520.21 L1927.68 1515.95 L1935.94 1514.29 L1940.62 1514.29 L1940.62 1544.91 L1948.26 1544.91 L1948.26 1548.85 L1928.35 1548.85 L1928.35 1544.91 Z\" fill=\"#000000\" fill-rule=\"evenodd\" fill-opacity=\"1\" /><path clip-path=\"url(#clip260)\" d=\"M1957.75 1514.29 L1976.1 1514.29 L1976.1 1518.22 L1962.03 1518.22 L1962.03 1526.7 Q1963.05 1526.35 1964.07 1526.19 Q1965.09 1526 1966.1 1526 Q1971.89 1526 1975.27 1529.17 Q1978.65 1532.34 1978.65 1537.76 Q1978.65 1543.34 1975.18 1546.44 Q1971.71 1549.52 1965.39 1549.52 Q1963.21 1549.52 1960.94 1549.15 Q1958.7 1548.78 1956.29 1548.04 L1956.29 1543.34 Q1958.37 1544.47 1960.59 1545.03 Q1962.82 1545.58 1965.29 1545.58 Q1969.3 1545.58 1971.64 1543.48 Q1973.97 1541.37 1973.97 1537.76 Q1973.97 1534.15 1971.64 1532.04 Q1969.3 1529.94 1965.29 1529.94 Q1963.42 1529.94 1961.54 1530.35 Q1959.69 1530.77 1957.75 1531.65 L1957.75 1514.29 Z\" fill=\"#000000\" fill-rule=\"evenodd\" fill-opacity=\"1\" /><path clip-path=\"url(#clip260)\" d=\"M1987.86 1542.97 L1992.75 1542.97 L1992.75 1548.85 L1987.86 1548.85 L1987.86 1542.97 Z\" fill=\"#000000\" fill-rule=\"evenodd\" fill-opacity=\"1\" /><path clip-path=\"url(#clip260)\" d=\"M2012.93 1517.37 Q2009.32 1517.37 2007.49 1520.93 Q2005.69 1524.47 2005.69 1531.6 Q2005.69 1538.71 2007.49 1542.27 Q2009.32 1545.82 2012.93 1545.82 Q2016.57 1545.82 2018.37 1542.27 Q2020.2 1538.71 2020.2 1531.6 Q2020.2 1524.47 2018.37 1520.93 Q2016.57 1517.37 2012.93 1517.37 M2012.93 1513.66 Q2018.74 1513.66 2021.8 1518.27 Q2024.88 1522.85 2024.88 1531.6 Q2024.88 1540.33 2021.8 1544.94 Q2018.74 1549.52 2012.93 1549.52 Q2007.12 1549.52 2004.04 1544.94 Q2000.99 1540.33 2000.99 1531.6 Q2000.99 1522.85 2004.04 1518.27 Q2007.12 1513.66 2012.93 1513.66 Z\" fill=\"#000000\" fill-rule=\"evenodd\" fill-opacity=\"1\" /><path clip-path=\"url(#clip260)\" d=\"M2146.21 1544.91 L2153.85 1544.91 L2153.85 1518.55 L2145.54 1520.21 L2145.54 1515.95 L2153.81 1514.29 L2158.48 1514.29 L2158.48 1544.91 L2166.12 1544.91 L2166.12 1548.85 L2146.21 1548.85 L2146.21 1544.91 Z\" fill=\"#000000\" fill-rule=\"evenodd\" fill-opacity=\"1\" /><path clip-path=\"url(#clip260)\" d=\"M2174.38 1514.29 L2196.61 1514.29 L2196.61 1516.28 L2184.06 1548.85 L2179.18 1548.85 L2190.98 1518.22 L2174.38 1518.22 L2174.38 1514.29 Z\" fill=\"#000000\" fill-rule=\"evenodd\" fill-opacity=\"1\" /><path clip-path=\"url(#clip260)\" d=\"M2205.73 1542.97 L2210.61 1542.97 L2210.61 1548.85 L2205.73 1548.85 L2205.73 1542.97 Z\" fill=\"#000000\" fill-rule=\"evenodd\" fill-opacity=\"1\" /><path clip-path=\"url(#clip260)\" d=\"M2220.84 1514.29 L2239.2 1514.29 L2239.2 1518.22 L2225.13 1518.22 L2225.13 1526.7 Q2226.14 1526.35 2227.16 1526.19 Q2228.18 1526 2229.2 1526 Q2234.99 1526 2238.37 1529.17 Q2241.75 1532.34 2241.75 1537.76 Q2241.75 1543.34 2238.27 1546.44 Q2234.8 1549.52 2228.48 1549.52 Q2226.31 1549.52 2224.04 1549.15 Q2221.79 1548.78 2219.38 1548.04 L2219.38 1543.34 Q2221.47 1544.47 2223.69 1545.03 Q2225.91 1545.58 2228.39 1545.58 Q2232.39 1545.58 2234.73 1543.48 Q2237.07 1541.37 2237.07 1537.76 Q2237.07 1534.15 2234.73 1532.04 Q2232.39 1529.94 2228.39 1529.94 Q2226.51 1529.94 2224.64 1530.35 Q2222.79 1530.77 2220.84 1531.65 L2220.84 1514.29 Z\" fill=\"#000000\" fill-rule=\"evenodd\" fill-opacity=\"1\" /><polyline clip-path=\"url(#clip265)\" style=\"stroke:#000000; stroke-linecap:round; stroke-linejoin:round; stroke-width:2; stroke-opacity:0.1; fill:none\" points=\"1338.96,1405.98 2352.76,1405.98 \"/>\n",
       "<polyline clip-path=\"url(#clip265)\" style=\"stroke:#000000; stroke-linecap:round; stroke-linejoin:round; stroke-width:2; stroke-opacity:0.1; fill:none\" points=\"1338.96,1322.8 2352.76,1322.8 \"/>\n",
       "<polyline clip-path=\"url(#clip265)\" style=\"stroke:#000000; stroke-linecap:round; stroke-linejoin:round; stroke-width:2; stroke-opacity:0.1; fill:none\" points=\"1338.96,1239.62 2352.76,1239.62 \"/>\n",
       "<polyline clip-path=\"url(#clip265)\" style=\"stroke:#000000; stroke-linecap:round; stroke-linejoin:round; stroke-width:2; stroke-opacity:0.1; fill:none\" points=\"1338.96,1156.45 2352.76,1156.45 \"/>\n",
       "<polyline clip-path=\"url(#clip265)\" style=\"stroke:#000000; stroke-linecap:round; stroke-linejoin:round; stroke-width:2; stroke-opacity:0.1; fill:none\" points=\"1338.96,1073.27 2352.76,1073.27 \"/>\n",
       "<polyline clip-path=\"url(#clip265)\" style=\"stroke:#000000; stroke-linecap:round; stroke-linejoin:round; stroke-width:2; stroke-opacity:0.1; fill:none\" points=\"1338.96,990.098 2352.76,990.098 \"/>\n",
       "<polyline clip-path=\"url(#clip265)\" style=\"stroke:#000000; stroke-linecap:round; stroke-linejoin:round; stroke-width:2; stroke-opacity:0.1; fill:none\" points=\"1338.96,906.923 2352.76,906.923 \"/>\n",
       "<polyline clip-path=\"url(#clip260)\" style=\"stroke:#000000; stroke-linecap:round; stroke-linejoin:round; stroke-width:4; stroke-opacity:1; fill:none\" points=\"1338.96,1486.45 1338.96,847.244 \"/>\n",
       "<polyline clip-path=\"url(#clip260)\" style=\"stroke:#000000; stroke-linecap:round; stroke-linejoin:round; stroke-width:4; stroke-opacity:1; fill:none\" points=\"1338.96,1405.98 1357.86,1405.98 \"/>\n",
       "<polyline clip-path=\"url(#clip260)\" style=\"stroke:#000000; stroke-linecap:round; stroke-linejoin:round; stroke-width:4; stroke-opacity:1; fill:none\" points=\"1338.96,1322.8 1357.86,1322.8 \"/>\n",
       "<polyline clip-path=\"url(#clip260)\" style=\"stroke:#000000; stroke-linecap:round; stroke-linejoin:round; stroke-width:4; stroke-opacity:1; fill:none\" points=\"1338.96,1239.62 1357.86,1239.62 \"/>\n",
       "<polyline clip-path=\"url(#clip260)\" style=\"stroke:#000000; stroke-linecap:round; stroke-linejoin:round; stroke-width:4; stroke-opacity:1; fill:none\" points=\"1338.96,1156.45 1357.86,1156.45 \"/>\n",
       "<polyline clip-path=\"url(#clip260)\" style=\"stroke:#000000; stroke-linecap:round; stroke-linejoin:round; stroke-width:4; stroke-opacity:1; fill:none\" points=\"1338.96,1073.27 1357.86,1073.27 \"/>\n",
       "<polyline clip-path=\"url(#clip260)\" style=\"stroke:#000000; stroke-linecap:round; stroke-linejoin:round; stroke-width:4; stroke-opacity:1; fill:none\" points=\"1338.96,990.098 1357.86,990.098 \"/>\n",
       "<polyline clip-path=\"url(#clip260)\" style=\"stroke:#000000; stroke-linecap:round; stroke-linejoin:round; stroke-width:4; stroke-opacity:1; fill:none\" points=\"1338.96,906.923 1357.86,906.923 \"/>\n",
       "<path clip-path=\"url(#clip260)\" d=\"M1291.43 1404.11 Q1288.28 1404.11 1286.43 1406.26 Q1284.6 1408.42 1284.6 1412.17 Q1284.6 1415.89 1286.43 1418.07 Q1288.28 1420.22 1291.43 1420.22 Q1294.58 1420.22 1296.41 1418.07 Q1298.26 1415.89 1298.26 1412.17 Q1298.26 1408.42 1296.41 1406.26 Q1294.58 1404.11 1291.43 1404.11 M1300.71 1389.46 L1300.71 1393.72 Q1298.95 1392.89 1297.15 1392.45 Q1295.37 1392.01 1293.61 1392.01 Q1288.98 1392.01 1286.52 1395.13 Q1284.09 1398.26 1283.75 1404.58 Q1285.11 1402.56 1287.17 1401.5 Q1289.23 1400.41 1291.71 1400.41 Q1296.92 1400.41 1299.93 1403.58 Q1302.96 1406.73 1302.96 1412.17 Q1302.96 1417.49 1299.81 1420.71 Q1296.66 1423.93 1291.43 1423.93 Q1285.44 1423.93 1282.27 1419.34 Q1279.09 1414.74 1279.09 1406.01 Q1279.09 1397.82 1282.98 1392.95 Q1286.87 1388.07 1293.42 1388.07 Q1295.18 1388.07 1296.96 1388.42 Q1298.77 1388.77 1300.71 1389.46 Z\" fill=\"#000000\" fill-rule=\"evenodd\" fill-opacity=\"1\" /><path clip-path=\"url(#clip260)\" d=\"M1280.74 1305.52 L1302.96 1305.52 L1302.96 1307.51 L1290.41 1340.08 L1285.53 1340.08 L1297.33 1309.46 L1280.74 1309.46 L1280.74 1305.52 Z\" fill=\"#000000\" fill-rule=\"evenodd\" fill-opacity=\"1\" /><path clip-path=\"url(#clip260)\" d=\"M1291.11 1240.49 Q1287.77 1240.49 1285.85 1242.28 Q1283.95 1244.06 1283.95 1247.18 Q1283.95 1250.31 1285.85 1252.09 Q1287.77 1253.87 1291.11 1253.87 Q1294.44 1253.87 1296.36 1252.09 Q1298.28 1250.28 1298.28 1247.18 Q1298.28 1244.06 1296.36 1242.28 Q1294.46 1240.49 1291.11 1240.49 M1286.43 1238.5 Q1283.42 1237.76 1281.73 1235.7 Q1280.07 1233.64 1280.07 1230.68 Q1280.07 1226.53 1283.01 1224.13 Q1285.97 1221.72 1291.11 1221.72 Q1296.27 1221.72 1299.21 1224.13 Q1302.15 1226.53 1302.15 1230.68 Q1302.15 1233.64 1300.46 1235.7 Q1298.79 1237.76 1295.81 1238.5 Q1299.19 1239.29 1301.06 1241.58 Q1302.96 1243.87 1302.96 1247.18 Q1302.96 1252.21 1299.88 1254.89 Q1296.83 1257.58 1291.11 1257.58 Q1285.39 1257.58 1282.31 1254.89 Q1279.26 1252.21 1279.26 1247.18 Q1279.26 1243.87 1281.15 1241.58 Q1283.05 1239.29 1286.43 1238.5 M1284.72 1231.12 Q1284.72 1233.8 1286.39 1235.31 Q1288.08 1236.81 1291.11 1236.81 Q1294.12 1236.81 1295.81 1235.31 Q1297.52 1233.8 1297.52 1231.12 Q1297.52 1228.43 1295.81 1226.93 Q1294.12 1225.42 1291.11 1225.42 Q1288.08 1225.42 1286.39 1226.93 Q1284.72 1228.43 1284.72 1231.12 Z\" fill=\"#000000\" fill-rule=\"evenodd\" fill-opacity=\"1\" /><path clip-path=\"url(#clip260)\" d=\"M1281.34 1173.01 L1281.34 1168.75 Q1283.1 1169.59 1284.9 1170.03 Q1286.71 1170.47 1288.45 1170.47 Q1293.08 1170.47 1295.51 1167.36 Q1297.96 1164.24 1298.31 1157.9 Q1296.96 1159.89 1294.9 1160.95 Q1292.84 1162.02 1290.34 1162.02 Q1285.16 1162.02 1282.13 1158.89 Q1279.12 1155.74 1279.12 1150.3 Q1279.12 1144.98 1282.27 1141.76 Q1285.41 1138.54 1290.64 1138.54 Q1296.64 1138.54 1299.79 1143.15 Q1302.96 1147.73 1302.96 1156.48 Q1302.96 1164.66 1299.07 1169.54 Q1295.2 1174.4 1288.65 1174.4 Q1286.89 1174.4 1285.09 1174.05 Q1283.28 1173.71 1281.34 1173.01 M1290.64 1158.36 Q1293.79 1158.36 1295.62 1156.21 Q1297.47 1154.05 1297.47 1150.3 Q1297.47 1146.58 1295.62 1144.42 Q1293.79 1142.25 1290.64 1142.25 Q1287.5 1142.25 1285.64 1144.42 Q1283.82 1146.58 1283.82 1150.3 Q1283.82 1154.05 1285.64 1156.21 Q1287.5 1158.36 1290.64 1158.36 Z\" fill=\"#000000\" fill-rule=\"evenodd\" fill-opacity=\"1\" /><path clip-path=\"url(#clip260)\" d=\"M1251.66 1086.62 L1259.3 1086.62 L1259.3 1060.25 L1250.99 1061.92 L1250.99 1057.66 L1259.26 1055.99 L1263.93 1055.99 L1263.93 1086.62 L1271.57 1086.62 L1271.57 1090.55 L1251.66 1090.55 L1251.66 1086.62 Z\" fill=\"#000000\" fill-rule=\"evenodd\" fill-opacity=\"1\" /><path clip-path=\"url(#clip260)\" d=\"M1291.02 1059.07 Q1287.4 1059.07 1285.58 1062.64 Q1283.77 1066.18 1283.77 1073.31 Q1283.77 1080.41 1285.58 1083.98 Q1287.4 1087.52 1291.02 1087.52 Q1294.65 1087.52 1296.45 1083.98 Q1298.28 1080.41 1298.28 1073.31 Q1298.28 1066.18 1296.45 1062.64 Q1294.65 1059.07 1291.02 1059.07 M1291.02 1055.37 Q1296.83 1055.37 1299.88 1059.97 Q1302.96 1064.56 1302.96 1073.31 Q1302.96 1082.04 1299.88 1086.64 Q1296.83 1091.22 1291.02 1091.22 Q1285.2 1091.22 1282.13 1086.64 Q1279.07 1082.04 1279.07 1073.31 Q1279.07 1064.56 1282.13 1059.97 Q1285.2 1055.37 1291.02 1055.37 Z\" fill=\"#000000\" fill-rule=\"evenodd\" fill-opacity=\"1\" /><path clip-path=\"url(#clip260)\" d=\"M1252.89 1003.44 L1260.53 1003.44 L1260.53 977.077 L1252.22 978.744 L1252.22 974.485 L1260.48 972.818 L1265.16 972.818 L1265.16 1003.44 L1272.8 1003.44 L1272.8 1007.38 L1252.89 1007.38 L1252.89 1003.44 Z\" fill=\"#000000\" fill-rule=\"evenodd\" fill-opacity=\"1\" /><path clip-path=\"url(#clip260)\" d=\"M1283.05 1003.44 L1290.69 1003.44 L1290.69 977.077 L1282.38 978.744 L1282.38 974.485 L1290.64 972.818 L1295.32 972.818 L1295.32 1003.44 L1302.96 1003.44 L1302.96 1007.38 L1283.05 1007.38 L1283.05 1003.44 Z\" fill=\"#000000\" fill-rule=\"evenodd\" fill-opacity=\"1\" /><path clip-path=\"url(#clip260)\" d=\"M1253.26 920.267 L1260.9 920.267 L1260.9 893.902 L1252.59 895.568 L1252.59 891.309 L1260.85 889.643 L1265.53 889.643 L1265.53 920.267 L1273.17 920.267 L1273.17 924.203 L1253.26 924.203 L1253.26 920.267 Z\" fill=\"#000000\" fill-rule=\"evenodd\" fill-opacity=\"1\" /><path clip-path=\"url(#clip260)\" d=\"M1286.64 920.267 L1302.96 920.267 L1302.96 924.203 L1281.02 924.203 L1281.02 920.267 Q1283.68 917.513 1288.26 912.883 Q1292.87 908.23 1294.05 906.888 Q1296.29 904.365 1297.17 902.629 Q1298.08 900.869 1298.08 899.18 Q1298.08 896.425 1296.13 894.689 Q1294.21 892.953 1291.11 892.953 Q1288.91 892.953 1286.45 893.717 Q1284.02 894.48 1281.25 896.031 L1281.25 891.309 Q1284.07 890.175 1286.52 889.596 Q1288.98 889.018 1291.02 889.018 Q1296.39 889.018 1299.58 891.703 Q1302.77 894.388 1302.77 898.879 Q1302.77 901.008 1301.96 902.929 Q1301.18 904.828 1299.07 907.42 Q1298.49 908.091 1295.39 911.309 Q1292.29 914.503 1286.64 920.267 Z\" fill=\"#000000\" fill-rule=\"evenodd\" fill-opacity=\"1\" /><circle clip-path=\"url(#clip265)\" cx=\"1367.65\" cy=\"1357.73\" r=\"14.4\" fill=\"#009af9\" fill-rule=\"evenodd\" fill-opacity=\"1\" stroke=\"#000000\" stroke-opacity=\"1\" stroke-width=\"3.2\"/>\n",
       "<circle clip-path=\"url(#clip265)\" cx=\"1367.65\" cy=\"1425.94\" r=\"14.4\" fill=\"#009af9\" fill-rule=\"evenodd\" fill-opacity=\"1\" stroke=\"#000000\" stroke-opacity=\"1\" stroke-width=\"3.2\"/>\n",
       "<circle clip-path=\"url(#clip265)\" cx=\"1367.65\" cy=\"1263.75\" r=\"14.4\" fill=\"#009af9\" fill-rule=\"evenodd\" fill-opacity=\"1\" stroke=\"#000000\" stroke-opacity=\"1\" stroke-width=\"3.2\"/>\n",
       "<circle clip-path=\"url(#clip265)\" cx=\"1367.65\" cy=\"1169.76\" r=\"14.4\" fill=\"#009af9\" fill-rule=\"evenodd\" fill-opacity=\"1\" stroke=\"#000000\" stroke-opacity=\"1\" stroke-width=\"3.2\"/>\n",
       "<circle clip-path=\"url(#clip265)\" cx=\"1367.65\" cy=\"1200.53\" r=\"14.4\" fill=\"#009af9\" fill-rule=\"evenodd\" fill-opacity=\"1\" stroke=\"#000000\" stroke-opacity=\"1\" stroke-width=\"3.2\"/>\n",
       "<circle clip-path=\"url(#clip265)\" cx=\"1367.65\" cy=\"1319.47\" r=\"14.4\" fill=\"#009af9\" fill-rule=\"evenodd\" fill-opacity=\"1\" stroke=\"#000000\" stroke-opacity=\"1\" stroke-width=\"3.2\"/>\n",
       "<circle clip-path=\"url(#clip265)\" cx=\"1367.65\" cy=\"1468.36\" r=\"14.4\" fill=\"#009af9\" fill-rule=\"evenodd\" fill-opacity=\"1\" stroke=\"#000000\" stroke-opacity=\"1\" stroke-width=\"3.2\"/>\n",
       "<circle clip-path=\"url(#clip265)\" cx=\"2324.06\" cy=\"865.335\" r=\"14.4\" fill=\"#009af9\" fill-rule=\"evenodd\" fill-opacity=\"1\" stroke=\"#000000\" stroke-opacity=\"1\" stroke-width=\"3.2\"/>\n",
       "<circle clip-path=\"url(#clip265)\" cx=\"1367.65\" cy=\"1442.57\" r=\"14.4\" fill=\"#009af9\" fill-rule=\"evenodd\" fill-opacity=\"1\" stroke=\"#000000\" stroke-opacity=\"1\" stroke-width=\"3.2\"/>\n",
       "<circle clip-path=\"url(#clip265)\" cx=\"1367.65\" cy=\"1247.11\" r=\"14.4\" fill=\"#009af9\" fill-rule=\"evenodd\" fill-opacity=\"1\" stroke=\"#000000\" stroke-opacity=\"1\" stroke-width=\"3.2\"/>\n",
       "<circle clip-path=\"url(#clip265)\" cx=\"1367.65\" cy=\"1331.95\" r=\"14.4\" fill=\"#009af9\" fill-rule=\"evenodd\" fill-opacity=\"1\" stroke=\"#000000\" stroke-opacity=\"1\" stroke-width=\"3.2\"/>\n",
       "</svg>\n"
      ]
     },
     "execution_count": 33,
     "metadata": {},
     "output_type": "execute_result"
    }
   ],
   "source": [
    " plot(scatter(aq[:, 1], aq[:, 2]; legend=false),\n",
    "            scatter(aq[:, 3], aq[:, 4]; legend=false),\n",
    "            scatter(aq[:, 5], aq[:, 6]; legend=false),\n",
    "            scatter(aq[:, 7], aq[:, 8]; legend=false))"
   ]
  },
  {
   "cell_type": "code",
   "execution_count": 34,
   "id": "80212749",
   "metadata": {
    "scrolled": false
   },
   "outputs": [
    {
     "data": {
      "image/svg+xml": [
       "<?xml version=\"1.0\" encoding=\"utf-8\"?>\n",
       "<svg xmlns=\"http://www.w3.org/2000/svg\" xmlns:xlink=\"http://www.w3.org/1999/xlink\" width=\"600\" height=\"400\" viewBox=\"0 0 2400 1600\">\n",
       "<defs>\n",
       "  <clipPath id=\"clip300\">\n",
       "    <rect x=\"0\" y=\"0\" width=\"2400\" height=\"1600\"/>\n",
       "  </clipPath>\n",
       "</defs>\n",
       "<path clip-path=\"url(#clip300)\" d=\"M0 1600 L2400 1600 L2400 0 L0 0  Z\" fill=\"#ffffff\" fill-rule=\"evenodd\" fill-opacity=\"1\"/>\n",
       "<defs>\n",
       "  <clipPath id=\"clip301\">\n",
       "    <rect x=\"480\" y=\"0\" width=\"1681\" height=\"1600\"/>\n",
       "  </clipPath>\n",
       "</defs>\n",
       "<path clip-path=\"url(#clip300)\" d=\"M138.959 686.448 L1152.76 686.448 L1152.76 47.2441 L138.959 47.2441  Z\" fill=\"#ffffff\" fill-rule=\"evenodd\" fill-opacity=\"1\"/>\n",
       "<defs>\n",
       "  <clipPath id=\"clip302\">\n",
       "    <rect x=\"138\" y=\"47\" width=\"1015\" height=\"640\"/>\n",
       "  </clipPath>\n",
       "</defs>\n",
       "<polyline clip-path=\"url(#clip302)\" style=\"stroke:#000000; stroke-linecap:round; stroke-linejoin:round; stroke-width:2; stroke-opacity:0.1; fill:none\" points=\"263.293,686.448 263.293,47.2441 \"/>\n",
       "<polyline clip-path=\"url(#clip302)\" style=\"stroke:#000000; stroke-linecap:round; stroke-linejoin:round; stroke-width:2; stroke-opacity:0.1; fill:none\" points=\"502.396,686.448 502.396,47.2441 \"/>\n",
       "<polyline clip-path=\"url(#clip302)\" style=\"stroke:#000000; stroke-linecap:round; stroke-linejoin:round; stroke-width:2; stroke-opacity:0.1; fill:none\" points=\"741.499,686.448 741.499,47.2441 \"/>\n",
       "<polyline clip-path=\"url(#clip302)\" style=\"stroke:#000000; stroke-linecap:round; stroke-linejoin:round; stroke-width:2; stroke-opacity:0.1; fill:none\" points=\"980.602,686.448 980.602,47.2441 \"/>\n",
       "<polyline clip-path=\"url(#clip300)\" style=\"stroke:#000000; stroke-linecap:round; stroke-linejoin:round; stroke-width:4; stroke-opacity:1; fill:none\" points=\"138.959,686.448 1152.76,686.448 \"/>\n",
       "<polyline clip-path=\"url(#clip300)\" style=\"stroke:#000000; stroke-linecap:round; stroke-linejoin:round; stroke-width:4; stroke-opacity:1; fill:none\" points=\"263.293,686.448 263.293,667.55 \"/>\n",
       "<polyline clip-path=\"url(#clip300)\" style=\"stroke:#000000; stroke-linecap:round; stroke-linejoin:round; stroke-width:4; stroke-opacity:1; fill:none\" points=\"502.396,686.448 502.396,667.55 \"/>\n",
       "<polyline clip-path=\"url(#clip300)\" style=\"stroke:#000000; stroke-linecap:round; stroke-linejoin:round; stroke-width:4; stroke-opacity:1; fill:none\" points=\"741.499,686.448 741.499,667.55 \"/>\n",
       "<polyline clip-path=\"url(#clip300)\" style=\"stroke:#000000; stroke-linecap:round; stroke-linejoin:round; stroke-width:4; stroke-opacity:1; fill:none\" points=\"980.602,686.448 980.602,667.55 \"/>\n",
       "<path clip-path=\"url(#clip300)\" d=\"M230.457 714.288 L248.814 714.288 L248.814 718.223 L234.74 718.223 L234.74 726.695 Q235.758 726.348 236.777 726.186 Q237.795 726.001 238.814 726.001 Q244.601 726.001 247.981 729.172 Q251.36 732.343 251.36 737.76 Q251.36 743.339 247.888 746.44 Q244.416 749.519 238.096 749.519 Q235.92 749.519 233.652 749.149 Q231.407 748.778 228.999 748.038 L228.999 743.339 Q231.082 744.473 233.305 745.028 Q235.527 745.584 238.004 745.584 Q242.008 745.584 244.346 743.478 Q246.684 741.371 246.684 737.76 Q246.684 734.149 244.346 732.042 Q242.008 729.936 238.004 729.936 Q236.129 729.936 234.254 730.353 Q232.402 730.769 230.457 731.649 L230.457 714.288 Z\" fill=\"#000000\" fill-rule=\"evenodd\" fill-opacity=\"1\" /><path clip-path=\"url(#clip300)\" d=\"M260.573 742.968 L265.457 742.968 L265.457 748.848 L260.573 748.848 L260.573 742.968 Z\" fill=\"#000000\" fill-rule=\"evenodd\" fill-opacity=\"1\" /><path clip-path=\"url(#clip300)\" d=\"M285.642 717.367 Q282.031 717.367 280.203 720.931 Q278.397 724.473 278.397 731.603 Q278.397 738.709 280.203 742.274 Q282.031 745.815 285.642 745.815 Q289.277 745.815 291.082 742.274 Q292.911 738.709 292.911 731.603 Q292.911 724.473 291.082 720.931 Q289.277 717.367 285.642 717.367 M285.642 713.663 Q291.453 713.663 294.508 718.269 Q297.587 722.853 297.587 731.603 Q297.587 740.329 294.508 744.936 Q291.453 749.519 285.642 749.519 Q279.832 749.519 276.754 744.936 Q273.698 740.329 273.698 731.603 Q273.698 722.853 276.754 718.269 Q279.832 713.663 285.642 713.663 Z\" fill=\"#000000\" fill-rule=\"evenodd\" fill-opacity=\"1\" /><path clip-path=\"url(#clip300)\" d=\"M468.716 714.288 L490.938 714.288 L490.938 716.279 L478.391 748.848 L473.507 748.848 L485.313 718.223 L468.716 718.223 L468.716 714.288 Z\" fill=\"#000000\" fill-rule=\"evenodd\" fill-opacity=\"1\" /><path clip-path=\"url(#clip300)\" d=\"M500.058 742.968 L504.942 742.968 L504.942 748.848 L500.058 748.848 L500.058 742.968 Z\" fill=\"#000000\" fill-rule=\"evenodd\" fill-opacity=\"1\" /><path clip-path=\"url(#clip300)\" d=\"M515.174 714.288 L533.53 714.288 L533.53 718.223 L519.456 718.223 L519.456 726.695 Q520.475 726.348 521.493 726.186 Q522.512 726.001 523.53 726.001 Q529.317 726.001 532.697 729.172 Q536.076 732.343 536.076 737.76 Q536.076 743.339 532.604 746.44 Q529.132 749.519 522.812 749.519 Q520.637 749.519 518.368 749.149 Q516.123 748.778 513.715 748.038 L513.715 743.339 Q515.799 744.473 518.021 745.028 Q520.243 745.584 522.72 745.584 Q526.724 745.584 529.062 743.478 Q531.4 741.371 531.4 737.76 Q531.4 734.149 529.062 732.042 Q526.724 729.936 522.72 729.936 Q520.845 729.936 518.97 730.353 Q517.118 730.769 515.174 731.649 L515.174 714.288 Z\" fill=\"#000000\" fill-rule=\"evenodd\" fill-opacity=\"1\" /><path clip-path=\"url(#clip300)\" d=\"M693.571 744.913 L701.21 744.913 L701.21 718.547 L692.9 720.214 L692.9 715.955 L701.163 714.288 L705.839 714.288 L705.839 744.913 L713.478 744.913 L713.478 748.848 L693.571 748.848 L693.571 744.913 Z\" fill=\"#000000\" fill-rule=\"evenodd\" fill-opacity=\"1\" /><path clip-path=\"url(#clip300)\" d=\"M732.923 717.367 Q729.311 717.367 727.483 720.931 Q725.677 724.473 725.677 731.603 Q725.677 738.709 727.483 742.274 Q729.311 745.815 732.923 745.815 Q736.557 745.815 738.362 742.274 Q740.191 738.709 740.191 731.603 Q740.191 724.473 738.362 720.931 Q736.557 717.367 732.923 717.367 M732.923 713.663 Q738.733 713.663 741.788 718.269 Q744.867 722.853 744.867 731.603 Q744.867 740.329 741.788 744.936 Q738.733 749.519 732.923 749.519 Q727.112 749.519 724.034 744.936 Q720.978 740.329 720.978 731.603 Q720.978 722.853 724.034 718.269 Q727.112 713.663 732.923 713.663 Z\" fill=\"#000000\" fill-rule=\"evenodd\" fill-opacity=\"1\" /><path clip-path=\"url(#clip300)\" d=\"M753.084 742.968 L757.969 742.968 L757.969 748.848 L753.084 748.848 L753.084 742.968 Z\" fill=\"#000000\" fill-rule=\"evenodd\" fill-opacity=\"1\" /><path clip-path=\"url(#clip300)\" d=\"M778.154 717.367 Q774.543 717.367 772.714 720.931 Q770.908 724.473 770.908 731.603 Q770.908 738.709 772.714 742.274 Q774.543 745.815 778.154 745.815 Q781.788 745.815 783.594 742.274 Q785.422 738.709 785.422 731.603 Q785.422 724.473 783.594 720.931 Q781.788 717.367 778.154 717.367 M778.154 713.663 Q783.964 713.663 787.019 718.269 Q790.098 722.853 790.098 731.603 Q790.098 740.329 787.019 744.936 Q783.964 749.519 778.154 749.519 Q772.344 749.519 769.265 744.936 Q766.209 740.329 766.209 731.603 Q766.209 722.853 769.265 718.269 Q772.344 713.663 778.154 713.663 Z\" fill=\"#000000\" fill-rule=\"evenodd\" fill-opacity=\"1\" /><path clip-path=\"url(#clip300)\" d=\"M933.171 744.913 L940.81 744.913 L940.81 718.547 L932.5 720.214 L932.5 715.955 L940.764 714.288 L945.44 714.288 L945.44 744.913 L953.079 744.913 L953.079 748.848 L933.171 748.848 L933.171 744.913 Z\" fill=\"#000000\" fill-rule=\"evenodd\" fill-opacity=\"1\" /><path clip-path=\"url(#clip300)\" d=\"M966.551 744.913 L982.87 744.913 L982.87 748.848 L960.926 748.848 L960.926 744.913 Q963.588 742.158 968.171 737.528 Q972.778 732.876 973.958 731.533 Q976.204 729.01 977.083 727.274 Q977.986 725.515 977.986 723.825 Q977.986 721.07 976.042 719.334 Q974.12 717.598 971.019 717.598 Q968.819 717.598 966.366 718.362 Q963.935 719.126 961.157 720.677 L961.157 715.955 Q963.982 714.82 966.435 714.242 Q968.889 713.663 970.926 713.663 Q976.296 713.663 979.491 716.348 Q982.685 719.033 982.685 723.524 Q982.685 725.654 981.875 727.575 Q981.088 729.473 978.981 732.066 Q978.403 732.737 975.301 735.954 Q972.199 739.149 966.551 744.913 Z\" fill=\"#000000\" fill-rule=\"evenodd\" fill-opacity=\"1\" /><path clip-path=\"url(#clip300)\" d=\"M992.685 742.968 L997.569 742.968 L997.569 748.848 L992.685 748.848 L992.685 742.968 Z\" fill=\"#000000\" fill-rule=\"evenodd\" fill-opacity=\"1\" /><path clip-path=\"url(#clip300)\" d=\"M1007.8 714.288 L1026.16 714.288 L1026.16 718.223 L1012.08 718.223 L1012.08 726.695 Q1013.1 726.348 1014.12 726.186 Q1015.14 726.001 1016.16 726.001 Q1021.94 726.001 1025.32 729.172 Q1028.7 732.343 1028.7 737.76 Q1028.7 743.339 1025.23 746.44 Q1021.76 749.519 1015.44 749.519 Q1013.26 749.519 1011 749.149 Q1008.75 748.778 1006.34 748.038 L1006.34 743.339 Q1008.43 744.473 1010.65 745.028 Q1012.87 745.584 1015.35 745.584 Q1019.35 745.584 1021.69 743.478 Q1024.03 741.371 1024.03 737.76 Q1024.03 734.149 1021.69 732.042 Q1019.35 729.936 1015.35 729.936 Q1013.47 729.936 1011.6 730.353 Q1009.75 730.769 1007.8 731.649 L1007.8 714.288 Z\" fill=\"#000000\" fill-rule=\"evenodd\" fill-opacity=\"1\" /><polyline clip-path=\"url(#clip302)\" style=\"stroke:#000000; stroke-linecap:round; stroke-linejoin:round; stroke-width:2; stroke-opacity:0.1; fill:none\" points=\"138.959,600.54 1152.76,600.54 \"/>\n",
       "<polyline clip-path=\"url(#clip302)\" style=\"stroke:#000000; stroke-linecap:round; stroke-linejoin:round; stroke-width:2; stroke-opacity:0.1; fill:none\" points=\"138.959,508.895 1152.76,508.895 \"/>\n",
       "<polyline clip-path=\"url(#clip302)\" style=\"stroke:#000000; stroke-linecap:round; stroke-linejoin:round; stroke-width:2; stroke-opacity:0.1; fill:none\" points=\"138.959,417.251 1152.76,417.251 \"/>\n",
       "<polyline clip-path=\"url(#clip302)\" style=\"stroke:#000000; stroke-linecap:round; stroke-linejoin:round; stroke-width:2; stroke-opacity:0.1; fill:none\" points=\"138.959,325.606 1152.76,325.606 \"/>\n",
       "<polyline clip-path=\"url(#clip302)\" style=\"stroke:#000000; stroke-linecap:round; stroke-linejoin:round; stroke-width:2; stroke-opacity:0.1; fill:none\" points=\"138.959,233.961 1152.76,233.961 \"/>\n",
       "<polyline clip-path=\"url(#clip302)\" style=\"stroke:#000000; stroke-linecap:round; stroke-linejoin:round; stroke-width:2; stroke-opacity:0.1; fill:none\" points=\"138.959,142.316 1152.76,142.316 \"/>\n",
       "<polyline clip-path=\"url(#clip302)\" style=\"stroke:#000000; stroke-linecap:round; stroke-linejoin:round; stroke-width:2; stroke-opacity:0.1; fill:none\" points=\"138.959,50.6716 1152.76,50.6716 \"/>\n",
       "<polyline clip-path=\"url(#clip300)\" style=\"stroke:#000000; stroke-linecap:round; stroke-linejoin:round; stroke-width:4; stroke-opacity:1; fill:none\" points=\"138.959,686.448 138.959,47.2441 \"/>\n",
       "<polyline clip-path=\"url(#clip300)\" style=\"stroke:#000000; stroke-linecap:round; stroke-linejoin:round; stroke-width:4; stroke-opacity:1; fill:none\" points=\"138.959,600.54 157.857,600.54 \"/>\n",
       "<polyline clip-path=\"url(#clip300)\" style=\"stroke:#000000; stroke-linecap:round; stroke-linejoin:round; stroke-width:4; stroke-opacity:1; fill:none\" points=\"138.959,508.895 157.857,508.895 \"/>\n",
       "<polyline clip-path=\"url(#clip300)\" style=\"stroke:#000000; stroke-linecap:round; stroke-linejoin:round; stroke-width:4; stroke-opacity:1; fill:none\" points=\"138.959,417.251 157.857,417.251 \"/>\n",
       "<polyline clip-path=\"url(#clip300)\" style=\"stroke:#000000; stroke-linecap:round; stroke-linejoin:round; stroke-width:4; stroke-opacity:1; fill:none\" points=\"138.959,325.606 157.857,325.606 \"/>\n",
       "<polyline clip-path=\"url(#clip300)\" style=\"stroke:#000000; stroke-linecap:round; stroke-linejoin:round; stroke-width:4; stroke-opacity:1; fill:none\" points=\"138.959,233.961 157.857,233.961 \"/>\n",
       "<polyline clip-path=\"url(#clip300)\" style=\"stroke:#000000; stroke-linecap:round; stroke-linejoin:round; stroke-width:4; stroke-opacity:1; fill:none\" points=\"138.959,142.316 157.857,142.316 \"/>\n",
       "<polyline clip-path=\"url(#clip300)\" style=\"stroke:#000000; stroke-linecap:round; stroke-linejoin:round; stroke-width:4; stroke-opacity:1; fill:none\" points=\"138.959,50.6716 157.857,50.6716 \"/>\n",
       "<path clip-path=\"url(#clip300)\" d=\"M82.0568 583.26 L100.413 583.26 L100.413 587.195 L86.3392 587.195 L86.3392 595.667 Q87.3577 595.32 88.3762 595.158 Q89.3947 594.973 90.4132 594.973 Q96.2002 594.973 99.5798 598.144 Q102.959 601.316 102.959 606.732 Q102.959 612.311 99.4872 615.413 Q96.015 618.491 89.6956 618.491 Q87.5197 618.491 85.2512 618.121 Q83.0058 617.751 80.5984 617.01 L80.5984 612.311 Q82.6818 613.445 84.904 614.001 Q87.1262 614.556 89.603 614.556 Q93.6076 614.556 95.9456 612.45 Q98.2835 610.343 98.2835 606.732 Q98.2835 603.121 95.9456 601.015 Q93.6076 598.908 89.603 598.908 Q87.728 598.908 85.8531 599.325 Q84.0012 599.741 82.0568 600.621 L82.0568 583.26 Z\" fill=\"#000000\" fill-rule=\"evenodd\" fill-opacity=\"1\" /><path clip-path=\"url(#clip300)\" d=\"M91.4317 507.032 Q88.2836 507.032 86.4318 509.185 Q84.6031 511.337 84.6031 515.087 Q84.6031 518.814 86.4318 520.99 Q88.2836 523.143 91.4317 523.143 Q94.5799 523.143 96.4085 520.99 Q98.2604 518.814 98.2604 515.087 Q98.2604 511.337 96.4085 509.185 Q94.5799 507.032 91.4317 507.032 M100.714 492.379 L100.714 496.638 Q98.9548 495.805 97.1493 495.365 Q95.3669 494.926 93.6076 494.926 Q88.978 494.926 86.5243 498.05 Q84.0938 501.175 83.7466 507.495 Q85.1123 505.481 87.1725 504.416 Q89.2327 503.328 91.7095 503.328 Q96.9178 503.328 99.927 506.5 Q102.959 509.648 102.959 515.087 Q102.959 520.411 99.8113 523.629 Q96.6632 526.847 91.4317 526.847 Q85.4364 526.847 82.2651 522.263 Q79.0938 517.657 79.0938 508.93 Q79.0938 500.736 82.9827 495.875 Q86.8716 490.99 93.4225 490.99 Q95.1817 490.99 96.9641 491.338 Q98.7696 491.685 100.714 492.379 Z\" fill=\"#000000\" fill-rule=\"evenodd\" fill-opacity=\"1\" /><path clip-path=\"url(#clip300)\" d=\"M80.7373 399.971 L102.959 399.971 L102.959 401.961 L90.4132 434.531 L85.529 434.531 L97.3345 403.906 L80.7373 403.906 L80.7373 399.971 Z\" fill=\"#000000\" fill-rule=\"evenodd\" fill-opacity=\"1\" /><path clip-path=\"url(#clip300)\" d=\"M91.1077 326.474 Q87.7743 326.474 85.8531 328.256 Q83.9549 330.039 83.9549 333.164 Q83.9549 336.289 85.8531 338.071 Q87.7743 339.853 91.1077 339.853 Q94.441 339.853 96.3623 338.071 Q98.2835 336.266 98.2835 333.164 Q98.2835 330.039 96.3623 328.256 Q94.4641 326.474 91.1077 326.474 M86.4318 324.483 Q83.4225 323.742 81.7327 321.682 Q80.066 319.622 80.066 316.659 Q80.066 312.516 83.0058 310.108 Q85.9688 307.701 91.1077 307.701 Q96.2697 307.701 99.2095 310.108 Q102.149 312.516 102.149 316.659 Q102.149 319.622 100.459 321.682 Q98.7928 323.742 95.8067 324.483 Q99.1863 325.27 101.061 327.562 Q102.959 329.854 102.959 333.164 Q102.959 338.187 99.8808 340.872 Q96.8252 343.557 91.1077 343.557 Q85.3901 343.557 82.3114 340.872 Q79.2559 338.187 79.2559 333.164 Q79.2559 329.854 81.154 327.562 Q83.0521 325.27 86.4318 324.483 M84.7188 317.099 Q84.7188 319.784 86.3855 321.289 Q88.0753 322.793 91.1077 322.793 Q94.1169 322.793 95.8067 321.289 Q97.5197 319.784 97.5197 317.099 Q97.5197 314.414 95.8067 312.909 Q94.1169 311.405 91.1077 311.405 Q88.0753 311.405 86.3855 312.909 Q84.7188 314.414 84.7188 317.099 Z\" fill=\"#000000\" fill-rule=\"evenodd\" fill-opacity=\"1\" /><path clip-path=\"url(#clip300)\" d=\"M81.3392 250.524 L81.3392 246.264 Q83.0984 247.098 84.904 247.537 Q86.7095 247.977 88.4456 247.977 Q93.0752 247.977 95.5058 244.875 Q97.9595 241.75 98.3067 235.408 Q96.9641 237.399 94.9039 238.463 Q92.8438 239.528 90.3438 239.528 Q85.1586 239.528 82.1262 236.403 Q79.117 233.255 79.117 227.815 Q79.117 222.491 82.2651 219.274 Q85.4132 216.056 90.6447 216.056 Q96.64 216.056 99.7882 220.663 Q102.959 225.246 102.959 233.996 Q102.959 242.167 99.0706 247.051 Q95.2049 251.912 88.654 251.912 Q86.8947 251.912 85.0892 251.565 Q83.2836 251.218 81.3392 250.524 M90.6447 235.871 Q93.7928 235.871 95.6215 233.718 Q97.4734 231.565 97.4734 227.815 Q97.4734 224.088 95.6215 221.936 Q93.7928 219.76 90.6447 219.76 Q87.4966 219.76 85.6447 221.936 Q83.816 224.088 83.816 227.815 Q83.816 231.565 85.6447 233.718 Q87.4966 235.871 90.6447 235.871 Z\" fill=\"#000000\" fill-rule=\"evenodd\" fill-opacity=\"1\" /><path clip-path=\"url(#clip300)\" d=\"M51.6634 155.661 L59.3023 155.661 L59.3023 129.296 L50.9921 130.962 L50.9921 126.703 L59.256 125.036 L63.9319 125.036 L63.9319 155.661 L71.5707 155.661 L71.5707 159.596 L51.6634 159.596 L51.6634 155.661 Z\" fill=\"#000000\" fill-rule=\"evenodd\" fill-opacity=\"1\" /><path clip-path=\"url(#clip300)\" d=\"M91.0151 128.115 Q87.404 128.115 85.5753 131.68 Q83.7697 135.221 83.7697 142.351 Q83.7697 149.458 85.5753 153.022 Q87.404 156.564 91.0151 156.564 Q94.6493 156.564 96.4548 153.022 Q98.2835 149.458 98.2835 142.351 Q98.2835 135.221 96.4548 131.68 Q94.6493 128.115 91.0151 128.115 M91.0151 124.411 Q96.8252 124.411 99.8808 129.018 Q102.959 133.601 102.959 142.351 Q102.959 151.078 99.8808 155.684 Q96.8252 160.268 91.0151 160.268 Q85.2049 160.268 82.1262 155.684 Q79.0707 151.078 79.0707 142.351 Q79.0707 133.601 82.1262 129.018 Q85.2049 124.411 91.0151 124.411 Z\" fill=\"#000000\" fill-rule=\"evenodd\" fill-opacity=\"1\" /><path clip-path=\"url(#clip300)\" d=\"M52.8903 64.0164 L60.5291 64.0164 L60.5291 37.6508 L52.219 39.3175 L52.219 35.0583 L60.4828 33.3916 L65.1587 33.3916 L65.1587 64.0164 L72.7976 64.0164 L72.7976 67.9516 L52.8903 67.9516 L52.8903 64.0164 Z\" fill=\"#000000\" fill-rule=\"evenodd\" fill-opacity=\"1\" /><path clip-path=\"url(#clip300)\" d=\"M83.0521 64.0164 L90.691 64.0164 L90.691 37.6508 L82.3808 39.3175 L82.3808 35.0583 L90.6447 33.3916 L95.3206 33.3916 L95.3206 64.0164 L102.959 64.0164 L102.959 67.9516 L83.0521 67.9516 L83.0521 64.0164 Z\" fill=\"#000000\" fill-rule=\"evenodd\" fill-opacity=\"1\" /><circle clip-path=\"url(#clip302)\" cx=\"741.499\" cy=\"321.94\" r=\"14.4\" fill=\"#009af9\" fill-rule=\"evenodd\" fill-opacity=\"1\" stroke=\"#000000\" stroke-opacity=\"1\" stroke-width=\"3.2\"/>\n",
       "<circle clip-path=\"url(#clip302)\" cx=\"550.216\" cy=\"421.833\" r=\"14.4\" fill=\"#009af9\" fill-rule=\"evenodd\" fill-opacity=\"1\" stroke=\"#000000\" stroke-opacity=\"1\" stroke-width=\"3.2\"/>\n",
       "<circle clip-path=\"url(#clip302)\" cx=\"1028.42\" cy=\"364.097\" r=\"14.4\" fill=\"#009af9\" fill-rule=\"evenodd\" fill-opacity=\"1\" stroke=\"#000000\" stroke-opacity=\"1\" stroke-width=\"3.2\"/>\n",
       "<circle clip-path=\"url(#clip302)\" cx=\"645.858\" cy=\"251.374\" r=\"14.4\" fill=\"#009af9\" fill-rule=\"evenodd\" fill-opacity=\"1\" stroke=\"#000000\" stroke-opacity=\"1\" stroke-width=\"3.2\"/>\n",
       "<circle clip-path=\"url(#clip302)\" cx=\"837.14\" cy=\"295.363\" r=\"14.4\" fill=\"#009af9\" fill-rule=\"evenodd\" fill-opacity=\"1\" stroke=\"#000000\" stroke-opacity=\"1\" stroke-width=\"3.2\"/>\n",
       "<circle clip-path=\"url(#clip302)\" cx=\"1124.06\" cy=\"145.982\" r=\"14.4\" fill=\"#009af9\" fill-rule=\"evenodd\" fill-opacity=\"1\" stroke=\"#000000\" stroke-opacity=\"1\" stroke-width=\"3.2\"/>\n",
       "<circle clip-path=\"url(#clip302)\" cx=\"358.934\" cy=\"395.256\" r=\"14.4\" fill=\"#009af9\" fill-rule=\"evenodd\" fill-opacity=\"1\" stroke=\"#000000\" stroke-opacity=\"1\" stroke-width=\"3.2\"/>\n",
       "<circle clip-path=\"url(#clip302)\" cx=\"167.652\" cy=\"668.357\" r=\"14.4\" fill=\"#009af9\" fill-rule=\"evenodd\" fill-opacity=\"1\" stroke=\"#000000\" stroke-opacity=\"1\" stroke-width=\"3.2\"/>\n",
       "<circle clip-path=\"url(#clip302)\" cx=\"932.781\" cy=\"65.3348\" r=\"14.4\" fill=\"#009af9\" fill-rule=\"evenodd\" fill-opacity=\"1\" stroke=\"#000000\" stroke-opacity=\"1\" stroke-width=\"3.2\"/>\n",
       "<circle clip-path=\"url(#clip302)\" cx=\"454.575\" cy=\"617.036\" r=\"14.4\" fill=\"#009af9\" fill-rule=\"evenodd\" fill-opacity=\"1\" stroke=\"#000000\" stroke-opacity=\"1\" stroke-width=\"3.2\"/>\n",
       "<circle clip-path=\"url(#clip302)\" cx=\"263.293\" cy=\"538.222\" r=\"14.4\" fill=\"#009af9\" fill-rule=\"evenodd\" fill-opacity=\"1\" stroke=\"#000000\" stroke-opacity=\"1\" stroke-width=\"3.2\"/>\n",
       "<path clip-path=\"url(#clip300)\" d=\"M1338.96 686.448 L2352.76 686.448 L2352.76 47.2441 L1338.96 47.2441  Z\" fill=\"#ffffff\" fill-rule=\"evenodd\" fill-opacity=\"1\"/>\n",
       "<defs>\n",
       "  <clipPath id=\"clip303\">\n",
       "    <rect x=\"1338\" y=\"47\" width=\"1015\" height=\"640\"/>\n",
       "  </clipPath>\n",
       "</defs>\n",
       "<polyline clip-path=\"url(#clip303)\" style=\"stroke:#000000; stroke-linecap:round; stroke-linejoin:round; stroke-width:2; stroke-opacity:0.1; fill:none\" points=\"1463.29,686.448 1463.29,47.2441 \"/>\n",
       "<polyline clip-path=\"url(#clip303)\" style=\"stroke:#000000; stroke-linecap:round; stroke-linejoin:round; stroke-width:2; stroke-opacity:0.1; fill:none\" points=\"1702.4,686.448 1702.4,47.2441 \"/>\n",
       "<polyline clip-path=\"url(#clip303)\" style=\"stroke:#000000; stroke-linecap:round; stroke-linejoin:round; stroke-width:2; stroke-opacity:0.1; fill:none\" points=\"1941.5,686.448 1941.5,47.2441 \"/>\n",
       "<polyline clip-path=\"url(#clip303)\" style=\"stroke:#000000; stroke-linecap:round; stroke-linejoin:round; stroke-width:2; stroke-opacity:0.1; fill:none\" points=\"2180.6,686.448 2180.6,47.2441 \"/>\n",
       "<polyline clip-path=\"url(#clip300)\" style=\"stroke:#000000; stroke-linecap:round; stroke-linejoin:round; stroke-width:4; stroke-opacity:1; fill:none\" points=\"1338.96,686.448 2352.76,686.448 \"/>\n",
       "<polyline clip-path=\"url(#clip300)\" style=\"stroke:#000000; stroke-linecap:round; stroke-linejoin:round; stroke-width:4; stroke-opacity:1; fill:none\" points=\"1463.29,686.448 1463.29,667.55 \"/>\n",
       "<polyline clip-path=\"url(#clip300)\" style=\"stroke:#000000; stroke-linecap:round; stroke-linejoin:round; stroke-width:4; stroke-opacity:1; fill:none\" points=\"1702.4,686.448 1702.4,667.55 \"/>\n",
       "<polyline clip-path=\"url(#clip300)\" style=\"stroke:#000000; stroke-linecap:round; stroke-linejoin:round; stroke-width:4; stroke-opacity:1; fill:none\" points=\"1941.5,686.448 1941.5,667.55 \"/>\n",
       "<polyline clip-path=\"url(#clip300)\" style=\"stroke:#000000; stroke-linecap:round; stroke-linejoin:round; stroke-width:4; stroke-opacity:1; fill:none\" points=\"2180.6,686.448 2180.6,667.55 \"/>\n",
       "<path clip-path=\"url(#clip300)\" d=\"M1430.46 714.288 L1448.81 714.288 L1448.81 718.223 L1434.74 718.223 L1434.74 726.695 Q1435.76 726.348 1436.78 726.186 Q1437.8 726.001 1438.81 726.001 Q1444.6 726.001 1447.98 729.172 Q1451.36 732.343 1451.36 737.76 Q1451.36 743.339 1447.89 746.44 Q1444.42 749.519 1438.1 749.519 Q1435.92 749.519 1433.65 749.149 Q1431.41 748.778 1429 748.038 L1429 743.339 Q1431.08 744.473 1433.3 745.028 Q1435.53 745.584 1438 745.584 Q1442.01 745.584 1444.35 743.478 Q1446.68 741.371 1446.68 737.76 Q1446.68 734.149 1444.35 732.042 Q1442.01 729.936 1438 729.936 Q1436.13 729.936 1434.25 730.353 Q1432.4 730.769 1430.46 731.649 L1430.46 714.288 Z\" fill=\"#000000\" fill-rule=\"evenodd\" fill-opacity=\"1\" /><path clip-path=\"url(#clip300)\" d=\"M1460.57 742.968 L1465.46 742.968 L1465.46 748.848 L1460.57 748.848 L1460.57 742.968 Z\" fill=\"#000000\" fill-rule=\"evenodd\" fill-opacity=\"1\" /><path clip-path=\"url(#clip300)\" d=\"M1485.64 717.367 Q1482.03 717.367 1480.2 720.931 Q1478.4 724.473 1478.4 731.603 Q1478.4 738.709 1480.2 742.274 Q1482.03 745.815 1485.64 745.815 Q1489.28 745.815 1491.08 742.274 Q1492.91 738.709 1492.91 731.603 Q1492.91 724.473 1491.08 720.931 Q1489.28 717.367 1485.64 717.367 M1485.64 713.663 Q1491.45 713.663 1494.51 718.269 Q1497.59 722.853 1497.59 731.603 Q1497.59 740.329 1494.51 744.936 Q1491.45 749.519 1485.64 749.519 Q1479.83 749.519 1476.75 744.936 Q1473.7 740.329 1473.7 731.603 Q1473.7 722.853 1476.75 718.269 Q1479.83 713.663 1485.64 713.663 Z\" fill=\"#000000\" fill-rule=\"evenodd\" fill-opacity=\"1\" /><path clip-path=\"url(#clip300)\" d=\"M1668.72 714.288 L1690.94 714.288 L1690.94 716.279 L1678.39 748.848 L1673.51 748.848 L1685.31 718.223 L1668.72 718.223 L1668.72 714.288 Z\" fill=\"#000000\" fill-rule=\"evenodd\" fill-opacity=\"1\" /><path clip-path=\"url(#clip300)\" d=\"M1700.06 742.968 L1704.94 742.968 L1704.94 748.848 L1700.06 748.848 L1700.06 742.968 Z\" fill=\"#000000\" fill-rule=\"evenodd\" fill-opacity=\"1\" /><path clip-path=\"url(#clip300)\" d=\"M1715.17 714.288 L1733.53 714.288 L1733.53 718.223 L1719.46 718.223 L1719.46 726.695 Q1720.47 726.348 1721.49 726.186 Q1722.51 726.001 1723.53 726.001 Q1729.32 726.001 1732.7 729.172 Q1736.08 732.343 1736.08 737.76 Q1736.08 743.339 1732.6 746.44 Q1729.13 749.519 1722.81 749.519 Q1720.64 749.519 1718.37 749.149 Q1716.12 748.778 1713.72 748.038 L1713.72 743.339 Q1715.8 744.473 1718.02 745.028 Q1720.24 745.584 1722.72 745.584 Q1726.72 745.584 1729.06 743.478 Q1731.4 741.371 1731.4 737.76 Q1731.4 734.149 1729.06 732.042 Q1726.72 729.936 1722.72 729.936 Q1720.84 729.936 1718.97 730.353 Q1717.12 730.769 1715.17 731.649 L1715.17 714.288 Z\" fill=\"#000000\" fill-rule=\"evenodd\" fill-opacity=\"1\" /><path clip-path=\"url(#clip300)\" d=\"M1893.57 744.913 L1901.21 744.913 L1901.21 718.547 L1892.9 720.214 L1892.9 715.955 L1901.16 714.288 L1905.84 714.288 L1905.84 744.913 L1913.48 744.913 L1913.48 748.848 L1893.57 748.848 L1893.57 744.913 Z\" fill=\"#000000\" fill-rule=\"evenodd\" fill-opacity=\"1\" /><path clip-path=\"url(#clip300)\" d=\"M1932.92 717.367 Q1929.31 717.367 1927.48 720.931 Q1925.68 724.473 1925.68 731.603 Q1925.68 738.709 1927.48 742.274 Q1929.31 745.815 1932.92 745.815 Q1936.56 745.815 1938.36 742.274 Q1940.19 738.709 1940.19 731.603 Q1940.19 724.473 1938.36 720.931 Q1936.56 717.367 1932.92 717.367 M1932.92 713.663 Q1938.73 713.663 1941.79 718.269 Q1944.87 722.853 1944.87 731.603 Q1944.87 740.329 1941.79 744.936 Q1938.73 749.519 1932.92 749.519 Q1927.11 749.519 1924.03 744.936 Q1920.98 740.329 1920.98 731.603 Q1920.98 722.853 1924.03 718.269 Q1927.11 713.663 1932.92 713.663 Z\" fill=\"#000000\" fill-rule=\"evenodd\" fill-opacity=\"1\" /><path clip-path=\"url(#clip300)\" d=\"M1953.08 742.968 L1957.97 742.968 L1957.97 748.848 L1953.08 748.848 L1953.08 742.968 Z\" fill=\"#000000\" fill-rule=\"evenodd\" fill-opacity=\"1\" /><path clip-path=\"url(#clip300)\" d=\"M1978.15 717.367 Q1974.54 717.367 1972.71 720.931 Q1970.91 724.473 1970.91 731.603 Q1970.91 738.709 1972.71 742.274 Q1974.54 745.815 1978.15 745.815 Q1981.79 745.815 1983.59 742.274 Q1985.42 738.709 1985.42 731.603 Q1985.42 724.473 1983.59 720.931 Q1981.79 717.367 1978.15 717.367 M1978.15 713.663 Q1983.96 713.663 1987.02 718.269 Q1990.1 722.853 1990.1 731.603 Q1990.1 740.329 1987.02 744.936 Q1983.96 749.519 1978.15 749.519 Q1972.34 749.519 1969.26 744.936 Q1966.21 740.329 1966.21 731.603 Q1966.21 722.853 1969.26 718.269 Q1972.34 713.663 1978.15 713.663 Z\" fill=\"#000000\" fill-rule=\"evenodd\" fill-opacity=\"1\" /><path clip-path=\"url(#clip300)\" d=\"M2133.17 744.913 L2140.81 744.913 L2140.81 718.547 L2132.5 720.214 L2132.5 715.955 L2140.76 714.288 L2145.44 714.288 L2145.44 744.913 L2153.08 744.913 L2153.08 748.848 L2133.17 748.848 L2133.17 744.913 Z\" fill=\"#000000\" fill-rule=\"evenodd\" fill-opacity=\"1\" /><path clip-path=\"url(#clip300)\" d=\"M2166.55 744.913 L2182.87 744.913 L2182.87 748.848 L2160.93 748.848 L2160.93 744.913 Q2163.59 742.158 2168.17 737.528 Q2172.78 732.876 2173.96 731.533 Q2176.2 729.01 2177.08 727.274 Q2177.99 725.515 2177.99 723.825 Q2177.99 721.07 2176.04 719.334 Q2174.12 717.598 2171.02 717.598 Q2168.82 717.598 2166.37 718.362 Q2163.94 719.126 2161.16 720.677 L2161.16 715.955 Q2163.98 714.82 2166.44 714.242 Q2168.89 713.663 2170.93 713.663 Q2176.3 713.663 2179.49 716.348 Q2182.69 719.033 2182.69 723.524 Q2182.69 725.654 2181.87 727.575 Q2181.09 729.473 2178.98 732.066 Q2178.4 732.737 2175.3 735.954 Q2172.2 739.149 2166.55 744.913 Z\" fill=\"#000000\" fill-rule=\"evenodd\" fill-opacity=\"1\" /><path clip-path=\"url(#clip300)\" d=\"M2192.69 742.968 L2197.57 742.968 L2197.57 748.848 L2192.69 748.848 L2192.69 742.968 Z\" fill=\"#000000\" fill-rule=\"evenodd\" fill-opacity=\"1\" /><path clip-path=\"url(#clip300)\" d=\"M2207.8 714.288 L2226.16 714.288 L2226.16 718.223 L2212.08 718.223 L2212.08 726.695 Q2213.1 726.348 2214.12 726.186 Q2215.14 726.001 2216.16 726.001 Q2221.94 726.001 2225.32 729.172 Q2228.7 732.343 2228.7 737.76 Q2228.7 743.339 2225.23 746.44 Q2221.76 749.519 2215.44 749.519 Q2213.26 749.519 2211 749.149 Q2208.75 748.778 2206.34 748.038 L2206.34 743.339 Q2208.43 744.473 2210.65 745.028 Q2212.87 745.584 2215.35 745.584 Q2219.35 745.584 2221.69 743.478 Q2224.03 741.371 2224.03 737.76 Q2224.03 734.149 2221.69 732.042 Q2219.35 729.936 2215.35 729.936 Q2213.47 729.936 2211.6 730.353 Q2209.75 730.769 2207.8 731.649 L2207.8 714.288 Z\" fill=\"#000000\" fill-rule=\"evenodd\" fill-opacity=\"1\" /><polyline clip-path=\"url(#clip303)\" style=\"stroke:#000000; stroke-linecap:round; stroke-linejoin:round; stroke-width:2; stroke-opacity:0.1; fill:none\" points=\"1338.96,678.147 2352.76,678.147 \"/>\n",
       "<polyline clip-path=\"url(#clip303)\" style=\"stroke:#000000; stroke-linecap:round; stroke-linejoin:round; stroke-width:2; stroke-opacity:0.1; fill:none\" points=\"1338.96,580.253 2352.76,580.253 \"/>\n",
       "<polyline clip-path=\"url(#clip303)\" style=\"stroke:#000000; stroke-linecap:round; stroke-linejoin:round; stroke-width:2; stroke-opacity:0.1; fill:none\" points=\"1338.96,482.36 2352.76,482.36 \"/>\n",
       "<polyline clip-path=\"url(#clip303)\" style=\"stroke:#000000; stroke-linecap:round; stroke-linejoin:round; stroke-width:2; stroke-opacity:0.1; fill:none\" points=\"1338.96,384.467 2352.76,384.467 \"/>\n",
       "<polyline clip-path=\"url(#clip303)\" style=\"stroke:#000000; stroke-linecap:round; stroke-linejoin:round; stroke-width:2; stroke-opacity:0.1; fill:none\" points=\"1338.96,286.574 2352.76,286.574 \"/>\n",
       "<polyline clip-path=\"url(#clip303)\" style=\"stroke:#000000; stroke-linecap:round; stroke-linejoin:round; stroke-width:2; stroke-opacity:0.1; fill:none\" points=\"1338.96,188.68 2352.76,188.68 \"/>\n",
       "<polyline clip-path=\"url(#clip303)\" style=\"stroke:#000000; stroke-linecap:round; stroke-linejoin:round; stroke-width:2; stroke-opacity:0.1; fill:none\" points=\"1338.96,90.787 2352.76,90.787 \"/>\n",
       "<polyline clip-path=\"url(#clip300)\" style=\"stroke:#000000; stroke-linecap:round; stroke-linejoin:round; stroke-width:4; stroke-opacity:1; fill:none\" points=\"1338.96,686.448 1338.96,47.2441 \"/>\n",
       "<polyline clip-path=\"url(#clip300)\" style=\"stroke:#000000; stroke-linecap:round; stroke-linejoin:round; stroke-width:4; stroke-opacity:1; fill:none\" points=\"1338.96,678.147 1357.86,678.147 \"/>\n",
       "<polyline clip-path=\"url(#clip300)\" style=\"stroke:#000000; stroke-linecap:round; stroke-linejoin:round; stroke-width:4; stroke-opacity:1; fill:none\" points=\"1338.96,580.253 1357.86,580.253 \"/>\n",
       "<polyline clip-path=\"url(#clip300)\" style=\"stroke:#000000; stroke-linecap:round; stroke-linejoin:round; stroke-width:4; stroke-opacity:1; fill:none\" points=\"1338.96,482.36 1357.86,482.36 \"/>\n",
       "<polyline clip-path=\"url(#clip300)\" style=\"stroke:#000000; stroke-linecap:round; stroke-linejoin:round; stroke-width:4; stroke-opacity:1; fill:none\" points=\"1338.96,384.467 1357.86,384.467 \"/>\n",
       "<polyline clip-path=\"url(#clip300)\" style=\"stroke:#000000; stroke-linecap:round; stroke-linejoin:round; stroke-width:4; stroke-opacity:1; fill:none\" points=\"1338.96,286.574 1357.86,286.574 \"/>\n",
       "<polyline clip-path=\"url(#clip300)\" style=\"stroke:#000000; stroke-linecap:round; stroke-linejoin:round; stroke-width:4; stroke-opacity:1; fill:none\" points=\"1338.96,188.68 1357.86,188.68 \"/>\n",
       "<polyline clip-path=\"url(#clip300)\" style=\"stroke:#000000; stroke-linecap:round; stroke-linejoin:round; stroke-width:4; stroke-opacity:1; fill:none\" points=\"1338.96,90.787 1357.86,90.787 \"/>\n",
       "<path clip-path=\"url(#clip300)\" d=\"M1295.83 676.792 Q1299.19 677.51 1301.06 679.778 Q1302.96 682.047 1302.96 685.38 Q1302.96 690.496 1299.44 693.297 Q1295.92 696.098 1289.44 696.098 Q1287.27 696.098 1284.95 695.658 Q1282.66 695.241 1280.2 694.385 L1280.2 689.871 Q1282.15 691.005 1284.46 691.584 Q1286.78 692.163 1289.3 692.163 Q1293.7 692.163 1295.99 690.427 Q1298.31 688.69 1298.31 685.38 Q1298.31 682.325 1296.15 680.612 Q1294.02 678.876 1290.2 678.876 L1286.18 678.876 L1286.18 675.033 L1290.39 675.033 Q1293.84 675.033 1295.67 673.667 Q1297.5 672.279 1297.5 669.686 Q1297.5 667.024 1295.6 665.612 Q1293.72 664.177 1290.2 664.177 Q1288.28 664.177 1286.08 664.593 Q1283.89 665.01 1281.25 665.89 L1281.25 661.723 Q1283.91 660.982 1286.22 660.612 Q1288.56 660.242 1290.62 660.242 Q1295.95 660.242 1299.05 662.672 Q1302.15 665.079 1302.15 669.2 Q1302.15 672.07 1300.51 674.061 Q1298.86 676.028 1295.83 676.792 Z\" fill=\"#000000\" fill-rule=\"evenodd\" fill-opacity=\"1\" /><path clip-path=\"url(#clip300)\" d=\"M1293.38 567.047 L1281.57 585.496 L1293.38 585.496 L1293.38 567.047 M1292.15 562.973 L1298.03 562.973 L1298.03 585.496 L1302.96 585.496 L1302.96 589.385 L1298.03 589.385 L1298.03 597.533 L1293.38 597.533 L1293.38 589.385 L1277.77 589.385 L1277.77 584.871 L1292.15 562.973 Z\" fill=\"#000000\" fill-rule=\"evenodd\" fill-opacity=\"1\" /><path clip-path=\"url(#clip300)\" d=\"M1282.06 465.08 L1300.41 465.08 L1300.41 469.015 L1286.34 469.015 L1286.34 477.487 Q1287.36 477.14 1288.38 476.978 Q1289.39 476.793 1290.41 476.793 Q1296.2 476.793 1299.58 479.964 Q1302.96 483.135 1302.96 488.552 Q1302.96 494.131 1299.49 497.233 Q1296.02 500.311 1289.7 500.311 Q1287.52 500.311 1285.25 499.941 Q1283.01 499.571 1280.6 498.83 L1280.6 494.131 Q1282.68 495.265 1284.9 495.821 Q1287.13 496.376 1289.6 496.376 Q1293.61 496.376 1295.95 494.27 Q1298.28 492.163 1298.28 488.552 Q1298.28 484.941 1295.95 482.835 Q1293.61 480.728 1289.6 480.728 Q1287.73 480.728 1285.85 481.145 Q1284 481.561 1282.06 482.441 L1282.06 465.08 Z\" fill=\"#000000\" fill-rule=\"evenodd\" fill-opacity=\"1\" /><path clip-path=\"url(#clip300)\" d=\"M1291.43 382.603 Q1288.28 382.603 1286.43 384.756 Q1284.6 386.909 1284.6 390.659 Q1284.6 394.386 1286.43 396.562 Q1288.28 398.714 1291.43 398.714 Q1294.58 398.714 1296.41 396.562 Q1298.26 394.386 1298.26 390.659 Q1298.26 386.909 1296.41 384.756 Q1294.58 382.603 1291.43 382.603 M1300.71 367.951 L1300.71 372.21 Q1298.95 371.377 1297.15 370.937 Q1295.37 370.497 1293.61 370.497 Q1288.98 370.497 1286.52 373.622 Q1284.09 376.747 1283.75 383.066 Q1285.11 381.052 1287.17 379.988 Q1289.23 378.9 1291.71 378.9 Q1296.92 378.9 1299.93 382.071 Q1302.96 385.219 1302.96 390.659 Q1302.96 395.983 1299.81 399.2 Q1296.66 402.418 1291.43 402.418 Q1285.44 402.418 1282.27 397.835 Q1279.09 393.228 1279.09 384.501 Q1279.09 376.307 1282.98 371.446 Q1286.87 366.562 1293.42 366.562 Q1295.18 366.562 1296.96 366.909 Q1298.77 367.256 1300.71 367.951 Z\" fill=\"#000000\" fill-rule=\"evenodd\" fill-opacity=\"1\" /><path clip-path=\"url(#clip300)\" d=\"M1280.74 269.294 L1302.96 269.294 L1302.96 271.284 L1290.41 303.854 L1285.53 303.854 L1297.33 273.229 L1280.74 273.229 L1280.74 269.294 Z\" fill=\"#000000\" fill-rule=\"evenodd\" fill-opacity=\"1\" /><path clip-path=\"url(#clip300)\" d=\"M1291.11 189.548 Q1287.77 189.548 1285.85 191.331 Q1283.95 193.113 1283.95 196.238 Q1283.95 199.363 1285.85 201.145 Q1287.77 202.928 1291.11 202.928 Q1294.44 202.928 1296.36 201.145 Q1298.28 199.34 1298.28 196.238 Q1298.28 193.113 1296.36 191.331 Q1294.46 189.548 1291.11 189.548 M1286.43 187.558 Q1283.42 186.817 1281.73 184.757 Q1280.07 182.697 1280.07 179.734 Q1280.07 175.59 1283.01 173.183 Q1285.97 170.775 1291.11 170.775 Q1296.27 170.775 1299.21 173.183 Q1302.15 175.59 1302.15 179.734 Q1302.15 182.697 1300.46 184.757 Q1298.79 186.817 1295.81 187.558 Q1299.19 188.345 1301.06 190.636 Q1302.96 192.928 1302.96 196.238 Q1302.96 201.261 1299.88 203.946 Q1296.83 206.632 1291.11 206.632 Q1285.39 206.632 1282.31 203.946 Q1279.26 201.261 1279.26 196.238 Q1279.26 192.928 1281.15 190.636 Q1283.05 188.345 1286.43 187.558 M1284.72 180.173 Q1284.72 182.859 1286.39 184.363 Q1288.08 185.868 1291.11 185.868 Q1294.12 185.868 1295.81 184.363 Q1297.52 182.859 1297.52 180.173 Q1297.52 177.488 1295.81 175.984 Q1294.12 174.479 1291.11 174.479 Q1288.08 174.479 1286.39 175.984 Q1284.72 177.488 1284.72 180.173 Z\" fill=\"#000000\" fill-rule=\"evenodd\" fill-opacity=\"1\" /><path clip-path=\"url(#clip300)\" d=\"M1281.34 107.349 L1281.34 103.09 Q1283.1 103.924 1284.9 104.363 Q1286.71 104.803 1288.45 104.803 Q1293.08 104.803 1295.51 101.701 Q1297.96 98.5763 1298.31 92.2338 Q1296.96 94.2245 1294.9 95.2893 Q1292.84 96.3541 1290.34 96.3541 Q1285.16 96.3541 1282.13 93.2291 Q1279.12 90.081 1279.12 84.6412 Q1279.12 79.3172 1282.27 76.0996 Q1285.41 72.882 1290.64 72.882 Q1296.64 72.882 1299.79 77.4885 Q1302.96 82.0718 1302.96 90.8217 Q1302.96 98.993 1299.07 103.877 Q1295.2 108.738 1288.65 108.738 Q1286.89 108.738 1285.09 108.391 Q1283.28 108.044 1281.34 107.349 M1290.64 92.6967 Q1293.79 92.6967 1295.62 90.544 Q1297.47 88.3912 1297.47 84.6412 Q1297.47 80.9144 1295.62 78.7616 Q1293.79 76.5857 1290.64 76.5857 Q1287.5 76.5857 1285.64 78.7616 Q1283.82 80.9144 1283.82 84.6412 Q1283.82 88.3912 1285.64 90.544 Q1287.5 92.6967 1290.64 92.6967 Z\" fill=\"#000000\" fill-rule=\"evenodd\" fill-opacity=\"1\" /><circle clip-path=\"url(#clip303)\" cx=\"1941.5\" cy=\"77.082\" r=\"14.4\" fill=\"#009af9\" fill-rule=\"evenodd\" fill-opacity=\"1\" stroke=\"#000000\" stroke-opacity=\"1\" stroke-width=\"3.2\"/>\n",
       "<circle clip-path=\"url(#clip303)\" cx=\"1750.22\" cy=\"174.975\" r=\"14.4\" fill=\"#009af9\" fill-rule=\"evenodd\" fill-opacity=\"1\" stroke=\"#000000\" stroke-opacity=\"1\" stroke-width=\"3.2\"/>\n",
       "<circle clip-path=\"url(#clip303)\" cx=\"2228.42\" cy=\"116.239\" r=\"14.4\" fill=\"#009af9\" fill-rule=\"evenodd\" fill-opacity=\"1\" stroke=\"#000000\" stroke-opacity=\"1\" stroke-width=\"3.2\"/>\n",
       "<circle clip-path=\"url(#clip303)\" cx=\"1845.86\" cy=\"113.302\" r=\"14.4\" fill=\"#009af9\" fill-rule=\"evenodd\" fill-opacity=\"1\" stroke=\"#000000\" stroke-opacity=\"1\" stroke-width=\"3.2\"/>\n",
       "<circle clip-path=\"url(#clip303)\" cx=\"2037.14\" cy=\"65.3348\" r=\"14.4\" fill=\"#009af9\" fill-rule=\"evenodd\" fill-opacity=\"1\" stroke=\"#000000\" stroke-opacity=\"1\" stroke-width=\"3.2\"/>\n",
       "<circle clip-path=\"url(#clip303)\" cx=\"2324.06\" cy=\"178.891\" r=\"14.4\" fill=\"#009af9\" fill-rule=\"evenodd\" fill-opacity=\"1\" stroke=\"#000000\" stroke-opacity=\"1\" stroke-width=\"3.2\"/>\n",
       "<circle clip-path=\"url(#clip303)\" cx=\"1558.93\" cy=\"371.741\" r=\"14.4\" fill=\"#009af9\" fill-rule=\"evenodd\" fill-opacity=\"1\" stroke=\"#000000\" stroke-opacity=\"1\" stroke-width=\"3.2\"/>\n",
       "<circle clip-path=\"url(#clip303)\" cx=\"1367.65\" cy=\"668.357\" r=\"14.4\" fill=\"#009af9\" fill-rule=\"evenodd\" fill-opacity=\"1\" stroke=\"#000000\" stroke-opacity=\"1\" stroke-width=\"3.2\"/>\n",
       "<circle clip-path=\"url(#clip303)\" cx=\"2132.78\" cy=\"78.0609\" r=\"14.4\" fill=\"#009af9\" fill-rule=\"evenodd\" fill-opacity=\"1\" stroke=\"#000000\" stroke-opacity=\"1\" stroke-width=\"3.2\"/>\n",
       "<circle clip-path=\"url(#clip303)\" cx=\"1654.58\" cy=\"261.121\" r=\"14.4\" fill=\"#009af9\" fill-rule=\"evenodd\" fill-opacity=\"1\" stroke=\"#000000\" stroke-opacity=\"1\" stroke-width=\"3.2\"/>\n",
       "<circle clip-path=\"url(#clip303)\" cx=\"1463.29\" cy=\"507.812\" r=\"14.4\" fill=\"#009af9\" fill-rule=\"evenodd\" fill-opacity=\"1\" stroke=\"#000000\" stroke-opacity=\"1\" stroke-width=\"3.2\"/>\n",
       "<path clip-path=\"url(#clip300)\" d=\"M138.959 1486.45 L1152.76 1486.45 L1152.76 847.244 L138.959 847.244  Z\" fill=\"#ffffff\" fill-rule=\"evenodd\" fill-opacity=\"1\"/>\n",
       "<defs>\n",
       "  <clipPath id=\"clip304\">\n",
       "    <rect x=\"138\" y=\"847\" width=\"1015\" height=\"640\"/>\n",
       "  </clipPath>\n",
       "</defs>\n",
       "<polyline clip-path=\"url(#clip304)\" style=\"stroke:#000000; stroke-linecap:round; stroke-linejoin:round; stroke-width:2; stroke-opacity:0.1; fill:none\" points=\"263.293,1486.45 263.293,847.244 \"/>\n",
       "<polyline clip-path=\"url(#clip304)\" style=\"stroke:#000000; stroke-linecap:round; stroke-linejoin:round; stroke-width:2; stroke-opacity:0.1; fill:none\" points=\"502.396,1486.45 502.396,847.244 \"/>\n",
       "<polyline clip-path=\"url(#clip304)\" style=\"stroke:#000000; stroke-linecap:round; stroke-linejoin:round; stroke-width:2; stroke-opacity:0.1; fill:none\" points=\"741.499,1486.45 741.499,847.244 \"/>\n",
       "<polyline clip-path=\"url(#clip304)\" style=\"stroke:#000000; stroke-linecap:round; stroke-linejoin:round; stroke-width:2; stroke-opacity:0.1; fill:none\" points=\"980.602,1486.45 980.602,847.244 \"/>\n",
       "<polyline clip-path=\"url(#clip300)\" style=\"stroke:#000000; stroke-linecap:round; stroke-linejoin:round; stroke-width:4; stroke-opacity:1; fill:none\" points=\"138.959,1486.45 1152.76,1486.45 \"/>\n",
       "<polyline clip-path=\"url(#clip300)\" style=\"stroke:#000000; stroke-linecap:round; stroke-linejoin:round; stroke-width:4; stroke-opacity:1; fill:none\" points=\"263.293,1486.45 263.293,1467.55 \"/>\n",
       "<polyline clip-path=\"url(#clip300)\" style=\"stroke:#000000; stroke-linecap:round; stroke-linejoin:round; stroke-width:4; stroke-opacity:1; fill:none\" points=\"502.396,1486.45 502.396,1467.55 \"/>\n",
       "<polyline clip-path=\"url(#clip300)\" style=\"stroke:#000000; stroke-linecap:round; stroke-linejoin:round; stroke-width:4; stroke-opacity:1; fill:none\" points=\"741.499,1486.45 741.499,1467.55 \"/>\n",
       "<polyline clip-path=\"url(#clip300)\" style=\"stroke:#000000; stroke-linecap:round; stroke-linejoin:round; stroke-width:4; stroke-opacity:1; fill:none\" points=\"980.602,1486.45 980.602,1467.55 \"/>\n",
       "<path clip-path=\"url(#clip300)\" d=\"M230.457 1514.29 L248.814 1514.29 L248.814 1518.22 L234.74 1518.22 L234.74 1526.7 Q235.758 1526.35 236.777 1526.19 Q237.795 1526 238.814 1526 Q244.601 1526 247.981 1529.17 Q251.36 1532.34 251.36 1537.76 Q251.36 1543.34 247.888 1546.44 Q244.416 1549.52 238.096 1549.52 Q235.92 1549.52 233.652 1549.15 Q231.407 1548.78 228.999 1548.04 L228.999 1543.34 Q231.082 1544.47 233.305 1545.03 Q235.527 1545.58 238.004 1545.58 Q242.008 1545.58 244.346 1543.48 Q246.684 1541.37 246.684 1537.76 Q246.684 1534.15 244.346 1532.04 Q242.008 1529.94 238.004 1529.94 Q236.129 1529.94 234.254 1530.35 Q232.402 1530.77 230.457 1531.65 L230.457 1514.29 Z\" fill=\"#000000\" fill-rule=\"evenodd\" fill-opacity=\"1\" /><path clip-path=\"url(#clip300)\" d=\"M260.573 1542.97 L265.457 1542.97 L265.457 1548.85 L260.573 1548.85 L260.573 1542.97 Z\" fill=\"#000000\" fill-rule=\"evenodd\" fill-opacity=\"1\" /><path clip-path=\"url(#clip300)\" d=\"M285.642 1517.37 Q282.031 1517.37 280.203 1520.93 Q278.397 1524.47 278.397 1531.6 Q278.397 1538.71 280.203 1542.27 Q282.031 1545.82 285.642 1545.82 Q289.277 1545.82 291.082 1542.27 Q292.911 1538.71 292.911 1531.6 Q292.911 1524.47 291.082 1520.93 Q289.277 1517.37 285.642 1517.37 M285.642 1513.66 Q291.453 1513.66 294.508 1518.27 Q297.587 1522.85 297.587 1531.6 Q297.587 1540.33 294.508 1544.94 Q291.453 1549.52 285.642 1549.52 Q279.832 1549.52 276.754 1544.94 Q273.698 1540.33 273.698 1531.6 Q273.698 1522.85 276.754 1518.27 Q279.832 1513.66 285.642 1513.66 Z\" fill=\"#000000\" fill-rule=\"evenodd\" fill-opacity=\"1\" /><path clip-path=\"url(#clip300)\" d=\"M468.716 1514.29 L490.938 1514.29 L490.938 1516.28 L478.391 1548.85 L473.507 1548.85 L485.313 1518.22 L468.716 1518.22 L468.716 1514.29 Z\" fill=\"#000000\" fill-rule=\"evenodd\" fill-opacity=\"1\" /><path clip-path=\"url(#clip300)\" d=\"M500.058 1542.97 L504.942 1542.97 L504.942 1548.85 L500.058 1548.85 L500.058 1542.97 Z\" fill=\"#000000\" fill-rule=\"evenodd\" fill-opacity=\"1\" /><path clip-path=\"url(#clip300)\" d=\"M515.174 1514.29 L533.53 1514.29 L533.53 1518.22 L519.456 1518.22 L519.456 1526.7 Q520.475 1526.35 521.493 1526.19 Q522.512 1526 523.53 1526 Q529.317 1526 532.697 1529.17 Q536.076 1532.34 536.076 1537.76 Q536.076 1543.34 532.604 1546.44 Q529.132 1549.52 522.812 1549.52 Q520.637 1549.52 518.368 1549.15 Q516.123 1548.78 513.715 1548.04 L513.715 1543.34 Q515.799 1544.47 518.021 1545.03 Q520.243 1545.58 522.72 1545.58 Q526.724 1545.58 529.062 1543.48 Q531.4 1541.37 531.4 1537.76 Q531.4 1534.15 529.062 1532.04 Q526.724 1529.94 522.72 1529.94 Q520.845 1529.94 518.97 1530.35 Q517.118 1530.77 515.174 1531.65 L515.174 1514.29 Z\" fill=\"#000000\" fill-rule=\"evenodd\" fill-opacity=\"1\" /><path clip-path=\"url(#clip300)\" d=\"M693.571 1544.91 L701.21 1544.91 L701.21 1518.55 L692.9 1520.21 L692.9 1515.95 L701.163 1514.29 L705.839 1514.29 L705.839 1544.91 L713.478 1544.91 L713.478 1548.85 L693.571 1548.85 L693.571 1544.91 Z\" fill=\"#000000\" fill-rule=\"evenodd\" fill-opacity=\"1\" /><path clip-path=\"url(#clip300)\" d=\"M732.923 1517.37 Q729.311 1517.37 727.483 1520.93 Q725.677 1524.47 725.677 1531.6 Q725.677 1538.71 727.483 1542.27 Q729.311 1545.82 732.923 1545.82 Q736.557 1545.82 738.362 1542.27 Q740.191 1538.71 740.191 1531.6 Q740.191 1524.47 738.362 1520.93 Q736.557 1517.37 732.923 1517.37 M732.923 1513.66 Q738.733 1513.66 741.788 1518.27 Q744.867 1522.85 744.867 1531.6 Q744.867 1540.33 741.788 1544.94 Q738.733 1549.52 732.923 1549.52 Q727.112 1549.52 724.034 1544.94 Q720.978 1540.33 720.978 1531.6 Q720.978 1522.85 724.034 1518.27 Q727.112 1513.66 732.923 1513.66 Z\" fill=\"#000000\" fill-rule=\"evenodd\" fill-opacity=\"1\" /><path clip-path=\"url(#clip300)\" d=\"M753.084 1542.97 L757.969 1542.97 L757.969 1548.85 L753.084 1548.85 L753.084 1542.97 Z\" fill=\"#000000\" fill-rule=\"evenodd\" fill-opacity=\"1\" /><path clip-path=\"url(#clip300)\" d=\"M778.154 1517.37 Q774.543 1517.37 772.714 1520.93 Q770.908 1524.47 770.908 1531.6 Q770.908 1538.71 772.714 1542.27 Q774.543 1545.82 778.154 1545.82 Q781.788 1545.82 783.594 1542.27 Q785.422 1538.71 785.422 1531.6 Q785.422 1524.47 783.594 1520.93 Q781.788 1517.37 778.154 1517.37 M778.154 1513.66 Q783.964 1513.66 787.019 1518.27 Q790.098 1522.85 790.098 1531.6 Q790.098 1540.33 787.019 1544.94 Q783.964 1549.52 778.154 1549.52 Q772.344 1549.52 769.265 1544.94 Q766.209 1540.33 766.209 1531.6 Q766.209 1522.85 769.265 1518.27 Q772.344 1513.66 778.154 1513.66 Z\" fill=\"#000000\" fill-rule=\"evenodd\" fill-opacity=\"1\" /><path clip-path=\"url(#clip300)\" d=\"M933.171 1544.91 L940.81 1544.91 L940.81 1518.55 L932.5 1520.21 L932.5 1515.95 L940.764 1514.29 L945.44 1514.29 L945.44 1544.91 L953.079 1544.91 L953.079 1548.85 L933.171 1548.85 L933.171 1544.91 Z\" fill=\"#000000\" fill-rule=\"evenodd\" fill-opacity=\"1\" /><path clip-path=\"url(#clip300)\" d=\"M966.551 1544.91 L982.87 1544.91 L982.87 1548.85 L960.926 1548.85 L960.926 1544.91 Q963.588 1542.16 968.171 1537.53 Q972.778 1532.88 973.958 1531.53 Q976.204 1529.01 977.083 1527.27 Q977.986 1525.51 977.986 1523.82 Q977.986 1521.07 976.042 1519.33 Q974.12 1517.6 971.019 1517.6 Q968.819 1517.6 966.366 1518.36 Q963.935 1519.13 961.157 1520.68 L961.157 1515.95 Q963.982 1514.82 966.435 1514.24 Q968.889 1513.66 970.926 1513.66 Q976.296 1513.66 979.491 1516.35 Q982.685 1519.03 982.685 1523.52 Q982.685 1525.65 981.875 1527.57 Q981.088 1529.47 978.981 1532.07 Q978.403 1532.74 975.301 1535.95 Q972.199 1539.15 966.551 1544.91 Z\" fill=\"#000000\" fill-rule=\"evenodd\" fill-opacity=\"1\" /><path clip-path=\"url(#clip300)\" d=\"M992.685 1542.97 L997.569 1542.97 L997.569 1548.85 L992.685 1548.85 L992.685 1542.97 Z\" fill=\"#000000\" fill-rule=\"evenodd\" fill-opacity=\"1\" /><path clip-path=\"url(#clip300)\" d=\"M1007.8 1514.29 L1026.16 1514.29 L1026.16 1518.22 L1012.08 1518.22 L1012.08 1526.7 Q1013.1 1526.35 1014.12 1526.19 Q1015.14 1526 1016.16 1526 Q1021.94 1526 1025.32 1529.17 Q1028.7 1532.34 1028.7 1537.76 Q1028.7 1543.34 1025.23 1546.44 Q1021.76 1549.52 1015.44 1549.52 Q1013.26 1549.52 1011 1549.15 Q1008.75 1548.78 1006.34 1548.04 L1006.34 1543.34 Q1008.43 1544.47 1010.65 1545.03 Q1012.87 1545.58 1015.35 1545.58 Q1019.35 1545.58 1021.69 1543.48 Q1024.03 1541.37 1024.03 1537.76 Q1024.03 1534.15 1021.69 1532.04 Q1019.35 1529.94 1015.35 1529.94 Q1013.47 1529.94 1011.6 1530.35 Q1009.75 1530.77 1007.8 1531.65 L1007.8 1514.29 Z\" fill=\"#000000\" fill-rule=\"evenodd\" fill-opacity=\"1\" /><polyline clip-path=\"url(#clip304)\" style=\"stroke:#000000; stroke-linecap:round; stroke-linejoin:round; stroke-width:2; stroke-opacity:0.1; fill:none\" points=\"138.959,1418.31 1152.76,1418.31 \"/>\n",
       "<polyline clip-path=\"url(#clip304)\" style=\"stroke:#000000; stroke-linecap:round; stroke-linejoin:round; stroke-width:2; stroke-opacity:0.1; fill:none\" points=\"138.959,1336.27 1152.76,1336.27 \"/>\n",
       "<polyline clip-path=\"url(#clip304)\" style=\"stroke:#000000; stroke-linecap:round; stroke-linejoin:round; stroke-width:2; stroke-opacity:0.1; fill:none\" points=\"138.959,1254.22 1152.76,1254.22 \"/>\n",
       "<polyline clip-path=\"url(#clip304)\" style=\"stroke:#000000; stroke-linecap:round; stroke-linejoin:round; stroke-width:2; stroke-opacity:0.1; fill:none\" points=\"138.959,1172.18 1152.76,1172.18 \"/>\n",
       "<polyline clip-path=\"url(#clip304)\" style=\"stroke:#000000; stroke-linecap:round; stroke-linejoin:round; stroke-width:2; stroke-opacity:0.1; fill:none\" points=\"138.959,1090.13 1152.76,1090.13 \"/>\n",
       "<polyline clip-path=\"url(#clip304)\" style=\"stroke:#000000; stroke-linecap:round; stroke-linejoin:round; stroke-width:2; stroke-opacity:0.1; fill:none\" points=\"138.959,1008.09 1152.76,1008.09 \"/>\n",
       "<polyline clip-path=\"url(#clip304)\" style=\"stroke:#000000; stroke-linecap:round; stroke-linejoin:round; stroke-width:2; stroke-opacity:0.1; fill:none\" points=\"138.959,926.047 1152.76,926.047 \"/>\n",
       "<polyline clip-path=\"url(#clip300)\" style=\"stroke:#000000; stroke-linecap:round; stroke-linejoin:round; stroke-width:4; stroke-opacity:1; fill:none\" points=\"138.959,1486.45 138.959,847.244 \"/>\n",
       "<polyline clip-path=\"url(#clip300)\" style=\"stroke:#000000; stroke-linecap:round; stroke-linejoin:round; stroke-width:4; stroke-opacity:1; fill:none\" points=\"138.959,1418.31 157.857,1418.31 \"/>\n",
       "<polyline clip-path=\"url(#clip300)\" style=\"stroke:#000000; stroke-linecap:round; stroke-linejoin:round; stroke-width:4; stroke-opacity:1; fill:none\" points=\"138.959,1336.27 157.857,1336.27 \"/>\n",
       "<polyline clip-path=\"url(#clip300)\" style=\"stroke:#000000; stroke-linecap:round; stroke-linejoin:round; stroke-width:4; stroke-opacity:1; fill:none\" points=\"138.959,1254.22 157.857,1254.22 \"/>\n",
       "<polyline clip-path=\"url(#clip300)\" style=\"stroke:#000000; stroke-linecap:round; stroke-linejoin:round; stroke-width:4; stroke-opacity:1; fill:none\" points=\"138.959,1172.18 157.857,1172.18 \"/>\n",
       "<polyline clip-path=\"url(#clip300)\" style=\"stroke:#000000; stroke-linecap:round; stroke-linejoin:round; stroke-width:4; stroke-opacity:1; fill:none\" points=\"138.959,1090.13 157.857,1090.13 \"/>\n",
       "<polyline clip-path=\"url(#clip300)\" style=\"stroke:#000000; stroke-linecap:round; stroke-linejoin:round; stroke-width:4; stroke-opacity:1; fill:none\" points=\"138.959,1008.09 157.857,1008.09 \"/>\n",
       "<polyline clip-path=\"url(#clip300)\" style=\"stroke:#000000; stroke-linecap:round; stroke-linejoin:round; stroke-width:4; stroke-opacity:1; fill:none\" points=\"138.959,926.047 157.857,926.047 \"/>\n",
       "<path clip-path=\"url(#clip300)\" d=\"M91.4317 1416.45 Q88.2836 1416.45 86.4318 1418.6 Q84.6031 1420.75 84.6031 1424.5 Q84.6031 1428.23 86.4318 1430.41 Q88.2836 1432.56 91.4317 1432.56 Q94.5799 1432.56 96.4085 1430.41 Q98.2604 1428.23 98.2604 1424.5 Q98.2604 1420.75 96.4085 1418.6 Q94.5799 1416.45 91.4317 1416.45 M100.714 1401.79 L100.714 1406.05 Q98.9548 1405.22 97.1493 1404.78 Q95.3669 1404.34 93.6076 1404.34 Q88.978 1404.34 86.5243 1407.47 Q84.0938 1410.59 83.7466 1416.91 Q85.1123 1414.9 87.1725 1413.83 Q89.2327 1412.74 91.7095 1412.74 Q96.9178 1412.74 99.927 1415.91 Q102.959 1419.06 102.959 1424.5 Q102.959 1429.83 99.8113 1433.04 Q96.6632 1436.26 91.4317 1436.26 Q85.4364 1436.26 82.2651 1431.68 Q79.0938 1427.07 79.0938 1418.35 Q79.0938 1410.15 82.9827 1405.29 Q86.8716 1400.41 93.4225 1400.41 Q95.1817 1400.41 96.9641 1400.75 Q98.7696 1401.1 100.714 1401.79 Z\" fill=\"#000000\" fill-rule=\"evenodd\" fill-opacity=\"1\" /><path clip-path=\"url(#clip300)\" d=\"M80.7373 1318.99 L102.959 1318.99 L102.959 1320.98 L90.4132 1353.55 L85.529 1353.55 L97.3345 1322.92 L80.7373 1322.92 L80.7373 1318.99 Z\" fill=\"#000000\" fill-rule=\"evenodd\" fill-opacity=\"1\" /><path clip-path=\"url(#clip300)\" d=\"M91.1077 1255.09 Q87.7743 1255.09 85.8531 1256.87 Q83.9549 1258.66 83.9549 1261.78 Q83.9549 1264.91 85.8531 1266.69 Q87.7743 1268.47 91.1077 1268.47 Q94.441 1268.47 96.3623 1266.69 Q98.2835 1264.88 98.2835 1261.78 Q98.2835 1258.66 96.3623 1256.87 Q94.4641 1255.09 91.1077 1255.09 M86.4318 1253.1 Q83.4225 1252.36 81.7327 1250.3 Q80.066 1248.24 80.066 1245.28 Q80.066 1241.13 83.0058 1238.73 Q85.9688 1236.32 91.1077 1236.32 Q96.2697 1236.32 99.2095 1238.73 Q102.149 1241.13 102.149 1245.28 Q102.149 1248.24 100.459 1250.3 Q98.7928 1252.36 95.8067 1253.1 Q99.1863 1253.89 101.061 1256.18 Q102.959 1258.47 102.959 1261.78 Q102.959 1266.8 99.8808 1269.49 Q96.8252 1272.17 91.1077 1272.17 Q85.3901 1272.17 82.3114 1269.49 Q79.2559 1266.8 79.2559 1261.78 Q79.2559 1258.47 81.154 1256.18 Q83.0521 1253.89 86.4318 1253.1 M84.7188 1245.72 Q84.7188 1248.4 86.3855 1249.91 Q88.0753 1251.41 91.1077 1251.41 Q94.1169 1251.41 95.8067 1249.91 Q97.5197 1248.4 97.5197 1245.72 Q97.5197 1243.03 95.8067 1241.53 Q94.1169 1240.02 91.1077 1240.02 Q88.0753 1240.02 86.3855 1241.53 Q84.7188 1243.03 84.7188 1245.72 Z\" fill=\"#000000\" fill-rule=\"evenodd\" fill-opacity=\"1\" /><path clip-path=\"url(#clip300)\" d=\"M81.3392 1188.74 L81.3392 1184.48 Q83.0984 1185.32 84.904 1185.76 Q86.7095 1186.19 88.4456 1186.19 Q93.0752 1186.19 95.5058 1183.09 Q97.9595 1179.97 98.3067 1173.63 Q96.9641 1175.62 94.9039 1176.68 Q92.8438 1177.75 90.3438 1177.75 Q85.1586 1177.75 82.1262 1174.62 Q79.117 1171.47 79.117 1166.03 Q79.117 1160.71 82.2651 1157.49 Q85.4132 1154.27 90.6447 1154.27 Q96.64 1154.27 99.7882 1158.88 Q102.959 1163.46 102.959 1172.21 Q102.959 1180.38 99.0706 1185.27 Q95.2049 1190.13 88.654 1190.13 Q86.8947 1190.13 85.0892 1189.78 Q83.2836 1189.44 81.3392 1188.74 M90.6447 1174.09 Q93.7928 1174.09 95.6215 1171.94 Q97.4734 1169.78 97.4734 1166.03 Q97.4734 1162.31 95.6215 1160.15 Q93.7928 1157.98 90.6447 1157.98 Q87.4966 1157.98 85.6447 1160.15 Q83.816 1162.31 83.816 1166.03 Q83.816 1169.78 85.6447 1171.94 Q87.4966 1174.09 90.6447 1174.09 Z\" fill=\"#000000\" fill-rule=\"evenodd\" fill-opacity=\"1\" /><path clip-path=\"url(#clip300)\" d=\"M51.6634 1103.48 L59.3023 1103.48 L59.3023 1077.11 L50.9921 1078.78 L50.9921 1074.52 L59.256 1072.85 L63.9319 1072.85 L63.9319 1103.48 L71.5707 1103.48 L71.5707 1107.41 L51.6634 1107.41 L51.6634 1103.48 Z\" fill=\"#000000\" fill-rule=\"evenodd\" fill-opacity=\"1\" /><path clip-path=\"url(#clip300)\" d=\"M91.0151 1075.93 Q87.404 1075.93 85.5753 1079.5 Q83.7697 1083.04 83.7697 1090.17 Q83.7697 1097.28 85.5753 1100.84 Q87.404 1104.38 91.0151 1104.38 Q94.6493 1104.38 96.4548 1100.84 Q98.2835 1097.28 98.2835 1090.17 Q98.2835 1083.04 96.4548 1079.5 Q94.6493 1075.93 91.0151 1075.93 M91.0151 1072.23 Q96.8252 1072.23 99.8808 1076.84 Q102.959 1081.42 102.959 1090.17 Q102.959 1098.9 99.8808 1103.5 Q96.8252 1108.09 91.0151 1108.09 Q85.2049 1108.09 82.1262 1103.5 Q79.0707 1098.9 79.0707 1090.17 Q79.0707 1081.42 82.1262 1076.84 Q85.2049 1072.23 91.0151 1072.23 Z\" fill=\"#000000\" fill-rule=\"evenodd\" fill-opacity=\"1\" /><path clip-path=\"url(#clip300)\" d=\"M52.8903 1021.44 L60.5291 1021.44 L60.5291 995.07 L52.219 996.737 L52.219 992.478 L60.4828 990.811 L65.1587 990.811 L65.1587 1021.44 L72.7976 1021.44 L72.7976 1025.37 L52.8903 1025.37 L52.8903 1021.44 Z\" fill=\"#000000\" fill-rule=\"evenodd\" fill-opacity=\"1\" /><path clip-path=\"url(#clip300)\" d=\"M83.0521 1021.44 L90.691 1021.44 L90.691 995.07 L82.3808 996.737 L82.3808 992.478 L90.6447 990.811 L95.3206 990.811 L95.3206 1021.44 L102.959 1021.44 L102.959 1025.37 L83.0521 1025.37 L83.0521 1021.44 Z\" fill=\"#000000\" fill-rule=\"evenodd\" fill-opacity=\"1\" /><path clip-path=\"url(#clip300)\" d=\"M53.2606 939.392 L60.8995 939.392 L60.8995 913.026 L52.5893 914.693 L52.5893 910.434 L60.8532 908.767 L65.5291 908.767 L65.5291 939.392 L73.1679 939.392 L73.1679 943.327 L53.2606 943.327 L53.2606 939.392 Z\" fill=\"#000000\" fill-rule=\"evenodd\" fill-opacity=\"1\" /><path clip-path=\"url(#clip300)\" d=\"M86.6401 939.392 L102.959 939.392 L102.959 943.327 L81.0151 943.327 L81.0151 939.392 Q83.6771 936.637 88.2604 932.008 Q92.8669 927.355 94.0475 926.013 Q96.2928 923.489 97.1724 921.753 Q98.0752 919.994 98.0752 918.304 Q98.0752 915.55 96.1308 913.813 Q94.2095 912.077 91.1077 912.077 Q88.9086 912.077 86.4549 912.841 Q84.0244 913.605 81.2466 915.156 L81.2466 910.434 Q84.0707 909.3 86.5243 908.721 Q88.978 908.142 91.0151 908.142 Q96.3854 908.142 99.5798 910.827 Q102.774 913.513 102.774 918.003 Q102.774 920.133 101.964 922.054 Q101.177 923.952 99.0706 926.545 Q98.4919 927.216 95.39 930.434 Q92.2882 933.628 86.6401 939.392 Z\" fill=\"#000000\" fill-rule=\"evenodd\" fill-opacity=\"1\" /><circle clip-path=\"url(#clip304)\" cx=\"741.499\" cy=\"1298.53\" r=\"14.4\" fill=\"#009af9\" fill-rule=\"evenodd\" fill-opacity=\"1\" stroke=\"#000000\" stroke-opacity=\"1\" stroke-width=\"3.2\"/>\n",
       "<circle clip-path=\"url(#clip304)\" cx=\"550.216\" cy=\"1355.14\" r=\"14.4\" fill=\"#009af9\" fill-rule=\"evenodd\" fill-opacity=\"1\" stroke=\"#000000\" stroke-opacity=\"1\" stroke-width=\"3.2\"/>\n",
       "<circle clip-path=\"url(#clip304)\" cx=\"1028.42\" cy=\"865.335\" r=\"14.4\" fill=\"#009af9\" fill-rule=\"evenodd\" fill-opacity=\"1\" stroke=\"#000000\" stroke-opacity=\"1\" stroke-width=\"3.2\"/>\n",
       "<circle clip-path=\"url(#clip304)\" cx=\"645.858\" cy=\"1327.24\" r=\"14.4\" fill=\"#009af9\" fill-rule=\"evenodd\" fill-opacity=\"1\" stroke=\"#000000\" stroke-opacity=\"1\" stroke-width=\"3.2\"/>\n",
       "<circle clip-path=\"url(#clip304)\" cx=\"837.14\" cy=\"1269.81\" r=\"14.4\" fill=\"#009af9\" fill-rule=\"evenodd\" fill-opacity=\"1\" stroke=\"#000000\" stroke-opacity=\"1\" stroke-width=\"3.2\"/>\n",
       "<circle clip-path=\"url(#clip304)\" cx=\"1124.06\" cy=\"1185.31\" r=\"14.4\" fill=\"#009af9\" fill-rule=\"evenodd\" fill-opacity=\"1\" stroke=\"#000000\" stroke-opacity=\"1\" stroke-width=\"3.2\"/>\n",
       "<circle clip-path=\"url(#clip304)\" cx=\"358.934\" cy=\"1411.75\" r=\"14.4\" fill=\"#009af9\" fill-rule=\"evenodd\" fill-opacity=\"1\" stroke=\"#000000\" stroke-opacity=\"1\" stroke-width=\"3.2\"/>\n",
       "<circle clip-path=\"url(#clip304)\" cx=\"167.652\" cy=\"1468.36\" r=\"14.4\" fill=\"#009af9\" fill-rule=\"evenodd\" fill-opacity=\"1\" stroke=\"#000000\" stroke-opacity=\"1\" stroke-width=\"3.2\"/>\n",
       "<circle clip-path=\"url(#clip304)\" cx=\"932.781\" cy=\"1241.92\" r=\"14.4\" fill=\"#009af9\" fill-rule=\"evenodd\" fill-opacity=\"1\" stroke=\"#000000\" stroke-opacity=\"1\" stroke-width=\"3.2\"/>\n",
       "<circle clip-path=\"url(#clip304)\" cx=\"454.575\" cy=\"1383.85\" r=\"14.4\" fill=\"#009af9\" fill-rule=\"evenodd\" fill-opacity=\"1\" stroke=\"#000000\" stroke-opacity=\"1\" stroke-width=\"3.2\"/>\n",
       "<circle clip-path=\"url(#clip304)\" cx=\"263.293\" cy=\"1440.46\" r=\"14.4\" fill=\"#009af9\" fill-rule=\"evenodd\" fill-opacity=\"1\" stroke=\"#000000\" stroke-opacity=\"1\" stroke-width=\"3.2\"/>\n",
       "<path clip-path=\"url(#clip300)\" d=\"M1338.96 1486.45 L2352.76 1486.45 L2352.76 847.244 L1338.96 847.244  Z\" fill=\"#ffffff\" fill-rule=\"evenodd\" fill-opacity=\"1\"/>\n",
       "<defs>\n",
       "  <clipPath id=\"clip305\">\n",
       "    <rect x=\"1338\" y=\"847\" width=\"1015\" height=\"640\"/>\n",
       "  </clipPath>\n",
       "</defs>\n",
       "<polyline clip-path=\"url(#clip305)\" style=\"stroke:#000000; stroke-linecap:round; stroke-linejoin:round; stroke-width:2; stroke-opacity:0.1; fill:none\" points=\"1541.54,1486.45 1541.54,847.244 \"/>\n",
       "<polyline clip-path=\"url(#clip305)\" style=\"stroke:#000000; stroke-linecap:round; stroke-linejoin:round; stroke-width:2; stroke-opacity:0.1; fill:none\" points=\"1758.91,1486.45 1758.91,847.244 \"/>\n",
       "<polyline clip-path=\"url(#clip305)\" style=\"stroke:#000000; stroke-linecap:round; stroke-linejoin:round; stroke-width:2; stroke-opacity:0.1; fill:none\" points=\"1976.28,1486.45 1976.28,847.244 \"/>\n",
       "<polyline clip-path=\"url(#clip305)\" style=\"stroke:#000000; stroke-linecap:round; stroke-linejoin:round; stroke-width:2; stroke-opacity:0.1; fill:none\" points=\"2193.64,1486.45 2193.64,847.244 \"/>\n",
       "<polyline clip-path=\"url(#clip300)\" style=\"stroke:#000000; stroke-linecap:round; stroke-linejoin:round; stroke-width:4; stroke-opacity:1; fill:none\" points=\"1338.96,1486.45 2352.76,1486.45 \"/>\n",
       "<polyline clip-path=\"url(#clip300)\" style=\"stroke:#000000; stroke-linecap:round; stroke-linejoin:round; stroke-width:4; stroke-opacity:1; fill:none\" points=\"1541.54,1486.45 1541.54,1467.55 \"/>\n",
       "<polyline clip-path=\"url(#clip300)\" style=\"stroke:#000000; stroke-linecap:round; stroke-linejoin:round; stroke-width:4; stroke-opacity:1; fill:none\" points=\"1758.91,1486.45 1758.91,1467.55 \"/>\n",
       "<polyline clip-path=\"url(#clip300)\" style=\"stroke:#000000; stroke-linecap:round; stroke-linejoin:round; stroke-width:4; stroke-opacity:1; fill:none\" points=\"1976.28,1486.45 1976.28,1467.55 \"/>\n",
       "<polyline clip-path=\"url(#clip300)\" style=\"stroke:#000000; stroke-linecap:round; stroke-linejoin:round; stroke-width:4; stroke-opacity:1; fill:none\" points=\"2193.64,1486.45 2193.64,1467.55 \"/>\n",
       "<path clip-path=\"url(#clip300)\" d=\"M1493.62 1544.91 L1501.26 1544.91 L1501.26 1518.55 L1492.95 1520.21 L1492.95 1515.95 L1501.21 1514.29 L1505.89 1514.29 L1505.89 1544.91 L1513.52 1544.91 L1513.52 1548.85 L1493.62 1548.85 L1493.62 1544.91 Z\" fill=\"#000000\" fill-rule=\"evenodd\" fill-opacity=\"1\" /><path clip-path=\"url(#clip300)\" d=\"M1532.97 1517.37 Q1529.36 1517.37 1527.53 1520.93 Q1525.72 1524.47 1525.72 1531.6 Q1525.72 1538.71 1527.53 1542.27 Q1529.36 1545.82 1532.97 1545.82 Q1536.6 1545.82 1538.41 1542.27 Q1540.24 1538.71 1540.24 1531.6 Q1540.24 1524.47 1538.41 1520.93 Q1536.6 1517.37 1532.97 1517.37 M1532.97 1513.66 Q1538.78 1513.66 1541.83 1518.27 Q1544.91 1522.85 1544.91 1531.6 Q1544.91 1540.33 1541.83 1544.94 Q1538.78 1549.52 1532.97 1549.52 Q1527.16 1549.52 1524.08 1544.94 Q1521.02 1540.33 1521.02 1531.6 Q1521.02 1522.85 1524.08 1518.27 Q1527.16 1513.66 1532.97 1513.66 Z\" fill=\"#000000\" fill-rule=\"evenodd\" fill-opacity=\"1\" /><path clip-path=\"url(#clip300)\" d=\"M1553.13 1542.97 L1558.01 1542.97 L1558.01 1548.85 L1553.13 1548.85 L1553.13 1542.97 Z\" fill=\"#000000\" fill-rule=\"evenodd\" fill-opacity=\"1\" /><path clip-path=\"url(#clip300)\" d=\"M1578.2 1517.37 Q1574.59 1517.37 1572.76 1520.93 Q1570.95 1524.47 1570.95 1531.6 Q1570.95 1538.71 1572.76 1542.27 Q1574.59 1545.82 1578.2 1545.82 Q1581.83 1545.82 1583.64 1542.27 Q1585.47 1538.71 1585.47 1531.6 Q1585.47 1524.47 1583.64 1520.93 Q1581.83 1517.37 1578.2 1517.37 M1578.2 1513.66 Q1584.01 1513.66 1587.07 1518.27 Q1590.14 1522.85 1590.14 1531.6 Q1590.14 1540.33 1587.07 1544.94 Q1584.01 1549.52 1578.2 1549.52 Q1572.39 1549.52 1569.31 1544.94 Q1566.26 1540.33 1566.26 1531.6 Q1566.26 1522.85 1569.31 1518.27 Q1572.39 1513.66 1578.2 1513.66 Z\" fill=\"#000000\" fill-rule=\"evenodd\" fill-opacity=\"1\" /><path clip-path=\"url(#clip300)\" d=\"M1711.48 1544.91 L1719.12 1544.91 L1719.12 1518.55 L1710.81 1520.21 L1710.81 1515.95 L1719.07 1514.29 L1723.75 1514.29 L1723.75 1544.91 L1731.39 1544.91 L1731.39 1548.85 L1711.48 1548.85 L1711.48 1544.91 Z\" fill=\"#000000\" fill-rule=\"evenodd\" fill-opacity=\"1\" /><path clip-path=\"url(#clip300)\" d=\"M1744.86 1544.91 L1761.18 1544.91 L1761.18 1548.85 L1739.24 1548.85 L1739.24 1544.91 Q1741.9 1542.16 1746.48 1537.53 Q1751.09 1532.88 1752.27 1531.53 Q1754.51 1529.01 1755.39 1527.27 Q1756.3 1525.51 1756.3 1523.82 Q1756.3 1521.07 1754.35 1519.33 Q1752.43 1517.6 1749.33 1517.6 Q1747.13 1517.6 1744.68 1518.36 Q1742.24 1519.13 1739.47 1520.68 L1739.47 1515.95 Q1742.29 1514.82 1744.74 1514.24 Q1747.2 1513.66 1749.24 1513.66 Q1754.61 1513.66 1757.8 1516.35 Q1760.99 1519.03 1760.99 1523.52 Q1760.99 1525.65 1760.18 1527.57 Q1759.4 1529.47 1757.29 1532.07 Q1756.71 1532.74 1753.61 1535.95 Q1750.51 1539.15 1744.86 1544.91 Z\" fill=\"#000000\" fill-rule=\"evenodd\" fill-opacity=\"1\" /><path clip-path=\"url(#clip300)\" d=\"M1770.99 1542.97 L1775.88 1542.97 L1775.88 1548.85 L1770.99 1548.85 L1770.99 1542.97 Z\" fill=\"#000000\" fill-rule=\"evenodd\" fill-opacity=\"1\" /><path clip-path=\"url(#clip300)\" d=\"M1786.11 1514.29 L1804.47 1514.29 L1804.47 1518.22 L1790.39 1518.22 L1790.39 1526.7 Q1791.41 1526.35 1792.43 1526.19 Q1793.45 1526 1794.47 1526 Q1800.25 1526 1803.63 1529.17 Q1807.01 1532.34 1807.01 1537.76 Q1807.01 1543.34 1803.54 1546.44 Q1800.07 1549.52 1793.75 1549.52 Q1791.57 1549.52 1789.3 1549.15 Q1787.06 1548.78 1784.65 1548.04 L1784.65 1543.34 Q1786.74 1544.47 1788.96 1545.03 Q1791.18 1545.58 1793.66 1545.58 Q1797.66 1545.58 1800 1543.48 Q1802.34 1541.37 1802.34 1537.76 Q1802.34 1534.15 1800 1532.04 Q1797.66 1529.94 1793.66 1529.94 Q1791.78 1529.94 1789.91 1530.35 Q1788.05 1530.77 1786.11 1531.65 L1786.11 1514.29 Z\" fill=\"#000000\" fill-rule=\"evenodd\" fill-opacity=\"1\" /><path clip-path=\"url(#clip300)\" d=\"M1928.35 1544.91 L1935.99 1544.91 L1935.99 1518.55 L1927.68 1520.21 L1927.68 1515.95 L1935.94 1514.29 L1940.62 1514.29 L1940.62 1544.91 L1948.26 1544.91 L1948.26 1548.85 L1928.35 1548.85 L1928.35 1544.91 Z\" fill=\"#000000\" fill-rule=\"evenodd\" fill-opacity=\"1\" /><path clip-path=\"url(#clip300)\" d=\"M1957.75 1514.29 L1976.1 1514.29 L1976.1 1518.22 L1962.03 1518.22 L1962.03 1526.7 Q1963.05 1526.35 1964.07 1526.19 Q1965.09 1526 1966.1 1526 Q1971.89 1526 1975.27 1529.17 Q1978.65 1532.34 1978.65 1537.76 Q1978.65 1543.34 1975.18 1546.44 Q1971.71 1549.52 1965.39 1549.52 Q1963.21 1549.52 1960.94 1549.15 Q1958.7 1548.78 1956.29 1548.04 L1956.29 1543.34 Q1958.37 1544.47 1960.59 1545.03 Q1962.82 1545.58 1965.29 1545.58 Q1969.3 1545.58 1971.64 1543.48 Q1973.97 1541.37 1973.97 1537.76 Q1973.97 1534.15 1971.64 1532.04 Q1969.3 1529.94 1965.29 1529.94 Q1963.42 1529.94 1961.54 1530.35 Q1959.69 1530.77 1957.75 1531.65 L1957.75 1514.29 Z\" fill=\"#000000\" fill-rule=\"evenodd\" fill-opacity=\"1\" /><path clip-path=\"url(#clip300)\" d=\"M1987.86 1542.97 L1992.75 1542.97 L1992.75 1548.85 L1987.86 1548.85 L1987.86 1542.97 Z\" fill=\"#000000\" fill-rule=\"evenodd\" fill-opacity=\"1\" /><path clip-path=\"url(#clip300)\" d=\"M2012.93 1517.37 Q2009.32 1517.37 2007.49 1520.93 Q2005.69 1524.47 2005.69 1531.6 Q2005.69 1538.71 2007.49 1542.27 Q2009.32 1545.82 2012.93 1545.82 Q2016.57 1545.82 2018.37 1542.27 Q2020.2 1538.71 2020.2 1531.6 Q2020.2 1524.47 2018.37 1520.93 Q2016.57 1517.37 2012.93 1517.37 M2012.93 1513.66 Q2018.74 1513.66 2021.8 1518.27 Q2024.88 1522.85 2024.88 1531.6 Q2024.88 1540.33 2021.8 1544.94 Q2018.74 1549.52 2012.93 1549.52 Q2007.12 1549.52 2004.04 1544.94 Q2000.99 1540.33 2000.99 1531.6 Q2000.99 1522.85 2004.04 1518.27 Q2007.12 1513.66 2012.93 1513.66 Z\" fill=\"#000000\" fill-rule=\"evenodd\" fill-opacity=\"1\" /><path clip-path=\"url(#clip300)\" d=\"M2146.21 1544.91 L2153.85 1544.91 L2153.85 1518.55 L2145.54 1520.21 L2145.54 1515.95 L2153.81 1514.29 L2158.48 1514.29 L2158.48 1544.91 L2166.12 1544.91 L2166.12 1548.85 L2146.21 1548.85 L2146.21 1544.91 Z\" fill=\"#000000\" fill-rule=\"evenodd\" fill-opacity=\"1\" /><path clip-path=\"url(#clip300)\" d=\"M2174.38 1514.29 L2196.61 1514.29 L2196.61 1516.28 L2184.06 1548.85 L2179.18 1548.85 L2190.98 1518.22 L2174.38 1518.22 L2174.38 1514.29 Z\" fill=\"#000000\" fill-rule=\"evenodd\" fill-opacity=\"1\" /><path clip-path=\"url(#clip300)\" d=\"M2205.73 1542.97 L2210.61 1542.97 L2210.61 1548.85 L2205.73 1548.85 L2205.73 1542.97 Z\" fill=\"#000000\" fill-rule=\"evenodd\" fill-opacity=\"1\" /><path clip-path=\"url(#clip300)\" d=\"M2220.84 1514.29 L2239.2 1514.29 L2239.2 1518.22 L2225.13 1518.22 L2225.13 1526.7 Q2226.14 1526.35 2227.16 1526.19 Q2228.18 1526 2229.2 1526 Q2234.99 1526 2238.37 1529.17 Q2241.75 1532.34 2241.75 1537.76 Q2241.75 1543.34 2238.27 1546.44 Q2234.8 1549.52 2228.48 1549.52 Q2226.31 1549.52 2224.04 1549.15 Q2221.79 1548.78 2219.38 1548.04 L2219.38 1543.34 Q2221.47 1544.47 2223.69 1545.03 Q2225.91 1545.58 2228.39 1545.58 Q2232.39 1545.58 2234.73 1543.48 Q2237.07 1541.37 2237.07 1537.76 Q2237.07 1534.15 2234.73 1532.04 Q2232.39 1529.94 2228.39 1529.94 Q2226.51 1529.94 2224.64 1530.35 Q2222.79 1530.77 2220.84 1531.65 L2220.84 1514.29 Z\" fill=\"#000000\" fill-rule=\"evenodd\" fill-opacity=\"1\" /><polyline clip-path=\"url(#clip305)\" style=\"stroke:#000000; stroke-linecap:round; stroke-linejoin:round; stroke-width:2; stroke-opacity:0.1; fill:none\" points=\"1338.96,1405.98 2352.76,1405.98 \"/>\n",
       "<polyline clip-path=\"url(#clip305)\" style=\"stroke:#000000; stroke-linecap:round; stroke-linejoin:round; stroke-width:2; stroke-opacity:0.1; fill:none\" points=\"1338.96,1322.8 2352.76,1322.8 \"/>\n",
       "<polyline clip-path=\"url(#clip305)\" style=\"stroke:#000000; stroke-linecap:round; stroke-linejoin:round; stroke-width:2; stroke-opacity:0.1; fill:none\" points=\"1338.96,1239.62 2352.76,1239.62 \"/>\n",
       "<polyline clip-path=\"url(#clip305)\" style=\"stroke:#000000; stroke-linecap:round; stroke-linejoin:round; stroke-width:2; stroke-opacity:0.1; fill:none\" points=\"1338.96,1156.45 2352.76,1156.45 \"/>\n",
       "<polyline clip-path=\"url(#clip305)\" style=\"stroke:#000000; stroke-linecap:round; stroke-linejoin:round; stroke-width:2; stroke-opacity:0.1; fill:none\" points=\"1338.96,1073.27 2352.76,1073.27 \"/>\n",
       "<polyline clip-path=\"url(#clip305)\" style=\"stroke:#000000; stroke-linecap:round; stroke-linejoin:round; stroke-width:2; stroke-opacity:0.1; fill:none\" points=\"1338.96,990.098 2352.76,990.098 \"/>\n",
       "<polyline clip-path=\"url(#clip305)\" style=\"stroke:#000000; stroke-linecap:round; stroke-linejoin:round; stroke-width:2; stroke-opacity:0.1; fill:none\" points=\"1338.96,906.923 2352.76,906.923 \"/>\n",
       "<polyline clip-path=\"url(#clip300)\" style=\"stroke:#000000; stroke-linecap:round; stroke-linejoin:round; stroke-width:4; stroke-opacity:1; fill:none\" points=\"1338.96,1486.45 1338.96,847.244 \"/>\n",
       "<polyline clip-path=\"url(#clip300)\" style=\"stroke:#000000; stroke-linecap:round; stroke-linejoin:round; stroke-width:4; stroke-opacity:1; fill:none\" points=\"1338.96,1405.98 1357.86,1405.98 \"/>\n",
       "<polyline clip-path=\"url(#clip300)\" style=\"stroke:#000000; stroke-linecap:round; stroke-linejoin:round; stroke-width:4; stroke-opacity:1; fill:none\" points=\"1338.96,1322.8 1357.86,1322.8 \"/>\n",
       "<polyline clip-path=\"url(#clip300)\" style=\"stroke:#000000; stroke-linecap:round; stroke-linejoin:round; stroke-width:4; stroke-opacity:1; fill:none\" points=\"1338.96,1239.62 1357.86,1239.62 \"/>\n",
       "<polyline clip-path=\"url(#clip300)\" style=\"stroke:#000000; stroke-linecap:round; stroke-linejoin:round; stroke-width:4; stroke-opacity:1; fill:none\" points=\"1338.96,1156.45 1357.86,1156.45 \"/>\n",
       "<polyline clip-path=\"url(#clip300)\" style=\"stroke:#000000; stroke-linecap:round; stroke-linejoin:round; stroke-width:4; stroke-opacity:1; fill:none\" points=\"1338.96,1073.27 1357.86,1073.27 \"/>\n",
       "<polyline clip-path=\"url(#clip300)\" style=\"stroke:#000000; stroke-linecap:round; stroke-linejoin:round; stroke-width:4; stroke-opacity:1; fill:none\" points=\"1338.96,990.098 1357.86,990.098 \"/>\n",
       "<polyline clip-path=\"url(#clip300)\" style=\"stroke:#000000; stroke-linecap:round; stroke-linejoin:round; stroke-width:4; stroke-opacity:1; fill:none\" points=\"1338.96,906.923 1357.86,906.923 \"/>\n",
       "<path clip-path=\"url(#clip300)\" d=\"M1291.43 1404.11 Q1288.28 1404.11 1286.43 1406.26 Q1284.6 1408.42 1284.6 1412.17 Q1284.6 1415.89 1286.43 1418.07 Q1288.28 1420.22 1291.43 1420.22 Q1294.58 1420.22 1296.41 1418.07 Q1298.26 1415.89 1298.26 1412.17 Q1298.26 1408.42 1296.41 1406.26 Q1294.58 1404.11 1291.43 1404.11 M1300.71 1389.46 L1300.71 1393.72 Q1298.95 1392.89 1297.15 1392.45 Q1295.37 1392.01 1293.61 1392.01 Q1288.98 1392.01 1286.52 1395.13 Q1284.09 1398.26 1283.75 1404.58 Q1285.11 1402.56 1287.17 1401.5 Q1289.23 1400.41 1291.71 1400.41 Q1296.92 1400.41 1299.93 1403.58 Q1302.96 1406.73 1302.96 1412.17 Q1302.96 1417.49 1299.81 1420.71 Q1296.66 1423.93 1291.43 1423.93 Q1285.44 1423.93 1282.27 1419.34 Q1279.09 1414.74 1279.09 1406.01 Q1279.09 1397.82 1282.98 1392.95 Q1286.87 1388.07 1293.42 1388.07 Q1295.18 1388.07 1296.96 1388.42 Q1298.77 1388.77 1300.71 1389.46 Z\" fill=\"#000000\" fill-rule=\"evenodd\" fill-opacity=\"1\" /><path clip-path=\"url(#clip300)\" d=\"M1280.74 1305.52 L1302.96 1305.52 L1302.96 1307.51 L1290.41 1340.08 L1285.53 1340.08 L1297.33 1309.46 L1280.74 1309.46 L1280.74 1305.52 Z\" fill=\"#000000\" fill-rule=\"evenodd\" fill-opacity=\"1\" /><path clip-path=\"url(#clip300)\" d=\"M1291.11 1240.49 Q1287.77 1240.49 1285.85 1242.28 Q1283.95 1244.06 1283.95 1247.18 Q1283.95 1250.31 1285.85 1252.09 Q1287.77 1253.87 1291.11 1253.87 Q1294.44 1253.87 1296.36 1252.09 Q1298.28 1250.28 1298.28 1247.18 Q1298.28 1244.06 1296.36 1242.28 Q1294.46 1240.49 1291.11 1240.49 M1286.43 1238.5 Q1283.42 1237.76 1281.73 1235.7 Q1280.07 1233.64 1280.07 1230.68 Q1280.07 1226.53 1283.01 1224.13 Q1285.97 1221.72 1291.11 1221.72 Q1296.27 1221.72 1299.21 1224.13 Q1302.15 1226.53 1302.15 1230.68 Q1302.15 1233.64 1300.46 1235.7 Q1298.79 1237.76 1295.81 1238.5 Q1299.19 1239.29 1301.06 1241.58 Q1302.96 1243.87 1302.96 1247.18 Q1302.96 1252.21 1299.88 1254.89 Q1296.83 1257.58 1291.11 1257.58 Q1285.39 1257.58 1282.31 1254.89 Q1279.26 1252.21 1279.26 1247.18 Q1279.26 1243.87 1281.15 1241.58 Q1283.05 1239.29 1286.43 1238.5 M1284.72 1231.12 Q1284.72 1233.8 1286.39 1235.31 Q1288.08 1236.81 1291.11 1236.81 Q1294.12 1236.81 1295.81 1235.31 Q1297.52 1233.8 1297.52 1231.12 Q1297.52 1228.43 1295.81 1226.93 Q1294.12 1225.42 1291.11 1225.42 Q1288.08 1225.42 1286.39 1226.93 Q1284.72 1228.43 1284.72 1231.12 Z\" fill=\"#000000\" fill-rule=\"evenodd\" fill-opacity=\"1\" /><path clip-path=\"url(#clip300)\" d=\"M1281.34 1173.01 L1281.34 1168.75 Q1283.1 1169.59 1284.9 1170.03 Q1286.71 1170.47 1288.45 1170.47 Q1293.08 1170.47 1295.51 1167.36 Q1297.96 1164.24 1298.31 1157.9 Q1296.96 1159.89 1294.9 1160.95 Q1292.84 1162.02 1290.34 1162.02 Q1285.16 1162.02 1282.13 1158.89 Q1279.12 1155.74 1279.12 1150.3 Q1279.12 1144.98 1282.27 1141.76 Q1285.41 1138.54 1290.64 1138.54 Q1296.64 1138.54 1299.79 1143.15 Q1302.96 1147.73 1302.96 1156.48 Q1302.96 1164.66 1299.07 1169.54 Q1295.2 1174.4 1288.65 1174.4 Q1286.89 1174.4 1285.09 1174.05 Q1283.28 1173.71 1281.34 1173.01 M1290.64 1158.36 Q1293.79 1158.36 1295.62 1156.21 Q1297.47 1154.05 1297.47 1150.3 Q1297.47 1146.58 1295.62 1144.42 Q1293.79 1142.25 1290.64 1142.25 Q1287.5 1142.25 1285.64 1144.42 Q1283.82 1146.58 1283.82 1150.3 Q1283.82 1154.05 1285.64 1156.21 Q1287.5 1158.36 1290.64 1158.36 Z\" fill=\"#000000\" fill-rule=\"evenodd\" fill-opacity=\"1\" /><path clip-path=\"url(#clip300)\" d=\"M1251.66 1086.62 L1259.3 1086.62 L1259.3 1060.25 L1250.99 1061.92 L1250.99 1057.66 L1259.26 1055.99 L1263.93 1055.99 L1263.93 1086.62 L1271.57 1086.62 L1271.57 1090.55 L1251.66 1090.55 L1251.66 1086.62 Z\" fill=\"#000000\" fill-rule=\"evenodd\" fill-opacity=\"1\" /><path clip-path=\"url(#clip300)\" d=\"M1291.02 1059.07 Q1287.4 1059.07 1285.58 1062.64 Q1283.77 1066.18 1283.77 1073.31 Q1283.77 1080.41 1285.58 1083.98 Q1287.4 1087.52 1291.02 1087.52 Q1294.65 1087.52 1296.45 1083.98 Q1298.28 1080.41 1298.28 1073.31 Q1298.28 1066.18 1296.45 1062.64 Q1294.65 1059.07 1291.02 1059.07 M1291.02 1055.37 Q1296.83 1055.37 1299.88 1059.97 Q1302.96 1064.56 1302.96 1073.31 Q1302.96 1082.04 1299.88 1086.64 Q1296.83 1091.22 1291.02 1091.22 Q1285.2 1091.22 1282.13 1086.64 Q1279.07 1082.04 1279.07 1073.31 Q1279.07 1064.56 1282.13 1059.97 Q1285.2 1055.37 1291.02 1055.37 Z\" fill=\"#000000\" fill-rule=\"evenodd\" fill-opacity=\"1\" /><path clip-path=\"url(#clip300)\" d=\"M1252.89 1003.44 L1260.53 1003.44 L1260.53 977.077 L1252.22 978.744 L1252.22 974.485 L1260.48 972.818 L1265.16 972.818 L1265.16 1003.44 L1272.8 1003.44 L1272.8 1007.38 L1252.89 1007.38 L1252.89 1003.44 Z\" fill=\"#000000\" fill-rule=\"evenodd\" fill-opacity=\"1\" /><path clip-path=\"url(#clip300)\" d=\"M1283.05 1003.44 L1290.69 1003.44 L1290.69 977.077 L1282.38 978.744 L1282.38 974.485 L1290.64 972.818 L1295.32 972.818 L1295.32 1003.44 L1302.96 1003.44 L1302.96 1007.38 L1283.05 1007.38 L1283.05 1003.44 Z\" fill=\"#000000\" fill-rule=\"evenodd\" fill-opacity=\"1\" /><path clip-path=\"url(#clip300)\" d=\"M1253.26 920.267 L1260.9 920.267 L1260.9 893.902 L1252.59 895.568 L1252.59 891.309 L1260.85 889.643 L1265.53 889.643 L1265.53 920.267 L1273.17 920.267 L1273.17 924.203 L1253.26 924.203 L1253.26 920.267 Z\" fill=\"#000000\" fill-rule=\"evenodd\" fill-opacity=\"1\" /><path clip-path=\"url(#clip300)\" d=\"M1286.64 920.267 L1302.96 920.267 L1302.96 924.203 L1281.02 924.203 L1281.02 920.267 Q1283.68 917.513 1288.26 912.883 Q1292.87 908.23 1294.05 906.888 Q1296.29 904.365 1297.17 902.629 Q1298.08 900.869 1298.08 899.18 Q1298.08 896.425 1296.13 894.689 Q1294.21 892.953 1291.11 892.953 Q1288.91 892.953 1286.45 893.717 Q1284.02 894.48 1281.25 896.031 L1281.25 891.309 Q1284.07 890.175 1286.52 889.596 Q1288.98 889.018 1291.02 889.018 Q1296.39 889.018 1299.58 891.703 Q1302.77 894.388 1302.77 898.879 Q1302.77 901.008 1301.96 902.929 Q1301.18 904.828 1299.07 907.42 Q1298.49 908.091 1295.39 911.309 Q1292.29 914.503 1286.64 920.267 Z\" fill=\"#000000\" fill-rule=\"evenodd\" fill-opacity=\"1\" /><circle clip-path=\"url(#clip305)\" cx=\"1367.65\" cy=\"1357.73\" r=\"14.4\" fill=\"#009af9\" fill-rule=\"evenodd\" fill-opacity=\"1\" stroke=\"#000000\" stroke-opacity=\"1\" stroke-width=\"3.2\"/>\n",
       "<circle clip-path=\"url(#clip305)\" cx=\"1367.65\" cy=\"1425.94\" r=\"14.4\" fill=\"#009af9\" fill-rule=\"evenodd\" fill-opacity=\"1\" stroke=\"#000000\" stroke-opacity=\"1\" stroke-width=\"3.2\"/>\n",
       "<circle clip-path=\"url(#clip305)\" cx=\"1367.65\" cy=\"1263.75\" r=\"14.4\" fill=\"#009af9\" fill-rule=\"evenodd\" fill-opacity=\"1\" stroke=\"#000000\" stroke-opacity=\"1\" stroke-width=\"3.2\"/>\n",
       "<circle clip-path=\"url(#clip305)\" cx=\"1367.65\" cy=\"1169.76\" r=\"14.4\" fill=\"#009af9\" fill-rule=\"evenodd\" fill-opacity=\"1\" stroke=\"#000000\" stroke-opacity=\"1\" stroke-width=\"3.2\"/>\n",
       "<circle clip-path=\"url(#clip305)\" cx=\"1367.65\" cy=\"1200.53\" r=\"14.4\" fill=\"#009af9\" fill-rule=\"evenodd\" fill-opacity=\"1\" stroke=\"#000000\" stroke-opacity=\"1\" stroke-width=\"3.2\"/>\n",
       "<circle clip-path=\"url(#clip305)\" cx=\"1367.65\" cy=\"1319.47\" r=\"14.4\" fill=\"#009af9\" fill-rule=\"evenodd\" fill-opacity=\"1\" stroke=\"#000000\" stroke-opacity=\"1\" stroke-width=\"3.2\"/>\n",
       "<circle clip-path=\"url(#clip305)\" cx=\"1367.65\" cy=\"1468.36\" r=\"14.4\" fill=\"#009af9\" fill-rule=\"evenodd\" fill-opacity=\"1\" stroke=\"#000000\" stroke-opacity=\"1\" stroke-width=\"3.2\"/>\n",
       "<circle clip-path=\"url(#clip305)\" cx=\"2324.06\" cy=\"865.335\" r=\"14.4\" fill=\"#009af9\" fill-rule=\"evenodd\" fill-opacity=\"1\" stroke=\"#000000\" stroke-opacity=\"1\" stroke-width=\"3.2\"/>\n",
       "<circle clip-path=\"url(#clip305)\" cx=\"1367.65\" cy=\"1442.57\" r=\"14.4\" fill=\"#009af9\" fill-rule=\"evenodd\" fill-opacity=\"1\" stroke=\"#000000\" stroke-opacity=\"1\" stroke-width=\"3.2\"/>\n",
       "<circle clip-path=\"url(#clip305)\" cx=\"1367.65\" cy=\"1247.11\" r=\"14.4\" fill=\"#009af9\" fill-rule=\"evenodd\" fill-opacity=\"1\" stroke=\"#000000\" stroke-opacity=\"1\" stroke-width=\"3.2\"/>\n",
       "<circle clip-path=\"url(#clip305)\" cx=\"1367.65\" cy=\"1331.95\" r=\"14.4\" fill=\"#009af9\" fill-rule=\"evenodd\" fill-opacity=\"1\" stroke=\"#000000\" stroke-opacity=\"1\" stroke-width=\"3.2\"/>\n",
       "</svg>\n"
      ]
     },
     "execution_count": 34,
     "metadata": {},
     "output_type": "execute_result"
    }
   ],
   "source": [
    "plot([scatter(aq[:, i], aq[:, i+1]; legend=false)\n",
    "            for i in 1:2:7]...)"
   ]
  },
  {
   "cell_type": "markdown",
   "id": "e8a589a0",
   "metadata": {},
   "source": [
    "### Splatting"
   ]
  },
  {
   "cell_type": "code",
   "execution_count": 36,
   "id": "76d5622c",
   "metadata": {},
   "outputs": [
    {
     "data": {
      "text/plain": [
       "3"
      ]
     },
     "execution_count": 36,
     "metadata": {},
     "output_type": "execute_result"
    }
   ],
   "source": [
    "g1(x,y) = x + y\n",
    "g1([1,2]...)"
   ]
  },
  {
   "cell_type": "markdown",
   "id": "c9b43c50",
   "metadata": {},
   "source": [
    "## Dictionaries"
   ]
  },
  {
   "cell_type": "markdown",
   "id": "80ca6c04",
   "metadata": {},
   "source": [
    "> SICHERMAN PUZZLE: A standard die has six sides, with faces numbered from 1 to 6. In many games, players roll two standard dice and sum the obtained results. In the Sicherman puzzle, we are asked to check if it is possible to number the faces of a pair of cubes in a way com- pletely different from that of standard dice so that the cubes can be used in any dice game and all the odds will be the same as they are when standard dice are used. "
   ]
  },
  {
   "cell_type": "code",
   "execution_count": 39,
   "id": "3d3ff0dd",
   "metadata": {},
   "outputs": [
    {
     "name": "stdout",
     "output_type": "stream",
     "text": [
      "search: \u001b[0m\u001b[1mD\u001b[22m\u001b[0m\u001b[1mi\u001b[22m\u001b[0m\u001b[1mc\u001b[22m\u001b[0m\u001b[1mt\u001b[22m I\u001b[0m\u001b[1md\u001b[22mD\u001b[0m\u001b[1mi\u001b[22m\u001b[0m\u001b[1mc\u001b[22m\u001b[0m\u001b[1mt\u001b[22m WeakKey\u001b[0m\u001b[1mD\u001b[22m\u001b[0m\u001b[1mi\u001b[22m\u001b[0m\u001b[1mc\u001b[22m\u001b[0m\u001b[1mt\u001b[22m Abstract\u001b[0m\u001b[1mD\u001b[22m\u001b[0m\u001b[1mi\u001b[22m\u001b[0m\u001b[1mc\u001b[22m\u001b[0m\u001b[1mt\u001b[22m re\u001b[0m\u001b[1md\u001b[22m\u001b[0m\u001b[1mi\u001b[22mre\u001b[0m\u001b[1mc\u001b[22m\u001b[0m\u001b[1mt\u001b[22m_stdio re\u001b[0m\u001b[1md\u001b[22m\u001b[0m\u001b[1mi\u001b[22mre\u001b[0m\u001b[1mc\u001b[22m\u001b[0m\u001b[1mt\u001b[22m_stdin\n",
      "\n"
     ]
    },
    {
     "data": {
      "text/latex": [
       "\\begin{verbatim}\n",
       "Dict([itr])\n",
       "\\end{verbatim}\n",
       "\\texttt{Dict\\{K,V\\}()} constructs a hash table with keys of type \\texttt{K} and values of type \\texttt{V}. Keys are compared with \\href{@ref}{\\texttt{isequal}} and hashed with \\href{@ref}{\\texttt{hash}}.\n",
       "\n",
       "Given a single iterable argument, constructs a \\href{@ref}{\\texttt{Dict}} whose key-value pairs are taken from 2-tuples \\texttt{(key,value)} generated by the argument.\n",
       "\n",
       "\\section{Examples}\n",
       "\\begin{verbatim}\n",
       "julia> Dict([(\"A\", 1), (\"B\", 2)])\n",
       "Dict{String, Int64} with 2 entries:\n",
       "  \"B\" => 2\n",
       "  \"A\" => 1\n",
       "\\end{verbatim}\n",
       "Alternatively, a sequence of pair arguments may be passed.\n",
       "\n",
       "\\begin{verbatim}\n",
       "julia> Dict(\"A\"=>1, \"B\"=>2)\n",
       "Dict{String, Int64} with 2 entries:\n",
       "  \"B\" => 2\n",
       "  \"A\" => 1\n",
       "\\end{verbatim}\n"
      ],
      "text/markdown": [
       "```\n",
       "Dict([itr])\n",
       "```\n",
       "\n",
       "`Dict{K,V}()` constructs a hash table with keys of type `K` and values of type `V`. Keys are compared with [`isequal`](@ref) and hashed with [`hash`](@ref).\n",
       "\n",
       "Given a single iterable argument, constructs a [`Dict`](@ref) whose key-value pairs are taken from 2-tuples `(key,value)` generated by the argument.\n",
       "\n",
       "# Examples\n",
       "\n",
       "```jldoctest\n",
       "julia> Dict([(\"A\", 1), (\"B\", 2)])\n",
       "Dict{String, Int64} with 2 entries:\n",
       "  \"B\" => 2\n",
       "  \"A\" => 1\n",
       "```\n",
       "\n",
       "Alternatively, a sequence of pair arguments may be passed.\n",
       "\n",
       "```jldoctest\n",
       "julia> Dict(\"A\"=>1, \"B\"=>2)\n",
       "Dict{String, Int64} with 2 entries:\n",
       "  \"B\" => 2\n",
       "  \"A\" => 1\n",
       "```\n"
      ],
      "text/plain": [
       "\u001b[36m  Dict([itr])\u001b[39m\n",
       "\n",
       "  \u001b[36mDict{K,V}()\u001b[39m constructs a hash table with keys of type \u001b[36mK\u001b[39m and values of type\n",
       "  \u001b[36mV\u001b[39m. Keys are compared with \u001b[36misequal\u001b[39m and hashed with \u001b[36mhash\u001b[39m.\n",
       "\n",
       "  Given a single iterable argument, constructs a \u001b[36mDict\u001b[39m whose key-value pairs\n",
       "  are taken from 2-tuples \u001b[36m(key,value)\u001b[39m generated by the argument.\n",
       "\n",
       "\u001b[1m  Examples\u001b[22m\n",
       "\u001b[1m  ≡≡≡≡≡≡≡≡≡≡\u001b[22m\n",
       "\n",
       "\u001b[36m  julia> Dict([(\"A\", 1), (\"B\", 2)])\u001b[39m\n",
       "\u001b[36m  Dict{String, Int64} with 2 entries:\u001b[39m\n",
       "\u001b[36m    \"B\" => 2\u001b[39m\n",
       "\u001b[36m    \"A\" => 1\u001b[39m\n",
       "\n",
       "  Alternatively, a sequence of pair arguments may be passed.\n",
       "\n",
       "\u001b[36m  julia> Dict(\"A\"=>1, \"B\"=>2)\u001b[39m\n",
       "\u001b[36m  Dict{String, Int64} with 2 entries:\u001b[39m\n",
       "\u001b[36m    \"B\" => 2\u001b[39m\n",
       "\u001b[36m    \"A\" => 1\u001b[39m"
      ]
     },
     "execution_count": 39,
     "metadata": {},
     "output_type": "execute_result"
    }
   ],
   "source": [
    "?Dict"
   ]
  },
  {
   "cell_type": "code",
   "execution_count": 43,
   "id": "3f32f7a3",
   "metadata": {},
   "outputs": [
    {
     "data": {
      "text/plain": [
       "Dict{String, Int64} with 2 entries:\n",
       "  \"b\" => 2\n",
       "  \"a\" => 1"
      ]
     },
     "execution_count": 43,
     "metadata": {},
     "output_type": "execute_result"
    }
   ],
   "source": [
    "example_d = Dict{String, Int}()\n",
    "example_d[\"a\"] = 1\n",
    "example_d[\"b\"] = 2\n",
    "example_d"
   ]
  },
  {
   "cell_type": "markdown",
   "id": "4de7e00f",
   "metadata": {},
   "source": [
    "Alternatively:\n",
    "\n",
    "https://stackoverflow.com/questions/42086594/how-to-initialize-a-dictionary-in-julia"
   ]
  },
  {
   "cell_type": "code",
   "execution_count": 44,
   "id": "a2447cb7",
   "metadata": {},
   "outputs": [
    {
     "data": {
      "text/plain": [
       "Dict{String, Int64} with 3 entries:\n",
       "  \"c\" => 4\n",
       "  \"b\" => 3\n",
       "  \"a\" => 1"
      ]
     },
     "execution_count": 44,
     "metadata": {},
     "output_type": "execute_result"
    }
   ],
   "source": [
    "Dict(\"a\" => 1, \"b\" => 3, \"c\" => 4)"
   ]
  },
  {
   "cell_type": "code",
   "execution_count": 46,
   "id": "b99b41e7",
   "metadata": {},
   "outputs": [
    {
     "data": {
      "text/plain": [
       "Dict{Int64, Int64} with 11 entries:\n",
       "  5  => 4\n",
       "  12 => 1\n",
       "  8  => 5\n",
       "  6  => 5\n",
       "  11 => 2\n",
       "  9  => 4\n",
       "  3  => 2\n",
       "  7  => 6\n",
       "  4  => 3\n",
       "  2  => 1\n",
       "  10 => 3"
      ]
     },
     "execution_count": 46,
     "metadata": {},
     "output_type": "execute_result"
    }
   ],
   "source": [
    "two_standard = Dict{Int,Int}()\n",
    "\n",
    "for i in [1, 2, 3, 4, 5, 6]\n",
    "   for j in [1, 2, 3, 4, 5, 6]\n",
    "        s=i+j\n",
    "        if haskey(two_standard, s)\n",
    "            two_standard[s] += 1\n",
    "        else\n",
    "            two_standard[s] = 1\n",
    "        end\n",
    "    end\n",
    "end\n",
    "\n",
    "two_standard"
   ]
  },
  {
   "cell_type": "code",
   "execution_count": 47,
   "id": "673d99e2",
   "metadata": {},
   "outputs": [
    {
     "data": {
      "text/plain": [
       "KeySet for a Dict{Int64, Int64} with 11 entries. Keys:\n",
       "  5\n",
       "  12\n",
       "  8\n",
       "  6\n",
       "  11\n",
       "  9\n",
       "  3\n",
       "  7\n",
       "  4\n",
       "  2\n",
       "  10"
      ]
     },
     "execution_count": 47,
     "metadata": {},
     "output_type": "execute_result"
    }
   ],
   "source": [
    "keys(two_standard)"
   ]
  },
  {
   "cell_type": "code",
   "execution_count": 48,
   "id": "fcd0360c",
   "metadata": {},
   "outputs": [
    {
     "data": {
      "text/plain": [
       "ValueIterator for a Dict{Int64, Int64} with 11 entries. Values:\n",
       "  4\n",
       "  1\n",
       "  5\n",
       "  5\n",
       "  2\n",
       "  4\n",
       "  2\n",
       "  6\n",
       "  3\n",
       "  1\n",
       "  3"
      ]
     },
     "execution_count": 48,
     "metadata": {},
     "output_type": "execute_result"
    }
   ],
   "source": [
    "values(two_standard)"
   ]
  },
  {
   "cell_type": "code",
   "execution_count": 49,
   "id": "d453ec47",
   "metadata": {},
   "outputs": [
    {
     "data": {
      "image/svg+xml": [
       "<?xml version=\"1.0\" encoding=\"utf-8\"?>\n",
       "<svg xmlns=\"http://www.w3.org/2000/svg\" xmlns:xlink=\"http://www.w3.org/1999/xlink\" width=\"600\" height=\"400\" viewBox=\"0 0 2400 1600\">\n",
       "<defs>\n",
       "  <clipPath id=\"clip340\">\n",
       "    <rect x=\"0\" y=\"0\" width=\"2400\" height=\"1600\"/>\n",
       "  </clipPath>\n",
       "</defs>\n",
       "<path clip-path=\"url(#clip340)\" d=\"M0 1600 L2400 1600 L2400 0 L0 0  Z\" fill=\"#ffffff\" fill-rule=\"evenodd\" fill-opacity=\"1\"/>\n",
       "<defs>\n",
       "  <clipPath id=\"clip341\">\n",
       "    <rect x=\"480\" y=\"0\" width=\"1681\" height=\"1600\"/>\n",
       "  </clipPath>\n",
       "</defs>\n",
       "<path clip-path=\"url(#clip340)\" d=\"M112.177 1486.45 L2352.76 1486.45 L2352.76 47.2441 L112.177 47.2441  Z\" fill=\"#ffffff\" fill-rule=\"evenodd\" fill-opacity=\"1\"/>\n",
       "<defs>\n",
       "  <clipPath id=\"clip342\">\n",
       "    <rect x=\"112\" y=\"47\" width=\"2242\" height=\"1440\"/>\n",
       "  </clipPath>\n",
       "</defs>\n",
       "<polyline clip-path=\"url(#clip342)\" style=\"stroke:#000000; stroke-linecap:round; stroke-linejoin:round; stroke-width:2; stroke-opacity:0.1; fill:none\" points=\"175.59,1486.45 175.59,47.2441 \"/>\n",
       "<polyline clip-path=\"url(#clip342)\" style=\"stroke:#000000; stroke-linecap:round; stroke-linejoin:round; stroke-width:2; stroke-opacity:0.1; fill:none\" points=\"386.965,1486.45 386.965,47.2441 \"/>\n",
       "<polyline clip-path=\"url(#clip342)\" style=\"stroke:#000000; stroke-linecap:round; stroke-linejoin:round; stroke-width:2; stroke-opacity:0.1; fill:none\" points=\"598.34,1486.45 598.34,47.2441 \"/>\n",
       "<polyline clip-path=\"url(#clip342)\" style=\"stroke:#000000; stroke-linecap:round; stroke-linejoin:round; stroke-width:2; stroke-opacity:0.1; fill:none\" points=\"809.716,1486.45 809.716,47.2441 \"/>\n",
       "<polyline clip-path=\"url(#clip342)\" style=\"stroke:#000000; stroke-linecap:round; stroke-linejoin:round; stroke-width:2; stroke-opacity:0.1; fill:none\" points=\"1021.09,1486.45 1021.09,47.2441 \"/>\n",
       "<polyline clip-path=\"url(#clip342)\" style=\"stroke:#000000; stroke-linecap:round; stroke-linejoin:round; stroke-width:2; stroke-opacity:0.1; fill:none\" points=\"1232.47,1486.45 1232.47,47.2441 \"/>\n",
       "<polyline clip-path=\"url(#clip342)\" style=\"stroke:#000000; stroke-linecap:round; stroke-linejoin:round; stroke-width:2; stroke-opacity:0.1; fill:none\" points=\"1443.84,1486.45 1443.84,47.2441 \"/>\n",
       "<polyline clip-path=\"url(#clip342)\" style=\"stroke:#000000; stroke-linecap:round; stroke-linejoin:round; stroke-width:2; stroke-opacity:0.1; fill:none\" points=\"1655.22,1486.45 1655.22,47.2441 \"/>\n",
       "<polyline clip-path=\"url(#clip342)\" style=\"stroke:#000000; stroke-linecap:round; stroke-linejoin:round; stroke-width:2; stroke-opacity:0.1; fill:none\" points=\"1866.59,1486.45 1866.59,47.2441 \"/>\n",
       "<polyline clip-path=\"url(#clip342)\" style=\"stroke:#000000; stroke-linecap:round; stroke-linejoin:round; stroke-width:2; stroke-opacity:0.1; fill:none\" points=\"2077.97,1486.45 2077.97,47.2441 \"/>\n",
       "<polyline clip-path=\"url(#clip342)\" style=\"stroke:#000000; stroke-linecap:round; stroke-linejoin:round; stroke-width:2; stroke-opacity:0.1; fill:none\" points=\"2289.34,1486.45 2289.34,47.2441 \"/>\n",
       "<polyline clip-path=\"url(#clip340)\" style=\"stroke:#000000; stroke-linecap:round; stroke-linejoin:round; stroke-width:4; stroke-opacity:1; fill:none\" points=\"112.177,1486.45 2352.76,1486.45 \"/>\n",
       "<polyline clip-path=\"url(#clip340)\" style=\"stroke:#000000; stroke-linecap:round; stroke-linejoin:round; stroke-width:4; stroke-opacity:1; fill:none\" points=\"175.59,1486.45 175.59,1467.55 \"/>\n",
       "<polyline clip-path=\"url(#clip340)\" style=\"stroke:#000000; stroke-linecap:round; stroke-linejoin:round; stroke-width:4; stroke-opacity:1; fill:none\" points=\"386.965,1486.45 386.965,1467.55 \"/>\n",
       "<polyline clip-path=\"url(#clip340)\" style=\"stroke:#000000; stroke-linecap:round; stroke-linejoin:round; stroke-width:4; stroke-opacity:1; fill:none\" points=\"598.34,1486.45 598.34,1467.55 \"/>\n",
       "<polyline clip-path=\"url(#clip340)\" style=\"stroke:#000000; stroke-linecap:round; stroke-linejoin:round; stroke-width:4; stroke-opacity:1; fill:none\" points=\"809.716,1486.45 809.716,1467.55 \"/>\n",
       "<polyline clip-path=\"url(#clip340)\" style=\"stroke:#000000; stroke-linecap:round; stroke-linejoin:round; stroke-width:4; stroke-opacity:1; fill:none\" points=\"1021.09,1486.45 1021.09,1467.55 \"/>\n",
       "<polyline clip-path=\"url(#clip340)\" style=\"stroke:#000000; stroke-linecap:round; stroke-linejoin:round; stroke-width:4; stroke-opacity:1; fill:none\" points=\"1232.47,1486.45 1232.47,1467.55 \"/>\n",
       "<polyline clip-path=\"url(#clip340)\" style=\"stroke:#000000; stroke-linecap:round; stroke-linejoin:round; stroke-width:4; stroke-opacity:1; fill:none\" points=\"1443.84,1486.45 1443.84,1467.55 \"/>\n",
       "<polyline clip-path=\"url(#clip340)\" style=\"stroke:#000000; stroke-linecap:round; stroke-linejoin:round; stroke-width:4; stroke-opacity:1; fill:none\" points=\"1655.22,1486.45 1655.22,1467.55 \"/>\n",
       "<polyline clip-path=\"url(#clip340)\" style=\"stroke:#000000; stroke-linecap:round; stroke-linejoin:round; stroke-width:4; stroke-opacity:1; fill:none\" points=\"1866.59,1486.45 1866.59,1467.55 \"/>\n",
       "<polyline clip-path=\"url(#clip340)\" style=\"stroke:#000000; stroke-linecap:round; stroke-linejoin:round; stroke-width:4; stroke-opacity:1; fill:none\" points=\"2077.97,1486.45 2077.97,1467.55 \"/>\n",
       "<polyline clip-path=\"url(#clip340)\" style=\"stroke:#000000; stroke-linecap:round; stroke-linejoin:round; stroke-width:4; stroke-opacity:1; fill:none\" points=\"2289.34,1486.45 2289.34,1467.55 \"/>\n",
       "<path clip-path=\"url(#clip340)\" d=\"M170.243 1544.91 L186.562 1544.91 L186.562 1548.85 L164.618 1548.85 L164.618 1544.91 Q167.28 1542.16 171.863 1537.53 Q176.469 1532.88 177.65 1531.53 Q179.895 1529.01 180.775 1527.27 Q181.678 1525.51 181.678 1523.82 Q181.678 1521.07 179.733 1519.33 Q177.812 1517.6 174.71 1517.6 Q172.511 1517.6 170.057 1518.36 Q167.627 1519.13 164.849 1520.68 L164.849 1515.95 Q167.673 1514.82 170.127 1514.24 Q172.581 1513.66 174.618 1513.66 Q179.988 1513.66 183.182 1516.35 Q186.377 1519.03 186.377 1523.52 Q186.377 1525.65 185.567 1527.57 Q184.78 1529.47 182.673 1532.07 Q182.094 1532.74 178.993 1535.95 Q175.891 1539.15 170.243 1544.91 Z\" fill=\"#000000\" fill-rule=\"evenodd\" fill-opacity=\"1\" /><path clip-path=\"url(#clip340)\" d=\"M391.213 1530.21 Q394.569 1530.93 396.444 1533.2 Q398.342 1535.47 398.342 1538.8 Q398.342 1543.92 394.824 1546.72 Q391.305 1549.52 384.824 1549.52 Q382.648 1549.52 380.333 1549.08 Q378.042 1548.66 375.588 1547.81 L375.588 1543.29 Q377.532 1544.43 379.847 1545.01 Q382.162 1545.58 384.685 1545.58 Q389.083 1545.58 391.375 1543.85 Q393.69 1542.11 393.69 1538.8 Q393.69 1535.75 391.537 1534.03 Q389.407 1532.3 385.588 1532.3 L381.56 1532.3 L381.56 1528.45 L385.773 1528.45 Q389.222 1528.45 391.051 1527.09 Q392.879 1525.7 392.879 1523.11 Q392.879 1520.45 390.981 1519.03 Q389.106 1517.6 385.588 1517.6 Q383.667 1517.6 381.467 1518.01 Q379.268 1518.43 376.63 1519.31 L376.63 1515.14 Q379.292 1514.4 381.606 1514.03 Q383.944 1513.66 386.004 1513.66 Q391.329 1513.66 394.43 1516.09 Q397.532 1518.5 397.532 1522.62 Q397.532 1525.49 395.889 1527.48 Q394.245 1529.45 391.213 1530.21 Z\" fill=\"#000000\" fill-rule=\"evenodd\" fill-opacity=\"1\" /><path clip-path=\"url(#clip340)\" d=\"M601.35 1518.36 L589.544 1536.81 L601.35 1536.81 L601.35 1518.36 M600.123 1514.29 L606.002 1514.29 L606.002 1536.81 L610.933 1536.81 L610.933 1540.7 L606.002 1540.7 L606.002 1548.85 L601.35 1548.85 L601.35 1540.7 L585.748 1540.7 L585.748 1536.19 L600.123 1514.29 Z\" fill=\"#000000\" fill-rule=\"evenodd\" fill-opacity=\"1\" /><path clip-path=\"url(#clip340)\" d=\"M799.994 1514.29 L818.35 1514.29 L818.35 1518.22 L804.276 1518.22 L804.276 1526.7 Q805.295 1526.35 806.313 1526.19 Q807.332 1526 808.35 1526 Q814.137 1526 817.517 1529.17 Q820.896 1532.34 820.896 1537.76 Q820.896 1543.34 817.424 1546.44 Q813.952 1549.52 807.633 1549.52 Q805.457 1549.52 803.188 1549.15 Q800.943 1548.78 798.535 1548.04 L798.535 1543.34 Q800.619 1544.47 802.841 1545.03 Q805.063 1545.58 807.54 1545.58 Q811.545 1545.58 813.882 1543.48 Q816.22 1541.37 816.22 1537.76 Q816.22 1534.15 813.882 1532.04 Q811.545 1529.94 807.54 1529.94 Q805.665 1529.94 803.79 1530.35 Q801.938 1530.77 799.994 1531.65 L799.994 1514.29 Z\" fill=\"#000000\" fill-rule=\"evenodd\" fill-opacity=\"1\" /><path clip-path=\"url(#clip340)\" d=\"M1021.5 1529.7 Q1018.35 1529.7 1016.5 1531.86 Q1014.67 1534.01 1014.67 1537.76 Q1014.67 1541.49 1016.5 1543.66 Q1018.35 1545.82 1021.5 1545.82 Q1024.64 1545.82 1026.47 1543.66 Q1028.32 1541.49 1028.32 1537.76 Q1028.32 1534.01 1026.47 1531.86 Q1024.64 1529.7 1021.5 1529.7 M1030.78 1515.05 L1030.78 1519.31 Q1029.02 1518.48 1027.21 1518.04 Q1025.43 1517.6 1023.67 1517.6 Q1019.04 1517.6 1016.59 1520.72 Q1014.16 1523.85 1013.81 1530.17 Q1015.18 1528.15 1017.24 1527.09 Q1019.3 1526 1021.77 1526 Q1026.98 1526 1029.99 1529.17 Q1033.02 1532.32 1033.02 1537.76 Q1033.02 1543.08 1029.88 1546.3 Q1026.73 1549.52 1021.5 1549.52 Q1015.5 1549.52 1012.33 1544.94 Q1009.16 1540.33 1009.16 1531.6 Q1009.16 1523.41 1013.05 1518.55 Q1016.94 1513.66 1023.49 1513.66 Q1025.25 1513.66 1027.03 1514.01 Q1028.83 1514.36 1030.78 1515.05 Z\" fill=\"#000000\" fill-rule=\"evenodd\" fill-opacity=\"1\" /><path clip-path=\"url(#clip340)\" d=\"M1221.36 1514.29 L1243.58 1514.29 L1243.58 1516.28 L1231.03 1548.85 L1226.15 1548.85 L1237.95 1518.22 L1221.36 1518.22 L1221.36 1514.29 Z\" fill=\"#000000\" fill-rule=\"evenodd\" fill-opacity=\"1\" /><path clip-path=\"url(#clip340)\" d=\"M1443.84 1532.44 Q1440.51 1532.44 1438.59 1534.22 Q1436.69 1536 1436.69 1539.13 Q1436.69 1542.25 1438.59 1544.03 Q1440.51 1545.82 1443.84 1545.82 Q1447.18 1545.82 1449.1 1544.03 Q1451.02 1542.23 1451.02 1539.13 Q1451.02 1536 1449.1 1534.22 Q1447.2 1532.44 1443.84 1532.44 M1439.17 1530.45 Q1436.16 1529.7 1434.47 1527.64 Q1432.8 1525.58 1432.8 1522.62 Q1432.8 1518.48 1435.74 1516.07 Q1438.7 1513.66 1443.84 1513.66 Q1449 1513.66 1451.94 1516.07 Q1454.88 1518.48 1454.88 1522.62 Q1454.88 1525.58 1453.19 1527.64 Q1451.53 1529.7 1448.54 1530.45 Q1451.92 1531.23 1453.8 1533.52 Q1455.69 1535.82 1455.69 1539.13 Q1455.69 1544.15 1452.61 1546.83 Q1449.56 1549.52 1443.84 1549.52 Q1438.12 1549.52 1435.05 1546.83 Q1431.99 1544.15 1431.99 1539.13 Q1431.99 1535.82 1433.89 1533.52 Q1435.79 1531.23 1439.17 1530.45 M1437.45 1523.06 Q1437.45 1525.75 1439.12 1527.25 Q1440.81 1528.76 1443.84 1528.76 Q1446.85 1528.76 1448.54 1527.25 Q1450.25 1525.75 1450.25 1523.06 Q1450.25 1520.38 1448.54 1518.87 Q1446.85 1517.37 1443.84 1517.37 Q1440.81 1517.37 1439.12 1518.87 Q1437.45 1520.38 1437.45 1523.06 Z\" fill=\"#000000\" fill-rule=\"evenodd\" fill-opacity=\"1\" /><path clip-path=\"url(#clip340)\" d=\"M1645.52 1548.13 L1645.52 1543.87 Q1647.28 1544.7 1649.08 1545.14 Q1650.89 1545.58 1652.62 1545.58 Q1657.25 1545.58 1659.68 1542.48 Q1662.14 1539.36 1662.49 1533.01 Q1661.14 1535.01 1659.08 1536.07 Q1657.02 1537.13 1654.52 1537.13 Q1649.34 1537.13 1646.31 1534.01 Q1643.3 1530.86 1643.3 1525.42 Q1643.3 1520.1 1646.44 1516.88 Q1649.59 1513.66 1654.82 1513.66 Q1660.82 1513.66 1663.97 1518.27 Q1667.14 1522.85 1667.14 1531.6 Q1667.14 1539.77 1663.25 1544.66 Q1659.38 1549.52 1652.83 1549.52 Q1651.07 1549.52 1649.27 1549.17 Q1647.46 1548.82 1645.52 1548.13 M1654.82 1533.48 Q1657.97 1533.48 1659.8 1531.32 Q1661.65 1529.17 1661.65 1525.42 Q1661.65 1521.7 1659.8 1519.54 Q1657.97 1517.37 1654.82 1517.37 Q1651.68 1517.37 1649.82 1519.54 Q1648 1521.7 1648 1525.42 Q1648 1529.17 1649.82 1531.32 Q1651.68 1533.48 1654.82 1533.48 Z\" fill=\"#000000\" fill-rule=\"evenodd\" fill-opacity=\"1\" /><path clip-path=\"url(#clip340)\" d=\"M1841.28 1544.91 L1848.92 1544.91 L1848.92 1518.55 L1840.61 1520.21 L1840.61 1515.95 L1848.87 1514.29 L1853.55 1514.29 L1853.55 1544.91 L1861.19 1544.91 L1861.19 1548.85 L1841.28 1548.85 L1841.28 1544.91 Z\" fill=\"#000000\" fill-rule=\"evenodd\" fill-opacity=\"1\" /><path clip-path=\"url(#clip340)\" d=\"M1880.63 1517.37 Q1877.02 1517.37 1875.19 1520.93 Q1873.39 1524.47 1873.39 1531.6 Q1873.39 1538.71 1875.19 1542.27 Q1877.02 1545.82 1880.63 1545.82 Q1884.27 1545.82 1886.07 1542.27 Q1887.9 1538.71 1887.9 1531.6 Q1887.9 1524.47 1886.07 1520.93 Q1884.27 1517.37 1880.63 1517.37 M1880.63 1513.66 Q1886.44 1513.66 1889.5 1518.27 Q1892.58 1522.85 1892.58 1531.6 Q1892.58 1540.33 1889.5 1544.94 Q1886.44 1549.52 1880.63 1549.52 Q1874.82 1549.52 1871.74 1544.94 Q1868.69 1540.33 1868.69 1531.6 Q1868.69 1522.85 1871.74 1518.27 Q1874.82 1513.66 1880.63 1513.66 Z\" fill=\"#000000\" fill-rule=\"evenodd\" fill-opacity=\"1\" /><path clip-path=\"url(#clip340)\" d=\"M2053.27 1544.91 L2060.91 1544.91 L2060.91 1518.55 L2052.6 1520.21 L2052.6 1515.95 L2060.86 1514.29 L2065.54 1514.29 L2065.54 1544.91 L2073.18 1544.91 L2073.18 1548.85 L2053.27 1548.85 L2053.27 1544.91 Z\" fill=\"#000000\" fill-rule=\"evenodd\" fill-opacity=\"1\" /><path clip-path=\"url(#clip340)\" d=\"M2083.43 1544.91 L2091.07 1544.91 L2091.07 1518.55 L2082.76 1520.21 L2082.76 1515.95 L2091.02 1514.29 L2095.7 1514.29 L2095.7 1544.91 L2103.34 1544.91 L2103.34 1548.85 L2083.43 1548.85 L2083.43 1544.91 Z\" fill=\"#000000\" fill-rule=\"evenodd\" fill-opacity=\"1\" /><path clip-path=\"url(#clip340)\" d=\"M2264.83 1544.91 L2272.47 1544.91 L2272.47 1518.55 L2264.16 1520.21 L2264.16 1515.95 L2272.42 1514.29 L2277.1 1514.29 L2277.1 1544.91 L2284.74 1544.91 L2284.74 1548.85 L2264.83 1548.85 L2264.83 1544.91 Z\" fill=\"#000000\" fill-rule=\"evenodd\" fill-opacity=\"1\" /><path clip-path=\"url(#clip340)\" d=\"M2298.21 1544.91 L2314.53 1544.91 L2314.53 1548.85 L2292.58 1548.85 L2292.58 1544.91 Q2295.25 1542.16 2299.83 1537.53 Q2304.44 1532.88 2305.62 1531.53 Q2307.86 1529.01 2308.74 1527.27 Q2309.64 1525.51 2309.64 1523.82 Q2309.64 1521.07 2307.7 1519.33 Q2305.78 1517.6 2302.68 1517.6 Q2300.48 1517.6 2298.02 1518.36 Q2295.59 1519.13 2292.82 1520.68 L2292.82 1515.95 Q2295.64 1514.82 2298.09 1514.24 Q2300.55 1513.66 2302.58 1513.66 Q2307.95 1513.66 2311.15 1516.35 Q2314.34 1519.03 2314.34 1523.52 Q2314.34 1525.65 2313.53 1527.57 Q2312.75 1529.47 2310.64 1532.07 Q2310.06 1532.74 2306.96 1535.95 Q2303.86 1539.15 2298.21 1544.91 Z\" fill=\"#000000\" fill-rule=\"evenodd\" fill-opacity=\"1\" /><polyline clip-path=\"url(#clip342)\" style=\"stroke:#000000; stroke-linecap:round; stroke-linejoin:round; stroke-width:2; stroke-opacity:0.1; fill:none\" points=\"112.177,1445.72 2352.76,1445.72 \"/>\n",
       "<polyline clip-path=\"url(#clip342)\" style=\"stroke:#000000; stroke-linecap:round; stroke-linejoin:round; stroke-width:2; stroke-opacity:0.1; fill:none\" points=\"112.177,1174.17 2352.76,1174.17 \"/>\n",
       "<polyline clip-path=\"url(#clip342)\" style=\"stroke:#000000; stroke-linecap:round; stroke-linejoin:round; stroke-width:2; stroke-opacity:0.1; fill:none\" points=\"112.177,902.62 2352.76,902.62 \"/>\n",
       "<polyline clip-path=\"url(#clip342)\" style=\"stroke:#000000; stroke-linecap:round; stroke-linejoin:round; stroke-width:2; stroke-opacity:0.1; fill:none\" points=\"112.177,631.072 2352.76,631.072 \"/>\n",
       "<polyline clip-path=\"url(#clip342)\" style=\"stroke:#000000; stroke-linecap:round; stroke-linejoin:round; stroke-width:2; stroke-opacity:0.1; fill:none\" points=\"112.177,359.524 2352.76,359.524 \"/>\n",
       "<polyline clip-path=\"url(#clip342)\" style=\"stroke:#000000; stroke-linecap:round; stroke-linejoin:round; stroke-width:2; stroke-opacity:0.1; fill:none\" points=\"112.177,87.9763 2352.76,87.9763 \"/>\n",
       "<polyline clip-path=\"url(#clip340)\" style=\"stroke:#000000; stroke-linecap:round; stroke-linejoin:round; stroke-width:4; stroke-opacity:1; fill:none\" points=\"112.177,1486.45 112.177,47.2441 \"/>\n",
       "<polyline clip-path=\"url(#clip340)\" style=\"stroke:#000000; stroke-linecap:round; stroke-linejoin:round; stroke-width:4; stroke-opacity:1; fill:none\" points=\"112.177,1445.72 131.075,1445.72 \"/>\n",
       "<polyline clip-path=\"url(#clip340)\" style=\"stroke:#000000; stroke-linecap:round; stroke-linejoin:round; stroke-width:4; stroke-opacity:1; fill:none\" points=\"112.177,1174.17 131.075,1174.17 \"/>\n",
       "<polyline clip-path=\"url(#clip340)\" style=\"stroke:#000000; stroke-linecap:round; stroke-linejoin:round; stroke-width:4; stroke-opacity:1; fill:none\" points=\"112.177,902.62 131.075,902.62 \"/>\n",
       "<polyline clip-path=\"url(#clip340)\" style=\"stroke:#000000; stroke-linecap:round; stroke-linejoin:round; stroke-width:4; stroke-opacity:1; fill:none\" points=\"112.177,631.072 131.075,631.072 \"/>\n",
       "<polyline clip-path=\"url(#clip340)\" style=\"stroke:#000000; stroke-linecap:round; stroke-linejoin:round; stroke-width:4; stroke-opacity:1; fill:none\" points=\"112.177,359.524 131.075,359.524 \"/>\n",
       "<polyline clip-path=\"url(#clip340)\" style=\"stroke:#000000; stroke-linecap:round; stroke-linejoin:round; stroke-width:4; stroke-opacity:1; fill:none\" points=\"112.177,87.9763 131.075,87.9763 \"/>\n",
       "<path clip-path=\"url(#clip340)\" d=\"M56.2699 1459.06 L63.9087 1459.06 L63.9087 1432.69 L55.5986 1434.36 L55.5986 1430.1 L63.8624 1428.44 L68.5383 1428.44 L68.5383 1459.06 L76.1772 1459.06 L76.1772 1463 L56.2699 1463 L56.2699 1459.06 Z\" fill=\"#000000\" fill-rule=\"evenodd\" fill-opacity=\"1\" /><path clip-path=\"url(#clip340)\" d=\"M59.8578 1187.51 L76.1772 1187.51 L76.1772 1191.45 L54.2328 1191.45 L54.2328 1187.51 Q56.8949 1184.76 61.4782 1180.13 Q66.0846 1175.48 67.2652 1174.13 Q69.5105 1171.61 70.3902 1169.87 Q71.2929 1168.11 71.2929 1166.42 Q71.2929 1163.67 69.3485 1161.93 Q67.4272 1160.2 64.3254 1160.2 Q62.1263 1160.2 59.6726 1160.96 Q57.2421 1161.73 54.4643 1163.28 L54.4643 1158.55 Q57.2884 1157.42 59.7421 1156.84 Q62.1958 1156.26 64.2328 1156.26 Q69.6031 1156.26 72.7976 1158.95 Q75.992 1161.63 75.992 1166.12 Q75.992 1168.25 75.1818 1170.17 Q74.3948 1172.07 72.2883 1174.67 Q71.7096 1175.34 68.6078 1178.55 Q65.5059 1181.75 59.8578 1187.51 Z\" fill=\"#000000\" fill-rule=\"evenodd\" fill-opacity=\"1\" /><path clip-path=\"url(#clip340)\" d=\"M69.0476 901.266 Q72.404 901.983 74.279 904.252 Q76.1772 906.52 76.1772 909.854 Q76.1772 914.969 72.6587 917.77 Q69.1402 920.571 62.6587 920.571 Q60.4828 920.571 58.168 920.131 Q55.8764 919.715 53.4227 918.858 L53.4227 914.344 Q55.3671 915.479 57.6819 916.057 Q59.9967 916.636 62.5198 916.636 Q66.918 916.636 69.2096 914.9 Q71.5244 913.164 71.5244 909.854 Q71.5244 906.798 69.3717 905.085 Q67.242 903.349 63.4226 903.349 L59.3949 903.349 L59.3949 899.507 L63.6078 899.507 Q67.0569 899.507 68.8855 898.141 Q70.7142 896.752 70.7142 894.159 Q70.7142 891.497 68.8161 890.085 Q66.9411 888.65 63.4226 888.65 Q61.5013 888.65 59.3023 889.067 Q57.1032 889.483 54.4643 890.363 L54.4643 886.196 Q57.1264 885.456 59.4412 885.085 Q61.7791 884.715 63.8393 884.715 Q69.1633 884.715 72.2652 887.145 Q75.367 889.553 75.367 893.673 Q75.367 896.544 73.7235 898.534 Q72.08 900.502 69.0476 901.266 Z\" fill=\"#000000\" fill-rule=\"evenodd\" fill-opacity=\"1\" /><path clip-path=\"url(#clip340)\" d=\"M66.5939 617.866 L54.7884 636.315 L66.5939 636.315 L66.5939 617.866 M65.367 613.792 L71.2466 613.792 L71.2466 636.315 L76.1772 636.315 L76.1772 640.204 L71.2466 640.204 L71.2466 648.352 L66.5939 648.352 L66.5939 640.204 L50.9921 640.204 L50.9921 635.69 L65.367 613.792 Z\" fill=\"#000000\" fill-rule=\"evenodd\" fill-opacity=\"1\" /><path clip-path=\"url(#clip340)\" d=\"M55.2745 342.244 L73.6309 342.244 L73.6309 346.179 L59.5569 346.179 L59.5569 354.652 Q60.5754 354.304 61.5939 354.142 Q62.6124 353.957 63.6309 353.957 Q69.418 353.957 72.7976 357.128 Q76.1772 360.3 76.1772 365.716 Q76.1772 371.295 72.705 374.397 Q69.2328 377.475 62.9134 377.475 Q60.7374 377.475 58.4689 377.105 Q56.2236 376.735 53.8162 375.994 L53.8162 371.295 Q55.8995 372.429 58.1217 372.985 Q60.3439 373.54 62.8208 373.54 Q66.8254 373.54 69.1633 371.434 Q71.5013 369.327 71.5013 365.716 Q71.5013 362.105 69.1633 359.999 Q66.8254 357.892 62.8208 357.892 Q60.9458 357.892 59.0708 358.309 Q57.2189 358.726 55.2745 359.605 L55.2745 342.244 Z\" fill=\"#000000\" fill-rule=\"evenodd\" fill-opacity=\"1\" /><path clip-path=\"url(#clip340)\" d=\"M64.6495 86.1129 Q61.5013 86.1129 59.6495 88.2656 Q57.8208 90.4184 57.8208 94.1684 Q57.8208 97.8952 59.6495 100.071 Q61.5013 102.224 64.6495 102.224 Q67.7976 102.224 69.6263 100.071 Q71.4781 97.8952 71.4781 94.1684 Q71.4781 90.4184 69.6263 88.2656 Q67.7976 86.1129 64.6495 86.1129 M73.9318 71.4602 L73.9318 75.7194 Q72.1726 74.8861 70.367 74.4463 Q68.5846 74.0064 66.8254 74.0064 Q62.1958 74.0064 59.7421 77.1314 Q57.3115 80.2564 56.9643 86.5758 Q58.33 84.5619 60.3902 83.4971 Q62.4504 82.4092 64.9272 82.4092 Q70.1355 82.4092 73.1448 85.5805 Q76.1772 88.7286 76.1772 94.1684 Q76.1772 99.4924 73.029 102.71 Q69.8809 105.928 64.6495 105.928 Q58.6541 105.928 55.4828 101.344 Q52.3116 96.7378 52.3116 88.011 Q52.3116 79.8166 56.2004 74.9555 Q60.0893 70.0713 66.6402 70.0713 Q68.3994 70.0713 70.1818 70.4185 Q71.9874 70.7657 73.9318 71.4602 Z\" fill=\"#000000\" fill-rule=\"evenodd\" fill-opacity=\"1\" /><circle clip-path=\"url(#clip342)\" cx=\"809.716\" cy=\"631.072\" r=\"14.4\" fill=\"#009af9\" fill-rule=\"evenodd\" fill-opacity=\"1\" stroke=\"#000000\" stroke-opacity=\"1\" stroke-width=\"3.2\"/>\n",
       "<circle clip-path=\"url(#clip342)\" cx=\"2289.34\" cy=\"1445.72\" r=\"14.4\" fill=\"#009af9\" fill-rule=\"evenodd\" fill-opacity=\"1\" stroke=\"#000000\" stroke-opacity=\"1\" stroke-width=\"3.2\"/>\n",
       "<circle clip-path=\"url(#clip342)\" cx=\"1443.84\" cy=\"359.524\" r=\"14.4\" fill=\"#009af9\" fill-rule=\"evenodd\" fill-opacity=\"1\" stroke=\"#000000\" stroke-opacity=\"1\" stroke-width=\"3.2\"/>\n",
       "<circle clip-path=\"url(#clip342)\" cx=\"1021.09\" cy=\"359.524\" r=\"14.4\" fill=\"#009af9\" fill-rule=\"evenodd\" fill-opacity=\"1\" stroke=\"#000000\" stroke-opacity=\"1\" stroke-width=\"3.2\"/>\n",
       "<circle clip-path=\"url(#clip342)\" cx=\"2077.97\" cy=\"1174.17\" r=\"14.4\" fill=\"#009af9\" fill-rule=\"evenodd\" fill-opacity=\"1\" stroke=\"#000000\" stroke-opacity=\"1\" stroke-width=\"3.2\"/>\n",
       "<circle clip-path=\"url(#clip342)\" cx=\"1655.22\" cy=\"631.072\" r=\"14.4\" fill=\"#009af9\" fill-rule=\"evenodd\" fill-opacity=\"1\" stroke=\"#000000\" stroke-opacity=\"1\" stroke-width=\"3.2\"/>\n",
       "<circle clip-path=\"url(#clip342)\" cx=\"386.965\" cy=\"1174.17\" r=\"14.4\" fill=\"#009af9\" fill-rule=\"evenodd\" fill-opacity=\"1\" stroke=\"#000000\" stroke-opacity=\"1\" stroke-width=\"3.2\"/>\n",
       "<circle clip-path=\"url(#clip342)\" cx=\"1232.47\" cy=\"87.9763\" r=\"14.4\" fill=\"#009af9\" fill-rule=\"evenodd\" fill-opacity=\"1\" stroke=\"#000000\" stroke-opacity=\"1\" stroke-width=\"3.2\"/>\n",
       "<circle clip-path=\"url(#clip342)\" cx=\"598.34\" cy=\"902.62\" r=\"14.4\" fill=\"#009af9\" fill-rule=\"evenodd\" fill-opacity=\"1\" stroke=\"#000000\" stroke-opacity=\"1\" stroke-width=\"3.2\"/>\n",
       "<circle clip-path=\"url(#clip342)\" cx=\"175.59\" cy=\"1445.72\" r=\"14.4\" fill=\"#009af9\" fill-rule=\"evenodd\" fill-opacity=\"1\" stroke=\"#000000\" stroke-opacity=\"1\" stroke-width=\"3.2\"/>\n",
       "<circle clip-path=\"url(#clip342)\" cx=\"1866.59\" cy=\"902.62\" r=\"14.4\" fill=\"#009af9\" fill-rule=\"evenodd\" fill-opacity=\"1\" stroke=\"#000000\" stroke-opacity=\"1\" stroke-width=\"3.2\"/>\n",
       "</svg>\n"
      ]
     },
     "execution_count": 49,
     "metadata": {},
     "output_type": "execute_result"
    }
   ],
   "source": [
    "scatter(collect(keys(two_standard)), collect(values(two_standard)); legend=false, xaxis=2:12)"
   ]
  },
  {
   "cell_type": "code",
   "execution_count": 50,
   "id": "cad18d3a",
   "metadata": {},
   "outputs": [
    {
     "data": {
      "text/plain": [
       "2002-element Vector{Vector{Int64}}:\n",
       " [1, 2, 2, 2, 2, 2]\n",
       " [1, 2, 2, 2, 2, 3]\n",
       " [1, 2, 2, 2, 2, 4]\n",
       " [1, 2, 2, 2, 2, 5]\n",
       " [1, 2, 2, 2, 2, 6]\n",
       " [1, 2, 2, 2, 2, 7]\n",
       " [1, 2, 2, 2, 2, 8]\n",
       " [1, 2, 2, 2, 2, 9]\n",
       " [1, 2, 2, 2, 2, 10]\n",
       " [1, 2, 2, 2, 2, 11]\n",
       " [1, 2, 2, 2, 3, 3]\n",
       " [1, 2, 2, 2, 3, 4]\n",
       " [1, 2, 2, 2, 3, 5]\n",
       " ⋮\n",
       " [1, 9, 9, 11, 11, 11]\n",
       " [1, 9, 10, 10, 10, 10]\n",
       " [1, 9, 10, 10, 10, 11]\n",
       " [1, 9, 10, 10, 11, 11]\n",
       " [1, 9, 10, 11, 11, 11]\n",
       " [1, 9, 11, 11, 11, 11]\n",
       " [1, 10, 10, 10, 10, 10]\n",
       " [1, 10, 10, 10, 10, 11]\n",
       " [1, 10, 10, 10, 11, 11]\n",
       " [1, 10, 10, 11, 11, 11]\n",
       " [1, 10, 11, 11, 11, 11]\n",
       " [1, 11, 11, 11, 11, 11]"
      ]
     },
     "execution_count": 50,
     "metadata": {},
     "output_type": "execute_result"
    }
   ],
   "source": [
    "all_dice = [[1, x2, x3, x4, x5, x6]\n",
    "                   for x2 in 2:11\n",
    "                   for x3 in x2:11\n",
    "                   for x4 in x3:11\n",
    "                   for x5 in x4:11\n",
    "                   for x6 in x5:11]"
   ]
  },
  {
   "cell_type": "code",
   "execution_count": 51,
   "id": "cfc6e3bd",
   "metadata": {},
   "outputs": [
    {
     "name": "stdout",
     "output_type": "stream",
     "text": [
      "[1, 2, 2, 3, 3, 4] [1, 3, 4, 5, 6, 8]\n",
      "[1, 2, 3, 4, 5, 6] [1, 2, 3, 4, 5, 6]\n",
      "[1, 3, 4, 5, 6, 8] [1, 2, 2, 3, 3, 4]\n"
     ]
    }
   ],
   "source": [
    "for d1 in all_dice, d2 in all_dice\n",
    "    test = Dict{Int, Int}()\n",
    "    for i in d1, j in d2 s=i+j\n",
    "        if haskey(test, s)\n",
    "            test[s] += 1\n",
    "        else\n",
    "            test[s] = 1\n",
    "        end\n",
    "    end\n",
    "           \n",
    "    if test == two_standard\n",
    "       println(d1, \" \", d2)\n",
    "    end\n",
    "end\n"
   ]
  },
  {
   "cell_type": "markdown",
   "id": "932761db",
   "metadata": {},
   "source": [
    "### Exercise \n",
    "\n",
    "> Rewrite the code solving the Sicherman puzzle, wrapping the logic of the processing in functions. Create one function, dice_ distribution, that produces a dictionary with a distribution of the sum of possible combinations of values on two dice passed as its arguments. Next, write another function, test_dice, in which you create the all_dice vari- able, then the two_standard variable, and finally run the main loop com- paring the distribution of all dice from the all_dice vector against the two_ standard distribution."
   ]
  },
  {
   "cell_type": "markdown",
   "id": "ea9f0490",
   "metadata": {},
   "source": [
    "## Named Tuples"
   ]
  },
  {
   "cell_type": "code",
   "execution_count": 52,
   "id": "8173766a",
   "metadata": {},
   "outputs": [
    {
     "data": {
      "text/plain": [
       "(x = [10.0, 8.0, 13.0, 9.0, 11.0, 14.0, 6.0, 4.0, 12.0, 7.0, 5.0], y = [8.04, 6.95, 7.58, 8.81, 8.33, 9.96, 7.24, 4.26, 10.84, 4.82, 5.68])"
      ]
     },
     "execution_count": 52,
     "metadata": {},
     "output_type": "execute_result"
    }
   ],
   "source": [
    "dataset1 = (x=aq[:, 1], y=aq[:, 2])"
   ]
  },
  {
   "cell_type": "code",
   "execution_count": 53,
   "id": "70e33253",
   "metadata": {},
   "outputs": [
    {
     "data": {
      "text/plain": [
       "11-element Vector{Float64}:\n",
       " 10.0\n",
       "  8.0\n",
       " 13.0\n",
       "  9.0\n",
       " 11.0\n",
       " 14.0\n",
       "  6.0\n",
       "  4.0\n",
       " 12.0\n",
       "  7.0\n",
       "  5.0"
      ]
     },
     "execution_count": 53,
     "metadata": {},
     "output_type": "execute_result"
    }
   ],
   "source": [
    "dataset1.x"
   ]
  },
  {
   "cell_type": "code",
   "execution_count": 54,
   "id": "f4011763",
   "metadata": {},
   "outputs": [
    {
     "data": {
      "text/plain": [
       "11-element Vector{Float64}:\n",
       "  8.04\n",
       "  6.95\n",
       "  7.58\n",
       "  8.81\n",
       "  8.33\n",
       "  9.96\n",
       "  7.24\n",
       "  4.26\n",
       " 10.84\n",
       "  4.82\n",
       "  5.68"
      ]
     },
     "execution_count": 54,
     "metadata": {},
     "output_type": "execute_result"
    }
   ],
   "source": [
    "dataset1.y"
   ]
  },
  {
   "cell_type": "code",
   "execution_count": 55,
   "id": "6fa62135",
   "metadata": {},
   "outputs": [
    {
     "data": {
      "text/plain": [
       "(set1 = (x = [10.0, 8.0, 13.0, 9.0, 11.0, 14.0, 6.0, 4.0, 12.0, 7.0, 5.0], y = [8.04, 6.95, 7.58, 8.81, 8.33, 9.96, 7.24, 4.26, 10.84, 4.82, 5.68]), set2 = (x = [10.0, 8.0, 13.0, 9.0, 11.0, 14.0, 6.0, 4.0, 12.0, 7.0, 5.0], y = [9.14, 8.14, 8.74, 8.77, 9.26, 8.1, 6.13, 3.1, 9.13, 7.26, 4.74]), set3 = (x = [10.0, 8.0, 13.0, 9.0, 11.0, 14.0, 6.0, 4.0, 12.0, 7.0, 5.0], y = [7.46, 6.77, 12.74, 7.11, 7.81, 8.84, 6.08, 5.39, 8.15, 6.42, 5.73]), set4 = (x = [8.0, 8.0, 8.0, 8.0, 8.0, 8.0, 8.0, 19.0, 8.0, 8.0, 8.0], y = [6.58, 5.76, 7.71, 8.84, 8.47, 7.04, 5.25, 12.5, 5.56, 7.91, 6.89]))"
      ]
     },
     "execution_count": 55,
     "metadata": {},
     "output_type": "execute_result"
    }
   ],
   "source": [
    "data = (set1=(x=aq[:, 1], y=aq[:, 2]),\n",
    "               set2=(x=aq[:, 3], y=aq[:, 4]),\n",
    "               set3=(x=aq[:, 5], y=aq[:, 6]),\n",
    "               set4=(x=aq[:, 7], y=aq[:, 8]))"
   ]
  },
  {
   "cell_type": "markdown",
   "id": "e6db71c6",
   "metadata": {},
   "source": [
    "Let's repeat analysis, but using Package/named tuples"
   ]
  },
  {
   "cell_type": "code",
   "execution_count": 56,
   "id": "9b67ad1a",
   "metadata": {},
   "outputs": [],
   "source": [
    "using Statistics"
   ]
  },
  {
   "cell_type": "code",
   "execution_count": 57,
   "id": "5756053e",
   "metadata": {},
   "outputs": [
    {
     "data": {
      "text/plain": [
       "(set1 = 9.0, set2 = 9.0, set3 = 9.0, set4 = 9.0)"
      ]
     },
     "execution_count": 57,
     "metadata": {},
     "output_type": "execute_result"
    }
   ],
   "source": [
    "map(s -> mean(s.x), data)"
   ]
  },
  {
   "cell_type": "code",
   "execution_count": 58,
   "id": "9da08c61",
   "metadata": {},
   "outputs": [
    {
     "data": {
      "text/plain": [
       "(set1 = 0.8164205163448398, set2 = 0.8162365060002429, set3 = 0.8162867394895983, set4 = 0.8165214368885028)"
      ]
     },
     "execution_count": 58,
     "metadata": {},
     "output_type": "execute_result"
    }
   ],
   "source": [
    "map(s -> cor(s.x, s.y), data)"
   ]
  },
  {
   "cell_type": "code",
   "execution_count": 60,
   "id": "2c0906c7",
   "metadata": {},
   "outputs": [
    {
     "name": "stderr",
     "output_type": "stream",
     "text": [
      "\u001b[32m\u001b[1m   Resolving\u001b[22m\u001b[39m package versions...\n",
      "\u001b[32m\u001b[1m   Installed\u001b[22m\u001b[39m Calculus ──────────────────── v0.5.1\n",
      "\u001b[32m\u001b[1m   Installed\u001b[22m\u001b[39m StatsFuns ─────────────────── v1.2.1\n",
      "\u001b[32m\u001b[1m   Installed\u001b[22m\u001b[39m HypergeometricFunctions ───── v0.3.11\n",
      "\u001b[32m\u001b[1m   Installed\u001b[22m\u001b[39m PDMats ────────────────────── v0.11.16\n",
      "\u001b[32m\u001b[1m   Installed\u001b[22m\u001b[39m Rmath_jll ─────────────────── v0.4.0+0\n",
      "\u001b[32m\u001b[1m   Installed\u001b[22m\u001b[39m DataValueInterfaces ───────── v1.0.0\n",
      "\u001b[32m\u001b[1m   Installed\u001b[22m\u001b[39m TableTraits ───────────────── v1.0.1\n",
      "\u001b[32m\u001b[1m   Installed\u001b[22m\u001b[39m StatsModels ───────────────── v0.6.33\n",
      "\u001b[32m\u001b[1m   Installed\u001b[22m\u001b[39m GLM ───────────────────────── v1.8.1\n",
      "\u001b[32m\u001b[1m   Installed\u001b[22m\u001b[39m Rmath ─────────────────────── v0.7.1\n",
      "\u001b[32m\u001b[1m   Installed\u001b[22m\u001b[39m DualNumbers ───────────────── v0.6.8\n",
      "\u001b[32m\u001b[1m   Installed\u001b[22m\u001b[39m Tables ────────────────────── v1.10.0\n",
      "\u001b[32m\u001b[1m   Installed\u001b[22m\u001b[39m IteratorInterfaceExtensions ─ v1.0.0\n",
      "\u001b[32m\u001b[1m   Installed\u001b[22m\u001b[39m ShiftedArrays ─────────────── v2.0.0\n",
      "\u001b[32m\u001b[1m   Installed\u001b[22m\u001b[39m QuadGK ────────────────────── v2.8.1\n",
      "\u001b[32m\u001b[1m   Installed\u001b[22m\u001b[39m DensityInterface ──────────── v0.4.0\n",
      "\u001b[32m\u001b[1m   Installed\u001b[22m\u001b[39m FillArrays ────────────────── v0.13.7\n",
      "\u001b[32m\u001b[1m   Installed\u001b[22m\u001b[39m Distributions ─────────────── v0.25.84\n",
      "\u001b[32m\u001b[1m    Updating\u001b[22m\u001b[39m `~/.julia/environments/v1.8/Project.toml`\n",
      " \u001b[90m [38e38edf] \u001b[39m\u001b[92m+ GLM v1.8.1\u001b[39m\n",
      "\u001b[32m\u001b[1m    Updating\u001b[22m\u001b[39m `~/.julia/environments/v1.8/Manifest.toml`\n",
      " \u001b[90m [49dc2e85] \u001b[39m\u001b[92m+ Calculus v0.5.1\u001b[39m\n",
      " \u001b[90m [e2d170a0] \u001b[39m\u001b[92m+ DataValueInterfaces v1.0.0\u001b[39m\n",
      " \u001b[90m [b429d917] \u001b[39m\u001b[92m+ DensityInterface v0.4.0\u001b[39m\n",
      " \u001b[90m [31c24e10] \u001b[39m\u001b[92m+ Distributions v0.25.84\u001b[39m\n",
      " \u001b[90m [fa6b7ba4] \u001b[39m\u001b[92m+ DualNumbers v0.6.8\u001b[39m\n",
      " \u001b[90m [1a297f60] \u001b[39m\u001b[92m+ FillArrays v0.13.7\u001b[39m\n",
      " \u001b[90m [38e38edf] \u001b[39m\u001b[92m+ GLM v1.8.1\u001b[39m\n",
      " \u001b[90m [34004b35] \u001b[39m\u001b[92m+ HypergeometricFunctions v0.3.11\u001b[39m\n",
      " \u001b[90m [82899510] \u001b[39m\u001b[92m+ IteratorInterfaceExtensions v1.0.0\u001b[39m\n",
      " \u001b[90m [90014a1f] \u001b[39m\u001b[92m+ PDMats v0.11.16\u001b[39m\n",
      " \u001b[90m [1fd47b50] \u001b[39m\u001b[92m+ QuadGK v2.8.1\u001b[39m\n",
      " \u001b[90m [79098fc4] \u001b[39m\u001b[92m+ Rmath v0.7.1\u001b[39m\n",
      " \u001b[90m [1277b4bf] \u001b[39m\u001b[92m+ ShiftedArrays v2.0.0\u001b[39m\n",
      " \u001b[90m [4c63d2b9] \u001b[39m\u001b[92m+ StatsFuns v1.2.1\u001b[39m\n",
      " \u001b[90m [3eaba693] \u001b[39m\u001b[92m+ StatsModels v0.6.33\u001b[39m\n",
      " \u001b[90m [3783bdb8] \u001b[39m\u001b[92m+ TableTraits v1.0.1\u001b[39m\n",
      " \u001b[90m [bd369af6] \u001b[39m\u001b[92m+ Tables v1.10.0\u001b[39m\n",
      " \u001b[90m [f50d1b31] \u001b[39m\u001b[92m+ Rmath_jll v0.4.0+0\u001b[39m\n",
      " \u001b[90m [4607b0f0] \u001b[39m\u001b[92m+ SuiteSparse\u001b[39m\n",
      "\u001b[32m\u001b[1mPrecompiling\u001b[22m\u001b[39m project...\n",
      "\u001b[32m  ✓ \u001b[39m\u001b[90mIteratorInterfaceExtensions\u001b[39m\n",
      "\u001b[32m  ✓ \u001b[39m\u001b[90mDataValueInterfaces\u001b[39m\n",
      "\u001b[32m  ✓ \u001b[39m\u001b[90mShiftedArrays\u001b[39m\n",
      "\u001b[32m  ✓ \u001b[39m\u001b[90mRmath_jll\u001b[39m\n",
      "\u001b[32m  ✓ \u001b[39m\u001b[90mDensityInterface\u001b[39m\n",
      "\u001b[32m  ✓ \u001b[39m\u001b[90mTableTraits\u001b[39m\n",
      "\u001b[32m  ✓ \u001b[39m\u001b[90mPDMats\u001b[39m\n",
      "\u001b[32m  ✓ \u001b[39m\u001b[90mCalculus\u001b[39m\n",
      "\u001b[32m  ✓ \u001b[39m\u001b[90mQuadGK\u001b[39m\n",
      "\u001b[32m  ✓ \u001b[39m\u001b[90mFillArrays\u001b[39m\n",
      "\u001b[32m  ✓ \u001b[39m\u001b[90mRmath\u001b[39m\n",
      "\u001b[32m  ✓ \u001b[39m\u001b[90mTables\u001b[39m\n",
      "\u001b[32m  ✓ \u001b[39m\u001b[90mDualNumbers\u001b[39m\n",
      "\u001b[32m  ✓ \u001b[39m\u001b[90mHypergeometricFunctions\u001b[39m\n",
      "\u001b[32m  ✓ \u001b[39m\u001b[90mStatsFuns\u001b[39m\n",
      "\u001b[32m  ✓ \u001b[39m\u001b[90mStatsModels\u001b[39m\n",
      "\u001b[32m  ✓ \u001b[39m\u001b[90mDistributions\u001b[39m\n",
      "\u001b[32m  ✓ \u001b[39mGLM\n",
      "  18 dependencies successfully precompiled in 6 seconds. 142 already precompiled.\n"
     ]
    }
   ],
   "source": [
    "Pkg.add(\"GLM\")"
   ]
  },
  {
   "cell_type": "code",
   "execution_count": 61,
   "id": "1e696312",
   "metadata": {},
   "outputs": [],
   "source": [
    "using GLM"
   ]
  },
  {
   "cell_type": "code",
   "execution_count": 62,
   "id": "51518087",
   "metadata": {},
   "outputs": [
    {
     "data": {
      "text/plain": [
       "StatsModels.TableRegressionModel{LinearModel{GLM.LmResp{Vector{Float64}}, GLM.DensePredChol{Float64, LinearAlgebra.CholeskyPivoted{Float64, Matrix{Float64}, Vector{Int64}}}}, Matrix{Float64}}\n",
       "\n",
       "y ~ 1 + x\n",
       "\n",
       "Coefficients:\n",
       "───────────────────────────────────────────────────────────────────────\n",
       "                Coef.  Std. Error     t  Pr(>|t|)  Lower 95%  Upper 95%\n",
       "───────────────────────────────────────────────────────────────────────\n",
       "(Intercept)  3.00009     1.12475   2.67    0.0257   0.455737   5.54444\n",
       "x            0.500091    0.117906  4.24    0.0022   0.23337    0.766812\n",
       "───────────────────────────────────────────────────────────────────────"
      ]
     },
     "execution_count": 62,
     "metadata": {},
     "output_type": "execute_result"
    }
   ],
   "source": [
    "model = lm(@formula(y ~ x), data.set1)"
   ]
  },
  {
   "cell_type": "markdown",
   "id": "5ac84c0f",
   "metadata": {},
   "source": [
    "See https://juliastats.org/StatsModels.jl/stable/formula/#The-@formula-language for more on formulas but apparently will return to them"
   ]
  },
  {
   "cell_type": "code",
   "execution_count": 63,
   "id": "2eae6097",
   "metadata": {},
   "outputs": [
    {
     "data": {
      "text/plain": [
       "0.6665424595087749"
      ]
     },
     "execution_count": 63,
     "metadata": {},
     "output_type": "execute_result"
    }
   ],
   "source": [
    "r2(model)"
   ]
  },
  {
   "cell_type": "markdown",
   "id": "ed0fa9b9",
   "metadata": {},
   "source": [
    "### Exercise\n",
    "\n",
    "> Reproduce figure 4.6 using the data named tuple defined in listing 4.2 \n",
    "\n",
    "(i.e. the 4 plots one)"
   ]
  },
  {
   "cell_type": "code",
   "execution_count": null,
   "id": "5c632f15",
   "metadata": {},
   "outputs": [],
   "source": []
  },
  {
   "cell_type": "markdown",
   "id": "267c01c0",
   "metadata": {},
   "source": [
    "## Structs"
   ]
  },
  {
   "cell_type": "code",
   "execution_count": 66,
   "id": "f1616dc1",
   "metadata": {},
   "outputs": [],
   "source": [
    "struct Container{T}\n",
    "   item:: T \n",
    "end"
   ]
  },
  {
   "cell_type": "code",
   "execution_count": 67,
   "id": "a205c969",
   "metadata": {},
   "outputs": [
    {
     "data": {
      "text/plain": [
       "Container{Int64}(4)"
      ]
     },
     "execution_count": 67,
     "metadata": {},
     "output_type": "execute_result"
    }
   ],
   "source": [
    "Container(4)"
   ]
  },
  {
   "cell_type": "code",
   "execution_count": 68,
   "id": "ac3b535f",
   "metadata": {},
   "outputs": [
    {
     "data": {
      "text/plain": [
       "Container{String}(\"hi\")"
      ]
     },
     "execution_count": 68,
     "metadata": {},
     "output_type": "execute_result"
    }
   ],
   "source": [
    "Container(\"hi\")"
   ]
  },
  {
   "cell_type": "markdown",
   "id": "bb8ea3f7",
   "metadata": {},
   "source": [
    "### Mutability\n",
    "\n",
    "#### Immutable\n",
    "> Int,Float64,String,Tuple,NamedTuple,struct\n",
    "#### Mutable\n",
    "> Array (so also Vector and Matrix), Dict, and struct created with\n",
    "mutable keyword added"
   ]
  },
  {
   "cell_type": "markdown",
   "id": "35ec8acb",
   "metadata": {},
   "source": [
    "When we have functions that mutate should use `!` (as seen in e.g. Ruby)"
   ]
  },
  {
   "cell_type": "code",
   "execution_count": 70,
   "id": "e3bd2ffe",
   "metadata": {},
   "outputs": [
    {
     "data": {
      "text/plain": [
       "9-element Vector{Int64}:\n",
       " 1\n",
       " 2\n",
       " 3\n",
       " 4\n",
       " 5\n",
       " 5\n",
       " 6\n",
       " 7\n",
       " 8"
      ]
     },
     "execution_count": 70,
     "metadata": {},
     "output_type": "execute_result"
    }
   ],
   "source": [
    "example_a = [1,2,3,4,5,5,6,7,8]"
   ]
  },
  {
   "cell_type": "code",
   "execution_count": 71,
   "id": "2687a67f",
   "metadata": {},
   "outputs": [
    {
     "data": {
      "text/plain": [
       "8-element Vector{Int64}:\n",
       " 1\n",
       " 2\n",
       " 3\n",
       " 4\n",
       " 5\n",
       " 6\n",
       " 7\n",
       " 8"
      ]
     },
     "execution_count": 71,
     "metadata": {},
     "output_type": "execute_result"
    }
   ],
   "source": [
    "unique(example_a)"
   ]
  },
  {
   "cell_type": "code",
   "execution_count": 72,
   "id": "c7925c29",
   "metadata": {},
   "outputs": [
    {
     "data": {
      "text/plain": [
       "9-element Vector{Int64}:\n",
       " 1\n",
       " 2\n",
       " 3\n",
       " 4\n",
       " 5\n",
       " 5\n",
       " 6\n",
       " 7\n",
       " 8"
      ]
     },
     "execution_count": 72,
     "metadata": {},
     "output_type": "execute_result"
    }
   ],
   "source": [
    "example_a"
   ]
  },
  {
   "cell_type": "code",
   "execution_count": 73,
   "id": "df6ca3e1",
   "metadata": {},
   "outputs": [
    {
     "data": {
      "text/plain": [
       "8-element Vector{Int64}:\n",
       " 1\n",
       " 2\n",
       " 3\n",
       " 4\n",
       " 5\n",
       " 6\n",
       " 7\n",
       " 8"
      ]
     },
     "execution_count": 73,
     "metadata": {},
     "output_type": "execute_result"
    }
   ],
   "source": [
    "unique!(example_a)"
   ]
  },
  {
   "cell_type": "code",
   "execution_count": 74,
   "id": "fa1753fb",
   "metadata": {},
   "outputs": [
    {
     "data": {
      "text/plain": [
       "8-element Vector{Int64}:\n",
       " 1\n",
       " 2\n",
       " 3\n",
       " 4\n",
       " 5\n",
       " 6\n",
       " 7\n",
       " 8"
      ]
     },
     "execution_count": 74,
     "metadata": {},
     "output_type": "execute_result"
    }
   ],
   "source": [
    "example_a"
   ]
  },
  {
   "cell_type": "code",
   "execution_count": null,
   "id": "a5c84cb3",
   "metadata": {},
   "outputs": [],
   "source": []
  }
 ],
 "metadata": {
  "kernelspec": {
   "display_name": "Julia 1.8.5",
   "language": "julia",
   "name": "julia-1.8"
  },
  "language_info": {
   "file_extension": ".jl",
   "mimetype": "application/julia",
   "name": "julia",
   "version": "1.8.5"
  }
 },
 "nbformat": 4,
 "nbformat_minor": 5
}
