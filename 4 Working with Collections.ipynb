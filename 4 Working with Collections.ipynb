{
 "cells": [
  {
   "cell_type": "markdown",
   "id": "e9bacac8",
   "metadata": {},
   "source": [
    "## Types: Matrices, Tuples"
   ]
  },
  {
   "cell_type": "code",
   "execution_count": 1,
   "id": "2aae21ba",
   "metadata": {},
   "outputs": [
    {
     "data": {
      "text/plain": [
       "11×8 Matrix{Float64}:\n",
       " 10.0   8.04  10.0  9.14  10.0   7.46   8.0   6.58\n",
       "  8.0   6.95   8.0  8.14   8.0   6.77   8.0   5.76\n",
       " 13.0   7.58  13.0  8.74  13.0  12.74   8.0   7.71\n",
       "  9.0   8.81   9.0  8.77   9.0   7.11   8.0   8.84\n",
       " 11.0   8.33  11.0  9.26  11.0   7.81   8.0   8.47\n",
       " 14.0   9.96  14.0  8.1   14.0   8.84   8.0   7.04\n",
       "  6.0   7.24   6.0  6.13   6.0   6.08   8.0   5.25\n",
       "  4.0   4.26   4.0  3.1    4.0   5.39  19.0  12.5\n",
       " 12.0  10.84  12.0  9.13  12.0   8.15   8.0   5.56\n",
       "  7.0   4.82   7.0  7.26   7.0   6.42   8.0   7.91\n",
       "  5.0   5.68   5.0  4.74   5.0   5.73   8.0   6.89"
      ]
     },
     "execution_count": 1,
     "metadata": {},
     "output_type": "execute_result"
    }
   ],
   "source": [
    "aq = [10.0   8.04  10.0  9.14  10.0   7.46   8.0   6.58\n",
    "              8.0   6.95   8.0  8.14   8.0   6.77   8.0   5.76\n",
    "             13.0   7.58  13.0  8.74  13.0  12.74   8.0   7.71\n",
    "              9.0   8.81   9.0  8.77   9.0   7.11   8.0   8.84\n",
    "             11.0   8.33  11.0  9.26  11.0   7.81   8.0   8.47\n",
    "             14.0   9.96  14.0  8.1   14.0   8.84   8.0   7.04\n",
    "              6.0   7.24   6.0  6.13   6.0   6.08   8.0   5.25\n",
    "              4.0   4.26   4.0  3.1    4.0   5.39  19.0  12.50\n",
    "             12.0  10.84  12.0  9.13  12.0   8.15   8.0   5.56\n",
    "              7.0   4.82   7.0  7.26   7.0   6.42   8.0   7.91\n",
    "              5.0   5.68   5.0  4.74   5.0   5.73   8.0   6.89]"
   ]
  },
  {
   "cell_type": "code",
   "execution_count": 2,
   "id": "812bf3e4",
   "metadata": {},
   "outputs": [
    {
     "data": {
      "text/plain": [
       "(11, 8)"
      ]
     },
     "execution_count": 2,
     "metadata": {},
     "output_type": "execute_result"
    }
   ],
   "source": [
    "size(aq)"
   ]
  },
  {
   "cell_type": "code",
   "execution_count": 3,
   "id": "6a12f394",
   "metadata": {},
   "outputs": [
    {
     "data": {
      "text/plain": [
       "(1, true, \"hi\")"
      ]
     },
     "execution_count": 3,
     "metadata": {},
     "output_type": "execute_result"
    }
   ],
   "source": [
    "t = (1, true, \"hi\")"
   ]
  },
  {
   "cell_type": "code",
   "execution_count": 4,
   "id": "479b949e",
   "metadata": {},
   "outputs": [
    {
     "data": {
      "text/plain": [
       "Tuple{Int64, Bool, String}"
      ]
     },
     "execution_count": 4,
     "metadata": {},
     "output_type": "execute_result"
    }
   ],
   "source": [
    "typeof(t)"
   ]
  },
  {
   "cell_type": "code",
   "execution_count": 5,
   "id": "fecb33b4",
   "metadata": {},
   "outputs": [
    {
     "data": {
      "text/plain": [
       "1"
      ]
     },
     "execution_count": 5,
     "metadata": {},
     "output_type": "execute_result"
    }
   ],
   "source": [
    "t[1]"
   ]
  },
  {
   "cell_type": "code",
   "execution_count": 6,
   "id": "2bab1647",
   "metadata": {},
   "outputs": [
    {
     "ename": "LoadError",
     "evalue": "MethodError: no method matching setindex!(::Tuple{Int64, Bool, String}, ::Int64, ::Int64)",
     "output_type": "error",
     "traceback": [
      "MethodError: no method matching setindex!(::Tuple{Int64, Bool, String}, ::Int64, ::Int64)",
      "",
      "Stacktrace:",
      " [1] top-level scope",
      "   @ In[6]:1"
     ]
    }
   ],
   "source": [
    "t[1] = 4"
   ]
  },
  {
   "cell_type": "code",
   "execution_count": 9,
   "id": "306bc90e",
   "metadata": {},
   "outputs": [
    {
     "name": "stderr",
     "output_type": "stream",
     "text": [
      "\u001b[32m\u001b[1m    Updating\u001b[22m\u001b[39m registry at `~/.julia/registries/General.toml`\n",
      "\u001b[32m\u001b[1m   Resolving\u001b[22m\u001b[39m package versions...\n",
      "\u001b[32m\u001b[1m   Installed\u001b[22m\u001b[39m BenchmarkTools ─ v1.3.2\n",
      "\u001b[32m\u001b[1m    Updating\u001b[22m\u001b[39m `~/.julia/environments/v1.8/Project.toml`\n",
      " \u001b[90m [6e4b80f9] \u001b[39m\u001b[92m+ BenchmarkTools v1.3.2\u001b[39m\n",
      "\u001b[32m\u001b[1m    Updating\u001b[22m\u001b[39m `~/.julia/environments/v1.8/Manifest.toml`\n",
      " \u001b[90m [6e4b80f9] \u001b[39m\u001b[92m+ BenchmarkTools v1.3.2\u001b[39m\n",
      " \u001b[90m [37e2e46d] \u001b[39m\u001b[92m+ LinearAlgebra\u001b[39m\n",
      " \u001b[90m [9abbd945] \u001b[39m\u001b[92m+ Profile\u001b[39m\n",
      " \u001b[90m [2f01184e] \u001b[39m\u001b[92m+ SparseArrays\u001b[39m\n",
      " \u001b[90m [10745b16] \u001b[39m\u001b[92m+ Statistics\u001b[39m\n",
      " \u001b[90m [e66e0078] \u001b[39m\u001b[92m+ CompilerSupportLibraries_jll v1.0.1+0\u001b[39m\n",
      " \u001b[90m [4536629a] \u001b[39m\u001b[92m+ OpenBLAS_jll v0.3.20+0\u001b[39m\n",
      " \u001b[90m [8e850b90] \u001b[39m\u001b[92m+ libblastrampoline_jll v5.1.1+0\u001b[39m\n",
      "\u001b[32m\u001b[1mPrecompiling\u001b[22m\u001b[39m project...\n",
      "\u001b[32m  ✓ \u001b[39m\u001b[90mCompilerSupportLibraries_jll\u001b[39m\n",
      "\u001b[32m  ✓ \u001b[39m\u001b[90mOpenBLAS_jll\u001b[39m\n",
      "\u001b[32m  ✓ \u001b[39m\u001b[90mlibblastrampoline_jll\u001b[39m\n",
      "\u001b[32m  ✓ \u001b[39mBenchmarkTools\n",
      "  4 dependencies successfully precompiled in 1 seconds. 16 already precompiled.\n"
     ]
    }
   ],
   "source": [
    "import Pkg; Pkg.add(\"BenchmarkTools\")"
   ]
  },
  {
   "cell_type": "code",
   "execution_count": 10,
   "id": "02c67a46",
   "metadata": {},
   "outputs": [],
   "source": [
    "using BenchmarkTools"
   ]
  },
  {
   "cell_type": "code",
   "execution_count": 11,
   "id": "f8b6e89d",
   "metadata": {},
   "outputs": [
    {
     "data": {
      "text/plain": [
       "BenchmarkTools.Trial: 10000 samples with 1000 evaluations.\n",
       " Range \u001b[90m(\u001b[39m\u001b[36m\u001b[1mmin\u001b[22m\u001b[39m … \u001b[35mmax\u001b[39m\u001b[90m):  \u001b[39m\u001b[36m\u001b[1m1.208 ns\u001b[22m\u001b[39m … \u001b[35m1.833 ns\u001b[39m  \u001b[90m┊\u001b[39m GC \u001b[90m(\u001b[39mmin … max\u001b[90m): \u001b[39m0.00% … 0.00%\n",
       " Time  \u001b[90m(\u001b[39m\u001b[34m\u001b[1mmedian\u001b[22m\u001b[39m\u001b[90m):     \u001b[39m\u001b[34m\u001b[1m1.250 ns             \u001b[22m\u001b[39m\u001b[90m┊\u001b[39m GC \u001b[90m(\u001b[39mmedian\u001b[90m):    \u001b[39m0.00%\n",
       " Time  \u001b[90m(\u001b[39m\u001b[32m\u001b[1mmean\u001b[22m\u001b[39m ± \u001b[32mσ\u001b[39m\u001b[90m):   \u001b[39m\u001b[32m\u001b[1m1.260 ns\u001b[22m\u001b[39m ± \u001b[32m0.040 ns\u001b[39m  \u001b[90m┊\u001b[39m GC \u001b[90m(\u001b[39mmean ± σ\u001b[90m):  \u001b[39m0.00% ± 0.00%\n",
       "\n",
       "  \u001b[39m▁\u001b[39m \u001b[39m \u001b[39m \u001b[39m \u001b[39m \u001b[39m \u001b[39m \u001b[39m \u001b[39m█\u001b[34m \u001b[39m\u001b[39m \u001b[32m \u001b[39m\u001b[39m \u001b[39m \u001b[39m \u001b[39m \u001b[39m \u001b[39m▃\u001b[39m▄\u001b[39m \u001b[39m \u001b[39m \u001b[39m \u001b[39m \u001b[39m \u001b[39m \u001b[39m \u001b[39m▁\u001b[39m \u001b[39m \u001b[39m \u001b[39m \u001b[39m \u001b[39m \u001b[39m \u001b[39m \u001b[39m \u001b[39m▁\u001b[39m \u001b[39m \u001b[39m \u001b[39m \u001b[39m \u001b[39m \u001b[39m \u001b[39m \u001b[39m \u001b[39m \u001b[39m \u001b[39m \u001b[39m \u001b[39m \u001b[39m \u001b[39m \u001b[39m \u001b[39m \u001b[39m \u001b[39m▁\n",
       "  \u001b[39m█\u001b[39m▁\u001b[39m▁\u001b[39m▁\u001b[39m▁\u001b[39m▁\u001b[39m▁\u001b[39m▁\u001b[39m▁\u001b[39m█\u001b[34m▁\u001b[39m\u001b[39m▁\u001b[32m▁\u001b[39m\u001b[39m▁\u001b[39m▁\u001b[39m▁\u001b[39m▁\u001b[39m▁\u001b[39m█\u001b[39m█\u001b[39m▁\u001b[39m▁\u001b[39m▁\u001b[39m▁\u001b[39m▁\u001b[39m▁\u001b[39m▁\u001b[39m▁\u001b[39m█\u001b[39m▁\u001b[39m▁\u001b[39m▁\u001b[39m▁\u001b[39m▁\u001b[39m▁\u001b[39m▁\u001b[39m▁\u001b[39m▁\u001b[39m█\u001b[39m▁\u001b[39m▁\u001b[39m▁\u001b[39m▁\u001b[39m▁\u001b[39m▁\u001b[39m▁\u001b[39m▁\u001b[39m█\u001b[39m▁\u001b[39m▁\u001b[39m▁\u001b[39m▁\u001b[39m▁\u001b[39m▁\u001b[39m▁\u001b[39m▁\u001b[39m▆\u001b[39m \u001b[39m█\n",
       "  1.21 ns\u001b[90m     \u001b[39m\u001b[90mHistogram: \u001b[39m\u001b[90m\u001b[1mlog(\u001b[22m\u001b[39m\u001b[90mfrequency\u001b[39m\u001b[90m\u001b[1m)\u001b[22m\u001b[39m\u001b[90m by time\u001b[39m     1.46 ns \u001b[0m\u001b[1m<\u001b[22m\n",
       "\n",
       " Memory estimate\u001b[90m: \u001b[39m\u001b[33m0 bytes\u001b[39m, allocs estimate\u001b[90m: \u001b[39m\u001b[33m0\u001b[39m."
      ]
     },
     "execution_count": 11,
     "metadata": {},
     "output_type": "execute_result"
    }
   ],
   "source": [
    "@benchmark (1,2,12,14)"
   ]
  },
  {
   "cell_type": "code",
   "execution_count": 12,
   "id": "34cb3c64",
   "metadata": {},
   "outputs": [
    {
     "data": {
      "text/plain": [
       "BenchmarkTools.Trial: 10000 samples with 998 evaluations.\n",
       " Range \u001b[90m(\u001b[39m\u001b[36m\u001b[1mmin\u001b[22m\u001b[39m … \u001b[35mmax\u001b[39m\u001b[90m):  \u001b[39m\u001b[36m\u001b[1m16.951 ns\u001b[22m\u001b[39m … \u001b[35m364.646 ns\u001b[39m  \u001b[90m┊\u001b[39m GC \u001b[90m(\u001b[39mmin … max\u001b[90m): \u001b[39m0.00% … 94.93%\n",
       " Time  \u001b[90m(\u001b[39m\u001b[34m\u001b[1mmedian\u001b[22m\u001b[39m\u001b[90m):     \u001b[39m\u001b[34m\u001b[1m17.744 ns               \u001b[22m\u001b[39m\u001b[90m┊\u001b[39m GC \u001b[90m(\u001b[39mmedian\u001b[90m):    \u001b[39m0.00%\n",
       " Time  \u001b[90m(\u001b[39m\u001b[32m\u001b[1mmean\u001b[22m\u001b[39m ± \u001b[32mσ\u001b[39m\u001b[90m):   \u001b[39m\u001b[32m\u001b[1m18.778 ns\u001b[22m\u001b[39m ± \u001b[32m 15.105 ns\u001b[39m  \u001b[90m┊\u001b[39m GC \u001b[90m(\u001b[39mmean ± σ\u001b[90m):  \u001b[39m3.67% ±  4.33%\n",
       "\n",
       "  \u001b[39m \u001b[39m▂\u001b[39m▁\u001b[39m▃\u001b[39m▄\u001b[39m▇\u001b[39m█\u001b[34m▇\u001b[39m\u001b[39m▆\u001b[39m▄\u001b[39m▄\u001b[39m▃\u001b[39m▃\u001b[39m▁\u001b[39m▁\u001b[39m \u001b[32m \u001b[39m\u001b[39m \u001b[39m \u001b[39m \u001b[39m \u001b[39m \u001b[39m \u001b[39m \u001b[39m \u001b[39m \u001b[39m \u001b[39m \u001b[39m \u001b[39m \u001b[39m \u001b[39m \u001b[39m \u001b[39m \u001b[39m \u001b[39m \u001b[39m \u001b[39m \u001b[39m \u001b[39m \u001b[39m \u001b[39m \u001b[39m \u001b[39m \u001b[39m \u001b[39m \u001b[39m \u001b[39m \u001b[39m \u001b[39m \u001b[39m \u001b[39m \u001b[39m \u001b[39m \u001b[39m \u001b[39m \u001b[39m \u001b[39m \u001b[39m \u001b[39m \u001b[39m \u001b[39m▂\n",
       "  \u001b[39m▇\u001b[39m█\u001b[39m█\u001b[39m█\u001b[39m█\u001b[39m█\u001b[39m█\u001b[34m█\u001b[39m\u001b[39m█\u001b[39m█\u001b[39m█\u001b[39m█\u001b[39m█\u001b[39m█\u001b[39m█\u001b[39m█\u001b[32m█\u001b[39m\u001b[39m█\u001b[39m▇\u001b[39m▇\u001b[39m▆\u001b[39m▆\u001b[39m▆\u001b[39m▄\u001b[39m▄\u001b[39m▄\u001b[39m▄\u001b[39m▃\u001b[39m▄\u001b[39m▅\u001b[39m▅\u001b[39m▅\u001b[39m▂\u001b[39m▄\u001b[39m▆\u001b[39m▅\u001b[39m▆\u001b[39m▇\u001b[39m▇\u001b[39m▇\u001b[39m▇\u001b[39m▇\u001b[39m▅\u001b[39m▆\u001b[39m▆\u001b[39m▇\u001b[39m▆\u001b[39m▇\u001b[39m▆\u001b[39m▅\u001b[39m▆\u001b[39m▆\u001b[39m▅\u001b[39m▇\u001b[39m▆\u001b[39m▇\u001b[39m█\u001b[39m▇\u001b[39m▇\u001b[39m▇\u001b[39m \u001b[39m█\n",
       "  17 ns\u001b[90m         \u001b[39m\u001b[90mHistogram: \u001b[39m\u001b[90m\u001b[1mlog(\u001b[22m\u001b[39m\u001b[90mfrequency\u001b[39m\u001b[90m\u001b[1m)\u001b[22m\u001b[39m\u001b[90m by time\u001b[39m      23.9 ns \u001b[0m\u001b[1m<\u001b[22m\n",
       "\n",
       " Memory estimate\u001b[90m: \u001b[39m\u001b[33m96 bytes\u001b[39m, allocs estimate\u001b[90m: \u001b[39m\u001b[33m1\u001b[39m."
      ]
     },
     "execution_count": 12,
     "metadata": {},
     "output_type": "execute_result"
    }
   ],
   "source": [
    "@benchmark [1,2,12,14]"
   ]
  },
  {
   "cell_type": "markdown",
   "id": "2a6a6ef3",
   "metadata": {},
   "source": [
    "## Some basic statistics and iteration"
   ]
  },
  {
   "cell_type": "code",
   "execution_count": 13,
   "id": "74dae8e5",
   "metadata": {},
   "outputs": [],
   "source": [
    "using Statistics"
   ]
  },
  {
   "cell_type": "code",
   "execution_count": 14,
   "id": "72019bc2",
   "metadata": {},
   "outputs": [
    {
     "data": {
      "text/plain": [
       "1×8 Matrix{Float64}:\n",
       " 9.0  7.50091  9.0  7.50091  9.0  7.5  9.0  7.50091"
      ]
     },
     "execution_count": 14,
     "metadata": {},
     "output_type": "execute_result"
    }
   ],
   "source": [
    "mean(aq; dims=1)"
   ]
  },
  {
   "cell_type": "markdown",
   "id": "30aa5848",
   "metadata": {},
   "source": [
    "The idea of the data set is that each series (pair of columns) has same summary statistics"
   ]
  },
  {
   "cell_type": "code",
   "execution_count": 15,
   "id": "54a5d443",
   "metadata": {},
   "outputs": [
    {
     "data": {
      "text/plain": [
       "1×8 Matrix{Float64}:\n",
       " 3.31662  2.03157  3.31662  2.03166  3.31662  2.03042  3.31662  2.03058"
      ]
     },
     "execution_count": 15,
     "metadata": {},
     "output_type": "execute_result"
    }
   ],
   "source": [
    "std(aq; dims=1)"
   ]
  },
  {
   "cell_type": "code",
   "execution_count": 19,
   "id": "4c5943a7",
   "metadata": {},
   "outputs": [
    {
     "name": "stdout",
     "output_type": "stream",
     "text": [
      "Columns\n",
      "[10.0, 8.0, 13.0, 9.0, 11.0, 14.0, 6.0, 4.0, 12.0, 7.0, 5.0]\n",
      "[8.04, 6.95, 7.58, 8.81, 8.33, 9.96, 7.24, 4.26, 10.84, 4.82, 5.68]\n",
      "[10.0, 8.0, 13.0, 9.0, 11.0, 14.0, 6.0, 4.0, 12.0, 7.0, 5.0]\n",
      "[9.14, 8.14, 8.74, 8.77, 9.26, 8.1, 6.13, 3.1, 9.13, 7.26, 4.74]\n",
      "[10.0, 8.0, 13.0, 9.0, 11.0, 14.0, 6.0, 4.0, 12.0, 7.0, 5.0]\n",
      "[7.46, 6.77, 12.74, 7.11, 7.81, 8.84, 6.08, 5.39, 8.15, 6.42, 5.73]\n",
      "[8.0, 8.0, 8.0, 8.0, 8.0, 8.0, 8.0, 19.0, 8.0, 8.0, 8.0]\n",
      "[6.58, 5.76, 7.71, 8.84, 8.47, 7.04, 5.25, 12.5, 5.56, 7.91, 6.89]\n",
      "Rows\n",
      "[10.0, 8.04, 10.0, 9.14, 10.0, 7.46, 8.0, 6.58]\n",
      "[8.0, 6.95, 8.0, 8.14, 8.0, 6.77, 8.0, 5.76]\n",
      "[13.0, 7.58, 13.0, 8.74, 13.0, 12.74, 8.0, 7.71]\n",
      "[9.0, 8.81, 9.0, 8.77, 9.0, 7.11, 8.0, 8.84]\n",
      "[11.0, 8.33, 11.0, 9.26, 11.0, 7.81, 8.0, 8.47]\n",
      "[14.0, 9.96, 14.0, 8.1, 14.0, 8.84, 8.0, 7.04]\n",
      "[6.0, 7.24, 6.0, 6.13, 6.0, 6.08, 8.0, 5.25]\n",
      "[4.0, 4.26, 4.0, 3.1, 4.0, 5.39, 19.0, 12.5]\n",
      "[12.0, 10.84, 12.0, 9.13, 12.0, 8.15, 8.0, 5.56]\n",
      "[7.0, 4.82, 7.0, 7.26, 7.0, 6.42, 8.0, 7.91]\n",
      "[5.0, 5.68, 5.0, 4.74, 5.0, 5.73, 8.0, 6.89]\n"
     ]
    }
   ],
   "source": [
    "println(\"Columns\")\n",
    "\n",
    "for c in eachcol(aq)\n",
    "   println(c) \n",
    "end\n",
    "\n",
    "println(\"Rows\")\n",
    "\n",
    "for c in eachrow(aq)\n",
    "   println(c) \n",
    "end"
   ]
  },
  {
   "cell_type": "markdown",
   "id": "87d8193c",
   "metadata": {},
   "source": [
    "### Comprehensions\n",
    "\n",
    "* Always produce arrays (vectors)\n",
    "* Can filtering inline"
   ]
  },
  {
   "cell_type": "code",
   "execution_count": 21,
   "id": "048f1bc5",
   "metadata": {},
   "outputs": [
    {
     "data": {
      "text/plain": [
       "8-element Vector{Float64}:\n",
       " 9.0\n",
       " 7.500909090909093\n",
       " 9.0\n",
       " 7.500909090909091\n",
       " 9.0\n",
       " 7.500000000000001\n",
       " 9.0\n",
       " 7.50090909090909"
      ]
     },
     "execution_count": 21,
     "metadata": {},
     "output_type": "execute_result"
    }
   ],
   "source": [
    "[mean(col) for col in eachcol(aq)]"
   ]
  },
  {
   "cell_type": "code",
   "execution_count": 22,
   "id": "006ea693",
   "metadata": {},
   "outputs": [
    {
     "data": {
      "text/plain": [
       "5-element Vector{Int64}:\n",
       "  2\n",
       "  4\n",
       "  6\n",
       "  8\n",
       " 10"
      ]
     },
     "execution_count": 22,
     "metadata": {},
     "output_type": "execute_result"
    }
   ],
   "source": [
    "[x for x in 1:10 if x % 2 == 0]"
   ]
  },
  {
   "cell_type": "code",
   "execution_count": 25,
   "id": "fd4421b5",
   "metadata": {},
   "outputs": [
    {
     "data": {
      "text/plain": [
       "11-element Vector{Float64}:\n",
       " 10.0\n",
       "  8.0\n",
       " 13.0\n",
       "  9.0\n",
       " 11.0\n",
       " 14.0\n",
       "  6.0\n",
       "  4.0\n",
       " 12.0\n",
       "  7.0\n",
       "  5.0"
      ]
     },
     "execution_count": 25,
     "metadata": {},
     "output_type": "execute_result"
    }
   ],
   "source": [
    "aq[:, 1]"
   ]
  },
  {
   "cell_type": "code",
   "execution_count": 26,
   "id": "ee1055e2",
   "metadata": {},
   "outputs": [
    {
     "data": {
      "text/plain": [
       "8-element Vector{Float64}:\n",
       " 8.0\n",
       " 6.95\n",
       " 8.0\n",
       " 8.14\n",
       " 8.0\n",
       " 6.77\n",
       " 8.0\n",
       " 5.76"
      ]
     },
     "execution_count": 26,
     "metadata": {},
     "output_type": "execute_result"
    }
   ],
   "source": [
    "aq[2, :]"
   ]
  },
  {
   "cell_type": "markdown",
   "id": "189f6759",
   "metadata": {},
   "source": [
    "`@view`"
   ]
  },
  {
   "cell_type": "code",
   "execution_count": 27,
   "id": "56d9a303",
   "metadata": {},
   "outputs": [
    {
     "data": {
      "text/plain": [
       "8-element Vector{Float64}:\n",
       " 3.3166247903554\n",
       " 2.031568135925815\n",
       " 3.3166247903554\n",
       " 2.0316567355016177\n",
       " 3.3166247903554\n",
       " 2.030423601123667\n",
       " 3.3166247903554\n",
       " 2.0305785113876023"
      ]
     },
     "execution_count": 27,
     "metadata": {},
     "output_type": "execute_result"
    }
   ],
   "source": [
    "[std(@view aq[:, j]) for j in axes(aq, 2)]"
   ]
  },
  {
   "cell_type": "markdown",
   "id": "dbd657b6",
   "metadata": {},
   "source": [
    "## Correlations"
   ]
  },
  {
   "cell_type": "code",
   "execution_count": 32,
   "id": "f96af05d",
   "metadata": {},
   "outputs": [
    {
     "data": {
      "text/plain": [
       "4-element Vector{Float64}:\n",
       " 0.8164205163448398\n",
       " 0.8162365060002429\n",
       " 0.8162867394895983\n",
       " 0.8165214368885028"
      ]
     },
     "execution_count": 32,
     "metadata": {},
     "output_type": "execute_result"
    }
   ],
   "source": [
    "[cor((@view aq[:, i]), (@view aq[:, i+1])) for i in 1:2:7]"
   ]
  },
  {
   "cell_type": "code",
   "execution_count": 33,
   "id": "0f1bac06",
   "metadata": {},
   "outputs": [
    {
     "name": "stdout",
     "output_type": "stream",
     "text": [
      "search: \u001b[0m\u001b[1mc\u001b[22m\u001b[0m\u001b[1mo\u001b[22m\u001b[0m\u001b[1mr\u001b[22m \u001b[0m\u001b[1mC\u001b[22m\u001b[0m\u001b[1mo\u001b[22m\u001b[0m\u001b[1mr\u001b[22me Ve\u001b[0m\u001b[1mc\u001b[22m\u001b[0m\u001b[1mO\u001b[22m\u001b[0m\u001b[1mr\u001b[22mMat Ve\u001b[0m\u001b[1mc\u001b[22mt\u001b[0m\u001b[1mo\u001b[22m\u001b[0m\u001b[1mr\u001b[22m fa\u001b[0m\u001b[1mc\u001b[22mt\u001b[0m\u001b[1mo\u001b[22m\u001b[0m\u001b[1mr\u001b[22mial DenseVe\u001b[0m\u001b[1mc\u001b[22m\u001b[0m\u001b[1mO\u001b[22m\u001b[0m\u001b[1mr\u001b[22mMat \u001b[0m\u001b[1mC\u001b[22msh\u001b[0m\u001b[1mo\u001b[22m\u001b[0m\u001b[1mr\u001b[22mt BitVe\u001b[0m\u001b[1mc\u001b[22mt\u001b[0m\u001b[1mo\u001b[22m\u001b[0m\u001b[1mr\u001b[22m\n",
      "\n"
     ]
    },
    {
     "data": {
      "text/latex": [
       "\\begin{verbatim}\n",
       "cor(x::AbstractVector)\n",
       "\\end{verbatim}\n",
       "Return the number one.\n",
       "\n",
       "\\rule{\\textwidth}{1pt}\n",
       "\\begin{verbatim}\n",
       "cor(X::AbstractMatrix; dims::Int=1)\n",
       "\\end{verbatim}\n",
       "Compute the Pearson correlation matrix of the matrix \\texttt{X} along the dimension \\texttt{dims}.\n",
       "\n",
       "\\rule{\\textwidth}{1pt}\n",
       "\\begin{verbatim}\n",
       "cor(x::AbstractVector, y::AbstractVector)\n",
       "\\end{verbatim}\n",
       "Compute the Pearson correlation between the vectors \\texttt{x} and \\texttt{y}.\n",
       "\n",
       "\\rule{\\textwidth}{1pt}\n",
       "\\begin{verbatim}\n",
       "cor(X::AbstractVecOrMat, Y::AbstractVecOrMat; dims=1)\n",
       "\\end{verbatim}\n",
       "Compute the Pearson correlation between the vectors or matrices \\texttt{X} and \\texttt{Y} along the dimension \\texttt{dims}.\n",
       "\n"
      ],
      "text/markdown": [
       "```\n",
       "cor(x::AbstractVector)\n",
       "```\n",
       "\n",
       "Return the number one.\n",
       "\n",
       "---\n",
       "\n",
       "```\n",
       "cor(X::AbstractMatrix; dims::Int=1)\n",
       "```\n",
       "\n",
       "Compute the Pearson correlation matrix of the matrix `X` along the dimension `dims`.\n",
       "\n",
       "---\n",
       "\n",
       "```\n",
       "cor(x::AbstractVector, y::AbstractVector)\n",
       "```\n",
       "\n",
       "Compute the Pearson correlation between the vectors `x` and `y`.\n",
       "\n",
       "---\n",
       "\n",
       "```\n",
       "cor(X::AbstractVecOrMat, Y::AbstractVecOrMat; dims=1)\n",
       "```\n",
       "\n",
       "Compute the Pearson correlation between the vectors or matrices `X` and `Y` along the dimension `dims`.\n"
      ],
      "text/plain": [
       "\u001b[36m  cor(x::AbstractVector)\u001b[39m\n",
       "\n",
       "  Return the number one.\n",
       "\n",
       "  ────────────────────────────────────────────────────────────────────────────\n",
       "\n",
       "\u001b[36m  cor(X::AbstractMatrix; dims::Int=1)\u001b[39m\n",
       "\n",
       "  Compute the Pearson correlation matrix of the matrix \u001b[36mX\u001b[39m along the dimension\n",
       "  \u001b[36mdims\u001b[39m.\n",
       "\n",
       "  ────────────────────────────────────────────────────────────────────────────\n",
       "\n",
       "\u001b[36m  cor(x::AbstractVector, y::AbstractVector)\u001b[39m\n",
       "\n",
       "  Compute the Pearson correlation between the vectors \u001b[36mx\u001b[39m and \u001b[36my\u001b[39m.\n",
       "\n",
       "  ────────────────────────────────────────────────────────────────────────────\n",
       "\n",
       "\u001b[36m  cor(X::AbstractVecOrMat, Y::AbstractVecOrMat; dims=1)\u001b[39m\n",
       "\n",
       "  Compute the Pearson correlation between the vectors or matrices \u001b[36mX\u001b[39m and \u001b[36mY\u001b[39m\n",
       "  along the dimension \u001b[36mdims\u001b[39m."
      ]
     },
     "execution_count": 33,
     "metadata": {},
     "output_type": "execute_result"
    }
   ],
   "source": [
    "?cor"
   ]
  },
  {
   "cell_type": "markdown",
   "id": "21ee1720",
   "metadata": {},
   "source": [
    "Okay but what is that:\n",
    "\n",
    "\n",
    "$$\n",
    " r =\n",
    "  \\frac{ \\sum_{i=1}^{n}(x_i-\\bar{x})(y_i-\\bar{y}) }{%\n",
    "        \\sqrt{\\sum_{i=1}^{n}(x_i-\\bar{x})^2}\\sqrt{\\sum_{i=1}^{n}(y_i-\\bar{y})^2}}\n",
    "$$"
   ]
  },
  {
   "cell_type": "code",
   "execution_count": null,
   "id": "856b4735",
   "metadata": {},
   "outputs": [],
   "source": []
  },
  {
   "cell_type": "code",
   "execution_count": null,
   "id": "838f8a82",
   "metadata": {},
   "outputs": [],
   "source": []
  }
 ],
 "metadata": {
  "kernelspec": {
   "display_name": "Julia 1.8.5",
   "language": "julia",
   "name": "julia-1.8"
  },
  "language_info": {
   "file_extension": ".jl",
   "mimetype": "application/julia",
   "name": "julia",
   "version": "1.8.5"
  }
 },
 "nbformat": 4,
 "nbformat_minor": 5
}
