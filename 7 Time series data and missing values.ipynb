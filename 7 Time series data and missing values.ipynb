{
 "cells": [
  {
   "cell_type": "code",
   "execution_count": 1,
   "id": "04a727c1",
   "metadata": {},
   "outputs": [
    {
     "name": "stderr",
     "output_type": "stream",
     "text": [
      "\u001b[32m\u001b[1m    Updating\u001b[22m\u001b[39m registry at `~/.julia/registries/General.toml`\n",
      "\u001b[32m\u001b[1m   Resolving\u001b[22m\u001b[39m package versions...\n",
      "\u001b[32m\u001b[1m  No Changes\u001b[22m\u001b[39m to `~/.julia/environments/v1.8/Project.toml`\n",
      "\u001b[32m\u001b[1m  No Changes\u001b[22m\u001b[39m to `~/.julia/environments/v1.8/Manifest.toml`\n",
      "\u001b[32m\u001b[1m   Resolving\u001b[22m\u001b[39m package versions...\n",
      "\u001b[32m\u001b[1m  No Changes\u001b[22m\u001b[39m to `~/.julia/environments/v1.8/Project.toml`\n",
      "\u001b[32m\u001b[1m  No Changes\u001b[22m\u001b[39m to `~/.julia/environments/v1.8/Manifest.toml`\n"
     ]
    }
   ],
   "source": [
    "import Pkg; Pkg.add(\"HTTP\")\n",
    "import Pkg; Pkg.add(\"JSON3\")"
   ]
  },
  {
   "cell_type": "code",
   "execution_count": 2,
   "id": "65ae8a23",
   "metadata": {},
   "outputs": [],
   "source": [
    "using HTTP\n",
    "using JSON3"
   ]
  },
  {
   "cell_type": "markdown",
   "id": "2997797c",
   "metadata": {},
   "source": [
    "https://api.nbp.pl/api/exchangerates/rates/a/usd/2020-06-01/?format=json"
   ]
  },
  {
   "cell_type": "code",
   "execution_count": 3,
   "id": "f649eaac",
   "metadata": {},
   "outputs": [
    {
     "data": {
      "text/plain": [
       "\"https://api.nbp.pl/api/exchangerates/rates/a/usd/2020-06-01/?format=json\""
      ]
     },
     "execution_count": 3,
     "metadata": {},
     "output_type": "execute_result"
    }
   ],
   "source": [
    "query = \"https://api.nbp.pl/api/exchangerates/rates/a/usd/\" *\n",
    "\"2020-06-01/?format=json\""
   ]
  },
  {
   "cell_type": "code",
   "execution_count": 4,
   "id": "16c9eb5d",
   "metadata": {},
   "outputs": [
    {
     "data": {
      "text/plain": [
       "HTTP.Messages.Response:\n",
       "\"\"\"\n",
       "HTTP/1.1 200 OK\r\n",
       "Date: Mon, 13 Mar 2023 18:09:42 GMT\r\n",
       "Cache-Control: no-cache\r\n",
       "Pragma: no-cache\r\n",
       "Content-Type: application/json; charset=utf-8\r\n",
       "Expires: -1\r\n",
       "ETag: \"oq0l3lrzILdaDtzyaJ261mpYkflbl7DhJRILRmADc0I=\"\r\n",
       "Vary: Accept-Encoding\r\n",
       "Content-Encoding: gzip\r\n",
       "Set-Cookie: ee3la5eizeiY4Eix=iePaevi0; path=/\r\n",
       "Transfer-Encoding: chunked\r\n",
       "\r\n",
       "{\"table\":\"A\",\"currency\":\"dolar amerykański\",\"code\":\"USD\",\"rates\":[{\"no\":\"105/A/NBP/2020\",\"effectiveDate\":\"2020-06-01\",\"mid\":3.9680}]}\"\"\""
      ]
     },
     "execution_count": 4,
     "metadata": {},
     "output_type": "execute_result"
    }
   ],
   "source": [
    "response = HTTP.get(query)"
   ]
  },
  {
   "cell_type": "code",
   "execution_count": null,
   "id": "01809c31",
   "metadata": {},
   "outputs": [],
   "source": []
  },
  {
   "cell_type": "code",
   "execution_count": 5,
   "id": "ee7c7155",
   "metadata": {},
   "outputs": [
    {
     "data": {
      "text/plain": [
       "JSON3.Object{Vector{UInt8}, Vector{UInt64}} with 4 entries:\n",
       "  :table    => \"A\"\n",
       "  :currency => \"dolar amerykański\"\n",
       "  :code     => \"USD\"\n",
       "  :rates    => JSON3.Object[{…"
      ]
     },
     "execution_count": 5,
     "metadata": {},
     "output_type": "execute_result"
    }
   ],
   "source": [
    "json = JSON3.read(response.body)"
   ]
  },
  {
   "cell_type": "code",
   "execution_count": 9,
   "id": "b46d9136",
   "metadata": {},
   "outputs": [
    {
     "data": {
      "text/plain": [
       "String"
      ]
     },
     "execution_count": 9,
     "metadata": {},
     "output_type": "execute_result"
    }
   ],
   "source": [
    "typeof(json.table)"
   ]
  },
  {
   "cell_type": "code",
   "execution_count": 10,
   "id": "75f98a21",
   "metadata": {},
   "outputs": [
    {
     "data": {
      "text/plain": [
       "1-element JSON3.Array{JSON3.Object, Vector{UInt8}, SubArray{UInt64, 1, Vector{UInt64}, Tuple{UnitRange{Int64}}, true}}:\n",
       " {\n",
       "              \"no\": \"105/A/NBP/2020\",\n",
       "   \"effectiveDate\": \"2020-06-01\",\n",
       "             \"mid\": 3.968\n",
       "}"
      ]
     },
     "execution_count": 10,
     "metadata": {},
     "output_type": "execute_result"
    }
   ],
   "source": [
    "json.rates"
   ]
  },
  {
   "cell_type": "code",
   "execution_count": null,
   "id": "da5e6326",
   "metadata": {},
   "outputs": [],
   "source": []
  },
  {
   "cell_type": "code",
   "execution_count": 11,
   "id": "8e931316",
   "metadata": {},
   "outputs": [
    {
     "data": {
      "text/plain": [
       "\"{\\\"table\\\":\\\"A\\\",\\\"currency\\\":\\\"dolar amerykański\\\",\\\"code\\\":\\\"USD\\\",\\\"rates\\\":[{\\\"no\\\":\\\"105/A/NBP/2020\\\",\\\"effectiveDate\\\":\\\"2020-06-01\\\",\\\"mid\\\":3.9680}]}\""
      ]
     },
     "execution_count": 11,
     "metadata": {},
     "output_type": "execute_result"
    }
   ],
   "source": [
    "String(response.body)"
   ]
  },
  {
   "cell_type": "code",
   "execution_count": 12,
   "id": "2bf88d9f",
   "metadata": {},
   "outputs": [
    {
     "data": {
      "text/plain": [
       "UInt8[]"
      ]
     },
     "execution_count": 12,
     "metadata": {},
     "output_type": "execute_result"
    }
   ],
   "source": [
    "response.body"
   ]
  },
  {
   "cell_type": "markdown",
   "id": "1c1f0c2f",
   "metadata": {},
   "source": [
    "converting to String consumes it. No '!'"
   ]
  },
  {
   "cell_type": "code",
   "execution_count": 13,
   "id": "26f1bfda",
   "metadata": {},
   "outputs": [
    {
     "data": {
      "text/plain": [
       "\"https://api.nbp.pl/api/exchangerates/rates/a/usd/2020-06-06/?format=json\""
      ]
     },
     "execution_count": 13,
     "metadata": {},
     "output_type": "execute_result"
    }
   ],
   "source": [
    "invalidQuery = \"https://api.nbp.pl/api/exchangerates/rates/a/usd/\" *\n",
    "               \"2020-06-06/?format=json\""
   ]
  },
  {
   "cell_type": "code",
   "execution_count": 14,
   "id": "62756285",
   "metadata": {},
   "outputs": [
    {
     "ename": "LoadError",
     "evalue": "HTTP.Exceptions.StatusError(404, \"GET\", \"/api/exchangerates/rates/a/usd/2020-06-06/?format=json\", HTTP.Messages.Response:\n\"\"\"\nHTTP/1.1 404 Not Found\r\nDate: Mon, 13 Mar 2023 18:15:25 GMT\r\nCache-Control: no-cache\r\nPragma: no-cache\r\nContent-Length: 38\r\nContent-Type: text/plain; charset=utf-8\r\nExpires: -1\r\n\r\n404 NotFound - Not Found - Brak danych\"\"\")",
     "output_type": "error",
     "traceback": [
      "HTTP.Exceptions.StatusError(404, \"GET\", \"/api/exchangerates/rates/a/usd/2020-06-06/?format=json\", HTTP.Messages.Response:\n\"\"\"\nHTTP/1.1 404 Not Found\r\nDate: Mon, 13 Mar 2023 18:15:25 GMT\r\nCache-Control: no-cache\r\nPragma: no-cache\r\nContent-Length: 38\r\nContent-Type: text/plain; charset=utf-8\r\nExpires: -1\r\n\r\n404 NotFound - Not Found - Brak danych\"\"\")",
      "",
      "Stacktrace:",
      "  [1] (::HTTP.ExceptionRequest.var\"#1#3\"{HTTP.ExceptionRequest.var\"#1#2#4\"{typeof(HTTP.StreamRequest.streamlayer)}})(stream::HTTP.Streams.Stream{HTTP.Messages.Response, HTTP.ConnectionPool.Connection{MbedTLS.SSLContext}}; status_exception::Bool, kw::Base.Pairs{Symbol, Union{Nothing, Int64}, Tuple{Symbol, Symbol, Symbol}, NamedTuple{(:iofunction, :decompress, :verbose), Tuple{Nothing, Nothing, Int64}}})",
      "    @ HTTP.ExceptionRequest ~/.julia/packages/HTTP/z8l0i/src/clientlayers/ExceptionRequest.jl:16",
      "  [2] #1#2",
      "    @ ~/.julia/packages/HTTP/z8l0i/src/clientlayers/TimeoutRequest.jl:17 [inlined]",
      "  [3] (::HTTP.ConnectionRequest.var\"#1#7\"{HTTP.ConnectionRequest.var\"#1#2#8\"{HTTP.TimeoutRequest.var\"#1#6\"{HTTP.TimeoutRequest.var\"#1#2#7\"{HTTP.ExceptionRequest.var\"#1#3\"{HTTP.ExceptionRequest.var\"#1#2#4\"{typeof(HTTP.StreamRequest.streamlayer)}}}}}})(req::HTTP.Messages.Request; proxy::Nothing, socket_type::Type, socket_type_tls::Type, readtimeout::Int64, kw::Base.Pairs{Symbol, Union{Nothing, Int64}, Tuple{Symbol, Symbol, Symbol}, NamedTuple{(:iofunction, :decompress, :verbose), Tuple{Nothing, Nothing, Int64}}})",
      "    @ HTTP.ConnectionRequest ~/.julia/packages/HTTP/z8l0i/src/clientlayers/ConnectionRequest.jl:111",
      "  [4] (::HTTP.CanonicalizeRequest.var\"#1#3\"{HTTP.CanonicalizeRequest.var\"#1#2#4\"{HTTP.ConnectionRequest.var\"#1#7\"{HTTP.ConnectionRequest.var\"#1#2#8\"{HTTP.TimeoutRequest.var\"#1#6\"{HTTP.TimeoutRequest.var\"#1#2#7\"{HTTP.ExceptionRequest.var\"#1#3\"{HTTP.ExceptionRequest.var\"#1#2#4\"{typeof(HTTP.StreamRequest.streamlayer)}}}}}}}})(req::HTTP.Messages.Request; canonicalize_headers::Bool, kw::Base.Pairs{Symbol, Union{Nothing, Int64}, Tuple{Symbol, Symbol, Symbol}, NamedTuple{(:iofunction, :decompress, :verbose), Tuple{Nothing, Nothing, Int64}}})",
      "    @ HTTP.CanonicalizeRequest ~/.julia/packages/HTTP/z8l0i/src/clientlayers/CanonicalizeRequest.jl:17",
      "  [5] (::Base.var\"#88#90\"{Base.var\"#88#89#91\"{ExponentialBackOff, HTTP.RetryRequest.var\"#3#6\"{Int64, typeof(HTTP.RetryRequest.FALSE), HTTP.Messages.Request, Base.RefValue{Int64}}, HTTP.CanonicalizeRequest.var\"#1#3\"{HTTP.CanonicalizeRequest.var\"#1#2#4\"{HTTP.ConnectionRequest.var\"#1#7\"{HTTP.ConnectionRequest.var\"#1#2#8\"{HTTP.TimeoutRequest.var\"#1#6\"{HTTP.TimeoutRequest.var\"#1#2#7\"{HTTP.ExceptionRequest.var\"#1#3\"{HTTP.ExceptionRequest.var\"#1#2#4\"{typeof(HTTP.StreamRequest.streamlayer)}}}}}}}}}})(args::HTTP.Messages.Request; kwargs::Base.Pairs{Symbol, Union{Nothing, Int64}, Tuple{Symbol, Symbol, Symbol}, NamedTuple{(:iofunction, :decompress, :verbose), Tuple{Nothing, Nothing, Int64}}})",
      "    @ Base ./error.jl:296",
      "  [6] (::HTTP.RetryRequest.var\"#1#4\"{HTTP.RetryRequest.var\"#1#2#5\"{HTTP.CanonicalizeRequest.var\"#1#3\"{HTTP.CanonicalizeRequest.var\"#1#2#4\"{HTTP.ConnectionRequest.var\"#1#7\"{HTTP.ConnectionRequest.var\"#1#2#8\"{HTTP.TimeoutRequest.var\"#1#6\"{HTTP.TimeoutRequest.var\"#1#2#7\"{HTTP.ExceptionRequest.var\"#1#3\"{HTTP.ExceptionRequest.var\"#1#2#4\"{typeof(HTTP.StreamRequest.streamlayer)}}}}}}}}}})(req::HTTP.Messages.Request; retry::Bool, retries::Int64, retry_delays::ExponentialBackOff, retry_check::Function, retry_non_idempotent::Bool, kw::Base.Pairs{Symbol, Union{Nothing, Int64}, Tuple{Symbol, Symbol, Symbol}, NamedTuple{(:iofunction, :decompress, :verbose), Tuple{Nothing, Nothing, Int64}}})",
      "    @ HTTP.RetryRequest ~/.julia/packages/HTTP/z8l0i/src/clientlayers/RetryRequest.jl:75",
      "  [7] (::HTTP.CookieRequest.var\"#1#5\"{HTTP.CookieRequest.var\"#1#2#6\"{HTTP.RetryRequest.var\"#1#4\"{HTTP.RetryRequest.var\"#1#2#5\"{HTTP.CanonicalizeRequest.var\"#1#3\"{HTTP.CanonicalizeRequest.var\"#1#2#4\"{HTTP.ConnectionRequest.var\"#1#7\"{HTTP.ConnectionRequest.var\"#1#2#8\"{HTTP.TimeoutRequest.var\"#1#6\"{HTTP.TimeoutRequest.var\"#1#2#7\"{HTTP.ExceptionRequest.var\"#1#3\"{HTTP.ExceptionRequest.var\"#1#2#4\"{typeof(HTTP.StreamRequest.streamlayer)}}}}}}}}}}}})(req::HTTP.Messages.Request; cookies::Bool, cookiejar::HTTP.Cookies.CookieJar, kw::Base.Pairs{Symbol, Union{Nothing, Int64}, Tuple{Symbol, Symbol, Symbol}, NamedTuple{(:iofunction, :decompress, :verbose), Tuple{Nothing, Nothing, Int64}}})",
      "    @ HTTP.CookieRequest ~/.julia/packages/HTTP/z8l0i/src/clientlayers/CookieRequest.jl:42",
      "  [8] (::HTTP.ContentTypeDetection.var\"#1#3\"{HTTP.ContentTypeDetection.var\"#1#2#4\"{HTTP.CookieRequest.var\"#1#5\"{HTTP.CookieRequest.var\"#1#2#6\"{HTTP.RetryRequest.var\"#1#4\"{HTTP.RetryRequest.var\"#1#2#5\"{HTTP.CanonicalizeRequest.var\"#1#3\"{HTTP.CanonicalizeRequest.var\"#1#2#4\"{HTTP.ConnectionRequest.var\"#1#7\"{HTTP.ConnectionRequest.var\"#1#2#8\"{HTTP.TimeoutRequest.var\"#1#6\"{HTTP.TimeoutRequest.var\"#1#2#7\"{HTTP.ExceptionRequest.var\"#1#3\"{HTTP.ExceptionRequest.var\"#1#2#4\"{typeof(HTTP.StreamRequest.streamlayer)}}}}}}}}}}}}}})(req::HTTP.Messages.Request; detect_content_type::Bool, kw::Base.Pairs{Symbol, Union{Nothing, Int64}, Tuple{Symbol, Symbol, Symbol}, NamedTuple{(:iofunction, :decompress, :verbose), Tuple{Nothing, Nothing, Int64}}})",
      "    @ HTTP.ContentTypeDetection ~/.julia/packages/HTTP/z8l0i/src/clientlayers/ContentTypeRequest.jl:23",
      "  [9] (::HTTP.BasicAuthRequest.var\"#1#3\"{HTTP.BasicAuthRequest.var\"#1#2#4\"{HTTP.ContentTypeDetection.var\"#1#3\"{HTTP.ContentTypeDetection.var\"#1#2#4\"{HTTP.CookieRequest.var\"#1#5\"{HTTP.CookieRequest.var\"#1#2#6\"{HTTP.RetryRequest.var\"#1#4\"{HTTP.RetryRequest.var\"#1#2#5\"{HTTP.CanonicalizeRequest.var\"#1#3\"{HTTP.CanonicalizeRequest.var\"#1#2#4\"{HTTP.ConnectionRequest.var\"#1#7\"{HTTP.ConnectionRequest.var\"#1#2#8\"{HTTP.TimeoutRequest.var\"#1#6\"{HTTP.TimeoutRequest.var\"#1#2#7\"{HTTP.ExceptionRequest.var\"#1#3\"{HTTP.ExceptionRequest.var\"#1#2#4\"{typeof(HTTP.StreamRequest.streamlayer)}}}}}}}}}}}}}}}})(req::HTTP.Messages.Request; basicauth::Bool, kw::Base.Pairs{Symbol, Union{Nothing, Int64}, Tuple{Symbol, Symbol, Symbol}, NamedTuple{(:iofunction, :decompress, :verbose), Tuple{Nothing, Nothing, Int64}}})",
      "    @ HTTP.BasicAuthRequest ~/.julia/packages/HTTP/z8l0i/src/clientlayers/BasicAuthRequest.jl:22",
      " [10] (::HTTP.DefaultHeadersRequest.var\"#1#3\"{HTTP.DefaultHeadersRequest.var\"#1#2#4\"{HTTP.BasicAuthRequest.var\"#1#3\"{HTTP.BasicAuthRequest.var\"#1#2#4\"{HTTP.ContentTypeDetection.var\"#1#3\"{HTTP.ContentTypeDetection.var\"#1#2#4\"{HTTP.CookieRequest.var\"#1#5\"{HTTP.CookieRequest.var\"#1#2#6\"{HTTP.RetryRequest.var\"#1#4\"{HTTP.RetryRequest.var\"#1#2#5\"{HTTP.CanonicalizeRequest.var\"#1#3\"{HTTP.CanonicalizeRequest.var\"#1#2#4\"{HTTP.ConnectionRequest.var\"#1#7\"{HTTP.ConnectionRequest.var\"#1#2#8\"{HTTP.TimeoutRequest.var\"#1#6\"{HTTP.TimeoutRequest.var\"#1#2#7\"{HTTP.ExceptionRequest.var\"#1#3\"{HTTP.ExceptionRequest.var\"#1#2#4\"{typeof(HTTP.StreamRequest.streamlayer)}}}}}}}}}}}}}}}}}})(req::HTTP.Messages.Request; iofunction::Nothing, decompress::Nothing, kw::Base.Pairs{Symbol, Int64, Tuple{Symbol}, NamedTuple{(:verbose,), Tuple{Int64}}})",
      "    @ HTTP.DefaultHeadersRequest ~/.julia/packages/HTTP/z8l0i/src/clientlayers/DefaultHeadersRequest.jl:47",
      " [11] (::HTTP.RedirectRequest.var\"#1#4\"{HTTP.RedirectRequest.var\"#1#2#5\"{HTTP.DefaultHeadersRequest.var\"#1#3\"{HTTP.DefaultHeadersRequest.var\"#1#2#4\"{HTTP.BasicAuthRequest.var\"#1#3\"{HTTP.BasicAuthRequest.var\"#1#2#4\"{HTTP.ContentTypeDetection.var\"#1#3\"{HTTP.ContentTypeDetection.var\"#1#2#4\"{HTTP.CookieRequest.var\"#1#5\"{HTTP.CookieRequest.var\"#1#2#6\"{HTTP.RetryRequest.var\"#1#4\"{HTTP.RetryRequest.var\"#1#2#5\"{HTTP.CanonicalizeRequest.var\"#1#3\"{HTTP.CanonicalizeRequest.var\"#1#2#4\"{HTTP.ConnectionRequest.var\"#1#7\"{HTTP.ConnectionRequest.var\"#1#2#8\"{HTTP.TimeoutRequest.var\"#1#6\"{HTTP.TimeoutRequest.var\"#1#2#7\"{HTTP.ExceptionRequest.var\"#1#3\"{HTTP.ExceptionRequest.var\"#1#2#4\"{typeof(HTTP.StreamRequest.streamlayer)}}}}}}}}}}}}}}}}}}}})(req::HTTP.Messages.Request; redirect::Bool, redirect_limit::Int64, redirect_method::Nothing, forwardheaders::Bool, response_stream::Nothing, kw::Base.Pairs{Symbol, Int64, Tuple{Symbol}, NamedTuple{(:verbose,), Tuple{Int64}}})",
      "    @ HTTP.RedirectRequest ~/.julia/packages/HTTP/z8l0i/src/clientlayers/RedirectRequest.jl:25",
      " [12] #1#2",
      "    @ ~/.julia/packages/HTTP/z8l0i/src/clientlayers/DebugRequest.jl:23 [inlined]",
      " [13] (::HTTP.MessageRequest.var\"#1#3\"{HTTP.MessageRequest.var\"#1#2#4\"{HTTP.DebugRequest.var\"#1#4\"{HTTP.DebugRequest.var\"#1#2#5\"{HTTP.RedirectRequest.var\"#1#4\"{HTTP.RedirectRequest.var\"#1#2#5\"{HTTP.DefaultHeadersRequest.var\"#1#3\"{HTTP.DefaultHeadersRequest.var\"#1#2#4\"{HTTP.BasicAuthRequest.var\"#1#3\"{HTTP.BasicAuthRequest.var\"#1#2#4\"{HTTP.ContentTypeDetection.var\"#1#3\"{HTTP.ContentTypeDetection.var\"#1#2#4\"{HTTP.CookieRequest.var\"#1#5\"{HTTP.CookieRequest.var\"#1#2#6\"{HTTP.RetryRequest.var\"#1#4\"{HTTP.RetryRequest.var\"#1#2#5\"{HTTP.CanonicalizeRequest.var\"#1#3\"{HTTP.CanonicalizeRequest.var\"#1#2#4\"{HTTP.ConnectionRequest.var\"#1#7\"{HTTP.ConnectionRequest.var\"#1#2#8\"{HTTP.TimeoutRequest.var\"#1#6\"{HTTP.TimeoutRequest.var\"#1#2#7\"{HTTP.ExceptionRequest.var\"#1#3\"{HTTP.ExceptionRequest.var\"#1#2#4\"{typeof(HTTP.StreamRequest.streamlayer)}}}}}}}}}}}}}}}}}}}}}}}})(method::String, url::URIs.URI, headers::Nothing, body::Vector{UInt8}; copyheaders::Bool, response_stream::Nothing, http_version::HTTP.Strings.HTTPVersion, kw::Base.Pairs{Symbol, Union{}, Tuple{}, NamedTuple{(), Tuple{}}})",
      "    @ HTTP.MessageRequest ~/.julia/packages/HTTP/z8l0i/src/clientlayers/MessageRequest.jl:27",
      " [14] #1",
      "    @ ~/.julia/packages/HTTP/z8l0i/src/clientlayers/MessageRequest.jl:23 [inlined]",
      " [15] request(stack::HTTP.MessageRequest.var\"#1#3\"{HTTP.MessageRequest.var\"#1#2#4\"{HTTP.DebugRequest.var\"#1#4\"{HTTP.DebugRequest.var\"#1#2#5\"{HTTP.RedirectRequest.var\"#1#4\"{HTTP.RedirectRequest.var\"#1#2#5\"{HTTP.DefaultHeadersRequest.var\"#1#3\"{HTTP.DefaultHeadersRequest.var\"#1#2#4\"{HTTP.BasicAuthRequest.var\"#1#3\"{HTTP.BasicAuthRequest.var\"#1#2#4\"{HTTP.ContentTypeDetection.var\"#1#3\"{HTTP.ContentTypeDetection.var\"#1#2#4\"{HTTP.CookieRequest.var\"#1#5\"{HTTP.CookieRequest.var\"#1#2#6\"{HTTP.RetryRequest.var\"#1#4\"{HTTP.RetryRequest.var\"#1#2#5\"{HTTP.CanonicalizeRequest.var\"#1#3\"{HTTP.CanonicalizeRequest.var\"#1#2#4\"{HTTP.ConnectionRequest.var\"#1#7\"{HTTP.ConnectionRequest.var\"#1#2#8\"{HTTP.TimeoutRequest.var\"#1#6\"{HTTP.TimeoutRequest.var\"#1#2#7\"{HTTP.ExceptionRequest.var\"#1#3\"{HTTP.ExceptionRequest.var\"#1#2#4\"{typeof(HTTP.StreamRequest.streamlayer)}}}}}}}}}}}}}}}}}}}}}}}}, method::String, url::String, h::Nothing, b::Vector{UInt8}, q::Nothing; headers::Nothing, body::Vector{UInt8}, query::Nothing, kw::Base.Pairs{Symbol, Union{}, Tuple{}, NamedTuple{(), Tuple{}}})",
      "    @ HTTP ~/.julia/packages/HTTP/z8l0i/src/HTTP.jl:426",
      " [16] request(stack::Function, method::String, url::String, h::Nothing, b::Vector{UInt8}, q::Nothing)",
      "    @ HTTP ~/.julia/packages/HTTP/z8l0i/src/HTTP.jl:424",
      " [17] #request#16",
      "    @ ~/.julia/packages/HTTP/z8l0i/src/HTTP.jl:286 [inlined]",
      " [18] request (repeats 2 times)",
      "    @ ~/.julia/packages/HTTP/z8l0i/src/HTTP.jl:284 [inlined]",
      " [19] #get#34",
      "    @ ~/.julia/packages/HTTP/z8l0i/src/HTTP.jl:487 [inlined]",
      " [20] get(a::String)",
      "    @ HTTP ~/.julia/packages/HTTP/z8l0i/src/HTTP.jl:487",
      " [21] top-level scope",
      "    @ In[14]:1"
     ]
    }
   ],
   "source": [
    "responseI = HTTP.get(invalidQuery)"
   ]
  },
  {
   "cell_type": "code",
   "execution_count": 15,
   "id": "85f1092f",
   "metadata": {},
   "outputs": [
    {
     "name": "stdout",
     "output_type": "stream",
     "text": [
      "error happened"
     ]
    }
   ],
   "source": [
    "try\n",
    "    responseI = HTTP.get(invalidQuery)\n",
    "catch \n",
    "    print(\"error happened\")\n",
    "end"
   ]
  },
  {
   "cell_type": "markdown",
   "id": "5c338051",
   "metadata": {},
   "source": [
    "## Missing Data"
   ]
  },
  {
   "cell_type": "markdown",
   "id": "9fb43390",
   "metadata": {},
   "source": [
    "> The Julia lan- guage (similarly to R, but unlike, for example, Python) is designed with a built-in con- cept of a missing value. In your code, you do not need to use sentinel values to represent the absence of data. You can easily check if a value is missing by using the ismissing function:"
   ]
  },
  {
   "cell_type": "code",
   "execution_count": 16,
   "id": "21cbff82",
   "metadata": {},
   "outputs": [
    {
     "data": {
      "text/plain": [
       "missing"
      ]
     },
     "execution_count": 16,
     "metadata": {},
     "output_type": "execute_result"
    }
   ],
   "source": [
    "missing"
   ]
  },
  {
   "cell_type": "code",
   "execution_count": 17,
   "id": "52ce2ff8",
   "metadata": {},
   "outputs": [
    {
     "data": {
      "text/plain": [
       "true"
      ]
     },
     "execution_count": 17,
     "metadata": {},
     "output_type": "execute_result"
    }
   ],
   "source": [
    "ismissing(missing)"
   ]
  },
  {
   "cell_type": "code",
   "execution_count": 14,
   "id": "b5f0ba93",
   "metadata": {},
   "outputs": [
    {
     "data": {
      "text/plain": [
       "missing"
      ]
     },
     "execution_count": 14,
     "metadata": {},
     "output_type": "execute_result"
    }
   ],
   "source": [
    "12 + missing"
   ]
  },
  {
   "cell_type": "code",
   "execution_count": 18,
   "id": "29b28b7e",
   "metadata": {},
   "outputs": [
    {
     "data": {
      "text/plain": [
       "missing"
      ]
     },
     "execution_count": 18,
     "metadata": {},
     "output_type": "execute_result"
    }
   ],
   "source": [
    "cos(missing)"
   ]
  },
  {
   "cell_type": "code",
   "execution_count": 19,
   "id": "221fc85d",
   "metadata": {},
   "outputs": [
    {
     "data": {
      "text/plain": [
       "missing"
      ]
     },
     "execution_count": 19,
     "metadata": {},
     "output_type": "execute_result"
    }
   ],
   "source": [
    "1 == missing"
   ]
  },
  {
   "cell_type": "code",
   "execution_count": 20,
   "id": "89bc73c3",
   "metadata": {},
   "outputs": [
    {
     "ename": "LoadError",
     "evalue": "TypeError: non-boolean (Missing) used in boolean context",
     "output_type": "error",
     "traceback": [
      "TypeError: non-boolean (Missing) used in boolean context",
      "",
      "Stacktrace:",
      " [1] top-level scope",
      "   @ In[20]:1"
     ]
    }
   ],
   "source": [
    "if missing\n",
    "   print(\"never happens\")\n",
    "else\n",
    "    print(\"also never\")\n",
    "end"
   ]
  },
  {
   "cell_type": "code",
   "execution_count": 21,
   "id": "99e9d3ae",
   "metadata": {},
   "outputs": [
    {
     "ename": "LoadError",
     "evalue": "TypeError: non-boolean (Missing) used in boolean context",
     "output_type": "error",
     "traceback": [
      "TypeError: non-boolean (Missing) used in boolean context",
      "",
      "Stacktrace:",
      " [1] top-level scope",
      "   @ In[21]:1"
     ]
    }
   ],
   "source": [
    "missing && true"
   ]
  },
  {
   "cell_type": "markdown",
   "id": "5c528a68",
   "metadata": {},
   "source": [
    "> The design of handling missing in Julia requires you to explicitly decide whether missing should be treated as true or false. This is achieved with the coalesce function"
   ]
  },
  {
   "cell_type": "code",
   "execution_count": 22,
   "id": "27810d47",
   "metadata": {},
   "outputs": [
    {
     "data": {
      "text/plain": [
       "true"
      ]
     },
     "execution_count": 22,
     "metadata": {},
     "output_type": "execute_result"
    }
   ],
   "source": [
    "coalesce(missing, true)"
   ]
  },
  {
   "cell_type": "code",
   "execution_count": 23,
   "id": "b1c38926",
   "metadata": {},
   "outputs": [
    {
     "data": {
      "text/plain": [
       "1"
      ]
     },
     "execution_count": 23,
     "metadata": {},
     "output_type": "execute_result"
    }
   ],
   "source": [
    "coalesce(missing, 1)"
   ]
  },
  {
   "cell_type": "code",
   "execution_count": 25,
   "id": "4326d35d",
   "metadata": {},
   "outputs": [
    {
     "data": {
      "text/plain": [
       "4"
      ]
     },
     "execution_count": 25,
     "metadata": {},
     "output_type": "execute_result"
    }
   ],
   "source": [
    "coalesce(4, 2)"
   ]
  },
  {
   "cell_type": "code",
   "execution_count": 24,
   "id": "961f5734",
   "metadata": {},
   "outputs": [
    {
     "data": {
      "text/plain": [
       "\"\""
      ]
     },
     "execution_count": 24,
     "metadata": {},
     "output_type": "execute_result"
    }
   ],
   "source": [
    "coalesce(missing, \"\")"
   ]
  },
  {
   "cell_type": "code",
   "execution_count": 26,
   "id": "e034f4c7",
   "metadata": {},
   "outputs": [
    {
     "data": {
      "text/plain": [
       "false"
      ]
     },
     "execution_count": 26,
     "metadata": {},
     "output_type": "execute_result"
    }
   ],
   "source": [
    "isequal(1, missing)"
   ]
  },
  {
   "cell_type": "code",
   "execution_count": 27,
   "id": "71348228",
   "metadata": {},
   "outputs": [
    {
     "data": {
      "text/plain": [
       "missing"
      ]
     },
     "execution_count": 27,
     "metadata": {},
     "output_type": "execute_result"
    }
   ],
   "source": [
    "1 == missing"
   ]
  },
  {
   "cell_type": "code",
   "execution_count": 29,
   "id": "1fe784f7",
   "metadata": {},
   "outputs": [
    {
     "data": {
      "text/plain": [
       "missing"
      ]
     },
     "execution_count": 29,
     "metadata": {},
     "output_type": "execute_result"
    }
   ],
   "source": [
    "missing == missing"
   ]
  },
  {
   "cell_type": "code",
   "execution_count": 28,
   "id": "1b8f751e",
   "metadata": {},
   "outputs": [
    {
     "data": {
      "text/plain": [
       "true"
      ]
     },
     "execution_count": 28,
     "metadata": {},
     "output_type": "execute_result"
    }
   ],
   "source": [
    "isequal(missing, missing)"
   ]
  },
  {
   "cell_type": "code",
   "execution_count": 31,
   "id": "7b01ac0a",
   "metadata": {},
   "outputs": [
    {
     "data": {
      "text/plain": [
       "missing"
      ]
     },
     "execution_count": 31,
     "metadata": {},
     "output_type": "execute_result"
    }
   ],
   "source": [
    "1 > missing"
   ]
  },
  {
   "cell_type": "code",
   "execution_count": 32,
   "id": "9825deb7",
   "metadata": {},
   "outputs": [
    {
     "data": {
      "text/plain": [
       "true"
      ]
     },
     "execution_count": 32,
     "metadata": {},
     "output_type": "execute_result"
    }
   ],
   "source": [
    "isless(Inf, missing)"
   ]
  },
  {
   "cell_type": "code",
   "execution_count": 30,
   "id": "be27e740",
   "metadata": {},
   "outputs": [
    {
     "data": {
      "text/plain": [
       "true"
      ]
     },
     "execution_count": 30,
     "metadata": {},
     "output_type": "execute_result"
    }
   ],
   "source": [
    "isless(1, missing)\n"
   ]
  },
  {
   "cell_type": "code",
   "execution_count": 33,
   "id": "47eefde4",
   "metadata": {},
   "outputs": [
    {
     "data": {
      "text/plain": [
       "7-element Vector{Union{Missing, Int64}}:\n",
       " 1\n",
       "  missing\n",
       " 3\n",
       " 4\n",
       "  missing\n",
       " 5\n",
       "  missing"
      ]
     },
     "execution_count": 33,
     "metadata": {},
     "output_type": "execute_result"
    }
   ],
   "source": [
    "x = [1, missing, 3, 4, missing, 5, missing]"
   ]
  },
  {
   "cell_type": "code",
   "execution_count": 34,
   "id": "76f464e1",
   "metadata": {},
   "outputs": [
    {
     "data": {
      "text/plain": [
       "7-element Vector{Int64}:\n",
       " 1\n",
       " 0\n",
       " 3\n",
       " 4\n",
       " 0\n",
       " 5\n",
       " 0"
      ]
     },
     "execution_count": 34,
     "metadata": {},
     "output_type": "execute_result"
    }
   ],
   "source": [
    "coalesce.(x, 0)"
   ]
  },
  {
   "cell_type": "code",
   "execution_count": 35,
   "id": "11d2c11f",
   "metadata": {},
   "outputs": [
    {
     "data": {
      "text/plain": [
       "missing"
      ]
     },
     "execution_count": 35,
     "metadata": {},
     "output_type": "execute_result"
    }
   ],
   "source": [
    "sum(x)"
   ]
  },
  {
   "cell_type": "code",
   "execution_count": 37,
   "id": "9a0f8474",
   "metadata": {},
   "outputs": [
    {
     "data": {
      "text/plain": [
       "skipmissing(Union{Missing, Int64}[1, missing, 3, 4, missing, 5, missing])"
      ]
     },
     "execution_count": 37,
     "metadata": {},
     "output_type": "execute_result"
    }
   ],
   "source": [
    "skipmissing(x)"
   ]
  },
  {
   "cell_type": "code",
   "execution_count": 36,
   "id": "f7efb310",
   "metadata": {},
   "outputs": [
    {
     "data": {
      "text/plain": [
       "13"
      ]
     },
     "execution_count": 36,
     "metadata": {},
     "output_type": "execute_result"
    }
   ],
   "source": [
    "sum(skipmissing(x))"
   ]
  },
  {
   "cell_type": "code",
   "execution_count": 38,
   "id": "0a988117",
   "metadata": {},
   "outputs": [
    {
     "data": {
      "text/plain": [
       "f (generic function with 1 method)"
      ]
     },
     "execution_count": 38,
     "metadata": {},
     "output_type": "execute_result"
    }
   ],
   "source": [
    "f(x::Int, y::Int) = x + y"
   ]
  },
  {
   "cell_type": "code",
   "execution_count": 39,
   "id": "3cc1a1bf",
   "metadata": {},
   "outputs": [
    {
     "ename": "LoadError",
     "evalue": "MethodError: no method matching f(::Int64, ::Missing)\n\u001b[0mClosest candidates are:\n\u001b[0m  f(::Int64, \u001b[91m::Int64\u001b[39m) at In[38]:1",
     "output_type": "error",
     "traceback": [
      "MethodError: no method matching f(::Int64, ::Missing)\n\u001b[0mClosest candidates are:\n\u001b[0m  f(::Int64, \u001b[91m::Int64\u001b[39m) at In[38]:1",
      "",
      "Stacktrace:",
      " [1] top-level scope",
      "   @ In[39]:1"
     ]
    }
   ],
   "source": [
    "f(12, missing)"
   ]
  },
  {
   "cell_type": "code",
   "execution_count": 40,
   "id": "b40268ee",
   "metadata": {},
   "outputs": [
    {
     "name": "stderr",
     "output_type": "stream",
     "text": [
      "\u001b[32m\u001b[1m   Resolving\u001b[22m\u001b[39m package versions...\n",
      "\u001b[32m\u001b[1m  No Changes\u001b[22m\u001b[39m to `~/.julia/environments/v1.8/Project.toml`\n",
      "\u001b[32m\u001b[1m  No Changes\u001b[22m\u001b[39m to `~/.julia/environments/v1.8/Manifest.toml`\n"
     ]
    }
   ],
   "source": [
    "import Pkg; Pkg.add(\"Missings\")"
   ]
  },
  {
   "cell_type": "code",
   "execution_count": 41,
   "id": "19ca78d8",
   "metadata": {},
   "outputs": [],
   "source": [
    "using Missings"
   ]
  },
  {
   "cell_type": "code",
   "execution_count": 42,
   "id": "8fa218dc",
   "metadata": {},
   "outputs": [
    {
     "data": {
      "text/plain": [
       "(::Missings.PassMissing{typeof(f)}) (generic function with 2 methods)"
      ]
     },
     "execution_count": 42,
     "metadata": {},
     "output_type": "execute_result"
    }
   ],
   "source": [
    "f2 = passmissing(f)"
   ]
  },
  {
   "cell_type": "code",
   "execution_count": 43,
   "id": "629802c1",
   "metadata": {},
   "outputs": [
    {
     "data": {
      "text/plain": [
       "missing"
      ]
     },
     "execution_count": 43,
     "metadata": {},
     "output_type": "execute_result"
    }
   ],
   "source": [
    "f2(12, missing)"
   ]
  },
  {
   "cell_type": "markdown",
   "id": "45d61408",
   "metadata": {},
   "source": [
    "## Getting time-series data from the NBP Web API"
   ]
  },
  {
   "cell_type": "code",
   "execution_count": null,
   "id": "66362eb1",
   "metadata": {},
   "outputs": [],
   "source": []
  },
  {
   "cell_type": "code",
   "execution_count": null,
   "id": "4d58a935",
   "metadata": {},
   "outputs": [],
   "source": []
  },
  {
   "cell_type": "code",
   "execution_count": 45,
   "id": "2c8cd6d7",
   "metadata": {},
   "outputs": [],
   "source": [
    "using Dates"
   ]
  },
  {
   "cell_type": "code",
   "execution_count": 46,
   "id": "4a9e82c1",
   "metadata": {},
   "outputs": [
    {
     "data": {
      "text/plain": [
       "2020-12-01"
      ]
     },
     "execution_count": 46,
     "metadata": {},
     "output_type": "execute_result"
    }
   ],
   "source": [
    "d = Date(\"2020-12-01\")"
   ]
  },
  {
   "cell_type": "code",
   "execution_count": 47,
   "id": "e7ea3c87",
   "metadata": {},
   "outputs": [
    {
     "data": {
      "text/plain": [
       "2020"
      ]
     },
     "execution_count": 47,
     "metadata": {},
     "output_type": "execute_result"
    }
   ],
   "source": [
    "year(d)"
   ]
  },
  {
   "cell_type": "code",
   "execution_count": 48,
   "id": "3b5986f5",
   "metadata": {},
   "outputs": [
    {
     "data": {
      "text/plain": [
       "1"
      ]
     },
     "execution_count": 48,
     "metadata": {},
     "output_type": "execute_result"
    }
   ],
   "source": [
    "day(d)"
   ]
  },
  {
   "cell_type": "code",
   "execution_count": 49,
   "id": "d9a2eef5",
   "metadata": {},
   "outputs": [
    {
     "data": {
      "text/plain": [
       "(\"Tuesday\", 2, 1)"
      ]
     },
     "execution_count": 49,
     "metadata": {},
     "output_type": "execute_result"
    }
   ],
   "source": [
    "dayname(d), dayofweek(d), dayofmonth(d)"
   ]
  },
  {
   "cell_type": "code",
   "execution_count": 50,
   "id": "1419de10",
   "metadata": {},
   "outputs": [
    {
     "data": {
      "text/plain": [
       "30-element Vector{Date}:\n",
       " 2022-09-01\n",
       " 2022-09-02\n",
       " 2022-09-03\n",
       " 2022-09-04\n",
       " 2022-09-05\n",
       " 2022-09-06\n",
       " 2022-09-07\n",
       " 2022-09-08\n",
       " 2022-09-09\n",
       " 2022-09-10\n",
       " 2022-09-11\n",
       " 2022-09-12\n",
       " 2022-09-13\n",
       " ⋮\n",
       " 2022-09-19\n",
       " 2022-09-20\n",
       " 2022-09-21\n",
       " 2022-09-22\n",
       " 2022-09-23\n",
       " 2022-09-24\n",
       " 2022-09-25\n",
       " 2022-09-26\n",
       " 2022-09-27\n",
       " 2022-09-28\n",
       " 2022-09-29\n",
       " 2022-09-30"
      ]
     },
     "execution_count": 50,
     "metadata": {},
     "output_type": "execute_result"
    }
   ],
   "source": [
    "Date.(2022, 9, 1:30)"
   ]
  },
  {
   "cell_type": "code",
   "execution_count": 52,
   "id": "756e4d72",
   "metadata": {},
   "outputs": [
    {
     "ename": "LoadError",
     "evalue": "ArgumentError: Day: 31 out of range (1:30)",
     "output_type": "error",
     "traceback": [
      "ArgumentError: Day: 31 out of range (1:30)",
      "",
      "Stacktrace:",
      "  [1] Date(y::Int64, m::Int64, d::Int64)",
      "    @ Dates /Applications/Julia-1.8.app/Contents/Resources/julia/share/julia/stdlib/v1.8/Dates/src/types.jl:266",
      "  [2] _broadcast_getindex_evalf",
      "    @ ./broadcast.jl:670 [inlined]",
      "  [3] _broadcast_getindex",
      "    @ ./broadcast.jl:643 [inlined]",
      "  [4] getindex",
      "    @ ./broadcast.jl:597 [inlined]",
      "  [5] macro expansion",
      "    @ ./broadcast.jl:961 [inlined]",
      "  [6] macro expansion",
      "    @ ./simdloop.jl:77 [inlined]",
      "  [7] copyto!",
      "    @ ./broadcast.jl:960 [inlined]",
      "  [8] copyto!",
      "    @ ./broadcast.jl:913 [inlined]",
      "  [9] copy",
      "    @ ./broadcast.jl:885 [inlined]",
      " [10] materialize(bc::Base.Broadcast.Broadcasted{Base.Broadcast.DefaultArrayStyle{1}, Nothing, Type{Date}, Tuple{Int64, Int64, UnitRange{Int64}}})",
      "    @ Base.Broadcast ./broadcast.jl:860",
      " [11] top-level scope",
      "    @ In[52]:1"
     ]
    }
   ],
   "source": [
    "Date.(2022, 9, 1:35)"
   ]
  },
  {
   "cell_type": "code",
   "execution_count": 53,
   "id": "3269ee2a",
   "metadata": {},
   "outputs": [
    {
     "data": {
      "text/plain": [
       "2023-03-13"
      ]
     },
     "execution_count": 53,
     "metadata": {},
     "output_type": "execute_result"
    }
   ],
   "source": [
    "today()"
   ]
  },
  {
   "cell_type": "code",
   "execution_count": 54,
   "id": "8913d462",
   "metadata": {},
   "outputs": [
    {
     "data": {
      "text/plain": [
       "2023-03-20"
      ]
     },
     "execution_count": 54,
     "metadata": {},
     "output_type": "execute_result"
    }
   ],
   "source": [
    "today() + Day(7)"
   ]
  },
  {
   "cell_type": "code",
   "execution_count": 55,
   "id": "b4bbb672",
   "metadata": {},
   "outputs": [
    {
     "data": {
      "text/plain": [
       "2035-03-27"
      ]
     },
     "execution_count": 55,
     "metadata": {},
     "output_type": "execute_result"
    }
   ],
   "source": [
    "today() + Year(12) + Day(14)"
   ]
  },
  {
   "cell_type": "code",
   "execution_count": 56,
   "id": "b68139e2",
   "metadata": {},
   "outputs": [
    {
     "ename": "LoadError",
     "evalue": "MethodError: \u001b[0mCannot `convert` an object of type \u001b[92mInt64\u001b[39m\u001b[0m to an object of type \u001b[91mDay\u001b[39m\n\u001b[0mClosest candidates are:\n\u001b[0m  convert(::Type{T}, \u001b[91m::Dates.CompoundPeriod\u001b[39m) where T<:Period at /Applications/Julia-1.8.app/Contents/Resources/julia/share/julia/stdlib/v1.8/Dates/src/periods.jl:363\n\u001b[0m  convert(::Type{Day}, \u001b[91m::Week\u001b[39m) at /Applications/Julia-1.8.app/Contents/Resources/julia/share/julia/stdlib/v1.8/Dates/src/periods.jl:433\n\u001b[0m  convert(::Type{Day}, \u001b[91m::Hour\u001b[39m) at /Applications/Julia-1.8.app/Contents/Resources/julia/share/julia/stdlib/v1.8/Dates/src/periods.jl:441\n\u001b[0m  ...",
     "output_type": "error",
     "traceback": [
      "MethodError: \u001b[0mCannot `convert` an object of type \u001b[92mInt64\u001b[39m\u001b[0m to an object of type \u001b[91mDay\u001b[39m\n\u001b[0mClosest candidates are:\n\u001b[0m  convert(::Type{T}, \u001b[91m::Dates.CompoundPeriod\u001b[39m) where T<:Period at /Applications/Julia-1.8.app/Contents/Resources/julia/share/julia/stdlib/v1.8/Dates/src/periods.jl:363\n\u001b[0m  convert(::Type{Day}, \u001b[91m::Week\u001b[39m) at /Applications/Julia-1.8.app/Contents/Resources/julia/share/julia/stdlib/v1.8/Dates/src/periods.jl:433\n\u001b[0m  convert(::Type{Day}, \u001b[91m::Hour\u001b[39m) at /Applications/Julia-1.8.app/Contents/Resources/julia/share/julia/stdlib/v1.8/Dates/src/periods.jl:441\n\u001b[0m  ...",
      "",
      "Stacktrace:",
      " [1] oftype(x::Day, y::Int64)",
      "   @ Base ./essentials.jl:391",
      " [2] (::Colon)(start::Date, stop::Date)",
      "   @ Base ./range.jl:7",
      " [3] top-level scope",
      "   @ In[56]:1"
     ]
    }
   ],
   "source": [
    "today():(today() + Year(1))"
   ]
  },
  {
   "cell_type": "code",
   "execution_count": 57,
   "id": "dd4b8586",
   "metadata": {},
   "outputs": [
    {
     "data": {
      "text/plain": [
       "Date(\"2023-03-13\"):Day(1):Date(\"2024-03-13\")"
      ]
     },
     "execution_count": 57,
     "metadata": {},
     "output_type": "execute_result"
    }
   ],
   "source": [
    "today():Day(1):(today() + Year(1))"
   ]
  },
  {
   "cell_type": "code",
   "execution_count": 58,
   "id": "dfc14667",
   "metadata": {},
   "outputs": [
    {
     "data": {
      "text/plain": [
       "366-element Vector{Date}:\n",
       " 2023-03-13\n",
       " 2023-03-14\n",
       " 2023-03-15\n",
       " 2023-03-16\n",
       " 2023-03-17\n",
       " 2023-03-18\n",
       " 2023-03-19\n",
       " 2023-03-20\n",
       " 2023-03-21\n",
       " 2023-03-22\n",
       " 2023-03-23\n",
       " 2023-03-24\n",
       " 2023-03-25\n",
       " ⋮\n",
       " 2024-03-01\n",
       " 2024-03-02\n",
       " 2024-03-03\n",
       " 2024-03-04\n",
       " 2024-03-05\n",
       " 2024-03-06\n",
       " 2024-03-07\n",
       " 2024-03-08\n",
       " 2024-03-09\n",
       " 2024-03-10\n",
       " 2024-03-11\n",
       " 2024-03-12"
      ]
     },
     "execution_count": 58,
     "metadata": {},
     "output_type": "execute_result"
    }
   ],
   "source": [
    "collect(today():Day(1):(today() + Year(1) - Day(1)))"
   ]
  },
  {
   "cell_type": "code",
   "execution_count": 62,
   "id": "a0cfc0a2",
   "metadata": {},
   "outputs": [
    {
     "data": {
      "text/plain": [
       "2"
      ]
     },
     "execution_count": 62,
     "metadata": {},
     "output_type": "execute_result"
    }
   ],
   "source": [
    "only([2])"
   ]
  },
  {
   "cell_type": "code",
   "execution_count": 59,
   "id": "eb5b048f",
   "metadata": {},
   "outputs": [
    {
     "name": "stdout",
     "output_type": "stream",
     "text": [
      "search: \u001b[0m\u001b[1mo\u001b[22m\u001b[0m\u001b[1mn\u001b[22m\u001b[0m\u001b[1ml\u001b[22m\u001b[0m\u001b[1my\u001b[22m Read\u001b[0m\u001b[1mO\u001b[22m\u001b[0m\u001b[1mn\u001b[22m\u001b[0m\u001b[1ml\u001b[22m\u001b[0m\u001b[1my\u001b[22mMemoryError isread\u001b[0m\u001b[1mo\u001b[22m\u001b[0m\u001b[1mn\u001b[22m\u001b[0m\u001b[1ml\u001b[22m\u001b[0m\u001b[1my\u001b[22m d\u001b[0m\u001b[1mo\u001b[22mw\u001b[0m\u001b[1mn\u001b[22m\u001b[0m\u001b[1ml\u001b[22moad Cl\u001b[0m\u001b[1mo\u001b[22m\u001b[0m\u001b[1mn\u001b[22mg\u001b[0m\u001b[1ml\u001b[22mong @n\u001b[0m\u001b[1mo\u001b[22mi\u001b[0m\u001b[1mn\u001b[22m\u001b[0m\u001b[1ml\u001b[22mine\n",
      "\n"
     ]
    },
    {
     "data": {
      "text/latex": [
       "\\begin{verbatim}\n",
       "only(x)\n",
       "\\end{verbatim}\n",
       "Return the one and only element of collection \\texttt{x}, or throw an \\href{@ref}{\\texttt{ArgumentError}} if the collection has zero or multiple elements.\n",
       "\n",
       "See also \\href{@ref}{\\texttt{first}}, \\href{@ref}{\\texttt{last}}.\n",
       "\n",
       "\\begin{quote}\n",
       "\\textbf{compat}\n",
       "\n",
       "Julia 1.4\n",
       "\n",
       "This method requires at least Julia 1.4.\n",
       "\n",
       "\\end{quote}\n",
       "\\section{Examples}\n",
       "\\begin{verbatim}\n",
       "julia> only([\"a\"])\n",
       "\"a\"\n",
       "\n",
       "julia> only(\"a\")\n",
       "'a': ASCII/Unicode U+0061 (category Ll: Letter, lowercase)\n",
       "\n",
       "julia> only(())\n",
       "ERROR: ArgumentError: Tuple contains 0 elements, must contain exactly 1 element\n",
       "Stacktrace:\n",
       "[...]\n",
       "\n",
       "julia> only(('a', 'b'))\n",
       "ERROR: ArgumentError: Tuple contains 2 elements, must contain exactly 1 element\n",
       "Stacktrace:\n",
       "[...]\n",
       "\\end{verbatim}\n"
      ],
      "text/markdown": [
       "```\n",
       "only(x)\n",
       "```\n",
       "\n",
       "Return the one and only element of collection `x`, or throw an [`ArgumentError`](@ref) if the collection has zero or multiple elements.\n",
       "\n",
       "See also [`first`](@ref), [`last`](@ref).\n",
       "\n",
       "!!! compat \"Julia 1.4\"\n",
       "    This method requires at least Julia 1.4.\n",
       "\n",
       "\n",
       "# Examples\n",
       "\n",
       "```jldoctest\n",
       "julia> only([\"a\"])\n",
       "\"a\"\n",
       "\n",
       "julia> only(\"a\")\n",
       "'a': ASCII/Unicode U+0061 (category Ll: Letter, lowercase)\n",
       "\n",
       "julia> only(())\n",
       "ERROR: ArgumentError: Tuple contains 0 elements, must contain exactly 1 element\n",
       "Stacktrace:\n",
       "[...]\n",
       "\n",
       "julia> only(('a', 'b'))\n",
       "ERROR: ArgumentError: Tuple contains 2 elements, must contain exactly 1 element\n",
       "Stacktrace:\n",
       "[...]\n",
       "```\n"
      ],
      "text/plain": [
       "\u001b[36m  only(x)\u001b[39m\n",
       "\n",
       "  Return the one and only element of collection \u001b[36mx\u001b[39m, or throw an \u001b[36mArgumentError\u001b[39m\n",
       "  if the collection has zero or multiple elements.\n",
       "\n",
       "  See also \u001b[36mfirst\u001b[39m, \u001b[36mlast\u001b[39m.\n",
       "\n",
       "\u001b[39m\u001b[1m  │ \u001b[22m\u001b[39m\u001b[1mJulia 1.4\u001b[22m\n",
       "\u001b[39m\u001b[1m  │\u001b[22m\n",
       "\u001b[39m\u001b[1m  │\u001b[22m  This method requires at least Julia 1.4.\n",
       "\n",
       "\u001b[1m  Examples\u001b[22m\n",
       "\u001b[1m  ≡≡≡≡≡≡≡≡≡≡\u001b[22m\n",
       "\n",
       "\u001b[36m  julia> only([\"a\"])\u001b[39m\n",
       "\u001b[36m  \"a\"\u001b[39m\n",
       "\u001b[36m  \u001b[39m\n",
       "\u001b[36m  julia> only(\"a\")\u001b[39m\n",
       "\u001b[36m  'a': ASCII/Unicode U+0061 (category Ll: Letter, lowercase)\u001b[39m\n",
       "\u001b[36m  \u001b[39m\n",
       "\u001b[36m  julia> only(())\u001b[39m\n",
       "\u001b[36m  ERROR: ArgumentError: Tuple contains 0 elements, must contain exactly 1 element\u001b[39m\n",
       "\u001b[36m  Stacktrace:\u001b[39m\n",
       "\u001b[36m  [...]\u001b[39m\n",
       "\u001b[36m  \u001b[39m\n",
       "\u001b[36m  julia> only(('a', 'b'))\u001b[39m\n",
       "\u001b[36m  ERROR: ArgumentError: Tuple contains 2 elements, must contain exactly 1 element\u001b[39m\n",
       "\u001b[36m  Stacktrace:\u001b[39m\n",
       "\u001b[36m  [...]\u001b[39m"
      ]
     },
     "execution_count": 59,
     "metadata": {},
     "output_type": "execute_result"
    }
   ],
   "source": [
    "?only"
   ]
  },
  {
   "cell_type": "code",
   "execution_count": 63,
   "id": "41e8e6ff",
   "metadata": {},
   "outputs": [
    {
     "data": {
      "text/plain": [
       "get_rate (generic function with 1 method)"
      ]
     },
     "execution_count": 63,
     "metadata": {},
     "output_type": "execute_result"
    }
   ],
   "source": [
    "function get_rate(date::Date)\n",
    "    query = \"https://api.nbp.pl/api/exchangerates/rates/a/usd/$date/?format=json\"\n",
    "    try\n",
    "        response = HTTP.get(query)\n",
    "        json = JSON3.read(response.body)\n",
    "        return only(json.rates).mid\n",
    "    catch e\n",
    "        if e isa HTTP.ExceptionRequest.StatusError\n",
    "            return missing\n",
    "        end\n",
    "    end\n",
    "end"
   ]
  },
  {
   "cell_type": "code",
   "execution_count": 64,
   "id": "d823f871",
   "metadata": {},
   "outputs": [
    {
     "data": {
      "text/plain": [
       "30-element Vector{Union{Missing, Float64}}:\n",
       " 4.6959\n",
       " 4.7276\n",
       "  missing\n",
       "  missing\n",
       " 4.769\n",
       " 4.7367\n",
       " 4.7584\n",
       " 4.7268\n",
       " 4.6599\n",
       "  missing\n",
       "  missing\n",
       " 4.6225\n",
       " 4.6363\n",
       " ⋮\n",
       " 4.7255\n",
       " 4.7118\n",
       " 4.7919\n",
       " 4.8343\n",
       " 4.8796\n",
       "  missing\n",
       "  missing\n",
       " 4.9113\n",
       " 4.9476\n",
       " 5.0381\n",
       " 5.0328\n",
       " 4.9533"
      ]
     },
     "execution_count": 64,
     "metadata": {},
     "output_type": "execute_result"
    }
   ],
   "source": [
    "rates = get_rate.(Date.(2022, 9, 1:30))"
   ]
  },
  {
   "cell_type": "code",
   "execution_count": 65,
   "id": "650e80b9",
   "metadata": {},
   "outputs": [],
   "source": [
    "using Statistics"
   ]
  },
  {
   "cell_type": "code",
   "execution_count": 66,
   "id": "4aa65021",
   "metadata": {},
   "outputs": [
    {
     "data": {
      "text/plain": [
       "missing"
      ]
     },
     "execution_count": 66,
     "metadata": {},
     "output_type": "execute_result"
    }
   ],
   "source": [
    "mean(rates)"
   ]
  },
  {
   "cell_type": "code",
   "execution_count": 67,
   "id": "b195b6f5",
   "metadata": {},
   "outputs": [
    {
     "data": {
      "text/plain": [
       "4.788236363636363"
      ]
     },
     "execution_count": 67,
     "metadata": {},
     "output_type": "execute_result"
    }
   ],
   "source": [
    "mean(skipmissing(rates))"
   ]
  },
  {
   "cell_type": "code",
   "execution_count": 68,
   "id": "7a3bb5ac",
   "metadata": {},
   "outputs": [
    {
     "data": {
      "text/plain": [
       "0.12121170203390673"
      ]
     },
     "execution_count": 68,
     "metadata": {},
     "output_type": "execute_result"
    }
   ],
   "source": [
    "std(skipmissing(rates))"
   ]
  },
  {
   "cell_type": "code",
   "execution_count": 69,
   "id": "7190cba3",
   "metadata": {},
   "outputs": [],
   "source": [
    "using FreqTables"
   ]
  },
  {
   "cell_type": "code",
   "execution_count": 70,
   "id": "4812067f",
   "metadata": {},
   "outputs": [
    {
     "data": {
      "text/plain": [
       "30-element Vector{Date}:\n",
       " 2022-09-01\n",
       " 2022-09-02\n",
       " 2022-09-03\n",
       " 2022-09-04\n",
       " 2022-09-05\n",
       " 2022-09-06\n",
       " 2022-09-07\n",
       " 2022-09-08\n",
       " 2022-09-09\n",
       " 2022-09-10\n",
       " 2022-09-11\n",
       " 2022-09-12\n",
       " 2022-09-13\n",
       " ⋮\n",
       " 2022-09-19\n",
       " 2022-09-20\n",
       " 2022-09-21\n",
       " 2022-09-22\n",
       " 2022-09-23\n",
       " 2022-09-24\n",
       " 2022-09-25\n",
       " 2022-09-26\n",
       " 2022-09-27\n",
       " 2022-09-28\n",
       " 2022-09-29\n",
       " 2022-09-30"
      ]
     },
     "execution_count": 70,
     "metadata": {},
     "output_type": "execute_result"
    }
   ],
   "source": [
    "dates = Date.(2022, 9, 1:30)"
   ]
  },
  {
   "cell_type": "code",
   "execution_count": 71,
   "id": "f08426f6",
   "metadata": {},
   "outputs": [
    {
     "name": "stdout",
     "output_type": "stream",
     "text": [
      "search: \u001b[0m\u001b[1mp\u001b[22m\u001b[0m\u001b[1mr\u001b[22m\u001b[0m\u001b[1mo\u001b[22m\u001b[0m\u001b[1mp\u001b[22m\u001b[0m\u001b[1mt\u001b[22m\u001b[0m\u001b[1ma\u001b[22m\u001b[0m\u001b[1mb\u001b[22m\u001b[0m\u001b[1ml\u001b[22m\u001b[0m\u001b[1me\u001b[22m\n",
      "\n"
     ]
    },
    {
     "data": {
      "text/latex": [
       "\\begin{verbatim}\n",
       "proptable(x::AbstractVector...;\n",
       "          margins = nothing,\n",
       "          skipmissing::Bool = false,\n",
       "          weights::AbstractVector{<:Real} = UnitWeights(),\n",
       "          subset::Union{Nothing, AbstractVector{Int}, AbstractVector{Bool}} = nothing])\n",
       "\n",
       "proptable(t, cols::Union{Symbol, AbstractString}...;\n",
       "          margins = nothing,\n",
       "          skipmissing::Bool = false,\n",
       "          weights::AbstractVector{<:Real} = UnitWeights(),\n",
       "          subset::Union{Nothing, AbstractVector{Int}, AbstractVector{Bool}} = nothing])\n",
       "\\end{verbatim}\n",
       "Create a frequency table of proportions from vectors or table columns. This is equivalent to calling \\texttt{prop(freqtable(...), margins=margins)}.\n",
       "\n",
       "\\texttt{t} can be any type of table supported by the \\href{https://github.com/JuliaData/Tables.jl}{Tables.jl} interface.\n",
       "\n",
       "If \\texttt{margins} is \\texttt{nothing} (the default), proportions over the whole table are computed. If \\texttt{margins} is an \\texttt{Integer}, or an iterable of \\texttt{Integer}s, proportions sum to \\texttt{1} over dimensions specified by \\texttt{margins}. In particular for a two-dimensional array, when \\texttt{margins} is \\texttt{1} row proportions are calculated, and when \\texttt{margins} is \\texttt{2} column proportions are calculated.\n",
       "\n",
       "Calculating \\texttt{sum(proptable(..., margins=margins), dims=dims)} with \\texttt{dims} equal to the complement of \\texttt{margins} produces an array containing only \\texttt{1.0} (see last example below).\n",
       "\n",
       "\\textbf{Examples}\n",
       "\n",
       "\\begin{verbatim}\n",
       "julia> proptable([1, 2, 2, 3, 4, 3])\n",
       "4-element Named Array{Float64,1}\n",
       "Dim1  │ \n",
       "──────┼─────────\n",
       "1     │ 0.166667\n",
       "2     │ 0.333333\n",
       "3     │ 0.333333\n",
       "4     │ 0.166667\n",
       "\n",
       "julia> df = DataFrame(x=[1, 2, 2, 2, 1, 1], y=[1, 2, 1, 2, 2, 2], z=[1, 1, 1, 2, 2, 1]);\n",
       "\n",
       "julia> proptable(df, :x, :y)\n",
       "2×2 Named Array{Float64,2}\n",
       "x ╲ y │        1         2\n",
       "──────┼───────────────────\n",
       "1     │ 0.166667  0.333333\n",
       "2     │ 0.166667  0.333333\n",
       "\n",
       "julia> proptable(df, :x, :y, subset=df.x .> 1)\n",
       "1×2 Named Array{Float64,2}\n",
       "x ╲ y │        1         2\n",
       "──────┼───────────────────\n",
       "2     │ 0.333333  0.666667\n",
       "\n",
       "julia> proptable([1, 2, 2, 2], [1, 1, 1, 2], margins=1)\n",
       "2×2 Named Array{Float64,2}\n",
       "Dim1 ╲ Dim2 │        1         2\n",
       "────────────┼───────────────────\n",
       "1           │      1.0       0.0\n",
       "2           │ 0.666667  0.333333\n",
       "\n",
       "julia> proptable([1, 2, 2, 2], [1, 1, 1, 2], margins=2)\n",
       "2×2 Named Array{Float64,2}\n",
       "Dim1 ╲ Dim2 │        1         2\n",
       "────────────┼───────────────────\n",
       "1           │ 0.333333       0.0\n",
       "2           │ 0.666667       1.0\n",
       "\n",
       "julia> proptable([1, 2, 2, 2], [1, 1, 1, 2], margins=(1,2))\n",
       "2×2 Named Array{Float64,2}\n",
       "Dim1 ╲ Dim2 │   1    2\n",
       "────────────┼─────────\n",
       "1           │ 1.0  NaN\n",
       "2           │ 1.0  1.0\n",
       "\n",
       "julia> proptable(df.x, df.y, df.z)\n",
       "2×2×2 Named Array{Float64,3}\n",
       "\n",
       "[:, :, Dim3=1] =\n",
       "Dim1 ╲ Dim2 │        1         2\n",
       "────────────┼───────────────────\n",
       "1           │ 0.166667  0.166667\n",
       "2           │ 0.166667  0.166667\n",
       "\n",
       "[:, :, Dim3=2] =\n",
       "Dim1 ╲ Dim2 │        1         2\n",
       "────────────┼───────────────────\n",
       "1           │      0.0  0.166667\n",
       "2           │      0.0  0.166667\n",
       "\n",
       "julia> pt = proptable(df.x, df.y, df.z, margins=(1,2))\n",
       "2×2×2 Named Array{Float64,3}\n",
       "\n",
       "[:, :, Dim3=1] =\n",
       "Dim1 ╲ Dim2 │   1    2\n",
       "────────────┼─────────\n",
       "1           │ 1.0  0.5\n",
       "2           │ 1.0  0.5\n",
       "\n",
       "[:, :, Dim3=2] =\n",
       "Dim1 ╲ Dim2 │   1    2\n",
       "────────────┼─────────\n",
       "1           │ 0.0  0.5\n",
       "2           │ 0.0  0.5\n",
       "\n",
       "julia> sum(pt, dims=3)\n",
       "2×2×1 Named Array{Float64,3}\n",
       "\n",
       "[:, :, Dim3=sum(Dim3)] =\n",
       "Dim1 ╲ Dim2 │   1    2\n",
       "────────────┼─────────\n",
       "1           │ 1.0  1.0\n",
       "2           │ 1.0  1.0\n",
       "\n",
       "\\end{verbatim}\n"
      ],
      "text/markdown": [
       "```\n",
       "proptable(x::AbstractVector...;\n",
       "          margins = nothing,\n",
       "          skipmissing::Bool = false,\n",
       "          weights::AbstractVector{<:Real} = UnitWeights(),\n",
       "          subset::Union{Nothing, AbstractVector{Int}, AbstractVector{Bool}} = nothing])\n",
       "\n",
       "proptable(t, cols::Union{Symbol, AbstractString}...;\n",
       "          margins = nothing,\n",
       "          skipmissing::Bool = false,\n",
       "          weights::AbstractVector{<:Real} = UnitWeights(),\n",
       "          subset::Union{Nothing, AbstractVector{Int}, AbstractVector{Bool}} = nothing])\n",
       "```\n",
       "\n",
       "Create a frequency table of proportions from vectors or table columns. This is equivalent to calling `prop(freqtable(...), margins=margins)`.\n",
       "\n",
       "`t` can be any type of table supported by the [Tables.jl](https://github.com/JuliaData/Tables.jl) interface.\n",
       "\n",
       "If `margins` is `nothing` (the default), proportions over the whole table are computed. If `margins` is an `Integer`, or an iterable of `Integer`s, proportions sum to `1` over dimensions specified by `margins`. In particular for a two-dimensional array, when `margins` is `1` row proportions are calculated, and when `margins` is `2` column proportions are calculated.\n",
       "\n",
       "Calculating `sum(proptable(..., margins=margins), dims=dims)` with `dims` equal to the complement of `margins` produces an array containing only `1.0` (see last example below).\n",
       "\n",
       "**Examples**\n",
       "\n",
       "```jldoctest\n",
       "julia> proptable([1, 2, 2, 3, 4, 3])\n",
       "4-element Named Array{Float64,1}\n",
       "Dim1  │ \n",
       "──────┼─────────\n",
       "1     │ 0.166667\n",
       "2     │ 0.333333\n",
       "3     │ 0.333333\n",
       "4     │ 0.166667\n",
       "\n",
       "julia> df = DataFrame(x=[1, 2, 2, 2, 1, 1], y=[1, 2, 1, 2, 2, 2], z=[1, 1, 1, 2, 2, 1]);\n",
       "\n",
       "julia> proptable(df, :x, :y)\n",
       "2×2 Named Array{Float64,2}\n",
       "x ╲ y │        1         2\n",
       "──────┼───────────────────\n",
       "1     │ 0.166667  0.333333\n",
       "2     │ 0.166667  0.333333\n",
       "\n",
       "julia> proptable(df, :x, :y, subset=df.x .> 1)\n",
       "1×2 Named Array{Float64,2}\n",
       "x ╲ y │        1         2\n",
       "──────┼───────────────────\n",
       "2     │ 0.333333  0.666667\n",
       "\n",
       "julia> proptable([1, 2, 2, 2], [1, 1, 1, 2], margins=1)\n",
       "2×2 Named Array{Float64,2}\n",
       "Dim1 ╲ Dim2 │        1         2\n",
       "────────────┼───────────────────\n",
       "1           │      1.0       0.0\n",
       "2           │ 0.666667  0.333333\n",
       "\n",
       "julia> proptable([1, 2, 2, 2], [1, 1, 1, 2], margins=2)\n",
       "2×2 Named Array{Float64,2}\n",
       "Dim1 ╲ Dim2 │        1         2\n",
       "────────────┼───────────────────\n",
       "1           │ 0.333333       0.0\n",
       "2           │ 0.666667       1.0\n",
       "\n",
       "julia> proptable([1, 2, 2, 2], [1, 1, 1, 2], margins=(1,2))\n",
       "2×2 Named Array{Float64,2}\n",
       "Dim1 ╲ Dim2 │   1    2\n",
       "────────────┼─────────\n",
       "1           │ 1.0  NaN\n",
       "2           │ 1.0  1.0\n",
       "\n",
       "julia> proptable(df.x, df.y, df.z)\n",
       "2×2×2 Named Array{Float64,3}\n",
       "\n",
       "[:, :, Dim3=1] =\n",
       "Dim1 ╲ Dim2 │        1         2\n",
       "────────────┼───────────────────\n",
       "1           │ 0.166667  0.166667\n",
       "2           │ 0.166667  0.166667\n",
       "\n",
       "[:, :, Dim3=2] =\n",
       "Dim1 ╲ Dim2 │        1         2\n",
       "────────────┼───────────────────\n",
       "1           │      0.0  0.166667\n",
       "2           │      0.0  0.166667\n",
       "\n",
       "julia> pt = proptable(df.x, df.y, df.z, margins=(1,2))\n",
       "2×2×2 Named Array{Float64,3}\n",
       "\n",
       "[:, :, Dim3=1] =\n",
       "Dim1 ╲ Dim2 │   1    2\n",
       "────────────┼─────────\n",
       "1           │ 1.0  0.5\n",
       "2           │ 1.0  0.5\n",
       "\n",
       "[:, :, Dim3=2] =\n",
       "Dim1 ╲ Dim2 │   1    2\n",
       "────────────┼─────────\n",
       "1           │ 0.0  0.5\n",
       "2           │ 0.0  0.5\n",
       "\n",
       "julia> sum(pt, dims=3)\n",
       "2×2×1 Named Array{Float64,3}\n",
       "\n",
       "[:, :, Dim3=sum(Dim3)] =\n",
       "Dim1 ╲ Dim2 │   1    2\n",
       "────────────┼─────────\n",
       "1           │ 1.0  1.0\n",
       "2           │ 1.0  1.0\n",
       "\n",
       "```\n"
      ],
      "text/plain": [
       "\u001b[36m  proptable(x::AbstractVector...;\u001b[39m\n",
       "\u001b[36m            margins = nothing,\u001b[39m\n",
       "\u001b[36m            skipmissing::Bool = false,\u001b[39m\n",
       "\u001b[36m            weights::AbstractVector{<:Real} = UnitWeights(),\u001b[39m\n",
       "\u001b[36m            subset::Union{Nothing, AbstractVector{Int}, AbstractVector{Bool}} = nothing])\u001b[39m\n",
       "\u001b[36m  \u001b[39m\n",
       "\u001b[36m  proptable(t, cols::Union{Symbol, AbstractString}...;\u001b[39m\n",
       "\u001b[36m            margins = nothing,\u001b[39m\n",
       "\u001b[36m            skipmissing::Bool = false,\u001b[39m\n",
       "\u001b[36m            weights::AbstractVector{<:Real} = UnitWeights(),\u001b[39m\n",
       "\u001b[36m            subset::Union{Nothing, AbstractVector{Int}, AbstractVector{Bool}} = nothing])\u001b[39m\n",
       "\n",
       "  Create a frequency table of proportions from vectors or table columns. This\n",
       "  is equivalent to calling \u001b[36mprop(freqtable(...), margins=margins)\u001b[39m.\n",
       "\n",
       "  \u001b[36mt\u001b[39m can be any type of table supported by the Tables.jl\n",
       "  (https://github.com/JuliaData/Tables.jl) interface.\n",
       "\n",
       "  If \u001b[36mmargins\u001b[39m is \u001b[36mnothing\u001b[39m (the default), proportions over the whole table are\n",
       "  computed. If \u001b[36mmargins\u001b[39m is an \u001b[36mInteger\u001b[39m, or an iterable of \u001b[36mInteger\u001b[39ms, proportions\n",
       "  sum to \u001b[36m1\u001b[39m over dimensions specified by \u001b[36mmargins\u001b[39m. In particular for a\n",
       "  two-dimensional array, when \u001b[36mmargins\u001b[39m is \u001b[36m1\u001b[39m row proportions are calculated, and\n",
       "  when \u001b[36mmargins\u001b[39m is \u001b[36m2\u001b[39m column proportions are calculated.\n",
       "\n",
       "  Calculating \u001b[36msum(proptable(..., margins=margins), dims=dims)\u001b[39m with \u001b[36mdims\u001b[39m equal\n",
       "  to the complement of \u001b[36mmargins\u001b[39m produces an array containing only \u001b[36m1.0\u001b[39m (see last\n",
       "  example below).\n",
       "\n",
       "  \u001b[1mExamples\u001b[22m\n",
       "\n",
       "\u001b[36m  julia> proptable([1, 2, 2, 3, 4, 3])\u001b[39m\n",
       "\u001b[36m  4-element Named Array{Float64,1}\u001b[39m\n",
       "\u001b[36m  Dim1  │ \u001b[39m\n",
       "\u001b[36m  ──────┼─────────\u001b[39m\n",
       "\u001b[36m  1     │ 0.166667\u001b[39m\n",
       "\u001b[36m  2     │ 0.333333\u001b[39m\n",
       "\u001b[36m  3     │ 0.333333\u001b[39m\n",
       "\u001b[36m  4     │ 0.166667\u001b[39m\n",
       "\u001b[36m  \u001b[39m\n",
       "\u001b[36m  julia> df = DataFrame(x=[1, 2, 2, 2, 1, 1], y=[1, 2, 1, 2, 2, 2], z=[1, 1, 1, 2, 2, 1]);\u001b[39m\n",
       "\u001b[36m  \u001b[39m\n",
       "\u001b[36m  julia> proptable(df, :x, :y)\u001b[39m\n",
       "\u001b[36m  2×2 Named Array{Float64,2}\u001b[39m\n",
       "\u001b[36m  x ╲ y │        1         2\u001b[39m\n",
       "\u001b[36m  ──────┼───────────────────\u001b[39m\n",
       "\u001b[36m  1     │ 0.166667  0.333333\u001b[39m\n",
       "\u001b[36m  2     │ 0.166667  0.333333\u001b[39m\n",
       "\u001b[36m  \u001b[39m\n",
       "\u001b[36m  julia> proptable(df, :x, :y, subset=df.x .> 1)\u001b[39m\n",
       "\u001b[36m  1×2 Named Array{Float64,2}\u001b[39m\n",
       "\u001b[36m  x ╲ y │        1         2\u001b[39m\n",
       "\u001b[36m  ──────┼───────────────────\u001b[39m\n",
       "\u001b[36m  2     │ 0.333333  0.666667\u001b[39m\n",
       "\u001b[36m  \u001b[39m\n",
       "\u001b[36m  julia> proptable([1, 2, 2, 2], [1, 1, 1, 2], margins=1)\u001b[39m\n",
       "\u001b[36m  2×2 Named Array{Float64,2}\u001b[39m\n",
       "\u001b[36m  Dim1 ╲ Dim2 │        1         2\u001b[39m\n",
       "\u001b[36m  ────────────┼───────────────────\u001b[39m\n",
       "\u001b[36m  1           │      1.0       0.0\u001b[39m\n",
       "\u001b[36m  2           │ 0.666667  0.333333\u001b[39m\n",
       "\u001b[36m  \u001b[39m\n",
       "\u001b[36m  julia> proptable([1, 2, 2, 2], [1, 1, 1, 2], margins=2)\u001b[39m\n",
       "\u001b[36m  2×2 Named Array{Float64,2}\u001b[39m\n",
       "\u001b[36m  Dim1 ╲ Dim2 │        1         2\u001b[39m\n",
       "\u001b[36m  ────────────┼───────────────────\u001b[39m\n",
       "\u001b[36m  1           │ 0.333333       0.0\u001b[39m\n",
       "\u001b[36m  2           │ 0.666667       1.0\u001b[39m\n",
       "\u001b[36m  \u001b[39m\n",
       "\u001b[36m  julia> proptable([1, 2, 2, 2], [1, 1, 1, 2], margins=(1,2))\u001b[39m\n",
       "\u001b[36m  2×2 Named Array{Float64,2}\u001b[39m\n",
       "\u001b[36m  Dim1 ╲ Dim2 │   1    2\u001b[39m\n",
       "\u001b[36m  ────────────┼─────────\u001b[39m\n",
       "\u001b[36m  1           │ 1.0  NaN\u001b[39m\n",
       "\u001b[36m  2           │ 1.0  1.0\u001b[39m\n",
       "\u001b[36m  \u001b[39m\n",
       "\u001b[36m  julia> proptable(df.x, df.y, df.z)\u001b[39m\n",
       "\u001b[36m  2×2×2 Named Array{Float64,3}\u001b[39m\n",
       "\u001b[36m  \u001b[39m\n",
       "\u001b[36m  [:, :, Dim3=1] =\u001b[39m\n",
       "\u001b[36m  Dim1 ╲ Dim2 │        1         2\u001b[39m\n",
       "\u001b[36m  ────────────┼───────────────────\u001b[39m\n",
       "\u001b[36m  1           │ 0.166667  0.166667\u001b[39m\n",
       "\u001b[36m  2           │ 0.166667  0.166667\u001b[39m\n",
       "\u001b[36m  \u001b[39m\n",
       "\u001b[36m  [:, :, Dim3=2] =\u001b[39m\n",
       "\u001b[36m  Dim1 ╲ Dim2 │        1         2\u001b[39m\n",
       "\u001b[36m  ────────────┼───────────────────\u001b[39m\n",
       "\u001b[36m  1           │      0.0  0.166667\u001b[39m\n",
       "\u001b[36m  2           │      0.0  0.166667\u001b[39m\n",
       "\u001b[36m  \u001b[39m\n",
       "\u001b[36m  julia> pt = proptable(df.x, df.y, df.z, margins=(1,2))\u001b[39m\n",
       "\u001b[36m  2×2×2 Named Array{Float64,3}\u001b[39m\n",
       "\u001b[36m  \u001b[39m\n",
       "\u001b[36m  [:, :, Dim3=1] =\u001b[39m\n",
       "\u001b[36m  Dim1 ╲ Dim2 │   1    2\u001b[39m\n",
       "\u001b[36m  ────────────┼─────────\u001b[39m\n",
       "\u001b[36m  1           │ 1.0  0.5\u001b[39m\n",
       "\u001b[36m  2           │ 1.0  0.5\u001b[39m\n",
       "\u001b[36m  \u001b[39m\n",
       "\u001b[36m  [:, :, Dim3=2] =\u001b[39m\n",
       "\u001b[36m  Dim1 ╲ Dim2 │   1    2\u001b[39m\n",
       "\u001b[36m  ────────────┼─────────\u001b[39m\n",
       "\u001b[36m  1           │ 0.0  0.5\u001b[39m\n",
       "\u001b[36m  2           │ 0.0  0.5\u001b[39m\n",
       "\u001b[36m  \u001b[39m\n",
       "\u001b[36m  julia> sum(pt, dims=3)\u001b[39m\n",
       "\u001b[36m  2×2×1 Named Array{Float64,3}\u001b[39m\n",
       "\u001b[36m  \u001b[39m\n",
       "\u001b[36m  [:, :, Dim3=sum(Dim3)] =\u001b[39m\n",
       "\u001b[36m  Dim1 ╲ Dim2 │   1    2\u001b[39m\n",
       "\u001b[36m  ────────────┼─────────\u001b[39m\n",
       "\u001b[36m  1           │ 1.0  1.0\u001b[39m\n",
       "\u001b[36m  2           │ 1.0  1.0\u001b[39m\n",
       "\u001b[36m  \u001b[39m"
      ]
     },
     "execution_count": 71,
     "metadata": {},
     "output_type": "execute_result"
    }
   ],
   "source": [
    "?proptable"
   ]
  },
  {
   "cell_type": "code",
   "execution_count": 72,
   "id": "0ba6cf47",
   "metadata": {},
   "outputs": [
    {
     "data": {
      "text/plain": [
       "7×2 Named Matrix{Float64}\n",
       "Dim1 ╲ Dim2 │ false   true\n",
       "────────────┼─────────────\n",
       "Friday      │   1.0    0.0\n",
       "Monday      │   1.0    0.0\n",
       "Saturday    │   0.0    1.0\n",
       "Sunday      │   0.0    1.0\n",
       "Thursday    │   1.0    0.0\n",
       "Tuesday     │   1.0    0.0\n",
       "Wednesday   │   1.0    0.0"
      ]
     },
     "execution_count": 72,
     "metadata": {},
     "output_type": "execute_result"
    }
   ],
   "source": [
    "proptable(dayname.(dates), ismissing.(rates); margins=1)"
   ]
  },
  {
   "cell_type": "code",
   "execution_count": null,
   "id": "7e430ead",
   "metadata": {},
   "outputs": [],
   "source": []
  },
  {
   "cell_type": "markdown",
   "id": "94bd733f",
   "metadata": {},
   "source": [
    "Book uses below example, but won't work for dates I chose:"
   ]
  },
  {
   "cell_type": "code",
   "execution_count": 74,
   "id": "d8b5128e",
   "metadata": {},
   "outputs": [
    {
     "data": {
      "text/plain": [
       "Date[]"
      ]
     },
     "execution_count": 74,
     "metadata": {},
     "output_type": "execute_result"
    }
   ],
   "source": [
    "dates[dayname.(dates) .== \"Thursday\" .&& ismissing.(rates)]"
   ]
  },
  {
   "cell_type": "code",
   "execution_count": 75,
   "id": "6ecdf7e2",
   "metadata": {},
   "outputs": [],
   "source": [
    "using Plots"
   ]
  },
  {
   "cell_type": "code",
   "execution_count": 76,
   "id": "ce34f1bf",
   "metadata": {},
   "outputs": [
    {
     "data": {
      "image/svg+xml": [
       "<?xml version=\"1.0\" encoding=\"utf-8\"?>\n",
       "<svg xmlns=\"http://www.w3.org/2000/svg\" xmlns:xlink=\"http://www.w3.org/1999/xlink\" width=\"600\" height=\"400\" viewBox=\"0 0 2400 1600\">\n",
       "<defs>\n",
       "  <clipPath id=\"clip430\">\n",
       "    <rect x=\"0\" y=\"0\" width=\"2400\" height=\"1600\"/>\n",
       "  </clipPath>\n",
       "</defs>\n",
       "<path clip-path=\"url(#clip430)\" d=\"M0 1600 L2400 1600 L2400 0 L0 0  Z\" fill=\"#ffffff\" fill-rule=\"evenodd\" fill-opacity=\"1\"/>\n",
       "<defs>\n",
       "  <clipPath id=\"clip431\">\n",
       "    <rect x=\"480\" y=\"0\" width=\"1681\" height=\"1600\"/>\n",
       "  </clipPath>\n",
       "</defs>\n",
       "<path clip-path=\"url(#clip430)\" d=\"M220.098 1423.18 L2352.76 1423.18 L2352.76 47.2441 L220.098 47.2441  Z\" fill=\"#ffffff\" fill-rule=\"evenodd\" fill-opacity=\"1\"/>\n",
       "<defs>\n",
       "  <clipPath id=\"clip432\">\n",
       "    <rect x=\"220\" y=\"47\" width=\"2134\" height=\"1377\"/>\n",
       "  </clipPath>\n",
       "</defs>\n",
       "<polyline clip-path=\"url(#clip432)\" style=\"stroke:#000000; stroke-linecap:round; stroke-linejoin:round; stroke-width:2; stroke-opacity:0.1; fill:none\" points=\"280.456,1423.18 280.456,47.2441 \"/>\n",
       "<polyline clip-path=\"url(#clip432)\" style=\"stroke:#000000; stroke-linecap:round; stroke-linejoin:round; stroke-width:2; stroke-opacity:0.1; fill:none\" points=\"835.474,1423.18 835.474,47.2441 \"/>\n",
       "<polyline clip-path=\"url(#clip432)\" style=\"stroke:#000000; stroke-linecap:round; stroke-linejoin:round; stroke-width:2; stroke-opacity:0.1; fill:none\" points=\"1390.49,1423.18 1390.49,47.2441 \"/>\n",
       "<polyline clip-path=\"url(#clip432)\" style=\"stroke:#000000; stroke-linecap:round; stroke-linejoin:round; stroke-width:2; stroke-opacity:0.1; fill:none\" points=\"1945.51,1423.18 1945.51,47.2441 \"/>\n",
       "<polyline clip-path=\"url(#clip430)\" style=\"stroke:#000000; stroke-linecap:round; stroke-linejoin:round; stroke-width:4; stroke-opacity:1; fill:none\" points=\"220.098,1423.18 2352.76,1423.18 \"/>\n",
       "<polyline clip-path=\"url(#clip430)\" style=\"stroke:#000000; stroke-linecap:round; stroke-linejoin:round; stroke-width:4; stroke-opacity:1; fill:none\" points=\"280.456,1423.18 280.456,1404.28 \"/>\n",
       "<polyline clip-path=\"url(#clip430)\" style=\"stroke:#000000; stroke-linecap:round; stroke-linejoin:round; stroke-width:4; stroke-opacity:1; fill:none\" points=\"835.474,1423.18 835.474,1404.28 \"/>\n",
       "<polyline clip-path=\"url(#clip430)\" style=\"stroke:#000000; stroke-linecap:round; stroke-linejoin:round; stroke-width:4; stroke-opacity:1; fill:none\" points=\"1390.49,1423.18 1390.49,1404.28 \"/>\n",
       "<polyline clip-path=\"url(#clip430)\" style=\"stroke:#000000; stroke-linecap:round; stroke-linejoin:round; stroke-width:4; stroke-opacity:1; fill:none\" points=\"1945.51,1423.18 1945.51,1404.28 \"/>\n",
       "<path clip-path=\"url(#clip430)\" d=\"M152.251 1481.64 L168.57 1481.64 L168.57 1485.58 L146.626 1485.58 L146.626 1481.64 Q149.288 1478.89 153.871 1474.26 Q158.477 1469.61 159.658 1468.27 Q161.903 1465.74 162.783 1464.01 Q163.686 1462.25 163.686 1460.56 Q163.686 1457.8 161.741 1456.07 Q159.82 1454.33 156.718 1454.33 Q154.519 1454.33 152.065 1455.09 Q149.635 1455.86 146.857 1457.41 L146.857 1452.69 Q149.681 1451.55 152.135 1450.97 Q154.589 1450.39 156.626 1450.39 Q161.996 1450.39 165.19 1453.08 Q168.385 1455.77 168.385 1460.26 Q168.385 1462.39 167.575 1464.31 Q166.788 1466.2 164.681 1468.8 Q164.102 1469.47 161.001 1472.69 Q157.899 1475.88 152.251 1481.64 Z\" fill=\"#000000\" fill-rule=\"evenodd\" fill-opacity=\"1\" /><path clip-path=\"url(#clip430)\" d=\"M188.385 1454.1 Q184.774 1454.1 182.945 1457.66 Q181.139 1461.2 181.139 1468.33 Q181.139 1475.44 182.945 1479.01 Q184.774 1482.55 188.385 1482.55 Q192.019 1482.55 193.825 1479.01 Q195.653 1475.44 195.653 1468.33 Q195.653 1461.2 193.825 1457.66 Q192.019 1454.1 188.385 1454.1 M188.385 1450.39 Q194.195 1450.39 197.25 1455 Q200.329 1459.58 200.329 1468.33 Q200.329 1477.06 197.25 1481.67 Q194.195 1486.25 188.385 1486.25 Q182.575 1486.25 179.496 1481.67 Q176.44 1477.06 176.44 1468.33 Q176.44 1459.58 179.496 1455 Q182.575 1450.39 188.385 1450.39 Z\" fill=\"#000000\" fill-rule=\"evenodd\" fill-opacity=\"1\" /><path clip-path=\"url(#clip430)\" d=\"M212.574 1481.64 L228.894 1481.64 L228.894 1485.58 L206.949 1485.58 L206.949 1481.64 Q209.611 1478.89 214.195 1474.26 Q218.801 1469.61 219.982 1468.27 Q222.227 1465.74 223.107 1464.01 Q224.01 1462.25 224.01 1460.56 Q224.01 1457.8 222.065 1456.07 Q220.144 1454.33 217.042 1454.33 Q214.843 1454.33 212.389 1455.09 Q209.959 1455.86 207.181 1457.41 L207.181 1452.69 Q210.005 1451.55 212.459 1450.97 Q214.912 1450.39 216.949 1450.39 Q222.32 1450.39 225.514 1453.08 Q228.709 1455.77 228.709 1460.26 Q228.709 1462.39 227.898 1464.31 Q227.111 1466.2 225.005 1468.8 Q224.426 1469.47 221.324 1472.69 Q218.223 1475.88 212.574 1481.64 Z\" fill=\"#000000\" fill-rule=\"evenodd\" fill-opacity=\"1\" /><path clip-path=\"url(#clip430)\" d=\"M242.736 1481.64 L259.056 1481.64 L259.056 1485.58 L237.111 1485.58 L237.111 1481.64 Q239.773 1478.89 244.357 1474.26 Q248.963 1469.61 250.144 1468.27 Q252.389 1465.74 253.269 1464.01 Q254.171 1462.25 254.171 1460.56 Q254.171 1457.8 252.227 1456.07 Q250.306 1454.33 247.204 1454.33 Q245.005 1454.33 242.551 1455.09 Q240.121 1455.86 237.343 1457.41 L237.343 1452.69 Q240.167 1451.55 242.621 1450.97 Q245.074 1450.39 247.111 1450.39 Q252.482 1450.39 255.676 1453.08 Q258.87 1455.77 258.87 1460.26 Q258.87 1462.39 258.06 1464.31 Q257.273 1466.2 255.167 1468.8 Q254.588 1469.47 251.486 1472.69 Q248.384 1475.88 242.736 1481.64 Z\" fill=\"#000000\" fill-rule=\"evenodd\" fill-opacity=\"1\" /><path clip-path=\"url(#clip430)\" d=\"M266.116 1470.7 L278.593 1470.7 L278.593 1474.49 L266.116 1474.49 L266.116 1470.7 Z\" fill=\"#000000\" fill-rule=\"evenodd\" fill-opacity=\"1\" /><path clip-path=\"url(#clip430)\" d=\"M295.977 1454.1 Q292.366 1454.1 290.537 1457.66 Q288.731 1461.2 288.731 1468.33 Q288.731 1475.44 290.537 1479.01 Q292.366 1482.55 295.977 1482.55 Q299.611 1482.55 301.417 1479.01 Q303.245 1475.44 303.245 1468.33 Q303.245 1461.2 301.417 1457.66 Q299.611 1454.1 295.977 1454.1 M295.977 1450.39 Q301.787 1450.39 304.842 1455 Q307.921 1459.58 307.921 1468.33 Q307.921 1477.06 304.842 1481.67 Q301.787 1486.25 295.977 1486.25 Q290.167 1486.25 287.088 1481.67 Q284.032 1477.06 284.032 1468.33 Q284.032 1459.58 287.088 1455 Q290.167 1450.39 295.977 1450.39 Z\" fill=\"#000000\" fill-rule=\"evenodd\" fill-opacity=\"1\" /><path clip-path=\"url(#clip430)\" d=\"M316.278 1484.86 L316.278 1480.6 Q318.037 1481.44 319.842 1481.88 Q321.648 1482.32 323.384 1482.32 Q328.014 1482.32 330.444 1479.21 Q332.898 1476.09 333.245 1469.75 Q331.902 1471.74 329.842 1472.8 Q327.782 1473.87 325.282 1473.87 Q320.097 1473.87 317.065 1470.74 Q314.055 1467.59 314.055 1462.15 Q314.055 1456.83 317.203 1453.61 Q320.352 1450.39 325.583 1450.39 Q331.578 1450.39 334.727 1455 Q337.898 1459.58 337.898 1468.33 Q337.898 1476.51 334.009 1481.39 Q330.143 1486.25 323.592 1486.25 Q321.833 1486.25 320.028 1485.9 Q318.222 1485.56 316.278 1484.86 M325.583 1470.21 Q328.731 1470.21 330.56 1468.06 Q332.412 1465.9 332.412 1462.15 Q332.412 1458.43 330.56 1456.27 Q328.731 1454.1 325.583 1454.1 Q322.435 1454.1 320.583 1456.27 Q318.754 1458.43 318.754 1462.15 Q318.754 1465.9 320.583 1468.06 Q322.435 1470.21 325.583 1470.21 Z\" fill=\"#000000\" fill-rule=\"evenodd\" fill-opacity=\"1\" /><path clip-path=\"url(#clip430)\" d=\"M343.546 1470.7 L356.023 1470.7 L356.023 1474.49 L343.546 1474.49 L343.546 1470.7 Z\" fill=\"#000000\" fill-rule=\"evenodd\" fill-opacity=\"1\" /><path clip-path=\"url(#clip430)\" d=\"M373.407 1454.1 Q369.796 1454.1 367.967 1457.66 Q366.162 1461.2 366.162 1468.33 Q366.162 1475.44 367.967 1479.01 Q369.796 1482.55 373.407 1482.55 Q377.041 1482.55 378.847 1479.01 Q380.675 1475.44 380.675 1468.33 Q380.675 1461.2 378.847 1457.66 Q377.041 1454.1 373.407 1454.1 M373.407 1450.39 Q379.217 1450.39 382.273 1455 Q385.351 1459.58 385.351 1468.33 Q385.351 1477.06 382.273 1481.67 Q379.217 1486.25 373.407 1486.25 Q367.597 1486.25 364.518 1481.67 Q361.463 1477.06 361.463 1468.33 Q361.463 1459.58 364.518 1455 Q367.597 1450.39 373.407 1450.39 Z\" fill=\"#000000\" fill-rule=\"evenodd\" fill-opacity=\"1\" /><path clip-path=\"url(#clip430)\" d=\"M394.379 1481.64 L402.018 1481.64 L402.018 1455.28 L393.708 1456.95 L393.708 1452.69 L401.972 1451.02 L406.647 1451.02 L406.647 1481.64 L414.286 1481.64 L414.286 1485.58 L394.379 1485.58 L394.379 1481.64 Z\" fill=\"#000000\" fill-rule=\"evenodd\" fill-opacity=\"1\" /><path clip-path=\"url(#clip430)\" d=\"M706.748 1481.64 L723.068 1481.64 L723.068 1485.58 L701.123 1485.58 L701.123 1481.64 Q703.785 1478.89 708.369 1474.26 Q712.975 1469.61 714.156 1468.27 Q716.401 1465.74 717.281 1464.01 Q718.183 1462.25 718.183 1460.56 Q718.183 1457.8 716.239 1456.07 Q714.318 1454.33 711.216 1454.33 Q709.017 1454.33 706.563 1455.09 Q704.132 1455.86 701.355 1457.41 L701.355 1452.69 Q704.179 1451.55 706.632 1450.97 Q709.086 1450.39 711.123 1450.39 Q716.494 1450.39 719.688 1453.08 Q722.882 1455.77 722.882 1460.26 Q722.882 1462.39 722.072 1464.31 Q721.285 1466.2 719.179 1468.8 Q718.6 1469.47 715.498 1472.69 Q712.396 1475.88 706.748 1481.64 Z\" fill=\"#000000\" fill-rule=\"evenodd\" fill-opacity=\"1\" /><path clip-path=\"url(#clip430)\" d=\"M742.882 1454.1 Q739.271 1454.1 737.443 1457.66 Q735.637 1461.2 735.637 1468.33 Q735.637 1475.44 737.443 1479.01 Q739.271 1482.55 742.882 1482.55 Q746.517 1482.55 748.322 1479.01 Q750.151 1475.44 750.151 1468.33 Q750.151 1461.2 748.322 1457.66 Q746.517 1454.1 742.882 1454.1 M742.882 1450.39 Q748.692 1450.39 751.748 1455 Q754.827 1459.58 754.827 1468.33 Q754.827 1477.06 751.748 1481.67 Q748.692 1486.25 742.882 1486.25 Q737.072 1486.25 733.993 1481.67 Q730.938 1477.06 730.938 1468.33 Q730.938 1459.58 733.993 1455 Q737.072 1450.39 742.882 1450.39 Z\" fill=\"#000000\" fill-rule=\"evenodd\" fill-opacity=\"1\" /><path clip-path=\"url(#clip430)\" d=\"M767.072 1481.64 L783.391 1481.64 L783.391 1485.58 L761.447 1485.58 L761.447 1481.64 Q764.109 1478.89 768.692 1474.26 Q773.299 1469.61 774.479 1468.27 Q776.725 1465.74 777.604 1464.01 Q778.507 1462.25 778.507 1460.56 Q778.507 1457.8 776.563 1456.07 Q774.641 1454.33 771.54 1454.33 Q769.34 1454.33 766.887 1455.09 Q764.456 1455.86 761.678 1457.41 L761.678 1452.69 Q764.503 1451.55 766.956 1450.97 Q769.41 1450.39 771.447 1450.39 Q776.817 1450.39 780.012 1453.08 Q783.206 1455.77 783.206 1460.26 Q783.206 1462.39 782.396 1464.31 Q781.609 1466.2 779.502 1468.8 Q778.924 1469.47 775.822 1472.69 Q772.72 1475.88 767.072 1481.64 Z\" fill=\"#000000\" fill-rule=\"evenodd\" fill-opacity=\"1\" /><path clip-path=\"url(#clip430)\" d=\"M797.234 1481.64 L813.553 1481.64 L813.553 1485.58 L791.609 1485.58 L791.609 1481.64 Q794.271 1478.89 798.854 1474.26 Q803.461 1469.61 804.641 1468.27 Q806.887 1465.74 807.766 1464.01 Q808.669 1462.25 808.669 1460.56 Q808.669 1457.8 806.725 1456.07 Q804.803 1454.33 801.701 1454.33 Q799.502 1454.33 797.049 1455.09 Q794.618 1455.86 791.84 1457.41 L791.84 1452.69 Q794.664 1451.55 797.118 1450.97 Q799.572 1450.39 801.609 1450.39 Q806.979 1450.39 810.174 1453.08 Q813.368 1455.77 813.368 1460.26 Q813.368 1462.39 812.558 1464.31 Q811.771 1466.2 809.664 1468.8 Q809.086 1469.47 805.984 1472.69 Q802.882 1475.88 797.234 1481.64 Z\" fill=\"#000000\" fill-rule=\"evenodd\" fill-opacity=\"1\" /><path clip-path=\"url(#clip430)\" d=\"M820.613 1470.7 L833.09 1470.7 L833.09 1474.49 L820.613 1474.49 L820.613 1470.7 Z\" fill=\"#000000\" fill-rule=\"evenodd\" fill-opacity=\"1\" /><path clip-path=\"url(#clip430)\" d=\"M850.474 1454.1 Q846.863 1454.1 845.035 1457.66 Q843.229 1461.2 843.229 1468.33 Q843.229 1475.44 845.035 1479.01 Q846.863 1482.55 850.474 1482.55 Q854.109 1482.55 855.914 1479.01 Q857.743 1475.44 857.743 1468.33 Q857.743 1461.2 855.914 1457.66 Q854.109 1454.1 850.474 1454.1 M850.474 1450.39 Q856.284 1450.39 859.34 1455 Q862.419 1459.58 862.419 1468.33 Q862.419 1477.06 859.34 1481.67 Q856.284 1486.25 850.474 1486.25 Q844.664 1486.25 841.585 1481.67 Q838.53 1477.06 838.53 1468.33 Q838.53 1459.58 841.585 1455 Q844.664 1450.39 850.474 1450.39 Z\" fill=\"#000000\" fill-rule=\"evenodd\" fill-opacity=\"1\" /><path clip-path=\"url(#clip430)\" d=\"M870.775 1484.86 L870.775 1480.6 Q872.534 1481.44 874.34 1481.88 Q876.145 1482.32 877.882 1482.32 Q882.511 1482.32 884.942 1479.21 Q887.395 1476.09 887.743 1469.75 Q886.4 1471.74 884.34 1472.8 Q882.28 1473.87 879.78 1473.87 Q874.595 1473.87 871.562 1470.74 Q868.553 1467.59 868.553 1462.15 Q868.553 1456.83 871.701 1453.61 Q874.849 1450.39 880.081 1450.39 Q886.076 1450.39 889.224 1455 Q892.395 1459.58 892.395 1468.33 Q892.395 1476.51 888.507 1481.39 Q884.641 1486.25 878.09 1486.25 Q876.331 1486.25 874.525 1485.9 Q872.72 1485.56 870.775 1484.86 M880.081 1470.21 Q883.229 1470.21 885.057 1468.06 Q886.909 1465.9 886.909 1462.15 Q886.909 1458.43 885.057 1456.27 Q883.229 1454.1 880.081 1454.1 Q876.932 1454.1 875.081 1456.27 Q873.252 1458.43 873.252 1462.15 Q873.252 1465.9 875.081 1468.06 Q876.932 1470.21 880.081 1470.21 Z\" fill=\"#000000\" fill-rule=\"evenodd\" fill-opacity=\"1\" /><path clip-path=\"url(#clip430)\" d=\"M898.043 1470.7 L910.52 1470.7 L910.52 1474.49 L898.043 1474.49 L898.043 1470.7 Z\" fill=\"#000000\" fill-rule=\"evenodd\" fill-opacity=\"1\" /><path clip-path=\"url(#clip430)\" d=\"M927.904 1454.1 Q924.293 1454.1 922.465 1457.66 Q920.659 1461.2 920.659 1468.33 Q920.659 1475.44 922.465 1479.01 Q924.293 1482.55 927.904 1482.55 Q931.539 1482.55 933.344 1479.01 Q935.173 1475.44 935.173 1468.33 Q935.173 1461.2 933.344 1457.66 Q931.539 1454.1 927.904 1454.1 M927.904 1450.39 Q933.715 1450.39 936.77 1455 Q939.849 1459.58 939.849 1468.33 Q939.849 1477.06 936.77 1481.67 Q933.715 1486.25 927.904 1486.25 Q922.094 1486.25 919.016 1481.67 Q915.96 1477.06 915.96 1468.33 Q915.96 1459.58 919.016 1455 Q922.094 1450.39 927.904 1450.39 Z\" fill=\"#000000\" fill-rule=\"evenodd\" fill-opacity=\"1\" /><path clip-path=\"url(#clip430)\" d=\"M948.205 1484.86 L948.205 1480.6 Q949.965 1481.44 951.77 1481.88 Q953.576 1482.32 955.312 1482.32 Q959.941 1482.32 962.372 1479.21 Q964.826 1476.09 965.173 1469.75 Q963.83 1471.74 961.77 1472.8 Q959.71 1473.87 957.21 1473.87 Q952.025 1473.87 948.992 1470.74 Q945.983 1467.59 945.983 1462.15 Q945.983 1456.83 949.131 1453.61 Q952.279 1450.39 957.511 1450.39 Q963.506 1450.39 966.654 1455 Q969.826 1459.58 969.826 1468.33 Q969.826 1476.51 965.937 1481.39 Q962.071 1486.25 955.52 1486.25 Q953.761 1486.25 951.955 1485.9 Q950.15 1485.56 948.205 1484.86 M957.511 1470.21 Q960.659 1470.21 962.488 1468.06 Q964.339 1465.9 964.339 1462.15 Q964.339 1458.43 962.488 1456.27 Q960.659 1454.1 957.511 1454.1 Q954.363 1454.1 952.511 1456.27 Q950.682 1458.43 950.682 1462.15 Q950.682 1465.9 952.511 1468.06 Q954.363 1470.21 957.511 1470.21 Z\" fill=\"#000000\" fill-rule=\"evenodd\" fill-opacity=\"1\" /><path clip-path=\"url(#clip430)\" d=\"M1262.13 1481.64 L1278.44 1481.64 L1278.44 1485.58 L1256.5 1485.58 L1256.5 1481.64 Q1259.16 1478.89 1263.75 1474.26 Q1268.35 1469.61 1269.53 1468.27 Q1271.78 1465.74 1272.66 1464.01 Q1273.56 1462.25 1273.56 1460.56 Q1273.56 1457.8 1271.62 1456.07 Q1269.69 1454.33 1266.59 1454.33 Q1264.39 1454.33 1261.94 1455.09 Q1259.51 1455.86 1256.73 1457.41 L1256.73 1452.69 Q1259.56 1451.55 1262.01 1450.97 Q1264.46 1450.39 1266.5 1450.39 Q1271.87 1450.39 1275.07 1453.08 Q1278.26 1455.77 1278.26 1460.26 Q1278.26 1462.39 1277.45 1464.31 Q1276.66 1466.2 1274.56 1468.8 Q1273.98 1469.47 1270.88 1472.69 Q1267.77 1475.88 1262.13 1481.64 Z\" fill=\"#000000\" fill-rule=\"evenodd\" fill-opacity=\"1\" /><path clip-path=\"url(#clip430)\" d=\"M1298.26 1454.1 Q1294.65 1454.1 1292.82 1457.66 Q1291.01 1461.2 1291.01 1468.33 Q1291.01 1475.44 1292.82 1479.01 Q1294.65 1482.55 1298.26 1482.55 Q1301.89 1482.55 1303.7 1479.01 Q1305.53 1475.44 1305.53 1468.33 Q1305.53 1461.2 1303.7 1457.66 Q1301.89 1454.1 1298.26 1454.1 M1298.26 1450.39 Q1304.07 1450.39 1307.13 1455 Q1310.2 1459.58 1310.2 1468.33 Q1310.2 1477.06 1307.13 1481.67 Q1304.07 1486.25 1298.26 1486.25 Q1292.45 1486.25 1289.37 1481.67 Q1286.32 1477.06 1286.32 1468.33 Q1286.32 1459.58 1289.37 1455 Q1292.45 1450.39 1298.26 1450.39 Z\" fill=\"#000000\" fill-rule=\"evenodd\" fill-opacity=\"1\" /><path clip-path=\"url(#clip430)\" d=\"M1322.45 1481.64 L1338.77 1481.64 L1338.77 1485.58 L1316.82 1485.58 L1316.82 1481.64 Q1319.49 1478.89 1324.07 1474.26 Q1328.68 1469.61 1329.86 1468.27 Q1332.1 1465.74 1332.98 1464.01 Q1333.88 1462.25 1333.88 1460.56 Q1333.88 1457.8 1331.94 1456.07 Q1330.02 1454.33 1326.92 1454.33 Q1324.72 1454.33 1322.26 1455.09 Q1319.83 1455.86 1317.06 1457.41 L1317.06 1452.69 Q1319.88 1451.55 1322.33 1450.97 Q1324.79 1450.39 1326.82 1450.39 Q1332.19 1450.39 1335.39 1453.08 Q1338.58 1455.77 1338.58 1460.26 Q1338.58 1462.39 1337.77 1464.31 Q1336.99 1466.2 1334.88 1468.8 Q1334.3 1469.47 1331.2 1472.69 Q1328.1 1475.88 1322.45 1481.64 Z\" fill=\"#000000\" fill-rule=\"evenodd\" fill-opacity=\"1\" /><path clip-path=\"url(#clip430)\" d=\"M1352.61 1481.64 L1368.93 1481.64 L1368.93 1485.58 L1346.99 1485.58 L1346.99 1481.64 Q1349.65 1478.89 1354.23 1474.26 Q1358.84 1469.61 1360.02 1468.27 Q1362.26 1465.74 1363.14 1464.01 Q1364.05 1462.25 1364.05 1460.56 Q1364.05 1457.8 1362.1 1456.07 Q1360.18 1454.33 1357.08 1454.33 Q1354.88 1454.33 1352.43 1455.09 Q1350 1455.86 1347.22 1457.41 L1347.22 1452.69 Q1350.04 1451.55 1352.5 1450.97 Q1354.95 1450.39 1356.99 1450.39 Q1362.36 1450.39 1365.55 1453.08 Q1368.75 1455.77 1368.75 1460.26 Q1368.75 1462.39 1367.94 1464.31 Q1367.15 1466.2 1365.04 1468.8 Q1364.46 1469.47 1361.36 1472.69 Q1358.26 1475.88 1352.61 1481.64 Z\" fill=\"#000000\" fill-rule=\"evenodd\" fill-opacity=\"1\" /><path clip-path=\"url(#clip430)\" d=\"M1375.99 1470.7 L1388.47 1470.7 L1388.47 1474.49 L1375.99 1474.49 L1375.99 1470.7 Z\" fill=\"#000000\" fill-rule=\"evenodd\" fill-opacity=\"1\" /><path clip-path=\"url(#clip430)\" d=\"M1405.85 1454.1 Q1402.24 1454.1 1400.41 1457.66 Q1398.61 1461.2 1398.61 1468.33 Q1398.61 1475.44 1400.41 1479.01 Q1402.24 1482.55 1405.85 1482.55 Q1409.49 1482.55 1411.29 1479.01 Q1413.12 1475.44 1413.12 1468.33 Q1413.12 1461.2 1411.29 1457.66 Q1409.49 1454.1 1405.85 1454.1 M1405.85 1450.39 Q1411.66 1450.39 1414.72 1455 Q1417.8 1459.58 1417.8 1468.33 Q1417.8 1477.06 1414.72 1481.67 Q1411.66 1486.25 1405.85 1486.25 Q1400.04 1486.25 1396.96 1481.67 Q1393.91 1477.06 1393.91 1468.33 Q1393.91 1459.58 1396.96 1455 Q1400.04 1450.39 1405.85 1450.39 Z\" fill=\"#000000\" fill-rule=\"evenodd\" fill-opacity=\"1\" /><path clip-path=\"url(#clip430)\" d=\"M1426.15 1484.86 L1426.15 1480.6 Q1427.91 1481.44 1429.72 1481.88 Q1431.52 1482.32 1433.26 1482.32 Q1437.89 1482.32 1440.32 1479.21 Q1442.77 1476.09 1443.12 1469.75 Q1441.78 1471.74 1439.72 1472.8 Q1437.66 1473.87 1435.16 1473.87 Q1429.97 1473.87 1426.94 1470.74 Q1423.93 1467.59 1423.93 1462.15 Q1423.93 1456.83 1427.08 1453.61 Q1430.23 1450.39 1435.46 1450.39 Q1441.45 1450.39 1444.6 1455 Q1447.77 1459.58 1447.77 1468.33 Q1447.77 1476.51 1443.88 1481.39 Q1440.02 1486.25 1433.47 1486.25 Q1431.71 1486.25 1429.9 1485.9 Q1428.1 1485.56 1426.15 1484.86 M1435.46 1470.21 Q1438.61 1470.21 1440.43 1468.06 Q1442.29 1465.9 1442.29 1462.15 Q1442.29 1458.43 1440.43 1456.27 Q1438.61 1454.1 1435.46 1454.1 Q1432.31 1454.1 1430.46 1456.27 Q1428.63 1458.43 1428.63 1462.15 Q1428.63 1465.9 1430.46 1468.06 Q1432.31 1470.21 1435.46 1470.21 Z\" fill=\"#000000\" fill-rule=\"evenodd\" fill-opacity=\"1\" /><path clip-path=\"url(#clip430)\" d=\"M1453.42 1470.7 L1465.9 1470.7 L1465.9 1474.49 L1453.42 1474.49 L1453.42 1470.7 Z\" fill=\"#000000\" fill-rule=\"evenodd\" fill-opacity=\"1\" /><path clip-path=\"url(#clip430)\" d=\"M1474.09 1481.64 L1481.73 1481.64 L1481.73 1455.28 L1473.42 1456.95 L1473.42 1452.69 L1481.68 1451.02 L1486.36 1451.02 L1486.36 1481.64 L1494 1481.64 L1494 1485.58 L1474.09 1485.58 L1474.09 1481.64 Z\" fill=\"#000000\" fill-rule=\"evenodd\" fill-opacity=\"1\" /><path clip-path=\"url(#clip430)\" d=\"M1502.26 1451.02 L1524.49 1451.02 L1524.49 1453.01 L1511.94 1485.58 L1507.05 1485.58 L1518.86 1454.96 L1502.26 1454.96 L1502.26 1451.02 Z\" fill=\"#000000\" fill-rule=\"evenodd\" fill-opacity=\"1\" /><path clip-path=\"url(#clip430)\" d=\"M1817.19 1481.64 L1833.51 1481.64 L1833.51 1485.58 L1811.57 1485.58 L1811.57 1481.64 Q1814.23 1478.89 1818.81 1474.26 Q1823.42 1469.61 1824.6 1468.27 Q1826.84 1465.74 1827.72 1464.01 Q1828.63 1462.25 1828.63 1460.56 Q1828.63 1457.8 1826.68 1456.07 Q1824.76 1454.33 1821.66 1454.33 Q1819.46 1454.33 1817 1455.09 Q1814.57 1455.86 1811.8 1457.41 L1811.8 1452.69 Q1814.62 1451.55 1817.07 1450.97 Q1819.53 1450.39 1821.57 1450.39 Q1826.94 1450.39 1830.13 1453.08 Q1833.32 1455.77 1833.32 1460.26 Q1833.32 1462.39 1832.51 1464.31 Q1831.73 1466.2 1829.62 1468.8 Q1829.04 1469.47 1825.94 1472.69 Q1822.84 1475.88 1817.19 1481.64 Z\" fill=\"#000000\" fill-rule=\"evenodd\" fill-opacity=\"1\" /><path clip-path=\"url(#clip430)\" d=\"M1853.32 1454.1 Q1849.71 1454.1 1847.88 1457.66 Q1846.08 1461.2 1846.08 1468.33 Q1846.08 1475.44 1847.88 1479.01 Q1849.71 1482.55 1853.32 1482.55 Q1856.96 1482.55 1858.76 1479.01 Q1860.59 1475.44 1860.59 1468.33 Q1860.59 1461.2 1858.76 1457.66 Q1856.96 1454.1 1853.32 1454.1 M1853.32 1450.39 Q1859.13 1450.39 1862.19 1455 Q1865.27 1459.58 1865.27 1468.33 Q1865.27 1477.06 1862.19 1481.67 Q1859.13 1486.25 1853.32 1486.25 Q1847.51 1486.25 1844.44 1481.67 Q1841.38 1477.06 1841.38 1468.33 Q1841.38 1459.58 1844.44 1455 Q1847.51 1450.39 1853.32 1450.39 Z\" fill=\"#000000\" fill-rule=\"evenodd\" fill-opacity=\"1\" /><path clip-path=\"url(#clip430)\" d=\"M1877.51 1481.64 L1893.83 1481.64 L1893.83 1485.58 L1871.89 1485.58 L1871.89 1481.64 Q1874.55 1478.89 1879.13 1474.26 Q1883.74 1469.61 1884.92 1468.27 Q1887.17 1465.74 1888.05 1464.01 Q1888.95 1462.25 1888.95 1460.56 Q1888.95 1457.8 1887 1456.07 Q1885.08 1454.33 1881.98 1454.33 Q1879.78 1454.33 1877.33 1455.09 Q1874.9 1455.86 1872.12 1457.41 L1872.12 1452.69 Q1874.94 1451.55 1877.4 1450.97 Q1879.85 1450.39 1881.89 1450.39 Q1887.26 1450.39 1890.45 1453.08 Q1893.65 1455.77 1893.65 1460.26 Q1893.65 1462.39 1892.84 1464.31 Q1892.05 1466.2 1889.94 1468.8 Q1889.37 1469.47 1886.26 1472.69 Q1883.16 1475.88 1877.51 1481.64 Z\" fill=\"#000000\" fill-rule=\"evenodd\" fill-opacity=\"1\" /><path clip-path=\"url(#clip430)\" d=\"M1907.68 1481.64 L1924 1481.64 L1924 1485.58 L1902.05 1485.58 L1902.05 1481.64 Q1904.71 1478.89 1909.3 1474.26 Q1913.9 1469.61 1915.08 1468.27 Q1917.33 1465.74 1918.21 1464.01 Q1919.11 1462.25 1919.11 1460.56 Q1919.11 1457.8 1917.17 1456.07 Q1915.25 1454.33 1912.14 1454.33 Q1909.94 1454.33 1907.49 1455.09 Q1905.06 1455.86 1902.28 1457.41 L1902.28 1452.69 Q1905.11 1451.55 1907.56 1450.97 Q1910.01 1450.39 1912.05 1450.39 Q1917.42 1450.39 1920.62 1453.08 Q1923.81 1455.77 1923.81 1460.26 Q1923.81 1462.39 1923 1464.31 Q1922.21 1466.2 1920.11 1468.8 Q1919.53 1469.47 1916.43 1472.69 Q1913.32 1475.88 1907.68 1481.64 Z\" fill=\"#000000\" fill-rule=\"evenodd\" fill-opacity=\"1\" /><path clip-path=\"url(#clip430)\" d=\"M1931.06 1470.7 L1943.53 1470.7 L1943.53 1474.49 L1931.06 1474.49 L1931.06 1470.7 Z\" fill=\"#000000\" fill-rule=\"evenodd\" fill-opacity=\"1\" /><path clip-path=\"url(#clip430)\" d=\"M1960.92 1454.1 Q1957.31 1454.1 1955.48 1457.66 Q1953.67 1461.2 1953.67 1468.33 Q1953.67 1475.44 1955.48 1479.01 Q1957.31 1482.55 1960.92 1482.55 Q1964.55 1482.55 1966.36 1479.01 Q1968.18 1475.44 1968.18 1468.33 Q1968.18 1461.2 1966.36 1457.66 Q1964.55 1454.1 1960.92 1454.1 M1960.92 1450.39 Q1966.73 1450.39 1969.78 1455 Q1972.86 1459.58 1972.86 1468.33 Q1972.86 1477.06 1969.78 1481.67 Q1966.73 1486.25 1960.92 1486.25 Q1955.11 1486.25 1952.03 1481.67 Q1948.97 1477.06 1948.97 1468.33 Q1948.97 1459.58 1952.03 1455 Q1955.11 1450.39 1960.92 1450.39 Z\" fill=\"#000000\" fill-rule=\"evenodd\" fill-opacity=\"1\" /><path clip-path=\"url(#clip430)\" d=\"M1981.22 1484.86 L1981.22 1480.6 Q1982.98 1481.44 1984.78 1481.88 Q1986.59 1482.32 1988.32 1482.32 Q1992.95 1482.32 1995.38 1479.21 Q1997.84 1476.09 1998.18 1469.75 Q1996.84 1471.74 1994.78 1472.8 Q1992.72 1473.87 1990.22 1473.87 Q1985.04 1473.87 1982 1470.74 Q1978.99 1467.59 1978.99 1462.15 Q1978.99 1456.83 1982.14 1453.61 Q1985.29 1450.39 1990.52 1450.39 Q1996.52 1450.39 1999.67 1455 Q2002.84 1459.58 2002.84 1468.33 Q2002.84 1476.51 1998.95 1481.39 Q1995.08 1486.25 1988.53 1486.25 Q1986.77 1486.25 1984.97 1485.9 Q1983.16 1485.56 1981.22 1484.86 M1990.52 1470.21 Q1993.67 1470.21 1995.5 1468.06 Q1997.35 1465.9 1997.35 1462.15 Q1997.35 1458.43 1995.5 1456.27 Q1993.67 1454.1 1990.52 1454.1 Q1987.37 1454.1 1985.52 1456.27 Q1983.69 1458.43 1983.69 1462.15 Q1983.69 1465.9 1985.52 1468.06 Q1987.37 1470.21 1990.52 1470.21 Z\" fill=\"#000000\" fill-rule=\"evenodd\" fill-opacity=\"1\" /><path clip-path=\"url(#clip430)\" d=\"M2008.49 1470.7 L2020.96 1470.7 L2020.96 1474.49 L2008.49 1474.49 L2008.49 1470.7 Z\" fill=\"#000000\" fill-rule=\"evenodd\" fill-opacity=\"1\" /><path clip-path=\"url(#clip430)\" d=\"M2032.37 1481.64 L2048.69 1481.64 L2048.69 1485.58 L2026.75 1485.58 L2026.75 1481.64 Q2029.41 1478.89 2033.99 1474.26 Q2038.6 1469.61 2039.78 1468.27 Q2042.03 1465.74 2042.91 1464.01 Q2043.81 1462.25 2043.81 1460.56 Q2043.81 1457.8 2041.86 1456.07 Q2039.94 1454.33 2036.84 1454.33 Q2034.64 1454.33 2032.19 1455.09 Q2029.76 1455.86 2026.98 1457.41 L2026.98 1452.69 Q2029.8 1451.55 2032.26 1450.97 Q2034.71 1450.39 2036.75 1450.39 Q2042.12 1450.39 2045.31 1453.08 Q2048.51 1455.77 2048.51 1460.26 Q2048.51 1462.39 2047.7 1464.31 Q2046.91 1466.2 2044.8 1468.8 Q2044.23 1469.47 2041.12 1472.69 Q2038.02 1475.88 2032.37 1481.64 Z\" fill=\"#000000\" fill-rule=\"evenodd\" fill-opacity=\"1\" /><path clip-path=\"url(#clip430)\" d=\"M2058.55 1451.02 L2076.91 1451.02 L2076.91 1454.96 L2062.84 1454.96 L2062.84 1463.43 Q2063.86 1463.08 2064.87 1462.92 Q2065.89 1462.73 2066.91 1462.73 Q2072.7 1462.73 2076.08 1465.9 Q2079.46 1469.08 2079.46 1474.49 Q2079.46 1480.07 2075.99 1483.17 Q2072.51 1486.25 2066.19 1486.25 Q2064.02 1486.25 2061.75 1485.88 Q2059.5 1485.51 2057.1 1484.77 L2057.1 1480.07 Q2059.18 1481.2 2061.4 1481.76 Q2063.62 1482.32 2066.1 1482.32 Q2070.11 1482.32 2072.44 1480.21 Q2074.78 1478.1 2074.78 1474.49 Q2074.78 1470.88 2072.44 1468.77 Q2070.11 1466.67 2066.1 1466.67 Q2064.23 1466.67 2062.35 1467.08 Q2060.5 1467.5 2058.55 1468.38 L2058.55 1451.02 Z\" fill=\"#000000\" fill-rule=\"evenodd\" fill-opacity=\"1\" /><path clip-path=\"url(#clip430)\" d=\"M1219.89 1525.81 L1219.89 1562.76 L1227.66 1562.76 Q1237.49 1562.76 1242.04 1558.3 Q1246.63 1553.85 1246.63 1544.24 Q1246.63 1534.69 1242.04 1530.26 Q1237.49 1525.81 1227.66 1525.81 L1219.89 1525.81 M1213.46 1520.52 L1226.67 1520.52 Q1240.48 1520.52 1246.94 1526.28 Q1253.4 1532.01 1253.4 1544.24 Q1253.4 1556.52 1246.91 1562.28 Q1240.42 1568.04 1226.67 1568.04 L1213.46 1568.04 L1213.46 1520.52 Z\" fill=\"#000000\" fill-rule=\"evenodd\" fill-opacity=\"1\" /><path clip-path=\"url(#clip430)\" d=\"M1279.6 1550.12 Q1272.5 1550.12 1269.76 1551.75 Q1267.03 1553.37 1267.03 1557.29 Q1267.03 1560.4 1269.06 1562.25 Q1271.13 1564.07 1274.67 1564.07 Q1279.54 1564.07 1282.46 1560.63 Q1285.42 1557.16 1285.42 1551.43 L1285.42 1550.12 L1279.6 1550.12 M1291.28 1547.71 L1291.28 1568.04 L1285.42 1568.04 L1285.42 1562.63 Q1283.42 1565.88 1280.43 1567.44 Q1277.44 1568.97 1273.11 1568.97 Q1267.63 1568.97 1264.39 1565.91 Q1261.17 1562.82 1261.17 1557.67 Q1261.17 1551.65 1265.18 1548.6 Q1269.22 1545.54 1277.21 1545.54 L1285.42 1545.54 L1285.42 1544.97 Q1285.42 1540.93 1282.75 1538.73 Q1280.11 1536.5 1275.3 1536.5 Q1272.25 1536.5 1269.35 1537.23 Q1266.45 1537.97 1263.78 1539.43 L1263.78 1534.02 Q1267 1532.78 1270.02 1532.17 Q1273.04 1531.54 1275.91 1531.54 Q1283.64 1531.54 1287.46 1535.55 Q1291.28 1539.56 1291.28 1547.71 Z\" fill=\"#000000\" fill-rule=\"evenodd\" fill-opacity=\"1\" /><path clip-path=\"url(#clip430)\" d=\"M1309.14 1522.27 L1309.14 1532.4 L1321.2 1532.4 L1321.2 1536.95 L1309.14 1536.95 L1309.14 1556.3 Q1309.14 1560.66 1310.31 1561.9 Q1311.52 1563.14 1315.18 1563.14 L1321.2 1563.14 L1321.2 1568.04 L1315.18 1568.04 Q1308.4 1568.04 1305.83 1565.53 Q1303.25 1562.98 1303.25 1556.3 L1303.25 1536.95 L1298.95 1536.95 L1298.95 1532.4 L1303.25 1532.4 L1303.25 1522.27 L1309.14 1522.27 Z\" fill=\"#000000\" fill-rule=\"evenodd\" fill-opacity=\"1\" /><path clip-path=\"url(#clip430)\" d=\"M1359.39 1548.76 L1359.39 1551.62 L1332.47 1551.62 Q1332.85 1557.67 1336.1 1560.85 Q1339.37 1564 1345.2 1564 Q1348.57 1564 1351.72 1563.17 Q1354.91 1562.35 1358.03 1560.69 L1358.03 1566.23 Q1354.87 1567.57 1351.56 1568.27 Q1348.25 1568.97 1344.85 1568.97 Q1336.32 1568.97 1331.32 1564 Q1326.36 1559.04 1326.36 1550.57 Q1326.36 1541.82 1331.07 1536.69 Q1335.81 1531.54 1343.83 1531.54 Q1351.02 1531.54 1355.19 1536.18 Q1359.39 1540.8 1359.39 1548.76 M1353.54 1547.04 Q1353.47 1542.23 1350.83 1539.37 Q1348.22 1536.5 1343.89 1536.5 Q1338.99 1536.5 1336.03 1539.27 Q1333.1 1542.04 1332.66 1547.07 L1353.54 1547.04 Z\" fill=\"#000000\" fill-rule=\"evenodd\" fill-opacity=\"1\" /><polyline clip-path=\"url(#clip432)\" style=\"stroke:#000000; stroke-linecap:round; stroke-linejoin:round; stroke-width:2; stroke-opacity:0.1; fill:none\" points=\"220.098,1142.18 2352.76,1142.18 \"/>\n",
       "<polyline clip-path=\"url(#clip432)\" style=\"stroke:#000000; stroke-linecap:round; stroke-linejoin:round; stroke-width:2; stroke-opacity:0.1; fill:none\" points=\"220.098,829.849 2352.76,829.849 \"/>\n",
       "<polyline clip-path=\"url(#clip432)\" style=\"stroke:#000000; stroke-linecap:round; stroke-linejoin:round; stroke-width:2; stroke-opacity:0.1; fill:none\" points=\"220.098,517.516 2352.76,517.516 \"/>\n",
       "<polyline clip-path=\"url(#clip432)\" style=\"stroke:#000000; stroke-linecap:round; stroke-linejoin:round; stroke-width:2; stroke-opacity:0.1; fill:none\" points=\"220.098,205.184 2352.76,205.184 \"/>\n",
       "<polyline clip-path=\"url(#clip430)\" style=\"stroke:#000000; stroke-linecap:round; stroke-linejoin:round; stroke-width:4; stroke-opacity:1; fill:none\" points=\"220.098,1423.18 220.098,47.2441 \"/>\n",
       "<polyline clip-path=\"url(#clip430)\" style=\"stroke:#000000; stroke-linecap:round; stroke-linejoin:round; stroke-width:4; stroke-opacity:1; fill:none\" points=\"220.098,1142.18 238.995,1142.18 \"/>\n",
       "<polyline clip-path=\"url(#clip430)\" style=\"stroke:#000000; stroke-linecap:round; stroke-linejoin:round; stroke-width:4; stroke-opacity:1; fill:none\" points=\"220.098,829.849 238.995,829.849 \"/>\n",
       "<polyline clip-path=\"url(#clip430)\" style=\"stroke:#000000; stroke-linecap:round; stroke-linejoin:round; stroke-width:4; stroke-opacity:1; fill:none\" points=\"220.098,517.516 238.995,517.516 \"/>\n",
       "<polyline clip-path=\"url(#clip430)\" style=\"stroke:#000000; stroke-linecap:round; stroke-linejoin:round; stroke-width:4; stroke-opacity:1; fill:none\" points=\"220.098,205.184 238.995,205.184 \"/>\n",
       "<path clip-path=\"url(#clip430)\" d=\"M130.672 1128.97 L118.867 1147.42 L130.672 1147.42 L130.672 1128.97 M129.445 1124.9 L135.325 1124.9 L135.325 1147.42 L140.255 1147.42 L140.255 1151.31 L135.325 1151.31 L135.325 1159.46 L130.672 1159.46 L130.672 1151.31 L115.07 1151.31 L115.07 1146.8 L129.445 1124.9 Z\" fill=\"#000000\" fill-rule=\"evenodd\" fill-opacity=\"1\" /><path clip-path=\"url(#clip430)\" d=\"M147.987 1153.58 L152.871 1153.58 L152.871 1159.46 L147.987 1159.46 L147.987 1153.58 Z\" fill=\"#000000\" fill-rule=\"evenodd\" fill-opacity=\"1\" /><path clip-path=\"url(#clip430)\" d=\"M161.876 1124.9 L184.098 1124.9 L184.098 1126.89 L171.552 1159.46 L166.667 1159.46 L178.473 1128.84 L161.876 1128.84 L161.876 1124.9 Z\" fill=\"#000000\" fill-rule=\"evenodd\" fill-opacity=\"1\" /><path clip-path=\"url(#clip430)\" d=\"M129.862 816.643 L118.056 835.092 L129.862 835.092 L129.862 816.643 M128.635 812.569 L134.515 812.569 L134.515 835.092 L139.445 835.092 L139.445 838.981 L134.515 838.981 L134.515 847.129 L129.862 847.129 L129.862 838.981 L114.26 838.981 L114.26 834.467 L128.635 812.569 Z\" fill=\"#000000\" fill-rule=\"evenodd\" fill-opacity=\"1\" /><path clip-path=\"url(#clip430)\" d=\"M147.177 841.249 L152.061 841.249 L152.061 847.129 L147.177 847.129 L147.177 841.249 Z\" fill=\"#000000\" fill-rule=\"evenodd\" fill-opacity=\"1\" /><path clip-path=\"url(#clip430)\" d=\"M172.246 830.717 Q168.913 830.717 166.991 832.499 Q165.093 834.281 165.093 837.406 Q165.093 840.531 166.991 842.314 Q168.913 844.096 172.246 844.096 Q175.579 844.096 177.501 842.314 Q179.422 840.508 179.422 837.406 Q179.422 834.281 177.501 832.499 Q175.602 830.717 172.246 830.717 M167.57 828.726 Q164.561 827.985 162.871 825.925 Q161.204 823.865 161.204 820.902 Q161.204 816.758 164.144 814.351 Q167.107 811.944 172.246 811.944 Q177.408 811.944 180.348 814.351 Q183.288 816.758 183.288 820.902 Q183.288 823.865 181.598 825.925 Q179.931 827.985 176.945 828.726 Q180.325 829.513 182.2 831.805 Q184.098 834.096 184.098 837.406 Q184.098 842.43 181.019 845.115 Q177.964 847.8 172.246 847.8 Q166.528 847.8 163.45 845.115 Q160.394 842.43 160.394 837.406 Q160.394 834.096 162.292 831.805 Q164.19 829.513 167.57 828.726 M165.857 821.342 Q165.857 824.027 167.524 825.532 Q169.214 827.036 172.246 827.036 Q175.255 827.036 176.945 825.532 Q178.658 824.027 178.658 821.342 Q178.658 818.657 176.945 817.152 Q175.255 815.647 172.246 815.647 Q169.214 815.647 167.524 817.152 Q165.857 818.657 165.857 821.342 Z\" fill=\"#000000\" fill-rule=\"evenodd\" fill-opacity=\"1\" /><path clip-path=\"url(#clip430)\" d=\"M129.955 504.31 L118.149 522.759 L129.955 522.759 L129.955 504.31 M128.728 500.236 L134.607 500.236 L134.607 522.759 L139.538 522.759 L139.538 526.648 L134.607 526.648 L134.607 534.796 L129.955 534.796 L129.955 526.648 L114.353 526.648 L114.353 522.134 L128.728 500.236 Z\" fill=\"#000000\" fill-rule=\"evenodd\" fill-opacity=\"1\" /><path clip-path=\"url(#clip430)\" d=\"M147.269 528.917 L152.153 528.917 L152.153 534.796 L147.269 534.796 L147.269 528.917 Z\" fill=\"#000000\" fill-rule=\"evenodd\" fill-opacity=\"1\" /><path clip-path=\"url(#clip430)\" d=\"M162.477 534.079 L162.477 529.82 Q164.237 530.653 166.042 531.093 Q167.848 531.533 169.584 531.533 Q174.214 531.533 176.644 528.431 Q179.098 525.306 179.445 518.963 Q178.102 520.954 176.042 522.019 Q173.982 523.084 171.482 523.084 Q166.297 523.084 163.265 519.959 Q160.255 516.81 160.255 511.371 Q160.255 506.047 163.403 502.829 Q166.552 499.611 171.783 499.611 Q177.778 499.611 180.926 504.218 Q184.098 508.801 184.098 517.551 Q184.098 525.722 180.209 530.607 Q176.343 535.468 169.792 535.468 Q168.033 535.468 166.227 535.121 Q164.422 534.773 162.477 534.079 M171.783 519.426 Q174.931 519.426 176.76 517.273 Q178.612 515.121 178.612 511.371 Q178.612 507.644 176.76 505.491 Q174.931 503.315 171.783 503.315 Q168.635 503.315 166.783 505.491 Q164.954 507.644 164.954 511.371 Q164.954 515.121 166.783 517.273 Q168.635 519.426 171.783 519.426 Z\" fill=\"#000000\" fill-rule=\"evenodd\" fill-opacity=\"1\" /><path clip-path=\"url(#clip430)\" d=\"M116.968 187.904 L135.325 187.904 L135.325 191.839 L121.251 191.839 L121.251 200.312 Q122.269 199.964 123.288 199.802 Q124.306 199.617 125.325 199.617 Q131.112 199.617 134.492 202.788 Q137.871 205.96 137.871 211.376 Q137.871 216.955 134.399 220.057 Q130.927 223.136 124.607 223.136 Q122.431 223.136 120.163 222.765 Q117.918 222.395 115.51 221.654 L115.51 216.955 Q117.593 218.089 119.816 218.645 Q122.038 219.2 124.515 219.2 Q128.519 219.2 130.857 217.094 Q133.195 214.987 133.195 211.376 Q133.195 207.765 130.857 205.659 Q128.519 203.552 124.515 203.552 Q122.64 203.552 120.765 203.969 Q118.913 204.386 116.968 205.265 L116.968 187.904 Z\" fill=\"#000000\" fill-rule=\"evenodd\" fill-opacity=\"1\" /><path clip-path=\"url(#clip430)\" d=\"M147.084 216.585 L151.968 216.585 L151.968 222.464 L147.084 222.464 L147.084 216.585 Z\" fill=\"#000000\" fill-rule=\"evenodd\" fill-opacity=\"1\" /><path clip-path=\"url(#clip430)\" d=\"M172.153 190.983 Q168.542 190.983 166.714 194.548 Q164.908 198.089 164.908 205.219 Q164.908 212.325 166.714 215.89 Q168.542 219.432 172.153 219.432 Q175.788 219.432 177.593 215.89 Q179.422 212.325 179.422 205.219 Q179.422 198.089 177.593 194.548 Q175.788 190.983 172.153 190.983 M172.153 187.279 Q177.964 187.279 181.019 191.886 Q184.098 196.469 184.098 205.219 Q184.098 213.946 181.019 218.552 Q177.964 223.136 172.153 223.136 Q166.343 223.136 163.265 218.552 Q160.209 213.946 160.209 205.219 Q160.209 196.469 163.265 191.886 Q166.343 187.279 172.153 187.279 Z\" fill=\"#000000\" fill-rule=\"evenodd\" fill-opacity=\"1\" /><path clip-path=\"url(#clip430)\" d=\"M21.7677 866.473 L39.6235 866.473 L39.6235 858.388 Q39.6235 853.901 37.3 851.45 Q34.9765 848.999 30.6797 848.999 Q26.4147 848.999 24.0912 851.45 Q21.7677 853.901 21.7677 858.388 L21.7677 866.473 M16.4842 872.902 L16.4842 858.388 Q16.4842 850.399 20.1126 846.325 Q23.7092 842.219 30.6797 842.219 Q37.7138 842.219 41.3104 846.325 Q44.907 850.399 44.907 858.388 L44.907 866.473 L64.0042 866.473 L64.0042 872.902 L16.4842 872.902 Z\" fill=\"#000000\" fill-rule=\"evenodd\" fill-opacity=\"1\" /><path clip-path=\"url(#clip430)\" d=\"M16.4842 833.594 L16.4842 827.165 L58.5933 827.165 L58.5933 804.025 L64.0042 804.025 L64.0042 833.594 L16.4842 833.594 Z\" fill=\"#000000\" fill-rule=\"evenodd\" fill-opacity=\"1\" /><path clip-path=\"url(#clip430)\" d=\"M16.4842 797.278 L16.4842 788.62 L56.238 767.55 L16.4842 767.55 L16.4842 761.311 L64.0042 761.311 L64.0042 769.969 L24.2503 791.039 L64.0042 791.039 L64.0042 797.278 L16.4842 797.278 Z\" fill=\"#000000\" fill-rule=\"evenodd\" fill-opacity=\"1\" /><path clip-path=\"url(#clip430)\" d=\"M16.4842 738.363 L16.4842 732.952 L70.0516 749.503 L70.0516 754.914 L16.4842 738.363 Z\" fill=\"#000000\" fill-rule=\"evenodd\" fill-opacity=\"1\" /><path clip-path=\"url(#clip430)\" d=\"M16.4842 727.287 L16.4842 720.825 L45.3526 720.825 Q52.9915 720.825 56.3653 718.056 Q59.7073 715.287 59.7073 709.081 Q59.7073 702.906 56.3653 700.137 Q52.9915 697.368 45.3526 697.368 L16.4842 697.368 L16.4842 690.907 L46.1484 690.907 Q55.4423 690.907 60.1847 695.522 Q64.9272 700.105 64.9272 709.081 Q64.9272 718.088 60.1847 722.703 Q55.4423 727.287 46.1484 727.287 L16.4842 727.287 Z\" fill=\"#000000\" fill-rule=\"evenodd\" fill-opacity=\"1\" /><path clip-path=\"url(#clip430)\" d=\"M18.0438 650.357 L24.314 650.357 Q22.5634 654.017 21.704 657.264 Q20.8447 660.51 20.8447 663.534 Q20.8447 668.786 22.8817 671.65 Q24.9187 674.483 28.6745 674.483 Q31.8255 674.483 33.4488 672.605 Q35.0402 670.696 36.0269 665.412 L36.8226 661.529 Q38.1912 654.336 41.6605 650.93 Q45.098 647.493 50.8908 647.493 Q57.7976 647.493 61.3624 652.139 Q64.9272 656.755 64.9272 665.698 Q64.9272 669.072 64.1633 672.892 Q63.3994 676.679 61.9035 680.753 L55.2831 680.753 Q57.4793 676.838 58.5933 673.083 Q59.7073 669.327 59.7073 665.698 Q59.7073 660.192 57.543 657.2 Q55.3786 654.208 51.3682 654.208 Q47.8671 654.208 45.8937 656.373 Q43.9204 658.505 42.9337 663.407 L42.1698 667.322 Q40.7375 674.515 37.682 677.73 Q34.6264 680.944 29.1837 680.944 Q22.8817 680.944 19.2532 676.52 Q15.6248 672.064 15.6248 664.266 Q15.6248 660.924 16.2295 657.455 Q16.8343 653.986 18.0438 650.357 Z\" fill=\"#000000\" fill-rule=\"evenodd\" fill-opacity=\"1\" /><path clip-path=\"url(#clip430)\" d=\"M21.7677 631.037 L58.7206 631.037 L58.7206 623.271 Q58.7206 613.436 54.2646 608.885 Q49.8086 604.301 40.1964 604.301 Q30.6479 604.301 26.2237 608.885 Q21.7677 613.436 21.7677 623.271 L21.7677 631.037 M16.4842 637.467 L16.4842 624.258 Q16.4842 610.444 22.2451 603.983 Q27.9743 597.522 40.1964 597.522 Q52.4822 597.522 58.2432 604.015 Q64.0042 610.508 64.0042 624.258 L64.0042 637.467 L16.4842 637.467 Z\" fill=\"#000000\" fill-rule=\"evenodd\" fill-opacity=\"1\" /><polyline clip-path=\"url(#clip432)\" style=\"stroke:#009af9; stroke-linecap:round; stroke-linejoin:round; stroke-width:4; stroke-opacity:1; fill:none\" points=\"280.456,1154.99 349.833,1055.98 \"/>\n",
       "<polyline clip-path=\"url(#clip432)\" style=\"stroke:#009af9; stroke-linecap:round; stroke-linejoin:round; stroke-width:4; stroke-opacity:1; fill:none\" points=\"557.965,926.672 627.342,1027.55 696.72,959.779 766.097,1058.48 835.474,1267.43 \"/>\n",
       "<polyline clip-path=\"url(#clip432)\" style=\"stroke:#009af9; stroke-linecap:round; stroke-linejoin:round; stroke-width:4; stroke-opacity:1; fill:none\" points=\"1043.61,1384.24 1112.98,1341.14 1182.36,1069.41 1251.74,1079.09 1321.12,1022.25 \"/>\n",
       "<polyline clip-path=\"url(#clip432)\" style=\"stroke:#009af9; stroke-linecap:round; stroke-linejoin:round; stroke-width:4; stroke-opacity:1; fill:none\" points=\"1529.25,1062.54 1598.62,1105.33 1668,855.148 1737.38,722.719 1806.76,581.232 \"/>\n",
       "<polyline clip-path=\"url(#clip432)\" style=\"stroke:#009af9; stroke-linecap:round; stroke-linejoin:round; stroke-width:4; stroke-opacity:1; fill:none\" points=\"2014.89,482.223 2084.27,368.846 2153.64,86.1857 2223.02,102.739 2292.4,351.043 \"/>\n",
       "<line clip-path=\"url(#clip432)\" x1=\"280.456\" y1=\"1154.99\" x2=\"264.456\" y2=\"1138.99\" style=\"stroke:#009af9; stroke-width:3.2; stroke-opacity:1\"/>\n",
       "<line clip-path=\"url(#clip432)\" x1=\"280.456\" y1=\"1154.99\" x2=\"264.456\" y2=\"1170.99\" style=\"stroke:#009af9; stroke-width:3.2; stroke-opacity:1\"/>\n",
       "<line clip-path=\"url(#clip432)\" x1=\"280.456\" y1=\"1154.99\" x2=\"296.456\" y2=\"1170.99\" style=\"stroke:#009af9; stroke-width:3.2; stroke-opacity:1\"/>\n",
       "<line clip-path=\"url(#clip432)\" x1=\"280.456\" y1=\"1154.99\" x2=\"296.456\" y2=\"1138.99\" style=\"stroke:#009af9; stroke-width:3.2; stroke-opacity:1\"/>\n",
       "<line clip-path=\"url(#clip432)\" x1=\"349.833\" y1=\"1055.98\" x2=\"333.833\" y2=\"1039.98\" style=\"stroke:#009af9; stroke-width:3.2; stroke-opacity:1\"/>\n",
       "<line clip-path=\"url(#clip432)\" x1=\"349.833\" y1=\"1055.98\" x2=\"333.833\" y2=\"1071.98\" style=\"stroke:#009af9; stroke-width:3.2; stroke-opacity:1\"/>\n",
       "<line clip-path=\"url(#clip432)\" x1=\"349.833\" y1=\"1055.98\" x2=\"365.833\" y2=\"1071.98\" style=\"stroke:#009af9; stroke-width:3.2; stroke-opacity:1\"/>\n",
       "<line clip-path=\"url(#clip432)\" x1=\"349.833\" y1=\"1055.98\" x2=\"365.833\" y2=\"1039.98\" style=\"stroke:#009af9; stroke-width:3.2; stroke-opacity:1\"/>\n",
       "<line clip-path=\"url(#clip432)\" x1=\"557.965\" y1=\"926.672\" x2=\"541.965\" y2=\"910.672\" style=\"stroke:#009af9; stroke-width:3.2; stroke-opacity:1\"/>\n",
       "<line clip-path=\"url(#clip432)\" x1=\"557.965\" y1=\"926.672\" x2=\"541.965\" y2=\"942.672\" style=\"stroke:#009af9; stroke-width:3.2; stroke-opacity:1\"/>\n",
       "<line clip-path=\"url(#clip432)\" x1=\"557.965\" y1=\"926.672\" x2=\"573.965\" y2=\"942.672\" style=\"stroke:#009af9; stroke-width:3.2; stroke-opacity:1\"/>\n",
       "<line clip-path=\"url(#clip432)\" x1=\"557.965\" y1=\"926.672\" x2=\"573.965\" y2=\"910.672\" style=\"stroke:#009af9; stroke-width:3.2; stroke-opacity:1\"/>\n",
       "<line clip-path=\"url(#clip432)\" x1=\"627.342\" y1=\"1027.55\" x2=\"611.342\" y2=\"1011.55\" style=\"stroke:#009af9; stroke-width:3.2; stroke-opacity:1\"/>\n",
       "<line clip-path=\"url(#clip432)\" x1=\"627.342\" y1=\"1027.55\" x2=\"611.342\" y2=\"1043.55\" style=\"stroke:#009af9; stroke-width:3.2; stroke-opacity:1\"/>\n",
       "<line clip-path=\"url(#clip432)\" x1=\"627.342\" y1=\"1027.55\" x2=\"643.342\" y2=\"1043.55\" style=\"stroke:#009af9; stroke-width:3.2; stroke-opacity:1\"/>\n",
       "<line clip-path=\"url(#clip432)\" x1=\"627.342\" y1=\"1027.55\" x2=\"643.342\" y2=\"1011.55\" style=\"stroke:#009af9; stroke-width:3.2; stroke-opacity:1\"/>\n",
       "<line clip-path=\"url(#clip432)\" x1=\"696.72\" y1=\"959.779\" x2=\"680.72\" y2=\"943.779\" style=\"stroke:#009af9; stroke-width:3.2; stroke-opacity:1\"/>\n",
       "<line clip-path=\"url(#clip432)\" x1=\"696.72\" y1=\"959.779\" x2=\"680.72\" y2=\"975.779\" style=\"stroke:#009af9; stroke-width:3.2; stroke-opacity:1\"/>\n",
       "<line clip-path=\"url(#clip432)\" x1=\"696.72\" y1=\"959.779\" x2=\"712.72\" y2=\"975.779\" style=\"stroke:#009af9; stroke-width:3.2; stroke-opacity:1\"/>\n",
       "<line clip-path=\"url(#clip432)\" x1=\"696.72\" y1=\"959.779\" x2=\"712.72\" y2=\"943.779\" style=\"stroke:#009af9; stroke-width:3.2; stroke-opacity:1\"/>\n",
       "<line clip-path=\"url(#clip432)\" x1=\"766.097\" y1=\"1058.48\" x2=\"750.097\" y2=\"1042.48\" style=\"stroke:#009af9; stroke-width:3.2; stroke-opacity:1\"/>\n",
       "<line clip-path=\"url(#clip432)\" x1=\"766.097\" y1=\"1058.48\" x2=\"750.097\" y2=\"1074.48\" style=\"stroke:#009af9; stroke-width:3.2; stroke-opacity:1\"/>\n",
       "<line clip-path=\"url(#clip432)\" x1=\"766.097\" y1=\"1058.48\" x2=\"782.097\" y2=\"1074.48\" style=\"stroke:#009af9; stroke-width:3.2; stroke-opacity:1\"/>\n",
       "<line clip-path=\"url(#clip432)\" x1=\"766.097\" y1=\"1058.48\" x2=\"782.097\" y2=\"1042.48\" style=\"stroke:#009af9; stroke-width:3.2; stroke-opacity:1\"/>\n",
       "<line clip-path=\"url(#clip432)\" x1=\"835.474\" y1=\"1267.43\" x2=\"819.474\" y2=\"1251.43\" style=\"stroke:#009af9; stroke-width:3.2; stroke-opacity:1\"/>\n",
       "<line clip-path=\"url(#clip432)\" x1=\"835.474\" y1=\"1267.43\" x2=\"819.474\" y2=\"1283.43\" style=\"stroke:#009af9; stroke-width:3.2; stroke-opacity:1\"/>\n",
       "<line clip-path=\"url(#clip432)\" x1=\"835.474\" y1=\"1267.43\" x2=\"851.474\" y2=\"1283.43\" style=\"stroke:#009af9; stroke-width:3.2; stroke-opacity:1\"/>\n",
       "<line clip-path=\"url(#clip432)\" x1=\"835.474\" y1=\"1267.43\" x2=\"851.474\" y2=\"1251.43\" style=\"stroke:#009af9; stroke-width:3.2; stroke-opacity:1\"/>\n",
       "<line clip-path=\"url(#clip432)\" x1=\"1043.61\" y1=\"1384.24\" x2=\"1027.61\" y2=\"1368.24\" style=\"stroke:#009af9; stroke-width:3.2; stroke-opacity:1\"/>\n",
       "<line clip-path=\"url(#clip432)\" x1=\"1043.61\" y1=\"1384.24\" x2=\"1027.61\" y2=\"1400.24\" style=\"stroke:#009af9; stroke-width:3.2; stroke-opacity:1\"/>\n",
       "<line clip-path=\"url(#clip432)\" x1=\"1043.61\" y1=\"1384.24\" x2=\"1059.61\" y2=\"1400.24\" style=\"stroke:#009af9; stroke-width:3.2; stroke-opacity:1\"/>\n",
       "<line clip-path=\"url(#clip432)\" x1=\"1043.61\" y1=\"1384.24\" x2=\"1059.61\" y2=\"1368.24\" style=\"stroke:#009af9; stroke-width:3.2; stroke-opacity:1\"/>\n",
       "<line clip-path=\"url(#clip432)\" x1=\"1112.98\" y1=\"1341.14\" x2=\"1096.98\" y2=\"1325.14\" style=\"stroke:#009af9; stroke-width:3.2; stroke-opacity:1\"/>\n",
       "<line clip-path=\"url(#clip432)\" x1=\"1112.98\" y1=\"1341.14\" x2=\"1096.98\" y2=\"1357.14\" style=\"stroke:#009af9; stroke-width:3.2; stroke-opacity:1\"/>\n",
       "<line clip-path=\"url(#clip432)\" x1=\"1112.98\" y1=\"1341.14\" x2=\"1128.98\" y2=\"1357.14\" style=\"stroke:#009af9; stroke-width:3.2; stroke-opacity:1\"/>\n",
       "<line clip-path=\"url(#clip432)\" x1=\"1112.98\" y1=\"1341.14\" x2=\"1128.98\" y2=\"1325.14\" style=\"stroke:#009af9; stroke-width:3.2; stroke-opacity:1\"/>\n",
       "<line clip-path=\"url(#clip432)\" x1=\"1182.36\" y1=\"1069.41\" x2=\"1166.36\" y2=\"1053.41\" style=\"stroke:#009af9; stroke-width:3.2; stroke-opacity:1\"/>\n",
       "<line clip-path=\"url(#clip432)\" x1=\"1182.36\" y1=\"1069.41\" x2=\"1166.36\" y2=\"1085.41\" style=\"stroke:#009af9; stroke-width:3.2; stroke-opacity:1\"/>\n",
       "<line clip-path=\"url(#clip432)\" x1=\"1182.36\" y1=\"1069.41\" x2=\"1198.36\" y2=\"1085.41\" style=\"stroke:#009af9; stroke-width:3.2; stroke-opacity:1\"/>\n",
       "<line clip-path=\"url(#clip432)\" x1=\"1182.36\" y1=\"1069.41\" x2=\"1198.36\" y2=\"1053.41\" style=\"stroke:#009af9; stroke-width:3.2; stroke-opacity:1\"/>\n",
       "<line clip-path=\"url(#clip432)\" x1=\"1251.74\" y1=\"1079.09\" x2=\"1235.74\" y2=\"1063.09\" style=\"stroke:#009af9; stroke-width:3.2; stroke-opacity:1\"/>\n",
       "<line clip-path=\"url(#clip432)\" x1=\"1251.74\" y1=\"1079.09\" x2=\"1235.74\" y2=\"1095.09\" style=\"stroke:#009af9; stroke-width:3.2; stroke-opacity:1\"/>\n",
       "<line clip-path=\"url(#clip432)\" x1=\"1251.74\" y1=\"1079.09\" x2=\"1267.74\" y2=\"1095.09\" style=\"stroke:#009af9; stroke-width:3.2; stroke-opacity:1\"/>\n",
       "<line clip-path=\"url(#clip432)\" x1=\"1251.74\" y1=\"1079.09\" x2=\"1267.74\" y2=\"1063.09\" style=\"stroke:#009af9; stroke-width:3.2; stroke-opacity:1\"/>\n",
       "<line clip-path=\"url(#clip432)\" x1=\"1321.12\" y1=\"1022.25\" x2=\"1305.12\" y2=\"1006.25\" style=\"stroke:#009af9; stroke-width:3.2; stroke-opacity:1\"/>\n",
       "<line clip-path=\"url(#clip432)\" x1=\"1321.12\" y1=\"1022.25\" x2=\"1305.12\" y2=\"1038.25\" style=\"stroke:#009af9; stroke-width:3.2; stroke-opacity:1\"/>\n",
       "<line clip-path=\"url(#clip432)\" x1=\"1321.12\" y1=\"1022.25\" x2=\"1337.12\" y2=\"1038.25\" style=\"stroke:#009af9; stroke-width:3.2; stroke-opacity:1\"/>\n",
       "<line clip-path=\"url(#clip432)\" x1=\"1321.12\" y1=\"1022.25\" x2=\"1337.12\" y2=\"1006.25\" style=\"stroke:#009af9; stroke-width:3.2; stroke-opacity:1\"/>\n",
       "<line clip-path=\"url(#clip432)\" x1=\"1529.25\" y1=\"1062.54\" x2=\"1513.25\" y2=\"1046.54\" style=\"stroke:#009af9; stroke-width:3.2; stroke-opacity:1\"/>\n",
       "<line clip-path=\"url(#clip432)\" x1=\"1529.25\" y1=\"1062.54\" x2=\"1513.25\" y2=\"1078.54\" style=\"stroke:#009af9; stroke-width:3.2; stroke-opacity:1\"/>\n",
       "<line clip-path=\"url(#clip432)\" x1=\"1529.25\" y1=\"1062.54\" x2=\"1545.25\" y2=\"1078.54\" style=\"stroke:#009af9; stroke-width:3.2; stroke-opacity:1\"/>\n",
       "<line clip-path=\"url(#clip432)\" x1=\"1529.25\" y1=\"1062.54\" x2=\"1545.25\" y2=\"1046.54\" style=\"stroke:#009af9; stroke-width:3.2; stroke-opacity:1\"/>\n",
       "<line clip-path=\"url(#clip432)\" x1=\"1598.62\" y1=\"1105.33\" x2=\"1582.62\" y2=\"1089.33\" style=\"stroke:#009af9; stroke-width:3.2; stroke-opacity:1\"/>\n",
       "<line clip-path=\"url(#clip432)\" x1=\"1598.62\" y1=\"1105.33\" x2=\"1582.62\" y2=\"1121.33\" style=\"stroke:#009af9; stroke-width:3.2; stroke-opacity:1\"/>\n",
       "<line clip-path=\"url(#clip432)\" x1=\"1598.62\" y1=\"1105.33\" x2=\"1614.62\" y2=\"1121.33\" style=\"stroke:#009af9; stroke-width:3.2; stroke-opacity:1\"/>\n",
       "<line clip-path=\"url(#clip432)\" x1=\"1598.62\" y1=\"1105.33\" x2=\"1614.62\" y2=\"1089.33\" style=\"stroke:#009af9; stroke-width:3.2; stroke-opacity:1\"/>\n",
       "<line clip-path=\"url(#clip432)\" x1=\"1668\" y1=\"855.148\" x2=\"1652\" y2=\"839.148\" style=\"stroke:#009af9; stroke-width:3.2; stroke-opacity:1\"/>\n",
       "<line clip-path=\"url(#clip432)\" x1=\"1668\" y1=\"855.148\" x2=\"1652\" y2=\"871.148\" style=\"stroke:#009af9; stroke-width:3.2; stroke-opacity:1\"/>\n",
       "<line clip-path=\"url(#clip432)\" x1=\"1668\" y1=\"855.148\" x2=\"1684\" y2=\"871.148\" style=\"stroke:#009af9; stroke-width:3.2; stroke-opacity:1\"/>\n",
       "<line clip-path=\"url(#clip432)\" x1=\"1668\" y1=\"855.148\" x2=\"1684\" y2=\"839.148\" style=\"stroke:#009af9; stroke-width:3.2; stroke-opacity:1\"/>\n",
       "<line clip-path=\"url(#clip432)\" x1=\"1737.38\" y1=\"722.719\" x2=\"1721.38\" y2=\"706.719\" style=\"stroke:#009af9; stroke-width:3.2; stroke-opacity:1\"/>\n",
       "<line clip-path=\"url(#clip432)\" x1=\"1737.38\" y1=\"722.719\" x2=\"1721.38\" y2=\"738.719\" style=\"stroke:#009af9; stroke-width:3.2; stroke-opacity:1\"/>\n",
       "<line clip-path=\"url(#clip432)\" x1=\"1737.38\" y1=\"722.719\" x2=\"1753.38\" y2=\"738.719\" style=\"stroke:#009af9; stroke-width:3.2; stroke-opacity:1\"/>\n",
       "<line clip-path=\"url(#clip432)\" x1=\"1737.38\" y1=\"722.719\" x2=\"1753.38\" y2=\"706.719\" style=\"stroke:#009af9; stroke-width:3.2; stroke-opacity:1\"/>\n",
       "<line clip-path=\"url(#clip432)\" x1=\"1806.76\" y1=\"581.232\" x2=\"1790.76\" y2=\"565.232\" style=\"stroke:#009af9; stroke-width:3.2; stroke-opacity:1\"/>\n",
       "<line clip-path=\"url(#clip432)\" x1=\"1806.76\" y1=\"581.232\" x2=\"1790.76\" y2=\"597.232\" style=\"stroke:#009af9; stroke-width:3.2; stroke-opacity:1\"/>\n",
       "<line clip-path=\"url(#clip432)\" x1=\"1806.76\" y1=\"581.232\" x2=\"1822.76\" y2=\"597.232\" style=\"stroke:#009af9; stroke-width:3.2; stroke-opacity:1\"/>\n",
       "<line clip-path=\"url(#clip432)\" x1=\"1806.76\" y1=\"581.232\" x2=\"1822.76\" y2=\"565.232\" style=\"stroke:#009af9; stroke-width:3.2; stroke-opacity:1\"/>\n",
       "<line clip-path=\"url(#clip432)\" x1=\"2014.89\" y1=\"482.223\" x2=\"1998.89\" y2=\"466.223\" style=\"stroke:#009af9; stroke-width:3.2; stroke-opacity:1\"/>\n",
       "<line clip-path=\"url(#clip432)\" x1=\"2014.89\" y1=\"482.223\" x2=\"1998.89\" y2=\"498.223\" style=\"stroke:#009af9; stroke-width:3.2; stroke-opacity:1\"/>\n",
       "<line clip-path=\"url(#clip432)\" x1=\"2014.89\" y1=\"482.223\" x2=\"2030.89\" y2=\"498.223\" style=\"stroke:#009af9; stroke-width:3.2; stroke-opacity:1\"/>\n",
       "<line clip-path=\"url(#clip432)\" x1=\"2014.89\" y1=\"482.223\" x2=\"2030.89\" y2=\"466.223\" style=\"stroke:#009af9; stroke-width:3.2; stroke-opacity:1\"/>\n",
       "<line clip-path=\"url(#clip432)\" x1=\"2084.27\" y1=\"368.846\" x2=\"2068.27\" y2=\"352.846\" style=\"stroke:#009af9; stroke-width:3.2; stroke-opacity:1\"/>\n",
       "<line clip-path=\"url(#clip432)\" x1=\"2084.27\" y1=\"368.846\" x2=\"2068.27\" y2=\"384.846\" style=\"stroke:#009af9; stroke-width:3.2; stroke-opacity:1\"/>\n",
       "<line clip-path=\"url(#clip432)\" x1=\"2084.27\" y1=\"368.846\" x2=\"2100.27\" y2=\"384.846\" style=\"stroke:#009af9; stroke-width:3.2; stroke-opacity:1\"/>\n",
       "<line clip-path=\"url(#clip432)\" x1=\"2084.27\" y1=\"368.846\" x2=\"2100.27\" y2=\"352.846\" style=\"stroke:#009af9; stroke-width:3.2; stroke-opacity:1\"/>\n",
       "<line clip-path=\"url(#clip432)\" x1=\"2153.64\" y1=\"86.1857\" x2=\"2137.64\" y2=\"70.1857\" style=\"stroke:#009af9; stroke-width:3.2; stroke-opacity:1\"/>\n",
       "<line clip-path=\"url(#clip432)\" x1=\"2153.64\" y1=\"86.1857\" x2=\"2137.64\" y2=\"102.186\" style=\"stroke:#009af9; stroke-width:3.2; stroke-opacity:1\"/>\n",
       "<line clip-path=\"url(#clip432)\" x1=\"2153.64\" y1=\"86.1857\" x2=\"2169.64\" y2=\"102.186\" style=\"stroke:#009af9; stroke-width:3.2; stroke-opacity:1\"/>\n",
       "<line clip-path=\"url(#clip432)\" x1=\"2153.64\" y1=\"86.1857\" x2=\"2169.64\" y2=\"70.1857\" style=\"stroke:#009af9; stroke-width:3.2; stroke-opacity:1\"/>\n",
       "<line clip-path=\"url(#clip432)\" x1=\"2223.02\" y1=\"102.739\" x2=\"2207.02\" y2=\"86.7393\" style=\"stroke:#009af9; stroke-width:3.2; stroke-opacity:1\"/>\n",
       "<line clip-path=\"url(#clip432)\" x1=\"2223.02\" y1=\"102.739\" x2=\"2207.02\" y2=\"118.739\" style=\"stroke:#009af9; stroke-width:3.2; stroke-opacity:1\"/>\n",
       "<line clip-path=\"url(#clip432)\" x1=\"2223.02\" y1=\"102.739\" x2=\"2239.02\" y2=\"118.739\" style=\"stroke:#009af9; stroke-width:3.2; stroke-opacity:1\"/>\n",
       "<line clip-path=\"url(#clip432)\" x1=\"2223.02\" y1=\"102.739\" x2=\"2239.02\" y2=\"86.7393\" style=\"stroke:#009af9; stroke-width:3.2; stroke-opacity:1\"/>\n",
       "<line clip-path=\"url(#clip432)\" x1=\"2292.4\" y1=\"351.043\" x2=\"2276.4\" y2=\"335.043\" style=\"stroke:#009af9; stroke-width:3.2; stroke-opacity:1\"/>\n",
       "<line clip-path=\"url(#clip432)\" x1=\"2292.4\" y1=\"351.043\" x2=\"2276.4\" y2=\"367.043\" style=\"stroke:#009af9; stroke-width:3.2; stroke-opacity:1\"/>\n",
       "<line clip-path=\"url(#clip432)\" x1=\"2292.4\" y1=\"351.043\" x2=\"2308.4\" y2=\"367.043\" style=\"stroke:#009af9; stroke-width:3.2; stroke-opacity:1\"/>\n",
       "<line clip-path=\"url(#clip432)\" x1=\"2292.4\" y1=\"351.043\" x2=\"2308.4\" y2=\"335.043\" style=\"stroke:#009af9; stroke-width:3.2; stroke-opacity:1\"/>\n",
       "</svg>\n"
      ]
     },
     "execution_count": 76,
     "metadata": {},
     "output_type": "execute_result"
    }
   ],
   "source": [
    "plot(dates, rates; xlabel=\"Date\", ylabel=\"PLN/USD\", legend=false, marker=:x)"
   ]
  },
  {
   "cell_type": "code",
   "execution_count": 81,
   "id": "f836f7f5",
   "metadata": {},
   "outputs": [
    {
     "data": {
      "text/plain": [
       "3-element BitVector:\n",
       " 0\n",
       " 1\n",
       " 0"
      ]
     },
     "execution_count": 81,
     "metadata": {},
     "output_type": "execute_result"
    }
   ],
   "source": [
    ".![true, false, true]\n",
    "\n",
    "# !.[true, false] # ????"
   ]
  },
  {
   "cell_type": "code",
   "execution_count": 82,
   "id": "49342c48",
   "metadata": {},
   "outputs": [
    {
     "data": {
      "text/plain": [
       "30-element BitVector:\n",
       " 1\n",
       " 1\n",
       " 0\n",
       " 0\n",
       " 1\n",
       " 1\n",
       " 1\n",
       " 1\n",
       " 1\n",
       " 0\n",
       " 0\n",
       " 1\n",
       " 1\n",
       " ⋮\n",
       " 1\n",
       " 1\n",
       " 1\n",
       " 1\n",
       " 1\n",
       " 0\n",
       " 0\n",
       " 1\n",
       " 1\n",
       " 1\n",
       " 1\n",
       " 1"
      ]
     },
     "execution_count": 82,
     "metadata": {},
     "output_type": "execute_result"
    }
   ],
   "source": [
    "has_rates = .!ismissing.(rates)"
   ]
  },
  {
   "cell_type": "markdown",
   "id": "2eb97eec",
   "metadata": {},
   "source": [
    "Unpacking:\n",
    "\n",
    "```julia\n",
    ".!ismissing.(rates)\n",
    "```\n",
    "\n",
    "* For a single value passed, !ismissing is a negation of the return value produced by the ismissing function\n",
    "* We need to prefix the bang (!) operator with a dot (.) to broadcast it\n",
    "* We need to suffix the dot (.) to the ismissing part"
   ]
  },
  {
   "cell_type": "code",
   "execution_count": 83,
   "id": "f3a2cf7c",
   "metadata": {},
   "outputs": [
    {
     "data": {
      "image/svg+xml": [
       "<?xml version=\"1.0\" encoding=\"utf-8\"?>\n",
       "<svg xmlns=\"http://www.w3.org/2000/svg\" xmlns:xlink=\"http://www.w3.org/1999/xlink\" width=\"600\" height=\"400\" viewBox=\"0 0 2400 1600\">\n",
       "<defs>\n",
       "  <clipPath id=\"clip470\">\n",
       "    <rect x=\"0\" y=\"0\" width=\"2400\" height=\"1600\"/>\n",
       "  </clipPath>\n",
       "</defs>\n",
       "<path clip-path=\"url(#clip470)\" d=\"M0 1600 L2400 1600 L2400 0 L0 0  Z\" fill=\"#ffffff\" fill-rule=\"evenodd\" fill-opacity=\"1\"/>\n",
       "<defs>\n",
       "  <clipPath id=\"clip471\">\n",
       "    <rect x=\"480\" y=\"0\" width=\"1681\" height=\"1600\"/>\n",
       "  </clipPath>\n",
       "</defs>\n",
       "<path clip-path=\"url(#clip470)\" d=\"M220.098 1423.18 L2352.76 1423.18 L2352.76 47.2441 L220.098 47.2441  Z\" fill=\"#ffffff\" fill-rule=\"evenodd\" fill-opacity=\"1\"/>\n",
       "<defs>\n",
       "  <clipPath id=\"clip472\">\n",
       "    <rect x=\"220\" y=\"47\" width=\"2134\" height=\"1377\"/>\n",
       "  </clipPath>\n",
       "</defs>\n",
       "<polyline clip-path=\"url(#clip472)\" style=\"stroke:#000000; stroke-linecap:round; stroke-linejoin:round; stroke-width:2; stroke-opacity:0.1; fill:none\" points=\"280.456,1423.18 280.456,47.2441 \"/>\n",
       "<polyline clip-path=\"url(#clip472)\" style=\"stroke:#000000; stroke-linecap:round; stroke-linejoin:round; stroke-width:2; stroke-opacity:0.1; fill:none\" points=\"835.474,1423.18 835.474,47.2441 \"/>\n",
       "<polyline clip-path=\"url(#clip472)\" style=\"stroke:#000000; stroke-linecap:round; stroke-linejoin:round; stroke-width:2; stroke-opacity:0.1; fill:none\" points=\"1390.49,1423.18 1390.49,47.2441 \"/>\n",
       "<polyline clip-path=\"url(#clip472)\" style=\"stroke:#000000; stroke-linecap:round; stroke-linejoin:round; stroke-width:2; stroke-opacity:0.1; fill:none\" points=\"1945.51,1423.18 1945.51,47.2441 \"/>\n",
       "<polyline clip-path=\"url(#clip470)\" style=\"stroke:#000000; stroke-linecap:round; stroke-linejoin:round; stroke-width:4; stroke-opacity:1; fill:none\" points=\"220.098,1423.18 2352.76,1423.18 \"/>\n",
       "<polyline clip-path=\"url(#clip470)\" style=\"stroke:#000000; stroke-linecap:round; stroke-linejoin:round; stroke-width:4; stroke-opacity:1; fill:none\" points=\"280.456,1423.18 280.456,1404.28 \"/>\n",
       "<polyline clip-path=\"url(#clip470)\" style=\"stroke:#000000; stroke-linecap:round; stroke-linejoin:round; stroke-width:4; stroke-opacity:1; fill:none\" points=\"835.474,1423.18 835.474,1404.28 \"/>\n",
       "<polyline clip-path=\"url(#clip470)\" style=\"stroke:#000000; stroke-linecap:round; stroke-linejoin:round; stroke-width:4; stroke-opacity:1; fill:none\" points=\"1390.49,1423.18 1390.49,1404.28 \"/>\n",
       "<polyline clip-path=\"url(#clip470)\" style=\"stroke:#000000; stroke-linecap:round; stroke-linejoin:round; stroke-width:4; stroke-opacity:1; fill:none\" points=\"1945.51,1423.18 1945.51,1404.28 \"/>\n",
       "<path clip-path=\"url(#clip470)\" d=\"M152.251 1481.64 L168.57 1481.64 L168.57 1485.58 L146.626 1485.58 L146.626 1481.64 Q149.288 1478.89 153.871 1474.26 Q158.477 1469.61 159.658 1468.27 Q161.903 1465.74 162.783 1464.01 Q163.686 1462.25 163.686 1460.56 Q163.686 1457.8 161.741 1456.07 Q159.82 1454.33 156.718 1454.33 Q154.519 1454.33 152.065 1455.09 Q149.635 1455.86 146.857 1457.41 L146.857 1452.69 Q149.681 1451.55 152.135 1450.97 Q154.589 1450.39 156.626 1450.39 Q161.996 1450.39 165.19 1453.08 Q168.385 1455.77 168.385 1460.26 Q168.385 1462.39 167.575 1464.31 Q166.788 1466.2 164.681 1468.8 Q164.102 1469.47 161.001 1472.69 Q157.899 1475.88 152.251 1481.64 Z\" fill=\"#000000\" fill-rule=\"evenodd\" fill-opacity=\"1\" /><path clip-path=\"url(#clip470)\" d=\"M188.385 1454.1 Q184.774 1454.1 182.945 1457.66 Q181.139 1461.2 181.139 1468.33 Q181.139 1475.44 182.945 1479.01 Q184.774 1482.55 188.385 1482.55 Q192.019 1482.55 193.825 1479.01 Q195.653 1475.44 195.653 1468.33 Q195.653 1461.2 193.825 1457.66 Q192.019 1454.1 188.385 1454.1 M188.385 1450.39 Q194.195 1450.39 197.25 1455 Q200.329 1459.58 200.329 1468.33 Q200.329 1477.06 197.25 1481.67 Q194.195 1486.25 188.385 1486.25 Q182.575 1486.25 179.496 1481.67 Q176.44 1477.06 176.44 1468.33 Q176.44 1459.58 179.496 1455 Q182.575 1450.39 188.385 1450.39 Z\" fill=\"#000000\" fill-rule=\"evenodd\" fill-opacity=\"1\" /><path clip-path=\"url(#clip470)\" d=\"M212.574 1481.64 L228.894 1481.64 L228.894 1485.58 L206.949 1485.58 L206.949 1481.64 Q209.611 1478.89 214.195 1474.26 Q218.801 1469.61 219.982 1468.27 Q222.227 1465.74 223.107 1464.01 Q224.01 1462.25 224.01 1460.56 Q224.01 1457.8 222.065 1456.07 Q220.144 1454.33 217.042 1454.33 Q214.843 1454.33 212.389 1455.09 Q209.959 1455.86 207.181 1457.41 L207.181 1452.69 Q210.005 1451.55 212.459 1450.97 Q214.912 1450.39 216.949 1450.39 Q222.32 1450.39 225.514 1453.08 Q228.709 1455.77 228.709 1460.26 Q228.709 1462.39 227.898 1464.31 Q227.111 1466.2 225.005 1468.8 Q224.426 1469.47 221.324 1472.69 Q218.223 1475.88 212.574 1481.64 Z\" fill=\"#000000\" fill-rule=\"evenodd\" fill-opacity=\"1\" /><path clip-path=\"url(#clip470)\" d=\"M242.736 1481.64 L259.056 1481.64 L259.056 1485.58 L237.111 1485.58 L237.111 1481.64 Q239.773 1478.89 244.357 1474.26 Q248.963 1469.61 250.144 1468.27 Q252.389 1465.74 253.269 1464.01 Q254.171 1462.25 254.171 1460.56 Q254.171 1457.8 252.227 1456.07 Q250.306 1454.33 247.204 1454.33 Q245.005 1454.33 242.551 1455.09 Q240.121 1455.86 237.343 1457.41 L237.343 1452.69 Q240.167 1451.55 242.621 1450.97 Q245.074 1450.39 247.111 1450.39 Q252.482 1450.39 255.676 1453.08 Q258.87 1455.77 258.87 1460.26 Q258.87 1462.39 258.06 1464.31 Q257.273 1466.2 255.167 1468.8 Q254.588 1469.47 251.486 1472.69 Q248.384 1475.88 242.736 1481.64 Z\" fill=\"#000000\" fill-rule=\"evenodd\" fill-opacity=\"1\" /><path clip-path=\"url(#clip470)\" d=\"M266.116 1470.7 L278.593 1470.7 L278.593 1474.49 L266.116 1474.49 L266.116 1470.7 Z\" fill=\"#000000\" fill-rule=\"evenodd\" fill-opacity=\"1\" /><path clip-path=\"url(#clip470)\" d=\"M295.977 1454.1 Q292.366 1454.1 290.537 1457.66 Q288.731 1461.2 288.731 1468.33 Q288.731 1475.44 290.537 1479.01 Q292.366 1482.55 295.977 1482.55 Q299.611 1482.55 301.417 1479.01 Q303.245 1475.44 303.245 1468.33 Q303.245 1461.2 301.417 1457.66 Q299.611 1454.1 295.977 1454.1 M295.977 1450.39 Q301.787 1450.39 304.842 1455 Q307.921 1459.58 307.921 1468.33 Q307.921 1477.06 304.842 1481.67 Q301.787 1486.25 295.977 1486.25 Q290.167 1486.25 287.088 1481.67 Q284.032 1477.06 284.032 1468.33 Q284.032 1459.58 287.088 1455 Q290.167 1450.39 295.977 1450.39 Z\" fill=\"#000000\" fill-rule=\"evenodd\" fill-opacity=\"1\" /><path clip-path=\"url(#clip470)\" d=\"M316.278 1484.86 L316.278 1480.6 Q318.037 1481.44 319.842 1481.88 Q321.648 1482.32 323.384 1482.32 Q328.014 1482.32 330.444 1479.21 Q332.898 1476.09 333.245 1469.75 Q331.902 1471.74 329.842 1472.8 Q327.782 1473.87 325.282 1473.87 Q320.097 1473.87 317.065 1470.74 Q314.055 1467.59 314.055 1462.15 Q314.055 1456.83 317.203 1453.61 Q320.352 1450.39 325.583 1450.39 Q331.578 1450.39 334.727 1455 Q337.898 1459.58 337.898 1468.33 Q337.898 1476.51 334.009 1481.39 Q330.143 1486.25 323.592 1486.25 Q321.833 1486.25 320.028 1485.9 Q318.222 1485.56 316.278 1484.86 M325.583 1470.21 Q328.731 1470.21 330.56 1468.06 Q332.412 1465.9 332.412 1462.15 Q332.412 1458.43 330.56 1456.27 Q328.731 1454.1 325.583 1454.1 Q322.435 1454.1 320.583 1456.27 Q318.754 1458.43 318.754 1462.15 Q318.754 1465.9 320.583 1468.06 Q322.435 1470.21 325.583 1470.21 Z\" fill=\"#000000\" fill-rule=\"evenodd\" fill-opacity=\"1\" /><path clip-path=\"url(#clip470)\" d=\"M343.546 1470.7 L356.023 1470.7 L356.023 1474.49 L343.546 1474.49 L343.546 1470.7 Z\" fill=\"#000000\" fill-rule=\"evenodd\" fill-opacity=\"1\" /><path clip-path=\"url(#clip470)\" d=\"M373.407 1454.1 Q369.796 1454.1 367.967 1457.66 Q366.162 1461.2 366.162 1468.33 Q366.162 1475.44 367.967 1479.01 Q369.796 1482.55 373.407 1482.55 Q377.041 1482.55 378.847 1479.01 Q380.675 1475.44 380.675 1468.33 Q380.675 1461.2 378.847 1457.66 Q377.041 1454.1 373.407 1454.1 M373.407 1450.39 Q379.217 1450.39 382.273 1455 Q385.351 1459.58 385.351 1468.33 Q385.351 1477.06 382.273 1481.67 Q379.217 1486.25 373.407 1486.25 Q367.597 1486.25 364.518 1481.67 Q361.463 1477.06 361.463 1468.33 Q361.463 1459.58 364.518 1455 Q367.597 1450.39 373.407 1450.39 Z\" fill=\"#000000\" fill-rule=\"evenodd\" fill-opacity=\"1\" /><path clip-path=\"url(#clip470)\" d=\"M394.379 1481.64 L402.018 1481.64 L402.018 1455.28 L393.708 1456.95 L393.708 1452.69 L401.972 1451.02 L406.647 1451.02 L406.647 1481.64 L414.286 1481.64 L414.286 1485.58 L394.379 1485.58 L394.379 1481.64 Z\" fill=\"#000000\" fill-rule=\"evenodd\" fill-opacity=\"1\" /><path clip-path=\"url(#clip470)\" d=\"M706.748 1481.64 L723.068 1481.64 L723.068 1485.58 L701.123 1485.58 L701.123 1481.64 Q703.785 1478.89 708.369 1474.26 Q712.975 1469.61 714.156 1468.27 Q716.401 1465.74 717.281 1464.01 Q718.183 1462.25 718.183 1460.56 Q718.183 1457.8 716.239 1456.07 Q714.318 1454.33 711.216 1454.33 Q709.017 1454.33 706.563 1455.09 Q704.132 1455.86 701.355 1457.41 L701.355 1452.69 Q704.179 1451.55 706.632 1450.97 Q709.086 1450.39 711.123 1450.39 Q716.494 1450.39 719.688 1453.08 Q722.882 1455.77 722.882 1460.26 Q722.882 1462.39 722.072 1464.31 Q721.285 1466.2 719.179 1468.8 Q718.6 1469.47 715.498 1472.69 Q712.396 1475.88 706.748 1481.64 Z\" fill=\"#000000\" fill-rule=\"evenodd\" fill-opacity=\"1\" /><path clip-path=\"url(#clip470)\" d=\"M742.882 1454.1 Q739.271 1454.1 737.443 1457.66 Q735.637 1461.2 735.637 1468.33 Q735.637 1475.44 737.443 1479.01 Q739.271 1482.55 742.882 1482.55 Q746.517 1482.55 748.322 1479.01 Q750.151 1475.44 750.151 1468.33 Q750.151 1461.2 748.322 1457.66 Q746.517 1454.1 742.882 1454.1 M742.882 1450.39 Q748.692 1450.39 751.748 1455 Q754.827 1459.58 754.827 1468.33 Q754.827 1477.06 751.748 1481.67 Q748.692 1486.25 742.882 1486.25 Q737.072 1486.25 733.993 1481.67 Q730.938 1477.06 730.938 1468.33 Q730.938 1459.58 733.993 1455 Q737.072 1450.39 742.882 1450.39 Z\" fill=\"#000000\" fill-rule=\"evenodd\" fill-opacity=\"1\" /><path clip-path=\"url(#clip470)\" d=\"M767.072 1481.64 L783.391 1481.64 L783.391 1485.58 L761.447 1485.58 L761.447 1481.64 Q764.109 1478.89 768.692 1474.26 Q773.299 1469.61 774.479 1468.27 Q776.725 1465.74 777.604 1464.01 Q778.507 1462.25 778.507 1460.56 Q778.507 1457.8 776.563 1456.07 Q774.641 1454.33 771.54 1454.33 Q769.34 1454.33 766.887 1455.09 Q764.456 1455.86 761.678 1457.41 L761.678 1452.69 Q764.503 1451.55 766.956 1450.97 Q769.41 1450.39 771.447 1450.39 Q776.817 1450.39 780.012 1453.08 Q783.206 1455.77 783.206 1460.26 Q783.206 1462.39 782.396 1464.31 Q781.609 1466.2 779.502 1468.8 Q778.924 1469.47 775.822 1472.69 Q772.72 1475.88 767.072 1481.64 Z\" fill=\"#000000\" fill-rule=\"evenodd\" fill-opacity=\"1\" /><path clip-path=\"url(#clip470)\" d=\"M797.234 1481.64 L813.553 1481.64 L813.553 1485.58 L791.609 1485.58 L791.609 1481.64 Q794.271 1478.89 798.854 1474.26 Q803.461 1469.61 804.641 1468.27 Q806.887 1465.74 807.766 1464.01 Q808.669 1462.25 808.669 1460.56 Q808.669 1457.8 806.725 1456.07 Q804.803 1454.33 801.701 1454.33 Q799.502 1454.33 797.049 1455.09 Q794.618 1455.86 791.84 1457.41 L791.84 1452.69 Q794.664 1451.55 797.118 1450.97 Q799.572 1450.39 801.609 1450.39 Q806.979 1450.39 810.174 1453.08 Q813.368 1455.77 813.368 1460.26 Q813.368 1462.39 812.558 1464.31 Q811.771 1466.2 809.664 1468.8 Q809.086 1469.47 805.984 1472.69 Q802.882 1475.88 797.234 1481.64 Z\" fill=\"#000000\" fill-rule=\"evenodd\" fill-opacity=\"1\" /><path clip-path=\"url(#clip470)\" d=\"M820.613 1470.7 L833.09 1470.7 L833.09 1474.49 L820.613 1474.49 L820.613 1470.7 Z\" fill=\"#000000\" fill-rule=\"evenodd\" fill-opacity=\"1\" /><path clip-path=\"url(#clip470)\" d=\"M850.474 1454.1 Q846.863 1454.1 845.035 1457.66 Q843.229 1461.2 843.229 1468.33 Q843.229 1475.44 845.035 1479.01 Q846.863 1482.55 850.474 1482.55 Q854.109 1482.55 855.914 1479.01 Q857.743 1475.44 857.743 1468.33 Q857.743 1461.2 855.914 1457.66 Q854.109 1454.1 850.474 1454.1 M850.474 1450.39 Q856.284 1450.39 859.34 1455 Q862.419 1459.58 862.419 1468.33 Q862.419 1477.06 859.34 1481.67 Q856.284 1486.25 850.474 1486.25 Q844.664 1486.25 841.585 1481.67 Q838.53 1477.06 838.53 1468.33 Q838.53 1459.58 841.585 1455 Q844.664 1450.39 850.474 1450.39 Z\" fill=\"#000000\" fill-rule=\"evenodd\" fill-opacity=\"1\" /><path clip-path=\"url(#clip470)\" d=\"M870.775 1484.86 L870.775 1480.6 Q872.534 1481.44 874.34 1481.88 Q876.145 1482.32 877.882 1482.32 Q882.511 1482.32 884.942 1479.21 Q887.395 1476.09 887.743 1469.75 Q886.4 1471.74 884.34 1472.8 Q882.28 1473.87 879.78 1473.87 Q874.595 1473.87 871.562 1470.74 Q868.553 1467.59 868.553 1462.15 Q868.553 1456.83 871.701 1453.61 Q874.849 1450.39 880.081 1450.39 Q886.076 1450.39 889.224 1455 Q892.395 1459.58 892.395 1468.33 Q892.395 1476.51 888.507 1481.39 Q884.641 1486.25 878.09 1486.25 Q876.331 1486.25 874.525 1485.9 Q872.72 1485.56 870.775 1484.86 M880.081 1470.21 Q883.229 1470.21 885.057 1468.06 Q886.909 1465.9 886.909 1462.15 Q886.909 1458.43 885.057 1456.27 Q883.229 1454.1 880.081 1454.1 Q876.932 1454.1 875.081 1456.27 Q873.252 1458.43 873.252 1462.15 Q873.252 1465.9 875.081 1468.06 Q876.932 1470.21 880.081 1470.21 Z\" fill=\"#000000\" fill-rule=\"evenodd\" fill-opacity=\"1\" /><path clip-path=\"url(#clip470)\" d=\"M898.043 1470.7 L910.52 1470.7 L910.52 1474.49 L898.043 1474.49 L898.043 1470.7 Z\" fill=\"#000000\" fill-rule=\"evenodd\" fill-opacity=\"1\" /><path clip-path=\"url(#clip470)\" d=\"M927.904 1454.1 Q924.293 1454.1 922.465 1457.66 Q920.659 1461.2 920.659 1468.33 Q920.659 1475.44 922.465 1479.01 Q924.293 1482.55 927.904 1482.55 Q931.539 1482.55 933.344 1479.01 Q935.173 1475.44 935.173 1468.33 Q935.173 1461.2 933.344 1457.66 Q931.539 1454.1 927.904 1454.1 M927.904 1450.39 Q933.715 1450.39 936.77 1455 Q939.849 1459.58 939.849 1468.33 Q939.849 1477.06 936.77 1481.67 Q933.715 1486.25 927.904 1486.25 Q922.094 1486.25 919.016 1481.67 Q915.96 1477.06 915.96 1468.33 Q915.96 1459.58 919.016 1455 Q922.094 1450.39 927.904 1450.39 Z\" fill=\"#000000\" fill-rule=\"evenodd\" fill-opacity=\"1\" /><path clip-path=\"url(#clip470)\" d=\"M948.205 1484.86 L948.205 1480.6 Q949.965 1481.44 951.77 1481.88 Q953.576 1482.32 955.312 1482.32 Q959.941 1482.32 962.372 1479.21 Q964.826 1476.09 965.173 1469.75 Q963.83 1471.74 961.77 1472.8 Q959.71 1473.87 957.21 1473.87 Q952.025 1473.87 948.992 1470.74 Q945.983 1467.59 945.983 1462.15 Q945.983 1456.83 949.131 1453.61 Q952.279 1450.39 957.511 1450.39 Q963.506 1450.39 966.654 1455 Q969.826 1459.58 969.826 1468.33 Q969.826 1476.51 965.937 1481.39 Q962.071 1486.25 955.52 1486.25 Q953.761 1486.25 951.955 1485.9 Q950.15 1485.56 948.205 1484.86 M957.511 1470.21 Q960.659 1470.21 962.488 1468.06 Q964.339 1465.9 964.339 1462.15 Q964.339 1458.43 962.488 1456.27 Q960.659 1454.1 957.511 1454.1 Q954.363 1454.1 952.511 1456.27 Q950.682 1458.43 950.682 1462.15 Q950.682 1465.9 952.511 1468.06 Q954.363 1470.21 957.511 1470.21 Z\" fill=\"#000000\" fill-rule=\"evenodd\" fill-opacity=\"1\" /><path clip-path=\"url(#clip470)\" d=\"M1262.13 1481.64 L1278.44 1481.64 L1278.44 1485.58 L1256.5 1485.58 L1256.5 1481.64 Q1259.16 1478.89 1263.75 1474.26 Q1268.35 1469.61 1269.53 1468.27 Q1271.78 1465.74 1272.66 1464.01 Q1273.56 1462.25 1273.56 1460.56 Q1273.56 1457.8 1271.62 1456.07 Q1269.69 1454.33 1266.59 1454.33 Q1264.39 1454.33 1261.94 1455.09 Q1259.51 1455.86 1256.73 1457.41 L1256.73 1452.69 Q1259.56 1451.55 1262.01 1450.97 Q1264.46 1450.39 1266.5 1450.39 Q1271.87 1450.39 1275.07 1453.08 Q1278.26 1455.77 1278.26 1460.26 Q1278.26 1462.39 1277.45 1464.31 Q1276.66 1466.2 1274.56 1468.8 Q1273.98 1469.47 1270.88 1472.69 Q1267.77 1475.88 1262.13 1481.64 Z\" fill=\"#000000\" fill-rule=\"evenodd\" fill-opacity=\"1\" /><path clip-path=\"url(#clip470)\" d=\"M1298.26 1454.1 Q1294.65 1454.1 1292.82 1457.66 Q1291.01 1461.2 1291.01 1468.33 Q1291.01 1475.44 1292.82 1479.01 Q1294.65 1482.55 1298.26 1482.55 Q1301.89 1482.55 1303.7 1479.01 Q1305.53 1475.44 1305.53 1468.33 Q1305.53 1461.2 1303.7 1457.66 Q1301.89 1454.1 1298.26 1454.1 M1298.26 1450.39 Q1304.07 1450.39 1307.13 1455 Q1310.2 1459.58 1310.2 1468.33 Q1310.2 1477.06 1307.13 1481.67 Q1304.07 1486.25 1298.26 1486.25 Q1292.45 1486.25 1289.37 1481.67 Q1286.32 1477.06 1286.32 1468.33 Q1286.32 1459.58 1289.37 1455 Q1292.45 1450.39 1298.26 1450.39 Z\" fill=\"#000000\" fill-rule=\"evenodd\" fill-opacity=\"1\" /><path clip-path=\"url(#clip470)\" d=\"M1322.45 1481.64 L1338.77 1481.64 L1338.77 1485.58 L1316.82 1485.58 L1316.82 1481.64 Q1319.49 1478.89 1324.07 1474.26 Q1328.68 1469.61 1329.86 1468.27 Q1332.1 1465.74 1332.98 1464.01 Q1333.88 1462.25 1333.88 1460.56 Q1333.88 1457.8 1331.94 1456.07 Q1330.02 1454.33 1326.92 1454.33 Q1324.72 1454.33 1322.26 1455.09 Q1319.83 1455.86 1317.06 1457.41 L1317.06 1452.69 Q1319.88 1451.55 1322.33 1450.97 Q1324.79 1450.39 1326.82 1450.39 Q1332.19 1450.39 1335.39 1453.08 Q1338.58 1455.77 1338.58 1460.26 Q1338.58 1462.39 1337.77 1464.31 Q1336.99 1466.2 1334.88 1468.8 Q1334.3 1469.47 1331.2 1472.69 Q1328.1 1475.88 1322.45 1481.64 Z\" fill=\"#000000\" fill-rule=\"evenodd\" fill-opacity=\"1\" /><path clip-path=\"url(#clip470)\" d=\"M1352.61 1481.64 L1368.93 1481.64 L1368.93 1485.58 L1346.99 1485.58 L1346.99 1481.64 Q1349.65 1478.89 1354.23 1474.26 Q1358.84 1469.61 1360.02 1468.27 Q1362.26 1465.74 1363.14 1464.01 Q1364.05 1462.25 1364.05 1460.56 Q1364.05 1457.8 1362.1 1456.07 Q1360.18 1454.33 1357.08 1454.33 Q1354.88 1454.33 1352.43 1455.09 Q1350 1455.86 1347.22 1457.41 L1347.22 1452.69 Q1350.04 1451.55 1352.5 1450.97 Q1354.95 1450.39 1356.99 1450.39 Q1362.36 1450.39 1365.55 1453.08 Q1368.75 1455.77 1368.75 1460.26 Q1368.75 1462.39 1367.94 1464.31 Q1367.15 1466.2 1365.04 1468.8 Q1364.46 1469.47 1361.36 1472.69 Q1358.26 1475.88 1352.61 1481.64 Z\" fill=\"#000000\" fill-rule=\"evenodd\" fill-opacity=\"1\" /><path clip-path=\"url(#clip470)\" d=\"M1375.99 1470.7 L1388.47 1470.7 L1388.47 1474.49 L1375.99 1474.49 L1375.99 1470.7 Z\" fill=\"#000000\" fill-rule=\"evenodd\" fill-opacity=\"1\" /><path clip-path=\"url(#clip470)\" d=\"M1405.85 1454.1 Q1402.24 1454.1 1400.41 1457.66 Q1398.61 1461.2 1398.61 1468.33 Q1398.61 1475.44 1400.41 1479.01 Q1402.24 1482.55 1405.85 1482.55 Q1409.49 1482.55 1411.29 1479.01 Q1413.12 1475.44 1413.12 1468.33 Q1413.12 1461.2 1411.29 1457.66 Q1409.49 1454.1 1405.85 1454.1 M1405.85 1450.39 Q1411.66 1450.39 1414.72 1455 Q1417.8 1459.58 1417.8 1468.33 Q1417.8 1477.06 1414.72 1481.67 Q1411.66 1486.25 1405.85 1486.25 Q1400.04 1486.25 1396.96 1481.67 Q1393.91 1477.06 1393.91 1468.33 Q1393.91 1459.58 1396.96 1455 Q1400.04 1450.39 1405.85 1450.39 Z\" fill=\"#000000\" fill-rule=\"evenodd\" fill-opacity=\"1\" /><path clip-path=\"url(#clip470)\" d=\"M1426.15 1484.86 L1426.15 1480.6 Q1427.91 1481.44 1429.72 1481.88 Q1431.52 1482.32 1433.26 1482.32 Q1437.89 1482.32 1440.32 1479.21 Q1442.77 1476.09 1443.12 1469.75 Q1441.78 1471.74 1439.72 1472.8 Q1437.66 1473.87 1435.16 1473.87 Q1429.97 1473.87 1426.94 1470.74 Q1423.93 1467.59 1423.93 1462.15 Q1423.93 1456.83 1427.08 1453.61 Q1430.23 1450.39 1435.46 1450.39 Q1441.45 1450.39 1444.6 1455 Q1447.77 1459.58 1447.77 1468.33 Q1447.77 1476.51 1443.88 1481.39 Q1440.02 1486.25 1433.47 1486.25 Q1431.71 1486.25 1429.9 1485.9 Q1428.1 1485.56 1426.15 1484.86 M1435.46 1470.21 Q1438.61 1470.21 1440.43 1468.06 Q1442.29 1465.9 1442.29 1462.15 Q1442.29 1458.43 1440.43 1456.27 Q1438.61 1454.1 1435.46 1454.1 Q1432.31 1454.1 1430.46 1456.27 Q1428.63 1458.43 1428.63 1462.15 Q1428.63 1465.9 1430.46 1468.06 Q1432.31 1470.21 1435.46 1470.21 Z\" fill=\"#000000\" fill-rule=\"evenodd\" fill-opacity=\"1\" /><path clip-path=\"url(#clip470)\" d=\"M1453.42 1470.7 L1465.9 1470.7 L1465.9 1474.49 L1453.42 1474.49 L1453.42 1470.7 Z\" fill=\"#000000\" fill-rule=\"evenodd\" fill-opacity=\"1\" /><path clip-path=\"url(#clip470)\" d=\"M1474.09 1481.64 L1481.73 1481.64 L1481.73 1455.28 L1473.42 1456.95 L1473.42 1452.69 L1481.68 1451.02 L1486.36 1451.02 L1486.36 1481.64 L1494 1481.64 L1494 1485.58 L1474.09 1485.58 L1474.09 1481.64 Z\" fill=\"#000000\" fill-rule=\"evenodd\" fill-opacity=\"1\" /><path clip-path=\"url(#clip470)\" d=\"M1502.26 1451.02 L1524.49 1451.02 L1524.49 1453.01 L1511.94 1485.58 L1507.05 1485.58 L1518.86 1454.96 L1502.26 1454.96 L1502.26 1451.02 Z\" fill=\"#000000\" fill-rule=\"evenodd\" fill-opacity=\"1\" /><path clip-path=\"url(#clip470)\" d=\"M1817.19 1481.64 L1833.51 1481.64 L1833.51 1485.58 L1811.57 1485.58 L1811.57 1481.64 Q1814.23 1478.89 1818.81 1474.26 Q1823.42 1469.61 1824.6 1468.27 Q1826.84 1465.74 1827.72 1464.01 Q1828.63 1462.25 1828.63 1460.56 Q1828.63 1457.8 1826.68 1456.07 Q1824.76 1454.33 1821.66 1454.33 Q1819.46 1454.33 1817 1455.09 Q1814.57 1455.86 1811.8 1457.41 L1811.8 1452.69 Q1814.62 1451.55 1817.07 1450.97 Q1819.53 1450.39 1821.57 1450.39 Q1826.94 1450.39 1830.13 1453.08 Q1833.32 1455.77 1833.32 1460.26 Q1833.32 1462.39 1832.51 1464.31 Q1831.73 1466.2 1829.62 1468.8 Q1829.04 1469.47 1825.94 1472.69 Q1822.84 1475.88 1817.19 1481.64 Z\" fill=\"#000000\" fill-rule=\"evenodd\" fill-opacity=\"1\" /><path clip-path=\"url(#clip470)\" d=\"M1853.32 1454.1 Q1849.71 1454.1 1847.88 1457.66 Q1846.08 1461.2 1846.08 1468.33 Q1846.08 1475.44 1847.88 1479.01 Q1849.71 1482.55 1853.32 1482.55 Q1856.96 1482.55 1858.76 1479.01 Q1860.59 1475.44 1860.59 1468.33 Q1860.59 1461.2 1858.76 1457.66 Q1856.96 1454.1 1853.32 1454.1 M1853.32 1450.39 Q1859.13 1450.39 1862.19 1455 Q1865.27 1459.58 1865.27 1468.33 Q1865.27 1477.06 1862.19 1481.67 Q1859.13 1486.25 1853.32 1486.25 Q1847.51 1486.25 1844.44 1481.67 Q1841.38 1477.06 1841.38 1468.33 Q1841.38 1459.58 1844.44 1455 Q1847.51 1450.39 1853.32 1450.39 Z\" fill=\"#000000\" fill-rule=\"evenodd\" fill-opacity=\"1\" /><path clip-path=\"url(#clip470)\" d=\"M1877.51 1481.64 L1893.83 1481.64 L1893.83 1485.58 L1871.89 1485.58 L1871.89 1481.64 Q1874.55 1478.89 1879.13 1474.26 Q1883.74 1469.61 1884.92 1468.27 Q1887.17 1465.74 1888.05 1464.01 Q1888.95 1462.25 1888.95 1460.56 Q1888.95 1457.8 1887 1456.07 Q1885.08 1454.33 1881.98 1454.33 Q1879.78 1454.33 1877.33 1455.09 Q1874.9 1455.86 1872.12 1457.41 L1872.12 1452.69 Q1874.94 1451.55 1877.4 1450.97 Q1879.85 1450.39 1881.89 1450.39 Q1887.26 1450.39 1890.45 1453.08 Q1893.65 1455.77 1893.65 1460.26 Q1893.65 1462.39 1892.84 1464.31 Q1892.05 1466.2 1889.94 1468.8 Q1889.37 1469.47 1886.26 1472.69 Q1883.16 1475.88 1877.51 1481.64 Z\" fill=\"#000000\" fill-rule=\"evenodd\" fill-opacity=\"1\" /><path clip-path=\"url(#clip470)\" d=\"M1907.68 1481.64 L1924 1481.64 L1924 1485.58 L1902.05 1485.58 L1902.05 1481.64 Q1904.71 1478.89 1909.3 1474.26 Q1913.9 1469.61 1915.08 1468.27 Q1917.33 1465.74 1918.21 1464.01 Q1919.11 1462.25 1919.11 1460.56 Q1919.11 1457.8 1917.17 1456.07 Q1915.25 1454.33 1912.14 1454.33 Q1909.94 1454.33 1907.49 1455.09 Q1905.06 1455.86 1902.28 1457.41 L1902.28 1452.69 Q1905.11 1451.55 1907.56 1450.97 Q1910.01 1450.39 1912.05 1450.39 Q1917.42 1450.39 1920.62 1453.08 Q1923.81 1455.77 1923.81 1460.26 Q1923.81 1462.39 1923 1464.31 Q1922.21 1466.2 1920.11 1468.8 Q1919.53 1469.47 1916.43 1472.69 Q1913.32 1475.88 1907.68 1481.64 Z\" fill=\"#000000\" fill-rule=\"evenodd\" fill-opacity=\"1\" /><path clip-path=\"url(#clip470)\" d=\"M1931.06 1470.7 L1943.53 1470.7 L1943.53 1474.49 L1931.06 1474.49 L1931.06 1470.7 Z\" fill=\"#000000\" fill-rule=\"evenodd\" fill-opacity=\"1\" /><path clip-path=\"url(#clip470)\" d=\"M1960.92 1454.1 Q1957.31 1454.1 1955.48 1457.66 Q1953.67 1461.2 1953.67 1468.33 Q1953.67 1475.44 1955.48 1479.01 Q1957.31 1482.55 1960.92 1482.55 Q1964.55 1482.55 1966.36 1479.01 Q1968.18 1475.44 1968.18 1468.33 Q1968.18 1461.2 1966.36 1457.66 Q1964.55 1454.1 1960.92 1454.1 M1960.92 1450.39 Q1966.73 1450.39 1969.78 1455 Q1972.86 1459.58 1972.86 1468.33 Q1972.86 1477.06 1969.78 1481.67 Q1966.73 1486.25 1960.92 1486.25 Q1955.11 1486.25 1952.03 1481.67 Q1948.97 1477.06 1948.97 1468.33 Q1948.97 1459.58 1952.03 1455 Q1955.11 1450.39 1960.92 1450.39 Z\" fill=\"#000000\" fill-rule=\"evenodd\" fill-opacity=\"1\" /><path clip-path=\"url(#clip470)\" d=\"M1981.22 1484.86 L1981.22 1480.6 Q1982.98 1481.44 1984.78 1481.88 Q1986.59 1482.32 1988.32 1482.32 Q1992.95 1482.32 1995.38 1479.21 Q1997.84 1476.09 1998.18 1469.75 Q1996.84 1471.74 1994.78 1472.8 Q1992.72 1473.87 1990.22 1473.87 Q1985.04 1473.87 1982 1470.74 Q1978.99 1467.59 1978.99 1462.15 Q1978.99 1456.83 1982.14 1453.61 Q1985.29 1450.39 1990.52 1450.39 Q1996.52 1450.39 1999.67 1455 Q2002.84 1459.58 2002.84 1468.33 Q2002.84 1476.51 1998.95 1481.39 Q1995.08 1486.25 1988.53 1486.25 Q1986.77 1486.25 1984.97 1485.9 Q1983.16 1485.56 1981.22 1484.86 M1990.52 1470.21 Q1993.67 1470.21 1995.5 1468.06 Q1997.35 1465.9 1997.35 1462.15 Q1997.35 1458.43 1995.5 1456.27 Q1993.67 1454.1 1990.52 1454.1 Q1987.37 1454.1 1985.52 1456.27 Q1983.69 1458.43 1983.69 1462.15 Q1983.69 1465.9 1985.52 1468.06 Q1987.37 1470.21 1990.52 1470.21 Z\" fill=\"#000000\" fill-rule=\"evenodd\" fill-opacity=\"1\" /><path clip-path=\"url(#clip470)\" d=\"M2008.49 1470.7 L2020.96 1470.7 L2020.96 1474.49 L2008.49 1474.49 L2008.49 1470.7 Z\" fill=\"#000000\" fill-rule=\"evenodd\" fill-opacity=\"1\" /><path clip-path=\"url(#clip470)\" d=\"M2032.37 1481.64 L2048.69 1481.64 L2048.69 1485.58 L2026.75 1485.58 L2026.75 1481.64 Q2029.41 1478.89 2033.99 1474.26 Q2038.6 1469.61 2039.78 1468.27 Q2042.03 1465.74 2042.91 1464.01 Q2043.81 1462.25 2043.81 1460.56 Q2043.81 1457.8 2041.86 1456.07 Q2039.94 1454.33 2036.84 1454.33 Q2034.64 1454.33 2032.19 1455.09 Q2029.76 1455.86 2026.98 1457.41 L2026.98 1452.69 Q2029.8 1451.55 2032.26 1450.97 Q2034.71 1450.39 2036.75 1450.39 Q2042.12 1450.39 2045.31 1453.08 Q2048.51 1455.77 2048.51 1460.26 Q2048.51 1462.39 2047.7 1464.31 Q2046.91 1466.2 2044.8 1468.8 Q2044.23 1469.47 2041.12 1472.69 Q2038.02 1475.88 2032.37 1481.64 Z\" fill=\"#000000\" fill-rule=\"evenodd\" fill-opacity=\"1\" /><path clip-path=\"url(#clip470)\" d=\"M2058.55 1451.02 L2076.91 1451.02 L2076.91 1454.96 L2062.84 1454.96 L2062.84 1463.43 Q2063.86 1463.08 2064.87 1462.92 Q2065.89 1462.73 2066.91 1462.73 Q2072.7 1462.73 2076.08 1465.9 Q2079.46 1469.08 2079.46 1474.49 Q2079.46 1480.07 2075.99 1483.17 Q2072.51 1486.25 2066.19 1486.25 Q2064.02 1486.25 2061.75 1485.88 Q2059.5 1485.51 2057.1 1484.77 L2057.1 1480.07 Q2059.18 1481.2 2061.4 1481.76 Q2063.62 1482.32 2066.1 1482.32 Q2070.11 1482.32 2072.44 1480.21 Q2074.78 1478.1 2074.78 1474.49 Q2074.78 1470.88 2072.44 1468.77 Q2070.11 1466.67 2066.1 1466.67 Q2064.23 1466.67 2062.35 1467.08 Q2060.5 1467.5 2058.55 1468.38 L2058.55 1451.02 Z\" fill=\"#000000\" fill-rule=\"evenodd\" fill-opacity=\"1\" /><path clip-path=\"url(#clip470)\" d=\"M1219.89 1525.81 L1219.89 1562.76 L1227.66 1562.76 Q1237.49 1562.76 1242.04 1558.3 Q1246.63 1553.85 1246.63 1544.24 Q1246.63 1534.69 1242.04 1530.26 Q1237.49 1525.81 1227.66 1525.81 L1219.89 1525.81 M1213.46 1520.52 L1226.67 1520.52 Q1240.48 1520.52 1246.94 1526.28 Q1253.4 1532.01 1253.4 1544.24 Q1253.4 1556.52 1246.91 1562.28 Q1240.42 1568.04 1226.67 1568.04 L1213.46 1568.04 L1213.46 1520.52 Z\" fill=\"#000000\" fill-rule=\"evenodd\" fill-opacity=\"1\" /><path clip-path=\"url(#clip470)\" d=\"M1279.6 1550.12 Q1272.5 1550.12 1269.76 1551.75 Q1267.03 1553.37 1267.03 1557.29 Q1267.03 1560.4 1269.06 1562.25 Q1271.13 1564.07 1274.67 1564.07 Q1279.54 1564.07 1282.46 1560.63 Q1285.42 1557.16 1285.42 1551.43 L1285.42 1550.12 L1279.6 1550.12 M1291.28 1547.71 L1291.28 1568.04 L1285.42 1568.04 L1285.42 1562.63 Q1283.42 1565.88 1280.43 1567.44 Q1277.44 1568.97 1273.11 1568.97 Q1267.63 1568.97 1264.39 1565.91 Q1261.17 1562.82 1261.17 1557.67 Q1261.17 1551.65 1265.18 1548.6 Q1269.22 1545.54 1277.21 1545.54 L1285.42 1545.54 L1285.42 1544.97 Q1285.42 1540.93 1282.75 1538.73 Q1280.11 1536.5 1275.3 1536.5 Q1272.25 1536.5 1269.35 1537.23 Q1266.45 1537.97 1263.78 1539.43 L1263.78 1534.02 Q1267 1532.78 1270.02 1532.17 Q1273.04 1531.54 1275.91 1531.54 Q1283.64 1531.54 1287.46 1535.55 Q1291.28 1539.56 1291.28 1547.71 Z\" fill=\"#000000\" fill-rule=\"evenodd\" fill-opacity=\"1\" /><path clip-path=\"url(#clip470)\" d=\"M1309.14 1522.27 L1309.14 1532.4 L1321.2 1532.4 L1321.2 1536.95 L1309.14 1536.95 L1309.14 1556.3 Q1309.14 1560.66 1310.31 1561.9 Q1311.52 1563.14 1315.18 1563.14 L1321.2 1563.14 L1321.2 1568.04 L1315.18 1568.04 Q1308.4 1568.04 1305.83 1565.53 Q1303.25 1562.98 1303.25 1556.3 L1303.25 1536.95 L1298.95 1536.95 L1298.95 1532.4 L1303.25 1532.4 L1303.25 1522.27 L1309.14 1522.27 Z\" fill=\"#000000\" fill-rule=\"evenodd\" fill-opacity=\"1\" /><path clip-path=\"url(#clip470)\" d=\"M1359.39 1548.76 L1359.39 1551.62 L1332.47 1551.62 Q1332.85 1557.67 1336.1 1560.85 Q1339.37 1564 1345.2 1564 Q1348.57 1564 1351.72 1563.17 Q1354.91 1562.35 1358.03 1560.69 L1358.03 1566.23 Q1354.87 1567.57 1351.56 1568.27 Q1348.25 1568.97 1344.85 1568.97 Q1336.32 1568.97 1331.32 1564 Q1326.36 1559.04 1326.36 1550.57 Q1326.36 1541.82 1331.07 1536.69 Q1335.81 1531.54 1343.83 1531.54 Q1351.02 1531.54 1355.19 1536.18 Q1359.39 1540.8 1359.39 1548.76 M1353.54 1547.04 Q1353.47 1542.23 1350.83 1539.37 Q1348.22 1536.5 1343.89 1536.5 Q1338.99 1536.5 1336.03 1539.27 Q1333.1 1542.04 1332.66 1547.07 L1353.54 1547.04 Z\" fill=\"#000000\" fill-rule=\"evenodd\" fill-opacity=\"1\" /><polyline clip-path=\"url(#clip472)\" style=\"stroke:#000000; stroke-linecap:round; stroke-linejoin:round; stroke-width:2; stroke-opacity:0.1; fill:none\" points=\"220.098,1142.18 2352.76,1142.18 \"/>\n",
       "<polyline clip-path=\"url(#clip472)\" style=\"stroke:#000000; stroke-linecap:round; stroke-linejoin:round; stroke-width:2; stroke-opacity:0.1; fill:none\" points=\"220.098,829.849 2352.76,829.849 \"/>\n",
       "<polyline clip-path=\"url(#clip472)\" style=\"stroke:#000000; stroke-linecap:round; stroke-linejoin:round; stroke-width:2; stroke-opacity:0.1; fill:none\" points=\"220.098,517.516 2352.76,517.516 \"/>\n",
       "<polyline clip-path=\"url(#clip472)\" style=\"stroke:#000000; stroke-linecap:round; stroke-linejoin:round; stroke-width:2; stroke-opacity:0.1; fill:none\" points=\"220.098,205.184 2352.76,205.184 \"/>\n",
       "<polyline clip-path=\"url(#clip470)\" style=\"stroke:#000000; stroke-linecap:round; stroke-linejoin:round; stroke-width:4; stroke-opacity:1; fill:none\" points=\"220.098,1423.18 220.098,47.2441 \"/>\n",
       "<polyline clip-path=\"url(#clip470)\" style=\"stroke:#000000; stroke-linecap:round; stroke-linejoin:round; stroke-width:4; stroke-opacity:1; fill:none\" points=\"220.098,1142.18 238.995,1142.18 \"/>\n",
       "<polyline clip-path=\"url(#clip470)\" style=\"stroke:#000000; stroke-linecap:round; stroke-linejoin:round; stroke-width:4; stroke-opacity:1; fill:none\" points=\"220.098,829.849 238.995,829.849 \"/>\n",
       "<polyline clip-path=\"url(#clip470)\" style=\"stroke:#000000; stroke-linecap:round; stroke-linejoin:round; stroke-width:4; stroke-opacity:1; fill:none\" points=\"220.098,517.516 238.995,517.516 \"/>\n",
       "<polyline clip-path=\"url(#clip470)\" style=\"stroke:#000000; stroke-linecap:round; stroke-linejoin:round; stroke-width:4; stroke-opacity:1; fill:none\" points=\"220.098,205.184 238.995,205.184 \"/>\n",
       "<path clip-path=\"url(#clip470)\" d=\"M130.672 1128.97 L118.867 1147.42 L130.672 1147.42 L130.672 1128.97 M129.445 1124.9 L135.325 1124.9 L135.325 1147.42 L140.255 1147.42 L140.255 1151.31 L135.325 1151.31 L135.325 1159.46 L130.672 1159.46 L130.672 1151.31 L115.07 1151.31 L115.07 1146.8 L129.445 1124.9 Z\" fill=\"#000000\" fill-rule=\"evenodd\" fill-opacity=\"1\" /><path clip-path=\"url(#clip470)\" d=\"M147.987 1153.58 L152.871 1153.58 L152.871 1159.46 L147.987 1159.46 L147.987 1153.58 Z\" fill=\"#000000\" fill-rule=\"evenodd\" fill-opacity=\"1\" /><path clip-path=\"url(#clip470)\" d=\"M161.876 1124.9 L184.098 1124.9 L184.098 1126.89 L171.552 1159.46 L166.667 1159.46 L178.473 1128.84 L161.876 1128.84 L161.876 1124.9 Z\" fill=\"#000000\" fill-rule=\"evenodd\" fill-opacity=\"1\" /><path clip-path=\"url(#clip470)\" d=\"M129.862 816.643 L118.056 835.092 L129.862 835.092 L129.862 816.643 M128.635 812.569 L134.515 812.569 L134.515 835.092 L139.445 835.092 L139.445 838.981 L134.515 838.981 L134.515 847.129 L129.862 847.129 L129.862 838.981 L114.26 838.981 L114.26 834.467 L128.635 812.569 Z\" fill=\"#000000\" fill-rule=\"evenodd\" fill-opacity=\"1\" /><path clip-path=\"url(#clip470)\" d=\"M147.177 841.249 L152.061 841.249 L152.061 847.129 L147.177 847.129 L147.177 841.249 Z\" fill=\"#000000\" fill-rule=\"evenodd\" fill-opacity=\"1\" /><path clip-path=\"url(#clip470)\" d=\"M172.246 830.717 Q168.913 830.717 166.991 832.499 Q165.093 834.281 165.093 837.406 Q165.093 840.531 166.991 842.314 Q168.913 844.096 172.246 844.096 Q175.579 844.096 177.501 842.314 Q179.422 840.508 179.422 837.406 Q179.422 834.281 177.501 832.499 Q175.602 830.717 172.246 830.717 M167.57 828.726 Q164.561 827.985 162.871 825.925 Q161.204 823.865 161.204 820.902 Q161.204 816.758 164.144 814.351 Q167.107 811.944 172.246 811.944 Q177.408 811.944 180.348 814.351 Q183.288 816.758 183.288 820.902 Q183.288 823.865 181.598 825.925 Q179.931 827.985 176.945 828.726 Q180.325 829.513 182.2 831.805 Q184.098 834.096 184.098 837.406 Q184.098 842.43 181.019 845.115 Q177.964 847.8 172.246 847.8 Q166.528 847.8 163.45 845.115 Q160.394 842.43 160.394 837.406 Q160.394 834.096 162.292 831.805 Q164.19 829.513 167.57 828.726 M165.857 821.342 Q165.857 824.027 167.524 825.532 Q169.214 827.036 172.246 827.036 Q175.255 827.036 176.945 825.532 Q178.658 824.027 178.658 821.342 Q178.658 818.657 176.945 817.152 Q175.255 815.647 172.246 815.647 Q169.214 815.647 167.524 817.152 Q165.857 818.657 165.857 821.342 Z\" fill=\"#000000\" fill-rule=\"evenodd\" fill-opacity=\"1\" /><path clip-path=\"url(#clip470)\" d=\"M129.955 504.31 L118.149 522.759 L129.955 522.759 L129.955 504.31 M128.728 500.236 L134.607 500.236 L134.607 522.759 L139.538 522.759 L139.538 526.648 L134.607 526.648 L134.607 534.796 L129.955 534.796 L129.955 526.648 L114.353 526.648 L114.353 522.134 L128.728 500.236 Z\" fill=\"#000000\" fill-rule=\"evenodd\" fill-opacity=\"1\" /><path clip-path=\"url(#clip470)\" d=\"M147.269 528.917 L152.153 528.917 L152.153 534.796 L147.269 534.796 L147.269 528.917 Z\" fill=\"#000000\" fill-rule=\"evenodd\" fill-opacity=\"1\" /><path clip-path=\"url(#clip470)\" d=\"M162.477 534.079 L162.477 529.82 Q164.237 530.653 166.042 531.093 Q167.848 531.533 169.584 531.533 Q174.214 531.533 176.644 528.431 Q179.098 525.306 179.445 518.963 Q178.102 520.954 176.042 522.019 Q173.982 523.084 171.482 523.084 Q166.297 523.084 163.265 519.959 Q160.255 516.81 160.255 511.371 Q160.255 506.047 163.403 502.829 Q166.552 499.611 171.783 499.611 Q177.778 499.611 180.926 504.218 Q184.098 508.801 184.098 517.551 Q184.098 525.722 180.209 530.607 Q176.343 535.468 169.792 535.468 Q168.033 535.468 166.227 535.121 Q164.422 534.773 162.477 534.079 M171.783 519.426 Q174.931 519.426 176.76 517.273 Q178.612 515.121 178.612 511.371 Q178.612 507.644 176.76 505.491 Q174.931 503.315 171.783 503.315 Q168.635 503.315 166.783 505.491 Q164.954 507.644 164.954 511.371 Q164.954 515.121 166.783 517.273 Q168.635 519.426 171.783 519.426 Z\" fill=\"#000000\" fill-rule=\"evenodd\" fill-opacity=\"1\" /><path clip-path=\"url(#clip470)\" d=\"M116.968 187.904 L135.325 187.904 L135.325 191.839 L121.251 191.839 L121.251 200.312 Q122.269 199.964 123.288 199.802 Q124.306 199.617 125.325 199.617 Q131.112 199.617 134.492 202.788 Q137.871 205.96 137.871 211.376 Q137.871 216.955 134.399 220.057 Q130.927 223.136 124.607 223.136 Q122.431 223.136 120.163 222.765 Q117.918 222.395 115.51 221.654 L115.51 216.955 Q117.593 218.089 119.816 218.645 Q122.038 219.2 124.515 219.2 Q128.519 219.2 130.857 217.094 Q133.195 214.987 133.195 211.376 Q133.195 207.765 130.857 205.659 Q128.519 203.552 124.515 203.552 Q122.64 203.552 120.765 203.969 Q118.913 204.386 116.968 205.265 L116.968 187.904 Z\" fill=\"#000000\" fill-rule=\"evenodd\" fill-opacity=\"1\" /><path clip-path=\"url(#clip470)\" d=\"M147.084 216.585 L151.968 216.585 L151.968 222.464 L147.084 222.464 L147.084 216.585 Z\" fill=\"#000000\" fill-rule=\"evenodd\" fill-opacity=\"1\" /><path clip-path=\"url(#clip470)\" d=\"M172.153 190.983 Q168.542 190.983 166.714 194.548 Q164.908 198.089 164.908 205.219 Q164.908 212.325 166.714 215.89 Q168.542 219.432 172.153 219.432 Q175.788 219.432 177.593 215.89 Q179.422 212.325 179.422 205.219 Q179.422 198.089 177.593 194.548 Q175.788 190.983 172.153 190.983 M172.153 187.279 Q177.964 187.279 181.019 191.886 Q184.098 196.469 184.098 205.219 Q184.098 213.946 181.019 218.552 Q177.964 223.136 172.153 223.136 Q166.343 223.136 163.265 218.552 Q160.209 213.946 160.209 205.219 Q160.209 196.469 163.265 191.886 Q166.343 187.279 172.153 187.279 Z\" fill=\"#000000\" fill-rule=\"evenodd\" fill-opacity=\"1\" /><path clip-path=\"url(#clip470)\" d=\"M21.7677 866.473 L39.6235 866.473 L39.6235 858.388 Q39.6235 853.901 37.3 851.45 Q34.9765 848.999 30.6797 848.999 Q26.4147 848.999 24.0912 851.45 Q21.7677 853.901 21.7677 858.388 L21.7677 866.473 M16.4842 872.902 L16.4842 858.388 Q16.4842 850.399 20.1126 846.325 Q23.7092 842.219 30.6797 842.219 Q37.7138 842.219 41.3104 846.325 Q44.907 850.399 44.907 858.388 L44.907 866.473 L64.0042 866.473 L64.0042 872.902 L16.4842 872.902 Z\" fill=\"#000000\" fill-rule=\"evenodd\" fill-opacity=\"1\" /><path clip-path=\"url(#clip470)\" d=\"M16.4842 833.594 L16.4842 827.165 L58.5933 827.165 L58.5933 804.025 L64.0042 804.025 L64.0042 833.594 L16.4842 833.594 Z\" fill=\"#000000\" fill-rule=\"evenodd\" fill-opacity=\"1\" /><path clip-path=\"url(#clip470)\" d=\"M16.4842 797.278 L16.4842 788.62 L56.238 767.55 L16.4842 767.55 L16.4842 761.311 L64.0042 761.311 L64.0042 769.969 L24.2503 791.039 L64.0042 791.039 L64.0042 797.278 L16.4842 797.278 Z\" fill=\"#000000\" fill-rule=\"evenodd\" fill-opacity=\"1\" /><path clip-path=\"url(#clip470)\" d=\"M16.4842 738.363 L16.4842 732.952 L70.0516 749.503 L70.0516 754.914 L16.4842 738.363 Z\" fill=\"#000000\" fill-rule=\"evenodd\" fill-opacity=\"1\" /><path clip-path=\"url(#clip470)\" d=\"M16.4842 727.287 L16.4842 720.825 L45.3526 720.825 Q52.9915 720.825 56.3653 718.056 Q59.7073 715.287 59.7073 709.081 Q59.7073 702.906 56.3653 700.137 Q52.9915 697.368 45.3526 697.368 L16.4842 697.368 L16.4842 690.907 L46.1484 690.907 Q55.4423 690.907 60.1847 695.522 Q64.9272 700.105 64.9272 709.081 Q64.9272 718.088 60.1847 722.703 Q55.4423 727.287 46.1484 727.287 L16.4842 727.287 Z\" fill=\"#000000\" fill-rule=\"evenodd\" fill-opacity=\"1\" /><path clip-path=\"url(#clip470)\" d=\"M18.0438 650.357 L24.314 650.357 Q22.5634 654.017 21.704 657.264 Q20.8447 660.51 20.8447 663.534 Q20.8447 668.786 22.8817 671.65 Q24.9187 674.483 28.6745 674.483 Q31.8255 674.483 33.4488 672.605 Q35.0402 670.696 36.0269 665.412 L36.8226 661.529 Q38.1912 654.336 41.6605 650.93 Q45.098 647.493 50.8908 647.493 Q57.7976 647.493 61.3624 652.139 Q64.9272 656.755 64.9272 665.698 Q64.9272 669.072 64.1633 672.892 Q63.3994 676.679 61.9035 680.753 L55.2831 680.753 Q57.4793 676.838 58.5933 673.083 Q59.7073 669.327 59.7073 665.698 Q59.7073 660.192 57.543 657.2 Q55.3786 654.208 51.3682 654.208 Q47.8671 654.208 45.8937 656.373 Q43.9204 658.505 42.9337 663.407 L42.1698 667.322 Q40.7375 674.515 37.682 677.73 Q34.6264 680.944 29.1837 680.944 Q22.8817 680.944 19.2532 676.52 Q15.6248 672.064 15.6248 664.266 Q15.6248 660.924 16.2295 657.455 Q16.8343 653.986 18.0438 650.357 Z\" fill=\"#000000\" fill-rule=\"evenodd\" fill-opacity=\"1\" /><path clip-path=\"url(#clip470)\" d=\"M21.7677 631.037 L58.7206 631.037 L58.7206 623.271 Q58.7206 613.436 54.2646 608.885 Q49.8086 604.301 40.1964 604.301 Q30.6479 604.301 26.2237 608.885 Q21.7677 613.436 21.7677 623.271 L21.7677 631.037 M16.4842 637.467 L16.4842 624.258 Q16.4842 610.444 22.2451 603.983 Q27.9743 597.522 40.1964 597.522 Q52.4822 597.522 58.2432 604.015 Q64.0042 610.508 64.0042 624.258 L64.0042 637.467 L16.4842 637.467 Z\" fill=\"#000000\" fill-rule=\"evenodd\" fill-opacity=\"1\" /><polyline clip-path=\"url(#clip472)\" style=\"stroke:#009af9; stroke-linecap:round; stroke-linejoin:round; stroke-width:4; stroke-opacity:1; fill:none\" points=\"280.456,1154.99 349.833,1055.98 557.965,926.672 627.342,1027.55 696.72,959.779 766.097,1058.48 835.474,1267.43 1043.61,1384.24 1112.98,1341.14 1182.36,1069.41 1251.74,1079.09 1321.12,1022.25 1529.25,1062.54 1598.62,1105.33 1668,855.148 1737.38,722.719 1806.76,581.232 2014.89,482.223 2084.27,368.846 2153.64,86.1857 2223.02,102.739 2292.4,351.043 \"/>\n",
       "<line clip-path=\"url(#clip472)\" x1=\"280.456\" y1=\"1154.99\" x2=\"264.456\" y2=\"1138.99\" style=\"stroke:#009af9; stroke-width:3.2; stroke-opacity:1\"/>\n",
       "<line clip-path=\"url(#clip472)\" x1=\"280.456\" y1=\"1154.99\" x2=\"264.456\" y2=\"1170.99\" style=\"stroke:#009af9; stroke-width:3.2; stroke-opacity:1\"/>\n",
       "<line clip-path=\"url(#clip472)\" x1=\"280.456\" y1=\"1154.99\" x2=\"296.456\" y2=\"1170.99\" style=\"stroke:#009af9; stroke-width:3.2; stroke-opacity:1\"/>\n",
       "<line clip-path=\"url(#clip472)\" x1=\"280.456\" y1=\"1154.99\" x2=\"296.456\" y2=\"1138.99\" style=\"stroke:#009af9; stroke-width:3.2; stroke-opacity:1\"/>\n",
       "<line clip-path=\"url(#clip472)\" x1=\"349.833\" y1=\"1055.98\" x2=\"333.833\" y2=\"1039.98\" style=\"stroke:#009af9; stroke-width:3.2; stroke-opacity:1\"/>\n",
       "<line clip-path=\"url(#clip472)\" x1=\"349.833\" y1=\"1055.98\" x2=\"333.833\" y2=\"1071.98\" style=\"stroke:#009af9; stroke-width:3.2; stroke-opacity:1\"/>\n",
       "<line clip-path=\"url(#clip472)\" x1=\"349.833\" y1=\"1055.98\" x2=\"365.833\" y2=\"1071.98\" style=\"stroke:#009af9; stroke-width:3.2; stroke-opacity:1\"/>\n",
       "<line clip-path=\"url(#clip472)\" x1=\"349.833\" y1=\"1055.98\" x2=\"365.833\" y2=\"1039.98\" style=\"stroke:#009af9; stroke-width:3.2; stroke-opacity:1\"/>\n",
       "<line clip-path=\"url(#clip472)\" x1=\"557.965\" y1=\"926.672\" x2=\"541.965\" y2=\"910.672\" style=\"stroke:#009af9; stroke-width:3.2; stroke-opacity:1\"/>\n",
       "<line clip-path=\"url(#clip472)\" x1=\"557.965\" y1=\"926.672\" x2=\"541.965\" y2=\"942.672\" style=\"stroke:#009af9; stroke-width:3.2; stroke-opacity:1\"/>\n",
       "<line clip-path=\"url(#clip472)\" x1=\"557.965\" y1=\"926.672\" x2=\"573.965\" y2=\"942.672\" style=\"stroke:#009af9; stroke-width:3.2; stroke-opacity:1\"/>\n",
       "<line clip-path=\"url(#clip472)\" x1=\"557.965\" y1=\"926.672\" x2=\"573.965\" y2=\"910.672\" style=\"stroke:#009af9; stroke-width:3.2; stroke-opacity:1\"/>\n",
       "<line clip-path=\"url(#clip472)\" x1=\"627.342\" y1=\"1027.55\" x2=\"611.342\" y2=\"1011.55\" style=\"stroke:#009af9; stroke-width:3.2; stroke-opacity:1\"/>\n",
       "<line clip-path=\"url(#clip472)\" x1=\"627.342\" y1=\"1027.55\" x2=\"611.342\" y2=\"1043.55\" style=\"stroke:#009af9; stroke-width:3.2; stroke-opacity:1\"/>\n",
       "<line clip-path=\"url(#clip472)\" x1=\"627.342\" y1=\"1027.55\" x2=\"643.342\" y2=\"1043.55\" style=\"stroke:#009af9; stroke-width:3.2; stroke-opacity:1\"/>\n",
       "<line clip-path=\"url(#clip472)\" x1=\"627.342\" y1=\"1027.55\" x2=\"643.342\" y2=\"1011.55\" style=\"stroke:#009af9; stroke-width:3.2; stroke-opacity:1\"/>\n",
       "<line clip-path=\"url(#clip472)\" x1=\"696.72\" y1=\"959.779\" x2=\"680.72\" y2=\"943.779\" style=\"stroke:#009af9; stroke-width:3.2; stroke-opacity:1\"/>\n",
       "<line clip-path=\"url(#clip472)\" x1=\"696.72\" y1=\"959.779\" x2=\"680.72\" y2=\"975.779\" style=\"stroke:#009af9; stroke-width:3.2; stroke-opacity:1\"/>\n",
       "<line clip-path=\"url(#clip472)\" x1=\"696.72\" y1=\"959.779\" x2=\"712.72\" y2=\"975.779\" style=\"stroke:#009af9; stroke-width:3.2; stroke-opacity:1\"/>\n",
       "<line clip-path=\"url(#clip472)\" x1=\"696.72\" y1=\"959.779\" x2=\"712.72\" y2=\"943.779\" style=\"stroke:#009af9; stroke-width:3.2; stroke-opacity:1\"/>\n",
       "<line clip-path=\"url(#clip472)\" x1=\"766.097\" y1=\"1058.48\" x2=\"750.097\" y2=\"1042.48\" style=\"stroke:#009af9; stroke-width:3.2; stroke-opacity:1\"/>\n",
       "<line clip-path=\"url(#clip472)\" x1=\"766.097\" y1=\"1058.48\" x2=\"750.097\" y2=\"1074.48\" style=\"stroke:#009af9; stroke-width:3.2; stroke-opacity:1\"/>\n",
       "<line clip-path=\"url(#clip472)\" x1=\"766.097\" y1=\"1058.48\" x2=\"782.097\" y2=\"1074.48\" style=\"stroke:#009af9; stroke-width:3.2; stroke-opacity:1\"/>\n",
       "<line clip-path=\"url(#clip472)\" x1=\"766.097\" y1=\"1058.48\" x2=\"782.097\" y2=\"1042.48\" style=\"stroke:#009af9; stroke-width:3.2; stroke-opacity:1\"/>\n",
       "<line clip-path=\"url(#clip472)\" x1=\"835.474\" y1=\"1267.43\" x2=\"819.474\" y2=\"1251.43\" style=\"stroke:#009af9; stroke-width:3.2; stroke-opacity:1\"/>\n",
       "<line clip-path=\"url(#clip472)\" x1=\"835.474\" y1=\"1267.43\" x2=\"819.474\" y2=\"1283.43\" style=\"stroke:#009af9; stroke-width:3.2; stroke-opacity:1\"/>\n",
       "<line clip-path=\"url(#clip472)\" x1=\"835.474\" y1=\"1267.43\" x2=\"851.474\" y2=\"1283.43\" style=\"stroke:#009af9; stroke-width:3.2; stroke-opacity:1\"/>\n",
       "<line clip-path=\"url(#clip472)\" x1=\"835.474\" y1=\"1267.43\" x2=\"851.474\" y2=\"1251.43\" style=\"stroke:#009af9; stroke-width:3.2; stroke-opacity:1\"/>\n",
       "<line clip-path=\"url(#clip472)\" x1=\"1043.61\" y1=\"1384.24\" x2=\"1027.61\" y2=\"1368.24\" style=\"stroke:#009af9; stroke-width:3.2; stroke-opacity:1\"/>\n",
       "<line clip-path=\"url(#clip472)\" x1=\"1043.61\" y1=\"1384.24\" x2=\"1027.61\" y2=\"1400.24\" style=\"stroke:#009af9; stroke-width:3.2; stroke-opacity:1\"/>\n",
       "<line clip-path=\"url(#clip472)\" x1=\"1043.61\" y1=\"1384.24\" x2=\"1059.61\" y2=\"1400.24\" style=\"stroke:#009af9; stroke-width:3.2; stroke-opacity:1\"/>\n",
       "<line clip-path=\"url(#clip472)\" x1=\"1043.61\" y1=\"1384.24\" x2=\"1059.61\" y2=\"1368.24\" style=\"stroke:#009af9; stroke-width:3.2; stroke-opacity:1\"/>\n",
       "<line clip-path=\"url(#clip472)\" x1=\"1112.98\" y1=\"1341.14\" x2=\"1096.98\" y2=\"1325.14\" style=\"stroke:#009af9; stroke-width:3.2; stroke-opacity:1\"/>\n",
       "<line clip-path=\"url(#clip472)\" x1=\"1112.98\" y1=\"1341.14\" x2=\"1096.98\" y2=\"1357.14\" style=\"stroke:#009af9; stroke-width:3.2; stroke-opacity:1\"/>\n",
       "<line clip-path=\"url(#clip472)\" x1=\"1112.98\" y1=\"1341.14\" x2=\"1128.98\" y2=\"1357.14\" style=\"stroke:#009af9; stroke-width:3.2; stroke-opacity:1\"/>\n",
       "<line clip-path=\"url(#clip472)\" x1=\"1112.98\" y1=\"1341.14\" x2=\"1128.98\" y2=\"1325.14\" style=\"stroke:#009af9; stroke-width:3.2; stroke-opacity:1\"/>\n",
       "<line clip-path=\"url(#clip472)\" x1=\"1182.36\" y1=\"1069.41\" x2=\"1166.36\" y2=\"1053.41\" style=\"stroke:#009af9; stroke-width:3.2; stroke-opacity:1\"/>\n",
       "<line clip-path=\"url(#clip472)\" x1=\"1182.36\" y1=\"1069.41\" x2=\"1166.36\" y2=\"1085.41\" style=\"stroke:#009af9; stroke-width:3.2; stroke-opacity:1\"/>\n",
       "<line clip-path=\"url(#clip472)\" x1=\"1182.36\" y1=\"1069.41\" x2=\"1198.36\" y2=\"1085.41\" style=\"stroke:#009af9; stroke-width:3.2; stroke-opacity:1\"/>\n",
       "<line clip-path=\"url(#clip472)\" x1=\"1182.36\" y1=\"1069.41\" x2=\"1198.36\" y2=\"1053.41\" style=\"stroke:#009af9; stroke-width:3.2; stroke-opacity:1\"/>\n",
       "<line clip-path=\"url(#clip472)\" x1=\"1251.74\" y1=\"1079.09\" x2=\"1235.74\" y2=\"1063.09\" style=\"stroke:#009af9; stroke-width:3.2; stroke-opacity:1\"/>\n",
       "<line clip-path=\"url(#clip472)\" x1=\"1251.74\" y1=\"1079.09\" x2=\"1235.74\" y2=\"1095.09\" style=\"stroke:#009af9; stroke-width:3.2; stroke-opacity:1\"/>\n",
       "<line clip-path=\"url(#clip472)\" x1=\"1251.74\" y1=\"1079.09\" x2=\"1267.74\" y2=\"1095.09\" style=\"stroke:#009af9; stroke-width:3.2; stroke-opacity:1\"/>\n",
       "<line clip-path=\"url(#clip472)\" x1=\"1251.74\" y1=\"1079.09\" x2=\"1267.74\" y2=\"1063.09\" style=\"stroke:#009af9; stroke-width:3.2; stroke-opacity:1\"/>\n",
       "<line clip-path=\"url(#clip472)\" x1=\"1321.12\" y1=\"1022.25\" x2=\"1305.12\" y2=\"1006.25\" style=\"stroke:#009af9; stroke-width:3.2; stroke-opacity:1\"/>\n",
       "<line clip-path=\"url(#clip472)\" x1=\"1321.12\" y1=\"1022.25\" x2=\"1305.12\" y2=\"1038.25\" style=\"stroke:#009af9; stroke-width:3.2; stroke-opacity:1\"/>\n",
       "<line clip-path=\"url(#clip472)\" x1=\"1321.12\" y1=\"1022.25\" x2=\"1337.12\" y2=\"1038.25\" style=\"stroke:#009af9; stroke-width:3.2; stroke-opacity:1\"/>\n",
       "<line clip-path=\"url(#clip472)\" x1=\"1321.12\" y1=\"1022.25\" x2=\"1337.12\" y2=\"1006.25\" style=\"stroke:#009af9; stroke-width:3.2; stroke-opacity:1\"/>\n",
       "<line clip-path=\"url(#clip472)\" x1=\"1529.25\" y1=\"1062.54\" x2=\"1513.25\" y2=\"1046.54\" style=\"stroke:#009af9; stroke-width:3.2; stroke-opacity:1\"/>\n",
       "<line clip-path=\"url(#clip472)\" x1=\"1529.25\" y1=\"1062.54\" x2=\"1513.25\" y2=\"1078.54\" style=\"stroke:#009af9; stroke-width:3.2; stroke-opacity:1\"/>\n",
       "<line clip-path=\"url(#clip472)\" x1=\"1529.25\" y1=\"1062.54\" x2=\"1545.25\" y2=\"1078.54\" style=\"stroke:#009af9; stroke-width:3.2; stroke-opacity:1\"/>\n",
       "<line clip-path=\"url(#clip472)\" x1=\"1529.25\" y1=\"1062.54\" x2=\"1545.25\" y2=\"1046.54\" style=\"stroke:#009af9; stroke-width:3.2; stroke-opacity:1\"/>\n",
       "<line clip-path=\"url(#clip472)\" x1=\"1598.62\" y1=\"1105.33\" x2=\"1582.62\" y2=\"1089.33\" style=\"stroke:#009af9; stroke-width:3.2; stroke-opacity:1\"/>\n",
       "<line clip-path=\"url(#clip472)\" x1=\"1598.62\" y1=\"1105.33\" x2=\"1582.62\" y2=\"1121.33\" style=\"stroke:#009af9; stroke-width:3.2; stroke-opacity:1\"/>\n",
       "<line clip-path=\"url(#clip472)\" x1=\"1598.62\" y1=\"1105.33\" x2=\"1614.62\" y2=\"1121.33\" style=\"stroke:#009af9; stroke-width:3.2; stroke-opacity:1\"/>\n",
       "<line clip-path=\"url(#clip472)\" x1=\"1598.62\" y1=\"1105.33\" x2=\"1614.62\" y2=\"1089.33\" style=\"stroke:#009af9; stroke-width:3.2; stroke-opacity:1\"/>\n",
       "<line clip-path=\"url(#clip472)\" x1=\"1668\" y1=\"855.148\" x2=\"1652\" y2=\"839.148\" style=\"stroke:#009af9; stroke-width:3.2; stroke-opacity:1\"/>\n",
       "<line clip-path=\"url(#clip472)\" x1=\"1668\" y1=\"855.148\" x2=\"1652\" y2=\"871.148\" style=\"stroke:#009af9; stroke-width:3.2; stroke-opacity:1\"/>\n",
       "<line clip-path=\"url(#clip472)\" x1=\"1668\" y1=\"855.148\" x2=\"1684\" y2=\"871.148\" style=\"stroke:#009af9; stroke-width:3.2; stroke-opacity:1\"/>\n",
       "<line clip-path=\"url(#clip472)\" x1=\"1668\" y1=\"855.148\" x2=\"1684\" y2=\"839.148\" style=\"stroke:#009af9; stroke-width:3.2; stroke-opacity:1\"/>\n",
       "<line clip-path=\"url(#clip472)\" x1=\"1737.38\" y1=\"722.719\" x2=\"1721.38\" y2=\"706.719\" style=\"stroke:#009af9; stroke-width:3.2; stroke-opacity:1\"/>\n",
       "<line clip-path=\"url(#clip472)\" x1=\"1737.38\" y1=\"722.719\" x2=\"1721.38\" y2=\"738.719\" style=\"stroke:#009af9; stroke-width:3.2; stroke-opacity:1\"/>\n",
       "<line clip-path=\"url(#clip472)\" x1=\"1737.38\" y1=\"722.719\" x2=\"1753.38\" y2=\"738.719\" style=\"stroke:#009af9; stroke-width:3.2; stroke-opacity:1\"/>\n",
       "<line clip-path=\"url(#clip472)\" x1=\"1737.38\" y1=\"722.719\" x2=\"1753.38\" y2=\"706.719\" style=\"stroke:#009af9; stroke-width:3.2; stroke-opacity:1\"/>\n",
       "<line clip-path=\"url(#clip472)\" x1=\"1806.76\" y1=\"581.232\" x2=\"1790.76\" y2=\"565.232\" style=\"stroke:#009af9; stroke-width:3.2; stroke-opacity:1\"/>\n",
       "<line clip-path=\"url(#clip472)\" x1=\"1806.76\" y1=\"581.232\" x2=\"1790.76\" y2=\"597.232\" style=\"stroke:#009af9; stroke-width:3.2; stroke-opacity:1\"/>\n",
       "<line clip-path=\"url(#clip472)\" x1=\"1806.76\" y1=\"581.232\" x2=\"1822.76\" y2=\"597.232\" style=\"stroke:#009af9; stroke-width:3.2; stroke-opacity:1\"/>\n",
       "<line clip-path=\"url(#clip472)\" x1=\"1806.76\" y1=\"581.232\" x2=\"1822.76\" y2=\"565.232\" style=\"stroke:#009af9; stroke-width:3.2; stroke-opacity:1\"/>\n",
       "<line clip-path=\"url(#clip472)\" x1=\"2014.89\" y1=\"482.223\" x2=\"1998.89\" y2=\"466.223\" style=\"stroke:#009af9; stroke-width:3.2; stroke-opacity:1\"/>\n",
       "<line clip-path=\"url(#clip472)\" x1=\"2014.89\" y1=\"482.223\" x2=\"1998.89\" y2=\"498.223\" style=\"stroke:#009af9; stroke-width:3.2; stroke-opacity:1\"/>\n",
       "<line clip-path=\"url(#clip472)\" x1=\"2014.89\" y1=\"482.223\" x2=\"2030.89\" y2=\"498.223\" style=\"stroke:#009af9; stroke-width:3.2; stroke-opacity:1\"/>\n",
       "<line clip-path=\"url(#clip472)\" x1=\"2014.89\" y1=\"482.223\" x2=\"2030.89\" y2=\"466.223\" style=\"stroke:#009af9; stroke-width:3.2; stroke-opacity:1\"/>\n",
       "<line clip-path=\"url(#clip472)\" x1=\"2084.27\" y1=\"368.846\" x2=\"2068.27\" y2=\"352.846\" style=\"stroke:#009af9; stroke-width:3.2; stroke-opacity:1\"/>\n",
       "<line clip-path=\"url(#clip472)\" x1=\"2084.27\" y1=\"368.846\" x2=\"2068.27\" y2=\"384.846\" style=\"stroke:#009af9; stroke-width:3.2; stroke-opacity:1\"/>\n",
       "<line clip-path=\"url(#clip472)\" x1=\"2084.27\" y1=\"368.846\" x2=\"2100.27\" y2=\"384.846\" style=\"stroke:#009af9; stroke-width:3.2; stroke-opacity:1\"/>\n",
       "<line clip-path=\"url(#clip472)\" x1=\"2084.27\" y1=\"368.846\" x2=\"2100.27\" y2=\"352.846\" style=\"stroke:#009af9; stroke-width:3.2; stroke-opacity:1\"/>\n",
       "<line clip-path=\"url(#clip472)\" x1=\"2153.64\" y1=\"86.1857\" x2=\"2137.64\" y2=\"70.1857\" style=\"stroke:#009af9; stroke-width:3.2; stroke-opacity:1\"/>\n",
       "<line clip-path=\"url(#clip472)\" x1=\"2153.64\" y1=\"86.1857\" x2=\"2137.64\" y2=\"102.186\" style=\"stroke:#009af9; stroke-width:3.2; stroke-opacity:1\"/>\n",
       "<line clip-path=\"url(#clip472)\" x1=\"2153.64\" y1=\"86.1857\" x2=\"2169.64\" y2=\"102.186\" style=\"stroke:#009af9; stroke-width:3.2; stroke-opacity:1\"/>\n",
       "<line clip-path=\"url(#clip472)\" x1=\"2153.64\" y1=\"86.1857\" x2=\"2169.64\" y2=\"70.1857\" style=\"stroke:#009af9; stroke-width:3.2; stroke-opacity:1\"/>\n",
       "<line clip-path=\"url(#clip472)\" x1=\"2223.02\" y1=\"102.739\" x2=\"2207.02\" y2=\"86.7393\" style=\"stroke:#009af9; stroke-width:3.2; stroke-opacity:1\"/>\n",
       "<line clip-path=\"url(#clip472)\" x1=\"2223.02\" y1=\"102.739\" x2=\"2207.02\" y2=\"118.739\" style=\"stroke:#009af9; stroke-width:3.2; stroke-opacity:1\"/>\n",
       "<line clip-path=\"url(#clip472)\" x1=\"2223.02\" y1=\"102.739\" x2=\"2239.02\" y2=\"118.739\" style=\"stroke:#009af9; stroke-width:3.2; stroke-opacity:1\"/>\n",
       "<line clip-path=\"url(#clip472)\" x1=\"2223.02\" y1=\"102.739\" x2=\"2239.02\" y2=\"86.7393\" style=\"stroke:#009af9; stroke-width:3.2; stroke-opacity:1\"/>\n",
       "<line clip-path=\"url(#clip472)\" x1=\"2292.4\" y1=\"351.043\" x2=\"2276.4\" y2=\"335.043\" style=\"stroke:#009af9; stroke-width:3.2; stroke-opacity:1\"/>\n",
       "<line clip-path=\"url(#clip472)\" x1=\"2292.4\" y1=\"351.043\" x2=\"2276.4\" y2=\"367.043\" style=\"stroke:#009af9; stroke-width:3.2; stroke-opacity:1\"/>\n",
       "<line clip-path=\"url(#clip472)\" x1=\"2292.4\" y1=\"351.043\" x2=\"2308.4\" y2=\"367.043\" style=\"stroke:#009af9; stroke-width:3.2; stroke-opacity:1\"/>\n",
       "<line clip-path=\"url(#clip472)\" x1=\"2292.4\" y1=\"351.043\" x2=\"2308.4\" y2=\"335.043\" style=\"stroke:#009af9; stroke-width:3.2; stroke-opacity:1\"/>\n",
       "</svg>\n"
      ]
     },
     "execution_count": 83,
     "metadata": {},
     "output_type": "execute_result"
    }
   ],
   "source": [
    "plot(dates[has_rates], rates[has_rates]; xlabel=\"Date\", ylabel=\"PLN/USD\", legend=false, marker=:x)"
   ]
  },
  {
   "cell_type": "code",
   "execution_count": 84,
   "id": "d4d60a6a",
   "metadata": {},
   "outputs": [
    {
     "name": "stderr",
     "output_type": "stream",
     "text": [
      "\u001b[32m\u001b[1m   Resolving\u001b[22m\u001b[39m package versions...\n",
      "\u001b[32m\u001b[1m  No Changes\u001b[22m\u001b[39m to `~/.julia/environments/v1.8/Project.toml`\n",
      "\u001b[32m\u001b[1m  No Changes\u001b[22m\u001b[39m to `~/.julia/environments/v1.8/Manifest.toml`\n"
     ]
    }
   ],
   "source": [
    "import Pkg; Pkg.add(\"Impute\")"
   ]
  },
  {
   "cell_type": "code",
   "execution_count": 85,
   "id": "b8306a46",
   "metadata": {},
   "outputs": [],
   "source": [
    "using Impute"
   ]
  },
  {
   "cell_type": "markdown",
   "id": "3dd897d9",
   "metadata": {},
   "source": [
    "https://invenia.github.io/Impute.jl/latest/"
   ]
  },
  {
   "cell_type": "code",
   "execution_count": 86,
   "id": "8b42b12e",
   "metadata": {},
   "outputs": [
    {
     "data": {
      "text/plain": [
       "30-element Vector{Union{Missing, Float64}}:\n",
       " 4.6959\n",
       " 4.7276\n",
       " 4.7414\n",
       " 4.755199999999999\n",
       " 4.769\n",
       " 4.7367\n",
       " 4.7584\n",
       " 4.7268\n",
       " 4.6599\n",
       " 4.647433333333334\n",
       " 4.634966666666667\n",
       " 4.6225\n",
       " 4.6363\n",
       " ⋮\n",
       " 4.7255\n",
       " 4.7118\n",
       " 4.7919\n",
       " 4.8343\n",
       " 4.8796\n",
       " 4.8901666666666666\n",
       " 4.900733333333333\n",
       " 4.9113\n",
       " 4.9476\n",
       " 5.0381\n",
       " 5.0328\n",
       " 4.9533"
      ]
     },
     "execution_count": 86,
     "metadata": {},
     "output_type": "execute_result"
    }
   ],
   "source": [
    "rates_filled = Impute.interp(rates)"
   ]
  },
  {
   "cell_type": "markdown",
   "id": "c7f0f9dd",
   "metadata": {},
   "source": [
    "> The Impute.jl package has many more features that facilitate handling of missing data\n",
    "\n",
    "See https://github.com/invenia/ Impute.jl"
   ]
  },
  {
   "cell_type": "code",
   "execution_count": 87,
   "id": "7bfeda77",
   "metadata": {},
   "outputs": [
    {
     "data": {
      "image/svg+xml": [
       "<?xml version=\"1.0\" encoding=\"utf-8\"?>\n",
       "<svg xmlns=\"http://www.w3.org/2000/svg\" xmlns:xlink=\"http://www.w3.org/1999/xlink\" width=\"600\" height=\"400\" viewBox=\"0 0 2400 1600\">\n",
       "<defs>\n",
       "  <clipPath id=\"clip510\">\n",
       "    <rect x=\"0\" y=\"0\" width=\"2400\" height=\"1600\"/>\n",
       "  </clipPath>\n",
       "</defs>\n",
       "<path clip-path=\"url(#clip510)\" d=\"M0 1600 L2400 1600 L2400 0 L0 0  Z\" fill=\"#ffffff\" fill-rule=\"evenodd\" fill-opacity=\"1\"/>\n",
       "<defs>\n",
       "  <clipPath id=\"clip511\">\n",
       "    <rect x=\"480\" y=\"0\" width=\"1681\" height=\"1600\"/>\n",
       "  </clipPath>\n",
       "</defs>\n",
       "<path clip-path=\"url(#clip510)\" d=\"M220.098 1423.18 L2352.76 1423.18 L2352.76 47.2441 L220.098 47.2441  Z\" fill=\"#ffffff\" fill-rule=\"evenodd\" fill-opacity=\"1\"/>\n",
       "<defs>\n",
       "  <clipPath id=\"clip512\">\n",
       "    <rect x=\"220\" y=\"47\" width=\"2134\" height=\"1377\"/>\n",
       "  </clipPath>\n",
       "</defs>\n",
       "<polyline clip-path=\"url(#clip512)\" style=\"stroke:#000000; stroke-linecap:round; stroke-linejoin:round; stroke-width:2; stroke-opacity:0.1; fill:none\" points=\"280.456,1423.18 280.456,47.2441 \"/>\n",
       "<polyline clip-path=\"url(#clip512)\" style=\"stroke:#000000; stroke-linecap:round; stroke-linejoin:round; stroke-width:2; stroke-opacity:0.1; fill:none\" points=\"835.474,1423.18 835.474,47.2441 \"/>\n",
       "<polyline clip-path=\"url(#clip512)\" style=\"stroke:#000000; stroke-linecap:round; stroke-linejoin:round; stroke-width:2; stroke-opacity:0.1; fill:none\" points=\"1390.49,1423.18 1390.49,47.2441 \"/>\n",
       "<polyline clip-path=\"url(#clip512)\" style=\"stroke:#000000; stroke-linecap:round; stroke-linejoin:round; stroke-width:2; stroke-opacity:0.1; fill:none\" points=\"1945.51,1423.18 1945.51,47.2441 \"/>\n",
       "<polyline clip-path=\"url(#clip510)\" style=\"stroke:#000000; stroke-linecap:round; stroke-linejoin:round; stroke-width:4; stroke-opacity:1; fill:none\" points=\"220.098,1423.18 2352.76,1423.18 \"/>\n",
       "<polyline clip-path=\"url(#clip510)\" style=\"stroke:#000000; stroke-linecap:round; stroke-linejoin:round; stroke-width:4; stroke-opacity:1; fill:none\" points=\"280.456,1423.18 280.456,1404.28 \"/>\n",
       "<polyline clip-path=\"url(#clip510)\" style=\"stroke:#000000; stroke-linecap:round; stroke-linejoin:round; stroke-width:4; stroke-opacity:1; fill:none\" points=\"835.474,1423.18 835.474,1404.28 \"/>\n",
       "<polyline clip-path=\"url(#clip510)\" style=\"stroke:#000000; stroke-linecap:round; stroke-linejoin:round; stroke-width:4; stroke-opacity:1; fill:none\" points=\"1390.49,1423.18 1390.49,1404.28 \"/>\n",
       "<polyline clip-path=\"url(#clip510)\" style=\"stroke:#000000; stroke-linecap:round; stroke-linejoin:round; stroke-width:4; stroke-opacity:1; fill:none\" points=\"1945.51,1423.18 1945.51,1404.28 \"/>\n",
       "<path clip-path=\"url(#clip510)\" d=\"M152.251 1481.64 L168.57 1481.64 L168.57 1485.58 L146.626 1485.58 L146.626 1481.64 Q149.288 1478.89 153.871 1474.26 Q158.477 1469.61 159.658 1468.27 Q161.903 1465.74 162.783 1464.01 Q163.686 1462.25 163.686 1460.56 Q163.686 1457.8 161.741 1456.07 Q159.82 1454.33 156.718 1454.33 Q154.519 1454.33 152.065 1455.09 Q149.635 1455.86 146.857 1457.41 L146.857 1452.69 Q149.681 1451.55 152.135 1450.97 Q154.589 1450.39 156.626 1450.39 Q161.996 1450.39 165.19 1453.08 Q168.385 1455.77 168.385 1460.26 Q168.385 1462.39 167.575 1464.31 Q166.788 1466.2 164.681 1468.8 Q164.102 1469.47 161.001 1472.69 Q157.899 1475.88 152.251 1481.64 Z\" fill=\"#000000\" fill-rule=\"evenodd\" fill-opacity=\"1\" /><path clip-path=\"url(#clip510)\" d=\"M188.385 1454.1 Q184.774 1454.1 182.945 1457.66 Q181.139 1461.2 181.139 1468.33 Q181.139 1475.44 182.945 1479.01 Q184.774 1482.55 188.385 1482.55 Q192.019 1482.55 193.825 1479.01 Q195.653 1475.44 195.653 1468.33 Q195.653 1461.2 193.825 1457.66 Q192.019 1454.1 188.385 1454.1 M188.385 1450.39 Q194.195 1450.39 197.25 1455 Q200.329 1459.58 200.329 1468.33 Q200.329 1477.06 197.25 1481.67 Q194.195 1486.25 188.385 1486.25 Q182.575 1486.25 179.496 1481.67 Q176.44 1477.06 176.44 1468.33 Q176.44 1459.58 179.496 1455 Q182.575 1450.39 188.385 1450.39 Z\" fill=\"#000000\" fill-rule=\"evenodd\" fill-opacity=\"1\" /><path clip-path=\"url(#clip510)\" d=\"M212.574 1481.64 L228.894 1481.64 L228.894 1485.58 L206.949 1485.58 L206.949 1481.64 Q209.611 1478.89 214.195 1474.26 Q218.801 1469.61 219.982 1468.27 Q222.227 1465.74 223.107 1464.01 Q224.01 1462.25 224.01 1460.56 Q224.01 1457.8 222.065 1456.07 Q220.144 1454.33 217.042 1454.33 Q214.843 1454.33 212.389 1455.09 Q209.959 1455.86 207.181 1457.41 L207.181 1452.69 Q210.005 1451.55 212.459 1450.97 Q214.912 1450.39 216.949 1450.39 Q222.32 1450.39 225.514 1453.08 Q228.709 1455.77 228.709 1460.26 Q228.709 1462.39 227.898 1464.31 Q227.111 1466.2 225.005 1468.8 Q224.426 1469.47 221.324 1472.69 Q218.223 1475.88 212.574 1481.64 Z\" fill=\"#000000\" fill-rule=\"evenodd\" fill-opacity=\"1\" /><path clip-path=\"url(#clip510)\" d=\"M242.736 1481.64 L259.056 1481.64 L259.056 1485.58 L237.111 1485.58 L237.111 1481.64 Q239.773 1478.89 244.357 1474.26 Q248.963 1469.61 250.144 1468.27 Q252.389 1465.74 253.269 1464.01 Q254.171 1462.25 254.171 1460.56 Q254.171 1457.8 252.227 1456.07 Q250.306 1454.33 247.204 1454.33 Q245.005 1454.33 242.551 1455.09 Q240.121 1455.86 237.343 1457.41 L237.343 1452.69 Q240.167 1451.55 242.621 1450.97 Q245.074 1450.39 247.111 1450.39 Q252.482 1450.39 255.676 1453.08 Q258.87 1455.77 258.87 1460.26 Q258.87 1462.39 258.06 1464.31 Q257.273 1466.2 255.167 1468.8 Q254.588 1469.47 251.486 1472.69 Q248.384 1475.88 242.736 1481.64 Z\" fill=\"#000000\" fill-rule=\"evenodd\" fill-opacity=\"1\" /><path clip-path=\"url(#clip510)\" d=\"M266.116 1470.7 L278.593 1470.7 L278.593 1474.49 L266.116 1474.49 L266.116 1470.7 Z\" fill=\"#000000\" fill-rule=\"evenodd\" fill-opacity=\"1\" /><path clip-path=\"url(#clip510)\" d=\"M295.977 1454.1 Q292.366 1454.1 290.537 1457.66 Q288.731 1461.2 288.731 1468.33 Q288.731 1475.44 290.537 1479.01 Q292.366 1482.55 295.977 1482.55 Q299.611 1482.55 301.417 1479.01 Q303.245 1475.44 303.245 1468.33 Q303.245 1461.2 301.417 1457.66 Q299.611 1454.1 295.977 1454.1 M295.977 1450.39 Q301.787 1450.39 304.842 1455 Q307.921 1459.58 307.921 1468.33 Q307.921 1477.06 304.842 1481.67 Q301.787 1486.25 295.977 1486.25 Q290.167 1486.25 287.088 1481.67 Q284.032 1477.06 284.032 1468.33 Q284.032 1459.58 287.088 1455 Q290.167 1450.39 295.977 1450.39 Z\" fill=\"#000000\" fill-rule=\"evenodd\" fill-opacity=\"1\" /><path clip-path=\"url(#clip510)\" d=\"M316.278 1484.86 L316.278 1480.6 Q318.037 1481.44 319.842 1481.88 Q321.648 1482.32 323.384 1482.32 Q328.014 1482.32 330.444 1479.21 Q332.898 1476.09 333.245 1469.75 Q331.902 1471.74 329.842 1472.8 Q327.782 1473.87 325.282 1473.87 Q320.097 1473.87 317.065 1470.74 Q314.055 1467.59 314.055 1462.15 Q314.055 1456.83 317.203 1453.61 Q320.352 1450.39 325.583 1450.39 Q331.578 1450.39 334.727 1455 Q337.898 1459.58 337.898 1468.33 Q337.898 1476.51 334.009 1481.39 Q330.143 1486.25 323.592 1486.25 Q321.833 1486.25 320.028 1485.9 Q318.222 1485.56 316.278 1484.86 M325.583 1470.21 Q328.731 1470.21 330.56 1468.06 Q332.412 1465.9 332.412 1462.15 Q332.412 1458.43 330.56 1456.27 Q328.731 1454.1 325.583 1454.1 Q322.435 1454.1 320.583 1456.27 Q318.754 1458.43 318.754 1462.15 Q318.754 1465.9 320.583 1468.06 Q322.435 1470.21 325.583 1470.21 Z\" fill=\"#000000\" fill-rule=\"evenodd\" fill-opacity=\"1\" /><path clip-path=\"url(#clip510)\" d=\"M343.546 1470.7 L356.023 1470.7 L356.023 1474.49 L343.546 1474.49 L343.546 1470.7 Z\" fill=\"#000000\" fill-rule=\"evenodd\" fill-opacity=\"1\" /><path clip-path=\"url(#clip510)\" d=\"M373.407 1454.1 Q369.796 1454.1 367.967 1457.66 Q366.162 1461.2 366.162 1468.33 Q366.162 1475.44 367.967 1479.01 Q369.796 1482.55 373.407 1482.55 Q377.041 1482.55 378.847 1479.01 Q380.675 1475.44 380.675 1468.33 Q380.675 1461.2 378.847 1457.66 Q377.041 1454.1 373.407 1454.1 M373.407 1450.39 Q379.217 1450.39 382.273 1455 Q385.351 1459.58 385.351 1468.33 Q385.351 1477.06 382.273 1481.67 Q379.217 1486.25 373.407 1486.25 Q367.597 1486.25 364.518 1481.67 Q361.463 1477.06 361.463 1468.33 Q361.463 1459.58 364.518 1455 Q367.597 1450.39 373.407 1450.39 Z\" fill=\"#000000\" fill-rule=\"evenodd\" fill-opacity=\"1\" /><path clip-path=\"url(#clip510)\" d=\"M394.379 1481.64 L402.018 1481.64 L402.018 1455.28 L393.708 1456.95 L393.708 1452.69 L401.972 1451.02 L406.647 1451.02 L406.647 1481.64 L414.286 1481.64 L414.286 1485.58 L394.379 1485.58 L394.379 1481.64 Z\" fill=\"#000000\" fill-rule=\"evenodd\" fill-opacity=\"1\" /><path clip-path=\"url(#clip510)\" d=\"M706.748 1481.64 L723.068 1481.64 L723.068 1485.58 L701.123 1485.58 L701.123 1481.64 Q703.785 1478.89 708.369 1474.26 Q712.975 1469.61 714.156 1468.27 Q716.401 1465.74 717.281 1464.01 Q718.183 1462.25 718.183 1460.56 Q718.183 1457.8 716.239 1456.07 Q714.318 1454.33 711.216 1454.33 Q709.017 1454.33 706.563 1455.09 Q704.132 1455.86 701.355 1457.41 L701.355 1452.69 Q704.179 1451.55 706.632 1450.97 Q709.086 1450.39 711.123 1450.39 Q716.494 1450.39 719.688 1453.08 Q722.882 1455.77 722.882 1460.26 Q722.882 1462.39 722.072 1464.31 Q721.285 1466.2 719.179 1468.8 Q718.6 1469.47 715.498 1472.69 Q712.396 1475.88 706.748 1481.64 Z\" fill=\"#000000\" fill-rule=\"evenodd\" fill-opacity=\"1\" /><path clip-path=\"url(#clip510)\" d=\"M742.882 1454.1 Q739.271 1454.1 737.443 1457.66 Q735.637 1461.2 735.637 1468.33 Q735.637 1475.44 737.443 1479.01 Q739.271 1482.55 742.882 1482.55 Q746.517 1482.55 748.322 1479.01 Q750.151 1475.44 750.151 1468.33 Q750.151 1461.2 748.322 1457.66 Q746.517 1454.1 742.882 1454.1 M742.882 1450.39 Q748.692 1450.39 751.748 1455 Q754.827 1459.58 754.827 1468.33 Q754.827 1477.06 751.748 1481.67 Q748.692 1486.25 742.882 1486.25 Q737.072 1486.25 733.993 1481.67 Q730.938 1477.06 730.938 1468.33 Q730.938 1459.58 733.993 1455 Q737.072 1450.39 742.882 1450.39 Z\" fill=\"#000000\" fill-rule=\"evenodd\" fill-opacity=\"1\" /><path clip-path=\"url(#clip510)\" d=\"M767.072 1481.64 L783.391 1481.64 L783.391 1485.58 L761.447 1485.58 L761.447 1481.64 Q764.109 1478.89 768.692 1474.26 Q773.299 1469.61 774.479 1468.27 Q776.725 1465.74 777.604 1464.01 Q778.507 1462.25 778.507 1460.56 Q778.507 1457.8 776.563 1456.07 Q774.641 1454.33 771.54 1454.33 Q769.34 1454.33 766.887 1455.09 Q764.456 1455.86 761.678 1457.41 L761.678 1452.69 Q764.503 1451.55 766.956 1450.97 Q769.41 1450.39 771.447 1450.39 Q776.817 1450.39 780.012 1453.08 Q783.206 1455.77 783.206 1460.26 Q783.206 1462.39 782.396 1464.31 Q781.609 1466.2 779.502 1468.8 Q778.924 1469.47 775.822 1472.69 Q772.72 1475.88 767.072 1481.64 Z\" fill=\"#000000\" fill-rule=\"evenodd\" fill-opacity=\"1\" /><path clip-path=\"url(#clip510)\" d=\"M797.234 1481.64 L813.553 1481.64 L813.553 1485.58 L791.609 1485.58 L791.609 1481.64 Q794.271 1478.89 798.854 1474.26 Q803.461 1469.61 804.641 1468.27 Q806.887 1465.74 807.766 1464.01 Q808.669 1462.25 808.669 1460.56 Q808.669 1457.8 806.725 1456.07 Q804.803 1454.33 801.701 1454.33 Q799.502 1454.33 797.049 1455.09 Q794.618 1455.86 791.84 1457.41 L791.84 1452.69 Q794.664 1451.55 797.118 1450.97 Q799.572 1450.39 801.609 1450.39 Q806.979 1450.39 810.174 1453.08 Q813.368 1455.77 813.368 1460.26 Q813.368 1462.39 812.558 1464.31 Q811.771 1466.2 809.664 1468.8 Q809.086 1469.47 805.984 1472.69 Q802.882 1475.88 797.234 1481.64 Z\" fill=\"#000000\" fill-rule=\"evenodd\" fill-opacity=\"1\" /><path clip-path=\"url(#clip510)\" d=\"M820.613 1470.7 L833.09 1470.7 L833.09 1474.49 L820.613 1474.49 L820.613 1470.7 Z\" fill=\"#000000\" fill-rule=\"evenodd\" fill-opacity=\"1\" /><path clip-path=\"url(#clip510)\" d=\"M850.474 1454.1 Q846.863 1454.1 845.035 1457.66 Q843.229 1461.2 843.229 1468.33 Q843.229 1475.44 845.035 1479.01 Q846.863 1482.55 850.474 1482.55 Q854.109 1482.55 855.914 1479.01 Q857.743 1475.44 857.743 1468.33 Q857.743 1461.2 855.914 1457.66 Q854.109 1454.1 850.474 1454.1 M850.474 1450.39 Q856.284 1450.39 859.34 1455 Q862.419 1459.58 862.419 1468.33 Q862.419 1477.06 859.34 1481.67 Q856.284 1486.25 850.474 1486.25 Q844.664 1486.25 841.585 1481.67 Q838.53 1477.06 838.53 1468.33 Q838.53 1459.58 841.585 1455 Q844.664 1450.39 850.474 1450.39 Z\" fill=\"#000000\" fill-rule=\"evenodd\" fill-opacity=\"1\" /><path clip-path=\"url(#clip510)\" d=\"M870.775 1484.86 L870.775 1480.6 Q872.534 1481.44 874.34 1481.88 Q876.145 1482.32 877.882 1482.32 Q882.511 1482.32 884.942 1479.21 Q887.395 1476.09 887.743 1469.75 Q886.4 1471.74 884.34 1472.8 Q882.28 1473.87 879.78 1473.87 Q874.595 1473.87 871.562 1470.74 Q868.553 1467.59 868.553 1462.15 Q868.553 1456.83 871.701 1453.61 Q874.849 1450.39 880.081 1450.39 Q886.076 1450.39 889.224 1455 Q892.395 1459.58 892.395 1468.33 Q892.395 1476.51 888.507 1481.39 Q884.641 1486.25 878.09 1486.25 Q876.331 1486.25 874.525 1485.9 Q872.72 1485.56 870.775 1484.86 M880.081 1470.21 Q883.229 1470.21 885.057 1468.06 Q886.909 1465.9 886.909 1462.15 Q886.909 1458.43 885.057 1456.27 Q883.229 1454.1 880.081 1454.1 Q876.932 1454.1 875.081 1456.27 Q873.252 1458.43 873.252 1462.15 Q873.252 1465.9 875.081 1468.06 Q876.932 1470.21 880.081 1470.21 Z\" fill=\"#000000\" fill-rule=\"evenodd\" fill-opacity=\"1\" /><path clip-path=\"url(#clip510)\" d=\"M898.043 1470.7 L910.52 1470.7 L910.52 1474.49 L898.043 1474.49 L898.043 1470.7 Z\" fill=\"#000000\" fill-rule=\"evenodd\" fill-opacity=\"1\" /><path clip-path=\"url(#clip510)\" d=\"M927.904 1454.1 Q924.293 1454.1 922.465 1457.66 Q920.659 1461.2 920.659 1468.33 Q920.659 1475.44 922.465 1479.01 Q924.293 1482.55 927.904 1482.55 Q931.539 1482.55 933.344 1479.01 Q935.173 1475.44 935.173 1468.33 Q935.173 1461.2 933.344 1457.66 Q931.539 1454.1 927.904 1454.1 M927.904 1450.39 Q933.715 1450.39 936.77 1455 Q939.849 1459.58 939.849 1468.33 Q939.849 1477.06 936.77 1481.67 Q933.715 1486.25 927.904 1486.25 Q922.094 1486.25 919.016 1481.67 Q915.96 1477.06 915.96 1468.33 Q915.96 1459.58 919.016 1455 Q922.094 1450.39 927.904 1450.39 Z\" fill=\"#000000\" fill-rule=\"evenodd\" fill-opacity=\"1\" /><path clip-path=\"url(#clip510)\" d=\"M948.205 1484.86 L948.205 1480.6 Q949.965 1481.44 951.77 1481.88 Q953.576 1482.32 955.312 1482.32 Q959.941 1482.32 962.372 1479.21 Q964.826 1476.09 965.173 1469.75 Q963.83 1471.74 961.77 1472.8 Q959.71 1473.87 957.21 1473.87 Q952.025 1473.87 948.992 1470.74 Q945.983 1467.59 945.983 1462.15 Q945.983 1456.83 949.131 1453.61 Q952.279 1450.39 957.511 1450.39 Q963.506 1450.39 966.654 1455 Q969.826 1459.58 969.826 1468.33 Q969.826 1476.51 965.937 1481.39 Q962.071 1486.25 955.52 1486.25 Q953.761 1486.25 951.955 1485.9 Q950.15 1485.56 948.205 1484.86 M957.511 1470.21 Q960.659 1470.21 962.488 1468.06 Q964.339 1465.9 964.339 1462.15 Q964.339 1458.43 962.488 1456.27 Q960.659 1454.1 957.511 1454.1 Q954.363 1454.1 952.511 1456.27 Q950.682 1458.43 950.682 1462.15 Q950.682 1465.9 952.511 1468.06 Q954.363 1470.21 957.511 1470.21 Z\" fill=\"#000000\" fill-rule=\"evenodd\" fill-opacity=\"1\" /><path clip-path=\"url(#clip510)\" d=\"M1262.13 1481.64 L1278.44 1481.64 L1278.44 1485.58 L1256.5 1485.58 L1256.5 1481.64 Q1259.16 1478.89 1263.75 1474.26 Q1268.35 1469.61 1269.53 1468.27 Q1271.78 1465.74 1272.66 1464.01 Q1273.56 1462.25 1273.56 1460.56 Q1273.56 1457.8 1271.62 1456.07 Q1269.69 1454.33 1266.59 1454.33 Q1264.39 1454.33 1261.94 1455.09 Q1259.51 1455.86 1256.73 1457.41 L1256.73 1452.69 Q1259.56 1451.55 1262.01 1450.97 Q1264.46 1450.39 1266.5 1450.39 Q1271.87 1450.39 1275.07 1453.08 Q1278.26 1455.77 1278.26 1460.26 Q1278.26 1462.39 1277.45 1464.31 Q1276.66 1466.2 1274.56 1468.8 Q1273.98 1469.47 1270.88 1472.69 Q1267.77 1475.88 1262.13 1481.64 Z\" fill=\"#000000\" fill-rule=\"evenodd\" fill-opacity=\"1\" /><path clip-path=\"url(#clip510)\" d=\"M1298.26 1454.1 Q1294.65 1454.1 1292.82 1457.66 Q1291.01 1461.2 1291.01 1468.33 Q1291.01 1475.44 1292.82 1479.01 Q1294.65 1482.55 1298.26 1482.55 Q1301.89 1482.55 1303.7 1479.01 Q1305.53 1475.44 1305.53 1468.33 Q1305.53 1461.2 1303.7 1457.66 Q1301.89 1454.1 1298.26 1454.1 M1298.26 1450.39 Q1304.07 1450.39 1307.13 1455 Q1310.2 1459.58 1310.2 1468.33 Q1310.2 1477.06 1307.13 1481.67 Q1304.07 1486.25 1298.26 1486.25 Q1292.45 1486.25 1289.37 1481.67 Q1286.32 1477.06 1286.32 1468.33 Q1286.32 1459.58 1289.37 1455 Q1292.45 1450.39 1298.26 1450.39 Z\" fill=\"#000000\" fill-rule=\"evenodd\" fill-opacity=\"1\" /><path clip-path=\"url(#clip510)\" d=\"M1322.45 1481.64 L1338.77 1481.64 L1338.77 1485.58 L1316.82 1485.58 L1316.82 1481.64 Q1319.49 1478.89 1324.07 1474.26 Q1328.68 1469.61 1329.86 1468.27 Q1332.1 1465.74 1332.98 1464.01 Q1333.88 1462.25 1333.88 1460.56 Q1333.88 1457.8 1331.94 1456.07 Q1330.02 1454.33 1326.92 1454.33 Q1324.72 1454.33 1322.26 1455.09 Q1319.83 1455.86 1317.06 1457.41 L1317.06 1452.69 Q1319.88 1451.55 1322.33 1450.97 Q1324.79 1450.39 1326.82 1450.39 Q1332.19 1450.39 1335.39 1453.08 Q1338.58 1455.77 1338.58 1460.26 Q1338.58 1462.39 1337.77 1464.31 Q1336.99 1466.2 1334.88 1468.8 Q1334.3 1469.47 1331.2 1472.69 Q1328.1 1475.88 1322.45 1481.64 Z\" fill=\"#000000\" fill-rule=\"evenodd\" fill-opacity=\"1\" /><path clip-path=\"url(#clip510)\" d=\"M1352.61 1481.64 L1368.93 1481.64 L1368.93 1485.58 L1346.99 1485.58 L1346.99 1481.64 Q1349.65 1478.89 1354.23 1474.26 Q1358.84 1469.61 1360.02 1468.27 Q1362.26 1465.74 1363.14 1464.01 Q1364.05 1462.25 1364.05 1460.56 Q1364.05 1457.8 1362.1 1456.07 Q1360.18 1454.33 1357.08 1454.33 Q1354.88 1454.33 1352.43 1455.09 Q1350 1455.86 1347.22 1457.41 L1347.22 1452.69 Q1350.04 1451.55 1352.5 1450.97 Q1354.95 1450.39 1356.99 1450.39 Q1362.36 1450.39 1365.55 1453.08 Q1368.75 1455.77 1368.75 1460.26 Q1368.75 1462.39 1367.94 1464.31 Q1367.15 1466.2 1365.04 1468.8 Q1364.46 1469.47 1361.36 1472.69 Q1358.26 1475.88 1352.61 1481.64 Z\" fill=\"#000000\" fill-rule=\"evenodd\" fill-opacity=\"1\" /><path clip-path=\"url(#clip510)\" d=\"M1375.99 1470.7 L1388.47 1470.7 L1388.47 1474.49 L1375.99 1474.49 L1375.99 1470.7 Z\" fill=\"#000000\" fill-rule=\"evenodd\" fill-opacity=\"1\" /><path clip-path=\"url(#clip510)\" d=\"M1405.85 1454.1 Q1402.24 1454.1 1400.41 1457.66 Q1398.61 1461.2 1398.61 1468.33 Q1398.61 1475.44 1400.41 1479.01 Q1402.24 1482.55 1405.85 1482.55 Q1409.49 1482.55 1411.29 1479.01 Q1413.12 1475.44 1413.12 1468.33 Q1413.12 1461.2 1411.29 1457.66 Q1409.49 1454.1 1405.85 1454.1 M1405.85 1450.39 Q1411.66 1450.39 1414.72 1455 Q1417.8 1459.58 1417.8 1468.33 Q1417.8 1477.06 1414.72 1481.67 Q1411.66 1486.25 1405.85 1486.25 Q1400.04 1486.25 1396.96 1481.67 Q1393.91 1477.06 1393.91 1468.33 Q1393.91 1459.58 1396.96 1455 Q1400.04 1450.39 1405.85 1450.39 Z\" fill=\"#000000\" fill-rule=\"evenodd\" fill-opacity=\"1\" /><path clip-path=\"url(#clip510)\" d=\"M1426.15 1484.86 L1426.15 1480.6 Q1427.91 1481.44 1429.72 1481.88 Q1431.52 1482.32 1433.26 1482.32 Q1437.89 1482.32 1440.32 1479.21 Q1442.77 1476.09 1443.12 1469.75 Q1441.78 1471.74 1439.72 1472.8 Q1437.66 1473.87 1435.16 1473.87 Q1429.97 1473.87 1426.94 1470.74 Q1423.93 1467.59 1423.93 1462.15 Q1423.93 1456.83 1427.08 1453.61 Q1430.23 1450.39 1435.46 1450.39 Q1441.45 1450.39 1444.6 1455 Q1447.77 1459.58 1447.77 1468.33 Q1447.77 1476.51 1443.88 1481.39 Q1440.02 1486.25 1433.47 1486.25 Q1431.71 1486.25 1429.9 1485.9 Q1428.1 1485.56 1426.15 1484.86 M1435.46 1470.21 Q1438.61 1470.21 1440.43 1468.06 Q1442.29 1465.9 1442.29 1462.15 Q1442.29 1458.43 1440.43 1456.27 Q1438.61 1454.1 1435.46 1454.1 Q1432.31 1454.1 1430.46 1456.27 Q1428.63 1458.43 1428.63 1462.15 Q1428.63 1465.9 1430.46 1468.06 Q1432.31 1470.21 1435.46 1470.21 Z\" fill=\"#000000\" fill-rule=\"evenodd\" fill-opacity=\"1\" /><path clip-path=\"url(#clip510)\" d=\"M1453.42 1470.7 L1465.9 1470.7 L1465.9 1474.49 L1453.42 1474.49 L1453.42 1470.7 Z\" fill=\"#000000\" fill-rule=\"evenodd\" fill-opacity=\"1\" /><path clip-path=\"url(#clip510)\" d=\"M1474.09 1481.64 L1481.73 1481.64 L1481.73 1455.28 L1473.42 1456.95 L1473.42 1452.69 L1481.68 1451.02 L1486.36 1451.02 L1486.36 1481.64 L1494 1481.64 L1494 1485.58 L1474.09 1485.58 L1474.09 1481.64 Z\" fill=\"#000000\" fill-rule=\"evenodd\" fill-opacity=\"1\" /><path clip-path=\"url(#clip510)\" d=\"M1502.26 1451.02 L1524.49 1451.02 L1524.49 1453.01 L1511.94 1485.58 L1507.05 1485.58 L1518.86 1454.96 L1502.26 1454.96 L1502.26 1451.02 Z\" fill=\"#000000\" fill-rule=\"evenodd\" fill-opacity=\"1\" /><path clip-path=\"url(#clip510)\" d=\"M1817.19 1481.64 L1833.51 1481.64 L1833.51 1485.58 L1811.57 1485.58 L1811.57 1481.64 Q1814.23 1478.89 1818.81 1474.26 Q1823.42 1469.61 1824.6 1468.27 Q1826.84 1465.74 1827.72 1464.01 Q1828.63 1462.25 1828.63 1460.56 Q1828.63 1457.8 1826.68 1456.07 Q1824.76 1454.33 1821.66 1454.33 Q1819.46 1454.33 1817 1455.09 Q1814.57 1455.86 1811.8 1457.41 L1811.8 1452.69 Q1814.62 1451.55 1817.07 1450.97 Q1819.53 1450.39 1821.57 1450.39 Q1826.94 1450.39 1830.13 1453.08 Q1833.32 1455.77 1833.32 1460.26 Q1833.32 1462.39 1832.51 1464.31 Q1831.73 1466.2 1829.62 1468.8 Q1829.04 1469.47 1825.94 1472.69 Q1822.84 1475.88 1817.19 1481.64 Z\" fill=\"#000000\" fill-rule=\"evenodd\" fill-opacity=\"1\" /><path clip-path=\"url(#clip510)\" d=\"M1853.32 1454.1 Q1849.71 1454.1 1847.88 1457.66 Q1846.08 1461.2 1846.08 1468.33 Q1846.08 1475.44 1847.88 1479.01 Q1849.71 1482.55 1853.32 1482.55 Q1856.96 1482.55 1858.76 1479.01 Q1860.59 1475.44 1860.59 1468.33 Q1860.59 1461.2 1858.76 1457.66 Q1856.96 1454.1 1853.32 1454.1 M1853.32 1450.39 Q1859.13 1450.39 1862.19 1455 Q1865.27 1459.58 1865.27 1468.33 Q1865.27 1477.06 1862.19 1481.67 Q1859.13 1486.25 1853.32 1486.25 Q1847.51 1486.25 1844.44 1481.67 Q1841.38 1477.06 1841.38 1468.33 Q1841.38 1459.58 1844.44 1455 Q1847.51 1450.39 1853.32 1450.39 Z\" fill=\"#000000\" fill-rule=\"evenodd\" fill-opacity=\"1\" /><path clip-path=\"url(#clip510)\" d=\"M1877.51 1481.64 L1893.83 1481.64 L1893.83 1485.58 L1871.89 1485.58 L1871.89 1481.64 Q1874.55 1478.89 1879.13 1474.26 Q1883.74 1469.61 1884.92 1468.27 Q1887.17 1465.74 1888.05 1464.01 Q1888.95 1462.25 1888.95 1460.56 Q1888.95 1457.8 1887 1456.07 Q1885.08 1454.33 1881.98 1454.33 Q1879.78 1454.33 1877.33 1455.09 Q1874.9 1455.86 1872.12 1457.41 L1872.12 1452.69 Q1874.94 1451.55 1877.4 1450.97 Q1879.85 1450.39 1881.89 1450.39 Q1887.26 1450.39 1890.45 1453.08 Q1893.65 1455.77 1893.65 1460.26 Q1893.65 1462.39 1892.84 1464.31 Q1892.05 1466.2 1889.94 1468.8 Q1889.37 1469.47 1886.26 1472.69 Q1883.16 1475.88 1877.51 1481.64 Z\" fill=\"#000000\" fill-rule=\"evenodd\" fill-opacity=\"1\" /><path clip-path=\"url(#clip510)\" d=\"M1907.68 1481.64 L1924 1481.64 L1924 1485.58 L1902.05 1485.58 L1902.05 1481.64 Q1904.71 1478.89 1909.3 1474.26 Q1913.9 1469.61 1915.08 1468.27 Q1917.33 1465.74 1918.21 1464.01 Q1919.11 1462.25 1919.11 1460.56 Q1919.11 1457.8 1917.17 1456.07 Q1915.25 1454.33 1912.14 1454.33 Q1909.94 1454.33 1907.49 1455.09 Q1905.06 1455.86 1902.28 1457.41 L1902.28 1452.69 Q1905.11 1451.55 1907.56 1450.97 Q1910.01 1450.39 1912.05 1450.39 Q1917.42 1450.39 1920.62 1453.08 Q1923.81 1455.77 1923.81 1460.26 Q1923.81 1462.39 1923 1464.31 Q1922.21 1466.2 1920.11 1468.8 Q1919.53 1469.47 1916.43 1472.69 Q1913.32 1475.88 1907.68 1481.64 Z\" fill=\"#000000\" fill-rule=\"evenodd\" fill-opacity=\"1\" /><path clip-path=\"url(#clip510)\" d=\"M1931.06 1470.7 L1943.53 1470.7 L1943.53 1474.49 L1931.06 1474.49 L1931.06 1470.7 Z\" fill=\"#000000\" fill-rule=\"evenodd\" fill-opacity=\"1\" /><path clip-path=\"url(#clip510)\" d=\"M1960.92 1454.1 Q1957.31 1454.1 1955.48 1457.66 Q1953.67 1461.2 1953.67 1468.33 Q1953.67 1475.44 1955.48 1479.01 Q1957.31 1482.55 1960.92 1482.55 Q1964.55 1482.55 1966.36 1479.01 Q1968.18 1475.44 1968.18 1468.33 Q1968.18 1461.2 1966.36 1457.66 Q1964.55 1454.1 1960.92 1454.1 M1960.92 1450.39 Q1966.73 1450.39 1969.78 1455 Q1972.86 1459.58 1972.86 1468.33 Q1972.86 1477.06 1969.78 1481.67 Q1966.73 1486.25 1960.92 1486.25 Q1955.11 1486.25 1952.03 1481.67 Q1948.97 1477.06 1948.97 1468.33 Q1948.97 1459.58 1952.03 1455 Q1955.11 1450.39 1960.92 1450.39 Z\" fill=\"#000000\" fill-rule=\"evenodd\" fill-opacity=\"1\" /><path clip-path=\"url(#clip510)\" d=\"M1981.22 1484.86 L1981.22 1480.6 Q1982.98 1481.44 1984.78 1481.88 Q1986.59 1482.32 1988.32 1482.32 Q1992.95 1482.32 1995.38 1479.21 Q1997.84 1476.09 1998.18 1469.75 Q1996.84 1471.74 1994.78 1472.8 Q1992.72 1473.87 1990.22 1473.87 Q1985.04 1473.87 1982 1470.74 Q1978.99 1467.59 1978.99 1462.15 Q1978.99 1456.83 1982.14 1453.61 Q1985.29 1450.39 1990.52 1450.39 Q1996.52 1450.39 1999.67 1455 Q2002.84 1459.58 2002.84 1468.33 Q2002.84 1476.51 1998.95 1481.39 Q1995.08 1486.25 1988.53 1486.25 Q1986.77 1486.25 1984.97 1485.9 Q1983.16 1485.56 1981.22 1484.86 M1990.52 1470.21 Q1993.67 1470.21 1995.5 1468.06 Q1997.35 1465.9 1997.35 1462.15 Q1997.35 1458.43 1995.5 1456.27 Q1993.67 1454.1 1990.52 1454.1 Q1987.37 1454.1 1985.52 1456.27 Q1983.69 1458.43 1983.69 1462.15 Q1983.69 1465.9 1985.52 1468.06 Q1987.37 1470.21 1990.52 1470.21 Z\" fill=\"#000000\" fill-rule=\"evenodd\" fill-opacity=\"1\" /><path clip-path=\"url(#clip510)\" d=\"M2008.49 1470.7 L2020.96 1470.7 L2020.96 1474.49 L2008.49 1474.49 L2008.49 1470.7 Z\" fill=\"#000000\" fill-rule=\"evenodd\" fill-opacity=\"1\" /><path clip-path=\"url(#clip510)\" d=\"M2032.37 1481.64 L2048.69 1481.64 L2048.69 1485.58 L2026.75 1485.58 L2026.75 1481.64 Q2029.41 1478.89 2033.99 1474.26 Q2038.6 1469.61 2039.78 1468.27 Q2042.03 1465.74 2042.91 1464.01 Q2043.81 1462.25 2043.81 1460.56 Q2043.81 1457.8 2041.86 1456.07 Q2039.94 1454.33 2036.84 1454.33 Q2034.64 1454.33 2032.19 1455.09 Q2029.76 1455.86 2026.98 1457.41 L2026.98 1452.69 Q2029.8 1451.55 2032.26 1450.97 Q2034.71 1450.39 2036.75 1450.39 Q2042.12 1450.39 2045.31 1453.08 Q2048.51 1455.77 2048.51 1460.26 Q2048.51 1462.39 2047.7 1464.31 Q2046.91 1466.2 2044.8 1468.8 Q2044.23 1469.47 2041.12 1472.69 Q2038.02 1475.88 2032.37 1481.64 Z\" fill=\"#000000\" fill-rule=\"evenodd\" fill-opacity=\"1\" /><path clip-path=\"url(#clip510)\" d=\"M2058.55 1451.02 L2076.91 1451.02 L2076.91 1454.96 L2062.84 1454.96 L2062.84 1463.43 Q2063.86 1463.08 2064.87 1462.92 Q2065.89 1462.73 2066.91 1462.73 Q2072.7 1462.73 2076.08 1465.9 Q2079.46 1469.08 2079.46 1474.49 Q2079.46 1480.07 2075.99 1483.17 Q2072.51 1486.25 2066.19 1486.25 Q2064.02 1486.25 2061.75 1485.88 Q2059.5 1485.51 2057.1 1484.77 L2057.1 1480.07 Q2059.18 1481.2 2061.4 1481.76 Q2063.62 1482.32 2066.1 1482.32 Q2070.11 1482.32 2072.44 1480.21 Q2074.78 1478.1 2074.78 1474.49 Q2074.78 1470.88 2072.44 1468.77 Q2070.11 1466.67 2066.1 1466.67 Q2064.23 1466.67 2062.35 1467.08 Q2060.5 1467.5 2058.55 1468.38 L2058.55 1451.02 Z\" fill=\"#000000\" fill-rule=\"evenodd\" fill-opacity=\"1\" /><path clip-path=\"url(#clip510)\" d=\"M1219.89 1525.81 L1219.89 1562.76 L1227.66 1562.76 Q1237.49 1562.76 1242.04 1558.3 Q1246.63 1553.85 1246.63 1544.24 Q1246.63 1534.69 1242.04 1530.26 Q1237.49 1525.81 1227.66 1525.81 L1219.89 1525.81 M1213.46 1520.52 L1226.67 1520.52 Q1240.48 1520.52 1246.94 1526.28 Q1253.4 1532.01 1253.4 1544.24 Q1253.4 1556.52 1246.91 1562.28 Q1240.42 1568.04 1226.67 1568.04 L1213.46 1568.04 L1213.46 1520.52 Z\" fill=\"#000000\" fill-rule=\"evenodd\" fill-opacity=\"1\" /><path clip-path=\"url(#clip510)\" d=\"M1279.6 1550.12 Q1272.5 1550.12 1269.76 1551.75 Q1267.03 1553.37 1267.03 1557.29 Q1267.03 1560.4 1269.06 1562.25 Q1271.13 1564.07 1274.67 1564.07 Q1279.54 1564.07 1282.46 1560.63 Q1285.42 1557.16 1285.42 1551.43 L1285.42 1550.12 L1279.6 1550.12 M1291.28 1547.71 L1291.28 1568.04 L1285.42 1568.04 L1285.42 1562.63 Q1283.42 1565.88 1280.43 1567.44 Q1277.44 1568.97 1273.11 1568.97 Q1267.63 1568.97 1264.39 1565.91 Q1261.17 1562.82 1261.17 1557.67 Q1261.17 1551.65 1265.18 1548.6 Q1269.22 1545.54 1277.21 1545.54 L1285.42 1545.54 L1285.42 1544.97 Q1285.42 1540.93 1282.75 1538.73 Q1280.11 1536.5 1275.3 1536.5 Q1272.25 1536.5 1269.35 1537.23 Q1266.45 1537.97 1263.78 1539.43 L1263.78 1534.02 Q1267 1532.78 1270.02 1532.17 Q1273.04 1531.54 1275.91 1531.54 Q1283.64 1531.54 1287.46 1535.55 Q1291.28 1539.56 1291.28 1547.71 Z\" fill=\"#000000\" fill-rule=\"evenodd\" fill-opacity=\"1\" /><path clip-path=\"url(#clip510)\" d=\"M1309.14 1522.27 L1309.14 1532.4 L1321.2 1532.4 L1321.2 1536.95 L1309.14 1536.95 L1309.14 1556.3 Q1309.14 1560.66 1310.31 1561.9 Q1311.52 1563.14 1315.18 1563.14 L1321.2 1563.14 L1321.2 1568.04 L1315.18 1568.04 Q1308.4 1568.04 1305.83 1565.53 Q1303.25 1562.98 1303.25 1556.3 L1303.25 1536.95 L1298.95 1536.95 L1298.95 1532.4 L1303.25 1532.4 L1303.25 1522.27 L1309.14 1522.27 Z\" fill=\"#000000\" fill-rule=\"evenodd\" fill-opacity=\"1\" /><path clip-path=\"url(#clip510)\" d=\"M1359.39 1548.76 L1359.39 1551.62 L1332.47 1551.62 Q1332.85 1557.67 1336.1 1560.85 Q1339.37 1564 1345.2 1564 Q1348.57 1564 1351.72 1563.17 Q1354.91 1562.35 1358.03 1560.69 L1358.03 1566.23 Q1354.87 1567.57 1351.56 1568.27 Q1348.25 1568.97 1344.85 1568.97 Q1336.32 1568.97 1331.32 1564 Q1326.36 1559.04 1326.36 1550.57 Q1326.36 1541.82 1331.07 1536.69 Q1335.81 1531.54 1343.83 1531.54 Q1351.02 1531.54 1355.19 1536.18 Q1359.39 1540.8 1359.39 1548.76 M1353.54 1547.04 Q1353.47 1542.23 1350.83 1539.37 Q1348.22 1536.5 1343.89 1536.5 Q1338.99 1536.5 1336.03 1539.27 Q1333.1 1542.04 1332.66 1547.07 L1353.54 1547.04 Z\" fill=\"#000000\" fill-rule=\"evenodd\" fill-opacity=\"1\" /><polyline clip-path=\"url(#clip512)\" style=\"stroke:#000000; stroke-linecap:round; stroke-linejoin:round; stroke-width:2; stroke-opacity:0.1; fill:none\" points=\"220.098,1142.18 2352.76,1142.18 \"/>\n",
       "<polyline clip-path=\"url(#clip512)\" style=\"stroke:#000000; stroke-linecap:round; stroke-linejoin:round; stroke-width:2; stroke-opacity:0.1; fill:none\" points=\"220.098,829.849 2352.76,829.849 \"/>\n",
       "<polyline clip-path=\"url(#clip512)\" style=\"stroke:#000000; stroke-linecap:round; stroke-linejoin:round; stroke-width:2; stroke-opacity:0.1; fill:none\" points=\"220.098,517.516 2352.76,517.516 \"/>\n",
       "<polyline clip-path=\"url(#clip512)\" style=\"stroke:#000000; stroke-linecap:round; stroke-linejoin:round; stroke-width:2; stroke-opacity:0.1; fill:none\" points=\"220.098,205.184 2352.76,205.184 \"/>\n",
       "<polyline clip-path=\"url(#clip510)\" style=\"stroke:#000000; stroke-linecap:round; stroke-linejoin:round; stroke-width:4; stroke-opacity:1; fill:none\" points=\"220.098,1423.18 220.098,47.2441 \"/>\n",
       "<polyline clip-path=\"url(#clip510)\" style=\"stroke:#000000; stroke-linecap:round; stroke-linejoin:round; stroke-width:4; stroke-opacity:1; fill:none\" points=\"220.098,1142.18 238.995,1142.18 \"/>\n",
       "<polyline clip-path=\"url(#clip510)\" style=\"stroke:#000000; stroke-linecap:round; stroke-linejoin:round; stroke-width:4; stroke-opacity:1; fill:none\" points=\"220.098,829.849 238.995,829.849 \"/>\n",
       "<polyline clip-path=\"url(#clip510)\" style=\"stroke:#000000; stroke-linecap:round; stroke-linejoin:round; stroke-width:4; stroke-opacity:1; fill:none\" points=\"220.098,517.516 238.995,517.516 \"/>\n",
       "<polyline clip-path=\"url(#clip510)\" style=\"stroke:#000000; stroke-linecap:round; stroke-linejoin:round; stroke-width:4; stroke-opacity:1; fill:none\" points=\"220.098,205.184 238.995,205.184 \"/>\n",
       "<path clip-path=\"url(#clip510)\" d=\"M130.672 1128.97 L118.867 1147.42 L130.672 1147.42 L130.672 1128.97 M129.445 1124.9 L135.325 1124.9 L135.325 1147.42 L140.255 1147.42 L140.255 1151.31 L135.325 1151.31 L135.325 1159.46 L130.672 1159.46 L130.672 1151.31 L115.07 1151.31 L115.07 1146.8 L129.445 1124.9 Z\" fill=\"#000000\" fill-rule=\"evenodd\" fill-opacity=\"1\" /><path clip-path=\"url(#clip510)\" d=\"M147.987 1153.58 L152.871 1153.58 L152.871 1159.46 L147.987 1159.46 L147.987 1153.58 Z\" fill=\"#000000\" fill-rule=\"evenodd\" fill-opacity=\"1\" /><path clip-path=\"url(#clip510)\" d=\"M161.876 1124.9 L184.098 1124.9 L184.098 1126.89 L171.552 1159.46 L166.667 1159.46 L178.473 1128.84 L161.876 1128.84 L161.876 1124.9 Z\" fill=\"#000000\" fill-rule=\"evenodd\" fill-opacity=\"1\" /><path clip-path=\"url(#clip510)\" d=\"M129.862 816.643 L118.056 835.092 L129.862 835.092 L129.862 816.643 M128.635 812.569 L134.515 812.569 L134.515 835.092 L139.445 835.092 L139.445 838.981 L134.515 838.981 L134.515 847.129 L129.862 847.129 L129.862 838.981 L114.26 838.981 L114.26 834.467 L128.635 812.569 Z\" fill=\"#000000\" fill-rule=\"evenodd\" fill-opacity=\"1\" /><path clip-path=\"url(#clip510)\" d=\"M147.177 841.249 L152.061 841.249 L152.061 847.129 L147.177 847.129 L147.177 841.249 Z\" fill=\"#000000\" fill-rule=\"evenodd\" fill-opacity=\"1\" /><path clip-path=\"url(#clip510)\" d=\"M172.246 830.717 Q168.913 830.717 166.991 832.499 Q165.093 834.281 165.093 837.406 Q165.093 840.531 166.991 842.314 Q168.913 844.096 172.246 844.096 Q175.579 844.096 177.501 842.314 Q179.422 840.508 179.422 837.406 Q179.422 834.281 177.501 832.499 Q175.602 830.717 172.246 830.717 M167.57 828.726 Q164.561 827.985 162.871 825.925 Q161.204 823.865 161.204 820.902 Q161.204 816.758 164.144 814.351 Q167.107 811.944 172.246 811.944 Q177.408 811.944 180.348 814.351 Q183.288 816.758 183.288 820.902 Q183.288 823.865 181.598 825.925 Q179.931 827.985 176.945 828.726 Q180.325 829.513 182.2 831.805 Q184.098 834.096 184.098 837.406 Q184.098 842.43 181.019 845.115 Q177.964 847.8 172.246 847.8 Q166.528 847.8 163.45 845.115 Q160.394 842.43 160.394 837.406 Q160.394 834.096 162.292 831.805 Q164.19 829.513 167.57 828.726 M165.857 821.342 Q165.857 824.027 167.524 825.532 Q169.214 827.036 172.246 827.036 Q175.255 827.036 176.945 825.532 Q178.658 824.027 178.658 821.342 Q178.658 818.657 176.945 817.152 Q175.255 815.647 172.246 815.647 Q169.214 815.647 167.524 817.152 Q165.857 818.657 165.857 821.342 Z\" fill=\"#000000\" fill-rule=\"evenodd\" fill-opacity=\"1\" /><path clip-path=\"url(#clip510)\" d=\"M129.955 504.31 L118.149 522.759 L129.955 522.759 L129.955 504.31 M128.728 500.236 L134.607 500.236 L134.607 522.759 L139.538 522.759 L139.538 526.648 L134.607 526.648 L134.607 534.796 L129.955 534.796 L129.955 526.648 L114.353 526.648 L114.353 522.134 L128.728 500.236 Z\" fill=\"#000000\" fill-rule=\"evenodd\" fill-opacity=\"1\" /><path clip-path=\"url(#clip510)\" d=\"M147.269 528.917 L152.153 528.917 L152.153 534.796 L147.269 534.796 L147.269 528.917 Z\" fill=\"#000000\" fill-rule=\"evenodd\" fill-opacity=\"1\" /><path clip-path=\"url(#clip510)\" d=\"M162.477 534.079 L162.477 529.82 Q164.237 530.653 166.042 531.093 Q167.848 531.533 169.584 531.533 Q174.214 531.533 176.644 528.431 Q179.098 525.306 179.445 518.963 Q178.102 520.954 176.042 522.019 Q173.982 523.084 171.482 523.084 Q166.297 523.084 163.265 519.959 Q160.255 516.81 160.255 511.371 Q160.255 506.047 163.403 502.829 Q166.552 499.611 171.783 499.611 Q177.778 499.611 180.926 504.218 Q184.098 508.801 184.098 517.551 Q184.098 525.722 180.209 530.607 Q176.343 535.468 169.792 535.468 Q168.033 535.468 166.227 535.121 Q164.422 534.773 162.477 534.079 M171.783 519.426 Q174.931 519.426 176.76 517.273 Q178.612 515.121 178.612 511.371 Q178.612 507.644 176.76 505.491 Q174.931 503.315 171.783 503.315 Q168.635 503.315 166.783 505.491 Q164.954 507.644 164.954 511.371 Q164.954 515.121 166.783 517.273 Q168.635 519.426 171.783 519.426 Z\" fill=\"#000000\" fill-rule=\"evenodd\" fill-opacity=\"1\" /><path clip-path=\"url(#clip510)\" d=\"M116.968 187.904 L135.325 187.904 L135.325 191.839 L121.251 191.839 L121.251 200.312 Q122.269 199.964 123.288 199.802 Q124.306 199.617 125.325 199.617 Q131.112 199.617 134.492 202.788 Q137.871 205.96 137.871 211.376 Q137.871 216.955 134.399 220.057 Q130.927 223.136 124.607 223.136 Q122.431 223.136 120.163 222.765 Q117.918 222.395 115.51 221.654 L115.51 216.955 Q117.593 218.089 119.816 218.645 Q122.038 219.2 124.515 219.2 Q128.519 219.2 130.857 217.094 Q133.195 214.987 133.195 211.376 Q133.195 207.765 130.857 205.659 Q128.519 203.552 124.515 203.552 Q122.64 203.552 120.765 203.969 Q118.913 204.386 116.968 205.265 L116.968 187.904 Z\" fill=\"#000000\" fill-rule=\"evenodd\" fill-opacity=\"1\" /><path clip-path=\"url(#clip510)\" d=\"M147.084 216.585 L151.968 216.585 L151.968 222.464 L147.084 222.464 L147.084 216.585 Z\" fill=\"#000000\" fill-rule=\"evenodd\" fill-opacity=\"1\" /><path clip-path=\"url(#clip510)\" d=\"M172.153 190.983 Q168.542 190.983 166.714 194.548 Q164.908 198.089 164.908 205.219 Q164.908 212.325 166.714 215.89 Q168.542 219.432 172.153 219.432 Q175.788 219.432 177.593 215.89 Q179.422 212.325 179.422 205.219 Q179.422 198.089 177.593 194.548 Q175.788 190.983 172.153 190.983 M172.153 187.279 Q177.964 187.279 181.019 191.886 Q184.098 196.469 184.098 205.219 Q184.098 213.946 181.019 218.552 Q177.964 223.136 172.153 223.136 Q166.343 223.136 163.265 218.552 Q160.209 213.946 160.209 205.219 Q160.209 196.469 163.265 191.886 Q166.343 187.279 172.153 187.279 Z\" fill=\"#000000\" fill-rule=\"evenodd\" fill-opacity=\"1\" /><path clip-path=\"url(#clip510)\" d=\"M21.7677 866.473 L39.6235 866.473 L39.6235 858.388 Q39.6235 853.901 37.3 851.45 Q34.9765 848.999 30.6797 848.999 Q26.4147 848.999 24.0912 851.45 Q21.7677 853.901 21.7677 858.388 L21.7677 866.473 M16.4842 872.902 L16.4842 858.388 Q16.4842 850.399 20.1126 846.325 Q23.7092 842.219 30.6797 842.219 Q37.7138 842.219 41.3104 846.325 Q44.907 850.399 44.907 858.388 L44.907 866.473 L64.0042 866.473 L64.0042 872.902 L16.4842 872.902 Z\" fill=\"#000000\" fill-rule=\"evenodd\" fill-opacity=\"1\" /><path clip-path=\"url(#clip510)\" d=\"M16.4842 833.594 L16.4842 827.165 L58.5933 827.165 L58.5933 804.025 L64.0042 804.025 L64.0042 833.594 L16.4842 833.594 Z\" fill=\"#000000\" fill-rule=\"evenodd\" fill-opacity=\"1\" /><path clip-path=\"url(#clip510)\" d=\"M16.4842 797.278 L16.4842 788.62 L56.238 767.55 L16.4842 767.55 L16.4842 761.311 L64.0042 761.311 L64.0042 769.969 L24.2503 791.039 L64.0042 791.039 L64.0042 797.278 L16.4842 797.278 Z\" fill=\"#000000\" fill-rule=\"evenodd\" fill-opacity=\"1\" /><path clip-path=\"url(#clip510)\" d=\"M16.4842 738.363 L16.4842 732.952 L70.0516 749.503 L70.0516 754.914 L16.4842 738.363 Z\" fill=\"#000000\" fill-rule=\"evenodd\" fill-opacity=\"1\" /><path clip-path=\"url(#clip510)\" d=\"M16.4842 727.287 L16.4842 720.825 L45.3526 720.825 Q52.9915 720.825 56.3653 718.056 Q59.7073 715.287 59.7073 709.081 Q59.7073 702.906 56.3653 700.137 Q52.9915 697.368 45.3526 697.368 L16.4842 697.368 L16.4842 690.907 L46.1484 690.907 Q55.4423 690.907 60.1847 695.522 Q64.9272 700.105 64.9272 709.081 Q64.9272 718.088 60.1847 722.703 Q55.4423 727.287 46.1484 727.287 L16.4842 727.287 Z\" fill=\"#000000\" fill-rule=\"evenodd\" fill-opacity=\"1\" /><path clip-path=\"url(#clip510)\" d=\"M18.0438 650.357 L24.314 650.357 Q22.5634 654.017 21.704 657.264 Q20.8447 660.51 20.8447 663.534 Q20.8447 668.786 22.8817 671.65 Q24.9187 674.483 28.6745 674.483 Q31.8255 674.483 33.4488 672.605 Q35.0402 670.696 36.0269 665.412 L36.8226 661.529 Q38.1912 654.336 41.6605 650.93 Q45.098 647.493 50.8908 647.493 Q57.7976 647.493 61.3624 652.139 Q64.9272 656.755 64.9272 665.698 Q64.9272 669.072 64.1633 672.892 Q63.3994 676.679 61.9035 680.753 L55.2831 680.753 Q57.4793 676.838 58.5933 673.083 Q59.7073 669.327 59.7073 665.698 Q59.7073 660.192 57.543 657.2 Q55.3786 654.208 51.3682 654.208 Q47.8671 654.208 45.8937 656.373 Q43.9204 658.505 42.9337 663.407 L42.1698 667.322 Q40.7375 674.515 37.682 677.73 Q34.6264 680.944 29.1837 680.944 Q22.8817 680.944 19.2532 676.52 Q15.6248 672.064 15.6248 664.266 Q15.6248 660.924 16.2295 657.455 Q16.8343 653.986 18.0438 650.357 Z\" fill=\"#000000\" fill-rule=\"evenodd\" fill-opacity=\"1\" /><path clip-path=\"url(#clip510)\" d=\"M21.7677 631.037 L58.7206 631.037 L58.7206 623.271 Q58.7206 613.436 54.2646 608.885 Q49.8086 604.301 40.1964 604.301 Q30.6479 604.301 26.2237 608.885 Q21.7677 613.436 21.7677 623.271 L21.7677 631.037 M16.4842 637.467 L16.4842 624.258 Q16.4842 610.444 22.2451 603.983 Q27.9743 597.522 40.1964 597.522 Q52.4822 597.522 58.2432 604.015 Q64.0042 610.508 64.0042 624.258 L64.0042 637.467 L16.4842 637.467 Z\" fill=\"#000000\" fill-rule=\"evenodd\" fill-opacity=\"1\" /><polyline clip-path=\"url(#clip512)\" style=\"stroke:#009af9; stroke-linecap:round; stroke-linejoin:round; stroke-width:4; stroke-opacity:1; fill:none\" points=\"280.456,1154.99 349.833,1055.98 557.965,926.672 627.342,1027.55 696.72,959.779 766.097,1058.48 835.474,1267.43 1043.61,1384.24 1112.98,1341.14 1182.36,1069.41 1251.74,1079.09 1321.12,1022.25 1529.25,1062.54 1598.62,1105.33 1668,855.148 1737.38,722.719 1806.76,581.232 2014.89,482.223 2084.27,368.846 2153.64,86.1857 2223.02,102.739 2292.4,351.043 \"/>\n",
       "<line clip-path=\"url(#clip512)\" x1=\"280.456\" y1=\"1154.99\" x2=\"264.456\" y2=\"1138.99\" style=\"stroke:#009af9; stroke-width:3.2; stroke-opacity:1\"/>\n",
       "<line clip-path=\"url(#clip512)\" x1=\"280.456\" y1=\"1154.99\" x2=\"264.456\" y2=\"1170.99\" style=\"stroke:#009af9; stroke-width:3.2; stroke-opacity:1\"/>\n",
       "<line clip-path=\"url(#clip512)\" x1=\"280.456\" y1=\"1154.99\" x2=\"296.456\" y2=\"1170.99\" style=\"stroke:#009af9; stroke-width:3.2; stroke-opacity:1\"/>\n",
       "<line clip-path=\"url(#clip512)\" x1=\"280.456\" y1=\"1154.99\" x2=\"296.456\" y2=\"1138.99\" style=\"stroke:#009af9; stroke-width:3.2; stroke-opacity:1\"/>\n",
       "<line clip-path=\"url(#clip512)\" x1=\"349.833\" y1=\"1055.98\" x2=\"333.833\" y2=\"1039.98\" style=\"stroke:#009af9; stroke-width:3.2; stroke-opacity:1\"/>\n",
       "<line clip-path=\"url(#clip512)\" x1=\"349.833\" y1=\"1055.98\" x2=\"333.833\" y2=\"1071.98\" style=\"stroke:#009af9; stroke-width:3.2; stroke-opacity:1\"/>\n",
       "<line clip-path=\"url(#clip512)\" x1=\"349.833\" y1=\"1055.98\" x2=\"365.833\" y2=\"1071.98\" style=\"stroke:#009af9; stroke-width:3.2; stroke-opacity:1\"/>\n",
       "<line clip-path=\"url(#clip512)\" x1=\"349.833\" y1=\"1055.98\" x2=\"365.833\" y2=\"1039.98\" style=\"stroke:#009af9; stroke-width:3.2; stroke-opacity:1\"/>\n",
       "<line clip-path=\"url(#clip512)\" x1=\"557.965\" y1=\"926.672\" x2=\"541.965\" y2=\"910.672\" style=\"stroke:#009af9; stroke-width:3.2; stroke-opacity:1\"/>\n",
       "<line clip-path=\"url(#clip512)\" x1=\"557.965\" y1=\"926.672\" x2=\"541.965\" y2=\"942.672\" style=\"stroke:#009af9; stroke-width:3.2; stroke-opacity:1\"/>\n",
       "<line clip-path=\"url(#clip512)\" x1=\"557.965\" y1=\"926.672\" x2=\"573.965\" y2=\"942.672\" style=\"stroke:#009af9; stroke-width:3.2; stroke-opacity:1\"/>\n",
       "<line clip-path=\"url(#clip512)\" x1=\"557.965\" y1=\"926.672\" x2=\"573.965\" y2=\"910.672\" style=\"stroke:#009af9; stroke-width:3.2; stroke-opacity:1\"/>\n",
       "<line clip-path=\"url(#clip512)\" x1=\"627.342\" y1=\"1027.55\" x2=\"611.342\" y2=\"1011.55\" style=\"stroke:#009af9; stroke-width:3.2; stroke-opacity:1\"/>\n",
       "<line clip-path=\"url(#clip512)\" x1=\"627.342\" y1=\"1027.55\" x2=\"611.342\" y2=\"1043.55\" style=\"stroke:#009af9; stroke-width:3.2; stroke-opacity:1\"/>\n",
       "<line clip-path=\"url(#clip512)\" x1=\"627.342\" y1=\"1027.55\" x2=\"643.342\" y2=\"1043.55\" style=\"stroke:#009af9; stroke-width:3.2; stroke-opacity:1\"/>\n",
       "<line clip-path=\"url(#clip512)\" x1=\"627.342\" y1=\"1027.55\" x2=\"643.342\" y2=\"1011.55\" style=\"stroke:#009af9; stroke-width:3.2; stroke-opacity:1\"/>\n",
       "<line clip-path=\"url(#clip512)\" x1=\"696.72\" y1=\"959.779\" x2=\"680.72\" y2=\"943.779\" style=\"stroke:#009af9; stroke-width:3.2; stroke-opacity:1\"/>\n",
       "<line clip-path=\"url(#clip512)\" x1=\"696.72\" y1=\"959.779\" x2=\"680.72\" y2=\"975.779\" style=\"stroke:#009af9; stroke-width:3.2; stroke-opacity:1\"/>\n",
       "<line clip-path=\"url(#clip512)\" x1=\"696.72\" y1=\"959.779\" x2=\"712.72\" y2=\"975.779\" style=\"stroke:#009af9; stroke-width:3.2; stroke-opacity:1\"/>\n",
       "<line clip-path=\"url(#clip512)\" x1=\"696.72\" y1=\"959.779\" x2=\"712.72\" y2=\"943.779\" style=\"stroke:#009af9; stroke-width:3.2; stroke-opacity:1\"/>\n",
       "<line clip-path=\"url(#clip512)\" x1=\"766.097\" y1=\"1058.48\" x2=\"750.097\" y2=\"1042.48\" style=\"stroke:#009af9; stroke-width:3.2; stroke-opacity:1\"/>\n",
       "<line clip-path=\"url(#clip512)\" x1=\"766.097\" y1=\"1058.48\" x2=\"750.097\" y2=\"1074.48\" style=\"stroke:#009af9; stroke-width:3.2; stroke-opacity:1\"/>\n",
       "<line clip-path=\"url(#clip512)\" x1=\"766.097\" y1=\"1058.48\" x2=\"782.097\" y2=\"1074.48\" style=\"stroke:#009af9; stroke-width:3.2; stroke-opacity:1\"/>\n",
       "<line clip-path=\"url(#clip512)\" x1=\"766.097\" y1=\"1058.48\" x2=\"782.097\" y2=\"1042.48\" style=\"stroke:#009af9; stroke-width:3.2; stroke-opacity:1\"/>\n",
       "<line clip-path=\"url(#clip512)\" x1=\"835.474\" y1=\"1267.43\" x2=\"819.474\" y2=\"1251.43\" style=\"stroke:#009af9; stroke-width:3.2; stroke-opacity:1\"/>\n",
       "<line clip-path=\"url(#clip512)\" x1=\"835.474\" y1=\"1267.43\" x2=\"819.474\" y2=\"1283.43\" style=\"stroke:#009af9; stroke-width:3.2; stroke-opacity:1\"/>\n",
       "<line clip-path=\"url(#clip512)\" x1=\"835.474\" y1=\"1267.43\" x2=\"851.474\" y2=\"1283.43\" style=\"stroke:#009af9; stroke-width:3.2; stroke-opacity:1\"/>\n",
       "<line clip-path=\"url(#clip512)\" x1=\"835.474\" y1=\"1267.43\" x2=\"851.474\" y2=\"1251.43\" style=\"stroke:#009af9; stroke-width:3.2; stroke-opacity:1\"/>\n",
       "<line clip-path=\"url(#clip512)\" x1=\"1043.61\" y1=\"1384.24\" x2=\"1027.61\" y2=\"1368.24\" style=\"stroke:#009af9; stroke-width:3.2; stroke-opacity:1\"/>\n",
       "<line clip-path=\"url(#clip512)\" x1=\"1043.61\" y1=\"1384.24\" x2=\"1027.61\" y2=\"1400.24\" style=\"stroke:#009af9; stroke-width:3.2; stroke-opacity:1\"/>\n",
       "<line clip-path=\"url(#clip512)\" x1=\"1043.61\" y1=\"1384.24\" x2=\"1059.61\" y2=\"1400.24\" style=\"stroke:#009af9; stroke-width:3.2; stroke-opacity:1\"/>\n",
       "<line clip-path=\"url(#clip512)\" x1=\"1043.61\" y1=\"1384.24\" x2=\"1059.61\" y2=\"1368.24\" style=\"stroke:#009af9; stroke-width:3.2; stroke-opacity:1\"/>\n",
       "<line clip-path=\"url(#clip512)\" x1=\"1112.98\" y1=\"1341.14\" x2=\"1096.98\" y2=\"1325.14\" style=\"stroke:#009af9; stroke-width:3.2; stroke-opacity:1\"/>\n",
       "<line clip-path=\"url(#clip512)\" x1=\"1112.98\" y1=\"1341.14\" x2=\"1096.98\" y2=\"1357.14\" style=\"stroke:#009af9; stroke-width:3.2; stroke-opacity:1\"/>\n",
       "<line clip-path=\"url(#clip512)\" x1=\"1112.98\" y1=\"1341.14\" x2=\"1128.98\" y2=\"1357.14\" style=\"stroke:#009af9; stroke-width:3.2; stroke-opacity:1\"/>\n",
       "<line clip-path=\"url(#clip512)\" x1=\"1112.98\" y1=\"1341.14\" x2=\"1128.98\" y2=\"1325.14\" style=\"stroke:#009af9; stroke-width:3.2; stroke-opacity:1\"/>\n",
       "<line clip-path=\"url(#clip512)\" x1=\"1182.36\" y1=\"1069.41\" x2=\"1166.36\" y2=\"1053.41\" style=\"stroke:#009af9; stroke-width:3.2; stroke-opacity:1\"/>\n",
       "<line clip-path=\"url(#clip512)\" x1=\"1182.36\" y1=\"1069.41\" x2=\"1166.36\" y2=\"1085.41\" style=\"stroke:#009af9; stroke-width:3.2; stroke-opacity:1\"/>\n",
       "<line clip-path=\"url(#clip512)\" x1=\"1182.36\" y1=\"1069.41\" x2=\"1198.36\" y2=\"1085.41\" style=\"stroke:#009af9; stroke-width:3.2; stroke-opacity:1\"/>\n",
       "<line clip-path=\"url(#clip512)\" x1=\"1182.36\" y1=\"1069.41\" x2=\"1198.36\" y2=\"1053.41\" style=\"stroke:#009af9; stroke-width:3.2; stroke-opacity:1\"/>\n",
       "<line clip-path=\"url(#clip512)\" x1=\"1251.74\" y1=\"1079.09\" x2=\"1235.74\" y2=\"1063.09\" style=\"stroke:#009af9; stroke-width:3.2; stroke-opacity:1\"/>\n",
       "<line clip-path=\"url(#clip512)\" x1=\"1251.74\" y1=\"1079.09\" x2=\"1235.74\" y2=\"1095.09\" style=\"stroke:#009af9; stroke-width:3.2; stroke-opacity:1\"/>\n",
       "<line clip-path=\"url(#clip512)\" x1=\"1251.74\" y1=\"1079.09\" x2=\"1267.74\" y2=\"1095.09\" style=\"stroke:#009af9; stroke-width:3.2; stroke-opacity:1\"/>\n",
       "<line clip-path=\"url(#clip512)\" x1=\"1251.74\" y1=\"1079.09\" x2=\"1267.74\" y2=\"1063.09\" style=\"stroke:#009af9; stroke-width:3.2; stroke-opacity:1\"/>\n",
       "<line clip-path=\"url(#clip512)\" x1=\"1321.12\" y1=\"1022.25\" x2=\"1305.12\" y2=\"1006.25\" style=\"stroke:#009af9; stroke-width:3.2; stroke-opacity:1\"/>\n",
       "<line clip-path=\"url(#clip512)\" x1=\"1321.12\" y1=\"1022.25\" x2=\"1305.12\" y2=\"1038.25\" style=\"stroke:#009af9; stroke-width:3.2; stroke-opacity:1\"/>\n",
       "<line clip-path=\"url(#clip512)\" x1=\"1321.12\" y1=\"1022.25\" x2=\"1337.12\" y2=\"1038.25\" style=\"stroke:#009af9; stroke-width:3.2; stroke-opacity:1\"/>\n",
       "<line clip-path=\"url(#clip512)\" x1=\"1321.12\" y1=\"1022.25\" x2=\"1337.12\" y2=\"1006.25\" style=\"stroke:#009af9; stroke-width:3.2; stroke-opacity:1\"/>\n",
       "<line clip-path=\"url(#clip512)\" x1=\"1529.25\" y1=\"1062.54\" x2=\"1513.25\" y2=\"1046.54\" style=\"stroke:#009af9; stroke-width:3.2; stroke-opacity:1\"/>\n",
       "<line clip-path=\"url(#clip512)\" x1=\"1529.25\" y1=\"1062.54\" x2=\"1513.25\" y2=\"1078.54\" style=\"stroke:#009af9; stroke-width:3.2; stroke-opacity:1\"/>\n",
       "<line clip-path=\"url(#clip512)\" x1=\"1529.25\" y1=\"1062.54\" x2=\"1545.25\" y2=\"1078.54\" style=\"stroke:#009af9; stroke-width:3.2; stroke-opacity:1\"/>\n",
       "<line clip-path=\"url(#clip512)\" x1=\"1529.25\" y1=\"1062.54\" x2=\"1545.25\" y2=\"1046.54\" style=\"stroke:#009af9; stroke-width:3.2; stroke-opacity:1\"/>\n",
       "<line clip-path=\"url(#clip512)\" x1=\"1598.62\" y1=\"1105.33\" x2=\"1582.62\" y2=\"1089.33\" style=\"stroke:#009af9; stroke-width:3.2; stroke-opacity:1\"/>\n",
       "<line clip-path=\"url(#clip512)\" x1=\"1598.62\" y1=\"1105.33\" x2=\"1582.62\" y2=\"1121.33\" style=\"stroke:#009af9; stroke-width:3.2; stroke-opacity:1\"/>\n",
       "<line clip-path=\"url(#clip512)\" x1=\"1598.62\" y1=\"1105.33\" x2=\"1614.62\" y2=\"1121.33\" style=\"stroke:#009af9; stroke-width:3.2; stroke-opacity:1\"/>\n",
       "<line clip-path=\"url(#clip512)\" x1=\"1598.62\" y1=\"1105.33\" x2=\"1614.62\" y2=\"1089.33\" style=\"stroke:#009af9; stroke-width:3.2; stroke-opacity:1\"/>\n",
       "<line clip-path=\"url(#clip512)\" x1=\"1668\" y1=\"855.148\" x2=\"1652\" y2=\"839.148\" style=\"stroke:#009af9; stroke-width:3.2; stroke-opacity:1\"/>\n",
       "<line clip-path=\"url(#clip512)\" x1=\"1668\" y1=\"855.148\" x2=\"1652\" y2=\"871.148\" style=\"stroke:#009af9; stroke-width:3.2; stroke-opacity:1\"/>\n",
       "<line clip-path=\"url(#clip512)\" x1=\"1668\" y1=\"855.148\" x2=\"1684\" y2=\"871.148\" style=\"stroke:#009af9; stroke-width:3.2; stroke-opacity:1\"/>\n",
       "<line clip-path=\"url(#clip512)\" x1=\"1668\" y1=\"855.148\" x2=\"1684\" y2=\"839.148\" style=\"stroke:#009af9; stroke-width:3.2; stroke-opacity:1\"/>\n",
       "<line clip-path=\"url(#clip512)\" x1=\"1737.38\" y1=\"722.719\" x2=\"1721.38\" y2=\"706.719\" style=\"stroke:#009af9; stroke-width:3.2; stroke-opacity:1\"/>\n",
       "<line clip-path=\"url(#clip512)\" x1=\"1737.38\" y1=\"722.719\" x2=\"1721.38\" y2=\"738.719\" style=\"stroke:#009af9; stroke-width:3.2; stroke-opacity:1\"/>\n",
       "<line clip-path=\"url(#clip512)\" x1=\"1737.38\" y1=\"722.719\" x2=\"1753.38\" y2=\"738.719\" style=\"stroke:#009af9; stroke-width:3.2; stroke-opacity:1\"/>\n",
       "<line clip-path=\"url(#clip512)\" x1=\"1737.38\" y1=\"722.719\" x2=\"1753.38\" y2=\"706.719\" style=\"stroke:#009af9; stroke-width:3.2; stroke-opacity:1\"/>\n",
       "<line clip-path=\"url(#clip512)\" x1=\"1806.76\" y1=\"581.232\" x2=\"1790.76\" y2=\"565.232\" style=\"stroke:#009af9; stroke-width:3.2; stroke-opacity:1\"/>\n",
       "<line clip-path=\"url(#clip512)\" x1=\"1806.76\" y1=\"581.232\" x2=\"1790.76\" y2=\"597.232\" style=\"stroke:#009af9; stroke-width:3.2; stroke-opacity:1\"/>\n",
       "<line clip-path=\"url(#clip512)\" x1=\"1806.76\" y1=\"581.232\" x2=\"1822.76\" y2=\"597.232\" style=\"stroke:#009af9; stroke-width:3.2; stroke-opacity:1\"/>\n",
       "<line clip-path=\"url(#clip512)\" x1=\"1806.76\" y1=\"581.232\" x2=\"1822.76\" y2=\"565.232\" style=\"stroke:#009af9; stroke-width:3.2; stroke-opacity:1\"/>\n",
       "<line clip-path=\"url(#clip512)\" x1=\"2014.89\" y1=\"482.223\" x2=\"1998.89\" y2=\"466.223\" style=\"stroke:#009af9; stroke-width:3.2; stroke-opacity:1\"/>\n",
       "<line clip-path=\"url(#clip512)\" x1=\"2014.89\" y1=\"482.223\" x2=\"1998.89\" y2=\"498.223\" style=\"stroke:#009af9; stroke-width:3.2; stroke-opacity:1\"/>\n",
       "<line clip-path=\"url(#clip512)\" x1=\"2014.89\" y1=\"482.223\" x2=\"2030.89\" y2=\"498.223\" style=\"stroke:#009af9; stroke-width:3.2; stroke-opacity:1\"/>\n",
       "<line clip-path=\"url(#clip512)\" x1=\"2014.89\" y1=\"482.223\" x2=\"2030.89\" y2=\"466.223\" style=\"stroke:#009af9; stroke-width:3.2; stroke-opacity:1\"/>\n",
       "<line clip-path=\"url(#clip512)\" x1=\"2084.27\" y1=\"368.846\" x2=\"2068.27\" y2=\"352.846\" style=\"stroke:#009af9; stroke-width:3.2; stroke-opacity:1\"/>\n",
       "<line clip-path=\"url(#clip512)\" x1=\"2084.27\" y1=\"368.846\" x2=\"2068.27\" y2=\"384.846\" style=\"stroke:#009af9; stroke-width:3.2; stroke-opacity:1\"/>\n",
       "<line clip-path=\"url(#clip512)\" x1=\"2084.27\" y1=\"368.846\" x2=\"2100.27\" y2=\"384.846\" style=\"stroke:#009af9; stroke-width:3.2; stroke-opacity:1\"/>\n",
       "<line clip-path=\"url(#clip512)\" x1=\"2084.27\" y1=\"368.846\" x2=\"2100.27\" y2=\"352.846\" style=\"stroke:#009af9; stroke-width:3.2; stroke-opacity:1\"/>\n",
       "<line clip-path=\"url(#clip512)\" x1=\"2153.64\" y1=\"86.1857\" x2=\"2137.64\" y2=\"70.1857\" style=\"stroke:#009af9; stroke-width:3.2; stroke-opacity:1\"/>\n",
       "<line clip-path=\"url(#clip512)\" x1=\"2153.64\" y1=\"86.1857\" x2=\"2137.64\" y2=\"102.186\" style=\"stroke:#009af9; stroke-width:3.2; stroke-opacity:1\"/>\n",
       "<line clip-path=\"url(#clip512)\" x1=\"2153.64\" y1=\"86.1857\" x2=\"2169.64\" y2=\"102.186\" style=\"stroke:#009af9; stroke-width:3.2; stroke-opacity:1\"/>\n",
       "<line clip-path=\"url(#clip512)\" x1=\"2153.64\" y1=\"86.1857\" x2=\"2169.64\" y2=\"70.1857\" style=\"stroke:#009af9; stroke-width:3.2; stroke-opacity:1\"/>\n",
       "<line clip-path=\"url(#clip512)\" x1=\"2223.02\" y1=\"102.739\" x2=\"2207.02\" y2=\"86.7393\" style=\"stroke:#009af9; stroke-width:3.2; stroke-opacity:1\"/>\n",
       "<line clip-path=\"url(#clip512)\" x1=\"2223.02\" y1=\"102.739\" x2=\"2207.02\" y2=\"118.739\" style=\"stroke:#009af9; stroke-width:3.2; stroke-opacity:1\"/>\n",
       "<line clip-path=\"url(#clip512)\" x1=\"2223.02\" y1=\"102.739\" x2=\"2239.02\" y2=\"118.739\" style=\"stroke:#009af9; stroke-width:3.2; stroke-opacity:1\"/>\n",
       "<line clip-path=\"url(#clip512)\" x1=\"2223.02\" y1=\"102.739\" x2=\"2239.02\" y2=\"86.7393\" style=\"stroke:#009af9; stroke-width:3.2; stroke-opacity:1\"/>\n",
       "<line clip-path=\"url(#clip512)\" x1=\"2292.4\" y1=\"351.043\" x2=\"2276.4\" y2=\"335.043\" style=\"stroke:#009af9; stroke-width:3.2; stroke-opacity:1\"/>\n",
       "<line clip-path=\"url(#clip512)\" x1=\"2292.4\" y1=\"351.043\" x2=\"2276.4\" y2=\"367.043\" style=\"stroke:#009af9; stroke-width:3.2; stroke-opacity:1\"/>\n",
       "<line clip-path=\"url(#clip512)\" x1=\"2292.4\" y1=\"351.043\" x2=\"2308.4\" y2=\"367.043\" style=\"stroke:#009af9; stroke-width:3.2; stroke-opacity:1\"/>\n",
       "<line clip-path=\"url(#clip512)\" x1=\"2292.4\" y1=\"351.043\" x2=\"2308.4\" y2=\"335.043\" style=\"stroke:#009af9; stroke-width:3.2; stroke-opacity:1\"/>\n",
       "<circle clip-path=\"url(#clip512)\" cx=\"280.456\" cy=\"1154.99\" r=\"10.8\" fill=\"#e26f46\" fill-rule=\"evenodd\" fill-opacity=\"1\" stroke=\"#000000\" stroke-opacity=\"1\" stroke-width=\"3.2\"/>\n",
       "<circle clip-path=\"url(#clip512)\" cx=\"349.833\" cy=\"1055.98\" r=\"10.8\" fill=\"#e26f46\" fill-rule=\"evenodd\" fill-opacity=\"1\" stroke=\"#000000\" stroke-opacity=\"1\" stroke-width=\"3.2\"/>\n",
       "<circle clip-path=\"url(#clip512)\" cx=\"419.211\" cy=\"1012.88\" r=\"10.8\" fill=\"#e26f46\" fill-rule=\"evenodd\" fill-opacity=\"1\" stroke=\"#000000\" stroke-opacity=\"1\" stroke-width=\"3.2\"/>\n",
       "<circle clip-path=\"url(#clip512)\" cx=\"488.588\" cy=\"969.773\" r=\"10.8\" fill=\"#e26f46\" fill-rule=\"evenodd\" fill-opacity=\"1\" stroke=\"#000000\" stroke-opacity=\"1\" stroke-width=\"3.2\"/>\n",
       "<circle clip-path=\"url(#clip512)\" cx=\"557.965\" cy=\"926.672\" r=\"10.8\" fill=\"#e26f46\" fill-rule=\"evenodd\" fill-opacity=\"1\" stroke=\"#000000\" stroke-opacity=\"1\" stroke-width=\"3.2\"/>\n",
       "<circle clip-path=\"url(#clip512)\" cx=\"627.342\" cy=\"1027.55\" r=\"10.8\" fill=\"#e26f46\" fill-rule=\"evenodd\" fill-opacity=\"1\" stroke=\"#000000\" stroke-opacity=\"1\" stroke-width=\"3.2\"/>\n",
       "<circle clip-path=\"url(#clip512)\" cx=\"696.72\" cy=\"959.779\" r=\"10.8\" fill=\"#e26f46\" fill-rule=\"evenodd\" fill-opacity=\"1\" stroke=\"#000000\" stroke-opacity=\"1\" stroke-width=\"3.2\"/>\n",
       "<circle clip-path=\"url(#clip512)\" cx=\"766.097\" cy=\"1058.48\" r=\"10.8\" fill=\"#e26f46\" fill-rule=\"evenodd\" fill-opacity=\"1\" stroke=\"#000000\" stroke-opacity=\"1\" stroke-width=\"3.2\"/>\n",
       "<circle clip-path=\"url(#clip512)\" cx=\"835.474\" cy=\"1267.43\" r=\"10.8\" fill=\"#e26f46\" fill-rule=\"evenodd\" fill-opacity=\"1\" stroke=\"#000000\" stroke-opacity=\"1\" stroke-width=\"3.2\"/>\n",
       "<circle clip-path=\"url(#clip512)\" cx=\"904.852\" cy=\"1306.36\" r=\"10.8\" fill=\"#e26f46\" fill-rule=\"evenodd\" fill-opacity=\"1\" stroke=\"#000000\" stroke-opacity=\"1\" stroke-width=\"3.2\"/>\n",
       "<circle clip-path=\"url(#clip512)\" cx=\"974.229\" cy=\"1345.3\" r=\"10.8\" fill=\"#e26f46\" fill-rule=\"evenodd\" fill-opacity=\"1\" stroke=\"#000000\" stroke-opacity=\"1\" stroke-width=\"3.2\"/>\n",
       "<circle clip-path=\"url(#clip512)\" cx=\"1043.61\" cy=\"1384.24\" r=\"10.8\" fill=\"#e26f46\" fill-rule=\"evenodd\" fill-opacity=\"1\" stroke=\"#000000\" stroke-opacity=\"1\" stroke-width=\"3.2\"/>\n",
       "<circle clip-path=\"url(#clip512)\" cx=\"1112.98\" cy=\"1341.14\" r=\"10.8\" fill=\"#e26f46\" fill-rule=\"evenodd\" fill-opacity=\"1\" stroke=\"#000000\" stroke-opacity=\"1\" stroke-width=\"3.2\"/>\n",
       "<circle clip-path=\"url(#clip512)\" cx=\"1182.36\" cy=\"1069.41\" r=\"10.8\" fill=\"#e26f46\" fill-rule=\"evenodd\" fill-opacity=\"1\" stroke=\"#000000\" stroke-opacity=\"1\" stroke-width=\"3.2\"/>\n",
       "<circle clip-path=\"url(#clip512)\" cx=\"1251.74\" cy=\"1079.09\" r=\"10.8\" fill=\"#e26f46\" fill-rule=\"evenodd\" fill-opacity=\"1\" stroke=\"#000000\" stroke-opacity=\"1\" stroke-width=\"3.2\"/>\n",
       "<circle clip-path=\"url(#clip512)\" cx=\"1321.12\" cy=\"1022.25\" r=\"10.8\" fill=\"#e26f46\" fill-rule=\"evenodd\" fill-opacity=\"1\" stroke=\"#000000\" stroke-opacity=\"1\" stroke-width=\"3.2\"/>\n",
       "<circle clip-path=\"url(#clip512)\" cx=\"1390.49\" cy=\"1035.68\" r=\"10.8\" fill=\"#e26f46\" fill-rule=\"evenodd\" fill-opacity=\"1\" stroke=\"#000000\" stroke-opacity=\"1\" stroke-width=\"3.2\"/>\n",
       "<circle clip-path=\"url(#clip512)\" cx=\"1459.87\" cy=\"1049.11\" r=\"10.8\" fill=\"#e26f46\" fill-rule=\"evenodd\" fill-opacity=\"1\" stroke=\"#000000\" stroke-opacity=\"1\" stroke-width=\"3.2\"/>\n",
       "<circle clip-path=\"url(#clip512)\" cx=\"1529.25\" cy=\"1062.54\" r=\"10.8\" fill=\"#e26f46\" fill-rule=\"evenodd\" fill-opacity=\"1\" stroke=\"#000000\" stroke-opacity=\"1\" stroke-width=\"3.2\"/>\n",
       "<circle clip-path=\"url(#clip512)\" cx=\"1598.62\" cy=\"1105.33\" r=\"10.8\" fill=\"#e26f46\" fill-rule=\"evenodd\" fill-opacity=\"1\" stroke=\"#000000\" stroke-opacity=\"1\" stroke-width=\"3.2\"/>\n",
       "<circle clip-path=\"url(#clip512)\" cx=\"1668\" cy=\"855.148\" r=\"10.8\" fill=\"#e26f46\" fill-rule=\"evenodd\" fill-opacity=\"1\" stroke=\"#000000\" stroke-opacity=\"1\" stroke-width=\"3.2\"/>\n",
       "<circle clip-path=\"url(#clip512)\" cx=\"1737.38\" cy=\"722.719\" r=\"10.8\" fill=\"#e26f46\" fill-rule=\"evenodd\" fill-opacity=\"1\" stroke=\"#000000\" stroke-opacity=\"1\" stroke-width=\"3.2\"/>\n",
       "<circle clip-path=\"url(#clip512)\" cx=\"1806.76\" cy=\"581.232\" r=\"10.8\" fill=\"#e26f46\" fill-rule=\"evenodd\" fill-opacity=\"1\" stroke=\"#000000\" stroke-opacity=\"1\" stroke-width=\"3.2\"/>\n",
       "<circle clip-path=\"url(#clip512)\" cx=\"1876.13\" cy=\"548.229\" r=\"10.8\" fill=\"#e26f46\" fill-rule=\"evenodd\" fill-opacity=\"1\" stroke=\"#000000\" stroke-opacity=\"1\" stroke-width=\"3.2\"/>\n",
       "<circle clip-path=\"url(#clip512)\" cx=\"1945.51\" cy=\"515.226\" r=\"10.8\" fill=\"#e26f46\" fill-rule=\"evenodd\" fill-opacity=\"1\" stroke=\"#000000\" stroke-opacity=\"1\" stroke-width=\"3.2\"/>\n",
       "<circle clip-path=\"url(#clip512)\" cx=\"2014.89\" cy=\"482.223\" r=\"10.8\" fill=\"#e26f46\" fill-rule=\"evenodd\" fill-opacity=\"1\" stroke=\"#000000\" stroke-opacity=\"1\" stroke-width=\"3.2\"/>\n",
       "<circle clip-path=\"url(#clip512)\" cx=\"2084.27\" cy=\"368.846\" r=\"10.8\" fill=\"#e26f46\" fill-rule=\"evenodd\" fill-opacity=\"1\" stroke=\"#000000\" stroke-opacity=\"1\" stroke-width=\"3.2\"/>\n",
       "<circle clip-path=\"url(#clip512)\" cx=\"2153.64\" cy=\"86.1857\" r=\"10.8\" fill=\"#e26f46\" fill-rule=\"evenodd\" fill-opacity=\"1\" stroke=\"#000000\" stroke-opacity=\"1\" stroke-width=\"3.2\"/>\n",
       "<circle clip-path=\"url(#clip512)\" cx=\"2223.02\" cy=\"102.739\" r=\"10.8\" fill=\"#e26f46\" fill-rule=\"evenodd\" fill-opacity=\"1\" stroke=\"#000000\" stroke-opacity=\"1\" stroke-width=\"3.2\"/>\n",
       "<circle clip-path=\"url(#clip512)\" cx=\"2292.4\" cy=\"351.043\" r=\"10.8\" fill=\"#e26f46\" fill-rule=\"evenodd\" fill-opacity=\"1\" stroke=\"#000000\" stroke-opacity=\"1\" stroke-width=\"3.2\"/>\n",
       "</svg>\n"
      ]
     },
     "execution_count": 87,
     "metadata": {},
     "output_type": "execute_result"
    }
   ],
   "source": [
    "scatter!(dates, rates_filled, markersize=3)"
   ]
  },
  {
   "cell_type": "code",
   "execution_count": 74,
   "id": "7a1109f0",
   "metadata": {},
   "outputs": [
    {
     "name": "stdout",
     "output_type": "stream",
     "text": [
      "search: \u001b[0m\u001b[1ms\u001b[22m\u001b[0m\u001b[1mc\u001b[22m\u001b[0m\u001b[1ma\u001b[22m\u001b[0m\u001b[1mt\u001b[22m\u001b[0m\u001b[1mt\u001b[22m\u001b[0m\u001b[1me\u001b[22m\u001b[0m\u001b[1mr\u001b[22m\u001b[0m\u001b[1m!\u001b[22m \u001b[0m\u001b[1ms\u001b[22m\u001b[0m\u001b[1mc\u001b[22m\u001b[0m\u001b[1ma\u001b[22m\u001b[0m\u001b[1mt\u001b[22m\u001b[0m\u001b[1mt\u001b[22m\u001b[0m\u001b[1me\u001b[22m\u001b[0m\u001b[1mr\u001b[22m3d\u001b[0m\u001b[1m!\u001b[22m \u001b[0m\u001b[1ms\u001b[22m\u001b[0m\u001b[1mc\u001b[22m\u001b[0m\u001b[1ma\u001b[22m\u001b[0m\u001b[1mt\u001b[22m\u001b[0m\u001b[1mt\u001b[22m\u001b[0m\u001b[1me\u001b[22m\u001b[0m\u001b[1mr\u001b[22mhist\u001b[0m\u001b[1m!\u001b[22m \u001b[0m\u001b[1ms\u001b[22m\u001b[0m\u001b[1mc\u001b[22m\u001b[0m\u001b[1ma\u001b[22m\u001b[0m\u001b[1mt\u001b[22m\u001b[0m\u001b[1mt\u001b[22m\u001b[0m\u001b[1me\u001b[22m\u001b[0m\u001b[1mr\u001b[22m \u001b[0m\u001b[1ms\u001b[22m\u001b[0m\u001b[1mc\u001b[22m\u001b[0m\u001b[1ma\u001b[22m\u001b[0m\u001b[1mt\u001b[22m\u001b[0m\u001b[1mt\u001b[22m\u001b[0m\u001b[1me\u001b[22m\u001b[0m\u001b[1mr\u001b[22m3d \u001b[0m\u001b[1ms\u001b[22m\u001b[0m\u001b[1mc\u001b[22m\u001b[0m\u001b[1ma\u001b[22m\u001b[0m\u001b[1mt\u001b[22m\u001b[0m\u001b[1mt\u001b[22m\u001b[0m\u001b[1me\u001b[22m\u001b[0m\u001b[1mr\u001b[22mhist\n",
      "\n"
     ]
    },
    {
     "data": {
      "text/latex": [
       "\\begin{verbatim}\n",
       "scatter(x,y)\n",
       "scatter!(x,y)\n",
       "\\end{verbatim}\n",
       "Make a scatter plot of \\texttt{y} vs \\texttt{x}.\n",
       "\n",
       "\\section{Keyword arguments}\n",
       "\\begin{itemize}\n",
       "\\item \\texttt{markersize::Union\\{Real, AbstractVector\\}}: Size (radius                pixels) of the markers. Aliases: (:markersizes, :ms,                :msize).\n",
       "\n",
       "\n",
       "\\item \\texttt{markercolor::Union\\{Integer, Symbol,                 ColorSchemes.ColorScheme, ColorTypes.Colorant\\}}: Color of the                 interior of the marker or shape. \\texttt{:match} will take                 the value from \\texttt{:seriescolor}. Aliases:                 (:markercolors, :markercolour, :mc, :mcolor, :mcolour).\n",
       "\n",
       "\n",
       "\\item \\texttt{markershape::Union\\{Symbol, Plots.Shape, AbstractVector\\}}:                 Choose from [:none, :auto, :circle, :rect, :star5,                 :diamond, :hexagon, :cross, :xcross, :utriangle,                 :dtriangle, :rtriangle, :ltriangle, :pentagon,                 :heptagon, :octagon, :star4, :star6, :star7, :star8,                 :vline, :hline, :+, :x]. Aliases: (:markershapes,                 :shape).\n",
       "\n",
       "\n",
       "\\item \\texttt{markeralpha::Real}: The alpha/opacity override for the                 marker interior. \\texttt{nothing} (the default) means it                 will take the alpha value of markercolor.                 Aliases: (:ma, :malpha, :markeralphas,                 :markeropacity, :mopacity, :mα).\n",
       "\n",
       "\\end{itemize}\n",
       "\\section{Examples}\n",
       "\\begin{verbatim}\n",
       "julia> scatter([1,2,3],[4,5,6],markersize=[3,4,5],markercolor=[:red,:green,:blue])\n",
       "julia> scatter([(1,4),(2,5),(3,6)])\n",
       "\\end{verbatim}\n"
      ],
      "text/markdown": [
       "```\n",
       "scatter(x,y)\n",
       "scatter!(x,y)\n",
       "```\n",
       "\n",
       "Make a scatter plot of `y` vs `x`.\n",
       "\n",
       "# Keyword arguments\n",
       "\n",
       "  * `markersize::Union{Real, AbstractVector}`: Size (radius                pixels) of the markers. Aliases: (:markersizes, :ms,                :msize).\n",
       "  * `markercolor::Union{Integer, Symbol,                 ColorSchemes.ColorScheme, ColorTypes.Colorant}`: Color of the                 interior of the marker or shape. `:match` will take                 the value from `:seriescolor`. Aliases:                 (:markercolors, :markercolour, :mc, :mcolor, :mcolour).\n",
       "  * `markershape::Union{Symbol, Plots.Shape, AbstractVector}`:                 Choose from [:none, :auto, :circle, :rect, :star5,                 :diamond, :hexagon, :cross, :xcross, :utriangle,                 :dtriangle, :rtriangle, :ltriangle, :pentagon,                 :heptagon, :octagon, :star4, :star6, :star7, :star8,                 :vline, :hline, :+, :x]. Aliases: (:markershapes,                 :shape).\n",
       "  * `markeralpha::Real`: The alpha/opacity override for the                 marker interior. `nothing` (the default) means it                 will take the alpha value of markercolor.                 Aliases: (:ma, :malpha, :markeralphas,                 :markeropacity, :mopacity, :mα).\n",
       "\n",
       "# Examples\n",
       "\n",
       "```julia-repl\n",
       "julia> scatter([1,2,3],[4,5,6],markersize=[3,4,5],markercolor=[:red,:green,:blue])\n",
       "julia> scatter([(1,4),(2,5),(3,6)])\n",
       "```\n"
      ],
      "text/plain": [
       "\u001b[36m  scatter(x,y)\u001b[39m\n",
       "\u001b[36m  scatter!(x,y)\u001b[39m\n",
       "\n",
       "  Make a scatter plot of \u001b[36my\u001b[39m vs \u001b[36mx\u001b[39m.\n",
       "\n",
       "\u001b[1m  Keyword arguments\u001b[22m\n",
       "\u001b[1m  ≡≡≡≡≡≡≡≡≡≡≡≡≡≡≡≡≡≡≡\u001b[22m\n",
       "\n",
       "    •  \u001b[36mmarkersize::Union{Real, AbstractVector}\u001b[39m: Size (radius pixels) of\n",
       "       the markers. Aliases: (:markersizes, :ms, :msize).\n",
       "\n",
       "    •  \u001b[36mmarkercolor::Union{Integer, Symbol, ColorSchemes.ColorScheme,\n",
       "       ColorTypes.Colorant}\u001b[39m: Color of the interior of the marker or\n",
       "       shape. \u001b[36m:match\u001b[39m will take the value from \u001b[36m:seriescolor\u001b[39m. Aliases:\n",
       "       (:markercolors, :markercolour, :mc, :mcolor, :mcolour).\n",
       "\n",
       "    •  \u001b[36mmarkershape::Union{Symbol, Plots.Shape, AbstractVector}\u001b[39m: Choose\n",
       "       from [:none, :auto, :circle, :rect, :star5, :diamond, :hexagon,\n",
       "       :cross, :xcross, :utriangle, :dtriangle, :rtriangle, :ltriangle,\n",
       "       :pentagon, :heptagon, :octagon, :star4, :star6, :star7, :star8,\n",
       "       :vline, :hline, :+, :x]. Aliases: (:markershapes, :shape).\n",
       "\n",
       "    •  \u001b[36mmarkeralpha::Real\u001b[39m: The alpha/opacity override for the marker\n",
       "       interior. \u001b[36mnothing\u001b[39m (the default) means it will take the alpha value\n",
       "       of markercolor. Aliases: (:ma, :malpha, :markeralphas,\n",
       "       :markeropacity, :mopacity, :mα).\n",
       "\n",
       "\u001b[1m  Examples\u001b[22m\n",
       "\u001b[1m  ≡≡≡≡≡≡≡≡≡≡\u001b[22m\n",
       "\n",
       "\u001b[36m  julia> scatter([1,2,3],[4,5,6],markersize=[3,4,5],markercolor=[:red,:green,:blue])\u001b[39m\n",
       "\u001b[36m  julia> scatter([(1,4),(2,5),(3,6)])\u001b[39m"
      ]
     },
     "execution_count": 74,
     "metadata": {},
     "output_type": "execute_result"
    }
   ],
   "source": [
    "?scatter!"
   ]
  },
  {
   "cell_type": "markdown",
   "id": "15e219b8",
   "metadata": {},
   "source": [
    "Why `scatter!` ?\n",
    "\n",
    "This updates previous plot"
   ]
  },
  {
   "cell_type": "code",
   "execution_count": 88,
   "id": "dc4b9ec4",
   "metadata": {},
   "outputs": [
    {
     "data": {
      "image/svg+xml": [
       "<?xml version=\"1.0\" encoding=\"utf-8\"?>\n",
       "<svg xmlns=\"http://www.w3.org/2000/svg\" xmlns:xlink=\"http://www.w3.org/1999/xlink\" width=\"600\" height=\"400\" viewBox=\"0 0 2400 1600\">\n",
       "<defs>\n",
       "  <clipPath id=\"clip550\">\n",
       "    <rect x=\"0\" y=\"0\" width=\"2400\" height=\"1600\"/>\n",
       "  </clipPath>\n",
       "</defs>\n",
       "<path clip-path=\"url(#clip550)\" d=\"M0 1600 L2400 1600 L2400 0 L0 0  Z\" fill=\"#ffffff\" fill-rule=\"evenodd\" fill-opacity=\"1\"/>\n",
       "<defs>\n",
       "  <clipPath id=\"clip551\">\n",
       "    <rect x=\"480\" y=\"0\" width=\"1681\" height=\"1600\"/>\n",
       "  </clipPath>\n",
       "</defs>\n",
       "<path clip-path=\"url(#clip550)\" d=\"M220.098 1054.24 L2352.76 1054.24 L2352.76 188.976 L220.098 188.976  Z\" fill=\"#ffffff\" fill-rule=\"evenodd\" fill-opacity=\"1\"/>\n",
       "<defs>\n",
       "  <clipPath id=\"clip552\">\n",
       "    <rect x=\"220\" y=\"188\" width=\"2134\" height=\"866\"/>\n",
       "  </clipPath>\n",
       "</defs>\n",
       "<polyline clip-path=\"url(#clip552)\" style=\"stroke:#000000; stroke-linecap:round; stroke-linejoin:round; stroke-width:2; stroke-opacity:0.1; fill:none\" points=\"280.456,1054.24 280.456,188.976 \"/>\n",
       "<polyline clip-path=\"url(#clip552)\" style=\"stroke:#000000; stroke-linecap:round; stroke-linejoin:round; stroke-width:2; stroke-opacity:0.1; fill:none\" points=\"349.833,1054.24 349.833,188.976 \"/>\n",
       "<polyline clip-path=\"url(#clip552)\" style=\"stroke:#000000; stroke-linecap:round; stroke-linejoin:round; stroke-width:2; stroke-opacity:0.1; fill:none\" points=\"557.965,1054.24 557.965,188.976 \"/>\n",
       "<polyline clip-path=\"url(#clip552)\" style=\"stroke:#000000; stroke-linecap:round; stroke-linejoin:round; stroke-width:2; stroke-opacity:0.1; fill:none\" points=\"627.342,1054.24 627.342,188.976 \"/>\n",
       "<polyline clip-path=\"url(#clip552)\" style=\"stroke:#000000; stroke-linecap:round; stroke-linejoin:round; stroke-width:2; stroke-opacity:0.1; fill:none\" points=\"696.72,1054.24 696.72,188.976 \"/>\n",
       "<polyline clip-path=\"url(#clip552)\" style=\"stroke:#000000; stroke-linecap:round; stroke-linejoin:round; stroke-width:2; stroke-opacity:0.1; fill:none\" points=\"766.097,1054.24 766.097,188.976 \"/>\n",
       "<polyline clip-path=\"url(#clip552)\" style=\"stroke:#000000; stroke-linecap:round; stroke-linejoin:round; stroke-width:2; stroke-opacity:0.1; fill:none\" points=\"835.474,1054.24 835.474,188.976 \"/>\n",
       "<polyline clip-path=\"url(#clip552)\" style=\"stroke:#000000; stroke-linecap:round; stroke-linejoin:round; stroke-width:2; stroke-opacity:0.1; fill:none\" points=\"1043.61,1054.24 1043.61,188.976 \"/>\n",
       "<polyline clip-path=\"url(#clip552)\" style=\"stroke:#000000; stroke-linecap:round; stroke-linejoin:round; stroke-width:2; stroke-opacity:0.1; fill:none\" points=\"1112.98,1054.24 1112.98,188.976 \"/>\n",
       "<polyline clip-path=\"url(#clip552)\" style=\"stroke:#000000; stroke-linecap:round; stroke-linejoin:round; stroke-width:2; stroke-opacity:0.1; fill:none\" points=\"1182.36,1054.24 1182.36,188.976 \"/>\n",
       "<polyline clip-path=\"url(#clip552)\" style=\"stroke:#000000; stroke-linecap:round; stroke-linejoin:round; stroke-width:2; stroke-opacity:0.1; fill:none\" points=\"1251.74,1054.24 1251.74,188.976 \"/>\n",
       "<polyline clip-path=\"url(#clip552)\" style=\"stroke:#000000; stroke-linecap:round; stroke-linejoin:round; stroke-width:2; stroke-opacity:0.1; fill:none\" points=\"1321.12,1054.24 1321.12,188.976 \"/>\n",
       "<polyline clip-path=\"url(#clip552)\" style=\"stroke:#000000; stroke-linecap:round; stroke-linejoin:round; stroke-width:2; stroke-opacity:0.1; fill:none\" points=\"1529.25,1054.24 1529.25,188.976 \"/>\n",
       "<polyline clip-path=\"url(#clip552)\" style=\"stroke:#000000; stroke-linecap:round; stroke-linejoin:round; stroke-width:2; stroke-opacity:0.1; fill:none\" points=\"1598.62,1054.24 1598.62,188.976 \"/>\n",
       "<polyline clip-path=\"url(#clip552)\" style=\"stroke:#000000; stroke-linecap:round; stroke-linejoin:round; stroke-width:2; stroke-opacity:0.1; fill:none\" points=\"1668,1054.24 1668,188.976 \"/>\n",
       "<polyline clip-path=\"url(#clip552)\" style=\"stroke:#000000; stroke-linecap:round; stroke-linejoin:round; stroke-width:2; stroke-opacity:0.1; fill:none\" points=\"1737.38,1054.24 1737.38,188.976 \"/>\n",
       "<polyline clip-path=\"url(#clip552)\" style=\"stroke:#000000; stroke-linecap:round; stroke-linejoin:round; stroke-width:2; stroke-opacity:0.1; fill:none\" points=\"1806.76,1054.24 1806.76,188.976 \"/>\n",
       "<polyline clip-path=\"url(#clip552)\" style=\"stroke:#000000; stroke-linecap:round; stroke-linejoin:round; stroke-width:2; stroke-opacity:0.1; fill:none\" points=\"2014.89,1054.24 2014.89,188.976 \"/>\n",
       "<polyline clip-path=\"url(#clip552)\" style=\"stroke:#000000; stroke-linecap:round; stroke-linejoin:round; stroke-width:2; stroke-opacity:0.1; fill:none\" points=\"2084.27,1054.24 2084.27,188.976 \"/>\n",
       "<polyline clip-path=\"url(#clip552)\" style=\"stroke:#000000; stroke-linecap:round; stroke-linejoin:round; stroke-width:2; stroke-opacity:0.1; fill:none\" points=\"2153.64,1054.24 2153.64,188.976 \"/>\n",
       "<polyline clip-path=\"url(#clip552)\" style=\"stroke:#000000; stroke-linecap:round; stroke-linejoin:round; stroke-width:2; stroke-opacity:0.1; fill:none\" points=\"2223.02,1054.24 2223.02,188.976 \"/>\n",
       "<polyline clip-path=\"url(#clip552)\" style=\"stroke:#000000; stroke-linecap:round; stroke-linejoin:round; stroke-width:2; stroke-opacity:0.1; fill:none\" points=\"2292.4,1054.24 2292.4,188.976 \"/>\n",
       "<polyline clip-path=\"url(#clip550)\" style=\"stroke:#000000; stroke-linecap:round; stroke-linejoin:round; stroke-width:4; stroke-opacity:1; fill:none\" points=\"220.098,1054.24 2352.76,1054.24 \"/>\n",
       "<polyline clip-path=\"url(#clip550)\" style=\"stroke:#000000; stroke-linecap:round; stroke-linejoin:round; stroke-width:4; stroke-opacity:1; fill:none\" points=\"280.456,1054.24 280.456,1035.34 \"/>\n",
       "<polyline clip-path=\"url(#clip550)\" style=\"stroke:#000000; stroke-linecap:round; stroke-linejoin:round; stroke-width:4; stroke-opacity:1; fill:none\" points=\"349.833,1054.24 349.833,1035.34 \"/>\n",
       "<polyline clip-path=\"url(#clip550)\" style=\"stroke:#000000; stroke-linecap:round; stroke-linejoin:round; stroke-width:4; stroke-opacity:1; fill:none\" points=\"557.965,1054.24 557.965,1035.34 \"/>\n",
       "<polyline clip-path=\"url(#clip550)\" style=\"stroke:#000000; stroke-linecap:round; stroke-linejoin:round; stroke-width:4; stroke-opacity:1; fill:none\" points=\"627.342,1054.24 627.342,1035.34 \"/>\n",
       "<polyline clip-path=\"url(#clip550)\" style=\"stroke:#000000; stroke-linecap:round; stroke-linejoin:round; stroke-width:4; stroke-opacity:1; fill:none\" points=\"696.72,1054.24 696.72,1035.34 \"/>\n",
       "<polyline clip-path=\"url(#clip550)\" style=\"stroke:#000000; stroke-linecap:round; stroke-linejoin:round; stroke-width:4; stroke-opacity:1; fill:none\" points=\"766.097,1054.24 766.097,1035.34 \"/>\n",
       "<polyline clip-path=\"url(#clip550)\" style=\"stroke:#000000; stroke-linecap:round; stroke-linejoin:round; stroke-width:4; stroke-opacity:1; fill:none\" points=\"835.474,1054.24 835.474,1035.34 \"/>\n",
       "<polyline clip-path=\"url(#clip550)\" style=\"stroke:#000000; stroke-linecap:round; stroke-linejoin:round; stroke-width:4; stroke-opacity:1; fill:none\" points=\"1043.61,1054.24 1043.61,1035.34 \"/>\n",
       "<polyline clip-path=\"url(#clip550)\" style=\"stroke:#000000; stroke-linecap:round; stroke-linejoin:round; stroke-width:4; stroke-opacity:1; fill:none\" points=\"1112.98,1054.24 1112.98,1035.34 \"/>\n",
       "<polyline clip-path=\"url(#clip550)\" style=\"stroke:#000000; stroke-linecap:round; stroke-linejoin:round; stroke-width:4; stroke-opacity:1; fill:none\" points=\"1182.36,1054.24 1182.36,1035.34 \"/>\n",
       "<polyline clip-path=\"url(#clip550)\" style=\"stroke:#000000; stroke-linecap:round; stroke-linejoin:round; stroke-width:4; stroke-opacity:1; fill:none\" points=\"1251.74,1054.24 1251.74,1035.34 \"/>\n",
       "<polyline clip-path=\"url(#clip550)\" style=\"stroke:#000000; stroke-linecap:round; stroke-linejoin:round; stroke-width:4; stroke-opacity:1; fill:none\" points=\"1321.12,1054.24 1321.12,1035.34 \"/>\n",
       "<polyline clip-path=\"url(#clip550)\" style=\"stroke:#000000; stroke-linecap:round; stroke-linejoin:round; stroke-width:4; stroke-opacity:1; fill:none\" points=\"1529.25,1054.24 1529.25,1035.34 \"/>\n",
       "<polyline clip-path=\"url(#clip550)\" style=\"stroke:#000000; stroke-linecap:round; stroke-linejoin:round; stroke-width:4; stroke-opacity:1; fill:none\" points=\"1598.62,1054.24 1598.62,1035.34 \"/>\n",
       "<polyline clip-path=\"url(#clip550)\" style=\"stroke:#000000; stroke-linecap:round; stroke-linejoin:round; stroke-width:4; stroke-opacity:1; fill:none\" points=\"1668,1054.24 1668,1035.34 \"/>\n",
       "<polyline clip-path=\"url(#clip550)\" style=\"stroke:#000000; stroke-linecap:round; stroke-linejoin:round; stroke-width:4; stroke-opacity:1; fill:none\" points=\"1737.38,1054.24 1737.38,1035.34 \"/>\n",
       "<polyline clip-path=\"url(#clip550)\" style=\"stroke:#000000; stroke-linecap:round; stroke-linejoin:round; stroke-width:4; stroke-opacity:1; fill:none\" points=\"1806.76,1054.24 1806.76,1035.34 \"/>\n",
       "<polyline clip-path=\"url(#clip550)\" style=\"stroke:#000000; stroke-linecap:round; stroke-linejoin:round; stroke-width:4; stroke-opacity:1; fill:none\" points=\"2014.89,1054.24 2014.89,1035.34 \"/>\n",
       "<polyline clip-path=\"url(#clip550)\" style=\"stroke:#000000; stroke-linecap:round; stroke-linejoin:round; stroke-width:4; stroke-opacity:1; fill:none\" points=\"2084.27,1054.24 2084.27,1035.34 \"/>\n",
       "<polyline clip-path=\"url(#clip550)\" style=\"stroke:#000000; stroke-linecap:round; stroke-linejoin:round; stroke-width:4; stroke-opacity:1; fill:none\" points=\"2153.64,1054.24 2153.64,1035.34 \"/>\n",
       "<polyline clip-path=\"url(#clip550)\" style=\"stroke:#000000; stroke-linecap:round; stroke-linejoin:round; stroke-width:4; stroke-opacity:1; fill:none\" points=\"2223.02,1054.24 2223.02,1035.34 \"/>\n",
       "<polyline clip-path=\"url(#clip550)\" style=\"stroke:#000000; stroke-linecap:round; stroke-linejoin:round; stroke-width:4; stroke-opacity:1; fill:none\" points=\"2292.4,1054.24 2292.4,1035.34 \"/>\n",
       "<path clip-path=\"url(#clip550)\" d=\"M293.801 1578.58 L293.801 1562.26 L297.736 1562.26 L297.736 1584.2 L293.801 1584.2 Q291.046 1581.54 286.417 1576.96 Q281.764 1572.35 280.421 1571.17 Q277.898 1568.92 276.162 1568.04 Q274.403 1567.14 272.713 1567.14 Q269.958 1567.14 268.222 1569.09 Q266.486 1571.01 266.486 1574.11 Q266.486 1576.31 267.25 1578.76 Q268.014 1581.19 269.565 1583.97 L264.843 1583.97 Q263.708 1581.15 263.13 1578.69 Q262.551 1576.24 262.551 1574.2 Q262.551 1568.83 265.236 1565.64 Q267.921 1562.44 272.412 1562.44 Q274.542 1562.44 276.463 1563.25 Q278.361 1564.04 280.954 1566.15 Q281.625 1566.72 284.843 1569.83 Q288.037 1572.93 293.801 1578.58 Z\" fill=\"#000000\" fill-rule=\"evenodd\" fill-opacity=\"1\" /><path clip-path=\"url(#clip550)\" d=\"M266.255 1542.44 Q266.255 1546.05 269.819 1547.88 Q273.361 1549.69 280.491 1549.69 Q287.597 1549.69 291.162 1547.88 Q294.704 1546.05 294.704 1542.44 Q294.704 1538.81 291.162 1537 Q287.597 1535.17 280.491 1535.17 Q273.361 1535.17 269.819 1537 Q266.255 1538.81 266.255 1542.44 M262.551 1542.44 Q262.551 1536.63 267.157 1533.58 Q271.741 1530.5 280.491 1530.5 Q289.218 1530.5 293.824 1533.58 Q298.407 1536.63 298.407 1542.44 Q298.407 1548.25 293.824 1551.33 Q289.218 1554.39 280.491 1554.39 Q271.741 1554.39 267.157 1551.33 Q262.551 1548.25 262.551 1542.44 Z\" fill=\"#000000\" fill-rule=\"evenodd\" fill-opacity=\"1\" /><path clip-path=\"url(#clip550)\" d=\"M293.801 1518.25 L293.801 1501.93 L297.736 1501.93 L297.736 1523.88 L293.801 1523.88 Q291.046 1521.22 286.417 1516.63 Q281.764 1512.03 280.421 1510.85 Q277.898 1508.6 276.162 1507.72 Q274.403 1506.82 272.713 1506.82 Q269.958 1506.82 268.222 1508.76 Q266.486 1510.68 266.486 1513.79 Q266.486 1515.98 267.25 1518.44 Q268.014 1520.87 269.565 1523.65 L264.843 1523.65 Q263.708 1520.82 263.13 1518.37 Q262.551 1515.91 262.551 1513.88 Q262.551 1508.51 265.236 1505.31 Q267.921 1502.12 272.412 1502.12 Q274.542 1502.12 276.463 1502.93 Q278.361 1503.72 280.954 1505.82 Q281.625 1506.4 284.843 1509.5 Q288.037 1512.6 293.801 1518.25 Z\" fill=\"#000000\" fill-rule=\"evenodd\" fill-opacity=\"1\" /><path clip-path=\"url(#clip550)\" d=\"M293.801 1488.09 L293.801 1471.77 L297.736 1471.77 L297.736 1493.72 L293.801 1493.72 Q291.046 1491.05 286.417 1486.47 Q281.764 1481.86 280.421 1480.68 Q277.898 1478.44 276.162 1477.56 Q274.403 1476.66 272.713 1476.66 Q269.958 1476.66 268.222 1478.6 Q266.486 1480.52 266.486 1483.62 Q266.486 1485.82 267.25 1488.28 Q268.014 1490.71 269.565 1493.48 L264.843 1493.48 Q263.708 1490.66 263.13 1488.21 Q262.551 1485.75 262.551 1483.72 Q262.551 1478.35 265.236 1475.15 Q267.921 1471.96 272.412 1471.96 Q274.542 1471.96 276.463 1472.77 Q278.361 1473.55 280.954 1475.66 Q281.625 1476.24 284.843 1479.34 Q288.037 1482.44 293.801 1488.09 Z\" fill=\"#000000\" fill-rule=\"evenodd\" fill-opacity=\"1\" /><path clip-path=\"url(#clip550)\" d=\"M282.852 1464.71 L282.852 1452.23 L286.648 1452.23 L286.648 1464.71 L282.852 1464.71 Z\" fill=\"#000000\" fill-rule=\"evenodd\" fill-opacity=\"1\" /><path clip-path=\"url(#clip550)\" d=\"M266.255 1434.85 Q266.255 1438.46 269.819 1440.29 Q273.361 1442.1 280.491 1442.1 Q287.597 1442.1 291.162 1440.29 Q294.704 1438.46 294.704 1434.85 Q294.704 1431.22 291.162 1429.41 Q287.597 1427.58 280.491 1427.58 Q273.361 1427.58 269.819 1429.41 Q266.255 1431.22 266.255 1434.85 M262.551 1434.85 Q262.551 1429.04 267.157 1425.98 Q271.741 1422.91 280.491 1422.91 Q289.218 1422.91 293.824 1425.98 Q298.407 1429.04 298.407 1434.85 Q298.407 1440.66 293.824 1443.74 Q289.218 1446.79 280.491 1446.79 Q271.741 1446.79 267.157 1443.74 Q262.551 1440.66 262.551 1434.85 Z\" fill=\"#000000\" fill-rule=\"evenodd\" fill-opacity=\"1\" /><path clip-path=\"url(#clip550)\" d=\"M297.018 1414.55 L292.759 1414.55 Q293.592 1412.79 294.032 1410.98 Q294.472 1409.18 294.472 1407.44 Q294.472 1402.81 291.37 1400.38 Q288.245 1397.93 281.903 1397.58 Q283.893 1398.92 284.958 1400.98 Q286.023 1403.04 286.023 1405.54 Q286.023 1410.73 282.898 1413.76 Q279.75 1416.77 274.31 1416.77 Q268.986 1416.77 265.769 1413.62 Q262.551 1410.48 262.551 1405.24 Q262.551 1399.25 267.157 1396.1 Q271.741 1392.93 280.491 1392.93 Q288.662 1392.93 293.546 1396.82 Q298.407 1400.68 298.407 1407.23 Q298.407 1408.99 298.06 1410.8 Q297.713 1412.61 297.018 1414.55 M282.366 1405.24 Q282.366 1402.1 280.213 1400.27 Q278.06 1398.42 274.31 1398.42 Q270.583 1398.42 268.431 1400.27 Q266.255 1402.1 266.255 1405.24 Q266.255 1408.39 268.431 1410.24 Q270.583 1412.07 274.31 1412.07 Q278.06 1412.07 280.213 1410.24 Q282.366 1408.39 282.366 1405.24 Z\" fill=\"#000000\" fill-rule=\"evenodd\" fill-opacity=\"1\" /><path clip-path=\"url(#clip550)\" d=\"M282.852 1387.28 L282.852 1374.8 L286.648 1374.8 L286.648 1387.28 L282.852 1387.28 Z\" fill=\"#000000\" fill-rule=\"evenodd\" fill-opacity=\"1\" /><path clip-path=\"url(#clip550)\" d=\"M266.255 1357.42 Q266.255 1361.03 269.819 1362.86 Q273.361 1364.67 280.491 1364.67 Q287.597 1364.67 291.162 1362.86 Q294.704 1361.03 294.704 1357.42 Q294.704 1353.79 291.162 1351.98 Q287.597 1350.15 280.491 1350.15 Q273.361 1350.15 269.819 1351.98 Q266.255 1353.79 266.255 1357.42 M262.551 1357.42 Q262.551 1351.61 267.157 1348.55 Q271.741 1345.48 280.491 1345.48 Q289.218 1345.48 293.824 1348.55 Q298.407 1351.61 298.407 1357.42 Q298.407 1363.23 293.824 1366.31 Q289.218 1369.36 280.491 1369.36 Q271.741 1369.36 267.157 1366.31 Q262.551 1363.23 262.551 1357.42 Z\" fill=\"#000000\" fill-rule=\"evenodd\" fill-opacity=\"1\" /><path clip-path=\"url(#clip550)\" d=\"M293.801 1336.45 L293.801 1328.81 L267.435 1328.81 L269.102 1337.12 L264.843 1337.12 L263.176 1328.86 L263.176 1324.18 L293.801 1324.18 L293.801 1316.54 L297.736 1316.54 L297.736 1336.45 L293.801 1336.45 Z\" fill=\"#000000\" fill-rule=\"evenodd\" fill-opacity=\"1\" /><path clip-path=\"url(#clip550)\" d=\"M263.176 1312.3 L263.176 1283.07 L267.111 1283.07 L267.111 1295.34 L297.736 1295.34 L297.736 1300.04 L267.111 1300.04 L267.111 1312.3 L263.176 1312.3 Z\" fill=\"#000000\" fill-rule=\"evenodd\" fill-opacity=\"1\" /><path clip-path=\"url(#clip550)\" d=\"M266.255 1268.14 Q266.255 1271.75 269.819 1273.58 Q273.361 1275.38 280.491 1275.38 Q287.597 1275.38 291.162 1273.58 Q294.704 1271.75 294.704 1268.14 Q294.704 1264.5 291.162 1262.7 Q287.597 1260.87 280.491 1260.87 Q273.361 1260.87 269.819 1262.7 Q266.255 1264.5 266.255 1268.14 M262.551 1268.14 Q262.551 1262.33 267.157 1259.27 Q271.741 1256.19 280.491 1256.19 Q289.218 1256.19 293.824 1259.27 Q298.407 1262.33 298.407 1268.14 Q298.407 1273.95 293.824 1277.03 Q289.218 1280.08 280.491 1280.08 Q271.741 1280.08 267.157 1277.03 Q262.551 1273.95 262.551 1268.14 Z\" fill=\"#000000\" fill-rule=\"evenodd\" fill-opacity=\"1\" /><path clip-path=\"url(#clip550)\" d=\"M266.255 1237.98 Q266.255 1241.59 269.819 1243.42 Q273.361 1245.22 280.491 1245.22 Q287.597 1245.22 291.162 1243.42 Q294.704 1241.59 294.704 1237.98 Q294.704 1234.34 291.162 1232.54 Q287.597 1230.71 280.491 1230.71 Q273.361 1230.71 269.819 1232.54 Q266.255 1234.34 266.255 1237.98 M262.551 1237.98 Q262.551 1232.17 267.157 1229.11 Q271.741 1226.03 280.491 1226.03 Q289.218 1226.03 293.824 1229.11 Q298.407 1232.17 298.407 1237.98 Q298.407 1243.79 293.824 1246.87 Q289.218 1249.92 280.491 1249.92 Q271.741 1249.92 267.157 1246.87 Q262.551 1243.79 262.551 1237.98 Z\" fill=\"#000000\" fill-rule=\"evenodd\" fill-opacity=\"1\" /><path clip-path=\"url(#clip550)\" d=\"M291.856 1217.33 L291.856 1212.44 L297.736 1212.44 L297.736 1217.33 L291.856 1217.33 M273.222 1217.33 L273.222 1212.44 L279.102 1212.44 L279.102 1217.33 L273.222 1217.33 Z\" fill=\"#000000\" fill-rule=\"evenodd\" fill-opacity=\"1\" /><path clip-path=\"url(#clip550)\" d=\"M266.255 1191.84 Q266.255 1195.45 269.819 1197.28 Q273.361 1199.09 280.491 1199.09 Q287.597 1199.09 291.162 1197.28 Q294.704 1195.45 294.704 1191.84 Q294.704 1188.21 291.162 1186.4 Q287.597 1184.57 280.491 1184.57 Q273.361 1184.57 269.819 1186.4 Q266.255 1188.21 266.255 1191.84 M262.551 1191.84 Q262.551 1186.03 267.157 1182.98 Q271.741 1179.9 280.491 1179.9 Q289.218 1179.9 293.824 1182.98 Q298.407 1186.03 298.407 1191.84 Q298.407 1197.65 293.824 1200.73 Q289.218 1203.79 280.491 1203.79 Q271.741 1203.79 267.157 1200.73 Q262.551 1197.65 262.551 1191.84 Z\" fill=\"#000000\" fill-rule=\"evenodd\" fill-opacity=\"1\" /><path clip-path=\"url(#clip550)\" d=\"M266.255 1161.68 Q266.255 1165.29 269.819 1167.12 Q273.361 1168.93 280.491 1168.93 Q287.597 1168.93 291.162 1167.12 Q294.704 1165.29 294.704 1161.68 Q294.704 1158.05 291.162 1156.24 Q287.597 1154.41 280.491 1154.41 Q273.361 1154.41 269.819 1156.24 Q266.255 1158.05 266.255 1161.68 M262.551 1161.68 Q262.551 1155.87 267.157 1152.81 Q271.741 1149.74 280.491 1149.74 Q289.218 1149.74 293.824 1152.81 Q298.407 1155.87 298.407 1161.68 Q298.407 1167.49 293.824 1170.57 Q289.218 1173.62 280.491 1173.62 Q271.741 1173.62 267.157 1170.57 Q262.551 1167.49 262.551 1161.68 Z\" fill=\"#000000\" fill-rule=\"evenodd\" fill-opacity=\"1\" /><path clip-path=\"url(#clip550)\" d=\"M291.856 1141.03 L291.856 1136.15 L297.736 1136.15 L297.736 1141.03 L291.856 1141.03 M273.222 1141.03 L273.222 1136.15 L279.102 1136.15 L279.102 1141.03 L273.222 1141.03 Z\" fill=\"#000000\" fill-rule=\"evenodd\" fill-opacity=\"1\" /><path clip-path=\"url(#clip550)\" d=\"M266.255 1115.55 Q266.255 1119.16 269.819 1120.99 Q273.361 1122.79 280.491 1122.79 Q287.597 1122.79 291.162 1120.99 Q294.704 1119.16 294.704 1115.55 Q294.704 1111.91 291.162 1110.11 Q287.597 1108.28 280.491 1108.28 Q273.361 1108.28 269.819 1110.11 Q266.255 1111.91 266.255 1115.55 M262.551 1115.55 Q262.551 1109.74 267.157 1106.68 Q271.741 1103.6 280.491 1103.6 Q289.218 1103.6 293.824 1106.68 Q298.407 1109.74 298.407 1115.55 Q298.407 1121.36 293.824 1124.44 Q289.218 1127.49 280.491 1127.49 Q271.741 1127.49 267.157 1124.44 Q262.551 1121.36 262.551 1115.55 Z\" fill=\"#000000\" fill-rule=\"evenodd\" fill-opacity=\"1\" /><path clip-path=\"url(#clip550)\" d=\"M266.255 1085.38 Q266.255 1089 269.819 1090.82 Q273.361 1092.63 280.491 1092.63 Q287.597 1092.63 291.162 1090.82 Q294.704 1089 294.704 1085.38 Q294.704 1081.75 291.162 1079.94 Q287.597 1078.12 280.491 1078.12 Q273.361 1078.12 269.819 1079.94 Q266.255 1081.75 266.255 1085.38 M262.551 1085.38 Q262.551 1079.57 267.157 1076.52 Q271.741 1073.44 280.491 1073.44 Q289.218 1073.44 293.824 1076.52 Q298.407 1079.57 298.407 1085.38 Q298.407 1091.19 293.824 1094.27 Q289.218 1097.33 280.491 1097.33 Q271.741 1097.33 267.157 1094.27 Q262.551 1091.19 262.551 1085.38 Z\" fill=\"#000000\" fill-rule=\"evenodd\" fill-opacity=\"1\" /><path clip-path=\"url(#clip550)\" d=\"M363.178 1578.58 L363.178 1562.26 L367.113 1562.26 L367.113 1584.2 L363.178 1584.2 Q360.424 1581.54 355.794 1576.96 Q351.141 1572.35 349.799 1571.17 Q347.275 1568.92 345.539 1568.04 Q343.78 1567.14 342.09 1567.14 Q339.336 1567.14 337.6 1569.09 Q335.863 1571.01 335.863 1574.11 Q335.863 1576.31 336.627 1578.76 Q337.391 1581.19 338.942 1583.97 L334.22 1583.97 Q333.086 1581.15 332.507 1578.69 Q331.928 1576.24 331.928 1574.2 Q331.928 1568.83 334.613 1565.64 Q337.299 1562.44 341.789 1562.44 Q343.919 1562.44 345.84 1563.25 Q347.738 1564.04 350.331 1566.15 Q351.002 1566.72 354.22 1569.83 Q357.414 1572.93 363.178 1578.58 Z\" fill=\"#000000\" fill-rule=\"evenodd\" fill-opacity=\"1\" /><path clip-path=\"url(#clip550)\" d=\"M335.632 1542.44 Q335.632 1546.05 339.197 1547.88 Q342.738 1549.69 349.868 1549.69 Q356.974 1549.69 360.539 1547.88 Q364.081 1546.05 364.081 1542.44 Q364.081 1538.81 360.539 1537 Q356.974 1535.17 349.868 1535.17 Q342.738 1535.17 339.197 1537 Q335.632 1538.81 335.632 1542.44 M331.928 1542.44 Q331.928 1536.63 336.535 1533.58 Q341.118 1530.5 349.868 1530.5 Q358.595 1530.5 363.201 1533.58 Q367.785 1536.63 367.785 1542.44 Q367.785 1548.25 363.201 1551.33 Q358.595 1554.39 349.868 1554.39 Q341.118 1554.39 336.535 1551.33 Q331.928 1548.25 331.928 1542.44 Z\" fill=\"#000000\" fill-rule=\"evenodd\" fill-opacity=\"1\" /><path clip-path=\"url(#clip550)\" d=\"M363.178 1518.25 L363.178 1501.93 L367.113 1501.93 L367.113 1523.88 L363.178 1523.88 Q360.424 1521.22 355.794 1516.63 Q351.141 1512.03 349.799 1510.85 Q347.275 1508.6 345.539 1507.72 Q343.78 1506.82 342.09 1506.82 Q339.336 1506.82 337.6 1508.76 Q335.863 1510.68 335.863 1513.79 Q335.863 1515.98 336.627 1518.44 Q337.391 1520.87 338.942 1523.65 L334.22 1523.65 Q333.086 1520.82 332.507 1518.37 Q331.928 1515.91 331.928 1513.88 Q331.928 1508.51 334.613 1505.31 Q337.299 1502.12 341.789 1502.12 Q343.919 1502.12 345.84 1502.93 Q347.738 1503.72 350.331 1505.82 Q351.002 1506.4 354.22 1509.5 Q357.414 1512.6 363.178 1518.25 Z\" fill=\"#000000\" fill-rule=\"evenodd\" fill-opacity=\"1\" /><path clip-path=\"url(#clip550)\" d=\"M363.178 1488.09 L363.178 1471.77 L367.113 1471.77 L367.113 1493.72 L363.178 1493.72 Q360.424 1491.05 355.794 1486.47 Q351.141 1481.86 349.799 1480.68 Q347.275 1478.44 345.539 1477.56 Q343.78 1476.66 342.09 1476.66 Q339.336 1476.66 337.6 1478.6 Q335.863 1480.52 335.863 1483.62 Q335.863 1485.82 336.627 1488.28 Q337.391 1490.71 338.942 1493.48 L334.22 1493.48 Q333.086 1490.66 332.507 1488.21 Q331.928 1485.75 331.928 1483.72 Q331.928 1478.35 334.613 1475.15 Q337.299 1471.96 341.789 1471.96 Q343.919 1471.96 345.84 1472.77 Q347.738 1473.55 350.331 1475.66 Q351.002 1476.24 354.22 1479.34 Q357.414 1482.44 363.178 1488.09 Z\" fill=\"#000000\" fill-rule=\"evenodd\" fill-opacity=\"1\" /><path clip-path=\"url(#clip550)\" d=\"M352.229 1464.71 L352.229 1452.23 L356.025 1452.23 L356.025 1464.71 L352.229 1464.71 Z\" fill=\"#000000\" fill-rule=\"evenodd\" fill-opacity=\"1\" /><path clip-path=\"url(#clip550)\" d=\"M335.632 1434.85 Q335.632 1438.46 339.197 1440.29 Q342.738 1442.1 349.868 1442.1 Q356.974 1442.1 360.539 1440.29 Q364.081 1438.46 364.081 1434.85 Q364.081 1431.22 360.539 1429.41 Q356.974 1427.58 349.868 1427.58 Q342.738 1427.58 339.197 1429.41 Q335.632 1431.22 335.632 1434.85 M331.928 1434.85 Q331.928 1429.04 336.535 1425.98 Q341.118 1422.91 349.868 1422.91 Q358.595 1422.91 363.201 1425.98 Q367.785 1429.04 367.785 1434.85 Q367.785 1440.66 363.201 1443.74 Q358.595 1446.79 349.868 1446.79 Q341.118 1446.79 336.535 1443.74 Q331.928 1440.66 331.928 1434.85 Z\" fill=\"#000000\" fill-rule=\"evenodd\" fill-opacity=\"1\" /><path clip-path=\"url(#clip550)\" d=\"M366.396 1414.55 L362.136 1414.55 Q362.97 1412.79 363.41 1410.98 Q363.849 1409.18 363.849 1407.44 Q363.849 1402.81 360.748 1400.38 Q357.623 1397.93 351.28 1397.58 Q353.271 1398.92 354.336 1400.98 Q355.4 1403.04 355.4 1405.54 Q355.4 1410.73 352.275 1413.76 Q349.127 1416.77 343.687 1416.77 Q338.363 1416.77 335.146 1413.62 Q331.928 1410.48 331.928 1405.24 Q331.928 1399.25 336.535 1396.1 Q341.118 1392.93 349.868 1392.93 Q358.039 1392.93 362.924 1396.82 Q367.785 1400.68 367.785 1407.23 Q367.785 1408.99 367.437 1410.8 Q367.09 1412.61 366.396 1414.55 M351.743 1405.24 Q351.743 1402.1 349.59 1400.27 Q347.437 1398.42 343.687 1398.42 Q339.961 1398.42 337.808 1400.27 Q335.632 1402.1 335.632 1405.24 Q335.632 1408.39 337.808 1410.24 Q339.961 1412.07 343.687 1412.07 Q347.437 1412.07 349.59 1410.24 Q351.743 1408.39 351.743 1405.24 Z\" fill=\"#000000\" fill-rule=\"evenodd\" fill-opacity=\"1\" /><path clip-path=\"url(#clip550)\" d=\"M352.229 1387.28 L352.229 1374.8 L356.025 1374.8 L356.025 1387.28 L352.229 1387.28 Z\" fill=\"#000000\" fill-rule=\"evenodd\" fill-opacity=\"1\" /><path clip-path=\"url(#clip550)\" d=\"M335.632 1357.42 Q335.632 1361.03 339.197 1362.86 Q342.738 1364.67 349.868 1364.67 Q356.974 1364.67 360.539 1362.86 Q364.081 1361.03 364.081 1357.42 Q364.081 1353.79 360.539 1351.98 Q356.974 1350.15 349.868 1350.15 Q342.738 1350.15 339.197 1351.98 Q335.632 1353.79 335.632 1357.42 M331.928 1357.42 Q331.928 1351.61 336.535 1348.55 Q341.118 1345.48 349.868 1345.48 Q358.595 1345.48 363.201 1348.55 Q367.785 1351.61 367.785 1357.42 Q367.785 1363.23 363.201 1366.31 Q358.595 1369.36 349.868 1369.36 Q341.118 1369.36 336.535 1366.31 Q331.928 1363.23 331.928 1357.42 Z\" fill=\"#000000\" fill-rule=\"evenodd\" fill-opacity=\"1\" /><path clip-path=\"url(#clip550)\" d=\"M363.178 1333.23 L363.178 1316.91 L367.113 1316.91 L367.113 1338.86 L363.178 1338.86 Q360.424 1336.19 355.794 1331.61 Q351.141 1327 349.799 1325.82 Q347.275 1323.58 345.539 1322.7 Q343.78 1321.8 342.09 1321.8 Q339.336 1321.8 337.6 1323.74 Q335.863 1325.66 335.863 1328.76 Q335.863 1330.96 336.627 1333.42 Q337.391 1335.85 338.942 1338.62 L334.22 1338.62 Q333.086 1335.8 332.507 1333.35 Q331.928 1330.89 331.928 1328.86 Q331.928 1323.49 334.613 1320.29 Q337.299 1317.1 341.789 1317.1 Q343.919 1317.1 345.84 1317.91 Q347.738 1318.69 350.331 1320.8 Q351.002 1321.38 354.22 1324.48 Q357.414 1327.58 363.178 1333.23 Z\" fill=\"#000000\" fill-rule=\"evenodd\" fill-opacity=\"1\" /><path clip-path=\"url(#clip550)\" d=\"M332.553 1312.3 L332.553 1283.07 L336.488 1283.07 L336.488 1295.34 L367.113 1295.34 L367.113 1300.04 L336.488 1300.04 L336.488 1312.3 L332.553 1312.3 Z\" fill=\"#000000\" fill-rule=\"evenodd\" fill-opacity=\"1\" /><path clip-path=\"url(#clip550)\" d=\"M335.632 1268.14 Q335.632 1271.75 339.197 1273.58 Q342.738 1275.38 349.868 1275.38 Q356.974 1275.38 360.539 1273.58 Q364.081 1271.75 364.081 1268.14 Q364.081 1264.5 360.539 1262.7 Q356.974 1260.87 349.868 1260.87 Q342.738 1260.87 339.197 1262.7 Q335.632 1264.5 335.632 1268.14 M331.928 1268.14 Q331.928 1262.33 336.535 1259.27 Q341.118 1256.19 349.868 1256.19 Q358.595 1256.19 363.201 1259.27 Q367.785 1262.33 367.785 1268.14 Q367.785 1273.95 363.201 1277.03 Q358.595 1280.08 349.868 1280.08 Q341.118 1280.08 336.535 1277.03 Q331.928 1273.95 331.928 1268.14 Z\" fill=\"#000000\" fill-rule=\"evenodd\" fill-opacity=\"1\" /><path clip-path=\"url(#clip550)\" d=\"M335.632 1237.98 Q335.632 1241.59 339.197 1243.42 Q342.738 1245.22 349.868 1245.22 Q356.974 1245.22 360.539 1243.42 Q364.081 1241.59 364.081 1237.98 Q364.081 1234.34 360.539 1232.54 Q356.974 1230.71 349.868 1230.71 Q342.738 1230.71 339.197 1232.54 Q335.632 1234.34 335.632 1237.98 M331.928 1237.98 Q331.928 1232.17 336.535 1229.11 Q341.118 1226.03 349.868 1226.03 Q358.595 1226.03 363.201 1229.11 Q367.785 1232.17 367.785 1237.98 Q367.785 1243.79 363.201 1246.87 Q358.595 1249.92 349.868 1249.92 Q341.118 1249.92 336.535 1246.87 Q331.928 1243.79 331.928 1237.98 Z\" fill=\"#000000\" fill-rule=\"evenodd\" fill-opacity=\"1\" /><path clip-path=\"url(#clip550)\" d=\"M361.234 1217.33 L361.234 1212.44 L367.113 1212.44 L367.113 1217.33 L361.234 1217.33 M342.6 1217.33 L342.6 1212.44 L348.479 1212.44 L348.479 1217.33 L342.6 1217.33 Z\" fill=\"#000000\" fill-rule=\"evenodd\" fill-opacity=\"1\" /><path clip-path=\"url(#clip550)\" d=\"M335.632 1191.84 Q335.632 1195.45 339.197 1197.28 Q342.738 1199.09 349.868 1199.09 Q356.974 1199.09 360.539 1197.28 Q364.081 1195.45 364.081 1191.84 Q364.081 1188.21 360.539 1186.4 Q356.974 1184.57 349.868 1184.57 Q342.738 1184.57 339.197 1186.4 Q335.632 1188.21 335.632 1191.84 M331.928 1191.84 Q331.928 1186.03 336.535 1182.98 Q341.118 1179.9 349.868 1179.9 Q358.595 1179.9 363.201 1182.98 Q367.785 1186.03 367.785 1191.84 Q367.785 1197.65 363.201 1200.73 Q358.595 1203.79 349.868 1203.79 Q341.118 1203.79 336.535 1200.73 Q331.928 1197.65 331.928 1191.84 Z\" fill=\"#000000\" fill-rule=\"evenodd\" fill-opacity=\"1\" /><path clip-path=\"url(#clip550)\" d=\"M335.632 1161.68 Q335.632 1165.29 339.197 1167.12 Q342.738 1168.93 349.868 1168.93 Q356.974 1168.93 360.539 1167.12 Q364.081 1165.29 364.081 1161.68 Q364.081 1158.05 360.539 1156.24 Q356.974 1154.41 349.868 1154.41 Q342.738 1154.41 339.197 1156.24 Q335.632 1158.05 335.632 1161.68 M331.928 1161.68 Q331.928 1155.87 336.535 1152.81 Q341.118 1149.74 349.868 1149.74 Q358.595 1149.74 363.201 1152.81 Q367.785 1155.87 367.785 1161.68 Q367.785 1167.49 363.201 1170.57 Q358.595 1173.62 349.868 1173.62 Q341.118 1173.62 336.535 1170.57 Q331.928 1167.49 331.928 1161.68 Z\" fill=\"#000000\" fill-rule=\"evenodd\" fill-opacity=\"1\" /><path clip-path=\"url(#clip550)\" d=\"M361.234 1141.03 L361.234 1136.15 L367.113 1136.15 L367.113 1141.03 L361.234 1141.03 M342.6 1141.03 L342.6 1136.15 L348.479 1136.15 L348.479 1141.03 L342.6 1141.03 Z\" fill=\"#000000\" fill-rule=\"evenodd\" fill-opacity=\"1\" /><path clip-path=\"url(#clip550)\" d=\"M335.632 1115.55 Q335.632 1119.16 339.197 1120.99 Q342.738 1122.79 349.868 1122.79 Q356.974 1122.79 360.539 1120.99 Q364.081 1119.16 364.081 1115.55 Q364.081 1111.91 360.539 1110.11 Q356.974 1108.28 349.868 1108.28 Q342.738 1108.28 339.197 1110.11 Q335.632 1111.91 335.632 1115.55 M331.928 1115.55 Q331.928 1109.74 336.535 1106.68 Q341.118 1103.6 349.868 1103.6 Q358.595 1103.6 363.201 1106.68 Q367.785 1109.74 367.785 1115.55 Q367.785 1121.36 363.201 1124.44 Q358.595 1127.49 349.868 1127.49 Q341.118 1127.49 336.535 1124.44 Q331.928 1121.36 331.928 1115.55 Z\" fill=\"#000000\" fill-rule=\"evenodd\" fill-opacity=\"1\" /><path clip-path=\"url(#clip550)\" d=\"M335.632 1085.38 Q335.632 1089 339.197 1090.82 Q342.738 1092.63 349.868 1092.63 Q356.974 1092.63 360.539 1090.82 Q364.081 1089 364.081 1085.38 Q364.081 1081.75 360.539 1079.94 Q356.974 1078.12 349.868 1078.12 Q342.738 1078.12 339.197 1079.94 Q335.632 1081.75 335.632 1085.38 M331.928 1085.38 Q331.928 1079.57 336.535 1076.52 Q341.118 1073.44 349.868 1073.44 Q358.595 1073.44 363.201 1076.52 Q367.785 1079.57 367.785 1085.38 Q367.785 1091.19 363.201 1094.27 Q358.595 1097.33 349.868 1097.33 Q341.118 1097.33 336.535 1094.27 Q331.928 1091.19 331.928 1085.38 Z\" fill=\"#000000\" fill-rule=\"evenodd\" fill-opacity=\"1\" /><path clip-path=\"url(#clip550)\" d=\"M571.31 1578.58 L571.31 1562.26 L575.245 1562.26 L575.245 1584.2 L571.31 1584.2 Q568.555 1581.54 563.926 1576.96 Q559.273 1572.35 557.93 1571.17 Q555.407 1568.92 553.671 1568.04 Q551.912 1567.14 550.222 1567.14 Q547.468 1567.14 545.731 1569.09 Q543.995 1571.01 543.995 1574.11 Q543.995 1576.31 544.759 1578.76 Q545.523 1581.19 547.074 1583.97 L542.352 1583.97 Q541.218 1581.15 540.639 1578.69 Q540.06 1576.24 540.06 1574.2 Q540.06 1568.83 542.745 1565.64 Q545.431 1562.44 549.921 1562.44 Q552.051 1562.44 553.972 1563.25 Q555.87 1564.04 558.463 1566.15 Q559.134 1566.72 562.352 1569.83 Q565.546 1572.93 571.31 1578.58 Z\" fill=\"#000000\" fill-rule=\"evenodd\" fill-opacity=\"1\" /><path clip-path=\"url(#clip550)\" d=\"M543.764 1542.44 Q543.764 1546.05 547.329 1547.88 Q550.87 1549.69 558 1549.69 Q565.106 1549.69 568.671 1547.88 Q572.213 1546.05 572.213 1542.44 Q572.213 1538.81 568.671 1537 Q565.106 1535.17 558 1535.17 Q550.87 1535.17 547.329 1537 Q543.764 1538.81 543.764 1542.44 M540.06 1542.44 Q540.06 1536.63 544.667 1533.58 Q549.25 1530.5 558 1530.5 Q566.727 1530.5 571.333 1533.58 Q575.916 1536.63 575.916 1542.44 Q575.916 1548.25 571.333 1551.33 Q566.727 1554.39 558 1554.39 Q549.25 1554.39 544.667 1551.33 Q540.06 1548.25 540.06 1542.44 Z\" fill=\"#000000\" fill-rule=\"evenodd\" fill-opacity=\"1\" /><path clip-path=\"url(#clip550)\" d=\"M571.31 1518.25 L571.31 1501.93 L575.245 1501.93 L575.245 1523.88 L571.31 1523.88 Q568.555 1521.22 563.926 1516.63 Q559.273 1512.03 557.93 1510.85 Q555.407 1508.6 553.671 1507.72 Q551.912 1506.82 550.222 1506.82 Q547.468 1506.82 545.731 1508.76 Q543.995 1510.68 543.995 1513.79 Q543.995 1515.98 544.759 1518.44 Q545.523 1520.87 547.074 1523.65 L542.352 1523.65 Q541.218 1520.82 540.639 1518.37 Q540.06 1515.91 540.06 1513.88 Q540.06 1508.51 542.745 1505.31 Q545.431 1502.12 549.921 1502.12 Q552.051 1502.12 553.972 1502.93 Q555.87 1503.72 558.463 1505.82 Q559.134 1506.4 562.352 1509.5 Q565.546 1512.6 571.31 1518.25 Z\" fill=\"#000000\" fill-rule=\"evenodd\" fill-opacity=\"1\" /><path clip-path=\"url(#clip550)\" d=\"M571.31 1488.09 L571.31 1471.77 L575.245 1471.77 L575.245 1493.72 L571.31 1493.72 Q568.555 1491.05 563.926 1486.47 Q559.273 1481.86 557.93 1480.68 Q555.407 1478.44 553.671 1477.56 Q551.912 1476.66 550.222 1476.66 Q547.468 1476.66 545.731 1478.6 Q543.995 1480.52 543.995 1483.62 Q543.995 1485.82 544.759 1488.28 Q545.523 1490.71 547.074 1493.48 L542.352 1493.48 Q541.218 1490.66 540.639 1488.21 Q540.06 1485.75 540.06 1483.72 Q540.06 1478.35 542.745 1475.15 Q545.431 1471.96 549.921 1471.96 Q552.051 1471.96 553.972 1472.77 Q555.87 1473.55 558.463 1475.66 Q559.134 1476.24 562.352 1479.34 Q565.546 1482.44 571.31 1488.09 Z\" fill=\"#000000\" fill-rule=\"evenodd\" fill-opacity=\"1\" /><path clip-path=\"url(#clip550)\" d=\"M560.361 1464.71 L560.361 1452.23 L564.157 1452.23 L564.157 1464.71 L560.361 1464.71 Z\" fill=\"#000000\" fill-rule=\"evenodd\" fill-opacity=\"1\" /><path clip-path=\"url(#clip550)\" d=\"M543.764 1434.85 Q543.764 1438.46 547.329 1440.29 Q550.87 1442.1 558 1442.1 Q565.106 1442.1 568.671 1440.29 Q572.213 1438.46 572.213 1434.85 Q572.213 1431.22 568.671 1429.41 Q565.106 1427.58 558 1427.58 Q550.87 1427.58 547.329 1429.41 Q543.764 1431.22 543.764 1434.85 M540.06 1434.85 Q540.06 1429.04 544.667 1425.98 Q549.25 1422.91 558 1422.91 Q566.727 1422.91 571.333 1425.98 Q575.916 1429.04 575.916 1434.85 Q575.916 1440.66 571.333 1443.74 Q566.727 1446.79 558 1446.79 Q549.25 1446.79 544.667 1443.74 Q540.06 1440.66 540.06 1434.85 Z\" fill=\"#000000\" fill-rule=\"evenodd\" fill-opacity=\"1\" /><path clip-path=\"url(#clip550)\" d=\"M574.528 1414.55 L570.268 1414.55 Q571.102 1412.79 571.542 1410.98 Q571.981 1409.18 571.981 1407.44 Q571.981 1402.81 568.879 1400.38 Q565.755 1397.93 559.412 1397.58 Q561.403 1398.92 562.467 1400.98 Q563.532 1403.04 563.532 1405.54 Q563.532 1410.73 560.407 1413.76 Q557.259 1416.77 551.819 1416.77 Q546.495 1416.77 543.278 1413.62 Q540.06 1410.48 540.06 1405.24 Q540.06 1399.25 544.667 1396.1 Q549.25 1392.93 558 1392.93 Q566.171 1392.93 571.055 1396.82 Q575.916 1400.68 575.916 1407.23 Q575.916 1408.99 575.569 1410.8 Q575.222 1412.61 574.528 1414.55 M559.875 1405.24 Q559.875 1402.1 557.722 1400.27 Q555.569 1398.42 551.819 1398.42 Q548.093 1398.42 545.94 1400.27 Q543.764 1402.1 543.764 1405.24 Q543.764 1408.39 545.94 1410.24 Q548.093 1412.07 551.819 1412.07 Q555.569 1412.07 557.722 1410.24 Q559.875 1408.39 559.875 1405.24 Z\" fill=\"#000000\" fill-rule=\"evenodd\" fill-opacity=\"1\" /><path clip-path=\"url(#clip550)\" d=\"M560.361 1387.28 L560.361 1374.8 L564.157 1374.8 L564.157 1387.28 L560.361 1387.28 Z\" fill=\"#000000\" fill-rule=\"evenodd\" fill-opacity=\"1\" /><path clip-path=\"url(#clip550)\" d=\"M543.764 1357.42 Q543.764 1361.03 547.329 1362.86 Q550.87 1364.67 558 1364.67 Q565.106 1364.67 568.671 1362.86 Q572.213 1361.03 572.213 1357.42 Q572.213 1353.79 568.671 1351.98 Q565.106 1350.15 558 1350.15 Q550.87 1350.15 547.329 1351.98 Q543.764 1353.79 543.764 1357.42 M540.06 1357.42 Q540.06 1351.61 544.667 1348.55 Q549.25 1345.48 558 1345.48 Q566.727 1345.48 571.333 1348.55 Q575.916 1351.61 575.916 1357.42 Q575.916 1363.23 571.333 1366.31 Q566.727 1369.36 558 1369.36 Q549.25 1369.36 544.667 1366.31 Q540.06 1363.23 540.06 1357.42 Z\" fill=\"#000000\" fill-rule=\"evenodd\" fill-opacity=\"1\" /><path clip-path=\"url(#clip550)\" d=\"M540.685 1337.21 L540.685 1318.86 L544.62 1318.86 L544.62 1332.93 L553.093 1332.93 Q552.745 1331.91 552.583 1330.89 Q552.398 1329.87 552.398 1328.86 Q552.398 1323.07 555.569 1319.69 Q558.741 1316.31 564.157 1316.31 Q569.736 1316.31 572.838 1319.78 Q575.916 1323.25 575.916 1329.57 Q575.916 1331.75 575.546 1334.02 Q575.176 1336.26 574.435 1338.67 L569.736 1338.67 Q570.87 1336.59 571.426 1334.36 Q571.981 1332.14 571.981 1329.67 Q571.981 1325.66 569.875 1323.32 Q567.768 1320.99 564.157 1320.99 Q560.546 1320.99 558.44 1323.32 Q556.333 1325.66 556.333 1329.67 Q556.333 1331.54 556.75 1333.42 Q557.167 1335.27 558.046 1337.21 L540.685 1337.21 Z\" fill=\"#000000\" fill-rule=\"evenodd\" fill-opacity=\"1\" /><path clip-path=\"url(#clip550)\" d=\"M540.685 1312.3 L540.685 1283.07 L544.62 1283.07 L544.62 1295.34 L575.245 1295.34 L575.245 1300.04 L544.62 1300.04 L544.62 1312.3 L540.685 1312.3 Z\" fill=\"#000000\" fill-rule=\"evenodd\" fill-opacity=\"1\" /><path clip-path=\"url(#clip550)\" d=\"M543.764 1268.14 Q543.764 1271.75 547.329 1273.58 Q550.87 1275.38 558 1275.38 Q565.106 1275.38 568.671 1273.58 Q572.213 1271.75 572.213 1268.14 Q572.213 1264.5 568.671 1262.7 Q565.106 1260.87 558 1260.87 Q550.87 1260.87 547.329 1262.7 Q543.764 1264.5 543.764 1268.14 M540.06 1268.14 Q540.06 1262.33 544.667 1259.27 Q549.25 1256.19 558 1256.19 Q566.727 1256.19 571.333 1259.27 Q575.916 1262.33 575.916 1268.14 Q575.916 1273.95 571.333 1277.03 Q566.727 1280.08 558 1280.08 Q549.25 1280.08 544.667 1277.03 Q540.06 1273.95 540.06 1268.14 Z\" fill=\"#000000\" fill-rule=\"evenodd\" fill-opacity=\"1\" /><path clip-path=\"url(#clip550)\" d=\"M543.764 1237.98 Q543.764 1241.59 547.329 1243.42 Q550.87 1245.22 558 1245.22 Q565.106 1245.22 568.671 1243.42 Q572.213 1241.59 572.213 1237.98 Q572.213 1234.34 568.671 1232.54 Q565.106 1230.71 558 1230.71 Q550.87 1230.71 547.329 1232.54 Q543.764 1234.34 543.764 1237.98 M540.06 1237.98 Q540.06 1232.17 544.667 1229.11 Q549.25 1226.03 558 1226.03 Q566.727 1226.03 571.333 1229.11 Q575.916 1232.17 575.916 1237.98 Q575.916 1243.79 571.333 1246.87 Q566.727 1249.92 558 1249.92 Q549.25 1249.92 544.667 1246.87 Q540.06 1243.79 540.06 1237.98 Z\" fill=\"#000000\" fill-rule=\"evenodd\" fill-opacity=\"1\" /><path clip-path=\"url(#clip550)\" d=\"M569.366 1217.33 L569.366 1212.44 L575.245 1212.44 L575.245 1217.33 L569.366 1217.33 M550.731 1217.33 L550.731 1212.44 L556.611 1212.44 L556.611 1217.33 L550.731 1217.33 Z\" fill=\"#000000\" fill-rule=\"evenodd\" fill-opacity=\"1\" /><path clip-path=\"url(#clip550)\" d=\"M543.764 1191.84 Q543.764 1195.45 547.329 1197.28 Q550.87 1199.09 558 1199.09 Q565.106 1199.09 568.671 1197.28 Q572.213 1195.45 572.213 1191.84 Q572.213 1188.21 568.671 1186.4 Q565.106 1184.57 558 1184.57 Q550.87 1184.57 547.329 1186.4 Q543.764 1188.21 543.764 1191.84 M540.06 1191.84 Q540.06 1186.03 544.667 1182.98 Q549.25 1179.9 558 1179.9 Q566.727 1179.9 571.333 1182.98 Q575.916 1186.03 575.916 1191.84 Q575.916 1197.65 571.333 1200.73 Q566.727 1203.79 558 1203.79 Q549.25 1203.79 544.667 1200.73 Q540.06 1197.65 540.06 1191.84 Z\" fill=\"#000000\" fill-rule=\"evenodd\" fill-opacity=\"1\" /><path clip-path=\"url(#clip550)\" d=\"M543.764 1161.68 Q543.764 1165.29 547.329 1167.12 Q550.87 1168.93 558 1168.93 Q565.106 1168.93 568.671 1167.12 Q572.213 1165.29 572.213 1161.68 Q572.213 1158.05 568.671 1156.24 Q565.106 1154.41 558 1154.41 Q550.87 1154.41 547.329 1156.24 Q543.764 1158.05 543.764 1161.68 M540.06 1161.68 Q540.06 1155.87 544.667 1152.81 Q549.25 1149.74 558 1149.74 Q566.727 1149.74 571.333 1152.81 Q575.916 1155.87 575.916 1161.68 Q575.916 1167.49 571.333 1170.57 Q566.727 1173.62 558 1173.62 Q549.25 1173.62 544.667 1170.57 Q540.06 1167.49 540.06 1161.68 Z\" fill=\"#000000\" fill-rule=\"evenodd\" fill-opacity=\"1\" /><path clip-path=\"url(#clip550)\" d=\"M569.366 1141.03 L569.366 1136.15 L575.245 1136.15 L575.245 1141.03 L569.366 1141.03 M550.731 1141.03 L550.731 1136.15 L556.611 1136.15 L556.611 1141.03 L550.731 1141.03 Z\" fill=\"#000000\" fill-rule=\"evenodd\" fill-opacity=\"1\" /><path clip-path=\"url(#clip550)\" d=\"M543.764 1115.55 Q543.764 1119.16 547.329 1120.99 Q550.87 1122.79 558 1122.79 Q565.106 1122.79 568.671 1120.99 Q572.213 1119.16 572.213 1115.55 Q572.213 1111.91 568.671 1110.11 Q565.106 1108.28 558 1108.28 Q550.87 1108.28 547.329 1110.11 Q543.764 1111.91 543.764 1115.55 M540.06 1115.55 Q540.06 1109.74 544.667 1106.68 Q549.25 1103.6 558 1103.6 Q566.727 1103.6 571.333 1106.68 Q575.916 1109.74 575.916 1115.55 Q575.916 1121.36 571.333 1124.44 Q566.727 1127.49 558 1127.49 Q549.25 1127.49 544.667 1124.44 Q540.06 1121.36 540.06 1115.55 Z\" fill=\"#000000\" fill-rule=\"evenodd\" fill-opacity=\"1\" /><path clip-path=\"url(#clip550)\" d=\"M543.764 1085.38 Q543.764 1089 547.329 1090.82 Q550.87 1092.63 558 1092.63 Q565.106 1092.63 568.671 1090.82 Q572.213 1089 572.213 1085.38 Q572.213 1081.75 568.671 1079.94 Q565.106 1078.12 558 1078.12 Q550.87 1078.12 547.329 1079.94 Q543.764 1081.75 543.764 1085.38 M540.06 1085.38 Q540.06 1079.57 544.667 1076.52 Q549.25 1073.44 558 1073.44 Q566.727 1073.44 571.333 1076.52 Q575.916 1079.57 575.916 1085.38 Q575.916 1091.19 571.333 1094.27 Q566.727 1097.33 558 1097.33 Q549.25 1097.33 544.667 1094.27 Q540.06 1091.19 540.06 1085.38 Z\" fill=\"#000000\" fill-rule=\"evenodd\" fill-opacity=\"1\" /><path clip-path=\"url(#clip550)\" d=\"M640.687 1578.58 L640.687 1562.26 L644.622 1562.26 L644.622 1584.2 L640.687 1584.2 Q637.933 1581.54 633.303 1576.96 Q628.65 1572.35 627.308 1571.17 Q624.785 1568.92 623.049 1568.04 Q621.289 1567.14 619.599 1567.14 Q616.845 1567.14 615.109 1569.09 Q613.373 1571.01 613.373 1574.11 Q613.373 1576.31 614.137 1578.76 Q614.9 1581.19 616.451 1583.97 L611.729 1583.97 Q610.595 1581.15 610.016 1578.69 Q609.437 1576.24 609.437 1574.2 Q609.437 1568.83 612.123 1565.64 Q614.808 1562.44 619.299 1562.44 Q621.428 1562.44 623.349 1563.25 Q625.248 1564.04 627.84 1566.15 Q628.511 1566.72 631.729 1569.83 Q634.923 1572.93 640.687 1578.58 Z\" fill=\"#000000\" fill-rule=\"evenodd\" fill-opacity=\"1\" /><path clip-path=\"url(#clip550)\" d=\"M613.141 1542.44 Q613.141 1546.05 616.706 1547.88 Q620.248 1549.69 627.377 1549.69 Q634.484 1549.69 638.048 1547.88 Q641.59 1546.05 641.59 1542.44 Q641.59 1538.81 638.048 1537 Q634.484 1535.17 627.377 1535.17 Q620.248 1535.17 616.706 1537 Q613.141 1538.81 613.141 1542.44 M609.437 1542.44 Q609.437 1536.63 614.044 1533.58 Q618.627 1530.5 627.377 1530.5 Q636.104 1530.5 640.71 1533.58 Q645.294 1536.63 645.294 1542.44 Q645.294 1548.25 640.71 1551.33 Q636.104 1554.39 627.377 1554.39 Q618.627 1554.39 614.044 1551.33 Q609.437 1548.25 609.437 1542.44 Z\" fill=\"#000000\" fill-rule=\"evenodd\" fill-opacity=\"1\" /><path clip-path=\"url(#clip550)\" d=\"M640.687 1518.25 L640.687 1501.93 L644.622 1501.93 L644.622 1523.88 L640.687 1523.88 Q637.933 1521.22 633.303 1516.63 Q628.65 1512.03 627.308 1510.85 Q624.785 1508.6 623.049 1507.72 Q621.289 1506.82 619.599 1506.82 Q616.845 1506.82 615.109 1508.76 Q613.373 1510.68 613.373 1513.79 Q613.373 1515.98 614.137 1518.44 Q614.9 1520.87 616.451 1523.65 L611.729 1523.65 Q610.595 1520.82 610.016 1518.37 Q609.437 1515.91 609.437 1513.88 Q609.437 1508.51 612.123 1505.31 Q614.808 1502.12 619.299 1502.12 Q621.428 1502.12 623.349 1502.93 Q625.248 1503.72 627.84 1505.82 Q628.511 1506.4 631.729 1509.5 Q634.923 1512.6 640.687 1518.25 Z\" fill=\"#000000\" fill-rule=\"evenodd\" fill-opacity=\"1\" /><path clip-path=\"url(#clip550)\" d=\"M640.687 1488.09 L640.687 1471.77 L644.622 1471.77 L644.622 1493.72 L640.687 1493.72 Q637.933 1491.05 633.303 1486.47 Q628.65 1481.86 627.308 1480.68 Q624.785 1478.44 623.049 1477.56 Q621.289 1476.66 619.599 1476.66 Q616.845 1476.66 615.109 1478.6 Q613.373 1480.52 613.373 1483.62 Q613.373 1485.82 614.137 1488.28 Q614.9 1490.71 616.451 1493.48 L611.729 1493.48 Q610.595 1490.66 610.016 1488.21 Q609.437 1485.75 609.437 1483.72 Q609.437 1478.35 612.123 1475.15 Q614.808 1471.96 619.299 1471.96 Q621.428 1471.96 623.349 1472.77 Q625.248 1473.55 627.84 1475.66 Q628.511 1476.24 631.729 1479.34 Q634.923 1482.44 640.687 1488.09 Z\" fill=\"#000000\" fill-rule=\"evenodd\" fill-opacity=\"1\" /><path clip-path=\"url(#clip550)\" d=\"M629.738 1464.71 L629.738 1452.23 L633.535 1452.23 L633.535 1464.71 L629.738 1464.71 Z\" fill=\"#000000\" fill-rule=\"evenodd\" fill-opacity=\"1\" /><path clip-path=\"url(#clip550)\" d=\"M613.141 1434.85 Q613.141 1438.46 616.706 1440.29 Q620.248 1442.1 627.377 1442.1 Q634.484 1442.1 638.048 1440.29 Q641.59 1438.46 641.59 1434.85 Q641.59 1431.22 638.048 1429.41 Q634.484 1427.58 627.377 1427.58 Q620.248 1427.58 616.706 1429.41 Q613.141 1431.22 613.141 1434.85 M609.437 1434.85 Q609.437 1429.04 614.044 1425.98 Q618.627 1422.91 627.377 1422.91 Q636.104 1422.91 640.71 1425.98 Q645.294 1429.04 645.294 1434.85 Q645.294 1440.66 640.71 1443.74 Q636.104 1446.79 627.377 1446.79 Q618.627 1446.79 614.044 1443.74 Q609.437 1440.66 609.437 1434.85 Z\" fill=\"#000000\" fill-rule=\"evenodd\" fill-opacity=\"1\" /><path clip-path=\"url(#clip550)\" d=\"M643.905 1414.55 L639.646 1414.55 Q640.479 1412.79 640.919 1410.98 Q641.359 1409.18 641.359 1407.44 Q641.359 1402.81 638.257 1400.38 Q635.132 1397.93 628.789 1397.58 Q630.78 1398.92 631.845 1400.98 Q632.91 1403.04 632.91 1405.54 Q632.91 1410.73 629.785 1413.76 Q626.636 1416.77 621.197 1416.77 Q615.873 1416.77 612.655 1413.62 Q609.437 1410.48 609.437 1405.24 Q609.437 1399.25 614.044 1396.1 Q618.627 1392.93 627.377 1392.93 Q635.548 1392.93 640.433 1396.82 Q645.294 1400.68 645.294 1407.23 Q645.294 1408.99 644.947 1410.8 Q644.599 1412.61 643.905 1414.55 M629.252 1405.24 Q629.252 1402.1 627.099 1400.27 Q624.947 1398.42 621.197 1398.42 Q617.47 1398.42 615.317 1400.27 Q613.141 1402.1 613.141 1405.24 Q613.141 1408.39 615.317 1410.24 Q617.47 1412.07 621.197 1412.07 Q624.947 1412.07 627.099 1410.24 Q629.252 1408.39 629.252 1405.24 Z\" fill=\"#000000\" fill-rule=\"evenodd\" fill-opacity=\"1\" /><path clip-path=\"url(#clip550)\" d=\"M629.738 1387.28 L629.738 1374.8 L633.535 1374.8 L633.535 1387.28 L629.738 1387.28 Z\" fill=\"#000000\" fill-rule=\"evenodd\" fill-opacity=\"1\" /><path clip-path=\"url(#clip550)\" d=\"M613.141 1357.42 Q613.141 1361.03 616.706 1362.86 Q620.248 1364.67 627.377 1364.67 Q634.484 1364.67 638.048 1362.86 Q641.59 1361.03 641.59 1357.42 Q641.59 1353.79 638.048 1351.98 Q634.484 1350.15 627.377 1350.15 Q620.248 1350.15 616.706 1351.98 Q613.141 1353.79 613.141 1357.42 M609.437 1357.42 Q609.437 1351.61 614.044 1348.55 Q618.627 1345.48 627.377 1345.48 Q636.104 1345.48 640.71 1348.55 Q645.294 1351.61 645.294 1357.42 Q645.294 1363.23 640.71 1366.31 Q636.104 1369.36 627.377 1369.36 Q618.627 1369.36 614.044 1366.31 Q609.437 1363.23 609.437 1357.42 Z\" fill=\"#000000\" fill-rule=\"evenodd\" fill-opacity=\"1\" /><path clip-path=\"url(#clip550)\" d=\"M625.479 1326.68 Q625.479 1329.83 627.632 1331.68 Q629.785 1333.51 633.535 1333.51 Q637.261 1333.51 639.437 1331.68 Q641.59 1329.83 641.59 1326.68 Q641.59 1323.53 639.437 1321.7 Q637.261 1319.85 633.535 1319.85 Q629.785 1319.85 627.632 1321.7 Q625.479 1323.53 625.479 1326.68 M610.826 1317.4 L615.086 1317.4 Q614.252 1319.16 613.812 1320.96 Q613.373 1322.74 613.373 1324.5 Q613.373 1329.13 616.498 1331.59 Q619.623 1334.02 625.942 1334.36 Q623.928 1333 622.863 1330.94 Q621.775 1328.88 621.775 1326.4 Q621.775 1321.19 624.947 1318.18 Q628.095 1315.15 633.535 1315.15 Q638.859 1315.15 642.076 1318.3 Q645.294 1321.45 645.294 1326.68 Q645.294 1332.68 640.71 1335.85 Q636.104 1339.02 627.377 1339.02 Q619.183 1339.02 614.322 1335.13 Q609.437 1331.24 609.437 1324.69 Q609.437 1322.93 609.785 1321.15 Q610.132 1319.34 610.826 1317.4 Z\" fill=\"#000000\" fill-rule=\"evenodd\" fill-opacity=\"1\" /><path clip-path=\"url(#clip550)\" d=\"M610.062 1312.3 L610.062 1283.07 L613.998 1283.07 L613.998 1295.34 L644.622 1295.34 L644.622 1300.04 L613.998 1300.04 L613.998 1312.3 L610.062 1312.3 Z\" fill=\"#000000\" fill-rule=\"evenodd\" fill-opacity=\"1\" /><path clip-path=\"url(#clip550)\" d=\"M613.141 1268.14 Q613.141 1271.75 616.706 1273.58 Q620.248 1275.38 627.377 1275.38 Q634.484 1275.38 638.048 1273.58 Q641.59 1271.75 641.59 1268.14 Q641.59 1264.5 638.048 1262.7 Q634.484 1260.87 627.377 1260.87 Q620.248 1260.87 616.706 1262.7 Q613.141 1264.5 613.141 1268.14 M609.437 1268.14 Q609.437 1262.33 614.044 1259.27 Q618.627 1256.19 627.377 1256.19 Q636.104 1256.19 640.71 1259.27 Q645.294 1262.33 645.294 1268.14 Q645.294 1273.95 640.71 1277.03 Q636.104 1280.08 627.377 1280.08 Q618.627 1280.08 614.044 1277.03 Q609.437 1273.95 609.437 1268.14 Z\" fill=\"#000000\" fill-rule=\"evenodd\" fill-opacity=\"1\" /><path clip-path=\"url(#clip550)\" d=\"M613.141 1237.98 Q613.141 1241.59 616.706 1243.42 Q620.248 1245.22 627.377 1245.22 Q634.484 1245.22 638.048 1243.42 Q641.59 1241.59 641.59 1237.98 Q641.59 1234.34 638.048 1232.54 Q634.484 1230.71 627.377 1230.71 Q620.248 1230.71 616.706 1232.54 Q613.141 1234.34 613.141 1237.98 M609.437 1237.98 Q609.437 1232.17 614.044 1229.11 Q618.627 1226.03 627.377 1226.03 Q636.104 1226.03 640.71 1229.11 Q645.294 1232.17 645.294 1237.98 Q645.294 1243.79 640.71 1246.87 Q636.104 1249.92 627.377 1249.92 Q618.627 1249.92 614.044 1246.87 Q609.437 1243.79 609.437 1237.98 Z\" fill=\"#000000\" fill-rule=\"evenodd\" fill-opacity=\"1\" /><path clip-path=\"url(#clip550)\" d=\"M638.743 1217.33 L638.743 1212.44 L644.622 1212.44 L644.622 1217.33 L638.743 1217.33 M620.109 1217.33 L620.109 1212.44 L625.988 1212.44 L625.988 1217.33 L620.109 1217.33 Z\" fill=\"#000000\" fill-rule=\"evenodd\" fill-opacity=\"1\" /><path clip-path=\"url(#clip550)\" d=\"M613.141 1191.84 Q613.141 1195.45 616.706 1197.28 Q620.248 1199.09 627.377 1199.09 Q634.484 1199.09 638.048 1197.28 Q641.59 1195.45 641.59 1191.84 Q641.59 1188.21 638.048 1186.4 Q634.484 1184.57 627.377 1184.57 Q620.248 1184.57 616.706 1186.4 Q613.141 1188.21 613.141 1191.84 M609.437 1191.84 Q609.437 1186.03 614.044 1182.98 Q618.627 1179.9 627.377 1179.9 Q636.104 1179.9 640.71 1182.98 Q645.294 1186.03 645.294 1191.84 Q645.294 1197.65 640.71 1200.73 Q636.104 1203.79 627.377 1203.79 Q618.627 1203.79 614.044 1200.73 Q609.437 1197.65 609.437 1191.84 Z\" fill=\"#000000\" fill-rule=\"evenodd\" fill-opacity=\"1\" /><path clip-path=\"url(#clip550)\" d=\"M613.141 1161.68 Q613.141 1165.29 616.706 1167.12 Q620.248 1168.93 627.377 1168.93 Q634.484 1168.93 638.048 1167.12 Q641.59 1165.29 641.59 1161.68 Q641.59 1158.05 638.048 1156.24 Q634.484 1154.41 627.377 1154.41 Q620.248 1154.41 616.706 1156.24 Q613.141 1158.05 613.141 1161.68 M609.437 1161.68 Q609.437 1155.87 614.044 1152.81 Q618.627 1149.74 627.377 1149.74 Q636.104 1149.74 640.71 1152.81 Q645.294 1155.87 645.294 1161.68 Q645.294 1167.49 640.71 1170.57 Q636.104 1173.62 627.377 1173.62 Q618.627 1173.62 614.044 1170.57 Q609.437 1167.49 609.437 1161.68 Z\" fill=\"#000000\" fill-rule=\"evenodd\" fill-opacity=\"1\" /><path clip-path=\"url(#clip550)\" d=\"M638.743 1141.03 L638.743 1136.15 L644.622 1136.15 L644.622 1141.03 L638.743 1141.03 M620.109 1141.03 L620.109 1136.15 L625.988 1136.15 L625.988 1141.03 L620.109 1141.03 Z\" fill=\"#000000\" fill-rule=\"evenodd\" fill-opacity=\"1\" /><path clip-path=\"url(#clip550)\" d=\"M613.141 1115.55 Q613.141 1119.16 616.706 1120.99 Q620.248 1122.79 627.377 1122.79 Q634.484 1122.79 638.048 1120.99 Q641.59 1119.16 641.59 1115.55 Q641.59 1111.91 638.048 1110.11 Q634.484 1108.28 627.377 1108.28 Q620.248 1108.28 616.706 1110.11 Q613.141 1111.91 613.141 1115.55 M609.437 1115.55 Q609.437 1109.74 614.044 1106.68 Q618.627 1103.6 627.377 1103.6 Q636.104 1103.6 640.71 1106.68 Q645.294 1109.74 645.294 1115.55 Q645.294 1121.36 640.71 1124.44 Q636.104 1127.49 627.377 1127.49 Q618.627 1127.49 614.044 1124.44 Q609.437 1121.36 609.437 1115.55 Z\" fill=\"#000000\" fill-rule=\"evenodd\" fill-opacity=\"1\" /><path clip-path=\"url(#clip550)\" d=\"M613.141 1085.38 Q613.141 1089 616.706 1090.82 Q620.248 1092.63 627.377 1092.63 Q634.484 1092.63 638.048 1090.82 Q641.59 1089 641.59 1085.38 Q641.59 1081.75 638.048 1079.94 Q634.484 1078.12 627.377 1078.12 Q620.248 1078.12 616.706 1079.94 Q613.141 1081.75 613.141 1085.38 M609.437 1085.38 Q609.437 1079.57 614.044 1076.52 Q618.627 1073.44 627.377 1073.44 Q636.104 1073.44 640.71 1076.52 Q645.294 1079.57 645.294 1085.38 Q645.294 1091.19 640.71 1094.27 Q636.104 1097.33 627.377 1097.33 Q618.627 1097.33 614.044 1094.27 Q609.437 1091.19 609.437 1085.38 Z\" fill=\"#000000\" fill-rule=\"evenodd\" fill-opacity=\"1\" /><path clip-path=\"url(#clip550)\" d=\"M710.065 1578.58 L710.065 1562.26 L714 1562.26 L714 1584.2 L710.065 1584.2 Q707.31 1581.54 702.68 1576.96 Q698.028 1572.35 696.685 1571.17 Q694.162 1568.92 692.426 1568.04 Q690.667 1567.14 688.977 1567.14 Q686.222 1567.14 684.486 1569.09 Q682.75 1571.01 682.75 1574.11 Q682.75 1576.31 683.514 1578.76 Q684.278 1581.19 685.829 1583.97 L681.106 1583.97 Q679.972 1581.15 679.393 1578.69 Q678.815 1576.24 678.815 1574.2 Q678.815 1568.83 681.5 1565.64 Q684.185 1562.44 688.676 1562.44 Q690.805 1562.44 692.727 1563.25 Q694.625 1564.04 697.217 1566.15 Q697.889 1566.72 701.106 1569.83 Q704.301 1572.93 710.065 1578.58 Z\" fill=\"#000000\" fill-rule=\"evenodd\" fill-opacity=\"1\" /><path clip-path=\"url(#clip550)\" d=\"M682.518 1542.44 Q682.518 1546.05 686.083 1547.88 Q689.625 1549.69 696.755 1549.69 Q703.861 1549.69 707.426 1547.88 Q710.967 1546.05 710.967 1542.44 Q710.967 1538.81 707.426 1537 Q703.861 1535.17 696.755 1535.17 Q689.625 1535.17 686.083 1537 Q682.518 1538.81 682.518 1542.44 M678.815 1542.44 Q678.815 1536.63 683.421 1533.58 Q688.005 1530.5 696.755 1530.5 Q705.481 1530.5 710.088 1533.58 Q714.671 1536.63 714.671 1542.44 Q714.671 1548.25 710.088 1551.33 Q705.481 1554.39 696.755 1554.39 Q688.005 1554.39 683.421 1551.33 Q678.815 1548.25 678.815 1542.44 Z\" fill=\"#000000\" fill-rule=\"evenodd\" fill-opacity=\"1\" /><path clip-path=\"url(#clip550)\" d=\"M710.065 1518.25 L710.065 1501.93 L714 1501.93 L714 1523.88 L710.065 1523.88 Q707.31 1521.22 702.68 1516.63 Q698.028 1512.03 696.685 1510.85 Q694.162 1508.6 692.426 1507.72 Q690.667 1506.82 688.977 1506.82 Q686.222 1506.82 684.486 1508.76 Q682.75 1510.68 682.75 1513.79 Q682.75 1515.98 683.514 1518.44 Q684.278 1520.87 685.829 1523.65 L681.106 1523.65 Q679.972 1520.82 679.393 1518.37 Q678.815 1515.91 678.815 1513.88 Q678.815 1508.51 681.5 1505.31 Q684.185 1502.12 688.676 1502.12 Q690.805 1502.12 692.727 1502.93 Q694.625 1503.72 697.217 1505.82 Q697.889 1506.4 701.106 1509.5 Q704.301 1512.6 710.065 1518.25 Z\" fill=\"#000000\" fill-rule=\"evenodd\" fill-opacity=\"1\" /><path clip-path=\"url(#clip550)\" d=\"M710.065 1488.09 L710.065 1471.77 L714 1471.77 L714 1493.72 L710.065 1493.72 Q707.31 1491.05 702.68 1486.47 Q698.028 1481.86 696.685 1480.68 Q694.162 1478.44 692.426 1477.56 Q690.667 1476.66 688.977 1476.66 Q686.222 1476.66 684.486 1478.6 Q682.75 1480.52 682.75 1483.62 Q682.75 1485.82 683.514 1488.28 Q684.278 1490.71 685.829 1493.48 L681.106 1493.48 Q679.972 1490.66 679.393 1488.21 Q678.815 1485.75 678.815 1483.72 Q678.815 1478.35 681.5 1475.15 Q684.185 1471.96 688.676 1471.96 Q690.805 1471.96 692.727 1472.77 Q694.625 1473.55 697.217 1475.66 Q697.889 1476.24 701.106 1479.34 Q704.301 1482.44 710.065 1488.09 Z\" fill=\"#000000\" fill-rule=\"evenodd\" fill-opacity=\"1\" /><path clip-path=\"url(#clip550)\" d=\"M699.116 1464.71 L699.116 1452.23 L702.912 1452.23 L702.912 1464.71 L699.116 1464.71 Z\" fill=\"#000000\" fill-rule=\"evenodd\" fill-opacity=\"1\" /><path clip-path=\"url(#clip550)\" d=\"M682.518 1434.85 Q682.518 1438.46 686.083 1440.29 Q689.625 1442.1 696.755 1442.1 Q703.861 1442.1 707.426 1440.29 Q710.967 1438.46 710.967 1434.85 Q710.967 1431.22 707.426 1429.41 Q703.861 1427.58 696.755 1427.58 Q689.625 1427.58 686.083 1429.41 Q682.518 1431.22 682.518 1434.85 M678.815 1434.85 Q678.815 1429.04 683.421 1425.98 Q688.005 1422.91 696.755 1422.91 Q705.481 1422.91 710.088 1425.98 Q714.671 1429.04 714.671 1434.85 Q714.671 1440.66 710.088 1443.74 Q705.481 1446.79 696.755 1446.79 Q688.005 1446.79 683.421 1443.74 Q678.815 1440.66 678.815 1434.85 Z\" fill=\"#000000\" fill-rule=\"evenodd\" fill-opacity=\"1\" /><path clip-path=\"url(#clip550)\" d=\"M713.282 1414.55 L709.023 1414.55 Q709.856 1412.79 710.296 1410.98 Q710.736 1409.18 710.736 1407.44 Q710.736 1402.81 707.634 1400.38 Q704.509 1397.93 698.167 1397.58 Q700.157 1398.92 701.222 1400.98 Q702.287 1403.04 702.287 1405.54 Q702.287 1410.73 699.162 1413.76 Q696.014 1416.77 690.574 1416.77 Q685.25 1416.77 682.032 1413.62 Q678.815 1410.48 678.815 1405.24 Q678.815 1399.25 683.421 1396.1 Q688.005 1392.93 696.755 1392.93 Q704.926 1392.93 709.81 1396.82 Q714.671 1400.68 714.671 1407.23 Q714.671 1408.99 714.324 1410.8 Q713.977 1412.61 713.282 1414.55 M698.629 1405.24 Q698.629 1402.1 696.477 1400.27 Q694.324 1398.42 690.574 1398.42 Q686.847 1398.42 684.694 1400.27 Q682.518 1402.1 682.518 1405.24 Q682.518 1408.39 684.694 1410.24 Q686.847 1412.07 690.574 1412.07 Q694.324 1412.07 696.477 1410.24 Q698.629 1408.39 698.629 1405.24 Z\" fill=\"#000000\" fill-rule=\"evenodd\" fill-opacity=\"1\" /><path clip-path=\"url(#clip550)\" d=\"M699.116 1387.28 L699.116 1374.8 L702.912 1374.8 L702.912 1387.28 L699.116 1387.28 Z\" fill=\"#000000\" fill-rule=\"evenodd\" fill-opacity=\"1\" /><path clip-path=\"url(#clip550)\" d=\"M682.518 1357.42 Q682.518 1361.03 686.083 1362.86 Q689.625 1364.67 696.755 1364.67 Q703.861 1364.67 707.426 1362.86 Q710.967 1361.03 710.967 1357.42 Q710.967 1353.79 707.426 1351.98 Q703.861 1350.15 696.755 1350.15 Q689.625 1350.15 686.083 1351.98 Q682.518 1353.79 682.518 1357.42 M678.815 1357.42 Q678.815 1351.61 683.421 1348.55 Q688.005 1345.48 696.755 1345.48 Q705.481 1345.48 710.088 1348.55 Q714.671 1351.61 714.671 1357.42 Q714.671 1363.23 710.088 1366.31 Q705.481 1369.36 696.755 1369.36 Q688.005 1369.36 683.421 1366.31 Q678.815 1363.23 678.815 1357.42 Z\" fill=\"#000000\" fill-rule=\"evenodd\" fill-opacity=\"1\" /><path clip-path=\"url(#clip550)\" d=\"M679.44 1338.44 L679.44 1316.22 L681.431 1316.22 L714 1328.76 L714 1333.65 L683.375 1321.84 L683.375 1338.44 L679.44 1338.44 Z\" fill=\"#000000\" fill-rule=\"evenodd\" fill-opacity=\"1\" /><path clip-path=\"url(#clip550)\" d=\"M679.44 1312.3 L679.44 1283.07 L683.375 1283.07 L683.375 1295.34 L714 1295.34 L714 1300.04 L683.375 1300.04 L683.375 1312.3 L679.44 1312.3 Z\" fill=\"#000000\" fill-rule=\"evenodd\" fill-opacity=\"1\" /><path clip-path=\"url(#clip550)\" d=\"M682.518 1268.14 Q682.518 1271.75 686.083 1273.58 Q689.625 1275.38 696.755 1275.38 Q703.861 1275.38 707.426 1273.58 Q710.967 1271.75 710.967 1268.14 Q710.967 1264.5 707.426 1262.7 Q703.861 1260.87 696.755 1260.87 Q689.625 1260.87 686.083 1262.7 Q682.518 1264.5 682.518 1268.14 M678.815 1268.14 Q678.815 1262.33 683.421 1259.27 Q688.005 1256.19 696.755 1256.19 Q705.481 1256.19 710.088 1259.27 Q714.671 1262.33 714.671 1268.14 Q714.671 1273.95 710.088 1277.03 Q705.481 1280.08 696.755 1280.08 Q688.005 1280.08 683.421 1277.03 Q678.815 1273.95 678.815 1268.14 Z\" fill=\"#000000\" fill-rule=\"evenodd\" fill-opacity=\"1\" /><path clip-path=\"url(#clip550)\" d=\"M682.518 1237.98 Q682.518 1241.59 686.083 1243.42 Q689.625 1245.22 696.755 1245.22 Q703.861 1245.22 707.426 1243.42 Q710.967 1241.59 710.967 1237.98 Q710.967 1234.34 707.426 1232.54 Q703.861 1230.71 696.755 1230.71 Q689.625 1230.71 686.083 1232.54 Q682.518 1234.34 682.518 1237.98 M678.815 1237.98 Q678.815 1232.17 683.421 1229.11 Q688.005 1226.03 696.755 1226.03 Q705.481 1226.03 710.088 1229.11 Q714.671 1232.17 714.671 1237.98 Q714.671 1243.79 710.088 1246.87 Q705.481 1249.92 696.755 1249.92 Q688.005 1249.92 683.421 1246.87 Q678.815 1243.79 678.815 1237.98 Z\" fill=\"#000000\" fill-rule=\"evenodd\" fill-opacity=\"1\" /><path clip-path=\"url(#clip550)\" d=\"M708.12 1217.33 L708.12 1212.44 L714 1212.44 L714 1217.33 L708.12 1217.33 M689.486 1217.33 L689.486 1212.44 L695.366 1212.44 L695.366 1217.33 L689.486 1217.33 Z\" fill=\"#000000\" fill-rule=\"evenodd\" fill-opacity=\"1\" /><path clip-path=\"url(#clip550)\" d=\"M682.518 1191.84 Q682.518 1195.45 686.083 1197.28 Q689.625 1199.09 696.755 1199.09 Q703.861 1199.09 707.426 1197.28 Q710.967 1195.45 710.967 1191.84 Q710.967 1188.21 707.426 1186.4 Q703.861 1184.57 696.755 1184.57 Q689.625 1184.57 686.083 1186.4 Q682.518 1188.21 682.518 1191.84 M678.815 1191.84 Q678.815 1186.03 683.421 1182.98 Q688.005 1179.9 696.755 1179.9 Q705.481 1179.9 710.088 1182.98 Q714.671 1186.03 714.671 1191.84 Q714.671 1197.65 710.088 1200.73 Q705.481 1203.79 696.755 1203.79 Q688.005 1203.79 683.421 1200.73 Q678.815 1197.65 678.815 1191.84 Z\" fill=\"#000000\" fill-rule=\"evenodd\" fill-opacity=\"1\" /><path clip-path=\"url(#clip550)\" d=\"M682.518 1161.68 Q682.518 1165.29 686.083 1167.12 Q689.625 1168.93 696.755 1168.93 Q703.861 1168.93 707.426 1167.12 Q710.967 1165.29 710.967 1161.68 Q710.967 1158.05 707.426 1156.24 Q703.861 1154.41 696.755 1154.41 Q689.625 1154.41 686.083 1156.24 Q682.518 1158.05 682.518 1161.68 M678.815 1161.68 Q678.815 1155.87 683.421 1152.81 Q688.005 1149.74 696.755 1149.74 Q705.481 1149.74 710.088 1152.81 Q714.671 1155.87 714.671 1161.68 Q714.671 1167.49 710.088 1170.57 Q705.481 1173.62 696.755 1173.62 Q688.005 1173.62 683.421 1170.57 Q678.815 1167.49 678.815 1161.68 Z\" fill=\"#000000\" fill-rule=\"evenodd\" fill-opacity=\"1\" /><path clip-path=\"url(#clip550)\" d=\"M708.12 1141.03 L708.12 1136.15 L714 1136.15 L714 1141.03 L708.12 1141.03 M689.486 1141.03 L689.486 1136.15 L695.366 1136.15 L695.366 1141.03 L689.486 1141.03 Z\" fill=\"#000000\" fill-rule=\"evenodd\" fill-opacity=\"1\" /><path clip-path=\"url(#clip550)\" d=\"M682.518 1115.55 Q682.518 1119.16 686.083 1120.99 Q689.625 1122.79 696.755 1122.79 Q703.861 1122.79 707.426 1120.99 Q710.967 1119.16 710.967 1115.55 Q710.967 1111.91 707.426 1110.11 Q703.861 1108.28 696.755 1108.28 Q689.625 1108.28 686.083 1110.11 Q682.518 1111.91 682.518 1115.55 M678.815 1115.55 Q678.815 1109.74 683.421 1106.68 Q688.005 1103.6 696.755 1103.6 Q705.481 1103.6 710.088 1106.68 Q714.671 1109.74 714.671 1115.55 Q714.671 1121.36 710.088 1124.44 Q705.481 1127.49 696.755 1127.49 Q688.005 1127.49 683.421 1124.44 Q678.815 1121.36 678.815 1115.55 Z\" fill=\"#000000\" fill-rule=\"evenodd\" fill-opacity=\"1\" /><path clip-path=\"url(#clip550)\" d=\"M682.518 1085.38 Q682.518 1089 686.083 1090.82 Q689.625 1092.63 696.755 1092.63 Q703.861 1092.63 707.426 1090.82 Q710.967 1089 710.967 1085.38 Q710.967 1081.75 707.426 1079.94 Q703.861 1078.12 696.755 1078.12 Q689.625 1078.12 686.083 1079.94 Q682.518 1081.75 682.518 1085.38 M678.815 1085.38 Q678.815 1079.57 683.421 1076.52 Q688.005 1073.44 696.755 1073.44 Q705.481 1073.44 710.088 1076.52 Q714.671 1079.57 714.671 1085.38 Q714.671 1091.19 710.088 1094.27 Q705.481 1097.33 696.755 1097.33 Q688.005 1097.33 683.421 1094.27 Q678.815 1091.19 678.815 1085.38 Z\" fill=\"#000000\" fill-rule=\"evenodd\" fill-opacity=\"1\" /><path clip-path=\"url(#clip550)\" d=\"M779.442 1578.58 L779.442 1562.26 L783.377 1562.26 L783.377 1584.2 L779.442 1584.2 Q776.687 1581.54 772.058 1576.96 Q767.405 1572.35 766.062 1571.17 Q763.539 1568.92 761.803 1568.04 Q760.044 1567.14 758.354 1567.14 Q755.599 1567.14 753.863 1569.09 Q752.127 1571.01 752.127 1574.11 Q752.127 1576.31 752.891 1578.76 Q753.655 1581.19 755.206 1583.97 L750.484 1583.97 Q749.349 1581.15 748.771 1578.69 Q748.192 1576.24 748.192 1574.2 Q748.192 1568.83 750.877 1565.64 Q753.562 1562.44 758.053 1562.44 Q760.183 1562.44 762.104 1563.25 Q764.002 1564.04 766.595 1566.15 Q767.266 1566.72 770.484 1569.83 Q773.678 1572.93 779.442 1578.58 Z\" fill=\"#000000\" fill-rule=\"evenodd\" fill-opacity=\"1\" /><path clip-path=\"url(#clip550)\" d=\"M751.896 1542.44 Q751.896 1546.05 755.461 1547.88 Q759.002 1549.69 766.132 1549.69 Q773.238 1549.69 776.803 1547.88 Q780.345 1546.05 780.345 1542.44 Q780.345 1538.81 776.803 1537 Q773.238 1535.17 766.132 1535.17 Q759.002 1535.17 755.461 1537 Q751.896 1538.81 751.896 1542.44 M748.192 1542.44 Q748.192 1536.63 752.799 1533.58 Q757.382 1530.5 766.132 1530.5 Q774.859 1530.5 779.465 1533.58 Q784.048 1536.63 784.048 1542.44 Q784.048 1548.25 779.465 1551.33 Q774.859 1554.39 766.132 1554.39 Q757.382 1554.39 752.799 1551.33 Q748.192 1548.25 748.192 1542.44 Z\" fill=\"#000000\" fill-rule=\"evenodd\" fill-opacity=\"1\" /><path clip-path=\"url(#clip550)\" d=\"M779.442 1518.25 L779.442 1501.93 L783.377 1501.93 L783.377 1523.88 L779.442 1523.88 Q776.687 1521.22 772.058 1516.63 Q767.405 1512.03 766.062 1510.85 Q763.539 1508.6 761.803 1507.72 Q760.044 1506.82 758.354 1506.82 Q755.599 1506.82 753.863 1508.76 Q752.127 1510.68 752.127 1513.79 Q752.127 1515.98 752.891 1518.44 Q753.655 1520.87 755.206 1523.65 L750.484 1523.65 Q749.349 1520.82 748.771 1518.37 Q748.192 1515.91 748.192 1513.88 Q748.192 1508.51 750.877 1505.31 Q753.562 1502.12 758.053 1502.12 Q760.183 1502.12 762.104 1502.93 Q764.002 1503.72 766.595 1505.82 Q767.266 1506.4 770.484 1509.5 Q773.678 1512.6 779.442 1518.25 Z\" fill=\"#000000\" fill-rule=\"evenodd\" fill-opacity=\"1\" /><path clip-path=\"url(#clip550)\" d=\"M779.442 1488.09 L779.442 1471.77 L783.377 1471.77 L783.377 1493.72 L779.442 1493.72 Q776.687 1491.05 772.058 1486.47 Q767.405 1481.86 766.062 1480.68 Q763.539 1478.44 761.803 1477.56 Q760.044 1476.66 758.354 1476.66 Q755.599 1476.66 753.863 1478.6 Q752.127 1480.52 752.127 1483.62 Q752.127 1485.82 752.891 1488.28 Q753.655 1490.71 755.206 1493.48 L750.484 1493.48 Q749.349 1490.66 748.771 1488.21 Q748.192 1485.75 748.192 1483.72 Q748.192 1478.35 750.877 1475.15 Q753.562 1471.96 758.053 1471.96 Q760.183 1471.96 762.104 1472.77 Q764.002 1473.55 766.595 1475.66 Q767.266 1476.24 770.484 1479.34 Q773.678 1482.44 779.442 1488.09 Z\" fill=\"#000000\" fill-rule=\"evenodd\" fill-opacity=\"1\" /><path clip-path=\"url(#clip550)\" d=\"M768.493 1464.71 L768.493 1452.23 L772.289 1452.23 L772.289 1464.71 L768.493 1464.71 Z\" fill=\"#000000\" fill-rule=\"evenodd\" fill-opacity=\"1\" /><path clip-path=\"url(#clip550)\" d=\"M751.896 1434.85 Q751.896 1438.46 755.461 1440.29 Q759.002 1442.1 766.132 1442.1 Q773.238 1442.1 776.803 1440.29 Q780.345 1438.46 780.345 1434.85 Q780.345 1431.22 776.803 1429.41 Q773.238 1427.58 766.132 1427.58 Q759.002 1427.58 755.461 1429.41 Q751.896 1431.22 751.896 1434.85 M748.192 1434.85 Q748.192 1429.04 752.799 1425.98 Q757.382 1422.91 766.132 1422.91 Q774.859 1422.91 779.465 1425.98 Q784.048 1429.04 784.048 1434.85 Q784.048 1440.66 779.465 1443.74 Q774.859 1446.79 766.132 1446.79 Q757.382 1446.79 752.799 1443.74 Q748.192 1440.66 748.192 1434.85 Z\" fill=\"#000000\" fill-rule=\"evenodd\" fill-opacity=\"1\" /><path clip-path=\"url(#clip550)\" d=\"M782.659 1414.55 L778.4 1414.55 Q779.234 1412.79 779.673 1410.98 Q780.113 1409.18 780.113 1407.44 Q780.113 1402.81 777.011 1400.38 Q773.886 1397.93 767.544 1397.58 Q769.535 1398.92 770.599 1400.98 Q771.664 1403.04 771.664 1405.54 Q771.664 1410.73 768.539 1413.76 Q765.391 1416.77 759.951 1416.77 Q754.627 1416.77 751.41 1413.62 Q748.192 1410.48 748.192 1405.24 Q748.192 1399.25 752.799 1396.1 Q757.382 1392.93 766.132 1392.93 Q774.303 1392.93 779.187 1396.82 Q784.048 1400.68 784.048 1407.23 Q784.048 1408.99 783.701 1410.8 Q783.354 1412.61 782.659 1414.55 M768.007 1405.24 Q768.007 1402.1 765.854 1400.27 Q763.701 1398.42 759.951 1398.42 Q756.224 1398.42 754.072 1400.27 Q751.896 1402.1 751.896 1405.24 Q751.896 1408.39 754.072 1410.24 Q756.224 1412.07 759.951 1412.07 Q763.701 1412.07 765.854 1410.24 Q768.007 1408.39 768.007 1405.24 Z\" fill=\"#000000\" fill-rule=\"evenodd\" fill-opacity=\"1\" /><path clip-path=\"url(#clip550)\" d=\"M768.493 1387.28 L768.493 1374.8 L772.289 1374.8 L772.289 1387.28 L768.493 1387.28 Z\" fill=\"#000000\" fill-rule=\"evenodd\" fill-opacity=\"1\" /><path clip-path=\"url(#clip550)\" d=\"M751.896 1357.42 Q751.896 1361.03 755.461 1362.86 Q759.002 1364.67 766.132 1364.67 Q773.238 1364.67 776.803 1362.86 Q780.345 1361.03 780.345 1357.42 Q780.345 1353.79 776.803 1351.98 Q773.238 1350.15 766.132 1350.15 Q759.002 1350.15 755.461 1351.98 Q751.896 1353.79 751.896 1357.42 M748.192 1357.42 Q748.192 1351.61 752.799 1348.55 Q757.382 1345.48 766.132 1345.48 Q774.859 1345.48 779.465 1348.55 Q784.048 1351.61 784.048 1357.42 Q784.048 1363.23 779.465 1366.31 Q774.859 1369.36 766.132 1369.36 Q757.382 1369.36 752.799 1366.31 Q748.192 1363.23 748.192 1357.42 Z\" fill=\"#000000\" fill-rule=\"evenodd\" fill-opacity=\"1\" /><path clip-path=\"url(#clip550)\" d=\"M766.965 1327.26 Q766.965 1330.59 768.748 1332.51 Q770.53 1334.41 773.655 1334.41 Q776.78 1334.41 778.562 1332.51 Q780.345 1330.59 780.345 1327.26 Q780.345 1323.93 778.562 1322 Q776.757 1320.08 773.655 1320.08 Q770.53 1320.08 768.748 1322 Q766.965 1323.9 766.965 1327.26 M764.974 1331.93 Q764.234 1334.94 762.173 1336.63 Q760.113 1338.3 757.15 1338.3 Q753.007 1338.3 750.599 1335.36 Q748.192 1332.4 748.192 1327.26 Q748.192 1322.1 750.599 1319.16 Q753.007 1316.22 757.15 1316.22 Q760.113 1316.22 762.173 1317.91 Q764.234 1319.57 764.974 1322.56 Q765.761 1319.18 768.053 1317.3 Q770.345 1315.41 773.655 1315.41 Q778.678 1315.41 781.363 1318.49 Q784.048 1321.54 784.048 1327.26 Q784.048 1332.98 781.363 1336.05 Q778.678 1339.11 773.655 1339.11 Q770.345 1339.11 768.053 1337.21 Q765.761 1335.31 764.974 1331.93 M757.59 1333.65 Q760.275 1333.65 761.78 1331.98 Q763.285 1330.29 763.285 1327.26 Q763.285 1324.25 761.78 1322.56 Q760.275 1320.85 757.59 1320.85 Q754.905 1320.85 753.4 1322.56 Q751.896 1324.25 751.896 1327.26 Q751.896 1330.29 753.4 1331.98 Q754.905 1333.65 757.59 1333.65 Z\" fill=\"#000000\" fill-rule=\"evenodd\" fill-opacity=\"1\" /><path clip-path=\"url(#clip550)\" d=\"M748.817 1312.3 L748.817 1283.07 L752.752 1283.07 L752.752 1295.34 L783.377 1295.34 L783.377 1300.04 L752.752 1300.04 L752.752 1312.3 L748.817 1312.3 Z\" fill=\"#000000\" fill-rule=\"evenodd\" fill-opacity=\"1\" /><path clip-path=\"url(#clip550)\" d=\"M751.896 1268.14 Q751.896 1271.75 755.461 1273.58 Q759.002 1275.38 766.132 1275.38 Q773.238 1275.38 776.803 1273.58 Q780.345 1271.75 780.345 1268.14 Q780.345 1264.5 776.803 1262.7 Q773.238 1260.87 766.132 1260.87 Q759.002 1260.87 755.461 1262.7 Q751.896 1264.5 751.896 1268.14 M748.192 1268.14 Q748.192 1262.33 752.799 1259.27 Q757.382 1256.19 766.132 1256.19 Q774.859 1256.19 779.465 1259.27 Q784.048 1262.33 784.048 1268.14 Q784.048 1273.95 779.465 1277.03 Q774.859 1280.08 766.132 1280.08 Q757.382 1280.08 752.799 1277.03 Q748.192 1273.95 748.192 1268.14 Z\" fill=\"#000000\" fill-rule=\"evenodd\" fill-opacity=\"1\" /><path clip-path=\"url(#clip550)\" d=\"M751.896 1237.98 Q751.896 1241.59 755.461 1243.42 Q759.002 1245.22 766.132 1245.22 Q773.238 1245.22 776.803 1243.42 Q780.345 1241.59 780.345 1237.98 Q780.345 1234.34 776.803 1232.54 Q773.238 1230.71 766.132 1230.71 Q759.002 1230.71 755.461 1232.54 Q751.896 1234.34 751.896 1237.98 M748.192 1237.98 Q748.192 1232.17 752.799 1229.11 Q757.382 1226.03 766.132 1226.03 Q774.859 1226.03 779.465 1229.11 Q784.048 1232.17 784.048 1237.98 Q784.048 1243.79 779.465 1246.87 Q774.859 1249.92 766.132 1249.92 Q757.382 1249.92 752.799 1246.87 Q748.192 1243.79 748.192 1237.98 Z\" fill=\"#000000\" fill-rule=\"evenodd\" fill-opacity=\"1\" /><path clip-path=\"url(#clip550)\" d=\"M777.497 1217.33 L777.497 1212.44 L783.377 1212.44 L783.377 1217.33 L777.497 1217.33 M758.863 1217.33 L758.863 1212.44 L764.743 1212.44 L764.743 1217.33 L758.863 1217.33 Z\" fill=\"#000000\" fill-rule=\"evenodd\" fill-opacity=\"1\" /><path clip-path=\"url(#clip550)\" d=\"M751.896 1191.84 Q751.896 1195.45 755.461 1197.28 Q759.002 1199.09 766.132 1199.09 Q773.238 1199.09 776.803 1197.28 Q780.345 1195.45 780.345 1191.84 Q780.345 1188.21 776.803 1186.4 Q773.238 1184.57 766.132 1184.57 Q759.002 1184.57 755.461 1186.4 Q751.896 1188.21 751.896 1191.84 M748.192 1191.84 Q748.192 1186.03 752.799 1182.98 Q757.382 1179.9 766.132 1179.9 Q774.859 1179.9 779.465 1182.98 Q784.048 1186.03 784.048 1191.84 Q784.048 1197.65 779.465 1200.73 Q774.859 1203.79 766.132 1203.79 Q757.382 1203.79 752.799 1200.73 Q748.192 1197.65 748.192 1191.84 Z\" fill=\"#000000\" fill-rule=\"evenodd\" fill-opacity=\"1\" /><path clip-path=\"url(#clip550)\" d=\"M751.896 1161.68 Q751.896 1165.29 755.461 1167.12 Q759.002 1168.93 766.132 1168.93 Q773.238 1168.93 776.803 1167.12 Q780.345 1165.29 780.345 1161.68 Q780.345 1158.05 776.803 1156.24 Q773.238 1154.41 766.132 1154.41 Q759.002 1154.41 755.461 1156.24 Q751.896 1158.05 751.896 1161.68 M748.192 1161.68 Q748.192 1155.87 752.799 1152.81 Q757.382 1149.74 766.132 1149.74 Q774.859 1149.74 779.465 1152.81 Q784.048 1155.87 784.048 1161.68 Q784.048 1167.49 779.465 1170.57 Q774.859 1173.62 766.132 1173.62 Q757.382 1173.62 752.799 1170.57 Q748.192 1167.49 748.192 1161.68 Z\" fill=\"#000000\" fill-rule=\"evenodd\" fill-opacity=\"1\" /><path clip-path=\"url(#clip550)\" d=\"M777.497 1141.03 L777.497 1136.15 L783.377 1136.15 L783.377 1141.03 L777.497 1141.03 M758.863 1141.03 L758.863 1136.15 L764.743 1136.15 L764.743 1141.03 L758.863 1141.03 Z\" fill=\"#000000\" fill-rule=\"evenodd\" fill-opacity=\"1\" /><path clip-path=\"url(#clip550)\" d=\"M751.896 1115.55 Q751.896 1119.16 755.461 1120.99 Q759.002 1122.79 766.132 1122.79 Q773.238 1122.79 776.803 1120.99 Q780.345 1119.16 780.345 1115.55 Q780.345 1111.91 776.803 1110.11 Q773.238 1108.28 766.132 1108.28 Q759.002 1108.28 755.461 1110.11 Q751.896 1111.91 751.896 1115.55 M748.192 1115.55 Q748.192 1109.74 752.799 1106.68 Q757.382 1103.6 766.132 1103.6 Q774.859 1103.6 779.465 1106.68 Q784.048 1109.74 784.048 1115.55 Q784.048 1121.36 779.465 1124.44 Q774.859 1127.49 766.132 1127.49 Q757.382 1127.49 752.799 1124.44 Q748.192 1121.36 748.192 1115.55 Z\" fill=\"#000000\" fill-rule=\"evenodd\" fill-opacity=\"1\" /><path clip-path=\"url(#clip550)\" d=\"M751.896 1085.38 Q751.896 1089 755.461 1090.82 Q759.002 1092.63 766.132 1092.63 Q773.238 1092.63 776.803 1090.82 Q780.345 1089 780.345 1085.38 Q780.345 1081.75 776.803 1079.94 Q773.238 1078.12 766.132 1078.12 Q759.002 1078.12 755.461 1079.94 Q751.896 1081.75 751.896 1085.38 M748.192 1085.38 Q748.192 1079.57 752.799 1076.52 Q757.382 1073.44 766.132 1073.44 Q774.859 1073.44 779.465 1076.52 Q784.048 1079.57 784.048 1085.38 Q784.048 1091.19 779.465 1094.27 Q774.859 1097.33 766.132 1097.33 Q757.382 1097.33 752.799 1094.27 Q748.192 1091.19 748.192 1085.38 Z\" fill=\"#000000\" fill-rule=\"evenodd\" fill-opacity=\"1\" /><path clip-path=\"url(#clip550)\" d=\"M848.819 1578.58 L848.819 1562.26 L852.754 1562.26 L852.754 1584.2 L848.819 1584.2 Q846.065 1581.54 841.435 1576.96 Q836.782 1572.35 835.44 1571.17 Q832.917 1568.92 831.18 1568.04 Q829.421 1567.14 827.731 1567.14 Q824.977 1567.14 823.241 1569.09 Q821.505 1571.01 821.505 1574.11 Q821.505 1576.31 822.268 1578.76 Q823.032 1581.19 824.583 1583.97 L819.861 1583.97 Q818.727 1581.15 818.148 1578.69 Q817.569 1576.24 817.569 1574.2 Q817.569 1568.83 820.255 1565.64 Q822.94 1562.44 827.43 1562.44 Q829.56 1562.44 831.481 1563.25 Q833.379 1564.04 835.972 1566.15 Q836.643 1566.72 839.861 1569.83 Q843.055 1572.93 848.819 1578.58 Z\" fill=\"#000000\" fill-rule=\"evenodd\" fill-opacity=\"1\" /><path clip-path=\"url(#clip550)\" d=\"M821.273 1542.44 Q821.273 1546.05 824.838 1547.88 Q828.38 1549.69 835.509 1549.69 Q842.616 1549.69 846.18 1547.88 Q849.722 1546.05 849.722 1542.44 Q849.722 1538.81 846.18 1537 Q842.616 1535.17 835.509 1535.17 Q828.38 1535.17 824.838 1537 Q821.273 1538.81 821.273 1542.44 M817.569 1542.44 Q817.569 1536.63 822.176 1533.58 Q826.759 1530.5 835.509 1530.5 Q844.236 1530.5 848.842 1533.58 Q853.426 1536.63 853.426 1542.44 Q853.426 1548.25 848.842 1551.33 Q844.236 1554.39 835.509 1554.39 Q826.759 1554.39 822.176 1551.33 Q817.569 1548.25 817.569 1542.44 Z\" fill=\"#000000\" fill-rule=\"evenodd\" fill-opacity=\"1\" /><path clip-path=\"url(#clip550)\" d=\"M848.819 1518.25 L848.819 1501.93 L852.754 1501.93 L852.754 1523.88 L848.819 1523.88 Q846.065 1521.22 841.435 1516.63 Q836.782 1512.03 835.44 1510.85 Q832.917 1508.6 831.18 1507.72 Q829.421 1506.82 827.731 1506.82 Q824.977 1506.82 823.241 1508.76 Q821.505 1510.68 821.505 1513.79 Q821.505 1515.98 822.268 1518.44 Q823.032 1520.87 824.583 1523.65 L819.861 1523.65 Q818.727 1520.82 818.148 1518.37 Q817.569 1515.91 817.569 1513.88 Q817.569 1508.51 820.255 1505.31 Q822.94 1502.12 827.43 1502.12 Q829.56 1502.12 831.481 1502.93 Q833.379 1503.72 835.972 1505.82 Q836.643 1506.4 839.861 1509.5 Q843.055 1512.6 848.819 1518.25 Z\" fill=\"#000000\" fill-rule=\"evenodd\" fill-opacity=\"1\" /><path clip-path=\"url(#clip550)\" d=\"M848.819 1488.09 L848.819 1471.77 L852.754 1471.77 L852.754 1493.72 L848.819 1493.72 Q846.065 1491.05 841.435 1486.47 Q836.782 1481.86 835.44 1480.68 Q832.917 1478.44 831.18 1477.56 Q829.421 1476.66 827.731 1476.66 Q824.977 1476.66 823.241 1478.6 Q821.505 1480.52 821.505 1483.62 Q821.505 1485.82 822.268 1488.28 Q823.032 1490.71 824.583 1493.48 L819.861 1493.48 Q818.727 1490.66 818.148 1488.21 Q817.569 1485.75 817.569 1483.72 Q817.569 1478.35 820.255 1475.15 Q822.94 1471.96 827.43 1471.96 Q829.56 1471.96 831.481 1472.77 Q833.379 1473.55 835.972 1475.66 Q836.643 1476.24 839.861 1479.34 Q843.055 1482.44 848.819 1488.09 Z\" fill=\"#000000\" fill-rule=\"evenodd\" fill-opacity=\"1\" /><path clip-path=\"url(#clip550)\" d=\"M837.87 1464.71 L837.87 1452.23 L841.666 1452.23 L841.666 1464.71 L837.87 1464.71 Z\" fill=\"#000000\" fill-rule=\"evenodd\" fill-opacity=\"1\" /><path clip-path=\"url(#clip550)\" d=\"M821.273 1434.85 Q821.273 1438.46 824.838 1440.29 Q828.38 1442.1 835.509 1442.1 Q842.616 1442.1 846.18 1440.29 Q849.722 1438.46 849.722 1434.85 Q849.722 1431.22 846.18 1429.41 Q842.616 1427.58 835.509 1427.58 Q828.38 1427.58 824.838 1429.41 Q821.273 1431.22 821.273 1434.85 M817.569 1434.85 Q817.569 1429.04 822.176 1425.98 Q826.759 1422.91 835.509 1422.91 Q844.236 1422.91 848.842 1425.98 Q853.426 1429.04 853.426 1434.85 Q853.426 1440.66 848.842 1443.74 Q844.236 1446.79 835.509 1446.79 Q826.759 1446.79 822.176 1443.74 Q817.569 1440.66 817.569 1434.85 Z\" fill=\"#000000\" fill-rule=\"evenodd\" fill-opacity=\"1\" /><path clip-path=\"url(#clip550)\" d=\"M852.037 1414.55 L847.778 1414.55 Q848.611 1412.79 849.051 1410.98 Q849.491 1409.18 849.491 1407.44 Q849.491 1402.81 846.389 1400.38 Q843.264 1397.93 836.921 1397.58 Q838.912 1398.92 839.977 1400.98 Q841.041 1403.04 841.041 1405.54 Q841.041 1410.73 837.917 1413.76 Q834.768 1416.77 829.329 1416.77 Q824.005 1416.77 820.787 1413.62 Q817.569 1410.48 817.569 1405.24 Q817.569 1399.25 822.176 1396.1 Q826.759 1392.93 835.509 1392.93 Q843.68 1392.93 848.565 1396.82 Q853.426 1400.68 853.426 1407.23 Q853.426 1408.99 853.078 1410.8 Q852.731 1412.61 852.037 1414.55 M837.384 1405.24 Q837.384 1402.1 835.231 1400.27 Q833.079 1398.42 829.329 1398.42 Q825.602 1398.42 823.449 1400.27 Q821.273 1402.1 821.273 1405.24 Q821.273 1408.39 823.449 1410.24 Q825.602 1412.07 829.329 1412.07 Q833.079 1412.07 835.231 1410.24 Q837.384 1408.39 837.384 1405.24 Z\" fill=\"#000000\" fill-rule=\"evenodd\" fill-opacity=\"1\" /><path clip-path=\"url(#clip550)\" d=\"M837.87 1387.28 L837.87 1374.8 L841.666 1374.8 L841.666 1387.28 L837.87 1387.28 Z\" fill=\"#000000\" fill-rule=\"evenodd\" fill-opacity=\"1\" /><path clip-path=\"url(#clip550)\" d=\"M821.273 1357.42 Q821.273 1361.03 824.838 1362.86 Q828.38 1364.67 835.509 1364.67 Q842.616 1364.67 846.18 1362.86 Q849.722 1361.03 849.722 1357.42 Q849.722 1353.79 846.18 1351.98 Q842.616 1350.15 835.509 1350.15 Q828.38 1350.15 824.838 1351.98 Q821.273 1353.79 821.273 1357.42 M817.569 1357.42 Q817.569 1351.61 822.176 1348.55 Q826.759 1345.48 835.509 1345.48 Q844.236 1345.48 848.842 1348.55 Q853.426 1351.61 853.426 1357.42 Q853.426 1363.23 848.842 1366.31 Q844.236 1369.36 835.509 1369.36 Q826.759 1369.36 822.176 1366.31 Q817.569 1363.23 817.569 1357.42 Z\" fill=\"#000000\" fill-rule=\"evenodd\" fill-opacity=\"1\" /><path clip-path=\"url(#clip550)\" d=\"M852.037 1337.12 L847.778 1337.12 Q848.611 1335.36 849.051 1333.55 Q849.491 1331.75 849.491 1330.01 Q849.491 1325.38 846.389 1322.95 Q843.264 1320.5 836.921 1320.15 Q838.912 1321.49 839.977 1323.55 Q841.041 1325.61 841.041 1328.11 Q841.041 1333.3 837.917 1336.33 Q834.768 1339.34 829.329 1339.34 Q824.005 1339.34 820.787 1336.19 Q817.569 1333.05 817.569 1327.81 Q817.569 1321.82 822.176 1318.67 Q826.759 1315.5 835.509 1315.5 Q843.68 1315.5 848.565 1319.39 Q853.426 1323.25 853.426 1329.8 Q853.426 1331.56 853.078 1333.37 Q852.731 1335.17 852.037 1337.12 M837.384 1327.81 Q837.384 1324.67 835.231 1322.84 Q833.079 1320.99 829.329 1320.99 Q825.602 1320.99 823.449 1322.84 Q821.273 1324.67 821.273 1327.81 Q821.273 1330.96 823.449 1332.81 Q825.602 1334.64 829.329 1334.64 Q833.079 1334.64 835.231 1332.81 Q837.384 1330.96 837.384 1327.81 Z\" fill=\"#000000\" fill-rule=\"evenodd\" fill-opacity=\"1\" /><path clip-path=\"url(#clip550)\" d=\"M818.194 1312.3 L818.194 1283.07 L822.13 1283.07 L822.13 1295.34 L852.754 1295.34 L852.754 1300.04 L822.13 1300.04 L822.13 1312.3 L818.194 1312.3 Z\" fill=\"#000000\" fill-rule=\"evenodd\" fill-opacity=\"1\" /><path clip-path=\"url(#clip550)\" d=\"M821.273 1268.14 Q821.273 1271.75 824.838 1273.58 Q828.38 1275.38 835.509 1275.38 Q842.616 1275.38 846.18 1273.58 Q849.722 1271.75 849.722 1268.14 Q849.722 1264.5 846.18 1262.7 Q842.616 1260.87 835.509 1260.87 Q828.38 1260.87 824.838 1262.7 Q821.273 1264.5 821.273 1268.14 M817.569 1268.14 Q817.569 1262.33 822.176 1259.27 Q826.759 1256.19 835.509 1256.19 Q844.236 1256.19 848.842 1259.27 Q853.426 1262.33 853.426 1268.14 Q853.426 1273.95 848.842 1277.03 Q844.236 1280.08 835.509 1280.08 Q826.759 1280.08 822.176 1277.03 Q817.569 1273.95 817.569 1268.14 Z\" fill=\"#000000\" fill-rule=\"evenodd\" fill-opacity=\"1\" /><path clip-path=\"url(#clip550)\" d=\"M821.273 1237.98 Q821.273 1241.59 824.838 1243.42 Q828.38 1245.22 835.509 1245.22 Q842.616 1245.22 846.18 1243.42 Q849.722 1241.59 849.722 1237.98 Q849.722 1234.34 846.18 1232.54 Q842.616 1230.71 835.509 1230.71 Q828.38 1230.71 824.838 1232.54 Q821.273 1234.34 821.273 1237.98 M817.569 1237.98 Q817.569 1232.17 822.176 1229.11 Q826.759 1226.03 835.509 1226.03 Q844.236 1226.03 848.842 1229.11 Q853.426 1232.17 853.426 1237.98 Q853.426 1243.79 848.842 1246.87 Q844.236 1249.92 835.509 1249.92 Q826.759 1249.92 822.176 1246.87 Q817.569 1243.79 817.569 1237.98 Z\" fill=\"#000000\" fill-rule=\"evenodd\" fill-opacity=\"1\" /><path clip-path=\"url(#clip550)\" d=\"M846.875 1217.33 L846.875 1212.44 L852.754 1212.44 L852.754 1217.33 L846.875 1217.33 M828.241 1217.33 L828.241 1212.44 L834.12 1212.44 L834.12 1217.33 L828.241 1217.33 Z\" fill=\"#000000\" fill-rule=\"evenodd\" fill-opacity=\"1\" /><path clip-path=\"url(#clip550)\" d=\"M821.273 1191.84 Q821.273 1195.45 824.838 1197.28 Q828.38 1199.09 835.509 1199.09 Q842.616 1199.09 846.18 1197.28 Q849.722 1195.45 849.722 1191.84 Q849.722 1188.21 846.18 1186.4 Q842.616 1184.57 835.509 1184.57 Q828.38 1184.57 824.838 1186.4 Q821.273 1188.21 821.273 1191.84 M817.569 1191.84 Q817.569 1186.03 822.176 1182.98 Q826.759 1179.9 835.509 1179.9 Q844.236 1179.9 848.842 1182.98 Q853.426 1186.03 853.426 1191.84 Q853.426 1197.65 848.842 1200.73 Q844.236 1203.79 835.509 1203.79 Q826.759 1203.79 822.176 1200.73 Q817.569 1197.65 817.569 1191.84 Z\" fill=\"#000000\" fill-rule=\"evenodd\" fill-opacity=\"1\" /><path clip-path=\"url(#clip550)\" d=\"M821.273 1161.68 Q821.273 1165.29 824.838 1167.12 Q828.38 1168.93 835.509 1168.93 Q842.616 1168.93 846.18 1167.12 Q849.722 1165.29 849.722 1161.68 Q849.722 1158.05 846.18 1156.24 Q842.616 1154.41 835.509 1154.41 Q828.38 1154.41 824.838 1156.24 Q821.273 1158.05 821.273 1161.68 M817.569 1161.68 Q817.569 1155.87 822.176 1152.81 Q826.759 1149.74 835.509 1149.74 Q844.236 1149.74 848.842 1152.81 Q853.426 1155.87 853.426 1161.68 Q853.426 1167.49 848.842 1170.57 Q844.236 1173.62 835.509 1173.62 Q826.759 1173.62 822.176 1170.57 Q817.569 1167.49 817.569 1161.68 Z\" fill=\"#000000\" fill-rule=\"evenodd\" fill-opacity=\"1\" /><path clip-path=\"url(#clip550)\" d=\"M846.875 1141.03 L846.875 1136.15 L852.754 1136.15 L852.754 1141.03 L846.875 1141.03 M828.241 1141.03 L828.241 1136.15 L834.12 1136.15 L834.12 1141.03 L828.241 1141.03 Z\" fill=\"#000000\" fill-rule=\"evenodd\" fill-opacity=\"1\" /><path clip-path=\"url(#clip550)\" d=\"M821.273 1115.55 Q821.273 1119.16 824.838 1120.99 Q828.38 1122.79 835.509 1122.79 Q842.616 1122.79 846.18 1120.99 Q849.722 1119.16 849.722 1115.55 Q849.722 1111.91 846.18 1110.11 Q842.616 1108.28 835.509 1108.28 Q828.38 1108.28 824.838 1110.11 Q821.273 1111.91 821.273 1115.55 M817.569 1115.55 Q817.569 1109.74 822.176 1106.68 Q826.759 1103.6 835.509 1103.6 Q844.236 1103.6 848.842 1106.68 Q853.426 1109.74 853.426 1115.55 Q853.426 1121.36 848.842 1124.44 Q844.236 1127.49 835.509 1127.49 Q826.759 1127.49 822.176 1124.44 Q817.569 1121.36 817.569 1115.55 Z\" fill=\"#000000\" fill-rule=\"evenodd\" fill-opacity=\"1\" /><path clip-path=\"url(#clip550)\" d=\"M821.273 1085.38 Q821.273 1089 824.838 1090.82 Q828.38 1092.63 835.509 1092.63 Q842.616 1092.63 846.18 1090.82 Q849.722 1089 849.722 1085.38 Q849.722 1081.75 846.18 1079.94 Q842.616 1078.12 835.509 1078.12 Q828.38 1078.12 824.838 1079.94 Q821.273 1081.75 821.273 1085.38 M817.569 1085.38 Q817.569 1079.57 822.176 1076.52 Q826.759 1073.44 835.509 1073.44 Q844.236 1073.44 848.842 1076.52 Q853.426 1079.57 853.426 1085.38 Q853.426 1091.19 848.842 1094.27 Q844.236 1097.33 835.509 1097.33 Q826.759 1097.33 822.176 1094.27 Q817.569 1091.19 817.569 1085.38 Z\" fill=\"#000000\" fill-rule=\"evenodd\" fill-opacity=\"1\" /><path clip-path=\"url(#clip550)\" d=\"M1056.95 1578.58 L1056.95 1562.26 L1060.89 1562.26 L1060.89 1584.2 L1056.95 1584.2 Q1054.2 1581.54 1049.57 1576.96 Q1044.91 1572.35 1043.57 1571.17 Q1041.05 1568.92 1039.31 1568.04 Q1037.55 1567.14 1035.86 1567.14 Q1033.11 1567.14 1031.37 1569.09 Q1029.64 1571.01 1029.64 1574.11 Q1029.64 1576.31 1030.4 1578.76 Q1031.16 1581.19 1032.72 1583.97 L1027.99 1583.97 Q1026.86 1581.15 1026.28 1578.69 Q1025.7 1576.24 1025.7 1574.2 Q1025.7 1568.83 1028.39 1565.64 Q1031.07 1562.44 1035.56 1562.44 Q1037.69 1562.44 1039.61 1563.25 Q1041.51 1564.04 1044.1 1566.15 Q1044.78 1566.72 1047.99 1569.83 Q1051.19 1572.93 1056.95 1578.58 Z\" fill=\"#000000\" fill-rule=\"evenodd\" fill-opacity=\"1\" /><path clip-path=\"url(#clip550)\" d=\"M1029.4 1542.44 Q1029.4 1546.05 1032.97 1547.88 Q1036.51 1549.69 1043.64 1549.69 Q1050.75 1549.69 1054.31 1547.88 Q1057.85 1546.05 1057.85 1542.44 Q1057.85 1538.81 1054.31 1537 Q1050.75 1535.17 1043.64 1535.17 Q1036.51 1535.17 1032.97 1537 Q1029.4 1538.81 1029.4 1542.44 M1025.7 1542.44 Q1025.7 1536.63 1030.31 1533.58 Q1034.89 1530.5 1043.64 1530.5 Q1052.37 1530.5 1056.97 1533.58 Q1061.56 1536.63 1061.56 1542.44 Q1061.56 1548.25 1056.97 1551.33 Q1052.37 1554.39 1043.64 1554.39 Q1034.89 1554.39 1030.31 1551.33 Q1025.7 1548.25 1025.7 1542.44 Z\" fill=\"#000000\" fill-rule=\"evenodd\" fill-opacity=\"1\" /><path clip-path=\"url(#clip550)\" d=\"M1056.95 1518.25 L1056.95 1501.93 L1060.89 1501.93 L1060.89 1523.88 L1056.95 1523.88 Q1054.2 1521.22 1049.57 1516.63 Q1044.91 1512.03 1043.57 1510.85 Q1041.05 1508.6 1039.31 1507.72 Q1037.55 1506.82 1035.86 1506.82 Q1033.11 1506.82 1031.37 1508.76 Q1029.64 1510.68 1029.64 1513.79 Q1029.64 1515.98 1030.4 1518.44 Q1031.16 1520.87 1032.72 1523.65 L1027.99 1523.65 Q1026.86 1520.82 1026.28 1518.37 Q1025.7 1515.91 1025.7 1513.88 Q1025.7 1508.51 1028.39 1505.31 Q1031.07 1502.12 1035.56 1502.12 Q1037.69 1502.12 1039.61 1502.93 Q1041.51 1503.72 1044.1 1505.82 Q1044.78 1506.4 1047.99 1509.5 Q1051.19 1512.6 1056.95 1518.25 Z\" fill=\"#000000\" fill-rule=\"evenodd\" fill-opacity=\"1\" /><path clip-path=\"url(#clip550)\" d=\"M1056.95 1488.09 L1056.95 1471.77 L1060.89 1471.77 L1060.89 1493.72 L1056.95 1493.72 Q1054.2 1491.05 1049.57 1486.47 Q1044.91 1481.86 1043.57 1480.68 Q1041.05 1478.44 1039.31 1477.56 Q1037.55 1476.66 1035.86 1476.66 Q1033.11 1476.66 1031.37 1478.6 Q1029.64 1480.52 1029.64 1483.62 Q1029.64 1485.82 1030.4 1488.28 Q1031.16 1490.71 1032.72 1493.48 L1027.99 1493.48 Q1026.86 1490.66 1026.28 1488.21 Q1025.7 1485.75 1025.7 1483.72 Q1025.7 1478.35 1028.39 1475.15 Q1031.07 1471.96 1035.56 1471.96 Q1037.69 1471.96 1039.61 1472.77 Q1041.51 1473.55 1044.1 1475.66 Q1044.78 1476.24 1047.99 1479.34 Q1051.19 1482.44 1056.95 1488.09 Z\" fill=\"#000000\" fill-rule=\"evenodd\" fill-opacity=\"1\" /><path clip-path=\"url(#clip550)\" d=\"M1046 1464.71 L1046 1452.23 L1049.8 1452.23 L1049.8 1464.71 L1046 1464.71 Z\" fill=\"#000000\" fill-rule=\"evenodd\" fill-opacity=\"1\" /><path clip-path=\"url(#clip550)\" d=\"M1029.4 1434.85 Q1029.4 1438.46 1032.97 1440.29 Q1036.51 1442.1 1043.64 1442.1 Q1050.75 1442.1 1054.31 1440.29 Q1057.85 1438.46 1057.85 1434.85 Q1057.85 1431.22 1054.31 1429.41 Q1050.75 1427.58 1043.64 1427.58 Q1036.51 1427.58 1032.97 1429.41 Q1029.4 1431.22 1029.4 1434.85 M1025.7 1434.85 Q1025.7 1429.04 1030.31 1425.98 Q1034.89 1422.91 1043.64 1422.91 Q1052.37 1422.91 1056.97 1425.98 Q1061.56 1429.04 1061.56 1434.85 Q1061.56 1440.66 1056.97 1443.74 Q1052.37 1446.79 1043.64 1446.79 Q1034.89 1446.79 1030.31 1443.74 Q1025.7 1440.66 1025.7 1434.85 Z\" fill=\"#000000\" fill-rule=\"evenodd\" fill-opacity=\"1\" /><path clip-path=\"url(#clip550)\" d=\"M1060.17 1414.55 L1055.91 1414.55 Q1056.74 1412.79 1057.18 1410.98 Q1057.62 1409.18 1057.62 1407.44 Q1057.62 1402.81 1054.52 1400.38 Q1051.4 1397.93 1045.05 1397.58 Q1047.04 1398.92 1048.11 1400.98 Q1049.17 1403.04 1049.17 1405.54 Q1049.17 1410.73 1046.05 1413.76 Q1042.9 1416.77 1037.46 1416.77 Q1032.14 1416.77 1028.92 1413.62 Q1025.7 1410.48 1025.7 1405.24 Q1025.7 1399.25 1030.31 1396.1 Q1034.89 1392.93 1043.64 1392.93 Q1051.81 1392.93 1056.7 1396.82 Q1061.56 1400.68 1061.56 1407.23 Q1061.56 1408.99 1061.21 1410.8 Q1060.86 1412.61 1060.17 1414.55 M1045.52 1405.24 Q1045.52 1402.1 1043.36 1400.27 Q1041.21 1398.42 1037.46 1398.42 Q1033.73 1398.42 1031.58 1400.27 Q1029.4 1402.1 1029.4 1405.24 Q1029.4 1408.39 1031.58 1410.24 Q1033.73 1412.07 1037.46 1412.07 Q1041.21 1412.07 1043.36 1410.24 Q1045.52 1408.39 1045.52 1405.24 Z\" fill=\"#000000\" fill-rule=\"evenodd\" fill-opacity=\"1\" /><path clip-path=\"url(#clip550)\" d=\"M1046 1387.28 L1046 1374.8 L1049.8 1374.8 L1049.8 1387.28 L1046 1387.28 Z\" fill=\"#000000\" fill-rule=\"evenodd\" fill-opacity=\"1\" /><path clip-path=\"url(#clip550)\" d=\"M1056.95 1366.61 L1056.95 1358.97 L1030.59 1358.97 L1032.25 1367.28 L1027.99 1367.28 L1026.33 1359.02 L1026.33 1354.34 L1056.95 1354.34 L1056.95 1346.7 L1060.89 1346.7 L1060.89 1366.61 L1056.95 1366.61 Z\" fill=\"#000000\" fill-rule=\"evenodd\" fill-opacity=\"1\" /><path clip-path=\"url(#clip550)\" d=\"M1056.95 1333.23 L1056.95 1316.91 L1060.89 1316.91 L1060.89 1338.86 L1056.95 1338.86 Q1054.2 1336.19 1049.57 1331.61 Q1044.91 1327 1043.57 1325.82 Q1041.05 1323.58 1039.31 1322.7 Q1037.55 1321.8 1035.86 1321.8 Q1033.11 1321.8 1031.37 1323.74 Q1029.64 1325.66 1029.64 1328.76 Q1029.64 1330.96 1030.4 1333.42 Q1031.16 1335.85 1032.72 1338.62 L1027.99 1338.62 Q1026.86 1335.8 1026.28 1333.35 Q1025.7 1330.89 1025.7 1328.86 Q1025.7 1323.49 1028.39 1320.29 Q1031.07 1317.1 1035.56 1317.1 Q1037.69 1317.1 1039.61 1317.91 Q1041.51 1318.69 1044.1 1320.8 Q1044.78 1321.38 1047.99 1324.48 Q1051.19 1327.58 1056.95 1333.23 Z\" fill=\"#000000\" fill-rule=\"evenodd\" fill-opacity=\"1\" /><path clip-path=\"url(#clip550)\" d=\"M1026.33 1312.3 L1026.33 1283.07 L1030.26 1283.07 L1030.26 1295.34 L1060.89 1295.34 L1060.89 1300.04 L1030.26 1300.04 L1030.26 1312.3 L1026.33 1312.3 Z\" fill=\"#000000\" fill-rule=\"evenodd\" fill-opacity=\"1\" /><path clip-path=\"url(#clip550)\" d=\"M1029.4 1268.14 Q1029.4 1271.75 1032.97 1273.58 Q1036.51 1275.38 1043.64 1275.38 Q1050.75 1275.38 1054.31 1273.58 Q1057.85 1271.75 1057.85 1268.14 Q1057.85 1264.5 1054.31 1262.7 Q1050.75 1260.87 1043.64 1260.87 Q1036.51 1260.87 1032.97 1262.7 Q1029.4 1264.5 1029.4 1268.14 M1025.7 1268.14 Q1025.7 1262.33 1030.31 1259.27 Q1034.89 1256.19 1043.64 1256.19 Q1052.37 1256.19 1056.97 1259.27 Q1061.56 1262.33 1061.56 1268.14 Q1061.56 1273.95 1056.97 1277.03 Q1052.37 1280.08 1043.64 1280.08 Q1034.89 1280.08 1030.31 1277.03 Q1025.7 1273.95 1025.7 1268.14 Z\" fill=\"#000000\" fill-rule=\"evenodd\" fill-opacity=\"1\" /><path clip-path=\"url(#clip550)\" d=\"M1029.4 1237.98 Q1029.4 1241.59 1032.97 1243.42 Q1036.51 1245.22 1043.64 1245.22 Q1050.75 1245.22 1054.31 1243.42 Q1057.85 1241.59 1057.85 1237.98 Q1057.85 1234.34 1054.31 1232.54 Q1050.75 1230.71 1043.64 1230.71 Q1036.51 1230.71 1032.97 1232.54 Q1029.4 1234.34 1029.4 1237.98 M1025.7 1237.98 Q1025.7 1232.17 1030.31 1229.11 Q1034.89 1226.03 1043.64 1226.03 Q1052.37 1226.03 1056.97 1229.11 Q1061.56 1232.17 1061.56 1237.98 Q1061.56 1243.79 1056.97 1246.87 Q1052.37 1249.92 1043.64 1249.92 Q1034.89 1249.92 1030.31 1246.87 Q1025.7 1243.79 1025.7 1237.98 Z\" fill=\"#000000\" fill-rule=\"evenodd\" fill-opacity=\"1\" /><path clip-path=\"url(#clip550)\" d=\"M1055.01 1217.33 L1055.01 1212.44 L1060.89 1212.44 L1060.89 1217.33 L1055.01 1217.33 M1036.37 1217.33 L1036.37 1212.44 L1042.25 1212.44 L1042.25 1217.33 L1036.37 1217.33 Z\" fill=\"#000000\" fill-rule=\"evenodd\" fill-opacity=\"1\" /><path clip-path=\"url(#clip550)\" d=\"M1029.4 1191.84 Q1029.4 1195.45 1032.97 1197.28 Q1036.51 1199.09 1043.64 1199.09 Q1050.75 1199.09 1054.31 1197.28 Q1057.85 1195.45 1057.85 1191.84 Q1057.85 1188.21 1054.31 1186.4 Q1050.75 1184.57 1043.64 1184.57 Q1036.51 1184.57 1032.97 1186.4 Q1029.4 1188.21 1029.4 1191.84 M1025.7 1191.84 Q1025.7 1186.03 1030.31 1182.98 Q1034.89 1179.9 1043.64 1179.9 Q1052.37 1179.9 1056.97 1182.98 Q1061.56 1186.03 1061.56 1191.84 Q1061.56 1197.65 1056.97 1200.73 Q1052.37 1203.79 1043.64 1203.79 Q1034.89 1203.79 1030.31 1200.73 Q1025.7 1197.65 1025.7 1191.84 Z\" fill=\"#000000\" fill-rule=\"evenodd\" fill-opacity=\"1\" /><path clip-path=\"url(#clip550)\" d=\"M1029.4 1161.68 Q1029.4 1165.29 1032.97 1167.12 Q1036.51 1168.93 1043.64 1168.93 Q1050.75 1168.93 1054.31 1167.12 Q1057.85 1165.29 1057.85 1161.68 Q1057.85 1158.05 1054.31 1156.24 Q1050.75 1154.41 1043.64 1154.41 Q1036.51 1154.41 1032.97 1156.24 Q1029.4 1158.05 1029.4 1161.68 M1025.7 1161.68 Q1025.7 1155.87 1030.31 1152.81 Q1034.89 1149.74 1043.64 1149.74 Q1052.37 1149.74 1056.97 1152.81 Q1061.56 1155.87 1061.56 1161.68 Q1061.56 1167.49 1056.97 1170.57 Q1052.37 1173.62 1043.64 1173.62 Q1034.89 1173.62 1030.31 1170.57 Q1025.7 1167.49 1025.7 1161.68 Z\" fill=\"#000000\" fill-rule=\"evenodd\" fill-opacity=\"1\" /><path clip-path=\"url(#clip550)\" d=\"M1055.01 1141.03 L1055.01 1136.15 L1060.89 1136.15 L1060.89 1141.03 L1055.01 1141.03 M1036.37 1141.03 L1036.37 1136.15 L1042.25 1136.15 L1042.25 1141.03 L1036.37 1141.03 Z\" fill=\"#000000\" fill-rule=\"evenodd\" fill-opacity=\"1\" /><path clip-path=\"url(#clip550)\" d=\"M1029.4 1115.55 Q1029.4 1119.16 1032.97 1120.99 Q1036.51 1122.79 1043.64 1122.79 Q1050.75 1122.79 1054.31 1120.99 Q1057.85 1119.16 1057.85 1115.55 Q1057.85 1111.91 1054.31 1110.11 Q1050.75 1108.28 1043.64 1108.28 Q1036.51 1108.28 1032.97 1110.11 Q1029.4 1111.91 1029.4 1115.55 M1025.7 1115.55 Q1025.7 1109.74 1030.31 1106.68 Q1034.89 1103.6 1043.64 1103.6 Q1052.37 1103.6 1056.97 1106.68 Q1061.56 1109.74 1061.56 1115.55 Q1061.56 1121.36 1056.97 1124.44 Q1052.37 1127.49 1043.64 1127.49 Q1034.89 1127.49 1030.31 1124.44 Q1025.7 1121.36 1025.7 1115.55 Z\" fill=\"#000000\" fill-rule=\"evenodd\" fill-opacity=\"1\" /><path clip-path=\"url(#clip550)\" d=\"M1029.4 1085.38 Q1029.4 1089 1032.97 1090.82 Q1036.51 1092.63 1043.64 1092.63 Q1050.75 1092.63 1054.31 1090.82 Q1057.85 1089 1057.85 1085.38 Q1057.85 1081.75 1054.31 1079.94 Q1050.75 1078.12 1043.64 1078.12 Q1036.51 1078.12 1032.97 1079.94 Q1029.4 1081.75 1029.4 1085.38 M1025.7 1085.38 Q1025.7 1079.57 1030.31 1076.52 Q1034.89 1073.44 1043.64 1073.44 Q1052.37 1073.44 1056.97 1076.52 Q1061.56 1079.57 1061.56 1085.38 Q1061.56 1091.19 1056.97 1094.27 Q1052.37 1097.33 1043.64 1097.33 Q1034.89 1097.33 1030.31 1094.27 Q1025.7 1091.19 1025.7 1085.38 Z\" fill=\"#000000\" fill-rule=\"evenodd\" fill-opacity=\"1\" /><path clip-path=\"url(#clip550)\" d=\"M1126.33 1578.58 L1126.33 1562.26 L1130.26 1562.26 L1130.26 1584.2 L1126.33 1584.2 Q1123.57 1581.54 1118.94 1576.96 Q1114.29 1572.35 1112.95 1571.17 Q1110.43 1568.92 1108.69 1568.04 Q1106.93 1567.14 1105.24 1567.14 Q1102.49 1567.14 1100.75 1569.09 Q1099.01 1571.01 1099.01 1574.11 Q1099.01 1576.31 1099.78 1578.76 Q1100.54 1581.19 1102.09 1583.97 L1097.37 1583.97 Q1096.24 1581.15 1095.66 1578.69 Q1095.08 1576.24 1095.08 1574.2 Q1095.08 1568.83 1097.76 1565.64 Q1100.45 1562.44 1104.94 1562.44 Q1107.07 1562.44 1108.99 1563.25 Q1110.89 1564.04 1113.48 1566.15 Q1114.15 1566.72 1117.37 1569.83 Q1120.56 1572.93 1126.33 1578.58 Z\" fill=\"#000000\" fill-rule=\"evenodd\" fill-opacity=\"1\" /><path clip-path=\"url(#clip550)\" d=\"M1098.78 1542.44 Q1098.78 1546.05 1102.35 1547.88 Q1105.89 1549.69 1113.02 1549.69 Q1120.12 1549.69 1123.69 1547.88 Q1127.23 1546.05 1127.23 1542.44 Q1127.23 1538.81 1123.69 1537 Q1120.12 1535.17 1113.02 1535.17 Q1105.89 1535.17 1102.35 1537 Q1098.78 1538.81 1098.78 1542.44 M1095.08 1542.44 Q1095.08 1536.63 1099.69 1533.58 Q1104.27 1530.5 1113.02 1530.5 Q1121.75 1530.5 1126.35 1533.58 Q1130.93 1536.63 1130.93 1542.44 Q1130.93 1548.25 1126.35 1551.33 Q1121.75 1554.39 1113.02 1554.39 Q1104.27 1554.39 1099.69 1551.33 Q1095.08 1548.25 1095.08 1542.44 Z\" fill=\"#000000\" fill-rule=\"evenodd\" fill-opacity=\"1\" /><path clip-path=\"url(#clip550)\" d=\"M1126.33 1518.25 L1126.33 1501.93 L1130.26 1501.93 L1130.26 1523.88 L1126.33 1523.88 Q1123.57 1521.22 1118.94 1516.63 Q1114.29 1512.03 1112.95 1510.85 Q1110.43 1508.6 1108.69 1507.72 Q1106.93 1506.82 1105.24 1506.82 Q1102.49 1506.82 1100.75 1508.76 Q1099.01 1510.68 1099.01 1513.79 Q1099.01 1515.98 1099.78 1518.44 Q1100.54 1520.87 1102.09 1523.65 L1097.37 1523.65 Q1096.24 1520.82 1095.66 1518.37 Q1095.08 1515.91 1095.08 1513.88 Q1095.08 1508.51 1097.76 1505.31 Q1100.45 1502.12 1104.94 1502.12 Q1107.07 1502.12 1108.99 1502.93 Q1110.89 1503.72 1113.48 1505.82 Q1114.15 1506.4 1117.37 1509.5 Q1120.56 1512.6 1126.33 1518.25 Z\" fill=\"#000000\" fill-rule=\"evenodd\" fill-opacity=\"1\" /><path clip-path=\"url(#clip550)\" d=\"M1126.33 1488.09 L1126.33 1471.77 L1130.26 1471.77 L1130.26 1493.72 L1126.33 1493.72 Q1123.57 1491.05 1118.94 1486.47 Q1114.29 1481.86 1112.95 1480.68 Q1110.43 1478.44 1108.69 1477.56 Q1106.93 1476.66 1105.24 1476.66 Q1102.49 1476.66 1100.75 1478.6 Q1099.01 1480.52 1099.01 1483.62 Q1099.01 1485.82 1099.78 1488.28 Q1100.54 1490.71 1102.09 1493.48 L1097.37 1493.48 Q1096.24 1490.66 1095.66 1488.21 Q1095.08 1485.75 1095.08 1483.72 Q1095.08 1478.35 1097.76 1475.15 Q1100.45 1471.96 1104.94 1471.96 Q1107.07 1471.96 1108.99 1472.77 Q1110.89 1473.55 1113.48 1475.66 Q1114.15 1476.24 1117.37 1479.34 Q1120.56 1482.44 1126.33 1488.09 Z\" fill=\"#000000\" fill-rule=\"evenodd\" fill-opacity=\"1\" /><path clip-path=\"url(#clip550)\" d=\"M1115.38 1464.71 L1115.38 1452.23 L1119.18 1452.23 L1119.18 1464.71 L1115.38 1464.71 Z\" fill=\"#000000\" fill-rule=\"evenodd\" fill-opacity=\"1\" /><path clip-path=\"url(#clip550)\" d=\"M1098.78 1434.85 Q1098.78 1438.46 1102.35 1440.29 Q1105.89 1442.1 1113.02 1442.1 Q1120.12 1442.1 1123.69 1440.29 Q1127.23 1438.46 1127.23 1434.85 Q1127.23 1431.22 1123.69 1429.41 Q1120.12 1427.58 1113.02 1427.58 Q1105.89 1427.58 1102.35 1429.41 Q1098.78 1431.22 1098.78 1434.85 M1095.08 1434.85 Q1095.08 1429.04 1099.69 1425.98 Q1104.27 1422.91 1113.02 1422.91 Q1121.75 1422.91 1126.35 1425.98 Q1130.93 1429.04 1130.93 1434.85 Q1130.93 1440.66 1126.35 1443.74 Q1121.75 1446.79 1113.02 1446.79 Q1104.27 1446.79 1099.69 1443.74 Q1095.08 1440.66 1095.08 1434.85 Z\" fill=\"#000000\" fill-rule=\"evenodd\" fill-opacity=\"1\" /><path clip-path=\"url(#clip550)\" d=\"M1129.55 1414.55 L1125.29 1414.55 Q1126.12 1412.79 1126.56 1410.98 Q1127 1409.18 1127 1407.44 Q1127 1402.81 1123.9 1400.38 Q1120.77 1397.93 1114.43 1397.58 Q1116.42 1398.92 1117.49 1400.98 Q1118.55 1403.04 1118.55 1405.54 Q1118.55 1410.73 1115.43 1413.76 Q1112.28 1416.77 1106.84 1416.77 Q1101.51 1416.77 1098.3 1413.62 Q1095.08 1410.48 1095.08 1405.24 Q1095.08 1399.25 1099.69 1396.1 Q1104.27 1392.93 1113.02 1392.93 Q1121.19 1392.93 1126.07 1396.82 Q1130.93 1400.68 1130.93 1407.23 Q1130.93 1408.99 1130.59 1410.8 Q1130.24 1412.61 1129.55 1414.55 M1114.89 1405.24 Q1114.89 1402.1 1112.74 1400.27 Q1110.59 1398.42 1106.84 1398.42 Q1103.11 1398.42 1100.96 1400.27 Q1098.78 1402.1 1098.78 1405.24 Q1098.78 1408.39 1100.96 1410.24 Q1103.11 1412.07 1106.84 1412.07 Q1110.59 1412.07 1112.74 1410.24 Q1114.89 1408.39 1114.89 1405.24 Z\" fill=\"#000000\" fill-rule=\"evenodd\" fill-opacity=\"1\" /><path clip-path=\"url(#clip550)\" d=\"M1115.38 1387.28 L1115.38 1374.8 L1119.18 1374.8 L1119.18 1387.28 L1115.38 1387.28 Z\" fill=\"#000000\" fill-rule=\"evenodd\" fill-opacity=\"1\" /><path clip-path=\"url(#clip550)\" d=\"M1126.33 1366.61 L1126.33 1358.97 L1099.96 1358.97 L1101.63 1367.28 L1097.37 1367.28 L1095.7 1359.02 L1095.7 1354.34 L1126.33 1354.34 L1126.33 1346.7 L1130.26 1346.7 L1130.26 1366.61 L1126.33 1366.61 Z\" fill=\"#000000\" fill-rule=\"evenodd\" fill-opacity=\"1\" /><path clip-path=\"url(#clip550)\" d=\"M1111.63 1323.09 Q1112.35 1319.74 1114.62 1317.86 Q1116.88 1315.96 1120.22 1315.96 Q1125.33 1315.96 1128.13 1319.48 Q1130.93 1323 1130.93 1329.48 Q1130.93 1331.66 1130.5 1333.97 Q1130.08 1336.26 1129.22 1338.72 L1124.71 1338.72 Q1125.84 1336.77 1126.42 1334.46 Q1127 1332.14 1127 1329.62 Q1127 1325.22 1125.26 1322.93 Q1123.53 1320.61 1120.22 1320.61 Q1117.16 1320.61 1115.45 1322.77 Q1113.71 1324.9 1113.71 1328.72 L1113.71 1332.74 L1109.87 1332.74 L1109.87 1328.53 Q1109.87 1325.08 1108.5 1323.25 Q1107.12 1321.43 1104.52 1321.43 Q1101.86 1321.43 1100.45 1323.32 Q1099.01 1325.2 1099.01 1328.72 Q1099.01 1330.64 1099.43 1332.84 Q1099.85 1335.04 1100.73 1337.67 L1096.56 1337.67 Q1095.82 1335.01 1095.45 1332.7 Q1095.08 1330.36 1095.08 1328.3 Q1095.08 1322.98 1097.51 1319.87 Q1099.92 1316.77 1104.04 1316.77 Q1106.91 1316.77 1108.9 1318.42 Q1110.87 1320.06 1111.63 1323.09 Z\" fill=\"#000000\" fill-rule=\"evenodd\" fill-opacity=\"1\" /><path clip-path=\"url(#clip550)\" d=\"M1095.7 1312.3 L1095.7 1283.07 L1099.64 1283.07 L1099.64 1295.34 L1130.26 1295.34 L1130.26 1300.04 L1099.64 1300.04 L1099.64 1312.3 L1095.7 1312.3 Z\" fill=\"#000000\" fill-rule=\"evenodd\" fill-opacity=\"1\" /><path clip-path=\"url(#clip550)\" d=\"M1098.78 1268.14 Q1098.78 1271.75 1102.35 1273.58 Q1105.89 1275.38 1113.02 1275.38 Q1120.12 1275.38 1123.69 1273.58 Q1127.23 1271.75 1127.23 1268.14 Q1127.23 1264.5 1123.69 1262.7 Q1120.12 1260.87 1113.02 1260.87 Q1105.89 1260.87 1102.35 1262.7 Q1098.78 1264.5 1098.78 1268.14 M1095.08 1268.14 Q1095.08 1262.33 1099.69 1259.27 Q1104.27 1256.19 1113.02 1256.19 Q1121.75 1256.19 1126.35 1259.27 Q1130.93 1262.33 1130.93 1268.14 Q1130.93 1273.95 1126.35 1277.03 Q1121.75 1280.08 1113.02 1280.08 Q1104.27 1280.08 1099.69 1277.03 Q1095.08 1273.95 1095.08 1268.14 Z\" fill=\"#000000\" fill-rule=\"evenodd\" fill-opacity=\"1\" /><path clip-path=\"url(#clip550)\" d=\"M1098.78 1237.98 Q1098.78 1241.59 1102.35 1243.42 Q1105.89 1245.22 1113.02 1245.22 Q1120.12 1245.22 1123.69 1243.42 Q1127.23 1241.59 1127.23 1237.98 Q1127.23 1234.34 1123.69 1232.54 Q1120.12 1230.71 1113.02 1230.71 Q1105.89 1230.71 1102.35 1232.54 Q1098.78 1234.34 1098.78 1237.98 M1095.08 1237.98 Q1095.08 1232.17 1099.69 1229.11 Q1104.27 1226.03 1113.02 1226.03 Q1121.75 1226.03 1126.35 1229.11 Q1130.93 1232.17 1130.93 1237.98 Q1130.93 1243.79 1126.35 1246.87 Q1121.75 1249.92 1113.02 1249.92 Q1104.27 1249.92 1099.69 1246.87 Q1095.08 1243.79 1095.08 1237.98 Z\" fill=\"#000000\" fill-rule=\"evenodd\" fill-opacity=\"1\" /><path clip-path=\"url(#clip550)\" d=\"M1124.38 1217.33 L1124.38 1212.44 L1130.26 1212.44 L1130.26 1217.33 L1124.38 1217.33 M1105.75 1217.33 L1105.75 1212.44 L1111.63 1212.44 L1111.63 1217.33 L1105.75 1217.33 Z\" fill=\"#000000\" fill-rule=\"evenodd\" fill-opacity=\"1\" /><path clip-path=\"url(#clip550)\" d=\"M1098.78 1191.84 Q1098.78 1195.45 1102.35 1197.28 Q1105.89 1199.09 1113.02 1199.09 Q1120.12 1199.09 1123.69 1197.28 Q1127.23 1195.45 1127.23 1191.84 Q1127.23 1188.21 1123.69 1186.4 Q1120.12 1184.57 1113.02 1184.57 Q1105.89 1184.57 1102.35 1186.4 Q1098.78 1188.21 1098.78 1191.84 M1095.08 1191.84 Q1095.08 1186.03 1099.69 1182.98 Q1104.27 1179.9 1113.02 1179.9 Q1121.75 1179.9 1126.35 1182.98 Q1130.93 1186.03 1130.93 1191.84 Q1130.93 1197.65 1126.35 1200.73 Q1121.75 1203.79 1113.02 1203.79 Q1104.27 1203.79 1099.69 1200.73 Q1095.08 1197.65 1095.08 1191.84 Z\" fill=\"#000000\" fill-rule=\"evenodd\" fill-opacity=\"1\" /><path clip-path=\"url(#clip550)\" d=\"M1098.78 1161.68 Q1098.78 1165.29 1102.35 1167.12 Q1105.89 1168.93 1113.02 1168.93 Q1120.12 1168.93 1123.69 1167.12 Q1127.23 1165.29 1127.23 1161.68 Q1127.23 1158.05 1123.69 1156.24 Q1120.12 1154.41 1113.02 1154.41 Q1105.89 1154.41 1102.35 1156.24 Q1098.78 1158.05 1098.78 1161.68 M1095.08 1161.68 Q1095.08 1155.87 1099.69 1152.81 Q1104.27 1149.74 1113.02 1149.74 Q1121.75 1149.74 1126.35 1152.81 Q1130.93 1155.87 1130.93 1161.68 Q1130.93 1167.49 1126.35 1170.57 Q1121.75 1173.62 1113.02 1173.62 Q1104.27 1173.62 1099.69 1170.57 Q1095.08 1167.49 1095.08 1161.68 Z\" fill=\"#000000\" fill-rule=\"evenodd\" fill-opacity=\"1\" /><path clip-path=\"url(#clip550)\" d=\"M1124.38 1141.03 L1124.38 1136.15 L1130.26 1136.15 L1130.26 1141.03 L1124.38 1141.03 M1105.75 1141.03 L1105.75 1136.15 L1111.63 1136.15 L1111.63 1141.03 L1105.75 1141.03 Z\" fill=\"#000000\" fill-rule=\"evenodd\" fill-opacity=\"1\" /><path clip-path=\"url(#clip550)\" d=\"M1098.78 1115.55 Q1098.78 1119.16 1102.35 1120.99 Q1105.89 1122.79 1113.02 1122.79 Q1120.12 1122.79 1123.69 1120.99 Q1127.23 1119.16 1127.23 1115.55 Q1127.23 1111.91 1123.69 1110.11 Q1120.12 1108.28 1113.02 1108.28 Q1105.89 1108.28 1102.35 1110.11 Q1098.78 1111.91 1098.78 1115.55 M1095.08 1115.55 Q1095.08 1109.74 1099.69 1106.68 Q1104.27 1103.6 1113.02 1103.6 Q1121.75 1103.6 1126.35 1106.68 Q1130.93 1109.74 1130.93 1115.55 Q1130.93 1121.36 1126.35 1124.44 Q1121.75 1127.49 1113.02 1127.49 Q1104.27 1127.49 1099.69 1124.44 Q1095.08 1121.36 1095.08 1115.55 Z\" fill=\"#000000\" fill-rule=\"evenodd\" fill-opacity=\"1\" /><path clip-path=\"url(#clip550)\" d=\"M1098.78 1085.38 Q1098.78 1089 1102.35 1090.82 Q1105.89 1092.63 1113.02 1092.63 Q1120.12 1092.63 1123.69 1090.82 Q1127.23 1089 1127.23 1085.38 Q1127.23 1081.75 1123.69 1079.94 Q1120.12 1078.12 1113.02 1078.12 Q1105.89 1078.12 1102.35 1079.94 Q1098.78 1081.75 1098.78 1085.38 M1095.08 1085.38 Q1095.08 1079.57 1099.69 1076.52 Q1104.27 1073.44 1113.02 1073.44 Q1121.75 1073.44 1126.35 1076.52 Q1130.93 1079.57 1130.93 1085.38 Q1130.93 1091.19 1126.35 1094.27 Q1121.75 1097.33 1113.02 1097.33 Q1104.27 1097.33 1099.69 1094.27 Q1095.08 1091.19 1095.08 1085.38 Z\" fill=\"#000000\" fill-rule=\"evenodd\" fill-opacity=\"1\" /><path clip-path=\"url(#clip550)\" d=\"M1195.71 1578.58 L1195.71 1562.26 L1199.64 1562.26 L1199.64 1584.2 L1195.71 1584.2 Q1192.95 1581.54 1188.32 1576.96 Q1183.67 1572.35 1182.33 1571.17 Q1179.8 1568.92 1178.07 1568.04 Q1176.31 1567.14 1174.62 1567.14 Q1171.86 1567.14 1170.13 1569.09 Q1168.39 1571.01 1168.39 1574.11 Q1168.39 1576.31 1169.15 1578.76 Q1169.92 1581.19 1171.47 1583.97 L1166.75 1583.97 Q1165.61 1581.15 1165.03 1578.69 Q1164.46 1576.24 1164.46 1574.2 Q1164.46 1568.83 1167.14 1565.64 Q1169.83 1562.44 1174.32 1562.44 Q1176.45 1562.44 1178.37 1563.25 Q1180.27 1564.04 1182.86 1566.15 Q1183.53 1566.72 1186.75 1569.83 Q1189.94 1572.93 1195.71 1578.58 Z\" fill=\"#000000\" fill-rule=\"evenodd\" fill-opacity=\"1\" /><path clip-path=\"url(#clip550)\" d=\"M1168.16 1542.44 Q1168.16 1546.05 1171.72 1547.88 Q1175.27 1549.69 1182.4 1549.69 Q1189.5 1549.69 1193.07 1547.88 Q1196.61 1546.05 1196.61 1542.44 Q1196.61 1538.81 1193.07 1537 Q1189.5 1535.17 1182.4 1535.17 Q1175.27 1535.17 1171.72 1537 Q1168.16 1538.81 1168.16 1542.44 M1164.46 1542.44 Q1164.46 1536.63 1169.06 1533.58 Q1173.65 1530.5 1182.4 1530.5 Q1191.12 1530.5 1195.73 1533.58 Q1200.31 1536.63 1200.31 1542.44 Q1200.31 1548.25 1195.73 1551.33 Q1191.12 1554.39 1182.4 1554.39 Q1173.65 1554.39 1169.06 1551.33 Q1164.46 1548.25 1164.46 1542.44 Z\" fill=\"#000000\" fill-rule=\"evenodd\" fill-opacity=\"1\" /><path clip-path=\"url(#clip550)\" d=\"M1195.71 1518.25 L1195.71 1501.93 L1199.64 1501.93 L1199.64 1523.88 L1195.71 1523.88 Q1192.95 1521.22 1188.32 1516.63 Q1183.67 1512.03 1182.33 1510.85 Q1179.8 1508.6 1178.07 1507.72 Q1176.31 1506.82 1174.62 1506.82 Q1171.86 1506.82 1170.13 1508.76 Q1168.39 1510.68 1168.39 1513.79 Q1168.39 1515.98 1169.15 1518.44 Q1169.92 1520.87 1171.47 1523.65 L1166.75 1523.65 Q1165.61 1520.82 1165.03 1518.37 Q1164.46 1515.91 1164.46 1513.88 Q1164.46 1508.51 1167.14 1505.31 Q1169.83 1502.12 1174.32 1502.12 Q1176.45 1502.12 1178.37 1502.93 Q1180.27 1503.72 1182.86 1505.82 Q1183.53 1506.4 1186.75 1509.5 Q1189.94 1512.6 1195.71 1518.25 Z\" fill=\"#000000\" fill-rule=\"evenodd\" fill-opacity=\"1\" /><path clip-path=\"url(#clip550)\" d=\"M1195.71 1488.09 L1195.71 1471.77 L1199.64 1471.77 L1199.64 1493.72 L1195.71 1493.72 Q1192.95 1491.05 1188.32 1486.47 Q1183.67 1481.86 1182.33 1480.68 Q1179.8 1478.44 1178.07 1477.56 Q1176.31 1476.66 1174.62 1476.66 Q1171.86 1476.66 1170.13 1478.6 Q1168.39 1480.52 1168.39 1483.62 Q1168.39 1485.82 1169.15 1488.28 Q1169.92 1490.71 1171.47 1493.48 L1166.75 1493.48 Q1165.61 1490.66 1165.03 1488.21 Q1164.46 1485.75 1164.46 1483.72 Q1164.46 1478.35 1167.14 1475.15 Q1169.83 1471.96 1174.32 1471.96 Q1176.45 1471.96 1178.37 1472.77 Q1180.27 1473.55 1182.86 1475.66 Q1183.53 1476.24 1186.75 1479.34 Q1189.94 1482.44 1195.71 1488.09 Z\" fill=\"#000000\" fill-rule=\"evenodd\" fill-opacity=\"1\" /><path clip-path=\"url(#clip550)\" d=\"M1184.76 1464.71 L1184.76 1452.23 L1188.55 1452.23 L1188.55 1464.71 L1184.76 1464.71 Z\" fill=\"#000000\" fill-rule=\"evenodd\" fill-opacity=\"1\" /><path clip-path=\"url(#clip550)\" d=\"M1168.16 1434.85 Q1168.16 1438.46 1171.72 1440.29 Q1175.27 1442.1 1182.4 1442.1 Q1189.5 1442.1 1193.07 1440.29 Q1196.61 1438.46 1196.61 1434.85 Q1196.61 1431.22 1193.07 1429.41 Q1189.5 1427.58 1182.4 1427.58 Q1175.27 1427.58 1171.72 1429.41 Q1168.16 1431.22 1168.16 1434.85 M1164.46 1434.85 Q1164.46 1429.04 1169.06 1425.98 Q1173.65 1422.91 1182.4 1422.91 Q1191.12 1422.91 1195.73 1425.98 Q1200.31 1429.04 1200.31 1434.85 Q1200.31 1440.66 1195.73 1443.74 Q1191.12 1446.79 1182.4 1446.79 Q1173.65 1446.79 1169.06 1443.74 Q1164.46 1440.66 1164.46 1434.85 Z\" fill=\"#000000\" fill-rule=\"evenodd\" fill-opacity=\"1\" /><path clip-path=\"url(#clip550)\" d=\"M1198.92 1414.55 L1194.66 1414.55 Q1195.5 1412.79 1195.94 1410.98 Q1196.38 1409.18 1196.38 1407.44 Q1196.38 1402.81 1193.28 1400.38 Q1190.15 1397.93 1183.81 1397.58 Q1185.8 1398.92 1186.86 1400.98 Q1187.93 1403.04 1187.93 1405.54 Q1187.93 1410.73 1184.8 1413.76 Q1181.65 1416.77 1176.22 1416.77 Q1170.89 1416.77 1167.67 1413.62 Q1164.46 1410.48 1164.46 1405.24 Q1164.46 1399.25 1169.06 1396.1 Q1173.65 1392.93 1182.4 1392.93 Q1190.57 1392.93 1195.45 1396.82 Q1200.31 1400.68 1200.31 1407.23 Q1200.31 1408.99 1199.96 1410.8 Q1199.62 1412.61 1198.92 1414.55 M1184.27 1405.24 Q1184.27 1402.1 1182.12 1400.27 Q1179.97 1398.42 1176.22 1398.42 Q1172.49 1398.42 1170.34 1400.27 Q1168.16 1402.1 1168.16 1405.24 Q1168.16 1408.39 1170.34 1410.24 Q1172.49 1412.07 1176.22 1412.07 Q1179.97 1412.07 1182.12 1410.24 Q1184.27 1408.39 1184.27 1405.24 Z\" fill=\"#000000\" fill-rule=\"evenodd\" fill-opacity=\"1\" /><path clip-path=\"url(#clip550)\" d=\"M1184.76 1387.28 L1184.76 1374.8 L1188.55 1374.8 L1188.55 1387.28 L1184.76 1387.28 Z\" fill=\"#000000\" fill-rule=\"evenodd\" fill-opacity=\"1\" /><path clip-path=\"url(#clip550)\" d=\"M1195.71 1366.61 L1195.71 1358.97 L1169.34 1358.97 L1171.01 1367.28 L1166.75 1367.28 L1165.08 1359.02 L1165.08 1354.34 L1195.71 1354.34 L1195.71 1346.7 L1199.64 1346.7 L1199.64 1366.61 L1195.71 1366.61 Z\" fill=\"#000000\" fill-rule=\"evenodd\" fill-opacity=\"1\" /><path clip-path=\"url(#clip550)\" d=\"M1169.15 1324.41 L1187.6 1336.22 L1187.6 1324.41 L1169.15 1324.41 M1165.08 1325.64 L1165.08 1319.76 L1187.6 1319.76 L1187.6 1314.83 L1191.49 1314.83 L1191.49 1319.76 L1199.64 1319.76 L1199.64 1324.41 L1191.49 1324.41 L1191.49 1340.01 L1186.98 1340.01 L1165.08 1325.64 Z\" fill=\"#000000\" fill-rule=\"evenodd\" fill-opacity=\"1\" /><path clip-path=\"url(#clip550)\" d=\"M1165.08 1312.3 L1165.08 1283.07 L1169.02 1283.07 L1169.02 1295.34 L1199.64 1295.34 L1199.64 1300.04 L1169.02 1300.04 L1169.02 1312.3 L1165.08 1312.3 Z\" fill=\"#000000\" fill-rule=\"evenodd\" fill-opacity=\"1\" /><path clip-path=\"url(#clip550)\" d=\"M1168.16 1268.14 Q1168.16 1271.75 1171.72 1273.58 Q1175.27 1275.38 1182.4 1275.38 Q1189.5 1275.38 1193.07 1273.58 Q1196.61 1271.75 1196.61 1268.14 Q1196.61 1264.5 1193.07 1262.7 Q1189.5 1260.87 1182.4 1260.87 Q1175.27 1260.87 1171.72 1262.7 Q1168.16 1264.5 1168.16 1268.14 M1164.46 1268.14 Q1164.46 1262.33 1169.06 1259.27 Q1173.65 1256.19 1182.4 1256.19 Q1191.12 1256.19 1195.73 1259.27 Q1200.31 1262.33 1200.31 1268.14 Q1200.31 1273.95 1195.73 1277.03 Q1191.12 1280.08 1182.4 1280.08 Q1173.65 1280.08 1169.06 1277.03 Q1164.46 1273.95 1164.46 1268.14 Z\" fill=\"#000000\" fill-rule=\"evenodd\" fill-opacity=\"1\" /><path clip-path=\"url(#clip550)\" d=\"M1168.16 1237.98 Q1168.16 1241.59 1171.72 1243.42 Q1175.27 1245.22 1182.4 1245.22 Q1189.5 1245.22 1193.07 1243.42 Q1196.61 1241.59 1196.61 1237.98 Q1196.61 1234.34 1193.07 1232.54 Q1189.5 1230.71 1182.4 1230.71 Q1175.27 1230.71 1171.72 1232.54 Q1168.16 1234.34 1168.16 1237.98 M1164.46 1237.98 Q1164.46 1232.17 1169.06 1229.11 Q1173.65 1226.03 1182.4 1226.03 Q1191.12 1226.03 1195.73 1229.11 Q1200.31 1232.17 1200.31 1237.98 Q1200.31 1243.79 1195.73 1246.87 Q1191.12 1249.92 1182.4 1249.92 Q1173.65 1249.92 1169.06 1246.87 Q1164.46 1243.79 1164.46 1237.98 Z\" fill=\"#000000\" fill-rule=\"evenodd\" fill-opacity=\"1\" /><path clip-path=\"url(#clip550)\" d=\"M1193.76 1217.33 L1193.76 1212.44 L1199.64 1212.44 L1199.64 1217.33 L1193.76 1217.33 M1175.13 1217.33 L1175.13 1212.44 L1181.01 1212.44 L1181.01 1217.33 L1175.13 1217.33 Z\" fill=\"#000000\" fill-rule=\"evenodd\" fill-opacity=\"1\" /><path clip-path=\"url(#clip550)\" d=\"M1168.16 1191.84 Q1168.16 1195.45 1171.72 1197.28 Q1175.27 1199.09 1182.4 1199.09 Q1189.5 1199.09 1193.07 1197.28 Q1196.61 1195.45 1196.61 1191.84 Q1196.61 1188.21 1193.07 1186.4 Q1189.5 1184.57 1182.4 1184.57 Q1175.27 1184.57 1171.72 1186.4 Q1168.16 1188.21 1168.16 1191.84 M1164.46 1191.84 Q1164.46 1186.03 1169.06 1182.98 Q1173.65 1179.9 1182.4 1179.9 Q1191.12 1179.9 1195.73 1182.98 Q1200.31 1186.03 1200.31 1191.84 Q1200.31 1197.65 1195.73 1200.73 Q1191.12 1203.79 1182.4 1203.79 Q1173.65 1203.79 1169.06 1200.73 Q1164.46 1197.65 1164.46 1191.84 Z\" fill=\"#000000\" fill-rule=\"evenodd\" fill-opacity=\"1\" /><path clip-path=\"url(#clip550)\" d=\"M1168.16 1161.68 Q1168.16 1165.29 1171.72 1167.12 Q1175.27 1168.93 1182.4 1168.93 Q1189.5 1168.93 1193.07 1167.12 Q1196.61 1165.29 1196.61 1161.68 Q1196.61 1158.05 1193.07 1156.24 Q1189.5 1154.41 1182.4 1154.41 Q1175.27 1154.41 1171.72 1156.24 Q1168.16 1158.05 1168.16 1161.68 M1164.46 1161.68 Q1164.46 1155.87 1169.06 1152.81 Q1173.65 1149.74 1182.4 1149.74 Q1191.12 1149.74 1195.73 1152.81 Q1200.31 1155.87 1200.31 1161.68 Q1200.31 1167.49 1195.73 1170.57 Q1191.12 1173.62 1182.4 1173.62 Q1173.65 1173.62 1169.06 1170.57 Q1164.46 1167.49 1164.46 1161.68 Z\" fill=\"#000000\" fill-rule=\"evenodd\" fill-opacity=\"1\" /><path clip-path=\"url(#clip550)\" d=\"M1193.76 1141.03 L1193.76 1136.15 L1199.64 1136.15 L1199.64 1141.03 L1193.76 1141.03 M1175.13 1141.03 L1175.13 1136.15 L1181.01 1136.15 L1181.01 1141.03 L1175.13 1141.03 Z\" fill=\"#000000\" fill-rule=\"evenodd\" fill-opacity=\"1\" /><path clip-path=\"url(#clip550)\" d=\"M1168.16 1115.55 Q1168.16 1119.16 1171.72 1120.99 Q1175.27 1122.79 1182.4 1122.79 Q1189.5 1122.79 1193.07 1120.99 Q1196.61 1119.16 1196.61 1115.55 Q1196.61 1111.91 1193.07 1110.11 Q1189.5 1108.28 1182.4 1108.28 Q1175.27 1108.28 1171.72 1110.11 Q1168.16 1111.91 1168.16 1115.55 M1164.46 1115.55 Q1164.46 1109.74 1169.06 1106.68 Q1173.65 1103.6 1182.4 1103.6 Q1191.12 1103.6 1195.73 1106.68 Q1200.31 1109.74 1200.31 1115.55 Q1200.31 1121.36 1195.73 1124.44 Q1191.12 1127.49 1182.4 1127.49 Q1173.65 1127.49 1169.06 1124.44 Q1164.46 1121.36 1164.46 1115.55 Z\" fill=\"#000000\" fill-rule=\"evenodd\" fill-opacity=\"1\" /><path clip-path=\"url(#clip550)\" d=\"M1168.16 1085.38 Q1168.16 1089 1171.72 1090.82 Q1175.27 1092.63 1182.4 1092.63 Q1189.5 1092.63 1193.07 1090.82 Q1196.61 1089 1196.61 1085.38 Q1196.61 1081.75 1193.07 1079.94 Q1189.5 1078.12 1182.4 1078.12 Q1175.27 1078.12 1171.72 1079.94 Q1168.16 1081.75 1168.16 1085.38 M1164.46 1085.38 Q1164.46 1079.57 1169.06 1076.52 Q1173.65 1073.44 1182.4 1073.44 Q1191.12 1073.44 1195.73 1076.52 Q1200.31 1079.57 1200.31 1085.38 Q1200.31 1091.19 1195.73 1094.27 Q1191.12 1097.33 1182.4 1097.33 Q1173.65 1097.33 1169.06 1094.27 Q1164.46 1091.19 1164.46 1085.38 Z\" fill=\"#000000\" fill-rule=\"evenodd\" fill-opacity=\"1\" /><path clip-path=\"url(#clip550)\" d=\"M1265.08 1578.58 L1265.08 1562.26 L1269.02 1562.26 L1269.02 1584.2 L1265.08 1584.2 Q1262.33 1581.54 1257.7 1576.96 Q1253.05 1572.35 1251.7 1571.17 Q1249.18 1568.92 1247.44 1568.04 Q1245.68 1567.14 1244 1567.14 Q1241.24 1567.14 1239.5 1569.09 Q1237.77 1571.01 1237.77 1574.11 Q1237.77 1576.31 1238.53 1578.76 Q1239.3 1581.19 1240.85 1583.97 L1236.12 1583.97 Q1234.99 1581.15 1234.41 1578.69 Q1233.83 1576.24 1233.83 1574.2 Q1233.83 1568.83 1236.52 1565.64 Q1239.2 1562.44 1243.69 1562.44 Q1245.82 1562.44 1247.75 1563.25 Q1249.64 1564.04 1252.24 1566.15 Q1252.91 1566.72 1256.12 1569.83 Q1259.32 1572.93 1265.08 1578.58 Z\" fill=\"#000000\" fill-rule=\"evenodd\" fill-opacity=\"1\" /><path clip-path=\"url(#clip550)\" d=\"M1237.54 1542.44 Q1237.54 1546.05 1241.1 1547.88 Q1244.64 1549.69 1251.77 1549.69 Q1258.88 1549.69 1262.44 1547.88 Q1265.99 1546.05 1265.99 1542.44 Q1265.99 1538.81 1262.44 1537 Q1258.88 1535.17 1251.77 1535.17 Q1244.64 1535.17 1241.1 1537 Q1237.54 1538.81 1237.54 1542.44 M1233.83 1542.44 Q1233.83 1536.63 1238.44 1533.58 Q1243.02 1530.5 1251.77 1530.5 Q1260.5 1530.5 1265.11 1533.58 Q1269.69 1536.63 1269.69 1542.44 Q1269.69 1548.25 1265.11 1551.33 Q1260.5 1554.39 1251.77 1554.39 Q1243.02 1554.39 1238.44 1551.33 Q1233.83 1548.25 1233.83 1542.44 Z\" fill=\"#000000\" fill-rule=\"evenodd\" fill-opacity=\"1\" /><path clip-path=\"url(#clip550)\" d=\"M1265.08 1518.25 L1265.08 1501.93 L1269.02 1501.93 L1269.02 1523.88 L1265.08 1523.88 Q1262.33 1521.22 1257.7 1516.63 Q1253.05 1512.03 1251.7 1510.85 Q1249.18 1508.6 1247.44 1507.72 Q1245.68 1506.82 1244 1506.82 Q1241.24 1506.82 1239.5 1508.76 Q1237.77 1510.68 1237.77 1513.79 Q1237.77 1515.98 1238.53 1518.44 Q1239.3 1520.87 1240.85 1523.65 L1236.12 1523.65 Q1234.99 1520.82 1234.41 1518.37 Q1233.83 1515.91 1233.83 1513.88 Q1233.83 1508.51 1236.52 1505.31 Q1239.2 1502.12 1243.69 1502.12 Q1245.82 1502.12 1247.75 1502.93 Q1249.64 1503.72 1252.24 1505.82 Q1252.91 1506.4 1256.12 1509.5 Q1259.32 1512.6 1265.08 1518.25 Z\" fill=\"#000000\" fill-rule=\"evenodd\" fill-opacity=\"1\" /><path clip-path=\"url(#clip550)\" d=\"M1265.08 1488.09 L1265.08 1471.77 L1269.02 1471.77 L1269.02 1493.72 L1265.08 1493.72 Q1262.33 1491.05 1257.7 1486.47 Q1253.05 1481.86 1251.7 1480.68 Q1249.18 1478.44 1247.44 1477.56 Q1245.68 1476.66 1244 1476.66 Q1241.24 1476.66 1239.5 1478.6 Q1237.77 1480.52 1237.77 1483.62 Q1237.77 1485.82 1238.53 1488.28 Q1239.3 1490.71 1240.85 1493.48 L1236.12 1493.48 Q1234.99 1490.66 1234.41 1488.21 Q1233.83 1485.75 1233.83 1483.72 Q1233.83 1478.35 1236.52 1475.15 Q1239.2 1471.96 1243.69 1471.96 Q1245.82 1471.96 1247.75 1472.77 Q1249.64 1473.55 1252.24 1475.66 Q1252.91 1476.24 1256.12 1479.34 Q1259.32 1482.44 1265.08 1488.09 Z\" fill=\"#000000\" fill-rule=\"evenodd\" fill-opacity=\"1\" /><path clip-path=\"url(#clip550)\" d=\"M1254.13 1464.71 L1254.13 1452.23 L1257.93 1452.23 L1257.93 1464.71 L1254.13 1464.71 Z\" fill=\"#000000\" fill-rule=\"evenodd\" fill-opacity=\"1\" /><path clip-path=\"url(#clip550)\" d=\"M1237.54 1434.85 Q1237.54 1438.46 1241.1 1440.29 Q1244.64 1442.1 1251.77 1442.1 Q1258.88 1442.1 1262.44 1440.29 Q1265.99 1438.46 1265.99 1434.85 Q1265.99 1431.22 1262.44 1429.41 Q1258.88 1427.58 1251.77 1427.58 Q1244.64 1427.58 1241.1 1429.41 Q1237.54 1431.22 1237.54 1434.85 M1233.83 1434.85 Q1233.83 1429.04 1238.44 1425.98 Q1243.02 1422.91 1251.77 1422.91 Q1260.5 1422.91 1265.11 1425.98 Q1269.69 1429.04 1269.69 1434.85 Q1269.69 1440.66 1265.11 1443.74 Q1260.5 1446.79 1251.77 1446.79 Q1243.02 1446.79 1238.44 1443.74 Q1233.83 1440.66 1233.83 1434.85 Z\" fill=\"#000000\" fill-rule=\"evenodd\" fill-opacity=\"1\" /><path clip-path=\"url(#clip550)\" d=\"M1268.3 1414.55 L1264.04 1414.55 Q1264.87 1412.79 1265.31 1410.98 Q1265.75 1409.18 1265.75 1407.44 Q1265.75 1402.81 1262.65 1400.38 Q1259.53 1397.93 1253.18 1397.58 Q1255.18 1398.92 1256.24 1400.98 Q1257.31 1403.04 1257.31 1405.54 Q1257.31 1410.73 1254.18 1413.76 Q1251.03 1416.77 1245.59 1416.77 Q1240.27 1416.77 1237.05 1413.62 Q1233.83 1410.48 1233.83 1405.24 Q1233.83 1399.25 1238.44 1396.1 Q1243.02 1392.93 1251.77 1392.93 Q1259.94 1392.93 1264.83 1396.82 Q1269.69 1400.68 1269.69 1407.23 Q1269.69 1408.99 1269.34 1410.8 Q1269 1412.61 1268.3 1414.55 M1253.65 1405.24 Q1253.65 1402.1 1251.5 1400.27 Q1249.34 1398.42 1245.59 1398.42 Q1241.87 1398.42 1239.71 1400.27 Q1237.54 1402.1 1237.54 1405.24 Q1237.54 1408.39 1239.71 1410.24 Q1241.87 1412.07 1245.59 1412.07 Q1249.34 1412.07 1251.5 1410.24 Q1253.65 1408.39 1253.65 1405.24 Z\" fill=\"#000000\" fill-rule=\"evenodd\" fill-opacity=\"1\" /><path clip-path=\"url(#clip550)\" d=\"M1254.13 1387.28 L1254.13 1374.8 L1257.93 1374.8 L1257.93 1387.28 L1254.13 1387.28 Z\" fill=\"#000000\" fill-rule=\"evenodd\" fill-opacity=\"1\" /><path clip-path=\"url(#clip550)\" d=\"M1265.08 1366.61 L1265.08 1358.97 L1238.72 1358.97 L1240.38 1367.28 L1236.12 1367.28 L1234.46 1359.02 L1234.46 1354.34 L1265.08 1354.34 L1265.08 1346.7 L1269.02 1346.7 L1269.02 1366.61 L1265.08 1366.61 Z\" fill=\"#000000\" fill-rule=\"evenodd\" fill-opacity=\"1\" /><path clip-path=\"url(#clip550)\" d=\"M1234.46 1337.21 L1234.46 1318.86 L1238.39 1318.86 L1238.39 1332.93 L1246.87 1332.93 Q1246.52 1331.91 1246.36 1330.89 Q1246.17 1329.87 1246.17 1328.86 Q1246.17 1323.07 1249.34 1319.69 Q1252.51 1316.31 1257.93 1316.31 Q1263.51 1316.31 1266.61 1319.78 Q1269.69 1323.25 1269.69 1329.57 Q1269.69 1331.75 1269.32 1334.02 Q1268.95 1336.26 1268.21 1338.67 L1263.51 1338.67 Q1264.64 1336.59 1265.2 1334.36 Q1265.75 1332.14 1265.75 1329.67 Q1265.75 1325.66 1263.65 1323.32 Q1261.54 1320.99 1257.93 1320.99 Q1254.32 1320.99 1252.21 1323.32 Q1250.11 1325.66 1250.11 1329.67 Q1250.11 1331.54 1250.52 1333.42 Q1250.94 1335.27 1251.82 1337.21 L1234.46 1337.21 Z\" fill=\"#000000\" fill-rule=\"evenodd\" fill-opacity=\"1\" /><path clip-path=\"url(#clip550)\" d=\"M1234.46 1312.3 L1234.46 1283.07 L1238.39 1283.07 L1238.39 1295.34 L1269.02 1295.34 L1269.02 1300.04 L1238.39 1300.04 L1238.39 1312.3 L1234.46 1312.3 Z\" fill=\"#000000\" fill-rule=\"evenodd\" fill-opacity=\"1\" /><path clip-path=\"url(#clip550)\" d=\"M1237.54 1268.14 Q1237.54 1271.75 1241.1 1273.58 Q1244.64 1275.38 1251.77 1275.38 Q1258.88 1275.38 1262.44 1273.58 Q1265.99 1271.75 1265.99 1268.14 Q1265.99 1264.5 1262.44 1262.7 Q1258.88 1260.87 1251.77 1260.87 Q1244.64 1260.87 1241.1 1262.7 Q1237.54 1264.5 1237.54 1268.14 M1233.83 1268.14 Q1233.83 1262.33 1238.44 1259.27 Q1243.02 1256.19 1251.77 1256.19 Q1260.5 1256.19 1265.11 1259.27 Q1269.69 1262.33 1269.69 1268.14 Q1269.69 1273.95 1265.11 1277.03 Q1260.5 1280.08 1251.77 1280.08 Q1243.02 1280.08 1238.44 1277.03 Q1233.83 1273.95 1233.83 1268.14 Z\" fill=\"#000000\" fill-rule=\"evenodd\" fill-opacity=\"1\" /><path clip-path=\"url(#clip550)\" d=\"M1237.54 1237.98 Q1237.54 1241.59 1241.1 1243.42 Q1244.64 1245.22 1251.77 1245.22 Q1258.88 1245.22 1262.44 1243.42 Q1265.99 1241.59 1265.99 1237.98 Q1265.99 1234.34 1262.44 1232.54 Q1258.88 1230.71 1251.77 1230.71 Q1244.64 1230.71 1241.1 1232.54 Q1237.54 1234.34 1237.54 1237.98 M1233.83 1237.98 Q1233.83 1232.17 1238.44 1229.11 Q1243.02 1226.03 1251.77 1226.03 Q1260.5 1226.03 1265.11 1229.11 Q1269.69 1232.17 1269.69 1237.98 Q1269.69 1243.79 1265.11 1246.87 Q1260.5 1249.92 1251.77 1249.92 Q1243.02 1249.92 1238.44 1246.87 Q1233.83 1243.79 1233.83 1237.98 Z\" fill=\"#000000\" fill-rule=\"evenodd\" fill-opacity=\"1\" /><path clip-path=\"url(#clip550)\" d=\"M1263.14 1217.33 L1263.14 1212.44 L1269.02 1212.44 L1269.02 1217.33 L1263.14 1217.33 M1244.5 1217.33 L1244.5 1212.44 L1250.38 1212.44 L1250.38 1217.33 L1244.5 1217.33 Z\" fill=\"#000000\" fill-rule=\"evenodd\" fill-opacity=\"1\" /><path clip-path=\"url(#clip550)\" d=\"M1237.54 1191.84 Q1237.54 1195.45 1241.1 1197.28 Q1244.64 1199.09 1251.77 1199.09 Q1258.88 1199.09 1262.44 1197.28 Q1265.99 1195.45 1265.99 1191.84 Q1265.99 1188.21 1262.44 1186.4 Q1258.88 1184.57 1251.77 1184.57 Q1244.64 1184.57 1241.1 1186.4 Q1237.54 1188.21 1237.54 1191.84 M1233.83 1191.84 Q1233.83 1186.03 1238.44 1182.98 Q1243.02 1179.9 1251.77 1179.9 Q1260.5 1179.9 1265.11 1182.98 Q1269.69 1186.03 1269.69 1191.84 Q1269.69 1197.65 1265.11 1200.73 Q1260.5 1203.79 1251.77 1203.79 Q1243.02 1203.79 1238.44 1200.73 Q1233.83 1197.65 1233.83 1191.84 Z\" fill=\"#000000\" fill-rule=\"evenodd\" fill-opacity=\"1\" /><path clip-path=\"url(#clip550)\" d=\"M1237.54 1161.68 Q1237.54 1165.29 1241.1 1167.12 Q1244.64 1168.93 1251.77 1168.93 Q1258.88 1168.93 1262.44 1167.12 Q1265.99 1165.29 1265.99 1161.68 Q1265.99 1158.05 1262.44 1156.24 Q1258.88 1154.41 1251.77 1154.41 Q1244.64 1154.41 1241.1 1156.24 Q1237.54 1158.05 1237.54 1161.68 M1233.83 1161.68 Q1233.83 1155.87 1238.44 1152.81 Q1243.02 1149.74 1251.77 1149.74 Q1260.5 1149.74 1265.11 1152.81 Q1269.69 1155.87 1269.69 1161.68 Q1269.69 1167.49 1265.11 1170.57 Q1260.5 1173.62 1251.77 1173.62 Q1243.02 1173.62 1238.44 1170.57 Q1233.83 1167.49 1233.83 1161.68 Z\" fill=\"#000000\" fill-rule=\"evenodd\" fill-opacity=\"1\" /><path clip-path=\"url(#clip550)\" d=\"M1263.14 1141.03 L1263.14 1136.15 L1269.02 1136.15 L1269.02 1141.03 L1263.14 1141.03 M1244.5 1141.03 L1244.5 1136.15 L1250.38 1136.15 L1250.38 1141.03 L1244.5 1141.03 Z\" fill=\"#000000\" fill-rule=\"evenodd\" fill-opacity=\"1\" /><path clip-path=\"url(#clip550)\" d=\"M1237.54 1115.55 Q1237.54 1119.16 1241.1 1120.99 Q1244.64 1122.79 1251.77 1122.79 Q1258.88 1122.79 1262.44 1120.99 Q1265.99 1119.16 1265.99 1115.55 Q1265.99 1111.91 1262.44 1110.11 Q1258.88 1108.28 1251.77 1108.28 Q1244.64 1108.28 1241.1 1110.11 Q1237.54 1111.91 1237.54 1115.55 M1233.83 1115.55 Q1233.83 1109.74 1238.44 1106.68 Q1243.02 1103.6 1251.77 1103.6 Q1260.5 1103.6 1265.11 1106.68 Q1269.69 1109.74 1269.69 1115.55 Q1269.69 1121.36 1265.11 1124.44 Q1260.5 1127.49 1251.77 1127.49 Q1243.02 1127.49 1238.44 1124.44 Q1233.83 1121.36 1233.83 1115.55 Z\" fill=\"#000000\" fill-rule=\"evenodd\" fill-opacity=\"1\" /><path clip-path=\"url(#clip550)\" d=\"M1237.54 1085.38 Q1237.54 1089 1241.1 1090.82 Q1244.64 1092.63 1251.77 1092.63 Q1258.88 1092.63 1262.44 1090.82 Q1265.99 1089 1265.99 1085.38 Q1265.99 1081.75 1262.44 1079.94 Q1258.88 1078.12 1251.77 1078.12 Q1244.64 1078.12 1241.1 1079.94 Q1237.54 1081.75 1237.54 1085.38 M1233.83 1085.38 Q1233.83 1079.57 1238.44 1076.52 Q1243.02 1073.44 1251.77 1073.44 Q1260.5 1073.44 1265.11 1076.52 Q1269.69 1079.57 1269.69 1085.38 Q1269.69 1091.19 1265.11 1094.27 Q1260.5 1097.33 1251.77 1097.33 Q1243.02 1097.33 1238.44 1094.27 Q1233.83 1091.19 1233.83 1085.38 Z\" fill=\"#000000\" fill-rule=\"evenodd\" fill-opacity=\"1\" /><path clip-path=\"url(#clip550)\" d=\"M1334.46 1578.58 L1334.46 1562.26 L1338.4 1562.26 L1338.4 1584.2 L1334.46 1584.2 Q1331.71 1581.54 1327.08 1576.96 Q1322.42 1572.35 1321.08 1571.17 Q1318.56 1568.92 1316.82 1568.04 Q1315.06 1567.14 1313.37 1567.14 Q1310.62 1567.14 1308.88 1569.09 Q1307.15 1571.01 1307.15 1574.11 Q1307.15 1576.31 1307.91 1578.76 Q1308.67 1581.19 1310.22 1583.97 L1305.5 1583.97 Q1304.37 1581.15 1303.79 1578.69 Q1303.21 1576.24 1303.21 1574.2 Q1303.21 1568.83 1305.9 1565.64 Q1308.58 1562.44 1313.07 1562.44 Q1315.2 1562.44 1317.12 1563.25 Q1319.02 1564.04 1321.61 1566.15 Q1322.28 1566.72 1325.5 1569.83 Q1328.7 1572.93 1334.46 1578.58 Z\" fill=\"#000000\" fill-rule=\"evenodd\" fill-opacity=\"1\" /><path clip-path=\"url(#clip550)\" d=\"M1306.91 1542.44 Q1306.91 1546.05 1310.48 1547.88 Q1314.02 1549.69 1321.15 1549.69 Q1328.26 1549.69 1331.82 1547.88 Q1335.36 1546.05 1335.36 1542.44 Q1335.36 1538.81 1331.82 1537 Q1328.26 1535.17 1321.15 1535.17 Q1314.02 1535.17 1310.48 1537 Q1306.91 1538.81 1306.91 1542.44 M1303.21 1542.44 Q1303.21 1536.63 1307.82 1533.58 Q1312.4 1530.5 1321.15 1530.5 Q1329.88 1530.5 1334.48 1533.58 Q1339.07 1536.63 1339.07 1542.44 Q1339.07 1548.25 1334.48 1551.33 Q1329.88 1554.39 1321.15 1554.39 Q1312.4 1554.39 1307.82 1551.33 Q1303.21 1548.25 1303.21 1542.44 Z\" fill=\"#000000\" fill-rule=\"evenodd\" fill-opacity=\"1\" /><path clip-path=\"url(#clip550)\" d=\"M1334.46 1518.25 L1334.46 1501.93 L1338.4 1501.93 L1338.4 1523.88 L1334.46 1523.88 Q1331.71 1521.22 1327.08 1516.63 Q1322.42 1512.03 1321.08 1510.85 Q1318.56 1508.6 1316.82 1507.72 Q1315.06 1506.82 1313.37 1506.82 Q1310.62 1506.82 1308.88 1508.76 Q1307.15 1510.68 1307.15 1513.79 Q1307.15 1515.98 1307.91 1518.44 Q1308.67 1520.87 1310.22 1523.65 L1305.5 1523.65 Q1304.37 1520.82 1303.79 1518.37 Q1303.21 1515.91 1303.21 1513.88 Q1303.21 1508.51 1305.9 1505.31 Q1308.58 1502.12 1313.07 1502.12 Q1315.2 1502.12 1317.12 1502.93 Q1319.02 1503.72 1321.61 1505.82 Q1322.28 1506.4 1325.5 1509.5 Q1328.7 1512.6 1334.46 1518.25 Z\" fill=\"#000000\" fill-rule=\"evenodd\" fill-opacity=\"1\" /><path clip-path=\"url(#clip550)\" d=\"M1334.46 1488.09 L1334.46 1471.77 L1338.4 1471.77 L1338.4 1493.72 L1334.46 1493.72 Q1331.71 1491.05 1327.08 1486.47 Q1322.42 1481.86 1321.08 1480.68 Q1318.56 1478.44 1316.82 1477.56 Q1315.06 1476.66 1313.37 1476.66 Q1310.62 1476.66 1308.88 1478.6 Q1307.15 1480.52 1307.15 1483.62 Q1307.15 1485.82 1307.91 1488.28 Q1308.67 1490.71 1310.22 1493.48 L1305.5 1493.48 Q1304.37 1490.66 1303.79 1488.21 Q1303.21 1485.75 1303.21 1483.72 Q1303.21 1478.35 1305.9 1475.15 Q1308.58 1471.96 1313.07 1471.96 Q1315.2 1471.96 1317.12 1472.77 Q1319.02 1473.55 1321.61 1475.66 Q1322.28 1476.24 1325.5 1479.34 Q1328.7 1482.44 1334.46 1488.09 Z\" fill=\"#000000\" fill-rule=\"evenodd\" fill-opacity=\"1\" /><path clip-path=\"url(#clip550)\" d=\"M1323.51 1464.71 L1323.51 1452.23 L1327.31 1452.23 L1327.31 1464.71 L1323.51 1464.71 Z\" fill=\"#000000\" fill-rule=\"evenodd\" fill-opacity=\"1\" /><path clip-path=\"url(#clip550)\" d=\"M1306.91 1434.85 Q1306.91 1438.46 1310.48 1440.29 Q1314.02 1442.1 1321.15 1442.1 Q1328.26 1442.1 1331.82 1440.29 Q1335.36 1438.46 1335.36 1434.85 Q1335.36 1431.22 1331.82 1429.41 Q1328.26 1427.58 1321.15 1427.58 Q1314.02 1427.58 1310.48 1429.41 Q1306.91 1431.22 1306.91 1434.85 M1303.21 1434.85 Q1303.21 1429.04 1307.82 1425.98 Q1312.4 1422.91 1321.15 1422.91 Q1329.88 1422.91 1334.48 1425.98 Q1339.07 1429.04 1339.07 1434.85 Q1339.07 1440.66 1334.48 1443.74 Q1329.88 1446.79 1321.15 1446.79 Q1312.4 1446.79 1307.82 1443.74 Q1303.21 1440.66 1303.21 1434.85 Z\" fill=\"#000000\" fill-rule=\"evenodd\" fill-opacity=\"1\" /><path clip-path=\"url(#clip550)\" d=\"M1337.68 1414.55 L1333.42 1414.55 Q1334.25 1412.79 1334.69 1410.98 Q1335.13 1409.18 1335.13 1407.44 Q1335.13 1402.81 1332.03 1400.38 Q1328.9 1397.93 1322.56 1397.58 Q1324.55 1398.92 1325.62 1400.98 Q1326.68 1403.04 1326.68 1405.54 Q1326.68 1410.73 1323.56 1413.76 Q1320.41 1416.77 1314.97 1416.77 Q1309.65 1416.77 1306.43 1413.62 Q1303.21 1410.48 1303.21 1405.24 Q1303.21 1399.25 1307.82 1396.1 Q1312.4 1392.93 1321.15 1392.93 Q1329.32 1392.93 1334.21 1396.82 Q1339.07 1400.68 1339.07 1407.23 Q1339.07 1408.99 1338.72 1410.8 Q1338.37 1412.61 1337.68 1414.55 M1323.03 1405.24 Q1323.03 1402.1 1320.87 1400.27 Q1318.72 1398.42 1314.97 1398.42 Q1311.24 1398.42 1309.09 1400.27 Q1306.91 1402.1 1306.91 1405.24 Q1306.91 1408.39 1309.09 1410.24 Q1311.24 1412.07 1314.97 1412.07 Q1318.72 1412.07 1320.87 1410.24 Q1323.03 1408.39 1323.03 1405.24 Z\" fill=\"#000000\" fill-rule=\"evenodd\" fill-opacity=\"1\" /><path clip-path=\"url(#clip550)\" d=\"M1323.51 1387.28 L1323.51 1374.8 L1327.31 1374.8 L1327.31 1387.28 L1323.51 1387.28 Z\" fill=\"#000000\" fill-rule=\"evenodd\" fill-opacity=\"1\" /><path clip-path=\"url(#clip550)\" d=\"M1334.46 1366.61 L1334.46 1358.97 L1308.09 1358.97 L1309.76 1367.28 L1305.5 1367.28 L1303.84 1359.02 L1303.84 1354.34 L1334.46 1354.34 L1334.46 1346.7 L1338.4 1346.7 L1338.4 1366.61 L1334.46 1366.61 Z\" fill=\"#000000\" fill-rule=\"evenodd\" fill-opacity=\"1\" /><path clip-path=\"url(#clip550)\" d=\"M1319.25 1326.68 Q1319.25 1329.83 1321.4 1331.68 Q1323.56 1333.51 1327.31 1333.51 Q1331.03 1333.51 1333.21 1331.68 Q1335.36 1329.83 1335.36 1326.68 Q1335.36 1323.53 1333.21 1321.7 Q1331.03 1319.85 1327.31 1319.85 Q1323.56 1319.85 1321.4 1321.7 Q1319.25 1323.53 1319.25 1326.68 M1304.6 1317.4 L1308.86 1317.4 Q1308.03 1319.16 1307.59 1320.96 Q1307.15 1322.74 1307.15 1324.5 Q1307.15 1329.13 1310.27 1331.59 Q1313.4 1334.02 1319.72 1334.36 Q1317.7 1333 1316.64 1330.94 Q1315.55 1328.88 1315.55 1326.4 Q1315.55 1321.19 1318.72 1318.18 Q1321.87 1315.15 1327.31 1315.15 Q1332.63 1315.15 1335.85 1318.3 Q1339.07 1321.45 1339.07 1326.68 Q1339.07 1332.68 1334.48 1335.85 Q1329.88 1339.02 1321.15 1339.02 Q1312.96 1339.02 1308.09 1335.13 Q1303.21 1331.24 1303.21 1324.69 Q1303.21 1322.93 1303.56 1321.15 Q1303.9 1319.34 1304.6 1317.4 Z\" fill=\"#000000\" fill-rule=\"evenodd\" fill-opacity=\"1\" /><path clip-path=\"url(#clip550)\" d=\"M1303.84 1312.3 L1303.84 1283.07 L1307.77 1283.07 L1307.77 1295.34 L1338.4 1295.34 L1338.4 1300.04 L1307.77 1300.04 L1307.77 1312.3 L1303.84 1312.3 Z\" fill=\"#000000\" fill-rule=\"evenodd\" fill-opacity=\"1\" /><path clip-path=\"url(#clip550)\" d=\"M1306.91 1268.14 Q1306.91 1271.75 1310.48 1273.58 Q1314.02 1275.38 1321.15 1275.38 Q1328.26 1275.38 1331.82 1273.58 Q1335.36 1271.75 1335.36 1268.14 Q1335.36 1264.5 1331.82 1262.7 Q1328.26 1260.87 1321.15 1260.87 Q1314.02 1260.87 1310.48 1262.7 Q1306.91 1264.5 1306.91 1268.14 M1303.21 1268.14 Q1303.21 1262.33 1307.82 1259.27 Q1312.4 1256.19 1321.15 1256.19 Q1329.88 1256.19 1334.48 1259.27 Q1339.07 1262.33 1339.07 1268.14 Q1339.07 1273.95 1334.48 1277.03 Q1329.88 1280.08 1321.15 1280.08 Q1312.4 1280.08 1307.82 1277.03 Q1303.21 1273.95 1303.21 1268.14 Z\" fill=\"#000000\" fill-rule=\"evenodd\" fill-opacity=\"1\" /><path clip-path=\"url(#clip550)\" d=\"M1306.91 1237.98 Q1306.91 1241.59 1310.48 1243.42 Q1314.02 1245.22 1321.15 1245.22 Q1328.26 1245.22 1331.82 1243.42 Q1335.36 1241.59 1335.36 1237.98 Q1335.36 1234.34 1331.82 1232.54 Q1328.26 1230.71 1321.15 1230.71 Q1314.02 1230.71 1310.48 1232.54 Q1306.91 1234.34 1306.91 1237.98 M1303.21 1237.98 Q1303.21 1232.17 1307.82 1229.11 Q1312.4 1226.03 1321.15 1226.03 Q1329.88 1226.03 1334.48 1229.11 Q1339.07 1232.17 1339.07 1237.98 Q1339.07 1243.79 1334.48 1246.87 Q1329.88 1249.92 1321.15 1249.92 Q1312.4 1249.92 1307.82 1246.87 Q1303.21 1243.79 1303.21 1237.98 Z\" fill=\"#000000\" fill-rule=\"evenodd\" fill-opacity=\"1\" /><path clip-path=\"url(#clip550)\" d=\"M1332.52 1217.33 L1332.52 1212.44 L1338.4 1212.44 L1338.4 1217.33 L1332.52 1217.33 M1313.88 1217.33 L1313.88 1212.44 L1319.76 1212.44 L1319.76 1217.33 L1313.88 1217.33 Z\" fill=\"#000000\" fill-rule=\"evenodd\" fill-opacity=\"1\" /><path clip-path=\"url(#clip550)\" d=\"M1306.91 1191.84 Q1306.91 1195.45 1310.48 1197.28 Q1314.02 1199.09 1321.15 1199.09 Q1328.26 1199.09 1331.82 1197.28 Q1335.36 1195.45 1335.36 1191.84 Q1335.36 1188.21 1331.82 1186.4 Q1328.26 1184.57 1321.15 1184.57 Q1314.02 1184.57 1310.48 1186.4 Q1306.91 1188.21 1306.91 1191.84 M1303.21 1191.84 Q1303.21 1186.03 1307.82 1182.98 Q1312.4 1179.9 1321.15 1179.9 Q1329.88 1179.9 1334.48 1182.98 Q1339.07 1186.03 1339.07 1191.84 Q1339.07 1197.65 1334.48 1200.73 Q1329.88 1203.79 1321.15 1203.79 Q1312.4 1203.79 1307.82 1200.73 Q1303.21 1197.65 1303.21 1191.84 Z\" fill=\"#000000\" fill-rule=\"evenodd\" fill-opacity=\"1\" /><path clip-path=\"url(#clip550)\" d=\"M1306.91 1161.68 Q1306.91 1165.29 1310.48 1167.12 Q1314.02 1168.93 1321.15 1168.93 Q1328.26 1168.93 1331.82 1167.12 Q1335.36 1165.29 1335.36 1161.68 Q1335.36 1158.05 1331.82 1156.24 Q1328.26 1154.41 1321.15 1154.41 Q1314.02 1154.41 1310.48 1156.24 Q1306.91 1158.05 1306.91 1161.68 M1303.21 1161.68 Q1303.21 1155.87 1307.82 1152.81 Q1312.4 1149.74 1321.15 1149.74 Q1329.88 1149.74 1334.48 1152.81 Q1339.07 1155.87 1339.07 1161.68 Q1339.07 1167.49 1334.48 1170.57 Q1329.88 1173.62 1321.15 1173.62 Q1312.4 1173.62 1307.82 1170.57 Q1303.21 1167.49 1303.21 1161.68 Z\" fill=\"#000000\" fill-rule=\"evenodd\" fill-opacity=\"1\" /><path clip-path=\"url(#clip550)\" d=\"M1332.52 1141.03 L1332.52 1136.15 L1338.4 1136.15 L1338.4 1141.03 L1332.52 1141.03 M1313.88 1141.03 L1313.88 1136.15 L1319.76 1136.15 L1319.76 1141.03 L1313.88 1141.03 Z\" fill=\"#000000\" fill-rule=\"evenodd\" fill-opacity=\"1\" /><path clip-path=\"url(#clip550)\" d=\"M1306.91 1115.55 Q1306.91 1119.16 1310.48 1120.99 Q1314.02 1122.79 1321.15 1122.79 Q1328.26 1122.79 1331.82 1120.99 Q1335.36 1119.16 1335.36 1115.55 Q1335.36 1111.91 1331.82 1110.11 Q1328.26 1108.28 1321.15 1108.28 Q1314.02 1108.28 1310.48 1110.11 Q1306.91 1111.91 1306.91 1115.55 M1303.21 1115.55 Q1303.21 1109.74 1307.82 1106.68 Q1312.4 1103.6 1321.15 1103.6 Q1329.88 1103.6 1334.48 1106.68 Q1339.07 1109.74 1339.07 1115.55 Q1339.07 1121.36 1334.48 1124.44 Q1329.88 1127.49 1321.15 1127.49 Q1312.4 1127.49 1307.82 1124.44 Q1303.21 1121.36 1303.21 1115.55 Z\" fill=\"#000000\" fill-rule=\"evenodd\" fill-opacity=\"1\" /><path clip-path=\"url(#clip550)\" d=\"M1306.91 1085.38 Q1306.91 1089 1310.48 1090.82 Q1314.02 1092.63 1321.15 1092.63 Q1328.26 1092.63 1331.82 1090.82 Q1335.36 1089 1335.36 1085.38 Q1335.36 1081.75 1331.82 1079.94 Q1328.26 1078.12 1321.15 1078.12 Q1314.02 1078.12 1310.48 1079.94 Q1306.91 1081.75 1306.91 1085.38 M1303.21 1085.38 Q1303.21 1079.57 1307.82 1076.52 Q1312.4 1073.44 1321.15 1073.44 Q1329.88 1073.44 1334.48 1076.52 Q1339.07 1079.57 1339.07 1085.38 Q1339.07 1091.19 1334.48 1094.27 Q1329.88 1097.33 1321.15 1097.33 Q1312.4 1097.33 1307.82 1094.27 Q1303.21 1091.19 1303.21 1085.38 Z\" fill=\"#000000\" fill-rule=\"evenodd\" fill-opacity=\"1\" /><path clip-path=\"url(#clip550)\" d=\"M1542.59 1578.58 L1542.59 1562.26 L1546.53 1562.26 L1546.53 1584.2 L1542.59 1584.2 Q1539.84 1581.54 1535.21 1576.96 Q1530.56 1572.35 1529.21 1571.17 Q1526.69 1568.92 1524.95 1568.04 Q1523.19 1567.14 1521.5 1567.14 Q1518.75 1567.14 1517.01 1569.09 Q1515.28 1571.01 1515.28 1574.11 Q1515.28 1576.31 1516.04 1578.76 Q1516.81 1581.19 1518.36 1583.97 L1513.63 1583.97 Q1512.5 1581.15 1511.92 1578.69 Q1511.34 1576.24 1511.34 1574.2 Q1511.34 1568.83 1514.03 1565.64 Q1516.71 1562.44 1521.2 1562.44 Q1523.33 1562.44 1525.25 1563.25 Q1527.15 1564.04 1529.75 1566.15 Q1530.42 1566.72 1533.63 1569.83 Q1536.83 1572.93 1542.59 1578.58 Z\" fill=\"#000000\" fill-rule=\"evenodd\" fill-opacity=\"1\" /><path clip-path=\"url(#clip550)\" d=\"M1515.05 1542.44 Q1515.05 1546.05 1518.61 1547.88 Q1522.15 1549.69 1529.28 1549.69 Q1536.39 1549.69 1539.95 1547.88 Q1543.49 1546.05 1543.49 1542.44 Q1543.49 1538.81 1539.95 1537 Q1536.39 1535.17 1529.28 1535.17 Q1522.15 1535.17 1518.61 1537 Q1515.05 1538.81 1515.05 1542.44 M1511.34 1542.44 Q1511.34 1536.63 1515.95 1533.58 Q1520.53 1530.5 1529.28 1530.5 Q1538.01 1530.5 1542.62 1533.58 Q1547.2 1536.63 1547.2 1542.44 Q1547.2 1548.25 1542.62 1551.33 Q1538.01 1554.39 1529.28 1554.39 Q1520.53 1554.39 1515.95 1551.33 Q1511.34 1548.25 1511.34 1542.44 Z\" fill=\"#000000\" fill-rule=\"evenodd\" fill-opacity=\"1\" /><path clip-path=\"url(#clip550)\" d=\"M1542.59 1518.25 L1542.59 1501.93 L1546.53 1501.93 L1546.53 1523.88 L1542.59 1523.88 Q1539.84 1521.22 1535.21 1516.63 Q1530.56 1512.03 1529.21 1510.85 Q1526.69 1508.6 1524.95 1507.72 Q1523.19 1506.82 1521.5 1506.82 Q1518.75 1506.82 1517.01 1508.76 Q1515.28 1510.68 1515.28 1513.79 Q1515.28 1515.98 1516.04 1518.44 Q1516.81 1520.87 1518.36 1523.65 L1513.63 1523.65 Q1512.5 1520.82 1511.92 1518.37 Q1511.34 1515.91 1511.34 1513.88 Q1511.34 1508.51 1514.03 1505.31 Q1516.71 1502.12 1521.2 1502.12 Q1523.33 1502.12 1525.25 1502.93 Q1527.15 1503.72 1529.75 1505.82 Q1530.42 1506.4 1533.63 1509.5 Q1536.83 1512.6 1542.59 1518.25 Z\" fill=\"#000000\" fill-rule=\"evenodd\" fill-opacity=\"1\" /><path clip-path=\"url(#clip550)\" d=\"M1542.59 1488.09 L1542.59 1471.77 L1546.53 1471.77 L1546.53 1493.72 L1542.59 1493.72 Q1539.84 1491.05 1535.21 1486.47 Q1530.56 1481.86 1529.21 1480.68 Q1526.69 1478.44 1524.95 1477.56 Q1523.19 1476.66 1521.5 1476.66 Q1518.75 1476.66 1517.01 1478.6 Q1515.28 1480.52 1515.28 1483.62 Q1515.28 1485.82 1516.04 1488.28 Q1516.81 1490.71 1518.36 1493.48 L1513.63 1493.48 Q1512.5 1490.66 1511.92 1488.21 Q1511.34 1485.75 1511.34 1483.72 Q1511.34 1478.35 1514.03 1475.15 Q1516.71 1471.96 1521.2 1471.96 Q1523.33 1471.96 1525.25 1472.77 Q1527.15 1473.55 1529.75 1475.66 Q1530.42 1476.24 1533.63 1479.34 Q1536.83 1482.44 1542.59 1488.09 Z\" fill=\"#000000\" fill-rule=\"evenodd\" fill-opacity=\"1\" /><path clip-path=\"url(#clip550)\" d=\"M1531.64 1464.71 L1531.64 1452.23 L1535.44 1452.23 L1535.44 1464.71 L1531.64 1464.71 Z\" fill=\"#000000\" fill-rule=\"evenodd\" fill-opacity=\"1\" /><path clip-path=\"url(#clip550)\" d=\"M1515.05 1434.85 Q1515.05 1438.46 1518.61 1440.29 Q1522.15 1442.1 1529.28 1442.1 Q1536.39 1442.1 1539.95 1440.29 Q1543.49 1438.46 1543.49 1434.85 Q1543.49 1431.22 1539.95 1429.41 Q1536.39 1427.58 1529.28 1427.58 Q1522.15 1427.58 1518.61 1429.41 Q1515.05 1431.22 1515.05 1434.85 M1511.34 1434.85 Q1511.34 1429.04 1515.95 1425.98 Q1520.53 1422.91 1529.28 1422.91 Q1538.01 1422.91 1542.62 1425.98 Q1547.2 1429.04 1547.2 1434.85 Q1547.2 1440.66 1542.62 1443.74 Q1538.01 1446.79 1529.28 1446.79 Q1520.53 1446.79 1515.95 1443.74 Q1511.34 1440.66 1511.34 1434.85 Z\" fill=\"#000000\" fill-rule=\"evenodd\" fill-opacity=\"1\" /><path clip-path=\"url(#clip550)\" d=\"M1545.81 1414.55 L1541.55 1414.55 Q1542.38 1412.79 1542.82 1410.98 Q1543.26 1409.18 1543.26 1407.44 Q1543.26 1402.81 1540.16 1400.38 Q1537.04 1397.93 1530.69 1397.58 Q1532.68 1398.92 1533.75 1400.98 Q1534.81 1403.04 1534.81 1405.54 Q1534.81 1410.73 1531.69 1413.76 Q1528.54 1416.77 1523.1 1416.77 Q1517.78 1416.77 1514.56 1413.62 Q1511.34 1410.48 1511.34 1405.24 Q1511.34 1399.25 1515.95 1396.1 Q1520.53 1392.93 1529.28 1392.93 Q1537.45 1392.93 1542.34 1396.82 Q1547.2 1400.68 1547.2 1407.23 Q1547.2 1408.99 1546.85 1410.8 Q1546.5 1412.61 1545.81 1414.55 M1531.16 1405.24 Q1531.16 1402.1 1529 1400.27 Q1526.85 1398.42 1523.1 1398.42 Q1519.37 1398.42 1517.22 1400.27 Q1515.05 1402.1 1515.05 1405.24 Q1515.05 1408.39 1517.22 1410.24 Q1519.37 1412.07 1523.1 1412.07 Q1526.85 1412.07 1529 1410.24 Q1531.16 1408.39 1531.16 1405.24 Z\" fill=\"#000000\" fill-rule=\"evenodd\" fill-opacity=\"1\" /><path clip-path=\"url(#clip550)\" d=\"M1531.64 1387.28 L1531.64 1374.8 L1535.44 1374.8 L1535.44 1387.28 L1531.64 1387.28 Z\" fill=\"#000000\" fill-rule=\"evenodd\" fill-opacity=\"1\" /><path clip-path=\"url(#clip550)\" d=\"M1542.59 1366.61 L1542.59 1358.97 L1516.23 1358.97 L1517.89 1367.28 L1513.63 1367.28 L1511.97 1359.02 L1511.97 1354.34 L1542.59 1354.34 L1542.59 1346.7 L1546.53 1346.7 L1546.53 1366.61 L1542.59 1366.61 Z\" fill=\"#000000\" fill-rule=\"evenodd\" fill-opacity=\"1\" /><path clip-path=\"url(#clip550)\" d=\"M1545.81 1337.12 L1541.55 1337.12 Q1542.38 1335.36 1542.82 1333.55 Q1543.26 1331.75 1543.26 1330.01 Q1543.26 1325.38 1540.16 1322.95 Q1537.04 1320.5 1530.69 1320.15 Q1532.68 1321.49 1533.75 1323.55 Q1534.81 1325.61 1534.81 1328.11 Q1534.81 1333.3 1531.69 1336.33 Q1528.54 1339.34 1523.1 1339.34 Q1517.78 1339.34 1514.56 1336.19 Q1511.34 1333.05 1511.34 1327.81 Q1511.34 1321.82 1515.95 1318.67 Q1520.53 1315.5 1529.28 1315.5 Q1537.45 1315.5 1542.34 1319.39 Q1547.2 1323.25 1547.2 1329.8 Q1547.2 1331.56 1546.85 1333.37 Q1546.5 1335.17 1545.81 1337.12 M1531.16 1327.81 Q1531.16 1324.67 1529 1322.84 Q1526.85 1320.99 1523.1 1320.99 Q1519.37 1320.99 1517.22 1322.84 Q1515.05 1324.67 1515.05 1327.81 Q1515.05 1330.96 1517.22 1332.81 Q1519.37 1334.64 1523.1 1334.64 Q1526.85 1334.64 1529 1332.81 Q1531.16 1330.96 1531.16 1327.81 Z\" fill=\"#000000\" fill-rule=\"evenodd\" fill-opacity=\"1\" /><path clip-path=\"url(#clip550)\" d=\"M1511.97 1312.3 L1511.97 1283.07 L1515.9 1283.07 L1515.9 1295.34 L1546.53 1295.34 L1546.53 1300.04 L1515.9 1300.04 L1515.9 1312.3 L1511.97 1312.3 Z\" fill=\"#000000\" fill-rule=\"evenodd\" fill-opacity=\"1\" /><path clip-path=\"url(#clip550)\" d=\"M1515.05 1268.14 Q1515.05 1271.75 1518.61 1273.58 Q1522.15 1275.38 1529.28 1275.38 Q1536.39 1275.38 1539.95 1273.58 Q1543.49 1271.75 1543.49 1268.14 Q1543.49 1264.5 1539.95 1262.7 Q1536.39 1260.87 1529.28 1260.87 Q1522.15 1260.87 1518.61 1262.7 Q1515.05 1264.5 1515.05 1268.14 M1511.34 1268.14 Q1511.34 1262.33 1515.95 1259.27 Q1520.53 1256.19 1529.28 1256.19 Q1538.01 1256.19 1542.62 1259.27 Q1547.2 1262.33 1547.2 1268.14 Q1547.2 1273.95 1542.62 1277.03 Q1538.01 1280.08 1529.28 1280.08 Q1520.53 1280.08 1515.95 1277.03 Q1511.34 1273.95 1511.34 1268.14 Z\" fill=\"#000000\" fill-rule=\"evenodd\" fill-opacity=\"1\" /><path clip-path=\"url(#clip550)\" d=\"M1515.05 1237.98 Q1515.05 1241.59 1518.61 1243.42 Q1522.15 1245.22 1529.28 1245.22 Q1536.39 1245.22 1539.95 1243.42 Q1543.49 1241.59 1543.49 1237.98 Q1543.49 1234.34 1539.95 1232.54 Q1536.39 1230.71 1529.28 1230.71 Q1522.15 1230.71 1518.61 1232.54 Q1515.05 1234.34 1515.05 1237.98 M1511.34 1237.98 Q1511.34 1232.17 1515.95 1229.11 Q1520.53 1226.03 1529.28 1226.03 Q1538.01 1226.03 1542.62 1229.11 Q1547.2 1232.17 1547.2 1237.98 Q1547.2 1243.79 1542.62 1246.87 Q1538.01 1249.92 1529.28 1249.92 Q1520.53 1249.92 1515.95 1246.87 Q1511.34 1243.79 1511.34 1237.98 Z\" fill=\"#000000\" fill-rule=\"evenodd\" fill-opacity=\"1\" /><path clip-path=\"url(#clip550)\" d=\"M1540.65 1217.33 L1540.65 1212.44 L1546.53 1212.44 L1546.53 1217.33 L1540.65 1217.33 M1522.01 1217.33 L1522.01 1212.44 L1527.89 1212.44 L1527.89 1217.33 L1522.01 1217.33 Z\" fill=\"#000000\" fill-rule=\"evenodd\" fill-opacity=\"1\" /><path clip-path=\"url(#clip550)\" d=\"M1515.05 1191.84 Q1515.05 1195.45 1518.61 1197.28 Q1522.15 1199.09 1529.28 1199.09 Q1536.39 1199.09 1539.95 1197.28 Q1543.49 1195.45 1543.49 1191.84 Q1543.49 1188.21 1539.95 1186.4 Q1536.39 1184.57 1529.28 1184.57 Q1522.15 1184.57 1518.61 1186.4 Q1515.05 1188.21 1515.05 1191.84 M1511.34 1191.84 Q1511.34 1186.03 1515.95 1182.98 Q1520.53 1179.9 1529.28 1179.9 Q1538.01 1179.9 1542.62 1182.98 Q1547.2 1186.03 1547.2 1191.84 Q1547.2 1197.65 1542.62 1200.73 Q1538.01 1203.79 1529.28 1203.79 Q1520.53 1203.79 1515.95 1200.73 Q1511.34 1197.65 1511.34 1191.84 Z\" fill=\"#000000\" fill-rule=\"evenodd\" fill-opacity=\"1\" /><path clip-path=\"url(#clip550)\" d=\"M1515.05 1161.68 Q1515.05 1165.29 1518.61 1167.12 Q1522.15 1168.93 1529.28 1168.93 Q1536.39 1168.93 1539.95 1167.12 Q1543.49 1165.29 1543.49 1161.68 Q1543.49 1158.05 1539.95 1156.24 Q1536.39 1154.41 1529.28 1154.41 Q1522.15 1154.41 1518.61 1156.24 Q1515.05 1158.05 1515.05 1161.68 M1511.34 1161.68 Q1511.34 1155.87 1515.95 1152.81 Q1520.53 1149.74 1529.28 1149.74 Q1538.01 1149.74 1542.62 1152.81 Q1547.2 1155.87 1547.2 1161.68 Q1547.2 1167.49 1542.62 1170.57 Q1538.01 1173.62 1529.28 1173.62 Q1520.53 1173.62 1515.95 1170.57 Q1511.34 1167.49 1511.34 1161.68 Z\" fill=\"#000000\" fill-rule=\"evenodd\" fill-opacity=\"1\" /><path clip-path=\"url(#clip550)\" d=\"M1540.65 1141.03 L1540.65 1136.15 L1546.53 1136.15 L1546.53 1141.03 L1540.65 1141.03 M1522.01 1141.03 L1522.01 1136.15 L1527.89 1136.15 L1527.89 1141.03 L1522.01 1141.03 Z\" fill=\"#000000\" fill-rule=\"evenodd\" fill-opacity=\"1\" /><path clip-path=\"url(#clip550)\" d=\"M1515.05 1115.55 Q1515.05 1119.16 1518.61 1120.99 Q1522.15 1122.79 1529.28 1122.79 Q1536.39 1122.79 1539.95 1120.99 Q1543.49 1119.16 1543.49 1115.55 Q1543.49 1111.91 1539.95 1110.11 Q1536.39 1108.28 1529.28 1108.28 Q1522.15 1108.28 1518.61 1110.11 Q1515.05 1111.91 1515.05 1115.55 M1511.34 1115.55 Q1511.34 1109.74 1515.95 1106.68 Q1520.53 1103.6 1529.28 1103.6 Q1538.01 1103.6 1542.62 1106.68 Q1547.2 1109.74 1547.2 1115.55 Q1547.2 1121.36 1542.62 1124.44 Q1538.01 1127.49 1529.28 1127.49 Q1520.53 1127.49 1515.95 1124.44 Q1511.34 1121.36 1511.34 1115.55 Z\" fill=\"#000000\" fill-rule=\"evenodd\" fill-opacity=\"1\" /><path clip-path=\"url(#clip550)\" d=\"M1515.05 1085.38 Q1515.05 1089 1518.61 1090.82 Q1522.15 1092.63 1529.28 1092.63 Q1536.39 1092.63 1539.95 1090.82 Q1543.49 1089 1543.49 1085.38 Q1543.49 1081.75 1539.95 1079.94 Q1536.39 1078.12 1529.28 1078.12 Q1522.15 1078.12 1518.61 1079.94 Q1515.05 1081.75 1515.05 1085.38 M1511.34 1085.38 Q1511.34 1079.57 1515.95 1076.52 Q1520.53 1073.44 1529.28 1073.44 Q1538.01 1073.44 1542.62 1076.52 Q1547.2 1079.57 1547.2 1085.38 Q1547.2 1091.19 1542.62 1094.27 Q1538.01 1097.33 1529.28 1097.33 Q1520.53 1097.33 1515.95 1094.27 Q1511.34 1091.19 1511.34 1085.38 Z\" fill=\"#000000\" fill-rule=\"evenodd\" fill-opacity=\"1\" /><path clip-path=\"url(#clip550)\" d=\"M1611.97 1578.58 L1611.97 1562.26 L1615.9 1562.26 L1615.9 1584.2 L1611.97 1584.2 Q1609.21 1581.54 1604.59 1576.96 Q1599.93 1572.35 1598.59 1571.17 Q1596.07 1568.92 1594.33 1568.04 Q1592.57 1567.14 1590.88 1567.14 Q1588.13 1567.14 1586.39 1569.09 Q1584.65 1571.01 1584.65 1574.11 Q1584.65 1576.31 1585.42 1578.76 Q1586.18 1581.19 1587.73 1583.97 L1583.01 1583.97 Q1581.88 1581.15 1581.3 1578.69 Q1580.72 1576.24 1580.72 1574.2 Q1580.72 1568.83 1583.4 1565.64 Q1586.09 1562.44 1590.58 1562.44 Q1592.71 1562.44 1594.63 1563.25 Q1596.53 1564.04 1599.12 1566.15 Q1599.79 1566.72 1603.01 1569.83 Q1606.21 1572.93 1611.97 1578.58 Z\" fill=\"#000000\" fill-rule=\"evenodd\" fill-opacity=\"1\" /><path clip-path=\"url(#clip550)\" d=\"M1584.42 1542.44 Q1584.42 1546.05 1587.99 1547.88 Q1591.53 1549.69 1598.66 1549.69 Q1605.77 1549.69 1609.33 1547.88 Q1612.87 1546.05 1612.87 1542.44 Q1612.87 1538.81 1609.33 1537 Q1605.77 1535.17 1598.66 1535.17 Q1591.53 1535.17 1587.99 1537 Q1584.42 1538.81 1584.42 1542.44 M1580.72 1542.44 Q1580.72 1536.63 1585.33 1533.58 Q1589.91 1530.5 1598.66 1530.5 Q1607.39 1530.5 1611.99 1533.58 Q1616.58 1536.63 1616.58 1542.44 Q1616.58 1548.25 1611.99 1551.33 Q1607.39 1554.39 1598.66 1554.39 Q1589.91 1554.39 1585.33 1551.33 Q1580.72 1548.25 1580.72 1542.44 Z\" fill=\"#000000\" fill-rule=\"evenodd\" fill-opacity=\"1\" /><path clip-path=\"url(#clip550)\" d=\"M1611.97 1518.25 L1611.97 1501.93 L1615.9 1501.93 L1615.9 1523.88 L1611.97 1523.88 Q1609.21 1521.22 1604.59 1516.63 Q1599.93 1512.03 1598.59 1510.85 Q1596.07 1508.6 1594.33 1507.72 Q1592.57 1506.82 1590.88 1506.82 Q1588.13 1506.82 1586.39 1508.76 Q1584.65 1510.68 1584.65 1513.79 Q1584.65 1515.98 1585.42 1518.44 Q1586.18 1520.87 1587.73 1523.65 L1583.01 1523.65 Q1581.88 1520.82 1581.3 1518.37 Q1580.72 1515.91 1580.72 1513.88 Q1580.72 1508.51 1583.4 1505.31 Q1586.09 1502.12 1590.58 1502.12 Q1592.71 1502.12 1594.63 1502.93 Q1596.53 1503.72 1599.12 1505.82 Q1599.79 1506.4 1603.01 1509.5 Q1606.21 1512.6 1611.97 1518.25 Z\" fill=\"#000000\" fill-rule=\"evenodd\" fill-opacity=\"1\" /><path clip-path=\"url(#clip550)\" d=\"M1611.97 1488.09 L1611.97 1471.77 L1615.9 1471.77 L1615.9 1493.72 L1611.97 1493.72 Q1609.21 1491.05 1604.59 1486.47 Q1599.93 1481.86 1598.59 1480.68 Q1596.07 1478.44 1594.33 1477.56 Q1592.57 1476.66 1590.88 1476.66 Q1588.13 1476.66 1586.39 1478.6 Q1584.65 1480.52 1584.65 1483.62 Q1584.65 1485.82 1585.42 1488.28 Q1586.18 1490.71 1587.73 1493.48 L1583.01 1493.48 Q1581.88 1490.66 1581.3 1488.21 Q1580.72 1485.75 1580.72 1483.72 Q1580.72 1478.35 1583.4 1475.15 Q1586.09 1471.96 1590.58 1471.96 Q1592.71 1471.96 1594.63 1472.77 Q1596.53 1473.55 1599.12 1475.66 Q1599.79 1476.24 1603.01 1479.34 Q1606.21 1482.44 1611.97 1488.09 Z\" fill=\"#000000\" fill-rule=\"evenodd\" fill-opacity=\"1\" /><path clip-path=\"url(#clip550)\" d=\"M1601.02 1464.71 L1601.02 1452.23 L1604.82 1452.23 L1604.82 1464.71 L1601.02 1464.71 Z\" fill=\"#000000\" fill-rule=\"evenodd\" fill-opacity=\"1\" /><path clip-path=\"url(#clip550)\" d=\"M1584.42 1434.85 Q1584.42 1438.46 1587.99 1440.29 Q1591.53 1442.1 1598.66 1442.1 Q1605.77 1442.1 1609.33 1440.29 Q1612.87 1438.46 1612.87 1434.85 Q1612.87 1431.22 1609.33 1429.41 Q1605.77 1427.58 1598.66 1427.58 Q1591.53 1427.58 1587.99 1429.41 Q1584.42 1431.22 1584.42 1434.85 M1580.72 1434.85 Q1580.72 1429.04 1585.33 1425.98 Q1589.91 1422.91 1598.66 1422.91 Q1607.39 1422.91 1611.99 1425.98 Q1616.58 1429.04 1616.58 1434.85 Q1616.58 1440.66 1611.99 1443.74 Q1607.39 1446.79 1598.66 1446.79 Q1589.91 1446.79 1585.33 1443.74 Q1580.72 1440.66 1580.72 1434.85 Z\" fill=\"#000000\" fill-rule=\"evenodd\" fill-opacity=\"1\" /><path clip-path=\"url(#clip550)\" d=\"M1615.19 1414.55 L1610.93 1414.55 Q1611.76 1412.79 1612.2 1410.98 Q1612.64 1409.18 1612.64 1407.44 Q1612.64 1402.81 1609.54 1400.38 Q1606.41 1397.93 1600.07 1397.58 Q1602.06 1398.92 1603.13 1400.98 Q1604.19 1403.04 1604.19 1405.54 Q1604.19 1410.73 1601.07 1413.76 Q1597.92 1416.77 1592.48 1416.77 Q1587.15 1416.77 1583.94 1413.62 Q1580.72 1410.48 1580.72 1405.24 Q1580.72 1399.25 1585.33 1396.1 Q1589.91 1392.93 1598.66 1392.93 Q1606.83 1392.93 1611.71 1396.82 Q1616.58 1400.68 1616.58 1407.23 Q1616.58 1408.99 1616.23 1410.8 Q1615.88 1412.61 1615.19 1414.55 M1600.53 1405.24 Q1600.53 1402.1 1598.38 1400.27 Q1596.23 1398.42 1592.48 1398.42 Q1588.75 1398.42 1586.6 1400.27 Q1584.42 1402.1 1584.42 1405.24 Q1584.42 1408.39 1586.6 1410.24 Q1588.75 1412.07 1592.48 1412.07 Q1596.23 1412.07 1598.38 1410.24 Q1600.53 1408.39 1600.53 1405.24 Z\" fill=\"#000000\" fill-rule=\"evenodd\" fill-opacity=\"1\" /><path clip-path=\"url(#clip550)\" d=\"M1601.02 1387.28 L1601.02 1374.8 L1604.82 1374.8 L1604.82 1387.28 L1601.02 1387.28 Z\" fill=\"#000000\" fill-rule=\"evenodd\" fill-opacity=\"1\" /><path clip-path=\"url(#clip550)\" d=\"M1611.97 1363.39 L1611.97 1347.07 L1615.9 1347.07 L1615.9 1369.02 L1611.97 1369.02 Q1609.21 1366.36 1604.59 1361.77 Q1599.93 1357.17 1598.59 1355.99 Q1596.07 1353.74 1594.33 1352.86 Q1592.57 1351.96 1590.88 1351.96 Q1588.13 1351.96 1586.39 1353.9 Q1584.65 1355.82 1584.65 1358.92 Q1584.65 1361.12 1585.42 1363.58 Q1586.18 1366.01 1587.73 1368.79 L1583.01 1368.79 Q1581.88 1365.96 1581.3 1363.51 Q1580.72 1361.05 1580.72 1359.02 Q1580.72 1353.65 1583.4 1350.45 Q1586.09 1347.26 1590.58 1347.26 Q1592.71 1347.26 1594.63 1348.07 Q1596.53 1348.86 1599.12 1350.96 Q1599.79 1351.54 1603.01 1354.64 Q1606.21 1357.74 1611.97 1363.39 Z\" fill=\"#000000\" fill-rule=\"evenodd\" fill-opacity=\"1\" /><path clip-path=\"url(#clip550)\" d=\"M1584.42 1327.26 Q1584.42 1330.87 1587.99 1332.7 Q1591.53 1334.5 1598.66 1334.5 Q1605.77 1334.5 1609.33 1332.7 Q1612.87 1330.87 1612.87 1327.26 Q1612.87 1323.62 1609.33 1321.82 Q1605.77 1319.99 1598.66 1319.99 Q1591.53 1319.99 1587.99 1321.82 Q1584.42 1323.62 1584.42 1327.26 M1580.72 1327.26 Q1580.72 1321.45 1585.33 1318.39 Q1589.91 1315.31 1598.66 1315.31 Q1607.39 1315.31 1611.99 1318.39 Q1616.58 1321.45 1616.58 1327.26 Q1616.58 1333.07 1611.99 1336.15 Q1607.39 1339.2 1598.66 1339.2 Q1589.91 1339.2 1585.33 1336.15 Q1580.72 1333.07 1580.72 1327.26 Z\" fill=\"#000000\" fill-rule=\"evenodd\" fill-opacity=\"1\" /><path clip-path=\"url(#clip550)\" d=\"M1581.34 1312.3 L1581.34 1283.07 L1585.28 1283.07 L1585.28 1295.34 L1615.9 1295.34 L1615.9 1300.04 L1585.28 1300.04 L1585.28 1312.3 L1581.34 1312.3 Z\" fill=\"#000000\" fill-rule=\"evenodd\" fill-opacity=\"1\" /><path clip-path=\"url(#clip550)\" d=\"M1584.42 1268.14 Q1584.42 1271.75 1587.99 1273.58 Q1591.53 1275.38 1598.66 1275.38 Q1605.77 1275.38 1609.33 1273.58 Q1612.87 1271.75 1612.87 1268.14 Q1612.87 1264.5 1609.33 1262.7 Q1605.77 1260.87 1598.66 1260.87 Q1591.53 1260.87 1587.99 1262.7 Q1584.42 1264.5 1584.42 1268.14 M1580.72 1268.14 Q1580.72 1262.33 1585.33 1259.27 Q1589.91 1256.19 1598.66 1256.19 Q1607.39 1256.19 1611.99 1259.27 Q1616.58 1262.33 1616.58 1268.14 Q1616.58 1273.95 1611.99 1277.03 Q1607.39 1280.08 1598.66 1280.08 Q1589.91 1280.08 1585.33 1277.03 Q1580.72 1273.95 1580.72 1268.14 Z\" fill=\"#000000\" fill-rule=\"evenodd\" fill-opacity=\"1\" /><path clip-path=\"url(#clip550)\" d=\"M1584.42 1237.98 Q1584.42 1241.59 1587.99 1243.42 Q1591.53 1245.22 1598.66 1245.22 Q1605.77 1245.22 1609.33 1243.42 Q1612.87 1241.59 1612.87 1237.98 Q1612.87 1234.34 1609.33 1232.54 Q1605.77 1230.71 1598.66 1230.71 Q1591.53 1230.71 1587.99 1232.54 Q1584.42 1234.34 1584.42 1237.98 M1580.72 1237.98 Q1580.72 1232.17 1585.33 1229.11 Q1589.91 1226.03 1598.66 1226.03 Q1607.39 1226.03 1611.99 1229.11 Q1616.58 1232.17 1616.58 1237.98 Q1616.58 1243.79 1611.99 1246.87 Q1607.39 1249.92 1598.66 1249.92 Q1589.91 1249.92 1585.33 1246.87 Q1580.72 1243.79 1580.72 1237.98 Z\" fill=\"#000000\" fill-rule=\"evenodd\" fill-opacity=\"1\" /><path clip-path=\"url(#clip550)\" d=\"M1610.03 1217.33 L1610.03 1212.44 L1615.9 1212.44 L1615.9 1217.33 L1610.03 1217.33 M1591.39 1217.33 L1591.39 1212.44 L1597.27 1212.44 L1597.27 1217.33 L1591.39 1217.33 Z\" fill=\"#000000\" fill-rule=\"evenodd\" fill-opacity=\"1\" /><path clip-path=\"url(#clip550)\" d=\"M1584.42 1191.84 Q1584.42 1195.45 1587.99 1197.28 Q1591.53 1199.09 1598.66 1199.09 Q1605.77 1199.09 1609.33 1197.28 Q1612.87 1195.45 1612.87 1191.84 Q1612.87 1188.21 1609.33 1186.4 Q1605.77 1184.57 1598.66 1184.57 Q1591.53 1184.57 1587.99 1186.4 Q1584.42 1188.21 1584.42 1191.84 M1580.72 1191.84 Q1580.72 1186.03 1585.33 1182.98 Q1589.91 1179.9 1598.66 1179.9 Q1607.39 1179.9 1611.99 1182.98 Q1616.58 1186.03 1616.58 1191.84 Q1616.58 1197.65 1611.99 1200.73 Q1607.39 1203.79 1598.66 1203.79 Q1589.91 1203.79 1585.33 1200.73 Q1580.72 1197.65 1580.72 1191.84 Z\" fill=\"#000000\" fill-rule=\"evenodd\" fill-opacity=\"1\" /><path clip-path=\"url(#clip550)\" d=\"M1584.42 1161.68 Q1584.42 1165.29 1587.99 1167.12 Q1591.53 1168.93 1598.66 1168.93 Q1605.77 1168.93 1609.33 1167.12 Q1612.87 1165.29 1612.87 1161.68 Q1612.87 1158.05 1609.33 1156.24 Q1605.77 1154.41 1598.66 1154.41 Q1591.53 1154.41 1587.99 1156.24 Q1584.42 1158.05 1584.42 1161.68 M1580.72 1161.68 Q1580.72 1155.87 1585.33 1152.81 Q1589.91 1149.74 1598.66 1149.74 Q1607.39 1149.74 1611.99 1152.81 Q1616.58 1155.87 1616.58 1161.68 Q1616.58 1167.49 1611.99 1170.57 Q1607.39 1173.62 1598.66 1173.62 Q1589.91 1173.62 1585.33 1170.57 Q1580.72 1167.49 1580.72 1161.68 Z\" fill=\"#000000\" fill-rule=\"evenodd\" fill-opacity=\"1\" /><path clip-path=\"url(#clip550)\" d=\"M1610.03 1141.03 L1610.03 1136.15 L1615.9 1136.15 L1615.9 1141.03 L1610.03 1141.03 M1591.39 1141.03 L1591.39 1136.15 L1597.27 1136.15 L1597.27 1141.03 L1591.39 1141.03 Z\" fill=\"#000000\" fill-rule=\"evenodd\" fill-opacity=\"1\" /><path clip-path=\"url(#clip550)\" d=\"M1584.42 1115.55 Q1584.42 1119.16 1587.99 1120.99 Q1591.53 1122.79 1598.66 1122.79 Q1605.77 1122.79 1609.33 1120.99 Q1612.87 1119.16 1612.87 1115.55 Q1612.87 1111.91 1609.33 1110.11 Q1605.77 1108.28 1598.66 1108.28 Q1591.53 1108.28 1587.99 1110.11 Q1584.42 1111.91 1584.42 1115.55 M1580.72 1115.55 Q1580.72 1109.74 1585.33 1106.68 Q1589.91 1103.6 1598.66 1103.6 Q1607.39 1103.6 1611.99 1106.68 Q1616.58 1109.74 1616.58 1115.55 Q1616.58 1121.36 1611.99 1124.44 Q1607.39 1127.49 1598.66 1127.49 Q1589.91 1127.49 1585.33 1124.44 Q1580.72 1121.36 1580.72 1115.55 Z\" fill=\"#000000\" fill-rule=\"evenodd\" fill-opacity=\"1\" /><path clip-path=\"url(#clip550)\" d=\"M1584.42 1085.38 Q1584.42 1089 1587.99 1090.82 Q1591.53 1092.63 1598.66 1092.63 Q1605.77 1092.63 1609.33 1090.82 Q1612.87 1089 1612.87 1085.38 Q1612.87 1081.75 1609.33 1079.94 Q1605.77 1078.12 1598.66 1078.12 Q1591.53 1078.12 1587.99 1079.94 Q1584.42 1081.75 1584.42 1085.38 M1580.72 1085.38 Q1580.72 1079.57 1585.33 1076.52 Q1589.91 1073.44 1598.66 1073.44 Q1607.39 1073.44 1611.99 1076.52 Q1616.58 1079.57 1616.58 1085.38 Q1616.58 1091.19 1611.99 1094.27 Q1607.39 1097.33 1598.66 1097.33 Q1589.91 1097.33 1585.33 1094.27 Q1580.72 1091.19 1580.72 1085.38 Z\" fill=\"#000000\" fill-rule=\"evenodd\" fill-opacity=\"1\" /><path clip-path=\"url(#clip550)\" d=\"M1681.35 1578.58 L1681.35 1562.26 L1685.28 1562.26 L1685.28 1584.2 L1681.35 1584.2 Q1678.59 1581.54 1673.96 1576.96 Q1669.31 1572.35 1667.97 1571.17 Q1665.44 1568.92 1663.71 1568.04 Q1661.95 1567.14 1660.26 1567.14 Q1657.5 1567.14 1655.77 1569.09 Q1654.03 1571.01 1654.03 1574.11 Q1654.03 1576.31 1654.8 1578.76 Q1655.56 1581.19 1657.11 1583.97 L1652.39 1583.97 Q1651.25 1581.15 1650.68 1578.69 Q1650.1 1576.24 1650.1 1574.2 Q1650.1 1568.83 1652.78 1565.64 Q1655.47 1562.44 1659.96 1562.44 Q1662.09 1562.44 1664.01 1563.25 Q1665.91 1564.04 1668.5 1566.15 Q1669.17 1566.72 1672.39 1569.83 Q1675.58 1572.93 1681.35 1578.58 Z\" fill=\"#000000\" fill-rule=\"evenodd\" fill-opacity=\"1\" /><path clip-path=\"url(#clip550)\" d=\"M1653.8 1542.44 Q1653.8 1546.05 1657.37 1547.88 Q1660.91 1549.69 1668.04 1549.69 Q1675.14 1549.69 1678.71 1547.88 Q1682.25 1546.05 1682.25 1542.44 Q1682.25 1538.81 1678.71 1537 Q1675.14 1535.17 1668.04 1535.17 Q1660.91 1535.17 1657.37 1537 Q1653.8 1538.81 1653.8 1542.44 M1650.1 1542.44 Q1650.1 1536.63 1654.7 1533.58 Q1659.29 1530.5 1668.04 1530.5 Q1676.76 1530.5 1681.37 1533.58 Q1685.95 1536.63 1685.95 1542.44 Q1685.95 1548.25 1681.37 1551.33 Q1676.76 1554.39 1668.04 1554.39 Q1659.29 1554.39 1654.7 1551.33 Q1650.1 1548.25 1650.1 1542.44 Z\" fill=\"#000000\" fill-rule=\"evenodd\" fill-opacity=\"1\" /><path clip-path=\"url(#clip550)\" d=\"M1681.35 1518.25 L1681.35 1501.93 L1685.28 1501.93 L1685.28 1523.88 L1681.35 1523.88 Q1678.59 1521.22 1673.96 1516.63 Q1669.31 1512.03 1667.97 1510.85 Q1665.44 1508.6 1663.71 1507.72 Q1661.95 1506.82 1660.26 1506.82 Q1657.5 1506.82 1655.77 1508.76 Q1654.03 1510.68 1654.03 1513.79 Q1654.03 1515.98 1654.8 1518.44 Q1655.56 1520.87 1657.11 1523.65 L1652.39 1523.65 Q1651.25 1520.82 1650.68 1518.37 Q1650.1 1515.91 1650.1 1513.88 Q1650.1 1508.51 1652.78 1505.31 Q1655.47 1502.12 1659.96 1502.12 Q1662.09 1502.12 1664.01 1502.93 Q1665.91 1503.72 1668.5 1505.82 Q1669.17 1506.4 1672.39 1509.5 Q1675.58 1512.6 1681.35 1518.25 Z\" fill=\"#000000\" fill-rule=\"evenodd\" fill-opacity=\"1\" /><path clip-path=\"url(#clip550)\" d=\"M1681.35 1488.09 L1681.35 1471.77 L1685.28 1471.77 L1685.28 1493.72 L1681.35 1493.72 Q1678.59 1491.05 1673.96 1486.47 Q1669.31 1481.86 1667.97 1480.68 Q1665.44 1478.44 1663.71 1477.56 Q1661.95 1476.66 1660.26 1476.66 Q1657.5 1476.66 1655.77 1478.6 Q1654.03 1480.52 1654.03 1483.62 Q1654.03 1485.82 1654.8 1488.28 Q1655.56 1490.71 1657.11 1493.48 L1652.39 1493.48 Q1651.25 1490.66 1650.68 1488.21 Q1650.1 1485.75 1650.1 1483.72 Q1650.1 1478.35 1652.78 1475.15 Q1655.47 1471.96 1659.96 1471.96 Q1662.09 1471.96 1664.01 1472.77 Q1665.91 1473.55 1668.5 1475.66 Q1669.17 1476.24 1672.39 1479.34 Q1675.58 1482.44 1681.35 1488.09 Z\" fill=\"#000000\" fill-rule=\"evenodd\" fill-opacity=\"1\" /><path clip-path=\"url(#clip550)\" d=\"M1670.4 1464.71 L1670.4 1452.23 L1674.19 1452.23 L1674.19 1464.71 L1670.4 1464.71 Z\" fill=\"#000000\" fill-rule=\"evenodd\" fill-opacity=\"1\" /><path clip-path=\"url(#clip550)\" d=\"M1653.8 1434.85 Q1653.8 1438.46 1657.37 1440.29 Q1660.91 1442.1 1668.04 1442.1 Q1675.14 1442.1 1678.71 1440.29 Q1682.25 1438.46 1682.25 1434.85 Q1682.25 1431.22 1678.71 1429.41 Q1675.14 1427.58 1668.04 1427.58 Q1660.91 1427.58 1657.37 1429.41 Q1653.8 1431.22 1653.8 1434.85 M1650.1 1434.85 Q1650.1 1429.04 1654.7 1425.98 Q1659.29 1422.91 1668.04 1422.91 Q1676.76 1422.91 1681.37 1425.98 Q1685.95 1429.04 1685.95 1434.85 Q1685.95 1440.66 1681.37 1443.74 Q1676.76 1446.79 1668.04 1446.79 Q1659.29 1446.79 1654.7 1443.74 Q1650.1 1440.66 1650.1 1434.85 Z\" fill=\"#000000\" fill-rule=\"evenodd\" fill-opacity=\"1\" /><path clip-path=\"url(#clip550)\" d=\"M1684.56 1414.55 L1680.31 1414.55 Q1681.14 1412.79 1681.58 1410.98 Q1682.02 1409.18 1682.02 1407.44 Q1682.02 1402.81 1678.92 1400.38 Q1675.79 1397.93 1669.45 1397.58 Q1671.44 1398.92 1672.5 1400.98 Q1673.57 1403.04 1673.57 1405.54 Q1673.57 1410.73 1670.44 1413.76 Q1667.3 1416.77 1661.86 1416.77 Q1656.53 1416.77 1653.31 1413.62 Q1650.1 1410.48 1650.1 1405.24 Q1650.1 1399.25 1654.7 1396.1 Q1659.29 1392.93 1668.04 1392.93 Q1676.21 1392.93 1681.09 1396.82 Q1685.95 1400.68 1685.95 1407.23 Q1685.95 1408.99 1685.61 1410.8 Q1685.26 1412.61 1684.56 1414.55 M1669.91 1405.24 Q1669.91 1402.1 1667.76 1400.27 Q1665.61 1398.42 1661.86 1398.42 Q1658.13 1398.42 1655.98 1400.27 Q1653.8 1402.1 1653.8 1405.24 Q1653.8 1408.39 1655.98 1410.24 Q1658.13 1412.07 1661.86 1412.07 Q1665.61 1412.07 1667.76 1410.24 Q1669.91 1408.39 1669.91 1405.24 Z\" fill=\"#000000\" fill-rule=\"evenodd\" fill-opacity=\"1\" /><path clip-path=\"url(#clip550)\" d=\"M1670.4 1387.28 L1670.4 1374.8 L1674.19 1374.8 L1674.19 1387.28 L1670.4 1387.28 Z\" fill=\"#000000\" fill-rule=\"evenodd\" fill-opacity=\"1\" /><path clip-path=\"url(#clip550)\" d=\"M1681.35 1363.39 L1681.35 1347.07 L1685.28 1347.07 L1685.28 1369.02 L1681.35 1369.02 Q1678.59 1366.36 1673.96 1361.77 Q1669.31 1357.17 1667.97 1355.99 Q1665.44 1353.74 1663.71 1352.86 Q1661.95 1351.96 1660.26 1351.96 Q1657.5 1351.96 1655.77 1353.9 Q1654.03 1355.82 1654.03 1358.92 Q1654.03 1361.12 1654.8 1363.58 Q1655.56 1366.01 1657.11 1368.79 L1652.39 1368.79 Q1651.25 1365.96 1650.68 1363.51 Q1650.1 1361.05 1650.1 1359.02 Q1650.1 1353.65 1652.78 1350.45 Q1655.47 1347.26 1659.96 1347.26 Q1662.09 1347.26 1664.01 1348.07 Q1665.91 1348.86 1668.5 1350.96 Q1669.17 1351.54 1672.39 1354.64 Q1675.58 1357.74 1681.35 1363.39 Z\" fill=\"#000000\" fill-rule=\"evenodd\" fill-opacity=\"1\" /><path clip-path=\"url(#clip550)\" d=\"M1681.35 1336.45 L1681.35 1328.81 L1654.98 1328.81 L1656.65 1337.12 L1652.39 1337.12 L1650.72 1328.86 L1650.72 1324.18 L1681.35 1324.18 L1681.35 1316.54 L1685.28 1316.54 L1685.28 1336.45 L1681.35 1336.45 Z\" fill=\"#000000\" fill-rule=\"evenodd\" fill-opacity=\"1\" /><path clip-path=\"url(#clip550)\" d=\"M1650.72 1312.3 L1650.72 1283.07 L1654.66 1283.07 L1654.66 1295.34 L1685.28 1295.34 L1685.28 1300.04 L1654.66 1300.04 L1654.66 1312.3 L1650.72 1312.3 Z\" fill=\"#000000\" fill-rule=\"evenodd\" fill-opacity=\"1\" /><path clip-path=\"url(#clip550)\" d=\"M1653.8 1268.14 Q1653.8 1271.75 1657.37 1273.58 Q1660.91 1275.38 1668.04 1275.38 Q1675.14 1275.38 1678.71 1273.58 Q1682.25 1271.75 1682.25 1268.14 Q1682.25 1264.5 1678.71 1262.7 Q1675.14 1260.87 1668.04 1260.87 Q1660.91 1260.87 1657.37 1262.7 Q1653.8 1264.5 1653.8 1268.14 M1650.1 1268.14 Q1650.1 1262.33 1654.7 1259.27 Q1659.29 1256.19 1668.04 1256.19 Q1676.76 1256.19 1681.37 1259.27 Q1685.95 1262.33 1685.95 1268.14 Q1685.95 1273.95 1681.37 1277.03 Q1676.76 1280.08 1668.04 1280.08 Q1659.29 1280.08 1654.7 1277.03 Q1650.1 1273.95 1650.1 1268.14 Z\" fill=\"#000000\" fill-rule=\"evenodd\" fill-opacity=\"1\" /><path clip-path=\"url(#clip550)\" d=\"M1653.8 1237.98 Q1653.8 1241.59 1657.37 1243.42 Q1660.91 1245.22 1668.04 1245.22 Q1675.14 1245.22 1678.71 1243.42 Q1682.25 1241.59 1682.25 1237.98 Q1682.25 1234.34 1678.71 1232.54 Q1675.14 1230.71 1668.04 1230.71 Q1660.91 1230.71 1657.37 1232.54 Q1653.8 1234.34 1653.8 1237.98 M1650.1 1237.98 Q1650.1 1232.17 1654.7 1229.11 Q1659.29 1226.03 1668.04 1226.03 Q1676.76 1226.03 1681.37 1229.11 Q1685.95 1232.17 1685.95 1237.98 Q1685.95 1243.79 1681.37 1246.87 Q1676.76 1249.92 1668.04 1249.92 Q1659.29 1249.92 1654.7 1246.87 Q1650.1 1243.79 1650.1 1237.98 Z\" fill=\"#000000\" fill-rule=\"evenodd\" fill-opacity=\"1\" /><path clip-path=\"url(#clip550)\" d=\"M1679.4 1217.33 L1679.4 1212.44 L1685.28 1212.44 L1685.28 1217.33 L1679.4 1217.33 M1660.77 1217.33 L1660.77 1212.44 L1666.65 1212.44 L1666.65 1217.33 L1660.77 1217.33 Z\" fill=\"#000000\" fill-rule=\"evenodd\" fill-opacity=\"1\" /><path clip-path=\"url(#clip550)\" d=\"M1653.8 1191.84 Q1653.8 1195.45 1657.37 1197.28 Q1660.91 1199.09 1668.04 1199.09 Q1675.14 1199.09 1678.71 1197.28 Q1682.25 1195.45 1682.25 1191.84 Q1682.25 1188.21 1678.71 1186.4 Q1675.14 1184.57 1668.04 1184.57 Q1660.91 1184.57 1657.37 1186.4 Q1653.8 1188.21 1653.8 1191.84 M1650.1 1191.84 Q1650.1 1186.03 1654.7 1182.98 Q1659.29 1179.9 1668.04 1179.9 Q1676.76 1179.9 1681.37 1182.98 Q1685.95 1186.03 1685.95 1191.84 Q1685.95 1197.65 1681.37 1200.73 Q1676.76 1203.79 1668.04 1203.79 Q1659.29 1203.79 1654.7 1200.73 Q1650.1 1197.65 1650.1 1191.84 Z\" fill=\"#000000\" fill-rule=\"evenodd\" fill-opacity=\"1\" /><path clip-path=\"url(#clip550)\" d=\"M1653.8 1161.68 Q1653.8 1165.29 1657.37 1167.12 Q1660.91 1168.93 1668.04 1168.93 Q1675.14 1168.93 1678.71 1167.12 Q1682.25 1165.29 1682.25 1161.68 Q1682.25 1158.05 1678.71 1156.24 Q1675.14 1154.41 1668.04 1154.41 Q1660.91 1154.41 1657.37 1156.24 Q1653.8 1158.05 1653.8 1161.68 M1650.1 1161.68 Q1650.1 1155.87 1654.7 1152.81 Q1659.29 1149.74 1668.04 1149.74 Q1676.76 1149.74 1681.37 1152.81 Q1685.95 1155.87 1685.95 1161.68 Q1685.95 1167.49 1681.37 1170.57 Q1676.76 1173.62 1668.04 1173.62 Q1659.29 1173.62 1654.7 1170.57 Q1650.1 1167.49 1650.1 1161.68 Z\" fill=\"#000000\" fill-rule=\"evenodd\" fill-opacity=\"1\" /><path clip-path=\"url(#clip550)\" d=\"M1679.4 1141.03 L1679.4 1136.15 L1685.28 1136.15 L1685.28 1141.03 L1679.4 1141.03 M1660.77 1141.03 L1660.77 1136.15 L1666.65 1136.15 L1666.65 1141.03 L1660.77 1141.03 Z\" fill=\"#000000\" fill-rule=\"evenodd\" fill-opacity=\"1\" /><path clip-path=\"url(#clip550)\" d=\"M1653.8 1115.55 Q1653.8 1119.16 1657.37 1120.99 Q1660.91 1122.79 1668.04 1122.79 Q1675.14 1122.79 1678.71 1120.99 Q1682.25 1119.16 1682.25 1115.55 Q1682.25 1111.91 1678.71 1110.11 Q1675.14 1108.28 1668.04 1108.28 Q1660.91 1108.28 1657.37 1110.11 Q1653.8 1111.91 1653.8 1115.55 M1650.1 1115.55 Q1650.1 1109.74 1654.7 1106.68 Q1659.29 1103.6 1668.04 1103.6 Q1676.76 1103.6 1681.37 1106.68 Q1685.95 1109.74 1685.95 1115.55 Q1685.95 1121.36 1681.37 1124.44 Q1676.76 1127.49 1668.04 1127.49 Q1659.29 1127.49 1654.7 1124.44 Q1650.1 1121.36 1650.1 1115.55 Z\" fill=\"#000000\" fill-rule=\"evenodd\" fill-opacity=\"1\" /><path clip-path=\"url(#clip550)\" d=\"M1653.8 1085.38 Q1653.8 1089 1657.37 1090.82 Q1660.91 1092.63 1668.04 1092.63 Q1675.14 1092.63 1678.71 1090.82 Q1682.25 1089 1682.25 1085.38 Q1682.25 1081.75 1678.71 1079.94 Q1675.14 1078.12 1668.04 1078.12 Q1660.91 1078.12 1657.37 1079.94 Q1653.8 1081.75 1653.8 1085.38 M1650.1 1085.38 Q1650.1 1079.57 1654.7 1076.52 Q1659.29 1073.44 1668.04 1073.44 Q1676.76 1073.44 1681.37 1076.52 Q1685.95 1079.57 1685.95 1085.38 Q1685.95 1091.19 1681.37 1094.27 Q1676.76 1097.33 1668.04 1097.33 Q1659.29 1097.33 1654.7 1094.27 Q1650.1 1091.19 1650.1 1085.38 Z\" fill=\"#000000\" fill-rule=\"evenodd\" fill-opacity=\"1\" /><path clip-path=\"url(#clip550)\" d=\"M1750.72 1578.58 L1750.72 1562.26 L1754.66 1562.26 L1754.66 1584.2 L1750.72 1584.2 Q1747.97 1581.54 1743.34 1576.96 Q1738.69 1572.35 1737.34 1571.17 Q1734.82 1568.92 1733.09 1568.04 Q1731.33 1567.14 1729.64 1567.14 Q1726.88 1567.14 1725.15 1569.09 Q1723.41 1571.01 1723.41 1574.11 Q1723.41 1576.31 1724.17 1578.76 Q1724.94 1581.19 1726.49 1583.97 L1721.77 1583.97 Q1720.63 1581.15 1720.05 1578.69 Q1719.47 1576.24 1719.47 1574.2 Q1719.47 1568.83 1722.16 1565.64 Q1724.84 1562.44 1729.34 1562.44 Q1731.46 1562.44 1733.39 1563.25 Q1735.28 1564.04 1737.88 1566.15 Q1738.55 1566.72 1741.77 1569.83 Q1744.96 1572.93 1750.72 1578.58 Z\" fill=\"#000000\" fill-rule=\"evenodd\" fill-opacity=\"1\" /><path clip-path=\"url(#clip550)\" d=\"M1723.18 1542.44 Q1723.18 1546.05 1726.74 1547.88 Q1730.28 1549.69 1737.41 1549.69 Q1744.52 1549.69 1748.09 1547.88 Q1751.63 1546.05 1751.63 1542.44 Q1751.63 1538.81 1748.09 1537 Q1744.52 1535.17 1737.41 1535.17 Q1730.28 1535.17 1726.74 1537 Q1723.18 1538.81 1723.18 1542.44 M1719.47 1542.44 Q1719.47 1536.63 1724.08 1533.58 Q1728.66 1530.5 1737.41 1530.5 Q1746.14 1530.5 1750.75 1533.58 Q1755.33 1536.63 1755.33 1542.44 Q1755.33 1548.25 1750.75 1551.33 Q1746.14 1554.39 1737.41 1554.39 Q1728.66 1554.39 1724.08 1551.33 Q1719.47 1548.25 1719.47 1542.44 Z\" fill=\"#000000\" fill-rule=\"evenodd\" fill-opacity=\"1\" /><path clip-path=\"url(#clip550)\" d=\"M1750.72 1518.25 L1750.72 1501.93 L1754.66 1501.93 L1754.66 1523.88 L1750.72 1523.88 Q1747.97 1521.22 1743.34 1516.63 Q1738.69 1512.03 1737.34 1510.85 Q1734.82 1508.6 1733.09 1507.72 Q1731.33 1506.82 1729.64 1506.82 Q1726.88 1506.82 1725.15 1508.76 Q1723.41 1510.68 1723.41 1513.79 Q1723.41 1515.98 1724.17 1518.44 Q1724.94 1520.87 1726.49 1523.65 L1721.77 1523.65 Q1720.63 1520.82 1720.05 1518.37 Q1719.47 1515.91 1719.47 1513.88 Q1719.47 1508.51 1722.16 1505.31 Q1724.84 1502.12 1729.34 1502.12 Q1731.46 1502.12 1733.39 1502.93 Q1735.28 1503.72 1737.88 1505.82 Q1738.55 1506.4 1741.77 1509.5 Q1744.96 1512.6 1750.72 1518.25 Z\" fill=\"#000000\" fill-rule=\"evenodd\" fill-opacity=\"1\" /><path clip-path=\"url(#clip550)\" d=\"M1750.72 1488.09 L1750.72 1471.77 L1754.66 1471.77 L1754.66 1493.72 L1750.72 1493.72 Q1747.97 1491.05 1743.34 1486.47 Q1738.69 1481.86 1737.34 1480.68 Q1734.82 1478.44 1733.09 1477.56 Q1731.33 1476.66 1729.64 1476.66 Q1726.88 1476.66 1725.15 1478.6 Q1723.41 1480.52 1723.41 1483.62 Q1723.41 1485.82 1724.17 1488.28 Q1724.94 1490.71 1726.49 1493.48 L1721.77 1493.48 Q1720.63 1490.66 1720.05 1488.21 Q1719.47 1485.75 1719.47 1483.72 Q1719.47 1478.35 1722.16 1475.15 Q1724.84 1471.96 1729.34 1471.96 Q1731.46 1471.96 1733.39 1472.77 Q1735.28 1473.55 1737.88 1475.66 Q1738.55 1476.24 1741.77 1479.34 Q1744.96 1482.44 1750.72 1488.09 Z\" fill=\"#000000\" fill-rule=\"evenodd\" fill-opacity=\"1\" /><path clip-path=\"url(#clip550)\" d=\"M1739.78 1464.71 L1739.78 1452.23 L1743.57 1452.23 L1743.57 1464.71 L1739.78 1464.71 Z\" fill=\"#000000\" fill-rule=\"evenodd\" fill-opacity=\"1\" /><path clip-path=\"url(#clip550)\" d=\"M1723.18 1434.85 Q1723.18 1438.46 1726.74 1440.29 Q1730.28 1442.1 1737.41 1442.1 Q1744.52 1442.1 1748.09 1440.29 Q1751.63 1438.46 1751.63 1434.85 Q1751.63 1431.22 1748.09 1429.41 Q1744.52 1427.58 1737.41 1427.58 Q1730.28 1427.58 1726.74 1429.41 Q1723.18 1431.22 1723.18 1434.85 M1719.47 1434.85 Q1719.47 1429.04 1724.08 1425.98 Q1728.66 1422.91 1737.41 1422.91 Q1746.14 1422.91 1750.75 1425.98 Q1755.33 1429.04 1755.33 1434.85 Q1755.33 1440.66 1750.75 1443.74 Q1746.14 1446.79 1737.41 1446.79 Q1728.66 1446.79 1724.08 1443.74 Q1719.47 1440.66 1719.47 1434.85 Z\" fill=\"#000000\" fill-rule=\"evenodd\" fill-opacity=\"1\" /><path clip-path=\"url(#clip550)\" d=\"M1753.94 1414.55 L1749.68 1414.55 Q1750.52 1412.79 1750.96 1410.98 Q1751.4 1409.18 1751.4 1407.44 Q1751.4 1402.81 1748.29 1400.38 Q1745.17 1397.93 1738.83 1397.58 Q1740.82 1398.92 1741.88 1400.98 Q1742.95 1403.04 1742.95 1405.54 Q1742.95 1410.73 1739.82 1413.76 Q1736.67 1416.77 1731.23 1416.77 Q1725.91 1416.77 1722.69 1413.62 Q1719.47 1410.48 1719.47 1405.24 Q1719.47 1399.25 1724.08 1396.1 Q1728.66 1392.93 1737.41 1392.93 Q1745.59 1392.93 1750.47 1396.82 Q1755.33 1400.68 1755.33 1407.23 Q1755.33 1408.99 1754.98 1410.8 Q1754.64 1412.61 1753.94 1414.55 M1739.29 1405.24 Q1739.29 1402.1 1737.14 1400.27 Q1734.98 1398.42 1731.23 1398.42 Q1727.51 1398.42 1725.35 1400.27 Q1723.18 1402.1 1723.18 1405.24 Q1723.18 1408.39 1725.35 1410.24 Q1727.51 1412.07 1731.23 1412.07 Q1734.98 1412.07 1737.14 1410.24 Q1739.29 1408.39 1739.29 1405.24 Z\" fill=\"#000000\" fill-rule=\"evenodd\" fill-opacity=\"1\" /><path clip-path=\"url(#clip550)\" d=\"M1739.78 1387.28 L1739.78 1374.8 L1743.57 1374.8 L1743.57 1387.28 L1739.78 1387.28 Z\" fill=\"#000000\" fill-rule=\"evenodd\" fill-opacity=\"1\" /><path clip-path=\"url(#clip550)\" d=\"M1750.72 1363.39 L1750.72 1347.07 L1754.66 1347.07 L1754.66 1369.02 L1750.72 1369.02 Q1747.97 1366.36 1743.34 1361.77 Q1738.69 1357.17 1737.34 1355.99 Q1734.82 1353.74 1733.09 1352.86 Q1731.33 1351.96 1729.64 1351.96 Q1726.88 1351.96 1725.15 1353.9 Q1723.41 1355.82 1723.41 1358.92 Q1723.41 1361.12 1724.17 1363.58 Q1724.94 1366.01 1726.49 1368.79 L1721.77 1368.79 Q1720.63 1365.96 1720.05 1363.51 Q1719.47 1361.05 1719.47 1359.02 Q1719.47 1353.65 1722.16 1350.45 Q1724.84 1347.26 1729.34 1347.26 Q1731.46 1347.26 1733.39 1348.07 Q1735.28 1348.86 1737.88 1350.96 Q1738.55 1351.54 1741.77 1354.64 Q1744.96 1357.74 1750.72 1363.39 Z\" fill=\"#000000\" fill-rule=\"evenodd\" fill-opacity=\"1\" /><path clip-path=\"url(#clip550)\" d=\"M1750.72 1333.23 L1750.72 1316.91 L1754.66 1316.91 L1754.66 1338.86 L1750.72 1338.86 Q1747.97 1336.19 1743.34 1331.61 Q1738.69 1327 1737.34 1325.82 Q1734.82 1323.58 1733.09 1322.7 Q1731.33 1321.8 1729.64 1321.8 Q1726.88 1321.8 1725.15 1323.74 Q1723.41 1325.66 1723.41 1328.76 Q1723.41 1330.96 1724.17 1333.42 Q1724.94 1335.85 1726.49 1338.62 L1721.77 1338.62 Q1720.63 1335.8 1720.05 1333.35 Q1719.47 1330.89 1719.47 1328.86 Q1719.47 1323.49 1722.16 1320.29 Q1724.84 1317.1 1729.34 1317.1 Q1731.46 1317.1 1733.39 1317.91 Q1735.28 1318.69 1737.88 1320.8 Q1738.55 1321.38 1741.77 1324.48 Q1744.96 1327.58 1750.72 1333.23 Z\" fill=\"#000000\" fill-rule=\"evenodd\" fill-opacity=\"1\" /><path clip-path=\"url(#clip550)\" d=\"M1720.1 1312.3 L1720.1 1283.07 L1724.03 1283.07 L1724.03 1295.34 L1754.66 1295.34 L1754.66 1300.04 L1724.03 1300.04 L1724.03 1312.3 L1720.1 1312.3 Z\" fill=\"#000000\" fill-rule=\"evenodd\" fill-opacity=\"1\" /><path clip-path=\"url(#clip550)\" d=\"M1723.18 1268.14 Q1723.18 1271.75 1726.74 1273.58 Q1730.28 1275.38 1737.41 1275.38 Q1744.52 1275.38 1748.09 1273.58 Q1751.63 1271.75 1751.63 1268.14 Q1751.63 1264.5 1748.09 1262.7 Q1744.52 1260.87 1737.41 1260.87 Q1730.28 1260.87 1726.74 1262.7 Q1723.18 1264.5 1723.18 1268.14 M1719.47 1268.14 Q1719.47 1262.33 1724.08 1259.27 Q1728.66 1256.19 1737.41 1256.19 Q1746.14 1256.19 1750.75 1259.27 Q1755.33 1262.33 1755.33 1268.14 Q1755.33 1273.95 1750.75 1277.03 Q1746.14 1280.08 1737.41 1280.08 Q1728.66 1280.08 1724.08 1277.03 Q1719.47 1273.95 1719.47 1268.14 Z\" fill=\"#000000\" fill-rule=\"evenodd\" fill-opacity=\"1\" /><path clip-path=\"url(#clip550)\" d=\"M1723.18 1237.98 Q1723.18 1241.59 1726.74 1243.42 Q1730.28 1245.22 1737.41 1245.22 Q1744.52 1245.22 1748.09 1243.42 Q1751.63 1241.59 1751.63 1237.98 Q1751.63 1234.34 1748.09 1232.54 Q1744.52 1230.71 1737.41 1230.71 Q1730.28 1230.71 1726.74 1232.54 Q1723.18 1234.34 1723.18 1237.98 M1719.47 1237.98 Q1719.47 1232.17 1724.08 1229.11 Q1728.66 1226.03 1737.41 1226.03 Q1746.14 1226.03 1750.75 1229.11 Q1755.33 1232.17 1755.33 1237.98 Q1755.33 1243.79 1750.75 1246.87 Q1746.14 1249.92 1737.41 1249.92 Q1728.66 1249.92 1724.08 1246.87 Q1719.47 1243.79 1719.47 1237.98 Z\" fill=\"#000000\" fill-rule=\"evenodd\" fill-opacity=\"1\" /><path clip-path=\"url(#clip550)\" d=\"M1748.78 1217.33 L1748.78 1212.44 L1754.66 1212.44 L1754.66 1217.33 L1748.78 1217.33 M1730.15 1217.33 L1730.15 1212.44 L1736.03 1212.44 L1736.03 1217.33 L1730.15 1217.33 Z\" fill=\"#000000\" fill-rule=\"evenodd\" fill-opacity=\"1\" /><path clip-path=\"url(#clip550)\" d=\"M1723.18 1191.84 Q1723.18 1195.45 1726.74 1197.28 Q1730.28 1199.09 1737.41 1199.09 Q1744.52 1199.09 1748.09 1197.28 Q1751.63 1195.45 1751.63 1191.84 Q1751.63 1188.21 1748.09 1186.4 Q1744.52 1184.57 1737.41 1184.57 Q1730.28 1184.57 1726.74 1186.4 Q1723.18 1188.21 1723.18 1191.84 M1719.47 1191.84 Q1719.47 1186.03 1724.08 1182.98 Q1728.66 1179.9 1737.41 1179.9 Q1746.14 1179.9 1750.75 1182.98 Q1755.33 1186.03 1755.33 1191.84 Q1755.33 1197.65 1750.75 1200.73 Q1746.14 1203.79 1737.41 1203.79 Q1728.66 1203.79 1724.08 1200.73 Q1719.47 1197.65 1719.47 1191.84 Z\" fill=\"#000000\" fill-rule=\"evenodd\" fill-opacity=\"1\" /><path clip-path=\"url(#clip550)\" d=\"M1723.18 1161.68 Q1723.18 1165.29 1726.74 1167.12 Q1730.28 1168.93 1737.41 1168.93 Q1744.52 1168.93 1748.09 1167.12 Q1751.63 1165.29 1751.63 1161.68 Q1751.63 1158.05 1748.09 1156.24 Q1744.52 1154.41 1737.41 1154.41 Q1730.28 1154.41 1726.74 1156.24 Q1723.18 1158.05 1723.18 1161.68 M1719.47 1161.68 Q1719.47 1155.87 1724.08 1152.81 Q1728.66 1149.74 1737.41 1149.74 Q1746.14 1149.74 1750.75 1152.81 Q1755.33 1155.87 1755.33 1161.68 Q1755.33 1167.49 1750.75 1170.57 Q1746.14 1173.62 1737.41 1173.62 Q1728.66 1173.62 1724.08 1170.57 Q1719.47 1167.49 1719.47 1161.68 Z\" fill=\"#000000\" fill-rule=\"evenodd\" fill-opacity=\"1\" /><path clip-path=\"url(#clip550)\" d=\"M1748.78 1141.03 L1748.78 1136.15 L1754.66 1136.15 L1754.66 1141.03 L1748.78 1141.03 M1730.15 1141.03 L1730.15 1136.15 L1736.03 1136.15 L1736.03 1141.03 L1730.15 1141.03 Z\" fill=\"#000000\" fill-rule=\"evenodd\" fill-opacity=\"1\" /><path clip-path=\"url(#clip550)\" d=\"M1723.18 1115.55 Q1723.18 1119.16 1726.74 1120.99 Q1730.28 1122.79 1737.41 1122.79 Q1744.52 1122.79 1748.09 1120.99 Q1751.63 1119.16 1751.63 1115.55 Q1751.63 1111.91 1748.09 1110.11 Q1744.52 1108.28 1737.41 1108.28 Q1730.28 1108.28 1726.74 1110.11 Q1723.18 1111.91 1723.18 1115.55 M1719.47 1115.55 Q1719.47 1109.74 1724.08 1106.68 Q1728.66 1103.6 1737.41 1103.6 Q1746.14 1103.6 1750.75 1106.68 Q1755.33 1109.74 1755.33 1115.55 Q1755.33 1121.36 1750.75 1124.44 Q1746.14 1127.49 1737.41 1127.49 Q1728.66 1127.49 1724.08 1124.44 Q1719.47 1121.36 1719.47 1115.55 Z\" fill=\"#000000\" fill-rule=\"evenodd\" fill-opacity=\"1\" /><path clip-path=\"url(#clip550)\" d=\"M1723.18 1085.38 Q1723.18 1089 1726.74 1090.82 Q1730.28 1092.63 1737.41 1092.63 Q1744.52 1092.63 1748.09 1090.82 Q1751.63 1089 1751.63 1085.38 Q1751.63 1081.75 1748.09 1079.94 Q1744.52 1078.12 1737.41 1078.12 Q1730.28 1078.12 1726.74 1079.94 Q1723.18 1081.75 1723.18 1085.38 M1719.47 1085.38 Q1719.47 1079.57 1724.08 1076.52 Q1728.66 1073.44 1737.41 1073.44 Q1746.14 1073.44 1750.75 1076.52 Q1755.33 1079.57 1755.33 1085.38 Q1755.33 1091.19 1750.75 1094.27 Q1746.14 1097.33 1737.41 1097.33 Q1728.66 1097.33 1724.08 1094.27 Q1719.47 1091.19 1719.47 1085.38 Z\" fill=\"#000000\" fill-rule=\"evenodd\" fill-opacity=\"1\" /><path clip-path=\"url(#clip550)\" d=\"M1820.1 1578.58 L1820.1 1562.26 L1824.04 1562.26 L1824.04 1584.2 L1820.1 1584.2 Q1817.35 1581.54 1812.72 1576.96 Q1808.06 1572.35 1806.72 1571.17 Q1804.2 1568.92 1802.46 1568.04 Q1800.7 1567.14 1799.01 1567.14 Q1796.26 1567.14 1794.52 1569.09 Q1792.79 1571.01 1792.79 1574.11 Q1792.79 1576.31 1793.55 1578.76 Q1794.31 1581.19 1795.87 1583.97 L1791.14 1583.97 Q1790.01 1581.15 1789.43 1578.69 Q1788.85 1576.24 1788.85 1574.2 Q1788.85 1568.83 1791.54 1565.64 Q1794.22 1562.44 1798.71 1562.44 Q1800.84 1562.44 1802.76 1563.25 Q1804.66 1564.04 1807.25 1566.15 Q1807.93 1566.72 1811.14 1569.83 Q1814.34 1572.93 1820.1 1578.58 Z\" fill=\"#000000\" fill-rule=\"evenodd\" fill-opacity=\"1\" /><path clip-path=\"url(#clip550)\" d=\"M1792.56 1542.44 Q1792.56 1546.05 1796.12 1547.88 Q1799.66 1549.69 1806.79 1549.69 Q1813.9 1549.69 1817.46 1547.88 Q1821 1546.05 1821 1542.44 Q1821 1538.81 1817.46 1537 Q1813.9 1535.17 1806.79 1535.17 Q1799.66 1535.17 1796.12 1537 Q1792.56 1538.81 1792.56 1542.44 M1788.85 1542.44 Q1788.85 1536.63 1793.46 1533.58 Q1798.04 1530.5 1806.79 1530.5 Q1815.52 1530.5 1820.12 1533.58 Q1824.71 1536.63 1824.71 1542.44 Q1824.71 1548.25 1820.12 1551.33 Q1815.52 1554.39 1806.79 1554.39 Q1798.04 1554.39 1793.46 1551.33 Q1788.85 1548.25 1788.85 1542.44 Z\" fill=\"#000000\" fill-rule=\"evenodd\" fill-opacity=\"1\" /><path clip-path=\"url(#clip550)\" d=\"M1820.1 1518.25 L1820.1 1501.93 L1824.04 1501.93 L1824.04 1523.88 L1820.1 1523.88 Q1817.35 1521.22 1812.72 1516.63 Q1808.06 1512.03 1806.72 1510.85 Q1804.2 1508.6 1802.46 1507.72 Q1800.7 1506.82 1799.01 1506.82 Q1796.26 1506.82 1794.52 1508.76 Q1792.79 1510.68 1792.79 1513.79 Q1792.79 1515.98 1793.55 1518.44 Q1794.31 1520.87 1795.87 1523.65 L1791.14 1523.65 Q1790.01 1520.82 1789.43 1518.37 Q1788.85 1515.91 1788.85 1513.88 Q1788.85 1508.51 1791.54 1505.31 Q1794.22 1502.12 1798.71 1502.12 Q1800.84 1502.12 1802.76 1502.93 Q1804.66 1503.72 1807.25 1505.82 Q1807.93 1506.4 1811.14 1509.5 Q1814.34 1512.6 1820.1 1518.25 Z\" fill=\"#000000\" fill-rule=\"evenodd\" fill-opacity=\"1\" /><path clip-path=\"url(#clip550)\" d=\"M1820.1 1488.09 L1820.1 1471.77 L1824.04 1471.77 L1824.04 1493.72 L1820.1 1493.72 Q1817.35 1491.05 1812.72 1486.47 Q1808.06 1481.86 1806.72 1480.68 Q1804.2 1478.44 1802.46 1477.56 Q1800.7 1476.66 1799.01 1476.66 Q1796.26 1476.66 1794.52 1478.6 Q1792.79 1480.52 1792.79 1483.62 Q1792.79 1485.82 1793.55 1488.28 Q1794.31 1490.71 1795.87 1493.48 L1791.14 1493.48 Q1790.01 1490.66 1789.43 1488.21 Q1788.85 1485.75 1788.85 1483.72 Q1788.85 1478.35 1791.54 1475.15 Q1794.22 1471.96 1798.71 1471.96 Q1800.84 1471.96 1802.76 1472.77 Q1804.66 1473.55 1807.25 1475.66 Q1807.93 1476.24 1811.14 1479.34 Q1814.34 1482.44 1820.1 1488.09 Z\" fill=\"#000000\" fill-rule=\"evenodd\" fill-opacity=\"1\" /><path clip-path=\"url(#clip550)\" d=\"M1809.15 1464.71 L1809.15 1452.23 L1812.95 1452.23 L1812.95 1464.71 L1809.15 1464.71 Z\" fill=\"#000000\" fill-rule=\"evenodd\" fill-opacity=\"1\" /><path clip-path=\"url(#clip550)\" d=\"M1792.56 1434.85 Q1792.56 1438.46 1796.12 1440.29 Q1799.66 1442.1 1806.79 1442.1 Q1813.9 1442.1 1817.46 1440.29 Q1821 1438.46 1821 1434.85 Q1821 1431.22 1817.46 1429.41 Q1813.9 1427.58 1806.79 1427.58 Q1799.66 1427.58 1796.12 1429.41 Q1792.56 1431.22 1792.56 1434.85 M1788.85 1434.85 Q1788.85 1429.04 1793.46 1425.98 Q1798.04 1422.91 1806.79 1422.91 Q1815.52 1422.91 1820.12 1425.98 Q1824.71 1429.04 1824.71 1434.85 Q1824.71 1440.66 1820.12 1443.74 Q1815.52 1446.79 1806.79 1446.79 Q1798.04 1446.79 1793.46 1443.74 Q1788.85 1440.66 1788.85 1434.85 Z\" fill=\"#000000\" fill-rule=\"evenodd\" fill-opacity=\"1\" /><path clip-path=\"url(#clip550)\" d=\"M1823.32 1414.55 L1819.06 1414.55 Q1819.89 1412.79 1820.33 1410.98 Q1820.77 1409.18 1820.77 1407.44 Q1820.77 1402.81 1817.67 1400.38 Q1814.55 1397.93 1808.2 1397.58 Q1810.19 1398.92 1811.26 1400.98 Q1812.32 1403.04 1812.32 1405.54 Q1812.32 1410.73 1809.2 1413.76 Q1806.05 1416.77 1800.61 1416.77 Q1795.29 1416.77 1792.07 1413.62 Q1788.85 1410.48 1788.85 1405.24 Q1788.85 1399.25 1793.46 1396.1 Q1798.04 1392.93 1806.79 1392.93 Q1814.96 1392.93 1819.85 1396.82 Q1824.71 1400.68 1824.71 1407.23 Q1824.71 1408.99 1824.36 1410.8 Q1824.01 1412.61 1823.32 1414.55 M1808.67 1405.24 Q1808.67 1402.1 1806.51 1400.27 Q1804.36 1398.42 1800.61 1398.42 Q1796.88 1398.42 1794.73 1400.27 Q1792.56 1402.1 1792.56 1405.24 Q1792.56 1408.39 1794.73 1410.24 Q1796.88 1412.07 1800.61 1412.07 Q1804.36 1412.07 1806.51 1410.24 Q1808.67 1408.39 1808.67 1405.24 Z\" fill=\"#000000\" fill-rule=\"evenodd\" fill-opacity=\"1\" /><path clip-path=\"url(#clip550)\" d=\"M1809.15 1387.28 L1809.15 1374.8 L1812.95 1374.8 L1812.95 1387.28 L1809.15 1387.28 Z\" fill=\"#000000\" fill-rule=\"evenodd\" fill-opacity=\"1\" /><path clip-path=\"url(#clip550)\" d=\"M1820.1 1363.39 L1820.1 1347.07 L1824.04 1347.07 L1824.04 1369.02 L1820.1 1369.02 Q1817.35 1366.36 1812.72 1361.77 Q1808.06 1357.17 1806.72 1355.99 Q1804.2 1353.74 1802.46 1352.86 Q1800.7 1351.96 1799.01 1351.96 Q1796.26 1351.96 1794.52 1353.9 Q1792.79 1355.82 1792.79 1358.92 Q1792.79 1361.12 1793.55 1363.58 Q1794.31 1366.01 1795.87 1368.79 L1791.14 1368.79 Q1790.01 1365.96 1789.43 1363.51 Q1788.85 1361.05 1788.85 1359.02 Q1788.85 1353.65 1791.54 1350.45 Q1794.22 1347.26 1798.71 1347.26 Q1800.84 1347.26 1802.76 1348.07 Q1804.66 1348.86 1807.25 1350.96 Q1807.93 1351.54 1811.14 1354.64 Q1814.34 1357.74 1820.1 1363.39 Z\" fill=\"#000000\" fill-rule=\"evenodd\" fill-opacity=\"1\" /><path clip-path=\"url(#clip550)\" d=\"M1805.4 1323.09 Q1806.12 1319.74 1808.39 1317.86 Q1810.66 1315.96 1813.99 1315.96 Q1819.11 1315.96 1821.91 1319.48 Q1824.71 1323 1824.71 1329.48 Q1824.71 1331.66 1824.27 1333.97 Q1823.85 1336.26 1822.99 1338.72 L1818.48 1338.72 Q1819.62 1336.77 1820.19 1334.46 Q1820.77 1332.14 1820.77 1329.62 Q1820.77 1325.22 1819.04 1322.93 Q1817.3 1320.61 1813.99 1320.61 Q1810.93 1320.61 1809.22 1322.77 Q1807.49 1324.9 1807.49 1328.72 L1807.49 1332.74 L1803.64 1332.74 L1803.64 1328.53 Q1803.64 1325.08 1802.28 1323.25 Q1800.89 1321.43 1798.3 1321.43 Q1795.63 1321.43 1794.22 1323.32 Q1792.79 1325.2 1792.79 1328.72 Q1792.79 1330.64 1793.2 1332.84 Q1793.62 1335.04 1794.5 1337.67 L1790.33 1337.67 Q1789.59 1335.01 1789.22 1332.7 Q1788.85 1330.36 1788.85 1328.3 Q1788.85 1322.98 1791.28 1319.87 Q1793.69 1316.77 1797.81 1316.77 Q1800.68 1316.77 1802.67 1318.42 Q1804.64 1320.06 1805.4 1323.09 Z\" fill=\"#000000\" fill-rule=\"evenodd\" fill-opacity=\"1\" /><path clip-path=\"url(#clip550)\" d=\"M1789.48 1312.3 L1789.48 1283.07 L1793.41 1283.07 L1793.41 1295.34 L1824.04 1295.34 L1824.04 1300.04 L1793.41 1300.04 L1793.41 1312.3 L1789.48 1312.3 Z\" fill=\"#000000\" fill-rule=\"evenodd\" fill-opacity=\"1\" /><path clip-path=\"url(#clip550)\" d=\"M1792.56 1268.14 Q1792.56 1271.75 1796.12 1273.58 Q1799.66 1275.38 1806.79 1275.38 Q1813.9 1275.38 1817.46 1273.58 Q1821 1271.75 1821 1268.14 Q1821 1264.5 1817.46 1262.7 Q1813.9 1260.87 1806.79 1260.87 Q1799.66 1260.87 1796.12 1262.7 Q1792.56 1264.5 1792.56 1268.14 M1788.85 1268.14 Q1788.85 1262.33 1793.46 1259.27 Q1798.04 1256.19 1806.79 1256.19 Q1815.52 1256.19 1820.12 1259.27 Q1824.71 1262.33 1824.71 1268.14 Q1824.71 1273.95 1820.12 1277.03 Q1815.52 1280.08 1806.79 1280.08 Q1798.04 1280.08 1793.46 1277.03 Q1788.85 1273.95 1788.85 1268.14 Z\" fill=\"#000000\" fill-rule=\"evenodd\" fill-opacity=\"1\" /><path clip-path=\"url(#clip550)\" d=\"M1792.56 1237.98 Q1792.56 1241.59 1796.12 1243.42 Q1799.66 1245.22 1806.79 1245.22 Q1813.9 1245.22 1817.46 1243.42 Q1821 1241.59 1821 1237.98 Q1821 1234.34 1817.46 1232.54 Q1813.9 1230.71 1806.79 1230.71 Q1799.66 1230.71 1796.12 1232.54 Q1792.56 1234.34 1792.56 1237.98 M1788.85 1237.98 Q1788.85 1232.17 1793.46 1229.11 Q1798.04 1226.03 1806.79 1226.03 Q1815.52 1226.03 1820.12 1229.11 Q1824.71 1232.17 1824.71 1237.98 Q1824.71 1243.79 1820.12 1246.87 Q1815.52 1249.92 1806.79 1249.92 Q1798.04 1249.92 1793.46 1246.87 Q1788.85 1243.79 1788.85 1237.98 Z\" fill=\"#000000\" fill-rule=\"evenodd\" fill-opacity=\"1\" /><path clip-path=\"url(#clip550)\" d=\"M1818.16 1217.33 L1818.16 1212.44 L1824.04 1212.44 L1824.04 1217.33 L1818.16 1217.33 M1799.52 1217.33 L1799.52 1212.44 L1805.4 1212.44 L1805.4 1217.33 L1799.52 1217.33 Z\" fill=\"#000000\" fill-rule=\"evenodd\" fill-opacity=\"1\" /><path clip-path=\"url(#clip550)\" d=\"M1792.56 1191.84 Q1792.56 1195.45 1796.12 1197.28 Q1799.66 1199.09 1806.79 1199.09 Q1813.9 1199.09 1817.46 1197.28 Q1821 1195.45 1821 1191.84 Q1821 1188.21 1817.46 1186.4 Q1813.9 1184.57 1806.79 1184.57 Q1799.66 1184.57 1796.12 1186.4 Q1792.56 1188.21 1792.56 1191.84 M1788.85 1191.84 Q1788.85 1186.03 1793.46 1182.98 Q1798.04 1179.9 1806.79 1179.9 Q1815.52 1179.9 1820.12 1182.98 Q1824.71 1186.03 1824.71 1191.84 Q1824.71 1197.65 1820.12 1200.73 Q1815.52 1203.79 1806.79 1203.79 Q1798.04 1203.79 1793.46 1200.73 Q1788.85 1197.65 1788.85 1191.84 Z\" fill=\"#000000\" fill-rule=\"evenodd\" fill-opacity=\"1\" /><path clip-path=\"url(#clip550)\" d=\"M1792.56 1161.68 Q1792.56 1165.29 1796.12 1167.12 Q1799.66 1168.93 1806.79 1168.93 Q1813.9 1168.93 1817.46 1167.12 Q1821 1165.29 1821 1161.68 Q1821 1158.05 1817.46 1156.24 Q1813.9 1154.41 1806.79 1154.41 Q1799.66 1154.41 1796.12 1156.24 Q1792.56 1158.05 1792.56 1161.68 M1788.85 1161.68 Q1788.85 1155.87 1793.46 1152.81 Q1798.04 1149.74 1806.79 1149.74 Q1815.52 1149.74 1820.12 1152.81 Q1824.71 1155.87 1824.71 1161.68 Q1824.71 1167.49 1820.12 1170.57 Q1815.52 1173.62 1806.79 1173.62 Q1798.04 1173.62 1793.46 1170.57 Q1788.85 1167.49 1788.85 1161.68 Z\" fill=\"#000000\" fill-rule=\"evenodd\" fill-opacity=\"1\" /><path clip-path=\"url(#clip550)\" d=\"M1818.16 1141.03 L1818.16 1136.15 L1824.04 1136.15 L1824.04 1141.03 L1818.16 1141.03 M1799.52 1141.03 L1799.52 1136.15 L1805.4 1136.15 L1805.4 1141.03 L1799.52 1141.03 Z\" fill=\"#000000\" fill-rule=\"evenodd\" fill-opacity=\"1\" /><path clip-path=\"url(#clip550)\" d=\"M1792.56 1115.55 Q1792.56 1119.16 1796.12 1120.99 Q1799.66 1122.79 1806.79 1122.79 Q1813.9 1122.79 1817.46 1120.99 Q1821 1119.16 1821 1115.55 Q1821 1111.91 1817.46 1110.11 Q1813.9 1108.28 1806.79 1108.28 Q1799.66 1108.28 1796.12 1110.11 Q1792.56 1111.91 1792.56 1115.55 M1788.85 1115.55 Q1788.85 1109.74 1793.46 1106.68 Q1798.04 1103.6 1806.79 1103.6 Q1815.52 1103.6 1820.12 1106.68 Q1824.71 1109.74 1824.71 1115.55 Q1824.71 1121.36 1820.12 1124.44 Q1815.52 1127.49 1806.79 1127.49 Q1798.04 1127.49 1793.46 1124.44 Q1788.85 1121.36 1788.85 1115.55 Z\" fill=\"#000000\" fill-rule=\"evenodd\" fill-opacity=\"1\" /><path clip-path=\"url(#clip550)\" d=\"M1792.56 1085.38 Q1792.56 1089 1796.12 1090.82 Q1799.66 1092.63 1806.79 1092.63 Q1813.9 1092.63 1817.46 1090.82 Q1821 1089 1821 1085.38 Q1821 1081.75 1817.46 1079.94 Q1813.9 1078.12 1806.79 1078.12 Q1799.66 1078.12 1796.12 1079.94 Q1792.56 1081.75 1792.56 1085.38 M1788.85 1085.38 Q1788.85 1079.57 1793.46 1076.52 Q1798.04 1073.44 1806.79 1073.44 Q1815.52 1073.44 1820.12 1076.52 Q1824.71 1079.57 1824.71 1085.38 Q1824.71 1091.19 1820.12 1094.27 Q1815.52 1097.33 1806.79 1097.33 Q1798.04 1097.33 1793.46 1094.27 Q1788.85 1091.19 1788.85 1085.38 Z\" fill=\"#000000\" fill-rule=\"evenodd\" fill-opacity=\"1\" /><path clip-path=\"url(#clip550)\" d=\"M2028.23 1578.58 L2028.23 1562.26 L2032.17 1562.26 L2032.17 1584.2 L2028.23 1584.2 Q2025.48 1581.54 2020.85 1576.96 Q2016.2 1572.35 2014.85 1571.17 Q2012.33 1568.92 2010.59 1568.04 Q2008.84 1567.14 2007.15 1567.14 Q2004.39 1567.14 2002.65 1569.09 Q2000.92 1571.01 2000.92 1574.11 Q2000.92 1576.31 2001.68 1578.76 Q2002.45 1581.19 2004 1583.97 L1999.28 1583.97 Q1998.14 1581.15 1997.56 1578.69 Q1996.98 1576.24 1996.98 1574.2 Q1996.98 1568.83 1999.67 1565.64 Q2002.35 1562.44 2006.84 1562.44 Q2008.97 1562.44 2010.9 1563.25 Q2012.79 1564.04 2015.39 1566.15 Q2016.06 1566.72 2019.28 1569.83 Q2022.47 1572.93 2028.23 1578.58 Z\" fill=\"#000000\" fill-rule=\"evenodd\" fill-opacity=\"1\" /><path clip-path=\"url(#clip550)\" d=\"M2000.69 1542.44 Q2000.69 1546.05 2004.25 1547.88 Q2007.79 1549.69 2014.92 1549.69 Q2022.03 1549.69 2025.59 1547.88 Q2029.14 1546.05 2029.14 1542.44 Q2029.14 1538.81 2025.59 1537 Q2022.03 1535.17 2014.92 1535.17 Q2007.79 1535.17 2004.25 1537 Q2000.69 1538.81 2000.69 1542.44 M1996.98 1542.44 Q1996.98 1536.63 2001.59 1533.58 Q2006.17 1530.5 2014.92 1530.5 Q2023.65 1530.5 2028.26 1533.58 Q2032.84 1536.63 2032.84 1542.44 Q2032.84 1548.25 2028.26 1551.33 Q2023.65 1554.39 2014.92 1554.39 Q2006.17 1554.39 2001.59 1551.33 Q1996.98 1548.25 1996.98 1542.44 Z\" fill=\"#000000\" fill-rule=\"evenodd\" fill-opacity=\"1\" /><path clip-path=\"url(#clip550)\" d=\"M2028.23 1518.25 L2028.23 1501.93 L2032.17 1501.93 L2032.17 1523.88 L2028.23 1523.88 Q2025.48 1521.22 2020.85 1516.63 Q2016.2 1512.03 2014.85 1510.85 Q2012.33 1508.6 2010.59 1507.72 Q2008.84 1506.82 2007.15 1506.82 Q2004.39 1506.82 2002.65 1508.76 Q2000.92 1510.68 2000.92 1513.79 Q2000.92 1515.98 2001.68 1518.44 Q2002.45 1520.87 2004 1523.65 L1999.28 1523.65 Q1998.14 1520.82 1997.56 1518.37 Q1996.98 1515.91 1996.98 1513.88 Q1996.98 1508.51 1999.67 1505.31 Q2002.35 1502.12 2006.84 1502.12 Q2008.97 1502.12 2010.9 1502.93 Q2012.79 1503.72 2015.39 1505.82 Q2016.06 1506.4 2019.28 1509.5 Q2022.47 1512.6 2028.23 1518.25 Z\" fill=\"#000000\" fill-rule=\"evenodd\" fill-opacity=\"1\" /><path clip-path=\"url(#clip550)\" d=\"M2028.23 1488.09 L2028.23 1471.77 L2032.17 1471.77 L2032.17 1493.72 L2028.23 1493.72 Q2025.48 1491.05 2020.85 1486.47 Q2016.2 1481.86 2014.85 1480.68 Q2012.33 1478.44 2010.59 1477.56 Q2008.84 1476.66 2007.15 1476.66 Q2004.39 1476.66 2002.65 1478.6 Q2000.92 1480.52 2000.92 1483.62 Q2000.92 1485.82 2001.68 1488.28 Q2002.45 1490.71 2004 1493.48 L1999.28 1493.48 Q1998.14 1490.66 1997.56 1488.21 Q1996.98 1485.75 1996.98 1483.72 Q1996.98 1478.35 1999.67 1475.15 Q2002.35 1471.96 2006.84 1471.96 Q2008.97 1471.96 2010.9 1472.77 Q2012.79 1473.55 2015.39 1475.66 Q2016.06 1476.24 2019.28 1479.34 Q2022.47 1482.44 2028.23 1488.09 Z\" fill=\"#000000\" fill-rule=\"evenodd\" fill-opacity=\"1\" /><path clip-path=\"url(#clip550)\" d=\"M2017.28 1464.71 L2017.28 1452.23 L2021.08 1452.23 L2021.08 1464.71 L2017.28 1464.71 Z\" fill=\"#000000\" fill-rule=\"evenodd\" fill-opacity=\"1\" /><path clip-path=\"url(#clip550)\" d=\"M2000.69 1434.85 Q2000.69 1438.46 2004.25 1440.29 Q2007.79 1442.1 2014.92 1442.1 Q2022.03 1442.1 2025.59 1440.29 Q2029.14 1438.46 2029.14 1434.85 Q2029.14 1431.22 2025.59 1429.41 Q2022.03 1427.58 2014.92 1427.58 Q2007.79 1427.58 2004.25 1429.41 Q2000.69 1431.22 2000.69 1434.85 M1996.98 1434.85 Q1996.98 1429.04 2001.59 1425.98 Q2006.17 1422.91 2014.92 1422.91 Q2023.65 1422.91 2028.26 1425.98 Q2032.84 1429.04 2032.84 1434.85 Q2032.84 1440.66 2028.26 1443.74 Q2023.65 1446.79 2014.92 1446.79 Q2006.17 1446.79 2001.59 1443.74 Q1996.98 1440.66 1996.98 1434.85 Z\" fill=\"#000000\" fill-rule=\"evenodd\" fill-opacity=\"1\" /><path clip-path=\"url(#clip550)\" d=\"M2031.45 1414.55 L2027.19 1414.55 Q2028.02 1412.79 2028.46 1410.98 Q2028.9 1409.18 2028.9 1407.44 Q2028.9 1402.81 2025.8 1400.38 Q2022.68 1397.93 2016.34 1397.58 Q2018.33 1398.92 2019.39 1400.98 Q2020.46 1403.04 2020.46 1405.54 Q2020.46 1410.73 2017.33 1413.76 Q2014.18 1416.77 2008.74 1416.77 Q2003.42 1416.77 2000.2 1413.62 Q1996.98 1410.48 1996.98 1405.24 Q1996.98 1399.25 2001.59 1396.1 Q2006.17 1392.93 2014.92 1392.93 Q2023.09 1392.93 2027.98 1396.82 Q2032.84 1400.68 2032.84 1407.23 Q2032.84 1408.99 2032.49 1410.8 Q2032.15 1412.61 2031.45 1414.55 M2016.8 1405.24 Q2016.8 1402.1 2014.65 1400.27 Q2012.49 1398.42 2008.74 1398.42 Q2005.02 1398.42 2002.86 1400.27 Q2000.69 1402.1 2000.69 1405.24 Q2000.69 1408.39 2002.86 1410.24 Q2005.02 1412.07 2008.74 1412.07 Q2012.49 1412.07 2014.65 1410.24 Q2016.8 1408.39 2016.8 1405.24 Z\" fill=\"#000000\" fill-rule=\"evenodd\" fill-opacity=\"1\" /><path clip-path=\"url(#clip550)\" d=\"M2017.28 1387.28 L2017.28 1374.8 L2021.08 1374.8 L2021.08 1387.28 L2017.28 1387.28 Z\" fill=\"#000000\" fill-rule=\"evenodd\" fill-opacity=\"1\" /><path clip-path=\"url(#clip550)\" d=\"M2028.23 1363.39 L2028.23 1347.07 L2032.17 1347.07 L2032.17 1369.02 L2028.23 1369.02 Q2025.48 1366.36 2020.85 1361.77 Q2016.2 1357.17 2014.85 1355.99 Q2012.33 1353.74 2010.59 1352.86 Q2008.84 1351.96 2007.15 1351.96 Q2004.39 1351.96 2002.65 1353.9 Q2000.92 1355.82 2000.92 1358.92 Q2000.92 1361.12 2001.68 1363.58 Q2002.45 1366.01 2004 1368.79 L1999.28 1368.79 Q1998.14 1365.96 1997.56 1363.51 Q1996.98 1361.05 1996.98 1359.02 Q1996.98 1353.65 1999.67 1350.45 Q2002.35 1347.26 2006.84 1347.26 Q2008.97 1347.26 2010.9 1348.07 Q2012.79 1348.86 2015.39 1350.96 Q2016.06 1351.54 2019.28 1354.64 Q2022.47 1357.74 2028.23 1363.39 Z\" fill=\"#000000\" fill-rule=\"evenodd\" fill-opacity=\"1\" /><path clip-path=\"url(#clip550)\" d=\"M2013.03 1326.68 Q2013.03 1329.83 2015.18 1331.68 Q2017.33 1333.51 2021.08 1333.51 Q2024.81 1333.51 2026.98 1331.68 Q2029.14 1329.83 2029.14 1326.68 Q2029.14 1323.53 2026.98 1321.7 Q2024.81 1319.85 2021.08 1319.85 Q2017.33 1319.85 2015.18 1321.7 Q2013.03 1323.53 2013.03 1326.68 M1998.37 1317.4 L2002.63 1317.4 Q2001.8 1319.16 2001.36 1320.96 Q2000.92 1322.74 2000.92 1324.5 Q2000.92 1329.13 2004.04 1331.59 Q2007.17 1334.02 2013.49 1334.36 Q2011.47 1333 2010.41 1330.94 Q2009.32 1328.88 2009.32 1326.4 Q2009.32 1321.19 2012.49 1318.18 Q2015.64 1315.15 2021.08 1315.15 Q2026.4 1315.15 2029.62 1318.3 Q2032.84 1321.45 2032.84 1326.68 Q2032.84 1332.68 2028.26 1335.85 Q2023.65 1339.02 2014.92 1339.02 Q2006.73 1339.02 2001.87 1335.13 Q1996.98 1331.24 1996.98 1324.69 Q1996.98 1322.93 1997.33 1321.15 Q1997.68 1319.34 1998.37 1317.4 Z\" fill=\"#000000\" fill-rule=\"evenodd\" fill-opacity=\"1\" /><path clip-path=\"url(#clip550)\" d=\"M1997.61 1312.3 L1997.61 1283.07 L2001.54 1283.07 L2001.54 1295.34 L2032.17 1295.34 L2032.17 1300.04 L2001.54 1300.04 L2001.54 1312.3 L1997.61 1312.3 Z\" fill=\"#000000\" fill-rule=\"evenodd\" fill-opacity=\"1\" /><path clip-path=\"url(#clip550)\" d=\"M2000.69 1268.14 Q2000.69 1271.75 2004.25 1273.58 Q2007.79 1275.38 2014.92 1275.38 Q2022.03 1275.38 2025.59 1273.58 Q2029.14 1271.75 2029.14 1268.14 Q2029.14 1264.5 2025.59 1262.7 Q2022.03 1260.87 2014.92 1260.87 Q2007.79 1260.87 2004.25 1262.7 Q2000.69 1264.5 2000.69 1268.14 M1996.98 1268.14 Q1996.98 1262.33 2001.59 1259.27 Q2006.17 1256.19 2014.92 1256.19 Q2023.65 1256.19 2028.26 1259.27 Q2032.84 1262.33 2032.84 1268.14 Q2032.84 1273.95 2028.26 1277.03 Q2023.65 1280.08 2014.92 1280.08 Q2006.17 1280.08 2001.59 1277.03 Q1996.98 1273.95 1996.98 1268.14 Z\" fill=\"#000000\" fill-rule=\"evenodd\" fill-opacity=\"1\" /><path clip-path=\"url(#clip550)\" d=\"M2000.69 1237.98 Q2000.69 1241.59 2004.25 1243.42 Q2007.79 1245.22 2014.92 1245.22 Q2022.03 1245.22 2025.59 1243.42 Q2029.14 1241.59 2029.14 1237.98 Q2029.14 1234.34 2025.59 1232.54 Q2022.03 1230.71 2014.92 1230.71 Q2007.79 1230.71 2004.25 1232.54 Q2000.69 1234.34 2000.69 1237.98 M1996.98 1237.98 Q1996.98 1232.17 2001.59 1229.11 Q2006.17 1226.03 2014.92 1226.03 Q2023.65 1226.03 2028.26 1229.11 Q2032.84 1232.17 2032.84 1237.98 Q2032.84 1243.79 2028.26 1246.87 Q2023.65 1249.92 2014.92 1249.92 Q2006.17 1249.92 2001.59 1246.87 Q1996.98 1243.79 1996.98 1237.98 Z\" fill=\"#000000\" fill-rule=\"evenodd\" fill-opacity=\"1\" /><path clip-path=\"url(#clip550)\" d=\"M2026.29 1217.33 L2026.29 1212.44 L2032.17 1212.44 L2032.17 1217.33 L2026.29 1217.33 M2007.65 1217.33 L2007.65 1212.44 L2013.53 1212.44 L2013.53 1217.33 L2007.65 1217.33 Z\" fill=\"#000000\" fill-rule=\"evenodd\" fill-opacity=\"1\" /><path clip-path=\"url(#clip550)\" d=\"M2000.69 1191.84 Q2000.69 1195.45 2004.25 1197.28 Q2007.79 1199.09 2014.92 1199.09 Q2022.03 1199.09 2025.59 1197.28 Q2029.14 1195.45 2029.14 1191.84 Q2029.14 1188.21 2025.59 1186.4 Q2022.03 1184.57 2014.92 1184.57 Q2007.79 1184.57 2004.25 1186.4 Q2000.69 1188.21 2000.69 1191.84 M1996.98 1191.84 Q1996.98 1186.03 2001.59 1182.98 Q2006.17 1179.9 2014.92 1179.9 Q2023.65 1179.9 2028.26 1182.98 Q2032.84 1186.03 2032.84 1191.84 Q2032.84 1197.65 2028.26 1200.73 Q2023.65 1203.79 2014.92 1203.79 Q2006.17 1203.79 2001.59 1200.73 Q1996.98 1197.65 1996.98 1191.84 Z\" fill=\"#000000\" fill-rule=\"evenodd\" fill-opacity=\"1\" /><path clip-path=\"url(#clip550)\" d=\"M2000.69 1161.68 Q2000.69 1165.29 2004.25 1167.12 Q2007.79 1168.93 2014.92 1168.93 Q2022.03 1168.93 2025.59 1167.12 Q2029.14 1165.29 2029.14 1161.68 Q2029.14 1158.05 2025.59 1156.24 Q2022.03 1154.41 2014.92 1154.41 Q2007.79 1154.41 2004.25 1156.24 Q2000.69 1158.05 2000.69 1161.68 M1996.98 1161.68 Q1996.98 1155.87 2001.59 1152.81 Q2006.17 1149.74 2014.92 1149.74 Q2023.65 1149.74 2028.26 1152.81 Q2032.84 1155.87 2032.84 1161.68 Q2032.84 1167.49 2028.26 1170.57 Q2023.65 1173.62 2014.92 1173.62 Q2006.17 1173.62 2001.59 1170.57 Q1996.98 1167.49 1996.98 1161.68 Z\" fill=\"#000000\" fill-rule=\"evenodd\" fill-opacity=\"1\" /><path clip-path=\"url(#clip550)\" d=\"M2026.29 1141.03 L2026.29 1136.15 L2032.17 1136.15 L2032.17 1141.03 L2026.29 1141.03 M2007.65 1141.03 L2007.65 1136.15 L2013.53 1136.15 L2013.53 1141.03 L2007.65 1141.03 Z\" fill=\"#000000\" fill-rule=\"evenodd\" fill-opacity=\"1\" /><path clip-path=\"url(#clip550)\" d=\"M2000.69 1115.55 Q2000.69 1119.16 2004.25 1120.99 Q2007.79 1122.79 2014.92 1122.79 Q2022.03 1122.79 2025.59 1120.99 Q2029.14 1119.16 2029.14 1115.55 Q2029.14 1111.91 2025.59 1110.11 Q2022.03 1108.28 2014.92 1108.28 Q2007.79 1108.28 2004.25 1110.11 Q2000.69 1111.91 2000.69 1115.55 M1996.98 1115.55 Q1996.98 1109.74 2001.59 1106.68 Q2006.17 1103.6 2014.92 1103.6 Q2023.65 1103.6 2028.26 1106.68 Q2032.84 1109.74 2032.84 1115.55 Q2032.84 1121.36 2028.26 1124.44 Q2023.65 1127.49 2014.92 1127.49 Q2006.17 1127.49 2001.59 1124.44 Q1996.98 1121.36 1996.98 1115.55 Z\" fill=\"#000000\" fill-rule=\"evenodd\" fill-opacity=\"1\" /><path clip-path=\"url(#clip550)\" d=\"M2000.69 1085.38 Q2000.69 1089 2004.25 1090.82 Q2007.79 1092.63 2014.92 1092.63 Q2022.03 1092.63 2025.59 1090.82 Q2029.14 1089 2029.14 1085.38 Q2029.14 1081.75 2025.59 1079.94 Q2022.03 1078.12 2014.92 1078.12 Q2007.79 1078.12 2004.25 1079.94 Q2000.69 1081.75 2000.69 1085.38 M1996.98 1085.38 Q1996.98 1079.57 2001.59 1076.52 Q2006.17 1073.44 2014.92 1073.44 Q2023.65 1073.44 2028.26 1076.52 Q2032.84 1079.57 2032.84 1085.38 Q2032.84 1091.19 2028.26 1094.27 Q2023.65 1097.33 2014.92 1097.33 Q2006.17 1097.33 2001.59 1094.27 Q1996.98 1091.19 1996.98 1085.38 Z\" fill=\"#000000\" fill-rule=\"evenodd\" fill-opacity=\"1\" /><path clip-path=\"url(#clip550)\" d=\"M2097.61 1578.58 L2097.61 1562.26 L2101.55 1562.26 L2101.55 1584.2 L2097.61 1584.2 Q2094.86 1581.54 2090.23 1576.96 Q2085.57 1572.35 2084.23 1571.17 Q2081.71 1568.92 2079.97 1568.04 Q2078.21 1567.14 2076.52 1567.14 Q2073.77 1567.14 2072.03 1569.09 Q2070.3 1571.01 2070.3 1574.11 Q2070.3 1576.31 2071.06 1578.76 Q2071.82 1581.19 2073.37 1583.97 L2068.65 1583.97 Q2067.52 1581.15 2066.94 1578.69 Q2066.36 1576.24 2066.36 1574.2 Q2066.36 1568.83 2069.05 1565.64 Q2071.73 1562.44 2076.22 1562.44 Q2078.35 1562.44 2080.27 1563.25 Q2082.17 1564.04 2084.76 1566.15 Q2085.43 1566.72 2088.65 1569.83 Q2091.85 1572.93 2097.61 1578.58 Z\" fill=\"#000000\" fill-rule=\"evenodd\" fill-opacity=\"1\" /><path clip-path=\"url(#clip550)\" d=\"M2070.06 1542.44 Q2070.06 1546.05 2073.63 1547.88 Q2077.17 1549.69 2084.3 1549.69 Q2091.41 1549.69 2094.97 1547.88 Q2098.51 1546.05 2098.51 1542.44 Q2098.51 1538.81 2094.97 1537 Q2091.41 1535.17 2084.3 1535.17 Q2077.17 1535.17 2073.63 1537 Q2070.06 1538.81 2070.06 1542.44 M2066.36 1542.44 Q2066.36 1536.63 2070.97 1533.58 Q2075.55 1530.5 2084.3 1530.5 Q2093.03 1530.5 2097.63 1533.58 Q2102.22 1536.63 2102.22 1542.44 Q2102.22 1548.25 2097.63 1551.33 Q2093.03 1554.39 2084.3 1554.39 Q2075.55 1554.39 2070.97 1551.33 Q2066.36 1548.25 2066.36 1542.44 Z\" fill=\"#000000\" fill-rule=\"evenodd\" fill-opacity=\"1\" /><path clip-path=\"url(#clip550)\" d=\"M2097.61 1518.25 L2097.61 1501.93 L2101.55 1501.93 L2101.55 1523.88 L2097.61 1523.88 Q2094.86 1521.22 2090.23 1516.63 Q2085.57 1512.03 2084.23 1510.85 Q2081.71 1508.6 2079.97 1507.72 Q2078.21 1506.82 2076.52 1506.82 Q2073.77 1506.82 2072.03 1508.76 Q2070.3 1510.68 2070.3 1513.79 Q2070.3 1515.98 2071.06 1518.44 Q2071.82 1520.87 2073.37 1523.65 L2068.65 1523.65 Q2067.52 1520.82 2066.94 1518.37 Q2066.36 1515.91 2066.36 1513.88 Q2066.36 1508.51 2069.05 1505.31 Q2071.73 1502.12 2076.22 1502.12 Q2078.35 1502.12 2080.27 1502.93 Q2082.17 1503.72 2084.76 1505.82 Q2085.43 1506.4 2088.65 1509.5 Q2091.85 1512.6 2097.61 1518.25 Z\" fill=\"#000000\" fill-rule=\"evenodd\" fill-opacity=\"1\" /><path clip-path=\"url(#clip550)\" d=\"M2097.61 1488.09 L2097.61 1471.77 L2101.55 1471.77 L2101.55 1493.72 L2097.61 1493.72 Q2094.86 1491.05 2090.23 1486.47 Q2085.57 1481.86 2084.23 1480.68 Q2081.71 1478.44 2079.97 1477.56 Q2078.21 1476.66 2076.52 1476.66 Q2073.77 1476.66 2072.03 1478.6 Q2070.3 1480.52 2070.3 1483.62 Q2070.3 1485.82 2071.06 1488.28 Q2071.82 1490.71 2073.37 1493.48 L2068.65 1493.48 Q2067.52 1490.66 2066.94 1488.21 Q2066.36 1485.75 2066.36 1483.72 Q2066.36 1478.35 2069.05 1475.15 Q2071.73 1471.96 2076.22 1471.96 Q2078.35 1471.96 2080.27 1472.77 Q2082.17 1473.55 2084.76 1475.66 Q2085.43 1476.24 2088.65 1479.34 Q2091.85 1482.44 2097.61 1488.09 Z\" fill=\"#000000\" fill-rule=\"evenodd\" fill-opacity=\"1\" /><path clip-path=\"url(#clip550)\" d=\"M2086.66 1464.71 L2086.66 1452.23 L2090.46 1452.23 L2090.46 1464.71 L2086.66 1464.71 Z\" fill=\"#000000\" fill-rule=\"evenodd\" fill-opacity=\"1\" /><path clip-path=\"url(#clip550)\" d=\"M2070.06 1434.85 Q2070.06 1438.46 2073.63 1440.29 Q2077.17 1442.1 2084.3 1442.1 Q2091.41 1442.1 2094.97 1440.29 Q2098.51 1438.46 2098.51 1434.85 Q2098.51 1431.22 2094.97 1429.41 Q2091.41 1427.58 2084.3 1427.58 Q2077.17 1427.58 2073.63 1429.41 Q2070.06 1431.22 2070.06 1434.85 M2066.36 1434.85 Q2066.36 1429.04 2070.97 1425.98 Q2075.55 1422.91 2084.3 1422.91 Q2093.03 1422.91 2097.63 1425.98 Q2102.22 1429.04 2102.22 1434.85 Q2102.22 1440.66 2097.63 1443.74 Q2093.03 1446.79 2084.3 1446.79 Q2075.55 1446.79 2070.97 1443.74 Q2066.36 1440.66 2066.36 1434.85 Z\" fill=\"#000000\" fill-rule=\"evenodd\" fill-opacity=\"1\" /><path clip-path=\"url(#clip550)\" d=\"M2100.83 1414.55 L2096.57 1414.55 Q2097.4 1412.79 2097.84 1410.98 Q2098.28 1409.18 2098.28 1407.44 Q2098.28 1402.81 2095.18 1400.38 Q2092.06 1397.93 2085.71 1397.58 Q2087.7 1398.92 2088.77 1400.98 Q2089.83 1403.04 2089.83 1405.54 Q2089.83 1410.73 2086.71 1413.76 Q2083.56 1416.77 2078.12 1416.77 Q2072.8 1416.77 2069.58 1413.62 Q2066.36 1410.48 2066.36 1405.24 Q2066.36 1399.25 2070.97 1396.1 Q2075.55 1392.93 2084.3 1392.93 Q2092.47 1392.93 2097.36 1396.82 Q2102.22 1400.68 2102.22 1407.23 Q2102.22 1408.99 2101.87 1410.8 Q2101.52 1412.61 2100.83 1414.55 M2086.18 1405.24 Q2086.18 1402.1 2084.02 1400.27 Q2081.87 1398.42 2078.12 1398.42 Q2074.39 1398.42 2072.24 1400.27 Q2070.06 1402.1 2070.06 1405.24 Q2070.06 1408.39 2072.24 1410.24 Q2074.39 1412.07 2078.12 1412.07 Q2081.87 1412.07 2084.02 1410.24 Q2086.18 1408.39 2086.18 1405.24 Z\" fill=\"#000000\" fill-rule=\"evenodd\" fill-opacity=\"1\" /><path clip-path=\"url(#clip550)\" d=\"M2086.66 1387.28 L2086.66 1374.8 L2090.46 1374.8 L2090.46 1387.28 L2086.66 1387.28 Z\" fill=\"#000000\" fill-rule=\"evenodd\" fill-opacity=\"1\" /><path clip-path=\"url(#clip550)\" d=\"M2097.61 1363.39 L2097.61 1347.07 L2101.55 1347.07 L2101.55 1369.02 L2097.61 1369.02 Q2094.86 1366.36 2090.23 1361.77 Q2085.57 1357.17 2084.23 1355.99 Q2081.71 1353.74 2079.97 1352.86 Q2078.21 1351.96 2076.52 1351.96 Q2073.77 1351.96 2072.03 1353.9 Q2070.3 1355.82 2070.3 1358.92 Q2070.3 1361.12 2071.06 1363.58 Q2071.82 1366.01 2073.37 1368.79 L2068.65 1368.79 Q2067.52 1365.96 2066.94 1363.51 Q2066.36 1361.05 2066.36 1359.02 Q2066.36 1353.65 2069.05 1350.45 Q2071.73 1347.26 2076.22 1347.26 Q2078.35 1347.26 2080.27 1348.07 Q2082.17 1348.86 2084.76 1350.96 Q2085.43 1351.54 2088.65 1354.64 Q2091.85 1357.74 2097.61 1363.39 Z\" fill=\"#000000\" fill-rule=\"evenodd\" fill-opacity=\"1\" /><path clip-path=\"url(#clip550)\" d=\"M2066.99 1338.44 L2066.99 1316.22 L2068.98 1316.22 L2101.55 1328.76 L2101.55 1333.65 L2070.92 1321.84 L2070.92 1338.44 L2066.99 1338.44 Z\" fill=\"#000000\" fill-rule=\"evenodd\" fill-opacity=\"1\" /><path clip-path=\"url(#clip550)\" d=\"M2066.99 1312.3 L2066.99 1283.07 L2070.92 1283.07 L2070.92 1295.34 L2101.55 1295.34 L2101.55 1300.04 L2070.92 1300.04 L2070.92 1312.3 L2066.99 1312.3 Z\" fill=\"#000000\" fill-rule=\"evenodd\" fill-opacity=\"1\" /><path clip-path=\"url(#clip550)\" d=\"M2070.06 1268.14 Q2070.06 1271.75 2073.63 1273.58 Q2077.17 1275.38 2084.3 1275.38 Q2091.41 1275.38 2094.97 1273.58 Q2098.51 1271.75 2098.51 1268.14 Q2098.51 1264.5 2094.97 1262.7 Q2091.41 1260.87 2084.3 1260.87 Q2077.17 1260.87 2073.63 1262.7 Q2070.06 1264.5 2070.06 1268.14 M2066.36 1268.14 Q2066.36 1262.33 2070.97 1259.27 Q2075.55 1256.19 2084.3 1256.19 Q2093.03 1256.19 2097.63 1259.27 Q2102.22 1262.33 2102.22 1268.14 Q2102.22 1273.95 2097.63 1277.03 Q2093.03 1280.08 2084.3 1280.08 Q2075.55 1280.08 2070.97 1277.03 Q2066.36 1273.95 2066.36 1268.14 Z\" fill=\"#000000\" fill-rule=\"evenodd\" fill-opacity=\"1\" /><path clip-path=\"url(#clip550)\" d=\"M2070.06 1237.98 Q2070.06 1241.59 2073.63 1243.42 Q2077.17 1245.22 2084.3 1245.22 Q2091.41 1245.22 2094.97 1243.42 Q2098.51 1241.59 2098.51 1237.98 Q2098.51 1234.34 2094.97 1232.54 Q2091.41 1230.71 2084.3 1230.71 Q2077.17 1230.71 2073.63 1232.54 Q2070.06 1234.34 2070.06 1237.98 M2066.36 1237.98 Q2066.36 1232.17 2070.97 1229.11 Q2075.55 1226.03 2084.3 1226.03 Q2093.03 1226.03 2097.63 1229.11 Q2102.22 1232.17 2102.22 1237.98 Q2102.22 1243.79 2097.63 1246.87 Q2093.03 1249.92 2084.3 1249.92 Q2075.55 1249.92 2070.97 1246.87 Q2066.36 1243.79 2066.36 1237.98 Z\" fill=\"#000000\" fill-rule=\"evenodd\" fill-opacity=\"1\" /><path clip-path=\"url(#clip550)\" d=\"M2095.67 1217.33 L2095.67 1212.44 L2101.55 1212.44 L2101.55 1217.33 L2095.67 1217.33 M2077.03 1217.33 L2077.03 1212.44 L2082.91 1212.44 L2082.91 1217.33 L2077.03 1217.33 Z\" fill=\"#000000\" fill-rule=\"evenodd\" fill-opacity=\"1\" /><path clip-path=\"url(#clip550)\" d=\"M2070.06 1191.84 Q2070.06 1195.45 2073.63 1197.28 Q2077.17 1199.09 2084.3 1199.09 Q2091.41 1199.09 2094.97 1197.28 Q2098.51 1195.45 2098.51 1191.84 Q2098.51 1188.21 2094.97 1186.4 Q2091.41 1184.57 2084.3 1184.57 Q2077.17 1184.57 2073.63 1186.4 Q2070.06 1188.21 2070.06 1191.84 M2066.36 1191.84 Q2066.36 1186.03 2070.97 1182.98 Q2075.55 1179.9 2084.3 1179.9 Q2093.03 1179.9 2097.63 1182.98 Q2102.22 1186.03 2102.22 1191.84 Q2102.22 1197.65 2097.63 1200.73 Q2093.03 1203.79 2084.3 1203.79 Q2075.55 1203.79 2070.97 1200.73 Q2066.36 1197.65 2066.36 1191.84 Z\" fill=\"#000000\" fill-rule=\"evenodd\" fill-opacity=\"1\" /><path clip-path=\"url(#clip550)\" d=\"M2070.06 1161.68 Q2070.06 1165.29 2073.63 1167.12 Q2077.17 1168.93 2084.3 1168.93 Q2091.41 1168.93 2094.97 1167.12 Q2098.51 1165.29 2098.51 1161.68 Q2098.51 1158.05 2094.97 1156.24 Q2091.41 1154.41 2084.3 1154.41 Q2077.17 1154.41 2073.63 1156.24 Q2070.06 1158.05 2070.06 1161.68 M2066.36 1161.68 Q2066.36 1155.87 2070.97 1152.81 Q2075.55 1149.74 2084.3 1149.74 Q2093.03 1149.74 2097.63 1152.81 Q2102.22 1155.87 2102.22 1161.68 Q2102.22 1167.49 2097.63 1170.57 Q2093.03 1173.62 2084.3 1173.62 Q2075.55 1173.62 2070.97 1170.57 Q2066.36 1167.49 2066.36 1161.68 Z\" fill=\"#000000\" fill-rule=\"evenodd\" fill-opacity=\"1\" /><path clip-path=\"url(#clip550)\" d=\"M2095.67 1141.03 L2095.67 1136.15 L2101.55 1136.15 L2101.55 1141.03 L2095.67 1141.03 M2077.03 1141.03 L2077.03 1136.15 L2082.91 1136.15 L2082.91 1141.03 L2077.03 1141.03 Z\" fill=\"#000000\" fill-rule=\"evenodd\" fill-opacity=\"1\" /><path clip-path=\"url(#clip550)\" d=\"M2070.06 1115.55 Q2070.06 1119.16 2073.63 1120.99 Q2077.17 1122.79 2084.3 1122.79 Q2091.41 1122.79 2094.97 1120.99 Q2098.51 1119.16 2098.51 1115.55 Q2098.51 1111.91 2094.97 1110.11 Q2091.41 1108.28 2084.3 1108.28 Q2077.17 1108.28 2073.63 1110.11 Q2070.06 1111.91 2070.06 1115.55 M2066.36 1115.55 Q2066.36 1109.74 2070.97 1106.68 Q2075.55 1103.6 2084.3 1103.6 Q2093.03 1103.6 2097.63 1106.68 Q2102.22 1109.74 2102.22 1115.55 Q2102.22 1121.36 2097.63 1124.44 Q2093.03 1127.49 2084.3 1127.49 Q2075.55 1127.49 2070.97 1124.44 Q2066.36 1121.36 2066.36 1115.55 Z\" fill=\"#000000\" fill-rule=\"evenodd\" fill-opacity=\"1\" /><path clip-path=\"url(#clip550)\" d=\"M2070.06 1085.38 Q2070.06 1089 2073.63 1090.82 Q2077.17 1092.63 2084.3 1092.63 Q2091.41 1092.63 2094.97 1090.82 Q2098.51 1089 2098.51 1085.38 Q2098.51 1081.75 2094.97 1079.94 Q2091.41 1078.12 2084.3 1078.12 Q2077.17 1078.12 2073.63 1079.94 Q2070.06 1081.75 2070.06 1085.38 M2066.36 1085.38 Q2066.36 1079.57 2070.97 1076.52 Q2075.55 1073.44 2084.3 1073.44 Q2093.03 1073.44 2097.63 1076.52 Q2102.22 1079.57 2102.22 1085.38 Q2102.22 1091.19 2097.63 1094.27 Q2093.03 1097.33 2084.3 1097.33 Q2075.55 1097.33 2070.97 1094.27 Q2066.36 1091.19 2066.36 1085.38 Z\" fill=\"#000000\" fill-rule=\"evenodd\" fill-opacity=\"1\" /><path clip-path=\"url(#clip550)\" d=\"M2166.99 1578.58 L2166.99 1562.26 L2170.92 1562.26 L2170.92 1584.2 L2166.99 1584.2 Q2164.23 1581.54 2159.6 1576.96 Q2154.95 1572.35 2153.61 1571.17 Q2151.09 1568.92 2149.35 1568.04 Q2147.59 1567.14 2145.9 1567.14 Q2143.15 1567.14 2141.41 1569.09 Q2139.67 1571.01 2139.67 1574.11 Q2139.67 1576.31 2140.44 1578.76 Q2141.2 1581.19 2142.75 1583.97 L2138.03 1583.97 Q2136.9 1581.15 2136.32 1578.69 Q2135.74 1576.24 2135.74 1574.2 Q2135.74 1568.83 2138.42 1565.64 Q2141.11 1562.44 2145.6 1562.44 Q2147.73 1562.44 2149.65 1563.25 Q2151.55 1564.04 2154.14 1566.15 Q2154.81 1566.72 2158.03 1569.83 Q2161.22 1572.93 2166.99 1578.58 Z\" fill=\"#000000\" fill-rule=\"evenodd\" fill-opacity=\"1\" /><path clip-path=\"url(#clip550)\" d=\"M2139.44 1542.44 Q2139.44 1546.05 2143.01 1547.88 Q2146.55 1549.69 2153.68 1549.69 Q2160.78 1549.69 2164.35 1547.88 Q2167.89 1546.05 2167.89 1542.44 Q2167.89 1538.81 2164.35 1537 Q2160.78 1535.17 2153.68 1535.17 Q2146.55 1535.17 2143.01 1537 Q2139.44 1538.81 2139.44 1542.44 M2135.74 1542.44 Q2135.74 1536.63 2140.34 1533.58 Q2144.93 1530.5 2153.68 1530.5 Q2162.4 1530.5 2167.01 1533.58 Q2171.59 1536.63 2171.59 1542.44 Q2171.59 1548.25 2167.01 1551.33 Q2162.4 1554.39 2153.68 1554.39 Q2144.93 1554.39 2140.34 1551.33 Q2135.74 1548.25 2135.74 1542.44 Z\" fill=\"#000000\" fill-rule=\"evenodd\" fill-opacity=\"1\" /><path clip-path=\"url(#clip550)\" d=\"M2166.99 1518.25 L2166.99 1501.93 L2170.92 1501.93 L2170.92 1523.88 L2166.99 1523.88 Q2164.23 1521.22 2159.6 1516.63 Q2154.95 1512.03 2153.61 1510.85 Q2151.09 1508.6 2149.35 1507.72 Q2147.59 1506.82 2145.9 1506.82 Q2143.15 1506.82 2141.41 1508.76 Q2139.67 1510.68 2139.67 1513.79 Q2139.67 1515.98 2140.44 1518.44 Q2141.2 1520.87 2142.75 1523.65 L2138.03 1523.65 Q2136.9 1520.82 2136.32 1518.37 Q2135.74 1515.91 2135.74 1513.88 Q2135.74 1508.51 2138.42 1505.31 Q2141.11 1502.12 2145.6 1502.12 Q2147.73 1502.12 2149.65 1502.93 Q2151.55 1503.72 2154.14 1505.82 Q2154.81 1506.4 2158.03 1509.5 Q2161.22 1512.6 2166.99 1518.25 Z\" fill=\"#000000\" fill-rule=\"evenodd\" fill-opacity=\"1\" /><path clip-path=\"url(#clip550)\" d=\"M2166.99 1488.09 L2166.99 1471.77 L2170.92 1471.77 L2170.92 1493.72 L2166.99 1493.72 Q2164.23 1491.05 2159.6 1486.47 Q2154.95 1481.86 2153.61 1480.68 Q2151.09 1478.44 2149.35 1477.56 Q2147.59 1476.66 2145.9 1476.66 Q2143.15 1476.66 2141.41 1478.6 Q2139.67 1480.52 2139.67 1483.62 Q2139.67 1485.82 2140.44 1488.28 Q2141.2 1490.71 2142.75 1493.48 L2138.03 1493.48 Q2136.9 1490.66 2136.32 1488.21 Q2135.74 1485.75 2135.74 1483.72 Q2135.74 1478.35 2138.42 1475.15 Q2141.11 1471.96 2145.6 1471.96 Q2147.73 1471.96 2149.65 1472.77 Q2151.55 1473.55 2154.14 1475.66 Q2154.81 1476.24 2158.03 1479.34 Q2161.22 1482.44 2166.99 1488.09 Z\" fill=\"#000000\" fill-rule=\"evenodd\" fill-opacity=\"1\" /><path clip-path=\"url(#clip550)\" d=\"M2156.04 1464.71 L2156.04 1452.23 L2159.84 1452.23 L2159.84 1464.71 L2156.04 1464.71 Z\" fill=\"#000000\" fill-rule=\"evenodd\" fill-opacity=\"1\" /><path clip-path=\"url(#clip550)\" d=\"M2139.44 1434.85 Q2139.44 1438.46 2143.01 1440.29 Q2146.55 1442.1 2153.68 1442.1 Q2160.78 1442.1 2164.35 1440.29 Q2167.89 1438.46 2167.89 1434.85 Q2167.89 1431.22 2164.35 1429.41 Q2160.78 1427.58 2153.68 1427.58 Q2146.55 1427.58 2143.01 1429.41 Q2139.44 1431.22 2139.44 1434.85 M2135.74 1434.85 Q2135.74 1429.04 2140.34 1425.98 Q2144.93 1422.91 2153.68 1422.91 Q2162.4 1422.91 2167.01 1425.98 Q2171.59 1429.04 2171.59 1434.85 Q2171.59 1440.66 2167.01 1443.74 Q2162.4 1446.79 2153.68 1446.79 Q2144.93 1446.79 2140.34 1443.74 Q2135.74 1440.66 2135.74 1434.85 Z\" fill=\"#000000\" fill-rule=\"evenodd\" fill-opacity=\"1\" /><path clip-path=\"url(#clip550)\" d=\"M2170.21 1414.55 L2165.95 1414.55 Q2166.78 1412.79 2167.22 1410.98 Q2167.66 1409.18 2167.66 1407.44 Q2167.66 1402.81 2164.56 1400.38 Q2161.43 1397.93 2155.09 1397.58 Q2157.08 1398.92 2158.15 1400.98 Q2159.21 1403.04 2159.21 1405.54 Q2159.21 1410.73 2156.09 1413.76 Q2152.94 1416.77 2147.5 1416.77 Q2142.17 1416.77 2138.96 1413.62 Q2135.74 1410.48 2135.74 1405.24 Q2135.74 1399.25 2140.34 1396.1 Q2144.93 1392.93 2153.68 1392.93 Q2161.85 1392.93 2166.73 1396.82 Q2171.59 1400.68 2171.59 1407.23 Q2171.59 1408.99 2171.25 1410.8 Q2170.9 1412.61 2170.21 1414.55 M2155.55 1405.24 Q2155.55 1402.1 2153.4 1400.27 Q2151.25 1398.42 2147.5 1398.42 Q2143.77 1398.42 2141.62 1400.27 Q2139.44 1402.1 2139.44 1405.24 Q2139.44 1408.39 2141.62 1410.24 Q2143.77 1412.07 2147.5 1412.07 Q2151.25 1412.07 2153.4 1410.24 Q2155.55 1408.39 2155.55 1405.24 Z\" fill=\"#000000\" fill-rule=\"evenodd\" fill-opacity=\"1\" /><path clip-path=\"url(#clip550)\" d=\"M2156.04 1387.28 L2156.04 1374.8 L2159.84 1374.8 L2159.84 1387.28 L2156.04 1387.28 Z\" fill=\"#000000\" fill-rule=\"evenodd\" fill-opacity=\"1\" /><path clip-path=\"url(#clip550)\" d=\"M2166.99 1363.39 L2166.99 1347.07 L2170.92 1347.07 L2170.92 1369.02 L2166.99 1369.02 Q2164.23 1366.36 2159.6 1361.77 Q2154.95 1357.17 2153.61 1355.99 Q2151.09 1353.74 2149.35 1352.86 Q2147.59 1351.96 2145.9 1351.96 Q2143.15 1351.96 2141.41 1353.9 Q2139.67 1355.82 2139.67 1358.92 Q2139.67 1361.12 2140.44 1363.58 Q2141.2 1366.01 2142.75 1368.79 L2138.03 1368.79 Q2136.9 1365.96 2136.32 1363.51 Q2135.74 1361.05 2135.74 1359.02 Q2135.74 1353.65 2138.42 1350.45 Q2141.11 1347.26 2145.6 1347.26 Q2147.73 1347.26 2149.65 1348.07 Q2151.55 1348.86 2154.14 1350.96 Q2154.81 1351.54 2158.03 1354.64 Q2161.22 1357.74 2166.99 1363.39 Z\" fill=\"#000000\" fill-rule=\"evenodd\" fill-opacity=\"1\" /><path clip-path=\"url(#clip550)\" d=\"M2154.51 1327.26 Q2154.51 1330.59 2156.29 1332.51 Q2158.08 1334.41 2161.2 1334.41 Q2164.33 1334.41 2166.11 1332.51 Q2167.89 1330.59 2167.89 1327.26 Q2167.89 1323.93 2166.11 1322 Q2164.3 1320.08 2161.2 1320.08 Q2158.08 1320.08 2156.29 1322 Q2154.51 1323.9 2154.51 1327.26 M2152.52 1331.93 Q2151.78 1334.94 2149.72 1336.63 Q2147.66 1338.3 2144.7 1338.3 Q2140.55 1338.3 2138.15 1335.36 Q2135.74 1332.4 2135.74 1327.26 Q2135.74 1322.1 2138.15 1319.16 Q2140.55 1316.22 2144.7 1316.22 Q2147.66 1316.22 2149.72 1317.91 Q2151.78 1319.57 2152.52 1322.56 Q2153.31 1319.18 2155.6 1317.3 Q2157.89 1315.41 2161.2 1315.41 Q2166.22 1315.41 2168.91 1318.49 Q2171.59 1321.54 2171.59 1327.26 Q2171.59 1332.98 2168.91 1336.05 Q2166.22 1339.11 2161.2 1339.11 Q2157.89 1339.11 2155.6 1337.21 Q2153.31 1335.31 2152.52 1331.93 M2145.14 1333.65 Q2147.82 1333.65 2149.33 1331.98 Q2150.83 1330.29 2150.83 1327.26 Q2150.83 1324.25 2149.33 1322.56 Q2147.82 1320.85 2145.14 1320.85 Q2142.45 1320.85 2140.95 1322.56 Q2139.44 1324.25 2139.44 1327.26 Q2139.44 1330.29 2140.95 1331.98 Q2142.45 1333.65 2145.14 1333.65 Z\" fill=\"#000000\" fill-rule=\"evenodd\" fill-opacity=\"1\" /><path clip-path=\"url(#clip550)\" d=\"M2136.36 1312.3 L2136.36 1283.07 L2140.3 1283.07 L2140.3 1295.34 L2170.92 1295.34 L2170.92 1300.04 L2140.3 1300.04 L2140.3 1312.3 L2136.36 1312.3 Z\" fill=\"#000000\" fill-rule=\"evenodd\" fill-opacity=\"1\" /><path clip-path=\"url(#clip550)\" d=\"M2139.44 1268.14 Q2139.44 1271.75 2143.01 1273.58 Q2146.55 1275.38 2153.68 1275.38 Q2160.78 1275.38 2164.35 1273.58 Q2167.89 1271.75 2167.89 1268.14 Q2167.89 1264.5 2164.35 1262.7 Q2160.78 1260.87 2153.68 1260.87 Q2146.55 1260.87 2143.01 1262.7 Q2139.44 1264.5 2139.44 1268.14 M2135.74 1268.14 Q2135.74 1262.33 2140.34 1259.27 Q2144.93 1256.19 2153.68 1256.19 Q2162.4 1256.19 2167.01 1259.27 Q2171.59 1262.33 2171.59 1268.14 Q2171.59 1273.95 2167.01 1277.03 Q2162.4 1280.08 2153.68 1280.08 Q2144.93 1280.08 2140.34 1277.03 Q2135.74 1273.95 2135.74 1268.14 Z\" fill=\"#000000\" fill-rule=\"evenodd\" fill-opacity=\"1\" /><path clip-path=\"url(#clip550)\" d=\"M2139.44 1237.98 Q2139.44 1241.59 2143.01 1243.42 Q2146.55 1245.22 2153.68 1245.22 Q2160.78 1245.22 2164.35 1243.42 Q2167.89 1241.59 2167.89 1237.98 Q2167.89 1234.34 2164.35 1232.54 Q2160.78 1230.71 2153.68 1230.71 Q2146.55 1230.71 2143.01 1232.54 Q2139.44 1234.34 2139.44 1237.98 M2135.74 1237.98 Q2135.74 1232.17 2140.34 1229.11 Q2144.93 1226.03 2153.68 1226.03 Q2162.4 1226.03 2167.01 1229.11 Q2171.59 1232.17 2171.59 1237.98 Q2171.59 1243.79 2167.01 1246.87 Q2162.4 1249.92 2153.68 1249.92 Q2144.93 1249.92 2140.34 1246.87 Q2135.74 1243.79 2135.74 1237.98 Z\" fill=\"#000000\" fill-rule=\"evenodd\" fill-opacity=\"1\" /><path clip-path=\"url(#clip550)\" d=\"M2165.04 1217.33 L2165.04 1212.44 L2170.92 1212.44 L2170.92 1217.33 L2165.04 1217.33 M2146.41 1217.33 L2146.41 1212.44 L2152.29 1212.44 L2152.29 1217.33 L2146.41 1217.33 Z\" fill=\"#000000\" fill-rule=\"evenodd\" fill-opacity=\"1\" /><path clip-path=\"url(#clip550)\" d=\"M2139.44 1191.84 Q2139.44 1195.45 2143.01 1197.28 Q2146.55 1199.09 2153.68 1199.09 Q2160.78 1199.09 2164.35 1197.28 Q2167.89 1195.45 2167.89 1191.84 Q2167.89 1188.21 2164.35 1186.4 Q2160.78 1184.57 2153.68 1184.57 Q2146.55 1184.57 2143.01 1186.4 Q2139.44 1188.21 2139.44 1191.84 M2135.74 1191.84 Q2135.74 1186.03 2140.34 1182.98 Q2144.93 1179.9 2153.68 1179.9 Q2162.4 1179.9 2167.01 1182.98 Q2171.59 1186.03 2171.59 1191.84 Q2171.59 1197.65 2167.01 1200.73 Q2162.4 1203.79 2153.68 1203.79 Q2144.93 1203.79 2140.34 1200.73 Q2135.74 1197.65 2135.74 1191.84 Z\" fill=\"#000000\" fill-rule=\"evenodd\" fill-opacity=\"1\" /><path clip-path=\"url(#clip550)\" d=\"M2139.44 1161.68 Q2139.44 1165.29 2143.01 1167.12 Q2146.55 1168.93 2153.68 1168.93 Q2160.78 1168.93 2164.35 1167.12 Q2167.89 1165.29 2167.89 1161.68 Q2167.89 1158.05 2164.35 1156.24 Q2160.78 1154.41 2153.68 1154.41 Q2146.55 1154.41 2143.01 1156.24 Q2139.44 1158.05 2139.44 1161.68 M2135.74 1161.68 Q2135.74 1155.87 2140.34 1152.81 Q2144.93 1149.74 2153.68 1149.74 Q2162.4 1149.74 2167.01 1152.81 Q2171.59 1155.87 2171.59 1161.68 Q2171.59 1167.49 2167.01 1170.57 Q2162.4 1173.62 2153.68 1173.62 Q2144.93 1173.62 2140.34 1170.57 Q2135.74 1167.49 2135.74 1161.68 Z\" fill=\"#000000\" fill-rule=\"evenodd\" fill-opacity=\"1\" /><path clip-path=\"url(#clip550)\" d=\"M2165.04 1141.03 L2165.04 1136.15 L2170.92 1136.15 L2170.92 1141.03 L2165.04 1141.03 M2146.41 1141.03 L2146.41 1136.15 L2152.29 1136.15 L2152.29 1141.03 L2146.41 1141.03 Z\" fill=\"#000000\" fill-rule=\"evenodd\" fill-opacity=\"1\" /><path clip-path=\"url(#clip550)\" d=\"M2139.44 1115.55 Q2139.44 1119.16 2143.01 1120.99 Q2146.55 1122.79 2153.68 1122.79 Q2160.78 1122.79 2164.35 1120.99 Q2167.89 1119.16 2167.89 1115.55 Q2167.89 1111.91 2164.35 1110.11 Q2160.78 1108.28 2153.68 1108.28 Q2146.55 1108.28 2143.01 1110.11 Q2139.44 1111.91 2139.44 1115.55 M2135.74 1115.55 Q2135.74 1109.74 2140.34 1106.68 Q2144.93 1103.6 2153.68 1103.6 Q2162.4 1103.6 2167.01 1106.68 Q2171.59 1109.74 2171.59 1115.55 Q2171.59 1121.36 2167.01 1124.44 Q2162.4 1127.49 2153.68 1127.49 Q2144.93 1127.49 2140.34 1124.44 Q2135.74 1121.36 2135.74 1115.55 Z\" fill=\"#000000\" fill-rule=\"evenodd\" fill-opacity=\"1\" /><path clip-path=\"url(#clip550)\" d=\"M2139.44 1085.38 Q2139.44 1089 2143.01 1090.82 Q2146.55 1092.63 2153.68 1092.63 Q2160.78 1092.63 2164.35 1090.82 Q2167.89 1089 2167.89 1085.38 Q2167.89 1081.75 2164.35 1079.94 Q2160.78 1078.12 2153.68 1078.12 Q2146.55 1078.12 2143.01 1079.94 Q2139.44 1081.75 2139.44 1085.38 M2135.74 1085.38 Q2135.74 1079.57 2140.34 1076.52 Q2144.93 1073.44 2153.68 1073.44 Q2162.4 1073.44 2167.01 1076.52 Q2171.59 1079.57 2171.59 1085.38 Q2171.59 1091.19 2167.01 1094.27 Q2162.4 1097.33 2153.68 1097.33 Q2144.93 1097.33 2140.34 1094.27 Q2135.74 1091.19 2135.74 1085.38 Z\" fill=\"#000000\" fill-rule=\"evenodd\" fill-opacity=\"1\" /><path clip-path=\"url(#clip550)\" d=\"M2236.37 1578.58 L2236.37 1562.26 L2240.3 1562.26 L2240.3 1584.2 L2236.37 1584.2 Q2233.61 1581.54 2228.98 1576.96 Q2224.33 1572.35 2222.99 1571.17 Q2220.46 1568.92 2218.73 1568.04 Q2216.97 1567.14 2215.28 1567.14 Q2212.52 1567.14 2210.79 1569.09 Q2209.05 1571.01 2209.05 1574.11 Q2209.05 1576.31 2209.81 1578.76 Q2210.58 1581.19 2212.13 1583.97 L2207.41 1583.97 Q2206.27 1581.15 2205.69 1578.69 Q2205.12 1576.24 2205.12 1574.2 Q2205.12 1568.83 2207.8 1565.64 Q2210.49 1562.44 2214.98 1562.44 Q2217.11 1562.44 2219.03 1563.25 Q2220.93 1564.04 2223.52 1566.15 Q2224.19 1566.72 2227.41 1569.83 Q2230.6 1572.93 2236.37 1578.58 Z\" fill=\"#000000\" fill-rule=\"evenodd\" fill-opacity=\"1\" /><path clip-path=\"url(#clip550)\" d=\"M2208.82 1542.44 Q2208.82 1546.05 2212.38 1547.88 Q2215.93 1549.69 2223.06 1549.69 Q2230.16 1549.69 2233.73 1547.88 Q2237.27 1546.05 2237.27 1542.44 Q2237.27 1538.81 2233.73 1537 Q2230.16 1535.17 2223.06 1535.17 Q2215.93 1535.17 2212.38 1537 Q2208.82 1538.81 2208.82 1542.44 M2205.12 1542.44 Q2205.12 1536.63 2209.72 1533.58 Q2214.31 1530.5 2223.06 1530.5 Q2231.78 1530.5 2236.39 1533.58 Q2240.97 1536.63 2240.97 1542.44 Q2240.97 1548.25 2236.39 1551.33 Q2231.78 1554.39 2223.06 1554.39 Q2214.31 1554.39 2209.72 1551.33 Q2205.12 1548.25 2205.12 1542.44 Z\" fill=\"#000000\" fill-rule=\"evenodd\" fill-opacity=\"1\" /><path clip-path=\"url(#clip550)\" d=\"M2236.37 1518.25 L2236.37 1501.93 L2240.3 1501.93 L2240.3 1523.88 L2236.37 1523.88 Q2233.61 1521.22 2228.98 1516.63 Q2224.33 1512.03 2222.99 1510.85 Q2220.46 1508.6 2218.73 1507.72 Q2216.97 1506.82 2215.28 1506.82 Q2212.52 1506.82 2210.79 1508.76 Q2209.05 1510.68 2209.05 1513.79 Q2209.05 1515.98 2209.81 1518.44 Q2210.58 1520.87 2212.13 1523.65 L2207.41 1523.65 Q2206.27 1520.82 2205.69 1518.37 Q2205.12 1515.91 2205.12 1513.88 Q2205.12 1508.51 2207.8 1505.31 Q2210.49 1502.12 2214.98 1502.12 Q2217.11 1502.12 2219.03 1502.93 Q2220.93 1503.72 2223.52 1505.82 Q2224.19 1506.4 2227.41 1509.5 Q2230.6 1512.6 2236.37 1518.25 Z\" fill=\"#000000\" fill-rule=\"evenodd\" fill-opacity=\"1\" /><path clip-path=\"url(#clip550)\" d=\"M2236.37 1488.09 L2236.37 1471.77 L2240.3 1471.77 L2240.3 1493.72 L2236.37 1493.72 Q2233.61 1491.05 2228.98 1486.47 Q2224.33 1481.86 2222.99 1480.68 Q2220.46 1478.44 2218.73 1477.56 Q2216.97 1476.66 2215.28 1476.66 Q2212.52 1476.66 2210.79 1478.6 Q2209.05 1480.52 2209.05 1483.62 Q2209.05 1485.82 2209.81 1488.28 Q2210.58 1490.71 2212.13 1493.48 L2207.41 1493.48 Q2206.27 1490.66 2205.69 1488.21 Q2205.12 1485.75 2205.12 1483.72 Q2205.12 1478.35 2207.8 1475.15 Q2210.49 1471.96 2214.98 1471.96 Q2217.11 1471.96 2219.03 1472.77 Q2220.93 1473.55 2223.52 1475.66 Q2224.19 1476.24 2227.41 1479.34 Q2230.6 1482.44 2236.37 1488.09 Z\" fill=\"#000000\" fill-rule=\"evenodd\" fill-opacity=\"1\" /><path clip-path=\"url(#clip550)\" d=\"M2225.42 1464.71 L2225.42 1452.23 L2229.21 1452.23 L2229.21 1464.71 L2225.42 1464.71 Z\" fill=\"#000000\" fill-rule=\"evenodd\" fill-opacity=\"1\" /><path clip-path=\"url(#clip550)\" d=\"M2208.82 1434.85 Q2208.82 1438.46 2212.38 1440.29 Q2215.93 1442.1 2223.06 1442.1 Q2230.16 1442.1 2233.73 1440.29 Q2237.27 1438.46 2237.27 1434.85 Q2237.27 1431.22 2233.73 1429.41 Q2230.16 1427.58 2223.06 1427.58 Q2215.93 1427.58 2212.38 1429.41 Q2208.82 1431.22 2208.82 1434.85 M2205.12 1434.85 Q2205.12 1429.04 2209.72 1425.98 Q2214.31 1422.91 2223.06 1422.91 Q2231.78 1422.91 2236.39 1425.98 Q2240.97 1429.04 2240.97 1434.85 Q2240.97 1440.66 2236.39 1443.74 Q2231.78 1446.79 2223.06 1446.79 Q2214.31 1446.79 2209.72 1443.74 Q2205.12 1440.66 2205.12 1434.85 Z\" fill=\"#000000\" fill-rule=\"evenodd\" fill-opacity=\"1\" /><path clip-path=\"url(#clip550)\" d=\"M2239.58 1414.55 L2235.32 1414.55 Q2236.16 1412.79 2236.6 1410.98 Q2237.04 1409.18 2237.04 1407.44 Q2237.04 1402.81 2233.93 1400.38 Q2230.81 1397.93 2224.47 1397.58 Q2226.46 1398.92 2227.52 1400.98 Q2228.59 1403.04 2228.59 1405.54 Q2228.59 1410.73 2225.46 1413.76 Q2222.31 1416.77 2216.87 1416.77 Q2211.55 1416.77 2208.33 1413.62 Q2205.12 1410.48 2205.12 1405.24 Q2205.12 1399.25 2209.72 1396.1 Q2214.31 1392.93 2223.06 1392.93 Q2231.23 1392.93 2236.11 1396.82 Q2240.97 1400.68 2240.97 1407.23 Q2240.97 1408.99 2240.62 1410.8 Q2240.28 1412.61 2239.58 1414.55 M2224.93 1405.24 Q2224.93 1402.1 2222.78 1400.27 Q2220.62 1398.42 2216.87 1398.42 Q2213.15 1398.42 2210.99 1400.27 Q2208.82 1402.1 2208.82 1405.24 Q2208.82 1408.39 2210.99 1410.24 Q2213.15 1412.07 2216.87 1412.07 Q2220.62 1412.07 2222.78 1410.24 Q2224.93 1408.39 2224.93 1405.24 Z\" fill=\"#000000\" fill-rule=\"evenodd\" fill-opacity=\"1\" /><path clip-path=\"url(#clip550)\" d=\"M2225.42 1387.28 L2225.42 1374.8 L2229.21 1374.8 L2229.21 1387.28 L2225.42 1387.28 Z\" fill=\"#000000\" fill-rule=\"evenodd\" fill-opacity=\"1\" /><path clip-path=\"url(#clip550)\" d=\"M2236.37 1363.39 L2236.37 1347.07 L2240.3 1347.07 L2240.3 1369.02 L2236.37 1369.02 Q2233.61 1366.36 2228.98 1361.77 Q2224.33 1357.17 2222.99 1355.99 Q2220.46 1353.74 2218.73 1352.86 Q2216.97 1351.96 2215.28 1351.96 Q2212.52 1351.96 2210.79 1353.9 Q2209.05 1355.82 2209.05 1358.92 Q2209.05 1361.12 2209.81 1363.58 Q2210.58 1366.01 2212.13 1368.79 L2207.41 1368.79 Q2206.27 1365.96 2205.69 1363.51 Q2205.12 1361.05 2205.12 1359.02 Q2205.12 1353.65 2207.8 1350.45 Q2210.49 1347.26 2214.98 1347.26 Q2217.11 1347.26 2219.03 1348.07 Q2220.93 1348.86 2223.52 1350.96 Q2224.19 1351.54 2227.41 1354.64 Q2230.6 1357.74 2236.37 1363.39 Z\" fill=\"#000000\" fill-rule=\"evenodd\" fill-opacity=\"1\" /><path clip-path=\"url(#clip550)\" d=\"M2239.58 1337.12 L2235.32 1337.12 Q2236.16 1335.36 2236.6 1333.55 Q2237.04 1331.75 2237.04 1330.01 Q2237.04 1325.38 2233.93 1322.95 Q2230.81 1320.5 2224.47 1320.15 Q2226.46 1321.49 2227.52 1323.55 Q2228.59 1325.61 2228.59 1328.11 Q2228.59 1333.3 2225.46 1336.33 Q2222.31 1339.34 2216.87 1339.34 Q2211.55 1339.34 2208.33 1336.19 Q2205.12 1333.05 2205.12 1327.81 Q2205.12 1321.82 2209.72 1318.67 Q2214.31 1315.5 2223.06 1315.5 Q2231.23 1315.5 2236.11 1319.39 Q2240.97 1323.25 2240.97 1329.8 Q2240.97 1331.56 2240.62 1333.37 Q2240.28 1335.17 2239.58 1337.12 M2224.93 1327.81 Q2224.93 1324.67 2222.78 1322.84 Q2220.62 1320.99 2216.87 1320.99 Q2213.15 1320.99 2210.99 1322.84 Q2208.82 1324.67 2208.82 1327.81 Q2208.82 1330.96 2210.99 1332.81 Q2213.15 1334.64 2216.87 1334.64 Q2220.62 1334.64 2222.78 1332.81 Q2224.93 1330.96 2224.93 1327.81 Z\" fill=\"#000000\" fill-rule=\"evenodd\" fill-opacity=\"1\" /><path clip-path=\"url(#clip550)\" d=\"M2205.74 1312.3 L2205.74 1283.07 L2209.68 1283.07 L2209.68 1295.34 L2240.3 1295.34 L2240.3 1300.04 L2209.68 1300.04 L2209.68 1312.3 L2205.74 1312.3 Z\" fill=\"#000000\" fill-rule=\"evenodd\" fill-opacity=\"1\" /><path clip-path=\"url(#clip550)\" d=\"M2208.82 1268.14 Q2208.82 1271.75 2212.38 1273.58 Q2215.93 1275.38 2223.06 1275.38 Q2230.16 1275.38 2233.73 1273.58 Q2237.27 1271.75 2237.27 1268.14 Q2237.27 1264.5 2233.73 1262.7 Q2230.16 1260.87 2223.06 1260.87 Q2215.93 1260.87 2212.38 1262.7 Q2208.82 1264.5 2208.82 1268.14 M2205.12 1268.14 Q2205.12 1262.33 2209.72 1259.27 Q2214.31 1256.19 2223.06 1256.19 Q2231.78 1256.19 2236.39 1259.27 Q2240.97 1262.33 2240.97 1268.14 Q2240.97 1273.95 2236.39 1277.03 Q2231.78 1280.08 2223.06 1280.08 Q2214.31 1280.08 2209.72 1277.03 Q2205.12 1273.95 2205.12 1268.14 Z\" fill=\"#000000\" fill-rule=\"evenodd\" fill-opacity=\"1\" /><path clip-path=\"url(#clip550)\" d=\"M2208.82 1237.98 Q2208.82 1241.59 2212.38 1243.42 Q2215.93 1245.22 2223.06 1245.22 Q2230.16 1245.22 2233.73 1243.42 Q2237.27 1241.59 2237.27 1237.98 Q2237.27 1234.34 2233.73 1232.54 Q2230.16 1230.71 2223.06 1230.71 Q2215.93 1230.71 2212.38 1232.54 Q2208.82 1234.34 2208.82 1237.98 M2205.12 1237.98 Q2205.12 1232.17 2209.72 1229.11 Q2214.31 1226.03 2223.06 1226.03 Q2231.78 1226.03 2236.39 1229.11 Q2240.97 1232.17 2240.97 1237.98 Q2240.97 1243.79 2236.39 1246.87 Q2231.78 1249.92 2223.06 1249.92 Q2214.31 1249.92 2209.72 1246.87 Q2205.12 1243.79 2205.12 1237.98 Z\" fill=\"#000000\" fill-rule=\"evenodd\" fill-opacity=\"1\" /><path clip-path=\"url(#clip550)\" d=\"M2234.42 1217.33 L2234.42 1212.44 L2240.3 1212.44 L2240.3 1217.33 L2234.42 1217.33 M2215.79 1217.33 L2215.79 1212.44 L2221.67 1212.44 L2221.67 1217.33 L2215.79 1217.33 Z\" fill=\"#000000\" fill-rule=\"evenodd\" fill-opacity=\"1\" /><path clip-path=\"url(#clip550)\" d=\"M2208.82 1191.84 Q2208.82 1195.45 2212.38 1197.28 Q2215.93 1199.09 2223.06 1199.09 Q2230.16 1199.09 2233.73 1197.28 Q2237.27 1195.45 2237.27 1191.84 Q2237.27 1188.21 2233.73 1186.4 Q2230.16 1184.57 2223.06 1184.57 Q2215.93 1184.57 2212.38 1186.4 Q2208.82 1188.21 2208.82 1191.84 M2205.12 1191.84 Q2205.12 1186.03 2209.72 1182.98 Q2214.31 1179.9 2223.06 1179.9 Q2231.78 1179.9 2236.39 1182.98 Q2240.97 1186.03 2240.97 1191.84 Q2240.97 1197.65 2236.39 1200.73 Q2231.78 1203.79 2223.06 1203.79 Q2214.31 1203.79 2209.72 1200.73 Q2205.12 1197.65 2205.12 1191.84 Z\" fill=\"#000000\" fill-rule=\"evenodd\" fill-opacity=\"1\" /><path clip-path=\"url(#clip550)\" d=\"M2208.82 1161.68 Q2208.82 1165.29 2212.38 1167.12 Q2215.93 1168.93 2223.06 1168.93 Q2230.16 1168.93 2233.73 1167.12 Q2237.27 1165.29 2237.27 1161.68 Q2237.27 1158.05 2233.73 1156.24 Q2230.16 1154.41 2223.06 1154.41 Q2215.93 1154.41 2212.38 1156.24 Q2208.82 1158.05 2208.82 1161.68 M2205.12 1161.68 Q2205.12 1155.87 2209.72 1152.81 Q2214.31 1149.74 2223.06 1149.74 Q2231.78 1149.74 2236.39 1152.81 Q2240.97 1155.87 2240.97 1161.68 Q2240.97 1167.49 2236.39 1170.57 Q2231.78 1173.62 2223.06 1173.62 Q2214.31 1173.62 2209.72 1170.57 Q2205.12 1167.49 2205.12 1161.68 Z\" fill=\"#000000\" fill-rule=\"evenodd\" fill-opacity=\"1\" /><path clip-path=\"url(#clip550)\" d=\"M2234.42 1141.03 L2234.42 1136.15 L2240.3 1136.15 L2240.3 1141.03 L2234.42 1141.03 M2215.79 1141.03 L2215.79 1136.15 L2221.67 1136.15 L2221.67 1141.03 L2215.79 1141.03 Z\" fill=\"#000000\" fill-rule=\"evenodd\" fill-opacity=\"1\" /><path clip-path=\"url(#clip550)\" d=\"M2208.82 1115.55 Q2208.82 1119.16 2212.38 1120.99 Q2215.93 1122.79 2223.06 1122.79 Q2230.16 1122.79 2233.73 1120.99 Q2237.27 1119.16 2237.27 1115.55 Q2237.27 1111.91 2233.73 1110.11 Q2230.16 1108.28 2223.06 1108.28 Q2215.93 1108.28 2212.38 1110.11 Q2208.82 1111.91 2208.82 1115.55 M2205.12 1115.55 Q2205.12 1109.74 2209.72 1106.68 Q2214.31 1103.6 2223.06 1103.6 Q2231.78 1103.6 2236.39 1106.68 Q2240.97 1109.74 2240.97 1115.55 Q2240.97 1121.36 2236.39 1124.44 Q2231.78 1127.49 2223.06 1127.49 Q2214.31 1127.49 2209.72 1124.44 Q2205.12 1121.36 2205.12 1115.55 Z\" fill=\"#000000\" fill-rule=\"evenodd\" fill-opacity=\"1\" /><path clip-path=\"url(#clip550)\" d=\"M2208.82 1085.38 Q2208.82 1089 2212.38 1090.82 Q2215.93 1092.63 2223.06 1092.63 Q2230.16 1092.63 2233.73 1090.82 Q2237.27 1089 2237.27 1085.38 Q2237.27 1081.75 2233.73 1079.94 Q2230.16 1078.12 2223.06 1078.12 Q2215.93 1078.12 2212.38 1079.94 Q2208.82 1081.75 2208.82 1085.38 M2205.12 1085.38 Q2205.12 1079.57 2209.72 1076.52 Q2214.31 1073.44 2223.06 1073.44 Q2231.78 1073.44 2236.39 1076.52 Q2240.97 1079.57 2240.97 1085.38 Q2240.97 1091.19 2236.39 1094.27 Q2231.78 1097.33 2223.06 1097.33 Q2214.31 1097.33 2209.72 1094.27 Q2205.12 1091.19 2205.12 1085.38 Z\" fill=\"#000000\" fill-rule=\"evenodd\" fill-opacity=\"1\" /><path clip-path=\"url(#clip550)\" d=\"M2305.74 1578.58 L2305.74 1562.26 L2309.68 1562.26 L2309.68 1584.2 L2305.74 1584.2 Q2302.99 1581.54 2298.36 1576.96 Q2293.71 1572.35 2292.36 1571.17 Q2289.84 1568.92 2288.1 1568.04 Q2286.34 1567.14 2284.65 1567.14 Q2281.9 1567.14 2280.16 1569.09 Q2278.43 1571.01 2278.43 1574.11 Q2278.43 1576.31 2279.19 1578.76 Q2279.96 1581.19 2281.51 1583.97 L2276.78 1583.97 Q2275.65 1581.15 2275.07 1578.69 Q2274.49 1576.24 2274.49 1574.2 Q2274.49 1568.83 2277.18 1565.64 Q2279.86 1562.44 2284.35 1562.44 Q2286.48 1562.44 2288.4 1563.25 Q2290.3 1564.04 2292.9 1566.15 Q2293.57 1566.72 2296.78 1569.83 Q2299.98 1572.93 2305.74 1578.58 Z\" fill=\"#000000\" fill-rule=\"evenodd\" fill-opacity=\"1\" /><path clip-path=\"url(#clip550)\" d=\"M2278.2 1542.44 Q2278.2 1546.05 2281.76 1547.88 Q2285.3 1549.69 2292.43 1549.69 Q2299.54 1549.69 2303.1 1547.88 Q2306.65 1546.05 2306.65 1542.44 Q2306.65 1538.81 2303.1 1537 Q2299.54 1535.17 2292.43 1535.17 Q2285.3 1535.17 2281.76 1537 Q2278.2 1538.81 2278.2 1542.44 M2274.49 1542.44 Q2274.49 1536.63 2279.1 1533.58 Q2283.68 1530.5 2292.43 1530.5 Q2301.16 1530.5 2305.77 1533.58 Q2310.35 1536.63 2310.35 1542.44 Q2310.35 1548.25 2305.77 1551.33 Q2301.16 1554.39 2292.43 1554.39 Q2283.68 1554.39 2279.1 1551.33 Q2274.49 1548.25 2274.49 1542.44 Z\" fill=\"#000000\" fill-rule=\"evenodd\" fill-opacity=\"1\" /><path clip-path=\"url(#clip550)\" d=\"M2305.74 1518.25 L2305.74 1501.93 L2309.68 1501.93 L2309.68 1523.88 L2305.74 1523.88 Q2302.99 1521.22 2298.36 1516.63 Q2293.71 1512.03 2292.36 1510.85 Q2289.84 1508.6 2288.1 1507.72 Q2286.34 1506.82 2284.65 1506.82 Q2281.9 1506.82 2280.16 1508.76 Q2278.43 1510.68 2278.43 1513.79 Q2278.43 1515.98 2279.19 1518.44 Q2279.96 1520.87 2281.51 1523.65 L2276.78 1523.65 Q2275.65 1520.82 2275.07 1518.37 Q2274.49 1515.91 2274.49 1513.88 Q2274.49 1508.51 2277.18 1505.31 Q2279.86 1502.12 2284.35 1502.12 Q2286.48 1502.12 2288.4 1502.93 Q2290.3 1503.72 2292.9 1505.82 Q2293.57 1506.4 2296.78 1509.5 Q2299.98 1512.6 2305.74 1518.25 Z\" fill=\"#000000\" fill-rule=\"evenodd\" fill-opacity=\"1\" /><path clip-path=\"url(#clip550)\" d=\"M2305.74 1488.09 L2305.74 1471.77 L2309.68 1471.77 L2309.68 1493.72 L2305.74 1493.72 Q2302.99 1491.05 2298.36 1486.47 Q2293.71 1481.86 2292.36 1480.68 Q2289.84 1478.44 2288.1 1477.56 Q2286.34 1476.66 2284.65 1476.66 Q2281.9 1476.66 2280.16 1478.6 Q2278.43 1480.52 2278.43 1483.62 Q2278.43 1485.82 2279.19 1488.28 Q2279.96 1490.71 2281.51 1493.48 L2276.78 1493.48 Q2275.65 1490.66 2275.07 1488.21 Q2274.49 1485.75 2274.49 1483.72 Q2274.49 1478.35 2277.18 1475.15 Q2279.86 1471.96 2284.35 1471.96 Q2286.48 1471.96 2288.4 1472.77 Q2290.3 1473.55 2292.9 1475.66 Q2293.57 1476.24 2296.78 1479.34 Q2299.98 1482.44 2305.74 1488.09 Z\" fill=\"#000000\" fill-rule=\"evenodd\" fill-opacity=\"1\" /><path clip-path=\"url(#clip550)\" d=\"M2294.79 1464.71 L2294.79 1452.23 L2298.59 1452.23 L2298.59 1464.71 L2294.79 1464.71 Z\" fill=\"#000000\" fill-rule=\"evenodd\" fill-opacity=\"1\" /><path clip-path=\"url(#clip550)\" d=\"M2278.2 1434.85 Q2278.2 1438.46 2281.76 1440.29 Q2285.3 1442.1 2292.43 1442.1 Q2299.54 1442.1 2303.1 1440.29 Q2306.65 1438.46 2306.65 1434.85 Q2306.65 1431.22 2303.1 1429.41 Q2299.54 1427.58 2292.43 1427.58 Q2285.3 1427.58 2281.76 1429.41 Q2278.2 1431.22 2278.2 1434.85 M2274.49 1434.85 Q2274.49 1429.04 2279.1 1425.98 Q2283.68 1422.91 2292.43 1422.91 Q2301.16 1422.91 2305.77 1425.98 Q2310.35 1429.04 2310.35 1434.85 Q2310.35 1440.66 2305.77 1443.74 Q2301.16 1446.79 2292.43 1446.79 Q2283.68 1446.79 2279.1 1443.74 Q2274.49 1440.66 2274.49 1434.85 Z\" fill=\"#000000\" fill-rule=\"evenodd\" fill-opacity=\"1\" /><path clip-path=\"url(#clip550)\" d=\"M2308.96 1414.55 L2304.7 1414.55 Q2305.53 1412.79 2305.97 1410.98 Q2306.41 1409.18 2306.41 1407.44 Q2306.41 1402.81 2303.31 1400.38 Q2300.19 1397.93 2293.84 1397.58 Q2295.84 1398.92 2296.9 1400.98 Q2297.96 1403.04 2297.96 1405.54 Q2297.96 1410.73 2294.84 1413.76 Q2291.69 1416.77 2286.25 1416.77 Q2280.93 1416.77 2277.71 1413.62 Q2274.49 1410.48 2274.49 1405.24 Q2274.49 1399.25 2279.1 1396.1 Q2283.68 1392.93 2292.43 1392.93 Q2300.6 1392.93 2305.49 1396.82 Q2310.35 1400.68 2310.35 1407.23 Q2310.35 1408.99 2310 1410.8 Q2309.65 1412.61 2308.96 1414.55 M2294.31 1405.24 Q2294.31 1402.1 2292.15 1400.27 Q2290 1398.42 2286.25 1398.42 Q2282.53 1398.42 2280.37 1400.27 Q2278.2 1402.1 2278.2 1405.24 Q2278.2 1408.39 2280.37 1410.24 Q2282.53 1412.07 2286.25 1412.07 Q2290 1412.07 2292.15 1410.24 Q2294.31 1408.39 2294.31 1405.24 Z\" fill=\"#000000\" fill-rule=\"evenodd\" fill-opacity=\"1\" /><path clip-path=\"url(#clip550)\" d=\"M2294.79 1387.28 L2294.79 1374.8 L2298.59 1374.8 L2298.59 1387.28 L2294.79 1387.28 Z\" fill=\"#000000\" fill-rule=\"evenodd\" fill-opacity=\"1\" /><path clip-path=\"url(#clip550)\" d=\"M2291.04 1353.25 Q2291.76 1349.9 2294.03 1348.02 Q2296.3 1346.12 2299.63 1346.12 Q2304.75 1346.12 2307.55 1349.64 Q2310.35 1353.16 2310.35 1359.64 Q2310.35 1361.82 2309.91 1364.13 Q2309.49 1366.42 2308.64 1368.88 L2304.12 1368.88 Q2305.26 1366.93 2305.84 1364.62 Q2306.41 1362.3 2306.41 1359.78 Q2306.41 1355.38 2304.68 1353.09 Q2302.94 1350.78 2299.63 1350.78 Q2296.58 1350.78 2294.86 1352.93 Q2293.13 1355.06 2293.13 1358.88 L2293.13 1362.91 L2289.28 1362.91 L2289.28 1358.69 Q2289.28 1355.24 2287.92 1353.42 Q2286.53 1351.59 2283.94 1351.59 Q2281.28 1351.59 2279.86 1353.49 Q2278.43 1355.36 2278.43 1358.88 Q2278.43 1360.8 2278.84 1363 Q2279.26 1365.2 2280.14 1367.84 L2275.97 1367.84 Q2275.23 1365.17 2274.86 1362.86 Q2274.49 1360.52 2274.49 1358.46 Q2274.49 1353.14 2276.92 1350.04 Q2279.33 1346.93 2283.45 1346.93 Q2286.32 1346.93 2288.31 1348.58 Q2290.28 1350.22 2291.04 1353.25 Z\" fill=\"#000000\" fill-rule=\"evenodd\" fill-opacity=\"1\" /><path clip-path=\"url(#clip550)\" d=\"M2278.2 1327.26 Q2278.2 1330.87 2281.76 1332.7 Q2285.3 1334.5 2292.43 1334.5 Q2299.54 1334.5 2303.1 1332.7 Q2306.65 1330.87 2306.65 1327.26 Q2306.65 1323.62 2303.1 1321.82 Q2299.54 1319.99 2292.43 1319.99 Q2285.3 1319.99 2281.76 1321.82 Q2278.2 1323.62 2278.2 1327.26 M2274.49 1327.26 Q2274.49 1321.45 2279.1 1318.39 Q2283.68 1315.31 2292.43 1315.31 Q2301.16 1315.31 2305.77 1318.39 Q2310.35 1321.45 2310.35 1327.26 Q2310.35 1333.07 2305.77 1336.15 Q2301.16 1339.2 2292.43 1339.2 Q2283.68 1339.2 2279.1 1336.15 Q2274.49 1333.07 2274.49 1327.26 Z\" fill=\"#000000\" fill-rule=\"evenodd\" fill-opacity=\"1\" /><path clip-path=\"url(#clip550)\" d=\"M2275.12 1312.3 L2275.12 1283.07 L2279.05 1283.07 L2279.05 1295.34 L2309.68 1295.34 L2309.68 1300.04 L2279.05 1300.04 L2279.05 1312.3 L2275.12 1312.3 Z\" fill=\"#000000\" fill-rule=\"evenodd\" fill-opacity=\"1\" /><path clip-path=\"url(#clip550)\" d=\"M2278.2 1268.14 Q2278.2 1271.75 2281.76 1273.58 Q2285.3 1275.38 2292.43 1275.38 Q2299.54 1275.38 2303.1 1273.58 Q2306.65 1271.75 2306.65 1268.14 Q2306.65 1264.5 2303.1 1262.7 Q2299.54 1260.87 2292.43 1260.87 Q2285.3 1260.87 2281.76 1262.7 Q2278.2 1264.5 2278.2 1268.14 M2274.49 1268.14 Q2274.49 1262.33 2279.1 1259.27 Q2283.68 1256.19 2292.43 1256.19 Q2301.16 1256.19 2305.77 1259.27 Q2310.35 1262.33 2310.35 1268.14 Q2310.35 1273.95 2305.77 1277.03 Q2301.16 1280.08 2292.43 1280.08 Q2283.68 1280.08 2279.1 1277.03 Q2274.49 1273.95 2274.49 1268.14 Z\" fill=\"#000000\" fill-rule=\"evenodd\" fill-opacity=\"1\" /><path clip-path=\"url(#clip550)\" d=\"M2278.2 1237.98 Q2278.2 1241.59 2281.76 1243.42 Q2285.3 1245.22 2292.43 1245.22 Q2299.54 1245.22 2303.1 1243.42 Q2306.65 1241.59 2306.65 1237.98 Q2306.65 1234.34 2303.1 1232.54 Q2299.54 1230.71 2292.43 1230.71 Q2285.3 1230.71 2281.76 1232.54 Q2278.2 1234.34 2278.2 1237.98 M2274.49 1237.98 Q2274.49 1232.17 2279.1 1229.11 Q2283.68 1226.03 2292.43 1226.03 Q2301.16 1226.03 2305.77 1229.11 Q2310.35 1232.17 2310.35 1237.98 Q2310.35 1243.79 2305.77 1246.87 Q2301.16 1249.92 2292.43 1249.92 Q2283.68 1249.92 2279.1 1246.87 Q2274.49 1243.79 2274.49 1237.98 Z\" fill=\"#000000\" fill-rule=\"evenodd\" fill-opacity=\"1\" /><path clip-path=\"url(#clip550)\" d=\"M2303.8 1217.33 L2303.8 1212.44 L2309.68 1212.44 L2309.68 1217.33 L2303.8 1217.33 M2285.16 1217.33 L2285.16 1212.44 L2291.04 1212.44 L2291.04 1217.33 L2285.16 1217.33 Z\" fill=\"#000000\" fill-rule=\"evenodd\" fill-opacity=\"1\" /><path clip-path=\"url(#clip550)\" d=\"M2278.2 1191.84 Q2278.2 1195.45 2281.76 1197.28 Q2285.3 1199.09 2292.43 1199.09 Q2299.54 1199.09 2303.1 1197.28 Q2306.65 1195.45 2306.65 1191.84 Q2306.65 1188.21 2303.1 1186.4 Q2299.54 1184.57 2292.43 1184.57 Q2285.3 1184.57 2281.76 1186.4 Q2278.2 1188.21 2278.2 1191.84 M2274.49 1191.84 Q2274.49 1186.03 2279.1 1182.98 Q2283.68 1179.9 2292.43 1179.9 Q2301.16 1179.9 2305.77 1182.98 Q2310.35 1186.03 2310.35 1191.84 Q2310.35 1197.65 2305.77 1200.73 Q2301.16 1203.79 2292.43 1203.79 Q2283.68 1203.79 2279.1 1200.73 Q2274.49 1197.65 2274.49 1191.84 Z\" fill=\"#000000\" fill-rule=\"evenodd\" fill-opacity=\"1\" /><path clip-path=\"url(#clip550)\" d=\"M2278.2 1161.68 Q2278.2 1165.29 2281.76 1167.12 Q2285.3 1168.93 2292.43 1168.93 Q2299.54 1168.93 2303.1 1167.12 Q2306.65 1165.29 2306.65 1161.68 Q2306.65 1158.05 2303.1 1156.24 Q2299.54 1154.41 2292.43 1154.41 Q2285.3 1154.41 2281.76 1156.24 Q2278.2 1158.05 2278.2 1161.68 M2274.49 1161.68 Q2274.49 1155.87 2279.1 1152.81 Q2283.68 1149.74 2292.43 1149.74 Q2301.16 1149.74 2305.77 1152.81 Q2310.35 1155.87 2310.35 1161.68 Q2310.35 1167.49 2305.77 1170.57 Q2301.16 1173.62 2292.43 1173.62 Q2283.68 1173.62 2279.1 1170.57 Q2274.49 1167.49 2274.49 1161.68 Z\" fill=\"#000000\" fill-rule=\"evenodd\" fill-opacity=\"1\" /><path clip-path=\"url(#clip550)\" d=\"M2303.8 1141.03 L2303.8 1136.15 L2309.68 1136.15 L2309.68 1141.03 L2303.8 1141.03 M2285.16 1141.03 L2285.16 1136.15 L2291.04 1136.15 L2291.04 1141.03 L2285.16 1141.03 Z\" fill=\"#000000\" fill-rule=\"evenodd\" fill-opacity=\"1\" /><path clip-path=\"url(#clip550)\" d=\"M2278.2 1115.55 Q2278.2 1119.16 2281.76 1120.99 Q2285.3 1122.79 2292.43 1122.79 Q2299.54 1122.79 2303.1 1120.99 Q2306.65 1119.16 2306.65 1115.55 Q2306.65 1111.91 2303.1 1110.11 Q2299.54 1108.28 2292.43 1108.28 Q2285.3 1108.28 2281.76 1110.11 Q2278.2 1111.91 2278.2 1115.55 M2274.49 1115.55 Q2274.49 1109.74 2279.1 1106.68 Q2283.68 1103.6 2292.43 1103.6 Q2301.16 1103.6 2305.77 1106.68 Q2310.35 1109.74 2310.35 1115.55 Q2310.35 1121.36 2305.77 1124.44 Q2301.16 1127.49 2292.43 1127.49 Q2283.68 1127.49 2279.1 1124.44 Q2274.49 1121.36 2274.49 1115.55 Z\" fill=\"#000000\" fill-rule=\"evenodd\" fill-opacity=\"1\" /><path clip-path=\"url(#clip550)\" d=\"M2278.2 1085.38 Q2278.2 1089 2281.76 1090.82 Q2285.3 1092.63 2292.43 1092.63 Q2299.54 1092.63 2303.1 1090.82 Q2306.65 1089 2306.65 1085.38 Q2306.65 1081.75 2303.1 1079.94 Q2299.54 1078.12 2292.43 1078.12 Q2285.3 1078.12 2281.76 1079.94 Q2278.2 1081.75 2278.2 1085.38 M2274.49 1085.38 Q2274.49 1079.57 2279.1 1076.52 Q2283.68 1073.44 2292.43 1073.44 Q2301.16 1073.44 2305.77 1076.52 Q2310.35 1079.57 2310.35 1085.38 Q2310.35 1091.19 2305.77 1094.27 Q2301.16 1097.33 2292.43 1097.33 Q2283.68 1097.33 2279.1 1094.27 Q2274.49 1091.19 2274.49 1085.38 Z\" fill=\"#000000\" fill-rule=\"evenodd\" fill-opacity=\"1\" /><path clip-path=\"url(#clip550)\" d=\"M1202.77 1615.79 L1202.77 1652.74 L1210.53 1652.74 Q1220.37 1652.74 1224.92 1648.29 Q1229.5 1643.83 1229.5 1634.22 Q1229.5 1624.67 1224.92 1620.24 Q1220.37 1615.79 1210.53 1615.79 L1202.77 1615.79 M1196.34 1610.51 L1209.55 1610.51 Q1223.36 1610.51 1229.82 1616.27 Q1236.28 1622 1236.28 1634.22 Q1236.28 1646.5 1229.79 1652.26 Q1223.29 1658.03 1209.55 1658.03 L1196.34 1658.03 L1196.34 1610.51 Z\" fill=\"#000000\" fill-rule=\"evenodd\" fill-opacity=\"1\" /><path clip-path=\"url(#clip550)\" d=\"M1262.48 1640.11 Q1255.38 1640.11 1252.64 1641.73 Q1249.9 1643.35 1249.9 1647.27 Q1249.9 1650.39 1251.94 1652.23 Q1254.01 1654.05 1257.54 1654.05 Q1262.41 1654.05 1265.34 1650.61 Q1268.3 1647.14 1268.3 1641.41 L1268.3 1640.11 L1262.48 1640.11 M1274.16 1637.69 L1274.16 1658.03 L1268.3 1658.03 L1268.3 1652.61 Q1266.3 1655.86 1263.3 1657.42 Q1260.31 1658.95 1255.98 1658.95 Q1250.51 1658.95 1247.26 1655.89 Q1244.05 1652.81 1244.05 1647.65 Q1244.05 1641.63 1248.06 1638.58 Q1252.1 1635.52 1260.09 1635.52 L1268.3 1635.52 L1268.3 1634.95 Q1268.3 1630.91 1265.63 1628.71 Q1262.99 1626.48 1258.18 1626.48 Q1255.12 1626.48 1252.23 1627.22 Q1249.33 1627.95 1246.66 1629.41 L1246.66 1624 Q1249.87 1622.76 1252.9 1622.15 Q1255.92 1621.52 1258.78 1621.52 Q1266.52 1621.52 1270.34 1625.53 Q1274.16 1629.54 1274.16 1637.69 Z\" fill=\"#000000\" fill-rule=\"evenodd\" fill-opacity=\"1\" /><path clip-path=\"url(#clip550)\" d=\"M1292.01 1612.26 L1292.01 1622.38 L1304.08 1622.38 L1304.08 1626.93 L1292.01 1626.93 L1292.01 1646.28 Q1292.01 1650.64 1293.19 1651.88 Q1294.4 1653.12 1298.06 1653.12 L1304.08 1653.12 L1304.08 1658.03 L1298.06 1658.03 Q1291.28 1658.03 1288.7 1655.51 Q1286.12 1652.96 1286.12 1646.28 L1286.12 1626.93 L1281.83 1626.93 L1281.83 1622.38 L1286.12 1622.38 L1286.12 1612.26 L1292.01 1612.26 Z\" fill=\"#000000\" fill-rule=\"evenodd\" fill-opacity=\"1\" /><path clip-path=\"url(#clip550)\" d=\"M1342.27 1638.74 L1342.27 1641.6 L1315.34 1641.6 Q1315.72 1647.65 1318.97 1650.83 Q1322.25 1653.98 1328.07 1653.98 Q1331.45 1653.98 1334.6 1653.16 Q1337.78 1652.33 1340.9 1650.67 L1340.9 1656.21 Q1337.75 1657.55 1334.44 1658.25 Q1331.13 1658.95 1327.72 1658.95 Q1319.19 1658.95 1314.2 1653.98 Q1309.23 1649.02 1309.23 1640.55 Q1309.23 1631.8 1313.94 1626.67 Q1318.69 1621.52 1326.71 1621.52 Q1333.9 1621.52 1338.07 1626.17 Q1342.27 1630.78 1342.27 1638.74 M1336.41 1637.02 Q1336.35 1632.21 1333.71 1629.35 Q1331.1 1626.48 1326.77 1626.48 Q1321.87 1626.48 1318.91 1629.25 Q1315.98 1632.02 1315.53 1637.05 L1336.41 1637.02 Z\" fill=\"#000000\" fill-rule=\"evenodd\" fill-opacity=\"1\" /><path clip-path=\"url(#clip550)\" d=\"M1374.61 1623.43 L1374.61 1628.97 Q1372.13 1627.69 1369.45 1627.06 Q1366.78 1626.42 1363.91 1626.42 Q1359.55 1626.42 1357.36 1627.76 Q1355.19 1629.09 1355.19 1631.77 Q1355.19 1633.8 1356.75 1634.98 Q1358.31 1636.13 1363.02 1637.18 L1365.03 1637.62 Q1371.27 1638.96 1373.88 1641.41 Q1376.52 1643.83 1376.52 1648.19 Q1376.52 1653.16 1372.57 1656.05 Q1368.66 1658.95 1361.78 1658.95 Q1358.92 1658.95 1355.8 1658.38 Q1352.71 1657.83 1349.27 1656.72 L1349.27 1650.67 Q1352.52 1652.36 1355.67 1653.22 Q1358.82 1654.05 1361.91 1654.05 Q1366.05 1654.05 1368.27 1652.65 Q1370.5 1651.21 1370.5 1648.64 Q1370.5 1646.25 1368.88 1644.98 Q1367.29 1643.7 1361.84 1642.52 L1359.81 1642.05 Q1354.36 1640.9 1351.95 1638.55 Q1349.53 1636.16 1349.53 1632.02 Q1349.53 1626.99 1353.09 1624.26 Q1356.66 1621.52 1363.21 1621.52 Q1366.46 1621.52 1369.32 1622 Q1372.19 1622.47 1374.61 1623.43 Z\" fill=\"#000000\" fill-rule=\"evenodd\" fill-opacity=\"1\" /><polyline clip-path=\"url(#clip552)\" style=\"stroke:#000000; stroke-linecap:round; stroke-linejoin:round; stroke-width:2; stroke-opacity:0.1; fill:none\" points=\"220.098,877.533 2352.76,877.533 \"/>\n",
       "<polyline clip-path=\"url(#clip552)\" style=\"stroke:#000000; stroke-linecap:round; stroke-linejoin:round; stroke-width:2; stroke-opacity:0.1; fill:none\" points=\"220.098,681.121 2352.76,681.121 \"/>\n",
       "<polyline clip-path=\"url(#clip552)\" style=\"stroke:#000000; stroke-linecap:round; stroke-linejoin:round; stroke-width:2; stroke-opacity:0.1; fill:none\" points=\"220.098,484.709 2352.76,484.709 \"/>\n",
       "<polyline clip-path=\"url(#clip552)\" style=\"stroke:#000000; stroke-linecap:round; stroke-linejoin:round; stroke-width:2; stroke-opacity:0.1; fill:none\" points=\"220.098,288.298 2352.76,288.298 \"/>\n",
       "<polyline clip-path=\"url(#clip550)\" style=\"stroke:#000000; stroke-linecap:round; stroke-linejoin:round; stroke-width:4; stroke-opacity:1; fill:none\" points=\"220.098,1054.24 220.098,188.976 \"/>\n",
       "<polyline clip-path=\"url(#clip550)\" style=\"stroke:#000000; stroke-linecap:round; stroke-linejoin:round; stroke-width:4; stroke-opacity:1; fill:none\" points=\"220.098,877.533 238.995,877.533 \"/>\n",
       "<polyline clip-path=\"url(#clip550)\" style=\"stroke:#000000; stroke-linecap:round; stroke-linejoin:round; stroke-width:4; stroke-opacity:1; fill:none\" points=\"220.098,681.121 238.995,681.121 \"/>\n",
       "<polyline clip-path=\"url(#clip550)\" style=\"stroke:#000000; stroke-linecap:round; stroke-linejoin:round; stroke-width:4; stroke-opacity:1; fill:none\" points=\"220.098,484.709 238.995,484.709 \"/>\n",
       "<polyline clip-path=\"url(#clip550)\" style=\"stroke:#000000; stroke-linecap:round; stroke-linejoin:round; stroke-width:4; stroke-opacity:1; fill:none\" points=\"220.098,288.298 238.995,288.298 \"/>\n",
       "<path clip-path=\"url(#clip550)\" d=\"M130.672 864.327 L118.867 882.776 L130.672 882.776 L130.672 864.327 M129.445 860.253 L135.325 860.253 L135.325 882.776 L140.255 882.776 L140.255 886.665 L135.325 886.665 L135.325 894.813 L130.672 894.813 L130.672 886.665 L115.07 886.665 L115.07 882.151 L129.445 860.253 Z\" fill=\"#000000\" fill-rule=\"evenodd\" fill-opacity=\"1\" /><path clip-path=\"url(#clip550)\" d=\"M147.987 888.933 L152.871 888.933 L152.871 894.813 L147.987 894.813 L147.987 888.933 Z\" fill=\"#000000\" fill-rule=\"evenodd\" fill-opacity=\"1\" /><path clip-path=\"url(#clip550)\" d=\"M161.876 860.253 L184.098 860.253 L184.098 862.243 L171.552 894.813 L166.667 894.813 L178.473 864.188 L161.876 864.188 L161.876 860.253 Z\" fill=\"#000000\" fill-rule=\"evenodd\" fill-opacity=\"1\" /><path clip-path=\"url(#clip550)\" d=\"M129.862 667.915 L118.056 686.364 L129.862 686.364 L129.862 667.915 M128.635 663.841 L134.515 663.841 L134.515 686.364 L139.445 686.364 L139.445 690.253 L134.515 690.253 L134.515 698.401 L129.862 698.401 L129.862 690.253 L114.26 690.253 L114.26 685.739 L128.635 663.841 Z\" fill=\"#000000\" fill-rule=\"evenodd\" fill-opacity=\"1\" /><path clip-path=\"url(#clip550)\" d=\"M147.177 692.521 L152.061 692.521 L152.061 698.401 L147.177 698.401 L147.177 692.521 Z\" fill=\"#000000\" fill-rule=\"evenodd\" fill-opacity=\"1\" /><path clip-path=\"url(#clip550)\" d=\"M172.246 681.989 Q168.913 681.989 166.991 683.772 Q165.093 685.554 165.093 688.679 Q165.093 691.804 166.991 693.586 Q168.913 695.369 172.246 695.369 Q175.579 695.369 177.501 693.586 Q179.422 691.781 179.422 688.679 Q179.422 685.554 177.501 683.772 Q175.602 681.989 172.246 681.989 M167.57 679.998 Q164.561 679.258 162.871 677.197 Q161.204 675.137 161.204 672.174 Q161.204 668.031 164.144 665.623 Q167.107 663.216 172.246 663.216 Q177.408 663.216 180.348 665.623 Q183.288 668.031 183.288 672.174 Q183.288 675.137 181.598 677.197 Q179.931 679.258 176.945 679.998 Q180.325 680.785 182.2 683.077 Q184.098 685.369 184.098 688.679 Q184.098 693.702 181.019 696.387 Q177.964 699.072 172.246 699.072 Q166.528 699.072 163.45 696.387 Q160.394 693.702 160.394 688.679 Q160.394 685.369 162.292 683.077 Q164.19 680.785 167.57 679.998 M165.857 672.614 Q165.857 675.299 167.524 676.804 Q169.214 678.309 172.246 678.309 Q175.255 678.309 176.945 676.804 Q178.658 675.299 178.658 672.614 Q178.658 669.929 176.945 668.424 Q175.255 666.92 172.246 666.92 Q169.214 666.92 167.524 668.424 Q165.857 669.929 165.857 672.614 Z\" fill=\"#000000\" fill-rule=\"evenodd\" fill-opacity=\"1\" /><path clip-path=\"url(#clip550)\" d=\"M129.955 471.503 L118.149 489.952 L129.955 489.952 L129.955 471.503 M128.728 467.429 L134.607 467.429 L134.607 489.952 L139.538 489.952 L139.538 493.841 L134.607 493.841 L134.607 501.989 L129.955 501.989 L129.955 493.841 L114.353 493.841 L114.353 489.327 L128.728 467.429 Z\" fill=\"#000000\" fill-rule=\"evenodd\" fill-opacity=\"1\" /><path clip-path=\"url(#clip550)\" d=\"M147.269 496.11 L152.153 496.11 L152.153 501.989 L147.269 501.989 L147.269 496.11 Z\" fill=\"#000000\" fill-rule=\"evenodd\" fill-opacity=\"1\" /><path clip-path=\"url(#clip550)\" d=\"M162.477 501.272 L162.477 497.013 Q164.237 497.846 166.042 498.286 Q167.848 498.726 169.584 498.726 Q174.214 498.726 176.644 495.624 Q179.098 492.499 179.445 486.156 Q178.102 488.147 176.042 489.212 Q173.982 490.277 171.482 490.277 Q166.297 490.277 163.265 487.152 Q160.255 484.003 160.255 478.564 Q160.255 473.24 163.403 470.022 Q166.552 466.804 171.783 466.804 Q177.778 466.804 180.926 471.411 Q184.098 475.994 184.098 484.744 Q184.098 492.915 180.209 497.8 Q176.343 502.661 169.792 502.661 Q168.033 502.661 166.227 502.314 Q164.422 501.966 162.477 501.272 M171.783 486.619 Q174.931 486.619 176.76 484.466 Q178.612 482.314 178.612 478.564 Q178.612 474.837 176.76 472.684 Q174.931 470.508 171.783 470.508 Q168.635 470.508 166.783 472.684 Q164.954 474.837 164.954 478.564 Q164.954 482.314 166.783 484.466 Q168.635 486.619 171.783 486.619 Z\" fill=\"#000000\" fill-rule=\"evenodd\" fill-opacity=\"1\" /><path clip-path=\"url(#clip550)\" d=\"M116.968 271.018 L135.325 271.018 L135.325 274.953 L121.251 274.953 L121.251 283.425 Q122.269 283.078 123.288 282.916 Q124.306 282.731 125.325 282.731 Q131.112 282.731 134.492 285.902 Q137.871 289.073 137.871 294.49 Q137.871 300.069 134.399 303.17 Q130.927 306.249 124.607 306.249 Q122.431 306.249 120.163 305.879 Q117.918 305.508 115.51 304.768 L115.51 300.069 Q117.593 301.203 119.816 301.758 Q122.038 302.314 124.515 302.314 Q128.519 302.314 130.857 300.207 Q133.195 298.101 133.195 294.49 Q133.195 290.879 130.857 288.772 Q128.519 286.666 124.515 286.666 Q122.64 286.666 120.765 287.083 Q118.913 287.499 116.968 288.379 L116.968 271.018 Z\" fill=\"#000000\" fill-rule=\"evenodd\" fill-opacity=\"1\" /><path clip-path=\"url(#clip550)\" d=\"M147.084 299.698 L151.968 299.698 L151.968 305.578 L147.084 305.578 L147.084 299.698 Z\" fill=\"#000000\" fill-rule=\"evenodd\" fill-opacity=\"1\" /><path clip-path=\"url(#clip550)\" d=\"M172.153 274.096 Q168.542 274.096 166.714 277.661 Q164.908 281.203 164.908 288.333 Q164.908 295.439 166.714 299.004 Q168.542 302.545 172.153 302.545 Q175.788 302.545 177.593 299.004 Q179.422 295.439 179.422 288.333 Q179.422 281.203 177.593 277.661 Q175.788 274.096 172.153 274.096 M172.153 270.393 Q177.964 270.393 181.019 274.999 Q184.098 279.583 184.098 288.333 Q184.098 297.059 181.019 301.666 Q177.964 306.249 172.153 306.249 Q166.343 306.249 163.265 301.666 Q160.209 297.059 160.209 288.333 Q160.209 279.583 163.265 274.999 Q166.343 270.393 172.153 270.393 Z\" fill=\"#000000\" fill-rule=\"evenodd\" fill-opacity=\"1\" /><path clip-path=\"url(#clip550)\" d=\"M21.7677 752.869 L39.6235 752.869 L39.6235 744.785 Q39.6235 740.297 37.3 737.846 Q34.9765 735.395 30.6797 735.395 Q26.4147 735.395 24.0912 737.846 Q21.7677 740.297 21.7677 744.785 L21.7677 752.869 M16.4842 759.299 L16.4842 744.785 Q16.4842 736.796 20.1126 732.722 Q23.7092 728.616 30.6797 728.616 Q37.7138 728.616 41.3104 732.722 Q44.907 736.796 44.907 744.785 L44.907 752.869 L64.0042 752.869 L64.0042 759.299 L16.4842 759.299 Z\" fill=\"#000000\" fill-rule=\"evenodd\" fill-opacity=\"1\" /><path clip-path=\"url(#clip550)\" d=\"M16.4842 719.99 L16.4842 713.561 L58.5933 713.561 L58.5933 690.422 L64.0042 690.422 L64.0042 719.99 L16.4842 719.99 Z\" fill=\"#000000\" fill-rule=\"evenodd\" fill-opacity=\"1\" /><path clip-path=\"url(#clip550)\" d=\"M16.4842 683.674 L16.4842 675.017 L56.238 653.946 L16.4842 653.946 L16.4842 647.708 L64.0042 647.708 L64.0042 656.365 L24.2503 677.436 L64.0042 677.436 L64.0042 683.674 L16.4842 683.674 Z\" fill=\"#000000\" fill-rule=\"evenodd\" fill-opacity=\"1\" /><path clip-path=\"url(#clip550)\" d=\"M16.4842 624.759 L16.4842 619.349 L70.0516 635.899 L70.0516 641.31 L16.4842 624.759 Z\" fill=\"#000000\" fill-rule=\"evenodd\" fill-opacity=\"1\" /><path clip-path=\"url(#clip550)\" d=\"M16.4842 613.683 L16.4842 607.222 L45.3526 607.222 Q52.9915 607.222 56.3653 604.453 Q59.7073 601.684 59.7073 595.477 Q59.7073 589.302 56.3653 586.533 Q52.9915 583.764 45.3526 583.764 L16.4842 583.764 L16.4842 577.303 L46.1484 577.303 Q55.4423 577.303 60.1847 581.918 Q64.9272 586.501 64.9272 595.477 Q64.9272 604.485 60.1847 609.1 Q55.4423 613.683 46.1484 613.683 L16.4842 613.683 Z\" fill=\"#000000\" fill-rule=\"evenodd\" fill-opacity=\"1\" /><path clip-path=\"url(#clip550)\" d=\"M18.0438 536.753 L24.314 536.753 Q22.5634 540.414 21.704 543.66 Q20.8447 546.907 20.8447 549.93 Q20.8447 555.182 22.8817 558.047 Q24.9187 560.879 28.6745 560.879 Q31.8255 560.879 33.4488 559.002 Q35.0402 557.092 36.0269 551.808 L36.8226 547.925 Q38.1912 540.732 41.6605 537.326 Q45.098 533.889 50.8908 533.889 Q57.7976 533.889 61.3624 538.536 Q64.9272 543.151 64.9272 552.095 Q64.9272 555.469 64.1633 559.288 Q63.3994 563.076 61.9035 567.15 L55.2831 567.15 Q57.4793 563.235 58.5933 559.479 Q59.7073 555.723 59.7073 552.095 Q59.7073 546.588 57.543 543.597 Q55.3786 540.605 51.3682 540.605 Q47.8671 540.605 45.8937 542.769 Q43.9204 544.902 42.9337 549.803 L42.1698 553.718 Q40.7375 560.911 37.682 564.126 Q34.6264 567.341 29.1837 567.341 Q22.8817 567.341 19.2532 562.917 Q15.6248 558.461 15.6248 550.663 Q15.6248 547.321 16.2295 543.851 Q16.8343 540.382 18.0438 536.753 Z\" fill=\"#000000\" fill-rule=\"evenodd\" fill-opacity=\"1\" /><path clip-path=\"url(#clip550)\" d=\"M21.7677 517.434 L58.7206 517.434 L58.7206 509.667 Q58.7206 499.832 54.2646 495.281 Q49.8086 490.698 40.1964 490.698 Q30.6479 490.698 26.2237 495.281 Q21.7677 499.832 21.7677 509.667 L21.7677 517.434 M16.4842 523.863 L16.4842 510.654 Q16.4842 496.84 22.2451 490.379 Q27.9743 483.918 40.1964 483.918 Q52.4822 483.918 58.2432 490.411 Q64.0042 496.904 64.0042 510.654 L64.0042 523.863 L16.4842 523.863 Z\" fill=\"#000000\" fill-rule=\"evenodd\" fill-opacity=\"1\" /><polyline clip-path=\"url(#clip552)\" style=\"stroke:#009af9; stroke-linecap:round; stroke-linejoin:round; stroke-width:4; stroke-opacity:1; fill:none\" points=\"280.456,885.586 349.833,823.323 557.965,742.009 627.342,805.45 696.72,762.828 766.097,824.894 835.474,956.294 1043.61,1029.75 1112.98,1002.65 1182.36,831.769 1251.74,837.858 1321.12,802.111 1529.25,827.448 1598.62,854.356 1668,697.03 1737.38,613.752 1806.76,524.777 2014.89,462.515 2084.27,391.217 2153.64,213.465 2223.02,223.875 2292.4,380.022 \"/>\n",
       "<line clip-path=\"url(#clip552)\" x1=\"280.456\" y1=\"885.586\" x2=\"264.456\" y2=\"869.586\" style=\"stroke:#009af9; stroke-width:3.2; stroke-opacity:1\"/>\n",
       "<line clip-path=\"url(#clip552)\" x1=\"280.456\" y1=\"885.586\" x2=\"264.456\" y2=\"901.586\" style=\"stroke:#009af9; stroke-width:3.2; stroke-opacity:1\"/>\n",
       "<line clip-path=\"url(#clip552)\" x1=\"280.456\" y1=\"885.586\" x2=\"296.456\" y2=\"901.586\" style=\"stroke:#009af9; stroke-width:3.2; stroke-opacity:1\"/>\n",
       "<line clip-path=\"url(#clip552)\" x1=\"280.456\" y1=\"885.586\" x2=\"296.456\" y2=\"869.586\" style=\"stroke:#009af9; stroke-width:3.2; stroke-opacity:1\"/>\n",
       "<line clip-path=\"url(#clip552)\" x1=\"349.833\" y1=\"823.323\" x2=\"333.833\" y2=\"807.323\" style=\"stroke:#009af9; stroke-width:3.2; stroke-opacity:1\"/>\n",
       "<line clip-path=\"url(#clip552)\" x1=\"349.833\" y1=\"823.323\" x2=\"333.833\" y2=\"839.323\" style=\"stroke:#009af9; stroke-width:3.2; stroke-opacity:1\"/>\n",
       "<line clip-path=\"url(#clip552)\" x1=\"349.833\" y1=\"823.323\" x2=\"365.833\" y2=\"839.323\" style=\"stroke:#009af9; stroke-width:3.2; stroke-opacity:1\"/>\n",
       "<line clip-path=\"url(#clip552)\" x1=\"349.833\" y1=\"823.323\" x2=\"365.833\" y2=\"807.323\" style=\"stroke:#009af9; stroke-width:3.2; stroke-opacity:1\"/>\n",
       "<line clip-path=\"url(#clip552)\" x1=\"557.965\" y1=\"742.009\" x2=\"541.965\" y2=\"726.009\" style=\"stroke:#009af9; stroke-width:3.2; stroke-opacity:1\"/>\n",
       "<line clip-path=\"url(#clip552)\" x1=\"557.965\" y1=\"742.009\" x2=\"541.965\" y2=\"758.009\" style=\"stroke:#009af9; stroke-width:3.2; stroke-opacity:1\"/>\n",
       "<line clip-path=\"url(#clip552)\" x1=\"557.965\" y1=\"742.009\" x2=\"573.965\" y2=\"758.009\" style=\"stroke:#009af9; stroke-width:3.2; stroke-opacity:1\"/>\n",
       "<line clip-path=\"url(#clip552)\" x1=\"557.965\" y1=\"742.009\" x2=\"573.965\" y2=\"726.009\" style=\"stroke:#009af9; stroke-width:3.2; stroke-opacity:1\"/>\n",
       "<line clip-path=\"url(#clip552)\" x1=\"627.342\" y1=\"805.45\" x2=\"611.342\" y2=\"789.45\" style=\"stroke:#009af9; stroke-width:3.2; stroke-opacity:1\"/>\n",
       "<line clip-path=\"url(#clip552)\" x1=\"627.342\" y1=\"805.45\" x2=\"611.342\" y2=\"821.45\" style=\"stroke:#009af9; stroke-width:3.2; stroke-opacity:1\"/>\n",
       "<line clip-path=\"url(#clip552)\" x1=\"627.342\" y1=\"805.45\" x2=\"643.342\" y2=\"821.45\" style=\"stroke:#009af9; stroke-width:3.2; stroke-opacity:1\"/>\n",
       "<line clip-path=\"url(#clip552)\" x1=\"627.342\" y1=\"805.45\" x2=\"643.342\" y2=\"789.45\" style=\"stroke:#009af9; stroke-width:3.2; stroke-opacity:1\"/>\n",
       "<line clip-path=\"url(#clip552)\" x1=\"696.72\" y1=\"762.828\" x2=\"680.72\" y2=\"746.828\" style=\"stroke:#009af9; stroke-width:3.2; stroke-opacity:1\"/>\n",
       "<line clip-path=\"url(#clip552)\" x1=\"696.72\" y1=\"762.828\" x2=\"680.72\" y2=\"778.828\" style=\"stroke:#009af9; stroke-width:3.2; stroke-opacity:1\"/>\n",
       "<line clip-path=\"url(#clip552)\" x1=\"696.72\" y1=\"762.828\" x2=\"712.72\" y2=\"778.828\" style=\"stroke:#009af9; stroke-width:3.2; stroke-opacity:1\"/>\n",
       "<line clip-path=\"url(#clip552)\" x1=\"696.72\" y1=\"762.828\" x2=\"712.72\" y2=\"746.828\" style=\"stroke:#009af9; stroke-width:3.2; stroke-opacity:1\"/>\n",
       "<line clip-path=\"url(#clip552)\" x1=\"766.097\" y1=\"824.894\" x2=\"750.097\" y2=\"808.894\" style=\"stroke:#009af9; stroke-width:3.2; stroke-opacity:1\"/>\n",
       "<line clip-path=\"url(#clip552)\" x1=\"766.097\" y1=\"824.894\" x2=\"750.097\" y2=\"840.894\" style=\"stroke:#009af9; stroke-width:3.2; stroke-opacity:1\"/>\n",
       "<line clip-path=\"url(#clip552)\" x1=\"766.097\" y1=\"824.894\" x2=\"782.097\" y2=\"840.894\" style=\"stroke:#009af9; stroke-width:3.2; stroke-opacity:1\"/>\n",
       "<line clip-path=\"url(#clip552)\" x1=\"766.097\" y1=\"824.894\" x2=\"782.097\" y2=\"808.894\" style=\"stroke:#009af9; stroke-width:3.2; stroke-opacity:1\"/>\n",
       "<line clip-path=\"url(#clip552)\" x1=\"835.474\" y1=\"956.294\" x2=\"819.474\" y2=\"940.294\" style=\"stroke:#009af9; stroke-width:3.2; stroke-opacity:1\"/>\n",
       "<line clip-path=\"url(#clip552)\" x1=\"835.474\" y1=\"956.294\" x2=\"819.474\" y2=\"972.294\" style=\"stroke:#009af9; stroke-width:3.2; stroke-opacity:1\"/>\n",
       "<line clip-path=\"url(#clip552)\" x1=\"835.474\" y1=\"956.294\" x2=\"851.474\" y2=\"972.294\" style=\"stroke:#009af9; stroke-width:3.2; stroke-opacity:1\"/>\n",
       "<line clip-path=\"url(#clip552)\" x1=\"835.474\" y1=\"956.294\" x2=\"851.474\" y2=\"940.294\" style=\"stroke:#009af9; stroke-width:3.2; stroke-opacity:1\"/>\n",
       "<line clip-path=\"url(#clip552)\" x1=\"1043.61\" y1=\"1029.75\" x2=\"1027.61\" y2=\"1013.75\" style=\"stroke:#009af9; stroke-width:3.2; stroke-opacity:1\"/>\n",
       "<line clip-path=\"url(#clip552)\" x1=\"1043.61\" y1=\"1029.75\" x2=\"1027.61\" y2=\"1045.75\" style=\"stroke:#009af9; stroke-width:3.2; stroke-opacity:1\"/>\n",
       "<line clip-path=\"url(#clip552)\" x1=\"1043.61\" y1=\"1029.75\" x2=\"1059.61\" y2=\"1045.75\" style=\"stroke:#009af9; stroke-width:3.2; stroke-opacity:1\"/>\n",
       "<line clip-path=\"url(#clip552)\" x1=\"1043.61\" y1=\"1029.75\" x2=\"1059.61\" y2=\"1013.75\" style=\"stroke:#009af9; stroke-width:3.2; stroke-opacity:1\"/>\n",
       "<line clip-path=\"url(#clip552)\" x1=\"1112.98\" y1=\"1002.65\" x2=\"1096.98\" y2=\"986.647\" style=\"stroke:#009af9; stroke-width:3.2; stroke-opacity:1\"/>\n",
       "<line clip-path=\"url(#clip552)\" x1=\"1112.98\" y1=\"1002.65\" x2=\"1096.98\" y2=\"1018.65\" style=\"stroke:#009af9; stroke-width:3.2; stroke-opacity:1\"/>\n",
       "<line clip-path=\"url(#clip552)\" x1=\"1112.98\" y1=\"1002.65\" x2=\"1128.98\" y2=\"1018.65\" style=\"stroke:#009af9; stroke-width:3.2; stroke-opacity:1\"/>\n",
       "<line clip-path=\"url(#clip552)\" x1=\"1112.98\" y1=\"1002.65\" x2=\"1128.98\" y2=\"986.647\" style=\"stroke:#009af9; stroke-width:3.2; stroke-opacity:1\"/>\n",
       "<line clip-path=\"url(#clip552)\" x1=\"1182.36\" y1=\"831.769\" x2=\"1166.36\" y2=\"815.769\" style=\"stroke:#009af9; stroke-width:3.2; stroke-opacity:1\"/>\n",
       "<line clip-path=\"url(#clip552)\" x1=\"1182.36\" y1=\"831.769\" x2=\"1166.36\" y2=\"847.769\" style=\"stroke:#009af9; stroke-width:3.2; stroke-opacity:1\"/>\n",
       "<line clip-path=\"url(#clip552)\" x1=\"1182.36\" y1=\"831.769\" x2=\"1198.36\" y2=\"847.769\" style=\"stroke:#009af9; stroke-width:3.2; stroke-opacity:1\"/>\n",
       "<line clip-path=\"url(#clip552)\" x1=\"1182.36\" y1=\"831.769\" x2=\"1198.36\" y2=\"815.769\" style=\"stroke:#009af9; stroke-width:3.2; stroke-opacity:1\"/>\n",
       "<line clip-path=\"url(#clip552)\" x1=\"1251.74\" y1=\"837.858\" x2=\"1235.74\" y2=\"821.858\" style=\"stroke:#009af9; stroke-width:3.2; stroke-opacity:1\"/>\n",
       "<line clip-path=\"url(#clip552)\" x1=\"1251.74\" y1=\"837.858\" x2=\"1235.74\" y2=\"853.858\" style=\"stroke:#009af9; stroke-width:3.2; stroke-opacity:1\"/>\n",
       "<line clip-path=\"url(#clip552)\" x1=\"1251.74\" y1=\"837.858\" x2=\"1267.74\" y2=\"853.858\" style=\"stroke:#009af9; stroke-width:3.2; stroke-opacity:1\"/>\n",
       "<line clip-path=\"url(#clip552)\" x1=\"1251.74\" y1=\"837.858\" x2=\"1267.74\" y2=\"821.858\" style=\"stroke:#009af9; stroke-width:3.2; stroke-opacity:1\"/>\n",
       "<line clip-path=\"url(#clip552)\" x1=\"1321.12\" y1=\"802.111\" x2=\"1305.12\" y2=\"786.111\" style=\"stroke:#009af9; stroke-width:3.2; stroke-opacity:1\"/>\n",
       "<line clip-path=\"url(#clip552)\" x1=\"1321.12\" y1=\"802.111\" x2=\"1305.12\" y2=\"818.111\" style=\"stroke:#009af9; stroke-width:3.2; stroke-opacity:1\"/>\n",
       "<line clip-path=\"url(#clip552)\" x1=\"1321.12\" y1=\"802.111\" x2=\"1337.12\" y2=\"818.111\" style=\"stroke:#009af9; stroke-width:3.2; stroke-opacity:1\"/>\n",
       "<line clip-path=\"url(#clip552)\" x1=\"1321.12\" y1=\"802.111\" x2=\"1337.12\" y2=\"786.111\" style=\"stroke:#009af9; stroke-width:3.2; stroke-opacity:1\"/>\n",
       "<line clip-path=\"url(#clip552)\" x1=\"1529.25\" y1=\"827.448\" x2=\"1513.25\" y2=\"811.448\" style=\"stroke:#009af9; stroke-width:3.2; stroke-opacity:1\"/>\n",
       "<line clip-path=\"url(#clip552)\" x1=\"1529.25\" y1=\"827.448\" x2=\"1513.25\" y2=\"843.448\" style=\"stroke:#009af9; stroke-width:3.2; stroke-opacity:1\"/>\n",
       "<line clip-path=\"url(#clip552)\" x1=\"1529.25\" y1=\"827.448\" x2=\"1545.25\" y2=\"843.448\" style=\"stroke:#009af9; stroke-width:3.2; stroke-opacity:1\"/>\n",
       "<line clip-path=\"url(#clip552)\" x1=\"1529.25\" y1=\"827.448\" x2=\"1545.25\" y2=\"811.448\" style=\"stroke:#009af9; stroke-width:3.2; stroke-opacity:1\"/>\n",
       "<line clip-path=\"url(#clip552)\" x1=\"1598.62\" y1=\"854.356\" x2=\"1582.62\" y2=\"838.356\" style=\"stroke:#009af9; stroke-width:3.2; stroke-opacity:1\"/>\n",
       "<line clip-path=\"url(#clip552)\" x1=\"1598.62\" y1=\"854.356\" x2=\"1582.62\" y2=\"870.356\" style=\"stroke:#009af9; stroke-width:3.2; stroke-opacity:1\"/>\n",
       "<line clip-path=\"url(#clip552)\" x1=\"1598.62\" y1=\"854.356\" x2=\"1614.62\" y2=\"870.356\" style=\"stroke:#009af9; stroke-width:3.2; stroke-opacity:1\"/>\n",
       "<line clip-path=\"url(#clip552)\" x1=\"1598.62\" y1=\"854.356\" x2=\"1614.62\" y2=\"838.356\" style=\"stroke:#009af9; stroke-width:3.2; stroke-opacity:1\"/>\n",
       "<line clip-path=\"url(#clip552)\" x1=\"1668\" y1=\"697.03\" x2=\"1652\" y2=\"681.03\" style=\"stroke:#009af9; stroke-width:3.2; stroke-opacity:1\"/>\n",
       "<line clip-path=\"url(#clip552)\" x1=\"1668\" y1=\"697.03\" x2=\"1652\" y2=\"713.03\" style=\"stroke:#009af9; stroke-width:3.2; stroke-opacity:1\"/>\n",
       "<line clip-path=\"url(#clip552)\" x1=\"1668\" y1=\"697.03\" x2=\"1684\" y2=\"713.03\" style=\"stroke:#009af9; stroke-width:3.2; stroke-opacity:1\"/>\n",
       "<line clip-path=\"url(#clip552)\" x1=\"1668\" y1=\"697.03\" x2=\"1684\" y2=\"681.03\" style=\"stroke:#009af9; stroke-width:3.2; stroke-opacity:1\"/>\n",
       "<line clip-path=\"url(#clip552)\" x1=\"1737.38\" y1=\"613.752\" x2=\"1721.38\" y2=\"597.752\" style=\"stroke:#009af9; stroke-width:3.2; stroke-opacity:1\"/>\n",
       "<line clip-path=\"url(#clip552)\" x1=\"1737.38\" y1=\"613.752\" x2=\"1721.38\" y2=\"629.752\" style=\"stroke:#009af9; stroke-width:3.2; stroke-opacity:1\"/>\n",
       "<line clip-path=\"url(#clip552)\" x1=\"1737.38\" y1=\"613.752\" x2=\"1753.38\" y2=\"629.752\" style=\"stroke:#009af9; stroke-width:3.2; stroke-opacity:1\"/>\n",
       "<line clip-path=\"url(#clip552)\" x1=\"1737.38\" y1=\"613.752\" x2=\"1753.38\" y2=\"597.752\" style=\"stroke:#009af9; stroke-width:3.2; stroke-opacity:1\"/>\n",
       "<line clip-path=\"url(#clip552)\" x1=\"1806.76\" y1=\"524.777\" x2=\"1790.76\" y2=\"508.777\" style=\"stroke:#009af9; stroke-width:3.2; stroke-opacity:1\"/>\n",
       "<line clip-path=\"url(#clip552)\" x1=\"1806.76\" y1=\"524.777\" x2=\"1790.76\" y2=\"540.777\" style=\"stroke:#009af9; stroke-width:3.2; stroke-opacity:1\"/>\n",
       "<line clip-path=\"url(#clip552)\" x1=\"1806.76\" y1=\"524.777\" x2=\"1822.76\" y2=\"540.777\" style=\"stroke:#009af9; stroke-width:3.2; stroke-opacity:1\"/>\n",
       "<line clip-path=\"url(#clip552)\" x1=\"1806.76\" y1=\"524.777\" x2=\"1822.76\" y2=\"508.777\" style=\"stroke:#009af9; stroke-width:3.2; stroke-opacity:1\"/>\n",
       "<line clip-path=\"url(#clip552)\" x1=\"2014.89\" y1=\"462.515\" x2=\"1998.89\" y2=\"446.515\" style=\"stroke:#009af9; stroke-width:3.2; stroke-opacity:1\"/>\n",
       "<line clip-path=\"url(#clip552)\" x1=\"2014.89\" y1=\"462.515\" x2=\"1998.89\" y2=\"478.515\" style=\"stroke:#009af9; stroke-width:3.2; stroke-opacity:1\"/>\n",
       "<line clip-path=\"url(#clip552)\" x1=\"2014.89\" y1=\"462.515\" x2=\"2030.89\" y2=\"478.515\" style=\"stroke:#009af9; stroke-width:3.2; stroke-opacity:1\"/>\n",
       "<line clip-path=\"url(#clip552)\" x1=\"2014.89\" y1=\"462.515\" x2=\"2030.89\" y2=\"446.515\" style=\"stroke:#009af9; stroke-width:3.2; stroke-opacity:1\"/>\n",
       "<line clip-path=\"url(#clip552)\" x1=\"2084.27\" y1=\"391.217\" x2=\"2068.27\" y2=\"375.217\" style=\"stroke:#009af9; stroke-width:3.2; stroke-opacity:1\"/>\n",
       "<line clip-path=\"url(#clip552)\" x1=\"2084.27\" y1=\"391.217\" x2=\"2068.27\" y2=\"407.217\" style=\"stroke:#009af9; stroke-width:3.2; stroke-opacity:1\"/>\n",
       "<line clip-path=\"url(#clip552)\" x1=\"2084.27\" y1=\"391.217\" x2=\"2100.27\" y2=\"407.217\" style=\"stroke:#009af9; stroke-width:3.2; stroke-opacity:1\"/>\n",
       "<line clip-path=\"url(#clip552)\" x1=\"2084.27\" y1=\"391.217\" x2=\"2100.27\" y2=\"375.217\" style=\"stroke:#009af9; stroke-width:3.2; stroke-opacity:1\"/>\n",
       "<line clip-path=\"url(#clip552)\" x1=\"2153.64\" y1=\"213.465\" x2=\"2137.64\" y2=\"197.465\" style=\"stroke:#009af9; stroke-width:3.2; stroke-opacity:1\"/>\n",
       "<line clip-path=\"url(#clip552)\" x1=\"2153.64\" y1=\"213.465\" x2=\"2137.64\" y2=\"229.465\" style=\"stroke:#009af9; stroke-width:3.2; stroke-opacity:1\"/>\n",
       "<line clip-path=\"url(#clip552)\" x1=\"2153.64\" y1=\"213.465\" x2=\"2169.64\" y2=\"229.465\" style=\"stroke:#009af9; stroke-width:3.2; stroke-opacity:1\"/>\n",
       "<line clip-path=\"url(#clip552)\" x1=\"2153.64\" y1=\"213.465\" x2=\"2169.64\" y2=\"197.465\" style=\"stroke:#009af9; stroke-width:3.2; stroke-opacity:1\"/>\n",
       "<line clip-path=\"url(#clip552)\" x1=\"2223.02\" y1=\"223.875\" x2=\"2207.02\" y2=\"207.875\" style=\"stroke:#009af9; stroke-width:3.2; stroke-opacity:1\"/>\n",
       "<line clip-path=\"url(#clip552)\" x1=\"2223.02\" y1=\"223.875\" x2=\"2207.02\" y2=\"239.875\" style=\"stroke:#009af9; stroke-width:3.2; stroke-opacity:1\"/>\n",
       "<line clip-path=\"url(#clip552)\" x1=\"2223.02\" y1=\"223.875\" x2=\"2239.02\" y2=\"239.875\" style=\"stroke:#009af9; stroke-width:3.2; stroke-opacity:1\"/>\n",
       "<line clip-path=\"url(#clip552)\" x1=\"2223.02\" y1=\"223.875\" x2=\"2239.02\" y2=\"207.875\" style=\"stroke:#009af9; stroke-width:3.2; stroke-opacity:1\"/>\n",
       "<line clip-path=\"url(#clip552)\" x1=\"2292.4\" y1=\"380.022\" x2=\"2276.4\" y2=\"364.022\" style=\"stroke:#009af9; stroke-width:3.2; stroke-opacity:1\"/>\n",
       "<line clip-path=\"url(#clip552)\" x1=\"2292.4\" y1=\"380.022\" x2=\"2276.4\" y2=\"396.022\" style=\"stroke:#009af9; stroke-width:3.2; stroke-opacity:1\"/>\n",
       "<line clip-path=\"url(#clip552)\" x1=\"2292.4\" y1=\"380.022\" x2=\"2308.4\" y2=\"396.022\" style=\"stroke:#009af9; stroke-width:3.2; stroke-opacity:1\"/>\n",
       "<line clip-path=\"url(#clip552)\" x1=\"2292.4\" y1=\"380.022\" x2=\"2308.4\" y2=\"364.022\" style=\"stroke:#009af9; stroke-width:3.2; stroke-opacity:1\"/>\n",
       "</svg>\n"
      ]
     },
     "execution_count": 88,
     "metadata": {},
     "output_type": "execute_result"
    }
   ],
   "source": [
    "plot(dates[has_rates], rates[has_rates]; xlabel=\"Dates\", ylabel=\"PLN/USD\", legend=false, marker=:x,\n",
    "            xticks=dates[has_rates], xrot=90, bottommargin=5Plots.mm, topmargin=10Plots.mm)"
   ]
  },
  {
   "cell_type": "markdown",
   "id": "e9a3f884",
   "metadata": {},
   "source": [
    "Yeah this seems to be saying 5mm(!)"
   ]
  },
  {
   "cell_type": "code",
   "execution_count": 92,
   "id": "5f87a18e",
   "metadata": {},
   "outputs": [
    {
     "data": {
      "text/plain": [
       "5.0mm"
      ]
     },
     "execution_count": 92,
     "metadata": {},
     "output_type": "execute_result"
    }
   ],
   "source": [
    "5Plots.mm"
   ]
  },
  {
   "cell_type": "code",
   "execution_count": 97,
   "id": "e7f1444e",
   "metadata": {},
   "outputs": [
    {
     "data": {
      "text/plain": [
       "h (generic function with 1 method)"
      ]
     },
     "execution_count": 97,
     "metadata": {},
     "output_type": "execute_result"
    }
   ],
   "source": [
    "h(x) = 4x + 5x^2"
   ]
  },
  {
   "cell_type": "code",
   "execution_count": 98,
   "id": "8a1e204a",
   "metadata": {},
   "outputs": [
    {
     "data": {
      "text/plain": [
       "28"
      ]
     },
     "execution_count": 98,
     "metadata": {},
     "output_type": "execute_result"
    }
   ],
   "source": [
    "h(2)"
   ]
  },
  {
   "cell_type": "markdown",
   "id": "1b1ecb9b",
   "metadata": {},
   "source": [
    "## EXERCISE 7.3 \n",
    "\n",
    "The NBP Web API allows you to get a sequence of rates for a period of dates. For example, the query \"https://api.nbp.pl/api/exchangerates/rates/a/usd/2020-06-01/2020-06-30/?format=json\" returns a sequence of rates from June 2020 for dates when the rate is present; in other words, dates for which there is no rate are skipped. Your task is to parse the result of this query and confirm that the obtained result is consistent with the data we collected in the dates and rates vectors."
   ]
  },
  {
   "cell_type": "code",
   "execution_count": 100,
   "id": "7f3ba7e6",
   "metadata": {},
   "outputs": [
    {
     "data": {
      "text/plain": [
       "\"https://api.nbp.pl/api/exchangerates/rates/a/usd/2022-10-01/2022-10-31/?format=json\""
      ]
     },
     "execution_count": 100,
     "metadata": {},
     "output_type": "execute_result"
    }
   ],
   "source": [
    "startdate = Date(\"2022-10-01\")\n",
    "enddate = Date(\"2022-10-31\")\n",
    "\n",
    "query = \"https://api.nbp.pl/api/exchangerates/rates/a/usd/$startdate/$enddate/?format=json\"\n",
    "query"
   ]
  },
  {
   "cell_type": "code",
   "execution_count": 101,
   "id": "f36e5a90",
   "metadata": {},
   "outputs": [
    {
     "data": {
      "text/plain": [
       "HTTP.Messages.Response:\n",
       "\"\"\"\n",
       "HTTP/1.1 200 OK\r\n",
       "Date: Mon, 13 Mar 2023 18:47:51 GMT\r\n",
       "Cache-Control: no-cache\r\n",
       "Pragma: no-cache\r\n",
       "Content-Length: 348\r\n",
       "Content-Type: application/json; charset=utf-8\r\n",
       "Content-Encoding: gzip\r\n",
       "Expires: -1\r\n",
       "ETag: \"dMbEOi0YvPEpbq/ENwAkYOBJJQnyRmX8likqoPde+3Q=\"\r\n",
       "\r\n",
       "{\"table\":\"A\",\"currency\":\"dolar amerykański\",\"code\":\"USD\",\"rates\":[{\"no\":\"191/A/NBP/2022\",\"effectiveDate\":\"2022-10-03\",\"mid\":4.9207},{\"no\":\"192/A/NBP/2022\",\"effectiveDate\":\"2022-10-04\",\"mid\":4.8615},{\"no\":\"193/A/NBP/2022\",\"effectiveDate\":\"2022-10-05\",\"mid\":4.8380},{\"no\":\"194/A/NBP/2022\",\"effectiveDate\":\"2022-10-06\",\"mid\":4.8989},{\"no\":\"195/A/NBP/2022\",\"effectiveDate\":\"2022-10-07\",\"mid\":4.9588},{\"no\":\"196/A/NBP/2022\",\"effectiveDate\":\"2022-10-10\",\"mid\":5.0239},{\"no\":\"197/A/NBP/2022\",\"effectiveDate\":\"2022-10-11\",\"mid\":5.0171},{\"no\":\"198/A/NBP/2022\",\"effectiveDate\":\"2022-10-12\",\"mid\":5.0014},{\"no\":\"199/A/NBP/2022\",\"effectiveDate\":\"2022-10-13\",\"mid\":4.9905},{\"no\":\"200/A/NBP/2022\",\"effectiveDate\":\"2022-10-14\",\"mid\":4.9569},{\"no\":\"201/A/NBP/2022\",\"effectiveDate\":\"2022-10-17\",\"mid\":4.9522},{\"no\":\"202/A/NBP/2022\",\"effectiveDate\":\"2022-10-18\",\"mid\":4.8929},{\"no\":\"203/A/NBP/2022\",\"effectiveDate\":\"2022-10-19\",\"mid\":4.8892},{\"no\":\"204/A/NBP/2022\",\"effectiveDate\":\"2022-10-20\",\"mid\":4.9024},{\"no\":\"20\n",
       "⋮\n",
       "1454-byte body\n",
       "\"\"\""
      ]
     },
     "execution_count": 101,
     "metadata": {},
     "output_type": "execute_result"
    }
   ],
   "source": [
    "response = HTTP.get(query)"
   ]
  },
  {
   "cell_type": "code",
   "execution_count": 103,
   "id": "3ef5fd5f",
   "metadata": {},
   "outputs": [
    {
     "data": {
      "text/plain": [
       "JSON3.Object{Vector{UInt8}, Vector{UInt64}} with 4 entries:\n",
       "  :table    => \"A\"\n",
       "  :currency => \"dolar amerykański\"\n",
       "  :code     => \"USD\"\n",
       "  :rates    => JSON3.Object[{…"
      ]
     },
     "execution_count": 103,
     "metadata": {},
     "output_type": "execute_result"
    }
   ],
   "source": [
    "data = JSON3.read(response.body)"
   ]
  },
  {
   "cell_type": "code",
   "execution_count": 104,
   "id": "c3e3f210",
   "metadata": {},
   "outputs": [
    {
     "data": {
      "text/plain": [
       "21-element JSON3.Array{JSON3.Object, Vector{UInt8}, SubArray{UInt64, 1, Vector{UInt64}, Tuple{UnitRange{Int64}}, true}}:\n",
       " {\n",
       "              \"no\": \"191/A/NBP/2022\",\n",
       "   \"effectiveDate\": \"2022-10-03\",\n",
       "             \"mid\": 4.9207\n",
       "}\n",
       " {\n",
       "              \"no\": \"192/A/NBP/2022\",\n",
       "   \"effectiveDate\": \"2022-10-04\",\n",
       "             \"mid\": 4.8615\n",
       "}\n",
       " {\n",
       "              \"no\": \"193/A/NBP/2022\",\n",
       "   \"effectiveDate\": \"2022-10-05\",\n",
       "             \"mid\": 4.838\n",
       "}\n",
       " {\n",
       "              \"no\": \"194/A/NBP/2022\",\n",
       "   \"effectiveDate\": \"2022-10-06\",\n",
       "             \"mid\": 4.8989\n",
       "}\n",
       " {\n",
       "              \"no\": \"195/A/NBP/2022\",\n",
       "   \"effectiveDate\": \"2022-10-07\",\n",
       "             \"mid\": 4.9588\n",
       "}\n",
       " {\n",
       "              \"no\": \"196/A/NBP/2022\",\n",
       "   \"effectiveDate\": \"2022-10-10\",\n",
       "             \"mid\": 5.0239\n",
       "}\n",
       " {\n",
       "              \"no\": \"197/A/NBP/2022\",\n",
       "   \"effectiveDate\": \"2022-10-11\",\n",
       "             \"mid\": 5.0171\n",
       "}\n",
       " {\n",
       "              \"no\": \"198/A/NBP/2022\",\n",
       "   \"effectiveDate\": \"2022-10-12\",\n",
       "             \"mid\": 5.0014\n",
       "}\n",
       " {\n",
       "              \"no\": \"199/A/NBP/2022\",\n",
       "   \"effectiveDate\": \"2022-10-13\",\n",
       "             \"mid\": 4.9905\n",
       "}\n",
       " {\n",
       "              \"no\": \"200/A/NBP/2022\",\n",
       "   \"effectiveDate\": \"2022-10-14\",\n",
       "             \"mid\": 4.9569\n",
       "}\n",
       " {\n",
       "              \"no\": \"201/A/NBP/2022\",\n",
       "   \"effectiveDate\": \"2022-10-17\",\n",
       "             \"mid\": 4.9522\n",
       "}\n",
       " {\n",
       "              \"no\": \"202/A/NBP/2022\",\n",
       "   \"effectiveDate\": \"2022-10-18\",\n",
       "             \"mid\": 4.8929\n",
       "}\n",
       " {\n",
       "              \"no\": \"203/A/NBP/2022\",\n",
       "   \"effectiveDate\": \"2022-10-19\",\n",
       "             \"mid\": 4.8892\n",
       "}\n",
       " {\n",
       "              \"no\": \"204/A/NBP/2022\",\n",
       "   \"effectiveDate\": \"2022-10-20\",\n",
       "             \"mid\": 4.9024\n",
       "}\n",
       " {\n",
       "              \"no\": \"205/A/NBP/2022\",\n",
       "   \"effectiveDate\": \"2022-10-21\",\n",
       "             \"mid\": 4.9\n",
       "}\n",
       " {\n",
       "              \"no\": \"206/A/NBP/2022\",\n",
       "   \"effectiveDate\": \"2022-10-24\",\n",
       "             \"mid\": 4.8669\n",
       "}\n",
       " {\n",
       "              \"no\": \"207/A/NBP/2022\",\n",
       "   \"effectiveDate\": \"2022-10-25\",\n",
       "             \"mid\": 4.8499\n",
       "}\n",
       " {\n",
       "              \"no\": \"208/A/NBP/2022\",\n",
       "   \"effectiveDate\": \"2022-10-26\",\n",
       "             \"mid\": 4.7538\n",
       "}\n",
       " {\n",
       "              \"no\": \"209/A/NBP/2022\",\n",
       "   \"effectiveDate\": \"2022-10-27\",\n",
       "             \"mid\": 4.7216\n",
       "}\n",
       " {\n",
       "              \"no\": \"210/A/NBP/2022\",\n",
       "   \"effectiveDate\": \"2022-10-28\",\n",
       "             \"mid\": 4.7477\n",
       "}\n",
       " {\n",
       "              \"no\": \"211/A/NBP/2022\",\n",
       "   \"effectiveDate\": \"2022-10-31\",\n",
       "             \"mid\": 4.734\n",
       "}"
      ]
     },
     "execution_count": 104,
     "metadata": {},
     "output_type": "execute_result"
    }
   ],
   "source": [
    "data.rates"
   ]
  },
  {
   "cell_type": "code",
   "execution_count": 109,
   "id": "f349d206",
   "metadata": {},
   "outputs": [
    {
     "data": {
      "text/plain": [
       "get_rate (generic function with 2 methods)"
      ]
     },
     "execution_count": 109,
     "metadata": {},
     "output_type": "execute_result"
    }
   ],
   "source": [
    "function get_rate(startdate::Date, enddate::Date)\n",
    "    query = \"https://api.nbp.pl/api/exchangerates/rates/a/usd/$startdate/$enddate/?format=json\"\n",
    "    response = HTTP.get(query)\n",
    "    json = JSON3.read(response.body)\n",
    "    \n",
    "    map(json.rates) do item \n",
    "       (date=Date(item.effectiveDate), rate=item.mid) \n",
    "    end\n",
    "end"
   ]
  },
  {
   "cell_type": "code",
   "execution_count": 110,
   "id": "601beb1d",
   "metadata": {},
   "outputs": [
    {
     "data": {
      "text/plain": [
       "21-element Vector{NamedTuple{(:date, :rate), Tuple{Date, Float64}}}:\n",
       " (date = Date(\"2022-10-03\"), rate = 4.9207)\n",
       " (date = Date(\"2022-10-04\"), rate = 4.8615)\n",
       " (date = Date(\"2022-10-05\"), rate = 4.838)\n",
       " (date = Date(\"2022-10-06\"), rate = 4.8989)\n",
       " (date = Date(\"2022-10-07\"), rate = 4.9588)\n",
       " (date = Date(\"2022-10-10\"), rate = 5.0239)\n",
       " (date = Date(\"2022-10-11\"), rate = 5.0171)\n",
       " (date = Date(\"2022-10-12\"), rate = 5.0014)\n",
       " (date = Date(\"2022-10-13\"), rate = 4.9905)\n",
       " (date = Date(\"2022-10-14\"), rate = 4.9569)\n",
       " (date = Date(\"2022-10-17\"), rate = 4.9522)\n",
       " (date = Date(\"2022-10-18\"), rate = 4.8929)\n",
       " (date = Date(\"2022-10-19\"), rate = 4.8892)\n",
       " (date = Date(\"2022-10-20\"), rate = 4.9024)\n",
       " (date = Date(\"2022-10-21\"), rate = 4.9)\n",
       " (date = Date(\"2022-10-24\"), rate = 4.8669)\n",
       " (date = Date(\"2022-10-25\"), rate = 4.8499)\n",
       " (date = Date(\"2022-10-26\"), rate = 4.7538)\n",
       " (date = Date(\"2022-10-27\"), rate = 4.7216)\n",
       " (date = Date(\"2022-10-28\"), rate = 4.7477)\n",
       " (date = Date(\"2022-10-31\"), rate = 4.734)"
      ]
     },
     "execution_count": 110,
     "metadata": {},
     "output_type": "execute_result"
    }
   ],
   "source": [
    "get_rate(startdate, enddate)"
   ]
  },
  {
   "cell_type": "code",
   "execution_count": 115,
   "id": "2a0d9690",
   "metadata": {},
   "outputs": [
    {
     "data": {
      "text/plain": [
       "true"
      ]
     },
     "execution_count": 115,
     "metadata": {},
     "output_type": "execute_result"
    }
   ],
   "source": [
    "ismissing(missing)"
   ]
  },
  {
   "cell_type": "code",
   "execution_count": 117,
   "id": "25b76505",
   "metadata": {},
   "outputs": [
    {
     "data": {
      "text/plain": [
       "false"
      ]
     },
     "execution_count": 117,
     "metadata": {},
     "output_type": "execute_result"
    }
   ],
   "source": [
    "haskey(d, \"b\")"
   ]
  },
  {
   "cell_type": "code",
   "execution_count": 114,
   "id": "85dfbf6c",
   "metadata": {},
   "outputs": [
    {
     "ename": "LoadError",
     "evalue": "KeyError: key \"b\" not found",
     "output_type": "error",
     "traceback": [
      "KeyError: key \"b\" not found",
      "",
      "Stacktrace:",
      " [1] getindex(h::Dict{String, Int64}, key::String)",
      "   @ Base ./dict.jl:498",
      " [2] top-level scope",
      "   @ In[114]:2"
     ]
    }
   ],
   "source": [
    "d = Dict(\"a\" => 1)\n",
    "d[\"b\"]"
   ]
  },
  {
   "cell_type": "code",
   "execution_count": null,
   "id": "aa1b64af",
   "metadata": {},
   "outputs": [],
   "source": []
  },
  {
   "cell_type": "code",
   "execution_count": 118,
   "id": "b1930152",
   "metadata": {},
   "outputs": [
    {
     "data": {
      "text/plain": [
       "get_rate2 (generic function with 1 method)"
      ]
     },
     "execution_count": 118,
     "metadata": {},
     "output_type": "execute_result"
    }
   ],
   "source": [
    "function get_rate2(startdate::Date, enddate::Date)\n",
    "    query = \"https://api.nbp.pl/api/exchangerates/rates/a/usd/$startdate/$enddate/?format=json\"\n",
    "    response = HTTP.get(query)\n",
    "    json = JSON3.read(response.body)\n",
    "    \n",
    "    \n",
    "    dates = startdate:Day(1):enddate\n",
    "    \n",
    "    data = Dict{Date, Float64}()\n",
    "    \n",
    "    foreach(json.rates) do item \n",
    "        data[Date(item.effectiveDate)] = item.mid\n",
    "    end\n",
    "    \n",
    "    map(dates) do d \n",
    "       if haskey(data, d)\n",
    "            (date=d, rate=data[d])\n",
    "        else\n",
    "            (date=d, rate=missing)\n",
    "        end\n",
    "    end\n",
    "end"
   ]
  },
  {
   "cell_type": "code",
   "execution_count": 119,
   "id": "9376514b",
   "metadata": {},
   "outputs": [
    {
     "data": {
      "text/plain": [
       "31-element Vector{NamedTuple{(:date, :rate)}}:\n",
       " (date = Date(\"2022-10-01\"), rate = missing)\n",
       " (date = Date(\"2022-10-02\"), rate = missing)\n",
       " (date = Date(\"2022-10-03\"), rate = 4.9207)\n",
       " (date = Date(\"2022-10-04\"), rate = 4.8615)\n",
       " (date = Date(\"2022-10-05\"), rate = 4.838)\n",
       " (date = Date(\"2022-10-06\"), rate = 4.8989)\n",
       " (date = Date(\"2022-10-07\"), rate = 4.9588)\n",
       " (date = Date(\"2022-10-08\"), rate = missing)\n",
       " (date = Date(\"2022-10-09\"), rate = missing)\n",
       " (date = Date(\"2022-10-10\"), rate = 5.0239)\n",
       " (date = Date(\"2022-10-11\"), rate = 5.0171)\n",
       " (date = Date(\"2022-10-12\"), rate = 5.0014)\n",
       " (date = Date(\"2022-10-13\"), rate = 4.9905)\n",
       " ⋮\n",
       " (date = Date(\"2022-10-20\"), rate = 4.9024)\n",
       " (date = Date(\"2022-10-21\"), rate = 4.9)\n",
       " (date = Date(\"2022-10-22\"), rate = missing)\n",
       " (date = Date(\"2022-10-23\"), rate = missing)\n",
       " (date = Date(\"2022-10-24\"), rate = 4.8669)\n",
       " (date = Date(\"2022-10-25\"), rate = 4.8499)\n",
       " (date = Date(\"2022-10-26\"), rate = 4.7538)\n",
       " (date = Date(\"2022-10-27\"), rate = 4.7216)\n",
       " (date = Date(\"2022-10-28\"), rate = 4.7477)\n",
       " (date = Date(\"2022-10-29\"), rate = missing)\n",
       " (date = Date(\"2022-10-30\"), rate = missing)\n",
       " (date = Date(\"2022-10-31\"), rate = 4.734)"
      ]
     },
     "execution_count": 119,
     "metadata": {},
     "output_type": "execute_result"
    }
   ],
   "source": [
    "get_rate2(startdate, enddate)"
   ]
  },
  {
   "cell_type": "markdown",
   "id": "eaf5f2d2",
   "metadata": {},
   "source": [
    "# Coming in Part 2\n",
    "\n",
    "* Chapter 8 teaches you how to create a data frame from a CSV file and basic operations. How to process data in the Apache Arrow and SQLite databases, work with compressed files\n",
    "* Chapter 9 teaches you how to select rows and columns from a data frame. You will also learn how to build and visualize locally estimated scatterplot smoothing (LOESS) regression models.\n",
    "* Chapter 10 covers various ways of creating new data frames. It discusses the Tables.jl interface, an implementation-independent abstraction of a table concept.\n",
    "* Chapter 11 teaches you how to convert data frames into objects of other types, like grouped data frame. General concepts of type-stable code and type piracy.\n",
    "* Chapter 12 focuses on transformation and mutation of data frame objects—in particular, using the split-apply-combine strategy. Graphs.jl package to work with graph data.\n",
    "* Chapter 13 advanced data frame transformation things in DataFrames.jl package, chain multiple operations in data processing pipelines. Categorical data and classification models in Julia.\n",
    "* Chapter 14 shows how to build a web service in Julia. And how to implement Monte Carlo simulations leveraging Julia’s multithreading capabilities."
   ]
  },
  {
   "cell_type": "code",
   "execution_count": null,
   "id": "7332f21c",
   "metadata": {},
   "outputs": [],
   "source": []
  },
  {
   "cell_type": "code",
   "execution_count": null,
   "id": "a52ce690",
   "metadata": {},
   "outputs": [],
   "source": []
  },
  {
   "cell_type": "code",
   "execution_count": null,
   "id": "47758e38",
   "metadata": {},
   "outputs": [],
   "source": []
  },
  {
   "cell_type": "code",
   "execution_count": null,
   "id": "5a75c031",
   "metadata": {},
   "outputs": [],
   "source": []
  },
  {
   "cell_type": "code",
   "execution_count": null,
   "id": "0b76582c",
   "metadata": {},
   "outputs": [],
   "source": []
  }
 ],
 "metadata": {
  "kernelspec": {
   "display_name": "Julia 1.8.5",
   "language": "julia",
   "name": "julia-1.8"
  },
  "language_info": {
   "file_extension": ".jl",
   "mimetype": "application/julia",
   "name": "julia",
   "version": "1.8.5"
  }
 },
 "nbformat": 4,
 "nbformat_minor": 5
}
